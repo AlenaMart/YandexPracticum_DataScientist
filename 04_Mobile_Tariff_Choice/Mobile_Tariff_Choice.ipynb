{
 "cells": [
  {
   "cell_type": "markdown",
   "metadata": {},
   "source": [
    "# Определение перспективного тарифа для телеком-компании"
   ]
  },
  {
   "cell_type": "markdown",
   "metadata": {},
   "source": [
    "Компания «Мегалайн» — федеральный оператор сотовой связи. Клиентам предлагают два тарифных плана: «Смарт» и «Ультра». Чтобы скорректировать рекламный бюджет, коммерческий департамент хочет понять, какой тариф приносит больше денег.\n",
    "\n",
    "Необходимо сделать предварительный анализ тарифов на небольшой выборке клиентов. Компания предоставила данные 500 пользователей «Мегалайна»: кто они, откуда, каким тарифом пользуются, сколько звонков и сообщений каждый отправил за 2018 год. Нужно проанализировать поведение клиентов и сделать вывод — какой тариф лучше."
   ]
  },
  {
   "cell_type": "markdown",
   "metadata": {},
   "source": [
    "Описание тарифов\n",
    "\n",
    "Тариф «Смарт»\n",
    "\n",
    "Ежемесячная плата: 550 рублей\n",
    "Включено 500 минут разговора, 50 сообщений и 15 Гб интернет-трафика\n",
    "\n",
    "Стоимость услуг сверх тарифного пакета: \n",
    "1. минута разговора: 3 рубля («Мегалайн» всегда округляет вверх значения минут и мегабайтов. Если пользователь проговорил всего 1 секунду, в тарифе засчитывается целая минута); \n",
    "2. сообщение: 3 рубля; \n",
    "3. 1 Гб интернет-трафика: 200 рублей.\n",
    "\n",
    "Тариф «Ультра»\n",
    "\n",
    "Ежемесячная плата: 1950 рублей\n",
    "Включено 3000 минут разговора, 1000 сообщений и 30 Гб интернет-трафика\n",
    "\n",
    "Стоимость услуг сверх тарифного пакета: \n",
    "1. минута разговора: 1 рубль; \n",
    "2. сообщение: 1 рубль; \n",
    "3. 1 Гб интернет-трафика: 150 рублей.\n",
    "\n",
    "Примечание:\n",
    "«Мегалайн» всегда округляет секунды до минут, а мегабайты — до гигабайт. Каждый звонок округляется отдельно: даже если он длился всего 1 секунду, будет засчитан как 1 минута.\n",
    "Для веб-трафика отдельные сессии не считаются. Вместо этого общая сумма за месяц округляется в бо́льшую сторону. Если абонент использует 1025 мегабайт в этом месяце, с него возьмут плату за 2 гигабайта."
   ]
  },
  {
   "cell_type": "code",
   "execution_count": 1,
   "metadata": {},
   "outputs": [],
   "source": [
    "import pandas as pd\n",
    "from scipy import stats as st\n",
    "import numpy as np\n",
    "import matplotlib.pyplot as plt\n",
    "import seaborn as sns"
   ]
  },
  {
   "cell_type": "code",
   "execution_count": 2,
   "metadata": {},
   "outputs": [],
   "source": [
    "pd.set_option('display.max_columns', None)\n",
    "pd.set_option('display.max_rows', None)"
   ]
  },
  {
   "cell_type": "code",
   "execution_count": 3,
   "metadata": {},
   "outputs": [],
   "source": [
    "# зададим необходимые константы - количество мегабайт в гигабайте\n",
    "MB_IN_GB = 1024"
   ]
  },
  {
   "cell_type": "markdown",
   "metadata": {},
   "source": [
    "## Изучение данных из файла"
   ]
  },
  {
   "cell_type": "markdown",
   "metadata": {},
   "source": [
    "Откроем файлы с данными и изучим общую информацию."
   ]
  },
  {
   "cell_type": "markdown",
   "metadata": {},
   "source": [
    "### Звонки"
   ]
  },
  {
   "cell_type": "code",
   "execution_count": 4,
   "metadata": {},
   "outputs": [],
   "source": [
    "calls = pd.read_csv('/datasets/calls.csv')"
   ]
  },
  {
   "cell_type": "code",
   "execution_count": 5,
   "metadata": {
    "scrolled": false
   },
   "outputs": [
    {
     "data": {
      "text/html": [
       "<div>\n",
       "<style scoped>\n",
       "    .dataframe tbody tr th:only-of-type {\n",
       "        vertical-align: middle;\n",
       "    }\n",
       "\n",
       "    .dataframe tbody tr th {\n",
       "        vertical-align: top;\n",
       "    }\n",
       "\n",
       "    .dataframe thead th {\n",
       "        text-align: right;\n",
       "    }\n",
       "</style>\n",
       "<table border=\"1\" class=\"dataframe\">\n",
       "  <thead>\n",
       "    <tr style=\"text-align: right;\">\n",
       "      <th></th>\n",
       "      <th>id</th>\n",
       "      <th>call_date</th>\n",
       "      <th>duration</th>\n",
       "      <th>user_id</th>\n",
       "    </tr>\n",
       "  </thead>\n",
       "  <tbody>\n",
       "    <tr>\n",
       "      <td>0</td>\n",
       "      <td>1000_0</td>\n",
       "      <td>2018-07-25</td>\n",
       "      <td>0.00</td>\n",
       "      <td>1000</td>\n",
       "    </tr>\n",
       "    <tr>\n",
       "      <td>1</td>\n",
       "      <td>1000_1</td>\n",
       "      <td>2018-08-17</td>\n",
       "      <td>0.00</td>\n",
       "      <td>1000</td>\n",
       "    </tr>\n",
       "    <tr>\n",
       "      <td>2</td>\n",
       "      <td>1000_2</td>\n",
       "      <td>2018-06-11</td>\n",
       "      <td>2.85</td>\n",
       "      <td>1000</td>\n",
       "    </tr>\n",
       "    <tr>\n",
       "      <td>3</td>\n",
       "      <td>1000_3</td>\n",
       "      <td>2018-09-21</td>\n",
       "      <td>13.80</td>\n",
       "      <td>1000</td>\n",
       "    </tr>\n",
       "    <tr>\n",
       "      <td>4</td>\n",
       "      <td>1000_4</td>\n",
       "      <td>2018-12-15</td>\n",
       "      <td>5.18</td>\n",
       "      <td>1000</td>\n",
       "    </tr>\n",
       "  </tbody>\n",
       "</table>\n",
       "</div>"
      ],
      "text/plain": [
       "       id   call_date  duration  user_id\n",
       "0  1000_0  2018-07-25      0.00     1000\n",
       "1  1000_1  2018-08-17      0.00     1000\n",
       "2  1000_2  2018-06-11      2.85     1000\n",
       "3  1000_3  2018-09-21     13.80     1000\n",
       "4  1000_4  2018-12-15      5.18     1000"
      ]
     },
     "execution_count": 5,
     "metadata": {},
     "output_type": "execute_result"
    }
   ],
   "source": [
    "calls.head()"
   ]
  },
  {
   "cell_type": "code",
   "execution_count": 6,
   "metadata": {},
   "outputs": [
    {
     "name": "stdout",
     "output_type": "stream",
     "text": [
      "<class 'pandas.core.frame.DataFrame'>\n",
      "RangeIndex: 202607 entries, 0 to 202606\n",
      "Data columns (total 4 columns):\n",
      "id           202607 non-null object\n",
      "call_date    202607 non-null object\n",
      "duration     202607 non-null float64\n",
      "user_id      202607 non-null int64\n",
      "dtypes: float64(1), int64(1), object(2)\n",
      "memory usage: 6.2+ MB\n"
     ]
    }
   ],
   "source": [
    "calls.info()"
   ]
  },
  {
   "cell_type": "markdown",
   "metadata": {},
   "source": [
    "### Интернет"
   ]
  },
  {
   "cell_type": "code",
   "execution_count": 7,
   "metadata": {},
   "outputs": [],
   "source": [
    "internet = pd.read_csv('/datasets/internet.csv')"
   ]
  },
  {
   "cell_type": "code",
   "execution_count": 8,
   "metadata": {
    "scrolled": false
   },
   "outputs": [
    {
     "data": {
      "text/html": [
       "<div>\n",
       "<style scoped>\n",
       "    .dataframe tbody tr th:only-of-type {\n",
       "        vertical-align: middle;\n",
       "    }\n",
       "\n",
       "    .dataframe tbody tr th {\n",
       "        vertical-align: top;\n",
       "    }\n",
       "\n",
       "    .dataframe thead th {\n",
       "        text-align: right;\n",
       "    }\n",
       "</style>\n",
       "<table border=\"1\" class=\"dataframe\">\n",
       "  <thead>\n",
       "    <tr style=\"text-align: right;\">\n",
       "      <th></th>\n",
       "      <th>Unnamed: 0</th>\n",
       "      <th>id</th>\n",
       "      <th>mb_used</th>\n",
       "      <th>session_date</th>\n",
       "      <th>user_id</th>\n",
       "    </tr>\n",
       "  </thead>\n",
       "  <tbody>\n",
       "    <tr>\n",
       "      <td>0</td>\n",
       "      <td>0</td>\n",
       "      <td>1000_0</td>\n",
       "      <td>112.95</td>\n",
       "      <td>2018-11-25</td>\n",
       "      <td>1000</td>\n",
       "    </tr>\n",
       "    <tr>\n",
       "      <td>1</td>\n",
       "      <td>1</td>\n",
       "      <td>1000_1</td>\n",
       "      <td>1052.81</td>\n",
       "      <td>2018-09-07</td>\n",
       "      <td>1000</td>\n",
       "    </tr>\n",
       "    <tr>\n",
       "      <td>2</td>\n",
       "      <td>2</td>\n",
       "      <td>1000_2</td>\n",
       "      <td>1197.26</td>\n",
       "      <td>2018-06-25</td>\n",
       "      <td>1000</td>\n",
       "    </tr>\n",
       "    <tr>\n",
       "      <td>3</td>\n",
       "      <td>3</td>\n",
       "      <td>1000_3</td>\n",
       "      <td>550.27</td>\n",
       "      <td>2018-08-22</td>\n",
       "      <td>1000</td>\n",
       "    </tr>\n",
       "    <tr>\n",
       "      <td>4</td>\n",
       "      <td>4</td>\n",
       "      <td>1000_4</td>\n",
       "      <td>302.56</td>\n",
       "      <td>2018-09-24</td>\n",
       "      <td>1000</td>\n",
       "    </tr>\n",
       "  </tbody>\n",
       "</table>\n",
       "</div>"
      ],
      "text/plain": [
       "   Unnamed: 0      id  mb_used session_date  user_id\n",
       "0           0  1000_0   112.95   2018-11-25     1000\n",
       "1           1  1000_1  1052.81   2018-09-07     1000\n",
       "2           2  1000_2  1197.26   2018-06-25     1000\n",
       "3           3  1000_3   550.27   2018-08-22     1000\n",
       "4           4  1000_4   302.56   2018-09-24     1000"
      ]
     },
     "execution_count": 8,
     "metadata": {},
     "output_type": "execute_result"
    }
   ],
   "source": [
    "internet.head()"
   ]
  },
  {
   "cell_type": "markdown",
   "metadata": {},
   "source": [
    "Появился лишний столбец, дублирующий номера строк. Попробуем прочитать датаст по-другому."
   ]
  },
  {
   "cell_type": "code",
   "execution_count": 9,
   "metadata": {},
   "outputs": [],
   "source": [
    "internet = pd.read_csv('/datasets/internet.csv',  index_col=0)"
   ]
  },
  {
   "cell_type": "code",
   "execution_count": 10,
   "metadata": {
    "scrolled": true
   },
   "outputs": [
    {
     "data": {
      "text/html": [
       "<div>\n",
       "<style scoped>\n",
       "    .dataframe tbody tr th:only-of-type {\n",
       "        vertical-align: middle;\n",
       "    }\n",
       "\n",
       "    .dataframe tbody tr th {\n",
       "        vertical-align: top;\n",
       "    }\n",
       "\n",
       "    .dataframe thead th {\n",
       "        text-align: right;\n",
       "    }\n",
       "</style>\n",
       "<table border=\"1\" class=\"dataframe\">\n",
       "  <thead>\n",
       "    <tr style=\"text-align: right;\">\n",
       "      <th></th>\n",
       "      <th>id</th>\n",
       "      <th>mb_used</th>\n",
       "      <th>session_date</th>\n",
       "      <th>user_id</th>\n",
       "    </tr>\n",
       "  </thead>\n",
       "  <tbody>\n",
       "    <tr>\n",
       "      <td>0</td>\n",
       "      <td>1000_0</td>\n",
       "      <td>112.95</td>\n",
       "      <td>2018-11-25</td>\n",
       "      <td>1000</td>\n",
       "    </tr>\n",
       "    <tr>\n",
       "      <td>1</td>\n",
       "      <td>1000_1</td>\n",
       "      <td>1052.81</td>\n",
       "      <td>2018-09-07</td>\n",
       "      <td>1000</td>\n",
       "    </tr>\n",
       "    <tr>\n",
       "      <td>2</td>\n",
       "      <td>1000_2</td>\n",
       "      <td>1197.26</td>\n",
       "      <td>2018-06-25</td>\n",
       "      <td>1000</td>\n",
       "    </tr>\n",
       "    <tr>\n",
       "      <td>3</td>\n",
       "      <td>1000_3</td>\n",
       "      <td>550.27</td>\n",
       "      <td>2018-08-22</td>\n",
       "      <td>1000</td>\n",
       "    </tr>\n",
       "    <tr>\n",
       "      <td>4</td>\n",
       "      <td>1000_4</td>\n",
       "      <td>302.56</td>\n",
       "      <td>2018-09-24</td>\n",
       "      <td>1000</td>\n",
       "    </tr>\n",
       "  </tbody>\n",
       "</table>\n",
       "</div>"
      ],
      "text/plain": [
       "       id  mb_used session_date  user_id\n",
       "0  1000_0   112.95   2018-11-25     1000\n",
       "1  1000_1  1052.81   2018-09-07     1000\n",
       "2  1000_2  1197.26   2018-06-25     1000\n",
       "3  1000_3   550.27   2018-08-22     1000\n",
       "4  1000_4   302.56   2018-09-24     1000"
      ]
     },
     "execution_count": 10,
     "metadata": {},
     "output_type": "execute_result"
    }
   ],
   "source": [
    "internet.head()"
   ]
  },
  {
   "cell_type": "markdown",
   "metadata": {},
   "source": [
    "Теперь датсет прочитан правильно."
   ]
  },
  {
   "cell_type": "code",
   "execution_count": 11,
   "metadata": {
    "scrolled": true
   },
   "outputs": [
    {
     "name": "stdout",
     "output_type": "stream",
     "text": [
      "<class 'pandas.core.frame.DataFrame'>\n",
      "Int64Index: 149396 entries, 0 to 149395\n",
      "Data columns (total 4 columns):\n",
      "id              149396 non-null object\n",
      "mb_used         149396 non-null float64\n",
      "session_date    149396 non-null object\n",
      "user_id         149396 non-null int64\n",
      "dtypes: float64(1), int64(1), object(2)\n",
      "memory usage: 5.7+ MB\n"
     ]
    }
   ],
   "source": [
    "internet.info()"
   ]
  },
  {
   "cell_type": "markdown",
   "metadata": {},
   "source": [
    "### Сообщения"
   ]
  },
  {
   "cell_type": "code",
   "execution_count": 12,
   "metadata": {},
   "outputs": [],
   "source": [
    "messages = pd.read_csv('/datasets/messages.csv')"
   ]
  },
  {
   "cell_type": "code",
   "execution_count": 13,
   "metadata": {},
   "outputs": [
    {
     "data": {
      "text/html": [
       "<div>\n",
       "<style scoped>\n",
       "    .dataframe tbody tr th:only-of-type {\n",
       "        vertical-align: middle;\n",
       "    }\n",
       "\n",
       "    .dataframe tbody tr th {\n",
       "        vertical-align: top;\n",
       "    }\n",
       "\n",
       "    .dataframe thead th {\n",
       "        text-align: right;\n",
       "    }\n",
       "</style>\n",
       "<table border=\"1\" class=\"dataframe\">\n",
       "  <thead>\n",
       "    <tr style=\"text-align: right;\">\n",
       "      <th></th>\n",
       "      <th>id</th>\n",
       "      <th>message_date</th>\n",
       "      <th>user_id</th>\n",
       "    </tr>\n",
       "  </thead>\n",
       "  <tbody>\n",
       "    <tr>\n",
       "      <td>0</td>\n",
       "      <td>1000_0</td>\n",
       "      <td>2018-06-27</td>\n",
       "      <td>1000</td>\n",
       "    </tr>\n",
       "    <tr>\n",
       "      <td>1</td>\n",
       "      <td>1000_1</td>\n",
       "      <td>2018-10-08</td>\n",
       "      <td>1000</td>\n",
       "    </tr>\n",
       "    <tr>\n",
       "      <td>2</td>\n",
       "      <td>1000_2</td>\n",
       "      <td>2018-08-04</td>\n",
       "      <td>1000</td>\n",
       "    </tr>\n",
       "    <tr>\n",
       "      <td>3</td>\n",
       "      <td>1000_3</td>\n",
       "      <td>2018-06-16</td>\n",
       "      <td>1000</td>\n",
       "    </tr>\n",
       "    <tr>\n",
       "      <td>4</td>\n",
       "      <td>1000_4</td>\n",
       "      <td>2018-12-05</td>\n",
       "      <td>1000</td>\n",
       "    </tr>\n",
       "  </tbody>\n",
       "</table>\n",
       "</div>"
      ],
      "text/plain": [
       "       id message_date  user_id\n",
       "0  1000_0   2018-06-27     1000\n",
       "1  1000_1   2018-10-08     1000\n",
       "2  1000_2   2018-08-04     1000\n",
       "3  1000_3   2018-06-16     1000\n",
       "4  1000_4   2018-12-05     1000"
      ]
     },
     "execution_count": 13,
     "metadata": {},
     "output_type": "execute_result"
    }
   ],
   "source": [
    "messages.head()"
   ]
  },
  {
   "cell_type": "code",
   "execution_count": 14,
   "metadata": {},
   "outputs": [
    {
     "name": "stdout",
     "output_type": "stream",
     "text": [
      "<class 'pandas.core.frame.DataFrame'>\n",
      "RangeIndex: 123036 entries, 0 to 123035\n",
      "Data columns (total 3 columns):\n",
      "id              123036 non-null object\n",
      "message_date    123036 non-null object\n",
      "user_id         123036 non-null int64\n",
      "dtypes: int64(1), object(2)\n",
      "memory usage: 2.8+ MB\n"
     ]
    }
   ],
   "source": [
    "messages.info()"
   ]
  },
  {
   "cell_type": "markdown",
   "metadata": {},
   "source": [
    "### Тарифы"
   ]
  },
  {
   "cell_type": "code",
   "execution_count": 15,
   "metadata": {},
   "outputs": [],
   "source": [
    "tariffs = pd.read_csv('/datasets/tariffs.csv')"
   ]
  },
  {
   "cell_type": "code",
   "execution_count": 16,
   "metadata": {},
   "outputs": [
    {
     "data": {
      "text/html": [
       "<div>\n",
       "<style scoped>\n",
       "    .dataframe tbody tr th:only-of-type {\n",
       "        vertical-align: middle;\n",
       "    }\n",
       "\n",
       "    .dataframe tbody tr th {\n",
       "        vertical-align: top;\n",
       "    }\n",
       "\n",
       "    .dataframe thead th {\n",
       "        text-align: right;\n",
       "    }\n",
       "</style>\n",
       "<table border=\"1\" class=\"dataframe\">\n",
       "  <thead>\n",
       "    <tr style=\"text-align: right;\">\n",
       "      <th></th>\n",
       "      <th>messages_included</th>\n",
       "      <th>mb_per_month_included</th>\n",
       "      <th>minutes_included</th>\n",
       "      <th>rub_monthly_fee</th>\n",
       "      <th>rub_per_gb</th>\n",
       "      <th>rub_per_message</th>\n",
       "      <th>rub_per_minute</th>\n",
       "      <th>tariff_name</th>\n",
       "    </tr>\n",
       "  </thead>\n",
       "  <tbody>\n",
       "    <tr>\n",
       "      <td>0</td>\n",
       "      <td>50</td>\n",
       "      <td>15360</td>\n",
       "      <td>500</td>\n",
       "      <td>550</td>\n",
       "      <td>200</td>\n",
       "      <td>3</td>\n",
       "      <td>3</td>\n",
       "      <td>smart</td>\n",
       "    </tr>\n",
       "    <tr>\n",
       "      <td>1</td>\n",
       "      <td>1000</td>\n",
       "      <td>30720</td>\n",
       "      <td>3000</td>\n",
       "      <td>1950</td>\n",
       "      <td>150</td>\n",
       "      <td>1</td>\n",
       "      <td>1</td>\n",
       "      <td>ultra</td>\n",
       "    </tr>\n",
       "  </tbody>\n",
       "</table>\n",
       "</div>"
      ],
      "text/plain": [
       "   messages_included  mb_per_month_included  minutes_included  \\\n",
       "0                 50                  15360               500   \n",
       "1               1000                  30720              3000   \n",
       "\n",
       "   rub_monthly_fee  rub_per_gb  rub_per_message  rub_per_minute tariff_name  \n",
       "0              550         200                3               3       smart  \n",
       "1             1950         150                1               1       ultra  "
      ]
     },
     "execution_count": 16,
     "metadata": {},
     "output_type": "execute_result"
    }
   ],
   "source": [
    "tariffs.head()"
   ]
  },
  {
   "cell_type": "code",
   "execution_count": 17,
   "metadata": {},
   "outputs": [
    {
     "name": "stdout",
     "output_type": "stream",
     "text": [
      "<class 'pandas.core.frame.DataFrame'>\n",
      "RangeIndex: 2 entries, 0 to 1\n",
      "Data columns (total 8 columns):\n",
      "messages_included        2 non-null int64\n",
      "mb_per_month_included    2 non-null int64\n",
      "minutes_included         2 non-null int64\n",
      "rub_monthly_fee          2 non-null int64\n",
      "rub_per_gb               2 non-null int64\n",
      "rub_per_message          2 non-null int64\n",
      "rub_per_minute           2 non-null int64\n",
      "tariff_name              2 non-null object\n",
      "dtypes: int64(7), object(1)\n",
      "memory usage: 256.0+ bytes\n"
     ]
    }
   ],
   "source": [
    "tariffs.info()"
   ]
  },
  {
   "cell_type": "markdown",
   "metadata": {},
   "source": [
    "### Пользователи"
   ]
  },
  {
   "cell_type": "code",
   "execution_count": 18,
   "metadata": {},
   "outputs": [],
   "source": [
    "users = pd.read_csv('/datasets/users.csv')"
   ]
  },
  {
   "cell_type": "code",
   "execution_count": 19,
   "metadata": {
    "scrolled": false
   },
   "outputs": [
    {
     "data": {
      "text/html": [
       "<div>\n",
       "<style scoped>\n",
       "    .dataframe tbody tr th:only-of-type {\n",
       "        vertical-align: middle;\n",
       "    }\n",
       "\n",
       "    .dataframe tbody tr th {\n",
       "        vertical-align: top;\n",
       "    }\n",
       "\n",
       "    .dataframe thead th {\n",
       "        text-align: right;\n",
       "    }\n",
       "</style>\n",
       "<table border=\"1\" class=\"dataframe\">\n",
       "  <thead>\n",
       "    <tr style=\"text-align: right;\">\n",
       "      <th></th>\n",
       "      <th>user_id</th>\n",
       "      <th>age</th>\n",
       "      <th>churn_date</th>\n",
       "      <th>city</th>\n",
       "      <th>first_name</th>\n",
       "      <th>last_name</th>\n",
       "      <th>reg_date</th>\n",
       "      <th>tariff</th>\n",
       "    </tr>\n",
       "  </thead>\n",
       "  <tbody>\n",
       "    <tr>\n",
       "      <td>0</td>\n",
       "      <td>1000</td>\n",
       "      <td>52</td>\n",
       "      <td>NaN</td>\n",
       "      <td>Краснодар</td>\n",
       "      <td>Рафаил</td>\n",
       "      <td>Верещагин</td>\n",
       "      <td>2018-05-25</td>\n",
       "      <td>ultra</td>\n",
       "    </tr>\n",
       "    <tr>\n",
       "      <td>1</td>\n",
       "      <td>1001</td>\n",
       "      <td>41</td>\n",
       "      <td>NaN</td>\n",
       "      <td>Москва</td>\n",
       "      <td>Иван</td>\n",
       "      <td>Ежов</td>\n",
       "      <td>2018-11-01</td>\n",
       "      <td>smart</td>\n",
       "    </tr>\n",
       "    <tr>\n",
       "      <td>2</td>\n",
       "      <td>1002</td>\n",
       "      <td>59</td>\n",
       "      <td>NaN</td>\n",
       "      <td>Стерлитамак</td>\n",
       "      <td>Евгений</td>\n",
       "      <td>Абрамович</td>\n",
       "      <td>2018-06-17</td>\n",
       "      <td>smart</td>\n",
       "    </tr>\n",
       "    <tr>\n",
       "      <td>3</td>\n",
       "      <td>1003</td>\n",
       "      <td>23</td>\n",
       "      <td>NaN</td>\n",
       "      <td>Москва</td>\n",
       "      <td>Белла</td>\n",
       "      <td>Белякова</td>\n",
       "      <td>2018-08-17</td>\n",
       "      <td>ultra</td>\n",
       "    </tr>\n",
       "    <tr>\n",
       "      <td>4</td>\n",
       "      <td>1004</td>\n",
       "      <td>68</td>\n",
       "      <td>NaN</td>\n",
       "      <td>Новокузнецк</td>\n",
       "      <td>Татьяна</td>\n",
       "      <td>Авдеенко</td>\n",
       "      <td>2018-05-14</td>\n",
       "      <td>ultra</td>\n",
       "    </tr>\n",
       "  </tbody>\n",
       "</table>\n",
       "</div>"
      ],
      "text/plain": [
       "   user_id  age churn_date         city first_name  last_name    reg_date  \\\n",
       "0     1000   52        NaN    Краснодар     Рафаил  Верещагин  2018-05-25   \n",
       "1     1001   41        NaN       Москва       Иван       Ежов  2018-11-01   \n",
       "2     1002   59        NaN  Стерлитамак    Евгений  Абрамович  2018-06-17   \n",
       "3     1003   23        NaN       Москва      Белла   Белякова  2018-08-17   \n",
       "4     1004   68        NaN  Новокузнецк    Татьяна   Авдеенко  2018-05-14   \n",
       "\n",
       "  tariff  \n",
       "0  ultra  \n",
       "1  smart  \n",
       "2  smart  \n",
       "3  ultra  \n",
       "4  ultra  "
      ]
     },
     "execution_count": 19,
     "metadata": {},
     "output_type": "execute_result"
    }
   ],
   "source": [
    "users.head()"
   ]
  },
  {
   "cell_type": "code",
   "execution_count": 20,
   "metadata": {
    "scrolled": true
   },
   "outputs": [
    {
     "name": "stdout",
     "output_type": "stream",
     "text": [
      "<class 'pandas.core.frame.DataFrame'>\n",
      "RangeIndex: 500 entries, 0 to 499\n",
      "Data columns (total 8 columns):\n",
      "user_id       500 non-null int64\n",
      "age           500 non-null int64\n",
      "churn_date    38 non-null object\n",
      "city          500 non-null object\n",
      "first_name    500 non-null object\n",
      "last_name     500 non-null object\n",
      "reg_date      500 non-null object\n",
      "tariff        500 non-null object\n",
      "dtypes: int64(2), object(6)\n",
      "memory usage: 31.4+ KB\n"
     ]
    }
   ],
   "source": [
    "users.info()"
   ]
  },
  {
   "cell_type": "markdown",
   "metadata": {},
   "source": [
    "### Вывод"
   ]
  },
  {
   "cell_type": "markdown",
   "metadata": {},
   "source": [
    "Данные распределены по пяти датасетам:\n",
    "* calls\n",
    "* internet\n",
    "* messages\n",
    "* tariffs\n",
    "* users\n",
    "\n",
    "Данные о звонках, траффике и сообщениях могут быть связаны с данными о пользователях через столбец `user_id`, данные о тарифе - через столбец `tariff_name`, для этого целесообразно переименовать столбец `tariff` таблицы `users` в `tariff_name`.\n",
    "\n",
    "Пропуски в данных есть только в датасете `users` в столбце `churn_date` - видимо данных нет для тех клиентов, кто все еще остается с Мегалайном. Эти пропуски можно заполнить датой 31.12.2018 - так как данные мы будем анализировать только за 2018 год.\n",
    "\n",
    "Изменение типов данных требуется для столбцов с датами - перевод их в тип datetime.\n",
    "\n",
    "Также необходимо проверить на аномалии колонку с возрастом абонентов и проверить текстовые столбцы на ошибки и опечатки."
   ]
  },
  {
   "cell_type": "markdown",
   "metadata": {},
   "source": [
    "## Предобработка данных"
   ]
  },
  {
   "cell_type": "markdown",
   "metadata": {},
   "source": [
    "### Заполнение пропусков"
   ]
  },
  {
   "cell_type": "markdown",
   "metadata": {},
   "source": [
    "Заполним пропуски в столбце `churn_date` датасета `users`. Так как мы анализируем данные только за 2018 год, то вместо даты отключения можно поставить последний день 2018 года - это ни на что не повлияет."
   ]
  },
  {
   "cell_type": "code",
   "execution_count": 21,
   "metadata": {},
   "outputs": [],
   "source": [
    "users['churn_date'] = users['churn_date'].fillna('2018-12-31')"
   ]
  },
  {
   "cell_type": "code",
   "execution_count": 22,
   "metadata": {
    "scrolled": true
   },
   "outputs": [
    {
     "name": "stdout",
     "output_type": "stream",
     "text": [
      "<class 'pandas.core.frame.DataFrame'>\n",
      "RangeIndex: 500 entries, 0 to 499\n",
      "Data columns (total 8 columns):\n",
      "user_id       500 non-null int64\n",
      "age           500 non-null int64\n",
      "churn_date    500 non-null object\n",
      "city          500 non-null object\n",
      "first_name    500 non-null object\n",
      "last_name     500 non-null object\n",
      "reg_date      500 non-null object\n",
      "tariff        500 non-null object\n",
      "dtypes: int64(2), object(6)\n",
      "memory usage: 31.4+ KB\n"
     ]
    }
   ],
   "source": [
    "users.info()"
   ]
  },
  {
   "cell_type": "markdown",
   "metadata": {},
   "source": [
    "Пропуски заполнены."
   ]
  },
  {
   "cell_type": "markdown",
   "metadata": {},
   "source": [
    "### Изменение типов данных"
   ]
  },
  {
   "cell_type": "markdown",
   "metadata": {},
   "source": [
    "Изменим тип данных в столбцах с датами - переводем их в тип datetime."
   ]
  },
  {
   "cell_type": "code",
   "execution_count": 23,
   "metadata": {},
   "outputs": [],
   "source": [
    "calls['call_date'] = pd.to_datetime(calls['call_date'], yearfirst=True)"
   ]
  },
  {
   "cell_type": "code",
   "execution_count": 24,
   "metadata": {},
   "outputs": [
    {
     "name": "stdout",
     "output_type": "stream",
     "text": [
      "<class 'pandas.core.frame.DataFrame'>\n",
      "RangeIndex: 202607 entries, 0 to 202606\n",
      "Data columns (total 4 columns):\n",
      "id           202607 non-null object\n",
      "call_date    202607 non-null datetime64[ns]\n",
      "duration     202607 non-null float64\n",
      "user_id      202607 non-null int64\n",
      "dtypes: datetime64[ns](1), float64(1), int64(1), object(1)\n",
      "memory usage: 6.2+ MB\n"
     ]
    }
   ],
   "source": [
    "calls.info()"
   ]
  },
  {
   "cell_type": "code",
   "execution_count": 25,
   "metadata": {
    "scrolled": true
   },
   "outputs": [],
   "source": [
    "internet['session_date'] = pd.to_datetime(\n",
    "    internet['session_date'], yearfirst=True)"
   ]
  },
  {
   "cell_type": "code",
   "execution_count": 26,
   "metadata": {},
   "outputs": [
    {
     "name": "stdout",
     "output_type": "stream",
     "text": [
      "<class 'pandas.core.frame.DataFrame'>\n",
      "Int64Index: 149396 entries, 0 to 149395\n",
      "Data columns (total 4 columns):\n",
      "id              149396 non-null object\n",
      "mb_used         149396 non-null float64\n",
      "session_date    149396 non-null datetime64[ns]\n",
      "user_id         149396 non-null int64\n",
      "dtypes: datetime64[ns](1), float64(1), int64(1), object(1)\n",
      "memory usage: 5.7+ MB\n"
     ]
    }
   ],
   "source": [
    "internet.info()"
   ]
  },
  {
   "cell_type": "code",
   "execution_count": 27,
   "metadata": {},
   "outputs": [],
   "source": [
    "messages['message_date'] = pd.to_datetime(\n",
    "    messages['message_date'], yearfirst=True)"
   ]
  },
  {
   "cell_type": "code",
   "execution_count": 28,
   "metadata": {},
   "outputs": [
    {
     "name": "stdout",
     "output_type": "stream",
     "text": [
      "<class 'pandas.core.frame.DataFrame'>\n",
      "RangeIndex: 123036 entries, 0 to 123035\n",
      "Data columns (total 3 columns):\n",
      "id              123036 non-null object\n",
      "message_date    123036 non-null datetime64[ns]\n",
      "user_id         123036 non-null int64\n",
      "dtypes: datetime64[ns](1), int64(1), object(1)\n",
      "memory usage: 2.8+ MB\n"
     ]
    }
   ],
   "source": [
    "messages.info()"
   ]
  },
  {
   "cell_type": "code",
   "execution_count": 29,
   "metadata": {},
   "outputs": [],
   "source": [
    "users['reg_date'] = pd.to_datetime(users['reg_date'], yearfirst=True)"
   ]
  },
  {
   "cell_type": "code",
   "execution_count": 30,
   "metadata": {
    "scrolled": true
   },
   "outputs": [
    {
     "name": "stdout",
     "output_type": "stream",
     "text": [
      "<class 'pandas.core.frame.DataFrame'>\n",
      "RangeIndex: 500 entries, 0 to 499\n",
      "Data columns (total 8 columns):\n",
      "user_id       500 non-null int64\n",
      "age           500 non-null int64\n",
      "churn_date    500 non-null object\n",
      "city          500 non-null object\n",
      "first_name    500 non-null object\n",
      "last_name     500 non-null object\n",
      "reg_date      500 non-null datetime64[ns]\n",
      "tariff        500 non-null object\n",
      "dtypes: datetime64[ns](1), int64(2), object(5)\n",
      "memory usage: 31.4+ KB\n"
     ]
    }
   ],
   "source": [
    "users.info()"
   ]
  },
  {
   "cell_type": "markdown",
   "metadata": {},
   "source": [
    "Все необходимые преобразования типов данных выполнены."
   ]
  },
  {
   "cell_type": "markdown",
   "metadata": {},
   "source": [
    "### Исправление ошибок"
   ]
  },
  {
   "cell_type": "markdown",
   "metadata": {},
   "source": [
    "Переименуем столбец `tariffs` в таблице `users`, чтобы он соответствовал аналогичному столбцу таблицы `tariffs`"
   ]
  },
  {
   "cell_type": "code",
   "execution_count": 31,
   "metadata": {},
   "outputs": [],
   "source": [
    "users = users.rename(columns={'tariff': 'tariff_name'})"
   ]
  },
  {
   "cell_type": "code",
   "execution_count": 32,
   "metadata": {
    "scrolled": true
   },
   "outputs": [
    {
     "data": {
      "text/html": [
       "<div>\n",
       "<style scoped>\n",
       "    .dataframe tbody tr th:only-of-type {\n",
       "        vertical-align: middle;\n",
       "    }\n",
       "\n",
       "    .dataframe tbody tr th {\n",
       "        vertical-align: top;\n",
       "    }\n",
       "\n",
       "    .dataframe thead th {\n",
       "        text-align: right;\n",
       "    }\n",
       "</style>\n",
       "<table border=\"1\" class=\"dataframe\">\n",
       "  <thead>\n",
       "    <tr style=\"text-align: right;\">\n",
       "      <th></th>\n",
       "      <th>user_id</th>\n",
       "      <th>age</th>\n",
       "      <th>churn_date</th>\n",
       "      <th>city</th>\n",
       "      <th>first_name</th>\n",
       "      <th>last_name</th>\n",
       "      <th>reg_date</th>\n",
       "      <th>tariff_name</th>\n",
       "    </tr>\n",
       "  </thead>\n",
       "  <tbody>\n",
       "    <tr>\n",
       "      <td>0</td>\n",
       "      <td>1000</td>\n",
       "      <td>52</td>\n",
       "      <td>2018-12-31</td>\n",
       "      <td>Краснодар</td>\n",
       "      <td>Рафаил</td>\n",
       "      <td>Верещагин</td>\n",
       "      <td>2018-05-25</td>\n",
       "      <td>ultra</td>\n",
       "    </tr>\n",
       "    <tr>\n",
       "      <td>1</td>\n",
       "      <td>1001</td>\n",
       "      <td>41</td>\n",
       "      <td>2018-12-31</td>\n",
       "      <td>Москва</td>\n",
       "      <td>Иван</td>\n",
       "      <td>Ежов</td>\n",
       "      <td>2018-11-01</td>\n",
       "      <td>smart</td>\n",
       "    </tr>\n",
       "    <tr>\n",
       "      <td>2</td>\n",
       "      <td>1002</td>\n",
       "      <td>59</td>\n",
       "      <td>2018-12-31</td>\n",
       "      <td>Стерлитамак</td>\n",
       "      <td>Евгений</td>\n",
       "      <td>Абрамович</td>\n",
       "      <td>2018-06-17</td>\n",
       "      <td>smart</td>\n",
       "    </tr>\n",
       "    <tr>\n",
       "      <td>3</td>\n",
       "      <td>1003</td>\n",
       "      <td>23</td>\n",
       "      <td>2018-12-31</td>\n",
       "      <td>Москва</td>\n",
       "      <td>Белла</td>\n",
       "      <td>Белякова</td>\n",
       "      <td>2018-08-17</td>\n",
       "      <td>ultra</td>\n",
       "    </tr>\n",
       "    <tr>\n",
       "      <td>4</td>\n",
       "      <td>1004</td>\n",
       "      <td>68</td>\n",
       "      <td>2018-12-31</td>\n",
       "      <td>Новокузнецк</td>\n",
       "      <td>Татьяна</td>\n",
       "      <td>Авдеенко</td>\n",
       "      <td>2018-05-14</td>\n",
       "      <td>ultra</td>\n",
       "    </tr>\n",
       "  </tbody>\n",
       "</table>\n",
       "</div>"
      ],
      "text/plain": [
       "   user_id  age  churn_date         city first_name  last_name   reg_date  \\\n",
       "0     1000   52  2018-12-31    Краснодар     Рафаил  Верещагин 2018-05-25   \n",
       "1     1001   41  2018-12-31       Москва       Иван       Ежов 2018-11-01   \n",
       "2     1002   59  2018-12-31  Стерлитамак    Евгений  Абрамович 2018-06-17   \n",
       "3     1003   23  2018-12-31       Москва      Белла   Белякова 2018-08-17   \n",
       "4     1004   68  2018-12-31  Новокузнецк    Татьяна   Авдеенко 2018-05-14   \n",
       "\n",
       "  tariff_name  \n",
       "0       ultra  \n",
       "1       smart  \n",
       "2       smart  \n",
       "3       ultra  \n",
       "4       ultra  "
      ]
     },
     "execution_count": 32,
     "metadata": {},
     "output_type": "execute_result"
    }
   ],
   "source": [
    "users.head()"
   ]
  },
  {
   "cell_type": "markdown",
   "metadata": {},
   "source": [
    "Теперь по одинаково проименованным столбцам можно будет производить объединение таблиц."
   ]
  },
  {
   "cell_type": "markdown",
   "metadata": {},
   "source": [
    "Проверим текстовые столбцы, они могут быть заполнены произвольно и в них могут встречаться ошибки."
   ]
  },
  {
   "cell_type": "code",
   "execution_count": 33,
   "metadata": {
    "scrolled": true
   },
   "outputs": [
    {
     "data": {
      "text/plain": [
       "['Архангельск',\n",
       " 'Астрахань',\n",
       " 'Балашиха',\n",
       " 'Барнаул',\n",
       " 'Белгород',\n",
       " 'Брянск',\n",
       " 'Владивосток',\n",
       " 'Владикавказ',\n",
       " 'Владимир',\n",
       " 'Волгоград',\n",
       " 'Волжский',\n",
       " 'Вологда',\n",
       " 'Воронеж',\n",
       " 'Грозный',\n",
       " 'Екатеринбург',\n",
       " 'Иваново',\n",
       " 'Ижевск',\n",
       " 'Иркутск',\n",
       " 'Казань',\n",
       " 'Калининград',\n",
       " 'Калуга',\n",
       " 'Кемерово',\n",
       " 'Киров',\n",
       " 'Кострома',\n",
       " 'Краснодар',\n",
       " 'Красноярск',\n",
       " 'Курган',\n",
       " 'Курск',\n",
       " 'Липецк',\n",
       " 'Магнитогорск',\n",
       " 'Махачкала',\n",
       " 'Москва',\n",
       " 'Мурманск',\n",
       " 'Набережные Челны',\n",
       " 'Нижневартовск',\n",
       " 'Нижний Новгород',\n",
       " 'Нижний Тагил',\n",
       " 'Новокузнецк',\n",
       " 'Новороссийск',\n",
       " 'Новосибирск',\n",
       " 'Омск',\n",
       " 'Оренбург',\n",
       " 'Орёл',\n",
       " 'Пенза',\n",
       " 'Пермь',\n",
       " 'Петрозаводск',\n",
       " 'Подольск',\n",
       " 'Ростов-на-Дону',\n",
       " 'Рязань',\n",
       " 'Самара',\n",
       " 'Санкт-Петербург',\n",
       " 'Саранск',\n",
       " 'Саратов',\n",
       " 'Севастополь',\n",
       " 'Смоленск',\n",
       " 'Сочи',\n",
       " 'Ставрополь',\n",
       " 'Стерлитамак',\n",
       " 'Сургут',\n",
       " 'Тамбов',\n",
       " 'Тверь',\n",
       " 'Тольятти',\n",
       " 'Томск',\n",
       " 'Тула',\n",
       " 'Тюмень',\n",
       " 'Улан-Удэ',\n",
       " 'Ульяновск',\n",
       " 'Уфа',\n",
       " 'Хабаровск',\n",
       " 'Химки',\n",
       " 'Чебоксары',\n",
       " 'Челябинск',\n",
       " 'Череповец',\n",
       " 'Чита',\n",
       " 'Якутск',\n",
       " 'Ярославль']"
      ]
     },
     "execution_count": 33,
     "metadata": {},
     "output_type": "execute_result"
    }
   ],
   "source": [
    "sorted(users['city'].unique())"
   ]
  },
  {
   "cell_type": "code",
   "execution_count": 34,
   "metadata": {
    "scrolled": true
   },
   "outputs": [
    {
     "data": {
      "text/plain": [
       "['Авксентий',\n",
       " 'Агата',\n",
       " 'Агафья',\n",
       " 'Агнесса',\n",
       " 'Адам',\n",
       " 'Аким',\n",
       " 'Аксён',\n",
       " 'Алан',\n",
       " 'Алевтина',\n",
       " 'Александр',\n",
       " 'Александра',\n",
       " 'Алексей',\n",
       " 'Алина',\n",
       " 'Алиса',\n",
       " 'Алла',\n",
       " 'Альберта',\n",
       " 'Альбин',\n",
       " 'Альфред',\n",
       " 'Алёна',\n",
       " 'Анатолий',\n",
       " 'Анвар',\n",
       " 'Ангелина',\n",
       " 'Андрей',\n",
       " 'Анжелика',\n",
       " 'Анита',\n",
       " 'Антонина',\n",
       " 'Анфиса',\n",
       " 'Арина',\n",
       " 'Арнольд',\n",
       " 'Арсен',\n",
       " 'Арсений',\n",
       " 'Артемий',\n",
       " 'Артём',\n",
       " 'Аурелия',\n",
       " 'Афанасий',\n",
       " 'Ахмет',\n",
       " 'Аюна',\n",
       " 'Белла',\n",
       " 'Берта',\n",
       " 'Борис',\n",
       " 'Вадим',\n",
       " 'Валентина',\n",
       " 'Валерий',\n",
       " 'Валерия',\n",
       " 'Варвара',\n",
       " 'Варлам',\n",
       " 'Василиса',\n",
       " 'Вениамин',\n",
       " 'Вера',\n",
       " 'Вероника',\n",
       " 'Веселина',\n",
       " 'Виктор',\n",
       " 'Виктория',\n",
       " 'Виолетта',\n",
       " 'Виталий',\n",
       " 'Владимир',\n",
       " 'Владислав',\n",
       " 'Владислава',\n",
       " 'Всеволод',\n",
       " 'Габриель',\n",
       " 'Габриэль',\n",
       " 'Гайдар',\n",
       " 'Галина',\n",
       " 'Гарри',\n",
       " 'Гектор',\n",
       " 'Гелена',\n",
       " 'Геннадий',\n",
       " 'Геодар',\n",
       " 'Георгий',\n",
       " 'Георгина',\n",
       " 'Геральд',\n",
       " 'Герасим',\n",
       " 'Глеб',\n",
       " 'Гордей',\n",
       " 'Григорий',\n",
       " 'Дайна',\n",
       " 'Дана',\n",
       " 'Даниил',\n",
       " 'Даниэла',\n",
       " 'Дебора',\n",
       " 'Демьян',\n",
       " 'Денис',\n",
       " 'Джемма',\n",
       " 'Джозефина',\n",
       " 'Джулия',\n",
       " 'Динара',\n",
       " 'Доминика',\n",
       " 'Ева',\n",
       " 'Евгений',\n",
       " 'Евгения',\n",
       " 'Евдокия',\n",
       " 'Евфросинья',\n",
       " 'Егор',\n",
       " 'Екатерина',\n",
       " 'Елена',\n",
       " 'Еремей',\n",
       " 'Ермолай',\n",
       " 'Ефим',\n",
       " 'Зинаида',\n",
       " 'Иван',\n",
       " 'Игнатий',\n",
       " 'Игорь',\n",
       " 'Изольда',\n",
       " 'Илзе',\n",
       " 'Илья',\n",
       " 'Инара',\n",
       " 'Инга',\n",
       " 'Инесса',\n",
       " 'Инна',\n",
       " 'Иннокентий',\n",
       " 'Ириней',\n",
       " 'Исаак',\n",
       " 'Исак',\n",
       " 'Иулиан',\n",
       " 'Камилла',\n",
       " 'Карина',\n",
       " 'Каролина',\n",
       " 'Касьян',\n",
       " 'Ким',\n",
       " 'Клавдия',\n",
       " 'Клара',\n",
       " 'Клариса',\n",
       " 'Константин',\n",
       " 'Кристина',\n",
       " 'Ксения',\n",
       " 'Кузьма',\n",
       " 'Лаврентий',\n",
       " 'Лариса',\n",
       " 'Лаура',\n",
       " 'Лев',\n",
       " 'Лейла',\n",
       " 'Леон',\n",
       " 'Леонид',\n",
       " 'Леонтий',\n",
       " 'Леся',\n",
       " 'Лидия',\n",
       " 'Лилия',\n",
       " 'Лия',\n",
       " 'Лола',\n",
       " 'Лолита',\n",
       " 'Луиза',\n",
       " 'Лукий',\n",
       " 'Людмила',\n",
       " 'Мадина',\n",
       " 'Майя',\n",
       " 'Максим',\n",
       " 'Мальвина',\n",
       " 'Мануэла',\n",
       " 'Маргарита',\n",
       " 'Марианна',\n",
       " 'Мариетта',\n",
       " 'Марина',\n",
       " 'Марица',\n",
       " 'Мария',\n",
       " 'Марта',\n",
       " 'Марьяна',\n",
       " 'Матвей',\n",
       " 'Милана',\n",
       " 'Милена',\n",
       " 'Милица',\n",
       " 'Мирослава',\n",
       " 'Михаил',\n",
       " 'Мстислав',\n",
       " 'Надежда',\n",
       " 'Наида',\n",
       " 'Наталья',\n",
       " 'Нателла',\n",
       " 'Нелли',\n",
       " 'Николай',\n",
       " 'Нина',\n",
       " 'Оксана',\n",
       " 'Олег',\n",
       " 'Олеся',\n",
       " 'Онисим',\n",
       " 'Павел',\n",
       " 'Пётр',\n",
       " 'Радим',\n",
       " 'Радислав',\n",
       " 'Радомир',\n",
       " 'Раиса',\n",
       " 'Рауль',\n",
       " 'Рафаил',\n",
       " 'Рафаэль',\n",
       " 'Рашид',\n",
       " 'Рем',\n",
       " 'Ренальд',\n",
       " 'Ренат',\n",
       " 'Рената',\n",
       " 'Ринат',\n",
       " 'Роберт',\n",
       " 'Роза',\n",
       " 'Розалия',\n",
       " 'Роксана',\n",
       " 'Ростислав',\n",
       " 'Рубен',\n",
       " 'Рудольф',\n",
       " 'Рузана',\n",
       " 'Руслан',\n",
       " 'Руслана',\n",
       " 'Рустам',\n",
       " 'Рустем',\n",
       " 'Рустэм',\n",
       " 'Рэм',\n",
       " 'Сабина',\n",
       " 'Саида',\n",
       " 'Сара',\n",
       " 'Светлана',\n",
       " 'Святослав',\n",
       " 'Семён',\n",
       " 'Серафима',\n",
       " 'Симона',\n",
       " 'Снежана',\n",
       " 'Софья',\n",
       " 'Станислав',\n",
       " 'Степан',\n",
       " 'Таира',\n",
       " 'Таисия',\n",
       " 'Тала',\n",
       " 'Тамара',\n",
       " 'Татьяна',\n",
       " 'Тимофей',\n",
       " 'Тихон',\n",
       " 'Трифон',\n",
       " 'Трофим',\n",
       " 'Фаддей',\n",
       " 'Фёдор',\n",
       " 'Харитон',\n",
       " 'Эдита',\n",
       " 'Эдуард',\n",
       " 'Элеонора',\n",
       " 'Элина',\n",
       " 'Элла',\n",
       " 'Эллада',\n",
       " 'Эльвира',\n",
       " 'Эльга',\n",
       " 'Эльза',\n",
       " 'Эльмира',\n",
       " 'Эмилия',\n",
       " 'Эсмеральда',\n",
       " 'Юзефа',\n",
       " 'Юлий',\n",
       " 'Юлия',\n",
       " 'Юна',\n",
       " 'Юрий',\n",
       " 'Яков',\n",
       " 'Яна']"
      ]
     },
     "execution_count": 34,
     "metadata": {},
     "output_type": "execute_result"
    }
   ],
   "source": [
    "sorted(users['first_name'].unique())"
   ]
  },
  {
   "cell_type": "code",
   "execution_count": 35,
   "metadata": {
    "scrolled": true
   },
   "outputs": [
    {
     "data": {
      "text/plain": [
       "['Ёлчина',\n",
       " 'Ёркин',\n",
       " 'Ёркина',\n",
       " 'Ёрохов',\n",
       " 'Ёрохова',\n",
       " 'Абаимов',\n",
       " 'Абакумов',\n",
       " 'Абакшина',\n",
       " 'Абалакова',\n",
       " 'Абалдуева',\n",
       " 'Абалкин',\n",
       " 'Абашкин',\n",
       " 'Абашкина',\n",
       " 'Абдулина',\n",
       " 'Абоимов',\n",
       " 'Абрамович',\n",
       " 'Абрамцев',\n",
       " 'Абрамычева',\n",
       " 'Абрашина',\n",
       " 'Абрикосова',\n",
       " 'Авдеев',\n",
       " 'Авдеенко',\n",
       " 'Авдонюшкин',\n",
       " 'Авдушева',\n",
       " 'Авдышев',\n",
       " 'Авдюков',\n",
       " 'Авраамова',\n",
       " 'Авраменко',\n",
       " 'Авринский',\n",
       " 'Аврорин',\n",
       " 'Авроров',\n",
       " 'Авросимова',\n",
       " 'Авросинова',\n",
       " 'Авсейкина',\n",
       " 'Авчинникова',\n",
       " 'Агаев',\n",
       " 'Агаева',\n",
       " 'Агапеева',\n",
       " 'Агеева',\n",
       " 'Адаменко',\n",
       " 'Адамов',\n",
       " 'Азаров',\n",
       " 'Азерников',\n",
       " 'Азимова',\n",
       " 'Акимов',\n",
       " 'Акимчин',\n",
       " 'Акимычева',\n",
       " 'Акиндинов',\n",
       " 'Акинин',\n",
       " 'Акинфьев',\n",
       " 'Аксёнов',\n",
       " 'Акуленко',\n",
       " 'Александрова',\n",
       " 'Александрович',\n",
       " 'Александрюк',\n",
       " 'Алексеева',\n",
       " 'Алексеенко',\n",
       " 'Алексеичев',\n",
       " 'Аленникова',\n",
       " 'Алесин',\n",
       " 'Алехина',\n",
       " 'Алешин',\n",
       " 'Алешина',\n",
       " 'Алешкова',\n",
       " 'Алиев',\n",
       " 'Алфеева',\n",
       " 'Алфимов',\n",
       " 'Алфимова',\n",
       " 'Алымова',\n",
       " 'Алютин',\n",
       " 'Алюшина',\n",
       " 'Алёшко',\n",
       " 'Алёшкова',\n",
       " 'Амелин',\n",
       " 'Амелишко',\n",
       " 'Амельченко',\n",
       " 'Ананьева',\n",
       " 'Андреенко',\n",
       " 'Андрейкин',\n",
       " 'Андрейчук',\n",
       " 'Андрианов',\n",
       " 'Андропов',\n",
       " 'Андропова',\n",
       " 'Андрющенко',\n",
       " 'Аникина',\n",
       " 'Аничкина',\n",
       " 'Анищенко',\n",
       " 'Антипов',\n",
       " 'Антоненко',\n",
       " 'Антонова',\n",
       " 'Антропов',\n",
       " 'Антропова',\n",
       " 'Аракина',\n",
       " 'Аракчеев',\n",
       " 'Аркадьев',\n",
       " 'Арсенкова',\n",
       " 'Артемчук',\n",
       " 'Артемьев',\n",
       " 'Артёменко',\n",
       " 'Артёмов',\n",
       " 'Артёшин',\n",
       " 'Архипова',\n",
       " 'Асафьева',\n",
       " 'Астапенко',\n",
       " 'Астапов',\n",
       " 'Астафьева',\n",
       " 'Афанасенко',\n",
       " 'Афанасова',\n",
       " 'Афинин',\n",
       " 'Афонасьева',\n",
       " 'Афонин',\n",
       " 'Афонина',\n",
       " 'Ахмадулин',\n",
       " 'Ахматов',\n",
       " 'Ахматулин',\n",
       " 'Ахматулина',\n",
       " 'Ахмедов',\n",
       " 'Бабушкина',\n",
       " 'Барсуков',\n",
       " 'Басова',\n",
       " 'Безруков',\n",
       " 'Беликова',\n",
       " 'Белова',\n",
       " 'Белозёров',\n",
       " 'Белоусова',\n",
       " 'Беляев',\n",
       " 'Беляева',\n",
       " 'Белякова',\n",
       " 'Березина',\n",
       " 'Блинова',\n",
       " 'Блохин',\n",
       " 'Блохина',\n",
       " 'Боброва',\n",
       " 'Бобылёв',\n",
       " 'Богданов',\n",
       " 'Богданова',\n",
       " 'Болдырев',\n",
       " 'Болдырева',\n",
       " 'Бондарев',\n",
       " 'Борисова',\n",
       " 'Бородин',\n",
       " 'Бородина',\n",
       " 'Булгаков',\n",
       " 'Бычкова',\n",
       " 'Васильева',\n",
       " 'Верещагин',\n",
       " 'Верещагина',\n",
       " 'Веселов',\n",
       " 'Вешнякова',\n",
       " 'Вишневский',\n",
       " 'Вишняков',\n",
       " 'Воронин',\n",
       " 'Воронина',\n",
       " 'Гаврилова',\n",
       " 'Галкин',\n",
       " 'Глушков',\n",
       " 'Голованова',\n",
       " 'Гончаров',\n",
       " 'Горбачева',\n",
       " 'Горбунов',\n",
       " 'Горлов',\n",
       " 'Григорьев',\n",
       " 'Григорьева',\n",
       " 'Гришина',\n",
       " 'Громова',\n",
       " 'Давыдов',\n",
       " 'Демидов',\n",
       " 'Демьянов',\n",
       " 'Демьянова',\n",
       " 'Денисова',\n",
       " 'Добрынин',\n",
       " 'Добрынина',\n",
       " 'Дорофеева',\n",
       " 'Дроздов',\n",
       " 'Дубинина',\n",
       " 'Дьячкова',\n",
       " 'Евсеев',\n",
       " 'Ежов',\n",
       " 'Елизаров',\n",
       " 'Емельянова',\n",
       " 'Еремин',\n",
       " 'Ермилов',\n",
       " 'Ермолаев',\n",
       " 'Ерофеев',\n",
       " 'Ерофеева',\n",
       " 'Ефремов',\n",
       " 'Жарова',\n",
       " 'Жданов',\n",
       " 'Жукова',\n",
       " 'Завьялова',\n",
       " 'Зайцев',\n",
       " 'Зеленина',\n",
       " 'Зимина',\n",
       " 'Золотов',\n",
       " 'Золотова',\n",
       " 'Зубков',\n",
       " 'Зубкова',\n",
       " 'Зуев',\n",
       " 'Зыков',\n",
       " 'Иванов',\n",
       " 'Иванова',\n",
       " 'Игнатова',\n",
       " 'Игнатьев',\n",
       " 'Игнатьева',\n",
       " 'Измайлова',\n",
       " 'Ильин',\n",
       " 'Ильина',\n",
       " 'Кабанова',\n",
       " 'Казакова',\n",
       " 'Казанцев',\n",
       " 'Калинина',\n",
       " 'Капустин',\n",
       " 'Карасев',\n",
       " 'Карасева',\n",
       " 'Карташова',\n",
       " 'Касьянова',\n",
       " 'Киреева',\n",
       " 'Кириллов',\n",
       " 'Киселёв',\n",
       " 'Климова',\n",
       " 'Ковалева',\n",
       " 'Козлов',\n",
       " 'Козлова',\n",
       " 'Козырева',\n",
       " 'Колесова',\n",
       " 'Колобов',\n",
       " 'Кольцова',\n",
       " 'Кондратов',\n",
       " 'Коновалова',\n",
       " 'Кононов',\n",
       " 'Константинова',\n",
       " 'Корнеева',\n",
       " 'Корнилов',\n",
       " 'Корнилова',\n",
       " 'Корольков',\n",
       " 'Королькова',\n",
       " 'Короткова',\n",
       " 'Коршунов',\n",
       " 'Костин',\n",
       " 'Костина',\n",
       " 'Кочергина',\n",
       " 'Кочетков',\n",
       " 'Кочетов',\n",
       " 'Кошелева',\n",
       " 'Кравцов',\n",
       " 'Красильников',\n",
       " 'Круглов',\n",
       " 'Крылова',\n",
       " 'Крюков',\n",
       " 'Крюкова',\n",
       " 'Крючков',\n",
       " 'Кузнецов',\n",
       " 'Кукушкин',\n",
       " 'Кулагина',\n",
       " 'Кулешова',\n",
       " 'Куприянов',\n",
       " 'Курочкин',\n",
       " 'Лазарева',\n",
       " 'Лапина',\n",
       " 'Лаптева',\n",
       " 'Ларин',\n",
       " 'Ларина',\n",
       " 'Ларионова',\n",
       " 'Латышева',\n",
       " 'Лебедев',\n",
       " 'Левин',\n",
       " 'Леонтьев',\n",
       " 'Литвинов',\n",
       " 'Лобанова',\n",
       " 'Логинов',\n",
       " 'Лосева',\n",
       " 'Лукин',\n",
       " 'Любимов',\n",
       " 'Макаров',\n",
       " 'Макарова',\n",
       " 'Макеев',\n",
       " 'Малахов',\n",
       " 'Малинин',\n",
       " 'Малинина',\n",
       " 'Малышев',\n",
       " 'Мальцев',\n",
       " 'Мамонтова',\n",
       " 'Марков',\n",
       " 'Масленникова',\n",
       " 'Матвеев',\n",
       " 'Медведев',\n",
       " 'Мельникова',\n",
       " 'Меркулова',\n",
       " 'Минаев',\n",
       " 'Минаева',\n",
       " 'Мишин',\n",
       " 'Молчанова',\n",
       " 'Моргунов',\n",
       " 'Морозов',\n",
       " 'Муравьева',\n",
       " 'Муравьёв',\n",
       " 'Мясникова',\n",
       " 'Наумов',\n",
       " 'Некрасов',\n",
       " 'Нестеров',\n",
       " 'Нестерова',\n",
       " 'Нечаева',\n",
       " 'Никонов',\n",
       " 'Никулин',\n",
       " 'Новикова',\n",
       " 'Носкова',\n",
       " 'Овчинников',\n",
       " 'Одинцов',\n",
       " 'Одинцова',\n",
       " 'Озерова',\n",
       " 'Орлов',\n",
       " 'Павловский',\n",
       " 'Панов',\n",
       " 'Пантелеева',\n",
       " 'Панфилов',\n",
       " 'Панфилова',\n",
       " 'Парфенов',\n",
       " 'Петухова',\n",
       " 'Пирогова',\n",
       " 'Платонова',\n",
       " 'Покровский',\n",
       " 'Поликарпова',\n",
       " 'Поляков',\n",
       " 'Пономарев',\n",
       " 'Пономарева',\n",
       " 'Пономарёв',\n",
       " 'Попов',\n",
       " 'Прокофьева',\n",
       " 'Пугачева',\n",
       " 'Ракова',\n",
       " 'Родина',\n",
       " 'Родионов',\n",
       " 'Родионова',\n",
       " 'Розанова',\n",
       " 'Рудаков',\n",
       " 'Румянцева',\n",
       " 'Русанова',\n",
       " 'Рыбакова',\n",
       " 'Рябов',\n",
       " 'Савельева',\n",
       " 'Сазонов',\n",
       " 'Сазонова',\n",
       " 'Сальников',\n",
       " 'Сафонова',\n",
       " 'Сахарова',\n",
       " 'Свиридов',\n",
       " 'Севастьянова',\n",
       " 'Седова',\n",
       " 'Селезнев',\n",
       " 'Селезнева',\n",
       " 'Селиванова',\n",
       " 'Семенова',\n",
       " 'Семин',\n",
       " 'Семина',\n",
       " 'Семёнов',\n",
       " 'Сергеева',\n",
       " 'Серебрякова',\n",
       " 'Серов',\n",
       " 'Силин',\n",
       " 'Симонова',\n",
       " 'Синицын',\n",
       " 'Ситникова',\n",
       " 'Соколов',\n",
       " 'Соловьев',\n",
       " 'Соловьёв',\n",
       " 'Сомова',\n",
       " 'Сорокин',\n",
       " 'Софронов',\n",
       " 'Спиридонова',\n",
       " 'Субботина',\n",
       " 'Суслов',\n",
       " 'Суслова',\n",
       " 'Сухарев',\n",
       " 'Сухарева',\n",
       " 'Сухова',\n",
       " 'Сысоев',\n",
       " 'Тарасов',\n",
       " 'Тарасова',\n",
       " 'Терехова',\n",
       " 'Тетерина',\n",
       " 'Тимофеев',\n",
       " 'Тимофеева',\n",
       " 'Тихомирова',\n",
       " 'Тихонов',\n",
       " 'Толкачев',\n",
       " 'Третьякова',\n",
       " 'Троицкий',\n",
       " 'Трофимов',\n",
       " 'Трофимова',\n",
       " 'Трошин',\n",
       " 'Уваров',\n",
       " 'Устинов',\n",
       " 'Устинова',\n",
       " 'Фадеева',\n",
       " 'Федосеев',\n",
       " 'Фетисова',\n",
       " 'Филатов',\n",
       " 'Фокин',\n",
       " 'Фокина',\n",
       " 'Фомин',\n",
       " 'Фролов',\n",
       " 'Фёдоров',\n",
       " 'Худяков',\n",
       " 'Чернов',\n",
       " 'Черный',\n",
       " 'Чернышев',\n",
       " 'Черняев',\n",
       " 'Чеснокова',\n",
       " 'Чижова',\n",
       " 'Чистякова',\n",
       " 'Чумаков',\n",
       " 'Шарапов',\n",
       " 'Шарапова',\n",
       " 'Шарова',\n",
       " 'Швецов',\n",
       " 'Шевцов',\n",
       " 'Шевцова',\n",
       " 'Щербакова',\n",
       " 'Яшина']"
      ]
     },
     "execution_count": 35,
     "metadata": {},
     "output_type": "execute_result"
    }
   ],
   "source": [
    "sorted(users['last_name'].unique())"
   ]
  },
  {
   "cell_type": "markdown",
   "metadata": {},
   "source": [
    "Ошибок нет"
   ]
  },
  {
   "cell_type": "markdown",
   "metadata": {},
   "source": [
    "Проверим столбец `age` датасета `users`."
   ]
  },
  {
   "cell_type": "code",
   "execution_count": 36,
   "metadata": {
    "scrolled": true
   },
   "outputs": [
    {
     "data": {
      "text/plain": [
       "<matplotlib.axes._subplots.AxesSubplot at 0x7fa791c6fc90>"
      ]
     },
     "execution_count": 36,
     "metadata": {},
     "output_type": "execute_result"
    },
    {
     "data": {
      "image/png": "[encoded data removed]",
      "text/plain": [
       "<Figure size 432x288 with 1 Axes>"
      ]
     },
     "metadata": {
      "needs_background": "light"
     },
     "output_type": "display_data"
    }
   ],
   "source": [
    "users['age'].plot(kind='hist', bins=57, title='Возраст абонентов')"
   ]
  },
  {
   "cell_type": "markdown",
   "metadata": {
    "scrolled": true
   },
   "source": [
    "Аномалий нет.\n",
    "\n",
    "Все ошибки исправлены."
   ]
  },
  {
   "cell_type": "markdown",
   "metadata": {},
   "source": [
    "### Проверка на дубликаты"
   ]
  },
  {
   "cell_type": "markdown",
   "metadata": {},
   "source": [
    "Проверим все датасеты на дубликаты."
   ]
  },
  {
   "cell_type": "code",
   "execution_count": 37,
   "metadata": {},
   "outputs": [
    {
     "data": {
      "text/plain": [
       "0"
      ]
     },
     "execution_count": 37,
     "metadata": {},
     "output_type": "execute_result"
    }
   ],
   "source": [
    "calls.duplicated().sum()"
   ]
  },
  {
   "cell_type": "code",
   "execution_count": 38,
   "metadata": {},
   "outputs": [
    {
     "data": {
      "text/plain": [
       "0"
      ]
     },
     "execution_count": 38,
     "metadata": {},
     "output_type": "execute_result"
    }
   ],
   "source": [
    "messages.duplicated().sum()"
   ]
  },
  {
   "cell_type": "code",
   "execution_count": 39,
   "metadata": {},
   "outputs": [
    {
     "data": {
      "text/plain": [
       "0"
      ]
     },
     "execution_count": 39,
     "metadata": {},
     "output_type": "execute_result"
    }
   ],
   "source": [
    "internet.duplicated().sum()"
   ]
  },
  {
   "cell_type": "code",
   "execution_count": 40,
   "metadata": {
    "scrolled": true
   },
   "outputs": [
    {
     "data": {
      "text/plain": [
       "0"
      ]
     },
     "execution_count": 40,
     "metadata": {},
     "output_type": "execute_result"
    }
   ],
   "source": [
    "users.duplicated().sum()"
   ]
  },
  {
   "cell_type": "code",
   "execution_count": 41,
   "metadata": {
    "scrolled": true
   },
   "outputs": [
    {
     "data": {
      "text/plain": [
       "0"
      ]
     },
     "execution_count": 41,
     "metadata": {},
     "output_type": "execute_result"
    }
   ],
   "source": [
    "users[['first_name', 'last_name']].duplicated().sum()"
   ]
  },
  {
   "cell_type": "markdown",
   "metadata": {},
   "source": [
    "Дубликатов ни в одном датасете нет. "
   ]
  },
  {
   "cell_type": "markdown",
   "metadata": {},
   "source": [
    "### Вывод"
   ]
  },
  {
   "cell_type": "markdown",
   "metadata": {},
   "source": [
    "Мы заполнили пропуски, изменили типы данных в необходимых местах, исправили ошибки и сделали пропверку на дубликаты. Теперь данные готовы к дальнейшей работе."
   ]
  },
  {
   "cell_type": "markdown",
   "metadata": {},
   "source": [
    "## Расчеты"
   ]
  },
  {
   "cell_type": "markdown",
   "metadata": {},
   "source": [
    "Посчитаем для каждого пользователя:\n",
    "\n",
    "количество сделанных звонков и израсходованных минут разговора по месяцам;\n",
    "\n",
    "количество отправленных сообщений по месяцам;\n",
    "\n",
    "объем израсходованного интернет-трафика по месяцам;\n",
    "\n",
    "помесячную выручку."
   ]
  },
  {
   "cell_type": "markdown",
   "metadata": {},
   "source": [
    "### Количество сделанных звонков и израсходованных минут разговора"
   ]
  },
  {
   "cell_type": "markdown",
   "metadata": {},
   "source": [
    "Для расчета количества сделанных звонков и израсходованных минут разговора по месяцам для каждого пользователя составим сводную таблицу. Необходимо учесть, что при расчетах длительность каждого звонка округляется в большую сторону."
   ]
  },
  {
   "cell_type": "code",
   "execution_count": 115,
   "metadata": {
    "scrolled": true
   },
   "outputs": [
    {
     "data": {
      "text/html": [
       "<div>\n",
       "<style scoped>\n",
       "    .dataframe tbody tr th:only-of-type {\n",
       "        vertical-align: middle;\n",
       "    }\n",
       "\n",
       "    .dataframe tbody tr th {\n",
       "        vertical-align: top;\n",
       "    }\n",
       "\n",
       "    .dataframe thead th {\n",
       "        text-align: right;\n",
       "    }\n",
       "</style>\n",
       "<table border=\"1\" class=\"dataframe\">\n",
       "  <thead>\n",
       "    <tr style=\"text-align: right;\">\n",
       "      <th></th>\n",
       "      <th>user_id</th>\n",
       "      <th>month</th>\n",
       "      <th>call_number</th>\n",
       "      <th>call_duration</th>\n",
       "    </tr>\n",
       "  </thead>\n",
       "  <tbody>\n",
       "    <tr>\n",
       "      <td>0</td>\n",
       "      <td>1000</td>\n",
       "      <td>5</td>\n",
       "      <td>22</td>\n",
       "      <td>159.0</td>\n",
       "    </tr>\n",
       "    <tr>\n",
       "      <td>1</td>\n",
       "      <td>1000</td>\n",
       "      <td>6</td>\n",
       "      <td>43</td>\n",
       "      <td>172.0</td>\n",
       "    </tr>\n",
       "    <tr>\n",
       "      <td>2</td>\n",
       "      <td>1000</td>\n",
       "      <td>7</td>\n",
       "      <td>47</td>\n",
       "      <td>340.0</td>\n",
       "    </tr>\n",
       "    <tr>\n",
       "      <td>3</td>\n",
       "      <td>1000</td>\n",
       "      <td>8</td>\n",
       "      <td>52</td>\n",
       "      <td>408.0</td>\n",
       "    </tr>\n",
       "    <tr>\n",
       "      <td>4</td>\n",
       "      <td>1000</td>\n",
       "      <td>9</td>\n",
       "      <td>58</td>\n",
       "      <td>466.0</td>\n",
       "    </tr>\n",
       "  </tbody>\n",
       "</table>\n",
       "</div>"
      ],
      "text/plain": [
       "   user_id  month  call_number  call_duration\n",
       "0     1000      5           22          159.0\n",
       "1     1000      6           43          172.0\n",
       "2     1000      7           47          340.0\n",
       "3     1000      8           52          408.0\n",
       "4     1000      9           58          466.0"
      ]
     },
     "execution_count": 115,
     "metadata": {},
     "output_type": "execute_result"
    }
   ],
   "source": [
    "calls['duration'] = np.ceil(calls['duration'])\n",
    "users_calls = calls.pivot_table(index=['user_id', pd.DatetimeIndex(calls['call_date']).month],\n",
    "                                values='duration',\n",
    "                                aggfunc=['count', 'sum']).reset_index()\n",
    "users_calls.columns = ['user_id', 'month', 'call_number', 'call_duration']\n",
    "users_calls.head()"
   ]
  },
  {
   "cell_type": "markdown",
   "metadata": {},
   "source": [
    "### Количество отправленных сообщений"
   ]
  },
  {
   "cell_type": "markdown",
   "metadata": {},
   "source": [
    "Через сводную таблицу подсчитаем количество отправленных сообщений по месяцам для каждого пользователя."
   ]
  },
  {
   "cell_type": "code",
   "execution_count": 116,
   "metadata": {},
   "outputs": [],
   "source": [
    "users_messages = messages.pivot_table(index=['user_id', pd.DatetimeIndex(messages['message_date']).month],\n",
    "                                      values='id',\n",
    "                                      aggfunc='count').reset_index()\n",
    "users_messages.columns = ['user_id', 'month', 'message_number']"
   ]
  },
  {
   "cell_type": "code",
   "execution_count": 117,
   "metadata": {
    "scrolled": true
   },
   "outputs": [
    {
     "data": {
      "text/html": [
       "<div>\n",
       "<style scoped>\n",
       "    .dataframe tbody tr th:only-of-type {\n",
       "        vertical-align: middle;\n",
       "    }\n",
       "\n",
       "    .dataframe tbody tr th {\n",
       "        vertical-align: top;\n",
       "    }\n",
       "\n",
       "    .dataframe thead th {\n",
       "        text-align: right;\n",
       "    }\n",
       "</style>\n",
       "<table border=\"1\" class=\"dataframe\">\n",
       "  <thead>\n",
       "    <tr style=\"text-align: right;\">\n",
       "      <th></th>\n",
       "      <th>user_id</th>\n",
       "      <th>month</th>\n",
       "      <th>message_number</th>\n",
       "    </tr>\n",
       "  </thead>\n",
       "  <tbody>\n",
       "    <tr>\n",
       "      <td>0</td>\n",
       "      <td>1000</td>\n",
       "      <td>5</td>\n",
       "      <td>22</td>\n",
       "    </tr>\n",
       "    <tr>\n",
       "      <td>1</td>\n",
       "      <td>1000</td>\n",
       "      <td>6</td>\n",
       "      <td>60</td>\n",
       "    </tr>\n",
       "    <tr>\n",
       "      <td>2</td>\n",
       "      <td>1000</td>\n",
       "      <td>7</td>\n",
       "      <td>75</td>\n",
       "    </tr>\n",
       "    <tr>\n",
       "      <td>3</td>\n",
       "      <td>1000</td>\n",
       "      <td>8</td>\n",
       "      <td>81</td>\n",
       "    </tr>\n",
       "    <tr>\n",
       "      <td>4</td>\n",
       "      <td>1000</td>\n",
       "      <td>9</td>\n",
       "      <td>57</td>\n",
       "    </tr>\n",
       "  </tbody>\n",
       "</table>\n",
       "</div>"
      ],
      "text/plain": [
       "   user_id  month  message_number\n",
       "0     1000      5              22\n",
       "1     1000      6              60\n",
       "2     1000      7              75\n",
       "3     1000      8              81\n",
       "4     1000      9              57"
      ]
     },
     "execution_count": 117,
     "metadata": {},
     "output_type": "execute_result"
    }
   ],
   "source": [
    "users_messages.head()"
   ]
  },
  {
   "cell_type": "markdown",
   "metadata": {},
   "source": [
    "### Объем израсходованного интернет-трафика"
   ]
  },
  {
   "cell_type": "markdown",
   "metadata": {},
   "source": [
    "Также рассчитаем объем израсходованного интернет-трафика. При расчете необходимо перевести мегабайти в гигабайты, так как именно в них будут проводиться дальнейшие расчеты."
   ]
  },
  {
   "cell_type": "code",
   "execution_count": 45,
   "metadata": {},
   "outputs": [],
   "source": [
    "users_internet = internet.pivot_table(index=['user_id', pd.DatetimeIndex(internet['session_date']).month],\n",
    "                                      values='mb_used',\n",
    "                                      aggfunc=lambda x: sum(x)/MB_IN_GB).reset_index()\n",
    "users_internet.columns = ['user_id', 'month', 'gb_used']"
   ]
  },
  {
   "cell_type": "code",
   "execution_count": 46,
   "metadata": {
    "scrolled": true
   },
   "outputs": [
    {
     "data": {
      "text/html": [
       "<div>\n",
       "<style scoped>\n",
       "    .dataframe tbody tr th:only-of-type {\n",
       "        vertical-align: middle;\n",
       "    }\n",
       "\n",
       "    .dataframe tbody tr th {\n",
       "        vertical-align: top;\n",
       "    }\n",
       "\n",
       "    .dataframe thead th {\n",
       "        text-align: right;\n",
       "    }\n",
       "</style>\n",
       "<table border=\"1\" class=\"dataframe\">\n",
       "  <thead>\n",
       "    <tr style=\"text-align: right;\">\n",
       "      <th></th>\n",
       "      <th>user_id</th>\n",
       "      <th>month</th>\n",
       "      <th>gb_used</th>\n",
       "    </tr>\n",
       "  </thead>\n",
       "  <tbody>\n",
       "    <tr>\n",
       "      <td>0</td>\n",
       "      <td>1000</td>\n",
       "      <td>5</td>\n",
       "      <td>2.200674</td>\n",
       "    </tr>\n",
       "    <tr>\n",
       "      <td>1</td>\n",
       "      <td>1000</td>\n",
       "      <td>6</td>\n",
       "      <td>22.689229</td>\n",
       "    </tr>\n",
       "    <tr>\n",
       "      <td>2</td>\n",
       "      <td>1000</td>\n",
       "      <td>7</td>\n",
       "      <td>13.675430</td>\n",
       "    </tr>\n",
       "    <tr>\n",
       "      <td>3</td>\n",
       "      <td>1000</td>\n",
       "      <td>8</td>\n",
       "      <td>13.726494</td>\n",
       "    </tr>\n",
       "    <tr>\n",
       "      <td>4</td>\n",
       "      <td>1000</td>\n",
       "      <td>9</td>\n",
       "      <td>14.227451</td>\n",
       "    </tr>\n",
       "  </tbody>\n",
       "</table>\n",
       "</div>"
      ],
      "text/plain": [
       "   user_id  month    gb_used\n",
       "0     1000      5   2.200674\n",
       "1     1000      6  22.689229\n",
       "2     1000      7  13.675430\n",
       "3     1000      8  13.726494\n",
       "4     1000      9  14.227451"
      ]
     },
     "execution_count": 46,
     "metadata": {},
     "output_type": "execute_result"
    }
   ],
   "source": [
    "users_internet.head()"
   ]
  },
  {
   "cell_type": "markdown",
   "metadata": {},
   "source": [
    "### Помесячная выручка с каждого пользователя"
   ]
  },
  {
   "cell_type": "markdown",
   "metadata": {},
   "source": [
    "Для расчета помесячной выручки соберем все данные в одну таблицу."
   ]
  },
  {
   "cell_type": "code",
   "execution_count": 183,
   "metadata": {},
   "outputs": [],
   "source": [
    "users_total = users_calls.merge(\n",
    "    users_messages, on=['user_id', 'month'], how='outer')"
   ]
  },
  {
   "cell_type": "code",
   "execution_count": 184,
   "metadata": {},
   "outputs": [],
   "source": [
    "users_total = users_total.merge(\n",
    "    users_internet, on=['user_id', 'month'], how='outer')"
   ]
  },
  {
   "cell_type": "code",
   "execution_count": 185,
   "metadata": {},
   "outputs": [],
   "source": [
    "users_total = users_total.merge(users, on='user_id', how='outer')"
   ]
  },
  {
   "cell_type": "markdown",
   "metadata": {},
   "source": [
    "Проверим, правильно ли прошло присоединение. Сравним суммарное количество минут разговора, сообщений и траффика в исходных таблицах и в финальной."
   ]
  },
  {
   "cell_type": "code",
   "execution_count": 186,
   "metadata": {},
   "outputs": [
    {
     "name": "stdout",
     "output_type": "stream",
     "text": [
      "Объединение прошло успешно\n"
     ]
    }
   ],
   "source": [
    "if (users_total['call_duration'].sum() == calls['duration'].sum() and\n",
    "    users_total['message_number'].sum() == messages['id'].count() and\n",
    "        users_total['gb_used'].sum() == (internet['mb_used'].sum()/MB_IN_GB)):\n",
    "    print('Объединение прошло успешно')\n",
    "else:\n",
    "    print('объединение прошло с ошибкой!')"
   ]
  },
  {
   "cell_type": "markdown",
   "metadata": {},
   "source": [
    "Удалим неважные для анализа столбцы."
   ]
  },
  {
   "cell_type": "code",
   "execution_count": 187,
   "metadata": {},
   "outputs": [],
   "source": [
    "users_total.drop(['age', 'first_name', 'last_name', ],\n",
    "                 axis='columns', inplace=True)"
   ]
  },
  {
   "cell_type": "code",
   "execution_count": 188,
   "metadata": {
    "scrolled": true
   },
   "outputs": [
    {
     "data": {
      "text/html": [
       "<div>\n",
       "<style scoped>\n",
       "    .dataframe tbody tr th:only-of-type {\n",
       "        vertical-align: middle;\n",
       "    }\n",
       "\n",
       "    .dataframe tbody tr th {\n",
       "        vertical-align: top;\n",
       "    }\n",
       "\n",
       "    .dataframe thead th {\n",
       "        text-align: right;\n",
       "    }\n",
       "</style>\n",
       "<table border=\"1\" class=\"dataframe\">\n",
       "  <thead>\n",
       "    <tr style=\"text-align: right;\">\n",
       "      <th></th>\n",
       "      <th>user_id</th>\n",
       "      <th>month</th>\n",
       "      <th>call_number</th>\n",
       "      <th>call_duration</th>\n",
       "      <th>message_number</th>\n",
       "      <th>gb_used</th>\n",
       "      <th>churn_date</th>\n",
       "      <th>city</th>\n",
       "      <th>reg_date</th>\n",
       "      <th>tariff_name</th>\n",
       "    </tr>\n",
       "  </thead>\n",
       "  <tbody>\n",
       "    <tr>\n",
       "      <td>0</td>\n",
       "      <td>1000</td>\n",
       "      <td>5.0</td>\n",
       "      <td>22.0</td>\n",
       "      <td>159.0</td>\n",
       "      <td>22.0</td>\n",
       "      <td>2.200674</td>\n",
       "      <td>2018-12-31</td>\n",
       "      <td>Краснодар</td>\n",
       "      <td>2018-05-25</td>\n",
       "      <td>ultra</td>\n",
       "    </tr>\n",
       "    <tr>\n",
       "      <td>1</td>\n",
       "      <td>1000</td>\n",
       "      <td>6.0</td>\n",
       "      <td>43.0</td>\n",
       "      <td>172.0</td>\n",
       "      <td>60.0</td>\n",
       "      <td>22.689229</td>\n",
       "      <td>2018-12-31</td>\n",
       "      <td>Краснодар</td>\n",
       "      <td>2018-05-25</td>\n",
       "      <td>ultra</td>\n",
       "    </tr>\n",
       "    <tr>\n",
       "      <td>2</td>\n",
       "      <td>1000</td>\n",
       "      <td>7.0</td>\n",
       "      <td>47.0</td>\n",
       "      <td>340.0</td>\n",
       "      <td>75.0</td>\n",
       "      <td>13.675430</td>\n",
       "      <td>2018-12-31</td>\n",
       "      <td>Краснодар</td>\n",
       "      <td>2018-05-25</td>\n",
       "      <td>ultra</td>\n",
       "    </tr>\n",
       "    <tr>\n",
       "      <td>3</td>\n",
       "      <td>1000</td>\n",
       "      <td>8.0</td>\n",
       "      <td>52.0</td>\n",
       "      <td>408.0</td>\n",
       "      <td>81.0</td>\n",
       "      <td>13.726494</td>\n",
       "      <td>2018-12-31</td>\n",
       "      <td>Краснодар</td>\n",
       "      <td>2018-05-25</td>\n",
       "      <td>ultra</td>\n",
       "    </tr>\n",
       "    <tr>\n",
       "      <td>4</td>\n",
       "      <td>1000</td>\n",
       "      <td>9.0</td>\n",
       "      <td>58.0</td>\n",
       "      <td>466.0</td>\n",
       "      <td>57.0</td>\n",
       "      <td>14.227451</td>\n",
       "      <td>2018-12-31</td>\n",
       "      <td>Краснодар</td>\n",
       "      <td>2018-05-25</td>\n",
       "      <td>ultra</td>\n",
       "    </tr>\n",
       "  </tbody>\n",
       "</table>\n",
       "</div>"
      ],
      "text/plain": [
       "   user_id  month  call_number  call_duration  message_number    gb_used  \\\n",
       "0     1000    5.0         22.0          159.0            22.0   2.200674   \n",
       "1     1000    6.0         43.0          172.0            60.0  22.689229   \n",
       "2     1000    7.0         47.0          340.0            75.0  13.675430   \n",
       "3     1000    8.0         52.0          408.0            81.0  13.726494   \n",
       "4     1000    9.0         58.0          466.0            57.0  14.227451   \n",
       "\n",
       "   churn_date       city   reg_date tariff_name  \n",
       "0  2018-12-31  Краснодар 2018-05-25       ultra  \n",
       "1  2018-12-31  Краснодар 2018-05-25       ultra  \n",
       "2  2018-12-31  Краснодар 2018-05-25       ultra  \n",
       "3  2018-12-31  Краснодар 2018-05-25       ultra  \n",
       "4  2018-12-31  Краснодар 2018-05-25       ultra  "
      ]
     },
     "execution_count": 188,
     "metadata": {},
     "output_type": "execute_result"
    }
   ],
   "source": [
    "users_total.head()"
   ]
  },
  {
   "cell_type": "markdown",
   "metadata": {},
   "source": [
    "Из-за появления пропущенных значений тип данных меняется на float. Однако в колонке `month` пропущенных значений быть не может. Исследуем эти пропуски."
   ]
  },
  {
   "cell_type": "code",
   "execution_count": 189,
   "metadata": {
    "scrolled": false
   },
   "outputs": [
    {
     "data": {
      "text/html": [
       "<div>\n",
       "<style scoped>\n",
       "    .dataframe tbody tr th:only-of-type {\n",
       "        vertical-align: middle;\n",
       "    }\n",
       "\n",
       "    .dataframe tbody tr th {\n",
       "        vertical-align: top;\n",
       "    }\n",
       "\n",
       "    .dataframe thead th {\n",
       "        text-align: right;\n",
       "    }\n",
       "</style>\n",
       "<table border=\"1\" class=\"dataframe\">\n",
       "  <thead>\n",
       "    <tr style=\"text-align: right;\">\n",
       "      <th></th>\n",
       "      <th>user_id</th>\n",
       "      <th>month</th>\n",
       "      <th>call_number</th>\n",
       "      <th>call_duration</th>\n",
       "      <th>message_number</th>\n",
       "      <th>gb_used</th>\n",
       "      <th>churn_date</th>\n",
       "      <th>city</th>\n",
       "      <th>reg_date</th>\n",
       "      <th>tariff_name</th>\n",
       "    </tr>\n",
       "  </thead>\n",
       "  <tbody>\n",
       "    <tr>\n",
       "      <td>3214</td>\n",
       "      <td>1128</td>\n",
       "      <td>NaN</td>\n",
       "      <td>NaN</td>\n",
       "      <td>NaN</td>\n",
       "      <td>NaN</td>\n",
       "      <td>NaN</td>\n",
       "      <td>2018-12-23</td>\n",
       "      <td>Волжский</td>\n",
       "      <td>2018-12-15</td>\n",
       "      <td>ultra</td>\n",
       "    </tr>\n",
       "    <tr>\n",
       "      <td>3215</td>\n",
       "      <td>1371</td>\n",
       "      <td>NaN</td>\n",
       "      <td>NaN</td>\n",
       "      <td>NaN</td>\n",
       "      <td>NaN</td>\n",
       "      <td>NaN</td>\n",
       "      <td>2018-12-30</td>\n",
       "      <td>Омск</td>\n",
       "      <td>2018-12-25</td>\n",
       "      <td>smart</td>\n",
       "    </tr>\n",
       "  </tbody>\n",
       "</table>\n",
       "</div>"
      ],
      "text/plain": [
       "      user_id  month  call_number  call_duration  message_number  gb_used  \\\n",
       "3214     1128    NaN          NaN            NaN             NaN      NaN   \n",
       "3215     1371    NaN          NaN            NaN             NaN      NaN   \n",
       "\n",
       "      churn_date      city   reg_date tariff_name  \n",
       "3214  2018-12-23  Волжский 2018-12-15       ultra  \n",
       "3215  2018-12-30      Омск 2018-12-25       smart  "
      ]
     },
     "execution_count": 189,
     "metadata": {},
     "output_type": "execute_result"
    }
   ],
   "source": [
    "users_total[users_total['month'].isna()]"
   ]
  },
  {
   "cell_type": "markdown",
   "metadata": {},
   "source": [
    "Два человека подключили тариф, провели на нем несколько дней, не пользуясь никакими услугами,  и затем сразу же отключились. Для анализа они не интересны, поэтому можно удалить их из таблицы."
   ]
  },
  {
   "cell_type": "code",
   "execution_count": 190,
   "metadata": {},
   "outputs": [],
   "source": [
    "users_total.dropna(subset=['month'], inplace=True)"
   ]
  },
  {
   "cell_type": "markdown",
   "metadata": {},
   "source": [
    "Для расчета выручки просоединим к таблице условия тарифов."
   ]
  },
  {
   "cell_type": "code",
   "execution_count": 191,
   "metadata": {},
   "outputs": [],
   "source": [
    "users_total = users_total.merge(tariffs, on='tariff_name', how='outer')"
   ]
  },
  {
   "cell_type": "code",
   "execution_count": 192,
   "metadata": {},
   "outputs": [
    {
     "data": {
      "text/html": [
       "<div>\n",
       "<style scoped>\n",
       "    .dataframe tbody tr th:only-of-type {\n",
       "        vertical-align: middle;\n",
       "    }\n",
       "\n",
       "    .dataframe tbody tr th {\n",
       "        vertical-align: top;\n",
       "    }\n",
       "\n",
       "    .dataframe thead th {\n",
       "        text-align: right;\n",
       "    }\n",
       "</style>\n",
       "<table border=\"1\" class=\"dataframe\">\n",
       "  <thead>\n",
       "    <tr style=\"text-align: right;\">\n",
       "      <th></th>\n",
       "      <th>messages_included</th>\n",
       "      <th>mb_per_month_included</th>\n",
       "      <th>minutes_included</th>\n",
       "      <th>rub_monthly_fee</th>\n",
       "      <th>rub_per_gb</th>\n",
       "      <th>rub_per_message</th>\n",
       "      <th>rub_per_minute</th>\n",
       "      <th>tariff_name</th>\n",
       "    </tr>\n",
       "  </thead>\n",
       "  <tbody>\n",
       "    <tr>\n",
       "      <td>0</td>\n",
       "      <td>50</td>\n",
       "      <td>15360</td>\n",
       "      <td>500</td>\n",
       "      <td>550</td>\n",
       "      <td>200</td>\n",
       "      <td>3</td>\n",
       "      <td>3</td>\n",
       "      <td>smart</td>\n",
       "    </tr>\n",
       "    <tr>\n",
       "      <td>1</td>\n",
       "      <td>1000</td>\n",
       "      <td>30720</td>\n",
       "      <td>3000</td>\n",
       "      <td>1950</td>\n",
       "      <td>150</td>\n",
       "      <td>1</td>\n",
       "      <td>1</td>\n",
       "      <td>ultra</td>\n",
       "    </tr>\n",
       "  </tbody>\n",
       "</table>\n",
       "</div>"
      ],
      "text/plain": [
       "   messages_included  mb_per_month_included  minutes_included  \\\n",
       "0                 50                  15360               500   \n",
       "1               1000                  30720              3000   \n",
       "\n",
       "   rub_monthly_fee  rub_per_gb  rub_per_message  rub_per_minute tariff_name  \n",
       "0              550         200                3               3       smart  \n",
       "1             1950         150                1               1       ultra  "
      ]
     },
     "execution_count": 192,
     "metadata": {},
     "output_type": "execute_result"
    }
   ],
   "source": [
    "tariffs"
   ]
  },
  {
   "cell_type": "code",
   "execution_count": 193,
   "metadata": {},
   "outputs": [
    {
     "data": {
      "text/html": [
       "<div>\n",
       "<style scoped>\n",
       "    .dataframe tbody tr th:only-of-type {\n",
       "        vertical-align: middle;\n",
       "    }\n",
       "\n",
       "    .dataframe tbody tr th {\n",
       "        vertical-align: top;\n",
       "    }\n",
       "\n",
       "    .dataframe thead th {\n",
       "        text-align: right;\n",
       "    }\n",
       "</style>\n",
       "<table border=\"1\" class=\"dataframe\">\n",
       "  <thead>\n",
       "    <tr style=\"text-align: right;\">\n",
       "      <th></th>\n",
       "      <th>user_id</th>\n",
       "      <th>month</th>\n",
       "      <th>call_number</th>\n",
       "      <th>call_duration</th>\n",
       "      <th>message_number</th>\n",
       "      <th>gb_used</th>\n",
       "      <th>churn_date</th>\n",
       "      <th>city</th>\n",
       "      <th>reg_date</th>\n",
       "      <th>tariff_name</th>\n",
       "      <th>messages_included</th>\n",
       "      <th>mb_per_month_included</th>\n",
       "      <th>minutes_included</th>\n",
       "      <th>rub_monthly_fee</th>\n",
       "      <th>rub_per_gb</th>\n",
       "      <th>rub_per_message</th>\n",
       "      <th>rub_per_minute</th>\n",
       "    </tr>\n",
       "  </thead>\n",
       "  <tbody>\n",
       "    <tr>\n",
       "      <td>0</td>\n",
       "      <td>1000</td>\n",
       "      <td>5.0</td>\n",
       "      <td>22.0</td>\n",
       "      <td>159.0</td>\n",
       "      <td>22.0</td>\n",
       "      <td>2.200674</td>\n",
       "      <td>2018-12-31</td>\n",
       "      <td>Краснодар</td>\n",
       "      <td>2018-05-25</td>\n",
       "      <td>ultra</td>\n",
       "      <td>1000</td>\n",
       "      <td>30720</td>\n",
       "      <td>3000</td>\n",
       "      <td>1950</td>\n",
       "      <td>150</td>\n",
       "      <td>1</td>\n",
       "      <td>1</td>\n",
       "    </tr>\n",
       "    <tr>\n",
       "      <td>1</td>\n",
       "      <td>1000</td>\n",
       "      <td>6.0</td>\n",
       "      <td>43.0</td>\n",
       "      <td>172.0</td>\n",
       "      <td>60.0</td>\n",
       "      <td>22.689229</td>\n",
       "      <td>2018-12-31</td>\n",
       "      <td>Краснодар</td>\n",
       "      <td>2018-05-25</td>\n",
       "      <td>ultra</td>\n",
       "      <td>1000</td>\n",
       "      <td>30720</td>\n",
       "      <td>3000</td>\n",
       "      <td>1950</td>\n",
       "      <td>150</td>\n",
       "      <td>1</td>\n",
       "      <td>1</td>\n",
       "    </tr>\n",
       "    <tr>\n",
       "      <td>2</td>\n",
       "      <td>1000</td>\n",
       "      <td>7.0</td>\n",
       "      <td>47.0</td>\n",
       "      <td>340.0</td>\n",
       "      <td>75.0</td>\n",
       "      <td>13.675430</td>\n",
       "      <td>2018-12-31</td>\n",
       "      <td>Краснодар</td>\n",
       "      <td>2018-05-25</td>\n",
       "      <td>ultra</td>\n",
       "      <td>1000</td>\n",
       "      <td>30720</td>\n",
       "      <td>3000</td>\n",
       "      <td>1950</td>\n",
       "      <td>150</td>\n",
       "      <td>1</td>\n",
       "      <td>1</td>\n",
       "    </tr>\n",
       "    <tr>\n",
       "      <td>3</td>\n",
       "      <td>1000</td>\n",
       "      <td>8.0</td>\n",
       "      <td>52.0</td>\n",
       "      <td>408.0</td>\n",
       "      <td>81.0</td>\n",
       "      <td>13.726494</td>\n",
       "      <td>2018-12-31</td>\n",
       "      <td>Краснодар</td>\n",
       "      <td>2018-05-25</td>\n",
       "      <td>ultra</td>\n",
       "      <td>1000</td>\n",
       "      <td>30720</td>\n",
       "      <td>3000</td>\n",
       "      <td>1950</td>\n",
       "      <td>150</td>\n",
       "      <td>1</td>\n",
       "      <td>1</td>\n",
       "    </tr>\n",
       "    <tr>\n",
       "      <td>4</td>\n",
       "      <td>1000</td>\n",
       "      <td>9.0</td>\n",
       "      <td>58.0</td>\n",
       "      <td>466.0</td>\n",
       "      <td>57.0</td>\n",
       "      <td>14.227451</td>\n",
       "      <td>2018-12-31</td>\n",
       "      <td>Краснодар</td>\n",
       "      <td>2018-05-25</td>\n",
       "      <td>ultra</td>\n",
       "      <td>1000</td>\n",
       "      <td>30720</td>\n",
       "      <td>3000</td>\n",
       "      <td>1950</td>\n",
       "      <td>150</td>\n",
       "      <td>1</td>\n",
       "      <td>1</td>\n",
       "    </tr>\n",
       "  </tbody>\n",
       "</table>\n",
       "</div>"
      ],
      "text/plain": [
       "   user_id  month  call_number  call_duration  message_number    gb_used  \\\n",
       "0     1000    5.0         22.0          159.0            22.0   2.200674   \n",
       "1     1000    6.0         43.0          172.0            60.0  22.689229   \n",
       "2     1000    7.0         47.0          340.0            75.0  13.675430   \n",
       "3     1000    8.0         52.0          408.0            81.0  13.726494   \n",
       "4     1000    9.0         58.0          466.0            57.0  14.227451   \n",
       "\n",
       "   churn_date       city   reg_date tariff_name  messages_included  \\\n",
       "0  2018-12-31  Краснодар 2018-05-25       ultra               1000   \n",
       "1  2018-12-31  Краснодар 2018-05-25       ultra               1000   \n",
       "2  2018-12-31  Краснодар 2018-05-25       ultra               1000   \n",
       "3  2018-12-31  Краснодар 2018-05-25       ultra               1000   \n",
       "4  2018-12-31  Краснодар 2018-05-25       ultra               1000   \n",
       "\n",
       "   mb_per_month_included  minutes_included  rub_monthly_fee  rub_per_gb  \\\n",
       "0                  30720              3000             1950         150   \n",
       "1                  30720              3000             1950         150   \n",
       "2                  30720              3000             1950         150   \n",
       "3                  30720              3000             1950         150   \n",
       "4                  30720              3000             1950         150   \n",
       "\n",
       "   rub_per_message  rub_per_minute  \n",
       "0                1               1  \n",
       "1                1               1  \n",
       "2                1               1  \n",
       "3                1               1  \n",
       "4                1               1  "
      ]
     },
     "execution_count": 193,
     "metadata": {},
     "output_type": "execute_result"
    }
   ],
   "source": [
    "users_total.head()"
   ]
  },
  {
   "cell_type": "markdown",
   "metadata": {},
   "source": [
    "Теперь рассчитаем все услуги, оказанные сверх тарифного пакета. \n",
    "\n",
    "Рассчитаем количество минут, вышедшее за рамки тарифа."
   ]
  },
  {
   "cell_type": "code",
   "execution_count": 195,
   "metadata": {},
   "outputs": [],
   "source": [
    "users_total['add_minutes'] = (users_total['call_duration'] -\n",
    "                              users_total['minutes_included']).apply(lambda x: max(x, 0))"
   ]
  },
  {
   "cell_type": "code",
   "execution_count": 132,
   "metadata": {},
   "outputs": [],
   "source": [
    "users_total['add_minutes'].fillna(0, inplace=True)"
   ]
  },
  {
   "cell_type": "code",
   "execution_count": 133,
   "metadata": {},
   "outputs": [
    {
     "data": {
      "text/plain": [
       "0         0.0\n",
       "1         0.0\n",
       "2         0.0\n",
       "3         0.0\n",
       "4         0.0\n",
       "5         0.0\n",
       "6         0.0\n",
       "7         0.0\n",
       "8         0.0\n",
       "9         0.0\n",
       "10        0.0\n",
       "11        0.0\n",
       "12        0.0\n",
       "13        0.0\n",
       "14        0.0\n",
       "15        0.0\n",
       "16        0.0\n",
       "17        0.0\n",
       "18        0.0\n",
       "19        0.0\n",
       "20        0.0\n",
       "21        0.0\n",
       "22        0.0\n",
       "23        0.0\n",
       "24        0.0\n",
       "25        0.0\n",
       "26        0.0\n",
       "27        0.0\n",
       "28        0.0\n",
       "29        0.0\n",
       "30        0.0\n",
       "31        0.0\n",
       "32        0.0\n",
       "33        0.0\n",
       "34        0.0\n",
       "35        0.0\n",
       "36        0.0\n",
       "37        0.0\n",
       "38        0.0\n",
       "39        0.0\n",
       "40        0.0\n",
       "41        0.0\n",
       "42        0.0\n",
       "43        0.0\n",
       "44        0.0\n",
       "45        0.0\n",
       "46        0.0\n",
       "47        0.0\n",
       "48        0.0\n",
       "49        0.0\n",
       "50        0.0\n",
       "51        0.0\n",
       "52        0.0\n",
       "53        0.0\n",
       "54        0.0\n",
       "55        0.0\n",
       "56        0.0\n",
       "57        0.0\n",
       "58        0.0\n",
       "59        0.0\n",
       "60        0.0\n",
       "61        0.0\n",
       "62        0.0\n",
       "63        0.0\n",
       "64        0.0\n",
       "65        0.0\n",
       "66        0.0\n",
       "67        0.0\n",
       "68        0.0\n",
       "69        0.0\n",
       "70        0.0\n",
       "71        0.0\n",
       "72        0.0\n",
       "73        0.0\n",
       "74        0.0\n",
       "75        0.0\n",
       "76        0.0\n",
       "77        0.0\n",
       "78        0.0\n",
       "79        0.0\n",
       "80        0.0\n",
       "81        0.0\n",
       "82        0.0\n",
       "83        0.0\n",
       "84        0.0\n",
       "85        0.0\n",
       "86        0.0\n",
       "87        0.0\n",
       "88        0.0\n",
       "89        0.0\n",
       "90        0.0\n",
       "91        0.0\n",
       "92        0.0\n",
       "93        0.0\n",
       "94        0.0\n",
       "95        0.0\n",
       "96        0.0\n",
       "97        0.0\n",
       "98        0.0\n",
       "99        0.0\n",
       "100       0.0\n",
       "101       0.0\n",
       "102       0.0\n",
       "103       0.0\n",
       "104       0.0\n",
       "105       0.0\n",
       "106       0.0\n",
       "107       0.0\n",
       "108       0.0\n",
       "109       0.0\n",
       "110       0.0\n",
       "111       0.0\n",
       "112       0.0\n",
       "113       0.0\n",
       "114       0.0\n",
       "115       0.0\n",
       "116       0.0\n",
       "117       0.0\n",
       "118       0.0\n",
       "119       0.0\n",
       "120       0.0\n",
       "121       0.0\n",
       "122       0.0\n",
       "123       0.0\n",
       "124       0.0\n",
       "125       0.0\n",
       "126       0.0\n",
       "127       0.0\n",
       "128       0.0\n",
       "129       0.0\n",
       "130       0.0\n",
       "131       0.0\n",
       "132       0.0\n",
       "133       0.0\n",
       "134       0.0\n",
       "135       0.0\n",
       "136       0.0\n",
       "137       0.0\n",
       "138       0.0\n",
       "139       0.0\n",
       "140       0.0\n",
       "141       0.0\n",
       "142       0.0\n",
       "143       0.0\n",
       "144       0.0\n",
       "145       0.0\n",
       "146       0.0\n",
       "147       0.0\n",
       "148       0.0\n",
       "149       0.0\n",
       "150       0.0\n",
       "151       0.0\n",
       "152       0.0\n",
       "153       0.0\n",
       "154       0.0\n",
       "155       0.0\n",
       "156       0.0\n",
       "157       0.0\n",
       "158       0.0\n",
       "159       0.0\n",
       "160       0.0\n",
       "161       0.0\n",
       "162       0.0\n",
       "163       0.0\n",
       "164       0.0\n",
       "165       0.0\n",
       "166       0.0\n",
       "167       0.0\n",
       "168       0.0\n",
       "169       0.0\n",
       "170       0.0\n",
       "171       0.0\n",
       "172       0.0\n",
       "173       0.0\n",
       "174       0.0\n",
       "175       0.0\n",
       "176       0.0\n",
       "177       0.0\n",
       "178       0.0\n",
       "179       0.0\n",
       "180       0.0\n",
       "181       0.0\n",
       "182       0.0\n",
       "183       0.0\n",
       "184       0.0\n",
       "185       0.0\n",
       "186       0.0\n",
       "187       0.0\n",
       "188       0.0\n",
       "189       0.0\n",
       "190       0.0\n",
       "191       0.0\n",
       "192       0.0\n",
       "193       0.0\n",
       "194       0.0\n",
       "195       0.0\n",
       "196       0.0\n",
       "197       0.0\n",
       "198       0.0\n",
       "199       0.0\n",
       "200       0.0\n",
       "201       0.0\n",
       "202       0.0\n",
       "203       0.0\n",
       "204       0.0\n",
       "205       0.0\n",
       "206       0.0\n",
       "207       0.0\n",
       "208       0.0\n",
       "209       0.0\n",
       "210       0.0\n",
       "211       0.0\n",
       "212       0.0\n",
       "213       0.0\n",
       "214       0.0\n",
       "215       0.0\n",
       "216       0.0\n",
       "217       0.0\n",
       "218       0.0\n",
       "219       0.0\n",
       "220       0.0\n",
       "221       0.0\n",
       "222       0.0\n",
       "223       0.0\n",
       "224       0.0\n",
       "225       0.0\n",
       "226       0.0\n",
       "227       0.0\n",
       "228       0.0\n",
       "229       0.0\n",
       "230       0.0\n",
       "231       0.0\n",
       "232       0.0\n",
       "233       0.0\n",
       "234       0.0\n",
       "235       0.0\n",
       "236       0.0\n",
       "237       0.0\n",
       "238       0.0\n",
       "239       0.0\n",
       "240       0.0\n",
       "241       0.0\n",
       "242       0.0\n",
       "243       0.0\n",
       "244       0.0\n",
       "245       0.0\n",
       "246       0.0\n",
       "247       0.0\n",
       "248       0.0\n",
       "249       0.0\n",
       "250       0.0\n",
       "251       0.0\n",
       "252       0.0\n",
       "253       0.0\n",
       "254       0.0\n",
       "255       0.0\n",
       "256       0.0\n",
       "257       0.0\n",
       "258       0.0\n",
       "259       0.0\n",
       "260       0.0\n",
       "261       0.0\n",
       "262       0.0\n",
       "263       0.0\n",
       "264       0.0\n",
       "265       0.0\n",
       "266       0.0\n",
       "267       0.0\n",
       "268       0.0\n",
       "269       0.0\n",
       "270       0.0\n",
       "271       0.0\n",
       "272       0.0\n",
       "273       0.0\n",
       "274       0.0\n",
       "275       0.0\n",
       "276       0.0\n",
       "277       0.0\n",
       "278       0.0\n",
       "279       0.0\n",
       "280       0.0\n",
       "281       0.0\n",
       "282       0.0\n",
       "283       0.0\n",
       "284       0.0\n",
       "285       0.0\n",
       "286       0.0\n",
       "287       0.0\n",
       "288       0.0\n",
       "289       0.0\n",
       "290       0.0\n",
       "291       0.0\n",
       "292       0.0\n",
       "293       0.0\n",
       "294       0.0\n",
       "295       0.0\n",
       "296       0.0\n",
       "297       0.0\n",
       "298       0.0\n",
       "299       0.0\n",
       "300       0.0\n",
       "301       0.0\n",
       "302       0.0\n",
       "303       0.0\n",
       "304       0.0\n",
       "305       0.0\n",
       "306       0.0\n",
       "307       0.0\n",
       "308       0.0\n",
       "309       0.0\n",
       "310       0.0\n",
       "311       0.0\n",
       "312       0.0\n",
       "313       0.0\n",
       "314       0.0\n",
       "315       0.0\n",
       "316       0.0\n",
       "317       0.0\n",
       "318       0.0\n",
       "319       0.0\n",
       "320       0.0\n",
       "321       0.0\n",
       "322       0.0\n",
       "323       0.0\n",
       "324       0.0\n",
       "325       0.0\n",
       "326       0.0\n",
       "327       0.0\n",
       "328       0.0\n",
       "329       0.0\n",
       "330       0.0\n",
       "331       0.0\n",
       "332       0.0\n",
       "333       0.0\n",
       "334       0.0\n",
       "335       0.0\n",
       "336       0.0\n",
       "337       0.0\n",
       "338       0.0\n",
       "339       0.0\n",
       "340       0.0\n",
       "341       0.0\n",
       "342       0.0\n",
       "343       0.0\n",
       "344       0.0\n",
       "345       0.0\n",
       "346       0.0\n",
       "347       0.0\n",
       "348       0.0\n",
       "349       0.0\n",
       "350       0.0\n",
       "351       0.0\n",
       "352       0.0\n",
       "353       0.0\n",
       "354       0.0\n",
       "355       0.0\n",
       "356       0.0\n",
       "357       0.0\n",
       "358       0.0\n",
       "359       0.0\n",
       "360       0.0\n",
       "361       0.0\n",
       "362       0.0\n",
       "363       0.0\n",
       "364       0.0\n",
       "365       0.0\n",
       "366       0.0\n",
       "367       0.0\n",
       "368       0.0\n",
       "369       0.0\n",
       "370       0.0\n",
       "371       0.0\n",
       "372       0.0\n",
       "373       0.0\n",
       "374       0.0\n",
       "375       0.0\n",
       "376       0.0\n",
       "377       0.0\n",
       "378       0.0\n",
       "379       0.0\n",
       "380       0.0\n",
       "381       0.0\n",
       "382       0.0\n",
       "383       0.0\n",
       "384       0.0\n",
       "385       0.0\n",
       "386       0.0\n",
       "387       0.0\n",
       "388       0.0\n",
       "389       0.0\n",
       "390       0.0\n",
       "391       0.0\n",
       "392       0.0\n",
       "393       0.0\n",
       "394       0.0\n",
       "395       0.0\n",
       "396       0.0\n",
       "397       0.0\n",
       "398       0.0\n",
       "399       0.0\n",
       "400       0.0\n",
       "401       0.0\n",
       "402       0.0\n",
       "403       0.0\n",
       "404       0.0\n",
       "405       0.0\n",
       "406       0.0\n",
       "407       0.0\n",
       "408       0.0\n",
       "409       0.0\n",
       "410       0.0\n",
       "411       0.0\n",
       "412       0.0\n",
       "413       0.0\n",
       "414       0.0\n",
       "415       0.0\n",
       "416       0.0\n",
       "417       0.0\n",
       "418       0.0\n",
       "419       0.0\n",
       "420       0.0\n",
       "421       0.0\n",
       "422       0.0\n",
       "423       0.0\n",
       "424       0.0\n",
       "425       0.0\n",
       "426       0.0\n",
       "427       0.0\n",
       "428       0.0\n",
       "429       0.0\n",
       "430       0.0\n",
       "431       0.0\n",
       "432       0.0\n",
       "433       0.0\n",
       "434       0.0\n",
       "435       0.0\n",
       "436       0.0\n",
       "437       0.0\n",
       "438       0.0\n",
       "439       0.0\n",
       "440       0.0\n",
       "441       0.0\n",
       "442       0.0\n",
       "443       0.0\n",
       "444       0.0\n",
       "445       0.0\n",
       "446       0.0\n",
       "447       0.0\n",
       "448       0.0\n",
       "449       0.0\n",
       "450       0.0\n",
       "451       0.0\n",
       "452       0.0\n",
       "453       0.0\n",
       "454       0.0\n",
       "455       0.0\n",
       "456       0.0\n",
       "457       0.0\n",
       "458       0.0\n",
       "459       0.0\n",
       "460       0.0\n",
       "461       0.0\n",
       "462       0.0\n",
       "463       0.0\n",
       "464       0.0\n",
       "465       0.0\n",
       "466       0.0\n",
       "467       0.0\n",
       "468       0.0\n",
       "469       0.0\n",
       "470       0.0\n",
       "471       0.0\n",
       "472       0.0\n",
       "473       0.0\n",
       "474       0.0\n",
       "475       0.0\n",
       "476       0.0\n",
       "477       0.0\n",
       "478       0.0\n",
       "479       0.0\n",
       "480       0.0\n",
       "481       0.0\n",
       "482       0.0\n",
       "483       0.0\n",
       "484       0.0\n",
       "485       0.0\n",
       "486       0.0\n",
       "487       0.0\n",
       "488       0.0\n",
       "489       0.0\n",
       "490       0.0\n",
       "491       0.0\n",
       "492       0.0\n",
       "493       0.0\n",
       "494       0.0\n",
       "495       0.0\n",
       "496       0.0\n",
       "497       0.0\n",
       "498       0.0\n",
       "499       0.0\n",
       "500       0.0\n",
       "501       0.0\n",
       "502       0.0\n",
       "503       0.0\n",
       "504       0.0\n",
       "505       0.0\n",
       "506       0.0\n",
       "507       0.0\n",
       "508       0.0\n",
       "509       0.0\n",
       "510       0.0\n",
       "511       0.0\n",
       "512       0.0\n",
       "513       0.0\n",
       "514       0.0\n",
       "515       0.0\n",
       "516       0.0\n",
       "517       0.0\n",
       "518       0.0\n",
       "519       0.0\n",
       "520       0.0\n",
       "521       0.0\n",
       "522       0.0\n",
       "523       0.0\n",
       "524       0.0\n",
       "525       0.0\n",
       "526       0.0\n",
       "527       0.0\n",
       "528       0.0\n",
       "529       0.0\n",
       "530       0.0\n",
       "531       0.0\n",
       "532       0.0\n",
       "533       0.0\n",
       "534       0.0\n",
       "535       0.0\n",
       "536       0.0\n",
       "537       0.0\n",
       "538       0.0\n",
       "539       0.0\n",
       "540       0.0\n",
       "541       0.0\n",
       "542       0.0\n",
       "543       0.0\n",
       "544       0.0\n",
       "545       0.0\n",
       "546       0.0\n",
       "547       0.0\n",
       "548       0.0\n",
       "549       0.0\n",
       "550       0.0\n",
       "551       0.0\n",
       "552       0.0\n",
       "553       0.0\n",
       "554       0.0\n",
       "555       0.0\n",
       "556       0.0\n",
       "557       0.0\n",
       "558       0.0\n",
       "559       0.0\n",
       "560       0.0\n",
       "561       0.0\n",
       "562       0.0\n",
       "563       0.0\n",
       "564       0.0\n",
       "565       0.0\n",
       "566       0.0\n",
       "567       0.0\n",
       "568       0.0\n",
       "569       0.0\n",
       "570       0.0\n",
       "571       0.0\n",
       "572       0.0\n",
       "573       0.0\n",
       "574       0.0\n",
       "575       0.0\n",
       "576       0.0\n",
       "577       0.0\n",
       "578       0.0\n",
       "579       0.0\n",
       "580       0.0\n",
       "581       0.0\n",
       "582       0.0\n",
       "583       0.0\n",
       "584       0.0\n",
       "585       0.0\n",
       "586       0.0\n",
       "587       0.0\n",
       "588       0.0\n",
       "589       0.0\n",
       "590       0.0\n",
       "591       0.0\n",
       "592       0.0\n",
       "593       0.0\n",
       "594       0.0\n",
       "595       0.0\n",
       "596       0.0\n",
       "597       0.0\n",
       "598       0.0\n",
       "599       0.0\n",
       "600       0.0\n",
       "601       0.0\n",
       "602       0.0\n",
       "603       0.0\n",
       "604       0.0\n",
       "605       0.0\n",
       "606       0.0\n",
       "607       0.0\n",
       "608       0.0\n",
       "609       0.0\n",
       "610       0.0\n",
       "611       0.0\n",
       "612       0.0\n",
       "613       0.0\n",
       "614       0.0\n",
       "615       0.0\n",
       "616       0.0\n",
       "617       0.0\n",
       "618       0.0\n",
       "619       0.0\n",
       "620       0.0\n",
       "621       0.0\n",
       "622       0.0\n",
       "623       0.0\n",
       "624       0.0\n",
       "625       0.0\n",
       "626       0.0\n",
       "627       0.0\n",
       "628       0.0\n",
       "629       0.0\n",
       "630       0.0\n",
       "631       0.0\n",
       "632       0.0\n",
       "633       0.0\n",
       "634       0.0\n",
       "635       0.0\n",
       "636       0.0\n",
       "637       0.0\n",
       "638       0.0\n",
       "639       0.0\n",
       "640       0.0\n",
       "641       0.0\n",
       "642       0.0\n",
       "643       0.0\n",
       "644       0.0\n",
       "645       0.0\n",
       "646       0.0\n",
       "647       0.0\n",
       "648       0.0\n",
       "649       0.0\n",
       "650       0.0\n",
       "651       0.0\n",
       "652       0.0\n",
       "653       0.0\n",
       "654       0.0\n",
       "655       0.0\n",
       "656       0.0\n",
       "657       0.0\n",
       "658       0.0\n",
       "659       0.0\n",
       "660       0.0\n",
       "661       0.0\n",
       "662       0.0\n",
       "663       0.0\n",
       "664       0.0\n",
       "665       0.0\n",
       "666       0.0\n",
       "667       0.0\n",
       "668       0.0\n",
       "669       0.0\n",
       "670       0.0\n",
       "671       0.0\n",
       "672       0.0\n",
       "673       0.0\n",
       "674       0.0\n",
       "675       0.0\n",
       "676       0.0\n",
       "677       0.0\n",
       "678       0.0\n",
       "679       0.0\n",
       "680       0.0\n",
       "681       0.0\n",
       "682       0.0\n",
       "683       0.0\n",
       "684       0.0\n",
       "685       0.0\n",
       "686       0.0\n",
       "687       0.0\n",
       "688       0.0\n",
       "689       0.0\n",
       "690       0.0\n",
       "691       0.0\n",
       "692       0.0\n",
       "693       0.0\n",
       "694       0.0\n",
       "695       0.0\n",
       "696       0.0\n",
       "697       0.0\n",
       "698       0.0\n",
       "699       0.0\n",
       "700       0.0\n",
       "701       0.0\n",
       "702       0.0\n",
       "703       0.0\n",
       "704       0.0\n",
       "705       0.0\n",
       "706       0.0\n",
       "707       0.0\n",
       "708       0.0\n",
       "709       0.0\n",
       "710       0.0\n",
       "711       0.0\n",
       "712       0.0\n",
       "713       0.0\n",
       "714       0.0\n",
       "715       0.0\n",
       "716       0.0\n",
       "717       0.0\n",
       "718       0.0\n",
       "719       0.0\n",
       "720       0.0\n",
       "721       0.0\n",
       "722       0.0\n",
       "723       0.0\n",
       "724       0.0\n",
       "725       0.0\n",
       "726       0.0\n",
       "727       0.0\n",
       "728       0.0\n",
       "729       0.0\n",
       "730       0.0\n",
       "731       0.0\n",
       "732       0.0\n",
       "733       0.0\n",
       "734       0.0\n",
       "735       0.0\n",
       "736       0.0\n",
       "737       0.0\n",
       "738       0.0\n",
       "739       0.0\n",
       "740       0.0\n",
       "741       0.0\n",
       "742       0.0\n",
       "743       0.0\n",
       "744       0.0\n",
       "745       0.0\n",
       "746       0.0\n",
       "747       0.0\n",
       "748       0.0\n",
       "749       0.0\n",
       "750       0.0\n",
       "751       0.0\n",
       "752       0.0\n",
       "753       0.0\n",
       "754       0.0\n",
       "755       0.0\n",
       "756       0.0\n",
       "757       0.0\n",
       "758       0.0\n",
       "759       0.0\n",
       "760       0.0\n",
       "761       0.0\n",
       "762       0.0\n",
       "763       0.0\n",
       "764       0.0\n",
       "765       0.0\n",
       "766       0.0\n",
       "767       0.0\n",
       "768       0.0\n",
       "769       0.0\n",
       "770       0.0\n",
       "771       0.0\n",
       "772       0.0\n",
       "773       0.0\n",
       "774       0.0\n",
       "775       0.0\n",
       "776       0.0\n",
       "777       0.0\n",
       "778       0.0\n",
       "779       0.0\n",
       "780       0.0\n",
       "781       0.0\n",
       "782       0.0\n",
       "783       0.0\n",
       "784       0.0\n",
       "785       0.0\n",
       "786       0.0\n",
       "787       0.0\n",
       "788       0.0\n",
       "789       0.0\n",
       "790       0.0\n",
       "791       0.0\n",
       "792       0.0\n",
       "793       0.0\n",
       "794       0.0\n",
       "795       0.0\n",
       "796       0.0\n",
       "797       0.0\n",
       "798       0.0\n",
       "799       0.0\n",
       "800       0.0\n",
       "801       0.0\n",
       "802       0.0\n",
       "803       0.0\n",
       "804       0.0\n",
       "805       0.0\n",
       "806       0.0\n",
       "807       0.0\n",
       "808       0.0\n",
       "809       0.0\n",
       "810       0.0\n",
       "811       0.0\n",
       "812       0.0\n",
       "813       0.0\n",
       "814       0.0\n",
       "815       0.0\n",
       "816       0.0\n",
       "817       0.0\n",
       "818       0.0\n",
       "819       0.0\n",
       "820       0.0\n",
       "821       0.0\n",
       "822       0.0\n",
       "823       0.0\n",
       "824       0.0\n",
       "825       0.0\n",
       "826       0.0\n",
       "827       0.0\n",
       "828       0.0\n",
       "829       0.0\n",
       "830       0.0\n",
       "831       0.0\n",
       "832       0.0\n",
       "833       0.0\n",
       "834       0.0\n",
       "835       0.0\n",
       "836       0.0\n",
       "837       0.0\n",
       "838       0.0\n",
       "839       0.0\n",
       "840       0.0\n",
       "841       0.0\n",
       "842       0.0\n",
       "843       0.0\n",
       "844       0.0\n",
       "845       0.0\n",
       "846       0.0\n",
       "847       0.0\n",
       "848       0.0\n",
       "849       0.0\n",
       "850       0.0\n",
       "851       0.0\n",
       "852       0.0\n",
       "853       0.0\n",
       "854       0.0\n",
       "855       0.0\n",
       "856       0.0\n",
       "857       0.0\n",
       "858       0.0\n",
       "859       0.0\n",
       "860       0.0\n",
       "861       0.0\n",
       "862       0.0\n",
       "863       0.0\n",
       "864       0.0\n",
       "865       0.0\n",
       "866       0.0\n",
       "867       0.0\n",
       "868       0.0\n",
       "869       0.0\n",
       "870       0.0\n",
       "871       0.0\n",
       "872       0.0\n",
       "873       0.0\n",
       "874       0.0\n",
       "875       0.0\n",
       "876       0.0\n",
       "877       0.0\n",
       "878       0.0\n",
       "879       0.0\n",
       "880       0.0\n",
       "881       0.0\n",
       "882       0.0\n",
       "883       0.0\n",
       "884       0.0\n",
       "885       0.0\n",
       "886       0.0\n",
       "887       0.0\n",
       "888       0.0\n",
       "889       0.0\n",
       "890       0.0\n",
       "891       0.0\n",
       "892       0.0\n",
       "893       0.0\n",
       "894       0.0\n",
       "895       0.0\n",
       "896       0.0\n",
       "897       0.0\n",
       "898       0.0\n",
       "899       0.0\n",
       "900       0.0\n",
       "901       0.0\n",
       "902       0.0\n",
       "903       0.0\n",
       "904       0.0\n",
       "905       0.0\n",
       "906       0.0\n",
       "907       0.0\n",
       "908       0.0\n",
       "909       0.0\n",
       "910       0.0\n",
       "911       0.0\n",
       "912       0.0\n",
       "913       0.0\n",
       "914       0.0\n",
       "915       0.0\n",
       "916       0.0\n",
       "917       0.0\n",
       "918       0.0\n",
       "919       0.0\n",
       "920       0.0\n",
       "921       0.0\n",
       "922       0.0\n",
       "923       0.0\n",
       "924       0.0\n",
       "925       0.0\n",
       "926       0.0\n",
       "927       0.0\n",
       "928       0.0\n",
       "929       0.0\n",
       "930       0.0\n",
       "931       0.0\n",
       "932       0.0\n",
       "933       0.0\n",
       "934       0.0\n",
       "935       0.0\n",
       "936       0.0\n",
       "937       0.0\n",
       "938       0.0\n",
       "939       0.0\n",
       "940       0.0\n",
       "941       0.0\n",
       "942       0.0\n",
       "943       0.0\n",
       "944       0.0\n",
       "945       0.0\n",
       "946       0.0\n",
       "947       0.0\n",
       "948       0.0\n",
       "949       0.0\n",
       "950       0.0\n",
       "951       0.0\n",
       "952       0.0\n",
       "953       0.0\n",
       "954       0.0\n",
       "955       0.0\n",
       "956       0.0\n",
       "957       0.0\n",
       "958       0.0\n",
       "959       0.0\n",
       "960       0.0\n",
       "961       0.0\n",
       "962       0.0\n",
       "963       0.0\n",
       "964       0.0\n",
       "965       0.0\n",
       "966       0.0\n",
       "967       0.0\n",
       "968       0.0\n",
       "969       0.0\n",
       "970       0.0\n",
       "971       0.0\n",
       "972       0.0\n",
       "973       0.0\n",
       "974       0.0\n",
       "975       0.0\n",
       "976       0.0\n",
       "977       0.0\n",
       "978       0.0\n",
       "979       0.0\n",
       "980       0.0\n",
       "981       0.0\n",
       "982       0.0\n",
       "983       0.0\n",
       "984       0.0\n",
       "985       0.0\n",
       "986       0.0\n",
       "987       0.0\n",
       "988       0.0\n",
       "989       0.0\n",
       "990       0.0\n",
       "991       0.0\n",
       "992       0.0\n",
       "993       0.0\n",
       "994       0.0\n",
       "995       0.0\n",
       "996     106.0\n",
       "997     212.0\n",
       "998      95.0\n",
       "999     112.0\n",
       "1000     69.0\n",
       "1001    119.0\n",
       "1002      0.0\n",
       "1003    223.0\n",
       "1004     47.0\n",
       "1005     92.0\n",
       "1006      0.0\n",
       "1007      0.0\n",
       "1008      0.0\n",
       "1009      0.0\n",
       "1010      0.0\n",
       "1011      0.0\n",
       "1012      0.0\n",
       "1013      0.0\n",
       "1014      0.0\n",
       "1015      0.0\n",
       "1016      0.0\n",
       "1017      0.0\n",
       "1018      0.0\n",
       "1019     45.0\n",
       "1020     77.0\n",
       "1021      0.0\n",
       "1022    155.0\n",
       "1023      0.0\n",
       "1024     80.0\n",
       "1025      0.0\n",
       "1026      0.0\n",
       "1027      0.0\n",
       "1028      0.0\n",
       "1029      0.0\n",
       "1030      0.0\n",
       "1031      0.0\n",
       "1032      0.0\n",
       "1033      0.0\n",
       "1034      0.0\n",
       "1035      0.0\n",
       "1036      0.0\n",
       "1037      0.0\n",
       "1038      0.0\n",
       "1039      0.0\n",
       "1040      0.0\n",
       "1041      0.0\n",
       "1042      0.0\n",
       "1043      0.0\n",
       "1044      0.0\n",
       "1045      0.0\n",
       "1046      2.0\n",
       "1047     15.0\n",
       "1048      0.0\n",
       "1049    130.0\n",
       "1050      1.0\n",
       "1051      0.0\n",
       "1052      0.0\n",
       "1053      0.0\n",
       "1054      0.0\n",
       "1055      0.0\n",
       "1056      0.0\n",
       "1057      0.0\n",
       "1058      0.0\n",
       "1059      0.0\n",
       "1060      0.0\n",
       "1061      0.0\n",
       "1062      0.0\n",
       "1063      0.0\n",
       "1064      0.0\n",
       "1065      0.0\n",
       "1066      0.0\n",
       "1067      0.0\n",
       "1068      0.0\n",
       "1069      0.0\n",
       "1070      0.0\n",
       "1071      0.0\n",
       "1072      0.0\n",
       "1073     56.0\n",
       "1074      0.0\n",
       "1075      0.0\n",
       "1076     77.0\n",
       "1077      0.0\n",
       "1078      0.0\n",
       "1079      0.0\n",
       "1080      0.0\n",
       "1081      0.0\n",
       "1082      0.0\n",
       "1083      0.0\n",
       "1084      0.0\n",
       "1085      0.0\n",
       "1086      0.0\n",
       "1087      0.0\n",
       "1088    174.0\n",
       "1089      0.0\n",
       "1090      0.0\n",
       "1091      0.0\n",
       "1092     12.0\n",
       "1093     57.0\n",
       "1094      0.0\n",
       "1095      0.0\n",
       "1096     52.0\n",
       "1097     48.0\n",
       "1098     77.0\n",
       "1099      0.0\n",
       "1100     14.0\n",
       "1101    153.0\n",
       "1102     63.0\n",
       "1103      3.0\n",
       "1104     35.0\n",
       "1105      0.0\n",
       "1106     31.0\n",
       "1107      0.0\n",
       "1108    123.0\n",
       "1109      0.0\n",
       "1110      0.0\n",
       "1111      0.0\n",
       "1112      0.0\n",
       "1113      0.0\n",
       "1114      0.0\n",
       "1115     16.0\n",
       "1116      0.0\n",
       "1117    109.0\n",
       "1118    179.0\n",
       "1119    391.0\n",
       "1120      0.0\n",
       "1121      0.0\n",
       "1122      0.0\n",
       "1123      0.0\n",
       "1124      0.0\n",
       "1125      0.0\n",
       "1126      0.0\n",
       "1127      0.0\n",
       "1128    165.0\n",
       "1129     62.0\n",
       "1130      0.0\n",
       "1131      0.0\n",
       "1132      0.0\n",
       "1133     21.0\n",
       "1134     12.0\n",
       "1135      0.0\n",
       "1136      0.0\n",
       "1137      0.0\n",
       "1138      7.0\n",
       "1139      0.0\n",
       "1140      0.0\n",
       "1141      0.0\n",
       "1142      0.0\n",
       "1143      0.0\n",
       "1144      0.0\n",
       "1145      0.0\n",
       "1146      0.0\n",
       "1147      0.0\n",
       "1148      0.0\n",
       "1149    230.0\n",
       "1150     49.0\n",
       "1151      0.0\n",
       "1152      0.0\n",
       "1153    108.0\n",
       "1154      0.0\n",
       "1155      0.0\n",
       "1156      0.0\n",
       "1157      0.0\n",
       "1158      0.0\n",
       "1159      0.0\n",
       "1160      0.0\n",
       "1161      0.0\n",
       "1162     54.0\n",
       "1163      0.0\n",
       "1164     30.0\n",
       "1165      0.0\n",
       "1166    169.0\n",
       "1167      0.0\n",
       "1168      0.0\n",
       "1169      0.0\n",
       "1170      0.0\n",
       "1171      0.0\n",
       "1172      0.0\n",
       "1173      0.0\n",
       "1174      0.0\n",
       "1175      0.0\n",
       "1176      0.0\n",
       "1177      0.0\n",
       "1178      0.0\n",
       "1179      0.0\n",
       "1180      0.0\n",
       "1181    361.0\n",
       "1182      0.0\n",
       "1183    228.0\n",
       "1184      0.0\n",
       "1185      0.0\n",
       "1186      0.0\n",
       "1187     12.0\n",
       "1188      0.0\n",
       "1189     37.0\n",
       "1190      0.0\n",
       "1191      0.0\n",
       "1192      0.0\n",
       "1193      0.0\n",
       "1194      0.0\n",
       "1195      0.0\n",
       "1196      0.0\n",
       "1197      0.0\n",
       "1198      0.0\n",
       "1199      0.0\n",
       "1200      0.0\n",
       "1201      0.0\n",
       "1202      0.0\n",
       "1203      0.0\n",
       "1204      0.0\n",
       "1205      0.0\n",
       "1206      0.0\n",
       "1207      0.0\n",
       "1208      0.0\n",
       "1209      0.0\n",
       "1210      0.0\n",
       "1211      4.0\n",
       "1212      0.0\n",
       "1213     45.0\n",
       "1214     55.0\n",
       "1215      0.0\n",
       "1216    262.0\n",
       "1217    322.0\n",
       "1218      0.0\n",
       "1219     17.0\n",
       "1220      0.0\n",
       "1221      0.0\n",
       "1222      0.0\n",
       "1223      0.0\n",
       "1224      0.0\n",
       "1225    206.0\n",
       "1226    316.0\n",
       "1227    406.0\n",
       "1228    182.0\n",
       "1229    359.0\n",
       "1230      0.0\n",
       "1231     64.0\n",
       "1232    237.0\n",
       "1233     27.0\n",
       "1234    127.0\n",
       "1235    105.0\n",
       "1236    172.0\n",
       "1237    208.0\n",
       "1238    154.0\n",
       "1239     95.0\n",
       "1240     51.0\n",
       "1241      0.0\n",
       "1242     58.0\n",
       "1243      0.0\n",
       "1244      0.0\n",
       "1245     18.0\n",
       "1246      0.0\n",
       "1247      0.0\n",
       "1248      0.0\n",
       "1249      0.0\n",
       "1250      0.0\n",
       "1251     97.0\n",
       "1252      0.0\n",
       "1253      0.0\n",
       "1254      0.0\n",
       "1255      0.0\n",
       "1256      0.0\n",
       "1257      0.0\n",
       "1258      0.0\n",
       "1259     57.0\n",
       "1260    220.0\n",
       "1261    201.0\n",
       "1262      0.0\n",
       "1263    171.0\n",
       "1264    205.0\n",
       "1265    127.0\n",
       "1266    221.0\n",
       "1267    224.0\n",
       "1268     66.0\n",
       "1269     86.0\n",
       "1270    226.0\n",
       "1271      0.0\n",
       "1272    139.0\n",
       "1273     63.0\n",
       "1274     88.0\n",
       "1275    268.0\n",
       "1276      0.0\n",
       "1277      0.0\n",
       "1278      0.0\n",
       "1279      0.0\n",
       "1280      0.0\n",
       "1281      0.0\n",
       "1282      0.0\n",
       "1283      0.0\n",
       "1284      0.0\n",
       "1285      0.0\n",
       "1286      0.0\n",
       "1287      0.0\n",
       "1288      0.0\n",
       "1289      0.0\n",
       "1290      1.0\n",
       "1291     61.0\n",
       "1292      0.0\n",
       "1293      0.0\n",
       "1294     73.0\n",
       "1295      7.0\n",
       "1296     39.0\n",
       "1297     22.0\n",
       "1298      0.0\n",
       "1299      0.0\n",
       "1300    215.0\n",
       "1301     87.0\n",
       "1302    173.0\n",
       "1303     39.0\n",
       "1304    185.0\n",
       "1305      0.0\n",
       "1306      0.0\n",
       "1307      0.0\n",
       "1308    133.0\n",
       "1309      0.0\n",
       "1310      0.0\n",
       "1311     54.0\n",
       "1312      0.0\n",
       "1313      0.0\n",
       "1314      0.0\n",
       "1315      0.0\n",
       "1316    122.0\n",
       "1317     64.0\n",
       "1318     75.0\n",
       "1319      0.0\n",
       "1320     16.0\n",
       "1321      0.0\n",
       "1322      0.0\n",
       "1323     14.0\n",
       "1324      0.0\n",
       "1325      0.0\n",
       "1326      0.0\n",
       "1327      0.0\n",
       "1328      0.0\n",
       "1329      0.0\n",
       "1330      0.0\n",
       "1331      0.0\n",
       "1332      0.0\n",
       "1333      0.0\n",
       "1334      0.0\n",
       "1335      0.0\n",
       "1336      0.0\n",
       "1337     54.0\n",
       "1338      0.0\n",
       "1339      0.0\n",
       "1340    117.0\n",
       "1341      0.0\n",
       "1342    101.0\n",
       "1343     17.0\n",
       "1344      0.0\n",
       "1345      0.0\n",
       "1346      0.0\n",
       "1347      0.0\n",
       "1348     33.0\n",
       "1349     80.0\n",
       "1350      0.0\n",
       "1351     32.0\n",
       "1352      0.0\n",
       "1353      0.0\n",
       "1354      0.0\n",
       "1355      0.0\n",
       "1356     29.0\n",
       "1357     28.0\n",
       "1358     24.0\n",
       "1359     98.0\n",
       "1360     41.0\n",
       "1361     67.0\n",
       "1362      0.0\n",
       "1363    186.0\n",
       "1364    284.0\n",
       "1365      0.0\n",
       "1366    107.0\n",
       "1367     92.0\n",
       "1368    153.0\n",
       "1369    103.0\n",
       "1370      0.0\n",
       "1371     60.0\n",
       "1372     78.0\n",
       "1373      0.0\n",
       "1374      0.0\n",
       "1375      0.0\n",
       "1376      0.0\n",
       "1377      0.0\n",
       "1378     42.0\n",
       "1379      0.0\n",
       "1380      5.0\n",
       "1381     48.0\n",
       "1382     49.0\n",
       "1383    110.0\n",
       "1384      0.0\n",
       "1385      0.0\n",
       "1386      0.0\n",
       "1387      0.0\n",
       "1388     29.0\n",
       "1389     66.0\n",
       "1390      9.0\n",
       "1391     61.0\n",
       "1392     10.0\n",
       "1393     10.0\n",
       "1394      0.0\n",
       "1395      0.0\n",
       "1396      0.0\n",
       "1397      0.0\n",
       "1398      0.0\n",
       "1399      0.0\n",
       "1400      0.0\n",
       "1401      0.0\n",
       "1402      0.0\n",
       "1403      0.0\n",
       "1404      0.0\n",
       "1405      0.0\n",
       "1406      0.0\n",
       "1407      0.0\n",
       "1408      0.0\n",
       "1409      0.0\n",
       "1410      0.0\n",
       "1411      0.0\n",
       "1412    100.0\n",
       "1413    356.0\n",
       "1414    325.0\n",
       "1415    289.0\n",
       "1416    343.0\n",
       "1417    430.0\n",
       "1418     40.0\n",
       "1419      0.0\n",
       "1420      0.0\n",
       "1421      0.0\n",
       "1422      0.0\n",
       "1423     95.0\n",
       "1424     40.0\n",
       "1425     88.0\n",
       "1426     29.0\n",
       "1427    137.0\n",
       "1428      0.0\n",
       "1429     53.0\n",
       "1430     30.0\n",
       "1431     78.0\n",
       "1432      0.0\n",
       "1433     44.0\n",
       "1434     35.0\n",
       "1435     38.0\n",
       "1436     75.0\n",
       "1437     30.0\n",
       "1438    117.0\n",
       "1439    223.0\n",
       "1440      0.0\n",
       "1441     38.0\n",
       "1442      0.0\n",
       "1443     68.0\n",
       "1444     40.0\n",
       "1445      0.0\n",
       "1446    106.0\n",
       "1447      0.0\n",
       "1448      0.0\n",
       "1449      0.0\n",
       "1450      0.0\n",
       "1451      0.0\n",
       "1452      0.0\n",
       "1453      0.0\n",
       "1454      0.0\n",
       "1455      0.0\n",
       "1456      0.0\n",
       "1457      0.0\n",
       "1458      0.0\n",
       "1459      0.0\n",
       "1460      0.0\n",
       "1461      0.0\n",
       "1462      0.0\n",
       "1463      0.0\n",
       "1464      0.0\n",
       "1465     22.0\n",
       "1466      4.0\n",
       "1467      0.0\n",
       "1468    169.0\n",
       "1469      0.0\n",
       "1470      0.0\n",
       "1471      0.0\n",
       "1472      0.0\n",
       "1473     20.0\n",
       "1474      0.0\n",
       "1475      0.0\n",
       "1476      0.0\n",
       "1477      0.0\n",
       "1478      0.0\n",
       "1479      0.0\n",
       "1480     32.0\n",
       "1481      0.0\n",
       "1482     49.0\n",
       "1483      0.0\n",
       "1484     44.0\n",
       "1485      0.0\n",
       "1486     43.0\n",
       "1487     30.0\n",
       "1488    285.0\n",
       "1489      1.0\n",
       "1490    128.0\n",
       "1491    192.0\n",
       "1492    154.0\n",
       "1493    138.0\n",
       "1494     61.0\n",
       "1495    173.0\n",
       "1496    210.0\n",
       "1497      0.0\n",
       "1498      0.0\n",
       "1499      0.0\n",
       "1500      0.0\n",
       "1501      0.0\n",
       "1502      0.0\n",
       "1503      0.0\n",
       "1504    128.0\n",
       "1505    152.0\n",
       "1506      0.0\n",
       "1507      0.0\n",
       "1508    122.0\n",
       "1509      0.0\n",
       "1510      0.0\n",
       "1511      0.0\n",
       "1512      0.0\n",
       "1513      0.0\n",
       "1514      0.0\n",
       "1515      0.0\n",
       "1516      0.0\n",
       "1517      0.0\n",
       "1518      0.0\n",
       "1519     47.0\n",
       "1520    252.0\n",
       "1521     82.0\n",
       "1522    181.0\n",
       "1523    339.0\n",
       "1524    247.0\n",
       "1525    266.0\n",
       "1526     81.0\n",
       "1527     67.0\n",
       "1528    126.0\n",
       "1529      0.0\n",
       "1530      0.0\n",
       "1531      0.0\n",
       "1532      0.0\n",
       "1533      0.0\n",
       "1534      0.0\n",
       "1535      0.0\n",
       "1536      0.0\n",
       "1537      0.0\n",
       "1538      0.0\n",
       "1539     84.0\n",
       "1540      9.0\n",
       "1541      0.0\n",
       "1542      0.0\n",
       "1543     13.0\n",
       "1544      0.0\n",
       "1545     31.0\n",
       "1546      0.0\n",
       "1547     85.0\n",
       "1548     46.0\n",
       "1549      0.0\n",
       "1550     61.0\n",
       "1551    204.0\n",
       "1552    173.0\n",
       "1553     91.0\n",
       "1554     48.0\n",
       "1555    264.0\n",
       "1556      0.0\n",
       "1557      0.0\n",
       "1558      0.0\n",
       "1559      0.0\n",
       "1560      0.0\n",
       "1561      0.0\n",
       "1562      0.0\n",
       "1563      0.0\n",
       "1564      0.0\n",
       "1565      0.0\n",
       "1566      0.0\n",
       "1567      0.0\n",
       "1568      0.0\n",
       "1569      0.0\n",
       "1570      0.0\n",
       "1571     21.0\n",
       "1572    148.0\n",
       "1573      0.0\n",
       "1574      0.0\n",
       "1575     83.0\n",
       "1576      0.0\n",
       "1577     77.0\n",
       "1578     80.0\n",
       "1579      0.0\n",
       "1580    171.0\n",
       "1581     67.0\n",
       "1582     44.0\n",
       "1583    109.0\n",
       "1584      0.0\n",
       "1585    190.0\n",
       "1586    148.0\n",
       "1587      0.0\n",
       "1588      0.0\n",
       "1589      0.0\n",
       "1590      0.0\n",
       "1591      0.0\n",
       "1592     18.0\n",
       "1593     43.0\n",
       "1594     27.0\n",
       "1595      0.0\n",
       "1596     49.0\n",
       "1597     96.0\n",
       "1598      0.0\n",
       "1599      0.0\n",
       "1600      0.0\n",
       "1601      0.0\n",
       "1602      0.0\n",
       "1603      0.0\n",
       "1604     64.0\n",
       "1605      0.0\n",
       "1606    154.0\n",
       "1607     35.0\n",
       "1608      0.0\n",
       "1609      0.0\n",
       "1610      0.0\n",
       "1611      0.0\n",
       "1612      0.0\n",
       "1613    205.0\n",
       "1614      0.0\n",
       "1615    359.0\n",
       "1616    201.0\n",
       "1617     62.0\n",
       "1618     26.0\n",
       "1619     27.0\n",
       "1620      0.0\n",
       "1621     72.0\n",
       "1622     71.0\n",
       "1623      0.0\n",
       "1624      0.0\n",
       "1625      0.0\n",
       "1626      0.0\n",
       "1627      3.0\n",
       "1628     15.0\n",
       "1629      0.0\n",
       "1630      0.0\n",
       "1631      0.0\n",
       "1632      0.0\n",
       "1633      0.0\n",
       "1634      0.0\n",
       "1635     41.0\n",
       "1636      0.0\n",
       "1637      0.0\n",
       "1638      0.0\n",
       "1639     16.0\n",
       "1640      0.0\n",
       "1641     23.0\n",
       "1642      0.0\n",
       "1643      0.0\n",
       "1644      8.0\n",
       "1645      0.0\n",
       "1646     20.0\n",
       "1647     23.0\n",
       "1648      0.0\n",
       "1649      0.0\n",
       "1650      0.0\n",
       "1651     24.0\n",
       "1652      0.0\n",
       "1653     32.0\n",
       "1654      0.0\n",
       "1655      0.0\n",
       "1656      0.0\n",
       "1657    134.0\n",
       "1658      0.0\n",
       "1659      0.0\n",
       "1660      0.0\n",
       "1661      0.0\n",
       "1662      0.0\n",
       "1663      0.0\n",
       "1664      0.0\n",
       "1665      0.0\n",
       "1666      0.0\n",
       "1667      0.0\n",
       "1668      0.0\n",
       "1669      0.0\n",
       "1670      0.0\n",
       "1671      0.0\n",
       "1672      0.0\n",
       "1673      0.0\n",
       "1674      0.0\n",
       "1675    124.0\n",
       "1676    148.0\n",
       "1677      0.0\n",
       "1678      0.0\n",
       "1679      0.0\n",
       "1680      0.0\n",
       "1681      0.0\n",
       "1682      0.0\n",
       "1683      0.0\n",
       "1684      0.0\n",
       "1685      0.0\n",
       "1686      0.0\n",
       "1687      0.0\n",
       "1688      0.0\n",
       "1689      0.0\n",
       "1690      0.0\n",
       "1691      0.0\n",
       "1692      3.0\n",
       "1693      0.0\n",
       "1694     54.0\n",
       "1695      0.0\n",
       "1696      0.0\n",
       "1697      0.0\n",
       "1698      0.0\n",
       "1699      0.0\n",
       "1700      0.0\n",
       "1701      0.0\n",
       "1702      0.0\n",
       "1703     40.0\n",
       "1704      0.0\n",
       "1705      0.0\n",
       "1706      0.0\n",
       "1707      0.0\n",
       "1708      0.0\n",
       "1709      0.0\n",
       "1710      0.0\n",
       "1711      0.0\n",
       "1712     46.0\n",
       "1713      0.0\n",
       "1714      0.0\n",
       "1715      0.0\n",
       "1716      0.0\n",
       "1717      0.0\n",
       "1718      0.0\n",
       "1719    234.0\n",
       "1720      0.0\n",
       "1721      0.0\n",
       "1722      0.0\n",
       "1723      0.0\n",
       "1724      0.0\n",
       "1725      0.0\n",
       "1726      0.0\n",
       "1727      0.0\n",
       "1728      0.0\n",
       "1729      0.0\n",
       "1730      0.0\n",
       "1731      0.0\n",
       "1732      0.0\n",
       "1733      0.0\n",
       "1734      0.0\n",
       "1735      0.0\n",
       "1736      0.0\n",
       "1737      0.0\n",
       "1738      0.0\n",
       "1739      0.0\n",
       "1740      0.0\n",
       "1741      0.0\n",
       "1742      0.0\n",
       "1743      0.0\n",
       "1744      0.0\n",
       "1745      0.0\n",
       "1746      0.0\n",
       "1747      0.0\n",
       "1748      0.0\n",
       "1749      0.0\n",
       "1750      0.0\n",
       "1751      0.0\n",
       "1752    203.0\n",
       "1753      0.0\n",
       "1754    194.0\n",
       "1755     72.0\n",
       "1756    146.0\n",
       "1757    179.0\n",
       "1758    140.0\n",
       "1759    247.0\n",
       "1760    156.0\n",
       "1761    215.0\n",
       "1762      0.0\n",
       "1763      0.0\n",
       "1764     41.0\n",
       "1765      0.0\n",
       "1766      0.0\n",
       "1767      0.0\n",
       "1768      0.0\n",
       "1769     37.0\n",
       "1770      0.0\n",
       "1771      0.0\n",
       "1772    255.0\n",
       "1773    500.0\n",
       "1774      0.0\n",
       "1775    341.0\n",
       "1776    311.0\n",
       "1777     99.0\n",
       "1778      0.0\n",
       "1779    145.0\n",
       "1780    166.0\n",
       "1781      1.0\n",
       "1782     30.0\n",
       "1783    285.0\n",
       "1784    104.0\n",
       "1785    112.0\n",
       "1786    212.0\n",
       "1787     19.0\n",
       "1788    103.0\n",
       "1789      0.0\n",
       "1790      0.0\n",
       "1791      0.0\n",
       "1792      0.0\n",
       "1793      0.0\n",
       "1794      0.0\n",
       "1795      0.0\n",
       "1796      0.0\n",
       "1797      0.0\n",
       "1798      0.0\n",
       "1799      0.0\n",
       "1800      0.0\n",
       "1801      0.0\n",
       "1802      0.0\n",
       "1803      0.0\n",
       "1804      0.0\n",
       "1805      0.0\n",
       "1806      0.0\n",
       "1807      0.0\n",
       "1808      0.0\n",
       "1809      0.0\n",
       "1810      0.0\n",
       "1811      0.0\n",
       "1812      0.0\n",
       "1813      0.0\n",
       "1814      0.0\n",
       "1815      0.0\n",
       "1816     70.0\n",
       "1817      0.0\n",
       "1818      0.0\n",
       "1819     32.0\n",
       "1820      0.0\n",
       "1821     61.0\n",
       "1822      0.0\n",
       "1823      0.0\n",
       "1824    111.0\n",
       "1825      0.0\n",
       "1826     32.0\n",
       "1827      0.0\n",
       "1828     79.0\n",
       "1829      0.0\n",
       "1830     52.0\n",
       "1831      0.0\n",
       "1832      0.0\n",
       "1833    131.0\n",
       "1834      0.0\n",
       "1835      0.0\n",
       "1836      0.0\n",
       "1837     79.0\n",
       "1838     36.0\n",
       "1839      0.0\n",
       "1840      0.0\n",
       "1841     64.0\n",
       "1842      0.0\n",
       "1843      0.0\n",
       "1844      0.0\n",
       "1845      0.0\n",
       "1846     46.0\n",
       "1847      0.0\n",
       "1848      1.0\n",
       "1849     73.0\n",
       "1850    106.0\n",
       "1851     89.0\n",
       "1852    113.0\n",
       "1853    168.0\n",
       "1854      0.0\n",
       "1855     69.0\n",
       "1856    159.0\n",
       "1857      0.0\n",
       "1858      0.0\n",
       "1859     60.0\n",
       "1860      0.0\n",
       "1861      0.0\n",
       "1862      0.0\n",
       "1863      0.0\n",
       "1864      0.0\n",
       "1865      0.0\n",
       "1866      0.0\n",
       "1867      0.0\n",
       "1868      0.0\n",
       "1869      0.0\n",
       "1870      0.0\n",
       "1871      0.0\n",
       "1872      0.0\n",
       "1873      0.0\n",
       "1874     50.0\n",
       "1875    217.0\n",
       "1876      0.0\n",
       "1877     68.0\n",
       "1878    113.0\n",
       "1879    142.0\n",
       "1880    115.0\n",
       "1881    129.0\n",
       "1882    251.0\n",
       "1883     55.0\n",
       "1884    196.0\n",
       "1885      0.0\n",
       "1886      0.0\n",
       "1887      0.0\n",
       "1888      0.0\n",
       "1889     23.0\n",
       "1890      0.0\n",
       "1891      0.0\n",
       "1892      0.0\n",
       "1893    112.0\n",
       "1894     51.0\n",
       "1895      0.0\n",
       "1896      0.0\n",
       "1897     18.0\n",
       "1898      0.0\n",
       "1899     42.0\n",
       "1900      0.0\n",
       "1901      0.0\n",
       "1902      0.0\n",
       "1903      0.0\n",
       "1904      0.0\n",
       "1905      0.0\n",
       "1906      0.0\n",
       "1907      0.0\n",
       "1908     39.0\n",
       "1909      0.0\n",
       "1910      0.0\n",
       "1911     37.0\n",
       "1912      0.0\n",
       "1913      0.0\n",
       "1914      0.0\n",
       "1915      0.0\n",
       "1916      0.0\n",
       "1917      0.0\n",
       "1918      0.0\n",
       "1919      0.0\n",
       "1920     11.0\n",
       "1921    175.0\n",
       "1922    390.0\n",
       "1923      0.0\n",
       "1924      0.0\n",
       "1925      0.0\n",
       "1926      0.0\n",
       "1927      0.0\n",
       "1928      0.0\n",
       "1929     50.0\n",
       "1930      0.0\n",
       "1931      0.0\n",
       "1932      0.0\n",
       "1933      0.0\n",
       "1934      0.0\n",
       "1935      0.0\n",
       "1936      0.0\n",
       "1937      0.0\n",
       "1938      0.0\n",
       "1939      0.0\n",
       "1940      0.0\n",
       "1941      0.0\n",
       "1942      0.0\n",
       "1943      0.0\n",
       "1944      0.0\n",
       "1945     30.0\n",
       "1946      0.0\n",
       "1947     80.0\n",
       "1948      0.0\n",
       "1949      0.0\n",
       "1950      0.0\n",
       "1951      0.0\n",
       "1952      0.0\n",
       "1953      0.0\n",
       "1954      0.0\n",
       "1955      0.0\n",
       "1956      0.0\n",
       "1957    104.0\n",
       "1958    180.0\n",
       "1959    102.0\n",
       "1960    121.0\n",
       "1961     22.0\n",
       "1962      0.0\n",
       "1963      0.0\n",
       "1964      0.0\n",
       "1965      0.0\n",
       "1966      0.0\n",
       "1967      0.0\n",
       "1968      0.0\n",
       "1969      0.0\n",
       "1970      0.0\n",
       "1971      0.0\n",
       "1972    195.0\n",
       "1973      0.0\n",
       "1974    115.0\n",
       "1975      0.0\n",
       "1976      0.0\n",
       "1977      0.0\n",
       "1978      0.0\n",
       "1979      0.0\n",
       "1980      0.0\n",
       "1981      0.0\n",
       "1982      0.0\n",
       "1983      0.0\n",
       "1984      0.0\n",
       "1985      0.0\n",
       "1986     67.0\n",
       "1987      0.0\n",
       "1988    935.0\n",
       "1989      0.0\n",
       "1990     56.0\n",
       "1991      0.0\n",
       "1992      0.0\n",
       "1993     19.0\n",
       "1994     59.0\n",
       "1995    100.0\n",
       "1996      0.0\n",
       "1997      0.0\n",
       "1998      0.0\n",
       "1999    107.0\n",
       "2000      0.0\n",
       "2001      0.0\n",
       "2002    117.0\n",
       "2003      0.0\n",
       "2004      0.0\n",
       "2005      0.0\n",
       "2006      0.0\n",
       "2007      0.0\n",
       "2008     24.0\n",
       "2009     18.0\n",
       "2010      0.0\n",
       "2011      0.0\n",
       "2012      0.0\n",
       "2013      8.0\n",
       "2014      0.0\n",
       "2015      0.0\n",
       "2016      0.0\n",
       "2017      0.0\n",
       "2018      0.0\n",
       "2019    266.0\n",
       "2020      0.0\n",
       "2021      0.0\n",
       "2022      0.0\n",
       "2023      0.0\n",
       "2024      0.0\n",
       "2025      0.0\n",
       "2026      0.0\n",
       "2027    151.0\n",
       "2028      0.0\n",
       "2029      0.0\n",
       "2030     59.0\n",
       "2031      0.0\n",
       "2032      5.0\n",
       "2033     90.0\n",
       "2034    100.0\n",
       "2035      0.0\n",
       "2036    205.0\n",
       "2037      0.0\n",
       "2038    102.0\n",
       "2039    231.0\n",
       "2040    115.0\n",
       "2041     46.0\n",
       "2042    181.0\n",
       "2043    134.0\n",
       "2044    120.0\n",
       "2045    198.0\n",
       "2046     48.0\n",
       "2047     99.0\n",
       "2048    119.0\n",
       "2049      0.0\n",
       "2050      0.0\n",
       "2051    111.0\n",
       "2052     13.0\n",
       "2053      0.0\n",
       "2054      0.0\n",
       "2055     76.0\n",
       "2056      0.0\n",
       "2057      0.0\n",
       "2058      0.0\n",
       "2059    172.0\n",
       "2060    522.0\n",
       "2061      0.0\n",
       "2062      0.0\n",
       "2063      0.0\n",
       "2064      0.0\n",
       "2065      0.0\n",
       "2066      0.0\n",
       "2067      0.0\n",
       "2068      0.0\n",
       "2069    120.0\n",
       "2070    161.0\n",
       "2071    163.0\n",
       "2072    181.0\n",
       "2073    105.0\n",
       "2074    171.0\n",
       "2075      0.0\n",
       "2076      0.0\n",
       "2077    163.0\n",
       "2078     57.0\n",
       "2079      0.0\n",
       "2080     90.0\n",
       "2081      0.0\n",
       "2082      0.0\n",
       "2083      0.0\n",
       "2084      0.0\n",
       "2085      0.0\n",
       "2086      0.0\n",
       "2087      0.0\n",
       "2088      0.0\n",
       "2089      0.0\n",
       "2090      0.0\n",
       "2091      0.0\n",
       "2092      0.0\n",
       "2093      0.0\n",
       "2094      0.0\n",
       "2095      0.0\n",
       "2096      0.0\n",
       "2097      0.0\n",
       "2098    148.0\n",
       "2099      0.0\n",
       "2100      0.0\n",
       "2101      0.0\n",
       "2102      0.0\n",
       "2103      0.0\n",
       "2104      0.0\n",
       "2105      0.0\n",
       "2106      0.0\n",
       "2107      0.0\n",
       "2108      0.0\n",
       "2109      0.0\n",
       "2110      0.0\n",
       "2111      0.0\n",
       "2112     74.0\n",
       "2113     15.0\n",
       "2114      0.0\n",
       "2115      0.0\n",
       "2116     89.0\n",
       "2117      0.0\n",
       "2118      0.0\n",
       "2119      0.0\n",
       "2120      0.0\n",
       "2121      0.0\n",
       "2122      0.0\n",
       "2123      0.0\n",
       "2124    144.0\n",
       "2125      0.0\n",
       "2126      0.0\n",
       "2127      0.0\n",
       "2128      0.0\n",
       "2129     41.0\n",
       "2130      0.0\n",
       "2131    375.0\n",
       "2132    240.0\n",
       "2133    167.0\n",
       "2134    226.0\n",
       "2135    227.0\n",
       "2136    136.0\n",
       "2137    308.0\n",
       "2138      0.0\n",
       "2139      0.0\n",
       "2140      0.0\n",
       "2141      0.0\n",
       "2142      0.0\n",
       "2143      0.0\n",
       "2144      0.0\n",
       "2145      0.0\n",
       "2146      0.0\n",
       "2147      0.0\n",
       "2148      0.0\n",
       "2149     44.0\n",
       "2150     17.0\n",
       "2151      0.0\n",
       "2152      0.0\n",
       "2153      0.0\n",
       "2154      0.0\n",
       "2155      0.0\n",
       "2156      0.0\n",
       "2157      0.0\n",
       "2158    100.0\n",
       "2159      0.0\n",
       "2160      0.0\n",
       "2161      0.0\n",
       "2162      0.0\n",
       "2163     32.0\n",
       "2164      0.0\n",
       "2165    162.0\n",
       "2166      0.0\n",
       "2167    122.0\n",
       "2168      0.0\n",
       "2169      0.0\n",
       "2170    239.0\n",
       "2171    216.0\n",
       "2172    373.0\n",
       "2173     18.0\n",
       "2174    372.0\n",
       "2175      0.0\n",
       "2176    238.0\n",
       "2177    574.0\n",
       "2178      0.0\n",
       "2179      0.0\n",
       "2180      0.0\n",
       "2181      0.0\n",
       "2182      0.0\n",
       "2183      0.0\n",
       "2184      0.0\n",
       "2185      0.0\n",
       "2186      0.0\n",
       "2187      0.0\n",
       "2188      0.0\n",
       "2189    177.0\n",
       "2190    106.0\n",
       "2191    153.0\n",
       "2192    232.0\n",
       "2193    211.0\n",
       "2194    272.0\n",
       "2195      0.0\n",
       "2196    255.0\n",
       "2197      0.0\n",
       "2198      0.0\n",
       "2199      0.0\n",
       "2200      0.0\n",
       "2201      0.0\n",
       "2202      0.0\n",
       "2203      0.0\n",
       "2204      0.0\n",
       "2205      0.0\n",
       "2206      0.0\n",
       "2207      0.0\n",
       "2208      0.0\n",
       "2209      0.0\n",
       "2210      0.0\n",
       "2211     58.0\n",
       "2212     35.0\n",
       "2213     39.0\n",
       "2214    112.0\n",
       "2215    287.0\n",
       "2216    136.0\n",
       "2217      0.0\n",
       "2218      0.0\n",
       "2219      0.0\n",
       "2220      0.0\n",
       "2221      0.0\n",
       "2222      0.0\n",
       "2223      0.0\n",
       "2224      0.0\n",
       "2225      0.0\n",
       "2226      0.0\n",
       "2227      0.0\n",
       "2228      0.0\n",
       "2229      0.0\n",
       "2230      0.0\n",
       "2231      0.0\n",
       "2232      0.0\n",
       "2233      0.0\n",
       "2234    209.0\n",
       "2235      0.0\n",
       "2236    228.0\n",
       "2237      0.0\n",
       "2238      0.0\n",
       "2239      0.0\n",
       "2240      0.0\n",
       "2241      0.0\n",
       "2242     23.0\n",
       "2243      0.0\n",
       "2244      0.0\n",
       "2245      0.0\n",
       "2246      0.0\n",
       "2247      0.0\n",
       "2248    163.0\n",
       "2249      0.0\n",
       "2250      0.0\n",
       "2251     16.0\n",
       "2252    106.0\n",
       "2253     67.0\n",
       "2254      0.0\n",
       "2255    279.0\n",
       "2256     32.0\n",
       "2257    119.0\n",
       "2258    103.0\n",
       "2259      0.0\n",
       "2260      0.0\n",
       "2261    247.0\n",
       "2262    322.0\n",
       "2263    225.0\n",
       "2264    137.0\n",
       "2265    156.0\n",
       "2266    248.0\n",
       "2267    172.0\n",
       "2268    336.0\n",
       "2269    403.0\n",
       "2270    247.0\n",
       "2271    201.0\n",
       "2272      0.0\n",
       "2273      0.0\n",
       "2274      0.0\n",
       "2275      0.0\n",
       "2276      0.0\n",
       "2277      0.0\n",
       "2278    131.0\n",
       "2279      0.0\n",
       "2280    159.0\n",
       "2281      0.0\n",
       "2282      0.0\n",
       "2283     33.0\n",
       "2284      0.0\n",
       "2285      0.0\n",
       "2286      0.0\n",
       "2287      0.0\n",
       "2288      0.0\n",
       "2289      0.0\n",
       "2290      0.0\n",
       "2291      0.0\n",
       "2292      0.0\n",
       "2293      0.0\n",
       "2294      0.0\n",
       "2295      0.0\n",
       "2296      0.0\n",
       "2297      0.0\n",
       "2298    239.0\n",
       "2299      0.0\n",
       "2300      8.0\n",
       "2301      0.0\n",
       "2302     76.0\n",
       "2303      0.0\n",
       "2304      5.0\n",
       "2305    130.0\n",
       "2306     76.0\n",
       "2307      0.0\n",
       "2308      0.0\n",
       "2309      0.0\n",
       "2310    143.0\n",
       "2311      0.0\n",
       "2312     20.0\n",
       "2313      0.0\n",
       "2314      0.0\n",
       "2315      0.0\n",
       "2316     44.0\n",
       "2317     50.0\n",
       "2318    130.0\n",
       "2319      0.0\n",
       "2320     44.0\n",
       "2321      0.0\n",
       "2322     26.0\n",
       "2323     84.0\n",
       "2324     56.0\n",
       "2325    204.0\n",
       "2326      0.0\n",
       "2327      0.0\n",
       "2328      0.0\n",
       "2329      0.0\n",
       "2330      0.0\n",
       "2331      0.0\n",
       "2332      0.0\n",
       "2333      0.0\n",
       "2334      0.0\n",
       "2335      0.0\n",
       "2336      0.0\n",
       "2337      0.0\n",
       "2338      0.0\n",
       "2339      0.0\n",
       "2340      0.0\n",
       "2341      0.0\n",
       "2342      0.0\n",
       "2343     60.0\n",
       "2344     14.0\n",
       "2345      0.0\n",
       "2346    134.0\n",
       "2347      0.0\n",
       "2348      0.0\n",
       "2349    214.0\n",
       "2350      0.0\n",
       "2351     20.0\n",
       "2352      0.0\n",
       "2353      0.0\n",
       "2354      0.0\n",
       "2355      0.0\n",
       "2356      0.0\n",
       "2357      0.0\n",
       "2358      0.0\n",
       "2359      0.0\n",
       "2360     95.0\n",
       "2361     25.0\n",
       "2362     75.0\n",
       "2363      0.0\n",
       "2364      0.0\n",
       "2365      0.0\n",
       "2366      0.0\n",
       "2367      0.0\n",
       "2368      0.0\n",
       "2369      0.0\n",
       "2370      0.0\n",
       "2371      0.0\n",
       "2372      0.0\n",
       "2373      0.0\n",
       "2374      0.0\n",
       "2375      0.0\n",
       "2376    204.0\n",
       "2377    145.0\n",
       "2378      0.0\n",
       "2379      0.0\n",
       "2380     58.0\n",
       "2381    158.0\n",
       "2382    237.0\n",
       "2383    226.0\n",
       "2384     78.0\n",
       "2385     53.0\n",
       "2386    163.0\n",
       "2387    205.0\n",
       "2388      0.0\n",
       "2389      0.0\n",
       "2390      0.0\n",
       "2391      0.0\n",
       "2392      0.0\n",
       "2393      0.0\n",
       "2394      0.0\n",
       "2395      0.0\n",
       "2396      0.0\n",
       "2397      0.0\n",
       "2398      0.0\n",
       "2399      0.0\n",
       "2400      0.0\n",
       "2401      0.0\n",
       "2402      0.0\n",
       "2403      0.0\n",
       "2404      0.0\n",
       "2405      0.0\n",
       "2406     33.0\n",
       "2407     82.0\n",
       "2408    113.0\n",
       "2409      0.0\n",
       "2410      0.0\n",
       "2411      0.0\n",
       "2412    353.0\n",
       "2413    464.0\n",
       "2414      0.0\n",
       "2415      0.0\n",
       "2416     88.0\n",
       "2417      0.0\n",
       "2418     86.0\n",
       "2419      0.0\n",
       "2420     19.0\n",
       "2421     33.0\n",
       "2422      0.0\n",
       "2423      0.0\n",
       "2424      0.0\n",
       "2425      0.0\n",
       "2426     13.0\n",
       "2427     65.0\n",
       "2428      0.0\n",
       "2429      0.0\n",
       "2430      0.0\n",
       "2431    271.0\n",
       "2432      0.0\n",
       "2433    159.0\n",
       "2434      0.0\n",
       "2435    178.0\n",
       "2436    141.0\n",
       "2437    209.0\n",
       "2438      0.0\n",
       "2439    229.0\n",
       "2440    505.0\n",
       "2441    206.0\n",
       "2442    368.0\n",
       "2443      0.0\n",
       "2444      0.0\n",
       "2445      0.0\n",
       "2446      0.0\n",
       "2447      0.0\n",
       "2448      0.0\n",
       "2449      0.0\n",
       "2450      0.0\n",
       "2451      0.0\n",
       "2452      0.0\n",
       "2453      9.0\n",
       "2454      0.0\n",
       "2455      0.0\n",
       "2456      0.0\n",
       "2457      0.0\n",
       "2458      0.0\n",
       "2459     83.0\n",
       "2460     89.0\n",
       "2461    145.0\n",
       "2462      0.0\n",
       "2463      0.0\n",
       "2464     45.0\n",
       "2465     39.0\n",
       "2466     38.0\n",
       "2467      0.0\n",
       "2468    257.0\n",
       "2469    219.0\n",
       "2470    282.0\n",
       "2471    215.0\n",
       "2472    338.0\n",
       "2473     35.0\n",
       "2474    254.0\n",
       "2475      0.0\n",
       "2476      0.0\n",
       "2477      0.0\n",
       "2478      0.0\n",
       "2479      0.0\n",
       "2480      0.0\n",
       "2481      0.0\n",
       "2482      0.0\n",
       "2483      0.0\n",
       "2484      3.0\n",
       "2485      0.0\n",
       "2486      0.0\n",
       "2487     10.0\n",
       "2488      0.0\n",
       "2489      0.0\n",
       "2490      0.0\n",
       "2491      0.0\n",
       "2492      0.0\n",
       "2493      0.0\n",
       "2494    100.0\n",
       "2495      0.0\n",
       "2496    103.0\n",
       "2497      0.0\n",
       "2498      0.0\n",
       "2499      0.0\n",
       "2500      7.0\n",
       "2501     41.0\n",
       "2502      0.0\n",
       "2503      0.0\n",
       "2504      0.0\n",
       "2505      0.0\n",
       "2506      0.0\n",
       "2507      0.0\n",
       "2508      0.0\n",
       "2509      0.0\n",
       "2510      0.0\n",
       "2511      0.0\n",
       "2512      0.0\n",
       "2513      0.0\n",
       "2514      0.0\n",
       "2515      0.0\n",
       "2516      0.0\n",
       "2517      0.0\n",
       "2518      0.0\n",
       "2519      0.0\n",
       "2520      0.0\n",
       "2521      0.0\n",
       "2522      0.0\n",
       "2523      0.0\n",
       "2524      0.0\n",
       "2525      0.0\n",
       "2526      0.0\n",
       "2527    172.0\n",
       "2528     39.0\n",
       "2529    117.0\n",
       "2530      0.0\n",
       "2531      0.0\n",
       "2532      0.0\n",
       "2533    104.0\n",
       "2534      0.0\n",
       "2535     35.0\n",
       "2536      0.0\n",
       "2537      0.0\n",
       "2538      0.0\n",
       "2539      0.0\n",
       "2540     39.0\n",
       "2541      0.0\n",
       "2542      0.0\n",
       "2543      0.0\n",
       "2544    119.0\n",
       "2545      0.0\n",
       "2546      0.0\n",
       "2547      0.0\n",
       "2548      0.0\n",
       "2549      0.0\n",
       "2550      0.0\n",
       "2551      0.0\n",
       "2552      0.0\n",
       "2553    405.0\n",
       "2554      0.0\n",
       "2555      0.0\n",
       "2556      0.0\n",
       "2557      0.0\n",
       "2558      0.0\n",
       "2559      0.0\n",
       "2560      0.0\n",
       "2561      0.0\n",
       "2562      0.0\n",
       "2563      0.0\n",
       "2564      0.0\n",
       "2565      0.0\n",
       "2566      0.0\n",
       "2567      0.0\n",
       "2568      0.0\n",
       "2569     56.0\n",
       "2570      0.0\n",
       "2571      0.0\n",
       "2572      0.0\n",
       "2573      0.0\n",
       "2574      0.0\n",
       "2575      0.0\n",
       "2576      0.0\n",
       "2577    121.0\n",
       "2578     31.0\n",
       "2579    114.0\n",
       "2580    160.0\n",
       "2581      0.0\n",
       "2582     73.0\n",
       "2583     61.0\n",
       "2584      0.0\n",
       "2585    107.0\n",
       "2586    110.0\n",
       "2587      0.0\n",
       "2588    181.0\n",
       "2589     21.0\n",
       "2590    171.0\n",
       "2591    241.0\n",
       "2592    226.0\n",
       "2593     22.0\n",
       "2594      7.0\n",
       "2595      5.0\n",
       "2596     32.0\n",
       "2597      0.0\n",
       "2598      0.0\n",
       "2599    118.0\n",
       "2600    282.0\n",
       "2601      0.0\n",
       "2602      0.0\n",
       "2603      0.0\n",
       "2604      0.0\n",
       "2605      0.0\n",
       "2606      0.0\n",
       "2607      0.0\n",
       "2608      0.0\n",
       "2609      0.0\n",
       "2610      0.0\n",
       "2611      0.0\n",
       "2612      0.0\n",
       "2613      0.0\n",
       "2614      0.0\n",
       "2615      0.0\n",
       "2616      0.0\n",
       "2617      0.0\n",
       "2618      0.0\n",
       "2619     60.0\n",
       "2620      0.0\n",
       "2621      0.0\n",
       "2622      0.0\n",
       "2623      0.0\n",
       "2624      0.0\n",
       "2625      0.0\n",
       "2626     47.0\n",
       "2627      0.0\n",
       "2628      0.0\n",
       "2629     15.0\n",
       "2630      0.0\n",
       "2631      0.0\n",
       "2632      0.0\n",
       "2633      0.0\n",
       "2634      0.0\n",
       "2635      0.0\n",
       "2636      0.0\n",
       "2637      0.0\n",
       "2638      0.0\n",
       "2639      0.0\n",
       "2640      0.0\n",
       "2641      0.0\n",
       "2642     58.0\n",
       "2643     50.0\n",
       "2644      0.0\n",
       "2645      0.0\n",
       "2646     64.0\n",
       "2647      0.0\n",
       "2648    117.0\n",
       "2649      0.0\n",
       "2650      0.0\n",
       "2651      0.0\n",
       "2652      0.0\n",
       "2653      0.0\n",
       "2654      0.0\n",
       "2655      0.0\n",
       "2656      0.0\n",
       "2657      0.0\n",
       "2658     83.0\n",
       "2659      0.0\n",
       "2660     48.0\n",
       "2661      0.0\n",
       "2662     72.0\n",
       "2663     29.0\n",
       "2664      0.0\n",
       "2665     17.0\n",
       "2666      0.0\n",
       "2667      0.0\n",
       "2668      0.0\n",
       "2669      0.0\n",
       "2670     63.0\n",
       "2671      0.0\n",
       "2672      0.0\n",
       "2673      0.0\n",
       "2674      0.0\n",
       "2675    237.0\n",
       "2676    108.0\n",
       "2677    118.0\n",
       "2678    182.0\n",
       "2679    207.0\n",
       "2680    167.0\n",
       "2681    173.0\n",
       "2682    182.0\n",
       "2683      0.0\n",
       "2684      0.0\n",
       "2685      0.0\n",
       "2686      0.0\n",
       "2687      0.0\n",
       "2688      0.0\n",
       "2689      0.0\n",
       "2690      0.0\n",
       "2691      0.0\n",
       "2692      6.0\n",
       "2693     16.0\n",
       "2694      0.0\n",
       "2695      0.0\n",
       "2696      0.0\n",
       "2697      0.0\n",
       "2698      0.0\n",
       "2699      0.0\n",
       "2700      0.0\n",
       "2701      0.0\n",
       "2702      0.0\n",
       "2703      0.0\n",
       "2704      0.0\n",
       "2705      0.0\n",
       "2706      0.0\n",
       "2707    180.0\n",
       "2708      0.0\n",
       "2709     74.0\n",
       "2710     18.0\n",
       "2711     60.0\n",
       "2712     54.0\n",
       "2713     66.0\n",
       "2714    136.0\n",
       "2715    104.0\n",
       "2716    151.0\n",
       "2717      0.0\n",
       "2718     59.0\n",
       "2719      0.0\n",
       "2720      0.0\n",
       "2721      0.0\n",
       "2722      0.0\n",
       "2723      0.0\n",
       "2724      0.0\n",
       "2725      0.0\n",
       "2726      0.0\n",
       "2727     11.0\n",
       "2728      0.0\n",
       "2729      0.0\n",
       "2730     84.0\n",
       "2731    168.0\n",
       "2732    157.0\n",
       "2733      0.0\n",
       "2734     41.0\n",
       "2735     44.0\n",
       "2736    165.0\n",
       "2737      3.0\n",
       "2738     89.0\n",
       "2739    137.0\n",
       "2740    127.0\n",
       "2741      0.0\n",
       "2742      0.0\n",
       "2743      0.0\n",
       "2744    117.0\n",
       "2745     11.0\n",
       "2746    106.0\n",
       "2747      0.0\n",
       "2748      0.0\n",
       "2749      0.0\n",
       "2750      0.0\n",
       "2751      0.0\n",
       "2752      0.0\n",
       "2753      0.0\n",
       "2754      0.0\n",
       "2755      0.0\n",
       "2756      0.0\n",
       "2757      0.0\n",
       "2758      0.0\n",
       "2759      0.0\n",
       "2760      0.0\n",
       "2761      0.0\n",
       "2762      0.0\n",
       "2763      0.0\n",
       "2764      0.0\n",
       "2765      0.0\n",
       "2766      0.0\n",
       "2767      0.0\n",
       "2768      0.0\n",
       "2769      0.0\n",
       "2770      0.0\n",
       "2771      0.0\n",
       "2772      0.0\n",
       "2773      0.0\n",
       "2774      0.0\n",
       "2775     97.0\n",
       "2776     25.0\n",
       "2777     49.0\n",
       "2778    250.0\n",
       "2779    124.0\n",
       "2780    114.0\n",
       "2781     41.0\n",
       "2782     15.0\n",
       "2783    253.0\n",
       "2784    234.0\n",
       "2785    135.0\n",
       "2786    143.0\n",
       "2787    346.0\n",
       "2788    233.0\n",
       "2789    155.0\n",
       "2790    250.0\n",
       "2791    167.0\n",
       "2792      0.0\n",
       "2793      0.0\n",
       "2794      0.0\n",
       "2795     55.0\n",
       "2796      0.0\n",
       "2797      0.0\n",
       "2798     88.0\n",
       "2799     87.0\n",
       "2800    101.0\n",
       "2801     84.0\n",
       "2802    293.0\n",
       "2803      0.0\n",
       "2804      0.0\n",
       "2805      0.0\n",
       "2806      0.0\n",
       "2807      0.0\n",
       "2808      0.0\n",
       "2809      0.0\n",
       "2810      0.0\n",
       "2811      0.0\n",
       "2812      0.0\n",
       "2813      0.0\n",
       "2814      0.0\n",
       "2815      0.0\n",
       "2816      0.0\n",
       "2817      0.0\n",
       "2818      0.0\n",
       "2819      0.0\n",
       "2820      0.0\n",
       "2821      0.0\n",
       "2822      0.0\n",
       "2823      0.0\n",
       "2824      0.0\n",
       "2825      0.0\n",
       "2826    149.0\n",
       "2827     84.0\n",
       "2828      0.0\n",
       "2829      0.0\n",
       "2830     38.0\n",
       "2831      0.0\n",
       "2832      0.0\n",
       "2833      0.0\n",
       "2834      0.0\n",
       "2835      0.0\n",
       "2836      0.0\n",
       "2837      0.0\n",
       "2838      0.0\n",
       "2839      0.0\n",
       "2840      0.0\n",
       "2841      0.0\n",
       "2842      0.0\n",
       "2843      0.0\n",
       "2844      0.0\n",
       "2845      0.0\n",
       "2846      0.0\n",
       "2847      0.0\n",
       "2848      0.0\n",
       "2849      0.0\n",
       "2850      0.0\n",
       "2851      0.0\n",
       "2852      0.0\n",
       "2853      0.0\n",
       "2854      0.0\n",
       "2855      0.0\n",
       "2856      0.0\n",
       "2857      0.0\n",
       "2858      0.0\n",
       "2859      0.0\n",
       "2860      0.0\n",
       "2861      0.0\n",
       "2862    222.0\n",
       "2863    153.0\n",
       "2864    320.0\n",
       "2865    167.0\n",
       "2866    228.0\n",
       "2867     25.0\n",
       "2868    266.0\n",
       "2869    233.0\n",
       "2870     85.0\n",
       "2871    146.0\n",
       "2872     70.0\n",
       "2873     10.0\n",
       "2874      0.0\n",
       "2875    137.0\n",
       "2876      0.0\n",
       "2877    200.0\n",
       "2878     15.0\n",
       "2879     37.0\n",
       "2880     77.0\n",
       "2881     61.0\n",
       "2882      0.0\n",
       "2883     42.0\n",
       "2884    108.0\n",
       "2885      0.0\n",
       "2886      0.0\n",
       "2887      0.0\n",
       "2888      0.0\n",
       "2889      0.0\n",
       "2890      0.0\n",
       "2891      0.0\n",
       "2892      0.0\n",
       "2893      0.0\n",
       "2894      0.0\n",
       "2895      0.0\n",
       "2896      0.0\n",
       "2897      0.0\n",
       "2898      0.0\n",
       "2899      0.0\n",
       "2900      0.0\n",
       "2901      0.0\n",
       "2902      0.0\n",
       "2903      0.0\n",
       "2904      0.0\n",
       "2905      0.0\n",
       "2906      0.0\n",
       "2907      0.0\n",
       "2908      0.0\n",
       "2909      0.0\n",
       "2910      0.0\n",
       "2911      0.0\n",
       "2912      0.0\n",
       "2913    227.0\n",
       "2914    250.0\n",
       "2915    150.0\n",
       "2916    119.0\n",
       "2917      0.0\n",
       "2918     27.0\n",
       "2919    127.0\n",
       "2920      0.0\n",
       "2921     54.0\n",
       "2922      8.0\n",
       "2923      3.0\n",
       "2924     20.0\n",
       "2925    212.0\n",
       "2926    160.0\n",
       "2927      3.0\n",
       "2928     16.0\n",
       "2929     60.0\n",
       "2930      0.0\n",
       "2931      0.0\n",
       "2932      0.0\n",
       "2933      0.0\n",
       "2934      0.0\n",
       "2935      0.0\n",
       "2936      0.0\n",
       "2937      0.0\n",
       "2938      0.0\n",
       "2939      0.0\n",
       "2940      0.0\n",
       "2941      0.0\n",
       "2942      0.0\n",
       "2943      0.0\n",
       "2944      0.0\n",
       "2945      0.0\n",
       "2946      0.0\n",
       "2947      0.0\n",
       "2948      0.0\n",
       "2949      0.0\n",
       "2950      0.0\n",
       "2951     86.0\n",
       "2952      0.0\n",
       "2953      0.0\n",
       "2954      0.0\n",
       "2955      0.0\n",
       "2956      0.0\n",
       "2957      0.0\n",
       "2958      0.0\n",
       "2959    465.0\n",
       "2960    261.0\n",
       "2961    111.0\n",
       "2962     75.0\n",
       "2963    131.0\n",
       "2964      8.0\n",
       "2965      0.0\n",
       "2966      0.0\n",
       "2967      0.0\n",
       "2968    142.0\n",
       "2969      0.0\n",
       "2970      0.0\n",
       "2971    152.0\n",
       "2972    144.0\n",
       "2973    250.0\n",
       "2974      0.0\n",
       "2975      0.0\n",
       "2976     26.0\n",
       "2977      0.0\n",
       "2978      0.0\n",
       "2979     47.0\n",
       "2980    155.0\n",
       "2981     32.0\n",
       "2982    148.0\n",
       "2983     76.0\n",
       "2984      0.0\n",
       "2985      0.0\n",
       "2986      0.0\n",
       "2987      0.0\n",
       "2988    343.0\n",
       "2989    279.0\n",
       "2990    229.0\n",
       "2991    644.0\n",
       "2992      0.0\n",
       "2993      0.0\n",
       "2994      0.0\n",
       "2995     19.0\n",
       "2996     20.0\n",
       "2997      0.0\n",
       "2998     43.0\n",
       "2999      0.0\n",
       "3000      0.0\n",
       "3001     14.0\n",
       "3002      0.0\n",
       "3003    256.0\n",
       "3004    389.0\n",
       "3005    389.0\n",
       "3006    430.0\n",
       "3007      0.0\n",
       "3008      0.0\n",
       "3009      0.0\n",
       "3010      0.0\n",
       "3011      0.0\n",
       "3012      0.0\n",
       "3013     16.0\n",
       "3014     15.0\n",
       "3015      6.0\n",
       "3016      0.0\n",
       "3017      0.0\n",
       "3018    162.0\n",
       "3019      0.0\n",
       "3020     34.0\n",
       "3021    256.0\n",
       "3022      0.0\n",
       "3023    113.0\n",
       "3024     37.0\n",
       "3025    111.0\n",
       "3026    211.0\n",
       "3027    454.0\n",
       "3028    171.0\n",
       "3029      0.0\n",
       "3030    433.0\n",
       "3031    378.0\n",
       "3032      0.0\n",
       "3033     29.0\n",
       "3034    194.0\n",
       "3035    116.0\n",
       "3036      0.0\n",
       "3037     85.0\n",
       "3038      0.0\n",
       "3039     42.0\n",
       "3040    131.0\n",
       "3041     97.0\n",
       "3042     55.0\n",
       "3043      0.0\n",
       "3044      0.0\n",
       "3045    109.0\n",
       "3046    160.0\n",
       "3047     54.0\n",
       "3048    136.0\n",
       "3049      0.0\n",
       "3050    236.0\n",
       "3051     92.0\n",
       "3052      0.0\n",
       "3053      0.0\n",
       "3054      0.0\n",
       "3055      0.0\n",
       "3056      0.0\n",
       "3057      0.0\n",
       "3058      0.0\n",
       "3059      0.0\n",
       "3060      0.0\n",
       "3061      0.0\n",
       "3062      0.0\n",
       "3063      0.0\n",
       "3064      8.0\n",
       "3065      0.0\n",
       "3066      0.0\n",
       "3067      0.0\n",
       "3068     81.0\n",
       "3069     90.0\n",
       "3070      0.0\n",
       "3071    106.0\n",
       "3072    169.0\n",
       "3073      0.0\n",
       "3074     52.0\n",
       "3075      0.0\n",
       "3076    105.0\n",
       "3077    125.0\n",
       "3078      0.0\n",
       "3079      0.0\n",
       "3080      0.0\n",
       "3081      0.0\n",
       "3082      0.0\n",
       "3083      0.0\n",
       "3084      0.0\n",
       "3085      0.0\n",
       "3086      0.0\n",
       "3087      0.0\n",
       "3088      0.0\n",
       "3089      0.0\n",
       "3090      0.0\n",
       "3091    101.0\n",
       "3092    102.0\n",
       "3093    195.0\n",
       "3094    297.0\n",
       "3095    251.0\n",
       "3096    208.0\n",
       "3097     31.0\n",
       "3098    130.0\n",
       "3099      0.0\n",
       "3100      0.0\n",
       "3101      0.0\n",
       "3102      0.0\n",
       "3103      0.0\n",
       "3104      0.0\n",
       "3105    166.0\n",
       "3106      0.0\n",
       "3107    299.0\n",
       "3108    140.0\n",
       "3109      0.0\n",
       "3110     76.0\n",
       "3111      0.0\n",
       "3112      0.0\n",
       "3113     50.0\n",
       "3114      0.0\n",
       "3115      0.0\n",
       "3116      0.0\n",
       "3117     47.0\n",
       "3118      0.0\n",
       "3119      0.0\n",
       "3120      0.0\n",
       "3121      0.0\n",
       "3122      0.0\n",
       "3123      0.0\n",
       "3124      0.0\n",
       "3125      0.0\n",
       "3126      0.0\n",
       "3127      0.0\n",
       "3128      0.0\n",
       "3129      0.0\n",
       "3130      0.0\n",
       "3131      0.0\n",
       "3132      0.0\n",
       "3133      0.0\n",
       "3134      0.0\n",
       "3135      0.0\n",
       "3136      0.0\n",
       "3137      0.0\n",
       "3138      0.0\n",
       "3139      0.0\n",
       "3140      0.0\n",
       "3141      0.0\n",
       "3142      0.0\n",
       "3143    231.0\n",
       "3144    186.0\n",
       "3145    284.0\n",
       "3146    145.0\n",
       "3147    365.0\n",
       "3148    113.0\n",
       "3149    191.0\n",
       "3150      0.0\n",
       "3151     29.0\n",
       "3152      0.0\n",
       "3153      0.0\n",
       "3154      0.0\n",
       "3155      0.0\n",
       "3156    264.0\n",
       "3157    507.0\n",
       "3158      0.0\n",
       "3159      0.0\n",
       "3160      0.0\n",
       "3161      0.0\n",
       "3162      0.0\n",
       "3163      0.0\n",
       "3164      0.0\n",
       "3165      0.0\n",
       "3166      0.0\n",
       "3167      0.0\n",
       "3168      0.0\n",
       "3169      0.0\n",
       "3170      0.0\n",
       "3171      0.0\n",
       "3172      0.0\n",
       "3173      0.0\n",
       "3174      0.0\n",
       "3175     17.0\n",
       "3176    103.0\n",
       "3177    194.0\n",
       "3178    119.0\n",
       "3179     10.0\n",
       "3180    281.0\n",
       "3181      0.0\n",
       "3182      1.0\n",
       "3183      0.0\n",
       "3184      0.0\n",
       "3185      0.0\n",
       "3186      0.0\n",
       "3187     94.0\n",
       "3188     57.0\n",
       "3189     21.0\n",
       "3190      0.0\n",
       "3191     55.0\n",
       "3192     82.0\n",
       "3193     27.0\n",
       "3194      0.0\n",
       "3195      0.0\n",
       "3196    162.0\n",
       "3197     18.0\n",
       "3198      0.0\n",
       "3199      0.0\n",
       "3200     45.0\n",
       "3201      0.0\n",
       "3202      0.0\n",
       "3203      0.0\n",
       "3204      0.0\n",
       "3205      0.0\n",
       "3206      0.0\n",
       "3207    112.0\n",
       "3208      0.0\n",
       "3209      0.0\n",
       "3210      0.0\n",
       "3211      0.0\n",
       "3212      0.0\n",
       "3213      0.0\n",
       "Name: add_minutes, dtype: float64"
      ]
     },
     "execution_count": 133,
     "metadata": {},
     "output_type": "execute_result"
    }
   ],
   "source": [
    "users_total['add_minutes']"
   ]
  },
  {
   "cell_type": "markdown",
   "metadata": {},
   "source": [
    "Рассчитаем количество сообщений, вышедшее за рамки тарифа."
   ]
  },
  {
   "cell_type": "code",
   "execution_count": 135,
   "metadata": {},
   "outputs": [],
   "source": [
    "users_total['add_messages'] = (users_total['message_number'] -\n",
    "                               users_total['messages_included']).apply(lambda x: max(x, 0))"
   ]
  },
  {
   "cell_type": "code",
   "execution_count": 136,
   "metadata": {},
   "outputs": [],
   "source": [
    "users_total['add_messages'].fillna(0, inplace=True)"
   ]
  },
  {
   "cell_type": "markdown",
   "metadata": {},
   "source": [
    "Рассчитаем количество гигабайт, вышедшее за рамки тарифа. Округлим в большую сторону, так как оплата берется за 1 гигабайт."
   ]
  },
  {
   "cell_type": "code",
   "execution_count": 137,
   "metadata": {},
   "outputs": [],
   "source": [
    "users_total['add_gb'] = (np.ceil(users_total['gb_used'] -\n",
    "                                 (users_total['mb_per_month_included'] / MB_IN_GB))).apply(lambda x: max(x, 0))"
   ]
  },
  {
   "cell_type": "code",
   "execution_count": 138,
   "metadata": {},
   "outputs": [],
   "source": [
    "users_total['add_gb'].fillna(0, inplace=True)"
   ]
  },
  {
   "cell_type": "markdown",
   "metadata": {},
   "source": [
    "Расчитаем выручку"
   ]
  },
  {
   "cell_type": "code",
   "execution_count": 139,
   "metadata": {},
   "outputs": [],
   "source": [
    "users_total['total_price'] = (users_total['add_minutes'] * users_total['rub_per_minute']\n",
    "                              + users_total['add_messages'] *\n",
    "                              users_total['rub_per_message']\n",
    "                              + users_total['add_gb'] *\n",
    "                              users_total['rub_per_gb']\n",
    "                              + users_total['rub_monthly_fee'])"
   ]
  },
  {
   "cell_type": "code",
   "execution_count": 140,
   "metadata": {},
   "outputs": [
    {
     "data": {
      "text/html": [
       "<div>\n",
       "<style scoped>\n",
       "    .dataframe tbody tr th:only-of-type {\n",
       "        vertical-align: middle;\n",
       "    }\n",
       "\n",
       "    .dataframe tbody tr th {\n",
       "        vertical-align: top;\n",
       "    }\n",
       "\n",
       "    .dataframe thead th {\n",
       "        text-align: right;\n",
       "    }\n",
       "</style>\n",
       "<table border=\"1\" class=\"dataframe\">\n",
       "  <thead>\n",
       "    <tr style=\"text-align: right;\">\n",
       "      <th></th>\n",
       "      <th>user_id</th>\n",
       "      <th>month</th>\n",
       "      <th>call_number</th>\n",
       "      <th>call_duration</th>\n",
       "      <th>message_number</th>\n",
       "      <th>gb_used</th>\n",
       "      <th>churn_date</th>\n",
       "      <th>city</th>\n",
       "      <th>reg_date</th>\n",
       "      <th>tariff_name</th>\n",
       "      <th>messages_included</th>\n",
       "      <th>mb_per_month_included</th>\n",
       "      <th>minutes_included</th>\n",
       "      <th>rub_monthly_fee</th>\n",
       "      <th>rub_per_gb</th>\n",
       "      <th>rub_per_message</th>\n",
       "      <th>rub_per_minute</th>\n",
       "      <th>add_minutes</th>\n",
       "      <th>add_messages</th>\n",
       "      <th>add_gb</th>\n",
       "      <th>total_price</th>\n",
       "    </tr>\n",
       "  </thead>\n",
       "  <tbody>\n",
       "    <tr>\n",
       "      <td>0</td>\n",
       "      <td>1000</td>\n",
       "      <td>5.0</td>\n",
       "      <td>22.0</td>\n",
       "      <td>159.0</td>\n",
       "      <td>22.0</td>\n",
       "      <td>2.200674</td>\n",
       "      <td>2018-12-31</td>\n",
       "      <td>Краснодар</td>\n",
       "      <td>2018-05-25</td>\n",
       "      <td>ultra</td>\n",
       "      <td>1000</td>\n",
       "      <td>30720</td>\n",
       "      <td>3000</td>\n",
       "      <td>1950</td>\n",
       "      <td>150</td>\n",
       "      <td>1</td>\n",
       "      <td>1</td>\n",
       "      <td>0.0</td>\n",
       "      <td>0.0</td>\n",
       "      <td>0.0</td>\n",
       "      <td>1950.0</td>\n",
       "    </tr>\n",
       "    <tr>\n",
       "      <td>1</td>\n",
       "      <td>1000</td>\n",
       "      <td>6.0</td>\n",
       "      <td>43.0</td>\n",
       "      <td>172.0</td>\n",
       "      <td>60.0</td>\n",
       "      <td>22.689229</td>\n",
       "      <td>2018-12-31</td>\n",
       "      <td>Краснодар</td>\n",
       "      <td>2018-05-25</td>\n",
       "      <td>ultra</td>\n",
       "      <td>1000</td>\n",
       "      <td>30720</td>\n",
       "      <td>3000</td>\n",
       "      <td>1950</td>\n",
       "      <td>150</td>\n",
       "      <td>1</td>\n",
       "      <td>1</td>\n",
       "      <td>0.0</td>\n",
       "      <td>0.0</td>\n",
       "      <td>0.0</td>\n",
       "      <td>1950.0</td>\n",
       "    </tr>\n",
       "    <tr>\n",
       "      <td>2</td>\n",
       "      <td>1000</td>\n",
       "      <td>7.0</td>\n",
       "      <td>47.0</td>\n",
       "      <td>340.0</td>\n",
       "      <td>75.0</td>\n",
       "      <td>13.675430</td>\n",
       "      <td>2018-12-31</td>\n",
       "      <td>Краснодар</td>\n",
       "      <td>2018-05-25</td>\n",
       "      <td>ultra</td>\n",
       "      <td>1000</td>\n",
       "      <td>30720</td>\n",
       "      <td>3000</td>\n",
       "      <td>1950</td>\n",
       "      <td>150</td>\n",
       "      <td>1</td>\n",
       "      <td>1</td>\n",
       "      <td>0.0</td>\n",
       "      <td>0.0</td>\n",
       "      <td>0.0</td>\n",
       "      <td>1950.0</td>\n",
       "    </tr>\n",
       "    <tr>\n",
       "      <td>3</td>\n",
       "      <td>1000</td>\n",
       "      <td>8.0</td>\n",
       "      <td>52.0</td>\n",
       "      <td>408.0</td>\n",
       "      <td>81.0</td>\n",
       "      <td>13.726494</td>\n",
       "      <td>2018-12-31</td>\n",
       "      <td>Краснодар</td>\n",
       "      <td>2018-05-25</td>\n",
       "      <td>ultra</td>\n",
       "      <td>1000</td>\n",
       "      <td>30720</td>\n",
       "      <td>3000</td>\n",
       "      <td>1950</td>\n",
       "      <td>150</td>\n",
       "      <td>1</td>\n",
       "      <td>1</td>\n",
       "      <td>0.0</td>\n",
       "      <td>0.0</td>\n",
       "      <td>0.0</td>\n",
       "      <td>1950.0</td>\n",
       "    </tr>\n",
       "    <tr>\n",
       "      <td>4</td>\n",
       "      <td>1000</td>\n",
       "      <td>9.0</td>\n",
       "      <td>58.0</td>\n",
       "      <td>466.0</td>\n",
       "      <td>57.0</td>\n",
       "      <td>14.227451</td>\n",
       "      <td>2018-12-31</td>\n",
       "      <td>Краснодар</td>\n",
       "      <td>2018-05-25</td>\n",
       "      <td>ultra</td>\n",
       "      <td>1000</td>\n",
       "      <td>30720</td>\n",
       "      <td>3000</td>\n",
       "      <td>1950</td>\n",
       "      <td>150</td>\n",
       "      <td>1</td>\n",
       "      <td>1</td>\n",
       "      <td>0.0</td>\n",
       "      <td>0.0</td>\n",
       "      <td>0.0</td>\n",
       "      <td>1950.0</td>\n",
       "    </tr>\n",
       "  </tbody>\n",
       "</table>\n",
       "</div>"
      ],
      "text/plain": [
       "   user_id  month  call_number  call_duration  message_number    gb_used  \\\n",
       "0     1000    5.0         22.0          159.0            22.0   2.200674   \n",
       "1     1000    6.0         43.0          172.0            60.0  22.689229   \n",
       "2     1000    7.0         47.0          340.0            75.0  13.675430   \n",
       "3     1000    8.0         52.0          408.0            81.0  13.726494   \n",
       "4     1000    9.0         58.0          466.0            57.0  14.227451   \n",
       "\n",
       "   churn_date       city   reg_date tariff_name  messages_included  \\\n",
       "0  2018-12-31  Краснодар 2018-05-25       ultra               1000   \n",
       "1  2018-12-31  Краснодар 2018-05-25       ultra               1000   \n",
       "2  2018-12-31  Краснодар 2018-05-25       ultra               1000   \n",
       "3  2018-12-31  Краснодар 2018-05-25       ultra               1000   \n",
       "4  2018-12-31  Краснодар 2018-05-25       ultra               1000   \n",
       "\n",
       "   mb_per_month_included  minutes_included  rub_monthly_fee  rub_per_gb  \\\n",
       "0                  30720              3000             1950         150   \n",
       "1                  30720              3000             1950         150   \n",
       "2                  30720              3000             1950         150   \n",
       "3                  30720              3000             1950         150   \n",
       "4                  30720              3000             1950         150   \n",
       "\n",
       "   rub_per_message  rub_per_minute  add_minutes  add_messages  add_gb  \\\n",
       "0                1               1          0.0           0.0     0.0   \n",
       "1                1               1          0.0           0.0     0.0   \n",
       "2                1               1          0.0           0.0     0.0   \n",
       "3                1               1          0.0           0.0     0.0   \n",
       "4                1               1          0.0           0.0     0.0   \n",
       "\n",
       "   total_price  \n",
       "0       1950.0  \n",
       "1       1950.0  \n",
       "2       1950.0  \n",
       "3       1950.0  \n",
       "4       1950.0  "
      ]
     },
     "execution_count": 140,
     "metadata": {},
     "output_type": "execute_result"
    }
   ],
   "source": [
    "users_total.head()"
   ]
  },
  {
   "cell_type": "code",
   "execution_count": 141,
   "metadata": {
    "scrolled": false
   },
   "outputs": [
    {
     "data": {
      "text/html": [
       "<div>\n",
       "<style scoped>\n",
       "    .dataframe tbody tr th:only-of-type {\n",
       "        vertical-align: middle;\n",
       "    }\n",
       "\n",
       "    .dataframe tbody tr th {\n",
       "        vertical-align: top;\n",
       "    }\n",
       "\n",
       "    .dataframe thead th {\n",
       "        text-align: right;\n",
       "    }\n",
       "</style>\n",
       "<table border=\"1\" class=\"dataframe\">\n",
       "  <thead>\n",
       "    <tr style=\"text-align: right;\">\n",
       "      <th></th>\n",
       "      <th>user_id</th>\n",
       "      <th>month</th>\n",
       "      <th>call_number</th>\n",
       "      <th>call_duration</th>\n",
       "      <th>message_number</th>\n",
       "      <th>gb_used</th>\n",
       "      <th>churn_date</th>\n",
       "      <th>city</th>\n",
       "      <th>reg_date</th>\n",
       "      <th>tariff_name</th>\n",
       "      <th>messages_included</th>\n",
       "      <th>mb_per_month_included</th>\n",
       "      <th>minutes_included</th>\n",
       "      <th>rub_monthly_fee</th>\n",
       "      <th>rub_per_gb</th>\n",
       "      <th>rub_per_message</th>\n",
       "      <th>rub_per_minute</th>\n",
       "      <th>add_minutes</th>\n",
       "      <th>add_messages</th>\n",
       "      <th>add_gb</th>\n",
       "      <th>total_price</th>\n",
       "    </tr>\n",
       "  </thead>\n",
       "  <tbody>\n",
       "    <tr>\n",
       "      <td>3209</td>\n",
       "      <td>1489</td>\n",
       "      <td>8.0</td>\n",
       "      <td>NaN</td>\n",
       "      <td>NaN</td>\n",
       "      <td>17.0</td>\n",
       "      <td>10.791562</td>\n",
       "      <td>2018-12-31</td>\n",
       "      <td>Санкт-Петербург</td>\n",
       "      <td>2018-08-15</td>\n",
       "      <td>smart</td>\n",
       "      <td>50</td>\n",
       "      <td>15360</td>\n",
       "      <td>500</td>\n",
       "      <td>550</td>\n",
       "      <td>200</td>\n",
       "      <td>3</td>\n",
       "      <td>3</td>\n",
       "      <td>0.0</td>\n",
       "      <td>0.0</td>\n",
       "      <td>0.0</td>\n",
       "      <td>550.0</td>\n",
       "    </tr>\n",
       "    <tr>\n",
       "      <td>3210</td>\n",
       "      <td>1489</td>\n",
       "      <td>9.0</td>\n",
       "      <td>NaN</td>\n",
       "      <td>NaN</td>\n",
       "      <td>32.0</td>\n",
       "      <td>16.803027</td>\n",
       "      <td>2018-12-31</td>\n",
       "      <td>Санкт-Петербург</td>\n",
       "      <td>2018-08-15</td>\n",
       "      <td>smart</td>\n",
       "      <td>50</td>\n",
       "      <td>15360</td>\n",
       "      <td>500</td>\n",
       "      <td>550</td>\n",
       "      <td>200</td>\n",
       "      <td>3</td>\n",
       "      <td>3</td>\n",
       "      <td>0.0</td>\n",
       "      <td>0.0</td>\n",
       "      <td>2.0</td>\n",
       "      <td>950.0</td>\n",
       "    </tr>\n",
       "    <tr>\n",
       "      <td>3211</td>\n",
       "      <td>1489</td>\n",
       "      <td>10.0</td>\n",
       "      <td>NaN</td>\n",
       "      <td>NaN</td>\n",
       "      <td>21.0</td>\n",
       "      <td>19.101016</td>\n",
       "      <td>2018-12-31</td>\n",
       "      <td>Санкт-Петербург</td>\n",
       "      <td>2018-08-15</td>\n",
       "      <td>smart</td>\n",
       "      <td>50</td>\n",
       "      <td>15360</td>\n",
       "      <td>500</td>\n",
       "      <td>550</td>\n",
       "      <td>200</td>\n",
       "      <td>3</td>\n",
       "      <td>3</td>\n",
       "      <td>0.0</td>\n",
       "      <td>0.0</td>\n",
       "      <td>5.0</td>\n",
       "      <td>1550.0</td>\n",
       "    </tr>\n",
       "    <tr>\n",
       "      <td>3212</td>\n",
       "      <td>1489</td>\n",
       "      <td>11.0</td>\n",
       "      <td>NaN</td>\n",
       "      <td>NaN</td>\n",
       "      <td>20.0</td>\n",
       "      <td>17.081602</td>\n",
       "      <td>2018-12-31</td>\n",
       "      <td>Санкт-Петербург</td>\n",
       "      <td>2018-08-15</td>\n",
       "      <td>smart</td>\n",
       "      <td>50</td>\n",
       "      <td>15360</td>\n",
       "      <td>500</td>\n",
       "      <td>550</td>\n",
       "      <td>200</td>\n",
       "      <td>3</td>\n",
       "      <td>3</td>\n",
       "      <td>0.0</td>\n",
       "      <td>0.0</td>\n",
       "      <td>3.0</td>\n",
       "      <td>1150.0</td>\n",
       "    </tr>\n",
       "    <tr>\n",
       "      <td>3213</td>\n",
       "      <td>1489</td>\n",
       "      <td>12.0</td>\n",
       "      <td>NaN</td>\n",
       "      <td>NaN</td>\n",
       "      <td>35.0</td>\n",
       "      <td>16.916514</td>\n",
       "      <td>2018-12-31</td>\n",
       "      <td>Санкт-Петербург</td>\n",
       "      <td>2018-08-15</td>\n",
       "      <td>smart</td>\n",
       "      <td>50</td>\n",
       "      <td>15360</td>\n",
       "      <td>500</td>\n",
       "      <td>550</td>\n",
       "      <td>200</td>\n",
       "      <td>3</td>\n",
       "      <td>3</td>\n",
       "      <td>0.0</td>\n",
       "      <td>0.0</td>\n",
       "      <td>2.0</td>\n",
       "      <td>950.0</td>\n",
       "    </tr>\n",
       "  </tbody>\n",
       "</table>\n",
       "</div>"
      ],
      "text/plain": [
       "      user_id  month  call_number  call_duration  message_number    gb_used  \\\n",
       "3209     1489    8.0          NaN            NaN            17.0  10.791562   \n",
       "3210     1489    9.0          NaN            NaN            32.0  16.803027   \n",
       "3211     1489   10.0          NaN            NaN            21.0  19.101016   \n",
       "3212     1489   11.0          NaN            NaN            20.0  17.081602   \n",
       "3213     1489   12.0          NaN            NaN            35.0  16.916514   \n",
       "\n",
       "      churn_date             city   reg_date tariff_name  messages_included  \\\n",
       "3209  2018-12-31  Санкт-Петербург 2018-08-15       smart                 50   \n",
       "3210  2018-12-31  Санкт-Петербург 2018-08-15       smart                 50   \n",
       "3211  2018-12-31  Санкт-Петербург 2018-08-15       smart                 50   \n",
       "3212  2018-12-31  Санкт-Петербург 2018-08-15       smart                 50   \n",
       "3213  2018-12-31  Санкт-Петербург 2018-08-15       smart                 50   \n",
       "\n",
       "      mb_per_month_included  minutes_included  rub_monthly_fee  rub_per_gb  \\\n",
       "3209                  15360               500              550         200   \n",
       "3210                  15360               500              550         200   \n",
       "3211                  15360               500              550         200   \n",
       "3212                  15360               500              550         200   \n",
       "3213                  15360               500              550         200   \n",
       "\n",
       "      rub_per_message  rub_per_minute  add_minutes  add_messages  add_gb  \\\n",
       "3209                3               3          0.0           0.0     0.0   \n",
       "3210                3               3          0.0           0.0     2.0   \n",
       "3211                3               3          0.0           0.0     5.0   \n",
       "3212                3               3          0.0           0.0     3.0   \n",
       "3213                3               3          0.0           0.0     2.0   \n",
       "\n",
       "      total_price  \n",
       "3209        550.0  \n",
       "3210        950.0  \n",
       "3211       1550.0  \n",
       "3212       1150.0  \n",
       "3213        950.0  "
      ]
     },
     "execution_count": 141,
     "metadata": {},
     "output_type": "execute_result"
    }
   ],
   "source": [
    "users_total.tail()"
   ]
  },
  {
   "cell_type": "markdown",
   "metadata": {},
   "source": [
    "### Вывод"
   ]
  },
  {
   "cell_type": "markdown",
   "metadata": {},
   "source": [
    "Мы составили таблицу, в которой для каждого пользователя посчитано количество сделанных звонков и израсходованных минут разговора, количество отправленных сообщений и объем израсходованного интернет-трафика по месяцам, а также помесячная выручка."
   ]
  },
  {
   "cell_type": "markdown",
   "metadata": {},
   "source": [
    "## Анализ данных"
   ]
  },
  {
   "cell_type": "markdown",
   "metadata": {},
   "source": [
    "Опишем поведение клиентов оператора, исходя из выборки. Изучим сколько минут разговора, сколько сообщений и какой объём интернет-трафика требуется пользователям каждого тарифа в месяц. Посчитаем среднее количество, дисперсию и стандартное отклонение. Построим гистограммы и опишем распределения."
   ]
  },
  {
   "cell_type": "markdown",
   "metadata": {},
   "source": [
    "### Подготовка к анализу"
   ]
  },
  {
   "cell_type": "markdown",
   "metadata": {},
   "source": [
    "Удалим из таблицы данные о тарифах, так как они не понядобятся нам для анализа."
   ]
  },
  {
   "cell_type": "code",
   "execution_count": 142,
   "metadata": {},
   "outputs": [],
   "source": [
    "users_total.drop(['messages_included', 'mb_per_month_included',\n",
    "                  'minutes_included', 'rub_monthly_fee', 'rub_per_gb',\n",
    "                  'rub_per_message', 'rub_per_minute'], axis='columns', inplace=True)"
   ]
  },
  {
   "cell_type": "markdown",
   "metadata": {},
   "source": [
    "Разобьем таблицу на две соответственно тарифу. Узнаем размер получившихся выборок, это будет важно в будущем при проверке гипотез."
   ]
  },
  {
   "cell_type": "code",
   "execution_count": 143,
   "metadata": {},
   "outputs": [],
   "source": [
    "data_smart = users_total[users_total['tariff_name'] == 'smart']"
   ]
  },
  {
   "cell_type": "code",
   "execution_count": 144,
   "metadata": {},
   "outputs": [
    {
     "data": {
      "text/plain": [
       "2229"
      ]
     },
     "execution_count": 144,
     "metadata": {},
     "output_type": "execute_result"
    }
   ],
   "source": [
    "len(data_smart)"
   ]
  },
  {
   "cell_type": "code",
   "execution_count": 145,
   "metadata": {},
   "outputs": [],
   "source": [
    "data_ultra = users_total[users_total['tariff_name'] == 'ultra']"
   ]
  },
  {
   "cell_type": "code",
   "execution_count": 146,
   "metadata": {
    "scrolled": true
   },
   "outputs": [
    {
     "data": {
      "text/plain": [
       "985"
      ]
     },
     "execution_count": 146,
     "metadata": {},
     "output_type": "execute_result"
    }
   ],
   "source": [
    "len(data_ultra)"
   ]
  },
  {
   "cell_type": "markdown",
   "metadata": {},
   "source": [
    "У нас получилось две таблицы: smart, с данными пользователей на тарифе Smart, и ultra, с данными пользователей на  тарифе Ultra. Таблица smart содержит 2229 записей о помесячном пользовании тарифом, а таблица ultra - 985. Размеры выборок сильно отличаются, будем учитывать это в дальнейшем."
   ]
  },
  {
   "cell_type": "markdown",
   "metadata": {},
   "source": [
    "Теперь сравним таблицы. Составим сводные таблицы со средними показателями по месяцам:"
   ]
  },
  {
   "cell_type": "code",
   "execution_count": 147,
   "metadata": {},
   "outputs": [],
   "source": [
    "data_smart_mean = data_smart.pivot_table(index='month',\n",
    "                                         values=['call_duration',\n",
    "                                                 'message_number', 'gb_used'],\n",
    "                                         aggfunc='mean')\n",
    "data_ultra_mean = data_ultra.pivot_table(index='month',\n",
    "                                         values=['call_duration',\n",
    "                                                 'message_number', 'gb_used'],\n",
    "                                         aggfunc='mean')"
   ]
  },
  {
   "cell_type": "markdown",
   "metadata": {},
   "source": [
    "Напишем функции для выведения графиков."
   ]
  },
  {
   "cell_type": "code",
   "execution_count": 148,
   "metadata": {},
   "outputs": [],
   "source": [
    "def mean_plot(column, title, smart_limit, ultra_limit=0, ultra_limit_show=False):\n",
    "    \"\"\"\n",
    "    Функция выводит график среднего по месяцам по указанному в колонке column значению.\n",
    "    title - название графика\n",
    "    smart_limit - лимит по исследуемому значению на тарифе Смарт\n",
    "    ultra_limit - лимит по исследуемому значению на тарифе Ультра\n",
    "    ultra_limit_show - необходимо ли показывать лимит по тарифу Ультра\n",
    "    \"\"\"\n",
    "    data_smart_mean[column].plot(style='o-', grid=True,\n",
    "                                 legend=True, label='Смарт',\n",
    "                                 title=title)\n",
    "    data_ultra_mean[column].plot(style='o-', grid=True,\n",
    "                                 legend=True, label='Ультра', figsize=(12, 5))\n",
    "    plt.axhline(smart_limit, c='blue', linestyle='--', alpha=.5)\n",
    "    if ultra_limit_show:\n",
    "        plt.axhline(ultra_limit, c='orange', linestyle='--', alpha=.5)\n",
    "    plt.show()"
   ]
  },
  {
   "cell_type": "code",
   "execution_count": 149,
   "metadata": {},
   "outputs": [],
   "source": [
    "def density_plot(xlabel, text, column):\n",
    "    \"\"\"\n",
    "    Функция выводит график распределения плотности по указанному в колонке column значению.\n",
    "    text - название исследуемого значения в названии графика\n",
    "    xlabel - название оси x\n",
    "    \"\"\"\n",
    "    plt.xlabel(xlabel)\n",
    "    plt.ylabel('плотность распределения')\n",
    "    plt.title('Сопоставление распределения ' + text + ' по тарифам')\n",
    "    sns.kdeplot(data_smart[column], shade=True, label=\"Smart\")\n",
    "    sns.kdeplot(data_ultra[column], shade=True, label=\"Ultra\")\n",
    "    plt.show()"
   ]
  },
  {
   "cell_type": "markdown",
   "metadata": {},
   "source": [
    "### Количество минут в месяц"
   ]
  },
  {
   "cell_type": "markdown",
   "metadata": {},
   "source": [
    "Сравним, какое количество минут тратят в месяц пользователи разных тарифов. Построим график со средним количеством потраченых минут в месяц для каждого тарифа."
   ]
  },
  {
   "cell_type": "code",
   "execution_count": 150,
   "metadata": {
    "scrolled": false
   },
   "outputs": [
    {
     "data": {
      "image/png": "[encoded data removed]",
      "text/plain": [
       "<Figure size 864x360 with 1 Axes>"
      ]
     },
     "metadata": {
      "needs_background": "light"
     },
     "output_type": "display_data"
    }
   ],
   "source": [
    "mean_plot('call_duration', 'Сравнение тарифов по средней потраченных минут', 500)"
   ]
  },
  {
   "cell_type": "markdown",
   "metadata": {},
   "source": [
    "На графике выше синей пунктирной горизонтальной линией отмечен лимит по количеству минут на тарифе Смарт. Мы видим, что пользователи тарифа в среднем укладываются в этот лимит. Лимит на тарифе Ультра составляет 3000 минут, он не выведен на график, так как находится очень высоко от основных линий и очевидно пользователи тарифа Ультра в этот лимит также укладываются. На графике виден тренд на возрастание количества потраченых минут с течением времени. В феврале на тарифе Ультра резкий провал, которого нет на тарифе Смарт - возможно это некорректные данные, либо в феврале у пользователей этого тарифа были какие-то проблемы с обслуживанием."
   ]
  },
  {
   "cell_type": "markdown",
   "metadata": {},
   "source": [
    "Вычислим среднее количество, дисперсию и стандартное отклонение количества потраченных минут по тарифам."
   ]
  },
  {
   "cell_type": "code",
   "execution_count": 151,
   "metadata": {
    "scrolled": false
   },
   "outputs": [
    {
     "data": {
      "text/plain": [
       "count    2223.000000\n",
       "mean      419.062978\n",
       "std       189.325618\n",
       "min         0.000000\n",
       "25%       285.000000\n",
       "50%       423.000000\n",
       "75%       545.500000\n",
       "max      1435.000000\n",
       "Name: call_duration, dtype: float64"
      ]
     },
     "execution_count": 151,
     "metadata": {},
     "output_type": "execute_result"
    }
   ],
   "source": [
    "data_smart['call_duration'].describe()"
   ]
  },
  {
   "cell_type": "code",
   "execution_count": 152,
   "metadata": {
    "scrolled": false
   },
   "outputs": [
    {
     "data": {
      "text/plain": [
       "35844.1895513438"
      ]
     },
     "execution_count": 152,
     "metadata": {},
     "output_type": "execute_result"
    }
   ],
   "source": [
    "np.var(data_smart['call_duration'], ddof=1)"
   ]
  },
  {
   "cell_type": "code",
   "execution_count": 153,
   "metadata": {
    "scrolled": false
   },
   "outputs": [
    {
     "data": {
      "text/plain": [
       "count     951.000000\n",
       "mean      545.451104\n",
       "std       306.925754\n",
       "min         0.000000\n",
       "25%       310.000000\n",
       "50%       528.000000\n",
       "75%       756.500000\n",
       "max      1673.000000\n",
       "Name: call_duration, dtype: float64"
      ]
     },
     "execution_count": 153,
     "metadata": {},
     "output_type": "execute_result"
    }
   ],
   "source": [
    "data_ultra['call_duration'].describe()"
   ]
  },
  {
   "cell_type": "code",
   "execution_count": 154,
   "metadata": {
    "scrolled": false
   },
   "outputs": [
    {
     "data": {
      "text/plain": [
       "94203.41839614812"
      ]
     },
     "execution_count": 154,
     "metadata": {},
     "output_type": "execute_result"
    }
   ],
   "source": [
    "np.var(data_ultra['call_duration'], ddof=1)"
   ]
  },
  {
   "cell_type": "markdown",
   "metadata": {},
   "source": [
    "Длительность разговоров на тарифе Смарт находиться в промежуткке от 0 до 1435 минут, на тарифе Ультра - от 0 до 1673. В среднем на тарифе Смарт пользователи тратят 419 минут в месяц, а на тарифе Ультра - 545. Медианное значение длительности разговора для тарифа Смарт - 423, а для тарифа Ультра - 528, то есть распределение на тарифе Смарт немного скошено влево, а на тарифе Ультра - вправо."
   ]
  },
  {
   "cell_type": "markdown",
   "metadata": {},
   "source": [
    "Теперь построим сравнительный график для плотности распределения длительности разговора в месяц для двух тарифов."
   ]
  },
  {
   "cell_type": "code",
   "execution_count": 155,
   "metadata": {
    "scrolled": true
   },
   "outputs": [
    {
     "data": {
      "image/png": "[encoded data removed]",
      "text/plain": [
       "<Figure size 432x288 with 1 Axes>"
      ]
     },
     "metadata": {
      "needs_background": "light"
     },
     "output_type": "display_data"
    }
   ],
   "source": [
    "density_plot('длительность разговора (минут)',\n",
    "             'длительности разговора', 'call_duration')"
   ]
  },
  {
   "cell_type": "markdown",
   "metadata": {},
   "source": [
    "На графике мы видим, что для пользователей тарифа Смарт более характерно тратить чуть меньше 500 минут в месяц, что является лимитом на этом тарифе, а для пользователей тарифа Ультра - чуть больше 500. Размах значений на тарифе Ультра гораздо больше, чем на тарифе Смарт, что также можно увидеть сравнив диспресию обоих тарифов (35884 и 94203 для тарифа Смарт и Ультра соответственно)."
   ]
  },
  {
   "cell_type": "markdown",
   "metadata": {},
   "source": [
    "### Количество сообщений"
   ]
  },
  {
   "cell_type": "markdown",
   "metadata": {},
   "source": [
    "Сравним количество сообщений в месяц у пользователей разных тарифов. Построим график среднего количества сообщений по месяцам."
   ]
  },
  {
   "cell_type": "code",
   "execution_count": 156,
   "metadata": {
    "scrolled": true
   },
   "outputs": [
    {
     "data": {
      "image/png": "[encoded data removed]",
      "text/plain": [
       "<Figure size 864x360 with 1 Axes>"
      ]
     },
     "metadata": {
      "needs_background": "light"
     },
     "output_type": "display_data"
    }
   ],
   "source": [
    "mean_plot('message_number',\n",
    "          'Сравнение тарифов по среднему количеству сообщений', 50)"
   ]
  },
  {
   "cell_type": "markdown",
   "metadata": {},
   "source": [
    "На графике выше синей пунктирной горизонтальной линией отмечен лимит по количеству сообщений на тарифе Смарт. Мы видим, что пользователи тарифа в среднем укладываются в этот лимит. Лимит на тарифе Ультра составляет 1000 сообщений, он не выведен на график, так как находится очень высоко от основных линий и пользователи тарифа Ультра в этот лимит также укладываются. На графике виден тренд на возрастание количества отправленных сообщений с течением времени, на тарифе Ультра рост более резкий. В феврале на тарифе Ультра резкий провал, которого нет на тарифе Смарт - возможно это некорректные данные, либо в феврале у пользователей этого тарифа были какие-то проблемы с обслуживанием."
   ]
  },
  {
   "cell_type": "markdown",
   "metadata": {},
   "source": [
    "Вычислим среднее количество, дисперсию и стандартное отклонение количества сообщений по тарифам."
   ]
  },
  {
   "cell_type": "code",
   "execution_count": 157,
   "metadata": {
    "scrolled": true
   },
   "outputs": [
    {
     "data": {
      "text/plain": [
       "count    1922.000000\n",
       "mean       38.716441\n",
       "std        26.787949\n",
       "min         1.000000\n",
       "25%        17.000000\n",
       "50%        34.000000\n",
       "75%        55.000000\n",
       "max       143.000000\n",
       "Name: message_number, dtype: float64"
      ]
     },
     "execution_count": 157,
     "metadata": {},
     "output_type": "execute_result"
    }
   ],
   "source": [
    "data_smart['message_number'].describe()"
   ]
  },
  {
   "cell_type": "code",
   "execution_count": 158,
   "metadata": {
    "scrolled": true
   },
   "outputs": [
    {
     "data": {
      "text/plain": [
       "717.5942011753547"
      ]
     },
     "execution_count": 158,
     "metadata": {},
     "output_type": "execute_result"
    }
   ],
   "source": [
    "np.var(data_smart['message_number'], ddof=1)"
   ]
  },
  {
   "cell_type": "code",
   "execution_count": 159,
   "metadata": {
    "scrolled": true
   },
   "outputs": [
    {
     "data": {
      "text/plain": [
       "count    795.000000\n",
       "mean      61.161006\n",
       "std       45.931026\n",
       "min        1.000000\n",
       "25%       24.000000\n",
       "50%       51.000000\n",
       "75%       87.500000\n",
       "max      224.000000\n",
       "Name: message_number, dtype: float64"
      ]
     },
     "execution_count": 159,
     "metadata": {},
     "output_type": "execute_result"
    }
   ],
   "source": [
    "data_ultra['message_number'].describe()"
   ]
  },
  {
   "cell_type": "code",
   "execution_count": 160,
   "metadata": {
    "scrolled": true
   },
   "outputs": [
    {
     "data": {
      "text/plain": [
       "2109.6591828651995"
      ]
     },
     "execution_count": 160,
     "metadata": {},
     "output_type": "execute_result"
    }
   ],
   "source": [
    "np.var(data_ultra['message_number'], ddof=1)"
   ]
  },
  {
   "cell_type": "markdown",
   "metadata": {},
   "source": [
    "Количество сообщений на тарифе Смарт находится в промежутке от 1 до 143, на тарифе Ультра - от 1 до 224. В среднем на тарифе Смарт пользователи отправляют 39 сообщений в месяц, а на тарифе Ультра - 61. Медианное значение количества использованных сообщений для тарифа Смарт - 34, а для тарифа Ультра - 51, то есть распределение на обоих тарифах скошено вправо."
   ]
  },
  {
   "cell_type": "markdown",
   "metadata": {},
   "source": [
    "Теперь построим сравнительный график для плотности распределения количества сообщений в месяц для двух тарифов."
   ]
  },
  {
   "cell_type": "code",
   "execution_count": 161,
   "metadata": {
    "scrolled": true
   },
   "outputs": [
    {
     "data": {
      "image/png": "[encoded data removed]",
      "text/plain": [
       "<Figure size 432x288 with 1 Axes>"
      ]
     },
     "metadata": {
      "needs_background": "light"
     },
     "output_type": "display_data"
    }
   ],
   "source": [
    "density_plot('количество сообщений', 'количества сообщений', 'message_number')"
   ]
  },
  {
   "cell_type": "markdown",
   "metadata": {},
   "source": [
    "На графике мы видим, что для пользователей тарифа Смарт более характерно тратить около 30 сообщений в месяц, а для пользователей тарифа Ультра - чуть больше. Размах значений на тарифе Ультра гораздо больше, чем на тарифе Смарт, что также можно увидеть сравнив диспресию обоих тарифов (718 и 2109 для тарифа Смарт и Ультра соответственно)."
   ]
  },
  {
   "cell_type": "markdown",
   "metadata": {},
   "source": [
    "### Объем интернет-трафика"
   ]
  },
  {
   "cell_type": "markdown",
   "metadata": {},
   "source": [
    "Сравним объем трафика в гигабайтах у пользователей разных тарифов. Построим график среднего количества использованных гигабайт по месяцам."
   ]
  },
  {
   "cell_type": "code",
   "execution_count": 162,
   "metadata": {
    "scrolled": true
   },
   "outputs": [
    {
     "data": {
      "image/png": "[encoded data removed]",
      "text/plain": [
       "<Figure size 864x360 with 1 Axes>"
      ]
     },
     "metadata": {
      "needs_background": "light"
     },
     "output_type": "display_data"
    }
   ],
   "source": [
    "mean_plot('gb_used', 'Сравнение тарифов по среднему трафику', 15360 /\n",
    "          MB_IN_GB, ultra_limit_show=True, ultra_limit=30720 / MB_IN_GB)"
   ]
  },
  {
   "cell_type": "markdown",
   "metadata": {},
   "source": [
    "На графике выше синей пунктирной горизонтальной линией отмечен лимит по количеству сообщений на тарифе Смарт, а оранжевой - на тарифе Ультра. Мы видим, что пользователи обоих тарифов в среднем укладываются в этот лимит. На графике виден тренд на возрастание количества использованного траффика с течением времени. "
   ]
  },
  {
   "cell_type": "code",
   "execution_count": 163,
   "metadata": {
    "scrolled": true
   },
   "outputs": [
    {
     "data": {
      "text/plain": [
       "count    2228.000000\n",
       "mean       15.835607\n",
       "std         5.724352\n",
       "min         0.000000\n",
       "25%        12.352805\n",
       "50%        16.120840\n",
       "75%        19.574016\n",
       "max        37.648877\n",
       "Name: gb_used, dtype: float64"
      ]
     },
     "execution_count": 163,
     "metadata": {},
     "output_type": "execute_result"
    }
   ],
   "source": [
    "data_smart['gb_used'].describe()"
   ]
  },
  {
   "cell_type": "code",
   "execution_count": 164,
   "metadata": {
    "scrolled": true
   },
   "outputs": [
    {
     "data": {
      "text/plain": [
       "32.76820343235317"
      ]
     },
     "execution_count": 164,
     "metadata": {},
     "output_type": "execute_result"
    }
   ],
   "source": [
    "np.var(data_smart['gb_used'], ddof=1)"
   ]
  },
  {
   "cell_type": "code",
   "execution_count": 165,
   "metadata": {
    "scrolled": true
   },
   "outputs": [
    {
     "data": {
      "text/plain": [
       "count    975.000000\n",
       "mean      19.207505\n",
       "std        9.710010\n",
       "min        0.000000\n",
       "25%       11.726860\n",
       "50%       18.939736\n",
       "75%       26.266162\n",
       "max       48.579775\n",
       "Name: gb_used, dtype: float64"
      ]
     },
     "execution_count": 165,
     "metadata": {},
     "output_type": "execute_result"
    }
   ],
   "source": [
    "data_ultra['gb_used'].describe()"
   ]
  },
  {
   "cell_type": "code",
   "execution_count": 166,
   "metadata": {
    "scrolled": true
   },
   "outputs": [
    {
     "data": {
      "text/plain": [
       "94.28429503691821"
      ]
     },
     "execution_count": 166,
     "metadata": {},
     "output_type": "execute_result"
    }
   ],
   "source": [
    "np.var(data_ultra['gb_used'], ddof=1)"
   ]
  },
  {
   "cell_type": "markdown",
   "metadata": {},
   "source": [
    "Объем использованного трафика на тарифе Смарт находится в промежутке от 0 до 38 Гб, на тарифе Ультра - от 0 до 49 Гб. В среднем на тарифе Смарт пользователи используют 16 Гб в месяц, а на тарифе Ультра - 19. Медианное значение количества использованных гигабайт для тарифа Смарт - 16, а для тарифа Ультра - 19, то есть распределение на обоих тарифах практически симметрично."
   ]
  },
  {
   "cell_type": "markdown",
   "metadata": {},
   "source": [
    "Теперь построим сравнительный график для плотности распределения объема использованного трафика в месяц для двух тарифов."
   ]
  },
  {
   "cell_type": "code",
   "execution_count": 167,
   "metadata": {},
   "outputs": [
    {
     "data": {
      "image/png": "[encoded data removed]",
      "text/plain": [
       "<Figure size 432x288 with 1 Axes>"
      ]
     },
     "metadata": {
      "needs_background": "light"
     },
     "output_type": "display_data"
    }
   ],
   "source": [
    "density_plot('объем трафика(Gb)', 'использованного трафика', 'gb_used')"
   ]
  },
  {
   "cell_type": "markdown",
   "metadata": {},
   "source": [
    "На графике мы видим, что для пользователей тарифа Смарт более характерно тратить около 16 гигабайт в месяц, а для пользователей тарифа Ультра - около 19. Размах значений на тарифе Ультра гораздо больше, чем на тарифе Смарт, что также можно увидеть сравнив диспресию обоих тарифов (33 и 94 для тарифа Смарт и Ультра соответственно)."
   ]
  },
  {
   "cell_type": "markdown",
   "metadata": {},
   "source": [
    "### Вывод"
   ]
  },
  {
   "cell_type": "markdown",
   "metadata": {},
   "source": [
    "Мы провели анализ данных и сравнили тарифы по количеству минут разговора, сообщений и объёму интернет-трафика необходимых пользователям каждого тарифа в месяц. Для тарифа Ультра характерны более высокие значения среднего и медианы для всех исследуемых опций и более высокий размах значений (те более высокая дисперсия и стандартное отклонение)"
   ]
  },
  {
   "cell_type": "markdown",
   "metadata": {},
   "source": [
    "## Проверка гипотез"
   ]
  },
  {
   "cell_type": "markdown",
   "metadata": {},
   "source": [
    "### Различие средней выручки на тарифах «Ультра» и «Смарт»"
   ]
  },
  {
   "cell_type": "markdown",
   "metadata": {},
   "source": [
    "Формулируем нулевую гипотезу H₀. H₀ всегда формулируется так, чтобы использовать знак равенства. В данном случае H₀ будет звучать так:\n",
    "\n",
    "\"Cредняя выручка пользователей тарифов «Ультра» и «Смарт» равны.\"\n",
    "\n",
    "Альтернативная гипотезу H1 для этой нулевой гипотезы на данном этапе можно сформулировать так:\n",
    "\n",
    "\"Средняя выручка пользователей тарифов «Ультра» и «Смарт» различаются.\"\n",
    "\n",
    "Однако попробуем сравнить средние выручки по двум тарифам и предположить более точную одностороннюю альтернативную гипотезу."
   ]
  },
  {
   "cell_type": "code",
   "execution_count": 168,
   "metadata": {
    "scrolled": false
   },
   "outputs": [
    {
     "name": "stdout",
     "output_type": "stream",
     "text": [
      "Средняя выручка на тарифе Смарт:  1289.9735307312696\n",
      "Средняя выручка на тарифе Ультра:  2070.1522842639592\n"
     ]
    }
   ],
   "source": [
    "smart_mean = data_smart['total_price'].mean()\n",
    "ultra_mean = data_ultra['total_price'].mean()\n",
    "\n",
    "print('Средняя выручка на тарифе Смарт: ', smart_mean)\n",
    "print('Средняя выручка на тарифе Ультра: ', ultra_mean)"
   ]
  },
  {
   "cell_type": "markdown",
   "metadata": {},
   "source": [
    "Выручка на тарифе Ультра кажется сильно больше. Сформулируем новую пару гипотез.\n",
    "\n",
    "Гипотеза H₀:\n",
    "\n",
    "\"Cредняя выручка пользователей тарифов «Ультра» и «Смарт» равны.\"\n",
    "\n",
    "Альтернативная гипотеза H1:\n",
    "\n",
    "\"Средняя выручка пользователей тарифов «Ультра» больше, чем пользователей тарифа «Смарт».\"\n",
    "\n",
    "Для проверки гипотез будем использовать специальный метод для проверки гипотезы о равенстве среднего двух генеральных совокупностей по взятым из них выборкам."
   ]
  },
  {
   "cell_type": "markdown",
   "metadata": {},
   "source": [
    "Как как мы показали выше, размеры выборок сильно отличаются. Сравним их дисперсии, чтобы правильно задать параметр `equal_var`. "
   ]
  },
  {
   "cell_type": "code",
   "execution_count": 169,
   "metadata": {
    "scrolled": true
   },
   "outputs": [
    {
     "data": {
      "text/plain": [
       "669785.7080064242"
      ]
     },
     "execution_count": 169,
     "metadata": {},
     "output_type": "execute_result"
    }
   ],
   "source": [
    "np.var(data_smart['total_price'], ddof=1)"
   ]
  },
  {
   "cell_type": "code",
   "execution_count": 170,
   "metadata": {},
   "outputs": [
    {
     "data": {
      "text/plain": [
       "141516.7450786183"
      ]
     },
     "execution_count": 170,
     "metadata": {},
     "output_type": "execute_result"
    }
   ],
   "source": [
    "np.var(data_ultra['total_price'], ddof=1)"
   ]
  },
  {
   "cell_type": "markdown",
   "metadata": {},
   "source": [
    "Дисперсии сильно отличаются, лучше задать `equal_var` равным False.\n",
    "Пороговое значение зададим равным 5%."
   ]
  },
  {
   "cell_type": "code",
   "execution_count": 171,
   "metadata": {
    "scrolled": true
   },
   "outputs": [
    {
     "name": "stdout",
     "output_type": "stream",
     "text": [
      "p-значение:  2.1303156965538042e-250\n",
      "Отвергаем нулевую гипотезу\n"
     ]
    }
   ],
   "source": [
    "alpha = 0.05\n",
    "\n",
    "results = st.ttest_ind(\n",
    "    data_smart['total_price'], data_ultra['total_price'], equal_var=False)\n",
    "\n",
    "print('p-значение: ', results.pvalue/2)\n",
    "\n",
    "# pvalue делим на два, так как тест односторонний, и включаем проверку неравенства средних\n",
    "if (results.pvalue/2 < alpha) and (ultra_mean > smart_mean):\n",
    "    print(\"Отвергаем нулевую гипотезу\")\n",
    "else:\n",
    "    print(\"Не получилось отвергнуть нулевую гипотезу\")"
   ]
  },
  {
   "cell_type": "markdown",
   "metadata": {},
   "source": [
    "t-тест показал, что принять нулевую гипотезу: \"Средняя выручка пользователей тарифов «Ультра» и «Смарт» равны.\" мы не можем. Соответственно средняя выручка пользователей тарифа «Ультра» больше чем пользователей тарифа «Смарт»."
   ]
  },
  {
   "cell_type": "markdown",
   "metadata": {},
   "source": [
    "### Различие средней выручки пользователей из Москвы и выручки пользователей из других регионов"
   ]
  },
  {
   "cell_type": "markdown",
   "metadata": {},
   "source": [
    "Формулируем нулевую гипотезу H₀. H₀ всегда формулируется так, чтобы использовать знак равенства. В данном случае H₀ будет звучать так:\n",
    "\n",
    "\"Cредняя выручка пользователей из Москвы и выручка пользователей из других регионов не различаются.\"\n",
    "\n",
    "Альтернативная гипотеза H1 для этой нулевой гипотезы на данном этапе будет двухсторонней:\n",
    "\n",
    "\"Cредняя выручка пользователей из Москвы и выручки пользователей из других регионов различаются.\""
   ]
  },
  {
   "cell_type": "markdown",
   "metadata": {},
   "source": [
    "Отберем две выборки - пользователи из Москвы и пользователи из других регионов, и сравним их размеры и средние по столбцу `total_price`."
   ]
  },
  {
   "cell_type": "code",
   "execution_count": 172,
   "metadata": {},
   "outputs": [],
   "source": [
    "moscow_users = users_total[users_total['city'] == 'Москва']"
   ]
  },
  {
   "cell_type": "code",
   "execution_count": 173,
   "metadata": {
    "scrolled": true
   },
   "outputs": [
    {
     "name": "stdout",
     "output_type": "stream",
     "text": [
      "Выборка \"пользователи из Москвы\" включает 611 значений\n"
     ]
    }
   ],
   "source": [
    "print('Выборка \"пользователи из Москвы\" включает', len(moscow_users), 'значений')"
   ]
  },
  {
   "cell_type": "code",
   "execution_count": 174,
   "metadata": {},
   "outputs": [
    {
     "name": "stdout",
     "output_type": "stream",
     "text": [
      "Средняя выручка по выборке \"пользователи из Москвы\" 1546.7135842880523\n"
     ]
    }
   ],
   "source": [
    "print('Средняя выручка по выборке \"пользователи из Москвы\"',\n",
    "      moscow_users['total_price'].mean())"
   ]
  },
  {
   "cell_type": "code",
   "execution_count": 175,
   "metadata": {},
   "outputs": [],
   "source": [
    "other_users = users_total[users_total['city'] != 'Москва']"
   ]
  },
  {
   "cell_type": "code",
   "execution_count": 176,
   "metadata": {
    "scrolled": false
   },
   "outputs": [
    {
     "name": "stdout",
     "output_type": "stream",
     "text": [
      "Выборка \"пользователи из других регионов\" включает 2603 значения\n"
     ]
    }
   ],
   "source": [
    "print('Выборка \"пользователи из других регионов\" включает',\n",
    "      len(other_users), 'значения')"
   ]
  },
  {
   "cell_type": "code",
   "execution_count": 177,
   "metadata": {
    "scrolled": true
   },
   "outputs": [
    {
     "name": "stdout",
     "output_type": "stream",
     "text": [
      "Средняя выручка по выборке \"пользователи из других регионов\" 1524.9362274298885\n"
     ]
    }
   ],
   "source": [
    "print('Средняя выручка по выборке \"пользователи из других регионов\"',\n",
    "      other_users['total_price'].mean())"
   ]
  },
  {
   "cell_type": "markdown",
   "metadata": {},
   "source": [
    "Сравним дисперсию двух выборок."
   ]
  },
  {
   "cell_type": "code",
   "execution_count": 178,
   "metadata": {},
   "outputs": [
    {
     "data": {
      "text/plain": [
       "564710.7117467273"
      ]
     },
     "execution_count": 178,
     "metadata": {},
     "output_type": "execute_result"
    }
   ],
   "source": [
    "np.var(moscow_users['total_price'])"
   ]
  },
  {
   "cell_type": "code",
   "execution_count": 179,
   "metadata": {},
   "outputs": [
    {
     "data": {
      "text/plain": [
       "653886.3270894174"
      ]
     },
     "execution_count": 179,
     "metadata": {},
     "output_type": "execute_result"
    }
   ],
   "source": [
    "np.var(other_users['total_price'])"
   ]
  },
  {
   "cell_type": "markdown",
   "metadata": {},
   "source": [
    "Размеры выборок сильно отличаются, а вот средние практически равны. Оставим двухстороннюю гипотезу.\n",
    "Для проверки гипотез будем использовать специальный метод для проверки гипотезы о равенстве среднего двух генеральных совокупностей по взятым из них выборкам. Параметр `equal_var` задаем равным False, так как как мы показали выше, размеры выборок сильно отличаются и дисперсии их тоже разные. Пороговое значение зададим равным 5%."
   ]
  },
  {
   "cell_type": "code",
   "execution_count": 181,
   "metadata": {
    "scrolled": true
   },
   "outputs": [
    {
     "name": "stdout",
     "output_type": "stream",
     "text": [
      "p-значение:  0.5440152911670224\n",
      "Не получилось отвергнуть нулевую гипотезу\n"
     ]
    }
   ],
   "source": [
    "results2 = st.ttest_ind(\n",
    "    moscow_users['total_price'], other_users['total_price'], equal_var=True)\n",
    "alpha = 0.05\n",
    "print('p-значение: ', results2.pvalue)\n",
    "if results2.pvalue < alpha:\n",
    "    print(\"Отвергаем нулевую гипотезу\")\n",
    "else:\n",
    "    print(\"Не получилось отвергнуть нулевую гипотезу\")"
   ]
  },
  {
   "cell_type": "markdown",
   "metadata": {},
   "source": [
    "t-тест показал, что отвергнуть нулевую гипотезу: \"Cредняя выручка пользователей из Москвы и средняя выручка пользователей из других регионов не различаются.\" мы не можем. Оставляем нулевую гипотезу."
   ]
  },
  {
   "cell_type": "markdown",
   "metadata": {},
   "source": [
    "### Вывод"
   ]
  },
  {
   "cell_type": "markdown",
   "metadata": {},
   "source": [
    "Мы выдвнули гипотезы и провели t-тесты по двум пунктам, в первом случае нулевую гипотезу по результатам теста пришлось отвергнуть и принять альтернутивную - средняя выручка пользователей тарифов «Ультра» больше, чем пользователей тарифа «Смарт». Во-втором нулевую гипотезу отвергнуть не удалось и мы ее оставили - средняя выручка пользователей из Москвы и средняя выручка пользователей из других регионов не различаются."
   ]
  },
  {
   "cell_type": "markdown",
   "metadata": {},
   "source": [
    "## Вывод"
   ]
  },
  {
   "cell_type": "markdown",
   "metadata": {},
   "source": [
    "Было проведено исследование тарифов \"Смарт\" и \"Ультра\", которые предлагает компания «Мегалайн» — федеральный оператор сотовой связи. Анализ был проведён на основе имеющихся исходных данных: о тарифах, о пользователях, о звонках, о сообщениях, об интернет-сессиях. Была проведена предобработка данных (изменение типа, исправление ошибок, расчёт дополнительных показателей). Значительных ошибок в данных выявлено не было. Также были подготовлены пользовательские данные: собрана информация о совершённых звонках и минутах разговора; количестве сообщений; объёме использованного интернет-трафика и бла рассчитана ежемесячная выручка компании, приходящая от каждого из пользователей.\n",
    "\n",
    "При сравнении тарифов было выявлено, что с января по декабрь для обоих тарифов наблюдался рост и длительности разговора, и количества сообщений, и интернет-трафика. При этом длительность разговора, количества сообщений и интернет-трафика потребителей на тарифе \"Ультра\" превышала аналогичный показатель на тарифе \"Смарт\". Для тарифа Ультра характерны более высокие значения среднего и медианы для всех исследуемых опций и более высокий размах значений (те более высокая дисперсия и стандартное отклонение)\n",
    "\n",
    "Кроме того, были проведены t-тесты, в результате которых было выявлено, что средняя выручка пользователей тарифов «Ультра» и «Смарт» различается; а средняя выручка пользователей из Москвы не отличается от выручки пользователей из других регионов.\n",
    "\n",
    "Коммерческому департаменту при разработке рекламного бюджета мы бы порекомендовали обратить внимание на тариф Ультра - в целом он приносит больше прибыли. Пользователи тарифа Смарт часто не укладываются в лимиты по тарифу и приносят компании дополнительную прибыль, но даже с ее учетом тариф Ультра оказывается для компании выгодней - средняя месячная выручка с одного пользователя на тарифе Смарт равняется 1290 рублям, а на тарифе Ультра 2070 рублей."
   ]
  },
  {
   "cell_type": "code",
   "execution_count": null,
   "metadata": {},
   "outputs": [],
   "source": []
  }
 ],
 "metadata": {
  "ExecuteTimeLog": [
   {
    "duration": 929,
    "start_time": "2021-12-26T11:41:58.436Z"
   },
   {
    "duration": 2,
    "start_time": "2021-12-26T11:42:51.224Z"
   },
   {
    "duration": 150,
    "start_time": "2021-12-26T11:45:30.306Z"
   },
   {
    "duration": 14,
    "start_time": "2021-12-26T11:45:38.745Z"
   },
   {
    "duration": 143,
    "start_time": "2021-12-26T11:47:01.095Z"
   },
   {
    "duration": 84,
    "start_time": "2021-12-26T11:48:08.101Z"
   },
   {
    "duration": 17,
    "start_time": "2021-12-26T11:48:09.662Z"
   },
   {
    "duration": 30,
    "start_time": "2021-12-26T11:48:10.112Z"
   },
   {
    "duration": 7,
    "start_time": "2021-12-26T11:48:33.420Z"
   },
   {
    "duration": 21,
    "start_time": "2021-12-26T11:48:45.440Z"
   },
   {
    "duration": 16,
    "start_time": "2021-12-26T11:49:09.965Z"
   },
   {
    "duration": 8,
    "start_time": "2021-12-26T11:49:11.435Z"
   },
   {
    "duration": 7,
    "start_time": "2021-12-26T11:50:11.586Z"
   },
   {
    "duration": 7,
    "start_time": "2021-12-26T11:50:17.406Z"
   },
   {
    "duration": 7,
    "start_time": "2021-12-26T11:51:30.696Z"
   },
   {
    "duration": 15,
    "start_time": "2021-12-26T11:51:37.035Z"
   },
   {
    "duration": 7,
    "start_time": "2021-12-26T11:51:54.017Z"
   },
   {
    "duration": 6,
    "start_time": "2021-12-26T11:52:03.082Z"
   },
   {
    "duration": 9,
    "start_time": "2021-12-26T11:53:25.681Z"
   },
   {
    "duration": 7,
    "start_time": "2021-12-26T11:53:35.198Z"
   },
   {
    "duration": 863,
    "start_time": "2021-12-26T13:00:26.904Z"
   },
   {
    "duration": 140,
    "start_time": "2021-12-26T13:00:27.769Z"
   },
   {
    "duration": 13,
    "start_time": "2021-12-26T13:00:27.911Z"
   },
   {
    "duration": 20,
    "start_time": "2021-12-26T13:00:27.926Z"
   },
   {
    "duration": 120,
    "start_time": "2021-12-26T13:00:27.948Z"
   },
   {
    "duration": 8,
    "start_time": "2021-12-26T13:00:28.070Z"
   },
   {
    "duration": 16,
    "start_time": "2021-12-26T13:00:28.080Z"
   },
   {
    "duration": 82,
    "start_time": "2021-12-26T13:00:28.099Z"
   },
   {
    "duration": 8,
    "start_time": "2021-12-26T13:00:28.182Z"
   },
   {
    "duration": 14,
    "start_time": "2021-12-26T13:00:28.192Z"
   },
   {
    "duration": 17,
    "start_time": "2021-12-26T13:00:28.208Z"
   },
   {
    "duration": 19,
    "start_time": "2021-12-26T13:00:28.226Z"
   },
   {
    "duration": 8,
    "start_time": "2021-12-26T13:00:28.246Z"
   },
   {
    "duration": 36,
    "start_time": "2021-12-26T13:00:28.255Z"
   },
   {
    "duration": 10,
    "start_time": "2021-12-26T13:00:28.293Z"
   },
   {
    "duration": 10,
    "start_time": "2021-12-26T13:00:28.304Z"
   },
   {
    "duration": 28,
    "start_time": "2021-12-26T13:44:40.999Z"
   },
   {
    "duration": 13,
    "start_time": "2021-12-26T13:44:55.768Z"
   },
   {
    "duration": 21,
    "start_time": "2021-12-26T13:46:10.510Z"
   },
   {
    "duration": 17,
    "start_time": "2021-12-26T13:46:43.371Z"
   },
   {
    "duration": 4,
    "start_time": "2021-12-26T13:48:16.907Z"
   },
   {
    "duration": 18,
    "start_time": "2021-12-26T14:40:30.455Z"
   },
   {
    "duration": 945,
    "start_time": "2021-12-26T15:26:39.221Z"
   },
   {
    "duration": 136,
    "start_time": "2021-12-26T15:26:40.168Z"
   },
   {
    "duration": 13,
    "start_time": "2021-12-26T15:26:40.308Z"
   },
   {
    "duration": 40,
    "start_time": "2021-12-26T15:26:40.322Z"
   },
   {
    "duration": 124,
    "start_time": "2021-12-26T15:26:40.363Z"
   },
   {
    "duration": 7,
    "start_time": "2021-12-26T15:26:40.489Z"
   },
   {
    "duration": 31,
    "start_time": "2021-12-26T15:26:40.498Z"
   },
   {
    "duration": 90,
    "start_time": "2021-12-26T15:26:40.531Z"
   },
   {
    "duration": 6,
    "start_time": "2021-12-26T15:26:40.622Z"
   },
   {
    "duration": 44,
    "start_time": "2021-12-26T15:26:40.630Z"
   },
   {
    "duration": 33,
    "start_time": "2021-12-26T15:26:40.676Z"
   },
   {
    "duration": 35,
    "start_time": "2021-12-26T15:26:40.710Z"
   },
   {
    "duration": 7,
    "start_time": "2021-12-26T15:26:40.747Z"
   },
   {
    "duration": 31,
    "start_time": "2021-12-26T15:26:40.755Z"
   },
   {
    "duration": 8,
    "start_time": "2021-12-26T15:26:40.788Z"
   },
   {
    "duration": 7,
    "start_time": "2021-12-26T15:26:40.798Z"
   },
   {
    "duration": 31,
    "start_time": "2021-12-26T15:26:40.806Z"
   },
   {
    "duration": 21,
    "start_time": "2021-12-26T15:26:40.839Z"
   },
   {
    "duration": 16,
    "start_time": "2021-12-26T15:26:40.862Z"
   },
   {
    "duration": 5,
    "start_time": "2021-12-26T15:26:40.880Z"
   },
   {
    "duration": 17,
    "start_time": "2021-12-26T15:26:40.886Z"
   },
   {
    "duration": 36,
    "start_time": "2021-12-26T15:26:40.906Z"
   },
   {
    "duration": 348,
    "start_time": "2021-12-26T15:27:24.557Z"
   },
   {
    "duration": 256,
    "start_time": "2021-12-26T15:27:30.758Z"
   },
   {
    "duration": 12,
    "start_time": "2021-12-26T15:27:39.806Z"
   },
   {
    "duration": 12,
    "start_time": "2021-12-26T15:28:11.426Z"
   },
   {
    "duration": 11,
    "start_time": "2021-12-26T15:28:22.562Z"
   },
   {
    "duration": 80,
    "start_time": "2021-12-26T15:29:28.958Z"
   },
   {
    "duration": 81,
    "start_time": "2021-12-26T15:29:38.416Z"
   },
   {
    "duration": 48,
    "start_time": "2021-12-26T15:29:44.855Z"
   },
   {
    "duration": 34,
    "start_time": "2021-12-26T15:29:50.609Z"
   },
   {
    "duration": 7,
    "start_time": "2021-12-26T15:29:54.669Z"
   },
   {
    "duration": 18,
    "start_time": "2021-12-26T15:31:10.913Z"
   },
   {
    "duration": 269,
    "start_time": "2021-12-26T15:31:38.636Z"
   },
   {
    "duration": 2,
    "start_time": "2021-12-26T15:32:04.280Z"
   },
   {
    "duration": 19,
    "start_time": "2021-12-26T15:32:09.399Z"
   },
   {
    "duration": 5,
    "start_time": "2021-12-26T15:33:55.279Z"
   },
   {
    "duration": 231,
    "start_time": "2021-12-26T19:26:09.527Z"
   },
   {
    "duration": 943,
    "start_time": "2021-12-26T19:26:16.685Z"
   },
   {
    "duration": 3,
    "start_time": "2021-12-26T19:26:17.867Z"
   },
   {
    "duration": 870,
    "start_time": "2021-12-26T19:26:22.529Z"
   },
   {
    "duration": 3,
    "start_time": "2021-12-26T19:26:23.401Z"
   },
   {
    "duration": 145,
    "start_time": "2021-12-26T19:26:23.408Z"
   },
   {
    "duration": 14,
    "start_time": "2021-12-26T19:26:23.555Z"
   },
   {
    "duration": 29,
    "start_time": "2021-12-26T19:26:23.570Z"
   },
   {
    "duration": 124,
    "start_time": "2021-12-26T19:26:23.601Z"
   },
   {
    "duration": 8,
    "start_time": "2021-12-26T19:26:23.728Z"
   },
   {
    "duration": 18,
    "start_time": "2021-12-26T19:26:23.738Z"
   },
   {
    "duration": 92,
    "start_time": "2021-12-26T19:26:23.757Z"
   },
   {
    "duration": 6,
    "start_time": "2021-12-26T19:26:23.851Z"
   },
   {
    "duration": 15,
    "start_time": "2021-12-26T19:26:23.859Z"
   },
   {
    "duration": 16,
    "start_time": "2021-12-26T19:26:23.876Z"
   },
   {
    "duration": 9,
    "start_time": "2021-12-26T19:26:23.893Z"
   },
   {
    "duration": 8,
    "start_time": "2021-12-26T19:26:23.903Z"
   },
   {
    "duration": 50,
    "start_time": "2021-12-26T19:26:23.912Z"
   },
   {
    "duration": 9,
    "start_time": "2021-12-26T19:26:23.964Z"
   },
   {
    "duration": 8,
    "start_time": "2021-12-26T19:26:23.975Z"
   },
   {
    "duration": 33,
    "start_time": "2021-12-26T19:26:23.984Z"
   },
   {
    "duration": 22,
    "start_time": "2021-12-26T19:26:24.018Z"
   },
   {
    "duration": 17,
    "start_time": "2021-12-26T19:26:24.042Z"
   },
   {
    "duration": 4,
    "start_time": "2021-12-26T19:26:24.060Z"
   },
   {
    "duration": 31,
    "start_time": "2021-12-26T19:26:24.067Z"
   },
   {
    "duration": 12315,
    "start_time": "2021-12-26T19:26:24.100Z"
   },
   {
    "duration": 7,
    "start_time": "2021-12-26T19:26:36.418Z"
   },
   {
    "duration": 186,
    "start_time": "2021-12-26T19:26:36.427Z"
   },
   {
    "duration": 78,
    "start_time": "2021-12-26T19:26:36.615Z"
   },
   {
    "duration": 97,
    "start_time": "2021-12-26T19:26:36.695Z"
   },
   {
    "duration": 6,
    "start_time": "2021-12-26T19:26:36.794Z"
   },
   {
    "duration": 7,
    "start_time": "2021-12-26T19:29:45.948Z"
   },
   {
    "duration": 9,
    "start_time": "2021-12-26T19:30:37.817Z"
   },
   {
    "duration": 8,
    "start_time": "2021-12-26T19:30:48.371Z"
   },
   {
    "duration": 9,
    "start_time": "2021-12-26T19:31:20.844Z"
   },
   {
    "duration": 10,
    "start_time": "2021-12-26T19:31:32.033Z"
   },
   {
    "duration": 287,
    "start_time": "2021-12-27T11:24:36.126Z"
   },
   {
    "duration": 1002,
    "start_time": "2021-12-27T11:24:41.646Z"
   },
   {
    "duration": 3,
    "start_time": "2021-12-27T11:24:42.650Z"
   },
   {
    "duration": 158,
    "start_time": "2021-12-27T11:24:42.655Z"
   },
   {
    "duration": 14,
    "start_time": "2021-12-27T11:24:42.815Z"
   },
   {
    "duration": 36,
    "start_time": "2021-12-27T11:24:42.830Z"
   },
   {
    "duration": 133,
    "start_time": "2021-12-27T11:24:42.868Z"
   },
   {
    "duration": 9,
    "start_time": "2021-12-27T11:24:43.003Z"
   },
   {
    "duration": 19,
    "start_time": "2021-12-27T11:24:43.014Z"
   },
   {
    "duration": 93,
    "start_time": "2021-12-27T11:24:43.035Z"
   },
   {
    "duration": 7,
    "start_time": "2021-12-27T11:24:43.129Z"
   },
   {
    "duration": 26,
    "start_time": "2021-12-27T11:24:43.138Z"
   },
   {
    "duration": 18,
    "start_time": "2021-12-27T11:24:43.167Z"
   },
   {
    "duration": 8,
    "start_time": "2021-12-27T11:24:43.186Z"
   },
   {
    "duration": 7,
    "start_time": "2021-12-27T11:24:43.196Z"
   },
   {
    "duration": 28,
    "start_time": "2021-12-27T11:24:43.205Z"
   },
   {
    "duration": 9,
    "start_time": "2021-12-27T11:24:43.235Z"
   },
   {
    "duration": 6,
    "start_time": "2021-12-27T11:24:43.246Z"
   },
   {
    "duration": 10,
    "start_time": "2021-12-27T11:24:43.253Z"
   },
   {
    "duration": 33,
    "start_time": "2021-12-27T11:24:43.264Z"
   },
   {
    "duration": 35,
    "start_time": "2021-12-27T11:24:43.299Z"
   },
   {
    "duration": 48,
    "start_time": "2021-12-27T11:24:43.336Z"
   },
   {
    "duration": 5,
    "start_time": "2021-12-27T11:24:43.386Z"
   },
   {
    "duration": 24,
    "start_time": "2021-12-27T11:24:43.395Z"
   },
   {
    "duration": 12,
    "start_time": "2021-12-27T11:24:43.421Z"
   },
   {
    "duration": 8,
    "start_time": "2021-12-27T11:24:43.435Z"
   },
   {
    "duration": 100,
    "start_time": "2021-12-27T11:24:43.444Z"
   },
   {
    "duration": 51,
    "start_time": "2021-12-27T11:24:43.546Z"
   },
   {
    "duration": 37,
    "start_time": "2021-12-27T11:24:43.599Z"
   },
   {
    "duration": 27,
    "start_time": "2021-12-27T11:24:43.637Z"
   },
   {
    "duration": 5,
    "start_time": "2021-12-27T11:25:08.599Z"
   },
   {
    "duration": 5,
    "start_time": "2021-12-27T11:29:50.774Z"
   },
   {
    "duration": 4,
    "start_time": "2021-12-27T11:31:17.628Z"
   },
   {
    "duration": 5,
    "start_time": "2021-12-27T11:31:37.219Z"
   },
   {
    "duration": 7,
    "start_time": "2021-12-27T11:34:07.558Z"
   },
   {
    "duration": 9,
    "start_time": "2021-12-27T11:34:36.752Z"
   },
   {
    "duration": 6712,
    "start_time": "2021-12-27T11:35:17.974Z"
   },
   {
    "duration": 10,
    "start_time": "2021-12-27T11:35:48.499Z"
   },
   {
    "duration": 1031,
    "start_time": "2021-12-27T16:08:09.774Z"
   },
   {
    "duration": 3,
    "start_time": "2021-12-27T16:08:10.808Z"
   },
   {
    "duration": 284,
    "start_time": "2021-12-27T16:08:10.813Z"
   },
   {
    "duration": 23,
    "start_time": "2021-12-27T16:08:11.100Z"
   },
   {
    "duration": 43,
    "start_time": "2021-12-27T16:08:11.125Z"
   },
   {
    "duration": 485,
    "start_time": "2021-12-27T16:08:11.170Z"
   },
   {
    "duration": 9,
    "start_time": "2021-12-27T16:08:11.657Z"
   },
   {
    "duration": 41,
    "start_time": "2021-12-27T16:08:11.670Z"
   },
   {
    "duration": 411,
    "start_time": "2021-12-27T16:08:11.714Z"
   },
   {
    "duration": 13,
    "start_time": "2021-12-27T16:08:12.127Z"
   },
   {
    "duration": 49,
    "start_time": "2021-12-27T16:08:12.142Z"
   },
   {
    "duration": 62,
    "start_time": "2021-12-27T16:08:12.194Z"
   },
   {
    "duration": 25,
    "start_time": "2021-12-27T16:08:12.258Z"
   },
   {
    "duration": 34,
    "start_time": "2021-12-27T16:08:12.285Z"
   },
   {
    "duration": 58,
    "start_time": "2021-12-27T16:08:12.321Z"
   },
   {
    "duration": 33,
    "start_time": "2021-12-27T16:08:12.381Z"
   },
   {
    "duration": 40,
    "start_time": "2021-12-27T16:08:12.418Z"
   },
   {
    "duration": 112,
    "start_time": "2021-12-27T16:08:12.461Z"
   },
   {
    "duration": 26,
    "start_time": "2021-12-27T16:08:12.575Z"
   },
   {
    "duration": 25,
    "start_time": "2021-12-27T16:08:12.603Z"
   },
   {
    "duration": 8,
    "start_time": "2021-12-27T16:08:12.630Z"
   },
   {
    "duration": 50,
    "start_time": "2021-12-27T16:08:12.640Z"
   },
   {
    "duration": 34,
    "start_time": "2021-12-27T16:08:12.694Z"
   },
   {
    "duration": 34,
    "start_time": "2021-12-27T16:08:12.730Z"
   },
   {
    "duration": 28,
    "start_time": "2021-12-27T16:08:12.767Z"
   },
   {
    "duration": 26,
    "start_time": "2021-12-27T16:08:12.798Z"
   },
   {
    "duration": 45,
    "start_time": "2021-12-27T16:08:12.826Z"
   },
   {
    "duration": 158,
    "start_time": "2021-12-27T16:08:12.874Z"
   },
   {
    "duration": 83,
    "start_time": "2021-12-27T16:08:13.034Z"
   },
   {
    "duration": 75,
    "start_time": "2021-12-27T16:08:13.119Z"
   },
   {
    "duration": 11,
    "start_time": "2021-12-27T16:08:13.197Z"
   },
   {
    "duration": 481,
    "start_time": "2021-12-27T16:21:42.199Z"
   },
   {
    "duration": 26,
    "start_time": "2021-12-27T16:22:14.956Z"
   },
   {
    "duration": 28,
    "start_time": "2021-12-27T16:25:12.142Z"
   },
   {
    "duration": 26,
    "start_time": "2021-12-27T16:25:46.562Z"
   },
   {
    "duration": 3,
    "start_time": "2021-12-27T16:26:59.224Z"
   },
   {
    "duration": 370,
    "start_time": "2021-12-27T16:27:05.093Z"
   },
   {
    "duration": 455,
    "start_time": "2021-12-27T16:27:28.245Z"
   },
   {
    "duration": 686,
    "start_time": "2021-12-27T16:41:26.798Z"
   },
   {
    "duration": 595,
    "start_time": "2021-12-27T16:46:32.876Z"
   },
   {
    "duration": 539,
    "start_time": "2021-12-27T16:46:56.108Z"
   },
   {
    "duration": 994,
    "start_time": "2021-12-27T16:47:34.677Z"
   },
   {
    "duration": 3,
    "start_time": "2021-12-27T16:47:35.673Z"
   },
   {
    "duration": 168,
    "start_time": "2021-12-27T16:47:35.678Z"
   },
   {
    "duration": 14,
    "start_time": "2021-12-27T16:47:35.848Z"
   },
   {
    "duration": 24,
    "start_time": "2021-12-27T16:47:35.864Z"
   },
   {
    "duration": 151,
    "start_time": "2021-12-27T16:47:35.891Z"
   },
   {
    "duration": 17,
    "start_time": "2021-12-27T16:47:36.044Z"
   },
   {
    "duration": 18,
    "start_time": "2021-12-27T16:47:36.064Z"
   },
   {
    "duration": 100,
    "start_time": "2021-12-27T16:47:36.084Z"
   },
   {
    "duration": 7,
    "start_time": "2021-12-27T16:47:36.186Z"
   },
   {
    "duration": 19,
    "start_time": "2021-12-27T16:47:36.194Z"
   },
   {
    "duration": 17,
    "start_time": "2021-12-27T16:47:36.215Z"
   },
   {
    "duration": 13,
    "start_time": "2021-12-27T16:47:36.234Z"
   },
   {
    "duration": 12,
    "start_time": "2021-12-27T16:47:36.249Z"
   },
   {
    "duration": 29,
    "start_time": "2021-12-27T16:47:36.263Z"
   },
   {
    "duration": 13,
    "start_time": "2021-12-27T16:47:36.293Z"
   },
   {
    "duration": 11,
    "start_time": "2021-12-27T16:47:36.308Z"
   },
   {
    "duration": 36,
    "start_time": "2021-12-27T16:47:36.321Z"
   },
   {
    "duration": 24,
    "start_time": "2021-12-27T16:47:36.359Z"
   },
   {
    "duration": 17,
    "start_time": "2021-12-27T16:47:36.385Z"
   },
   {
    "duration": 4,
    "start_time": "2021-12-27T16:47:36.404Z"
   },
   {
    "duration": 6,
    "start_time": "2021-12-27T16:47:36.410Z"
   },
   {
    "duration": 12,
    "start_time": "2021-12-27T16:47:36.419Z"
   },
   {
    "duration": 29,
    "start_time": "2021-12-27T16:47:36.433Z"
   },
   {
    "duration": 6,
    "start_time": "2021-12-27T16:47:36.464Z"
   },
   {
    "duration": 10,
    "start_time": "2021-12-27T16:47:36.472Z"
   },
   {
    "duration": 13,
    "start_time": "2021-12-27T16:47:36.484Z"
   },
   {
    "duration": 133,
    "start_time": "2021-12-27T16:47:36.499Z"
   },
   {
    "duration": 55,
    "start_time": "2021-12-27T16:47:36.634Z"
   },
   {
    "duration": 42,
    "start_time": "2021-12-27T16:47:36.690Z"
   },
   {
    "duration": 8,
    "start_time": "2021-12-27T16:47:36.734Z"
   },
   {
    "duration": 87,
    "start_time": "2021-12-27T16:47:36.761Z"
   },
   {
    "duration": -270,
    "start_time": "2021-12-27T16:47:37.121Z"
   },
   {
    "duration": -333,
    "start_time": "2021-12-27T16:47:37.185Z"
   },
   {
    "duration": 3211,
    "start_time": "2021-12-27T16:48:20.970Z"
   },
   {
    "duration": 686,
    "start_time": "2021-12-27T16:48:40.762Z"
   },
   {
    "duration": 36,
    "start_time": "2021-12-27T16:48:44.171Z"
   },
   {
    "duration": 47,
    "start_time": "2021-12-27T16:52:19.654Z"
   },
   {
    "duration": 652,
    "start_time": "2021-12-27T16:53:25.987Z"
   },
   {
    "duration": 24,
    "start_time": "2021-12-27T16:53:28.026Z"
   },
   {
    "duration": 27,
    "start_time": "2021-12-27T16:53:38.450Z"
   },
   {
    "duration": 2663,
    "start_time": "2021-12-27T16:54:17.386Z"
   },
   {
    "duration": -145,
    "start_time": "2021-12-27T16:54:20.196Z"
   },
   {
    "duration": 361,
    "start_time": "2021-12-27T16:54:40.537Z"
   },
   {
    "duration": 26,
    "start_time": "2021-12-27T16:54:42.691Z"
   },
   {
    "duration": 61,
    "start_time": "2021-12-27T17:00:55.962Z"
   },
   {
    "duration": 229,
    "start_time": "2021-12-27T17:01:02.311Z"
   },
   {
    "duration": 28,
    "start_time": "2021-12-27T17:01:09.063Z"
   },
   {
    "duration": 115,
    "start_time": "2021-12-27T17:02:17.790Z"
   },
   {
    "duration": 57,
    "start_time": "2021-12-27T17:02:24.158Z"
   },
   {
    "duration": 20,
    "start_time": "2021-12-27T17:02:26.148Z"
   },
   {
    "duration": 40,
    "start_time": "2021-12-27T17:26:10.735Z"
   },
   {
    "duration": 14,
    "start_time": "2021-12-27T17:26:18.672Z"
   },
   {
    "duration": 353,
    "start_time": "2021-12-28T10:46:24.264Z"
   },
   {
    "duration": 891,
    "start_time": "2021-12-28T10:46:29.468Z"
   },
   {
    "duration": 2,
    "start_time": "2021-12-28T10:46:30.361Z"
   },
   {
    "duration": 139,
    "start_time": "2021-12-28T10:46:30.365Z"
   },
   {
    "duration": 12,
    "start_time": "2021-12-28T10:46:30.506Z"
   },
   {
    "duration": 25,
    "start_time": "2021-12-28T10:46:30.519Z"
   },
   {
    "duration": 116,
    "start_time": "2021-12-28T10:46:30.545Z"
   },
   {
    "duration": 8,
    "start_time": "2021-12-28T10:46:30.663Z"
   },
   {
    "duration": 19,
    "start_time": "2021-12-28T10:46:30.673Z"
   },
   {
    "duration": 76,
    "start_time": "2021-12-28T10:46:30.694Z"
   },
   {
    "duration": 6,
    "start_time": "2021-12-28T10:46:30.772Z"
   },
   {
    "duration": 21,
    "start_time": "2021-12-28T10:46:30.780Z"
   },
   {
    "duration": 18,
    "start_time": "2021-12-28T10:46:30.802Z"
   },
   {
    "duration": 10,
    "start_time": "2021-12-28T10:46:30.821Z"
   },
   {
    "duration": 10,
    "start_time": "2021-12-28T10:46:30.833Z"
   },
   {
    "duration": 37,
    "start_time": "2021-12-28T10:46:30.844Z"
   },
   {
    "duration": 15,
    "start_time": "2021-12-28T10:46:30.882Z"
   },
   {
    "duration": 10,
    "start_time": "2021-12-28T10:46:30.898Z"
   },
   {
    "duration": 56,
    "start_time": "2021-12-28T10:46:30.909Z"
   },
   {
    "duration": 20,
    "start_time": "2021-12-28T10:46:30.967Z"
   },
   {
    "duration": 18,
    "start_time": "2021-12-28T10:46:30.988Z"
   },
   {
    "duration": 3,
    "start_time": "2021-12-28T10:46:31.007Z"
   },
   {
    "duration": 16,
    "start_time": "2021-12-28T10:46:31.012Z"
   },
   {
    "duration": 18,
    "start_time": "2021-12-28T10:46:31.031Z"
   },
   {
    "duration": 27,
    "start_time": "2021-12-28T10:46:31.051Z"
   },
   {
    "duration": 26,
    "start_time": "2021-12-28T10:46:31.079Z"
   },
   {
    "duration": 13,
    "start_time": "2021-12-28T10:46:31.107Z"
   },
   {
    "duration": 27,
    "start_time": "2021-12-28T10:46:31.121Z"
   },
   {
    "duration": 80,
    "start_time": "2021-12-28T10:46:31.149Z"
   },
   {
    "duration": 37,
    "start_time": "2021-12-28T10:46:31.231Z"
   },
   {
    "duration": 32,
    "start_time": "2021-12-28T10:46:31.270Z"
   },
   {
    "duration": 6,
    "start_time": "2021-12-28T10:46:31.303Z"
   },
   {
    "duration": 335,
    "start_time": "2021-12-28T10:46:31.311Z"
   },
   {
    "duration": 22,
    "start_time": "2021-12-28T10:46:31.647Z"
   },
   {
    "duration": 39,
    "start_time": "2021-12-28T10:46:31.670Z"
   },
   {
    "duration": 25,
    "start_time": "2021-12-28T10:46:31.711Z"
   },
   {
    "duration": 413,
    "start_time": "2021-12-28T10:46:31.738Z"
   },
   {
    "duration": 38,
    "start_time": "2021-12-28T10:47:04.853Z"
   },
   {
    "duration": 112,
    "start_time": "2021-12-28T10:47:13.666Z"
   },
   {
    "duration": 11,
    "start_time": "2021-12-28T10:47:20.382Z"
   },
   {
    "duration": 108,
    "start_time": "2021-12-28T11:47:23.326Z"
   },
   {
    "duration": 133,
    "start_time": "2021-12-28T11:47:27.173Z"
   },
   {
    "duration": 18,
    "start_time": "2021-12-28T11:47:30.452Z"
   },
   {
    "duration": 132,
    "start_time": "2021-12-28T11:47:53.701Z"
   },
   {
    "duration": 12,
    "start_time": "2021-12-28T11:47:54.856Z"
   },
   {
    "duration": 4,
    "start_time": "2021-12-28T11:55:00.043Z"
   },
   {
    "duration": 9,
    "start_time": "2021-12-28T11:55:02.664Z"
   },
   {
    "duration": 55,
    "start_time": "2021-12-28T11:55:18.964Z"
   },
   {
    "duration": 9,
    "start_time": "2021-12-28T11:55:22.103Z"
   },
   {
    "duration": 354,
    "start_time": "2021-12-28T11:55:56.441Z"
   },
   {
    "duration": 15,
    "start_time": "2021-12-28T11:55:58.083Z"
   },
   {
    "duration": 94,
    "start_time": "2021-12-28T11:56:02.863Z"
   },
   {
    "duration": 8,
    "start_time": "2021-12-28T11:56:04.555Z"
   },
   {
    "duration": 320,
    "start_time": "2021-12-28T11:58:33.460Z"
   },
   {
    "duration": 15,
    "start_time": "2021-12-28T11:58:35.199Z"
   },
   {
    "duration": 1083,
    "start_time": "2021-12-28T16:15:53.718Z"
   },
   {
    "duration": 3,
    "start_time": "2021-12-28T16:15:54.803Z"
   },
   {
    "duration": 321,
    "start_time": "2021-12-28T16:15:54.807Z"
   },
   {
    "duration": 21,
    "start_time": "2021-12-28T16:15:55.132Z"
   },
   {
    "duration": 21,
    "start_time": "2021-12-28T16:15:55.154Z"
   },
   {
    "duration": 175,
    "start_time": "2021-12-28T16:15:55.228Z"
   },
   {
    "duration": 7,
    "start_time": "2021-12-28T16:15:55.405Z"
   },
   {
    "duration": 31,
    "start_time": "2021-12-28T16:15:55.414Z"
   },
   {
    "duration": 95,
    "start_time": "2021-12-28T16:15:55.448Z"
   },
   {
    "duration": 7,
    "start_time": "2021-12-28T16:15:55.546Z"
   },
   {
    "duration": 17,
    "start_time": "2021-12-28T16:15:55.554Z"
   },
   {
    "duration": 15,
    "start_time": "2021-12-28T16:15:55.573Z"
   },
   {
    "duration": 9,
    "start_time": "2021-12-28T16:15:55.590Z"
   },
   {
    "duration": 7,
    "start_time": "2021-12-28T16:15:55.600Z"
   },
   {
    "duration": 68,
    "start_time": "2021-12-28T16:15:55.609Z"
   },
   {
    "duration": 10,
    "start_time": "2021-12-28T16:15:55.679Z"
   },
   {
    "duration": 6,
    "start_time": "2021-12-28T16:15:55.691Z"
   },
   {
    "duration": 34,
    "start_time": "2021-12-28T16:15:55.699Z"
   },
   {
    "duration": 27,
    "start_time": "2021-12-28T16:15:55.736Z"
   },
   {
    "duration": 16,
    "start_time": "2021-12-28T16:15:55.764Z"
   },
   {
    "duration": 3,
    "start_time": "2021-12-28T16:15:55.782Z"
   },
   {
    "duration": 4,
    "start_time": "2021-12-28T16:15:55.787Z"
   },
   {
    "duration": 12,
    "start_time": "2021-12-28T16:15:55.792Z"
   },
   {
    "duration": 4,
    "start_time": "2021-12-28T16:15:55.805Z"
   },
   {
    "duration": 25,
    "start_time": "2021-12-28T16:15:55.811Z"
   },
   {
    "duration": 25,
    "start_time": "2021-12-28T16:15:55.838Z"
   },
   {
    "duration": 9,
    "start_time": "2021-12-28T16:15:55.865Z"
   },
   {
    "duration": 107,
    "start_time": "2021-12-28T16:15:55.875Z"
   },
   {
    "duration": 46,
    "start_time": "2021-12-28T16:15:55.983Z"
   },
   {
    "duration": 37,
    "start_time": "2021-12-28T16:15:56.032Z"
   },
   {
    "duration": 6,
    "start_time": "2021-12-28T16:15:56.071Z"
   },
   {
    "duration": 376,
    "start_time": "2021-12-28T16:15:56.079Z"
   },
   {
    "duration": 14,
    "start_time": "2021-12-28T16:15:56.457Z"
   },
   {
    "duration": 39,
    "start_time": "2021-12-28T16:15:56.473Z"
   },
   {
    "duration": 13,
    "start_time": "2021-12-28T16:15:56.527Z"
   },
   {
    "duration": 112,
    "start_time": "2021-12-28T16:15:56.543Z"
   },
   {
    "duration": 8,
    "start_time": "2021-12-28T16:15:56.656Z"
   },
   {
    "duration": 167,
    "start_time": "2021-12-28T16:15:56.665Z"
   },
   {
    "duration": 10818,
    "start_time": "2021-12-28T16:24:15.448Z"
   },
   {
    "duration": 359,
    "start_time": "2021-12-28T16:26:39.820Z"
   },
   {
    "duration": 341,
    "start_time": "2021-12-28T16:26:47.266Z"
   },
   {
    "duration": 351,
    "start_time": "2021-12-28T16:27:05.564Z"
   },
   {
    "duration": 6982,
    "start_time": "2021-12-28T16:27:18.981Z"
   },
   {
    "duration": 8791,
    "start_time": "2021-12-28T16:28:04.933Z"
   },
   {
    "duration": 6369,
    "start_time": "2021-12-28T16:28:28.011Z"
   },
   {
    "duration": 11,
    "start_time": "2021-12-28T16:28:55.454Z"
   },
   {
    "duration": 6272,
    "start_time": "2021-12-28T16:29:17.253Z"
   },
   {
    "duration": 4369,
    "start_time": "2021-12-28T16:29:29.199Z"
   },
   {
    "duration": 5,
    "start_time": "2021-12-28T16:29:39.641Z"
   },
   {
    "duration": 344,
    "start_time": "2021-12-28T16:35:23.344Z"
   },
   {
    "duration": 10392,
    "start_time": "2021-12-28T16:35:43.272Z"
   },
   {
    "duration": 8657,
    "start_time": "2021-12-28T16:37:27.048Z"
   },
   {
    "duration": 9129,
    "start_time": "2021-12-28T16:40:48.121Z"
   },
   {
    "duration": 9500,
    "start_time": "2021-12-28T16:43:04.250Z"
   },
   {
    "duration": 10,
    "start_time": "2021-12-28T16:43:57.252Z"
   },
   {
    "duration": 352,
    "start_time": "2021-12-28T16:44:44.222Z"
   },
   {
    "duration": 6,
    "start_time": "2021-12-28T16:45:10.811Z"
   },
   {
    "duration": 331,
    "start_time": "2021-12-28T16:48:39.735Z"
   },
   {
    "duration": 5,
    "start_time": "2021-12-28T16:48:55.815Z"
   },
   {
    "duration": 7,
    "start_time": "2021-12-28T16:50:53.604Z"
   },
   {
    "duration": 5,
    "start_time": "2021-12-28T16:51:22.724Z"
   },
   {
    "duration": 114,
    "start_time": "2021-12-28T16:53:19.674Z"
   },
   {
    "duration": 548,
    "start_time": "2021-12-28T16:53:34.200Z"
   },
   {
    "duration": 112,
    "start_time": "2021-12-28T17:00:25.532Z"
   },
   {
    "duration": 118,
    "start_time": "2021-12-28T17:00:39.579Z"
   },
   {
    "duration": 425,
    "start_time": "2021-12-28T17:00:59.800Z"
   },
   {
    "duration": 6,
    "start_time": "2021-12-28T17:02:13.266Z"
   },
   {
    "duration": 6,
    "start_time": "2021-12-28T17:02:35.173Z"
   },
   {
    "duration": 8,
    "start_time": "2021-12-28T17:05:57.434Z"
   },
   {
    "duration": 9,
    "start_time": "2021-12-28T17:06:18.282Z"
   },
   {
    "duration": 8,
    "start_time": "2021-12-28T17:07:11.802Z"
   },
   {
    "duration": 2159,
    "start_time": "2021-12-28T17:09:22.808Z"
   },
   {
    "duration": 967,
    "start_time": "2021-12-28T17:09:43.653Z"
   },
   {
    "duration": 5,
    "start_time": "2021-12-28T17:17:26.064Z"
   },
   {
    "duration": 351,
    "start_time": "2021-12-28T17:18:51.711Z"
   },
   {
    "duration": 5,
    "start_time": "2021-12-28T17:20:07.286Z"
   },
   {
    "duration": 10,
    "start_time": "2021-12-28T17:21:33.480Z"
   },
   {
    "duration": 6251,
    "start_time": "2021-12-28T17:24:24.414Z"
   },
   {
    "duration": 6,
    "start_time": "2021-12-28T17:27:09.204Z"
   },
   {
    "duration": 6,
    "start_time": "2021-12-28T17:27:13.918Z"
   },
   {
    "duration": 6,
    "start_time": "2021-12-28T17:27:20.075Z"
   },
   {
    "duration": 5,
    "start_time": "2021-12-28T17:27:23.803Z"
   },
   {
    "duration": 340,
    "start_time": "2021-12-28T17:30:49.261Z"
   },
   {
    "duration": 337,
    "start_time": "2021-12-28T17:31:04.766Z"
   },
   {
    "duration": 10,
    "start_time": "2021-12-28T17:31:20.529Z"
   },
   {
    "duration": 6,
    "start_time": "2021-12-28T17:31:50.894Z"
   },
   {
    "duration": 5,
    "start_time": "2021-12-28T17:32:19.884Z"
   },
   {
    "duration": 323,
    "start_time": "2021-12-28T17:32:58.524Z"
   },
   {
    "duration": 4,
    "start_time": "2021-12-28T17:33:51.942Z"
   },
   {
    "duration": 5,
    "start_time": "2021-12-28T17:34:05.906Z"
   },
   {
    "duration": 14,
    "start_time": "2021-12-28T17:35:17.812Z"
   },
   {
    "duration": 6,
    "start_time": "2021-12-28T17:36:27.092Z"
   },
   {
    "duration": 5,
    "start_time": "2021-12-28T17:37:12.992Z"
   },
   {
    "duration": 339,
    "start_time": "2021-12-28T17:37:37.313Z"
   },
   {
    "duration": 12,
    "start_time": "2021-12-28T17:38:45.601Z"
   },
   {
    "duration": 8,
    "start_time": "2021-12-28T17:39:04.522Z"
   },
   {
    "duration": 6,
    "start_time": "2021-12-28T17:40:06.008Z"
   },
   {
    "duration": 119,
    "start_time": "2021-12-28T17:43:28.743Z"
   },
   {
    "duration": 124,
    "start_time": "2021-12-28T17:43:39.107Z"
   },
   {
    "duration": 13,
    "start_time": "2021-12-28T17:43:45.319Z"
   },
   {
    "duration": 4,
    "start_time": "2021-12-28T17:49:21.000Z"
   },
   {
    "duration": 39,
    "start_time": "2021-12-28T17:53:05.554Z"
   },
   {
    "duration": 8,
    "start_time": "2021-12-28T17:53:10.108Z"
   },
   {
    "duration": 4,
    "start_time": "2021-12-28T18:03:18.230Z"
   },
   {
    "duration": 10,
    "start_time": "2021-12-28T18:07:32.181Z"
   },
   {
    "duration": 119,
    "start_time": "2021-12-28T18:08:03.413Z"
   },
   {
    "duration": 112,
    "start_time": "2021-12-28T18:08:17.527Z"
   },
   {
    "duration": 20,
    "start_time": "2021-12-28T18:08:23.941Z"
   },
   {
    "duration": 10,
    "start_time": "2021-12-28T18:08:42.605Z"
   },
   {
    "duration": 10,
    "start_time": "2021-12-28T18:09:16.035Z"
   },
   {
    "duration": 11,
    "start_time": "2021-12-28T18:09:39.954Z"
   },
   {
    "duration": 10,
    "start_time": "2021-12-28T18:11:11.716Z"
   },
   {
    "duration": 4,
    "start_time": "2021-12-28T18:12:47.151Z"
   },
   {
    "duration": 10,
    "start_time": "2021-12-28T18:13:22.337Z"
   },
   {
    "duration": 8372,
    "start_time": "2021-12-28T18:14:45.108Z"
   },
   {
    "duration": 8463,
    "start_time": "2021-12-28T18:15:32.085Z"
   },
   {
    "duration": 5,
    "start_time": "2021-12-28T18:16:32.670Z"
   },
   {
    "duration": 430,
    "start_time": "2021-12-28T18:16:45.958Z"
   },
   {
    "duration": 4,
    "start_time": "2021-12-28T18:17:25.768Z"
   },
   {
    "duration": 3,
    "start_time": "2021-12-28T18:18:00.639Z"
   },
   {
    "duration": 5,
    "start_time": "2021-12-28T18:18:03.439Z"
   },
   {
    "duration": 10,
    "start_time": "2021-12-28T18:18:10.465Z"
   },
   {
    "duration": 5,
    "start_time": "2021-12-28T18:18:42.272Z"
   },
   {
    "duration": 6,
    "start_time": "2021-12-28T18:19:25.124Z"
   },
   {
    "duration": 6,
    "start_time": "2021-12-28T18:19:29.418Z"
   },
   {
    "duration": 4,
    "start_time": "2021-12-28T18:19:40.002Z"
   },
   {
    "duration": 4,
    "start_time": "2021-12-28T18:19:44.544Z"
   },
   {
    "duration": 6,
    "start_time": "2021-12-28T18:19:52.563Z"
   },
   {
    "duration": 6,
    "start_time": "2021-12-28T18:20:12.068Z"
   },
   {
    "duration": 8,
    "start_time": "2021-12-28T18:20:33.328Z"
   },
   {
    "duration": 389,
    "start_time": "2021-12-28T18:20:39.342Z"
   },
   {
    "duration": 6,
    "start_time": "2021-12-28T18:20:54.734Z"
   },
   {
    "duration": 368,
    "start_time": "2021-12-28T18:21:03.575Z"
   },
   {
    "duration": 343,
    "start_time": "2021-12-28T18:22:06.775Z"
   },
   {
    "duration": 5467,
    "start_time": "2021-12-28T18:22:13.789Z"
   },
   {
    "duration": 5,
    "start_time": "2021-12-28T18:23:01.780Z"
   },
   {
    "duration": 6190,
    "start_time": "2021-12-28T18:23:10.812Z"
   },
   {
    "duration": 5,
    "start_time": "2021-12-28T18:23:25.882Z"
   },
   {
    "duration": 9,
    "start_time": "2021-12-28T18:27:19.244Z"
   },
   {
    "duration": 5210,
    "start_time": "2021-12-28T18:27:25.619Z"
   },
   {
    "duration": 11,
    "start_time": "2021-12-28T18:28:05.157Z"
   },
   {
    "duration": 10,
    "start_time": "2021-12-28T18:28:10.531Z"
   },
   {
    "duration": 10447,
    "start_time": "2021-12-28T18:28:31.265Z"
   },
   {
    "duration": 9,
    "start_time": "2021-12-28T18:29:02.320Z"
   },
   {
    "duration": 5329,
    "start_time": "2021-12-28T18:29:24.918Z"
   },
   {
    "duration": 10772,
    "start_time": "2021-12-28T18:31:04.931Z"
   },
   {
    "duration": 4,
    "start_time": "2021-12-28T18:32:51.189Z"
   },
   {
    "duration": 3,
    "start_time": "2021-12-28T18:32:53.681Z"
   },
   {
    "duration": 4,
    "start_time": "2021-12-28T18:32:59.158Z"
   },
   {
    "duration": 6030,
    "start_time": "2021-12-28T18:33:01.478Z"
   },
   {
    "duration": 3,
    "start_time": "2021-12-28T18:34:38.734Z"
   },
   {
    "duration": 4,
    "start_time": "2021-12-28T18:36:58.286Z"
   },
   {
    "duration": 9066,
    "start_time": "2021-12-28T18:40:05.635Z"
   },
   {
    "duration": 16,
    "start_time": "2021-12-28T18:40:35.681Z"
   },
   {
    "duration": 1022,
    "start_time": "2021-12-29T10:00:33.689Z"
   },
   {
    "duration": 3,
    "start_time": "2021-12-29T10:00:34.713Z"
   },
   {
    "duration": 177,
    "start_time": "2021-12-29T10:00:34.718Z"
   },
   {
    "duration": 20,
    "start_time": "2021-12-29T10:00:34.897Z"
   },
   {
    "duration": 45,
    "start_time": "2021-12-29T10:00:34.919Z"
   },
   {
    "duration": 165,
    "start_time": "2021-12-29T10:00:34.966Z"
   },
   {
    "duration": 8,
    "start_time": "2021-12-29T10:00:35.133Z"
   },
   {
    "duration": 28,
    "start_time": "2021-12-29T10:00:35.144Z"
   },
   {
    "duration": 91,
    "start_time": "2021-12-29T10:00:35.174Z"
   },
   {
    "duration": 7,
    "start_time": "2021-12-29T10:00:35.267Z"
   },
   {
    "duration": 18,
    "start_time": "2021-12-29T10:00:35.276Z"
   },
   {
    "duration": 16,
    "start_time": "2021-12-29T10:00:35.296Z"
   },
   {
    "duration": 17,
    "start_time": "2021-12-29T10:00:35.314Z"
   },
   {
    "duration": 13,
    "start_time": "2021-12-29T10:00:35.332Z"
   },
   {
    "duration": 33,
    "start_time": "2021-12-29T10:00:35.346Z"
   },
   {
    "duration": 23,
    "start_time": "2021-12-29T10:00:35.381Z"
   },
   {
    "duration": 11,
    "start_time": "2021-12-29T10:00:35.405Z"
   },
   {
    "duration": 45,
    "start_time": "2021-12-29T10:00:35.418Z"
   },
   {
    "duration": 24,
    "start_time": "2021-12-29T10:00:35.465Z"
   },
   {
    "duration": 18,
    "start_time": "2021-12-29T10:00:35.491Z"
   },
   {
    "duration": 20,
    "start_time": "2021-12-29T10:00:35.511Z"
   },
   {
    "duration": 21,
    "start_time": "2021-12-29T10:00:35.533Z"
   },
   {
    "duration": 19,
    "start_time": "2021-12-29T10:00:35.557Z"
   },
   {
    "duration": 23,
    "start_time": "2021-12-29T10:00:35.578Z"
   },
   {
    "duration": 7,
    "start_time": "2021-12-29T10:00:35.603Z"
   },
   {
    "duration": 18,
    "start_time": "2021-12-29T10:00:35.612Z"
   },
   {
    "duration": 22,
    "start_time": "2021-12-29T10:00:35.632Z"
   },
   {
    "duration": 153,
    "start_time": "2021-12-29T10:00:35.656Z"
   },
   {
    "duration": 70,
    "start_time": "2021-12-29T10:00:35.811Z"
   },
   {
    "duration": 65,
    "start_time": "2021-12-29T10:00:35.883Z"
   },
   {
    "duration": 10,
    "start_time": "2021-12-29T10:00:35.960Z"
   },
   {
    "duration": 688,
    "start_time": "2021-12-29T10:00:35.972Z"
   },
   {
    "duration": 30,
    "start_time": "2021-12-29T10:00:36.663Z"
   },
   {
    "duration": 63,
    "start_time": "2021-12-29T10:00:36.695Z"
   },
   {
    "duration": 4,
    "start_time": "2021-12-29T10:00:36.760Z"
   },
   {
    "duration": 60,
    "start_time": "2021-12-29T10:00:36.766Z"
   },
   {
    "duration": 11,
    "start_time": "2021-12-29T10:00:36.827Z"
   },
   {
    "duration": 18,
    "start_time": "2021-12-29T10:00:36.840Z"
   },
   {
    "duration": 167,
    "start_time": "2021-12-29T10:00:36.860Z"
   },
   {
    "duration": -160,
    "start_time": "2021-12-29T10:00:37.189Z"
   },
   {
    "duration": -168,
    "start_time": "2021-12-29T10:00:37.198Z"
   },
   {
    "duration": -176,
    "start_time": "2021-12-29T10:00:37.207Z"
   },
   {
    "duration": -183,
    "start_time": "2021-12-29T10:00:37.215Z"
   },
   {
    "duration": -190,
    "start_time": "2021-12-29T10:00:37.223Z"
   },
   {
    "duration": -197,
    "start_time": "2021-12-29T10:00:37.231Z"
   },
   {
    "duration": -204,
    "start_time": "2021-12-29T10:00:37.239Z"
   },
   {
    "duration": -214,
    "start_time": "2021-12-29T10:00:37.250Z"
   },
   {
    "duration": 373,
    "start_time": "2021-12-29T10:01:03.218Z"
   },
   {
    "duration": 12,
    "start_time": "2021-12-29T10:01:11.454Z"
   },
   {
    "duration": 12027,
    "start_time": "2021-12-29T10:01:13.562Z"
   },
   {
    "duration": 29,
    "start_time": "2021-12-29T10:01:32.571Z"
   },
   {
    "duration": 4,
    "start_time": "2021-12-29T10:05:01.247Z"
   },
   {
    "duration": 6,
    "start_time": "2021-12-29T10:05:03.531Z"
   },
   {
    "duration": 7,
    "start_time": "2021-12-29T10:06:03.122Z"
   },
   {
    "duration": 5,
    "start_time": "2021-12-29T10:06:15.567Z"
   },
   {
    "duration": 4612,
    "start_time": "2021-12-29T10:06:25.669Z"
   },
   {
    "duration": 7652,
    "start_time": "2021-12-29T10:08:38.229Z"
   },
   {
    "duration": 12,
    "start_time": "2021-12-29T10:08:47.885Z"
   },
   {
    "duration": 22,
    "start_time": "2021-12-29T10:09:05.816Z"
   },
   {
    "duration": 7601,
    "start_time": "2021-12-29T10:09:59.395Z"
   },
   {
    "duration": 13,
    "start_time": "2021-12-29T10:10:09.876Z"
   },
   {
    "duration": 19,
    "start_time": "2021-12-29T10:10:21.830Z"
   },
   {
    "duration": 268,
    "start_time": "2021-12-29T10:14:58.982Z"
   },
   {
    "duration": 4357,
    "start_time": "2021-12-29T10:15:17.390Z"
   },
   {
    "duration": 282,
    "start_time": "2021-12-29T10:15:53.885Z"
   },
   {
    "duration": 293,
    "start_time": "2021-12-29T10:18:26.973Z"
   },
   {
    "duration": 11,
    "start_time": "2021-12-29T10:21:20.009Z"
   },
   {
    "duration": 8,
    "start_time": "2021-12-29T10:21:28.986Z"
   },
   {
    "duration": 261,
    "start_time": "2021-12-29T10:23:14.027Z"
   },
   {
    "duration": 2060,
    "start_time": "2021-12-29T10:27:02.082Z"
   },
   {
    "duration": 1892,
    "start_time": "2021-12-29T10:27:19.574Z"
   },
   {
    "duration": 273,
    "start_time": "2021-12-29T10:27:58.323Z"
   },
   {
    "duration": 10,
    "start_time": "2021-12-29T10:28:15.118Z"
   },
   {
    "duration": 361,
    "start_time": "2021-12-29T10:28:40.458Z"
   },
   {
    "duration": 9,
    "start_time": "2021-12-29T10:28:49.708Z"
   },
   {
    "duration": 8,
    "start_time": "2021-12-29T10:29:50.497Z"
   },
   {
    "duration": 6,
    "start_time": "2021-12-29T10:29:59.327Z"
   },
   {
    "duration": 1839,
    "start_time": "2021-12-29T10:30:34.432Z"
   },
   {
    "duration": 6127,
    "start_time": "2021-12-29T10:30:51.074Z"
   },
   {
    "duration": 20,
    "start_time": "2021-12-29T10:30:59.860Z"
   },
   {
    "duration": 6211,
    "start_time": "2021-12-29T10:32:50.822Z"
   },
   {
    "duration": 20,
    "start_time": "2021-12-29T10:32:59.564Z"
   },
   {
    "duration": 15,
    "start_time": "2021-12-29T10:34:48.701Z"
   },
   {
    "duration": 11,
    "start_time": "2021-12-29T10:34:59.141Z"
   },
   {
    "duration": 8,
    "start_time": "2021-12-29T10:36:12.439Z"
   },
   {
    "duration": 8,
    "start_time": "2021-12-29T10:36:46.932Z"
   },
   {
    "duration": 6186,
    "start_time": "2021-12-29T10:37:07.293Z"
   },
   {
    "duration": 18,
    "start_time": "2021-12-29T10:37:13.481Z"
   },
   {
    "duration": 14,
    "start_time": "2021-12-29T10:38:16.466Z"
   },
   {
    "duration": 5971,
    "start_time": "2021-12-29T10:47:34.262Z"
   },
   {
    "duration": 14,
    "start_time": "2021-12-29T10:47:41.788Z"
   },
   {
    "duration": 6178,
    "start_time": "2021-12-29T10:50:48.975Z"
   },
   {
    "duration": 14,
    "start_time": "2021-12-29T10:50:58.934Z"
   },
   {
    "duration": 386,
    "start_time": "2021-12-29T11:04:30.450Z"
   },
   {
    "duration": 24,
    "start_time": "2021-12-29T11:04:31.524Z"
   },
   {
    "duration": 37,
    "start_time": "2021-12-29T11:04:36.094Z"
   },
   {
    "duration": 6,
    "start_time": "2021-12-29T11:04:36.568Z"
   },
   {
    "duration": 14,
    "start_time": "2021-12-29T11:04:40.713Z"
   },
   {
    "duration": 43,
    "start_time": "2021-12-29T11:04:46.000Z"
   },
   {
    "duration": 13,
    "start_time": "2021-12-29T11:04:46.535Z"
   },
   {
    "duration": 91,
    "start_time": "2021-12-29T11:06:35.274Z"
   },
   {
    "duration": 343,
    "start_time": "2021-12-29T11:06:44.466Z"
   },
   {
    "duration": 27,
    "start_time": "2021-12-29T11:06:46.864Z"
   },
   {
    "duration": 348,
    "start_time": "2021-12-29T11:07:02.365Z"
   },
   {
    "duration": 25,
    "start_time": "2021-12-29T11:07:03.326Z"
   },
   {
    "duration": 9,
    "start_time": "2021-12-29T11:11:39.178Z"
   },
   {
    "duration": 22,
    "start_time": "2021-12-29T11:11:48.298Z"
   },
   {
    "duration": 83,
    "start_time": "2021-12-29T11:13:05.625Z"
   },
   {
    "duration": 372,
    "start_time": "2021-12-29T11:13:16.208Z"
   },
   {
    "duration": 24,
    "start_time": "2021-12-29T11:13:18.334Z"
   },
   {
    "duration": 607,
    "start_time": "2021-12-29T11:17:51.641Z"
   },
   {
    "duration": 286,
    "start_time": "2021-12-29T11:18:16.548Z"
   },
   {
    "duration": 260,
    "start_time": "2021-12-29T11:18:20.832Z"
   },
   {
    "duration": 348,
    "start_time": "2021-12-29T11:18:34.405Z"
   },
   {
    "duration": 248,
    "start_time": "2021-12-29T11:18:36.771Z"
   },
   {
    "duration": 100,
    "start_time": "2021-12-29T11:18:52.802Z"
   },
   {
    "duration": 1248,
    "start_time": "2021-12-29T11:19:24.249Z"
   },
   {
    "duration": 3,
    "start_time": "2021-12-29T11:19:25.500Z"
   },
   {
    "duration": 170,
    "start_time": "2021-12-29T11:19:25.505Z"
   },
   {
    "duration": 16,
    "start_time": "2021-12-29T11:19:25.676Z"
   },
   {
    "duration": 26,
    "start_time": "2021-12-29T11:19:25.695Z"
   },
   {
    "duration": 169,
    "start_time": "2021-12-29T11:19:25.723Z"
   },
   {
    "duration": 9,
    "start_time": "2021-12-29T11:19:25.894Z"
   },
   {
    "duration": 24,
    "start_time": "2021-12-29T11:19:25.906Z"
   },
   {
    "duration": 106,
    "start_time": "2021-12-29T11:19:25.932Z"
   },
   {
    "duration": 8,
    "start_time": "2021-12-29T11:19:26.040Z"
   },
   {
    "duration": 33,
    "start_time": "2021-12-29T11:19:26.061Z"
   },
   {
    "duration": 17,
    "start_time": "2021-12-29T11:19:26.096Z"
   },
   {
    "duration": 12,
    "start_time": "2021-12-29T11:19:26.116Z"
   },
   {
    "duration": 9,
    "start_time": "2021-12-29T11:19:26.130Z"
   },
   {
    "duration": 32,
    "start_time": "2021-12-29T11:19:26.141Z"
   },
   {
    "duration": 19,
    "start_time": "2021-12-29T11:19:26.175Z"
   },
   {
    "duration": 14,
    "start_time": "2021-12-29T11:19:26.197Z"
   },
   {
    "duration": 59,
    "start_time": "2021-12-29T11:19:26.213Z"
   },
   {
    "duration": 39,
    "start_time": "2021-12-29T11:19:26.275Z"
   },
   {
    "duration": 45,
    "start_time": "2021-12-29T11:19:26.316Z"
   },
   {
    "duration": 7,
    "start_time": "2021-12-29T11:19:26.364Z"
   },
   {
    "duration": 8,
    "start_time": "2021-12-29T11:19:26.373Z"
   },
   {
    "duration": 17,
    "start_time": "2021-12-29T11:19:26.387Z"
   },
   {
    "duration": 10,
    "start_time": "2021-12-29T11:19:26.408Z"
   },
   {
    "duration": 8,
    "start_time": "2021-12-29T11:19:26.421Z"
   },
   {
    "duration": 34,
    "start_time": "2021-12-29T11:19:26.431Z"
   },
   {
    "duration": 9,
    "start_time": "2021-12-29T11:19:26.467Z"
   },
   {
    "duration": 119,
    "start_time": "2021-12-29T11:19:26.478Z"
   },
   {
    "duration": 43,
    "start_time": "2021-12-29T11:19:26.598Z"
   },
   {
    "duration": 80,
    "start_time": "2021-12-29T11:19:26.643Z"
   },
   {
    "duration": 11,
    "start_time": "2021-12-29T11:19:26.725Z"
   },
   {
    "duration": 440,
    "start_time": "2021-12-29T11:19:26.761Z"
   },
   {
    "duration": -759,
    "start_time": "2021-12-29T11:19:27.963Z"
   },
   {
    "duration": -770,
    "start_time": "2021-12-29T11:19:27.976Z"
   },
   {
    "duration": -781,
    "start_time": "2021-12-29T11:19:27.988Z"
   },
   {
    "duration": -790,
    "start_time": "2021-12-29T11:19:27.999Z"
   },
   {
    "duration": -796,
    "start_time": "2021-12-29T11:19:28.007Z"
   },
   {
    "duration": -804,
    "start_time": "2021-12-29T11:19:28.016Z"
   },
   {
    "duration": -810,
    "start_time": "2021-12-29T11:19:28.024Z"
   },
   {
    "duration": -815,
    "start_time": "2021-12-29T11:19:28.031Z"
   },
   {
    "duration": -822,
    "start_time": "2021-12-29T11:19:28.039Z"
   },
   {
    "duration": -827,
    "start_time": "2021-12-29T11:19:28.046Z"
   },
   {
    "duration": -833,
    "start_time": "2021-12-29T11:19:28.054Z"
   },
   {
    "duration": 676,
    "start_time": "2021-12-29T11:19:35.496Z"
   },
   {
    "duration": 265,
    "start_time": "2021-12-29T11:19:41.134Z"
   },
   {
    "duration": 96,
    "start_time": "2021-12-29T11:19:52.577Z"
   },
   {
    "duration": 83,
    "start_time": "2021-12-29T11:20:11.958Z"
   },
   {
    "duration": 358,
    "start_time": "2021-12-29T11:20:24.407Z"
   },
   {
    "duration": 28,
    "start_time": "2021-12-29T11:20:26.597Z"
   },
   {
    "duration": 6,
    "start_time": "2021-12-29T11:20:34.922Z"
   },
   {
    "duration": 8,
    "start_time": "2021-12-29T11:21:05.186Z"
   },
   {
    "duration": 386,
    "start_time": "2021-12-29T11:21:17.354Z"
   },
   {
    "duration": 23,
    "start_time": "2021-12-29T11:21:19.693Z"
   },
   {
    "duration": 386,
    "start_time": "2021-12-29T11:21:35.142Z"
   },
   {
    "duration": 381,
    "start_time": "2021-12-29T11:21:58.971Z"
   },
   {
    "duration": 24,
    "start_time": "2021-12-29T11:22:01.098Z"
   },
   {
    "duration": 82,
    "start_time": "2021-12-29T11:22:41.269Z"
   },
   {
    "duration": 85,
    "start_time": "2021-12-29T11:23:10.336Z"
   },
   {
    "duration": 84,
    "start_time": "2021-12-29T11:23:23.648Z"
   },
   {
    "duration": 395,
    "start_time": "2021-12-29T11:23:31.878Z"
   },
   {
    "duration": 24,
    "start_time": "2021-12-29T11:23:35.105Z"
   },
   {
    "duration": 5263,
    "start_time": "2021-12-29T11:24:39.676Z"
   },
   {
    "duration": 5038,
    "start_time": "2021-12-29T11:24:53.656Z"
   },
   {
    "duration": 46,
    "start_time": "2021-12-29T11:25:02.834Z"
   },
   {
    "duration": 14,
    "start_time": "2021-12-29T11:25:08.259Z"
   },
   {
    "duration": 46,
    "start_time": "2021-12-29T11:25:38.988Z"
   },
   {
    "duration": 13,
    "start_time": "2021-12-29T11:25:40.635Z"
   },
   {
    "duration": 9,
    "start_time": "2021-12-29T11:27:01.605Z"
   },
   {
    "duration": 20,
    "start_time": "2021-12-29T11:27:02.185Z"
   },
   {
    "duration": 7,
    "start_time": "2021-12-29T11:27:06.032Z"
   },
   {
    "duration": 25,
    "start_time": "2021-12-29T11:27:13.733Z"
   },
   {
    "duration": 9,
    "start_time": "2021-12-29T11:28:29.093Z"
   },
   {
    "duration": 33,
    "start_time": "2021-12-29T11:28:31.680Z"
   },
   {
    "duration": 944,
    "start_time": "2021-12-29T11:29:29.861Z"
   },
   {
    "duration": 2,
    "start_time": "2021-12-29T11:29:30.807Z"
   },
   {
    "duration": 176,
    "start_time": "2021-12-29T11:29:30.811Z"
   },
   {
    "duration": 16,
    "start_time": "2021-12-29T11:29:30.989Z"
   },
   {
    "duration": 39,
    "start_time": "2021-12-29T11:29:31.006Z"
   },
   {
    "duration": 138,
    "start_time": "2021-12-29T11:29:31.047Z"
   },
   {
    "duration": 8,
    "start_time": "2021-12-29T11:29:31.187Z"
   },
   {
    "duration": 26,
    "start_time": "2021-12-29T11:29:31.198Z"
   },
   {
    "duration": 93,
    "start_time": "2021-12-29T11:29:31.227Z"
   },
   {
    "duration": 8,
    "start_time": "2021-12-29T11:29:31.322Z"
   },
   {
    "duration": 29,
    "start_time": "2021-12-29T11:29:31.332Z"
   },
   {
    "duration": 16,
    "start_time": "2021-12-29T11:29:31.363Z"
   },
   {
    "duration": 23,
    "start_time": "2021-12-29T11:29:31.381Z"
   },
   {
    "duration": 24,
    "start_time": "2021-12-29T11:29:31.406Z"
   },
   {
    "duration": 40,
    "start_time": "2021-12-29T11:29:31.432Z"
   },
   {
    "duration": 18,
    "start_time": "2021-12-29T11:29:31.473Z"
   },
   {
    "duration": 11,
    "start_time": "2021-12-29T11:29:31.493Z"
   },
   {
    "duration": 44,
    "start_time": "2021-12-29T11:29:31.505Z"
   },
   {
    "duration": 24,
    "start_time": "2021-12-29T11:29:31.551Z"
   },
   {
    "duration": 17,
    "start_time": "2021-12-29T11:29:31.577Z"
   },
   {
    "duration": 4,
    "start_time": "2021-12-29T11:29:31.596Z"
   },
   {
    "duration": 17,
    "start_time": "2021-12-29T11:29:31.602Z"
   },
   {
    "duration": 16,
    "start_time": "2021-12-29T11:29:31.623Z"
   },
   {
    "duration": 15,
    "start_time": "2021-12-29T11:29:31.642Z"
   },
   {
    "duration": 15,
    "start_time": "2021-12-29T11:29:31.659Z"
   },
   {
    "duration": 11,
    "start_time": "2021-12-29T11:29:31.676Z"
   },
   {
    "duration": 19,
    "start_time": "2021-12-29T11:29:31.689Z"
   },
   {
    "duration": 99,
    "start_time": "2021-12-29T11:29:31.710Z"
   },
   {
    "duration": 41,
    "start_time": "2021-12-29T11:29:31.811Z"
   },
   {
    "duration": 42,
    "start_time": "2021-12-29T11:29:31.854Z"
   },
   {
    "duration": 7,
    "start_time": "2021-12-29T11:29:31.898Z"
   },
   {
    "duration": 397,
    "start_time": "2021-12-29T11:29:31.907Z"
   },
   {
    "duration": 23,
    "start_time": "2021-12-29T11:29:32.306Z"
   },
   {
    "duration": 61,
    "start_time": "2021-12-29T11:29:32.330Z"
   },
   {
    "duration": 12,
    "start_time": "2021-12-29T11:29:32.393Z"
   },
   {
    "duration": 59,
    "start_time": "2021-12-29T11:29:32.406Z"
   },
   {
    "duration": 13,
    "start_time": "2021-12-29T11:29:32.466Z"
   },
   {
    "duration": 8,
    "start_time": "2021-12-29T11:29:32.480Z"
   },
   {
    "duration": 9,
    "start_time": "2021-12-29T11:29:32.490Z"
   },
   {
    "duration": 8,
    "start_time": "2021-12-29T11:29:32.500Z"
   },
   {
    "duration": 32,
    "start_time": "2021-12-29T11:29:32.509Z"
   },
   {
    "duration": 2,
    "start_time": "2021-12-29T11:29:32.543Z"
   },
   {
    "duration": 113,
    "start_time": "2021-12-29T11:29:32.547Z"
   },
   {
    "duration": -375,
    "start_time": "2021-12-29T11:29:33.038Z"
   },
   {
    "duration": 356,
    "start_time": "2021-12-29T11:29:58.342Z"
   },
   {
    "duration": 25,
    "start_time": "2021-12-29T11:30:07.213Z"
   },
   {
    "duration": 5,
    "start_time": "2021-12-29T11:34:09.920Z"
   },
   {
    "duration": 11,
    "start_time": "2021-12-29T11:34:13.788Z"
   },
   {
    "duration": 261,
    "start_time": "2021-12-29T11:35:17.379Z"
   },
   {
    "duration": 1054,
    "start_time": "2021-12-29T11:35:36.946Z"
   },
   {
    "duration": 3,
    "start_time": "2021-12-29T11:35:38.002Z"
   },
   {
    "duration": 156,
    "start_time": "2021-12-29T11:35:38.007Z"
   },
   {
    "duration": 14,
    "start_time": "2021-12-29T11:35:38.165Z"
   },
   {
    "duration": 21,
    "start_time": "2021-12-29T11:35:38.181Z"
   },
   {
    "duration": 145,
    "start_time": "2021-12-29T11:35:38.204Z"
   },
   {
    "duration": 13,
    "start_time": "2021-12-29T11:35:38.351Z"
   },
   {
    "duration": 16,
    "start_time": "2021-12-29T11:35:38.367Z"
   },
   {
    "duration": 91,
    "start_time": "2021-12-29T11:35:38.385Z"
   },
   {
    "duration": 7,
    "start_time": "2021-12-29T11:35:38.478Z"
   },
   {
    "duration": 21,
    "start_time": "2021-12-29T11:35:38.487Z"
   },
   {
    "duration": 16,
    "start_time": "2021-12-29T11:35:38.510Z"
   },
   {
    "duration": 9,
    "start_time": "2021-12-29T11:35:38.528Z"
   },
   {
    "duration": 29,
    "start_time": "2021-12-29T11:35:38.539Z"
   },
   {
    "duration": 32,
    "start_time": "2021-12-29T11:35:38.570Z"
   },
   {
    "duration": 10,
    "start_time": "2021-12-29T11:35:38.604Z"
   },
   {
    "duration": 12,
    "start_time": "2021-12-29T11:35:38.615Z"
   },
   {
    "duration": 33,
    "start_time": "2021-12-29T11:35:38.629Z"
   },
   {
    "duration": 23,
    "start_time": "2021-12-29T11:35:38.664Z"
   },
   {
    "duration": 18,
    "start_time": "2021-12-29T11:35:38.689Z"
   },
   {
    "duration": 4,
    "start_time": "2021-12-29T11:35:38.709Z"
   },
   {
    "duration": 7,
    "start_time": "2021-12-29T11:35:38.715Z"
   },
   {
    "duration": 11,
    "start_time": "2021-12-29T11:35:38.725Z"
   },
   {
    "duration": 23,
    "start_time": "2021-12-29T11:35:38.739Z"
   },
   {
    "duration": 5,
    "start_time": "2021-12-29T11:35:38.763Z"
   },
   {
    "duration": 10,
    "start_time": "2021-12-29T11:35:38.769Z"
   },
   {
    "duration": 10,
    "start_time": "2021-12-29T11:35:38.781Z"
   },
   {
    "duration": 18,
    "start_time": "2021-12-29T11:35:38.792Z"
   },
   {
    "duration": 112,
    "start_time": "2021-12-29T11:35:38.812Z"
   },
   {
    "duration": 48,
    "start_time": "2021-12-29T11:35:38.925Z"
   },
   {
    "duration": 34,
    "start_time": "2021-12-29T11:35:38.974Z"
   },
   {
    "duration": 6,
    "start_time": "2021-12-29T11:35:39.009Z"
   },
   {
    "duration": 381,
    "start_time": "2021-12-29T11:35:39.016Z"
   },
   {
    "duration": 23,
    "start_time": "2021-12-29T11:35:39.398Z"
   },
   {
    "duration": 63,
    "start_time": "2021-12-29T11:35:39.423Z"
   },
   {
    "duration": 13,
    "start_time": "2021-12-29T11:35:39.487Z"
   },
   {
    "duration": 60,
    "start_time": "2021-12-29T11:35:39.501Z"
   },
   {
    "duration": 12,
    "start_time": "2021-12-29T11:35:39.563Z"
   },
   {
    "duration": 10,
    "start_time": "2021-12-29T11:35:39.576Z"
   },
   {
    "duration": 6,
    "start_time": "2021-12-29T11:35:39.587Z"
   },
   {
    "duration": 6,
    "start_time": "2021-12-29T11:35:39.594Z"
   },
   {
    "duration": 7,
    "start_time": "2021-12-29T11:35:39.601Z"
   },
   {
    "duration": 4,
    "start_time": "2021-12-29T11:35:39.610Z"
   },
   {
    "duration": 88,
    "start_time": "2021-12-29T11:35:39.615Z"
   },
   {
    "duration": -566,
    "start_time": "2021-12-29T11:35:40.271Z"
   },
   {
    "duration": 32,
    "start_time": "2021-12-29T11:35:50.961Z"
   },
   {
    "duration": 6683,
    "start_time": "2021-12-29T11:39:23.900Z"
   },
   {
    "duration": 7113,
    "start_time": "2021-12-29T11:39:34.266Z"
   },
   {
    "duration": 6869,
    "start_time": "2021-12-29T11:39:47.352Z"
   },
   {
    "duration": 4,
    "start_time": "2021-12-29T11:40:04.748Z"
   },
   {
    "duration": 4,
    "start_time": "2021-12-29T11:40:37.269Z"
   },
   {
    "duration": 4,
    "start_time": "2021-12-29T11:40:48.001Z"
   },
   {
    "duration": 4,
    "start_time": "2021-12-29T11:40:50.536Z"
   },
   {
    "duration": 4,
    "start_time": "2021-12-29T11:41:09.309Z"
   },
   {
    "duration": 1061,
    "start_time": "2021-12-29T11:41:41.555Z"
   },
   {
    "duration": 3,
    "start_time": "2021-12-29T11:41:42.618Z"
   },
   {
    "duration": 185,
    "start_time": "2021-12-29T11:41:42.623Z"
   },
   {
    "duration": 15,
    "start_time": "2021-12-29T11:41:42.810Z"
   },
   {
    "duration": 40,
    "start_time": "2021-12-29T11:41:42.827Z"
   },
   {
    "duration": 149,
    "start_time": "2021-12-29T11:41:42.869Z"
   },
   {
    "duration": 11,
    "start_time": "2021-12-29T11:41:43.019Z"
   },
   {
    "duration": 42,
    "start_time": "2021-12-29T11:41:43.032Z"
   },
   {
    "duration": 101,
    "start_time": "2021-12-29T11:41:43.076Z"
   },
   {
    "duration": 7,
    "start_time": "2021-12-29T11:41:43.179Z"
   },
   {
    "duration": 20,
    "start_time": "2021-12-29T11:41:43.188Z"
   },
   {
    "duration": 17,
    "start_time": "2021-12-29T11:41:43.210Z"
   },
   {
    "duration": 11,
    "start_time": "2021-12-29T11:41:43.228Z"
   },
   {
    "duration": 20,
    "start_time": "2021-12-29T11:41:43.241Z"
   },
   {
    "duration": 26,
    "start_time": "2021-12-29T11:41:43.263Z"
   },
   {
    "duration": 10,
    "start_time": "2021-12-29T11:41:43.291Z"
   },
   {
    "duration": 12,
    "start_time": "2021-12-29T11:41:43.303Z"
   },
   {
    "duration": 37,
    "start_time": "2021-12-29T11:41:43.317Z"
   },
   {
    "duration": 25,
    "start_time": "2021-12-29T11:41:43.356Z"
   },
   {
    "duration": 18,
    "start_time": "2021-12-29T11:41:43.383Z"
   },
   {
    "duration": 4,
    "start_time": "2021-12-29T11:41:43.403Z"
   },
   {
    "duration": 23,
    "start_time": "2021-12-29T11:41:43.409Z"
   },
   {
    "duration": 21,
    "start_time": "2021-12-29T11:41:43.436Z"
   },
   {
    "duration": 10,
    "start_time": "2021-12-29T11:41:43.459Z"
   },
   {
    "duration": 8,
    "start_time": "2021-12-29T11:41:43.471Z"
   },
   {
    "duration": 26,
    "start_time": "2021-12-29T11:41:43.481Z"
   },
   {
    "duration": 25,
    "start_time": "2021-12-29T11:41:43.508Z"
   },
   {
    "duration": 12,
    "start_time": "2021-12-29T11:41:43.535Z"
   },
   {
    "duration": 137,
    "start_time": "2021-12-29T11:41:43.549Z"
   },
   {
    "duration": 56,
    "start_time": "2021-12-29T11:41:43.688Z"
   },
   {
    "duration": 65,
    "start_time": "2021-12-29T11:41:43.746Z"
   },
   {
    "duration": 8,
    "start_time": "2021-12-29T11:41:43.813Z"
   },
   {
    "duration": 409,
    "start_time": "2021-12-29T11:41:43.823Z"
   },
   {
    "duration": 33,
    "start_time": "2021-12-29T11:41:44.234Z"
   },
   {
    "duration": 54,
    "start_time": "2021-12-29T11:41:44.269Z"
   },
   {
    "duration": 15,
    "start_time": "2021-12-29T11:41:44.325Z"
   },
   {
    "duration": 65,
    "start_time": "2021-12-29T11:41:44.342Z"
   },
   {
    "duration": 13,
    "start_time": "2021-12-29T11:41:44.409Z"
   },
   {
    "duration": 9,
    "start_time": "2021-12-29T11:41:44.424Z"
   },
   {
    "duration": 30,
    "start_time": "2021-12-29T11:41:44.434Z"
   },
   {
    "duration": 8,
    "start_time": "2021-12-29T11:41:44.466Z"
   },
   {
    "duration": 8,
    "start_time": "2021-12-29T11:41:44.475Z"
   },
   {
    "duration": 34,
    "start_time": "2021-12-29T11:41:44.485Z"
   },
   {
    "duration": 2,
    "start_time": "2021-12-29T11:41:44.522Z"
   },
   {
    "duration": 116,
    "start_time": "2021-12-29T11:41:44.527Z"
   },
   {
    "duration": -263,
    "start_time": "2021-12-29T11:41:44.908Z"
   },
   {
    "duration": 1116,
    "start_time": "2021-12-29T11:42:16.053Z"
   },
   {
    "duration": 2,
    "start_time": "2021-12-29T11:42:17.171Z"
   },
   {
    "duration": 163,
    "start_time": "2021-12-29T11:42:17.175Z"
   },
   {
    "duration": 15,
    "start_time": "2021-12-29T11:42:17.340Z"
   },
   {
    "duration": 21,
    "start_time": "2021-12-29T11:42:17.361Z"
   },
   {
    "duration": 146,
    "start_time": "2021-12-29T11:42:17.383Z"
   },
   {
    "duration": 9,
    "start_time": "2021-12-29T11:42:17.530Z"
   },
   {
    "duration": 26,
    "start_time": "2021-12-29T11:42:17.541Z"
   },
   {
    "duration": 98,
    "start_time": "2021-12-29T11:42:17.569Z"
   },
   {
    "duration": 7,
    "start_time": "2021-12-29T11:42:17.669Z"
   },
   {
    "duration": 34,
    "start_time": "2021-12-29T11:42:17.677Z"
   },
   {
    "duration": 21,
    "start_time": "2021-12-29T11:42:17.713Z"
   },
   {
    "duration": 31,
    "start_time": "2021-12-29T11:42:17.736Z"
   },
   {
    "duration": 22,
    "start_time": "2021-12-29T11:42:17.769Z"
   },
   {
    "duration": 37,
    "start_time": "2021-12-29T11:42:17.792Z"
   },
   {
    "duration": 23,
    "start_time": "2021-12-29T11:42:17.830Z"
   },
   {
    "duration": 25,
    "start_time": "2021-12-29T11:42:17.855Z"
   },
   {
    "duration": 47,
    "start_time": "2021-12-29T11:42:17.882Z"
   },
   {
    "duration": 25,
    "start_time": "2021-12-29T11:42:17.930Z"
   },
   {
    "duration": 20,
    "start_time": "2021-12-29T11:42:17.957Z"
   },
   {
    "duration": 6,
    "start_time": "2021-12-29T11:42:17.978Z"
   },
   {
    "duration": 13,
    "start_time": "2021-12-29T11:42:17.985Z"
   },
   {
    "duration": 15,
    "start_time": "2021-12-29T11:42:18.002Z"
   },
   {
    "duration": 6,
    "start_time": "2021-12-29T11:42:18.019Z"
   },
   {
    "duration": 9,
    "start_time": "2021-12-29T11:42:18.027Z"
   },
   {
    "duration": 8,
    "start_time": "2021-12-29T11:42:18.038Z"
   },
   {
    "duration": 14,
    "start_time": "2021-12-29T11:42:18.047Z"
   },
   {
    "duration": 12,
    "start_time": "2021-12-29T11:42:18.063Z"
   },
   {
    "duration": 112,
    "start_time": "2021-12-29T11:42:18.077Z"
   },
   {
    "duration": 42,
    "start_time": "2021-12-29T11:42:18.191Z"
   },
   {
    "duration": 54,
    "start_time": "2021-12-29T11:42:18.235Z"
   },
   {
    "duration": 7,
    "start_time": "2021-12-29T11:42:18.290Z"
   },
   {
    "duration": 392,
    "start_time": "2021-12-29T11:42:18.299Z"
   },
   {
    "duration": 23,
    "start_time": "2021-12-29T11:42:18.693Z"
   },
   {
    "duration": 64,
    "start_time": "2021-12-29T11:42:18.718Z"
   },
   {
    "duration": 13,
    "start_time": "2021-12-29T11:42:18.784Z"
   },
   {
    "duration": 61,
    "start_time": "2021-12-29T11:42:18.799Z"
   },
   {
    "duration": 13,
    "start_time": "2021-12-29T11:42:18.862Z"
   },
   {
    "duration": 10,
    "start_time": "2021-12-29T11:42:18.876Z"
   },
   {
    "duration": 17,
    "start_time": "2021-12-29T11:42:18.887Z"
   },
   {
    "duration": 5,
    "start_time": "2021-12-29T11:42:18.906Z"
   },
   {
    "duration": 50,
    "start_time": "2021-12-29T11:42:18.912Z"
   },
   {
    "duration": 7,
    "start_time": "2021-12-29T11:42:18.963Z"
   },
   {
    "duration": 36,
    "start_time": "2021-12-29T11:42:18.972Z"
   },
   {
    "duration": 7,
    "start_time": "2021-12-29T11:42:19.010Z"
   },
   {
    "duration": 57,
    "start_time": "2021-12-29T11:42:19.018Z"
   },
   {
    "duration": 5,
    "start_time": "2021-12-29T11:42:19.077Z"
   },
   {
    "duration": 117,
    "start_time": "2021-12-29T11:42:19.083Z"
   },
   {
    "duration": -588,
    "start_time": "2021-12-29T11:42:19.790Z"
   },
   {
    "duration": 930,
    "start_time": "2021-12-29T11:42:40.581Z"
   },
   {
    "duration": 4,
    "start_time": "2021-12-29T11:42:41.513Z"
   },
   {
    "duration": 172,
    "start_time": "2021-12-29T11:42:41.519Z"
   },
   {
    "duration": 17,
    "start_time": "2021-12-29T11:42:41.693Z"
   },
   {
    "duration": 31,
    "start_time": "2021-12-29T11:42:41.712Z"
   },
   {
    "duration": 147,
    "start_time": "2021-12-29T11:42:41.745Z"
   },
   {
    "duration": 8,
    "start_time": "2021-12-29T11:42:41.894Z"
   },
   {
    "duration": 24,
    "start_time": "2021-12-29T11:42:41.905Z"
   },
   {
    "duration": 90,
    "start_time": "2021-12-29T11:42:41.931Z"
   },
   {
    "duration": 7,
    "start_time": "2021-12-29T11:42:42.023Z"
   },
   {
    "duration": 30,
    "start_time": "2021-12-29T11:42:42.032Z"
   },
   {
    "duration": 16,
    "start_time": "2021-12-29T11:42:42.063Z"
   },
   {
    "duration": 13,
    "start_time": "2021-12-29T11:42:42.081Z"
   },
   {
    "duration": 17,
    "start_time": "2021-12-29T11:42:42.096Z"
   },
   {
    "duration": 28,
    "start_time": "2021-12-29T11:42:42.115Z"
   },
   {
    "duration": 12,
    "start_time": "2021-12-29T11:42:42.145Z"
   },
   {
    "duration": 10,
    "start_time": "2021-12-29T11:42:42.159Z"
   },
   {
    "duration": 37,
    "start_time": "2021-12-29T11:42:42.170Z"
   },
   {
    "duration": 24,
    "start_time": "2021-12-29T11:42:42.209Z"
   },
   {
    "duration": 32,
    "start_time": "2021-12-29T11:42:42.235Z"
   },
   {
    "duration": 5,
    "start_time": "2021-12-29T11:42:42.269Z"
   },
   {
    "duration": 25,
    "start_time": "2021-12-29T11:42:42.275Z"
   },
   {
    "duration": 23,
    "start_time": "2021-12-29T11:42:42.304Z"
   },
   {
    "duration": 6,
    "start_time": "2021-12-29T11:42:42.329Z"
   },
   {
    "duration": 9,
    "start_time": "2021-12-29T11:42:42.336Z"
   },
   {
    "duration": 15,
    "start_time": "2021-12-29T11:42:42.346Z"
   },
   {
    "duration": 10,
    "start_time": "2021-12-29T11:42:42.363Z"
   },
   {
    "duration": 15,
    "start_time": "2021-12-29T11:42:42.374Z"
   },
   {
    "duration": 112,
    "start_time": "2021-12-29T11:42:42.391Z"
   },
   {
    "duration": 44,
    "start_time": "2021-12-29T11:42:42.505Z"
   },
   {
    "duration": 47,
    "start_time": "2021-12-29T11:42:42.550Z"
   },
   {
    "duration": 7,
    "start_time": "2021-12-29T11:42:42.599Z"
   },
   {
    "duration": 397,
    "start_time": "2021-12-29T11:42:42.607Z"
   },
   {
    "duration": 22,
    "start_time": "2021-12-29T11:42:43.006Z"
   },
   {
    "duration": 62,
    "start_time": "2021-12-29T11:42:43.030Z"
   },
   {
    "duration": 13,
    "start_time": "2021-12-29T11:42:43.094Z"
   },
   {
    "duration": 71,
    "start_time": "2021-12-29T11:42:43.110Z"
   },
   {
    "duration": 14,
    "start_time": "2021-12-29T11:42:43.182Z"
   },
   {
    "duration": 21,
    "start_time": "2021-12-29T11:42:43.198Z"
   },
   {
    "duration": 18,
    "start_time": "2021-12-29T11:42:43.221Z"
   },
   {
    "duration": 12,
    "start_time": "2021-12-29T11:42:43.241Z"
   },
   {
    "duration": 32,
    "start_time": "2021-12-29T11:42:43.254Z"
   },
   {
    "duration": 11,
    "start_time": "2021-12-29T11:42:43.288Z"
   },
   {
    "duration": 49,
    "start_time": "2021-12-29T11:42:43.301Z"
   },
   {
    "duration": 9,
    "start_time": "2021-12-29T11:42:43.352Z"
   },
   {
    "duration": 36,
    "start_time": "2021-12-29T11:42:43.363Z"
   },
   {
    "duration": 2,
    "start_time": "2021-12-29T11:42:43.401Z"
   },
   {
    "duration": 87,
    "start_time": "2021-12-29T11:42:43.405Z"
   },
   {
    "duration": -609,
    "start_time": "2021-12-29T11:42:44.103Z"
   },
   {
    "duration": 4,
    "start_time": "2021-12-29T11:43:10.735Z"
   },
   {
    "duration": 32,
    "start_time": "2021-12-29T11:43:28.539Z"
   },
   {
    "duration": 88,
    "start_time": "2021-12-29T12:17:02.601Z"
   },
   {
    "duration": 99,
    "start_time": "2021-12-29T12:17:16.687Z"
   },
   {
    "duration": 6,
    "start_time": "2021-12-29T12:17:22.976Z"
   },
   {
    "duration": 899,
    "start_time": "2021-12-29T18:44:12.330Z"
   },
   {
    "duration": 2,
    "start_time": "2021-12-29T18:44:13.231Z"
   },
   {
    "duration": 160,
    "start_time": "2021-12-29T18:44:13.235Z"
   },
   {
    "duration": 14,
    "start_time": "2021-12-29T18:44:13.396Z"
   },
   {
    "duration": 25,
    "start_time": "2021-12-29T18:44:13.411Z"
   },
   {
    "duration": 141,
    "start_time": "2021-12-29T18:44:13.437Z"
   },
   {
    "duration": 12,
    "start_time": "2021-12-29T18:44:13.579Z"
   },
   {
    "duration": 28,
    "start_time": "2021-12-29T18:44:13.593Z"
   },
   {
    "duration": 88,
    "start_time": "2021-12-29T18:44:13.623Z"
   },
   {
    "duration": 7,
    "start_time": "2021-12-29T18:44:13.714Z"
   },
   {
    "duration": 34,
    "start_time": "2021-12-29T18:44:13.722Z"
   },
   {
    "duration": 34,
    "start_time": "2021-12-29T18:44:13.758Z"
   },
   {
    "duration": 19,
    "start_time": "2021-12-29T18:44:13.794Z"
   },
   {
    "duration": 20,
    "start_time": "2021-12-29T18:44:13.814Z"
   },
   {
    "duration": 49,
    "start_time": "2021-12-29T18:44:13.835Z"
   },
   {
    "duration": 22,
    "start_time": "2021-12-29T18:44:13.886Z"
   },
   {
    "duration": 23,
    "start_time": "2021-12-29T18:44:13.909Z"
   },
   {
    "duration": 42,
    "start_time": "2021-12-29T18:44:13.934Z"
   },
   {
    "duration": 23,
    "start_time": "2021-12-29T18:44:13.978Z"
   },
   {
    "duration": 17,
    "start_time": "2021-12-29T18:44:14.003Z"
   },
   {
    "duration": 16,
    "start_time": "2021-12-29T18:44:14.022Z"
   },
   {
    "duration": 27,
    "start_time": "2021-12-29T18:44:14.040Z"
   },
   {
    "duration": 18,
    "start_time": "2021-12-29T18:44:14.068Z"
   },
   {
    "duration": 12,
    "start_time": "2021-12-29T18:44:14.087Z"
   },
   {
    "duration": 8,
    "start_time": "2021-12-29T18:44:14.100Z"
   },
   {
    "duration": 23,
    "start_time": "2021-12-29T18:44:14.109Z"
   },
   {
    "duration": 15,
    "start_time": "2021-12-29T18:44:14.135Z"
   },
   {
    "duration": 21,
    "start_time": "2021-12-29T18:44:14.152Z"
   },
   {
    "duration": 100,
    "start_time": "2021-12-29T18:44:14.175Z"
   },
   {
    "duration": 44,
    "start_time": "2021-12-29T18:44:14.277Z"
   },
   {
    "duration": 37,
    "start_time": "2021-12-29T18:44:14.324Z"
   },
   {
    "duration": 28,
    "start_time": "2021-12-29T18:44:14.363Z"
   },
   {
    "duration": 413,
    "start_time": "2021-12-29T18:44:14.393Z"
   },
   {
    "duration": 24,
    "start_time": "2021-12-29T18:44:14.808Z"
   },
   {
    "duration": 79,
    "start_time": "2021-12-29T18:44:14.834Z"
   },
   {
    "duration": 18,
    "start_time": "2021-12-29T18:44:14.915Z"
   },
   {
    "duration": 73,
    "start_time": "2021-12-29T18:44:14.935Z"
   },
   {
    "duration": 19,
    "start_time": "2021-12-29T18:44:15.010Z"
   },
   {
    "duration": 20,
    "start_time": "2021-12-29T18:44:15.031Z"
   },
   {
    "duration": 13,
    "start_time": "2021-12-29T18:44:15.052Z"
   },
   {
    "duration": 31,
    "start_time": "2021-12-29T18:44:15.067Z"
   },
   {
    "duration": 15,
    "start_time": "2021-12-29T18:44:15.100Z"
   },
   {
    "duration": 53,
    "start_time": "2021-12-29T18:44:15.116Z"
   },
   {
    "duration": 6,
    "start_time": "2021-12-29T18:44:15.171Z"
   },
   {
    "duration": 28,
    "start_time": "2021-12-29T18:44:15.179Z"
   },
   {
    "duration": 507,
    "start_time": "2021-12-29T18:44:15.209Z"
   },
   {
    "duration": -39,
    "start_time": "2021-12-29T18:44:15.756Z"
   },
   {
    "duration": 992,
    "start_time": "2021-12-29T18:44:30.338Z"
   },
   {
    "duration": 2,
    "start_time": "2021-12-29T18:44:31.335Z"
   },
   {
    "duration": 168,
    "start_time": "2021-12-29T18:44:31.340Z"
   },
   {
    "duration": 14,
    "start_time": "2021-12-29T18:44:31.510Z"
   },
   {
    "duration": 28,
    "start_time": "2021-12-29T18:44:31.526Z"
   },
   {
    "duration": 136,
    "start_time": "2021-12-29T18:44:31.556Z"
   },
   {
    "duration": 9,
    "start_time": "2021-12-29T18:44:31.694Z"
   },
   {
    "duration": 20,
    "start_time": "2021-12-29T18:44:31.705Z"
   },
   {
    "duration": 101,
    "start_time": "2021-12-29T18:44:31.726Z"
   },
   {
    "duration": 7,
    "start_time": "2021-12-29T18:44:31.828Z"
   },
   {
    "duration": 19,
    "start_time": "2021-12-29T18:44:31.837Z"
   },
   {
    "duration": 28,
    "start_time": "2021-12-29T18:44:31.857Z"
   },
   {
    "duration": 12,
    "start_time": "2021-12-29T18:44:31.887Z"
   },
   {
    "duration": 16,
    "start_time": "2021-12-29T18:44:31.900Z"
   },
   {
    "duration": 48,
    "start_time": "2021-12-29T18:44:31.918Z"
   },
   {
    "duration": 38,
    "start_time": "2021-12-29T18:44:31.967Z"
   },
   {
    "duration": 33,
    "start_time": "2021-12-29T18:44:32.006Z"
   },
   {
    "duration": 65,
    "start_time": "2021-12-29T18:44:32.040Z"
   },
   {
    "duration": 23,
    "start_time": "2021-12-29T18:44:32.107Z"
   },
   {
    "duration": 17,
    "start_time": "2021-12-29T18:44:32.132Z"
   },
   {
    "duration": 8,
    "start_time": "2021-12-29T18:44:32.150Z"
   },
   {
    "duration": 12,
    "start_time": "2021-12-29T18:44:32.161Z"
   },
   {
    "duration": 25,
    "start_time": "2021-12-29T18:44:32.175Z"
   },
   {
    "duration": 5,
    "start_time": "2021-12-29T18:44:32.202Z"
   },
   {
    "duration": 7,
    "start_time": "2021-12-29T18:44:32.209Z"
   },
   {
    "duration": 14,
    "start_time": "2021-12-29T18:44:32.218Z"
   },
   {
    "duration": 12,
    "start_time": "2021-12-29T18:44:32.233Z"
   },
   {
    "duration": 17,
    "start_time": "2021-12-29T18:44:32.247Z"
   },
   {
    "duration": 104,
    "start_time": "2021-12-29T18:44:32.265Z"
   },
   {
    "duration": 44,
    "start_time": "2021-12-29T18:44:32.370Z"
   },
   {
    "duration": 38,
    "start_time": "2021-12-29T18:44:32.415Z"
   },
   {
    "duration": 6,
    "start_time": "2021-12-29T18:44:32.454Z"
   },
   {
    "duration": 444,
    "start_time": "2021-12-29T18:44:32.462Z"
   },
   {
    "duration": 24,
    "start_time": "2021-12-29T18:44:32.907Z"
   },
   {
    "duration": 60,
    "start_time": "2021-12-29T18:44:32.933Z"
   },
   {
    "duration": 13,
    "start_time": "2021-12-29T18:44:32.994Z"
   },
   {
    "duration": 45,
    "start_time": "2021-12-29T18:44:33.009Z"
   },
   {
    "duration": 13,
    "start_time": "2021-12-29T18:44:33.055Z"
   },
   {
    "duration": 25,
    "start_time": "2021-12-29T18:44:33.069Z"
   },
   {
    "duration": 9,
    "start_time": "2021-12-29T18:44:33.096Z"
   },
   {
    "duration": 7,
    "start_time": "2021-12-29T18:44:33.106Z"
   },
   {
    "duration": 6,
    "start_time": "2021-12-29T18:44:33.115Z"
   },
   {
    "duration": 35,
    "start_time": "2021-12-29T18:44:33.123Z"
   },
   {
    "duration": 6,
    "start_time": "2021-12-29T18:44:33.159Z"
   },
   {
    "duration": 25,
    "start_time": "2021-12-29T18:44:33.167Z"
   },
   {
    "duration": 5909,
    "start_time": "2021-12-29T18:44:33.193Z"
   },
   {
    "duration": -49,
    "start_time": "2021-12-29T18:44:39.153Z"
   },
   {
    "duration": 4408,
    "start_time": "2021-12-29T18:45:28.926Z"
   },
   {
    "duration": -62,
    "start_time": "2021-12-29T18:45:33.398Z"
   },
   {
    "duration": 4597,
    "start_time": "2021-12-29T18:45:51.703Z"
   },
   {
    "duration": 878,
    "start_time": "2021-12-29T18:46:21.357Z"
   },
   {
    "duration": 3,
    "start_time": "2021-12-29T18:46:22.237Z"
   },
   {
    "duration": 170,
    "start_time": "2021-12-29T18:46:22.242Z"
   },
   {
    "duration": 15,
    "start_time": "2021-12-29T18:46:22.414Z"
   },
   {
    "duration": 24,
    "start_time": "2021-12-29T18:46:22.431Z"
   },
   {
    "duration": 140,
    "start_time": "2021-12-29T18:46:22.457Z"
   },
   {
    "duration": 9,
    "start_time": "2021-12-29T18:46:22.599Z"
   },
   {
    "duration": 17,
    "start_time": "2021-12-29T18:46:22.611Z"
   },
   {
    "duration": 98,
    "start_time": "2021-12-29T18:46:22.631Z"
   },
   {
    "duration": 8,
    "start_time": "2021-12-29T18:46:22.730Z"
   },
   {
    "duration": 15,
    "start_time": "2021-12-29T18:46:22.740Z"
   },
   {
    "duration": 17,
    "start_time": "2021-12-29T18:46:22.757Z"
   },
   {
    "duration": 18,
    "start_time": "2021-12-29T18:46:22.775Z"
   },
   {
    "duration": 8,
    "start_time": "2021-12-29T18:46:22.794Z"
   },
   {
    "duration": 29,
    "start_time": "2021-12-29T18:46:22.803Z"
   },
   {
    "duration": 9,
    "start_time": "2021-12-29T18:46:22.834Z"
   },
   {
    "duration": 11,
    "start_time": "2021-12-29T18:46:22.844Z"
   },
   {
    "duration": 40,
    "start_time": "2021-12-29T18:46:22.856Z"
   },
   {
    "duration": 22,
    "start_time": "2021-12-29T18:46:22.898Z"
   },
   {
    "duration": 21,
    "start_time": "2021-12-29T18:46:22.921Z"
   },
   {
    "duration": 11,
    "start_time": "2021-12-29T18:46:22.944Z"
   },
   {
    "duration": 11,
    "start_time": "2021-12-29T18:46:22.957Z"
   },
   {
    "duration": 20,
    "start_time": "2021-12-29T18:46:22.971Z"
   },
   {
    "duration": 5,
    "start_time": "2021-12-29T18:46:22.993Z"
   },
   {
    "duration": 5,
    "start_time": "2021-12-29T18:46:22.999Z"
   },
   {
    "duration": 8,
    "start_time": "2021-12-29T18:46:23.006Z"
   },
   {
    "duration": 7,
    "start_time": "2021-12-29T18:46:23.016Z"
   },
   {
    "duration": 9,
    "start_time": "2021-12-29T18:46:23.025Z"
   },
   {
    "duration": 128,
    "start_time": "2021-12-29T18:46:23.036Z"
   },
   {
    "duration": 51,
    "start_time": "2021-12-29T18:46:23.167Z"
   },
   {
    "duration": 35,
    "start_time": "2021-12-29T18:46:23.220Z"
   },
   {
    "duration": 6,
    "start_time": "2021-12-29T18:46:23.257Z"
   },
   {
    "duration": 396,
    "start_time": "2021-12-29T18:46:23.265Z"
   },
   {
    "duration": 29,
    "start_time": "2021-12-29T18:46:23.663Z"
   },
   {
    "duration": 42,
    "start_time": "2021-12-29T18:46:23.694Z"
   },
   {
    "duration": 14,
    "start_time": "2021-12-29T18:46:23.737Z"
   },
   {
    "duration": 66,
    "start_time": "2021-12-29T18:46:23.752Z"
   },
   {
    "duration": 12,
    "start_time": "2021-12-29T18:46:23.820Z"
   },
   {
    "duration": 8,
    "start_time": "2021-12-29T18:46:23.834Z"
   },
   {
    "duration": 6,
    "start_time": "2021-12-29T18:46:23.844Z"
   },
   {
    "duration": 6,
    "start_time": "2021-12-29T18:46:23.851Z"
   },
   {
    "duration": 9,
    "start_time": "2021-12-29T18:46:23.858Z"
   },
   {
    "duration": 54,
    "start_time": "2021-12-29T18:46:23.869Z"
   },
   {
    "duration": 5,
    "start_time": "2021-12-29T18:46:23.924Z"
   },
   {
    "duration": 8,
    "start_time": "2021-12-29T18:46:23.931Z"
   },
   {
    "duration": 284,
    "start_time": "2021-12-29T18:46:23.941Z"
   },
   {
    "duration": -55,
    "start_time": "2021-12-29T18:46:24.282Z"
   },
   {
    "duration": 6,
    "start_time": "2021-12-29T18:46:34.908Z"
   },
   {
    "duration": 6220,
    "start_time": "2021-12-29T18:46:36.579Z"
   },
   {
    "duration": 12,
    "start_time": "2021-12-29T18:46:45.993Z"
   },
   {
    "duration": 22,
    "start_time": "2021-12-29T18:50:42.771Z"
   },
   {
    "duration": 2,
    "start_time": "2021-12-29T19:02:37.900Z"
   },
   {
    "duration": 6,
    "start_time": "2021-12-29T19:02:39.424Z"
   },
   {
    "duration": 7,
    "start_time": "2021-12-29T19:03:05.315Z"
   },
   {
    "duration": 96,
    "start_time": "2021-12-29T19:05:34.647Z"
   },
   {
    "duration": 623,
    "start_time": "2021-12-29T19:05:38.140Z"
   },
   {
    "duration": 6,
    "start_time": "2021-12-29T19:05:49.100Z"
   },
   {
    "duration": 236,
    "start_time": "2021-12-29T19:05:58.254Z"
   },
   {
    "duration": 6,
    "start_time": "2021-12-29T19:06:09.050Z"
   },
   {
    "duration": 9074,
    "start_time": "2021-12-29T19:06:57.900Z"
   },
   {
    "duration": 13,
    "start_time": "2021-12-29T19:07:09.236Z"
   },
   {
    "duration": 19,
    "start_time": "2021-12-29T19:07:23.282Z"
   },
   {
    "duration": 9636,
    "start_time": "2021-12-29T19:16:48.918Z"
   },
   {
    "duration": 18,
    "start_time": "2021-12-29T19:16:58.556Z"
   },
   {
    "duration": 3,
    "start_time": "2021-12-29T19:19:18.137Z"
   },
   {
    "duration": 906,
    "start_time": "2021-12-29T19:19:25.819Z"
   },
   {
    "duration": 3,
    "start_time": "2021-12-29T19:19:26.727Z"
   },
   {
    "duration": 161,
    "start_time": "2021-12-29T19:19:26.732Z"
   },
   {
    "duration": 15,
    "start_time": "2021-12-29T19:19:26.895Z"
   },
   {
    "duration": 23,
    "start_time": "2021-12-29T19:19:26.911Z"
   },
   {
    "duration": 148,
    "start_time": "2021-12-29T19:19:26.935Z"
   },
   {
    "duration": 13,
    "start_time": "2021-12-29T19:19:27.085Z"
   },
   {
    "duration": 20,
    "start_time": "2021-12-29T19:19:27.101Z"
   },
   {
    "duration": 102,
    "start_time": "2021-12-29T19:19:27.124Z"
   },
   {
    "duration": 7,
    "start_time": "2021-12-29T19:19:27.228Z"
   },
   {
    "duration": 14,
    "start_time": "2021-12-29T19:19:27.237Z"
   },
   {
    "duration": 15,
    "start_time": "2021-12-29T19:19:27.253Z"
   },
   {
    "duration": 11,
    "start_time": "2021-12-29T19:19:27.269Z"
   },
   {
    "duration": 6,
    "start_time": "2021-12-29T19:19:27.291Z"
   },
   {
    "duration": 40,
    "start_time": "2021-12-29T19:19:27.299Z"
   },
   {
    "duration": 14,
    "start_time": "2021-12-29T19:19:27.341Z"
   },
   {
    "duration": 7,
    "start_time": "2021-12-29T19:19:27.357Z"
   },
   {
    "duration": 7,
    "start_time": "2021-12-29T19:19:27.365Z"
   },
   {
    "duration": 33,
    "start_time": "2021-12-29T19:19:27.373Z"
   },
   {
    "duration": 22,
    "start_time": "2021-12-29T19:19:27.408Z"
   },
   {
    "duration": 17,
    "start_time": "2021-12-29T19:19:27.432Z"
   },
   {
    "duration": 4,
    "start_time": "2021-12-29T19:19:27.450Z"
   },
   {
    "duration": 5,
    "start_time": "2021-12-29T19:19:27.457Z"
   },
   {
    "duration": 29,
    "start_time": "2021-12-29T19:19:27.464Z"
   },
   {
    "duration": 6,
    "start_time": "2021-12-29T19:19:27.495Z"
   },
   {
    "duration": 4,
    "start_time": "2021-12-29T19:19:27.503Z"
   },
   {
    "duration": 8,
    "start_time": "2021-12-29T19:19:27.508Z"
   },
   {
    "duration": 13,
    "start_time": "2021-12-29T19:19:27.517Z"
   },
   {
    "duration": 13,
    "start_time": "2021-12-29T19:19:27.532Z"
   },
   {
    "duration": 117,
    "start_time": "2021-12-29T19:19:27.546Z"
   },
   {
    "duration": 49,
    "start_time": "2021-12-29T19:19:27.664Z"
   },
   {
    "duration": 36,
    "start_time": "2021-12-29T19:19:27.714Z"
   },
   {
    "duration": 6,
    "start_time": "2021-12-29T19:19:27.751Z"
   },
   {
    "duration": 410,
    "start_time": "2021-12-29T19:19:27.759Z"
   },
   {
    "duration": 31,
    "start_time": "2021-12-29T19:19:28.171Z"
   },
   {
    "duration": 41,
    "start_time": "2021-12-29T19:19:28.204Z"
   },
   {
    "duration": 13,
    "start_time": "2021-12-29T19:19:28.247Z"
   },
   {
    "duration": 62,
    "start_time": "2021-12-29T19:19:28.261Z"
   },
   {
    "duration": 13,
    "start_time": "2021-12-29T19:19:28.324Z"
   },
   {
    "duration": 8,
    "start_time": "2021-12-29T19:19:28.338Z"
   },
   {
    "duration": 6,
    "start_time": "2021-12-29T19:19:28.348Z"
   },
   {
    "duration": 7,
    "start_time": "2021-12-29T19:19:28.356Z"
   },
   {
    "duration": 26,
    "start_time": "2021-12-29T19:19:28.365Z"
   },
   {
    "duration": 30,
    "start_time": "2021-12-29T19:19:28.393Z"
   },
   {
    "duration": 5,
    "start_time": "2021-12-29T19:19:28.425Z"
   },
   {
    "duration": 11,
    "start_time": "2021-12-29T19:19:28.432Z"
   },
   {
    "duration": 11796,
    "start_time": "2021-12-29T19:19:28.444Z"
   },
   {
    "duration": 19,
    "start_time": "2021-12-29T19:19:40.241Z"
   },
   {
    "duration": 9,
    "start_time": "2021-12-29T19:19:40.261Z"
   },
   {
    "duration": 20,
    "start_time": "2021-12-29T19:19:40.272Z"
   },
   {
    "duration": 5,
    "start_time": "2021-12-29T19:19:40.294Z"
   },
   {
    "duration": 13,
    "start_time": "2021-12-29T19:22:58.443Z"
   },
   {
    "duration": 556,
    "start_time": "2021-12-30T05:03:41.233Z"
   },
   {
    "duration": 1444,
    "start_time": "2021-12-30T05:03:46.929Z"
   },
   {
    "duration": 3,
    "start_time": "2021-12-30T05:03:48.376Z"
   },
   {
    "duration": 222,
    "start_time": "2021-12-30T05:03:48.383Z"
   },
   {
    "duration": 28,
    "start_time": "2021-12-30T05:03:48.608Z"
   },
   {
    "duration": 46,
    "start_time": "2021-12-30T05:03:48.639Z"
   },
   {
    "duration": 295,
    "start_time": "2021-12-30T05:03:48.687Z"
   },
   {
    "duration": 12,
    "start_time": "2021-12-30T05:03:48.985Z"
   },
   {
    "duration": 24,
    "start_time": "2021-12-30T05:03:49.001Z"
   },
   {
    "duration": 150,
    "start_time": "2021-12-30T05:03:49.029Z"
   },
   {
    "duration": 11,
    "start_time": "2021-12-30T05:03:49.182Z"
   },
   {
    "duration": 31,
    "start_time": "2021-12-30T05:03:49.196Z"
   },
   {
    "duration": 19,
    "start_time": "2021-12-30T05:03:49.230Z"
   },
   {
    "duration": 12,
    "start_time": "2021-12-30T05:03:49.259Z"
   },
   {
    "duration": 9,
    "start_time": "2021-12-30T05:03:49.274Z"
   },
   {
    "duration": 34,
    "start_time": "2021-12-30T05:03:49.285Z"
   },
   {
    "duration": 40,
    "start_time": "2021-12-30T05:03:49.322Z"
   },
   {
    "duration": 9,
    "start_time": "2021-12-30T05:03:49.365Z"
   },
   {
    "duration": 5,
    "start_time": "2021-12-30T05:03:49.377Z"
   },
   {
    "duration": 87,
    "start_time": "2021-12-30T05:03:49.384Z"
   },
   {
    "duration": 33,
    "start_time": "2021-12-30T05:03:49.473Z"
   },
   {
    "duration": 25,
    "start_time": "2021-12-30T05:03:49.509Z"
   },
   {
    "duration": 7,
    "start_time": "2021-12-30T05:03:49.560Z"
   },
   {
    "duration": 4,
    "start_time": "2021-12-30T05:03:49.575Z"
   },
   {
    "duration": 13,
    "start_time": "2021-12-30T05:03:49.582Z"
   },
   {
    "duration": 10,
    "start_time": "2021-12-30T05:03:49.597Z"
   },
   {
    "duration": 6,
    "start_time": "2021-12-30T05:03:49.609Z"
   },
   {
    "duration": 8,
    "start_time": "2021-12-30T05:03:49.660Z"
   },
   {
    "duration": 13,
    "start_time": "2021-12-30T05:03:49.670Z"
   },
   {
    "duration": 13,
    "start_time": "2021-12-30T05:03:49.686Z"
   },
   {
    "duration": 209,
    "start_time": "2021-12-30T05:03:49.701Z"
   },
   {
    "duration": 83,
    "start_time": "2021-12-30T05:03:49.913Z"
   },
   {
    "duration": 82,
    "start_time": "2021-12-30T05:03:49.998Z"
   },
   {
    "duration": 10,
    "start_time": "2021-12-30T05:03:50.082Z"
   },
   {
    "duration": 724,
    "start_time": "2021-12-30T05:03:50.095Z"
   },
   {
    "duration": 45,
    "start_time": "2021-12-30T05:03:50.821Z"
   },
   {
    "duration": 58,
    "start_time": "2021-12-30T05:03:50.868Z"
   },
   {
    "duration": 42,
    "start_time": "2021-12-30T05:03:50.929Z"
   },
   {
    "duration": 60,
    "start_time": "2021-12-30T05:03:50.973Z"
   },
   {
    "duration": 41,
    "start_time": "2021-12-30T05:03:51.035Z"
   },
   {
    "duration": 9,
    "start_time": "2021-12-30T05:03:51.079Z"
   },
   {
    "duration": 18509,
    "start_time": "2021-12-30T05:03:51.091Z"
   },
   {
    "duration": 20,
    "start_time": "2021-12-30T05:04:09.603Z"
   },
   {
    "duration": 6,
    "start_time": "2021-12-30T05:04:09.625Z"
   },
   {
    "duration": 7,
    "start_time": "2021-12-30T05:04:45.099Z"
   },
   {
    "duration": 6,
    "start_time": "2021-12-30T05:05:03.516Z"
   },
   {
    "duration": 492,
    "start_time": "2021-12-30T05:12:57.151Z"
   },
   {
    "duration": 384,
    "start_time": "2021-12-30T05:13:02.560Z"
   },
   {
    "duration": 338,
    "start_time": "2021-12-30T05:13:21.303Z"
   },
   {
    "duration": 6,
    "start_time": "2021-12-30T05:13:28.647Z"
   },
   {
    "duration": 369,
    "start_time": "2021-12-30T05:13:40.501Z"
   },
   {
    "duration": 14,
    "start_time": "2021-12-30T05:13:47.257Z"
   },
   {
    "duration": 6,
    "start_time": "2021-12-30T05:13:56.778Z"
   },
   {
    "duration": 177,
    "start_time": "2021-12-30T05:14:14.425Z"
   },
   {
    "duration": 179,
    "start_time": "2021-12-30T05:27:34.148Z"
   },
   {
    "duration": 876,
    "start_time": "2021-12-30T05:29:22.007Z"
   },
   {
    "duration": 8229,
    "start_time": "2021-12-30T05:30:56.062Z"
   },
   {
    "duration": 168,
    "start_time": "2021-12-30T05:31:22.919Z"
   },
   {
    "duration": 7167,
    "start_time": "2021-12-30T05:32:13.877Z"
   },
   {
    "duration": 741,
    "start_time": "2021-12-30T05:32:31.927Z"
   },
   {
    "duration": 774,
    "start_time": "2021-12-30T05:32:44.098Z"
   },
   {
    "duration": 21266,
    "start_time": "2021-12-30T05:35:50.003Z"
   },
   {
    "duration": 21283,
    "start_time": "2021-12-30T05:38:59.488Z"
   },
   {
    "duration": 122,
    "start_time": "2021-12-30T06:04:57.088Z"
   },
   {
    "duration": 176,
    "start_time": "2021-12-30T06:05:07.996Z"
   },
   {
    "duration": 276,
    "start_time": "2021-12-30T09:48:52.184Z"
   },
   {
    "duration": 937,
    "start_time": "2021-12-30T09:48:57.372Z"
   },
   {
    "duration": 2,
    "start_time": "2021-12-30T09:48:58.311Z"
   },
   {
    "duration": 171,
    "start_time": "2021-12-30T09:48:58.315Z"
   },
   {
    "duration": 14,
    "start_time": "2021-12-30T09:48:58.489Z"
   },
   {
    "duration": 31,
    "start_time": "2021-12-30T09:48:58.504Z"
   },
   {
    "duration": 133,
    "start_time": "2021-12-30T09:48:58.537Z"
   },
   {
    "duration": 9,
    "start_time": "2021-12-30T09:48:58.672Z"
   },
   {
    "duration": 32,
    "start_time": "2021-12-30T09:48:58.682Z"
   },
   {
    "duration": 88,
    "start_time": "2021-12-30T09:48:58.716Z"
   },
   {
    "duration": 7,
    "start_time": "2021-12-30T09:48:58.806Z"
   },
   {
    "duration": 24,
    "start_time": "2021-12-30T09:48:58.815Z"
   },
   {
    "duration": 32,
    "start_time": "2021-12-30T09:48:58.841Z"
   },
   {
    "duration": 31,
    "start_time": "2021-12-30T09:48:58.874Z"
   },
   {
    "duration": 21,
    "start_time": "2021-12-30T09:48:58.907Z"
   },
   {
    "duration": 33,
    "start_time": "2021-12-30T09:48:58.930Z"
   },
   {
    "duration": 14,
    "start_time": "2021-12-30T09:48:58.965Z"
   },
   {
    "duration": 21,
    "start_time": "2021-12-30T09:48:58.980Z"
   },
   {
    "duration": 17,
    "start_time": "2021-12-30T09:48:59.002Z"
   },
   {
    "duration": 42,
    "start_time": "2021-12-30T09:48:59.021Z"
   },
   {
    "duration": 24,
    "start_time": "2021-12-30T09:48:59.065Z"
   },
   {
    "duration": 18,
    "start_time": "2021-12-30T09:48:59.091Z"
   },
   {
    "duration": 5,
    "start_time": "2021-12-30T09:48:59.111Z"
   },
   {
    "duration": 22,
    "start_time": "2021-12-30T09:48:59.118Z"
   },
   {
    "duration": 22,
    "start_time": "2021-12-30T09:48:59.142Z"
   },
   {
    "duration": 37,
    "start_time": "2021-12-30T09:48:59.166Z"
   },
   {
    "duration": 26,
    "start_time": "2021-12-30T09:48:59.205Z"
   },
   {
    "duration": 27,
    "start_time": "2021-12-30T09:48:59.235Z"
   },
   {
    "duration": 22,
    "start_time": "2021-12-30T09:48:59.264Z"
   },
   {
    "duration": 17,
    "start_time": "2021-12-30T09:48:59.287Z"
   },
   {
    "duration": 122,
    "start_time": "2021-12-30T09:48:59.306Z"
   },
   {
    "duration": 38,
    "start_time": "2021-12-30T09:48:59.430Z"
   },
   {
    "duration": 44,
    "start_time": "2021-12-30T09:48:59.470Z"
   },
   {
    "duration": 6,
    "start_time": "2021-12-30T09:48:59.516Z"
   },
   {
    "duration": 365,
    "start_time": "2021-12-30T09:48:59.524Z"
   },
   {
    "duration": 22,
    "start_time": "2021-12-30T09:48:59.891Z"
   },
   {
    "duration": 52,
    "start_time": "2021-12-30T09:48:59.915Z"
   },
   {
    "duration": 12,
    "start_time": "2021-12-30T09:48:59.968Z"
   },
   {
    "duration": 57,
    "start_time": "2021-12-30T09:48:59.982Z"
   },
   {
    "duration": 13,
    "start_time": "2021-12-30T09:49:00.041Z"
   },
   {
    "duration": 15,
    "start_time": "2021-12-30T09:49:00.056Z"
   },
   {
    "duration": 11260,
    "start_time": "2021-12-30T09:49:00.073Z"
   },
   {
    "duration": 12,
    "start_time": "2021-12-30T09:49:11.335Z"
   },
   {
    "duration": 5,
    "start_time": "2021-12-30T09:49:11.360Z"
   },
   {
    "duration": 8,
    "start_time": "2021-12-30T09:49:11.367Z"
   },
   {
    "duration": 144,
    "start_time": "2021-12-30T09:49:11.377Z"
   },
   {
    "duration": 148,
    "start_time": "2021-12-30T09:49:11.523Z"
   },
   {
    "duration": 396,
    "start_time": "2021-12-30T09:50:22.440Z"
   },
   {
    "duration": 90,
    "start_time": "2021-12-30T09:56:36.404Z"
   },
   {
    "duration": 4815,
    "start_time": "2021-12-30T09:56:42.769Z"
   },
   {
    "duration": 5084,
    "start_time": "2021-12-30T09:57:18.986Z"
   },
   {
    "duration": 3619,
    "start_time": "2021-12-30T09:57:55.795Z"
   },
   {
    "duration": 4407,
    "start_time": "2021-12-30T09:58:01.892Z"
   },
   {
    "duration": 3705,
    "start_time": "2021-12-30T09:58:49.783Z"
   },
   {
    "duration": 4866,
    "start_time": "2021-12-30T09:59:32.205Z"
   },
   {
    "duration": 3551,
    "start_time": "2021-12-30T10:00:20.596Z"
   },
   {
    "duration": 12,
    "start_time": "2021-12-30T10:02:18.040Z"
   },
   {
    "duration": 17,
    "start_time": "2021-12-30T10:02:27.596Z"
   },
   {
    "duration": 34,
    "start_time": "2021-12-30T10:03:00.497Z"
   },
   {
    "duration": 418,
    "start_time": "2021-12-30T10:08:01.385Z"
   },
   {
    "duration": 3546,
    "start_time": "2021-12-30T10:12:26.393Z"
   },
   {
    "duration": 51,
    "start_time": "2021-12-30T10:14:21.325Z"
   },
   {
    "duration": 174,
    "start_time": "2021-12-30T10:14:30.698Z"
   },
   {
    "duration": 58,
    "start_time": "2021-12-30T10:14:37.135Z"
   },
   {
    "duration": 265,
    "start_time": "2021-12-30T10:14:51.956Z"
   },
   {
    "duration": 84,
    "start_time": "2021-12-30T10:15:03.271Z"
   },
   {
    "duration": 85,
    "start_time": "2021-12-30T10:15:17.644Z"
   },
   {
    "duration": 92,
    "start_time": "2021-12-30T10:15:23.650Z"
   },
   {
    "duration": 2422,
    "start_time": "2021-12-30T10:15:38.791Z"
   },
   {
    "duration": 329,
    "start_time": "2021-12-30T10:15:58.368Z"
   },
   {
    "duration": 13,
    "start_time": "2021-12-30T10:16:00.624Z"
   },
   {
    "duration": 8163,
    "start_time": "2021-12-30T10:16:38.269Z"
   },
   {
    "duration": 12,
    "start_time": "2021-12-30T10:16:48.467Z"
   },
   {
    "duration": 823,
    "start_time": "2021-12-30T10:17:33.741Z"
   },
   {
    "duration": 4856,
    "start_time": "2021-12-30T10:18:14.569Z"
   },
   {
    "duration": 5,
    "start_time": "2021-12-30T10:19:01.151Z"
   },
   {
    "duration": 131,
    "start_time": "2021-12-30T10:19:20.782Z"
   },
   {
    "duration": 7,
    "start_time": "2021-12-30T10:20:11.994Z"
   },
   {
    "duration": 137,
    "start_time": "2021-12-30T10:20:14.406Z"
   },
   {
    "duration": 5,
    "start_time": "2021-12-30T10:20:22.330Z"
   },
   {
    "duration": 139,
    "start_time": "2021-12-30T10:20:23.874Z"
   },
   {
    "duration": 4,
    "start_time": "2021-12-30T10:21:09.682Z"
   },
   {
    "duration": 135,
    "start_time": "2021-12-30T10:21:10.814Z"
   },
   {
    "duration": 3,
    "start_time": "2021-12-30T10:21:40.588Z"
   },
   {
    "duration": 136,
    "start_time": "2021-12-30T10:21:44.796Z"
   },
   {
    "duration": 5,
    "start_time": "2021-12-30T10:21:51.321Z"
   },
   {
    "duration": 149,
    "start_time": "2021-12-30T10:21:52.832Z"
   },
   {
    "duration": 4,
    "start_time": "2021-12-30T10:24:08.024Z"
   },
   {
    "duration": 135,
    "start_time": "2021-12-30T10:24:10.264Z"
   },
   {
    "duration": 4,
    "start_time": "2021-12-30T10:24:15.397Z"
   },
   {
    "duration": 138,
    "start_time": "2021-12-30T10:24:16.617Z"
   },
   {
    "duration": 296,
    "start_time": "2021-12-30T10:24:57.881Z"
   },
   {
    "duration": 3,
    "start_time": "2021-12-30T10:25:17.301Z"
   },
   {
    "duration": 689,
    "start_time": "2021-12-30T10:47:00.963Z"
   },
   {
    "duration": 96,
    "start_time": "2021-12-30T10:47:14.649Z"
   },
   {
    "duration": 46,
    "start_time": "2021-12-30T10:47:21.653Z"
   },
   {
    "duration": 335,
    "start_time": "2021-12-30T10:48:41.568Z"
   },
   {
    "duration": 336,
    "start_time": "2021-12-30T10:48:52.357Z"
   },
   {
    "duration": 365,
    "start_time": "2021-12-30T10:49:16.775Z"
   },
   {
    "duration": 345,
    "start_time": "2021-12-30T10:49:24.888Z"
   },
   {
    "duration": 333,
    "start_time": "2021-12-30T10:49:51.181Z"
   },
   {
    "duration": 85,
    "start_time": "2021-12-30T10:50:52.799Z"
   },
   {
    "duration": 709,
    "start_time": "2021-12-30T10:51:01.016Z"
   },
   {
    "duration": 340,
    "start_time": "2021-12-30T10:51:06.237Z"
   },
   {
    "duration": 84,
    "start_time": "2021-12-30T10:51:50.526Z"
   },
   {
    "duration": 40,
    "start_time": "2021-12-30T10:51:56.629Z"
   },
   {
    "duration": 9,
    "start_time": "2021-12-30T10:51:59.630Z"
   },
   {
    "duration": 39,
    "start_time": "2021-12-30T10:52:07.741Z"
   },
   {
    "duration": 8,
    "start_time": "2021-12-30T10:52:08.267Z"
   },
   {
    "duration": 99,
    "start_time": "2021-12-30T10:52:38.100Z"
   },
   {
    "duration": 34,
    "start_time": "2021-12-30T10:52:49.919Z"
   },
   {
    "duration": 8,
    "start_time": "2021-12-30T10:52:52.212Z"
   },
   {
    "duration": 35,
    "start_time": "2021-12-30T10:57:45.815Z"
   },
   {
    "duration": 7,
    "start_time": "2021-12-30T10:57:46.603Z"
   },
   {
    "duration": 32,
    "start_time": "2021-12-30T10:59:35.593Z"
   },
   {
    "duration": 8,
    "start_time": "2021-12-30T10:59:36.159Z"
   },
   {
    "duration": 651,
    "start_time": "2021-12-30T10:59:55.310Z"
   },
   {
    "duration": 279,
    "start_time": "2021-12-30T11:00:05.519Z"
   },
   {
    "duration": 12,
    "start_time": "2021-12-30T11:00:11.702Z"
   },
   {
    "duration": 11,
    "start_time": "2021-12-30T11:00:51.357Z"
   },
   {
    "duration": 11,
    "start_time": "2021-12-30T11:00:59.776Z"
   },
   {
    "duration": 15,
    "start_time": "2021-12-30T11:02:09.539Z"
   },
   {
    "duration": 21,
    "start_time": "2021-12-30T11:02:17.537Z"
   },
   {
    "duration": 286,
    "start_time": "2021-12-30T11:04:03.106Z"
   },
   {
    "duration": 18,
    "start_time": "2021-12-30T11:04:40.262Z"
   },
   {
    "duration": 983,
    "start_time": "2021-12-30T11:04:49.817Z"
   },
   {
    "duration": 2,
    "start_time": "2021-12-30T11:04:50.802Z"
   },
   {
    "duration": 167,
    "start_time": "2021-12-30T11:04:50.806Z"
   },
   {
    "duration": 16,
    "start_time": "2021-12-30T11:04:50.975Z"
   },
   {
    "duration": 24,
    "start_time": "2021-12-30T11:04:50.993Z"
   },
   {
    "duration": 146,
    "start_time": "2021-12-30T11:04:51.019Z"
   },
   {
    "duration": 10,
    "start_time": "2021-12-30T11:04:51.167Z"
   },
   {
    "duration": 29,
    "start_time": "2021-12-30T11:04:51.180Z"
   },
   {
    "duration": 93,
    "start_time": "2021-12-30T11:04:51.212Z"
   },
   {
    "duration": 8,
    "start_time": "2021-12-30T11:04:51.307Z"
   },
   {
    "duration": 23,
    "start_time": "2021-12-30T11:04:51.316Z"
   },
   {
    "duration": 23,
    "start_time": "2021-12-30T11:04:51.341Z"
   },
   {
    "duration": 16,
    "start_time": "2021-12-30T11:04:51.366Z"
   },
   {
    "duration": 17,
    "start_time": "2021-12-30T11:04:51.384Z"
   },
   {
    "duration": 34,
    "start_time": "2021-12-30T11:04:51.403Z"
   },
   {
    "duration": 14,
    "start_time": "2021-12-30T11:04:51.439Z"
   },
   {
    "duration": 13,
    "start_time": "2021-12-30T11:04:51.455Z"
   },
   {
    "duration": 12,
    "start_time": "2021-12-30T11:04:51.470Z"
   },
   {
    "duration": 41,
    "start_time": "2021-12-30T11:04:51.483Z"
   },
   {
    "duration": 33,
    "start_time": "2021-12-30T11:04:51.526Z"
   },
   {
    "duration": 26,
    "start_time": "2021-12-30T11:04:51.561Z"
   },
   {
    "duration": 6,
    "start_time": "2021-12-30T11:04:51.589Z"
   },
   {
    "duration": 5,
    "start_time": "2021-12-30T11:04:51.600Z"
   },
   {
    "duration": 22,
    "start_time": "2021-12-30T11:04:51.608Z"
   },
   {
    "duration": 14,
    "start_time": "2021-12-30T11:04:51.632Z"
   },
   {
    "duration": 18,
    "start_time": "2021-12-30T11:04:51.648Z"
   },
   {
    "duration": 13,
    "start_time": "2021-12-30T11:04:51.668Z"
   },
   {
    "duration": 13,
    "start_time": "2021-12-30T11:04:51.682Z"
   },
   {
    "duration": 11,
    "start_time": "2021-12-30T11:04:51.697Z"
   },
   {
    "duration": 116,
    "start_time": "2021-12-30T11:04:51.710Z"
   },
   {
    "duration": 59,
    "start_time": "2021-12-30T11:04:51.828Z"
   },
   {
    "duration": 37,
    "start_time": "2021-12-30T11:04:51.888Z"
   },
   {
    "duration": 7,
    "start_time": "2021-12-30T11:04:51.927Z"
   },
   {
    "duration": 383,
    "start_time": "2021-12-30T11:04:51.935Z"
   },
   {
    "duration": 53,
    "start_time": "2021-12-30T11:04:52.320Z"
   },
   {
    "duration": 7,
    "start_time": "2021-12-30T11:04:52.375Z"
   },
   {
    "duration": 49,
    "start_time": "2021-12-30T11:04:52.384Z"
   },
   {
    "duration": 8,
    "start_time": "2021-12-30T11:04:52.435Z"
   },
   {
    "duration": 24,
    "start_time": "2021-12-30T11:04:52.445Z"
   },
   {
    "duration": 14,
    "start_time": "2021-12-30T11:04:52.471Z"
   },
   {
    "duration": 8,
    "start_time": "2021-12-30T11:04:52.487Z"
   },
   {
    "duration": 18,
    "start_time": "2021-12-30T11:04:52.497Z"
   },
   {
    "duration": 354,
    "start_time": "2021-12-30T11:04:52.517Z"
   },
   {
    "duration": -40,
    "start_time": "2021-12-30T11:04:52.914Z"
   },
   {
    "duration": -48,
    "start_time": "2021-12-30T11:04:52.923Z"
   },
   {
    "duration": -49,
    "start_time": "2021-12-30T11:04:52.925Z"
   },
   {
    "duration": -51,
    "start_time": "2021-12-30T11:04:52.928Z"
   },
   {
    "duration": -52,
    "start_time": "2021-12-30T11:04:52.930Z"
   },
   {
    "duration": -52,
    "start_time": "2021-12-30T11:04:52.932Z"
   },
   {
    "duration": 1017,
    "start_time": "2021-12-30T11:05:05.882Z"
   },
   {
    "duration": 2,
    "start_time": "2021-12-30T11:05:06.902Z"
   },
   {
    "duration": 173,
    "start_time": "2021-12-30T11:05:06.908Z"
   },
   {
    "duration": 15,
    "start_time": "2021-12-30T11:05:07.083Z"
   },
   {
    "duration": 36,
    "start_time": "2021-12-30T11:05:07.100Z"
   },
   {
    "duration": 145,
    "start_time": "2021-12-30T11:05:07.138Z"
   },
   {
    "duration": 9,
    "start_time": "2021-12-30T11:05:07.285Z"
   },
   {
    "duration": 47,
    "start_time": "2021-12-30T11:05:07.296Z"
   },
   {
    "duration": 107,
    "start_time": "2021-12-30T11:05:07.348Z"
   },
   {
    "duration": 8,
    "start_time": "2021-12-30T11:05:07.458Z"
   },
   {
    "duration": 45,
    "start_time": "2021-12-30T11:05:07.468Z"
   },
   {
    "duration": 36,
    "start_time": "2021-12-30T11:05:07.516Z"
   },
   {
    "duration": 39,
    "start_time": "2021-12-30T11:05:07.554Z"
   },
   {
    "duration": 35,
    "start_time": "2021-12-30T11:05:07.595Z"
   },
   {
    "duration": 56,
    "start_time": "2021-12-30T11:05:07.632Z"
   },
   {
    "duration": 36,
    "start_time": "2021-12-30T11:05:07.690Z"
   },
   {
    "duration": 39,
    "start_time": "2021-12-30T11:05:07.728Z"
   },
   {
    "duration": 29,
    "start_time": "2021-12-30T11:05:07.769Z"
   },
   {
    "duration": 62,
    "start_time": "2021-12-30T11:05:07.800Z"
   },
   {
    "duration": 24,
    "start_time": "2021-12-30T11:05:07.864Z"
   },
   {
    "duration": 21,
    "start_time": "2021-12-30T11:05:07.890Z"
   },
   {
    "duration": 12,
    "start_time": "2021-12-30T11:05:07.913Z"
   },
   {
    "duration": 29,
    "start_time": "2021-12-30T11:05:07.927Z"
   },
   {
    "duration": 27,
    "start_time": "2021-12-30T11:05:07.959Z"
   },
   {
    "duration": 7,
    "start_time": "2021-12-30T11:05:07.989Z"
   },
   {
    "duration": 16,
    "start_time": "2021-12-30T11:05:07.997Z"
   },
   {
    "duration": 12,
    "start_time": "2021-12-30T11:05:08.018Z"
   },
   {
    "duration": 8,
    "start_time": "2021-12-30T11:05:08.033Z"
   },
   {
    "duration": 26,
    "start_time": "2021-12-30T11:05:08.043Z"
   },
   {
    "duration": 114,
    "start_time": "2021-12-30T11:05:08.071Z"
   },
   {
    "duration": 43,
    "start_time": "2021-12-30T11:05:08.187Z"
   },
   {
    "duration": 55,
    "start_time": "2021-12-30T11:05:08.232Z"
   },
   {
    "duration": 8,
    "start_time": "2021-12-30T11:05:08.288Z"
   },
   {
    "duration": 387,
    "start_time": "2021-12-30T11:05:08.297Z"
   },
   {
    "duration": 36,
    "start_time": "2021-12-30T11:05:08.686Z"
   },
   {
    "duration": 7,
    "start_time": "2021-12-30T11:05:08.724Z"
   },
   {
    "duration": 65,
    "start_time": "2021-12-30T11:05:08.732Z"
   },
   {
    "duration": 8,
    "start_time": "2021-12-30T11:05:08.799Z"
   },
   {
    "duration": 42,
    "start_time": "2021-12-30T11:05:08.809Z"
   },
   {
    "duration": 28,
    "start_time": "2021-12-30T11:05:08.853Z"
   },
   {
    "duration": 26,
    "start_time": "2021-12-30T11:05:08.883Z"
   },
   {
    "duration": 34,
    "start_time": "2021-12-30T11:05:08.911Z"
   },
   {
    "duration": 429,
    "start_time": "2021-12-30T11:05:08.946Z"
   },
   {
    "duration": -38,
    "start_time": "2021-12-30T11:05:09.415Z"
   },
   {
    "duration": -40,
    "start_time": "2021-12-30T11:05:09.418Z"
   },
   {
    "duration": -41,
    "start_time": "2021-12-30T11:05:09.420Z"
   },
   {
    "duration": -43,
    "start_time": "2021-12-30T11:05:09.423Z"
   },
   {
    "duration": -45,
    "start_time": "2021-12-30T11:05:09.426Z"
   },
   {
    "duration": -46,
    "start_time": "2021-12-30T11:05:09.428Z"
   },
   {
    "duration": 20,
    "start_time": "2021-12-30T11:05:29.987Z"
   },
   {
    "duration": 12,
    "start_time": "2021-12-30T11:05:52.790Z"
   },
   {
    "duration": 269,
    "start_time": "2021-12-30T11:10:20.804Z"
   },
   {
    "duration": 6,
    "start_time": "2021-12-30T11:10:35.593Z"
   },
   {
    "duration": 13,
    "start_time": "2021-12-30T11:10:41.661Z"
   },
   {
    "duration": 941,
    "start_time": "2021-12-30T11:22:46.600Z"
   },
   {
    "duration": 2,
    "start_time": "2021-12-30T11:22:47.544Z"
   },
   {
    "duration": 14,
    "start_time": "2021-12-30T11:22:47.549Z"
   },
   {
    "duration": 172,
    "start_time": "2021-12-30T11:22:47.564Z"
   },
   {
    "duration": 14,
    "start_time": "2021-12-30T11:22:47.737Z"
   },
   {
    "duration": 24,
    "start_time": "2021-12-30T11:22:47.761Z"
   },
   {
    "duration": 129,
    "start_time": "2021-12-30T11:22:47.787Z"
   },
   {
    "duration": 8,
    "start_time": "2021-12-30T11:22:47.918Z"
   },
   {
    "duration": 37,
    "start_time": "2021-12-30T11:22:47.929Z"
   },
   {
    "duration": 91,
    "start_time": "2021-12-30T11:22:47.968Z"
   },
   {
    "duration": 8,
    "start_time": "2021-12-30T11:22:48.061Z"
   },
   {
    "duration": 25,
    "start_time": "2021-12-30T11:22:48.071Z"
   },
   {
    "duration": 29,
    "start_time": "2021-12-30T11:22:48.098Z"
   },
   {
    "duration": 15,
    "start_time": "2021-12-30T11:22:48.129Z"
   },
   {
    "duration": 14,
    "start_time": "2021-12-30T11:22:48.146Z"
   },
   {
    "duration": 40,
    "start_time": "2021-12-30T11:22:48.163Z"
   },
   {
    "duration": 24,
    "start_time": "2021-12-30T11:22:48.205Z"
   },
   {
    "duration": 15,
    "start_time": "2021-12-30T11:22:48.231Z"
   },
   {
    "duration": 20,
    "start_time": "2021-12-30T11:22:48.248Z"
   },
   {
    "duration": 55,
    "start_time": "2021-12-30T11:22:48.269Z"
   },
   {
    "duration": 34,
    "start_time": "2021-12-30T11:22:48.326Z"
   },
   {
    "duration": 25,
    "start_time": "2021-12-30T11:22:48.363Z"
   },
   {
    "duration": 21,
    "start_time": "2021-12-30T11:22:48.390Z"
   },
   {
    "duration": 25,
    "start_time": "2021-12-30T11:22:48.413Z"
   },
   {
    "duration": 32,
    "start_time": "2021-12-30T11:22:48.440Z"
   },
   {
    "duration": 40,
    "start_time": "2021-12-30T11:22:48.474Z"
   },
   {
    "duration": 25,
    "start_time": "2021-12-30T11:22:48.519Z"
   },
   {
    "duration": 34,
    "start_time": "2021-12-30T11:22:48.547Z"
   },
   {
    "duration": 26,
    "start_time": "2021-12-30T11:22:48.583Z"
   },
   {
    "duration": 45,
    "start_time": "2021-12-30T11:22:48.611Z"
   },
   {
    "duration": 150,
    "start_time": "2021-12-30T11:22:48.659Z"
   },
   {
    "duration": 160,
    "start_time": "2021-12-30T11:22:48.811Z"
   },
   {
    "duration": 108,
    "start_time": "2021-12-30T11:22:48.973Z"
   },
   {
    "duration": 8,
    "start_time": "2021-12-30T11:22:49.084Z"
   },
   {
    "duration": 428,
    "start_time": "2021-12-30T11:22:49.094Z"
   },
   {
    "duration": 44,
    "start_time": "2021-12-30T11:22:49.524Z"
   },
   {
    "duration": 7,
    "start_time": "2021-12-30T11:22:49.570Z"
   },
   {
    "duration": 2525,
    "start_time": "2021-12-30T11:22:49.578Z"
   },
   {
    "duration": -81,
    "start_time": "2021-12-30T11:22:52.185Z"
   },
   {
    "duration": -90,
    "start_time": "2021-12-30T11:22:52.195Z"
   },
   {
    "duration": -93,
    "start_time": "2021-12-30T11:22:52.199Z"
   },
   {
    "duration": -96,
    "start_time": "2021-12-30T11:22:52.203Z"
   },
   {
    "duration": -98,
    "start_time": "2021-12-30T11:22:52.206Z"
   },
   {
    "duration": -100,
    "start_time": "2021-12-30T11:22:52.209Z"
   },
   {
    "duration": -103,
    "start_time": "2021-12-30T11:22:52.212Z"
   },
   {
    "duration": -105,
    "start_time": "2021-12-30T11:22:52.215Z"
   },
   {
    "duration": -105,
    "start_time": "2021-12-30T11:22:52.217Z"
   },
   {
    "duration": -107,
    "start_time": "2021-12-30T11:22:52.220Z"
   },
   {
    "duration": -109,
    "start_time": "2021-12-30T11:22:52.223Z"
   },
   {
    "duration": -111,
    "start_time": "2021-12-30T11:22:52.226Z"
   },
   {
    "duration": -112,
    "start_time": "2021-12-30T11:22:52.228Z"
   },
   {
    "duration": -114,
    "start_time": "2021-12-30T11:22:52.231Z"
   },
   {
    "duration": 88,
    "start_time": "2021-12-30T11:23:17.717Z"
   },
   {
    "duration": 8,
    "start_time": "2021-12-30T11:23:19.281Z"
   },
   {
    "duration": 83,
    "start_time": "2021-12-30T11:23:26.303Z"
   },
   {
    "duration": 9,
    "start_time": "2021-12-30T11:23:27.500Z"
   },
   {
    "duration": 9,
    "start_time": "2021-12-30T11:24:43.707Z"
   },
   {
    "duration": 12,
    "start_time": "2021-12-30T11:24:44.104Z"
   },
   {
    "duration": 15,
    "start_time": "2021-12-30T11:24:44.500Z"
   },
   {
    "duration": 19,
    "start_time": "2021-12-30T11:24:44.930Z"
   },
   {
    "duration": 14,
    "start_time": "2021-12-30T11:24:50.754Z"
   },
   {
    "duration": 6,
    "start_time": "2021-12-30T11:24:52.198Z"
   },
   {
    "duration": 8,
    "start_time": "2021-12-30T11:29:01.201Z"
   },
   {
    "duration": 15,
    "start_time": "2021-12-30T11:29:07.109Z"
   },
   {
    "duration": 8,
    "start_time": "2021-12-30T11:29:17.110Z"
   },
   {
    "duration": 15,
    "start_time": "2021-12-30T11:29:17.912Z"
   },
   {
    "duration": 9,
    "start_time": "2021-12-30T11:31:26.854Z"
   },
   {
    "duration": 7,
    "start_time": "2021-12-30T11:32:17.056Z"
   },
   {
    "duration": 50,
    "start_time": "2021-12-30T11:32:35.981Z"
   },
   {
    "duration": 15,
    "start_time": "2021-12-30T11:32:46.505Z"
   },
   {
    "duration": 23,
    "start_time": "2021-12-30T11:32:52.164Z"
   },
   {
    "duration": 24,
    "start_time": "2021-12-30T11:33:02.723Z"
   },
   {
    "duration": 28,
    "start_time": "2021-12-30T11:34:25.206Z"
   },
   {
    "duration": 23,
    "start_time": "2021-12-30T11:34:25.955Z"
   },
   {
    "duration": 4,
    "start_time": "2021-12-30T11:36:03.889Z"
   },
   {
    "duration": 31,
    "start_time": "2021-12-30T11:36:04.646Z"
   },
   {
    "duration": 25,
    "start_time": "2021-12-30T11:36:05.840Z"
   },
   {
    "duration": 4,
    "start_time": "2021-12-30T11:41:30.363Z"
   },
   {
    "duration": 43,
    "start_time": "2021-12-30T11:41:31.654Z"
   },
   {
    "duration": 27,
    "start_time": "2021-12-30T11:41:33.609Z"
   },
   {
    "duration": 4,
    "start_time": "2021-12-30T11:46:04.339Z"
   },
   {
    "duration": 940,
    "start_time": "2021-12-30T11:46:28.972Z"
   },
   {
    "duration": 2,
    "start_time": "2021-12-30T11:46:29.914Z"
   },
   {
    "duration": 23,
    "start_time": "2021-12-30T11:46:29.918Z"
   },
   {
    "duration": 184,
    "start_time": "2021-12-30T11:46:29.943Z"
   },
   {
    "duration": 14,
    "start_time": "2021-12-30T11:46:30.129Z"
   },
   {
    "duration": 49,
    "start_time": "2021-12-30T11:46:30.145Z"
   },
   {
    "duration": 138,
    "start_time": "2021-12-30T11:46:30.196Z"
   },
   {
    "duration": 8,
    "start_time": "2021-12-30T11:46:30.336Z"
   },
   {
    "duration": 39,
    "start_time": "2021-12-30T11:46:30.346Z"
   },
   {
    "duration": 101,
    "start_time": "2021-12-30T11:46:30.387Z"
   },
   {
    "duration": 7,
    "start_time": "2021-12-30T11:46:30.490Z"
   },
   {
    "duration": 43,
    "start_time": "2021-12-30T11:46:30.499Z"
   },
   {
    "duration": 26,
    "start_time": "2021-12-30T11:46:30.544Z"
   },
   {
    "duration": 21,
    "start_time": "2021-12-30T11:46:30.571Z"
   },
   {
    "duration": 38,
    "start_time": "2021-12-30T11:46:30.593Z"
   },
   {
    "duration": 52,
    "start_time": "2021-12-30T11:46:30.633Z"
   },
   {
    "duration": 47,
    "start_time": "2021-12-30T11:46:30.687Z"
   },
   {
    "duration": 27,
    "start_time": "2021-12-30T11:46:30.735Z"
   },
   {
    "duration": 21,
    "start_time": "2021-12-30T11:46:30.763Z"
   },
   {
    "duration": 49,
    "start_time": "2021-12-30T11:46:30.786Z"
   },
   {
    "duration": 31,
    "start_time": "2021-12-30T11:46:30.837Z"
   },
   {
    "duration": 22,
    "start_time": "2021-12-30T11:46:30.869Z"
   },
   {
    "duration": 36,
    "start_time": "2021-12-30T11:46:30.892Z"
   },
   {
    "duration": 38,
    "start_time": "2021-12-30T11:46:30.930Z"
   },
   {
    "duration": 77,
    "start_time": "2021-12-30T11:46:30.970Z"
   },
   {
    "duration": 12,
    "start_time": "2021-12-30T11:46:31.049Z"
   },
   {
    "duration": 29,
    "start_time": "2021-12-30T11:46:31.065Z"
   },
   {
    "duration": 31,
    "start_time": "2021-12-30T11:46:31.096Z"
   },
   {
    "duration": 26,
    "start_time": "2021-12-30T11:46:31.129Z"
   },
   {
    "duration": 31,
    "start_time": "2021-12-30T11:46:31.156Z"
   },
   {
    "duration": 110,
    "start_time": "2021-12-30T11:46:31.188Z"
   },
   {
    "duration": 41,
    "start_time": "2021-12-30T11:46:31.300Z"
   },
   {
    "duration": 50,
    "start_time": "2021-12-30T11:46:31.342Z"
   },
   {
    "duration": 6,
    "start_time": "2021-12-30T11:46:31.394Z"
   },
   {
    "duration": 386,
    "start_time": "2021-12-30T11:46:31.402Z"
   },
   {
    "duration": 38,
    "start_time": "2021-12-30T11:46:31.790Z"
   },
   {
    "duration": 7,
    "start_time": "2021-12-30T11:46:31.830Z"
   },
   {
    "duration": 106,
    "start_time": "2021-12-30T11:46:31.838Z"
   },
   {
    "duration": 7,
    "start_time": "2021-12-30T11:46:31.946Z"
   },
   {
    "duration": 31,
    "start_time": "2021-12-30T11:46:31.954Z"
   },
   {
    "duration": 35,
    "start_time": "2021-12-30T11:46:31.987Z"
   },
   {
    "duration": 22,
    "start_time": "2021-12-30T11:46:32.023Z"
   },
   {
    "duration": 32,
    "start_time": "2021-12-30T11:46:32.047Z"
   },
   {
    "duration": 39,
    "start_time": "2021-12-30T11:46:32.081Z"
   },
   {
    "duration": 21,
    "start_time": "2021-12-30T11:46:32.121Z"
   },
   {
    "duration": 23,
    "start_time": "2021-12-30T11:46:32.144Z"
   },
   {
    "duration": 50,
    "start_time": "2021-12-30T11:46:32.169Z"
   },
   {
    "duration": 45,
    "start_time": "2021-12-30T11:46:32.220Z"
   },
   {
    "duration": 52,
    "start_time": "2021-12-30T11:46:32.267Z"
   },
   {
    "duration": 4,
    "start_time": "2021-12-30T11:46:32.321Z"
   },
   {
    "duration": 53,
    "start_time": "2021-12-30T11:46:32.327Z"
   },
   {
    "duration": 19,
    "start_time": "2021-12-30T11:46:32.381Z"
   },
   {
    "duration": 50,
    "start_time": "2021-12-30T11:46:32.402Z"
   },
   {
    "duration": 45,
    "start_time": "2021-12-30T11:46:32.453Z"
   },
   {
    "duration": 20,
    "start_time": "2021-12-30T11:46:32.500Z"
   },
   {
    "duration": 31,
    "start_time": "2021-12-30T11:46:32.522Z"
   },
   {
    "duration": 345,
    "start_time": "2021-12-30T11:46:32.555Z"
   },
   {
    "duration": -76,
    "start_time": "2021-12-30T11:46:32.978Z"
   },
   {
    "duration": -78,
    "start_time": "2021-12-30T11:46:32.981Z"
   },
   {
    "duration": 6,
    "start_time": "2021-12-30T11:51:46.753Z"
   },
   {
    "duration": 28,
    "start_time": "2021-12-30T11:51:48.644Z"
   },
   {
    "duration": 54,
    "start_time": "2021-12-30T11:54:58.784Z"
   },
   {
    "duration": 584,
    "start_time": "2021-12-30T11:59:49.910Z"
   },
   {
    "duration": 4,
    "start_time": "2021-12-30T12:00:22.311Z"
   },
   {
    "duration": 37,
    "start_time": "2021-12-30T12:00:28.723Z"
   },
   {
    "duration": 38,
    "start_time": "2021-12-30T12:01:03.594Z"
   },
   {
    "duration": 21,
    "start_time": "2021-12-30T12:03:03.209Z"
   },
   {
    "duration": 13,
    "start_time": "2021-12-30T12:05:09.876Z"
   },
   {
    "duration": 316,
    "start_time": "2021-12-30T12:06:34.916Z"
   },
   {
    "duration": 402,
    "start_time": "2021-12-30T12:07:04.452Z"
   },
   {
    "duration": 356,
    "start_time": "2021-12-30T12:22:53.790Z"
   },
   {
    "duration": 11,
    "start_time": "2021-12-30T12:29:03.897Z"
   },
   {
    "duration": 7,
    "start_time": "2021-12-30T12:29:19.122Z"
   },
   {
    "duration": 11,
    "start_time": "2021-12-30T12:30:58.355Z"
   },
   {
    "duration": 6,
    "start_time": "2021-12-30T12:31:08.034Z"
   },
   {
    "duration": 10,
    "start_time": "2021-12-30T12:40:36.282Z"
   },
   {
    "duration": 10,
    "start_time": "2021-12-30T12:40:46.710Z"
   },
   {
    "duration": 7,
    "start_time": "2021-12-30T12:41:16.746Z"
   },
   {
    "duration": 7,
    "start_time": "2021-12-30T12:41:27.883Z"
   },
   {
    "duration": 385,
    "start_time": "2021-12-30T12:41:46.891Z"
   },
   {
    "duration": 459,
    "start_time": "2021-12-30T12:42:18.486Z"
   },
   {
    "duration": 10,
    "start_time": "2021-12-30T12:42:52.303Z"
   },
   {
    "duration": 10,
    "start_time": "2021-12-30T12:43:00.067Z"
   },
   {
    "duration": 7,
    "start_time": "2021-12-30T12:43:12.174Z"
   },
   {
    "duration": 8,
    "start_time": "2021-12-30T12:43:19.843Z"
   },
   {
    "duration": 349,
    "start_time": "2021-12-30T12:43:35.024Z"
   },
   {
    "duration": 390,
    "start_time": "2021-12-30T12:43:42.519Z"
   },
   {
    "duration": 16,
    "start_time": "2021-12-30T12:44:17.882Z"
   },
   {
    "duration": 7,
    "start_time": "2021-12-30T15:38:44.185Z"
   },
   {
    "duration": 6,
    "start_time": "2021-12-30T16:02:55.331Z"
   },
   {
    "duration": 8,
    "start_time": "2021-12-30T16:03:28.142Z"
   },
   {
    "duration": 6,
    "start_time": "2021-12-30T16:08:10.385Z"
   },
   {
    "duration": 8,
    "start_time": "2021-12-30T16:09:01.536Z"
   },
   {
    "duration": 8,
    "start_time": "2021-12-30T16:09:20.572Z"
   },
   {
    "duration": 7,
    "start_time": "2021-12-30T16:09:32.871Z"
   },
   {
    "duration": 8,
    "start_time": "2021-12-30T16:09:44.749Z"
   },
   {
    "duration": 7,
    "start_time": "2021-12-30T16:09:55.616Z"
   },
   {
    "duration": 7,
    "start_time": "2021-12-30T16:10:02.635Z"
   },
   {
    "duration": 7,
    "start_time": "2021-12-30T16:10:11.213Z"
   },
   {
    "duration": 7,
    "start_time": "2021-12-30T16:10:21.036Z"
   },
   {
    "duration": 7,
    "start_time": "2021-12-30T16:10:28.567Z"
   },
   {
    "duration": 6,
    "start_time": "2021-12-30T16:10:34.170Z"
   },
   {
    "duration": 347,
    "start_time": "2021-12-30T16:10:41.063Z"
   },
   {
    "duration": 8,
    "start_time": "2021-12-30T16:10:44.737Z"
   },
   {
    "duration": 10,
    "start_time": "2021-12-30T16:13:55.066Z"
   },
   {
    "duration": 10,
    "start_time": "2021-12-30T16:14:10.884Z"
   },
   {
    "duration": 10,
    "start_time": "2021-12-30T16:14:31.544Z"
   },
   {
    "duration": 10,
    "start_time": "2021-12-30T16:14:39.884Z"
   },
   {
    "duration": 10,
    "start_time": "2021-12-30T16:14:47.737Z"
   },
   {
    "duration": 10,
    "start_time": "2021-12-30T16:14:56.157Z"
   },
   {
    "duration": 363,
    "start_time": "2021-12-30T16:59:49.287Z"
   },
   {
    "duration": 350,
    "start_time": "2021-12-30T16:59:58.714Z"
   },
   {
    "duration": 367,
    "start_time": "2021-12-30T17:00:05.965Z"
   },
   {
    "duration": 444,
    "start_time": "2021-12-30T17:00:10.524Z"
   },
   {
    "duration": 363,
    "start_time": "2021-12-30T17:00:15.644Z"
   },
   {
    "duration": 360,
    "start_time": "2021-12-30T17:00:21.485Z"
   },
   {
    "duration": 504,
    "start_time": "2022-01-01T10:37:24.062Z"
   },
   {
    "duration": 1190,
    "start_time": "2022-01-01T10:37:34.280Z"
   },
   {
    "duration": 5,
    "start_time": "2022-01-01T10:37:35.473Z"
   },
   {
    "duration": 6,
    "start_time": "2022-01-01T10:37:35.481Z"
   },
   {
    "duration": 210,
    "start_time": "2022-01-01T10:37:35.490Z"
   },
   {
    "duration": 21,
    "start_time": "2022-01-01T10:37:35.703Z"
   },
   {
    "duration": 47,
    "start_time": "2022-01-01T10:37:35.727Z"
   },
   {
    "duration": 182,
    "start_time": "2022-01-01T10:37:35.776Z"
   },
   {
    "duration": 11,
    "start_time": "2022-01-01T10:37:35.962Z"
   },
   {
    "duration": 24,
    "start_time": "2022-01-01T10:37:35.975Z"
   },
   {
    "duration": 128,
    "start_time": "2022-01-01T10:37:36.001Z"
   },
   {
    "duration": 11,
    "start_time": "2022-01-01T10:37:36.132Z"
   },
   {
    "duration": 22,
    "start_time": "2022-01-01T10:37:36.160Z"
   },
   {
    "duration": 19,
    "start_time": "2022-01-01T10:37:36.186Z"
   },
   {
    "duration": 13,
    "start_time": "2022-01-01T10:37:36.207Z"
   },
   {
    "duration": 39,
    "start_time": "2022-01-01T10:37:36.223Z"
   },
   {
    "duration": 30,
    "start_time": "2022-01-01T10:37:36.265Z"
   },
   {
    "duration": 21,
    "start_time": "2022-01-01T10:37:36.297Z"
   },
   {
    "duration": 10,
    "start_time": "2022-01-01T10:37:36.321Z"
   },
   {
    "duration": 6,
    "start_time": "2022-01-01T10:37:36.333Z"
   },
   {
    "duration": 62,
    "start_time": "2022-01-01T10:37:36.341Z"
   },
   {
    "duration": 60,
    "start_time": "2022-01-01T10:37:36.405Z"
   },
   {
    "duration": 29,
    "start_time": "2022-01-01T10:37:36.468Z"
   },
   {
    "duration": 5,
    "start_time": "2022-01-01T10:37:36.506Z"
   },
   {
    "duration": 42,
    "start_time": "2022-01-01T10:37:36.517Z"
   },
   {
    "duration": 8,
    "start_time": "2022-01-01T10:37:36.562Z"
   },
   {
    "duration": 9,
    "start_time": "2022-01-01T10:37:36.572Z"
   },
   {
    "duration": 10,
    "start_time": "2022-01-01T10:37:36.583Z"
   },
   {
    "duration": 12,
    "start_time": "2022-01-01T10:37:36.596Z"
   },
   {
    "duration": 167,
    "start_time": "2022-01-01T10:37:36.611Z"
   },
   {
    "duration": 53,
    "start_time": "2022-01-01T10:37:36.780Z"
   },
   {
    "duration": 72,
    "start_time": "2022-01-01T10:37:36.835Z"
   },
   {
    "duration": 10,
    "start_time": "2022-01-01T10:37:36.909Z"
   },
   {
    "duration": 37,
    "start_time": "2022-01-01T10:37:36.921Z"
   },
   {
    "duration": 661,
    "start_time": "2022-01-01T10:37:36.961Z"
   },
   {
    "duration": 63,
    "start_time": "2022-01-01T10:37:37.624Z"
   },
   {
    "duration": 9,
    "start_time": "2022-01-01T10:37:37.690Z"
   },
   {
    "duration": 150,
    "start_time": "2022-01-01T10:37:37.701Z"
   },
   {
    "duration": 12,
    "start_time": "2022-01-01T10:37:37.853Z"
   },
   {
    "duration": 13,
    "start_time": "2022-01-01T10:37:37.868Z"
   },
   {
    "duration": 11,
    "start_time": "2022-01-01T10:37:37.883Z"
   },
   {
    "duration": 13,
    "start_time": "2022-01-01T10:37:37.896Z"
   },
   {
    "duration": 6,
    "start_time": "2022-01-01T10:37:37.911Z"
   },
   {
    "duration": 53,
    "start_time": "2022-01-01T10:37:37.919Z"
   },
   {
    "duration": 16,
    "start_time": "2022-01-01T10:37:37.975Z"
   },
   {
    "duration": 9,
    "start_time": "2022-01-01T10:37:37.993Z"
   },
   {
    "duration": 11,
    "start_time": "2022-01-01T10:37:38.004Z"
   },
   {
    "duration": 50,
    "start_time": "2022-01-01T10:37:38.018Z"
   },
   {
    "duration": 14,
    "start_time": "2022-01-01T10:37:38.070Z"
   },
   {
    "duration": 46,
    "start_time": "2022-01-01T10:37:38.086Z"
   },
   {
    "duration": 26,
    "start_time": "2022-01-01T10:37:38.134Z"
   },
   {
    "duration": 45,
    "start_time": "2022-01-01T10:37:38.163Z"
   },
   {
    "duration": 5,
    "start_time": "2022-01-01T10:37:38.210Z"
   },
   {
    "duration": 74,
    "start_time": "2022-01-01T10:37:38.217Z"
   },
   {
    "duration": 6,
    "start_time": "2022-01-01T10:37:38.293Z"
   },
   {
    "duration": 31,
    "start_time": "2022-01-01T10:37:38.301Z"
   },
   {
    "duration": 25,
    "start_time": "2022-01-01T10:37:38.334Z"
   },
   {
    "duration": 13,
    "start_time": "2022-01-01T10:37:38.362Z"
   },
   {
    "duration": 8,
    "start_time": "2022-01-01T10:37:38.377Z"
   },
   {
    "duration": 788,
    "start_time": "2022-01-01T10:37:38.387Z"
   },
   {
    "duration": 318,
    "start_time": "2022-01-01T10:37:39.177Z"
   },
   {
    "duration": 66,
    "start_time": "2022-01-01T10:37:39.498Z"
   },
   {
    "duration": 8,
    "start_time": "2022-01-01T10:37:39.567Z"
   },
   {
    "duration": 896,
    "start_time": "2022-01-01T10:37:39.577Z"
   },
   {
    "duration": 14,
    "start_time": "2022-01-01T10:37:40.475Z"
   },
   {
    "duration": 8,
    "start_time": "2022-01-01T10:37:40.491Z"
   },
   {
    "duration": 622,
    "start_time": "2022-01-01T10:37:40.502Z"
   },
   {
    "duration": 14,
    "start_time": "2022-01-01T10:37:41.126Z"
   },
   {
    "duration": 9,
    "start_time": "2022-01-01T10:37:41.163Z"
   },
   {
    "duration": 643,
    "start_time": "2022-01-01T10:37:41.175Z"
   },
   {
    "duration": 13,
    "start_time": "2022-01-01T10:37:41.821Z"
   },
   {
    "duration": 29,
    "start_time": "2022-01-01T10:37:41.837Z"
   },
   {
    "duration": 618,
    "start_time": "2022-01-01T10:37:41.868Z"
   },
   {
    "duration": 13,
    "start_time": "2022-01-01T10:37:42.489Z"
   },
   {
    "duration": 8,
    "start_time": "2022-01-01T10:37:42.505Z"
   },
   {
    "duration": 624,
    "start_time": "2022-01-01T10:37:42.515Z"
   },
   {
    "duration": 494,
    "start_time": "2022-01-01T14:02:29.449Z"
   },
   {
    "duration": 6,
    "start_time": "2022-01-01T14:02:32.551Z"
   },
   {
    "duration": 27,
    "start_time": "2022-01-01T14:02:33.381Z"
   },
   {
    "duration": 5,
    "start_time": "2022-01-01T14:02:43.793Z"
   },
   {
    "duration": 372,
    "start_time": "2022-01-01T14:03:25.716Z"
   },
   {
    "duration": 7,
    "start_time": "2022-01-01T14:03:28.372Z"
   },
   {
    "duration": 5,
    "start_time": "2022-01-01T14:03:28.779Z"
   },
   {
    "duration": 369,
    "start_time": "2022-01-01T14:03:43.636Z"
   },
   {
    "duration": 6,
    "start_time": "2022-01-01T14:03:50.066Z"
   },
   {
    "duration": 4,
    "start_time": "2022-01-01T14:03:50.595Z"
   },
   {
    "duration": 11,
    "start_time": "2022-01-01T14:03:52.828Z"
   },
   {
    "duration": 7,
    "start_time": "2022-01-01T14:03:59.880Z"
   },
   {
    "duration": 708,
    "start_time": "2022-01-01T14:04:06.013Z"
   },
   {
    "duration": 307,
    "start_time": "2022-01-01T14:04:11.836Z"
   },
   {
    "duration": 11,
    "start_time": "2022-01-01T14:04:20.260Z"
   },
   {
    "duration": 1171,
    "start_time": "2022-01-01T14:05:29.104Z"
   },
   {
    "duration": 3,
    "start_time": "2022-01-01T14:05:30.278Z"
   },
   {
    "duration": 8,
    "start_time": "2022-01-01T14:05:30.284Z"
   },
   {
    "duration": 235,
    "start_time": "2022-01-01T14:05:30.294Z"
   },
   {
    "duration": 29,
    "start_time": "2022-01-01T14:05:30.532Z"
   },
   {
    "duration": 37,
    "start_time": "2022-01-01T14:05:30.563Z"
   },
   {
    "duration": 193,
    "start_time": "2022-01-01T14:05:30.602Z"
   },
   {
    "duration": 12,
    "start_time": "2022-01-01T14:05:30.798Z"
   },
   {
    "duration": 47,
    "start_time": "2022-01-01T14:05:30.813Z"
   },
   {
    "duration": 128,
    "start_time": "2022-01-01T14:05:30.863Z"
   },
   {
    "duration": 13,
    "start_time": "2022-01-01T14:05:30.995Z"
   },
   {
    "duration": 36,
    "start_time": "2022-01-01T14:05:31.011Z"
   },
   {
    "duration": 35,
    "start_time": "2022-01-01T14:05:31.049Z"
   },
   {
    "duration": 16,
    "start_time": "2022-01-01T14:05:31.087Z"
   },
   {
    "duration": 13,
    "start_time": "2022-01-01T14:05:31.106Z"
   },
   {
    "duration": 41,
    "start_time": "2022-01-01T14:05:31.122Z"
   },
   {
    "duration": 21,
    "start_time": "2022-01-01T14:05:31.166Z"
   },
   {
    "duration": 11,
    "start_time": "2022-01-01T14:05:31.189Z"
   },
   {
    "duration": 6,
    "start_time": "2022-01-01T14:05:31.203Z"
   },
   {
    "duration": 79,
    "start_time": "2022-01-01T14:05:31.211Z"
   },
   {
    "duration": 32,
    "start_time": "2022-01-01T14:05:31.292Z"
   },
   {
    "duration": 42,
    "start_time": "2022-01-01T14:05:31.326Z"
   },
   {
    "duration": 7,
    "start_time": "2022-01-01T14:05:31.370Z"
   },
   {
    "duration": 21,
    "start_time": "2022-01-01T14:05:31.379Z"
   },
   {
    "duration": 5,
    "start_time": "2022-01-01T14:05:31.403Z"
   },
   {
    "duration": 14,
    "start_time": "2022-01-01T14:05:31.411Z"
   },
   {
    "duration": 36,
    "start_time": "2022-01-01T14:05:31.432Z"
   },
   {
    "duration": 15,
    "start_time": "2022-01-01T14:05:31.472Z"
   },
   {
    "duration": 153,
    "start_time": "2022-01-01T14:05:31.489Z"
   },
   {
    "duration": 57,
    "start_time": "2022-01-01T14:05:31.645Z"
   },
   {
    "duration": 76,
    "start_time": "2022-01-01T14:05:31.705Z"
   },
   {
    "duration": 12,
    "start_time": "2022-01-01T14:05:31.784Z"
   },
   {
    "duration": 10,
    "start_time": "2022-01-01T14:05:31.799Z"
   },
   {
    "duration": 683,
    "start_time": "2022-01-01T14:05:31.811Z"
   },
   {
    "duration": 70,
    "start_time": "2022-01-01T14:05:32.497Z"
   },
   {
    "duration": 10,
    "start_time": "2022-01-01T14:05:32.569Z"
   },
   {
    "duration": 153,
    "start_time": "2022-01-01T14:05:32.581Z"
   },
   {
    "duration": 10,
    "start_time": "2022-01-01T14:05:32.736Z"
   },
   {
    "duration": 12,
    "start_time": "2022-01-01T14:05:32.764Z"
   },
   {
    "duration": 13,
    "start_time": "2022-01-01T14:05:32.779Z"
   },
   {
    "duration": 14,
    "start_time": "2022-01-01T14:05:32.794Z"
   },
   {
    "duration": 7,
    "start_time": "2022-01-01T14:05:32.811Z"
   },
   {
    "duration": 50,
    "start_time": "2022-01-01T14:05:32.820Z"
   },
   {
    "duration": 18,
    "start_time": "2022-01-01T14:05:32.873Z"
   },
   {
    "duration": 10,
    "start_time": "2022-01-01T14:05:32.894Z"
   },
   {
    "duration": 14,
    "start_time": "2022-01-01T14:05:32.907Z"
   },
   {
    "duration": 49,
    "start_time": "2022-01-01T14:05:32.924Z"
   },
   {
    "duration": 11,
    "start_time": "2022-01-01T14:05:32.976Z"
   },
   {
    "duration": 80,
    "start_time": "2022-01-01T14:05:32.989Z"
   },
   {
    "duration": 5,
    "start_time": "2022-01-01T14:05:33.071Z"
   },
   {
    "duration": 52,
    "start_time": "2022-01-01T14:05:33.078Z"
   },
   {
    "duration": 5,
    "start_time": "2022-01-01T14:05:33.133Z"
   },
   {
    "duration": 62,
    "start_time": "2022-01-01T14:05:33.160Z"
   },
   {
    "duration": 7,
    "start_time": "2022-01-01T14:05:33.224Z"
   },
   {
    "duration": 47,
    "start_time": "2022-01-01T14:05:33.233Z"
   },
   {
    "duration": 10,
    "start_time": "2022-01-01T14:05:33.283Z"
   },
   {
    "duration": 13,
    "start_time": "2022-01-01T14:05:33.296Z"
   },
   {
    "duration": 10,
    "start_time": "2022-01-01T14:05:33.311Z"
   },
   {
    "duration": 16,
    "start_time": "2022-01-01T14:05:33.324Z"
   },
   {
    "duration": 5,
    "start_time": "2022-01-01T14:05:33.360Z"
   },
   {
    "duration": 12,
    "start_time": "2022-01-01T14:05:33.368Z"
   },
   {
    "duration": 5,
    "start_time": "2022-01-01T14:05:33.383Z"
   },
   {
    "duration": 777,
    "start_time": "2022-01-01T14:05:33.390Z"
   },
   {
    "duration": 526,
    "start_time": "2022-01-01T14:05:34.169Z"
   },
   {
    "duration": 13,
    "start_time": "2022-01-01T14:05:34.697Z"
   },
   {
    "duration": 6,
    "start_time": "2022-01-01T14:05:34.713Z"
   },
   {
    "duration": 624,
    "start_time": "2022-01-01T14:05:34.721Z"
   },
   {
    "duration": 19,
    "start_time": "2022-01-01T14:05:35.347Z"
   },
   {
    "duration": 6,
    "start_time": "2022-01-01T14:05:35.368Z"
   },
   {
    "duration": 630,
    "start_time": "2022-01-01T14:05:35.376Z"
   },
   {
    "duration": 13,
    "start_time": "2022-01-01T14:05:36.009Z"
   },
   {
    "duration": 6,
    "start_time": "2022-01-01T14:05:36.024Z"
   },
   {
    "duration": 780,
    "start_time": "2022-01-01T14:05:36.060Z"
   },
   {
    "duration": 21,
    "start_time": "2022-01-01T14:05:36.844Z"
   },
   {
    "duration": 7,
    "start_time": "2022-01-01T14:05:36.868Z"
   },
   {
    "duration": 819,
    "start_time": "2022-01-01T14:05:36.878Z"
   },
   {
    "duration": 11,
    "start_time": "2022-01-01T14:05:37.699Z"
   },
   {
    "duration": 6,
    "start_time": "2022-01-01T14:05:37.712Z"
   },
   {
    "duration": 597,
    "start_time": "2022-01-01T14:05:37.720Z"
   },
   {
    "duration": 8,
    "start_time": "2022-01-01T14:09:41.929Z"
   },
   {
    "duration": 5,
    "start_time": "2022-01-01T14:31:22.490Z"
   },
   {
    "duration": 5,
    "start_time": "2022-01-01T14:31:24.333Z"
   },
   {
    "duration": 7,
    "start_time": "2022-01-01T14:53:13.483Z"
   },
   {
    "duration": 6,
    "start_time": "2022-01-01T14:53:29.961Z"
   },
   {
    "duration": 476,
    "start_time": "2022-01-01T14:53:56.919Z"
   },
   {
    "duration": 6,
    "start_time": "2022-01-01T14:54:00.604Z"
   },
   {
    "duration": 5,
    "start_time": "2022-01-01T14:54:01.091Z"
   },
   {
    "duration": 691,
    "start_time": "2022-01-01T14:55:19.327Z"
   },
   {
    "duration": 641,
    "start_time": "2022-01-01T14:55:41.459Z"
   },
   {
    "duration": 8,
    "start_time": "2022-01-01T14:56:16.487Z"
   },
   {
    "duration": 5,
    "start_time": "2022-01-01T14:57:14.399Z"
   },
   {
    "duration": 7,
    "start_time": "2022-01-01T15:06:34.086Z"
   },
   {
    "duration": 8,
    "start_time": "2022-01-01T15:06:44.362Z"
   },
   {
    "duration": 10,
    "start_time": "2022-01-01T15:19:13.383Z"
   },
   {
    "duration": 10,
    "start_time": "2022-01-01T15:22:36.670Z"
   },
   {
    "duration": 7,
    "start_time": "2022-01-01T15:24:28.006Z"
   },
   {
    "duration": 7,
    "start_time": "2022-01-01T15:24:35.327Z"
   },
   {
    "duration": 8,
    "start_time": "2022-01-01T15:27:19.700Z"
   },
   {
    "duration": 5,
    "start_time": "2022-01-01T15:33:43.891Z"
   },
   {
    "duration": 5,
    "start_time": "2022-01-01T15:33:47.784Z"
   },
   {
    "duration": 5,
    "start_time": "2022-01-01T15:34:07.787Z"
   },
   {
    "duration": 5,
    "start_time": "2022-01-01T15:34:30.239Z"
   },
   {
    "duration": 5,
    "start_time": "2022-01-01T15:34:37.986Z"
   },
   {
    "duration": 6,
    "start_time": "2022-01-01T15:36:00.184Z"
   },
   {
    "duration": 6,
    "start_time": "2022-01-01T15:36:24.612Z"
   },
   {
    "duration": 7,
    "start_time": "2022-01-01T15:38:03.747Z"
   },
   {
    "duration": 8,
    "start_time": "2022-01-01T15:52:51.469Z"
   },
   {
    "duration": 20,
    "start_time": "2022-01-01T15:53:40.895Z"
   },
   {
    "duration": 17,
    "start_time": "2022-01-01T15:53:52.576Z"
   },
   {
    "duration": 14,
    "start_time": "2022-01-01T15:54:00.255Z"
   },
   {
    "duration": 12,
    "start_time": "2022-01-01T15:54:08.628Z"
   },
   {
    "duration": 15,
    "start_time": "2022-01-01T15:54:49.008Z"
   },
   {
    "duration": 16,
    "start_time": "2022-01-01T15:55:52.838Z"
   },
   {
    "duration": 6,
    "start_time": "2022-01-01T15:57:53.374Z"
   },
   {
    "duration": 6,
    "start_time": "2022-01-01T15:58:04.877Z"
   },
   {
    "duration": 5,
    "start_time": "2022-01-01T15:58:42.479Z"
   },
   {
    "duration": 6,
    "start_time": "2022-01-01T15:59:23.317Z"
   },
   {
    "duration": 6,
    "start_time": "2022-01-01T15:59:29.481Z"
   },
   {
    "duration": 375,
    "start_time": "2022-01-01T15:59:58.581Z"
   },
   {
    "duration": 6,
    "start_time": "2022-01-01T16:00:08.812Z"
   },
   {
    "duration": 6,
    "start_time": "2022-01-01T16:00:20.030Z"
   },
   {
    "duration": 8,
    "start_time": "2022-01-01T16:00:26.926Z"
   },
   {
    "duration": 407,
    "start_time": "2022-01-01T16:02:18.279Z"
   },
   {
    "duration": 293,
    "start_time": "2022-01-01T16:02:24.356Z"
   },
   {
    "duration": 503,
    "start_time": "2022-01-01T16:02:26.836Z"
   },
   {
    "duration": 424,
    "start_time": "2022-01-01T16:02:40.179Z"
   },
   {
    "duration": -64,
    "start_time": "2022-01-01T16:14:25.901Z"
   },
   {
    "duration": 15,
    "start_time": "2022-01-01T16:52:39.315Z"
   },
   {
    "duration": 119,
    "start_time": "2022-01-01T16:52:51.404Z"
   },
   {
    "duration": 24,
    "start_time": "2022-01-01T16:53:02.716Z"
   },
   {
    "duration": 25,
    "start_time": "2022-01-01T17:16:48.533Z"
   },
   {
    "duration": 4,
    "start_time": "2022-01-01T17:19:48.340Z"
   },
   {
    "duration": 550,
    "start_time": "2022-01-01T17:35:03.230Z"
   },
   {
    "duration": 693,
    "start_time": "2022-01-01T17:35:41.270Z"
   },
   {
    "duration": 713,
    "start_time": "2022-01-01T17:35:55.663Z"
   },
   {
    "duration": 514,
    "start_time": "2022-01-01T17:36:08.017Z"
   },
   {
    "duration": 591,
    "start_time": "2022-01-01T17:40:06.925Z"
   },
   {
    "duration": 369,
    "start_time": "2022-01-01T17:40:58.994Z"
   },
   {
    "duration": 386,
    "start_time": "2022-01-01T17:41:50.937Z"
   },
   {
    "duration": 536,
    "start_time": "2022-01-01T17:46:57.905Z"
   },
   {
    "duration": 459,
    "start_time": "2022-01-01T17:47:03.874Z"
   },
   {
    "duration": 486,
    "start_time": "2022-01-01T17:48:42.236Z"
   },
   {
    "duration": 470,
    "start_time": "2022-01-01T17:55:24.252Z"
   },
   {
    "duration": 472,
    "start_time": "2022-01-01T17:55:38.875Z"
   },
   {
    "duration": 495,
    "start_time": "2022-01-01T17:56:17.214Z"
   },
   {
    "duration": 498,
    "start_time": "2022-01-01T17:56:34.092Z"
   },
   {
    "duration": 520,
    "start_time": "2022-01-01T18:00:56.090Z"
   },
   {
    "duration": 489,
    "start_time": "2022-01-01T18:01:23.434Z"
   },
   {
    "duration": 1204,
    "start_time": "2022-01-04T10:15:12.228Z"
   },
   {
    "duration": 1189,
    "start_time": "2022-01-04T10:17:31.224Z"
   },
   {
    "duration": 3,
    "start_time": "2022-01-04T10:17:32.415Z"
   },
   {
    "duration": 8,
    "start_time": "2022-01-04T10:17:32.420Z"
   },
   {
    "duration": 152,
    "start_time": "2022-01-04T10:17:32.430Z"
   },
   {
    "duration": 12,
    "start_time": "2022-01-04T10:17:32.583Z"
   },
   {
    "duration": 23,
    "start_time": "2022-01-04T10:17:32.597Z"
   },
   {
    "duration": 126,
    "start_time": "2022-01-04T10:17:32.622Z"
   },
   {
    "duration": 11,
    "start_time": "2022-01-04T10:17:32.750Z"
   },
   {
    "duration": 18,
    "start_time": "2022-01-04T10:17:32.763Z"
   },
   {
    "duration": 90,
    "start_time": "2022-01-04T10:17:32.783Z"
   },
   {
    "duration": 7,
    "start_time": "2022-01-04T10:17:32.875Z"
   },
   {
    "duration": 16,
    "start_time": "2022-01-04T10:17:32.884Z"
   },
   {
    "duration": 16,
    "start_time": "2022-01-04T10:17:32.902Z"
   },
   {
    "duration": 13,
    "start_time": "2022-01-04T10:17:32.919Z"
   },
   {
    "duration": 9,
    "start_time": "2022-01-04T10:17:32.934Z"
   },
   {
    "duration": 28,
    "start_time": "2022-01-04T10:17:32.945Z"
   },
   {
    "duration": 14,
    "start_time": "2022-01-04T10:17:32.975Z"
   },
   {
    "duration": 8,
    "start_time": "2022-01-04T10:17:32.990Z"
   },
   {
    "duration": 4,
    "start_time": "2022-01-04T10:17:33.000Z"
   },
   {
    "duration": 7,
    "start_time": "2022-01-04T10:17:33.006Z"
   },
   {
    "duration": 35,
    "start_time": "2022-01-04T10:17:33.014Z"
   },
   {
    "duration": 23,
    "start_time": "2022-01-04T10:17:33.050Z"
   },
   {
    "duration": 24,
    "start_time": "2022-01-04T10:17:33.077Z"
   },
   {
    "duration": 14,
    "start_time": "2022-01-04T10:17:33.104Z"
   },
   {
    "duration": 48,
    "start_time": "2022-01-04T10:17:33.120Z"
   },
   {
    "duration": 12,
    "start_time": "2022-01-04T10:17:33.170Z"
   },
   {
    "duration": 5,
    "start_time": "2022-01-04T10:17:33.184Z"
   },
   {
    "duration": 7,
    "start_time": "2022-01-04T10:17:33.191Z"
   },
   {
    "duration": 9,
    "start_time": "2022-01-04T10:17:33.200Z"
   },
   {
    "duration": 12,
    "start_time": "2022-01-04T10:17:33.210Z"
   },
   {
    "duration": 38,
    "start_time": "2022-01-04T10:17:33.223Z"
   },
   {
    "duration": 10,
    "start_time": "2022-01-04T10:17:33.263Z"
   },
   {
    "duration": 5,
    "start_time": "2022-01-04T10:17:33.275Z"
   },
   {
    "duration": 8,
    "start_time": "2022-01-04T10:17:33.282Z"
   },
   {
    "duration": 11,
    "start_time": "2022-01-04T10:17:33.291Z"
   },
   {
    "duration": 274,
    "start_time": "2022-01-04T10:17:33.303Z"
   },
   {
    "duration": 93,
    "start_time": "2022-01-04T10:17:33.579Z"
   },
   {
    "duration": 36,
    "start_time": "2022-01-04T10:17:33.674Z"
   },
   {
    "duration": 51,
    "start_time": "2022-01-04T10:17:33.712Z"
   },
   {
    "duration": 6,
    "start_time": "2022-01-04T10:17:33.765Z"
   },
   {
    "duration": 6,
    "start_time": "2022-01-04T10:17:33.773Z"
   },
   {
    "duration": 357,
    "start_time": "2022-01-04T10:17:33.780Z"
   },
   {
    "duration": 44,
    "start_time": "2022-01-04T10:17:34.138Z"
   },
   {
    "duration": 6,
    "start_time": "2022-01-04T10:17:34.184Z"
   },
   {
    "duration": 92,
    "start_time": "2022-01-04T10:17:34.192Z"
   },
   {
    "duration": 7,
    "start_time": "2022-01-04T10:17:34.286Z"
   },
   {
    "duration": 10,
    "start_time": "2022-01-04T10:17:34.294Z"
   },
   {
    "duration": 8,
    "start_time": "2022-01-04T10:17:34.305Z"
   },
   {
    "duration": 7,
    "start_time": "2022-01-04T10:17:34.315Z"
   },
   {
    "duration": 4,
    "start_time": "2022-01-04T10:17:34.324Z"
   },
   {
    "duration": 36,
    "start_time": "2022-01-04T10:17:34.330Z"
   },
   {
    "duration": 11,
    "start_time": "2022-01-04T10:17:34.368Z"
   },
   {
    "duration": 6,
    "start_time": "2022-01-04T10:17:34.381Z"
   },
   {
    "duration": 12,
    "start_time": "2022-01-04T10:17:34.389Z"
   },
   {
    "duration": 14,
    "start_time": "2022-01-04T10:17:34.403Z"
   },
   {
    "duration": 9,
    "start_time": "2022-01-04T10:17:34.419Z"
   },
   {
    "duration": 57,
    "start_time": "2022-01-04T10:17:34.430Z"
   },
   {
    "duration": 4,
    "start_time": "2022-01-04T10:17:34.489Z"
   },
   {
    "duration": 31,
    "start_time": "2022-01-04T10:17:34.494Z"
   },
   {
    "duration": 6,
    "start_time": "2022-01-04T10:17:34.526Z"
   },
   {
    "duration": 43,
    "start_time": "2022-01-04T10:17:34.533Z"
   },
   {
    "duration": 4,
    "start_time": "2022-01-04T10:17:34.578Z"
   },
   {
    "duration": 16,
    "start_time": "2022-01-04T10:17:34.584Z"
   },
   {
    "duration": 5,
    "start_time": "2022-01-04T10:17:34.602Z"
   },
   {
    "duration": 7,
    "start_time": "2022-01-04T10:17:34.608Z"
   },
   {
    "duration": 7,
    "start_time": "2022-01-04T10:17:34.616Z"
   },
   {
    "duration": 5,
    "start_time": "2022-01-04T10:17:34.624Z"
   },
   {
    "duration": 3,
    "start_time": "2022-01-04T10:17:34.635Z"
   },
   {
    "duration": 14,
    "start_time": "2022-01-04T10:17:34.661Z"
   },
   {
    "duration": 363,
    "start_time": "2022-01-04T10:17:34.677Z"
   },
   {
    "duration": 202,
    "start_time": "2022-01-04T10:17:35.041Z"
   },
   {
    "duration": 18,
    "start_time": "2022-01-04T10:17:35.245Z"
   },
   {
    "duration": 5,
    "start_time": "2022-01-04T10:17:35.264Z"
   },
   {
    "duration": 354,
    "start_time": "2022-01-04T10:17:35.270Z"
   },
   {
    "duration": 284,
    "start_time": "2022-01-04T10:17:35.625Z"
   },
   {
    "duration": 9,
    "start_time": "2022-01-04T10:17:35.911Z"
   },
   {
    "duration": 7,
    "start_time": "2022-01-04T10:17:35.921Z"
   },
   {
    "duration": 468,
    "start_time": "2022-01-04T10:17:35.930Z"
   },
   {
    "duration": 412,
    "start_time": "2022-01-04T10:17:36.400Z"
   },
   {
    "duration": 10,
    "start_time": "2022-01-04T10:17:36.814Z"
   },
   {
    "duration": 5,
    "start_time": "2022-01-04T10:17:36.827Z"
   },
   {
    "duration": 408,
    "start_time": "2022-01-04T10:17:36.834Z"
   },
   {
    "duration": 18,
    "start_time": "2022-01-04T10:17:37.243Z"
   },
   {
    "duration": 4,
    "start_time": "2022-01-04T10:17:37.263Z"
   },
   {
    "duration": 343,
    "start_time": "2022-01-04T10:17:37.268Z"
   },
   {
    "duration": 366,
    "start_time": "2022-01-04T10:17:37.612Z"
   },
   {
    "duration": 10,
    "start_time": "2022-01-04T10:17:37.980Z"
   },
   {
    "duration": 5,
    "start_time": "2022-01-04T10:17:37.992Z"
   },
   {
    "duration": 378,
    "start_time": "2022-01-04T10:17:37.999Z"
   },
   {
    "duration": 8,
    "start_time": "2022-01-04T10:17:38.380Z"
   },
   {
    "duration": 5,
    "start_time": "2022-01-04T10:17:38.390Z"
   },
   {
    "duration": 539,
    "start_time": "2022-01-04T10:17:38.396Z"
   },
   {
    "duration": 5,
    "start_time": "2022-01-04T10:17:38.937Z"
   },
   {
    "duration": 377,
    "start_time": "2022-01-04T10:17:38.944Z"
   },
   {
    "duration": -4280,
    "start_time": "2022-01-04T10:17:43.602Z"
   },
   {
    "duration": -4348,
    "start_time": "2022-01-04T10:17:43.671Z"
   },
   {
    "duration": -4371,
    "start_time": "2022-01-04T10:17:43.695Z"
   },
   {
    "duration": -4384,
    "start_time": "2022-01-04T10:17:43.709Z"
   },
   {
    "duration": -4398,
    "start_time": "2022-01-04T10:17:43.724Z"
   },
   {
    "duration": -4411,
    "start_time": "2022-01-04T10:17:43.739Z"
   },
   {
    "duration": -4423,
    "start_time": "2022-01-04T10:17:43.752Z"
   },
   {
    "duration": 111,
    "start_time": "2022-01-04T10:52:57.040Z"
   },
   {
    "duration": 5,
    "start_time": "2022-01-04T10:53:01.080Z"
   },
   {
    "duration": 98,
    "start_time": "2022-01-04T10:53:47.904Z"
   },
   {
    "duration": 479,
    "start_time": "2022-01-04T10:53:55.616Z"
   },
   {
    "duration": 4,
    "start_time": "2022-01-04T10:56:02.327Z"
   },
   {
    "duration": 364,
    "start_time": "2022-01-04T10:56:35.727Z"
   },
   {
    "duration": 353,
    "start_time": "2022-01-04T10:57:32.771Z"
   },
   {
    "duration": 694,
    "start_time": "2022-01-04T10:57:52.298Z"
   },
   {
    "duration": 352,
    "start_time": "2022-01-04T10:57:56.012Z"
   },
   {
    "duration": 4,
    "start_time": "2022-01-04T10:58:56.462Z"
   },
   {
    "duration": 5,
    "start_time": "2022-01-04T10:59:33.755Z"
   },
   {
    "duration": 388,
    "start_time": "2022-01-04T11:00:24.194Z"
   },
   {
    "duration": 4,
    "start_time": "2022-01-04T11:05:07.994Z"
   },
   {
    "duration": 204,
    "start_time": "2022-01-04T11:05:56.339Z"
   },
   {
    "duration": 204,
    "start_time": "2022-01-04T11:06:38.100Z"
   },
   {
    "duration": 204,
    "start_time": "2022-01-04T11:07:37.818Z"
   },
   {
    "duration": 199,
    "start_time": "2022-01-04T11:07:57.514Z"
   },
   {
    "duration": 5,
    "start_time": "2022-01-04T11:09:56.576Z"
   },
   {
    "duration": 4,
    "start_time": "2022-01-04T11:10:56.799Z"
   },
   {
    "duration": 1299,
    "start_time": "2022-01-04T11:30:00.965Z"
   },
   {
    "duration": 4,
    "start_time": "2022-01-04T11:30:02.266Z"
   },
   {
    "duration": 13,
    "start_time": "2022-01-04T11:30:02.273Z"
   },
   {
    "duration": 169,
    "start_time": "2022-01-04T11:30:02.288Z"
   },
   {
    "duration": 18,
    "start_time": "2022-01-04T11:30:02.459Z"
   },
   {
    "duration": 25,
    "start_time": "2022-01-04T11:30:02.479Z"
   },
   {
    "duration": 147,
    "start_time": "2022-01-04T11:30:02.506Z"
   },
   {
    "duration": 14,
    "start_time": "2022-01-04T11:30:02.656Z"
   },
   {
    "duration": 24,
    "start_time": "2022-01-04T11:30:02.673Z"
   },
   {
    "duration": 100,
    "start_time": "2022-01-04T11:30:02.699Z"
   },
   {
    "duration": 8,
    "start_time": "2022-01-04T11:30:02.801Z"
   },
   {
    "duration": 25,
    "start_time": "2022-01-04T11:30:02.811Z"
   },
   {
    "duration": 21,
    "start_time": "2022-01-04T11:30:02.838Z"
   },
   {
    "duration": 34,
    "start_time": "2022-01-04T11:30:02.861Z"
   },
   {
    "duration": 20,
    "start_time": "2022-01-04T11:30:02.897Z"
   },
   {
    "duration": 36,
    "start_time": "2022-01-04T11:30:02.918Z"
   },
   {
    "duration": 30,
    "start_time": "2022-01-04T11:30:02.955Z"
   },
   {
    "duration": 15,
    "start_time": "2022-01-04T11:30:02.987Z"
   },
   {
    "duration": 16,
    "start_time": "2022-01-04T11:30:03.004Z"
   },
   {
    "duration": 15,
    "start_time": "2022-01-04T11:30:03.022Z"
   },
   {
    "duration": 46,
    "start_time": "2022-01-04T11:30:03.039Z"
   },
   {
    "duration": 16,
    "start_time": "2022-01-04T11:30:03.086Z"
   },
   {
    "duration": 22,
    "start_time": "2022-01-04T11:30:03.106Z"
   },
   {
    "duration": 30,
    "start_time": "2022-01-04T11:30:03.131Z"
   },
   {
    "duration": 22,
    "start_time": "2022-01-04T11:30:03.164Z"
   },
   {
    "duration": 13,
    "start_time": "2022-01-04T11:30:03.188Z"
   },
   {
    "duration": 9,
    "start_time": "2022-01-04T11:30:03.203Z"
   },
   {
    "duration": 24,
    "start_time": "2022-01-04T11:30:03.214Z"
   },
   {
    "duration": 29,
    "start_time": "2022-01-04T11:30:03.239Z"
   },
   {
    "duration": 24,
    "start_time": "2022-01-04T11:30:03.270Z"
   },
   {
    "duration": 21,
    "start_time": "2022-01-04T11:30:03.296Z"
   },
   {
    "duration": 38,
    "start_time": "2022-01-04T11:30:03.318Z"
   },
   {
    "duration": 18,
    "start_time": "2022-01-04T11:30:03.358Z"
   },
   {
    "duration": 14,
    "start_time": "2022-01-04T11:30:03.377Z"
   },
   {
    "duration": 16,
    "start_time": "2022-01-04T11:30:03.393Z"
   },
   {
    "duration": 286,
    "start_time": "2022-01-04T11:30:03.410Z"
   },
   {
    "duration": 113,
    "start_time": "2022-01-04T11:30:03.698Z"
   },
   {
    "duration": 52,
    "start_time": "2022-01-04T11:30:03.813Z"
   },
   {
    "duration": 37,
    "start_time": "2022-01-04T11:30:03.867Z"
   },
   {
    "duration": 7,
    "start_time": "2022-01-04T11:30:03.906Z"
   },
   {
    "duration": 6,
    "start_time": "2022-01-04T11:30:03.915Z"
   },
   {
    "duration": 400,
    "start_time": "2022-01-04T11:30:03.923Z"
   },
   {
    "duration": 49,
    "start_time": "2022-01-04T11:30:04.325Z"
   },
   {
    "duration": 6,
    "start_time": "2022-01-04T11:30:04.376Z"
   },
   {
    "duration": 99,
    "start_time": "2022-01-04T11:30:04.383Z"
   },
   {
    "duration": 7,
    "start_time": "2022-01-04T11:30:04.484Z"
   },
   {
    "duration": 10,
    "start_time": "2022-01-04T11:30:04.492Z"
   },
   {
    "duration": 8,
    "start_time": "2022-01-04T11:30:04.503Z"
   },
   {
    "duration": 7,
    "start_time": "2022-01-04T11:30:04.513Z"
   },
   {
    "duration": 4,
    "start_time": "2022-01-04T11:30:04.522Z"
   },
   {
    "duration": 40,
    "start_time": "2022-01-04T11:30:04.528Z"
   },
   {
    "duration": 19,
    "start_time": "2022-01-04T11:30:04.570Z"
   },
   {
    "duration": 6,
    "start_time": "2022-01-04T11:30:04.591Z"
   },
   {
    "duration": 7,
    "start_time": "2022-01-04T11:30:04.599Z"
   },
   {
    "duration": 15,
    "start_time": "2022-01-04T11:30:04.607Z"
   },
   {
    "duration": 8,
    "start_time": "2022-01-04T11:30:04.623Z"
   },
   {
    "duration": 56,
    "start_time": "2022-01-04T11:30:04.633Z"
   },
   {
    "duration": 4,
    "start_time": "2022-01-04T11:30:04.691Z"
   },
   {
    "duration": 30,
    "start_time": "2022-01-04T11:30:04.697Z"
   },
   {
    "duration": 29,
    "start_time": "2022-01-04T11:30:04.729Z"
   },
   {
    "duration": 64,
    "start_time": "2022-01-04T11:30:04.760Z"
   },
   {
    "duration": 30,
    "start_time": "2022-01-04T11:30:04.833Z"
   },
   {
    "duration": 189,
    "start_time": "2022-01-04T11:30:04.880Z"
   },
   {
    "duration": 88,
    "start_time": "2022-01-04T11:30:05.071Z"
   },
   {
    "duration": 122,
    "start_time": "2022-01-04T11:30:05.161Z"
   },
   {
    "duration": 94,
    "start_time": "2022-01-04T11:30:05.285Z"
   },
   {
    "duration": 47,
    "start_time": "2022-01-04T11:30:05.381Z"
   },
   {
    "duration": 7,
    "start_time": "2022-01-04T11:30:05.434Z"
   },
   {
    "duration": 21,
    "start_time": "2022-01-04T11:30:05.443Z"
   },
   {
    "duration": 7,
    "start_time": "2022-01-04T11:30:05.466Z"
   },
   {
    "duration": 17,
    "start_time": "2022-01-04T11:30:05.475Z"
   },
   {
    "duration": 344,
    "start_time": "2022-01-04T11:30:05.494Z"
   },
   {
    "duration": 8,
    "start_time": "2022-01-04T11:30:05.840Z"
   },
   {
    "duration": 14,
    "start_time": "2022-01-04T11:30:05.850Z"
   },
   {
    "duration": 19,
    "start_time": "2022-01-04T11:30:05.867Z"
   },
   {
    "duration": 6,
    "start_time": "2022-01-04T11:30:05.888Z"
   },
   {
    "duration": 236,
    "start_time": "2022-01-04T11:30:05.896Z"
   },
   {
    "duration": 409,
    "start_time": "2022-01-04T11:30:06.134Z"
   },
   {
    "duration": 7,
    "start_time": "2022-01-04T11:30:06.545Z"
   },
   {
    "duration": 10,
    "start_time": "2022-01-04T11:30:06.561Z"
   },
   {
    "duration": 28,
    "start_time": "2022-01-04T11:30:06.572Z"
   },
   {
    "duration": 18,
    "start_time": "2022-01-04T11:30:06.602Z"
   },
   {
    "duration": 217,
    "start_time": "2022-01-04T11:30:06.622Z"
   },
   {
    "duration": 432,
    "start_time": "2022-01-04T11:30:06.841Z"
   },
   {
    "duration": 10,
    "start_time": "2022-01-04T11:30:07.275Z"
   },
   {
    "duration": 5,
    "start_time": "2022-01-04T11:30:07.287Z"
   },
   {
    "duration": 9,
    "start_time": "2022-01-04T11:30:07.294Z"
   },
   {
    "duration": 5,
    "start_time": "2022-01-04T11:30:07.305Z"
   },
   {
    "duration": 252,
    "start_time": "2022-01-04T11:30:07.312Z"
   },
   {
    "duration": 7,
    "start_time": "2022-01-04T11:30:07.566Z"
   },
   {
    "duration": 349,
    "start_time": "2022-01-04T11:30:07.575Z"
   },
   {
    "duration": -75,
    "start_time": "2022-01-04T11:30:08.001Z"
   },
   {
    "duration": -79,
    "start_time": "2022-01-04T11:30:08.006Z"
   },
   {
    "duration": -81,
    "start_time": "2022-01-04T11:30:08.010Z"
   },
   {
    "duration": -85,
    "start_time": "2022-01-04T11:30:08.015Z"
   },
   {
    "duration": -88,
    "start_time": "2022-01-04T11:30:08.019Z"
   },
   {
    "duration": -91,
    "start_time": "2022-01-04T11:30:08.024Z"
   },
   {
    "duration": -94,
    "start_time": "2022-01-04T11:30:08.028Z"
   },
   {
    "duration": 6,
    "start_time": "2022-01-04T11:30:40.691Z"
   },
   {
    "duration": 6,
    "start_time": "2022-01-04T11:31:15.761Z"
   },
   {
    "duration": 3,
    "start_time": "2022-01-04T11:31:16.121Z"
   },
   {
    "duration": 4,
    "start_time": "2022-01-04T11:31:16.530Z"
   },
   {
    "duration": 7,
    "start_time": "2022-01-04T11:31:16.970Z"
   },
   {
    "duration": 5,
    "start_time": "2022-01-04T11:31:17.408Z"
   },
   {
    "duration": 4,
    "start_time": "2022-01-04T11:31:17.872Z"
   },
   {
    "duration": 6,
    "start_time": "2022-01-04T11:31:26.890Z"
   },
   {
    "duration": 1148,
    "start_time": "2022-01-04T11:59:45.019Z"
   },
   {
    "duration": 2,
    "start_time": "2022-01-04T11:59:46.169Z"
   },
   {
    "duration": 6,
    "start_time": "2022-01-04T11:59:46.173Z"
   },
   {
    "duration": 152,
    "start_time": "2022-01-04T11:59:46.180Z"
   },
   {
    "duration": 11,
    "start_time": "2022-01-04T11:59:46.333Z"
   },
   {
    "duration": 34,
    "start_time": "2022-01-04T11:59:46.345Z"
   },
   {
    "duration": 122,
    "start_time": "2022-01-04T11:59:46.380Z"
   },
   {
    "duration": 7,
    "start_time": "2022-01-04T11:59:46.505Z"
   },
   {
    "duration": 36,
    "start_time": "2022-01-04T11:59:46.514Z"
   },
   {
    "duration": 84,
    "start_time": "2022-01-04T11:59:46.552Z"
   },
   {
    "duration": 7,
    "start_time": "2022-01-04T11:59:46.637Z"
   },
   {
    "duration": 19,
    "start_time": "2022-01-04T11:59:46.646Z"
   },
   {
    "duration": 24,
    "start_time": "2022-01-04T11:59:46.667Z"
   },
   {
    "duration": 10,
    "start_time": "2022-01-04T11:59:46.693Z"
   },
   {
    "duration": 9,
    "start_time": "2022-01-04T11:59:46.705Z"
   },
   {
    "duration": 27,
    "start_time": "2022-01-04T11:59:46.716Z"
   },
   {
    "duration": 15,
    "start_time": "2022-01-04T11:59:46.744Z"
   },
   {
    "duration": 8,
    "start_time": "2022-01-04T11:59:46.761Z"
   },
   {
    "duration": 6,
    "start_time": "2022-01-04T11:59:46.771Z"
   },
   {
    "duration": 11,
    "start_time": "2022-01-04T11:59:46.778Z"
   },
   {
    "duration": 31,
    "start_time": "2022-01-04T11:59:46.791Z"
   },
   {
    "duration": 13,
    "start_time": "2022-01-04T11:59:46.824Z"
   },
   {
    "duration": 24,
    "start_time": "2022-01-04T11:59:46.862Z"
   },
   {
    "duration": 13,
    "start_time": "2022-01-04T11:59:46.889Z"
   },
   {
    "duration": 18,
    "start_time": "2022-01-04T11:59:46.904Z"
   },
   {
    "duration": 37,
    "start_time": "2022-01-04T11:59:46.924Z"
   },
   {
    "duration": 5,
    "start_time": "2022-01-04T11:59:46.963Z"
   },
   {
    "duration": 11,
    "start_time": "2022-01-04T11:59:46.969Z"
   },
   {
    "duration": 11,
    "start_time": "2022-01-04T11:59:46.982Z"
   },
   {
    "duration": 10,
    "start_time": "2022-01-04T11:59:46.994Z"
   },
   {
    "duration": 6,
    "start_time": "2022-01-04T11:59:47.006Z"
   },
   {
    "duration": 15,
    "start_time": "2022-01-04T11:59:47.013Z"
   },
   {
    "duration": 6,
    "start_time": "2022-01-04T11:59:47.061Z"
   },
   {
    "duration": 7,
    "start_time": "2022-01-04T11:59:47.070Z"
   },
   {
    "duration": 9,
    "start_time": "2022-01-04T11:59:47.079Z"
   },
   {
    "duration": 286,
    "start_time": "2022-01-04T11:59:47.090Z"
   },
   {
    "duration": 95,
    "start_time": "2022-01-04T11:59:47.378Z"
   },
   {
    "duration": 39,
    "start_time": "2022-01-04T11:59:47.475Z"
   },
   {
    "duration": 50,
    "start_time": "2022-01-04T11:59:47.516Z"
   },
   {
    "duration": 7,
    "start_time": "2022-01-04T11:59:47.568Z"
   },
   {
    "duration": 9,
    "start_time": "2022-01-04T11:59:47.577Z"
   },
   {
    "duration": 366,
    "start_time": "2022-01-04T11:59:47.587Z"
   },
   {
    "duration": 36,
    "start_time": "2022-01-04T11:59:47.954Z"
   },
   {
    "duration": 7,
    "start_time": "2022-01-04T11:59:47.991Z"
   },
   {
    "duration": 100,
    "start_time": "2022-01-04T11:59:48.000Z"
   },
   {
    "duration": 7,
    "start_time": "2022-01-04T11:59:48.102Z"
   },
   {
    "duration": 11,
    "start_time": "2022-01-04T11:59:48.110Z"
   },
   {
    "duration": 8,
    "start_time": "2022-01-04T11:59:48.122Z"
   },
   {
    "duration": 28,
    "start_time": "2022-01-04T11:59:48.132Z"
   },
   {
    "duration": 5,
    "start_time": "2022-01-04T11:59:48.162Z"
   },
   {
    "duration": 12,
    "start_time": "2022-01-04T11:59:48.169Z"
   },
   {
    "duration": 16,
    "start_time": "2022-01-04T11:59:48.183Z"
   },
   {
    "duration": 23,
    "start_time": "2022-01-04T11:59:48.201Z"
   },
   {
    "duration": 21,
    "start_time": "2022-01-04T11:59:48.226Z"
   },
   {
    "duration": 21,
    "start_time": "2022-01-04T11:59:48.249Z"
   },
   {
    "duration": 31,
    "start_time": "2022-01-04T11:59:48.271Z"
   },
   {
    "duration": 43,
    "start_time": "2022-01-04T11:59:48.304Z"
   },
   {
    "duration": 12,
    "start_time": "2022-01-04T11:59:48.349Z"
   },
   {
    "duration": 49,
    "start_time": "2022-01-04T11:59:48.363Z"
   },
   {
    "duration": 13,
    "start_time": "2022-01-04T11:59:48.414Z"
   },
   {
    "duration": 46,
    "start_time": "2022-01-04T11:59:48.428Z"
   },
   {
    "duration": 18,
    "start_time": "2022-01-04T11:59:48.476Z"
   },
   {
    "duration": 42,
    "start_time": "2022-01-04T11:59:48.496Z"
   },
   {
    "duration": 28,
    "start_time": "2022-01-04T11:59:48.540Z"
   },
   {
    "duration": 22,
    "start_time": "2022-01-04T11:59:48.570Z"
   },
   {
    "duration": 22,
    "start_time": "2022-01-04T11:59:48.594Z"
   },
   {
    "duration": 12,
    "start_time": "2022-01-04T11:59:48.618Z"
   },
   {
    "duration": 6,
    "start_time": "2022-01-04T11:59:48.635Z"
   },
   {
    "duration": 25,
    "start_time": "2022-01-04T11:59:48.644Z"
   },
   {
    "duration": 5,
    "start_time": "2022-01-04T11:59:48.671Z"
   },
   {
    "duration": 12,
    "start_time": "2022-01-04T11:59:48.678Z"
   },
   {
    "duration": 347,
    "start_time": "2022-01-04T11:59:48.692Z"
   },
   {
    "duration": 20,
    "start_time": "2022-01-04T11:59:49.042Z"
   },
   {
    "duration": 4,
    "start_time": "2022-01-04T11:59:49.063Z"
   },
   {
    "duration": 26,
    "start_time": "2022-01-04T11:59:49.068Z"
   },
   {
    "duration": 15,
    "start_time": "2022-01-04T11:59:49.095Z"
   },
   {
    "duration": 200,
    "start_time": "2022-01-04T11:59:49.112Z"
   },
   {
    "duration": 350,
    "start_time": "2022-01-04T11:59:49.314Z"
   },
   {
    "duration": 7,
    "start_time": "2022-01-04T11:59:49.666Z"
   },
   {
    "duration": 7,
    "start_time": "2022-01-04T11:59:49.675Z"
   },
   {
    "duration": 26,
    "start_time": "2022-01-04T11:59:49.683Z"
   },
   {
    "duration": 17,
    "start_time": "2022-01-04T11:59:49.710Z"
   },
   {
    "duration": 1693,
    "start_time": "2022-01-05T11:02:13.895Z"
   },
   {
    "duration": 5,
    "start_time": "2022-01-05T11:02:15.591Z"
   },
   {
    "duration": 7,
    "start_time": "2022-01-05T11:02:15.599Z"
   },
   {
    "duration": 217,
    "start_time": "2022-01-05T11:02:15.609Z"
   },
   {
    "duration": 15,
    "start_time": "2022-01-05T11:02:15.828Z"
   },
   {
    "duration": 43,
    "start_time": "2022-01-05T11:02:15.846Z"
   },
   {
    "duration": 176,
    "start_time": "2022-01-05T11:02:15.892Z"
   },
   {
    "duration": 12,
    "start_time": "2022-01-05T11:02:16.071Z"
   },
   {
    "duration": 24,
    "start_time": "2022-01-05T11:02:16.086Z"
   },
   {
    "duration": 136,
    "start_time": "2022-01-05T11:02:16.113Z"
   },
   {
    "duration": 17,
    "start_time": "2022-01-05T11:02:16.252Z"
   },
   {
    "duration": 21,
    "start_time": "2022-01-05T11:02:16.272Z"
   },
   {
    "duration": 17,
    "start_time": "2022-01-05T11:02:16.295Z"
   },
   {
    "duration": 15,
    "start_time": "2022-01-05T11:02:16.315Z"
   },
   {
    "duration": 41,
    "start_time": "2022-01-05T11:02:16.333Z"
   },
   {
    "duration": 30,
    "start_time": "2022-01-05T11:02:16.377Z"
   },
   {
    "duration": 23,
    "start_time": "2022-01-05T11:02:16.409Z"
   },
   {
    "duration": 33,
    "start_time": "2022-01-05T11:02:16.435Z"
   },
   {
    "duration": 8,
    "start_time": "2022-01-05T11:02:16.471Z"
   },
   {
    "duration": 15,
    "start_time": "2022-01-05T11:02:16.481Z"
   },
   {
    "duration": 70,
    "start_time": "2022-01-05T11:02:16.498Z"
   },
   {
    "duration": 20,
    "start_time": "2022-01-05T11:02:16.570Z"
   },
   {
    "duration": 32,
    "start_time": "2022-01-05T11:02:16.596Z"
   },
   {
    "duration": 42,
    "start_time": "2022-01-05T11:02:16.632Z"
   },
   {
    "duration": 26,
    "start_time": "2022-01-05T11:02:16.676Z"
   },
   {
    "duration": 15,
    "start_time": "2022-01-05T11:02:16.704Z"
   },
   {
    "duration": 6,
    "start_time": "2022-01-05T11:02:16.721Z"
   },
   {
    "duration": 40,
    "start_time": "2022-01-05T11:02:16.730Z"
   },
   {
    "duration": 16,
    "start_time": "2022-01-05T11:02:16.773Z"
   },
   {
    "duration": 13,
    "start_time": "2022-01-05T11:02:16.792Z"
   },
   {
    "duration": 8,
    "start_time": "2022-01-05T11:02:16.807Z"
   },
   {
    "duration": 58,
    "start_time": "2022-01-05T11:02:16.817Z"
   },
   {
    "duration": 11,
    "start_time": "2022-01-05T11:02:16.878Z"
   },
   {
    "duration": 12,
    "start_time": "2022-01-05T11:02:16.892Z"
   },
   {
    "duration": 19,
    "start_time": "2022-01-05T11:02:16.906Z"
   },
   {
    "duration": 475,
    "start_time": "2022-01-05T11:02:16.927Z"
   },
   {
    "duration": 137,
    "start_time": "2022-01-05T11:02:17.404Z"
   },
   {
    "duration": 65,
    "start_time": "2022-01-05T11:02:17.543Z"
   },
   {
    "duration": 73,
    "start_time": "2022-01-05T11:02:17.610Z"
   },
   {
    "duration": 10,
    "start_time": "2022-01-05T11:02:17.685Z"
   },
   {
    "duration": 10,
    "start_time": "2022-01-05T11:02:17.697Z"
   },
   {
    "duration": 688,
    "start_time": "2022-01-05T11:02:17.709Z"
   },
   {
    "duration": 51,
    "start_time": "2022-01-05T11:02:18.399Z"
   },
   {
    "duration": 23,
    "start_time": "2022-01-05T11:02:18.452Z"
   },
   {
    "duration": 145,
    "start_time": "2022-01-05T11:02:18.477Z"
   },
   {
    "duration": 10,
    "start_time": "2022-01-05T11:02:18.624Z"
   },
   {
    "duration": 33,
    "start_time": "2022-01-05T11:02:18.637Z"
   },
   {
    "duration": 13,
    "start_time": "2022-01-05T11:02:18.672Z"
   },
   {
    "duration": 13,
    "start_time": "2022-01-05T11:02:18.687Z"
   },
   {
    "duration": 6,
    "start_time": "2022-01-05T11:02:18.703Z"
   },
   {
    "duration": 20,
    "start_time": "2022-01-05T11:02:18.712Z"
   },
   {
    "duration": 18,
    "start_time": "2022-01-05T11:02:18.768Z"
   },
   {
    "duration": 10,
    "start_time": "2022-01-05T11:02:18.790Z"
   },
   {
    "duration": 12,
    "start_time": "2022-01-05T11:02:18.803Z"
   },
   {
    "duration": 62,
    "start_time": "2022-01-05T11:02:18.817Z"
   },
   {
    "duration": 12,
    "start_time": "2022-01-05T11:02:18.882Z"
   },
   {
    "duration": 74,
    "start_time": "2022-01-05T11:02:18.896Z"
   },
   {
    "duration": 5,
    "start_time": "2022-01-05T11:02:18.972Z"
   },
   {
    "duration": 51,
    "start_time": "2022-01-05T11:02:18.979Z"
   },
   {
    "duration": 5,
    "start_time": "2022-01-05T11:02:19.032Z"
   },
   {
    "duration": 66,
    "start_time": "2022-01-05T11:02:19.040Z"
   },
   {
    "duration": 8,
    "start_time": "2022-01-05T11:02:19.108Z"
   },
   {
    "duration": 51,
    "start_time": "2022-01-05T11:02:19.118Z"
   },
   {
    "duration": 6,
    "start_time": "2022-01-05T11:02:19.172Z"
   },
   {
    "duration": 16,
    "start_time": "2022-01-05T11:02:19.181Z"
   },
   {
    "duration": 9,
    "start_time": "2022-01-05T11:02:19.200Z"
   },
   {
    "duration": 10,
    "start_time": "2022-01-05T11:02:19.212Z"
   },
   {
    "duration": 5,
    "start_time": "2022-01-05T11:02:19.230Z"
   },
   {
    "duration": 51,
    "start_time": "2022-01-05T11:02:19.238Z"
   },
   {
    "duration": 7,
    "start_time": "2022-01-05T11:02:19.291Z"
   },
   {
    "duration": 6,
    "start_time": "2022-01-05T11:02:19.301Z"
   },
   {
    "duration": 525,
    "start_time": "2022-01-05T11:02:19.309Z"
   },
   {
    "duration": 11,
    "start_time": "2022-01-05T11:02:19.836Z"
   },
   {
    "duration": 23,
    "start_time": "2022-01-05T11:02:19.849Z"
   },
   {
    "duration": 12,
    "start_time": "2022-01-05T11:02:19.875Z"
   },
   {
    "duration": 7,
    "start_time": "2022-01-05T11:02:19.889Z"
   },
   {
    "duration": 390,
    "start_time": "2022-01-05T11:02:19.898Z"
   },
   {
    "duration": 575,
    "start_time": "2022-01-05T11:02:20.291Z"
   },
   {
    "duration": 13,
    "start_time": "2022-01-05T11:02:20.869Z"
   },
   {
    "duration": 7,
    "start_time": "2022-01-05T11:02:20.885Z"
   },
   {
    "duration": 15,
    "start_time": "2022-01-05T11:02:20.895Z"
   },
   {
    "duration": 7,
    "start_time": "2022-01-05T11:02:20.913Z"
   },
   {
    "duration": 416,
    "start_time": "2022-01-05T11:02:20.922Z"
   },
   {
    "duration": 593,
    "start_time": "2022-01-05T11:02:21.341Z"
   },
   {
    "duration": 11,
    "start_time": "2022-01-05T11:02:21.937Z"
   },
   {
    "duration": 6,
    "start_time": "2022-01-05T11:02:21.966Z"
   },
   {
    "duration": 18,
    "start_time": "2022-01-05T11:02:21.974Z"
   },
   {
    "duration": 6,
    "start_time": "2022-01-05T11:02:21.995Z"
   },
   {
    "duration": 375,
    "start_time": "2022-01-05T11:02:22.004Z"
   },
   {
    "duration": 8,
    "start_time": "2022-01-05T11:02:22.381Z"
   },
   {
    "duration": 9,
    "start_time": "2022-01-05T11:02:22.391Z"
   },
   {
    "duration": 15,
    "start_time": "2022-01-05T11:02:22.403Z"
   },
   {
    "duration": 18,
    "start_time": "2022-01-05T11:02:22.421Z"
   },
   {
    "duration": 29,
    "start_time": "2022-01-05T11:02:22.442Z"
   },
   {
    "duration": 17,
    "start_time": "2022-01-05T11:02:22.473Z"
   },
   {
    "duration": 16,
    "start_time": "2022-01-05T11:02:22.492Z"
   },
   {
    "duration": 11,
    "start_time": "2022-01-05T11:02:22.511Z"
   },
   {
    "duration": 27,
    "start_time": "2022-01-05T11:02:22.525Z"
   },
   {
    "duration": 1659,
    "start_time": "2022-01-05T11:06:11.390Z"
   },
   {
    "duration": 147,
    "start_time": "2022-01-05T11:06:28.595Z"
   },
   {
    "duration": 11,
    "start_time": "2022-01-05T11:06:31.201Z"
   },
   {
    "duration": 1663,
    "start_time": "2022-01-06T09:36:45.973Z"
   },
   {
    "duration": 4,
    "start_time": "2022-01-06T09:36:48.390Z"
   },
   {
    "duration": 3,
    "start_time": "2022-01-06T09:36:48.760Z"
   },
   {
    "duration": 217,
    "start_time": "2022-01-06T09:36:52.172Z"
   },
   {
    "duration": 22,
    "start_time": "2022-01-06T09:36:52.527Z"
   },
   {
    "duration": 27,
    "start_time": "2022-01-06T09:36:52.883Z"
   },
   {
    "duration": 170,
    "start_time": "2022-01-06T09:36:56.403Z"
   },
   {
    "duration": 13,
    "start_time": "2022-01-06T09:36:57.042Z"
   },
   {
    "duration": 200,
    "start_time": "2022-01-06T09:36:58.253Z"
   },
   {
    "duration": 12,
    "start_time": "2022-01-06T09:37:00.922Z"
   },
   {
    "duration": 12,
    "start_time": "2022-01-06T09:38:33.150Z"
   },
   {
    "duration": 25,
    "start_time": "2022-01-06T09:38:36.929Z"
   },
   {
    "duration": 1564,
    "start_time": "2022-01-06T09:42:51.551Z"
   },
   {
    "duration": 3,
    "start_time": "2022-01-06T09:42:53.118Z"
   },
   {
    "duration": 12,
    "start_time": "2022-01-06T09:42:53.124Z"
   },
   {
    "duration": 216,
    "start_time": "2022-01-06T09:42:53.138Z"
   },
   {
    "duration": 20,
    "start_time": "2022-01-06T09:42:53.356Z"
   },
   {
    "duration": 28,
    "start_time": "2022-01-06T09:42:53.379Z"
   },
   {
    "duration": 195,
    "start_time": "2022-01-06T09:42:53.409Z"
   },
   {
    "duration": 12,
    "start_time": "2022-01-06T09:42:53.608Z"
   },
   {
    "duration": 203,
    "start_time": "2022-01-06T09:42:53.624Z"
   },
   {
    "duration": 11,
    "start_time": "2022-01-06T09:42:53.830Z"
   },
   {
    "duration": 41,
    "start_time": "2022-01-06T09:42:53.844Z"
   },
   {
    "duration": 131,
    "start_time": "2022-01-06T09:42:53.889Z"
   },
   {
    "duration": 11,
    "start_time": "2022-01-06T09:42:54.022Z"
   },
   {
    "duration": 37,
    "start_time": "2022-01-06T09:42:54.036Z"
   },
   {
    "duration": 17,
    "start_time": "2022-01-06T09:42:54.076Z"
   },
   {
    "duration": 14,
    "start_time": "2022-01-06T09:42:54.095Z"
   },
   {
    "duration": 14,
    "start_time": "2022-01-06T09:42:54.112Z"
   },
   {
    "duration": 38,
    "start_time": "2022-01-06T09:42:54.129Z"
   },
   {
    "duration": 16,
    "start_time": "2022-01-06T09:42:54.169Z"
   },
   {
    "duration": 12,
    "start_time": "2022-01-06T09:42:54.188Z"
   },
   {
    "duration": 11,
    "start_time": "2022-01-06T09:42:54.204Z"
   },
   {
    "duration": 12,
    "start_time": "2022-01-06T09:42:54.218Z"
   },
   {
    "duration": 45,
    "start_time": "2022-01-06T09:42:54.272Z"
   },
   {
    "duration": 21,
    "start_time": "2022-01-06T09:42:54.321Z"
   },
   {
    "duration": 54,
    "start_time": "2022-01-06T09:42:54.344Z"
   },
   {
    "duration": 17,
    "start_time": "2022-01-06T09:42:54.401Z"
   },
   {
    "duration": 59,
    "start_time": "2022-01-06T09:42:54.421Z"
   },
   {
    "duration": 15,
    "start_time": "2022-01-06T09:42:54.482Z"
   },
   {
    "duration": 8,
    "start_time": "2022-01-06T09:42:54.500Z"
   },
   {
    "duration": 10,
    "start_time": "2022-01-06T09:42:54.510Z"
   },
   {
    "duration": 11,
    "start_time": "2022-01-06T09:42:54.523Z"
   },
   {
    "duration": 30,
    "start_time": "2022-01-06T09:42:54.568Z"
   },
   {
    "duration": 10,
    "start_time": "2022-01-06T09:42:54.600Z"
   },
   {
    "duration": 12,
    "start_time": "2022-01-06T09:42:54.613Z"
   },
   {
    "duration": 41,
    "start_time": "2022-01-06T09:42:54.628Z"
   },
   {
    "duration": 476,
    "start_time": "2022-01-06T09:42:54.672Z"
   },
   {
    "duration": 140,
    "start_time": "2022-01-06T09:42:55.150Z"
   },
   {
    "duration": 73,
    "start_time": "2022-01-06T09:42:55.293Z"
   },
   {
    "duration": 65,
    "start_time": "2022-01-06T09:42:55.369Z"
   },
   {
    "duration": 32,
    "start_time": "2022-01-06T09:42:55.436Z"
   },
   {
    "duration": 10,
    "start_time": "2022-01-06T09:42:55.471Z"
   },
   {
    "duration": 393,
    "start_time": "2022-01-06T09:42:55.483Z"
   },
   {
    "duration": -5242,
    "start_time": "2022-01-06T09:43:01.122Z"
   },
   {
    "duration": -5257,
    "start_time": "2022-01-06T09:43:01.138Z"
   },
   {
    "duration": -5272,
    "start_time": "2022-01-06T09:43:01.154Z"
   },
   {
    "duration": -5284,
    "start_time": "2022-01-06T09:43:01.168Z"
   },
   {
    "duration": -5297,
    "start_time": "2022-01-06T09:43:01.183Z"
   },
   {
    "duration": -5380,
    "start_time": "2022-01-06T09:43:01.267Z"
   },
   {
    "duration": -5396,
    "start_time": "2022-01-06T09:43:01.284Z"
   },
   {
    "duration": -5411,
    "start_time": "2022-01-06T09:43:01.300Z"
   },
   {
    "duration": -5425,
    "start_time": "2022-01-06T09:43:01.316Z"
   },
   {
    "duration": -5439,
    "start_time": "2022-01-06T09:43:01.331Z"
   },
   {
    "duration": -5453,
    "start_time": "2022-01-06T09:43:01.347Z"
   },
   {
    "duration": -5488,
    "start_time": "2022-01-06T09:43:01.383Z"
   },
   {
    "duration": -5502,
    "start_time": "2022-01-06T09:43:01.399Z"
   },
   {
    "duration": -5515,
    "start_time": "2022-01-06T09:43:01.413Z"
   },
   {
    "duration": -5528,
    "start_time": "2022-01-06T09:43:01.428Z"
   },
   {
    "duration": -5541,
    "start_time": "2022-01-06T09:43:01.442Z"
   },
   {
    "duration": -5554,
    "start_time": "2022-01-06T09:43:01.457Z"
   },
   {
    "duration": -5565,
    "start_time": "2022-01-06T09:43:01.470Z"
   },
   {
    "duration": -5603,
    "start_time": "2022-01-06T09:43:01.509Z"
   },
   {
    "duration": -5616,
    "start_time": "2022-01-06T09:43:01.524Z"
   },
   {
    "duration": -5632,
    "start_time": "2022-01-06T09:43:01.541Z"
   },
   {
    "duration": -5644,
    "start_time": "2022-01-06T09:43:01.555Z"
   },
   {
    "duration": -5658,
    "start_time": "2022-01-06T09:43:01.571Z"
   },
   {
    "duration": -5672,
    "start_time": "2022-01-06T09:43:01.586Z"
   },
   {
    "duration": -5634,
    "start_time": "2022-01-06T09:43:01.601Z"
   },
   {
    "duration": -5671,
    "start_time": "2022-01-06T09:43:01.640Z"
   },
   {
    "duration": -5685,
    "start_time": "2022-01-06T09:43:01.656Z"
   },
   {
    "duration": -5697,
    "start_time": "2022-01-06T09:43:01.670Z"
   },
   {
    "duration": -5712,
    "start_time": "2022-01-06T09:43:01.686Z"
   },
   {
    "duration": -5724,
    "start_time": "2022-01-06T09:43:01.700Z"
   },
   {
    "duration": -5738,
    "start_time": "2022-01-06T09:43:01.715Z"
   },
   {
    "duration": -5752,
    "start_time": "2022-01-06T09:43:01.731Z"
   },
   {
    "duration": -5792,
    "start_time": "2022-01-06T09:43:01.773Z"
   },
   {
    "duration": -5805,
    "start_time": "2022-01-06T09:43:01.787Z"
   },
   {
    "duration": -5819,
    "start_time": "2022-01-06T09:43:01.802Z"
   },
   {
    "duration": -5831,
    "start_time": "2022-01-06T09:43:01.816Z"
   },
   {
    "duration": -5845,
    "start_time": "2022-01-06T09:43:01.831Z"
   },
   {
    "duration": -5858,
    "start_time": "2022-01-06T09:43:01.845Z"
   },
   {
    "duration": -5872,
    "start_time": "2022-01-06T09:43:01.861Z"
   },
   {
    "duration": -5910,
    "start_time": "2022-01-06T09:43:01.900Z"
   },
   {
    "duration": -5926,
    "start_time": "2022-01-06T09:43:01.917Z"
   },
   {
    "duration": -5938,
    "start_time": "2022-01-06T09:43:01.931Z"
   },
   {
    "duration": -5952,
    "start_time": "2022-01-06T09:43:01.946Z"
   },
   {
    "duration": -5966,
    "start_time": "2022-01-06T09:43:01.962Z"
   },
   {
    "duration": -5986,
    "start_time": "2022-01-06T09:43:01.983Z"
   },
   {
    "duration": -5999,
    "start_time": "2022-01-06T09:43:01.998Z"
   },
   {
    "duration": -6042,
    "start_time": "2022-01-06T09:43:02.042Z"
   },
   {
    "duration": -6055,
    "start_time": "2022-01-06T09:43:02.057Z"
   },
   {
    "duration": -6069,
    "start_time": "2022-01-06T09:43:02.072Z"
   },
   {
    "duration": -6082,
    "start_time": "2022-01-06T09:43:02.086Z"
   },
   {
    "duration": -6098,
    "start_time": "2022-01-06T09:43:02.104Z"
   },
   {
    "duration": -6051,
    "start_time": "2022-01-06T09:43:02.118Z"
   },
   {
    "duration": -6064,
    "start_time": "2022-01-06T09:43:02.133Z"
   },
   {
    "duration": -6111,
    "start_time": "2022-01-06T09:43:02.181Z"
   },
   {
    "duration": -6126,
    "start_time": "2022-01-06T09:43:02.197Z"
   },
   {
    "duration": -6139,
    "start_time": "2022-01-06T09:43:02.212Z"
   },
   {
    "duration": 149,
    "start_time": "2022-01-06T09:43:32.002Z"
   },
   {
    "duration": 116,
    "start_time": "2022-01-06T09:43:40.420Z"
   },
   {
    "duration": 1548,
    "start_time": "2022-01-06T09:50:12.868Z"
   },
   {
    "duration": 4,
    "start_time": "2022-01-06T09:50:14.419Z"
   },
   {
    "duration": 11,
    "start_time": "2022-01-06T09:50:14.426Z"
   },
   {
    "duration": 234,
    "start_time": "2022-01-06T09:50:14.440Z"
   },
   {
    "duration": 16,
    "start_time": "2022-01-06T09:50:14.677Z"
   },
   {
    "duration": 46,
    "start_time": "2022-01-06T09:50:14.696Z"
   },
   {
    "duration": 191,
    "start_time": "2022-01-06T09:50:14.745Z"
   },
   {
    "duration": 26,
    "start_time": "2022-01-06T09:50:14.941Z"
   },
   {
    "duration": 197,
    "start_time": "2022-01-06T09:50:14.971Z"
   },
   {
    "duration": 13,
    "start_time": "2022-01-06T09:50:15.171Z"
   },
   {
    "duration": 24,
    "start_time": "2022-01-06T09:50:15.187Z"
   },
   {
    "duration": 147,
    "start_time": "2022-01-06T09:50:15.215Z"
   },
   {
    "duration": 11,
    "start_time": "2022-01-06T09:50:15.364Z"
   },
   {
    "duration": 21,
    "start_time": "2022-01-06T09:50:15.377Z"
   },
   {
    "duration": 17,
    "start_time": "2022-01-06T09:50:15.400Z"
   },
   {
    "duration": 14,
    "start_time": "2022-01-06T09:50:15.419Z"
   },
   {
    "duration": 11,
    "start_time": "2022-01-06T09:50:15.468Z"
   },
   {
    "duration": 30,
    "start_time": "2022-01-06T09:50:15.482Z"
   },
   {
    "duration": 18,
    "start_time": "2022-01-06T09:50:15.514Z"
   },
   {
    "duration": 33,
    "start_time": "2022-01-06T09:50:15.535Z"
   },
   {
    "duration": 7,
    "start_time": "2022-01-06T09:50:15.571Z"
   },
   {
    "duration": 21,
    "start_time": "2022-01-06T09:50:15.580Z"
   },
   {
    "duration": 65,
    "start_time": "2022-01-06T09:50:15.609Z"
   },
   {
    "duration": 20,
    "start_time": "2022-01-06T09:50:15.678Z"
   },
   {
    "duration": 32,
    "start_time": "2022-01-06T09:50:15.701Z"
   },
   {
    "duration": 42,
    "start_time": "2022-01-06T09:50:15.736Z"
   },
   {
    "duration": 27,
    "start_time": "2022-01-06T09:50:15.780Z"
   },
   {
    "duration": 15,
    "start_time": "2022-01-06T09:50:15.810Z"
   },
   {
    "duration": 42,
    "start_time": "2022-01-06T09:50:15.828Z"
   },
   {
    "duration": 13,
    "start_time": "2022-01-06T09:50:15.873Z"
   },
   {
    "duration": 6,
    "start_time": "2022-01-06T09:50:15.888Z"
   },
   {
    "duration": 21,
    "start_time": "2022-01-06T09:50:15.896Z"
   },
   {
    "duration": 18,
    "start_time": "2022-01-06T09:50:15.920Z"
   },
   {
    "duration": 31,
    "start_time": "2022-01-06T09:50:15.941Z"
   },
   {
    "duration": 19,
    "start_time": "2022-01-06T09:50:15.975Z"
   },
   {
    "duration": 470,
    "start_time": "2022-01-06T09:50:15.997Z"
   },
   {
    "duration": 138,
    "start_time": "2022-01-06T09:50:16.469Z"
   },
   {
    "duration": 68,
    "start_time": "2022-01-06T09:50:16.609Z"
   },
   {
    "duration": 59,
    "start_time": "2022-01-06T09:50:16.679Z"
   },
   {
    "duration": 31,
    "start_time": "2022-01-06T09:50:16.740Z"
   },
   {
    "duration": 15,
    "start_time": "2022-01-06T09:50:16.774Z"
   },
   {
    "duration": 137,
    "start_time": "2022-01-06T09:50:16.792Z"
   },
   {
    "duration": 70,
    "start_time": "2022-01-06T09:50:16.932Z"
   },
   {
    "duration": 11,
    "start_time": "2022-01-06T09:50:17.005Z"
   },
   {
    "duration": 159,
    "start_time": "2022-01-06T09:50:17.018Z"
   },
   {
    "duration": 10,
    "start_time": "2022-01-06T09:50:17.179Z"
   },
   {
    "duration": 13,
    "start_time": "2022-01-06T09:50:17.191Z"
   },
   {
    "duration": 12,
    "start_time": "2022-01-06T09:50:17.206Z"
   },
   {
    "duration": 13,
    "start_time": "2022-01-06T09:50:17.220Z"
   },
   {
    "duration": 96,
    "start_time": "2022-01-06T09:50:17.267Z"
   },
   {
    "duration": -3787,
    "start_time": "2022-01-06T09:50:21.154Z"
   },
   {
    "duration": -3859,
    "start_time": "2022-01-06T09:50:21.227Z"
   },
   {
    "duration": -3880,
    "start_time": "2022-01-06T09:50:21.250Z"
   },
   {
    "duration": -3896,
    "start_time": "2022-01-06T09:50:21.267Z"
   },
   {
    "duration": -3912,
    "start_time": "2022-01-06T09:50:21.284Z"
   },
   {
    "duration": -3926,
    "start_time": "2022-01-06T09:50:21.299Z"
   },
   {
    "duration": -3940,
    "start_time": "2022-01-06T09:50:21.315Z"
   },
   {
    "duration": -3974,
    "start_time": "2022-01-06T09:50:21.350Z"
   },
   {
    "duration": -3990,
    "start_time": "2022-01-06T09:50:21.367Z"
   },
   {
    "duration": -4005,
    "start_time": "2022-01-06T09:50:21.383Z"
   },
   {
    "duration": -4021,
    "start_time": "2022-01-06T09:50:21.401Z"
   },
   {
    "duration": -4036,
    "start_time": "2022-01-06T09:50:21.417Z"
   },
   {
    "duration": -4051,
    "start_time": "2022-01-06T09:50:21.433Z"
   },
   {
    "duration": -4087,
    "start_time": "2022-01-06T09:50:21.470Z"
   },
   {
    "duration": -4104,
    "start_time": "2022-01-06T09:50:21.489Z"
   },
   {
    "duration": -4118,
    "start_time": "2022-01-06T09:50:21.504Z"
   },
   {
    "duration": -4132,
    "start_time": "2022-01-06T09:50:21.519Z"
   },
   {
    "duration": -4145,
    "start_time": "2022-01-06T09:50:21.533Z"
   },
   {
    "duration": -4160,
    "start_time": "2022-01-06T09:50:21.549Z"
   },
   {
    "duration": -4173,
    "start_time": "2022-01-06T09:50:21.564Z"
   },
   {
    "duration": -4210,
    "start_time": "2022-01-06T09:50:21.602Z"
   },
   {
    "duration": -4226,
    "start_time": "2022-01-06T09:50:21.619Z"
   },
   {
    "duration": -4242,
    "start_time": "2022-01-06T09:50:21.636Z"
   },
   {
    "duration": -4256,
    "start_time": "2022-01-06T09:50:21.652Z"
   },
   {
    "duration": -4274,
    "start_time": "2022-01-06T09:50:21.671Z"
   },
   {
    "duration": -4289,
    "start_time": "2022-01-06T09:50:21.687Z"
   },
   {
    "duration": -4325,
    "start_time": "2022-01-06T09:50:21.724Z"
   },
   {
    "duration": -4342,
    "start_time": "2022-01-06T09:50:21.742Z"
   },
   {
    "duration": -4356,
    "start_time": "2022-01-06T09:50:21.758Z"
   },
   {
    "duration": -4369,
    "start_time": "2022-01-06T09:50:21.772Z"
   },
   {
    "duration": -4384,
    "start_time": "2022-01-06T09:50:21.788Z"
   },
   {
    "duration": -4397,
    "start_time": "2022-01-06T09:50:21.802Z"
   },
   {
    "duration": -4432,
    "start_time": "2022-01-06T09:50:21.838Z"
   },
   {
    "duration": -4449,
    "start_time": "2022-01-06T09:50:21.856Z"
   },
   {
    "duration": -4464,
    "start_time": "2022-01-06T09:50:21.873Z"
   },
   {
    "duration": -4478,
    "start_time": "2022-01-06T09:50:21.888Z"
   },
   {
    "duration": -4437,
    "start_time": "2022-01-06T09:50:21.904Z"
   },
   {
    "duration": -4452,
    "start_time": "2022-01-06T09:50:21.920Z"
   },
   {
    "duration": -4485,
    "start_time": "2022-01-06T09:50:21.955Z"
   },
   {
    "duration": -4501,
    "start_time": "2022-01-06T09:50:21.972Z"
   },
   {
    "duration": -4516,
    "start_time": "2022-01-06T09:50:21.989Z"
   },
   {
    "duration": -4530,
    "start_time": "2022-01-06T09:50:22.004Z"
   },
   {
    "duration": -4545,
    "start_time": "2022-01-06T09:50:22.020Z"
   },
   {
    "duration": -4558,
    "start_time": "2022-01-06T09:50:22.035Z"
   },
   {
    "duration": -4575,
    "start_time": "2022-01-06T09:50:22.053Z"
   },
   {
    "duration": -4607,
    "start_time": "2022-01-06T09:50:22.087Z"
   },
   {
    "duration": -4623,
    "start_time": "2022-01-06T09:50:22.104Z"
   },
   {
    "duration": -4637,
    "start_time": "2022-01-06T09:50:22.119Z"
   },
   {
    "duration": -4653,
    "start_time": "2022-01-06T09:50:22.136Z"
   },
   {
    "duration": 23,
    "start_time": "2022-01-06T09:50:36.532Z"
   },
   {
    "duration": 5370,
    "start_time": "2022-01-06T09:55:47.982Z"
   },
   {
    "duration": 7,
    "start_time": "2022-01-06T09:56:08.279Z"
   },
   {
    "duration": 5369,
    "start_time": "2022-01-06T09:56:18.440Z"
   },
   {
    "duration": 12,
    "start_time": "2022-01-06T09:56:34.968Z"
   },
   {
    "duration": 16,
    "start_time": "2022-01-06T09:56:41.760Z"
   },
   {
    "duration": 7,
    "start_time": "2022-01-06T09:57:29.444Z"
   },
   {
    "duration": 18,
    "start_time": "2022-01-06T09:57:30.552Z"
   },
   {
    "duration": 18,
    "start_time": "2022-01-06T09:57:36.424Z"
   },
   {
    "duration": 1594,
    "start_time": "2022-01-06T10:02:29.839Z"
   },
   {
    "duration": 4,
    "start_time": "2022-01-06T10:02:31.436Z"
   },
   {
    "duration": 23,
    "start_time": "2022-01-06T10:02:31.445Z"
   },
   {
    "duration": 228,
    "start_time": "2022-01-06T10:02:31.472Z"
   },
   {
    "duration": 20,
    "start_time": "2022-01-06T10:02:31.703Z"
   },
   {
    "duration": 61,
    "start_time": "2022-01-06T10:02:31.726Z"
   },
   {
    "duration": 185,
    "start_time": "2022-01-06T10:02:31.790Z"
   },
   {
    "duration": 13,
    "start_time": "2022-01-06T10:02:31.981Z"
   },
   {
    "duration": 216,
    "start_time": "2022-01-06T10:02:31.997Z"
   },
   {
    "duration": 12,
    "start_time": "2022-01-06T10:02:32.215Z"
   },
   {
    "duration": 42,
    "start_time": "2022-01-06T10:02:32.230Z"
   },
   {
    "duration": 121,
    "start_time": "2022-01-06T10:02:32.275Z"
   },
   {
    "duration": 11,
    "start_time": "2022-01-06T10:02:32.399Z"
   },
   {
    "duration": 57,
    "start_time": "2022-01-06T10:02:32.413Z"
   },
   {
    "duration": 20,
    "start_time": "2022-01-06T10:02:32.474Z"
   },
   {
    "duration": 20,
    "start_time": "2022-01-06T10:02:32.497Z"
   },
   {
    "duration": 14,
    "start_time": "2022-01-06T10:02:32.519Z"
   },
   {
    "duration": 36,
    "start_time": "2022-01-06T10:02:32.536Z"
   },
   {
    "duration": 24,
    "start_time": "2022-01-06T10:02:32.576Z"
   },
   {
    "duration": 13,
    "start_time": "2022-01-06T10:02:32.602Z"
   },
   {
    "duration": 9,
    "start_time": "2022-01-06T10:02:32.618Z"
   },
   {
    "duration": 42,
    "start_time": "2022-01-06T10:02:32.630Z"
   },
   {
    "duration": 46,
    "start_time": "2022-01-06T10:02:32.680Z"
   },
   {
    "duration": 40,
    "start_time": "2022-01-06T10:02:32.730Z"
   },
   {
    "duration": 33,
    "start_time": "2022-01-06T10:02:32.773Z"
   },
   {
    "duration": 18,
    "start_time": "2022-01-06T10:02:32.808Z"
   },
   {
    "duration": 57,
    "start_time": "2022-01-06T10:02:32.828Z"
   },
   {
    "duration": 15,
    "start_time": "2022-01-06T10:02:32.887Z"
   },
   {
    "duration": 7,
    "start_time": "2022-01-06T10:02:32.905Z"
   },
   {
    "duration": 16,
    "start_time": "2022-01-06T10:02:32.914Z"
   },
   {
    "duration": 34,
    "start_time": "2022-01-06T10:02:32.933Z"
   },
   {
    "duration": 18,
    "start_time": "2022-01-06T10:02:32.970Z"
   },
   {
    "duration": 10,
    "start_time": "2022-01-06T10:02:32.990Z"
   },
   {
    "duration": 18,
    "start_time": "2022-01-06T10:02:33.002Z"
   },
   {
    "duration": 47,
    "start_time": "2022-01-06T10:02:33.023Z"
   },
   {
    "duration": 476,
    "start_time": "2022-01-06T10:02:33.073Z"
   },
   {
    "duration": 145,
    "start_time": "2022-01-06T10:02:33.552Z"
   },
   {
    "duration": 76,
    "start_time": "2022-01-06T10:02:33.701Z"
   },
   {
    "duration": 66,
    "start_time": "2022-01-06T10:02:33.779Z"
   },
   {
    "duration": 30,
    "start_time": "2022-01-06T10:02:33.848Z"
   },
   {
    "duration": 12,
    "start_time": "2022-01-06T10:02:33.881Z"
   },
   {
    "duration": 193,
    "start_time": "2022-01-06T10:02:33.897Z"
   },
   {
    "duration": 89,
    "start_time": "2022-01-06T10:02:34.094Z"
   },
   {
    "duration": 14,
    "start_time": "2022-01-06T10:02:34.186Z"
   },
   {
    "duration": 254,
    "start_time": "2022-01-06T10:02:34.203Z"
   },
   {
    "duration": 19,
    "start_time": "2022-01-06T10:02:34.460Z"
   },
   {
    "duration": 14,
    "start_time": "2022-01-06T10:02:34.481Z"
   },
   {
    "duration": 13,
    "start_time": "2022-01-06T10:02:34.497Z"
   },
   {
    "duration": 13,
    "start_time": "2022-01-06T10:02:34.513Z"
   },
   {
    "duration": 53,
    "start_time": "2022-01-06T10:02:34.528Z"
   },
   {
    "duration": 9,
    "start_time": "2022-01-06T10:02:34.583Z"
   },
   {
    "duration": 27,
    "start_time": "2022-01-06T10:02:34.594Z"
   },
   {
    "duration": 49,
    "start_time": "2022-01-06T10:02:34.624Z"
   },
   {
    "duration": 10,
    "start_time": "2022-01-06T10:02:34.676Z"
   },
   {
    "duration": 12,
    "start_time": "2022-01-06T10:02:34.688Z"
   },
   {
    "duration": 25,
    "start_time": "2022-01-06T10:02:34.703Z"
   },
   {
    "duration": 472,
    "start_time": "2022-01-06T10:02:34.732Z"
   },
   {
    "duration": -4725,
    "start_time": "2022-01-06T10:02:39.933Z"
   },
   {
    "duration": -4826,
    "start_time": "2022-01-06T10:02:40.035Z"
   },
   {
    "duration": -4900,
    "start_time": "2022-01-06T10:02:40.110Z"
   },
   {
    "duration": -4978,
    "start_time": "2022-01-06T10:02:40.190Z"
   },
   {
    "duration": -4994,
    "start_time": "2022-01-06T10:02:40.207Z"
   },
   {
    "duration": -5008,
    "start_time": "2022-01-06T10:02:40.222Z"
   },
   {
    "duration": -5021,
    "start_time": "2022-01-06T10:02:40.237Z"
   },
   {
    "duration": -5034,
    "start_time": "2022-01-06T10:02:40.251Z"
   },
   {
    "duration": -5048,
    "start_time": "2022-01-06T10:02:40.266Z"
   },
   {
    "duration": -5062,
    "start_time": "2022-01-06T10:02:40.281Z"
   },
   {
    "duration": -5108,
    "start_time": "2022-01-06T10:02:40.329Z"
   },
   {
    "duration": -5123,
    "start_time": "2022-01-06T10:02:40.345Z"
   },
   {
    "duration": -5138,
    "start_time": "2022-01-06T10:02:40.361Z"
   },
   {
    "duration": -5151,
    "start_time": "2022-01-06T10:02:40.375Z"
   },
   {
    "duration": -5165,
    "start_time": "2022-01-06T10:02:40.391Z"
   },
   {
    "duration": -5178,
    "start_time": "2022-01-06T10:02:40.405Z"
   },
   {
    "duration": -5192,
    "start_time": "2022-01-06T10:02:40.420Z"
   },
   {
    "duration": -5239,
    "start_time": "2022-01-06T10:02:40.468Z"
   },
   {
    "duration": -5255,
    "start_time": "2022-01-06T10:02:40.486Z"
   },
   {
    "duration": -5288,
    "start_time": "2022-01-06T10:02:40.520Z"
   },
   {
    "duration": -5356,
    "start_time": "2022-01-06T10:02:40.589Z"
   },
   {
    "duration": -5431,
    "start_time": "2022-01-06T10:02:40.665Z"
   },
   {
    "duration": -5504,
    "start_time": "2022-01-06T10:02:40.739Z"
   },
   {
    "duration": -5580,
    "start_time": "2022-01-06T10:02:40.817Z"
   },
   {
    "duration": -5596,
    "start_time": "2022-01-06T10:02:40.834Z"
   },
   {
    "duration": -5611,
    "start_time": "2022-01-06T10:02:40.850Z"
   },
   {
    "duration": -5625,
    "start_time": "2022-01-06T10:02:40.865Z"
   },
   {
    "duration": -5609,
    "start_time": "2022-01-06T10:02:40.879Z"
   },
   {
    "duration": -5623,
    "start_time": "2022-01-06T10:02:40.894Z"
   },
   {
    "duration": -5636,
    "start_time": "2022-01-06T10:02:40.908Z"
   },
   {
    "duration": -5685,
    "start_time": "2022-01-06T10:02:40.958Z"
   },
   {
    "duration": -5714,
    "start_time": "2022-01-06T10:02:40.989Z"
   },
   {
    "duration": -5738,
    "start_time": "2022-01-06T10:02:41.014Z"
   },
   {
    "duration": -5756,
    "start_time": "2022-01-06T10:02:41.033Z"
   },
   {
    "duration": -5771,
    "start_time": "2022-01-06T10:02:41.049Z"
   },
   {
    "duration": -5858,
    "start_time": "2022-01-06T10:02:41.137Z"
   },
   {
    "duration": -5931,
    "start_time": "2022-01-06T10:02:41.212Z"
   },
   {
    "duration": -6004,
    "start_time": "2022-01-06T10:02:41.286Z"
   },
   {
    "duration": -6080,
    "start_time": "2022-01-06T10:02:41.363Z"
   },
   {
    "duration": -6157,
    "start_time": "2022-01-06T10:02:41.441Z"
   },
   {
    "duration": -6175,
    "start_time": "2022-01-06T10:02:41.460Z"
   },
   {
    "duration": -6189,
    "start_time": "2022-01-06T10:02:41.476Z"
   },
   {
    "duration": 5,
    "start_time": "2022-01-06T10:06:03.414Z"
   },
   {
    "duration": 283,
    "start_time": "2022-01-06T10:14:30.894Z"
   },
   {
    "duration": 320,
    "start_time": "2022-01-06T10:14:50.454Z"
   },
   {
    "duration": 289,
    "start_time": "2022-01-06T10:31:12.714Z"
   },
   {
    "duration": 308,
    "start_time": "2022-01-06T10:31:22.364Z"
   },
   {
    "duration": 265,
    "start_time": "2022-01-06T10:41:25.952Z"
   },
   {
    "duration": 306,
    "start_time": "2022-01-06T10:44:15.094Z"
   },
   {
    "duration": 1322,
    "start_time": "2022-01-06T10:45:02.164Z"
   },
   {
    "duration": 1126,
    "start_time": "2022-01-06T10:48:10.759Z"
   },
   {
    "duration": 7,
    "start_time": "2022-01-06T10:48:17.396Z"
   },
   {
    "duration": 24,
    "start_time": "2022-01-06T10:48:39.400Z"
   },
   {
    "duration": 41,
    "start_time": "2022-01-06T10:48:54.832Z"
   },
   {
    "duration": 11,
    "start_time": "2022-01-06T10:49:21.399Z"
   },
   {
    "duration": 41,
    "start_time": "2022-01-06T10:49:24.592Z"
   },
   {
    "duration": 37,
    "start_time": "2022-01-06T10:49:38.832Z"
   },
   {
    "duration": 8,
    "start_time": "2022-01-06T10:51:41.359Z"
   },
   {
    "duration": 39,
    "start_time": "2022-01-06T10:51:42.254Z"
   },
   {
    "duration": 1531,
    "start_time": "2022-01-06T10:52:40.872Z"
   },
   {
    "duration": 4,
    "start_time": "2022-01-06T10:52:42.406Z"
   },
   {
    "duration": 8,
    "start_time": "2022-01-06T10:52:42.413Z"
   },
   {
    "duration": 214,
    "start_time": "2022-01-06T10:52:42.424Z"
   },
   {
    "duration": 28,
    "start_time": "2022-01-06T10:52:42.640Z"
   },
   {
    "duration": 27,
    "start_time": "2022-01-06T10:52:42.671Z"
   },
   {
    "duration": 181,
    "start_time": "2022-01-06T10:52:42.701Z"
   },
   {
    "duration": 11,
    "start_time": "2022-01-06T10:52:42.885Z"
   },
   {
    "duration": 206,
    "start_time": "2022-01-06T10:52:42.900Z"
   },
   {
    "duration": 12,
    "start_time": "2022-01-06T10:52:43.109Z"
   },
   {
    "duration": 24,
    "start_time": "2022-01-06T10:52:43.123Z"
   },
   {
    "duration": 117,
    "start_time": "2022-01-06T10:52:43.168Z"
   },
   {
    "duration": 10,
    "start_time": "2022-01-06T10:52:43.287Z"
   },
   {
    "duration": 22,
    "start_time": "2022-01-06T10:52:43.299Z"
   },
   {
    "duration": 17,
    "start_time": "2022-01-06T10:52:43.323Z"
   },
   {
    "duration": 30,
    "start_time": "2022-01-06T10:52:43.342Z"
   },
   {
    "duration": 9,
    "start_time": "2022-01-06T10:52:43.375Z"
   },
   {
    "duration": 27,
    "start_time": "2022-01-06T10:52:43.386Z"
   },
   {
    "duration": 20,
    "start_time": "2022-01-06T10:52:43.416Z"
   },
   {
    "duration": 10,
    "start_time": "2022-01-06T10:52:43.438Z"
   },
   {
    "duration": 5,
    "start_time": "2022-01-06T10:52:43.468Z"
   },
   {
    "duration": 11,
    "start_time": "2022-01-06T10:52:43.476Z"
   },
   {
    "duration": 47,
    "start_time": "2022-01-06T10:52:43.489Z"
   },
   {
    "duration": 46,
    "start_time": "2022-01-06T10:52:43.538Z"
   },
   {
    "duration": 33,
    "start_time": "2022-01-06T10:52:43.586Z"
   },
   {
    "duration": 17,
    "start_time": "2022-01-06T10:52:43.621Z"
   },
   {
    "duration": 27,
    "start_time": "2022-01-06T10:52:43.669Z"
   },
   {
    "duration": 15,
    "start_time": "2022-01-06T10:52:43.700Z"
   },
   {
    "duration": 6,
    "start_time": "2022-01-06T10:52:43.718Z"
   },
   {
    "duration": 46,
    "start_time": "2022-01-06T10:52:43.726Z"
   },
   {
    "duration": 4,
    "start_time": "2022-01-06T10:52:43.775Z"
   },
   {
    "duration": 17,
    "start_time": "2022-01-06T10:52:43.782Z"
   },
   {
    "duration": 7,
    "start_time": "2022-01-06T10:52:43.802Z"
   },
   {
    "duration": 11,
    "start_time": "2022-01-06T10:52:43.812Z"
   },
   {
    "duration": 15,
    "start_time": "2022-01-06T10:52:43.867Z"
   },
   {
    "duration": 470,
    "start_time": "2022-01-06T10:52:43.884Z"
   },
   {
    "duration": 141,
    "start_time": "2022-01-06T10:52:44.357Z"
   },
   {
    "duration": 75,
    "start_time": "2022-01-06T10:52:44.501Z"
   },
   {
    "duration": 94,
    "start_time": "2022-01-06T10:52:44.579Z"
   },
   {
    "duration": 10,
    "start_time": "2022-01-06T10:52:44.676Z"
   },
   {
    "duration": 9,
    "start_time": "2022-01-06T10:52:44.689Z"
   },
   {
    "duration": 155,
    "start_time": "2022-01-06T10:52:44.701Z"
   },
   {
    "duration": 59,
    "start_time": "2022-01-06T10:52:44.858Z"
   },
   {
    "duration": 10,
    "start_time": "2022-01-06T10:52:44.919Z"
   },
   {
    "duration": 160,
    "start_time": "2022-01-06T10:52:44.931Z"
   },
   {
    "duration": 10,
    "start_time": "2022-01-06T10:52:45.093Z"
   },
   {
    "duration": 14,
    "start_time": "2022-01-06T10:52:45.105Z"
   },
   {
    "duration": 48,
    "start_time": "2022-01-06T10:52:45.122Z"
   },
   {
    "duration": 15,
    "start_time": "2022-01-06T10:52:45.173Z"
   },
   {
    "duration": 19,
    "start_time": "2022-01-06T10:52:45.191Z"
   },
   {
    "duration": 9,
    "start_time": "2022-01-06T10:52:45.213Z"
   },
   {
    "duration": 64,
    "start_time": "2022-01-06T10:52:45.225Z"
   },
   {
    "duration": 20,
    "start_time": "2022-01-06T10:52:45.292Z"
   },
   {
    "duration": 11,
    "start_time": "2022-01-06T10:52:45.315Z"
   },
   {
    "duration": 45,
    "start_time": "2022-01-06T10:52:45.328Z"
   },
   {
    "duration": 25,
    "start_time": "2022-01-06T10:52:45.376Z"
   },
   {
    "duration": 12,
    "start_time": "2022-01-06T10:52:45.404Z"
   },
   {
    "duration": 5,
    "start_time": "2022-01-06T10:52:45.418Z"
   },
   {
    "duration": 7,
    "start_time": "2022-01-06T10:52:45.425Z"
   },
   {
    "duration": 79,
    "start_time": "2022-01-06T10:52:45.434Z"
   },
   {
    "duration": 5,
    "start_time": "2022-01-06T10:52:45.516Z"
   },
   {
    "duration": 74,
    "start_time": "2022-01-06T10:52:45.523Z"
   },
   {
    "duration": 7,
    "start_time": "2022-01-06T10:52:45.600Z"
   },
   {
    "duration": 30,
    "start_time": "2022-01-06T10:52:45.609Z"
   },
   {
    "duration": 31,
    "start_time": "2022-01-06T10:52:45.642Z"
   },
   {
    "duration": 9,
    "start_time": "2022-01-06T10:52:45.676Z"
   },
   {
    "duration": 8,
    "start_time": "2022-01-06T10:52:45.687Z"
   },
   {
    "duration": 7,
    "start_time": "2022-01-06T10:52:45.698Z"
   },
   {
    "duration": 6,
    "start_time": "2022-01-06T10:52:45.707Z"
   },
   {
    "duration": 66,
    "start_time": "2022-01-06T10:52:45.716Z"
   },
   {
    "duration": 6,
    "start_time": "2022-01-06T10:52:45.785Z"
   },
   {
    "duration": 8,
    "start_time": "2022-01-06T10:52:45.793Z"
   },
   {
    "duration": 555,
    "start_time": "2022-01-06T10:52:45.803Z"
   },
   {
    "duration": 13,
    "start_time": "2022-01-06T10:52:46.360Z"
   },
   {
    "duration": 5,
    "start_time": "2022-01-06T10:52:46.376Z"
   },
   {
    "duration": 13,
    "start_time": "2022-01-06T10:52:46.383Z"
   },
   {
    "duration": 7,
    "start_time": "2022-01-06T10:52:46.398Z"
   },
   {
    "duration": 381,
    "start_time": "2022-01-06T10:52:46.408Z"
   },
   {
    "duration": 554,
    "start_time": "2022-01-06T10:52:46.791Z"
   },
   {
    "duration": 24,
    "start_time": "2022-01-06T10:52:47.348Z"
   },
   {
    "duration": 7,
    "start_time": "2022-01-06T10:52:47.383Z"
   },
   {
    "duration": 14,
    "start_time": "2022-01-06T10:52:47.395Z"
   },
   {
    "duration": 6,
    "start_time": "2022-01-06T10:52:47.411Z"
   },
   {
    "duration": 392,
    "start_time": "2022-01-06T10:52:47.420Z"
   },
   {
    "duration": 618,
    "start_time": "2022-01-06T10:52:47.815Z"
   },
   {
    "duration": 10,
    "start_time": "2022-01-06T10:52:48.436Z"
   },
   {
    "duration": 22,
    "start_time": "2022-01-06T10:52:48.449Z"
   },
   {
    "duration": 14,
    "start_time": "2022-01-06T10:52:48.473Z"
   },
   {
    "duration": 6,
    "start_time": "2022-01-06T10:52:48.490Z"
   },
   {
    "duration": 426,
    "start_time": "2022-01-06T10:52:48.498Z"
   },
   {
    "duration": 7,
    "start_time": "2022-01-06T10:52:48.926Z"
   },
   {
    "duration": 31,
    "start_time": "2022-01-06T10:52:48.936Z"
   },
   {
    "duration": 6,
    "start_time": "2022-01-06T10:52:48.970Z"
   },
   {
    "duration": 6,
    "start_time": "2022-01-06T10:52:48.978Z"
   },
   {
    "duration": 7,
    "start_time": "2022-01-06T10:52:48.986Z"
   },
   {
    "duration": 8,
    "start_time": "2022-01-06T10:52:48.996Z"
   },
   {
    "duration": 15,
    "start_time": "2022-01-06T10:52:49.006Z"
   },
   {
    "duration": 46,
    "start_time": "2022-01-06T10:52:49.023Z"
   },
   {
    "duration": 7,
    "start_time": "2022-01-06T10:52:49.072Z"
   },
   {
    "duration": 38,
    "start_time": "2022-01-06T10:53:33.879Z"
   },
   {
    "duration": 1551,
    "start_time": "2022-01-06T10:54:32.459Z"
   },
   {
    "duration": 4,
    "start_time": "2022-01-06T10:54:34.013Z"
   },
   {
    "duration": 5,
    "start_time": "2022-01-06T10:54:34.020Z"
   },
   {
    "duration": 223,
    "start_time": "2022-01-06T10:54:34.028Z"
   },
   {
    "duration": 22,
    "start_time": "2022-01-06T10:54:34.254Z"
   },
   {
    "duration": 29,
    "start_time": "2022-01-06T10:54:34.278Z"
   },
   {
    "duration": 200,
    "start_time": "2022-01-06T10:54:34.310Z"
   },
   {
    "duration": 13,
    "start_time": "2022-01-06T10:54:34.514Z"
   },
   {
    "duration": 203,
    "start_time": "2022-01-06T10:54:34.531Z"
   },
   {
    "duration": 12,
    "start_time": "2022-01-06T10:54:34.737Z"
   },
   {
    "duration": 24,
    "start_time": "2022-01-06T10:54:34.767Z"
   },
   {
    "duration": 129,
    "start_time": "2022-01-06T10:54:34.793Z"
   },
   {
    "duration": 10,
    "start_time": "2022-01-06T10:54:34.925Z"
   },
   {
    "duration": 36,
    "start_time": "2022-01-06T10:54:34.937Z"
   },
   {
    "duration": 17,
    "start_time": "2022-01-06T10:54:34.975Z"
   },
   {
    "duration": 15,
    "start_time": "2022-01-06T10:54:34.994Z"
   },
   {
    "duration": 12,
    "start_time": "2022-01-06T10:54:35.011Z"
   },
   {
    "duration": 31,
    "start_time": "2022-01-06T10:54:35.025Z"
   },
   {
    "duration": 21,
    "start_time": "2022-01-06T10:54:35.058Z"
   },
   {
    "duration": 11,
    "start_time": "2022-01-06T10:54:35.081Z"
   },
   {
    "duration": 6,
    "start_time": "2022-01-06T10:54:35.095Z"
   },
   {
    "duration": 13,
    "start_time": "2022-01-06T10:54:35.103Z"
   },
   {
    "duration": 78,
    "start_time": "2022-01-06T10:54:35.123Z"
   },
   {
    "duration": 21,
    "start_time": "2022-01-06T10:54:35.205Z"
   },
   {
    "duration": 57,
    "start_time": "2022-01-06T10:54:35.229Z"
   },
   {
    "duration": 18,
    "start_time": "2022-01-06T10:54:35.288Z"
   },
   {
    "duration": 30,
    "start_time": "2022-01-06T10:54:35.309Z"
   },
   {
    "duration": 37,
    "start_time": "2022-01-06T10:54:35.342Z"
   },
   {
    "duration": 6,
    "start_time": "2022-01-06T10:54:35.382Z"
   },
   {
    "duration": 12,
    "start_time": "2022-01-06T10:54:35.391Z"
   },
   {
    "duration": 7,
    "start_time": "2022-01-06T10:54:35.406Z"
   },
   {
    "duration": 56,
    "start_time": "2022-01-06T10:54:35.416Z"
   },
   {
    "duration": 7,
    "start_time": "2022-01-06T10:54:35.475Z"
   },
   {
    "duration": 12,
    "start_time": "2022-01-06T10:54:35.484Z"
   },
   {
    "duration": 17,
    "start_time": "2022-01-06T10:54:35.498Z"
   },
   {
    "duration": 499,
    "start_time": "2022-01-06T10:54:35.517Z"
   },
   {
    "duration": 135,
    "start_time": "2022-01-06T10:54:36.019Z"
   },
   {
    "duration": 73,
    "start_time": "2022-01-06T10:54:36.156Z"
   },
   {
    "duration": 89,
    "start_time": "2022-01-06T10:54:36.232Z"
   },
   {
    "duration": 10,
    "start_time": "2022-01-06T10:54:36.324Z"
   },
   {
    "duration": 32,
    "start_time": "2022-01-06T10:54:36.336Z"
   },
   {
    "duration": 170,
    "start_time": "2022-01-06T10:54:36.371Z"
   },
   {
    "duration": 86,
    "start_time": "2022-01-06T10:54:36.545Z"
   },
   {
    "duration": 13,
    "start_time": "2022-01-06T10:54:36.634Z"
   },
   {
    "duration": 172,
    "start_time": "2022-01-06T10:54:36.667Z"
   },
   {
    "duration": 14,
    "start_time": "2022-01-06T10:54:36.842Z"
   },
   {
    "duration": 18,
    "start_time": "2022-01-06T10:54:36.859Z"
   },
   {
    "duration": 13,
    "start_time": "2022-01-06T10:54:36.880Z"
   },
   {
    "duration": 13,
    "start_time": "2022-01-06T10:54:36.896Z"
   },
   {
    "duration": 57,
    "start_time": "2022-01-06T10:54:36.911Z"
   },
   {
    "duration": 8,
    "start_time": "2022-01-06T10:54:36.970Z"
   },
   {
    "duration": 21,
    "start_time": "2022-01-06T10:54:36.981Z"
   },
   {
    "duration": 20,
    "start_time": "2022-01-06T10:54:37.005Z"
   },
   {
    "duration": 10,
    "start_time": "2022-01-06T10:54:37.068Z"
   },
   {
    "duration": 13,
    "start_time": "2022-01-06T10:54:37.081Z"
   },
   {
    "duration": 26,
    "start_time": "2022-01-06T10:54:37.097Z"
   },
   {
    "duration": 50,
    "start_time": "2022-01-06T10:54:37.125Z"
   },
   {
    "duration": 5,
    "start_time": "2022-01-06T10:54:37.177Z"
   },
   {
    "duration": 10,
    "start_time": "2022-01-06T10:54:37.184Z"
   },
   {
    "duration": 12,
    "start_time": "2022-01-06T10:54:37.196Z"
   },
   {
    "duration": 11,
    "start_time": "2022-01-06T10:54:37.210Z"
   },
   {
    "duration": 19,
    "start_time": "2022-01-06T10:54:37.224Z"
   },
   {
    "duration": 8,
    "start_time": "2022-01-06T10:54:37.270Z"
   },
   {
    "duration": 34,
    "start_time": "2022-01-06T10:54:37.280Z"
   },
   {
    "duration": 7,
    "start_time": "2022-01-06T10:54:37.317Z"
   },
   {
    "duration": 6,
    "start_time": "2022-01-06T10:54:37.327Z"
   },
   {
    "duration": 33,
    "start_time": "2022-01-06T10:54:37.336Z"
   },
   {
    "duration": 6,
    "start_time": "2022-01-06T10:54:37.377Z"
   },
   {
    "duration": 9,
    "start_time": "2022-01-06T10:54:37.386Z"
   },
   {
    "duration": 24,
    "start_time": "2022-01-06T10:54:37.397Z"
   },
   {
    "duration": 6,
    "start_time": "2022-01-06T10:54:37.424Z"
   },
   {
    "duration": 8,
    "start_time": "2022-01-06T10:54:37.468Z"
   },
   {
    "duration": 491,
    "start_time": "2022-01-06T10:54:37.478Z"
   },
   {
    "duration": 12,
    "start_time": "2022-01-06T10:54:37.971Z"
   },
   {
    "duration": 7,
    "start_time": "2022-01-06T10:54:37.986Z"
   },
   {
    "duration": 14,
    "start_time": "2022-01-06T10:54:37.996Z"
   },
   {
    "duration": 8,
    "start_time": "2022-01-06T10:54:38.013Z"
   },
   {
    "duration": 404,
    "start_time": "2022-01-06T10:54:38.024Z"
   },
   {
    "duration": 540,
    "start_time": "2022-01-06T10:54:38.432Z"
   },
   {
    "duration": 11,
    "start_time": "2022-01-06T10:54:38.974Z"
   },
   {
    "duration": 6,
    "start_time": "2022-01-06T10:54:38.988Z"
   },
   {
    "duration": 12,
    "start_time": "2022-01-06T10:54:38.997Z"
   },
   {
    "duration": 6,
    "start_time": "2022-01-06T10:54:39.011Z"
   },
   {
    "duration": 402,
    "start_time": "2022-01-06T10:54:39.019Z"
   },
   {
    "duration": 613,
    "start_time": "2022-01-06T10:54:39.423Z"
   },
   {
    "duration": 11,
    "start_time": "2022-01-06T10:54:40.039Z"
   },
   {
    "duration": 21,
    "start_time": "2022-01-06T10:54:40.052Z"
   },
   {
    "duration": 18,
    "start_time": "2022-01-06T10:54:40.075Z"
   },
   {
    "duration": 11,
    "start_time": "2022-01-06T10:54:40.097Z"
   },
   {
    "duration": 381,
    "start_time": "2022-01-06T10:54:40.111Z"
   },
   {
    "duration": 7,
    "start_time": "2022-01-06T10:54:40.494Z"
   },
   {
    "duration": 8,
    "start_time": "2022-01-06T10:54:40.503Z"
   },
   {
    "duration": 7,
    "start_time": "2022-01-06T10:54:40.514Z"
   },
   {
    "duration": 10,
    "start_time": "2022-01-06T10:54:40.523Z"
   },
   {
    "duration": 34,
    "start_time": "2022-01-06T10:54:40.536Z"
   },
   {
    "duration": 8,
    "start_time": "2022-01-06T10:54:40.573Z"
   },
   {
    "duration": 9,
    "start_time": "2022-01-06T10:54:40.583Z"
   },
   {
    "duration": 9,
    "start_time": "2022-01-06T10:54:40.595Z"
   },
   {
    "duration": 8,
    "start_time": "2022-01-06T10:54:40.607Z"
   },
   {
    "duration": 1544,
    "start_time": "2022-01-06T10:55:44.373Z"
   },
   {
    "duration": 3,
    "start_time": "2022-01-06T10:55:45.919Z"
   },
   {
    "duration": 8,
    "start_time": "2022-01-06T10:55:45.925Z"
   },
   {
    "duration": 225,
    "start_time": "2022-01-06T10:55:45.935Z"
   },
   {
    "duration": 15,
    "start_time": "2022-01-06T10:55:46.163Z"
   },
   {
    "duration": 27,
    "start_time": "2022-01-06T10:55:46.181Z"
   },
   {
    "duration": 192,
    "start_time": "2022-01-06T10:55:46.211Z"
   },
   {
    "duration": 12,
    "start_time": "2022-01-06T10:55:46.406Z"
   },
   {
    "duration": 205,
    "start_time": "2022-01-06T10:55:46.421Z"
   },
   {
    "duration": 11,
    "start_time": "2022-01-06T10:55:46.629Z"
   },
   {
    "duration": 41,
    "start_time": "2022-01-06T10:55:46.642Z"
   },
   {
    "duration": 119,
    "start_time": "2022-01-06T10:55:46.686Z"
   },
   {
    "duration": 10,
    "start_time": "2022-01-06T10:55:46.807Z"
   },
   {
    "duration": 23,
    "start_time": "2022-01-06T10:55:46.819Z"
   },
   {
    "duration": 37,
    "start_time": "2022-01-06T10:55:46.845Z"
   },
   {
    "duration": 16,
    "start_time": "2022-01-06T10:55:46.885Z"
   },
   {
    "duration": 11,
    "start_time": "2022-01-06T10:55:46.903Z"
   },
   {
    "duration": 33,
    "start_time": "2022-01-06T10:55:46.917Z"
   },
   {
    "duration": 25,
    "start_time": "2022-01-06T10:55:46.952Z"
   },
   {
    "duration": 10,
    "start_time": "2022-01-06T10:55:46.980Z"
   },
   {
    "duration": 10,
    "start_time": "2022-01-06T10:55:46.992Z"
   },
   {
    "duration": 16,
    "start_time": "2022-01-06T10:55:47.005Z"
   },
   {
    "duration": 73,
    "start_time": "2022-01-06T10:55:47.027Z"
   },
   {
    "duration": 21,
    "start_time": "2022-01-06T10:55:47.104Z"
   },
   {
    "duration": 52,
    "start_time": "2022-01-06T10:55:47.128Z"
   },
   {
    "duration": 17,
    "start_time": "2022-01-06T10:55:47.183Z"
   },
   {
    "duration": 30,
    "start_time": "2022-01-06T10:55:47.202Z"
   },
   {
    "duration": 44,
    "start_time": "2022-01-06T10:55:47.234Z"
   },
   {
    "duration": 6,
    "start_time": "2022-01-06T10:55:47.281Z"
   },
   {
    "duration": 14,
    "start_time": "2022-01-06T10:55:47.289Z"
   },
   {
    "duration": 8,
    "start_time": "2022-01-06T10:55:47.305Z"
   },
   {
    "duration": 51,
    "start_time": "2022-01-06T10:55:47.316Z"
   },
   {
    "duration": 7,
    "start_time": "2022-01-06T10:55:47.370Z"
   },
   {
    "duration": 22,
    "start_time": "2022-01-06T10:55:47.380Z"
   },
   {
    "duration": 17,
    "start_time": "2022-01-06T10:55:47.404Z"
   },
   {
    "duration": 496,
    "start_time": "2022-01-06T10:55:47.424Z"
   },
   {
    "duration": 141,
    "start_time": "2022-01-06T10:55:47.923Z"
   },
   {
    "duration": 59,
    "start_time": "2022-01-06T10:55:48.068Z"
   },
   {
    "duration": 82,
    "start_time": "2022-01-06T10:55:48.129Z"
   },
   {
    "duration": 9,
    "start_time": "2022-01-06T10:55:48.214Z"
   },
   {
    "duration": 12,
    "start_time": "2022-01-06T10:55:48.225Z"
   },
   {
    "duration": 193,
    "start_time": "2022-01-06T10:55:48.240Z"
   },
   {
    "duration": 68,
    "start_time": "2022-01-06T10:55:48.436Z"
   },
   {
    "duration": 11,
    "start_time": "2022-01-06T10:55:48.507Z"
   },
   {
    "duration": 162,
    "start_time": "2022-01-06T10:55:48.521Z"
   },
   {
    "duration": 10,
    "start_time": "2022-01-06T10:55:48.685Z"
   },
   {
    "duration": 13,
    "start_time": "2022-01-06T10:55:48.698Z"
   },
   {
    "duration": 14,
    "start_time": "2022-01-06T10:55:48.713Z"
   },
   {
    "duration": 45,
    "start_time": "2022-01-06T10:55:48.730Z"
   },
   {
    "duration": 15,
    "start_time": "2022-01-06T10:55:48.778Z"
   },
   {
    "duration": 7,
    "start_time": "2022-01-06T10:55:48.795Z"
   },
   {
    "duration": 18,
    "start_time": "2022-01-06T10:55:48.805Z"
   },
   {
    "duration": 51,
    "start_time": "2022-01-06T10:55:48.825Z"
   },
   {
    "duration": 14,
    "start_time": "2022-01-06T10:55:48.879Z"
   },
   {
    "duration": 22,
    "start_time": "2022-01-06T10:55:48.895Z"
   },
   {
    "duration": 23,
    "start_time": "2022-01-06T10:55:48.920Z"
   },
   {
    "duration": 30,
    "start_time": "2022-01-06T10:55:48.945Z"
   },
   {
    "duration": 4,
    "start_time": "2022-01-06T10:55:48.978Z"
   },
   {
    "duration": 13,
    "start_time": "2022-01-06T10:55:48.985Z"
   },
   {
    "duration": 8,
    "start_time": "2022-01-06T10:55:49.000Z"
   },
   {
    "duration": 12,
    "start_time": "2022-01-06T10:55:49.011Z"
   },
   {
    "duration": 7,
    "start_time": "2022-01-06T10:55:49.025Z"
   },
   {
    "duration": 35,
    "start_time": "2022-01-06T10:55:49.035Z"
   },
   {
    "duration": 35,
    "start_time": "2022-01-06T10:55:49.073Z"
   },
   {
    "duration": 7,
    "start_time": "2022-01-06T10:55:49.110Z"
   },
   {
    "duration": 8,
    "start_time": "2022-01-06T10:55:49.119Z"
   },
   {
    "duration": 8,
    "start_time": "2022-01-06T10:55:49.129Z"
   },
   {
    "duration": 5,
    "start_time": "2022-01-06T10:55:49.172Z"
   },
   {
    "duration": 12,
    "start_time": "2022-01-06T10:55:49.180Z"
   },
   {
    "duration": 29,
    "start_time": "2022-01-06T10:55:49.195Z"
   },
   {
    "duration": 8,
    "start_time": "2022-01-06T10:55:49.226Z"
   },
   {
    "duration": 32,
    "start_time": "2022-01-06T10:55:49.237Z"
   },
   {
    "duration": 510,
    "start_time": "2022-01-06T10:55:49.273Z"
   },
   {
    "duration": 13,
    "start_time": "2022-01-06T10:55:49.786Z"
   },
   {
    "duration": 8,
    "start_time": "2022-01-06T10:55:49.802Z"
   },
   {
    "duration": 55,
    "start_time": "2022-01-06T10:55:49.813Z"
   },
   {
    "duration": 7,
    "start_time": "2022-01-06T10:55:49.871Z"
   },
   {
    "duration": 360,
    "start_time": "2022-01-06T10:55:49.880Z"
   },
   {
    "duration": 534,
    "start_time": "2022-01-06T10:55:50.243Z"
   },
   {
    "duration": 14,
    "start_time": "2022-01-06T10:55:50.780Z"
   },
   {
    "duration": 8,
    "start_time": "2022-01-06T10:55:50.797Z"
   },
   {
    "duration": 11,
    "start_time": "2022-01-06T10:55:50.808Z"
   },
   {
    "duration": 47,
    "start_time": "2022-01-06T10:55:50.821Z"
   },
   {
    "duration": 360,
    "start_time": "2022-01-06T10:55:50.871Z"
   },
   {
    "duration": 637,
    "start_time": "2022-01-06T10:55:51.233Z"
   },
   {
    "duration": 11,
    "start_time": "2022-01-06T10:55:51.872Z"
   },
   {
    "duration": 6,
    "start_time": "2022-01-06T10:55:51.885Z"
   },
   {
    "duration": 13,
    "start_time": "2022-01-06T10:55:51.893Z"
   },
   {
    "duration": 6,
    "start_time": "2022-01-06T10:55:51.908Z"
   },
   {
    "duration": 378,
    "start_time": "2022-01-06T10:55:51.917Z"
   },
   {
    "duration": 8,
    "start_time": "2022-01-06T10:55:52.298Z"
   },
   {
    "duration": 12,
    "start_time": "2022-01-06T10:55:52.309Z"
   },
   {
    "duration": 7,
    "start_time": "2022-01-06T10:55:52.323Z"
   },
   {
    "duration": 37,
    "start_time": "2022-01-06T10:55:52.333Z"
   },
   {
    "duration": 11,
    "start_time": "2022-01-06T10:55:52.372Z"
   },
   {
    "duration": 8,
    "start_time": "2022-01-06T10:55:52.386Z"
   },
   {
    "duration": 16,
    "start_time": "2022-01-06T10:55:52.396Z"
   },
   {
    "duration": 7,
    "start_time": "2022-01-06T10:55:52.414Z"
   },
   {
    "duration": 44,
    "start_time": "2022-01-06T10:55:52.423Z"
   },
   {
    "duration": 26,
    "start_time": "2022-01-06T10:56:29.328Z"
   },
   {
    "duration": 420,
    "start_time": "2022-01-06T10:56:38.477Z"
   },
   {
    "duration": 24,
    "start_time": "2022-01-06T10:56:44.285Z"
   },
   {
    "duration": 22,
    "start_time": "2022-01-06T10:56:53.406Z"
   },
   {
    "duration": 8,
    "start_time": "2022-01-06T11:16:50.519Z"
   },
   {
    "duration": 6,
    "start_time": "2022-01-06T11:17:10.311Z"
   },
   {
    "duration": 8,
    "start_time": "2022-01-06T11:17:20.693Z"
   },
   {
    "duration": 18,
    "start_time": "2022-01-06T11:26:47.090Z"
   },
   {
    "duration": 6,
    "start_time": "2022-01-06T11:26:58.977Z"
   },
   {
    "duration": 7,
    "start_time": "2022-01-06T11:27:11.120Z"
   },
   {
    "duration": 1591,
    "start_time": "2022-01-06T11:44:23.287Z"
   },
   {
    "duration": 4,
    "start_time": "2022-01-06T11:44:24.880Z"
   },
   {
    "duration": 9,
    "start_time": "2022-01-06T11:44:24.887Z"
   },
   {
    "duration": 223,
    "start_time": "2022-01-06T11:44:24.899Z"
   },
   {
    "duration": 17,
    "start_time": "2022-01-06T11:44:25.125Z"
   },
   {
    "duration": 50,
    "start_time": "2022-01-06T11:44:25.144Z"
   },
   {
    "duration": 265,
    "start_time": "2022-01-06T11:44:25.196Z"
   },
   {
    "duration": 17,
    "start_time": "2022-01-06T11:44:25.466Z"
   },
   {
    "duration": 301,
    "start_time": "2022-01-06T11:44:25.487Z"
   },
   {
    "duration": 16,
    "start_time": "2022-01-06T11:44:25.792Z"
   },
   {
    "duration": 27,
    "start_time": "2022-01-06T11:44:25.810Z"
   },
   {
    "duration": 138,
    "start_time": "2022-01-06T11:44:25.840Z"
   },
   {
    "duration": 11,
    "start_time": "2022-01-06T11:44:25.980Z"
   },
   {
    "duration": 37,
    "start_time": "2022-01-06T11:44:25.994Z"
   },
   {
    "duration": 19,
    "start_time": "2022-01-06T11:44:26.033Z"
   },
   {
    "duration": 14,
    "start_time": "2022-01-06T11:44:26.067Z"
   },
   {
    "duration": 21,
    "start_time": "2022-01-06T11:44:26.083Z"
   },
   {
    "duration": 54,
    "start_time": "2022-01-06T11:44:26.107Z"
   },
   {
    "duration": 17,
    "start_time": "2022-01-06T11:44:26.164Z"
   },
   {
    "duration": 18,
    "start_time": "2022-01-06T11:44:26.184Z"
   },
   {
    "duration": 11,
    "start_time": "2022-01-06T11:44:26.205Z"
   },
   {
    "duration": 17,
    "start_time": "2022-01-06T11:44:26.218Z"
   },
   {
    "duration": 65,
    "start_time": "2022-01-06T11:44:26.241Z"
   },
   {
    "duration": 23,
    "start_time": "2022-01-06T11:44:26.309Z"
   },
   {
    "duration": 47,
    "start_time": "2022-01-06T11:44:26.334Z"
   },
   {
    "duration": 18,
    "start_time": "2022-01-06T11:44:26.384Z"
   },
   {
    "duration": 28,
    "start_time": "2022-01-06T11:44:26.404Z"
   },
   {
    "duration": 41,
    "start_time": "2022-01-06T11:44:26.434Z"
   },
   {
    "duration": 6,
    "start_time": "2022-01-06T11:44:26.478Z"
   },
   {
    "duration": 24,
    "start_time": "2022-01-06T11:44:26.486Z"
   },
   {
    "duration": 10,
    "start_time": "2022-01-06T11:44:26.513Z"
   },
   {
    "duration": 20,
    "start_time": "2022-01-06T11:44:26.525Z"
   },
   {
    "duration": 25,
    "start_time": "2022-01-06T11:44:26.547Z"
   },
   {
    "duration": 14,
    "start_time": "2022-01-06T11:44:26.575Z"
   },
   {
    "duration": 18,
    "start_time": "2022-01-06T11:44:26.592Z"
   },
   {
    "duration": 498,
    "start_time": "2022-01-06T11:44:26.613Z"
   },
   {
    "duration": 145,
    "start_time": "2022-01-06T11:44:27.114Z"
   },
   {
    "duration": 59,
    "start_time": "2022-01-06T11:44:27.266Z"
   },
   {
    "duration": 90,
    "start_time": "2022-01-06T11:44:27.328Z"
   },
   {
    "duration": 10,
    "start_time": "2022-01-06T11:44:27.421Z"
   },
   {
    "duration": 38,
    "start_time": "2022-01-06T11:44:27.434Z"
   },
   {
    "duration": 168,
    "start_time": "2022-01-06T11:44:27.475Z"
   },
   {
    "duration": 81,
    "start_time": "2022-01-06T11:44:27.646Z"
   },
   {
    "duration": 13,
    "start_time": "2022-01-06T11:44:27.730Z"
   },
   {
    "duration": 244,
    "start_time": "2022-01-06T11:44:27.746Z"
   },
   {
    "duration": 13,
    "start_time": "2022-01-06T11:44:27.994Z"
   },
   {
    "duration": 24,
    "start_time": "2022-01-06T11:44:28.011Z"
   },
   {
    "duration": 42,
    "start_time": "2022-01-06T11:44:28.038Z"
   },
   {
    "duration": 14,
    "start_time": "2022-01-06T11:44:28.083Z"
   },
   {
    "duration": 17,
    "start_time": "2022-01-06T11:44:28.099Z"
   },
   {
    "duration": 9,
    "start_time": "2022-01-06T11:44:28.118Z"
   },
   {
    "duration": 55,
    "start_time": "2022-01-06T11:44:28.129Z"
   },
   {
    "duration": 18,
    "start_time": "2022-01-06T11:44:28.186Z"
   },
   {
    "duration": 18,
    "start_time": "2022-01-06T11:44:28.207Z"
   },
   {
    "duration": 16,
    "start_time": "2022-01-06T11:44:28.227Z"
   },
   {
    "duration": 44,
    "start_time": "2022-01-06T11:44:28.245Z"
   },
   {
    "duration": 28,
    "start_time": "2022-01-06T11:44:28.291Z"
   },
   {
    "duration": 5,
    "start_time": "2022-01-06T11:44:28.321Z"
   },
   {
    "duration": 13,
    "start_time": "2022-01-06T11:44:28.328Z"
   },
   {
    "duration": 23,
    "start_time": "2022-01-06T11:44:28.344Z"
   },
   {
    "duration": 8,
    "start_time": "2022-01-06T11:44:28.370Z"
   },
   {
    "duration": 11,
    "start_time": "2022-01-06T11:44:28.380Z"
   },
   {
    "duration": 15,
    "start_time": "2022-01-06T11:44:28.394Z"
   },
   {
    "duration": 30,
    "start_time": "2022-01-06T11:44:28.411Z"
   },
   {
    "duration": 28,
    "start_time": "2022-01-06T11:44:28.443Z"
   },
   {
    "duration": 10,
    "start_time": "2022-01-06T11:44:28.473Z"
   },
   {
    "duration": 8,
    "start_time": "2022-01-06T11:44:28.485Z"
   },
   {
    "duration": 13,
    "start_time": "2022-01-06T11:44:28.501Z"
   },
   {
    "duration": 17,
    "start_time": "2022-01-06T11:44:28.519Z"
   },
   {
    "duration": 55,
    "start_time": "2022-01-06T11:44:28.539Z"
   },
   {
    "duration": 10,
    "start_time": "2022-01-06T11:44:28.597Z"
   },
   {
    "duration": 23,
    "start_time": "2022-01-06T11:44:28.609Z"
   },
   {
    "duration": 518,
    "start_time": "2022-01-06T11:44:28.634Z"
   },
   {
    "duration": 21,
    "start_time": "2022-01-06T11:44:29.155Z"
   },
   {
    "duration": 13,
    "start_time": "2022-01-06T11:44:29.178Z"
   },
   {
    "duration": 21,
    "start_time": "2022-01-06T11:44:29.194Z"
   },
   {
    "duration": 7,
    "start_time": "2022-01-06T11:44:29.218Z"
   },
   {
    "duration": 397,
    "start_time": "2022-01-06T11:44:29.227Z"
   },
   {
    "duration": 539,
    "start_time": "2022-01-06T11:44:29.628Z"
   },
   {
    "duration": 17,
    "start_time": "2022-01-06T11:44:30.170Z"
   },
   {
    "duration": 10,
    "start_time": "2022-01-06T11:44:30.191Z"
   },
   {
    "duration": 28,
    "start_time": "2022-01-06T11:44:30.203Z"
   },
   {
    "duration": 35,
    "start_time": "2022-01-06T11:44:30.234Z"
   },
   {
    "duration": 389,
    "start_time": "2022-01-06T11:44:30.272Z"
   },
   {
    "duration": 604,
    "start_time": "2022-01-06T11:44:30.666Z"
   },
   {
    "duration": 11,
    "start_time": "2022-01-06T11:44:31.272Z"
   },
   {
    "duration": 12,
    "start_time": "2022-01-06T11:44:31.286Z"
   },
   {
    "duration": 22,
    "start_time": "2022-01-06T11:44:31.301Z"
   },
   {
    "duration": 13,
    "start_time": "2022-01-06T11:44:31.326Z"
   },
   {
    "duration": 511,
    "start_time": "2022-01-06T11:44:31.367Z"
   },
   {
    "duration": 8,
    "start_time": "2022-01-06T11:44:31.881Z"
   },
   {
    "duration": 19,
    "start_time": "2022-01-06T11:44:31.892Z"
   },
   {
    "duration": 7,
    "start_time": "2022-01-06T11:44:31.913Z"
   },
   {
    "duration": 11,
    "start_time": "2022-01-06T11:44:31.923Z"
   },
   {
    "duration": 35,
    "start_time": "2022-01-06T11:44:31.937Z"
   },
   {
    "duration": 9,
    "start_time": "2022-01-06T11:44:31.975Z"
   },
   {
    "duration": 9,
    "start_time": "2022-01-06T11:44:31.987Z"
   },
   {
    "duration": 13,
    "start_time": "2022-01-06T11:44:31.999Z"
   },
   {
    "duration": 10,
    "start_time": "2022-01-06T11:44:32.015Z"
   },
   {
    "duration": 39,
    "start_time": "2022-01-06T11:44:32.028Z"
   },
   {
    "duration": 15,
    "start_time": "2022-01-06T11:44:32.070Z"
   },
   {
    "duration": 14,
    "start_time": "2022-01-06T11:44:32.087Z"
   },
   {
    "duration": 15,
    "start_time": "2022-01-06T11:44:32.103Z"
   },
   {
    "duration": 1941,
    "start_time": "2022-01-06T12:08:22.375Z"
   },
   {
    "duration": 4,
    "start_time": "2022-01-06T12:08:24.319Z"
   },
   {
    "duration": 20,
    "start_time": "2022-01-06T12:08:24.327Z"
   },
   {
    "duration": 220,
    "start_time": "2022-01-06T12:08:24.350Z"
   },
   {
    "duration": 16,
    "start_time": "2022-01-06T12:08:24.572Z"
   },
   {
    "duration": 41,
    "start_time": "2022-01-06T12:08:24.590Z"
   },
   {
    "duration": 166,
    "start_time": "2022-01-06T12:08:24.634Z"
   },
   {
    "duration": 18,
    "start_time": "2022-01-06T12:08:24.803Z"
   },
   {
    "duration": 193,
    "start_time": "2022-01-06T12:08:24.825Z"
   },
   {
    "duration": 11,
    "start_time": "2022-01-06T12:08:25.021Z"
   },
   {
    "duration": 45,
    "start_time": "2022-01-06T12:08:25.035Z"
   },
   {
    "duration": 138,
    "start_time": "2022-01-06T12:08:25.082Z"
   },
   {
    "duration": 10,
    "start_time": "2022-01-06T12:08:25.222Z"
   },
   {
    "duration": 37,
    "start_time": "2022-01-06T12:08:25.234Z"
   },
   {
    "duration": 17,
    "start_time": "2022-01-06T12:08:25.273Z"
   },
   {
    "duration": 19,
    "start_time": "2022-01-06T12:08:25.292Z"
   },
   {
    "duration": 10,
    "start_time": "2022-01-06T12:08:25.317Z"
   },
   {
    "duration": 42,
    "start_time": "2022-01-06T12:08:25.329Z"
   },
   {
    "duration": 16,
    "start_time": "2022-01-06T12:08:25.373Z"
   },
   {
    "duration": 12,
    "start_time": "2022-01-06T12:08:25.391Z"
   },
   {
    "duration": 18,
    "start_time": "2022-01-06T12:08:25.405Z"
   },
   {
    "duration": 11,
    "start_time": "2022-01-06T12:08:25.425Z"
   },
   {
    "duration": 47,
    "start_time": "2022-01-06T12:08:25.438Z"
   },
   {
    "duration": 32,
    "start_time": "2022-01-06T12:08:25.487Z"
   },
   {
    "duration": 32,
    "start_time": "2022-01-06T12:08:25.522Z"
   },
   {
    "duration": 17,
    "start_time": "2022-01-06T12:08:25.556Z"
   },
   {
    "duration": 53,
    "start_time": "2022-01-06T12:08:25.579Z"
   },
   {
    "duration": 14,
    "start_time": "2022-01-06T12:08:25.637Z"
   },
   {
    "duration": 6,
    "start_time": "2022-01-06T12:08:25.653Z"
   },
   {
    "duration": 20,
    "start_time": "2022-01-06T12:08:25.661Z"
   },
   {
    "duration": 34,
    "start_time": "2022-01-06T12:08:25.684Z"
   },
   {
    "duration": 14,
    "start_time": "2022-01-06T12:08:25.720Z"
   },
   {
    "duration": 10,
    "start_time": "2022-01-06T12:08:25.737Z"
   },
   {
    "duration": 16,
    "start_time": "2022-01-06T12:08:25.749Z"
   },
   {
    "duration": 26,
    "start_time": "2022-01-06T12:08:25.768Z"
   },
   {
    "duration": 469,
    "start_time": "2022-01-06T12:08:25.796Z"
   },
   {
    "duration": 145,
    "start_time": "2022-01-06T12:08:26.267Z"
   },
   {
    "duration": 57,
    "start_time": "2022-01-06T12:08:26.415Z"
   },
   {
    "duration": 81,
    "start_time": "2022-01-06T12:08:26.474Z"
   },
   {
    "duration": 10,
    "start_time": "2022-01-06T12:08:26.557Z"
   },
   {
    "duration": 18,
    "start_time": "2022-01-06T12:08:26.569Z"
   },
   {
    "duration": 127,
    "start_time": "2022-01-06T12:08:26.589Z"
   },
   {
    "duration": 52,
    "start_time": "2022-01-06T12:08:26.719Z"
   },
   {
    "duration": 10,
    "start_time": "2022-01-06T12:08:26.773Z"
   },
   {
    "duration": 237,
    "start_time": "2022-01-06T12:08:26.785Z"
   },
   {
    "duration": 12,
    "start_time": "2022-01-06T12:08:27.026Z"
   },
   {
    "duration": 26,
    "start_time": "2022-01-06T12:08:27.041Z"
   },
   {
    "duration": 21,
    "start_time": "2022-01-06T12:08:27.070Z"
   },
   {
    "duration": 26,
    "start_time": "2022-01-06T12:08:27.093Z"
   },
   {
    "duration": 31,
    "start_time": "2022-01-06T12:08:27.122Z"
   },
   {
    "duration": 8,
    "start_time": "2022-01-06T12:08:27.155Z"
   },
   {
    "duration": 28,
    "start_time": "2022-01-06T12:08:27.165Z"
   },
   {
    "duration": 22,
    "start_time": "2022-01-06T12:08:27.196Z"
   },
   {
    "duration": 32,
    "start_time": "2022-01-06T12:08:27.220Z"
   },
   {
    "duration": 19,
    "start_time": "2022-01-06T12:08:27.255Z"
   },
   {
    "duration": 48,
    "start_time": "2022-01-06T12:08:27.277Z"
   },
   {
    "duration": 24,
    "start_time": "2022-01-06T12:08:27.327Z"
   },
   {
    "duration": 12,
    "start_time": "2022-01-06T12:08:27.353Z"
   },
   {
    "duration": 32,
    "start_time": "2022-01-06T12:08:27.367Z"
   },
   {
    "duration": 13,
    "start_time": "2022-01-06T12:08:27.402Z"
   },
   {
    "duration": 24,
    "start_time": "2022-01-06T12:08:27.418Z"
   },
   {
    "duration": 21,
    "start_time": "2022-01-06T12:08:27.445Z"
   },
   {
    "duration": 11,
    "start_time": "2022-01-06T12:08:27.469Z"
   },
   {
    "duration": 24,
    "start_time": "2022-01-06T12:08:27.483Z"
   },
   {
    "duration": 57,
    "start_time": "2022-01-06T12:08:27.510Z"
   },
   {
    "duration": 7,
    "start_time": "2022-01-06T12:08:27.569Z"
   },
   {
    "duration": 20,
    "start_time": "2022-01-06T12:08:27.578Z"
   },
   {
    "duration": 30,
    "start_time": "2022-01-06T12:08:27.601Z"
   },
   {
    "duration": 24,
    "start_time": "2022-01-06T12:08:27.634Z"
   },
   {
    "duration": 17,
    "start_time": "2022-01-06T12:08:27.662Z"
   },
   {
    "duration": 47,
    "start_time": "2022-01-06T12:08:27.682Z"
   },
   {
    "duration": 22,
    "start_time": "2022-01-06T12:08:27.732Z"
   },
   {
    "duration": 24,
    "start_time": "2022-01-06T12:08:27.756Z"
   },
   {
    "duration": 511,
    "start_time": "2022-01-06T12:08:27.782Z"
   },
   {
    "duration": 25,
    "start_time": "2022-01-06T12:08:28.296Z"
   },
   {
    "duration": 10,
    "start_time": "2022-01-06T12:08:28.324Z"
   },
   {
    "duration": 21,
    "start_time": "2022-01-06T12:08:28.336Z"
   },
   {
    "duration": 27,
    "start_time": "2022-01-06T12:08:28.360Z"
   },
   {
    "duration": 353,
    "start_time": "2022-01-06T12:08:28.389Z"
   },
   {
    "duration": 541,
    "start_time": "2022-01-06T12:08:28.744Z"
   },
   {
    "duration": 24,
    "start_time": "2022-01-06T12:08:29.294Z"
   },
   {
    "duration": 17,
    "start_time": "2022-01-06T12:08:29.321Z"
   },
   {
    "duration": 18,
    "start_time": "2022-01-06T12:08:29.341Z"
   },
   {
    "duration": 14,
    "start_time": "2022-01-06T12:08:29.362Z"
   },
   {
    "duration": 350,
    "start_time": "2022-01-06T12:08:29.378Z"
   },
   {
    "duration": 560,
    "start_time": "2022-01-06T12:08:29.730Z"
   },
   {
    "duration": 12,
    "start_time": "2022-01-06T12:08:30.292Z"
   },
   {
    "duration": 26,
    "start_time": "2022-01-06T12:08:30.318Z"
   },
   {
    "duration": 14,
    "start_time": "2022-01-06T12:08:30.346Z"
   },
   {
    "duration": 12,
    "start_time": "2022-01-06T12:08:30.362Z"
   },
   {
    "duration": 344,
    "start_time": "2022-01-06T12:08:30.376Z"
   },
   {
    "duration": 7,
    "start_time": "2022-01-06T12:08:30.722Z"
   },
   {
    "duration": 45,
    "start_time": "2022-01-06T12:08:30.732Z"
   },
   {
    "duration": 11,
    "start_time": "2022-01-06T12:08:30.779Z"
   },
   {
    "duration": 25,
    "start_time": "2022-01-06T12:08:30.793Z"
   },
   {
    "duration": 28,
    "start_time": "2022-01-06T12:08:30.820Z"
   },
   {
    "duration": 33,
    "start_time": "2022-01-06T12:08:30.850Z"
   },
   {
    "duration": 29,
    "start_time": "2022-01-06T12:08:30.885Z"
   },
   {
    "duration": 21,
    "start_time": "2022-01-06T12:08:30.916Z"
   },
   {
    "duration": 25,
    "start_time": "2022-01-06T12:08:30.939Z"
   },
   {
    "duration": 19,
    "start_time": "2022-01-06T12:08:30.966Z"
   },
   {
    "duration": 23,
    "start_time": "2022-01-06T12:08:30.988Z"
   },
   {
    "duration": 27,
    "start_time": "2022-01-06T12:08:31.014Z"
   },
   {
    "duration": 15,
    "start_time": "2022-01-06T12:08:31.044Z"
   },
   {
    "duration": 7,
    "start_time": "2022-01-06T12:12:11.650Z"
   },
   {
    "duration": 11,
    "start_time": "2022-01-06T12:16:29.744Z"
   },
   {
    "duration": 71,
    "start_time": "2022-01-06T12:16:38.708Z"
   },
   {
    "duration": 12,
    "start_time": "2022-01-06T12:17:51.707Z"
   },
   {
    "duration": 1657,
    "start_time": "2022-01-06T12:20:07.435Z"
   },
   {
    "duration": 10,
    "start_time": "2022-01-06T12:20:16.882Z"
   },
   {
    "duration": 23,
    "start_time": "2022-01-06T12:21:10.711Z"
   },
   {
    "duration": 68,
    "start_time": "2022-01-06T12:21:38.049Z"
   },
   {
    "duration": 9300,
    "start_time": "2022-01-06T12:21:49.289Z"
   },
   {
    "duration": 75,
    "start_time": "2022-01-06T12:22:01.224Z"
   },
   {
    "duration": 109,
    "start_time": "2022-01-06T12:28:22.867Z"
   },
   {
    "duration": 52,
    "start_time": "2022-01-06T12:28:25.973Z"
   },
   {
    "duration": 10,
    "start_time": "2022-01-06T12:28:26.183Z"
   },
   {
    "duration": 24,
    "start_time": "2022-01-06T12:29:24.080Z"
   },
   {
    "duration": 13,
    "start_time": "2022-01-06T12:29:52.484Z"
   },
   {
    "duration": 13,
    "start_time": "2022-01-06T12:29:52.658Z"
   },
   {
    "duration": 14,
    "start_time": "2022-01-06T12:29:52.878Z"
   },
   {
    "duration": 16,
    "start_time": "2022-01-06T12:29:55.724Z"
   },
   {
    "duration": 8,
    "start_time": "2022-01-06T12:29:57.273Z"
   },
   {
    "duration": 19,
    "start_time": "2022-01-06T12:29:58.690Z"
   },
   {
    "duration": 19,
    "start_time": "2022-01-06T12:30:00.764Z"
   },
   {
    "duration": 9,
    "start_time": "2022-01-06T12:30:02.479Z"
   },
   {
    "duration": 10,
    "start_time": "2022-01-06T12:30:04.842Z"
   },
   {
    "duration": 23,
    "start_time": "2022-01-06T12:30:05.276Z"
   },
   {
    "duration": 426,
    "start_time": "2022-01-06T12:30:31.126Z"
   },
   {
    "duration": 12,
    "start_time": "2022-01-06T12:30:34.336Z"
   },
   {
    "duration": 8,
    "start_time": "2022-01-06T12:31:35.919Z"
   },
   {
    "duration": 4,
    "start_time": "2022-01-06T12:31:36.298Z"
   },
   {
    "duration": 70,
    "start_time": "2022-01-06T12:31:39.127Z"
   },
   {
    "duration": 6,
    "start_time": "2022-01-06T12:32:01.071Z"
   },
   {
    "duration": 9,
    "start_time": "2022-01-06T12:32:13.987Z"
   },
   {
    "duration": 4,
    "start_time": "2022-01-06T12:32:14.171Z"
   },
   {
    "duration": 9,
    "start_time": "2022-01-06T12:32:14.722Z"
   },
   {
    "duration": 4,
    "start_time": "2022-01-06T12:32:20.411Z"
   },
   {
    "duration": 11,
    "start_time": "2022-01-06T12:32:20.418Z"
   },
   {
    "duration": 35,
    "start_time": "2022-01-06T12:32:20.431Z"
   },
   {
    "duration": 55,
    "start_time": "2022-01-06T12:32:20.468Z"
   },
   {
    "duration": 7,
    "start_time": "2022-01-06T12:32:20.525Z"
   },
   {
    "duration": 8,
    "start_time": "2022-01-06T12:32:20.534Z"
   },
   {
    "duration": 7,
    "start_time": "2022-01-06T12:32:20.544Z"
   },
   {
    "duration": 6,
    "start_time": "2022-01-06T12:32:20.555Z"
   },
   {
    "duration": 54,
    "start_time": "2022-01-06T12:32:20.564Z"
   },
   {
    "duration": 22,
    "start_time": "2022-01-06T12:32:20.621Z"
   },
   {
    "duration": 6,
    "start_time": "2022-01-06T12:32:20.645Z"
   },
   {
    "duration": 10,
    "start_time": "2022-01-06T12:32:20.655Z"
   },
   {
    "duration": 528,
    "start_time": "2022-01-06T12:32:20.668Z"
   },
   {
    "duration": 24,
    "start_time": "2022-01-06T12:32:21.200Z"
   },
   {
    "duration": 8,
    "start_time": "2022-01-06T12:32:21.227Z"
   },
   {
    "duration": 18,
    "start_time": "2022-01-06T12:32:21.238Z"
   },
   {
    "duration": 7,
    "start_time": "2022-01-06T12:32:21.259Z"
   },
   {
    "duration": 371,
    "start_time": "2022-01-06T12:32:21.268Z"
   },
   {
    "duration": 559,
    "start_time": "2022-01-06T12:32:21.642Z"
   },
   {
    "duration": 20,
    "start_time": "2022-01-06T12:32:22.203Z"
   },
   {
    "duration": 6,
    "start_time": "2022-01-06T12:32:22.226Z"
   },
   {
    "duration": 20,
    "start_time": "2022-01-06T12:32:22.238Z"
   },
   {
    "duration": 12,
    "start_time": "2022-01-06T12:32:22.261Z"
   },
   {
    "duration": 369,
    "start_time": "2022-01-06T12:32:22.275Z"
   },
   {
    "duration": 527,
    "start_time": "2022-01-06T12:32:22.646Z"
   },
   {
    "duration": 11,
    "start_time": "2022-01-06T12:32:23.175Z"
   },
   {
    "duration": 7,
    "start_time": "2022-01-06T12:32:23.188Z"
   },
   {
    "duration": 12,
    "start_time": "2022-01-06T12:32:23.218Z"
   },
   {
    "duration": 5,
    "start_time": "2022-01-06T12:32:23.233Z"
   },
   {
    "duration": 356,
    "start_time": "2022-01-06T12:32:23.241Z"
   },
   {
    "duration": 20,
    "start_time": "2022-01-06T12:32:23.599Z"
   },
   {
    "duration": 6,
    "start_time": "2022-01-06T12:32:23.621Z"
   },
   {
    "duration": 7,
    "start_time": "2022-01-06T12:32:23.629Z"
   },
   {
    "duration": 7,
    "start_time": "2022-01-06T12:32:23.638Z"
   },
   {
    "duration": 9,
    "start_time": "2022-01-06T12:32:23.648Z"
   },
   {
    "duration": 8,
    "start_time": "2022-01-06T12:32:23.659Z"
   },
   {
    "duration": 6,
    "start_time": "2022-01-06T12:32:23.718Z"
   },
   {
    "duration": 12,
    "start_time": "2022-01-06T12:32:23.726Z"
   },
   {
    "duration": 5,
    "start_time": "2022-01-06T12:32:23.740Z"
   },
   {
    "duration": 6,
    "start_time": "2022-01-06T12:32:23.747Z"
   },
   {
    "duration": 7,
    "start_time": "2022-01-06T12:32:23.755Z"
   },
   {
    "duration": 6,
    "start_time": "2022-01-06T12:32:23.764Z"
   },
   {
    "duration": 54,
    "start_time": "2022-01-06T12:32:23.772Z"
   },
   {
    "duration": 10,
    "start_time": "2022-01-06T12:32:23.828Z"
   },
   {
    "duration": 10127,
    "start_time": "2022-01-06T13:07:29.156Z"
   },
   {
    "duration": 18,
    "start_time": "2022-01-06T13:07:44.752Z"
   },
   {
    "duration": 14,
    "start_time": "2022-01-06T13:07:44.948Z"
   },
   {
    "duration": 15,
    "start_time": "2022-01-06T13:07:45.144Z"
   },
   {
    "duration": 19,
    "start_time": "2022-01-06T13:07:45.795Z"
   },
   {
    "duration": 7,
    "start_time": "2022-01-06T13:07:47.455Z"
   },
   {
    "duration": 19,
    "start_time": "2022-01-06T13:07:47.661Z"
   },
   {
    "duration": 19,
    "start_time": "2022-01-06T13:07:48.289Z"
   },
   {
    "duration": 8,
    "start_time": "2022-01-06T13:07:50.280Z"
   },
   {
    "duration": 11,
    "start_time": "2022-01-06T13:07:50.726Z"
   },
   {
    "duration": 11,
    "start_time": "2022-01-06T13:07:51.042Z"
   },
   {
    "duration": 27,
    "start_time": "2022-01-06T13:07:51.306Z"
   },
   {
    "duration": 85,
    "start_time": "2022-01-06T13:07:57.993Z"
   },
   {
    "duration": 8,
    "start_time": "2022-01-06T13:08:07.398Z"
   },
   {
    "duration": 62,
    "start_time": "2022-01-06T13:08:27.117Z"
   }
  ],
  "kernelspec": {
   "display_name": "Python 3 (ipykernel)",
   "language": "python",
   "name": "python3"
  },
  "language_info": {
   "codemirror_mode": {
    "name": "ipython",
    "version": 3
   },
   "file_extension": ".py",
   "mimetype": "text/x-python",
   "name": "python",
   "nbconvert_exporter": "python",
   "pygments_lexer": "ipython3",
   "version": "3.9.7"
  },
  "toc": {
   "base_numbering": 1,
   "nav_menu": {},
   "number_sections": true,
   "sideBar": true,
   "skip_h1_title": true,
   "title_cell": "Table of Contents",
   "title_sidebar": "Contents",
   "toc_cell": false,
   "toc_position": {
    "height": "777px",
    "left": "33px",
    "top": "110px",
    "width": "314px"
   },
   "toc_section_display": true,
   "toc_window_display": true
  }
 },
 "nbformat": 4,
 "nbformat_minor": 2
}
