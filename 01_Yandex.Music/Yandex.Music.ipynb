{
 "cells": [
  {
   "cell_type": "markdown",
   "metadata": {
    "id": "E0vqbgi9ay0H"
   },
   "source": [
    "# Яндекс.Музыка"
   ]
  },
  {
   "cell_type": "markdown",
   "metadata": {
    "id": "VUC88oWjTJw2"
   },
   "source": [
    "Сравнение Москвы и Петербурга окружено мифами. Например:\n",
    " * Москва — мегаполис, подчинённый жёсткому ритму рабочей недели;\n",
    " * Петербург — культурная столица, со своими вкусами.\n",
    "\n",
    "На данных Яндекс.Музыки вы сравните поведение пользователей двух столиц.\n",
    "\n",
    "**Цель исследования** — проверьте три гипотезы:\n",
    "1. Активность пользователей зависит от дня недели. Причём в Москве и Петербурге это проявляется по-разному.\n",
    "2. В понедельник утром в Москве преобладают одни жанры, а в Петербурге — другие. Так же и вечером пятницы преобладают разные жанры — в зависимости от города. \n",
    "3. Москва и Петербург предпочитают разные жанры музыки. В Москве чаще слушают поп-музыку, в Петербурге — русский рэп.\n",
    "\n",
    "**Ход исследования**\n",
    "\n",
    "Данные о поведении пользователей вы получите из файла `yandex_music_project.csv`. О качестве данных ничего не известно. Поэтому перед проверкой гипотез понадобится обзор данных. \n",
    "\n",
    "Вы проверите данные на ошибки и оцените их влияние на исследование. Затем, на этапе предобработки вы поищете возможность исправить самые критичные ошибки данных.\n",
    " \n",
    "Таким образом, исследование пройдёт в три этапа:\n",
    " 1. Обзор данных.\n",
    " 2. Предобработка данных.\n",
    " 3. Проверка гипотез.\n",
    "\n"
   ]
  },
  {
   "cell_type": "markdown",
   "metadata": {
    "id": "Ml1hmfXC_Zcs"
   },
   "source": [
    "## Обзор данных\n",
    "\n",
    "Составьте первое представление о данных Яндекс.Музыки.\n",
    "\n",
    "\n"
   ]
  },
  {
   "cell_type": "markdown",
   "metadata": {
    "id": "57eAOGIz_Zcs"
   },
   "source": [
    "Основной инструмент аналитика — `pandas`. Импортируйте эту библиотеку."
   ]
  },
  {
   "cell_type": "code",
   "execution_count": 22,
   "metadata": {
    "id": "AXN7PHPN_Zcs"
   },
   "outputs": [],
   "source": [
    "import pandas as pd # импорт библиотеки pandas"
   ]
  },
  {
   "cell_type": "markdown",
   "metadata": {
    "id": "SG23P8tt_Zcs"
   },
   "source": [
    "Прочитайте файл `yandex_music_project.csv` из папки `/datasets` и сохраните его в переменной `df`:"
   ]
  },
  {
   "cell_type": "code",
   "execution_count": 23,
   "metadata": {
    "id": "fFVu7vqh_Zct"
   },
   "outputs": [],
   "source": [
    "df = pd.read_csv('/datasets/yandex_music_project.csv') # чтение файла с данными и сохранение в df"
   ]
  },
  {
   "cell_type": "markdown",
   "metadata": {
    "id": "rDoOMd3uTqnZ"
   },
   "source": [
    "Выведите на экран первые десять строк таблицы:"
   ]
  },
  {
   "cell_type": "code",
   "execution_count": 24,
   "metadata": {
    "id": "oWTVX3gW_Zct",
    "scrolled": true
   },
   "outputs": [
    {
     "data": {
      "text/html": [
       "<div>\n",
       "<style scoped>\n",
       "    .dataframe tbody tr th:only-of-type {\n",
       "        vertical-align: middle;\n",
       "    }\n",
       "\n",
       "    .dataframe tbody tr th {\n",
       "        vertical-align: top;\n",
       "    }\n",
       "\n",
       "    .dataframe thead th {\n",
       "        text-align: right;\n",
       "    }\n",
       "</style>\n",
       "<table border=\"1\" class=\"dataframe\">\n",
       "  <thead>\n",
       "    <tr style=\"text-align: right;\">\n",
       "      <th></th>\n",
       "      <th>userID</th>\n",
       "      <th>Track</th>\n",
       "      <th>artist</th>\n",
       "      <th>genre</th>\n",
       "      <th>City</th>\n",
       "      <th>time</th>\n",
       "      <th>Day</th>\n",
       "    </tr>\n",
       "  </thead>\n",
       "  <tbody>\n",
       "    <tr>\n",
       "      <td>0</td>\n",
       "      <td>FFB692EC</td>\n",
       "      <td>Kamigata To Boots</td>\n",
       "      <td>The Mass Missile</td>\n",
       "      <td>rock</td>\n",
       "      <td>Saint-Petersburg</td>\n",
       "      <td>20:28:33</td>\n",
       "      <td>Wednesday</td>\n",
       "    </tr>\n",
       "    <tr>\n",
       "      <td>1</td>\n",
       "      <td>55204538</td>\n",
       "      <td>Delayed Because of Accident</td>\n",
       "      <td>Andreas Rönnberg</td>\n",
       "      <td>rock</td>\n",
       "      <td>Moscow</td>\n",
       "      <td>14:07:09</td>\n",
       "      <td>Friday</td>\n",
       "    </tr>\n",
       "    <tr>\n",
       "      <td>2</td>\n",
       "      <td>20EC38</td>\n",
       "      <td>Funiculì funiculà</td>\n",
       "      <td>Mario Lanza</td>\n",
       "      <td>pop</td>\n",
       "      <td>Saint-Petersburg</td>\n",
       "      <td>20:58:07</td>\n",
       "      <td>Wednesday</td>\n",
       "    </tr>\n",
       "    <tr>\n",
       "      <td>3</td>\n",
       "      <td>A3DD03C9</td>\n",
       "      <td>Dragons in the Sunset</td>\n",
       "      <td>Fire + Ice</td>\n",
       "      <td>folk</td>\n",
       "      <td>Saint-Petersburg</td>\n",
       "      <td>08:37:09</td>\n",
       "      <td>Monday</td>\n",
       "    </tr>\n",
       "    <tr>\n",
       "      <td>4</td>\n",
       "      <td>E2DC1FAE</td>\n",
       "      <td>Soul People</td>\n",
       "      <td>Space Echo</td>\n",
       "      <td>dance</td>\n",
       "      <td>Moscow</td>\n",
       "      <td>08:34:34</td>\n",
       "      <td>Monday</td>\n",
       "    </tr>\n",
       "    <tr>\n",
       "      <td>5</td>\n",
       "      <td>842029A1</td>\n",
       "      <td>Преданная</td>\n",
       "      <td>IMPERVTOR</td>\n",
       "      <td>rusrap</td>\n",
       "      <td>Saint-Petersburg</td>\n",
       "      <td>13:09:41</td>\n",
       "      <td>Friday</td>\n",
       "    </tr>\n",
       "    <tr>\n",
       "      <td>6</td>\n",
       "      <td>4CB90AA5</td>\n",
       "      <td>True</td>\n",
       "      <td>Roman Messer</td>\n",
       "      <td>dance</td>\n",
       "      <td>Moscow</td>\n",
       "      <td>13:00:07</td>\n",
       "      <td>Wednesday</td>\n",
       "    </tr>\n",
       "    <tr>\n",
       "      <td>7</td>\n",
       "      <td>F03E1C1F</td>\n",
       "      <td>Feeling This Way</td>\n",
       "      <td>Polina Griffith</td>\n",
       "      <td>dance</td>\n",
       "      <td>Moscow</td>\n",
       "      <td>20:47:49</td>\n",
       "      <td>Wednesday</td>\n",
       "    </tr>\n",
       "    <tr>\n",
       "      <td>8</td>\n",
       "      <td>8FA1D3BE</td>\n",
       "      <td>И вновь продолжается бой</td>\n",
       "      <td>NaN</td>\n",
       "      <td>ruspop</td>\n",
       "      <td>Moscow</td>\n",
       "      <td>09:17:40</td>\n",
       "      <td>Friday</td>\n",
       "    </tr>\n",
       "    <tr>\n",
       "      <td>9</td>\n",
       "      <td>E772D5C0</td>\n",
       "      <td>Pessimist</td>\n",
       "      <td>NaN</td>\n",
       "      <td>dance</td>\n",
       "      <td>Saint-Petersburg</td>\n",
       "      <td>21:20:49</td>\n",
       "      <td>Wednesday</td>\n",
       "    </tr>\n",
       "  </tbody>\n",
       "</table>\n",
       "</div>"
      ],
      "text/plain": [
       "     userID                        Track            artist   genre  \\\n",
       "0  FFB692EC            Kamigata To Boots  The Mass Missile    rock   \n",
       "1  55204538  Delayed Because of Accident  Andreas Rönnberg    rock   \n",
       "2    20EC38            Funiculì funiculà       Mario Lanza     pop   \n",
       "3  A3DD03C9        Dragons in the Sunset        Fire + Ice    folk   \n",
       "4  E2DC1FAE                  Soul People        Space Echo   dance   \n",
       "5  842029A1                    Преданная         IMPERVTOR  rusrap   \n",
       "6  4CB90AA5                         True      Roman Messer   dance   \n",
       "7  F03E1C1F             Feeling This Way   Polina Griffith   dance   \n",
       "8  8FA1D3BE     И вновь продолжается бой               NaN  ruspop   \n",
       "9  E772D5C0                    Pessimist               NaN   dance   \n",
       "\n",
       "             City        time        Day  \n",
       "0  Saint-Petersburg  20:28:33  Wednesday  \n",
       "1            Moscow  14:07:09     Friday  \n",
       "2  Saint-Petersburg  20:58:07  Wednesday  \n",
       "3  Saint-Petersburg  08:37:09     Monday  \n",
       "4            Moscow  08:34:34     Monday  \n",
       "5  Saint-Petersburg  13:09:41     Friday  \n",
       "6            Moscow  13:00:07  Wednesday  \n",
       "7            Moscow  20:47:49  Wednesday  \n",
       "8            Moscow  09:17:40     Friday  \n",
       "9  Saint-Petersburg  21:20:49  Wednesday  "
      ]
     },
     "execution_count": 24,
     "metadata": {},
     "output_type": "execute_result"
    }
   ],
   "source": [
    "df.head(10) # получение первых 10 строк таблицы df"
   ]
  },
  {
   "cell_type": "markdown",
   "metadata": {
    "id": "EO73Kwic_Zct"
   },
   "source": [
    "Одной командой получить общую информацию о таблице:"
   ]
  },
  {
   "cell_type": "code",
   "execution_count": 25,
   "metadata": {
    "id": "DSf2kIb-_Zct"
   },
   "outputs": [
    {
     "name": "stdout",
     "output_type": "stream",
     "text": [
      "<class 'pandas.core.frame.DataFrame'>\n",
      "RangeIndex: 65079 entries, 0 to 65078\n",
      "Data columns (total 7 columns):\n",
      "  userID    65079 non-null object\n",
      "Track       63848 non-null object\n",
      "artist      57876 non-null object\n",
      "genre       63881 non-null object\n",
      "  City      65079 non-null object\n",
      "time        65079 non-null object\n",
      "Day         65079 non-null object\n",
      "dtypes: object(7)\n",
      "memory usage: 3.5+ MB\n"
     ]
    }
   ],
   "source": [
    "df.info() # получение общей информации о данных в таблице df"
   ]
  },
  {
   "cell_type": "markdown",
   "metadata": {
    "id": "TaQ2Iwbr_Zct"
   },
   "source": [
    "Итак, в таблице семь столбцов. Тип данных во всех столбцах — `object`.\n",
    "\n",
    "Согласно документации к данным:\n",
    "* `userID` — идентификатор пользователя;\n",
    "* `Track` — название трека;  \n",
    "* `artist` — имя исполнителя;\n",
    "* `genre` — название жанра;\n",
    "* `City` — город пользователя;\n",
    "* `time` — время начала прослушивания;\n",
    "* `Day` — день недели.\n",
    "\n",
    "В названиях колонок видны три нарушения стиля:\n",
    "1. Строчные буквы сочетаются с прописными.\n",
    "2. Встречаются пробелы.\n",
    "3. Название первой колонки 'userID' не соответсвует 'змеиному стилю'.\n",
    "\n",
    "\n",
    "\n",
    "Количество значений в столбцах различается. Значит, в данных есть пропущенные значения.\n"
   ]
  },
  {
   "cell_type": "markdown",
   "metadata": {
    "id": "MCB6-dXG_Zct"
   },
   "source": [
    "**Выводы**\n",
    "\n",
    "В каждой строке таблицы — данные о прослушанном треке. Часть колонок описывает саму композицию: название, исполнителя и жанр. Остальные данные рассказывают о пользователе: из какого он города, когда он слушал музыку. \n",
    "\n",
    "Предварительно можно утверждать, что, данных достаточно для проверки гипотез. Но встречаются пропуски в данных, а в названиях колонок — расхождения с хорошим стилем.\n",
    "\n",
    "Чтобы двигаться дальше, нужно устранить проблемы в данных."
   ]
  },
  {
   "cell_type": "markdown",
   "metadata": {
    "id": "SjYF6Ub9_Zct"
   },
   "source": [
    "## Предобработка данных\n",
    "Исправьте стиль в заголовках столбцов, исключите пропуски. Затем проверьте данные на дубликаты."
   ]
  },
  {
   "cell_type": "markdown",
   "metadata": {
    "id": "dIaKXr29_Zct"
   },
   "source": [
    "### Стиль заголовков\n",
    "Выведите на экран названия столбцов:"
   ]
  },
  {
   "cell_type": "code",
   "execution_count": 26,
   "metadata": {
    "id": "oKOTdF_Q_Zct"
   },
   "outputs": [
    {
     "data": {
      "text/plain": [
       "Index(['  userID', 'Track', 'artist', 'genre', '  City  ', 'time', 'Day'], dtype='object')"
      ]
     },
     "execution_count": 26,
     "metadata": {},
     "output_type": "execute_result"
    }
   ],
   "source": [
    "df.columns # перечень названий столбцов таблицы df"
   ]
  },
  {
   "cell_type": "markdown",
   "metadata": {
    "id": "zj5534cv_Zct"
   },
   "source": [
    "Приведите названия в соответствие с хорошим стилем:\n",
    "* несколько слов в названии запишите в «змеином_регистре»,\n",
    "* все символы сделайте строчными,\n",
    "* устраните пробелы.\n",
    "\n",
    "Для этого переименуйте колонки так:\n",
    "* `'  userID'` → `'user_id'`;\n",
    "* `'Track'` → `'track'`;\n",
    "* `'  City  '` → `'city'`;\n",
    "* `'Day'` → `'day'`."
   ]
  },
  {
   "cell_type": "code",
   "execution_count": 27,
   "metadata": {
    "id": "ISlFqs5y_Zct"
   },
   "outputs": [],
   "source": [
    "df = df.rename(columns={'  userID': 'user_id', 'Track': 'track', '  City  ': 'city', 'Day': 'day'}) # переименование столбцов"
   ]
  },
  {
   "cell_type": "markdown",
   "metadata": {
    "id": "1dqbh00J_Zct"
   },
   "source": [
    "Проверьте результат. Для этого ещё раз выведите на экран названия столбцов:"
   ]
  },
  {
   "cell_type": "code",
   "execution_count": 28,
   "metadata": {
    "id": "d4NOAmTW_Zct"
   },
   "outputs": [
    {
     "data": {
      "text/plain": [
       "Index(['user_id', 'track', 'artist', 'genre', 'city', 'time', 'day'], dtype='object')"
      ]
     },
     "execution_count": 28,
     "metadata": {},
     "output_type": "execute_result"
    }
   ],
   "source": [
    "df.columns # проверка результатов - перечень названий столбцов"
   ]
  },
  {
   "cell_type": "markdown",
   "metadata": {
    "id": "5ISfbcfY_Zct"
   },
   "source": [
    "### Пропуски значений\n",
    "Сначала посчитайте, сколько в таблице пропущенных значений. Для этого достаточно двух методов `pandas`:"
   ]
  },
  {
   "cell_type": "code",
   "execution_count": 29,
   "metadata": {
    "id": "RskX29qr_Zct"
   },
   "outputs": [
    {
     "data": {
      "text/plain": [
       "user_id       0\n",
       "track      1231\n",
       "artist     7203\n",
       "genre      1198\n",
       "city          0\n",
       "time          0\n",
       "day           0\n",
       "dtype: int64"
      ]
     },
     "execution_count": 29,
     "metadata": {},
     "output_type": "execute_result"
    }
   ],
   "source": [
    "df.isna().sum() # подсчёт пропусков"
   ]
  },
  {
   "cell_type": "markdown",
   "metadata": {
    "id": "qubhgnlO_Zct"
   },
   "source": [
    "Не все пропущенные значения влияют на исследование. Так в `track` и `artist` пропуски не важны для вашей работы. Достаточно заменить их явными обозначениями.\n",
    "\n",
    "Но пропуски в `genre` могут помешать сравнению музыкальных вкусов в Москве и Санкт-Петербурге. На практике было бы правильно установить причину пропусков и восстановить данные. Такой возможности нет в учебном проекте. Придётся:\n",
    "* заполнить и эти пропуски явными обозначениями,\n",
    "* оценить, насколько они повредят расчётам. "
   ]
  },
  {
   "cell_type": "markdown",
   "metadata": {
    "id": "fSv2laPA_Zct"
   },
   "source": [
    "Замените пропущенные значения в столбцах `track`, `artist` и `genre` на строку `'unknown'`. Для этого создайте список `columns_to_replace`, переберите его элементы циклом `for` и для каждого столбца выполните замену пропущенных значений:"
   ]
  },
  {
   "cell_type": "code",
   "execution_count": 30,
   "metadata": {
    "id": "KplB5qWs_Zct"
   },
   "outputs": [],
   "source": [
    "# перебор названий столбцов в цикле и замена пропущенных значений на 'unknown'\n",
    "columns_to_replace = ['track', 'artist', 'genre']\n",
    "for column in columns_to_replace:\n",
    "    df[column] = df[column].fillna('unknown')"
   ]
  },
  {
   "cell_type": "markdown",
   "metadata": {
    "id": "Ilsm-MZo_Zct"
   },
   "source": [
    "Убедитесь, что в таблице не осталось пропусков. Для этого ещё раз посчитайте пропущенные значения."
   ]
  },
  {
   "cell_type": "code",
   "execution_count": 31,
   "metadata": {
    "id": "Tq4nYRX4_Zct"
   },
   "outputs": [
    {
     "data": {
      "text/plain": [
       "user_id    0\n",
       "track      0\n",
       "artist     0\n",
       "genre      0\n",
       "city       0\n",
       "time       0\n",
       "day        0\n",
       "dtype: int64"
      ]
     },
     "execution_count": 31,
     "metadata": {},
     "output_type": "execute_result"
    }
   ],
   "source": [
    "df.isna().sum() # подсчёт пропусков"
   ]
  },
  {
   "cell_type": "markdown",
   "metadata": {
    "id": "BWKRtBJ3_Zct"
   },
   "source": [
    "### Дубликаты\n",
    "Посчитайте явные дубликаты в таблице одной командой:"
   ]
  },
  {
   "cell_type": "code",
   "execution_count": 32,
   "metadata": {
    "id": "36eES_S0_Zct"
   },
   "outputs": [
    {
     "name": "stdout",
     "output_type": "stream",
     "text": [
      "3826 явных дубликатов\n"
     ]
    }
   ],
   "source": [
    "print('{} явных дубликатов'.format(df.duplicated().sum())) # подсчёт явных дубликатов"
   ]
  },
  {
   "cell_type": "markdown",
   "metadata": {},
   "source": [
    "Комментарий студента: Я правильно поняла насчет вывода?"
   ]
  },
  {
   "cell_type": "markdown",
   "metadata": {
    "id": "Ot25h6XR_Zct"
   },
   "source": [
    "Вызовите специальный метод `pandas`, чтобы удалить явные дубликаты:"
   ]
  },
  {
   "cell_type": "code",
   "execution_count": 33,
   "metadata": {
    "id": "exFHq6tt_Zct"
   },
   "outputs": [],
   "source": [
    "df = df.drop_duplicates().reset_index(drop=True) # удаление явных дубликатов (с удалением старых индексов и формированием новых)"
   ]
  },
  {
   "cell_type": "markdown",
   "metadata": {
    "id": "Im2YwBEG_Zct"
   },
   "source": [
    "Ещё раз посчитайте явные дубликаты в таблице — убедитесь, что полностью от них избавились:"
   ]
  },
  {
   "cell_type": "code",
   "execution_count": 34,
   "metadata": {
    "id": "-8PuNWQ0_Zct"
   },
   "outputs": [
    {
     "name": "stdout",
     "output_type": "stream",
     "text": [
      "0 явных дубликатов\n"
     ]
    }
   ],
   "source": [
    "print('{} явных дубликатов'.format(df.duplicated().sum())) # проверка на отсутствие дубликатов"
   ]
  },
  {
   "cell_type": "markdown",
   "metadata": {
    "id": "QlFBsxAr_Zct"
   },
   "source": [
    "Теперь избавьтесь от неявных дубликатов в колонке `genre`. Например, название одного и того же жанра может быть записано немного по-разному. Такие ошибки тоже повлияют на результат исследования."
   ]
  },
  {
   "cell_type": "markdown",
   "metadata": {
    "id": "eSjWwsOh_Zct"
   },
   "source": [
    "Выведите на экран список уникальных названий жанров, отсортированный в алфавитном порядке. Для этого:\n",
    "* извлеките нужный столбец датафрейма, \n",
    "* примените к нему метод сортировки,\n",
    "* для отсортированного столбца вызовите метод, который вернёт уникальные значения из столбца."
   ]
  },
  {
   "cell_type": "code",
   "execution_count": 35,
   "metadata": {
    "id": "JIUcqzZN_Zct"
   },
   "outputs": [
    {
     "data": {
      "text/plain": [
       "array(['acid', 'acoustic', 'action', 'adult', 'africa', 'afrikaans',\n",
       "       'alternative', 'alternativepunk', 'ambient', 'americana',\n",
       "       'animated', 'anime', 'arabesk', 'arabic', 'arena',\n",
       "       'argentinetango', 'art', 'audiobook', 'author', 'avantgarde',\n",
       "       'axé', 'baile', 'balkan', 'beats', 'bigroom', 'black', 'bluegrass',\n",
       "       'blues', 'bollywood', 'bossa', 'brazilian', 'breakbeat', 'breaks',\n",
       "       'broadway', 'cantautori', 'cantopop', 'canzone', 'caribbean',\n",
       "       'caucasian', 'celtic', 'chamber', 'chanson', 'children', 'chill',\n",
       "       'chinese', 'choral', 'christian', 'christmas', 'classical',\n",
       "       'classicmetal', 'club', 'colombian', 'comedy', 'conjazz',\n",
       "       'contemporary', 'country', 'cuban', 'dance', 'dancehall',\n",
       "       'dancepop', 'dark', 'death', 'deep', 'deutschrock', 'deutschspr',\n",
       "       'dirty', 'disco', 'dnb', 'documentary', 'downbeat', 'downtempo',\n",
       "       'drum', 'dub', 'dubstep', 'eastern', 'easy', 'electronic',\n",
       "       'electropop', 'emo', 'entehno', 'epicmetal', 'estrada', 'ethnic',\n",
       "       'eurofolk', 'european', 'experimental', 'extrememetal', 'fado',\n",
       "       'fairytail', 'film', 'fitness', 'flamenco', 'folk', 'folklore',\n",
       "       'folkmetal', 'folkrock', 'folktronica', 'forró', 'frankreich',\n",
       "       'französisch', 'french', 'funk', 'future', 'gangsta', 'garage',\n",
       "       'german', 'ghazal', 'gitarre', 'glitch', 'gospel', 'gothic',\n",
       "       'grime', 'grunge', 'gypsy', 'handsup', \"hard'n'heavy\", 'hardcore',\n",
       "       'hardstyle', 'hardtechno', 'hip', 'hip-hop', 'hiphop',\n",
       "       'historisch', 'holiday', 'hop', 'horror', 'house', 'hymn', 'idm',\n",
       "       'independent', 'indian', 'indie', 'indipop', 'industrial',\n",
       "       'inspirational', 'instrumental', 'international', 'irish', 'jam',\n",
       "       'japanese', 'jazz', 'jewish', 'jpop', 'jungle', 'k-pop',\n",
       "       'karadeniz', 'karaoke', 'kayokyoku', 'korean', 'laiko', 'latin',\n",
       "       'latino', 'leftfield', 'local', 'lounge', 'loungeelectronic',\n",
       "       'lovers', 'malaysian', 'mandopop', 'marschmusik', 'meditative',\n",
       "       'mediterranean', 'melodic', 'metal', 'metalcore', 'mexican',\n",
       "       'middle', 'minimal', 'miscellaneous', 'modern', 'mood', 'mpb',\n",
       "       'muslim', 'native', 'neoklassik', 'neue', 'new', 'newage',\n",
       "       'newwave', 'nu', 'nujazz', 'numetal', 'oceania', 'old', 'opera',\n",
       "       'orchestral', 'other', 'piano', 'podcasts', 'pop', 'popdance',\n",
       "       'popelectronic', 'popeurodance', 'poprussian', 'post',\n",
       "       'posthardcore', 'postrock', 'power', 'progmetal', 'progressive',\n",
       "       'psychedelic', 'punjabi', 'punk', 'quebecois', 'ragga', 'ram',\n",
       "       'rancheras', 'rap', 'rave', 'reggae', 'reggaeton', 'regional',\n",
       "       'relax', 'religious', 'retro', 'rhythm', 'rnb', 'rnr', 'rock',\n",
       "       'rockabilly', 'rockalternative', 'rockindie', 'rockother',\n",
       "       'romance', 'roots', 'ruspop', 'rusrap', 'rusrock', 'russian',\n",
       "       'salsa', 'samba', 'scenic', 'schlager', 'self', 'sertanejo',\n",
       "       'shanson', 'shoegazing', 'showtunes', 'singer', 'ska', 'skarock',\n",
       "       'slow', 'smooth', 'soft', 'soul', 'soulful', 'sound', 'soundtrack',\n",
       "       'southern', 'specialty', 'speech', 'spiritual', 'sport',\n",
       "       'stonerrock', 'surf', 'swing', 'synthpop', 'synthrock',\n",
       "       'sängerportrait', 'tango', 'tanzorchester', 'taraftar', 'tatar',\n",
       "       'tech', 'techno', 'teen', 'thrash', 'top', 'traditional',\n",
       "       'tradjazz', 'trance', 'tribal', 'trip', 'triphop', 'tropical',\n",
       "       'türk', 'türkçe', 'ukrrock', 'unknown', 'urban', 'uzbek',\n",
       "       'variété', 'vi', 'videogame', 'vocal', 'western', 'world',\n",
       "       'worldbeat', 'ïîï', 'электроника'], dtype=object)"
      ]
     },
     "execution_count": 35,
     "metadata": {},
     "output_type": "execute_result"
    }
   ],
   "source": [
    "# Просмотр уникальных названий жанров\n",
    "genre_grouping = df['genre'].sort_values().unique()\n",
    "genre_grouping"
   ]
  },
  {
   "cell_type": "markdown",
   "metadata": {
    "id": "qej-Qmuo_Zct"
   },
   "source": [
    "Просмотрите список и найдите неявные дубликаты названия `hiphop`. Это могут быть названия с ошибками или альтернативные названия того же жанра.\n",
    "\n",
    "Вы увидите следующие неявные дубликаты:\n",
    "* *hip*,\n",
    "* *hop*,\n",
    "* *hip-hop*.\n",
    "\n",
    "Чтобы очистить от них таблицу, напишите функцию `replace_wrong_genres()` с двумя параметрами: \n",
    "* `wrong_genres` — список дубликатов,\n",
    "* `correct_genre` — строка с правильным значением.\n",
    "\n",
    "Функция должна исправить колонку `genre` в таблице `df`: заменить каждое значение из списка `wrong_genres` на значение из `correct_genre`."
   ]
  },
  {
   "cell_type": "code",
   "execution_count": 36,
   "metadata": {
    "id": "ErNDkmns_Zct"
   },
   "outputs": [],
   "source": [
    "# Функция для замены неявных дубликатов\n",
    "def replace_wrong_genres(wrong_genres, correct_genre):\n",
    "    for wrong_genre in wrong_genres:\n",
    "        df['genre'] = df['genre'].replace(wrong_genre, correct_genre)"
   ]
  },
  {
   "cell_type": "markdown",
   "metadata": {
    "id": "aDoBJxbA_Zct"
   },
   "source": [
    "Вызовите `replace_wrong_genres()` и передайте ей такие аргументы, чтобы она устранила неявные дубликаты: вместо `hip`, `hop` и `hip-hop` в таблице должно быть значение `hiphop`:"
   ]
  },
  {
   "cell_type": "code",
   "execution_count": 37,
   "metadata": {
    "id": "YN5i2hpmSo09"
   },
   "outputs": [],
   "source": [
    "# Устранение неявных дубликатов\n",
    "wrong_genres = ['hip', 'hop', 'hip-hop']\n",
    "replace_wrong_genres(wrong_genres, 'hiphop')\n",
    "\n",
    "df['genre'] = df['genre'].replace('электроника', 'electronic')\n",
    "df['genre'] = df['genre'].replace('ïîï', 'pop')"
   ]
  },
  {
   "cell_type": "markdown",
   "metadata": {
    "id": "zQKF16_RG15m"
   },
   "source": [
    "Проверьте, что заменили неправильные названия:\n",
    "\n",
    "*   hip\n",
    "*   hop\n",
    "*   hip-hop\n",
    "\n",
    "Выведите отсортированный список уникальных значений столбца `genre`:"
   ]
  },
  {
   "cell_type": "code",
   "execution_count": 38,
   "metadata": {
    "id": "wvixALnFG15m"
   },
   "outputs": [
    {
     "data": {
      "text/plain": [
       "array(['acid', 'acoustic', 'action', 'adult', 'africa', 'afrikaans',\n",
       "       'alternative', 'alternativepunk', 'ambient', 'americana',\n",
       "       'animated', 'anime', 'arabesk', 'arabic', 'arena',\n",
       "       'argentinetango', 'art', 'audiobook', 'author', 'avantgarde',\n",
       "       'axé', 'baile', 'balkan', 'beats', 'bigroom', 'black', 'bluegrass',\n",
       "       'blues', 'bollywood', 'bossa', 'brazilian', 'breakbeat', 'breaks',\n",
       "       'broadway', 'cantautori', 'cantopop', 'canzone', 'caribbean',\n",
       "       'caucasian', 'celtic', 'chamber', 'chanson', 'children', 'chill',\n",
       "       'chinese', 'choral', 'christian', 'christmas', 'classical',\n",
       "       'classicmetal', 'club', 'colombian', 'comedy', 'conjazz',\n",
       "       'contemporary', 'country', 'cuban', 'dance', 'dancehall',\n",
       "       'dancepop', 'dark', 'death', 'deep', 'deutschrock', 'deutschspr',\n",
       "       'dirty', 'disco', 'dnb', 'documentary', 'downbeat', 'downtempo',\n",
       "       'drum', 'dub', 'dubstep', 'eastern', 'easy', 'electronic',\n",
       "       'electropop', 'emo', 'entehno', 'epicmetal', 'estrada', 'ethnic',\n",
       "       'eurofolk', 'european', 'experimental', 'extrememetal', 'fado',\n",
       "       'fairytail', 'film', 'fitness', 'flamenco', 'folk', 'folklore',\n",
       "       'folkmetal', 'folkrock', 'folktronica', 'forró', 'frankreich',\n",
       "       'französisch', 'french', 'funk', 'future', 'gangsta', 'garage',\n",
       "       'german', 'ghazal', 'gitarre', 'glitch', 'gospel', 'gothic',\n",
       "       'grime', 'grunge', 'gypsy', 'handsup', \"hard'n'heavy\", 'hardcore',\n",
       "       'hardstyle', 'hardtechno', 'hiphop', 'historisch', 'holiday',\n",
       "       'horror', 'house', 'hymn', 'idm', 'independent', 'indian', 'indie',\n",
       "       'indipop', 'industrial', 'inspirational', 'instrumental',\n",
       "       'international', 'irish', 'jam', 'japanese', 'jazz', 'jewish',\n",
       "       'jpop', 'jungle', 'k-pop', 'karadeniz', 'karaoke', 'kayokyoku',\n",
       "       'korean', 'laiko', 'latin', 'latino', 'leftfield', 'local',\n",
       "       'lounge', 'loungeelectronic', 'lovers', 'malaysian', 'mandopop',\n",
       "       'marschmusik', 'meditative', 'mediterranean', 'melodic', 'metal',\n",
       "       'metalcore', 'mexican', 'middle', 'minimal', 'miscellaneous',\n",
       "       'modern', 'mood', 'mpb', 'muslim', 'native', 'neoklassik', 'neue',\n",
       "       'new', 'newage', 'newwave', 'nu', 'nujazz', 'numetal', 'oceania',\n",
       "       'old', 'opera', 'orchestral', 'other', 'piano', 'podcasts', 'pop',\n",
       "       'popdance', 'popelectronic', 'popeurodance', 'poprussian', 'post',\n",
       "       'posthardcore', 'postrock', 'power', 'progmetal', 'progressive',\n",
       "       'psychedelic', 'punjabi', 'punk', 'quebecois', 'ragga', 'ram',\n",
       "       'rancheras', 'rap', 'rave', 'reggae', 'reggaeton', 'regional',\n",
       "       'relax', 'religious', 'retro', 'rhythm', 'rnb', 'rnr', 'rock',\n",
       "       'rockabilly', 'rockalternative', 'rockindie', 'rockother',\n",
       "       'romance', 'roots', 'ruspop', 'rusrap', 'rusrock', 'russian',\n",
       "       'salsa', 'samba', 'scenic', 'schlager', 'self', 'sertanejo',\n",
       "       'shanson', 'shoegazing', 'showtunes', 'singer', 'ska', 'skarock',\n",
       "       'slow', 'smooth', 'soft', 'soul', 'soulful', 'sound', 'soundtrack',\n",
       "       'southern', 'specialty', 'speech', 'spiritual', 'sport',\n",
       "       'stonerrock', 'surf', 'swing', 'synthpop', 'synthrock',\n",
       "       'sängerportrait', 'tango', 'tanzorchester', 'taraftar', 'tatar',\n",
       "       'tech', 'techno', 'teen', 'thrash', 'top', 'traditional',\n",
       "       'tradjazz', 'trance', 'tribal', 'trip', 'triphop', 'tropical',\n",
       "       'türk', 'türkçe', 'ukrrock', 'unknown', 'urban', 'uzbek',\n",
       "       'variété', 'vi', 'videogame', 'vocal', 'western', 'world',\n",
       "       'worldbeat'], dtype=object)"
      ]
     },
     "execution_count": 38,
     "metadata": {},
     "output_type": "execute_result"
    }
   ],
   "source": [
    "# Проверка на неявные дубликаты\n",
    "df['genre'].sort_values().unique()"
   ]
  },
  {
   "cell_type": "markdown",
   "metadata": {
    "id": "jz6a9-7HQUDd"
   },
   "source": [
    "**Выводы**\n",
    "\n",
    "Предобработка обнаружила три проблемы в данных:\n",
    "\n",
    "- нарушения в стиле заголовков,\n",
    "- пропущенные значения,\n",
    "- дубликаты — явные и неявные.\n",
    "\n",
    "Вы исправили заголовки, чтобы упростить работу с таблицей. Без дубликатов исследование станет более точным.\n",
    "\n",
    "Пропущенные значения вы заменили на `'unknown'`. Ещё предстоит увидеть, не повредят ли исследованию пропуски в колонке `genre`.\n",
    "\n",
    "Теперь можно перейти к проверке гипотез. "
   ]
  },
  {
   "cell_type": "markdown",
   "metadata": {
    "id": "WttZHXH0SqKk"
   },
   "source": [
    "## Проверка гипотез"
   ]
  },
  {
   "cell_type": "markdown",
   "metadata": {
    "id": "Im936VVi_Zcu"
   },
   "source": [
    "### Сравнение поведения пользователей двух столиц"
   ]
  },
  {
   "cell_type": "markdown",
   "metadata": {
    "id": "nwt_MuaL_Zcu"
   },
   "source": [
    "Первая гипотеза утверждает, что пользователи по-разному слушают музыку в Москве и Санкт-Петербурге. Проверьте это предположение по данным о трёх днях недели — понедельнике, среде и пятнице. Для этого:\n",
    "\n",
    "* Разделите пользователей Москвы и Санкт-Петербурга\n",
    "* Сравните, сколько треков послушала каждая группа пользователей в понедельник, среду и пятницу.\n"
   ]
  },
  {
   "cell_type": "markdown",
   "metadata": {
    "id": "8Dw_YMmT_Zcu"
   },
   "source": [
    "Для тренировки сначала выполните каждый из расчётов по отдельности. \n",
    "\n",
    "Оцените активность пользователей в каждом городе. Сгруппируйте данные по городу и посчитайте прослушивания в каждой группе.\n",
    "\n"
   ]
  },
  {
   "cell_type": "code",
   "execution_count": 39,
   "metadata": {
    "id": "0_Qs96oh_Zcu",
    "scrolled": true
   },
   "outputs": [
    {
     "data": {
      "text/plain": [
       "city\n",
       "Moscow              42741\n",
       "Saint-Petersburg    18512\n",
       "Name: city, dtype: int64"
      ]
     },
     "execution_count": 39,
     "metadata": {},
     "output_type": "execute_result"
    }
   ],
   "source": [
    "# Подсчёт прослушиваний в каждом городе\n",
    "general_count = df.groupby('city')['city'].count()\n",
    "general_count\n"
   ]
  },
  {
   "cell_type": "markdown",
   "metadata": {
    "id": "dzli3w8o_Zcu"
   },
   "source": [
    "В Москве прослушиваний больше, чем в Петербурге. Из этого не следует, что московские пользователи чаще слушают музыку. Просто самих пользователей в Москве больше.\n",
    "\n",
    "Теперь сгруппируйте данные по дню недели и подсчитайте прослушивания в понедельник, среду и пятницу. Учтите, что в данных есть информация только о прослушиваниях только за эти дни.\n"
   ]
  },
  {
   "cell_type": "code",
   "execution_count": 40,
   "metadata": {
    "id": "uZMKjiJz_Zcu",
    "scrolled": true
   },
   "outputs": [
    {
     "name": "stdout",
     "output_type": "stream",
     "text": [
      "day\n",
      "Friday       21840\n",
      "Monday       21354\n",
      "Wednesday    18059\n",
      "Name: day, dtype: int64\n"
     ]
    }
   ],
   "source": [
    "# Подсчёт прослушиваний в каждый из трёх дней\n",
    "print(df.groupby('day')['day'].count())"
   ]
  },
  {
   "cell_type": "markdown",
   "metadata": {
    "id": "cC2tNrlL_Zcu"
   },
   "source": [
    "В среднем пользователи из двух городов менее активны по средам. Но картина может измениться, если рассмотреть каждый город в отдельности."
   ]
  },
  {
   "cell_type": "markdown",
   "metadata": {
    "id": "POzs8bGa_Zcu"
   },
   "source": [
    "Вы видели, как работает группировка по городу и по дням недели. Теперь напишите функцию, которая объединит два эти расчёта.\n",
    "\n",
    "Создайте функцию `number_tracks()`, которая посчитает прослушивания для заданного дня и города. Ей понадобятся два параметра:\n",
    "* день недели,\n",
    "* название города.\n",
    "\n",
    "В функции сохраните в переменную строки исходной таблицы, у которых значение:\n",
    "  * в колонке `day` равно параметру `day`,\n",
    "  * в колонке `city` равно параметру `city`.\n",
    "\n",
    "Для этого примените последовательную фильтрацию с логической индексацией.\n",
    "\n",
    "Затем посчитайте значения в столбце `user_id` получившейся таблицы. Результат сохраните в новую переменную. Верните эту переменную из функции."
   ]
  },
  {
   "cell_type": "code",
   "execution_count": 41,
   "metadata": {
    "id": "Nz3GdQB1_Zcu"
   },
   "outputs": [],
   "source": [
    "# <создание функции number_tracks()>\n",
    "def number_tracks(table, day, city):\n",
    "    track_list = table[(table['day'] == day) & (table['city'] == city)]\n",
    "    track_list_count = track_list['user_id'].count()\n",
    "    return track_list_count\n",
    "    \n",
    "# Объявляется функция с двумя параметрами: day, city.\n",
    "# В переменной track_list сохраняются те строки таблицы df, для которых \n",
    "# значение в столбце 'day' равно параметру day и одновременно значение\n",
    "# в столбце 'city' равно параметру city (используйте последовательную фильтрацию\n",
    "# с помощью логической индексации).\n",
    "# В переменной track_list_count сохраняется число значений столбца 'user_id',\n",
    "# рассчитанное методом count() для таблицы track_list.\n",
    "# Функция возвращает число - значение track_list_count.\n",
    "\n",
    "# Функция для подсчёта прослушиваний для конкретного города и дня.\n",
    "# С помощью последовательной фильтрации с логической индексацией она \n",
    "# сначала получит из исходной таблицы строки с нужным днём,\n",
    "# затем из результата отфильтрует строки с нужным городом,\n",
    "# методом count() посчитает количество значений в колонке user_id. \n",
    "# Это количество функция вернёт в качестве результата"
   ]
  },
  {
   "cell_type": "markdown",
   "metadata": {
    "id": "ytf7xFrFJQ2r"
   },
   "source": [
    "Вызовите `number_tracks()` шесть раз, меняя значение параметров — так, чтобы получить данные для каждого города в каждый из трёх дней."
   ]
  },
  {
   "cell_type": "code",
   "execution_count": 42,
   "metadata": {
    "id": "rJcRATNQ_Zcu"
   },
   "outputs": [],
   "source": [
    "# количество прослушиваний в Москве по понедельникам\n",
    "mos_mon = number_tracks(df, 'Monday', 'Moscow')"
   ]
  },
  {
   "cell_type": "code",
   "execution_count": 43,
   "metadata": {
    "id": "hq_ncZ5T_Zcu"
   },
   "outputs": [],
   "source": [
    "# количество прослушиваний в Санкт-Петербурге по понедельникам\n",
    "spb_mon = number_tracks(df, 'Monday', 'Saint-Petersburg')"
   ]
  },
  {
   "cell_type": "code",
   "execution_count": 44,
   "metadata": {
    "id": "_NTy2VPU_Zcu"
   },
   "outputs": [],
   "source": [
    "# количество прослушиваний в Москве по средам\n",
    "mos_wed = number_tracks(df, 'Wednesday', 'Moscow')"
   ]
  },
  {
   "cell_type": "code",
   "execution_count": 45,
   "metadata": {
    "id": "j2y3TAwo_Zcu"
   },
   "outputs": [],
   "source": [
    "# количество прослушиваний в Санкт-Петербурге по средам\n",
    "spb_wed = number_tracks(df, 'Wednesday', 'Saint-Petersburg')"
   ]
  },
  {
   "cell_type": "code",
   "execution_count": 46,
   "metadata": {
    "id": "vYDw5u_K_Zcu"
   },
   "outputs": [],
   "source": [
    "# количество прослушиваний в Москве по пятницам\n",
    "mos_fri = number_tracks(df, 'Friday', 'Moscow')"
   ]
  },
  {
   "cell_type": "code",
   "execution_count": 47,
   "metadata": {
    "id": "8_yzFtW3_Zcu"
   },
   "outputs": [],
   "source": [
    "# количество прослушиваний в Санкт-Петербурге по пятницам\n",
    "spb_fri = number_tracks(df, 'Friday', 'Saint-Petersburg')"
   ]
  },
  {
   "cell_type": "markdown",
   "metadata": {
    "id": "7QXffbO-_Zcu"
   },
   "source": [
    "Создайте c помощью конструктора `pd.DataFrame` таблицу, где\n",
    "* названия колонок — `['city', 'monday', 'wednesday', 'friday']`;\n",
    "* данные — результаты, которые вы получили с помощью `number_tracks`."
   ]
  },
  {
   "cell_type": "code",
   "execution_count": 48,
   "metadata": {
    "id": "APAcLpOr_Zcu"
   },
   "outputs": [
    {
     "data": {
      "text/html": [
       "<div>\n",
       "<style scoped>\n",
       "    .dataframe tbody tr th:only-of-type {\n",
       "        vertical-align: middle;\n",
       "    }\n",
       "\n",
       "    .dataframe tbody tr th {\n",
       "        vertical-align: top;\n",
       "    }\n",
       "\n",
       "    .dataframe thead th {\n",
       "        text-align: right;\n",
       "    }\n",
       "</style>\n",
       "<table border=\"1\" class=\"dataframe\">\n",
       "  <thead>\n",
       "    <tr style=\"text-align: right;\">\n",
       "      <th></th>\n",
       "      <th>city</th>\n",
       "      <th>monday</th>\n",
       "      <th>wednesday</th>\n",
       "      <th>friday</th>\n",
       "    </tr>\n",
       "  </thead>\n",
       "  <tbody>\n",
       "    <tr>\n",
       "      <td>0</td>\n",
       "      <td>Moscow</td>\n",
       "      <td>15740</td>\n",
       "      <td>11056</td>\n",
       "      <td>15945</td>\n",
       "    </tr>\n",
       "    <tr>\n",
       "      <td>1</td>\n",
       "      <td>Saint-Petersburg</td>\n",
       "      <td>5614</td>\n",
       "      <td>7003</td>\n",
       "      <td>5895</td>\n",
       "    </tr>\n",
       "  </tbody>\n",
       "</table>\n",
       "</div>"
      ],
      "text/plain": [
       "               city  monday  wednesday  friday\n",
       "0            Moscow   15740      11056   15945\n",
       "1  Saint-Petersburg    5614       7003    5895"
      ]
     },
     "metadata": {},
     "output_type": "display_data"
    }
   ],
   "source": [
    "# Таблица с результатами\n",
    "columns = ['city', 'monday', 'wednesday', 'friday']\n",
    "day_city_data = [['Moscow', mos_mon, mos_wed, mos_fri], ['Saint-Petersburg', spb_mon, spb_wed, spb_fri]]\n",
    "day_city_result = pd.DataFrame(data=day_city_data, columns=columns)\n",
    "display(day_city_result)"
   ]
  },
  {
   "cell_type": "markdown",
   "metadata": {
    "id": "-EgPIHYu_Zcu"
   },
   "source": [
    "**Выводы**\n",
    "\n",
    "Данные показывают разницу поведения пользователей:\n",
    "\n",
    "- В Москве пик прослушиваний приходится на понедельник и пятницу, а в среду заметен спад.\n",
    "- В Петербурге, наоборот, больше слушают музыку по средам. Активность в понедельник и пятницу здесь почти в равной мере уступает среде.\n",
    "\n",
    "Значит, данные говорят в пользу первой гипотезы."
   ]
  },
  {
   "cell_type": "markdown",
   "metadata": {
    "id": "atZAxtq4_Zcu"
   },
   "source": [
    "### Музыка в начале и в конце недели"
   ]
  },
  {
   "cell_type": "markdown",
   "metadata": {
    "id": "eXrQqXFH_Zcu"
   },
   "source": [
    "Согласно второй гипотезе, утром в понедельник в Москве преобладают одни жанры, а в Петербурге — другие. Так же и вечером пятницы преобладают разные жанры — в зависимости от города."
   ]
  },
  {
   "cell_type": "markdown",
   "metadata": {
    "id": "S8UcW6Hw_Zcu"
   },
   "source": [
    "Сохраните таблицы с данными в две переменные:\n",
    "* по Москве — в `moscow_general`;\n",
    "* по Санкт-Петербургу — в `spb_general`."
   ]
  },
  {
   "cell_type": "code",
   "execution_count": 49,
   "metadata": {
    "id": "qeaFfM_P_Zcu"
   },
   "outputs": [],
   "source": [
    "# получение таблицы moscow_general из тех строк таблицы df, \n",
    "# для которых значение в столбце 'city' равно 'Moscow'\n",
    "moscow_general = df[df['city'] == 'Moscow']"
   ]
  },
  {
   "cell_type": "code",
   "execution_count": 50,
   "metadata": {
    "id": "ORaVRKto_Zcu"
   },
   "outputs": [],
   "source": [
    "# получение таблицы spb_general из тех строк таблицы df,\n",
    "# для которых значение в столбце 'city' равно 'Saint-Petersburg'\n",
    "spb_general = df[df['city'] == 'Saint-Petersburg']"
   ]
  },
  {
   "cell_type": "markdown",
   "metadata": {
    "id": "MEJV-CX2_Zcu"
   },
   "source": [
    "Создайте функцию `genre_weekday()` с четырьмя параметрами:\n",
    "* таблица (датафрейм) с данными,\n",
    "* день недели,\n",
    "* начальная временная метка в формате 'hh:mm', \n",
    "* последняя временная метка в формате 'hh:mm'.\n",
    "\n",
    "Функция должна вернуть информацию о топ-10 жанров тех треков, которые прослушивали в указанный день, в промежутке между двумя отметками времени."
   ]
  },
  {
   "cell_type": "code",
   "execution_count": 51,
   "metadata": {
    "id": "laJT9BYl_Zcu"
   },
   "outputs": [],
   "source": [
    "# Объявление функции genre_weekday() с параметрами table, day, time1, time2,\n",
    "# которая возвращает информацию о самых популярных жанрах в указанный день в\n",
    "# заданное время:\n",
    "def genre_weekday(table, day, time1, time2):\n",
    "    genre_df = table[table['day'] == day]\n",
    "    genre_df = genre_df[genre_df['time'] > time1]\n",
    "    genre_df = genre_df[genre_df['time'] < time2]\n",
    "    \n",
    "    genre_df_count = genre_df.groupby('genre')['user_id'].count()\n",
    "    \n",
    "    genre_df_sorted = genre_df_count.sort_values(ascending=False)\n",
    "    \n",
    "    return genre_df_sorted.head(10)\n",
    "# 1) в переменную genre_df сохраняются те строки переданного датафрейма table, для\n",
    "#    которых одновременно:\n",
    "#    - значение в столбце day равно значению аргумента day\n",
    "#    - значение в столбце time больше значения аргумента time1\n",
    "#    - значение в столбце time меньше значения аргумента time2\n",
    "#    Используйте последовательную фильтрацию с помощью логической индексации.\n",
    "# 2) сгруппировать датафрейм genre_df по столбцу genre, взять один из его\n",
    "#    столбцов и посчитать методом count() количество записей для каждого из\n",
    "#    присутствующих жанров, получившийся Series записать в переменную\n",
    "#    genre_df_count\n",
    "# 3) отсортировать genre_df_count по убыванию встречаемости и сохранить\n",
    "#    в переменную genre_df_sorted\n",
    "# 4) вернуть Series из 10 первых значений genre_df_sorted, это будут топ-10\n",
    "#    популярных жанров (в указанный день, в заданное время)"
   ]
  },
  {
   "cell_type": "markdown",
   "metadata": {
    "id": "la2s2_PF_Zcu"
   },
   "source": [
    "Cравните результаты функции `genre_weekday()` для Москвы и Санкт-Петербурга в понедельник утром (с 7:00 до 11:00) и в пятницу вечером (с 17:00 до 23:00):"
   ]
  },
  {
   "cell_type": "code",
   "execution_count": 52,
   "metadata": {
    "id": "yz7itPUQ_Zcu"
   },
   "outputs": [
    {
     "data": {
      "text/plain": [
       "genre\n",
       "pop            781\n",
       "dance          549\n",
       "electronic     480\n",
       "rock           474\n",
       "hiphop         286\n",
       "ruspop         186\n",
       "world          181\n",
       "rusrap         175\n",
       "alternative    164\n",
       "unknown        161\n",
       "Name: user_id, dtype: int64"
      ]
     },
     "execution_count": 52,
     "metadata": {},
     "output_type": "execute_result"
    }
   ],
   "source": [
    "# вызов функции для утра понедельника в Москве (вместо df — таблица moscow_general)\n",
    "# объекты, хранящие время, являются строками и сравниваются как строки\n",
    "# пример вызова: genre_weekday(moscow_general, 'Monday', '07:00', '11:00')\n",
    "genre_weekday(moscow_general, 'Monday', '07:00', '11:00')"
   ]
  },
  {
   "cell_type": "code",
   "execution_count": 53,
   "metadata": {
    "id": "kwUcHPdy_Zcu"
   },
   "outputs": [
    {
     "data": {
      "text/plain": [
       "genre\n",
       "pop            218\n",
       "dance          182\n",
       "rock           162\n",
       "electronic     147\n",
       "hiphop          80\n",
       "ruspop          64\n",
       "alternative     58\n",
       "rusrap          55\n",
       "jazz            44\n",
       "classical       40\n",
       "Name: user_id, dtype: int64"
      ]
     },
     "execution_count": 53,
     "metadata": {},
     "output_type": "execute_result"
    }
   ],
   "source": [
    "# вызов функции для утра понедельника в Петербурге (вместо df — таблица spb_general)\n",
    "genre_weekday(spb_general, 'Monday', '07:00', '11:00')"
   ]
  },
  {
   "cell_type": "code",
   "execution_count": 54,
   "metadata": {
    "id": "EzXVRE1o_Zcu"
   },
   "outputs": [
    {
     "data": {
      "text/plain": [
       "genre\n",
       "pop            713\n",
       "rock           517\n",
       "dance          495\n",
       "electronic     482\n",
       "hiphop         273\n",
       "world          208\n",
       "ruspop         170\n",
       "alternative    163\n",
       "classical      163\n",
       "rusrap         142\n",
       "Name: user_id, dtype: int64"
      ]
     },
     "execution_count": 54,
     "metadata": {},
     "output_type": "execute_result"
    }
   ],
   "source": [
    "# вызов функции для вечера пятницы в Москве\n",
    "genre_weekday(moscow_general, 'Friday', '17:00', '23:00')"
   ]
  },
  {
   "cell_type": "code",
   "execution_count": 55,
   "metadata": {
    "id": "JZaEKu5v_Zcu"
   },
   "outputs": [
    {
     "data": {
      "text/plain": [
       "genre\n",
       "pop            256\n",
       "rock           216\n",
       "electronic     216\n",
       "dance          210\n",
       "hiphop          97\n",
       "alternative     63\n",
       "jazz            61\n",
       "classical       60\n",
       "rusrap          59\n",
       "world           54\n",
       "Name: user_id, dtype: int64"
      ]
     },
     "execution_count": 55,
     "metadata": {},
     "output_type": "execute_result"
    }
   ],
   "source": [
    "# вызов функции для вечера пятницы в Петербурге\n",
    "genre_weekday(spb_general, 'Friday', '17:00', '23:00')"
   ]
  },
  {
   "cell_type": "markdown",
   "metadata": {
    "id": "wrCe4MNX_Zcu"
   },
   "source": [
    "**Выводы**\n",
    "\n",
    "Если сравнить топ-10 жанров в понедельник утром, можно сделать такие выводы:\n",
    "\n",
    "1. В Москве и Петербурге слушают похожую музыку. Единственное отличие — в московский рейтинг вошёл жанр “world”, а в петербургский — джаз и классика.\n",
    "\n",
    "2. В Москве пропущенных значений оказалось так много, что значение `'unknown'` заняло десятое место среди самых популярных жанров. Значит, пропущенные значения занимают существенную долю в данных и угрожают достоверности исследования.\n",
    "\n",
    "Вечер пятницы не меняет эту картину. Некоторые жанры поднимаются немного выше, другие спускаются, но в целом топ-10 остаётся тем же самым.\n",
    "\n",
    "Таким образом, вторая гипотеза подтвердилась лишь частично:\n",
    "* Пользователи слушают похожую музыку в начале недели и в конце.\n",
    "* Разница между Москвой и Петербургом не слишком выражена. В Москве чаще слушают русскую популярную музыку, в Петербурге — джаз.\n",
    "\n",
    "Однако пропуски в данных ставят под сомнение этот результат. В Москве их так много, что рейтинг топ-10 мог бы выглядеть иначе, если бы не утерянные  данные о жанрах."
   ]
  },
  {
   "cell_type": "markdown",
   "metadata": {
    "id": "JolODAqr_Zcu"
   },
   "source": [
    "### Жанровые предпочтения в Москве и Петербурге\n",
    "\n",
    "Гипотеза: Петербург — столица рэпа, музыку этого жанра там слушают чаще, чем в Москве.  А Москва — город контрастов, в котором, тем не менее, преобладает поп-музыка."
   ]
  },
  {
   "cell_type": "markdown",
   "metadata": {
    "id": "DlegSvaT_Zcu"
   },
   "source": [
    "Сгруппируйте таблицу `moscow_general` по жанру и посчитайте прослушивания треков каждого жанра методом `count()`. Затем отсортируйте результат в порядке убывания и сохраните его в таблице `moscow_genres`."
   ]
  },
  {
   "cell_type": "code",
   "execution_count": 56,
   "metadata": {
    "id": "r19lIPke_Zcu"
   },
   "outputs": [],
   "source": [
    "# одной строкой: группировка таблицы moscow_general по столбцу 'genre', \n",
    "# подсчёт числа значений 'genre' в этой группировке методом count(), \n",
    "# сортировка получившегося Series в порядке убывания и сохранение в moscow_genres\n",
    "moscow_genres = moscow_general.groupby('genre')['genre'].count().sort_values(ascending=False)"
   ]
  },
  {
   "cell_type": "markdown",
   "metadata": {
    "id": "6kMuomxTiIr8"
   },
   "source": [
    "Выведите на экран первые десять строк `moscow_genres`:"
   ]
  },
  {
   "cell_type": "code",
   "execution_count": 57,
   "metadata": {
    "id": "WhCSooF8_Zcv"
   },
   "outputs": [
    {
     "data": {
      "text/plain": [
       "genre\n",
       "pop            5893\n",
       "dance          4435\n",
       "rock           3965\n",
       "electronic     3786\n",
       "hiphop         2096\n",
       "classical      1616\n",
       "world          1432\n",
       "alternative    1379\n",
       "ruspop         1372\n",
       "rusrap         1161\n",
       "Name: genre, dtype: int64"
      ]
     },
     "metadata": {},
     "output_type": "display_data"
    }
   ],
   "source": [
    "# просмотр первых 10 строк moscow_genres\n",
    "display(moscow_genres.head(10))"
   ]
  },
  {
   "cell_type": "markdown",
   "metadata": {
    "id": "cnPG2vnN_Zcv"
   },
   "source": [
    "Теперь повторите то же и для Петербурга.\n",
    "\n",
    "Сгруппируйте таблицу `spb_general` по жанру. Посчитайте прослушивания треков каждого жанра. Результат отсортируйте в порядке убывания и сохраните в таблице `spb_genres`:\n"
   ]
  },
  {
   "cell_type": "code",
   "execution_count": 58,
   "metadata": {
    "id": "gluLIpE7_Zcv"
   },
   "outputs": [],
   "source": [
    "# одной строкой: группировка таблицы spb_general по столбцу 'genre', \n",
    "# подсчёт числа значений 'genre' в этой группировке методом count(), \n",
    "# сортировка получившегося Series в порядке убывания и сохранение в spb_genres\n",
    "spb_genres = spb_general.groupby('genre')['genre'].count().sort_values(ascending=False)"
   ]
  },
  {
   "cell_type": "markdown",
   "metadata": {
    "id": "5Doha_ODgyQ8"
   },
   "source": [
    "Выведите на экран первые десять строк `spb_genres`:"
   ]
  },
  {
   "cell_type": "code",
   "execution_count": 59,
   "metadata": {
    "id": "uaGJHjVU_Zcv"
   },
   "outputs": [
    {
     "data": {
      "text/plain": [
       "genre\n",
       "pop            2431\n",
       "dance          1932\n",
       "rock           1879\n",
       "electronic     1737\n",
       "hiphop          960\n",
       "alternative     649\n",
       "classical       646\n",
       "rusrap          564\n",
       "ruspop          538\n",
       "world           515\n",
       "Name: genre, dtype: int64"
      ]
     },
     "metadata": {},
     "output_type": "display_data"
    }
   ],
   "source": [
    "# просмотр первых 10 строк spb_genres\n",
    "display(spb_genres.head(10))"
   ]
  },
  {
   "cell_type": "markdown",
   "metadata": {
    "id": "RY51YJYu_Zcv"
   },
   "source": [
    "**Выводы**"
   ]
  },
  {
   "cell_type": "markdown",
   "metadata": {
    "id": "nVhnJEm__Zcv"
   },
   "source": [
    "Гипотеза частично подтвердилась:\n",
    "* Поп-музыка — самый популярный жанр в Москве, как и предполагала гипотеза. Более того, в топ-10 жанров встречается близкий жанр — русская популярная музыка.\n",
    "* Вопреки ожиданиям, рэп одинаково популярен в Москве и Петербурге. \n"
   ]
  },
  {
   "cell_type": "markdown",
   "metadata": {
    "id": "ykKQ0N65_Zcv"
   },
   "source": [
    "## Итоги исследования"
   ]
  },
  {
   "cell_type": "markdown",
   "metadata": {
    "id": "tjUwbHb3_Zcv"
   },
   "source": [
    "Вы проверили три гипотезы и установили:\n",
    "\n",
    "1. День недели по-разному влияет на активность пользователей в Москве и Петербурге. \n",
    "\n",
    "Первая гипотеза полностью подтвердилась.\n",
    "\n",
    "2. Музыкальные предпочтения не сильно меняются в течение недели — будь то Москва или Петербург. Небольшие различия заметны в начале недели, по понедельникам:\n",
    "* в Москве слушают музыку жанра “world”,\n",
    "* в Петербурге — джаз и классику.\n",
    "\n",
    "Таким образом, вторая гипотеза подтвердилась лишь отчасти. Этот результат мог оказаться иным, если бы не пропуски в данных.\n",
    "\n",
    "3. Во вкусах пользователей Москвы и Петербурга больше общего чем различий. Вопреки ожиданиям, предпочтения жанров в Петербурге напоминают московские.\n",
    "\n",
    "Третья гипотеза не подтвердилась. Если различия в предпочтениях и существуют, на основной массе пользователей они незаметны.\n",
    "\n",
    "**На практике исследования содержат проверки статистических гипотез.**\n",
    "Из данных одного сервиса не всегда можно сделать вывод о всех жителях города.\n",
    "Проверки статистических гипотез покажут, насколько они достоверны, исходя из имеющихся данных. \n",
    "С методами проверок гипотез вы ещё познакомитесь в следующих темах."
   ]
  }
 ],
 "metadata": {
  "ExecuteTimeLog": [
   {
    "duration": 784,
    "start_time": "2021-11-14T11:11:23.831Z"
   },
   {
    "duration": 193,
    "start_time": "2021-11-14T11:12:05.663Z"
   },
   {
    "duration": 26,
    "start_time": "2021-11-14T11:14:49.443Z"
   },
   {
    "duration": 32,
    "start_time": "2021-11-14T11:15:14.047Z"
   },
   {
    "duration": 5,
    "start_time": "2021-11-14T11:19:25.540Z"
   },
   {
    "duration": 51,
    "start_time": "2021-11-14T11:21:18.677Z"
   },
   {
    "duration": 5,
    "start_time": "2021-11-14T11:22:26.305Z"
   },
   {
    "duration": 31,
    "start_time": "2021-11-14T11:24:08.389Z"
   },
   {
    "duration": 5,
    "start_time": "2021-11-14T11:24:10.596Z"
   },
   {
    "duration": 40,
    "start_time": "2021-11-14T11:26:16.466Z"
   },
   {
    "duration": 39,
    "start_time": "2021-11-14T11:26:32.682Z"
   },
   {
    "duration": 30,
    "start_time": "2021-11-14T11:27:01.723Z"
   },
   {
    "duration": 22,
    "start_time": "2021-11-14T11:29:57.216Z"
   },
   {
    "duration": 36,
    "start_time": "2021-11-14T11:30:18.176Z"
   },
   {
    "duration": 90,
    "start_time": "2021-11-14T11:31:29.990Z"
   },
   {
    "duration": 82,
    "start_time": "2021-11-14T11:31:39.082Z"
   },
   {
    "duration": 111,
    "start_time": "2021-11-14T11:32:32.614Z"
   },
   {
    "duration": 85,
    "start_time": "2021-11-14T11:32:49.992Z"
   },
   {
    "duration": 58,
    "start_time": "2021-11-14T11:35:38.249Z"
   },
   {
    "duration": 56,
    "start_time": "2021-11-14T11:35:50.430Z"
   },
   {
    "duration": 532,
    "start_time": "2021-11-14T11:36:52.749Z"
   },
   {
    "duration": 458,
    "start_time": "2021-11-14T11:37:13.770Z"
   },
   {
    "duration": 766,
    "start_time": "2021-11-14T11:37:45.129Z"
   },
   {
    "duration": 429,
    "start_time": "2021-11-14T11:39:17.046Z"
   },
   {
    "duration": 416,
    "start_time": "2021-11-14T11:40:55.104Z"
   },
   {
    "duration": 65,
    "start_time": "2021-11-14T11:41:20.382Z"
   },
   {
    "duration": 10,
    "start_time": "2021-11-14T11:44:52.022Z"
   },
   {
    "duration": 8,
    "start_time": "2021-11-14T11:44:54.383Z"
   },
   {
    "duration": 76,
    "start_time": "2021-11-14T11:45:07.573Z"
   },
   {
    "duration": 7,
    "start_time": "2021-11-14T11:45:19.989Z"
   },
   {
    "duration": 82,
    "start_time": "2021-11-14T11:45:28.213Z"
   },
   {
    "duration": 30,
    "start_time": "2021-11-14T11:46:04.770Z"
   },
   {
    "duration": 368,
    "start_time": "2021-11-14T11:47:13.407Z"
   },
   {
    "duration": 402,
    "start_time": "2021-11-14T11:47:22.051Z"
   },
   {
    "duration": 656,
    "start_time": "2021-11-14T11:47:37.116Z"
   },
   {
    "duration": 7,
    "start_time": "2021-11-14T11:51:19.816Z"
   },
   {
    "duration": 381,
    "start_time": "2021-11-14T11:51:47.494Z"
   },
   {
    "duration": 380,
    "start_time": "2021-11-14T11:52:31.598Z"
   },
   {
    "duration": 389,
    "start_time": "2021-11-14T11:52:47.498Z"
   },
   {
    "duration": 378,
    "start_time": "2021-11-14T11:52:49.755Z"
   },
   {
    "duration": 6,
    "start_time": "2021-11-14T11:52:56.600Z"
   },
   {
    "duration": 17,
    "start_time": "2021-11-14T11:53:05.256Z"
   },
   {
    "duration": 59,
    "start_time": "2021-11-14T11:54:00.940Z"
   },
   {
    "duration": 4,
    "start_time": "2021-11-14T12:00:08.250Z"
   },
   {
    "duration": 13,
    "start_time": "2021-11-14T12:04:07.636Z"
   },
   {
    "duration": 60,
    "start_time": "2021-11-14T12:04:41.130Z"
   },
   {
    "duration": 4,
    "start_time": "2021-11-14T12:05:35.649Z"
   },
   {
    "duration": 14,
    "start_time": "2021-11-14T12:05:37.418Z"
   },
   {
    "duration": 61,
    "start_time": "2021-11-14T12:05:39.422Z"
   },
   {
    "duration": 17,
    "start_time": "2021-11-14T12:07:00.475Z"
   },
   {
    "duration": 60,
    "start_time": "2021-11-14T12:07:03.033Z"
   },
   {
    "duration": 21,
    "start_time": "2021-11-14T12:19:46.466Z"
   },
   {
    "duration": 58,
    "start_time": "2021-11-14T12:19:48.572Z"
   },
   {
    "duration": 434,
    "start_time": "2021-11-14T18:49:12.735Z"
   },
   {
    "duration": 798,
    "start_time": "2021-11-14T18:50:19.727Z"
   },
   {
    "duration": 197,
    "start_time": "2021-11-14T18:50:27.725Z"
   },
   {
    "duration": 27,
    "start_time": "2021-11-14T18:50:30.350Z"
   },
   {
    "duration": 34,
    "start_time": "2021-11-14T18:50:33.391Z"
   },
   {
    "duration": 7,
    "start_time": "2021-11-14T18:50:36.473Z"
   },
   {
    "duration": 46,
    "start_time": "2021-11-14T18:50:38.480Z"
   },
   {
    "duration": 5,
    "start_time": "2021-11-14T18:50:40.623Z"
   },
   {
    "duration": 50,
    "start_time": "2021-11-14T18:50:42.363Z"
   },
   {
    "duration": 39,
    "start_time": "2021-11-14T18:50:44.858Z"
   },
   {
    "duration": 51,
    "start_time": "2021-11-14T18:50:46.436Z"
   },
   {
    "duration": 95,
    "start_time": "2021-11-14T18:50:48.933Z"
   },
   {
    "duration": 120,
    "start_time": "2021-11-14T18:50:50.797Z"
   },
   {
    "duration": 91,
    "start_time": "2021-11-14T18:50:52.904Z"
   },
   {
    "duration": 64,
    "start_time": "2021-11-14T18:50:55.782Z"
   },
   {
    "duration": 4,
    "start_time": "2021-11-14T18:50:59.889Z"
   },
   {
    "duration": 28,
    "start_time": "2021-11-14T18:51:01.633Z"
   },
   {
    "duration": 88,
    "start_time": "2021-11-14T18:51:04.033Z"
   },
   {
    "duration": 92,
    "start_time": "2021-11-14T18:51:07.861Z"
   },
   {
    "duration": 441,
    "start_time": "2021-11-14T18:52:16.641Z"
   },
   {
    "duration": 33,
    "start_time": "2021-11-14T18:53:13.441Z"
   },
   {
    "duration": 35,
    "start_time": "2021-11-14T18:54:23.945Z"
   },
   {
    "duration": 59,
    "start_time": "2021-11-14T18:56:57.787Z"
   },
   {
    "duration": 77,
    "start_time": "2021-11-14T18:57:15.881Z"
   },
   {
    "duration": 44,
    "start_time": "2021-11-14T18:57:29.806Z"
   },
   {
    "duration": 41,
    "start_time": "2021-11-14T18:57:48.775Z"
   },
   {
    "duration": 5,
    "start_time": "2021-11-14T19:06:37.695Z"
   },
   {
    "duration": 299,
    "start_time": "2021-11-14T19:16:26.787Z"
   },
   {
    "duration": 22,
    "start_time": "2021-11-14T19:16:31.726Z"
   },
   {
    "duration": 19,
    "start_time": "2021-11-14T19:16:33.432Z"
   },
   {
    "duration": 18,
    "start_time": "2021-11-14T19:16:34.279Z"
   },
   {
    "duration": 18,
    "start_time": "2021-11-14T19:16:35.033Z"
   },
   {
    "duration": 20,
    "start_time": "2021-11-14T19:16:35.727Z"
   },
   {
    "duration": 22,
    "start_time": "2021-11-14T19:16:36.390Z"
   },
   {
    "duration": 12,
    "start_time": "2021-11-14T19:16:46.268Z"
   },
   {
    "duration": 15,
    "start_time": "2021-11-14T19:18:19.434Z"
   },
   {
    "duration": 15,
    "start_time": "2021-11-14T19:18:21.576Z"
   },
   {
    "duration": 431,
    "start_time": "2021-11-15T06:19:02.379Z"
   },
   {
    "duration": 741,
    "start_time": "2021-11-15T06:20:12.710Z"
   },
   {
    "duration": 174,
    "start_time": "2021-11-15T06:20:13.454Z"
   },
   {
    "duration": 28,
    "start_time": "2021-11-15T06:20:13.631Z"
   },
   {
    "duration": 30,
    "start_time": "2021-11-15T06:20:13.662Z"
   },
   {
    "duration": 4,
    "start_time": "2021-11-15T06:20:13.695Z"
   },
   {
    "duration": 27,
    "start_time": "2021-11-15T06:20:13.701Z"
   },
   {
    "duration": 32,
    "start_time": "2021-11-15T06:20:13.730Z"
   },
   {
    "duration": 33,
    "start_time": "2021-11-15T06:20:13.765Z"
   },
   {
    "duration": 21,
    "start_time": "2021-11-15T06:20:13.801Z"
   },
   {
    "duration": 60,
    "start_time": "2021-11-15T06:20:13.824Z"
   },
   {
    "duration": 105,
    "start_time": "2021-11-15T06:20:13.887Z"
   },
   {
    "duration": 105,
    "start_time": "2021-11-15T06:20:13.994Z"
   },
   {
    "duration": 82,
    "start_time": "2021-11-15T06:20:14.101Z"
   },
   {
    "duration": 56,
    "start_time": "2021-11-15T06:20:14.185Z"
   },
   {
    "duration": 4,
    "start_time": "2021-11-15T06:20:14.260Z"
   },
   {
    "duration": 22,
    "start_time": "2021-11-15T06:20:14.266Z"
   },
   {
    "duration": 79,
    "start_time": "2021-11-15T06:20:14.290Z"
   },
   {
    "duration": 29,
    "start_time": "2021-11-15T06:20:14.371Z"
   },
   {
    "duration": 57,
    "start_time": "2021-11-15T06:20:14.402Z"
   },
   {
    "duration": 4,
    "start_time": "2021-11-15T06:20:14.462Z"
   },
   {
    "duration": 40,
    "start_time": "2021-11-15T06:20:14.468Z"
   },
   {
    "duration": 24,
    "start_time": "2021-11-15T06:20:14.511Z"
   },
   {
    "duration": 19,
    "start_time": "2021-11-15T06:20:14.540Z"
   },
   {
    "duration": 16,
    "start_time": "2021-11-15T06:20:14.562Z"
   },
   {
    "duration": 27,
    "start_time": "2021-11-15T06:20:14.581Z"
   },
   {
    "duration": 17,
    "start_time": "2021-11-15T06:20:14.611Z"
   },
   {
    "duration": 35,
    "start_time": "2021-11-15T06:20:14.630Z"
   },
   {
    "duration": 13,
    "start_time": "2021-11-15T06:20:14.667Z"
   },
   {
    "duration": 20,
    "start_time": "2021-11-15T06:20:14.682Z"
   },
   {
    "duration": 17,
    "start_time": "2021-11-15T06:20:14.704Z"
   },
   {
    "duration": 22,
    "start_time": "2021-11-15T06:20:14.723Z"
   },
   {
    "duration": 17,
    "start_time": "2021-11-15T06:20:14.747Z"
   },
   {
    "duration": 23,
    "start_time": "2021-11-15T06:20:14.767Z"
   },
   {
    "duration": 24,
    "start_time": "2021-11-15T06:20:14.792Z"
   },
   {
    "duration": 9,
    "start_time": "2021-11-15T06:20:14.818Z"
   },
   {
    "duration": 7,
    "start_time": "2021-11-15T06:20:14.829Z"
   },
   {
    "duration": 5,
    "start_time": "2021-11-15T06:20:14.838Z"
   },
   {
    "duration": 6,
    "start_time": "2021-11-15T06:20:14.846Z"
   },
   {
    "duration": 971,
    "start_time": "2021-11-15T06:31:19.118Z"
   },
   {
    "duration": 176,
    "start_time": "2021-11-15T06:31:20.091Z"
   },
   {
    "duration": 24,
    "start_time": "2021-11-15T06:31:20.270Z"
   },
   {
    "duration": 41,
    "start_time": "2021-11-15T06:31:20.297Z"
   },
   {
    "duration": 19,
    "start_time": "2021-11-15T06:31:20.341Z"
   },
   {
    "duration": 27,
    "start_time": "2021-11-15T06:31:20.362Z"
   },
   {
    "duration": 5,
    "start_time": "2021-11-15T06:31:20.392Z"
   },
   {
    "duration": 63,
    "start_time": "2021-11-15T06:31:20.401Z"
   },
   {
    "duration": 23,
    "start_time": "2021-11-15T06:31:20.467Z"
   },
   {
    "duration": 33,
    "start_time": "2021-11-15T06:31:20.492Z"
   },
   {
    "duration": 116,
    "start_time": "2021-11-15T06:31:20.528Z"
   },
   {
    "duration": 113,
    "start_time": "2021-11-15T06:31:20.660Z"
   },
   {
    "duration": 89,
    "start_time": "2021-11-15T06:31:20.776Z"
   },
   {
    "duration": 60,
    "start_time": "2021-11-15T06:31:20.868Z"
   },
   {
    "duration": 3,
    "start_time": "2021-11-15T06:31:20.931Z"
   },
   {
    "duration": 22,
    "start_time": "2021-11-15T06:31:20.959Z"
   },
   {
    "duration": 78,
    "start_time": "2021-11-15T06:31:20.984Z"
   },
   {
    "duration": 30,
    "start_time": "2021-11-15T06:31:21.065Z"
   },
   {
    "duration": 66,
    "start_time": "2021-11-15T06:31:21.098Z"
   },
   {
    "duration": 6,
    "start_time": "2021-11-15T06:31:21.167Z"
   },
   {
    "duration": 26,
    "start_time": "2021-11-15T06:31:21.175Z"
   },
   {
    "duration": 18,
    "start_time": "2021-11-15T06:31:21.204Z"
   },
   {
    "duration": 44,
    "start_time": "2021-11-15T06:31:21.227Z"
   },
   {
    "duration": 16,
    "start_time": "2021-11-15T06:31:21.274Z"
   },
   {
    "duration": 19,
    "start_time": "2021-11-15T06:31:21.293Z"
   },
   {
    "duration": 51,
    "start_time": "2021-11-15T06:31:21.314Z"
   },
   {
    "duration": 13,
    "start_time": "2021-11-15T06:31:21.367Z"
   },
   {
    "duration": 4,
    "start_time": "2021-11-15T06:31:21.383Z"
   },
   {
    "duration": 7,
    "start_time": "2021-11-15T06:31:21.390Z"
   },
   {
    "duration": 8,
    "start_time": "2021-11-15T06:31:21.399Z"
   },
   {
    "duration": 11,
    "start_time": "2021-11-15T06:31:21.409Z"
   },
   {
    "duration": 37,
    "start_time": "2021-11-15T06:31:21.422Z"
   },
   {
    "duration": 3,
    "start_time": "2021-11-15T06:31:21.463Z"
   },
   {
    "duration": 8,
    "start_time": "2021-11-15T06:31:21.469Z"
   },
   {
    "duration": 7,
    "start_time": "2021-11-15T06:31:21.479Z"
   },
   {
    "duration": 7,
    "start_time": "2021-11-15T06:31:21.488Z"
   },
   {
    "duration": 5,
    "start_time": "2021-11-15T06:31:21.497Z"
   },
   {
    "duration": 6,
    "start_time": "2021-11-15T06:31:21.505Z"
   },
   {
    "duration": 27,
    "start_time": "2021-11-15T06:34:38.030Z"
   },
   {
    "duration": 18,
    "start_time": "2021-11-15T06:34:41.568Z"
   },
   {
    "duration": 25,
    "start_time": "2021-11-15T06:34:43.602Z"
   },
   {
    "duration": 17,
    "start_time": "2021-11-15T06:34:45.218Z"
   },
   {
    "duration": 1202,
    "start_time": "2021-11-15T06:37:31.800Z"
   },
   {
    "duration": 11,
    "start_time": "2021-11-15T06:37:38.875Z"
   },
   {
    "duration": 7,
    "start_time": "2021-11-15T06:38:00.883Z"
   },
   {
    "duration": 14,
    "start_time": "2021-11-15T06:38:39.572Z"
   },
   {
    "duration": 6,
    "start_time": "2021-11-15T06:38:57.117Z"
   },
   {
    "duration": 995,
    "start_time": "2021-11-15T06:43:32.364Z"
   },
   {
    "duration": 205,
    "start_time": "2021-11-15T06:43:33.362Z"
   },
   {
    "duration": 26,
    "start_time": "2021-11-15T06:43:33.571Z"
   },
   {
    "duration": 60,
    "start_time": "2021-11-15T06:43:33.600Z"
   },
   {
    "duration": 5,
    "start_time": "2021-11-15T06:43:33.663Z"
   },
   {
    "duration": 33,
    "start_time": "2021-11-15T06:43:33.671Z"
   },
   {
    "duration": 21,
    "start_time": "2021-11-15T06:43:33.706Z"
   },
   {
    "duration": 50,
    "start_time": "2021-11-15T06:43:33.733Z"
   },
   {
    "duration": 33,
    "start_time": "2021-11-15T06:43:33.787Z"
   },
   {
    "duration": 48,
    "start_time": "2021-11-15T06:43:33.823Z"
   },
   {
    "duration": 98,
    "start_time": "2021-11-15T06:43:33.874Z"
   },
   {
    "duration": 111,
    "start_time": "2021-11-15T06:43:33.975Z"
   },
   {
    "duration": 84,
    "start_time": "2021-11-15T06:43:34.089Z"
   },
   {
    "duration": 56,
    "start_time": "2021-11-15T06:43:34.175Z"
   },
   {
    "duration": 26,
    "start_time": "2021-11-15T06:43:34.233Z"
   },
   {
    "duration": 21,
    "start_time": "2021-11-15T06:43:34.262Z"
   },
   {
    "duration": 79,
    "start_time": "2021-11-15T06:43:34.285Z"
   },
   {
    "duration": 29,
    "start_time": "2021-11-15T06:43:34.367Z"
   },
   {
    "duration": 61,
    "start_time": "2021-11-15T06:43:34.399Z"
   },
   {
    "duration": 4,
    "start_time": "2021-11-15T06:43:34.463Z"
   },
   {
    "duration": 39,
    "start_time": "2021-11-15T06:43:34.470Z"
   },
   {
    "duration": 17,
    "start_time": "2021-11-15T06:43:34.511Z"
   },
   {
    "duration": 37,
    "start_time": "2021-11-15T06:43:34.533Z"
   },
   {
    "duration": 17,
    "start_time": "2021-11-15T06:43:34.573Z"
   },
   {
    "duration": 31,
    "start_time": "2021-11-15T06:43:34.592Z"
   },
   {
    "duration": 34,
    "start_time": "2021-11-15T06:43:34.625Z"
   },
   {
    "duration": 12,
    "start_time": "2021-11-15T06:43:34.661Z"
   },
   {
    "duration": 12,
    "start_time": "2021-11-15T06:43:34.676Z"
   },
   {
    "duration": 21,
    "start_time": "2021-11-15T06:43:34.690Z"
   },
   {
    "duration": 8,
    "start_time": "2021-11-15T06:43:34.713Z"
   },
   {
    "duration": 39,
    "start_time": "2021-11-15T06:43:34.723Z"
   },
   {
    "duration": 24,
    "start_time": "2021-11-15T06:43:34.765Z"
   },
   {
    "duration": 23,
    "start_time": "2021-11-15T06:43:34.792Z"
   },
   {
    "duration": 16,
    "start_time": "2021-11-15T06:43:34.817Z"
   },
   {
    "duration": 11,
    "start_time": "2021-11-15T06:43:34.860Z"
   },
   {
    "duration": 17,
    "start_time": "2021-11-15T06:43:34.873Z"
   },
   {
    "duration": 23,
    "start_time": "2021-11-15T06:43:34.892Z"
   },
   {
    "duration": 18,
    "start_time": "2021-11-15T06:43:34.917Z"
   },
   {
    "duration": 1063,
    "start_time": "2021-11-15T06:44:31.312Z"
   },
   {
    "duration": 187,
    "start_time": "2021-11-15T06:44:32.378Z"
   },
   {
    "duration": 26,
    "start_time": "2021-11-15T06:44:32.568Z"
   },
   {
    "duration": 33,
    "start_time": "2021-11-15T06:44:32.598Z"
   },
   {
    "duration": 5,
    "start_time": "2021-11-15T06:44:32.659Z"
   },
   {
    "duration": 28,
    "start_time": "2021-11-15T06:44:32.667Z"
   },
   {
    "duration": 7,
    "start_time": "2021-11-15T06:44:32.698Z"
   },
   {
    "duration": 71,
    "start_time": "2021-11-15T06:44:32.710Z"
   },
   {
    "duration": 21,
    "start_time": "2021-11-15T06:44:32.785Z"
   },
   {
    "duration": 54,
    "start_time": "2021-11-15T06:44:32.808Z"
   },
   {
    "duration": 95,
    "start_time": "2021-11-15T06:44:32.865Z"
   },
   {
    "duration": 104,
    "start_time": "2021-11-15T06:44:32.963Z"
   },
   {
    "duration": 77,
    "start_time": "2021-11-15T06:44:33.069Z"
   },
   {
    "duration": 56,
    "start_time": "2021-11-15T06:44:33.160Z"
   },
   {
    "duration": 4,
    "start_time": "2021-11-15T06:44:33.219Z"
   },
   {
    "duration": 47,
    "start_time": "2021-11-15T06:44:33.226Z"
   },
   {
    "duration": 88,
    "start_time": "2021-11-15T06:44:33.276Z"
   },
   {
    "duration": 40,
    "start_time": "2021-11-15T06:44:33.367Z"
   },
   {
    "duration": 70,
    "start_time": "2021-11-15T06:44:33.409Z"
   },
   {
    "duration": 6,
    "start_time": "2021-11-15T06:44:33.483Z"
   },
   {
    "duration": 27,
    "start_time": "2021-11-15T06:44:33.492Z"
   },
   {
    "duration": 42,
    "start_time": "2021-11-15T06:44:33.522Z"
   },
   {
    "duration": 18,
    "start_time": "2021-11-15T06:44:33.569Z"
   },
   {
    "duration": 18,
    "start_time": "2021-11-15T06:44:33.590Z"
   },
   {
    "duration": 58,
    "start_time": "2021-11-15T06:44:33.610Z"
   },
   {
    "duration": 18,
    "start_time": "2021-11-15T06:44:33.671Z"
   },
   {
    "duration": 13,
    "start_time": "2021-11-15T06:44:33.691Z"
   },
   {
    "duration": 8,
    "start_time": "2021-11-15T06:44:33.707Z"
   },
   {
    "duration": 12,
    "start_time": "2021-11-15T06:44:33.718Z"
   },
   {
    "duration": 27,
    "start_time": "2021-11-15T06:44:33.732Z"
   },
   {
    "duration": 34,
    "start_time": "2021-11-15T06:44:33.762Z"
   },
   {
    "duration": 16,
    "start_time": "2021-11-15T06:44:33.798Z"
   },
   {
    "duration": 48,
    "start_time": "2021-11-15T06:44:33.817Z"
   },
   {
    "duration": 18,
    "start_time": "2021-11-15T06:44:33.867Z"
   },
   {
    "duration": 11,
    "start_time": "2021-11-15T06:44:33.888Z"
   },
   {
    "duration": 6,
    "start_time": "2021-11-15T06:44:33.901Z"
   },
   {
    "duration": 11,
    "start_time": "2021-11-15T06:44:33.910Z"
   },
   {
    "duration": 41,
    "start_time": "2021-11-15T06:44:33.923Z"
   },
   {
    "duration": 1480,
    "start_time": "2021-11-15T12:27:57.179Z"
   },
   {
    "duration": 169,
    "start_time": "2021-11-15T12:28:08.037Z"
   },
   {
    "duration": -42,
    "start_time": "2021-11-15T12:28:08.254Z"
   },
   {
    "duration": -44,
    "start_time": "2021-11-15T12:28:08.259Z"
   },
   {
    "duration": -49,
    "start_time": "2021-11-15T12:28:08.265Z"
   },
   {
    "duration": -48,
    "start_time": "2021-11-15T12:28:08.267Z"
   },
   {
    "duration": -68,
    "start_time": "2021-11-15T12:28:08.288Z"
   },
   {
    "duration": -70,
    "start_time": "2021-11-15T12:28:08.292Z"
   },
   {
    "duration": -72,
    "start_time": "2021-11-15T12:28:08.296Z"
   },
   {
    "duration": -73,
    "start_time": "2021-11-15T12:28:08.299Z"
   },
   {
    "duration": -74,
    "start_time": "2021-11-15T12:28:08.302Z"
   },
   {
    "duration": -75,
    "start_time": "2021-11-15T12:28:08.305Z"
   },
   {
    "duration": -76,
    "start_time": "2021-11-15T12:28:08.308Z"
   },
   {
    "duration": -77,
    "start_time": "2021-11-15T12:28:08.311Z"
   },
   {
    "duration": -78,
    "start_time": "2021-11-15T12:28:08.314Z"
   },
   {
    "duration": -79,
    "start_time": "2021-11-15T12:28:08.317Z"
   },
   {
    "duration": -80,
    "start_time": "2021-11-15T12:28:08.320Z"
   },
   {
    "duration": -82,
    "start_time": "2021-11-15T12:28:08.324Z"
   },
   {
    "duration": -84,
    "start_time": "2021-11-15T12:28:08.327Z"
   },
   {
    "duration": -91,
    "start_time": "2021-11-15T12:28:08.336Z"
   },
   {
    "duration": -93,
    "start_time": "2021-11-15T12:28:08.340Z"
   },
   {
    "duration": -95,
    "start_time": "2021-11-15T12:28:08.343Z"
   },
   {
    "duration": -95,
    "start_time": "2021-11-15T12:28:08.345Z"
   },
   {
    "duration": -89,
    "start_time": "2021-11-15T12:28:08.348Z"
   },
   {
    "duration": -91,
    "start_time": "2021-11-15T12:28:08.352Z"
   },
   {
    "duration": -94,
    "start_time": "2021-11-15T12:28:08.356Z"
   },
   {
    "duration": -95,
    "start_time": "2021-11-15T12:28:08.359Z"
   },
   {
    "duration": -97,
    "start_time": "2021-11-15T12:28:08.362Z"
   },
   {
    "duration": -98,
    "start_time": "2021-11-15T12:28:08.365Z"
   },
   {
    "duration": -99,
    "start_time": "2021-11-15T12:28:08.367Z"
   },
   {
    "duration": -100,
    "start_time": "2021-11-15T12:28:08.370Z"
   },
   {
    "duration": -101,
    "start_time": "2021-11-15T12:28:08.373Z"
   },
   {
    "duration": -102,
    "start_time": "2021-11-15T12:28:08.375Z"
   },
   {
    "duration": -103,
    "start_time": "2021-11-15T12:28:08.378Z"
   },
   {
    "duration": -105,
    "start_time": "2021-11-15T12:28:08.381Z"
   },
   {
    "duration": -106,
    "start_time": "2021-11-15T12:28:08.384Z"
   },
   {
    "duration": -107,
    "start_time": "2021-11-15T12:28:08.387Z"
   },
   {
    "duration": -109,
    "start_time": "2021-11-15T12:28:08.390Z"
   },
   {
    "duration": -110,
    "start_time": "2021-11-15T12:28:08.393Z"
   },
   {
    "duration": -111,
    "start_time": "2021-11-15T12:28:08.395Z"
   },
   {
    "duration": 785,
    "start_time": "2021-11-15T12:28:47.360Z"
   },
   {
    "duration": 182,
    "start_time": "2021-11-15T12:28:48.147Z"
   },
   {
    "duration": 30,
    "start_time": "2021-11-15T12:28:48.332Z"
   },
   {
    "duration": 35,
    "start_time": "2021-11-15T12:28:48.365Z"
   },
   {
    "duration": 5,
    "start_time": "2021-11-15T12:28:48.403Z"
   },
   {
    "duration": 54,
    "start_time": "2021-11-15T12:28:48.410Z"
   },
   {
    "duration": 5,
    "start_time": "2021-11-15T12:28:48.467Z"
   },
   {
    "duration": 30,
    "start_time": "2021-11-15T12:28:48.475Z"
   },
   {
    "duration": 20,
    "start_time": "2021-11-15T12:28:48.509Z"
   },
   {
    "duration": 27,
    "start_time": "2021-11-15T12:28:48.560Z"
   },
   {
    "duration": 94,
    "start_time": "2021-11-15T12:28:48.590Z"
   },
   {
    "duration": 103,
    "start_time": "2021-11-15T12:28:48.686Z"
   },
   {
    "duration": 82,
    "start_time": "2021-11-15T12:28:48.791Z"
   },
   {
    "duration": 56,
    "start_time": "2021-11-15T12:28:48.875Z"
   },
   {
    "duration": 4,
    "start_time": "2021-11-15T12:28:48.933Z"
   },
   {
    "duration": 21,
    "start_time": "2021-11-15T12:28:48.961Z"
   },
   {
    "duration": 75,
    "start_time": "2021-11-15T12:28:48.984Z"
   },
   {
    "duration": 35,
    "start_time": "2021-11-15T12:28:49.061Z"
   },
   {
    "duration": 36,
    "start_time": "2021-11-15T12:28:49.098Z"
   },
   {
    "duration": 4,
    "start_time": "2021-11-15T12:28:49.160Z"
   },
   {
    "duration": 24,
    "start_time": "2021-11-15T12:28:49.166Z"
   },
   {
    "duration": 15,
    "start_time": "2021-11-15T12:28:49.193Z"
   },
   {
    "duration": 16,
    "start_time": "2021-11-15T12:28:49.210Z"
   },
   {
    "duration": 41,
    "start_time": "2021-11-15T12:28:49.228Z"
   },
   {
    "duration": 18,
    "start_time": "2021-11-15T12:28:49.272Z"
   },
   {
    "duration": 19,
    "start_time": "2021-11-15T12:28:49.292Z"
   },
   {
    "duration": 45,
    "start_time": "2021-11-15T12:28:49.316Z"
   },
   {
    "duration": 4,
    "start_time": "2021-11-15T12:28:49.364Z"
   },
   {
    "duration": 5,
    "start_time": "2021-11-15T12:28:49.370Z"
   },
   {
    "duration": 12,
    "start_time": "2021-11-15T12:28:49.377Z"
   },
   {
    "duration": 30,
    "start_time": "2021-11-15T12:28:49.391Z"
   },
   {
    "duration": 40,
    "start_time": "2021-11-15T12:28:49.424Z"
   },
   {
    "duration": 21,
    "start_time": "2021-11-15T12:28:49.466Z"
   },
   {
    "duration": 14,
    "start_time": "2021-11-15T12:28:49.489Z"
   },
   {
    "duration": 23,
    "start_time": "2021-11-15T12:28:49.506Z"
   },
   {
    "duration": 31,
    "start_time": "2021-11-15T12:28:49.531Z"
   },
   {
    "duration": 26,
    "start_time": "2021-11-15T12:28:49.564Z"
   },
   {
    "duration": 22,
    "start_time": "2021-11-15T12:28:49.592Z"
   },
   {
    "duration": 445,
    "start_time": "2021-11-16T06:57:06.240Z"
   },
   {
    "duration": 672,
    "start_time": "2021-11-16T06:57:14.178Z"
   },
   {
    "duration": 140,
    "start_time": "2021-11-16T06:57:14.852Z"
   },
   {
    "duration": 18,
    "start_time": "2021-11-16T06:57:14.994Z"
   },
   {
    "duration": 54,
    "start_time": "2021-11-16T06:57:15.014Z"
   },
   {
    "duration": 5,
    "start_time": "2021-11-16T06:57:15.070Z"
   },
   {
    "duration": 27,
    "start_time": "2021-11-16T06:57:15.076Z"
   },
   {
    "duration": 8,
    "start_time": "2021-11-16T06:57:15.105Z"
   },
   {
    "duration": 25,
    "start_time": "2021-11-16T06:57:15.115Z"
   },
   {
    "duration": 22,
    "start_time": "2021-11-16T06:57:15.142Z"
   },
   {
    "duration": 22,
    "start_time": "2021-11-16T06:57:15.166Z"
   },
   {
    "duration": 70,
    "start_time": "2021-11-16T06:57:15.190Z"
   },
   {
    "duration": 71,
    "start_time": "2021-11-16T06:57:15.262Z"
   },
   {
    "duration": 51,
    "start_time": "2021-11-16T06:57:15.335Z"
   },
   {
    "duration": 46,
    "start_time": "2021-11-16T06:57:15.388Z"
   },
   {
    "duration": 3,
    "start_time": "2021-11-16T06:57:15.436Z"
   },
   {
    "duration": 19,
    "start_time": "2021-11-16T06:57:15.441Z"
   },
   {
    "duration": 52,
    "start_time": "2021-11-16T06:57:15.462Z"
   },
   {
    "duration": 24,
    "start_time": "2021-11-16T06:57:15.515Z"
   },
   {
    "duration": 32,
    "start_time": "2021-11-16T06:57:15.540Z"
   },
   {
    "duration": 3,
    "start_time": "2021-11-16T06:57:15.573Z"
   },
   {
    "duration": 23,
    "start_time": "2021-11-16T06:57:15.606Z"
   },
   {
    "duration": 13,
    "start_time": "2021-11-16T06:57:15.631Z"
   },
   {
    "duration": 14,
    "start_time": "2021-11-16T06:57:15.647Z"
   },
   {
    "duration": 12,
    "start_time": "2021-11-16T06:57:15.663Z"
   },
   {
    "duration": 33,
    "start_time": "2021-11-16T06:57:15.676Z"
   },
   {
    "duration": 14,
    "start_time": "2021-11-16T06:57:15.710Z"
   },
   {
    "duration": 7,
    "start_time": "2021-11-16T06:57:15.726Z"
   },
   {
    "duration": 3,
    "start_time": "2021-11-16T06:57:15.735Z"
   },
   {
    "duration": 4,
    "start_time": "2021-11-16T06:57:15.740Z"
   },
   {
    "duration": 5,
    "start_time": "2021-11-16T06:57:15.746Z"
   },
   {
    "duration": 25,
    "start_time": "2021-11-16T06:57:15.753Z"
   },
   {
    "duration": 35,
    "start_time": "2021-11-16T06:57:15.779Z"
   },
   {
    "duration": 17,
    "start_time": "2021-11-16T06:57:15.815Z"
   },
   {
    "duration": 12,
    "start_time": "2021-11-16T06:57:15.833Z"
   },
   {
    "duration": 7,
    "start_time": "2021-11-16T06:57:15.847Z"
   },
   {
    "duration": 4,
    "start_time": "2021-11-16T06:57:15.856Z"
   },
   {
    "duration": 45,
    "start_time": "2021-11-16T06:57:15.862Z"
   },
   {
    "duration": 4,
    "start_time": "2021-11-16T06:57:15.909Z"
   },
   {
    "duration": 597,
    "start_time": "2021-11-16T06:58:09.759Z"
   },
   {
    "duration": 142,
    "start_time": "2021-11-16T06:58:10.358Z"
   },
   {
    "duration": 19,
    "start_time": "2021-11-16T06:58:10.502Z"
   },
   {
    "duration": 25,
    "start_time": "2021-11-16T06:58:10.523Z"
   },
   {
    "duration": 6,
    "start_time": "2021-11-16T06:58:10.550Z"
   },
   {
    "duration": 24,
    "start_time": "2021-11-16T06:58:10.558Z"
   },
   {
    "duration": 25,
    "start_time": "2021-11-16T06:58:10.583Z"
   },
   {
    "duration": 26,
    "start_time": "2021-11-16T06:58:10.610Z"
   },
   {
    "duration": 18,
    "start_time": "2021-11-16T06:58:10.638Z"
   },
   {
    "duration": 23,
    "start_time": "2021-11-16T06:58:10.658Z"
   },
   {
    "duration": 81,
    "start_time": "2021-11-16T06:58:10.683Z"
   },
   {
    "duration": 90,
    "start_time": "2021-11-16T06:58:10.765Z"
   },
   {
    "duration": 56,
    "start_time": "2021-11-16T06:58:10.857Z"
   },
   {
    "duration": 40,
    "start_time": "2021-11-16T06:58:10.914Z"
   },
   {
    "duration": 3,
    "start_time": "2021-11-16T06:58:10.956Z"
   },
   {
    "duration": 21,
    "start_time": "2021-11-16T06:58:10.960Z"
   },
   {
    "duration": 56,
    "start_time": "2021-11-16T06:58:10.982Z"
   },
   {
    "duration": 25,
    "start_time": "2021-11-16T06:58:11.040Z"
   },
   {
    "duration": 49,
    "start_time": "2021-11-16T06:58:11.067Z"
   },
   {
    "duration": 3,
    "start_time": "2021-11-16T06:58:11.117Z"
   },
   {
    "duration": 24,
    "start_time": "2021-11-16T06:58:11.122Z"
   },
   {
    "duration": 14,
    "start_time": "2021-11-16T06:58:11.148Z"
   },
   {
    "duration": 15,
    "start_time": "2021-11-16T06:58:11.165Z"
   },
   {
    "duration": 38,
    "start_time": "2021-11-16T06:58:11.182Z"
   },
   {
    "duration": 23,
    "start_time": "2021-11-16T06:58:11.222Z"
   },
   {
    "duration": 20,
    "start_time": "2021-11-16T06:58:11.247Z"
   },
   {
    "duration": 38,
    "start_time": "2021-11-16T06:58:11.270Z"
   },
   {
    "duration": 9,
    "start_time": "2021-11-16T06:58:11.310Z"
   },
   {
    "duration": 6,
    "start_time": "2021-11-16T06:58:11.321Z"
   },
   {
    "duration": 5,
    "start_time": "2021-11-16T06:58:11.329Z"
   },
   {
    "duration": 26,
    "start_time": "2021-11-16T06:58:11.335Z"
   },
   {
    "duration": 12,
    "start_time": "2021-11-16T06:58:11.363Z"
   },
   {
    "duration": 33,
    "start_time": "2021-11-16T06:58:11.377Z"
   },
   {
    "duration": 13,
    "start_time": "2021-11-16T06:58:11.411Z"
   },
   {
    "duration": 10,
    "start_time": "2021-11-16T06:58:11.426Z"
   },
   {
    "duration": 10,
    "start_time": "2021-11-16T06:58:11.437Z"
   },
   {
    "duration": 11,
    "start_time": "2021-11-16T06:58:11.448Z"
   },
   {
    "duration": 5,
    "start_time": "2021-11-16T06:58:11.461Z"
   },
   {
    "duration": 42,
    "start_time": "2021-11-16T06:58:25.212Z"
   },
   {
    "duration": 129,
    "start_time": "2021-11-16T06:59:05.770Z"
   },
   {
    "duration": 41,
    "start_time": "2021-11-16T06:59:15.472Z"
   },
   {
    "duration": 40,
    "start_time": "2021-11-16T06:59:28.875Z"
   },
   {
    "duration": 420,
    "start_time": "2021-11-16T07:04:31.289Z"
   },
   {
    "duration": 427,
    "start_time": "2021-11-16T07:06:18.644Z"
   },
   {
    "duration": 357,
    "start_time": "2021-11-16T07:06:32.188Z"
   },
   {
    "duration": 417,
    "start_time": "2021-11-16T07:06:55.023Z"
   },
   {
    "duration": 4704,
    "start_time": "2021-11-16T07:07:38.234Z"
   },
   {
    "duration": 4676,
    "start_time": "2021-11-16T07:07:44.121Z"
   },
   {
    "duration": 5559,
    "start_time": "2021-11-16T07:08:33.629Z"
   },
   {
    "duration": 9,
    "start_time": "2021-11-16T07:08:52.678Z"
   },
   {
    "duration": 12,
    "start_time": "2021-11-16T07:08:59.549Z"
   },
   {
    "duration": 11,
    "start_time": "2021-11-16T07:09:34.032Z"
   },
   {
    "duration": 23,
    "start_time": "2021-11-16T07:11:08.368Z"
   },
   {
    "duration": 9,
    "start_time": "2021-11-16T07:11:54.912Z"
   },
   {
    "duration": 3,
    "start_time": "2021-11-16T07:13:20.864Z"
   },
   {
    "duration": 616,
    "start_time": "2021-11-16T07:14:06.325Z"
   },
   {
    "duration": 143,
    "start_time": "2021-11-16T07:14:06.943Z"
   },
   {
    "duration": 20,
    "start_time": "2021-11-16T07:14:07.088Z"
   },
   {
    "duration": 29,
    "start_time": "2021-11-16T07:14:07.110Z"
   },
   {
    "duration": 4,
    "start_time": "2021-11-16T07:14:07.141Z"
   },
   {
    "duration": 21,
    "start_time": "2021-11-16T07:14:07.147Z"
   },
   {
    "duration": 4,
    "start_time": "2021-11-16T07:14:07.170Z"
   },
   {
    "duration": 53,
    "start_time": "2021-11-16T07:14:07.177Z"
   },
   {
    "duration": 19,
    "start_time": "2021-11-16T07:14:07.232Z"
   },
   {
    "duration": 23,
    "start_time": "2021-11-16T07:14:07.254Z"
   },
   {
    "duration": 64,
    "start_time": "2021-11-16T07:14:07.305Z"
   },
   {
    "duration": 94,
    "start_time": "2021-11-16T07:14:07.372Z"
   },
   {
    "duration": 62,
    "start_time": "2021-11-16T07:14:07.467Z"
   },
   {
    "duration": 43,
    "start_time": "2021-11-16T07:14:07.532Z"
   },
   {
    "duration": 4,
    "start_time": "2021-11-16T07:14:07.577Z"
   },
   {
    "duration": 38,
    "start_time": "2021-11-16T07:14:07.583Z"
   },
   {
    "duration": 41,
    "start_time": "2021-11-16T07:14:07.623Z"
   },
   {
    "duration": 10,
    "start_time": "2021-11-16T07:14:07.666Z"
   },
   {
    "duration": 34,
    "start_time": "2021-11-16T07:14:07.678Z"
   },
   {
    "duration": 4,
    "start_time": "2021-11-16T07:14:07.713Z"
   },
   {
    "duration": 816,
    "start_time": "2021-11-16T07:14:07.719Z"
   },
   {
    "duration": -89,
    "start_time": "2021-11-16T07:14:08.627Z"
   },
   {
    "duration": -100,
    "start_time": "2021-11-16T07:14:08.639Z"
   },
   {
    "duration": -108,
    "start_time": "2021-11-16T07:14:08.648Z"
   },
   {
    "duration": -119,
    "start_time": "2021-11-16T07:14:08.660Z"
   },
   {
    "duration": -126,
    "start_time": "2021-11-16T07:14:08.669Z"
   },
   {
    "duration": -136,
    "start_time": "2021-11-16T07:14:08.680Z"
   },
   {
    "duration": -144,
    "start_time": "2021-11-16T07:14:08.689Z"
   },
   {
    "duration": -153,
    "start_time": "2021-11-16T07:14:08.699Z"
   },
   {
    "duration": -165,
    "start_time": "2021-11-16T07:14:08.712Z"
   },
   {
    "duration": -175,
    "start_time": "2021-11-16T07:14:08.723Z"
   },
   {
    "duration": -201,
    "start_time": "2021-11-16T07:14:08.750Z"
   },
   {
    "duration": -211,
    "start_time": "2021-11-16T07:14:08.762Z"
   },
   {
    "duration": -221,
    "start_time": "2021-11-16T07:14:08.773Z"
   },
   {
    "duration": -231,
    "start_time": "2021-11-16T07:14:08.784Z"
   },
   {
    "duration": -239,
    "start_time": "2021-11-16T07:14:08.793Z"
   },
   {
    "duration": -250,
    "start_time": "2021-11-16T07:14:08.805Z"
   },
   {
    "duration": -259,
    "start_time": "2021-11-16T07:14:08.815Z"
   },
   {
    "duration": 496,
    "start_time": "2021-11-16T07:57:03.651Z"
   },
   {
    "duration": 126,
    "start_time": "2021-11-16T07:57:04.149Z"
   },
   {
    "duration": 17,
    "start_time": "2021-11-16T07:57:04.277Z"
   },
   {
    "duration": 27,
    "start_time": "2021-11-16T07:57:04.296Z"
   },
   {
    "duration": 15,
    "start_time": "2021-11-16T07:57:04.325Z"
   },
   {
    "duration": 33,
    "start_time": "2021-11-16T07:57:04.341Z"
   },
   {
    "duration": 11,
    "start_time": "2021-11-16T07:57:04.376Z"
   },
   {
    "duration": 22,
    "start_time": "2021-11-16T07:57:04.389Z"
   },
   {
    "duration": 27,
    "start_time": "2021-11-16T07:57:04.413Z"
   },
   {
    "duration": 25,
    "start_time": "2021-11-16T07:57:04.441Z"
   },
   {
    "duration": 84,
    "start_time": "2021-11-16T07:57:04.468Z"
   },
   {
    "duration": 57,
    "start_time": "2021-11-16T07:57:04.554Z"
   },
   {
    "duration": 46,
    "start_time": "2021-11-16T07:57:04.613Z"
   },
   {
    "duration": 50,
    "start_time": "2021-11-16T07:57:04.661Z"
   },
   {
    "duration": 2,
    "start_time": "2021-11-16T07:57:04.713Z"
   },
   {
    "duration": 15,
    "start_time": "2021-11-16T07:57:04.716Z"
   },
   {
    "duration": 37,
    "start_time": "2021-11-16T07:57:04.732Z"
   },
   {
    "duration": 10,
    "start_time": "2021-11-16T07:57:04.790Z"
   },
   {
    "duration": 8,
    "start_time": "2021-11-16T07:57:04.802Z"
   },
   {
    "duration": 3,
    "start_time": "2021-11-16T07:57:04.811Z"
   },
   {
    "duration": 417,
    "start_time": "2021-11-16T07:57:04.816Z"
   },
   {
    "duration": -33573,
    "start_time": "2021-11-16T07:57:38.808Z"
   },
   {
    "duration": -33574,
    "start_time": "2021-11-16T07:57:38.810Z"
   },
   {
    "duration": -33576,
    "start_time": "2021-11-16T07:57:38.813Z"
   },
   {
    "duration": -33577,
    "start_time": "2021-11-16T07:57:38.816Z"
   },
   {
    "duration": -33579,
    "start_time": "2021-11-16T07:57:38.819Z"
   },
   {
    "duration": -33580,
    "start_time": "2021-11-16T07:57:38.821Z"
   },
   {
    "duration": -33582,
    "start_time": "2021-11-16T07:57:38.824Z"
   },
   {
    "duration": -33583,
    "start_time": "2021-11-16T07:57:38.826Z"
   },
   {
    "duration": -33584,
    "start_time": "2021-11-16T07:57:38.828Z"
   },
   {
    "duration": -33585,
    "start_time": "2021-11-16T07:57:38.830Z"
   },
   {
    "duration": -33587,
    "start_time": "2021-11-16T07:57:38.833Z"
   },
   {
    "duration": -33589,
    "start_time": "2021-11-16T07:57:38.836Z"
   },
   {
    "duration": -33594,
    "start_time": "2021-11-16T07:57:38.842Z"
   },
   {
    "duration": -33596,
    "start_time": "2021-11-16T07:57:38.845Z"
   },
   {
    "duration": -33598,
    "start_time": "2021-11-16T07:57:38.848Z"
   },
   {
    "duration": -33601,
    "start_time": "2021-11-16T07:57:38.852Z"
   },
   {
    "duration": -33602,
    "start_time": "2021-11-16T07:57:38.854Z"
   },
   {
    "duration": 3,
    "start_time": "2021-11-16T07:57:50.560Z"
   },
   {
    "duration": 164,
    "start_time": "2021-11-16T07:57:50.564Z"
   },
   {
    "duration": 10,
    "start_time": "2021-11-16T07:57:50.729Z"
   },
   {
    "duration": 28,
    "start_time": "2021-11-16T07:57:50.741Z"
   },
   {
    "duration": 11,
    "start_time": "2021-11-16T07:57:50.771Z"
   },
   {
    "duration": 16,
    "start_time": "2021-11-16T07:57:50.792Z"
   },
   {
    "duration": 4,
    "start_time": "2021-11-16T07:57:50.810Z"
   },
   {
    "duration": 23,
    "start_time": "2021-11-16T07:57:50.816Z"
   },
   {
    "duration": 18,
    "start_time": "2021-11-16T07:57:50.841Z"
   },
   {
    "duration": 40,
    "start_time": "2021-11-16T07:57:50.860Z"
   },
   {
    "duration": 54,
    "start_time": "2021-11-16T07:57:50.901Z"
   },
   {
    "duration": 75,
    "start_time": "2021-11-16T07:57:50.957Z"
   },
   {
    "duration": 49,
    "start_time": "2021-11-16T07:57:51.033Z"
   },
   {
    "duration": 38,
    "start_time": "2021-11-16T07:57:51.091Z"
   },
   {
    "duration": 3,
    "start_time": "2021-11-16T07:57:51.130Z"
   },
   {
    "duration": 16,
    "start_time": "2021-11-16T07:57:51.135Z"
   },
   {
    "duration": 54,
    "start_time": "2021-11-16T07:57:51.152Z"
   },
   {
    "duration": 9,
    "start_time": "2021-11-16T07:57:51.208Z"
   },
   {
    "duration": 8,
    "start_time": "2021-11-16T07:57:51.220Z"
   },
   {
    "duration": 6,
    "start_time": "2021-11-16T07:57:51.230Z"
   },
   {
    "duration": 26,
    "start_time": "2021-11-16T07:57:51.237Z"
   },
   {
    "duration": 29,
    "start_time": "2021-11-16T07:57:51.265Z"
   },
   {
    "duration": 13,
    "start_time": "2021-11-16T07:57:51.296Z"
   },
   {
    "duration": 12,
    "start_time": "2021-11-16T07:57:51.311Z"
   },
   {
    "duration": 14,
    "start_time": "2021-11-16T07:57:51.325Z"
   },
   {
    "duration": 12,
    "start_time": "2021-11-16T07:57:51.341Z"
   },
   {
    "duration": 39,
    "start_time": "2021-11-16T07:57:51.354Z"
   },
   {
    "duration": 11,
    "start_time": "2021-11-16T07:57:51.395Z"
   },
   {
    "duration": 7,
    "start_time": "2021-11-16T07:57:51.408Z"
   },
   {
    "duration": 3,
    "start_time": "2021-11-16T07:57:51.417Z"
   },
   {
    "duration": 29,
    "start_time": "2021-11-16T07:57:51.421Z"
   },
   {
    "duration": 10,
    "start_time": "2021-11-16T07:57:51.452Z"
   },
   {
    "duration": 32,
    "start_time": "2021-11-16T07:57:51.464Z"
   },
   {
    "duration": 11,
    "start_time": "2021-11-16T07:57:51.497Z"
   },
   {
    "duration": 7,
    "start_time": "2021-11-16T07:57:51.509Z"
   },
   {
    "duration": 4,
    "start_time": "2021-11-16T07:57:51.517Z"
   },
   {
    "duration": 7,
    "start_time": "2021-11-16T07:57:51.522Z"
   },
   {
    "duration": 4,
    "start_time": "2021-11-16T07:57:51.530Z"
   }
  ],
  "colab": {
   "collapsed_sections": [
    "E0vqbgi9ay0H",
    "VUC88oWjTJw2"
   ],
   "name": "yandex_music_project_2021.2.ipynb",
   "provenance": []
  },
  "kernelspec": {
   "display_name": "Python 3 (ipykernel)",
   "language": "python",
   "name": "python3"
  },
  "language_info": {
   "codemirror_mode": {
    "name": "ipython",
    "version": 3
   },
   "file_extension": ".py",
   "mimetype": "text/x-python",
   "name": "python",
   "nbconvert_exporter": "python",
   "pygments_lexer": "ipython3",
   "version": "3.9.7"
  },
  "toc": {
   "base_numbering": 1,
   "nav_menu": {},
   "number_sections": true,
   "sideBar": true,
   "skip_h1_title": true,
   "title_cell": "Table of Contents",
   "title_sidebar": "Contents",
   "toc_cell": false,
   "toc_position": {
    "height": "calc(100% - 180px)",
    "left": "10px",
    "top": "150px",
    "width": "374.188px"
   },
   "toc_section_display": true,
   "toc_window_display": true
  }
 },
 "nbformat": 4,
 "nbformat_minor": 1
}
