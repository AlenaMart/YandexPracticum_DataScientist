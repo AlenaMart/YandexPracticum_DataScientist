{
 "cells": [
  {
   "cell_type": "markdown",
   "metadata": {
    "toc": true
   },
   "source": [
    "<h1>Содержание<span class=\"tocSkip\"></span></h1>\n",
    "<div class=\"toc\"><ul class=\"toc-item\"><li><span><a href=\"#Загрузка-данных\" data-toc-modified-id=\"Загрузка-данных-1\"><span class=\"toc-item-num\">1&nbsp;&nbsp;</span>Загрузка данных</a></span></li><li><span><a href=\"#Умножение-матриц\" data-toc-modified-id=\"Умножение-матриц-2\"><span class=\"toc-item-num\">2&nbsp;&nbsp;</span>Умножение матриц</a></span></li><li><span><a href=\"#Алгоритм-преобразования\" data-toc-modified-id=\"Алгоритм-преобразования-3\"><span class=\"toc-item-num\">3&nbsp;&nbsp;</span>Алгоритм преобразования</a></span></li><li><span><a href=\"#Проверка-алгоритма\" data-toc-modified-id=\"Проверка-алгоритма-4\"><span class=\"toc-item-num\">4&nbsp;&nbsp;</span>Проверка алгоритма</a></span></li></ul></div>"
   ]
  },
  {
   "cell_type": "markdown",
   "metadata": {},
   "source": [
    "# Защита персональных данных клиентов"
   ]
  },
  {
   "cell_type": "markdown",
   "metadata": {},
   "source": [
    "Вам нужно защитить данные клиентов страховой компании «Хоть потоп». Разработайте такой метод преобразования данных, чтобы по ним было сложно восстановить персональную информацию. Обоснуйте корректность его работы.\n",
    "\n",
    "Нужно защитить данные, чтобы при преобразовании качество моделей машинного обучения не ухудшилось. Подбирать наилучшую модель не требуется."
   ]
  },
  {
   "cell_type": "markdown",
   "metadata": {},
   "source": [
    "## Загрузка данных"
   ]
  },
  {
   "cell_type": "code",
   "execution_count": 1,
   "metadata": {},
   "outputs": [],
   "source": [
    "import pandas as pd\n",
    "import numpy as np\n",
    "from sklearn.preprocessing import StandardScaler\n",
    "from sklearn.linear_model import LinearRegression\n",
    "from sklearn.metrics import r2_score"
   ]
  },
  {
   "cell_type": "code",
   "execution_count": 2,
   "metadata": {},
   "outputs": [],
   "source": [
    "data = pd.read_csv('/datasets/insurance.csv')"
   ]
  },
  {
   "cell_type": "code",
   "execution_count": 3,
   "metadata": {
    "scrolled": true
   },
   "outputs": [
    {
     "data": {
      "text/html": [
       "<div>\n",
       "<style scoped>\n",
       "    .dataframe tbody tr th:only-of-type {\n",
       "        vertical-align: middle;\n",
       "    }\n",
       "\n",
       "    .dataframe tbody tr th {\n",
       "        vertical-align: top;\n",
       "    }\n",
       "\n",
       "    .dataframe thead th {\n",
       "        text-align: right;\n",
       "    }\n",
       "</style>\n",
       "<table border=\"1\" class=\"dataframe\">\n",
       "  <thead>\n",
       "    <tr style=\"text-align: right;\">\n",
       "      <th></th>\n",
       "      <th>Пол</th>\n",
       "      <th>Возраст</th>\n",
       "      <th>Зарплата</th>\n",
       "      <th>Члены семьи</th>\n",
       "      <th>Страховые выплаты</th>\n",
       "    </tr>\n",
       "  </thead>\n",
       "  <tbody>\n",
       "    <tr>\n",
       "      <th>0</th>\n",
       "      <td>1</td>\n",
       "      <td>41.0</td>\n",
       "      <td>49600.0</td>\n",
       "      <td>1</td>\n",
       "      <td>0</td>\n",
       "    </tr>\n",
       "    <tr>\n",
       "      <th>1</th>\n",
       "      <td>0</td>\n",
       "      <td>46.0</td>\n",
       "      <td>38000.0</td>\n",
       "      <td>1</td>\n",
       "      <td>1</td>\n",
       "    </tr>\n",
       "    <tr>\n",
       "      <th>2</th>\n",
       "      <td>0</td>\n",
       "      <td>29.0</td>\n",
       "      <td>21000.0</td>\n",
       "      <td>0</td>\n",
       "      <td>0</td>\n",
       "    </tr>\n",
       "    <tr>\n",
       "      <th>3</th>\n",
       "      <td>0</td>\n",
       "      <td>21.0</td>\n",
       "      <td>41700.0</td>\n",
       "      <td>2</td>\n",
       "      <td>0</td>\n",
       "    </tr>\n",
       "    <tr>\n",
       "      <th>4</th>\n",
       "      <td>1</td>\n",
       "      <td>28.0</td>\n",
       "      <td>26100.0</td>\n",
       "      <td>0</td>\n",
       "      <td>0</td>\n",
       "    </tr>\n",
       "  </tbody>\n",
       "</table>\n",
       "</div>"
      ],
      "text/plain": [
       "   Пол  Возраст  Зарплата  Члены семьи  Страховые выплаты\n",
       "0    1     41.0   49600.0            1                  0\n",
       "1    0     46.0   38000.0            1                  1\n",
       "2    0     29.0   21000.0            0                  0\n",
       "3    0     21.0   41700.0            2                  0\n",
       "4    1     28.0   26100.0            0                  0"
      ]
     },
     "execution_count": 3,
     "metadata": {},
     "output_type": "execute_result"
    }
   ],
   "source": [
    "data.head()"
   ]
  },
  {
   "cell_type": "code",
   "execution_count": 4,
   "metadata": {
    "scrolled": true
   },
   "outputs": [
    {
     "name": "stdout",
     "output_type": "stream",
     "text": [
      "<class 'pandas.core.frame.DataFrame'>\n",
      "RangeIndex: 5000 entries, 0 to 4999\n",
      "Data columns (total 5 columns):\n",
      " #   Column             Non-Null Count  Dtype  \n",
      "---  ------             --------------  -----  \n",
      " 0   Пол                5000 non-null   int64  \n",
      " 1   Возраст            5000 non-null   float64\n",
      " 2   Зарплата           5000 non-null   float64\n",
      " 3   Члены семьи        5000 non-null   int64  \n",
      " 4   Страховые выплаты  5000 non-null   int64  \n",
      "dtypes: float64(2), int64(3)\n",
      "memory usage: 195.4 KB\n"
     ]
    }
   ],
   "source": [
    "data.info()"
   ]
  },
  {
   "cell_type": "markdown",
   "metadata": {},
   "source": [
    "Проверим на дубликаты."
   ]
  },
  {
   "cell_type": "code",
   "execution_count": 5,
   "metadata": {},
   "outputs": [
    {
     "data": {
      "text/plain": [
       "153"
      ]
     },
     "execution_count": 5,
     "metadata": {},
     "output_type": "execute_result"
    }
   ],
   "source": [
    "data.duplicated().sum()"
   ]
  },
  {
   "cell_type": "markdown",
   "metadata": {},
   "source": [
    "Дубликаты есть, необходимо их удалить."
   ]
  },
  {
   "cell_type": "code",
   "execution_count": 6,
   "metadata": {},
   "outputs": [],
   "source": [
    "data = data.drop_duplicates()\n",
    "data = data.reset_index(drop=True)"
   ]
  },
  {
   "cell_type": "markdown",
   "metadata": {},
   "source": [
    "Переведем данные из типа float в тип integer, так как нецелых чисел в данных нет."
   ]
  },
  {
   "cell_type": "code",
   "execution_count": 7,
   "metadata": {},
   "outputs": [],
   "source": [
    "data['Возраст'] = data['Возраст'].astype('int')\n",
    "data['Зарплата'] = data['Зарплата'].astype('int')"
   ]
  },
  {
   "cell_type": "code",
   "execution_count": 8,
   "metadata": {
    "scrolled": true
   },
   "outputs": [
    {
     "name": "stdout",
     "output_type": "stream",
     "text": [
      "<class 'pandas.core.frame.DataFrame'>\n",
      "RangeIndex: 4847 entries, 0 to 4846\n",
      "Data columns (total 5 columns):\n",
      " #   Column             Non-Null Count  Dtype\n",
      "---  ------             --------------  -----\n",
      " 0   Пол                4847 non-null   int64\n",
      " 1   Возраст            4847 non-null   int64\n",
      " 2   Зарплата           4847 non-null   int64\n",
      " 3   Члены семьи        4847 non-null   int64\n",
      " 4   Страховые выплаты  4847 non-null   int64\n",
      "dtypes: int64(5)\n",
      "memory usage: 189.5 KB\n"
     ]
    }
   ],
   "source": [
    "data.info()"
   ]
  },
  {
   "cell_type": "markdown",
   "metadata": {},
   "source": [
    "Мы изучили даные и подготовили их к работе."
   ]
  },
  {
   "cell_type": "markdown",
   "metadata": {},
   "source": [
    "## Умножение матриц"
   ]
  },
  {
   "cell_type": "markdown",
   "metadata": {},
   "source": [
    "В этом задании вы можете записывать формулы в *Jupyter Notebook.*\n",
    "\n",
    "Чтобы записать формулу внутри текста, окружите её символами доллара \\\\$; если снаружи —  двойными символами \\\\$\\\\$. Эти формулы записываются на языке вёрстки *LaTeX.* \n",
    "\n",
    "Для примера мы записали формулы линейной регрессии. Можете их скопировать и отредактировать, чтобы решить задачу.\n",
    "\n",
    "Работать в *LaTeX* необязательно."
   ]
  },
  {
   "cell_type": "markdown",
   "metadata": {},
   "source": [
    "Обозначения:\n",
    "\n",
    "- $X$ — матрица признаков (нулевой столбец состоит из единиц)\n",
    "\n",
    "- $y$ — вектор целевого признака\n",
    "\n",
    "- $P$ — матрица, на которую умножаются признаки\n",
    "\n",
    "- $w$ — вектор весов линейной регрессии (нулевой элемент равен сдвигу)"
   ]
  },
  {
   "cell_type": "markdown",
   "metadata": {},
   "source": [
    "Предсказания:\n",
    "\n",
    "$$\n",
    "a = Xw\n",
    "$$\n",
    "\n",
    "Задача обучения:\n",
    "\n",
    "$$\n",
    "w = \\arg\\min_w MSE(Xw, y)\n",
    "$$\n",
    "\n",
    "Формула обучения:\n",
    "\n",
    "$$\n",
    "w = (X^T X)^{-1} X^T y\n",
    "$$"
   ]
  },
  {
   "cell_type": "markdown",
   "metadata": {},
   "source": [
    "**Вопрос**: Признаки умножают на обратимую матрицу. Изменится ли качество линейной регрессии?"
   ]
  },
  {
   "cell_type": "markdown",
   "metadata": {},
   "source": [
    "**Ответ:** Нет.\n",
    "\n",
    "**Обоснование:** Докажем, что при домножении на обратимую матрицу P предсказания не изменятся.\n",
    "При доказательстве мы будем использовать следующие свойства:\n",
    "\n",
    "* $(AB)^T = B^T A^T$\n",
    "\n",
    "* $(AB)^{-1} = B^{-1} A^{-1}$\n",
    "\n",
    "* $AA^{-1} = A^{-1}A = E$\n",
    "\n",
    "Домножаем X на P\n",
    "\n",
    "$$ a_{new} = XPw $$\n",
    "\n",
    "$$ w = ((XP)^T XP)^{-1} XP^T y $$ \n",
    "\n",
    "По свойствам раскрываем скобки\n",
    "\n",
    "$$ a_{new} = XP ((XP)^T XP)^{-1} (XP)^T y = XP (P^T X^T XP)^{-1} P^T X^T y = XPP^{-1} (P^T X^T X)^{-1} P^T X^T y$$\n",
    "$$ a_{new} = XPP^{-1} (X^T X)^{-1} (P^T)^{-1} P^T X^T y = X (X^T X)^{-1} X^T y = Xw $$\n",
    "\n",
    "Видим, что при доможении предсказания не изменились.\n",
    "\n",
    "Но в случае, если матрица P необратима, например, она неквадратная или вырожденная, такие преобразования мы произвести не можем, соответственно на такую матрицу домножать нельзя.\n"
   ]
  },
  {
   "cell_type": "markdown",
   "metadata": {},
   "source": [
    "## Алгоритм преобразования"
   ]
  },
  {
   "cell_type": "markdown",
   "metadata": {},
   "source": [
    "**Алгоритм**\n",
    "* Создаем случайную матрицу Р размера nхn, где n - это количество признаков.\n",
    "* Проверяем ее на обратимость - вычисляем детерминант. Если он не равен 0 - матрица обратима.\n",
    "* Перемножаем X и Р и далее работаем с результатом - зашифрованной матрицей М.\n",
    "* Для восстановления матрицы X нужно зашифрованную матрицу М умножить на обратную к P."
   ]
  },
  {
   "cell_type": "markdown",
   "metadata": {},
   "source": [
    "**Обоснование**\n",
    "\n",
    "Создадим матрицы X(3х2) и Р(2х2). Размер матрицы Р не может быть никаким другим, так как иначе мы не сможем перемножать матрицы."
   ]
  },
  {
   "cell_type": "code",
   "execution_count": 9,
   "metadata": {},
   "outputs": [],
   "source": [
    "X = np.array([[1, 2], [3, 4], [5, 6]])\n",
    "P = np.array([[1, 2], [3, 4]])"
   ]
  },
  {
   "cell_type": "markdown",
   "metadata": {},
   "source": [
    "Вычисляем детерминант, чтобы удостовериться, что матрица обратима."
   ]
  },
  {
   "cell_type": "code",
   "execution_count": 10,
   "metadata": {},
   "outputs": [
    {
     "data": {
      "text/plain": [
       "-2.0000000000000004"
      ]
     },
     "execution_count": 10,
     "metadata": {},
     "output_type": "execute_result"
    }
   ],
   "source": [
    "np.linalg.det(P)"
   ]
  },
  {
   "cell_type": "markdown",
   "metadata": {},
   "source": [
    "Детерминант не равен нулю, матрица обратима, можно шифровать нашу матрицу."
   ]
  },
  {
   "cell_type": "code",
   "execution_count": 11,
   "metadata": {},
   "outputs": [
    {
     "data": {
      "text/plain": [
       "array([[ 7, 10],\n",
       "       [15, 22],\n",
       "       [23, 34]])"
      ]
     },
     "execution_count": 11,
     "metadata": {},
     "output_type": "execute_result"
    }
   ],
   "source": [
    "M = X @ P\n",
    "M"
   ]
  },
  {
   "cell_type": "markdown",
   "metadata": {},
   "source": [
    "Для обратной расшифровки данных домножаем матрицу М на обратную Р."
   ]
  },
  {
   "cell_type": "code",
   "execution_count": 12,
   "metadata": {},
   "outputs": [
    {
     "data": {
      "text/plain": [
       "array([[1., 2.],\n",
       "       [3., 4.],\n",
       "       [5., 6.]])"
      ]
     },
     "execution_count": 12,
     "metadata": {},
     "output_type": "execute_result"
    }
   ],
   "source": [
    "P_inv = np.linalg.inv(P)\n",
    "M @ P_inv"
   ]
  },
  {
   "cell_type": "markdown",
   "metadata": {},
   "source": [
    "Получаем исходную матрицу."
   ]
  },
  {
   "cell_type": "markdown",
   "metadata": {},
   "source": [
    "Соберем алгоритм шифрования в виде класса."
   ]
  },
  {
   "cell_type": "code",
   "execution_count": 13,
   "metadata": {},
   "outputs": [],
   "source": [
    "class Crypto:\n",
    "    \"\"\"\n",
    "    Шифрует и дешифрует матрицы\n",
    "    \"\"\"\n",
    "            \n",
    "    def cifer(self, X):\n",
    "        self.det = 0\n",
    "        n = X.shape[1]\n",
    "        while self.det == 0:\n",
    "            self.P = np.random.randint(1, 10, (n,n))\n",
    "            self.det = np.linalg.det(self.P)\n",
    "        self.P_inv = np.linalg.inv(self.P)\n",
    "        \n",
    "        return X @ self.P\n",
    "    \n",
    "    def decifer(self, M):\n",
    "        return M @ self.P_inv"
   ]
  },
  {
   "cell_type": "markdown",
   "metadata": {},
   "source": [
    "## Проверка алгоритма"
   ]
  },
  {
   "cell_type": "markdown",
   "metadata": {},
   "source": [
    "Выделим из данных целевой признак."
   ]
  },
  {
   "cell_type": "code",
   "execution_count": 14,
   "metadata": {},
   "outputs": [],
   "source": [
    "y = data['Страховые выплаты']\n",
    "X = data.drop('Страховые выплаты', axis=1)"
   ]
  },
  {
   "cell_type": "markdown",
   "metadata": {},
   "source": [
    "Обучим линейную регрессию на незашифрованных данных и оценим качество."
   ]
  },
  {
   "cell_type": "code",
   "execution_count": 15,
   "metadata": {},
   "outputs": [
    {
     "name": "stdout",
     "output_type": "stream",
     "text": [
      "R2 для данных без шифрования 0.4302010046633359\n"
     ]
    }
   ],
   "source": [
    "linreg_X = LinearRegression()\n",
    "linreg_X.fit(X, y)\n",
    "pred_X = linreg_X.predict(X)\n",
    "r2_X = r2_score(y, pred_X)\n",
    "print('R2 для данных без шифрования', r2_X)"
   ]
  },
  {
   "cell_type": "markdown",
   "metadata": {},
   "source": [
    "Теперь зашифруем данные и снова обучим линейную регрессию и оценим качество."
   ]
  },
  {
   "cell_type": "code",
   "execution_count": 16,
   "metadata": {},
   "outputs": [],
   "source": [
    "crypto = Crypto()\n",
    "M = crypto.cifer(X)"
   ]
  },
  {
   "cell_type": "code",
   "execution_count": 17,
   "metadata": {},
   "outputs": [
    {
     "name": "stdout",
     "output_type": "stream",
     "text": [
      "R2 для зашифрованных данных 0.430201004663338\n"
     ]
    }
   ],
   "source": [
    "linreg_M = LinearRegression()\n",
    "linreg_M.fit(M, y)\n",
    "pred_M = linreg_M.predict(M)\n",
    "r2_M = r2_score(y, pred_M)\n",
    "print('R2 для зашифрованных данных',r2_M)"
   ]
  },
  {
   "cell_type": "markdown",
   "metadata": {},
   "source": [
    "Сравниваем качество."
   ]
  },
  {
   "cell_type": "code",
   "execution_count": 18,
   "metadata": {},
   "outputs": [
    {
     "data": {
      "text/plain": [
       "True"
      ]
     },
     "execution_count": 18,
     "metadata": {},
     "output_type": "execute_result"
    }
   ],
   "source": [
    "np.isclose(r2_X, r2_M)"
   ]
  },
  {
   "cell_type": "markdown",
   "metadata": {},
   "source": [
    "Качество не изменилось. Можно использовать наш алгоритм для шифрования данных."
   ]
  }
 ],
 "metadata": {
  "ExecuteTimeLog": [
   {
    "duration": 405,
    "start_time": "2022-03-23T09:43:16.181Z"
   },
   {
    "duration": 28,
    "start_time": "2022-03-23T09:43:16.588Z"
   },
   {
    "duration": 19,
    "start_time": "2022-03-23T09:43:27.188Z"
   },
   {
    "duration": 11,
    "start_time": "2022-03-23T09:43:41.047Z"
   },
   {
    "duration": 6,
    "start_time": "2022-03-23T09:48:51.244Z"
   },
   {
    "duration": 5,
    "start_time": "2022-03-23T09:48:57.073Z"
   },
   {
    "duration": 61,
    "start_time": "2022-03-23T09:50:48.596Z"
   },
   {
    "duration": 7,
    "start_time": "2022-03-23T09:51:14.998Z"
   },
   {
    "duration": 9,
    "start_time": "2022-03-23T09:51:19.642Z"
   },
   {
    "duration": 3,
    "start_time": "2022-03-23T10:06:02.793Z"
   },
   {
    "duration": 10,
    "start_time": "2022-03-23T10:06:06.128Z"
   },
   {
    "duration": 4,
    "start_time": "2022-03-23T10:06:29.808Z"
   },
   {
    "duration": 10,
    "start_time": "2022-03-23T10:06:32.312Z"
   },
   {
    "duration": 7,
    "start_time": "2022-03-23T10:06:36.173Z"
   },
   {
    "duration": 883,
    "start_time": "2022-03-23T11:36:35.271Z"
   },
   {
    "duration": 4,
    "start_time": "2022-03-23T11:57:05.688Z"
   },
   {
    "duration": 73,
    "start_time": "2022-03-24T11:00:41.567Z"
   },
   {
    "duration": 1535,
    "start_time": "2022-03-24T11:00:45.345Z"
   },
   {
    "duration": 4,
    "start_time": "2022-03-24T11:00:49.806Z"
   },
   {
    "duration": 13,
    "start_time": "2022-03-24T11:00:59.823Z"
   },
   {
    "duration": 78,
    "start_time": "2022-03-24T11:02:32.996Z"
   },
   {
    "duration": 11,
    "start_time": "2022-03-24T11:02:35.254Z"
   },
   {
    "duration": 5,
    "start_time": "2022-03-24T11:02:46.333Z"
   },
   {
    "duration": 10,
    "start_time": "2022-03-24T11:02:47.013Z"
   },
   {
    "duration": 6,
    "start_time": "2022-03-24T11:02:56.550Z"
   },
   {
    "duration": 5,
    "start_time": "2022-03-24T11:03:20.722Z"
   },
   {
    "duration": 4,
    "start_time": "2022-03-24T11:04:22.037Z"
   },
   {
    "duration": 7,
    "start_time": "2022-03-24T11:04:28.814Z"
   },
   {
    "duration": 6,
    "start_time": "2022-03-24T11:04:56.112Z"
   },
   {
    "duration": 10,
    "start_time": "2022-03-24T11:12:55.350Z"
   },
   {
    "duration": 6,
    "start_time": "2022-03-24T11:12:58.463Z"
   },
   {
    "duration": 7,
    "start_time": "2022-03-24T11:20:46.671Z"
   },
   {
    "duration": 6,
    "start_time": "2022-03-24T11:28:15.546Z"
   },
   {
    "duration": 4,
    "start_time": "2022-03-24T11:28:28.092Z"
   },
   {
    "duration": 11,
    "start_time": "2022-03-24T11:28:53.910Z"
   },
   {
    "duration": 6,
    "start_time": "2022-03-24T11:29:06.878Z"
   },
   {
    "duration": 4,
    "start_time": "2022-03-24T11:29:07.869Z"
   },
   {
    "duration": 4,
    "start_time": "2022-03-24T11:29:08.750Z"
   },
   {
    "duration": 5,
    "start_time": "2022-03-24T11:29:12.263Z"
   },
   {
    "duration": 6,
    "start_time": "2022-03-24T11:29:27.954Z"
   },
   {
    "duration": 6,
    "start_time": "2022-03-24T11:31:17.236Z"
   },
   {
    "duration": 5,
    "start_time": "2022-03-24T11:31:18.133Z"
   },
   {
    "duration": 16,
    "start_time": "2022-03-24T11:31:18.910Z"
   },
   {
    "duration": 5,
    "start_time": "2022-03-24T11:31:50.974Z"
   },
   {
    "duration": 3,
    "start_time": "2022-03-24T11:31:51.592Z"
   },
   {
    "duration": 4,
    "start_time": "2022-03-24T11:31:52.263Z"
   },
   {
    "duration": 6,
    "start_time": "2022-03-24T11:31:53.587Z"
   },
   {
    "duration": 4,
    "start_time": "2022-03-24T11:32:37.787Z"
   },
   {
    "duration": 16,
    "start_time": "2022-03-24T11:32:38.453Z"
   },
   {
    "duration": 5,
    "start_time": "2022-03-24T11:32:47.526Z"
   },
   {
    "duration": 3,
    "start_time": "2022-03-24T11:32:49.008Z"
   },
   {
    "duration": 3,
    "start_time": "2022-03-24T11:32:49.919Z"
   },
   {
    "duration": 15,
    "start_time": "2022-03-24T11:32:50.643Z"
   },
   {
    "duration": 6,
    "start_time": "2022-03-24T11:33:37.001Z"
   },
   {
    "duration": 5,
    "start_time": "2022-03-24T11:33:43.615Z"
   },
   {
    "duration": 5,
    "start_time": "2022-03-24T11:33:49.749Z"
   },
   {
    "duration": 7,
    "start_time": "2022-03-24T11:33:56.602Z"
   },
   {
    "duration": 4,
    "start_time": "2022-03-24T11:33:58.035Z"
   },
   {
    "duration": 4,
    "start_time": "2022-03-24T11:33:59.333Z"
   },
   {
    "duration": 7,
    "start_time": "2022-03-24T11:34:14.446Z"
   },
   {
    "duration": 4,
    "start_time": "2022-03-24T11:34:15.512Z"
   },
   {
    "duration": 4,
    "start_time": "2022-03-24T11:34:15.809Z"
   },
   {
    "duration": 4,
    "start_time": "2022-03-24T11:34:17.215Z"
   },
   {
    "duration": 14,
    "start_time": "2022-03-24T11:34:17.824Z"
   },
   {
    "duration": 8,
    "start_time": "2022-03-24T11:34:27.723Z"
   },
   {
    "duration": 6,
    "start_time": "2022-03-24T11:34:40.142Z"
   },
   {
    "duration": 4,
    "start_time": "2022-03-24T11:34:41.219Z"
   },
   {
    "duration": 5,
    "start_time": "2022-03-24T11:34:41.576Z"
   },
   {
    "duration": 6,
    "start_time": "2022-03-24T11:34:42.158Z"
   },
   {
    "duration": 6,
    "start_time": "2022-03-24T11:34:42.864Z"
   },
   {
    "duration": 6,
    "start_time": "2022-03-24T11:34:44.489Z"
   },
   {
    "duration": 11,
    "start_time": "2022-03-24T11:39:28.680Z"
   },
   {
    "duration": 49,
    "start_time": "2022-03-24T11:39:31.725Z"
   },
   {
    "duration": 4,
    "start_time": "2022-03-24T11:40:02.636Z"
   },
   {
    "duration": 19,
    "start_time": "2022-03-24T11:40:16.256Z"
   },
   {
    "duration": 4,
    "start_time": "2022-03-24T11:40:20.935Z"
   },
   {
    "duration": 11,
    "start_time": "2022-03-24T11:40:33.564Z"
   },
   {
    "duration": 12,
    "start_time": "2022-03-24T11:40:36.127Z"
   },
   {
    "duration": 1463,
    "start_time": "2022-03-24T11:40:42.229Z"
   },
   {
    "duration": 15,
    "start_time": "2022-03-24T11:40:43.695Z"
   },
   {
    "duration": 23,
    "start_time": "2022-03-24T11:40:43.712Z"
   },
   {
    "duration": 16,
    "start_time": "2022-03-24T11:40:43.738Z"
   },
   {
    "duration": 8,
    "start_time": "2022-03-24T11:40:43.782Z"
   },
   {
    "duration": 7,
    "start_time": "2022-03-24T11:40:43.792Z"
   },
   {
    "duration": 7,
    "start_time": "2022-03-24T11:40:43.801Z"
   },
   {
    "duration": 18,
    "start_time": "2022-03-24T11:40:43.810Z"
   },
   {
    "duration": 4,
    "start_time": "2022-03-24T11:40:43.830Z"
   },
   {
    "duration": 46,
    "start_time": "2022-03-24T11:40:43.838Z"
   },
   {
    "duration": 10,
    "start_time": "2022-03-24T11:40:43.888Z"
   },
   {
    "duration": 9,
    "start_time": "2022-03-24T11:40:43.901Z"
   },
   {
    "duration": 7,
    "start_time": "2022-03-24T11:40:43.912Z"
   },
   {
    "duration": 64,
    "start_time": "2022-03-24T11:40:43.921Z"
   },
   {
    "duration": 4,
    "start_time": "2022-03-24T11:40:43.987Z"
   },
   {
    "duration": 14,
    "start_time": "2022-03-24T11:40:43.993Z"
   },
   {
    "duration": 4,
    "start_time": "2022-03-24T11:40:44.010Z"
   },
   {
    "duration": 83,
    "start_time": "2022-03-24T11:40:44.017Z"
   },
   {
    "duration": 4,
    "start_time": "2022-03-24T11:43:48.507Z"
   },
   {
    "duration": 8,
    "start_time": "2022-03-24T11:44:16.339Z"
   },
   {
    "duration": 8,
    "start_time": "2022-03-24T11:44:41.159Z"
   },
   {
    "duration": 6,
    "start_time": "2022-03-24T11:45:25.501Z"
   },
   {
    "duration": 6,
    "start_time": "2022-03-24T11:46:24.256Z"
   },
   {
    "duration": 17,
    "start_time": "2022-03-24T11:46:25.206Z"
   },
   {
    "duration": 13,
    "start_time": "2022-03-24T11:46:27.325Z"
   },
   {
    "duration": 19,
    "start_time": "2022-03-24T11:54:06.555Z"
   },
   {
    "duration": 59,
    "start_time": "2022-03-24T11:54:06.728Z"
   },
   {
    "duration": 81,
    "start_time": "2022-03-24T11:54:06.916Z"
   },
   {
    "duration": 7,
    "start_time": "2022-03-24T11:54:16.098Z"
   },
   {
    "duration": 145,
    "start_time": "2022-03-24T11:55:09.107Z"
   },
   {
    "duration": 6,
    "start_time": "2022-03-24T11:55:11.772Z"
   },
   {
    "duration": 1521,
    "start_time": "2022-03-24T11:59:48.581Z"
   },
   {
    "duration": 14,
    "start_time": "2022-03-24T11:59:50.105Z"
   },
   {
    "duration": 22,
    "start_time": "2022-03-24T11:59:50.122Z"
   },
   {
    "duration": 18,
    "start_time": "2022-03-24T11:59:50.147Z"
   },
   {
    "duration": 9,
    "start_time": "2022-03-24T11:59:50.182Z"
   },
   {
    "duration": 20,
    "start_time": "2022-03-24T11:59:50.193Z"
   },
   {
    "duration": 17,
    "start_time": "2022-03-24T11:59:50.215Z"
   },
   {
    "duration": 33,
    "start_time": "2022-03-24T11:59:50.234Z"
   },
   {
    "duration": 10,
    "start_time": "2022-03-24T11:59:50.269Z"
   },
   {
    "duration": 31,
    "start_time": "2022-03-24T11:59:50.284Z"
   },
   {
    "duration": 23,
    "start_time": "2022-03-24T11:59:50.318Z"
   },
   {
    "duration": 26,
    "start_time": "2022-03-24T11:59:50.343Z"
   },
   {
    "duration": 28,
    "start_time": "2022-03-24T11:59:50.372Z"
   },
   {
    "duration": 25,
    "start_time": "2022-03-24T11:59:50.403Z"
   },
   {
    "duration": 152,
    "start_time": "2022-03-24T11:59:50.430Z"
   },
   {
    "duration": 100,
    "start_time": "2022-03-24T11:59:50.586Z"
   },
   {
    "duration": 106,
    "start_time": "2022-03-24T11:59:50.688Z"
   },
   {
    "duration": 198,
    "start_time": "2022-03-24T11:59:50.796Z"
   },
   {
    "duration": 18,
    "start_time": "2022-03-24T12:01:04.142Z"
   },
   {
    "duration": 15,
    "start_time": "2022-03-24T12:01:05.686Z"
   },
   {
    "duration": 1649,
    "start_time": "2022-03-24T12:01:11.936Z"
   },
   {
    "duration": 17,
    "start_time": "2022-03-24T12:01:13.587Z"
   },
   {
    "duration": 23,
    "start_time": "2022-03-24T12:01:13.607Z"
   },
   {
    "duration": 43,
    "start_time": "2022-03-24T12:01:13.632Z"
   },
   {
    "duration": 27,
    "start_time": "2022-03-24T12:01:13.678Z"
   },
   {
    "duration": 24,
    "start_time": "2022-03-24T12:01:13.708Z"
   },
   {
    "duration": 9,
    "start_time": "2022-03-24T12:01:13.734Z"
   },
   {
    "duration": 17,
    "start_time": "2022-03-24T12:01:13.745Z"
   },
   {
    "duration": 9,
    "start_time": "2022-03-24T12:01:13.765Z"
   },
   {
    "duration": 9,
    "start_time": "2022-03-24T12:01:13.776Z"
   },
   {
    "duration": 14,
    "start_time": "2022-03-24T12:01:13.788Z"
   },
   {
    "duration": 13,
    "start_time": "2022-03-24T12:01:13.805Z"
   },
   {
    "duration": 8,
    "start_time": "2022-03-24T12:01:13.820Z"
   },
   {
    "duration": 50,
    "start_time": "2022-03-24T12:01:13.832Z"
   },
   {
    "duration": 197,
    "start_time": "2022-03-24T12:01:13.885Z"
   },
   {
    "duration": 5,
    "start_time": "2022-03-24T12:01:14.084Z"
   },
   {
    "duration": 94,
    "start_time": "2022-03-24T12:01:14.093Z"
   },
   {
    "duration": 97,
    "start_time": "2022-03-24T12:01:14.190Z"
   },
   {
    "duration": 2025,
    "start_time": "2022-03-24T14:55:17.233Z"
   },
   {
    "duration": 20,
    "start_time": "2022-03-24T14:55:19.262Z"
   },
   {
    "duration": 25,
    "start_time": "2022-03-24T14:55:19.284Z"
   },
   {
    "duration": 17,
    "start_time": "2022-03-24T14:55:19.312Z"
   },
   {
    "duration": 9,
    "start_time": "2022-03-24T14:55:19.331Z"
   },
   {
    "duration": 181,
    "start_time": "2022-03-24T14:55:19.343Z"
   },
   {
    "duration": 0,
    "start_time": "2022-03-24T14:55:19.526Z"
   },
   {
    "duration": 0,
    "start_time": "2022-03-24T14:55:19.528Z"
   },
   {
    "duration": 0,
    "start_time": "2022-03-24T14:55:19.530Z"
   },
   {
    "duration": 0,
    "start_time": "2022-03-24T14:55:19.532Z"
   },
   {
    "duration": 0,
    "start_time": "2022-03-24T14:55:19.536Z"
   },
   {
    "duration": 0,
    "start_time": "2022-03-24T14:55:19.538Z"
   },
   {
    "duration": 0,
    "start_time": "2022-03-24T14:55:19.540Z"
   },
   {
    "duration": 0,
    "start_time": "2022-03-24T14:55:19.542Z"
   },
   {
    "duration": 0,
    "start_time": "2022-03-24T14:55:19.544Z"
   },
   {
    "duration": 0,
    "start_time": "2022-03-24T14:55:19.547Z"
   },
   {
    "duration": 0,
    "start_time": "2022-03-24T14:55:19.549Z"
   },
   {
    "duration": 0,
    "start_time": "2022-03-24T14:55:19.551Z"
   },
   {
    "duration": 0,
    "start_time": "2022-03-24T14:55:19.553Z"
   },
   {
    "duration": 1520,
    "start_time": "2022-03-24T14:56:18.408Z"
   },
   {
    "duration": 16,
    "start_time": "2022-03-24T14:56:19.931Z"
   },
   {
    "duration": 57,
    "start_time": "2022-03-24T14:56:19.949Z"
   },
   {
    "duration": 33,
    "start_time": "2022-03-24T14:56:20.010Z"
   },
   {
    "duration": 37,
    "start_time": "2022-03-24T14:56:20.046Z"
   },
   {
    "duration": 33,
    "start_time": "2022-03-24T14:56:20.086Z"
   },
   {
    "duration": 31,
    "start_time": "2022-03-24T14:56:20.121Z"
   },
   {
    "duration": 20,
    "start_time": "2022-03-24T14:56:20.154Z"
   },
   {
    "duration": 9,
    "start_time": "2022-03-24T14:56:20.176Z"
   },
   {
    "duration": 28,
    "start_time": "2022-03-24T14:56:20.189Z"
   },
   {
    "duration": 15,
    "start_time": "2022-03-24T14:56:20.219Z"
   },
   {
    "duration": 26,
    "start_time": "2022-03-24T14:56:20.237Z"
   },
   {
    "duration": 16,
    "start_time": "2022-03-24T14:56:20.266Z"
   },
   {
    "duration": 26,
    "start_time": "2022-03-24T14:56:20.285Z"
   },
   {
    "duration": 171,
    "start_time": "2022-03-24T14:56:20.313Z"
   },
   {
    "duration": 7,
    "start_time": "2022-03-24T14:56:20.487Z"
   },
   {
    "duration": 191,
    "start_time": "2022-03-24T14:56:20.497Z"
   },
   {
    "duration": 97,
    "start_time": "2022-03-24T14:56:20.691Z"
   }
  ],
  "kernelspec": {
   "display_name": "Python 3 (ipykernel)",
   "language": "python",
   "name": "python3"
  },
  "language_info": {
   "codemirror_mode": {
    "name": "ipython",
    "version": 3
   },
   "file_extension": ".py",
   "mimetype": "text/x-python",
   "name": "python",
   "nbconvert_exporter": "python",
   "pygments_lexer": "ipython3",
   "version": "3.9.7"
  },
  "toc": {
   "base_numbering": 1,
   "nav_menu": {},
   "number_sections": true,
   "sideBar": true,
   "skip_h1_title": true,
   "title_cell": "Содержание",
   "title_sidebar": "Contents",
   "toc_cell": true,
   "toc_position": {
    "height": "calc(100% - 180px)",
    "left": "10px",
    "top": "150px",
    "width": "356.594px"
   },
   "toc_section_display": true,
   "toc_window_display": true
  }
 },
 "nbformat": 4,
 "nbformat_minor": 2
}
