{
 "cells": [
  {
   "cell_type": "markdown",
   "metadata": {},
   "source": [
    "# Выбор локации для скважины"
   ]
  },
  {
   "cell_type": "markdown",
   "metadata": {},
   "source": [
    "Допустим, вы работаете в добывающей компании «ГлавРосГосНефть». Нужно решить, где бурить новую скважину.\n",
    "\n",
    "Вам предоставлены пробы нефти в трёх регионах: в каждом 10 000 месторождений, где измерили качество нефти и объём её запасов. Постройте модель машинного обучения, которая поможет определить регион, где добыча принесёт наибольшую прибыль. Проанализируйте возможную прибыль и риски техникой *Bootstrap.*\n",
    "\n",
    "Шаги для выбора локации:\n",
    "\n",
    "- В избранном регионе ищут месторождения, для каждого определяют значения признаков;\n",
    "- Строят модель и оценивают объём запасов;\n",
    "- Выбирают месторождения с самым высокими оценками значений. Количество месторождений зависит от бюджета компании и стоимости разработки одной скважины;\n",
    "- Прибыль равна суммарной прибыли отобранных месторождений."
   ]
  },
  {
   "cell_type": "markdown",
   "metadata": {},
   "source": [
    "## Импорт библиотек"
   ]
  },
  {
   "cell_type": "code",
   "execution_count": 2,
   "metadata": {},
   "outputs": [],
   "source": [
    "import pandas as pd\n",
    "import numpy as np\n",
    "from sklearn.linear_model import LinearRegression\n",
    "from sklearn.model_selection import train_test_split\n",
    "from sklearn.model_selection import cross_val_score\n",
    "from sklearn.metrics import mean_squared_error"
   ]
  },
  {
   "cell_type": "code",
   "execution_count": 3,
   "metadata": {},
   "outputs": [],
   "source": [
    "# отключим предупреждения Anaconda\n",
    "import warnings\n",
    "warnings.simplefilter('ignore')\n",
    "\n",
    "# увеличим дефолтный размер графиков\n",
    "from pylab import rcParams\n",
    "rcParams['figure.figsize'] = 15, 5"
   ]
  },
  {
   "cell_type": "markdown",
   "metadata": {},
   "source": [
    "## Загрузка и подготовка данных"
   ]
  },
  {
   "cell_type": "code",
   "execution_count": 4,
   "metadata": {},
   "outputs": [],
   "source": [
    "data_0 = pd.read_csv('/datasets/geo_data_0.csv')\n",
    "data_1 = pd.read_csv('/datasets/geo_data_1.csv')\n",
    "data_2 = pd.read_csv('/datasets/geo_data_2.csv')"
   ]
  },
  {
   "cell_type": "code",
   "execution_count": 5,
   "metadata": {
    "scrolled": false
   },
   "outputs": [
    {
     "data": {
      "text/html": [
       "<div>\n",
       "<style scoped>\n",
       "    .dataframe tbody tr th:only-of-type {\n",
       "        vertical-align: middle;\n",
       "    }\n",
       "\n",
       "    .dataframe tbody tr th {\n",
       "        vertical-align: top;\n",
       "    }\n",
       "\n",
       "    .dataframe thead th {\n",
       "        text-align: right;\n",
       "    }\n",
       "</style>\n",
       "<table border=\"1\" class=\"dataframe\">\n",
       "  <thead>\n",
       "    <tr style=\"text-align: right;\">\n",
       "      <th></th>\n",
       "      <th>id</th>\n",
       "      <th>f0</th>\n",
       "      <th>f1</th>\n",
       "      <th>f2</th>\n",
       "      <th>product</th>\n",
       "    </tr>\n",
       "  </thead>\n",
       "  <tbody>\n",
       "    <tr>\n",
       "      <td>0</td>\n",
       "      <td>txEyH</td>\n",
       "      <td>0.705745</td>\n",
       "      <td>-0.497823</td>\n",
       "      <td>1.221170</td>\n",
       "      <td>105.280062</td>\n",
       "    </tr>\n",
       "    <tr>\n",
       "      <td>1</td>\n",
       "      <td>2acmU</td>\n",
       "      <td>1.334711</td>\n",
       "      <td>-0.340164</td>\n",
       "      <td>4.365080</td>\n",
       "      <td>73.037750</td>\n",
       "    </tr>\n",
       "    <tr>\n",
       "      <td>2</td>\n",
       "      <td>409Wp</td>\n",
       "      <td>1.022732</td>\n",
       "      <td>0.151990</td>\n",
       "      <td>1.419926</td>\n",
       "      <td>85.265647</td>\n",
       "    </tr>\n",
       "  </tbody>\n",
       "</table>\n",
       "</div>"
      ],
      "text/plain": [
       "      id        f0        f1        f2     product\n",
       "0  txEyH  0.705745 -0.497823  1.221170  105.280062\n",
       "1  2acmU  1.334711 -0.340164  4.365080   73.037750\n",
       "2  409Wp  1.022732  0.151990  1.419926   85.265647"
      ]
     },
     "metadata": {},
     "output_type": "display_data"
    },
    {
     "data": {
      "text/html": [
       "<div>\n",
       "<style scoped>\n",
       "    .dataframe tbody tr th:only-of-type {\n",
       "        vertical-align: middle;\n",
       "    }\n",
       "\n",
       "    .dataframe tbody tr th {\n",
       "        vertical-align: top;\n",
       "    }\n",
       "\n",
       "    .dataframe thead th {\n",
       "        text-align: right;\n",
       "    }\n",
       "</style>\n",
       "<table border=\"1\" class=\"dataframe\">\n",
       "  <thead>\n",
       "    <tr style=\"text-align: right;\">\n",
       "      <th></th>\n",
       "      <th>f0</th>\n",
       "      <th>f1</th>\n",
       "      <th>f2</th>\n",
       "      <th>product</th>\n",
       "    </tr>\n",
       "  </thead>\n",
       "  <tbody>\n",
       "    <tr>\n",
       "      <td>count</td>\n",
       "      <td>100000.000000</td>\n",
       "      <td>100000.000000</td>\n",
       "      <td>100000.000000</td>\n",
       "      <td>100000.000000</td>\n",
       "    </tr>\n",
       "    <tr>\n",
       "      <td>mean</td>\n",
       "      <td>0.500419</td>\n",
       "      <td>0.250143</td>\n",
       "      <td>2.502647</td>\n",
       "      <td>92.500000</td>\n",
       "    </tr>\n",
       "    <tr>\n",
       "      <td>std</td>\n",
       "      <td>0.871832</td>\n",
       "      <td>0.504433</td>\n",
       "      <td>3.248248</td>\n",
       "      <td>44.288691</td>\n",
       "    </tr>\n",
       "    <tr>\n",
       "      <td>min</td>\n",
       "      <td>-1.408605</td>\n",
       "      <td>-0.848218</td>\n",
       "      <td>-12.088328</td>\n",
       "      <td>0.000000</td>\n",
       "    </tr>\n",
       "    <tr>\n",
       "      <td>25%</td>\n",
       "      <td>-0.072580</td>\n",
       "      <td>-0.200881</td>\n",
       "      <td>0.287748</td>\n",
       "      <td>56.497507</td>\n",
       "    </tr>\n",
       "    <tr>\n",
       "      <td>50%</td>\n",
       "      <td>0.502360</td>\n",
       "      <td>0.250252</td>\n",
       "      <td>2.515969</td>\n",
       "      <td>91.849972</td>\n",
       "    </tr>\n",
       "    <tr>\n",
       "      <td>75%</td>\n",
       "      <td>1.073581</td>\n",
       "      <td>0.700646</td>\n",
       "      <td>4.715088</td>\n",
       "      <td>128.564089</td>\n",
       "    </tr>\n",
       "    <tr>\n",
       "      <td>max</td>\n",
       "      <td>2.362331</td>\n",
       "      <td>1.343769</td>\n",
       "      <td>16.003790</td>\n",
       "      <td>185.364347</td>\n",
       "    </tr>\n",
       "  </tbody>\n",
       "</table>\n",
       "</div>"
      ],
      "text/plain": [
       "                  f0             f1             f2        product\n",
       "count  100000.000000  100000.000000  100000.000000  100000.000000\n",
       "mean        0.500419       0.250143       2.502647      92.500000\n",
       "std         0.871832       0.504433       3.248248      44.288691\n",
       "min        -1.408605      -0.848218     -12.088328       0.000000\n",
       "25%        -0.072580      -0.200881       0.287748      56.497507\n",
       "50%         0.502360       0.250252       2.515969      91.849972\n",
       "75%         1.073581       0.700646       4.715088     128.564089\n",
       "max         2.362331       1.343769      16.003790     185.364347"
      ]
     },
     "metadata": {},
     "output_type": "display_data"
    },
    {
     "name": "stdout",
     "output_type": "stream",
     "text": [
      "\n",
      "<class 'pandas.core.frame.DataFrame'>\n",
      "RangeIndex: 100000 entries, 0 to 99999\n",
      "Data columns (total 5 columns):\n",
      "id         100000 non-null object\n",
      "f0         100000 non-null float64\n",
      "f1         100000 non-null float64\n",
      "f2         100000 non-null float64\n",
      "product    100000 non-null float64\n",
      "dtypes: float64(4), object(1)\n",
      "memory usage: 3.8+ MB\n"
     ]
    },
    {
     "data": {
      "text/plain": [
       "None"
      ]
     },
     "metadata": {},
     "output_type": "display_data"
    },
    {
     "name": "stdout",
     "output_type": "stream",
     "text": [
      "Нулевых запасов в скважине 1\n",
      "Дубликаты по id: 10\n",
      "\n",
      "---------------------------------\n",
      "\n"
     ]
    },
    {
     "data": {
      "text/html": [
       "<div>\n",
       "<style scoped>\n",
       "    .dataframe tbody tr th:only-of-type {\n",
       "        vertical-align: middle;\n",
       "    }\n",
       "\n",
       "    .dataframe tbody tr th {\n",
       "        vertical-align: top;\n",
       "    }\n",
       "\n",
       "    .dataframe thead th {\n",
       "        text-align: right;\n",
       "    }\n",
       "</style>\n",
       "<table border=\"1\" class=\"dataframe\">\n",
       "  <thead>\n",
       "    <tr style=\"text-align: right;\">\n",
       "      <th></th>\n",
       "      <th>id</th>\n",
       "      <th>f0</th>\n",
       "      <th>f1</th>\n",
       "      <th>f2</th>\n",
       "      <th>product</th>\n",
       "    </tr>\n",
       "  </thead>\n",
       "  <tbody>\n",
       "    <tr>\n",
       "      <td>0</td>\n",
       "      <td>kBEdx</td>\n",
       "      <td>-15.001348</td>\n",
       "      <td>-8.276000</td>\n",
       "      <td>-0.005876</td>\n",
       "      <td>3.179103</td>\n",
       "    </tr>\n",
       "    <tr>\n",
       "      <td>1</td>\n",
       "      <td>62mP7</td>\n",
       "      <td>14.272088</td>\n",
       "      <td>-3.475083</td>\n",
       "      <td>0.999183</td>\n",
       "      <td>26.953261</td>\n",
       "    </tr>\n",
       "    <tr>\n",
       "      <td>2</td>\n",
       "      <td>vyE1P</td>\n",
       "      <td>6.263187</td>\n",
       "      <td>-5.948386</td>\n",
       "      <td>5.001160</td>\n",
       "      <td>134.766305</td>\n",
       "    </tr>\n",
       "  </tbody>\n",
       "</table>\n",
       "</div>"
      ],
      "text/plain": [
       "      id         f0        f1        f2     product\n",
       "0  kBEdx -15.001348 -8.276000 -0.005876    3.179103\n",
       "1  62mP7  14.272088 -3.475083  0.999183   26.953261\n",
       "2  vyE1P   6.263187 -5.948386  5.001160  134.766305"
      ]
     },
     "metadata": {},
     "output_type": "display_data"
    },
    {
     "data": {
      "text/html": [
       "<div>\n",
       "<style scoped>\n",
       "    .dataframe tbody tr th:only-of-type {\n",
       "        vertical-align: middle;\n",
       "    }\n",
       "\n",
       "    .dataframe tbody tr th {\n",
       "        vertical-align: top;\n",
       "    }\n",
       "\n",
       "    .dataframe thead th {\n",
       "        text-align: right;\n",
       "    }\n",
       "</style>\n",
       "<table border=\"1\" class=\"dataframe\">\n",
       "  <thead>\n",
       "    <tr style=\"text-align: right;\">\n",
       "      <th></th>\n",
       "      <th>f0</th>\n",
       "      <th>f1</th>\n",
       "      <th>f2</th>\n",
       "      <th>product</th>\n",
       "    </tr>\n",
       "  </thead>\n",
       "  <tbody>\n",
       "    <tr>\n",
       "      <td>count</td>\n",
       "      <td>100000.000000</td>\n",
       "      <td>100000.000000</td>\n",
       "      <td>100000.000000</td>\n",
       "      <td>100000.000000</td>\n",
       "    </tr>\n",
       "    <tr>\n",
       "      <td>mean</td>\n",
       "      <td>1.141296</td>\n",
       "      <td>-4.796579</td>\n",
       "      <td>2.494541</td>\n",
       "      <td>68.825000</td>\n",
       "    </tr>\n",
       "    <tr>\n",
       "      <td>std</td>\n",
       "      <td>8.965932</td>\n",
       "      <td>5.119872</td>\n",
       "      <td>1.703572</td>\n",
       "      <td>45.944423</td>\n",
       "    </tr>\n",
       "    <tr>\n",
       "      <td>min</td>\n",
       "      <td>-31.609576</td>\n",
       "      <td>-26.358598</td>\n",
       "      <td>-0.018144</td>\n",
       "      <td>0.000000</td>\n",
       "    </tr>\n",
       "    <tr>\n",
       "      <td>25%</td>\n",
       "      <td>-6.298551</td>\n",
       "      <td>-8.267985</td>\n",
       "      <td>1.000021</td>\n",
       "      <td>26.953261</td>\n",
       "    </tr>\n",
       "    <tr>\n",
       "      <td>50%</td>\n",
       "      <td>1.153055</td>\n",
       "      <td>-4.813172</td>\n",
       "      <td>2.011479</td>\n",
       "      <td>57.085625</td>\n",
       "    </tr>\n",
       "    <tr>\n",
       "      <td>75%</td>\n",
       "      <td>8.621015</td>\n",
       "      <td>-1.332816</td>\n",
       "      <td>3.999904</td>\n",
       "      <td>107.813044</td>\n",
       "    </tr>\n",
       "    <tr>\n",
       "      <td>max</td>\n",
       "      <td>29.421755</td>\n",
       "      <td>18.734063</td>\n",
       "      <td>5.019721</td>\n",
       "      <td>137.945408</td>\n",
       "    </tr>\n",
       "  </tbody>\n",
       "</table>\n",
       "</div>"
      ],
      "text/plain": [
       "                  f0             f1             f2        product\n",
       "count  100000.000000  100000.000000  100000.000000  100000.000000\n",
       "mean        1.141296      -4.796579       2.494541      68.825000\n",
       "std         8.965932       5.119872       1.703572      45.944423\n",
       "min       -31.609576     -26.358598      -0.018144       0.000000\n",
       "25%        -6.298551      -8.267985       1.000021      26.953261\n",
       "50%         1.153055      -4.813172       2.011479      57.085625\n",
       "75%         8.621015      -1.332816       3.999904     107.813044\n",
       "max        29.421755      18.734063       5.019721     137.945408"
      ]
     },
     "metadata": {},
     "output_type": "display_data"
    },
    {
     "name": "stdout",
     "output_type": "stream",
     "text": [
      "\n",
      "<class 'pandas.core.frame.DataFrame'>\n",
      "RangeIndex: 100000 entries, 0 to 99999\n",
      "Data columns (total 5 columns):\n",
      "id         100000 non-null object\n",
      "f0         100000 non-null float64\n",
      "f1         100000 non-null float64\n",
      "f2         100000 non-null float64\n",
      "product    100000 non-null float64\n",
      "dtypes: float64(4), object(1)\n",
      "memory usage: 3.8+ MB\n"
     ]
    },
    {
     "data": {
      "text/plain": [
       "None"
      ]
     },
     "metadata": {},
     "output_type": "display_data"
    },
    {
     "name": "stdout",
     "output_type": "stream",
     "text": [
      "Нулевых запасов в скважине 8235\n",
      "Дубликаты по id: 4\n",
      "\n",
      "---------------------------------\n",
      "\n"
     ]
    },
    {
     "data": {
      "text/html": [
       "<div>\n",
       "<style scoped>\n",
       "    .dataframe tbody tr th:only-of-type {\n",
       "        vertical-align: middle;\n",
       "    }\n",
       "\n",
       "    .dataframe tbody tr th {\n",
       "        vertical-align: top;\n",
       "    }\n",
       "\n",
       "    .dataframe thead th {\n",
       "        text-align: right;\n",
       "    }\n",
       "</style>\n",
       "<table border=\"1\" class=\"dataframe\">\n",
       "  <thead>\n",
       "    <tr style=\"text-align: right;\">\n",
       "      <th></th>\n",
       "      <th>id</th>\n",
       "      <th>f0</th>\n",
       "      <th>f1</th>\n",
       "      <th>f2</th>\n",
       "      <th>product</th>\n",
       "    </tr>\n",
       "  </thead>\n",
       "  <tbody>\n",
       "    <tr>\n",
       "      <td>0</td>\n",
       "      <td>fwXo0</td>\n",
       "      <td>-1.146987</td>\n",
       "      <td>0.963328</td>\n",
       "      <td>-0.828965</td>\n",
       "      <td>27.758673</td>\n",
       "    </tr>\n",
       "    <tr>\n",
       "      <td>1</td>\n",
       "      <td>WJtFt</td>\n",
       "      <td>0.262778</td>\n",
       "      <td>0.269839</td>\n",
       "      <td>-2.530187</td>\n",
       "      <td>56.069697</td>\n",
       "    </tr>\n",
       "    <tr>\n",
       "      <td>2</td>\n",
       "      <td>ovLUW</td>\n",
       "      <td>0.194587</td>\n",
       "      <td>0.289035</td>\n",
       "      <td>-5.586433</td>\n",
       "      <td>62.871910</td>\n",
       "    </tr>\n",
       "  </tbody>\n",
       "</table>\n",
       "</div>"
      ],
      "text/plain": [
       "      id        f0        f1        f2    product\n",
       "0  fwXo0 -1.146987  0.963328 -0.828965  27.758673\n",
       "1  WJtFt  0.262778  0.269839 -2.530187  56.069697\n",
       "2  ovLUW  0.194587  0.289035 -5.586433  62.871910"
      ]
     },
     "metadata": {},
     "output_type": "display_data"
    },
    {
     "data": {
      "text/html": [
       "<div>\n",
       "<style scoped>\n",
       "    .dataframe tbody tr th:only-of-type {\n",
       "        vertical-align: middle;\n",
       "    }\n",
       "\n",
       "    .dataframe tbody tr th {\n",
       "        vertical-align: top;\n",
       "    }\n",
       "\n",
       "    .dataframe thead th {\n",
       "        text-align: right;\n",
       "    }\n",
       "</style>\n",
       "<table border=\"1\" class=\"dataframe\">\n",
       "  <thead>\n",
       "    <tr style=\"text-align: right;\">\n",
       "      <th></th>\n",
       "      <th>f0</th>\n",
       "      <th>f1</th>\n",
       "      <th>f2</th>\n",
       "      <th>product</th>\n",
       "    </tr>\n",
       "  </thead>\n",
       "  <tbody>\n",
       "    <tr>\n",
       "      <td>count</td>\n",
       "      <td>100000.000000</td>\n",
       "      <td>100000.000000</td>\n",
       "      <td>100000.000000</td>\n",
       "      <td>100000.000000</td>\n",
       "    </tr>\n",
       "    <tr>\n",
       "      <td>mean</td>\n",
       "      <td>0.002023</td>\n",
       "      <td>-0.002081</td>\n",
       "      <td>2.495128</td>\n",
       "      <td>95.000000</td>\n",
       "    </tr>\n",
       "    <tr>\n",
       "      <td>std</td>\n",
       "      <td>1.732045</td>\n",
       "      <td>1.730417</td>\n",
       "      <td>3.473445</td>\n",
       "      <td>44.749921</td>\n",
       "    </tr>\n",
       "    <tr>\n",
       "      <td>min</td>\n",
       "      <td>-8.760004</td>\n",
       "      <td>-7.084020</td>\n",
       "      <td>-11.970335</td>\n",
       "      <td>0.000000</td>\n",
       "    </tr>\n",
       "    <tr>\n",
       "      <td>25%</td>\n",
       "      <td>-1.162288</td>\n",
       "      <td>-1.174820</td>\n",
       "      <td>0.130359</td>\n",
       "      <td>59.450441</td>\n",
       "    </tr>\n",
       "    <tr>\n",
       "      <td>50%</td>\n",
       "      <td>0.009424</td>\n",
       "      <td>-0.009482</td>\n",
       "      <td>2.484236</td>\n",
       "      <td>94.925613</td>\n",
       "    </tr>\n",
       "    <tr>\n",
       "      <td>75%</td>\n",
       "      <td>1.158535</td>\n",
       "      <td>1.163678</td>\n",
       "      <td>4.858794</td>\n",
       "      <td>130.595027</td>\n",
       "    </tr>\n",
       "    <tr>\n",
       "      <td>max</td>\n",
       "      <td>7.238262</td>\n",
       "      <td>7.844801</td>\n",
       "      <td>16.739402</td>\n",
       "      <td>190.029838</td>\n",
       "    </tr>\n",
       "  </tbody>\n",
       "</table>\n",
       "</div>"
      ],
      "text/plain": [
       "                  f0             f1             f2        product\n",
       "count  100000.000000  100000.000000  100000.000000  100000.000000\n",
       "mean        0.002023      -0.002081       2.495128      95.000000\n",
       "std         1.732045       1.730417       3.473445      44.749921\n",
       "min        -8.760004      -7.084020     -11.970335       0.000000\n",
       "25%        -1.162288      -1.174820       0.130359      59.450441\n",
       "50%         0.009424      -0.009482       2.484236      94.925613\n",
       "75%         1.158535       1.163678       4.858794     130.595027\n",
       "max         7.238262       7.844801      16.739402     190.029838"
      ]
     },
     "metadata": {},
     "output_type": "display_data"
    },
    {
     "name": "stdout",
     "output_type": "stream",
     "text": [
      "\n",
      "<class 'pandas.core.frame.DataFrame'>\n",
      "RangeIndex: 100000 entries, 0 to 99999\n",
      "Data columns (total 5 columns):\n",
      "id         100000 non-null object\n",
      "f0         100000 non-null float64\n",
      "f1         100000 non-null float64\n",
      "f2         100000 non-null float64\n",
      "product    100000 non-null float64\n",
      "dtypes: float64(4), object(1)\n",
      "memory usage: 3.8+ MB\n"
     ]
    },
    {
     "data": {
      "text/plain": [
       "None"
      ]
     },
     "metadata": {},
     "output_type": "display_data"
    },
    {
     "name": "stdout",
     "output_type": "stream",
     "text": [
      "Нулевых запасов в скважине 1\n",
      "Дубликаты по id: 4\n",
      "\n",
      "---------------------------------\n",
      "\n"
     ]
    }
   ],
   "source": [
    "for i in [data_0, data_1, data_2]:\n",
    "    display(i.head(3))\n",
    "    display(i.describe())\n",
    "    print()\n",
    "    display(i.info())\n",
    "    print('Нулевых запасов в скважине', i[i['product']==0]['id'].count())\n",
    "    print('Дубликаты по id:', i['id'].duplicated().sum())\n",
    "    print()\n",
    "    print('---------------------------------')\n",
    "    print()"
   ]
  },
  {
   "cell_type": "markdown",
   "metadata": {},
   "source": [
    "В трех таблицах находятся данные геологоразведки для трех регионов. Таблицы одинакового формата и содержат следующие столбцы:\n",
    "* `id` — уникальный идентификатор скважины;\n",
    "* `f0`, `f1`, `f2` — три признака точек (неважно, что они означают, но сами признаки значимы);\n",
    "* `product` — объём запасов в скважине (тыс. баррелей).\n",
    "\n",
    "Пропусков в таблицах нет. В каждой таблице присутствуют дубликаты по столбцу `id`, возможно некоторые скважины были ошибочно исследованы повторно. Удалим дубликаты, оставив последнюю запись."
   ]
  },
  {
   "cell_type": "code",
   "execution_count": 5,
   "metadata": {},
   "outputs": [],
   "source": [
    "data_0 = data_0.drop_duplicates(subset=['id'], keep='last').reset_index(drop=True)\n",
    "data_1 = data_1.drop_duplicates(subset=['id'], keep='last').reset_index(drop=True)\n",
    "data_2 = data_2.drop_duplicates(subset=['id'], keep='last').reset_index(drop=True)"
   ]
  },
  {
   "cell_type": "code",
   "execution_count": 6,
   "metadata": {
    "scrolled": false
   },
   "outputs": [
    {
     "name": "stdout",
     "output_type": "stream",
     "text": [
      "Дубликаты по id: 0\n",
      "Дубликаты по id: 0\n",
      "Дубликаты по id: 0\n"
     ]
    }
   ],
   "source": [
    "for i in [data_0, data_1, data_2]:\n",
    "    print('Дубликаты по id:', i['id'].duplicated().sum())"
   ]
  },
  {
   "cell_type": "markdown",
   "metadata": {},
   "source": [
    "В таблице, которая относится к региону 1 много 0 в столбце `product` по сравнению с другими регионами, возможно это потеря данных. Посмотрим на график распределения значения по столбцу `product` в каждом регионе."
   ]
  },
  {
   "cell_type": "code",
   "execution_count": 7,
   "metadata": {
    "scrolled": false
   },
   "outputs": [
    {
     "data": {
      "text/plain": [
       "<matplotlib.axes._subplots.AxesSubplot at 0x7f749c427d50>"
      ]
     },
     "execution_count": 7,
     "metadata": {},
     "output_type": "execute_result"
    },
    {
     "data": {
      "image/png": "[encoded data removed]",
      "text/plain": [
       "<Figure size 1080x360 with 1 Axes>"
      ]
     },
     "metadata": {
      "needs_background": "light"
     },
     "output_type": "display_data"
    }
   ],
   "source": [
    "data_0['product'].plot(kind='hist', bins=100, grid=True,\n",
    "                       title='Распределение объемов запасов в скважинах региона 0')"
   ]
  },
  {
   "cell_type": "code",
   "execution_count": 8,
   "metadata": {
    "scrolled": true
   },
   "outputs": [
    {
     "data": {
      "text/plain": [
       "<matplotlib.axes._subplots.AxesSubplot at 0x7f7419639a90>"
      ]
     },
     "execution_count": 8,
     "metadata": {},
     "output_type": "execute_result"
    },
    {
     "data": {
      "image/png": "[encoded data removed]",
      "text/plain": [
       "<Figure size 1080x360 with 1 Axes>"
      ]
     },
     "metadata": {
      "needs_background": "light"
     },
     "output_type": "display_data"
    }
   ],
   "source": [
    "data_1['product'].plot(kind='hist', bins=100, grid=True, \n",
    "                       title='Распределение объемов запасов в скважинах региона 1')"
   ]
  },
  {
   "cell_type": "code",
   "execution_count": 9,
   "metadata": {
    "scrolled": true
   },
   "outputs": [
    {
     "data": {
      "text/plain": [
       "<matplotlib.axes._subplots.AxesSubplot at 0x7f741968bc50>"
      ]
     },
     "execution_count": 9,
     "metadata": {},
     "output_type": "execute_result"
    },
    {
     "data": {
      "image/png": "[encoded data removed]",
      "text/plain": [
       "<Figure size 1080x360 with 1 Axes>"
      ]
     },
     "metadata": {
      "needs_background": "light"
     },
     "output_type": "display_data"
    }
   ],
   "source": [
    "data_2['product'].plot(kind='hist', bins=100, grid=True, \n",
    "                       title='Распределение объемов запасов в скважинах региона 2')"
   ]
  },
  {
   "cell_type": "markdown",
   "metadata": {},
   "source": [
    "График региона 1 очень сильно отличается по распределению от графиков регионов 0 и 2. Будем учитывать это при дальнейшей работе.\n",
    "\n",
    "Данные исследованы, очищены от дубликатов и подготовлены к дальнейшей работе."
   ]
  },
  {
   "cell_type": "markdown",
   "metadata": {},
   "source": [
    "## Обучение и проверка модели"
   ]
  },
  {
   "cell_type": "markdown",
   "metadata": {},
   "source": [
    "Напишем функции для разбиения данных и обучения модели и вывода результатов."
   ]
  },
  {
   "cell_type": "code",
   "execution_count": 10,
   "metadata": {},
   "outputs": [],
   "source": [
    "def split_data(data):\n",
    "    \"\"\"\n",
    "    Выделяет из данных целевой признак и признаки для работы модели. \n",
    "    Разбивает данные на обучающую и валидирующую выборки.\n",
    "    \"\"\"\n",
    "    features = data[['f0', 'f1', 'f2']]\n",
    "    target = data['product']\n",
    "    features_train, features_valid, target_train, target_valid = train_test_split(features, target, \n",
    "                                                                              test_size = 0.25, random_state=12345)\n",
    "    return features_train, features_valid, target_train, target_valid"
   ]
  },
  {
   "cell_type": "code",
   "execution_count": 11,
   "metadata": {},
   "outputs": [],
   "source": [
    "def model_res(features_train, features_valid, target_train, target_valid):\n",
    "    \"\"\"\n",
    "    Обучает модель, делает предсказание на валидирующей выборке.\n",
    "    Выводит на экран метрики R2 и RMSE и средние запасы сырья.\n",
    "    Возвращает модель и предсказания модели.\n",
    "    \"\"\"\n",
    "    model = LinearRegression()\n",
    "    model.fit(features_train, target_train)\n",
    "    pred = model.predict(features_valid)\n",
    "    print('R2 score', model.score(features_valid, target_valid))\n",
    "    print('RMSE:', np.sqrt(mean_squared_error(target_valid, pred)))\n",
    "    print('Средний предсказанный запас сырья', np.mean(pred))\n",
    "    print('Средний реальный запас сырья',np.mean(target_valid))\n",
    "    return model, pd.Series(pred)"
   ]
  },
  {
   "cell_type": "markdown",
   "metadata": {},
   "source": [
    "Последовательно исследуем три региона."
   ]
  },
  {
   "cell_type": "markdown",
   "metadata": {},
   "source": [
    "### Регион 0"
   ]
  },
  {
   "cell_type": "code",
   "execution_count": 12,
   "metadata": {},
   "outputs": [],
   "source": [
    "features_train_0, features_valid_0, target_train_0, target_valid_0 = split_data(data_0)"
   ]
  },
  {
   "cell_type": "code",
   "execution_count": 13,
   "metadata": {
    "scrolled": true
   },
   "outputs": [
    {
     "name": "stdout",
     "output_type": "stream",
     "text": [
      "R2 score 0.2686065064871146\n",
      "RMSE: 37.92658327086352\n",
      "Средний предсказанный запас сырья 92.595815339811\n",
      "Средний реальный запас сырья 92.34784935243168\n"
     ]
    }
   ],
   "source": [
    "model_0, pred_0 = model_res(features_train_0, features_valid_0, target_train_0, target_valid_0)"
   ]
  },
  {
   "cell_type": "code",
   "execution_count": 14,
   "metadata": {},
   "outputs": [
    {
     "data": {
      "text/plain": [
       "<matplotlib.axes._subplots.AxesSubplot at 0x7f7418537650>"
      ]
     },
     "execution_count": 14,
     "metadata": {},
     "output_type": "execute_result"
    },
    {
     "data": {
      "image/png": "[encoded data removed]",
      "text/plain": [
       "<Figure size 1080x360 with 1 Axes>"
      ]
     },
     "metadata": {
      "needs_background": "light"
     },
     "output_type": "display_data"
    }
   ],
   "source": [
    "pred_0.plot(kind='hist', bins=100, grid=True, \n",
    "                       title='Предсказанное распределение объемов запасов в скважинах региона 0')"
   ]
  },
  {
   "cell_type": "markdown",
   "metadata": {},
   "source": [
    "### Регион 1"
   ]
  },
  {
   "cell_type": "code",
   "execution_count": 15,
   "metadata": {},
   "outputs": [],
   "source": [
    "features_train_1, features_valid_1, target_train_1, target_valid_1 = split_data(data_1)"
   ]
  },
  {
   "cell_type": "code",
   "execution_count": 16,
   "metadata": {
    "scrolled": true
   },
   "outputs": [
    {
     "name": "stdout",
     "output_type": "stream",
     "text": [
      "R2 score 0.9996289491331055\n",
      "RMSE: 0.8877441757012697\n",
      "Средний предсказанный запас сырья 68.52866705781803\n",
      "Средний реальный запас сырья 68.53697799242255\n"
     ]
    }
   ],
   "source": [
    "model_1, pred_1 = model_res(features_train_1, features_valid_1, target_train_1, target_valid_1)"
   ]
  },
  {
   "cell_type": "code",
   "execution_count": 17,
   "metadata": {},
   "outputs": [
    {
     "data": {
      "text/plain": [
       "<matplotlib.axes._subplots.AxesSubplot at 0x7f7417c7abd0>"
      ]
     },
     "execution_count": 17,
     "metadata": {},
     "output_type": "execute_result"
    },
    {
     "data": {
      "image/png": "[encoded data removed]",
      "text/plain": [
       "<Figure size 1080x360 with 1 Axes>"
      ]
     },
     "metadata": {
      "needs_background": "light"
     },
     "output_type": "display_data"
    }
   ],
   "source": [
    "pred_1.plot(kind='hist', bins=100, grid=True, \n",
    "                       title='Предсказанное распределение объемов запасов в скважинах региона 1')"
   ]
  },
  {
   "cell_type": "markdown",
   "metadata": {},
   "source": [
    "### Регион 2"
   ]
  },
  {
   "cell_type": "code",
   "execution_count": 18,
   "metadata": {},
   "outputs": [],
   "source": [
    "features_train_2, features_valid_2, target_train_2, target_valid_2 = split_data(data_2)"
   ]
  },
  {
   "cell_type": "code",
   "execution_count": 19,
   "metadata": {},
   "outputs": [
    {
     "name": "stdout",
     "output_type": "stream",
     "text": [
      "R2 score 0.196359615376824\n",
      "RMSE: 40.18554498370539\n",
      "Средний предсказанный запас сырья 94.93593212204372\n",
      "Средний реальный запас сырья 94.56578475991805\n"
     ]
    }
   ],
   "source": [
    "model_2, pred_2 = model_res(features_train_2, features_valid_2, target_train_2, target_valid_2)"
   ]
  },
  {
   "cell_type": "code",
   "execution_count": 20,
   "metadata": {
    "scrolled": true
   },
   "outputs": [
    {
     "data": {
      "text/plain": [
       "<matplotlib.axes._subplots.AxesSubplot at 0x7f7417c44e90>"
      ]
     },
     "execution_count": 20,
     "metadata": {},
     "output_type": "execute_result"
    },
    {
     "data": {
      "image/png": "[encoded data removed]",
      "text/plain": [
       "<Figure size 1080x360 with 1 Axes>"
      ]
     },
     "metadata": {
      "needs_background": "light"
     },
     "output_type": "display_data"
    }
   ],
   "source": [
    "pred_2.plot(kind='hist', bins=100, grid=True, \n",
    "                       title='Предсказанное распределение объемов запасов в скважинах региона 2')"
   ]
  },
  {
   "cell_type": "markdown",
   "metadata": {},
   "source": [
    "Мы исследовали три региона. В первом и третьем результаты похожи, средний запас нефти достаточно высокий - 92 и 94 тыс баррелей соответственно, точность моделей также близка, но достаточно низкая, RMSE первой 37,93, третьей - 40,19. Во втором регионе средний запас ниже - 68 тыс баррелей, а точность модели очень высокая, RMSE 0,89."
   ]
  },
  {
   "cell_type": "markdown",
   "metadata": {},
   "source": [
    "## Подготовка к расчёту прибыли"
   ]
  },
  {
   "cell_type": "markdown",
   "metadata": {},
   "source": [
    "Все ключевые значения для расчётов сохраним в отдельных переменных."
   ]
  },
  {
   "cell_type": "code",
   "execution_count": 21,
   "metadata": {},
   "outputs": [],
   "source": [
    "max_explored_wells =  500\n",
    "chosen_wells = 200\n",
    "budget = 10e9\n",
    "price_per_unit = 450000\n",
    "loss_prob = 0.025"
   ]
  },
  {
   "cell_type": "markdown",
   "metadata": {},
   "source": [
    "Рассчитаем достаточный объём сырья для безубыточной разработки новой скважины. Сравним полученный объём сырья со средним запасом в каждом регионе."
   ]
  },
  {
   "cell_type": "code",
   "execution_count": 22,
   "metadata": {
    "scrolled": false
   },
   "outputs": [
    {
     "name": "stdout",
     "output_type": "stream",
     "text": [
      "Средний объем нефти на точку для безубыточной разработки 111 тыс. барелей\n"
     ]
    }
   ],
   "source": [
    "one_well_cost = budget / chosen_wells\n",
    "min_volume = one_well_cost / price_per_unit\n",
    "print('Средний объем нефти на точку для безубыточной разработки', int(min_volume), 'тыс. барелей')"
   ]
  },
  {
   "cell_type": "markdown",
   "metadata": {},
   "source": [
    "Средний объем нефти на точку для безубыточной разработки выше, чем средний объем нефти на точку во всех трех регионах. Без отбора наиболее подходящих точек разработка будет убыточной."
   ]
  },
  {
   "cell_type": "markdown",
   "metadata": {},
   "source": [
    "## Расчёт прибыли и рисков "
   ]
  },
  {
   "cell_type": "code",
   "execution_count": 23,
   "metadata": {},
   "outputs": [],
   "source": [
    "def oil_profit_calculation(target, probabilities, count):\n",
    "    \"\"\"\n",
    "    Функция для расчета прибыли\n",
    "    \"\"\"\n",
    "    probs_sorted = probabilities.sort_values(ascending=False)\n",
    "    selected = target[probs_sorted.index][:count]\n",
    "    return price_per_unit * selected.sum() - budget"
   ]
  },
  {
   "cell_type": "code",
   "execution_count": 24,
   "metadata": {},
   "outputs": [],
   "source": [
    "state = np.random.RandomState(12345)\n",
    "def bootstrap_1000(target, probs):\n",
    "    values=[]\n",
    "    lost = 0\n",
    "    for i in range(1000):\n",
    "        target_sample = target.sample(replace=True, random_state=state, n=max_explored_wells)\n",
    "        probs_sample = probs[target_sample.index]\n",
    "        profit = oil_profit_calculation(target_sample, probs_sample, chosen_wells)\n",
    "        if profit < 0:\n",
    "            lost +=1\n",
    "        values.append(profit)\n",
    "    \n",
    "    values = pd.Series(values)\n",
    "    lower = values.quantile(0.025)\n",
    "    upper = values.quantile(0.975)\n",
    "    average = values.mean()\n",
    "    risk = lost / 1000\n",
    "    print('Средняя прибыль по региону = {:.2f} руб.'.format(average))\n",
    "    print('95% доверительный интервал от {:.2f} до {:.2f} руб.'.format(lower, upper))\n",
    "    print('Процент риска {:.2%}'.format(risk))\n",
    "    return average, lower, upper, risk"
   ]
  },
  {
   "cell_type": "code",
   "execution_count": 25,
   "metadata": {},
   "outputs": [
    {
     "name": "stdout",
     "output_type": "stream",
     "text": [
      "Средняя прибыль по региону = 427442112.37 руб.\n",
      "95% доверительный интервал от -127167882.34 до 965901983.47 руб.\n",
      "Процент риска 6.00%\n"
     ]
    },
    {
     "data": {
      "text/plain": [
       "(427442112.3721394, -127167882.34295167, 965901983.4715176, 0.06)"
      ]
     },
     "execution_count": 25,
     "metadata": {},
     "output_type": "execute_result"
    }
   ],
   "source": [
    "bootstrap_1000(target_valid_0.reset_index(drop=True), pred_0)"
   ]
  },
  {
   "cell_type": "code",
   "execution_count": 26,
   "metadata": {},
   "outputs": [
    {
     "name": "stdout",
     "output_type": "stream",
     "text": [
      "Средняя прибыль по региону = 505287967.29 руб.\n",
      "95% доверительный интервал от 94544651.51 до 983574641.70 руб.\n",
      "Процент риска 1.10%\n"
     ]
    },
    {
     "data": {
      "text/plain": [
       "(505287967.29328614, 94544651.50721541, 983574641.695121, 0.011)"
      ]
     },
     "execution_count": 26,
     "metadata": {},
     "output_type": "execute_result"
    }
   ],
   "source": [
    "bootstrap_1000(target_valid_1.reset_index(drop=True), pred_1)"
   ]
  },
  {
   "cell_type": "code",
   "execution_count": 27,
   "metadata": {
    "scrolled": true
   },
   "outputs": [
    {
     "name": "stdout",
     "output_type": "stream",
     "text": [
      "Средняя прибыль по региону = 344563372.19 руб.\n",
      "95% доверительный интервал от -230002074.76 до 919601673.78 руб.\n",
      "Процент риска 11.00%\n"
     ]
    },
    {
     "data": {
      "text/plain": [
       "(344563372.1939603, -230002074.76368693, 919601673.777746, 0.11)"
      ]
     },
     "execution_count": 27,
     "metadata": {},
     "output_type": "execute_result"
    }
   ],
   "source": [
    "bootstrap_1000(target_valid_2.reset_index(drop=True), pred_2)"
   ]
  },
  {
   "cell_type": "markdown",
   "metadata": {},
   "source": [
    "По результатам расчетов, прибыльными могут оказаться разработки во всех трех регионах, однако только во втором регионе в 95% доверительный интервал не входят отрицательные значения, то есть убытки и процент риска там минимален и входит в заданный лимит в 2,5%. Поэтому для разработки мы рекомендуем выбрать второй регион."
   ]
  }
 ],
 "metadata": {
  "ExecuteTimeLog": [
   {
    "duration": 533,
    "start_time": "2022-02-23T08:28:19.076Z"
   },
   {
    "duration": 5486,
    "start_time": "2022-02-23T08:29:14.587Z"
   },
   {
    "duration": 13,
    "start_time": "2022-02-23T08:29:29.952Z"
   },
   {
    "duration": 8,
    "start_time": "2022-02-23T08:29:39.412Z"
   },
   {
    "duration": 8,
    "start_time": "2022-02-23T08:29:46.470Z"
   },
   {
    "duration": 12,
    "start_time": "2022-02-23T08:30:36.515Z"
   },
   {
    "duration": 10,
    "start_time": "2022-02-23T08:30:42.895Z"
   },
   {
    "duration": 11,
    "start_time": "2022-02-23T08:30:58.766Z"
   },
   {
    "duration": 8,
    "start_time": "2022-02-23T08:30:59.078Z"
   },
   {
    "duration": 38,
    "start_time": "2022-02-23T08:31:36.113Z"
   },
   {
    "duration": 39,
    "start_time": "2022-02-23T08:31:40.165Z"
   },
   {
    "duration": 38,
    "start_time": "2022-02-23T08:32:06.260Z"
   },
   {
    "duration": 37,
    "start_time": "2022-02-23T08:32:06.661Z"
   },
   {
    "duration": 39,
    "start_time": "2022-02-23T08:32:13.422Z"
   },
   {
    "duration": 37,
    "start_time": "2022-02-23T08:32:18.937Z"
   },
   {
    "duration": 9,
    "start_time": "2022-02-23T08:34:55.560Z"
   },
   {
    "duration": 130,
    "start_time": "2022-02-23T08:38:44.745Z"
   },
   {
    "duration": 127,
    "start_time": "2022-02-23T08:39:09.271Z"
   },
   {
    "duration": 123,
    "start_time": "2022-02-23T08:39:16.072Z"
   },
   {
    "duration": 123,
    "start_time": "2022-02-23T08:39:21.455Z"
   },
   {
    "duration": 145,
    "start_time": "2022-02-23T08:39:30.525Z"
   },
   {
    "duration": 122,
    "start_time": "2022-02-23T08:39:39.191Z"
   },
   {
    "duration": 157,
    "start_time": "2022-02-23T08:40:42.189Z"
   },
   {
    "duration": 67,
    "start_time": "2022-02-23T08:41:29.862Z"
   },
   {
    "duration": 97,
    "start_time": "2022-02-23T08:43:28.630Z"
   },
   {
    "duration": 67,
    "start_time": "2022-02-23T08:46:52.997Z"
   },
   {
    "duration": 62,
    "start_time": "2022-02-23T08:47:53.072Z"
   },
   {
    "duration": 147,
    "start_time": "2022-02-23T08:48:17.863Z"
   },
   {
    "duration": 436,
    "start_time": "2022-02-23T09:01:19.059Z"
   },
   {
    "duration": 3,
    "start_time": "2022-02-23T10:16:27.550Z"
   },
   {
    "duration": 441,
    "start_time": "2022-02-23T10:19:27.913Z"
   },
   {
    "duration": 108,
    "start_time": "2022-02-23T10:19:39.070Z"
   },
   {
    "duration": 16,
    "start_time": "2022-02-23T10:19:42.676Z"
   },
   {
    "duration": 28,
    "start_time": "2022-02-23T10:20:05.148Z"
   },
   {
    "duration": 112,
    "start_time": "2022-02-23T10:20:17.301Z"
   },
   {
    "duration": 30,
    "start_time": "2022-02-23T10:20:18.096Z"
   },
   {
    "duration": 46,
    "start_time": "2022-02-23T10:20:42.316Z"
   },
   {
    "duration": 31,
    "start_time": "2022-02-23T10:20:43.082Z"
   },
   {
    "duration": 47,
    "start_time": "2022-02-23T10:21:51.096Z"
   },
   {
    "duration": 31,
    "start_time": "2022-02-23T10:21:52.724Z"
   },
   {
    "duration": 60,
    "start_time": "2022-02-23T10:26:51.667Z"
   },
   {
    "duration": 50,
    "start_time": "2022-02-23T10:26:52.427Z"
   },
   {
    "duration": 60,
    "start_time": "2022-02-23T10:29:42.655Z"
   },
   {
    "duration": 39,
    "start_time": "2022-02-23T10:29:43.347Z"
   },
   {
    "duration": 62,
    "start_time": "2022-02-23T10:30:27.114Z"
   },
   {
    "duration": 29,
    "start_time": "2022-02-23T10:30:27.806Z"
   },
   {
    "duration": 318,
    "start_time": "2022-02-23T10:31:16.382Z"
   },
   {
    "duration": 60,
    "start_time": "2022-02-23T10:31:27.668Z"
   },
   {
    "duration": 31,
    "start_time": "2022-02-23T10:31:29.205Z"
   },
   {
    "duration": 65,
    "start_time": "2022-02-23T10:32:00.043Z"
   },
   {
    "duration": 34,
    "start_time": "2022-02-23T10:32:00.714Z"
   },
   {
    "duration": 58,
    "start_time": "2022-02-23T10:32:36.776Z"
   },
   {
    "duration": 31,
    "start_time": "2022-02-23T10:32:37.573Z"
   },
   {
    "duration": 304,
    "start_time": "2022-02-23T10:34:28.312Z"
   },
   {
    "duration": 3,
    "start_time": "2022-02-23T10:37:03.209Z"
   },
   {
    "duration": 13,
    "start_time": "2022-02-23T10:40:51.426Z"
   },
   {
    "duration": 9,
    "start_time": "2022-02-23T10:40:53.208Z"
   },
   {
    "duration": 17,
    "start_time": "2022-02-23T10:42:08.211Z"
   },
   {
    "duration": 13,
    "start_time": "2022-02-23T10:50:35.663Z"
   },
   {
    "duration": 17,
    "start_time": "2022-02-23T10:50:38.135Z"
   },
   {
    "duration": 14,
    "start_time": "2022-02-23T10:52:14.090Z"
   },
   {
    "duration": 9,
    "start_time": "2022-02-23T10:52:14.815Z"
   },
   {
    "duration": 10,
    "start_time": "2022-02-23T10:52:16.130Z"
   },
   {
    "duration": 1003,
    "start_time": "2022-02-23T11:00:11.438Z"
   },
   {
    "duration": 72,
    "start_time": "2022-02-23T11:00:12.442Z"
   },
   {
    "duration": 323,
    "start_time": "2022-02-23T11:00:12.515Z"
   },
   {
    "duration": 188,
    "start_time": "2022-02-23T11:00:12.840Z"
   },
   {
    "duration": 57,
    "start_time": "2022-02-23T11:00:13.046Z"
   },
   {
    "duration": 40,
    "start_time": "2022-02-23T11:00:13.105Z"
   },
   {
    "duration": 13,
    "start_time": "2022-02-23T11:00:13.146Z"
   },
   {
    "duration": 184,
    "start_time": "2022-02-23T11:00:13.161Z"
   },
   {
    "duration": 1118,
    "start_time": "2022-02-23T11:03:32.443Z"
   },
   {
    "duration": 373,
    "start_time": "2022-02-23T11:03:39.272Z"
   },
   {
    "duration": 3,
    "start_time": "2022-02-23T11:03:49.130Z"
   },
   {
    "duration": 3,
    "start_time": "2022-02-23T11:03:52.696Z"
   },
   {
    "duration": 6,
    "start_time": "2022-02-23T11:04:12.326Z"
   },
   {
    "duration": 352,
    "start_time": "2022-02-23T11:04:40.639Z"
   },
   {
    "duration": 4,
    "start_time": "2022-02-23T11:05:02.920Z"
   },
   {
    "duration": 4,
    "start_time": "2022-02-23T11:05:12.109Z"
   },
   {
    "duration": 13,
    "start_time": "2022-02-23T11:09:44.930Z"
   },
   {
    "duration": 4,
    "start_time": "2022-02-23T11:09:45.677Z"
   },
   {
    "duration": 4,
    "start_time": "2022-02-23T11:09:46.164Z"
   },
   {
    "duration": 2,
    "start_time": "2022-02-23T11:11:23.420Z"
   },
   {
    "duration": 576,
    "start_time": "2022-02-23T11:14:20.879Z"
   },
   {
    "duration": 306,
    "start_time": "2022-02-23T11:14:35.617Z"
   },
   {
    "duration": 830,
    "start_time": "2022-02-23T11:14:40.118Z"
   },
   {
    "duration": 22,
    "start_time": "2022-02-23T11:23:23.403Z"
   },
   {
    "duration": 17,
    "start_time": "2022-02-23T11:23:23.592Z"
   },
   {
    "duration": 16,
    "start_time": "2022-02-23T11:23:23.806Z"
   },
   {
    "duration": 16,
    "start_time": "2022-02-23T11:23:23.984Z"
   },
   {
    "duration": 102,
    "start_time": "2022-02-23T11:23:24.188Z"
   },
   {
    "duration": 290,
    "start_time": "2022-02-23T11:23:24.376Z"
   },
   {
    "duration": 16,
    "start_time": "2022-02-23T11:23:35.359Z"
   },
   {
    "duration": 16,
    "start_time": "2022-02-23T11:23:35.894Z"
   },
   {
    "duration": 4,
    "start_time": "2022-02-23T11:25:29.816Z"
   },
   {
    "duration": 306,
    "start_time": "2022-02-23T11:25:43.587Z"
   },
   {
    "duration": 5,
    "start_time": "2022-02-23T11:25:49.599Z"
   },
   {
    "duration": 4,
    "start_time": "2022-02-23T11:26:03.038Z"
   },
   {
    "duration": 4,
    "start_time": "2022-02-23T11:26:14.803Z"
   },
   {
    "duration": 5,
    "start_time": "2022-02-23T11:26:15.131Z"
   },
   {
    "duration": 5,
    "start_time": "2022-02-23T11:26:19.970Z"
   },
   {
    "duration": 4,
    "start_time": "2022-02-23T11:26:42.999Z"
   },
   {
    "duration": 4,
    "start_time": "2022-02-23T11:26:45.460Z"
   },
   {
    "duration": 3,
    "start_time": "2022-02-23T11:31:03.393Z"
   },
   {
    "duration": 367,
    "start_time": "2022-02-23T12:13:08.243Z"
   },
   {
    "duration": 287,
    "start_time": "2022-02-23T12:13:55.573Z"
   },
   {
    "duration": 318,
    "start_time": "2022-02-23T12:15:13.414Z"
   },
   {
    "duration": 139,
    "start_time": "2022-02-23T12:15:51.742Z"
   },
   {
    "duration": 5,
    "start_time": "2022-02-23T12:15:55.393Z"
   },
   {
    "duration": 5,
    "start_time": "2022-02-23T12:16:13.960Z"
   },
   {
    "duration": 1066,
    "start_time": "2022-02-23T13:48:11.573Z"
   },
   {
    "duration": 71,
    "start_time": "2022-02-23T13:48:12.640Z"
   },
   {
    "duration": 319,
    "start_time": "2022-02-23T13:48:12.713Z"
   },
   {
    "duration": 172,
    "start_time": "2022-02-23T13:48:13.034Z"
   },
   {
    "duration": 74,
    "start_time": "2022-02-23T13:48:13.207Z"
   },
   {
    "duration": 28,
    "start_time": "2022-02-23T13:48:13.283Z"
   },
   {
    "duration": 14,
    "start_time": "2022-02-23T13:48:13.312Z"
   },
   {
    "duration": 30,
    "start_time": "2022-02-23T13:48:13.328Z"
   },
   {
    "duration": 85,
    "start_time": "2022-02-23T13:48:13.462Z"
   },
   {
    "duration": 5,
    "start_time": "2022-02-23T13:48:13.549Z"
   },
   {
    "duration": 5,
    "start_time": "2022-02-23T13:48:13.556Z"
   },
   {
    "duration": 14,
    "start_time": "2022-02-23T13:48:13.562Z"
   },
   {
    "duration": 72,
    "start_time": "2022-02-23T13:48:13.578Z"
   },
   {
    "duration": 5,
    "start_time": "2022-02-23T13:48:13.652Z"
   },
   {
    "duration": 92,
    "start_time": "2022-02-23T13:48:13.658Z"
   },
   {
    "duration": 94,
    "start_time": "2022-02-23T13:48:13.752Z"
   },
   {
    "duration": 15,
    "start_time": "2022-02-23T13:48:13.847Z"
   },
   {
    "duration": 84,
    "start_time": "2022-02-23T13:48:13.864Z"
   },
   {
    "duration": 97,
    "start_time": "2022-02-23T13:48:13.950Z"
   },
   {
    "duration": 5,
    "start_time": "2022-02-23T13:48:45.794Z"
   },
   {
    "duration": 5,
    "start_time": "2022-02-23T13:49:14.459Z"
   },
   {
    "duration": 4,
    "start_time": "2022-02-23T13:49:27.221Z"
   },
   {
    "duration": 5,
    "start_time": "2022-02-23T13:50:01.563Z"
   },
   {
    "duration": 4,
    "start_time": "2022-02-23T13:50:20.112Z"
   },
   {
    "duration": 4,
    "start_time": "2022-02-23T13:50:34.933Z"
   },
   {
    "duration": 2,
    "start_time": "2022-02-23T14:05:52.223Z"
   },
   {
    "duration": 2,
    "start_time": "2022-02-23T14:06:35.707Z"
   },
   {
    "duration": 3,
    "start_time": "2022-02-23T14:11:11.168Z"
   },
   {
    "duration": 961,
    "start_time": "2022-02-24T05:39:14.991Z"
   },
   {
    "duration": 83,
    "start_time": "2022-02-24T05:39:15.954Z"
   },
   {
    "duration": 392,
    "start_time": "2022-02-24T05:39:16.039Z"
   },
   {
    "duration": 213,
    "start_time": "2022-02-24T05:39:16.432Z"
   },
   {
    "duration": 66,
    "start_time": "2022-02-24T05:39:16.646Z"
   },
   {
    "duration": 48,
    "start_time": "2022-02-24T05:39:16.714Z"
   },
   {
    "duration": 14,
    "start_time": "2022-02-24T05:39:16.763Z"
   },
   {
    "duration": 56,
    "start_time": "2022-02-24T05:39:16.779Z"
   },
   {
    "duration": 93,
    "start_time": "2022-02-24T05:39:16.838Z"
   },
   {
    "duration": 11,
    "start_time": "2022-02-24T05:39:16.933Z"
   },
   {
    "duration": 99,
    "start_time": "2022-02-24T05:39:16.946Z"
   },
   {
    "duration": 92,
    "start_time": "2022-02-24T05:39:17.047Z"
   },
   {
    "duration": 89,
    "start_time": "2022-02-24T05:39:17.141Z"
   },
   {
    "duration": 7,
    "start_time": "2022-02-24T05:39:17.232Z"
   },
   {
    "duration": 17,
    "start_time": "2022-02-24T05:39:17.241Z"
   },
   {
    "duration": 77,
    "start_time": "2022-02-24T05:39:17.259Z"
   },
   {
    "duration": 92,
    "start_time": "2022-02-24T05:39:17.339Z"
   },
   {
    "duration": 7,
    "start_time": "2022-02-24T05:39:17.433Z"
   },
   {
    "duration": 3,
    "start_time": "2022-02-24T05:39:17.441Z"
   },
   {
    "duration": 5,
    "start_time": "2022-02-24T05:39:17.445Z"
   },
   {
    "duration": 4,
    "start_time": "2022-02-24T05:39:24.228Z"
   },
   {
    "duration": 4,
    "start_time": "2022-02-24T07:46:42.407Z"
   },
   {
    "duration": 4,
    "start_time": "2022-02-24T07:46:56.059Z"
   },
   {
    "duration": 4,
    "start_time": "2022-02-24T07:47:02.171Z"
   },
   {
    "duration": 3,
    "start_time": "2022-02-24T07:47:26.186Z"
   },
   {
    "duration": 275,
    "start_time": "2022-02-24T07:47:42.139Z"
   },
   {
    "duration": 3,
    "start_time": "2022-02-24T07:47:51.656Z"
   },
   {
    "duration": 4,
    "start_time": "2022-02-24T07:47:52.218Z"
   },
   {
    "duration": 4,
    "start_time": "2022-02-24T07:53:38.292Z"
   },
   {
    "duration": 3,
    "start_time": "2022-02-24T07:55:06.816Z"
   },
   {
    "duration": 3,
    "start_time": "2022-02-24T08:08:31.540Z"
   },
   {
    "duration": 195,
    "start_time": "2022-02-24T10:45:03.118Z"
   },
   {
    "duration": 195,
    "start_time": "2022-02-24T10:45:17.180Z"
   },
   {
    "duration": 203,
    "start_time": "2022-02-24T10:48:27.073Z"
   },
   {
    "duration": 232,
    "start_time": "2022-02-24T10:50:23.146Z"
   },
   {
    "duration": 238,
    "start_time": "2022-02-24T10:50:32.332Z"
   },
   {
    "duration": 243,
    "start_time": "2022-02-24T10:50:38.868Z"
   },
   {
    "duration": 388,
    "start_time": "2022-02-24T10:50:45.211Z"
   },
   {
    "duration": 456,
    "start_time": "2022-02-24T10:50:50.629Z"
   },
   {
    "duration": 377,
    "start_time": "2022-02-24T10:50:58.847Z"
   },
   {
    "duration": 2261,
    "start_time": "2022-02-24T10:52:30.824Z"
   },
   {
    "duration": 1879,
    "start_time": "2022-02-24T10:52:43.558Z"
   },
   {
    "duration": 396,
    "start_time": "2022-02-24T10:53:49.595Z"
   },
   {
    "duration": 409,
    "start_time": "2022-02-24T10:54:32.824Z"
   },
   {
    "duration": 403,
    "start_time": "2022-02-24T10:54:57.129Z"
   },
   {
    "duration": 493,
    "start_time": "2022-02-24T10:55:07.154Z"
   },
   {
    "duration": 61,
    "start_time": "2022-02-24T10:59:18.617Z"
   },
   {
    "duration": 57,
    "start_time": "2022-02-24T10:59:23.342Z"
   },
   {
    "duration": 596,
    "start_time": "2022-02-24T10:59:26.861Z"
   },
   {
    "duration": 408,
    "start_time": "2022-02-24T10:59:39.363Z"
   },
   {
    "duration": 217,
    "start_time": "2022-02-24T11:01:34.318Z"
   },
   {
    "duration": 20,
    "start_time": "2022-02-24T11:01:49.698Z"
   },
   {
    "duration": 4,
    "start_time": "2022-02-24T11:03:06.291Z"
   },
   {
    "duration": 14,
    "start_time": "2022-02-24T11:03:06.823Z"
   },
   {
    "duration": 65,
    "start_time": "2022-02-24T11:07:35.658Z"
   },
   {
    "duration": 58,
    "start_time": "2022-02-24T11:07:53.977Z"
   },
   {
    "duration": 4,
    "start_time": "2022-02-24T11:07:59.367Z"
   },
   {
    "duration": 95,
    "start_time": "2022-02-24T11:08:27.034Z"
   },
   {
    "duration": 20,
    "start_time": "2022-02-24T11:09:01.477Z"
   },
   {
    "duration": 16,
    "start_time": "2022-02-24T11:09:27.973Z"
   },
   {
    "duration": 3,
    "start_time": "2022-02-24T11:15:57.567Z"
   },
   {
    "duration": 4,
    "start_time": "2022-02-24T11:16:34.796Z"
   },
   {
    "duration": 4,
    "start_time": "2022-02-24T11:16:44.595Z"
   },
   {
    "duration": 212,
    "start_time": "2022-02-24T11:21:21.235Z"
   },
   {
    "duration": 71,
    "start_time": "2022-02-24T11:21:40.739Z"
   },
   {
    "duration": 380,
    "start_time": "2022-02-24T11:21:45.587Z"
   },
   {
    "duration": 402,
    "start_time": "2022-02-24T11:22:09.086Z"
   },
   {
    "duration": 3,
    "start_time": "2022-02-24T11:23:04.251Z"
   },
   {
    "duration": 956,
    "start_time": "2022-02-24T11:23:13.488Z"
   },
   {
    "duration": 84,
    "start_time": "2022-02-24T11:23:14.446Z"
   },
   {
    "duration": 358,
    "start_time": "2022-02-24T11:23:14.533Z"
   },
   {
    "duration": 238,
    "start_time": "2022-02-24T11:23:14.893Z"
   },
   {
    "duration": 72,
    "start_time": "2022-02-24T11:23:15.133Z"
   },
   {
    "duration": 50,
    "start_time": "2022-02-24T11:23:15.207Z"
   },
   {
    "duration": 413,
    "start_time": "2022-02-24T11:23:15.258Z"
   },
   {
    "duration": 389,
    "start_time": "2022-02-24T11:23:15.673Z"
   },
   {
    "duration": 398,
    "start_time": "2022-02-24T11:23:16.064Z"
   },
   {
    "duration": 3,
    "start_time": "2022-02-24T11:23:16.463Z"
   },
   {
    "duration": 5,
    "start_time": "2022-02-24T11:23:16.468Z"
   },
   {
    "duration": 20,
    "start_time": "2022-02-24T11:23:16.475Z"
   },
   {
    "duration": 135,
    "start_time": "2022-02-24T11:23:16.496Z"
   },
   {
    "duration": 545,
    "start_time": "2022-02-24T11:23:16.633Z"
   },
   {
    "duration": 16,
    "start_time": "2022-02-24T11:23:17.179Z"
   },
   {
    "duration": 40,
    "start_time": "2022-02-24T11:23:17.197Z"
   },
   {
    "duration": 400,
    "start_time": "2022-02-24T11:23:17.239Z"
   },
   {
    "duration": -44,
    "start_time": "2022-02-24T11:23:17.684Z"
   },
   {
    "duration": -45,
    "start_time": "2022-02-24T11:23:17.686Z"
   },
   {
    "duration": -45,
    "start_time": "2022-02-24T11:23:17.688Z"
   },
   {
    "duration": -50,
    "start_time": "2022-02-24T11:23:17.694Z"
   },
   {
    "duration": -50,
    "start_time": "2022-02-24T11:23:17.695Z"
   },
   {
    "duration": 390,
    "start_time": "2022-02-24T11:25:00.832Z"
   },
   {
    "duration": 18,
    "start_time": "2022-02-24T11:25:08.143Z"
   },
   {
    "duration": 17,
    "start_time": "2022-02-24T11:25:09.958Z"
   },
   {
    "duration": 401,
    "start_time": "2022-02-24T11:25:19.665Z"
   },
   {
    "duration": 1078,
    "start_time": "2022-02-24T11:27:05.417Z"
   },
   {
    "duration": 114,
    "start_time": "2022-02-24T11:27:06.497Z"
   },
   {
    "duration": 357,
    "start_time": "2022-02-24T11:27:06.613Z"
   },
   {
    "duration": 220,
    "start_time": "2022-02-24T11:27:06.972Z"
   },
   {
    "duration": 81,
    "start_time": "2022-02-24T11:27:07.195Z"
   },
   {
    "duration": 37,
    "start_time": "2022-02-24T11:27:07.278Z"
   },
   {
    "duration": 420,
    "start_time": "2022-02-24T11:27:07.330Z"
   },
   {
    "duration": 403,
    "start_time": "2022-02-24T11:27:07.752Z"
   },
   {
    "duration": 420,
    "start_time": "2022-02-24T11:27:08.157Z"
   },
   {
    "duration": 3,
    "start_time": "2022-02-24T11:27:08.579Z"
   },
   {
    "duration": 9,
    "start_time": "2022-02-24T11:27:08.583Z"
   },
   {
    "duration": 17,
    "start_time": "2022-02-24T11:27:08.593Z"
   },
   {
    "duration": 117,
    "start_time": "2022-02-24T11:27:08.612Z"
   },
   {
    "duration": 568,
    "start_time": "2022-02-24T11:27:08.735Z"
   },
   {
    "duration": 32,
    "start_time": "2022-02-24T11:27:09.305Z"
   },
   {
    "duration": 92,
    "start_time": "2022-02-24T11:27:09.339Z"
   },
   {
    "duration": 488,
    "start_time": "2022-02-24T11:27:09.434Z"
   },
   {
    "duration": 20,
    "start_time": "2022-02-24T11:27:09.924Z"
   },
   {
    "duration": 87,
    "start_time": "2022-02-24T11:27:09.945Z"
   },
   {
    "duration": 489,
    "start_time": "2022-02-24T11:27:10.034Z"
   },
   {
    "duration": 7,
    "start_time": "2022-02-24T11:27:10.524Z"
   },
   {
    "duration": 7,
    "start_time": "2022-02-24T11:27:10.532Z"
   },
   {
    "duration": 5,
    "start_time": "2022-02-24T11:27:10.541Z"
   },
   {
    "duration": 280,
    "start_time": "2022-02-24T11:27:10.548Z"
   },
   {
    "duration": 5,
    "start_time": "2022-02-24T11:36:10.772Z"
   },
   {
    "duration": 5,
    "start_time": "2022-02-24T11:37:27.635Z"
   },
   {
    "duration": 1002,
    "start_time": "2022-02-24T11:38:27.253Z"
   },
   {
    "duration": 79,
    "start_time": "2022-02-24T11:38:28.258Z"
   },
   {
    "duration": 354,
    "start_time": "2022-02-24T11:38:28.341Z"
   },
   {
    "duration": 210,
    "start_time": "2022-02-24T11:38:28.696Z"
   },
   {
    "duration": 85,
    "start_time": "2022-02-24T11:38:28.908Z"
   },
   {
    "duration": 44,
    "start_time": "2022-02-24T11:38:28.995Z"
   },
   {
    "duration": 424,
    "start_time": "2022-02-24T11:38:29.043Z"
   },
   {
    "duration": 399,
    "start_time": "2022-02-24T11:38:29.470Z"
   },
   {
    "duration": 423,
    "start_time": "2022-02-24T11:38:29.871Z"
   },
   {
    "duration": 4,
    "start_time": "2022-02-24T11:38:30.296Z"
   },
   {
    "duration": 12,
    "start_time": "2022-02-24T11:38:30.301Z"
   },
   {
    "duration": 22,
    "start_time": "2022-02-24T11:38:30.315Z"
   },
   {
    "duration": 584,
    "start_time": "2022-02-24T11:38:30.339Z"
   },
   {
    "duration": -69,
    "start_time": "2022-02-24T11:38:30.994Z"
   },
   {
    "duration": -71,
    "start_time": "2022-02-24T11:38:30.997Z"
   },
   {
    "duration": -73,
    "start_time": "2022-02-24T11:38:30.999Z"
   },
   {
    "duration": -75,
    "start_time": "2022-02-24T11:38:31.002Z"
   },
   {
    "duration": -76,
    "start_time": "2022-02-24T11:38:31.004Z"
   },
   {
    "duration": -81,
    "start_time": "2022-02-24T11:38:31.010Z"
   },
   {
    "duration": -82,
    "start_time": "2022-02-24T11:38:31.012Z"
   },
   {
    "duration": -83,
    "start_time": "2022-02-24T11:38:31.014Z"
   },
   {
    "duration": -83,
    "start_time": "2022-02-24T11:38:31.015Z"
   },
   {
    "duration": -84,
    "start_time": "2022-02-24T11:38:31.017Z"
   },
   {
    "duration": -85,
    "start_time": "2022-02-24T11:38:31.019Z"
   },
   {
    "duration": -91,
    "start_time": "2022-02-24T11:38:31.025Z"
   },
   {
    "duration": 1024,
    "start_time": "2022-02-24T11:39:54.329Z"
   },
   {
    "duration": 77,
    "start_time": "2022-02-24T11:39:55.356Z"
   },
   {
    "duration": 366,
    "start_time": "2022-02-24T11:39:55.435Z"
   },
   {
    "duration": 236,
    "start_time": "2022-02-24T11:39:55.803Z"
   },
   {
    "duration": 75,
    "start_time": "2022-02-24T11:39:56.042Z"
   },
   {
    "duration": 47,
    "start_time": "2022-02-24T11:39:56.119Z"
   },
   {
    "duration": 417,
    "start_time": "2022-02-24T11:39:56.168Z"
   },
   {
    "duration": 398,
    "start_time": "2022-02-24T11:39:56.587Z"
   },
   {
    "duration": 412,
    "start_time": "2022-02-24T11:39:56.987Z"
   },
   {
    "duration": 3,
    "start_time": "2022-02-24T11:39:57.401Z"
   },
   {
    "duration": 5,
    "start_time": "2022-02-24T11:39:57.406Z"
   },
   {
    "duration": 29,
    "start_time": "2022-02-24T11:39:57.413Z"
   },
   {
    "duration": 548,
    "start_time": "2022-02-24T11:39:57.443Z"
   },
   {
    "duration": -50,
    "start_time": "2022-02-24T11:39:58.044Z"
   },
   {
    "duration": -51,
    "start_time": "2022-02-24T11:39:58.046Z"
   },
   {
    "duration": -62,
    "start_time": "2022-02-24T11:39:58.058Z"
   },
   {
    "duration": -62,
    "start_time": "2022-02-24T11:39:58.060Z"
   },
   {
    "duration": -64,
    "start_time": "2022-02-24T11:39:58.063Z"
   },
   {
    "duration": -66,
    "start_time": "2022-02-24T11:39:58.066Z"
   },
   {
    "duration": -67,
    "start_time": "2022-02-24T11:39:58.068Z"
   },
   {
    "duration": -67,
    "start_time": "2022-02-24T11:39:58.069Z"
   },
   {
    "duration": -68,
    "start_time": "2022-02-24T11:39:58.071Z"
   },
   {
    "duration": -68,
    "start_time": "2022-02-24T11:39:58.072Z"
   },
   {
    "duration": -70,
    "start_time": "2022-02-24T11:39:58.074Z"
   },
   {
    "duration": -71,
    "start_time": "2022-02-24T11:39:58.076Z"
   },
   {
    "duration": 1024,
    "start_time": "2022-02-24T11:47:07.329Z"
   },
   {
    "duration": 82,
    "start_time": "2022-02-24T11:47:08.355Z"
   },
   {
    "duration": 371,
    "start_time": "2022-02-24T11:47:08.441Z"
   },
   {
    "duration": 251,
    "start_time": "2022-02-24T11:47:08.815Z"
   },
   {
    "duration": 91,
    "start_time": "2022-02-24T11:47:09.067Z"
   },
   {
    "duration": 40,
    "start_time": "2022-02-24T11:47:09.159Z"
   },
   {
    "duration": 441,
    "start_time": "2022-02-24T11:47:09.200Z"
   },
   {
    "duration": 402,
    "start_time": "2022-02-24T11:47:09.643Z"
   },
   {
    "duration": 429,
    "start_time": "2022-02-24T11:47:10.048Z"
   },
   {
    "duration": 3,
    "start_time": "2022-02-24T11:47:10.479Z"
   },
   {
    "duration": 7,
    "start_time": "2022-02-24T11:47:10.483Z"
   },
   {
    "duration": 18,
    "start_time": "2022-02-24T11:47:10.491Z"
   },
   {
    "duration": 37,
    "start_time": "2022-02-24T11:47:10.510Z"
   },
   {
    "duration": 573,
    "start_time": "2022-02-24T11:47:10.633Z"
   },
   {
    "duration": 22,
    "start_time": "2022-02-24T11:47:11.208Z"
   },
   {
    "duration": 18,
    "start_time": "2022-02-24T11:47:11.232Z"
   },
   {
    "duration": 497,
    "start_time": "2022-02-24T11:47:11.333Z"
   },
   {
    "duration": 17,
    "start_time": "2022-02-24T11:47:11.831Z"
   },
   {
    "duration": 80,
    "start_time": "2022-02-24T11:47:11.850Z"
   },
   {
    "duration": 507,
    "start_time": "2022-02-24T11:47:11.933Z"
   },
   {
    "duration": 3,
    "start_time": "2022-02-24T11:47:12.442Z"
   },
   {
    "duration": 269,
    "start_time": "2022-02-24T11:47:12.446Z"
   },
   {
    "duration": -49,
    "start_time": "2022-02-24T11:47:12.766Z"
   },
   {
    "duration": -51,
    "start_time": "2022-02-24T11:47:12.769Z"
   },
   {
    "duration": -52,
    "start_time": "2022-02-24T11:47:12.771Z"
   },
   {
    "duration": 3,
    "start_time": "2022-02-24T11:47:51.229Z"
   },
   {
    "duration": 4,
    "start_time": "2022-02-24T11:47:53.526Z"
   },
   {
    "duration": 5,
    "start_time": "2022-02-24T11:47:53.830Z"
   },
   {
    "duration": 2878,
    "start_time": "2022-02-24T11:47:55.556Z"
   },
   {
    "duration": 5,
    "start_time": "2022-02-24T11:50:23.465Z"
   },
   {
    "duration": 6,
    "start_time": "2022-02-24T11:50:31.443Z"
   },
   {
    "duration": 54,
    "start_time": "2022-02-24T11:54:35.321Z"
   },
   {
    "duration": 2772,
    "start_time": "2022-02-24T11:54:40.247Z"
   },
   {
    "duration": 2667,
    "start_time": "2022-02-24T11:55:12.811Z"
   },
   {
    "duration": 2643,
    "start_time": "2022-02-24T11:55:15.480Z"
   },
   {
    "duration": 6,
    "start_time": "2022-02-24T12:09:06.637Z"
   },
   {
    "duration": 2773,
    "start_time": "2022-02-24T12:09:07.420Z"
   },
   {
    "duration": 2677,
    "start_time": "2022-02-24T12:09:10.195Z"
   },
   {
    "duration": 2798,
    "start_time": "2022-02-24T12:09:12.874Z"
   },
   {
    "duration": 333,
    "start_time": "2022-02-25T05:54:27.586Z"
   },
   {
    "duration": 1378,
    "start_time": "2022-02-25T05:54:32.033Z"
   },
   {
    "duration": 133,
    "start_time": "2022-02-25T05:54:33.414Z"
   },
   {
    "duration": 1286,
    "start_time": "2022-02-25T05:54:33.550Z"
   },
   {
    "duration": 307,
    "start_time": "2022-02-25T05:54:34.839Z"
   },
   {
    "duration": 134,
    "start_time": "2022-02-25T05:54:35.149Z"
   },
   {
    "duration": 50,
    "start_time": "2022-02-25T05:54:35.285Z"
   },
   {
    "duration": 751,
    "start_time": "2022-02-25T05:54:35.338Z"
   },
   {
    "duration": 696,
    "start_time": "2022-02-25T05:54:36.097Z"
   },
   {
    "duration": 711,
    "start_time": "2022-02-25T05:54:36.798Z"
   },
   {
    "duration": 4,
    "start_time": "2022-02-25T05:54:37.512Z"
   },
   {
    "duration": 20,
    "start_time": "2022-02-25T05:54:37.518Z"
   },
   {
    "duration": 27,
    "start_time": "2022-02-25T05:54:37.540Z"
   },
   {
    "duration": 36,
    "start_time": "2022-02-25T05:54:37.569Z"
   },
   {
    "duration": 835,
    "start_time": "2022-02-25T05:54:37.695Z"
   },
   {
    "duration": 20,
    "start_time": "2022-02-25T05:54:38.532Z"
   },
   {
    "duration": 47,
    "start_time": "2022-02-25T05:54:38.555Z"
   },
   {
    "duration": 798,
    "start_time": "2022-02-25T05:54:38.695Z"
   },
   {
    "duration": 21,
    "start_time": "2022-02-25T05:54:39.496Z"
   },
   {
    "duration": 79,
    "start_time": "2022-02-25T05:54:39.519Z"
   },
   {
    "duration": 799,
    "start_time": "2022-02-25T05:54:39.602Z"
   },
   {
    "duration": 4,
    "start_time": "2022-02-25T05:54:40.404Z"
   },
   {
    "duration": 23,
    "start_time": "2022-02-25T05:54:40.410Z"
   },
   {
    "duration": 14,
    "start_time": "2022-02-25T05:54:40.437Z"
   },
   {
    "duration": 21,
    "start_time": "2022-02-25T05:54:40.453Z"
   },
   {
    "duration": 5575,
    "start_time": "2022-02-25T05:54:40.478Z"
   },
   {
    "duration": 5505,
    "start_time": "2022-02-25T05:54:46.056Z"
   },
   {
    "duration": 5612,
    "start_time": "2022-02-25T05:54:51.564Z"
   },
   {
    "duration": 8,
    "start_time": "2022-02-25T06:18:16.196Z"
   },
   {
    "duration": 7,
    "start_time": "2022-02-25T06:18:26.401Z"
   },
   {
    "duration": 4,
    "start_time": "2022-02-25T17:20:52.114Z"
   },
   {
    "duration": 996,
    "start_time": "2022-02-25T18:22:22.163Z"
   },
   {
    "duration": 87,
    "start_time": "2022-02-25T18:22:23.161Z"
   },
   {
    "duration": 376,
    "start_time": "2022-02-25T18:22:23.250Z"
   },
   {
    "duration": 250,
    "start_time": "2022-02-25T18:22:23.628Z"
   },
   {
    "duration": 99,
    "start_time": "2022-02-25T18:22:23.880Z"
   },
   {
    "duration": 49,
    "start_time": "2022-02-25T18:22:23.980Z"
   },
   {
    "duration": 445,
    "start_time": "2022-02-25T18:22:24.031Z"
   },
   {
    "duration": 427,
    "start_time": "2022-02-25T18:22:24.478Z"
   },
   {
    "duration": 450,
    "start_time": "2022-02-25T18:22:24.907Z"
   },
   {
    "duration": 4,
    "start_time": "2022-02-25T18:22:25.358Z"
   },
   {
    "duration": 7,
    "start_time": "2022-02-25T18:22:25.364Z"
   },
   {
    "duration": 21,
    "start_time": "2022-02-25T18:22:25.373Z"
   },
   {
    "duration": 31,
    "start_time": "2022-02-25T18:22:25.395Z"
   },
   {
    "duration": 695,
    "start_time": "2022-02-25T18:22:25.429Z"
   },
   {
    "duration": 19,
    "start_time": "2022-02-25T18:22:26.126Z"
   },
   {
    "duration": 64,
    "start_time": "2022-02-25T18:22:26.149Z"
   },
   {
    "duration": 516,
    "start_time": "2022-02-25T18:22:26.216Z"
   },
   {
    "duration": 20,
    "start_time": "2022-02-25T18:22:26.733Z"
   },
   {
    "duration": 62,
    "start_time": "2022-02-25T18:22:26.754Z"
   },
   {
    "duration": 526,
    "start_time": "2022-02-25T18:22:26.818Z"
   },
   {
    "duration": 3,
    "start_time": "2022-02-25T18:22:27.345Z"
   },
   {
    "duration": 10,
    "start_time": "2022-02-25T18:22:27.350Z"
   },
   {
    "duration": 8,
    "start_time": "2022-02-25T18:22:27.363Z"
   },
   {
    "duration": 5,
    "start_time": "2022-02-25T18:22:27.373Z"
   },
   {
    "duration": 3199,
    "start_time": "2022-02-25T18:22:27.380Z"
   },
   {
    "duration": 3141,
    "start_time": "2022-02-25T18:22:30.580Z"
   },
   {
    "duration": 3126,
    "start_time": "2022-02-25T18:22:33.723Z"
   },
   {
    "duration": 1040,
    "start_time": "2022-02-26T08:39:08.901Z"
   },
   {
    "duration": 87,
    "start_time": "2022-02-26T08:39:09.944Z"
   },
   {
    "duration": 378,
    "start_time": "2022-02-26T08:39:10.034Z"
   },
   {
    "duration": 255,
    "start_time": "2022-02-26T08:39:10.414Z"
   },
   {
    "duration": 98,
    "start_time": "2022-02-26T08:39:10.671Z"
   },
   {
    "duration": 52,
    "start_time": "2022-02-26T08:39:10.771Z"
   },
   {
    "duration": 479,
    "start_time": "2022-02-26T08:39:10.825Z"
   },
   {
    "duration": 470,
    "start_time": "2022-02-26T08:39:11.311Z"
   },
   {
    "duration": 475,
    "start_time": "2022-02-26T08:39:11.783Z"
   },
   {
    "duration": 4,
    "start_time": "2022-02-26T08:39:12.260Z"
   },
   {
    "duration": 26,
    "start_time": "2022-02-26T08:39:12.267Z"
   },
   {
    "duration": 18,
    "start_time": "2022-02-26T08:39:14.528Z"
   },
   {
    "duration": 549,
    "start_time": "2022-02-26T08:39:16.243Z"
   },
   {
    "duration": 5,
    "start_time": "2022-02-26T08:40:56.309Z"
   },
   {
    "duration": 486,
    "start_time": "2022-02-26T08:40:58.641Z"
   },
   {
    "duration": 5,
    "start_time": "2022-02-26T08:41:22.610Z"
   },
   {
    "duration": 397,
    "start_time": "2022-02-26T08:41:24.844Z"
   },
   {
    "duration": 5,
    "start_time": "2022-02-26T08:42:36.396Z"
   },
   {
    "duration": 564,
    "start_time": "2022-02-26T08:42:38.144Z"
   },
   {
    "duration": 5,
    "start_time": "2022-02-26T08:43:53.343Z"
   },
   {
    "duration": 18,
    "start_time": "2022-02-26T08:43:56.378Z"
   },
   {
    "duration": 625,
    "start_time": "2022-02-26T08:43:58.573Z"
   },
   {
    "duration": 4,
    "start_time": "2022-02-26T08:46:42.163Z"
   },
   {
    "duration": 18,
    "start_time": "2022-02-26T08:46:44.706Z"
   },
   {
    "duration": 1021,
    "start_time": "2022-02-26T09:49:06.367Z"
   },
   {
    "duration": 94,
    "start_time": "2022-02-26T09:49:07.390Z"
   },
   {
    "duration": 386,
    "start_time": "2022-02-26T09:49:07.487Z"
   },
   {
    "duration": 256,
    "start_time": "2022-02-26T09:49:07.875Z"
   },
   {
    "duration": 89,
    "start_time": "2022-02-26T09:49:08.133Z"
   },
   {
    "duration": 41,
    "start_time": "2022-02-26T09:49:08.224Z"
   },
   {
    "duration": 489,
    "start_time": "2022-02-26T09:49:08.267Z"
   },
   {
    "duration": 452,
    "start_time": "2022-02-26T09:49:08.759Z"
   },
   {
    "duration": 486,
    "start_time": "2022-02-26T09:49:09.214Z"
   },
   {
    "duration": 10,
    "start_time": "2022-02-26T09:49:09.702Z"
   },
   {
    "duration": 6,
    "start_time": "2022-02-26T09:49:09.714Z"
   },
   {
    "duration": 27,
    "start_time": "2022-02-26T09:49:09.722Z"
   },
   {
    "duration": 64,
    "start_time": "2022-02-26T09:49:09.751Z"
   },
   {
    "duration": 645,
    "start_time": "2022-02-26T09:49:09.818Z"
   },
   {
    "duration": 21,
    "start_time": "2022-02-26T09:49:10.465Z"
   },
   {
    "duration": 37,
    "start_time": "2022-02-26T09:49:10.489Z"
   },
   {
    "duration": 555,
    "start_time": "2022-02-26T09:49:10.614Z"
   },
   {
    "duration": 20,
    "start_time": "2022-02-26T09:49:11.172Z"
   },
   {
    "duration": 32,
    "start_time": "2022-02-26T09:49:11.194Z"
   },
   {
    "duration": 637,
    "start_time": "2022-02-26T09:49:11.229Z"
   },
   {
    "duration": 3,
    "start_time": "2022-02-26T09:49:11.868Z"
   },
   {
    "duration": 7,
    "start_time": "2022-02-26T09:49:11.872Z"
   },
   {
    "duration": 4,
    "start_time": "2022-02-26T09:49:11.882Z"
   },
   {
    "duration": 24,
    "start_time": "2022-02-26T09:49:11.888Z"
   },
   {
    "duration": 3264,
    "start_time": "2022-02-26T09:49:11.915Z"
   },
   {
    "duration": 3162,
    "start_time": "2022-02-26T09:49:15.180Z"
   },
   {
    "duration": 3212,
    "start_time": "2022-02-26T09:49:18.344Z"
   },
   {
    "duration": 920,
    "start_time": "2022-03-07T07:55:21.522Z"
   },
   {
    "duration": 824,
    "start_time": "2022-03-07T07:55:30.593Z"
   },
   {
    "duration": 5,
    "start_time": "2022-03-07T07:55:33.874Z"
   },
   {
    "duration": 443,
    "start_time": "2022-03-07T07:55:35.809Z"
   },
   {
    "duration": 290,
    "start_time": "2022-03-07T07:55:36.445Z"
   }
  ],
  "kernelspec": {
   "display_name": "Python 3 (ipykernel)",
   "language": "python",
   "name": "python3"
  },
  "language_info": {
   "codemirror_mode": {
    "name": "ipython",
    "version": 3
   },
   "file_extension": ".py",
   "mimetype": "text/x-python",
   "name": "python",
   "nbconvert_exporter": "python",
   "pygments_lexer": "ipython3",
   "version": "3.9.7"
  },
  "toc": {
   "base_numbering": 1,
   "nav_menu": {},
   "number_sections": true,
   "sideBar": true,
   "skip_h1_title": true,
   "title_cell": "Table of Contents",
   "title_sidebar": "Contents",
   "toc_cell": false,
   "toc_position": {
    "height": "calc(100% - 180px)",
    "left": "10px",
    "top": "150px",
    "width": "356.58px"
   },
   "toc_section_display": true,
   "toc_window_display": true
  }
 },
 "nbformat": 4,
 "nbformat_minor": 2
}
