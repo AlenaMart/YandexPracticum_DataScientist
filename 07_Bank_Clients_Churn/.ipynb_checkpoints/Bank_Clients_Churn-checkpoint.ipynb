{
 "cells": [
  {
   "cell_type": "markdown",
   "metadata": {
    "toc": true
   },
   "source": [
    "<h1>Содержание<span class=\"tocSkip\"></span></h1>\n",
    "<div class=\"toc\"><ul class=\"toc-item\"><li><span><a href=\"#Подготовка-данных\" data-toc-modified-id=\"Подготовка-данных-1\"><span class=\"toc-item-num\">1&nbsp;&nbsp;</span>Подготовка данных</a></span><ul class=\"toc-item\"><li><span><a href=\"#Импорт-библиотек\" data-toc-modified-id=\"Импорт-библиотек-1.1\"><span class=\"toc-item-num\">1.1&nbsp;&nbsp;</span>Импорт библиотек</a></span></li><li><span><a href=\"#Загрузка-и-исследование-данных\" data-toc-modified-id=\"Загрузка-и-исследование-данных-1.2\"><span class=\"toc-item-num\">1.2&nbsp;&nbsp;</span>Загрузка и исследование данных</a></span></li><li><span><a href=\"#Предобработка\" data-toc-modified-id=\"Предобработка-1.3\"><span class=\"toc-item-num\">1.3&nbsp;&nbsp;</span>Предобработка</a></span></li><li><span><a href=\"#Разбивка-на-выборки\" data-toc-modified-id=\"Разбивка-на-выборки-1.4\"><span class=\"toc-item-num\">1.4&nbsp;&nbsp;</span>Разбивка на выборки</a></span></li><li><span><a href=\"#Стандартизация\" data-toc-modified-id=\"Стандартизация-1.5\"><span class=\"toc-item-num\">1.5&nbsp;&nbsp;</span>Стандартизация</a></span></li></ul></li><li><span><a href=\"#Исследование-задачи\" data-toc-modified-id=\"Исследование-задачи-2\"><span class=\"toc-item-num\">2&nbsp;&nbsp;</span>Исследование задачи</a></span><ul class=\"toc-item\"><li><span><a href=\"#Логистическая-регрессия\" data-toc-modified-id=\"Логистическая-регрессия-2.1\"><span class=\"toc-item-num\">2.1&nbsp;&nbsp;</span>Логистическая регрессия</a></span></li><li><span><a href=\"#Дерево-решений\" data-toc-modified-id=\"Дерево-решений-2.2\"><span class=\"toc-item-num\">2.2&nbsp;&nbsp;</span>Дерево решений</a></span></li><li><span><a href=\"#Случайный-лес\" data-toc-modified-id=\"Случайный-лес-2.3\"><span class=\"toc-item-num\">2.3&nbsp;&nbsp;</span>Случайный лес</a></span></li><li><span><a href=\"#Градиентный-бустинг\" data-toc-modified-id=\"Градиентный-бустинг-2.4\"><span class=\"toc-item-num\">2.4&nbsp;&nbsp;</span>Градиентный бустинг</a></span></li></ul></li><li><span><a href=\"#Борьба-с-дисбалансом\" data-toc-modified-id=\"Борьба-с-дисбалансом-3\"><span class=\"toc-item-num\">3&nbsp;&nbsp;</span>Борьба с дисбалансом</a></span><ul class=\"toc-item\"><li><span><a href=\"#Взвешивание-классов\" data-toc-modified-id=\"Взвешивание-классов-3.1\"><span class=\"toc-item-num\">3.1&nbsp;&nbsp;</span>Взвешивание классов</a></span><ul class=\"toc-item\"><li><span><a href=\"#Логистическая-регрессия\" data-toc-modified-id=\"Логистическая-регрессия-3.1.1\"><span class=\"toc-item-num\">3.1.1&nbsp;&nbsp;</span>Логистическая регрессия</a></span></li><li><span><a href=\"#Дерево-решений\" data-toc-modified-id=\"Дерево-решений-3.1.2\"><span class=\"toc-item-num\">3.1.2&nbsp;&nbsp;</span>Дерево решений</a></span></li><li><span><a href=\"#Случайный-лес\" data-toc-modified-id=\"Случайный-лес-3.1.3\"><span class=\"toc-item-num\">3.1.3&nbsp;&nbsp;</span>Случайный лес</a></span></li><li><span><a href=\"#Градиентный-бустинг\" data-toc-modified-id=\"Градиентный-бустинг-3.1.4\"><span class=\"toc-item-num\">3.1.4&nbsp;&nbsp;</span>Градиентный бустинг</a></span></li></ul></li><li><span><a href=\"#Апсемплинг\" data-toc-modified-id=\"Апсемплинг-3.2\"><span class=\"toc-item-num\">3.2&nbsp;&nbsp;</span>Апсемплинг</a></span><ul class=\"toc-item\"><li><span><a href=\"#Логистическая-регрессия\" data-toc-modified-id=\"Логистическая-регрессия-3.2.1\"><span class=\"toc-item-num\">3.2.1&nbsp;&nbsp;</span>Логистическая регрессия</a></span></li><li><span><a href=\"#Дерево-решений\" data-toc-modified-id=\"Дерево-решений-3.2.2\"><span class=\"toc-item-num\">3.2.2&nbsp;&nbsp;</span>Дерево решений</a></span></li><li><span><a href=\"#Случайный-лес\" data-toc-modified-id=\"Случайный-лес-3.2.3\"><span class=\"toc-item-num\">3.2.3&nbsp;&nbsp;</span>Случайный лес</a></span></li><li><span><a href=\"#Градиентный-бустинг\" data-toc-modified-id=\"Градиентный-бустинг-3.2.4\"><span class=\"toc-item-num\">3.2.4&nbsp;&nbsp;</span>Градиентный бустинг</a></span></li></ul></li></ul></li><li><span><a href=\"#Подбор-гиперпараметров\" data-toc-modified-id=\"Подбор-гиперпараметров-4\"><span class=\"toc-item-num\">4&nbsp;&nbsp;</span>Подбор гиперпараметров</a></span><ul class=\"toc-item\"><li><span><a href=\"#Логистическая-регрессия\" data-toc-modified-id=\"Логистическая-регрессия-4.1\"><span class=\"toc-item-num\">4.1&nbsp;&nbsp;</span>Логистическая регрессия</a></span></li><li><span><a href=\"#Дерево-решений\" data-toc-modified-id=\"Дерево-решений-4.2\"><span class=\"toc-item-num\">4.2&nbsp;&nbsp;</span>Дерево решений</a></span></li><li><span><a href=\"#Случайный-лес\" data-toc-modified-id=\"Случайный-лес-4.3\"><span class=\"toc-item-num\">4.3&nbsp;&nbsp;</span>Случайный лес</a></span></li><li><span><a href=\"#Градиентный-бустинг\" data-toc-modified-id=\"Градиентный-бустинг-4.4\"><span class=\"toc-item-num\">4.4&nbsp;&nbsp;</span>Градиентный бустинг</a></span></li></ul></li><li><span><a href=\"#Тестирование-модели\" data-toc-modified-id=\"Тестирование-модели-5\"><span class=\"toc-item-num\">5&nbsp;&nbsp;</span>Тестирование модели</a></span><ul class=\"toc-item\"><li><span><a href=\"#Случайный-лес\" data-toc-modified-id=\"Случайный-лес-5.1\"><span class=\"toc-item-num\">5.1&nbsp;&nbsp;</span>Случайный лес</a></span></li><li><span><a href=\"#Градиентный-бустинг\" data-toc-modified-id=\"Градиентный-бустинг-5.2\"><span class=\"toc-item-num\">5.2&nbsp;&nbsp;</span>Градиентный бустинг</a></span></li></ul></li></ul></div>"
   ]
  },
  {
   "cell_type": "markdown",
   "metadata": {},
   "source": [
    "# Отток клиентов"
   ]
  },
  {
   "cell_type": "markdown",
   "metadata": {},
   "source": [
    "Из «Бета-Банка» стали уходить клиенты. Каждый месяц. Немного, но заметно. Банковские маркетологи посчитали: сохранять текущих клиентов дешевле, чем привлекать новых.\n",
    "\n",
    "Нужно спрогнозировать, уйдёт клиент из банка в ближайшее время или нет. Вам предоставлены исторические данные о поведении клиентов и расторжении договоров с банком. \n",
    "\n",
    "Постройте модель с предельно большим значением *F1*-меры. Чтобы сдать проект успешно, нужно довести метрику до 0.59. Проверьте *F1*-меру на тестовой выборке самостоятельно.\n",
    "\n",
    "Дополнительно измеряйте *AUC-ROC*, сравнивайте её значение с *F1*-мерой.\n",
    "\n",
    "Источник данных: [https://www.kaggle.com/barelydedicated/bank-customer-churn-modeling](https://www.kaggle.com/barelydedicated/bank-customer-churn-modeling)"
   ]
  },
  {
   "cell_type": "markdown",
   "metadata": {},
   "source": [
    "## Подготовка данных"
   ]
  },
  {
   "cell_type": "markdown",
   "metadata": {},
   "source": [
    "### Импорт библиотек"
   ]
  },
  {
   "cell_type": "code",
   "execution_count": 1,
   "metadata": {},
   "outputs": [],
   "source": [
    "# отключим предупреждения Anaconda\n",
    "from pylab import rcParams\n",
    "import warnings\n",
    "warnings.simplefilter('ignore')\n",
    "\n",
    "# увеличим дефолтный размер графиков\n",
    "rcParams['figure.figsize'] = 15, 5"
   ]
  },
  {
   "cell_type": "code",
   "execution_count": 95,
   "metadata": {},
   "outputs": [],
   "source": [
    "import pandas as pd\n",
    "import numpy as np\n",
    "from matplotlib import pyplot as plt\n",
    "import math\n",
    "import seaborn as sns\n",
    "\n",
    "\n",
    "from sklearn.model_selection import train_test_split, GridSearchCV\n",
    "from sklearn.preprocessing import StandardScaler\n",
    "from sklearn.utils import shuffle\n",
    "\n",
    "from sklearn.linear_model import LogisticRegression\n",
    "from sklearn.tree import DecisionTreeClassifier\n",
    "from sklearn.ensemble import RandomForestClassifier\n",
    "from catboost import CatBoostClassifier\n",
    "\n",
    "from sklearn.metrics import f1_score, roc_curve, roc_auc_score, confusion_matrix\n",
    "from sklearn.metrics import precision_score, recall_score"
   ]
  },
  {
   "cell_type": "markdown",
   "metadata": {},
   "source": [
    "### Загрузка и исследование данных"
   ]
  },
  {
   "cell_type": "code",
   "execution_count": 3,
   "metadata": {},
   "outputs": [],
   "source": [
    "df = pd.read_csv('/datasets/Churn.csv', index_col='RowNumber')"
   ]
  },
  {
   "cell_type": "code",
   "execution_count": 4,
   "metadata": {
    "scrolled": false
   },
   "outputs": [
    {
     "data": {
      "text/html": [
       "<div>\n",
       "<style scoped>\n",
       "    .dataframe tbody tr th:only-of-type {\n",
       "        vertical-align: middle;\n",
       "    }\n",
       "\n",
       "    .dataframe tbody tr th {\n",
       "        vertical-align: top;\n",
       "    }\n",
       "\n",
       "    .dataframe thead th {\n",
       "        text-align: right;\n",
       "    }\n",
       "</style>\n",
       "<table border=\"1\" class=\"dataframe\">\n",
       "  <thead>\n",
       "    <tr style=\"text-align: right;\">\n",
       "      <th></th>\n",
       "      <th>CustomerId</th>\n",
       "      <th>Surname</th>\n",
       "      <th>CreditScore</th>\n",
       "      <th>Geography</th>\n",
       "      <th>Gender</th>\n",
       "      <th>Age</th>\n",
       "      <th>Tenure</th>\n",
       "      <th>Balance</th>\n",
       "      <th>NumOfProducts</th>\n",
       "      <th>HasCrCard</th>\n",
       "      <th>IsActiveMember</th>\n",
       "      <th>EstimatedSalary</th>\n",
       "      <th>Exited</th>\n",
       "    </tr>\n",
       "    <tr>\n",
       "      <th>RowNumber</th>\n",
       "      <th></th>\n",
       "      <th></th>\n",
       "      <th></th>\n",
       "      <th></th>\n",
       "      <th></th>\n",
       "      <th></th>\n",
       "      <th></th>\n",
       "      <th></th>\n",
       "      <th></th>\n",
       "      <th></th>\n",
       "      <th></th>\n",
       "      <th></th>\n",
       "      <th></th>\n",
       "    </tr>\n",
       "  </thead>\n",
       "  <tbody>\n",
       "    <tr>\n",
       "      <td>1</td>\n",
       "      <td>15634602</td>\n",
       "      <td>Hargrave</td>\n",
       "      <td>619</td>\n",
       "      <td>France</td>\n",
       "      <td>Female</td>\n",
       "      <td>42</td>\n",
       "      <td>2.0</td>\n",
       "      <td>0.00</td>\n",
       "      <td>1</td>\n",
       "      <td>1</td>\n",
       "      <td>1</td>\n",
       "      <td>101348.88</td>\n",
       "      <td>1</td>\n",
       "    </tr>\n",
       "    <tr>\n",
       "      <td>2</td>\n",
       "      <td>15647311</td>\n",
       "      <td>Hill</td>\n",
       "      <td>608</td>\n",
       "      <td>Spain</td>\n",
       "      <td>Female</td>\n",
       "      <td>41</td>\n",
       "      <td>1.0</td>\n",
       "      <td>83807.86</td>\n",
       "      <td>1</td>\n",
       "      <td>0</td>\n",
       "      <td>1</td>\n",
       "      <td>112542.58</td>\n",
       "      <td>0</td>\n",
       "    </tr>\n",
       "    <tr>\n",
       "      <td>3</td>\n",
       "      <td>15619304</td>\n",
       "      <td>Onio</td>\n",
       "      <td>502</td>\n",
       "      <td>France</td>\n",
       "      <td>Female</td>\n",
       "      <td>42</td>\n",
       "      <td>8.0</td>\n",
       "      <td>159660.80</td>\n",
       "      <td>3</td>\n",
       "      <td>1</td>\n",
       "      <td>0</td>\n",
       "      <td>113931.57</td>\n",
       "      <td>1</td>\n",
       "    </tr>\n",
       "    <tr>\n",
       "      <td>4</td>\n",
       "      <td>15701354</td>\n",
       "      <td>Boni</td>\n",
       "      <td>699</td>\n",
       "      <td>France</td>\n",
       "      <td>Female</td>\n",
       "      <td>39</td>\n",
       "      <td>1.0</td>\n",
       "      <td>0.00</td>\n",
       "      <td>2</td>\n",
       "      <td>0</td>\n",
       "      <td>0</td>\n",
       "      <td>93826.63</td>\n",
       "      <td>0</td>\n",
       "    </tr>\n",
       "    <tr>\n",
       "      <td>5</td>\n",
       "      <td>15737888</td>\n",
       "      <td>Mitchell</td>\n",
       "      <td>850</td>\n",
       "      <td>Spain</td>\n",
       "      <td>Female</td>\n",
       "      <td>43</td>\n",
       "      <td>2.0</td>\n",
       "      <td>125510.82</td>\n",
       "      <td>1</td>\n",
       "      <td>1</td>\n",
       "      <td>1</td>\n",
       "      <td>79084.10</td>\n",
       "      <td>0</td>\n",
       "    </tr>\n",
       "  </tbody>\n",
       "</table>\n",
       "</div>"
      ],
      "text/plain": [
       "           CustomerId   Surname  CreditScore Geography  Gender  Age  Tenure  \\\n",
       "RowNumber                                                                     \n",
       "1            15634602  Hargrave          619    France  Female   42     2.0   \n",
       "2            15647311      Hill          608     Spain  Female   41     1.0   \n",
       "3            15619304      Onio          502    France  Female   42     8.0   \n",
       "4            15701354      Boni          699    France  Female   39     1.0   \n",
       "5            15737888  Mitchell          850     Spain  Female   43     2.0   \n",
       "\n",
       "             Balance  NumOfProducts  HasCrCard  IsActiveMember  \\\n",
       "RowNumber                                                        \n",
       "1               0.00              1          1               1   \n",
       "2           83807.86              1          0               1   \n",
       "3          159660.80              3          1               0   \n",
       "4               0.00              2          0               0   \n",
       "5          125510.82              1          1               1   \n",
       "\n",
       "           EstimatedSalary  Exited  \n",
       "RowNumber                           \n",
       "1                101348.88       1  \n",
       "2                112542.58       0  \n",
       "3                113931.57       1  \n",
       "4                 93826.63       0  \n",
       "5                 79084.10       0  "
      ]
     },
     "execution_count": 4,
     "metadata": {},
     "output_type": "execute_result"
    }
   ],
   "source": [
    "df.head()"
   ]
  },
  {
   "cell_type": "code",
   "execution_count": 5,
   "metadata": {
    "scrolled": false
   },
   "outputs": [
    {
     "name": "stdout",
     "output_type": "stream",
     "text": [
      "<class 'pandas.core.frame.DataFrame'>\n",
      "Int64Index: 10000 entries, 1 to 10000\n",
      "Data columns (total 13 columns):\n",
      "CustomerId         10000 non-null int64\n",
      "Surname            10000 non-null object\n",
      "CreditScore        10000 non-null int64\n",
      "Geography          10000 non-null object\n",
      "Gender             10000 non-null object\n",
      "Age                10000 non-null int64\n",
      "Tenure             9091 non-null float64\n",
      "Balance            10000 non-null float64\n",
      "NumOfProducts      10000 non-null int64\n",
      "HasCrCard          10000 non-null int64\n",
      "IsActiveMember     10000 non-null int64\n",
      "EstimatedSalary    10000 non-null float64\n",
      "Exited             10000 non-null int64\n",
      "dtypes: float64(3), int64(7), object(3)\n",
      "memory usage: 1.1+ MB\n"
     ]
    }
   ],
   "source": [
    "df.info()"
   ]
  },
  {
   "cell_type": "code",
   "execution_count": 6,
   "metadata": {
    "scrolled": false
   },
   "outputs": [
    {
     "data": {
      "text/html": [
       "<div>\n",
       "<style scoped>\n",
       "    .dataframe tbody tr th:only-of-type {\n",
       "        vertical-align: middle;\n",
       "    }\n",
       "\n",
       "    .dataframe tbody tr th {\n",
       "        vertical-align: top;\n",
       "    }\n",
       "\n",
       "    .dataframe thead th {\n",
       "        text-align: right;\n",
       "    }\n",
       "</style>\n",
       "<table border=\"1\" class=\"dataframe\">\n",
       "  <thead>\n",
       "    <tr style=\"text-align: right;\">\n",
       "      <th></th>\n",
       "      <th>CustomerId</th>\n",
       "      <th>CreditScore</th>\n",
       "      <th>Age</th>\n",
       "      <th>Tenure</th>\n",
       "      <th>Balance</th>\n",
       "      <th>NumOfProducts</th>\n",
       "      <th>HasCrCard</th>\n",
       "      <th>IsActiveMember</th>\n",
       "      <th>EstimatedSalary</th>\n",
       "      <th>Exited</th>\n",
       "    </tr>\n",
       "  </thead>\n",
       "  <tbody>\n",
       "    <tr>\n",
       "      <td>count</td>\n",
       "      <td>1.000000e+04</td>\n",
       "      <td>10000.000000</td>\n",
       "      <td>10000.000000</td>\n",
       "      <td>9091.000000</td>\n",
       "      <td>10000.000000</td>\n",
       "      <td>10000.000000</td>\n",
       "      <td>10000.00000</td>\n",
       "      <td>10000.000000</td>\n",
       "      <td>10000.000000</td>\n",
       "      <td>10000.000000</td>\n",
       "    </tr>\n",
       "    <tr>\n",
       "      <td>mean</td>\n",
       "      <td>1.569094e+07</td>\n",
       "      <td>650.528800</td>\n",
       "      <td>38.921800</td>\n",
       "      <td>4.997690</td>\n",
       "      <td>76485.889288</td>\n",
       "      <td>1.530200</td>\n",
       "      <td>0.70550</td>\n",
       "      <td>0.515100</td>\n",
       "      <td>100090.239881</td>\n",
       "      <td>0.203700</td>\n",
       "    </tr>\n",
       "    <tr>\n",
       "      <td>std</td>\n",
       "      <td>7.193619e+04</td>\n",
       "      <td>96.653299</td>\n",
       "      <td>10.487806</td>\n",
       "      <td>2.894723</td>\n",
       "      <td>62397.405202</td>\n",
       "      <td>0.581654</td>\n",
       "      <td>0.45584</td>\n",
       "      <td>0.499797</td>\n",
       "      <td>57510.492818</td>\n",
       "      <td>0.402769</td>\n",
       "    </tr>\n",
       "    <tr>\n",
       "      <td>min</td>\n",
       "      <td>1.556570e+07</td>\n",
       "      <td>350.000000</td>\n",
       "      <td>18.000000</td>\n",
       "      <td>0.000000</td>\n",
       "      <td>0.000000</td>\n",
       "      <td>1.000000</td>\n",
       "      <td>0.00000</td>\n",
       "      <td>0.000000</td>\n",
       "      <td>11.580000</td>\n",
       "      <td>0.000000</td>\n",
       "    </tr>\n",
       "    <tr>\n",
       "      <td>25%</td>\n",
       "      <td>1.562853e+07</td>\n",
       "      <td>584.000000</td>\n",
       "      <td>32.000000</td>\n",
       "      <td>2.000000</td>\n",
       "      <td>0.000000</td>\n",
       "      <td>1.000000</td>\n",
       "      <td>0.00000</td>\n",
       "      <td>0.000000</td>\n",
       "      <td>51002.110000</td>\n",
       "      <td>0.000000</td>\n",
       "    </tr>\n",
       "    <tr>\n",
       "      <td>50%</td>\n",
       "      <td>1.569074e+07</td>\n",
       "      <td>652.000000</td>\n",
       "      <td>37.000000</td>\n",
       "      <td>5.000000</td>\n",
       "      <td>97198.540000</td>\n",
       "      <td>1.000000</td>\n",
       "      <td>1.00000</td>\n",
       "      <td>1.000000</td>\n",
       "      <td>100193.915000</td>\n",
       "      <td>0.000000</td>\n",
       "    </tr>\n",
       "    <tr>\n",
       "      <td>75%</td>\n",
       "      <td>1.575323e+07</td>\n",
       "      <td>718.000000</td>\n",
       "      <td>44.000000</td>\n",
       "      <td>7.000000</td>\n",
       "      <td>127644.240000</td>\n",
       "      <td>2.000000</td>\n",
       "      <td>1.00000</td>\n",
       "      <td>1.000000</td>\n",
       "      <td>149388.247500</td>\n",
       "      <td>0.000000</td>\n",
       "    </tr>\n",
       "    <tr>\n",
       "      <td>max</td>\n",
       "      <td>1.581569e+07</td>\n",
       "      <td>850.000000</td>\n",
       "      <td>92.000000</td>\n",
       "      <td>10.000000</td>\n",
       "      <td>250898.090000</td>\n",
       "      <td>4.000000</td>\n",
       "      <td>1.00000</td>\n",
       "      <td>1.000000</td>\n",
       "      <td>199992.480000</td>\n",
       "      <td>1.000000</td>\n",
       "    </tr>\n",
       "  </tbody>\n",
       "</table>\n",
       "</div>"
      ],
      "text/plain": [
       "         CustomerId   CreditScore           Age       Tenure        Balance  \\\n",
       "count  1.000000e+04  10000.000000  10000.000000  9091.000000   10000.000000   \n",
       "mean   1.569094e+07    650.528800     38.921800     4.997690   76485.889288   \n",
       "std    7.193619e+04     96.653299     10.487806     2.894723   62397.405202   \n",
       "min    1.556570e+07    350.000000     18.000000     0.000000       0.000000   \n",
       "25%    1.562853e+07    584.000000     32.000000     2.000000       0.000000   \n",
       "50%    1.569074e+07    652.000000     37.000000     5.000000   97198.540000   \n",
       "75%    1.575323e+07    718.000000     44.000000     7.000000  127644.240000   \n",
       "max    1.581569e+07    850.000000     92.000000    10.000000  250898.090000   \n",
       "\n",
       "       NumOfProducts    HasCrCard  IsActiveMember  EstimatedSalary  \\\n",
       "count   10000.000000  10000.00000    10000.000000     10000.000000   \n",
       "mean        1.530200      0.70550        0.515100    100090.239881   \n",
       "std         0.581654      0.45584        0.499797     57510.492818   \n",
       "min         1.000000      0.00000        0.000000        11.580000   \n",
       "25%         1.000000      0.00000        0.000000     51002.110000   \n",
       "50%         1.000000      1.00000        1.000000    100193.915000   \n",
       "75%         2.000000      1.00000        1.000000    149388.247500   \n",
       "max         4.000000      1.00000        1.000000    199992.480000   \n",
       "\n",
       "             Exited  \n",
       "count  10000.000000  \n",
       "mean       0.203700  \n",
       "std        0.402769  \n",
       "min        0.000000  \n",
       "25%        0.000000  \n",
       "50%        0.000000  \n",
       "75%        0.000000  \n",
       "max        1.000000  "
      ]
     },
     "execution_count": 6,
     "metadata": {},
     "output_type": "execute_result"
    }
   ],
   "source": [
    "df.describe()"
   ]
  },
  {
   "cell_type": "markdown",
   "metadata": {},
   "source": [
    "В таблице 10000 строк и 13 столбцов. \n",
    "\n",
    "Согласно документации:\n",
    "\n",
    "Признаки\n",
    "* `RowNumber` — индекс строки в данных\n",
    "* `CustomerId` — уникальный идентификатор клиента\n",
    "* `Surname` — фамилия\n",
    "* `CreditScore` — кредитный рейтинг\n",
    "* `Geography` — страна проживания\n",
    "* `Gender` — пол\n",
    "* `Age` — возраст\n",
    "* `Tenure` — сколько лет человек является клиентом банка\n",
    "* `Balance` — баланс на счёте\n",
    "* `NumOfProducts` — количество продуктов банка, используемых клиентом\n",
    "* `HasCrCard` — наличие кредитной карты\n",
    "* `IsActiveMember` — активность клиента\n",
    "* `EstimatedSalary` — предполагаемая зарплата\n",
    "\n",
    "Целевой признак\n",
    "* `Exited` — факт ухода клиента. Модель, которую мы попытаемся построить, будет предсказывать значение 1 если клиент уйдет или 0 если нет. Это задача классификации, т.к. целевой признак является категориальным.\n",
    "\n",
    "Столбец `RowNumber` мы сразу загрузили не как столбец, а как индекс строк.\n",
    "\n",
    "В столбце `Tenure` есть пропуски, их нужно устранить.\n",
    "\n",
    "В данных есть 3 столбца типа object - `Surname`, `Geography` и `Gender`, перед обучением модели нужно их обработать - столбец с фамилией никак не влияет на поведение клиента и для обучения не нужен, а другие два столбца нужно перевести в числа с помощью кодировщика.\n",
    "\n",
    "Остальные столбцы содержать численную информацию в форматах int и float. Из них нужно удалить столбец `CustomerId` - эта информация также не нужна для обучения. Остальные столбцы нужно масштабировать, для того чтобы обучить модель логистической регрессии.\n",
    "\n",
    "Данные в числовых столбцах не содержат выбросов и выглядят корректно."
   ]
  },
  {
   "cell_type": "markdown",
   "metadata": {},
   "source": [
    "### Предобработка"
   ]
  },
  {
   "cell_type": "markdown",
   "metadata": {},
   "source": [
    "Исследуем пропуски в столбце `Tenure` и подумаем, можно ли их заполнить."
   ]
  },
  {
   "cell_type": "code",
   "execution_count": 7,
   "metadata": {},
   "outputs": [
    {
     "name": "stdout",
     "output_type": "stream",
     "text": [
      "Пропусков в столбце 9.1 %\n"
     ]
    }
   ],
   "source": [
    "print('Пропусков в столбце', (df['Tenure'].isna(\n",
    ").sum()/df['Tenure'].shape[0]*100).round(1), '%')"
   ]
  },
  {
   "cell_type": "code",
   "execution_count": 8,
   "metadata": {
    "scrolled": true
   },
   "outputs": [
    {
     "data": {
      "text/html": [
       "<div>\n",
       "<style scoped>\n",
       "    .dataframe tbody tr th:only-of-type {\n",
       "        vertical-align: middle;\n",
       "    }\n",
       "\n",
       "    .dataframe tbody tr th {\n",
       "        vertical-align: top;\n",
       "    }\n",
       "\n",
       "    .dataframe thead th {\n",
       "        text-align: right;\n",
       "    }\n",
       "</style>\n",
       "<table border=\"1\" class=\"dataframe\">\n",
       "  <thead>\n",
       "    <tr style=\"text-align: right;\">\n",
       "      <th></th>\n",
       "      <th>CustomerId</th>\n",
       "      <th>Surname</th>\n",
       "      <th>CreditScore</th>\n",
       "      <th>Geography</th>\n",
       "      <th>Gender</th>\n",
       "      <th>Age</th>\n",
       "      <th>Tenure</th>\n",
       "      <th>Balance</th>\n",
       "      <th>NumOfProducts</th>\n",
       "      <th>HasCrCard</th>\n",
       "      <th>IsActiveMember</th>\n",
       "      <th>EstimatedSalary</th>\n",
       "      <th>Exited</th>\n",
       "    </tr>\n",
       "    <tr>\n",
       "      <th>RowNumber</th>\n",
       "      <th></th>\n",
       "      <th></th>\n",
       "      <th></th>\n",
       "      <th></th>\n",
       "      <th></th>\n",
       "      <th></th>\n",
       "      <th></th>\n",
       "      <th></th>\n",
       "      <th></th>\n",
       "      <th></th>\n",
       "      <th></th>\n",
       "      <th></th>\n",
       "      <th></th>\n",
       "    </tr>\n",
       "  </thead>\n",
       "  <tbody>\n",
       "    <tr>\n",
       "      <td>31</td>\n",
       "      <td>15589475</td>\n",
       "      <td>Azikiwe</td>\n",
       "      <td>591</td>\n",
       "      <td>Spain</td>\n",
       "      <td>Female</td>\n",
       "      <td>39</td>\n",
       "      <td>NaN</td>\n",
       "      <td>0.00</td>\n",
       "      <td>3</td>\n",
       "      <td>1</td>\n",
       "      <td>0</td>\n",
       "      <td>140469.38</td>\n",
       "      <td>1</td>\n",
       "    </tr>\n",
       "    <tr>\n",
       "      <td>49</td>\n",
       "      <td>15766205</td>\n",
       "      <td>Yin</td>\n",
       "      <td>550</td>\n",
       "      <td>Germany</td>\n",
       "      <td>Male</td>\n",
       "      <td>38</td>\n",
       "      <td>NaN</td>\n",
       "      <td>103391.38</td>\n",
       "      <td>1</td>\n",
       "      <td>0</td>\n",
       "      <td>1</td>\n",
       "      <td>90878.13</td>\n",
       "      <td>0</td>\n",
       "    </tr>\n",
       "    <tr>\n",
       "      <td>52</td>\n",
       "      <td>15768193</td>\n",
       "      <td>Trevisani</td>\n",
       "      <td>585</td>\n",
       "      <td>Germany</td>\n",
       "      <td>Male</td>\n",
       "      <td>36</td>\n",
       "      <td>NaN</td>\n",
       "      <td>146050.97</td>\n",
       "      <td>2</td>\n",
       "      <td>0</td>\n",
       "      <td>0</td>\n",
       "      <td>86424.57</td>\n",
       "      <td>0</td>\n",
       "    </tr>\n",
       "    <tr>\n",
       "      <td>54</td>\n",
       "      <td>15702298</td>\n",
       "      <td>Parkhill</td>\n",
       "      <td>655</td>\n",
       "      <td>Germany</td>\n",
       "      <td>Male</td>\n",
       "      <td>41</td>\n",
       "      <td>NaN</td>\n",
       "      <td>125561.97</td>\n",
       "      <td>1</td>\n",
       "      <td>0</td>\n",
       "      <td>0</td>\n",
       "      <td>164040.94</td>\n",
       "      <td>1</td>\n",
       "    </tr>\n",
       "    <tr>\n",
       "      <td>61</td>\n",
       "      <td>15651280</td>\n",
       "      <td>Hunter</td>\n",
       "      <td>742</td>\n",
       "      <td>Germany</td>\n",
       "      <td>Male</td>\n",
       "      <td>35</td>\n",
       "      <td>NaN</td>\n",
       "      <td>136857.00</td>\n",
       "      <td>1</td>\n",
       "      <td>0</td>\n",
       "      <td>0</td>\n",
       "      <td>84509.57</td>\n",
       "      <td>0</td>\n",
       "    </tr>\n",
       "    <tr>\n",
       "      <td>83</td>\n",
       "      <td>15641732</td>\n",
       "      <td>Mills</td>\n",
       "      <td>543</td>\n",
       "      <td>France</td>\n",
       "      <td>Female</td>\n",
       "      <td>36</td>\n",
       "      <td>NaN</td>\n",
       "      <td>0.00</td>\n",
       "      <td>2</td>\n",
       "      <td>0</td>\n",
       "      <td>0</td>\n",
       "      <td>26019.59</td>\n",
       "      <td>0</td>\n",
       "    </tr>\n",
       "    <tr>\n",
       "      <td>86</td>\n",
       "      <td>15805254</td>\n",
       "      <td>Ndukaku</td>\n",
       "      <td>652</td>\n",
       "      <td>Spain</td>\n",
       "      <td>Female</td>\n",
       "      <td>75</td>\n",
       "      <td>NaN</td>\n",
       "      <td>0.00</td>\n",
       "      <td>2</td>\n",
       "      <td>1</td>\n",
       "      <td>1</td>\n",
       "      <td>114675.75</td>\n",
       "      <td>0</td>\n",
       "    </tr>\n",
       "    <tr>\n",
       "      <td>95</td>\n",
       "      <td>15676966</td>\n",
       "      <td>Capon</td>\n",
       "      <td>730</td>\n",
       "      <td>Spain</td>\n",
       "      <td>Male</td>\n",
       "      <td>42</td>\n",
       "      <td>NaN</td>\n",
       "      <td>0.00</td>\n",
       "      <td>2</td>\n",
       "      <td>0</td>\n",
       "      <td>1</td>\n",
       "      <td>85982.47</td>\n",
       "      <td>0</td>\n",
       "    </tr>\n",
       "    <tr>\n",
       "      <td>100</td>\n",
       "      <td>15633059</td>\n",
       "      <td>Fanucci</td>\n",
       "      <td>413</td>\n",
       "      <td>France</td>\n",
       "      <td>Male</td>\n",
       "      <td>34</td>\n",
       "      <td>NaN</td>\n",
       "      <td>0.00</td>\n",
       "      <td>2</td>\n",
       "      <td>0</td>\n",
       "      <td>0</td>\n",
       "      <td>6534.18</td>\n",
       "      <td>0</td>\n",
       "    </tr>\n",
       "    <tr>\n",
       "      <td>112</td>\n",
       "      <td>15665790</td>\n",
       "      <td>Rowntree</td>\n",
       "      <td>538</td>\n",
       "      <td>Germany</td>\n",
       "      <td>Male</td>\n",
       "      <td>39</td>\n",
       "      <td>NaN</td>\n",
       "      <td>108055.10</td>\n",
       "      <td>2</td>\n",
       "      <td>1</td>\n",
       "      <td>0</td>\n",
       "      <td>27231.26</td>\n",
       "      <td>0</td>\n",
       "    </tr>\n",
       "  </tbody>\n",
       "</table>\n",
       "</div>"
      ],
      "text/plain": [
       "           CustomerId    Surname  CreditScore Geography  Gender  Age  Tenure  \\\n",
       "RowNumber                                                                      \n",
       "31           15589475    Azikiwe          591     Spain  Female   39     NaN   \n",
       "49           15766205        Yin          550   Germany    Male   38     NaN   \n",
       "52           15768193  Trevisani          585   Germany    Male   36     NaN   \n",
       "54           15702298   Parkhill          655   Germany    Male   41     NaN   \n",
       "61           15651280     Hunter          742   Germany    Male   35     NaN   \n",
       "83           15641732      Mills          543    France  Female   36     NaN   \n",
       "86           15805254    Ndukaku          652     Spain  Female   75     NaN   \n",
       "95           15676966      Capon          730     Spain    Male   42     NaN   \n",
       "100          15633059    Fanucci          413    France    Male   34     NaN   \n",
       "112          15665790   Rowntree          538   Germany    Male   39     NaN   \n",
       "\n",
       "             Balance  NumOfProducts  HasCrCard  IsActiveMember  \\\n",
       "RowNumber                                                        \n",
       "31              0.00              3          1               0   \n",
       "49         103391.38              1          0               1   \n",
       "52         146050.97              2          0               0   \n",
       "54         125561.97              1          0               0   \n",
       "61         136857.00              1          0               0   \n",
       "83              0.00              2          0               0   \n",
       "86              0.00              2          1               1   \n",
       "95              0.00              2          0               1   \n",
       "100             0.00              2          0               0   \n",
       "112        108055.10              2          1               0   \n",
       "\n",
       "           EstimatedSalary  Exited  \n",
       "RowNumber                           \n",
       "31               140469.38       1  \n",
       "49                90878.13       0  \n",
       "52                86424.57       0  \n",
       "54               164040.94       1  \n",
       "61                84509.57       0  \n",
       "83                26019.59       0  \n",
       "86               114675.75       0  \n",
       "95                85982.47       0  \n",
       "100                6534.18       0  \n",
       "112               27231.26       0  "
      ]
     },
     "execution_count": 8,
     "metadata": {},
     "output_type": "execute_result"
    }
   ],
   "source": [
    "df[df['Tenure'].isna()].head(10)"
   ]
  },
  {
   "cell_type": "markdown",
   "metadata": {},
   "source": [
    "Узнаем, есть ли корреляция ID клиента и того, сколько лет он пользуется услугами банка, тк если ID выдаются по очереди, то меньшие номера будут у более старых клиентов."
   ]
  },
  {
   "cell_type": "code",
   "execution_count": 9,
   "metadata": {
    "scrolled": false
   },
   "outputs": [
    {
     "data": {
      "text/plain": [
       "-0.021417562052755166"
      ]
     },
     "execution_count": 9,
     "metadata": {},
     "output_type": "execute_result"
    }
   ],
   "source": [
    "df['Tenure'].corr(df['CustomerId'])"
   ]
  },
  {
   "cell_type": "markdown",
   "metadata": {},
   "source": [
    "Корреляции нет, других способов восстановить данные этого столбца тоже нет, придется либо удалить строки с пропущеными данными, так мы потеряем 9% данных, что вполне приемлемо, либо попробовать обучать модель без этого столбца. Но на первый взгляд он кажется довольно важным, поэтому выберем первый способ."
   ]
  },
  {
   "cell_type": "code",
   "execution_count": 10,
   "metadata": {},
   "outputs": [],
   "source": [
    "df = df.dropna(subset=['Tenure'])\n",
    "df.reset_index(drop=True, inplace=True)"
   ]
  },
  {
   "cell_type": "markdown",
   "metadata": {},
   "source": [
    "Из данных нужно удалить столбец с фамилиями `Surname` и столбец `CustomerId`, так как корреляции с поведением человека они не имеют и для обучения модели не нужны."
   ]
  },
  {
   "cell_type": "code",
   "execution_count": 11,
   "metadata": {},
   "outputs": [],
   "source": [
    "df = df.drop(['Surname', 'CustomerId'], axis=1)"
   ]
  },
  {
   "cell_type": "markdown",
   "metadata": {},
   "source": [
    "Теперь приведем данные к виду, подходящему для обучения модели. Оставшиеся текстовые столбцы (`Geography`  и`Gender`) преобразуем в числовые значения с помощью One-Hot Encoding."
   ]
  },
  {
   "cell_type": "code",
   "execution_count": 12,
   "metadata": {
    "scrolled": false
   },
   "outputs": [
    {
     "data": {
      "text/html": [
       "<div>\n",
       "<style scoped>\n",
       "    .dataframe tbody tr th:only-of-type {\n",
       "        vertical-align: middle;\n",
       "    }\n",
       "\n",
       "    .dataframe tbody tr th {\n",
       "        vertical-align: top;\n",
       "    }\n",
       "\n",
       "    .dataframe thead th {\n",
       "        text-align: right;\n",
       "    }\n",
       "</style>\n",
       "<table border=\"1\" class=\"dataframe\">\n",
       "  <thead>\n",
       "    <tr style=\"text-align: right;\">\n",
       "      <th></th>\n",
       "      <th>CreditScore</th>\n",
       "      <th>Age</th>\n",
       "      <th>Tenure</th>\n",
       "      <th>Balance</th>\n",
       "      <th>NumOfProducts</th>\n",
       "      <th>HasCrCard</th>\n",
       "      <th>IsActiveMember</th>\n",
       "      <th>EstimatedSalary</th>\n",
       "      <th>Exited</th>\n",
       "      <th>Geography_Germany</th>\n",
       "      <th>Geography_Spain</th>\n",
       "      <th>Gender_Male</th>\n",
       "    </tr>\n",
       "  </thead>\n",
       "  <tbody>\n",
       "    <tr>\n",
       "      <td>0</td>\n",
       "      <td>619</td>\n",
       "      <td>42</td>\n",
       "      <td>2.0</td>\n",
       "      <td>0.00</td>\n",
       "      <td>1</td>\n",
       "      <td>1</td>\n",
       "      <td>1</td>\n",
       "      <td>101348.88</td>\n",
       "      <td>1</td>\n",
       "      <td>0</td>\n",
       "      <td>0</td>\n",
       "      <td>0</td>\n",
       "    </tr>\n",
       "    <tr>\n",
       "      <td>1</td>\n",
       "      <td>608</td>\n",
       "      <td>41</td>\n",
       "      <td>1.0</td>\n",
       "      <td>83807.86</td>\n",
       "      <td>1</td>\n",
       "      <td>0</td>\n",
       "      <td>1</td>\n",
       "      <td>112542.58</td>\n",
       "      <td>0</td>\n",
       "      <td>0</td>\n",
       "      <td>1</td>\n",
       "      <td>0</td>\n",
       "    </tr>\n",
       "    <tr>\n",
       "      <td>2</td>\n",
       "      <td>502</td>\n",
       "      <td>42</td>\n",
       "      <td>8.0</td>\n",
       "      <td>159660.80</td>\n",
       "      <td>3</td>\n",
       "      <td>1</td>\n",
       "      <td>0</td>\n",
       "      <td>113931.57</td>\n",
       "      <td>1</td>\n",
       "      <td>0</td>\n",
       "      <td>0</td>\n",
       "      <td>0</td>\n",
       "    </tr>\n",
       "    <tr>\n",
       "      <td>3</td>\n",
       "      <td>699</td>\n",
       "      <td>39</td>\n",
       "      <td>1.0</td>\n",
       "      <td>0.00</td>\n",
       "      <td>2</td>\n",
       "      <td>0</td>\n",
       "      <td>0</td>\n",
       "      <td>93826.63</td>\n",
       "      <td>0</td>\n",
       "      <td>0</td>\n",
       "      <td>0</td>\n",
       "      <td>0</td>\n",
       "    </tr>\n",
       "    <tr>\n",
       "      <td>4</td>\n",
       "      <td>850</td>\n",
       "      <td>43</td>\n",
       "      <td>2.0</td>\n",
       "      <td>125510.82</td>\n",
       "      <td>1</td>\n",
       "      <td>1</td>\n",
       "      <td>1</td>\n",
       "      <td>79084.10</td>\n",
       "      <td>0</td>\n",
       "      <td>0</td>\n",
       "      <td>1</td>\n",
       "      <td>0</td>\n",
       "    </tr>\n",
       "  </tbody>\n",
       "</table>\n",
       "</div>"
      ],
      "text/plain": [
       "   CreditScore  Age  Tenure    Balance  NumOfProducts  HasCrCard  \\\n",
       "0          619   42     2.0       0.00              1          1   \n",
       "1          608   41     1.0   83807.86              1          0   \n",
       "2          502   42     8.0  159660.80              3          1   \n",
       "3          699   39     1.0       0.00              2          0   \n",
       "4          850   43     2.0  125510.82              1          1   \n",
       "\n",
       "   IsActiveMember  EstimatedSalary  Exited  Geography_Germany  \\\n",
       "0               1        101348.88       1                  0   \n",
       "1               1        112542.58       0                  0   \n",
       "2               0        113931.57       1                  0   \n",
       "3               0         93826.63       0                  0   \n",
       "4               1         79084.10       0                  0   \n",
       "\n",
       "   Geography_Spain  Gender_Male  \n",
       "0                0            0  \n",
       "1                1            0  \n",
       "2                0            0  \n",
       "3                0            0  \n",
       "4                1            0  "
      ]
     },
     "execution_count": 12,
     "metadata": {},
     "output_type": "execute_result"
    }
   ],
   "source": [
    "df = pd.get_dummies(df, prefix=['Geography', 'Gender'], columns=[\n",
    "                    'Geography', 'Gender'], drop_first=True)\n",
    "df.head()"
   ]
  },
  {
   "cell_type": "markdown",
   "metadata": {},
   "source": [
    "### Разбивка на выборки"
   ]
  },
  {
   "cell_type": "markdown",
   "metadata": {},
   "source": [
    "Выделим целевой признак и разобьем данные на выборки в соотношении обучающая : валидационная : тестовая 60:20:20."
   ]
  },
  {
   "cell_type": "code",
   "execution_count": 13,
   "metadata": {},
   "outputs": [],
   "source": [
    "target = df['Exited']\n",
    "features = df.drop('Exited', axis=1)"
   ]
  },
  {
   "cell_type": "code",
   "execution_count": 14,
   "metadata": {},
   "outputs": [],
   "source": [
    "features_train, features_valid, target_train, target_valid = train_test_split(\n",
    "    features, target, test_size=0.2, random_state=12345)"
   ]
  },
  {
   "cell_type": "code",
   "execution_count": 15,
   "metadata": {},
   "outputs": [],
   "source": [
    "features_train, features_test, target_train, target_test = train_test_split(\n",
    "    features_train, target_train, test_size=0.25, random_state=12345)"
   ]
  },
  {
   "cell_type": "code",
   "execution_count": 16,
   "metadata": {
    "scrolled": true
   },
   "outputs": [
    {
     "name": "stdout",
     "output_type": "stream",
     "text": [
      "Обучающая 0.60 : Валидационная 0.20 : Тестовая 0.20\n"
     ]
    }
   ],
   "source": [
    "print('Обучающая {0:.2f} : Валидационная {1:.2f} : Тестовая {2:.2f}'.format(len(features_train)/len(features),\n",
    "                                                                            len(features_valid) /\n",
    "                                                                            len(features),\n",
    "                                                                            len(features_test)/len(features)))"
   ]
  },
  {
   "cell_type": "markdown",
   "metadata": {},
   "source": [
    "### Стандартизация"
   ]
  },
  {
   "cell_type": "markdown",
   "metadata": {},
   "source": [
    "Рассмотрим столбцы с количественными данными. Сравним их масштаб и оценим необходимость стандартизации."
   ]
  },
  {
   "cell_type": "code",
   "execution_count": 17,
   "metadata": {
    "scrolled": true
   },
   "outputs": [
    {
     "data": {
      "text/html": [
       "<div>\n",
       "<style scoped>\n",
       "    .dataframe tbody tr th:only-of-type {\n",
       "        vertical-align: middle;\n",
       "    }\n",
       "\n",
       "    .dataframe tbody tr th {\n",
       "        vertical-align: top;\n",
       "    }\n",
       "\n",
       "    .dataframe thead th {\n",
       "        text-align: right;\n",
       "    }\n",
       "</style>\n",
       "<table border=\"1\" class=\"dataframe\">\n",
       "  <thead>\n",
       "    <tr style=\"text-align: right;\">\n",
       "      <th></th>\n",
       "      <th>CreditScore</th>\n",
       "      <th>Age</th>\n",
       "      <th>Tenure</th>\n",
       "      <th>Balance</th>\n",
       "      <th>NumOfProducts</th>\n",
       "      <th>EstimatedSalary</th>\n",
       "    </tr>\n",
       "  </thead>\n",
       "  <tbody>\n",
       "    <tr>\n",
       "      <td>count</td>\n",
       "      <td>5454.000000</td>\n",
       "      <td>5454.000000</td>\n",
       "      <td>5454.000000</td>\n",
       "      <td>5454.000000</td>\n",
       "      <td>5454.000000</td>\n",
       "      <td>5454.000000</td>\n",
       "    </tr>\n",
       "    <tr>\n",
       "      <td>mean</td>\n",
       "      <td>648.892189</td>\n",
       "      <td>39.046205</td>\n",
       "      <td>4.979281</td>\n",
       "      <td>76591.024818</td>\n",
       "      <td>1.539054</td>\n",
       "      <td>99674.829261</td>\n",
       "    </tr>\n",
       "    <tr>\n",
       "      <td>std</td>\n",
       "      <td>97.606040</td>\n",
       "      <td>10.512490</td>\n",
       "      <td>2.897436</td>\n",
       "      <td>62245.660325</td>\n",
       "      <td>0.589221</td>\n",
       "      <td>57653.067976</td>\n",
       "    </tr>\n",
       "    <tr>\n",
       "      <td>min</td>\n",
       "      <td>350.000000</td>\n",
       "      <td>18.000000</td>\n",
       "      <td>0.000000</td>\n",
       "      <td>0.000000</td>\n",
       "      <td>1.000000</td>\n",
       "      <td>11.580000</td>\n",
       "    </tr>\n",
       "    <tr>\n",
       "      <td>25%</td>\n",
       "      <td>581.000000</td>\n",
       "      <td>32.000000</td>\n",
       "      <td>2.000000</td>\n",
       "      <td>0.000000</td>\n",
       "      <td>1.000000</td>\n",
       "      <td>50695.567500</td>\n",
       "    </tr>\n",
       "    <tr>\n",
       "      <td>50%</td>\n",
       "      <td>650.000000</td>\n",
       "      <td>37.000000</td>\n",
       "      <td>5.000000</td>\n",
       "      <td>97227.360000</td>\n",
       "      <td>1.000000</td>\n",
       "      <td>99691.065000</td>\n",
       "    </tr>\n",
       "    <tr>\n",
       "      <td>75%</td>\n",
       "      <td>717.000000</td>\n",
       "      <td>44.000000</td>\n",
       "      <td>7.000000</td>\n",
       "      <td>127647.840000</td>\n",
       "      <td>2.000000</td>\n",
       "      <td>148534.862500</td>\n",
       "    </tr>\n",
       "    <tr>\n",
       "      <td>max</td>\n",
       "      <td>850.000000</td>\n",
       "      <td>92.000000</td>\n",
       "      <td>10.000000</td>\n",
       "      <td>222267.630000</td>\n",
       "      <td>4.000000</td>\n",
       "      <td>199953.330000</td>\n",
       "    </tr>\n",
       "  </tbody>\n",
       "</table>\n",
       "</div>"
      ],
      "text/plain": [
       "       CreditScore          Age       Tenure        Balance  NumOfProducts  \\\n",
       "count  5454.000000  5454.000000  5454.000000    5454.000000    5454.000000   \n",
       "mean    648.892189    39.046205     4.979281   76591.024818       1.539054   \n",
       "std      97.606040    10.512490     2.897436   62245.660325       0.589221   \n",
       "min     350.000000    18.000000     0.000000       0.000000       1.000000   \n",
       "25%     581.000000    32.000000     2.000000       0.000000       1.000000   \n",
       "50%     650.000000    37.000000     5.000000   97227.360000       1.000000   \n",
       "75%     717.000000    44.000000     7.000000  127647.840000       2.000000   \n",
       "max     850.000000    92.000000    10.000000  222267.630000       4.000000   \n",
       "\n",
       "       EstimatedSalary  \n",
       "count      5454.000000  \n",
       "mean      99674.829261  \n",
       "std       57653.067976  \n",
       "min          11.580000  \n",
       "25%       50695.567500  \n",
       "50%       99691.065000  \n",
       "75%      148534.862500  \n",
       "max      199953.330000  "
      ]
     },
     "execution_count": 17,
     "metadata": {},
     "output_type": "execute_result"
    }
   ],
   "source": [
    "numeric_columns = ['CreditScore', 'Age', 'Tenure',\n",
    "                   'Balance', 'NumOfProducts', 'EstimatedSalary']\n",
    "features_train[numeric_columns].describe()"
   ]
  },
  {
   "cell_type": "code",
   "execution_count": 18,
   "metadata": {},
   "outputs": [
    {
     "data": {
      "text/plain": [
       "<matplotlib.axes._subplots.AxesSubplot at 0x7fcc36116350>"
      ]
     },
     "execution_count": 18,
     "metadata": {},
     "output_type": "execute_result"
    },
    {
     "data": {
      "image/png": "[encoded data removed]",
      "text/plain": [
       "<Figure size 1080x360 with 1 Axes>"
      ]
     },
     "metadata": {
      "needs_background": "light"
     },
     "output_type": "display_data"
    }
   ],
   "source": [
    "features_train[numeric_columns].plot(kind='kde')"
   ]
  },
  {
   "cell_type": "markdown",
   "metadata": {},
   "source": [
    "Данные имеют очень разный масштаб и для лучшей работы моделей необходимо их стандартизировать. Сделаем это с помощью StandardScaler."
   ]
  },
  {
   "cell_type": "code",
   "execution_count": 19,
   "metadata": {},
   "outputs": [],
   "source": [
    "scaler = StandardScaler()\n",
    "scaler.fit(features_train[numeric_columns])\n",
    "features_train[numeric_columns] = scaler.transform(\n",
    "    features_train[numeric_columns])\n",
    "features_valid[numeric_columns] = scaler.transform(\n",
    "    features_valid[numeric_columns])\n",
    "features_test[numeric_columns] = scaler.transform(\n",
    "    features_test[numeric_columns])"
   ]
  },
  {
   "cell_type": "code",
   "execution_count": 20,
   "metadata": {},
   "outputs": [
    {
     "data": {
      "text/html": [
       "<div>\n",
       "<style scoped>\n",
       "    .dataframe tbody tr th:only-of-type {\n",
       "        vertical-align: middle;\n",
       "    }\n",
       "\n",
       "    .dataframe tbody tr th {\n",
       "        vertical-align: top;\n",
       "    }\n",
       "\n",
       "    .dataframe thead th {\n",
       "        text-align: right;\n",
       "    }\n",
       "</style>\n",
       "<table border=\"1\" class=\"dataframe\">\n",
       "  <thead>\n",
       "    <tr style=\"text-align: right;\">\n",
       "      <th></th>\n",
       "      <th>CreditScore</th>\n",
       "      <th>Age</th>\n",
       "      <th>Tenure</th>\n",
       "      <th>Balance</th>\n",
       "      <th>NumOfProducts</th>\n",
       "      <th>EstimatedSalary</th>\n",
       "    </tr>\n",
       "  </thead>\n",
       "  <tbody>\n",
       "    <tr>\n",
       "      <td>count</td>\n",
       "      <td>5.454000e+03</td>\n",
       "      <td>5.454000e+03</td>\n",
       "      <td>5.454000e+03</td>\n",
       "      <td>5.454000e+03</td>\n",
       "      <td>5.454000e+03</td>\n",
       "      <td>5.454000e+03</td>\n",
       "    </tr>\n",
       "    <tr>\n",
       "      <td>mean</td>\n",
       "      <td>7.816752e-17</td>\n",
       "      <td>-2.853114e-16</td>\n",
       "      <td>-5.211168e-18</td>\n",
       "      <td>-1.302792e-17</td>\n",
       "      <td>1.218110e-16</td>\n",
       "      <td>1.823909e-17</td>\n",
       "    </tr>\n",
       "    <tr>\n",
       "      <td>std</td>\n",
       "      <td>1.000092e+00</td>\n",
       "      <td>1.000092e+00</td>\n",
       "      <td>1.000092e+00</td>\n",
       "      <td>1.000092e+00</td>\n",
       "      <td>1.000092e+00</td>\n",
       "      <td>1.000092e+00</td>\n",
       "    </tr>\n",
       "    <tr>\n",
       "      <td>min</td>\n",
       "      <td>-3.062511e+00</td>\n",
       "      <td>-2.002203e+00</td>\n",
       "      <td>-1.718671e+00</td>\n",
       "      <td>-1.230577e+00</td>\n",
       "      <td>-9.149422e-01</td>\n",
       "      <td>-1.728831e+00</td>\n",
       "    </tr>\n",
       "    <tr>\n",
       "      <td>25%</td>\n",
       "      <td>-6.956374e-01</td>\n",
       "      <td>-6.703313e-01</td>\n",
       "      <td>-1.028342e+00</td>\n",
       "      <td>-1.230577e+00</td>\n",
       "      <td>-9.149422e-01</td>\n",
       "      <td>-8.496296e-01</td>\n",
       "    </tr>\n",
       "    <tr>\n",
       "      <td>50%</td>\n",
       "      <td>1.135086e-02</td>\n",
       "      <td>-1.946629e-01</td>\n",
       "      <td>7.151372e-03</td>\n",
       "      <td>3.315609e-01</td>\n",
       "      <td>-9.149422e-01</td>\n",
       "      <td>2.816368e-04</td>\n",
       "    </tr>\n",
       "    <tr>\n",
       "      <td>75%</td>\n",
       "      <td>6.978467e-01</td>\n",
       "      <td>4.712727e-01</td>\n",
       "      <td>6.974802e-01</td>\n",
       "      <td>8.203222e-01</td>\n",
       "      <td>7.823689e-01</td>\n",
       "      <td>8.475614e-01</td>\n",
       "    </tr>\n",
       "    <tr>\n",
       "      <td>max</td>\n",
       "      <td>2.060592e+00</td>\n",
       "      <td>5.037689e+00</td>\n",
       "      <td>1.732974e+00</td>\n",
       "      <td>2.340564e+00</td>\n",
       "      <td>4.176991e+00</td>\n",
       "      <td>1.739503e+00</td>\n",
       "    </tr>\n",
       "  </tbody>\n",
       "</table>\n",
       "</div>"
      ],
      "text/plain": [
       "        CreditScore           Age        Tenure       Balance  NumOfProducts  \\\n",
       "count  5.454000e+03  5.454000e+03  5.454000e+03  5.454000e+03   5.454000e+03   \n",
       "mean   7.816752e-17 -2.853114e-16 -5.211168e-18 -1.302792e-17   1.218110e-16   \n",
       "std    1.000092e+00  1.000092e+00  1.000092e+00  1.000092e+00   1.000092e+00   \n",
       "min   -3.062511e+00 -2.002203e+00 -1.718671e+00 -1.230577e+00  -9.149422e-01   \n",
       "25%   -6.956374e-01 -6.703313e-01 -1.028342e+00 -1.230577e+00  -9.149422e-01   \n",
       "50%    1.135086e-02 -1.946629e-01  7.151372e-03  3.315609e-01  -9.149422e-01   \n",
       "75%    6.978467e-01  4.712727e-01  6.974802e-01  8.203222e-01   7.823689e-01   \n",
       "max    2.060592e+00  5.037689e+00  1.732974e+00  2.340564e+00   4.176991e+00   \n",
       "\n",
       "       EstimatedSalary  \n",
       "count     5.454000e+03  \n",
       "mean      1.823909e-17  \n",
       "std       1.000092e+00  \n",
       "min      -1.728831e+00  \n",
       "25%      -8.496296e-01  \n",
       "50%       2.816368e-04  \n",
       "75%       8.475614e-01  \n",
       "max       1.739503e+00  "
      ]
     },
     "execution_count": 20,
     "metadata": {},
     "output_type": "execute_result"
    }
   ],
   "source": [
    "features_train[numeric_columns].describe()"
   ]
  },
  {
   "cell_type": "code",
   "execution_count": 21,
   "metadata": {
    "scrolled": false
   },
   "outputs": [
    {
     "data": {
      "text/plain": [
       "<matplotlib.axes._subplots.AxesSubplot at 0x7fcc2c046610>"
      ]
     },
     "execution_count": 21,
     "metadata": {},
     "output_type": "execute_result"
    },
    {
     "data": {
      "image/png": "[encoded data removed]",
      "text/plain": [
       "<Figure size 1080x360 with 1 Axes>"
      ]
     },
     "metadata": {
      "needs_background": "light"
     },
     "output_type": "display_data"
    }
   ],
   "source": [
    "features_train[numeric_columns].plot(kind='kde')"
   ]
  },
  {
   "cell_type": "markdown",
   "metadata": {},
   "source": [
    "Теперь данные стандартизированны и имеют схожий масштаб."
   ]
  },
  {
   "cell_type": "raw",
   "metadata": {},
   "source": [
    "def chart_distribution_data(df, columns):\n",
    "    colors = ['b', 'g', 'red', 'c', 'purple', 'lightpink', 'lightgrey', 'coral', 'wheat', 'lightgreen', 'skyblue']\n",
    "    nrows = math.ceil(len(columns)/2)\n",
    "    \n",
    "    plt.gcf().set_size_inches(15, 25)\n",
    "    plt.rcParams.update({'font.size': 11})\n",
    "    for column, color in zip(columns, colors):\n",
    "        p = columns.index(column)+1\n",
    "        plt.subplot(nrows, 2, p)\n",
    "        if len(df[column].unique()) > 20:\n",
    "            plt.hist(df[column], bins = 50, ec='k', color = color)\n",
    "        else:\n",
    "            x = df[column].value_counts().index\n",
    "            y = df[column].value_counts().values\n",
    "            sns.barplot(x, y, linewidth=1, edgecolor='.1', color = color)\n",
    "        plt.title('Распределение значений ' + column)"
   ]
  },
  {
   "cell_type": "markdown",
   "metadata": {},
   "source": [
    "## Исследование задачи"
   ]
  },
  {
   "cell_type": "markdown",
   "metadata": {},
   "source": [
    "Напишем вспомогательные функции для вывода метрик и создания сравнительной таблицы."
   ]
  },
  {
   "cell_type": "code",
   "execution_count": 22,
   "metadata": {},
   "outputs": [],
   "source": [
    "scores = [[], [], [], []]\n",
    "\n",
    "\n",
    "def print_scores(model, sample='valid'):\n",
    "    \"\"\"\n",
    "    Вычисляет и выводит на экран F1 score и  AUC_ROC. добавляет данные в список для создания сравнительной таблицы.\n",
    "    \"\"\"\n",
    "    global scores\n",
    "    if sample == 'valid':\n",
    "        f1 = f1_score(target_valid, model.predict(features_valid))\n",
    "        roc_auc = roc_auc_score(\n",
    "            target_valid, model.predict_proba(features_valid)[:, 1])\n",
    "        if len(scores[0]) == len(scores[1]) == len(scores[2]) == len(scores[3]):\n",
    "            scores[0].extend([f1, roc_auc])\n",
    "        elif len(scores[0]) > len(scores[1]):\n",
    "            scores[1].extend([f1, roc_auc])\n",
    "        elif len(scores[1]) > len(scores[2]):\n",
    "            scores[2].extend([f1, roc_auc])\n",
    "        elif len(scores[2]) > len(scores[3]):\n",
    "            scores[3].extend([f1, roc_auc])\n",
    "        print('F1 score {0:.3f}'.format(f1))\n",
    "        print('AUC_ROC {0:.3f}'.format(roc_auc))\n",
    "    if sample == 'test':\n",
    "        print('F1 score {0:.3f}'.format(\n",
    "            f1_score(target_test, model.predict(features_test))))\n",
    "        print('AUC_ROC {0:.3f}'.format(roc_auc_score(\n",
    "            target_test, model.predict_proba(features_test)[:, 1])))"
   ]
  },
  {
   "cell_type": "code",
   "execution_count": 23,
   "metadata": {},
   "outputs": [],
   "source": [
    "def make_df():\n",
    "    \"\"\"\n",
    "    Создает датафрейм с информацией о метриках моделей.\n",
    "    \"\"\"\n",
    "    global scores\n",
    "    scores = list(map(list, zip(*scores)))\n",
    "    index = ['F1 score', 'AUC_ROC', 'F1 score weighed', 'AUC_ROC weighed',\n",
    "             'F1 score upsampling', 'AUC_ROC upsampling', 'F1 score hyperparameters', 'AUC_ROC hyperparameters']\n",
    "    sc = pd.DataFrame(data=scores,\n",
    "                      columns=['LogisticRegression', 'DecisionTreeClassifier',\n",
    "                               'RandomForestClassifier', 'CatBoostClassifier'],\n",
    "                      index=index[:len(scores)])\n",
    "    scores = list(map(list, zip(*scores)))\n",
    "    return sc"
   ]
  },
  {
   "cell_type": "markdown",
   "metadata": {},
   "source": [
    "Попробуем несколько алгоритмов и сравним их по f1 score и AUC-ROC."
   ]
  },
  {
   "cell_type": "markdown",
   "metadata": {},
   "source": [
    "### Логистическая регрессия"
   ]
  },
  {
   "cell_type": "code",
   "execution_count": 24,
   "metadata": {
    "scrolled": true
   },
   "outputs": [
    {
     "name": "stdout",
     "output_type": "stream",
     "text": [
      "F1 score 0.330\n",
      "AUC_ROC 0.788\n"
     ]
    }
   ],
   "source": [
    "logreg = LogisticRegression(random_state=12345)\n",
    "logreg.fit(features_train, target_train)\n",
    "print_scores(logreg)"
   ]
  },
  {
   "cell_type": "markdown",
   "metadata": {},
   "source": [
    "### Дерево решений"
   ]
  },
  {
   "cell_type": "code",
   "execution_count": 25,
   "metadata": {
    "scrolled": true
   },
   "outputs": [
    {
     "name": "stdout",
     "output_type": "stream",
     "text": [
      "F1 score 0.518\n",
      "AUC_ROC 0.700\n"
     ]
    }
   ],
   "source": [
    "destree = DecisionTreeClassifier(random_state=12345)\n",
    "destree.fit(features_train, target_train)\n",
    "print_scores(destree)"
   ]
  },
  {
   "cell_type": "markdown",
   "metadata": {},
   "source": [
    "### Случайный лес"
   ]
  },
  {
   "cell_type": "code",
   "execution_count": 26,
   "metadata": {
    "scrolled": true
   },
   "outputs": [
    {
     "name": "stdout",
     "output_type": "stream",
     "text": [
      "F1 score 0.498\n",
      "AUC_ROC 0.822\n"
     ]
    }
   ],
   "source": [
    "randfor = RandomForestClassifier(random_state=12345)\n",
    "randfor.fit(features_train, target_train)\n",
    "print_scores(randfor)"
   ]
  },
  {
   "cell_type": "markdown",
   "metadata": {},
   "source": [
    "### Градиентный бустинг"
   ]
  },
  {
   "cell_type": "code",
   "execution_count": 27,
   "metadata": {
    "scrolled": true
   },
   "outputs": [
    {
     "name": "stdout",
     "output_type": "stream",
     "text": [
      "F1 score 0.586\n",
      "AUC_ROC 0.863\n"
     ]
    }
   ],
   "source": [
    "cat = CatBoostClassifier(random_state=12345)\n",
    "cat.fit(X=features_train, y=target_train, silent=True)\n",
    "print_scores(cat)"
   ]
  },
  {
   "cell_type": "markdown",
   "metadata": {},
   "source": [
    "Соберем все данные в одну таблицу для сравнения."
   ]
  },
  {
   "cell_type": "code",
   "execution_count": 28,
   "metadata": {},
   "outputs": [
    {
     "data": {
      "text/html": [
       "<div>\n",
       "<style scoped>\n",
       "    .dataframe tbody tr th:only-of-type {\n",
       "        vertical-align: middle;\n",
       "    }\n",
       "\n",
       "    .dataframe tbody tr th {\n",
       "        vertical-align: top;\n",
       "    }\n",
       "\n",
       "    .dataframe thead th {\n",
       "        text-align: right;\n",
       "    }\n",
       "</style>\n",
       "<table border=\"1\" class=\"dataframe\">\n",
       "  <thead>\n",
       "    <tr style=\"text-align: right;\">\n",
       "      <th></th>\n",
       "      <th>LogisticRegression</th>\n",
       "      <th>DecisionTreeClassifier</th>\n",
       "      <th>RandomForestClassifier</th>\n",
       "      <th>CatBoostClassifier</th>\n",
       "    </tr>\n",
       "  </thead>\n",
       "  <tbody>\n",
       "    <tr>\n",
       "      <td>F1 score</td>\n",
       "      <td>0.329939</td>\n",
       "      <td>0.518325</td>\n",
       "      <td>0.498270</td>\n",
       "      <td>0.585691</td>\n",
       "    </tr>\n",
       "    <tr>\n",
       "      <td>AUC_ROC</td>\n",
       "      <td>0.788235</td>\n",
       "      <td>0.700362</td>\n",
       "      <td>0.821702</td>\n",
       "      <td>0.862506</td>\n",
       "    </tr>\n",
       "  </tbody>\n",
       "</table>\n",
       "</div>"
      ],
      "text/plain": [
       "          LogisticRegression  DecisionTreeClassifier  RandomForestClassifier  \\\n",
       "F1 score            0.329939                0.518325                0.498270   \n",
       "AUC_ROC             0.788235                0.700362                0.821702   \n",
       "\n",
       "          CatBoostClassifier  \n",
       "F1 score            0.585691  \n",
       "AUC_ROC             0.862506  "
      ]
     },
     "execution_count": 28,
     "metadata": {},
     "output_type": "execute_result"
    }
   ],
   "source": [
    "sc = make_df()\n",
    "sc"
   ]
  },
  {
   "cell_type": "markdown",
   "metadata": {},
   "source": [
    "Лучшие показатель F1 у алгоритма CatBoost, а худший - у логистической регресии. По AUc_ROC также на первом месте градиентный бустинг, а на последнем дерево решений. Пропробуем устранить дисбаланс классов, обучим модели еще раз и сравним показатели."
   ]
  },
  {
   "cell_type": "markdown",
   "metadata": {},
   "source": [
    "## Борьба с дисбалансом"
   ]
  },
  {
   "cell_type": "markdown",
   "metadata": {},
   "source": [
    "### Взвешивание классов"
   ]
  },
  {
   "cell_type": "markdown",
   "metadata": {},
   "source": [
    "Сначала изменим у всех моделей параметр class_weight, для того, чтобы сама модель обучалась учитывая дисбаланс. Сами данные при этом оставляем неизменными."
   ]
  },
  {
   "cell_type": "markdown",
   "metadata": {},
   "source": [
    "#### Логистическая регрессия"
   ]
  },
  {
   "cell_type": "code",
   "execution_count": 29,
   "metadata": {},
   "outputs": [
    {
     "name": "stdout",
     "output_type": "stream",
     "text": [
      "F1 score 0.509\n",
      "AUC_ROC 0.788\n"
     ]
    }
   ],
   "source": [
    "logreg = LogisticRegression(random_state=12345, class_weight='balanced')\n",
    "logreg.fit(features_train, target_train)\n",
    "print_scores(logreg)"
   ]
  },
  {
   "cell_type": "markdown",
   "metadata": {},
   "source": [
    "#### Дерево решений"
   ]
  },
  {
   "cell_type": "code",
   "execution_count": 30,
   "metadata": {
    "scrolled": false
   },
   "outputs": [
    {
     "name": "stdout",
     "output_type": "stream",
     "text": [
      "F1 score 0.477\n",
      "AUC_ROC 0.672\n"
     ]
    }
   ],
   "source": [
    "destree = DecisionTreeClassifier(random_state=12345, class_weight='balanced')\n",
    "destree.fit(features_train, target_train)\n",
    "print_scores(destree)"
   ]
  },
  {
   "cell_type": "markdown",
   "metadata": {},
   "source": [
    "#### Случайный лес"
   ]
  },
  {
   "cell_type": "code",
   "execution_count": 31,
   "metadata": {
    "scrolled": true
   },
   "outputs": [
    {
     "name": "stdout",
     "output_type": "stream",
     "text": [
      "F1 score 0.480\n",
      "AUC_ROC 0.817\n"
     ]
    }
   ],
   "source": [
    "randfor = RandomForestClassifier(random_state=12345, class_weight='balanced')\n",
    "randfor.fit(features_train, target_train)\n",
    "print_scores(randfor)"
   ]
  },
  {
   "cell_type": "markdown",
   "metadata": {},
   "source": [
    "#### Градиентный бустинг"
   ]
  },
  {
   "cell_type": "code",
   "execution_count": 32,
   "metadata": {
    "scrolled": true
   },
   "outputs": [
    {
     "name": "stdout",
     "output_type": "stream",
     "text": [
      "F1 score 0.601\n",
      "AUC_ROC 0.857\n"
     ]
    }
   ],
   "source": [
    "cat = CatBoostClassifier(random_state=12345, scale_pos_weight=4)\n",
    "cat.fit(X=features_train, y=target_train, silent=True)\n",
    "print_scores(cat)"
   ]
  },
  {
   "cell_type": "code",
   "execution_count": 33,
   "metadata": {
    "scrolled": false
   },
   "outputs": [
    {
     "data": {
      "text/html": [
       "<div>\n",
       "<style scoped>\n",
       "    .dataframe tbody tr th:only-of-type {\n",
       "        vertical-align: middle;\n",
       "    }\n",
       "\n",
       "    .dataframe tbody tr th {\n",
       "        vertical-align: top;\n",
       "    }\n",
       "\n",
       "    .dataframe thead th {\n",
       "        text-align: right;\n",
       "    }\n",
       "</style>\n",
       "<table border=\"1\" class=\"dataframe\">\n",
       "  <thead>\n",
       "    <tr style=\"text-align: right;\">\n",
       "      <th></th>\n",
       "      <th>LogisticRegression</th>\n",
       "      <th>DecisionTreeClassifier</th>\n",
       "      <th>RandomForestClassifier</th>\n",
       "      <th>CatBoostClassifier</th>\n",
       "    </tr>\n",
       "  </thead>\n",
       "  <tbody>\n",
       "    <tr>\n",
       "      <td>F1 score</td>\n",
       "      <td>0.329939</td>\n",
       "      <td>0.518325</td>\n",
       "      <td>0.498270</td>\n",
       "      <td>0.585691</td>\n",
       "    </tr>\n",
       "    <tr>\n",
       "      <td>AUC_ROC</td>\n",
       "      <td>0.788235</td>\n",
       "      <td>0.700362</td>\n",
       "      <td>0.821702</td>\n",
       "      <td>0.862506</td>\n",
       "    </tr>\n",
       "    <tr>\n",
       "      <td>F1 score weighed</td>\n",
       "      <td>0.509232</td>\n",
       "      <td>0.477089</td>\n",
       "      <td>0.480000</td>\n",
       "      <td>0.600715</td>\n",
       "    </tr>\n",
       "    <tr>\n",
       "      <td>AUC_ROC weighed</td>\n",
       "      <td>0.788087</td>\n",
       "      <td>0.672251</td>\n",
       "      <td>0.817189</td>\n",
       "      <td>0.857475</td>\n",
       "    </tr>\n",
       "  </tbody>\n",
       "</table>\n",
       "</div>"
      ],
      "text/plain": [
       "                  LogisticRegression  DecisionTreeClassifier  \\\n",
       "F1 score                    0.329939                0.518325   \n",
       "AUC_ROC                     0.788235                0.700362   \n",
       "F1 score weighed            0.509232                0.477089   \n",
       "AUC_ROC weighed             0.788087                0.672251   \n",
       "\n",
       "                  RandomForestClassifier  CatBoostClassifier  \n",
       "F1 score                        0.498270            0.585691  \n",
       "AUC_ROC                         0.821702            0.862506  \n",
       "F1 score weighed                0.480000            0.600715  \n",
       "AUC_ROC weighed                 0.817189            0.857475  "
      ]
     },
     "execution_count": 33,
     "metadata": {},
     "output_type": "execute_result"
    }
   ],
   "source": [
    "sc = make_df()\n",
    "sc"
   ]
  },
  {
   "cell_type": "markdown",
   "metadata": {},
   "source": [
    "Метрика F1 у логистической регресии значительно выросла. У остальных моделей метрики изменились незначительно.\n",
    "\n",
    "Попробуем другой метод устранения дисбаланса классов."
   ]
  },
  {
   "cell_type": "markdown",
   "metadata": {},
   "source": [
    "### Апсемплинг"
   ]
  },
  {
   "cell_type": "markdown",
   "metadata": {},
   "source": [
    "Посмотрим, в каком соотношении находяться классы в целевом признаке."
   ]
  },
  {
   "cell_type": "code",
   "execution_count": 34,
   "metadata": {
    "scrolled": true
   },
   "outputs": [
    {
     "data": {
      "text/plain": [
       "0    0.796062\n",
       "1    0.203938\n",
       "Name: Exited, dtype: float64"
      ]
     },
     "execution_count": 34,
     "metadata": {},
     "output_type": "execute_result"
    }
   ],
   "source": [
    "df['Exited'].value_counts(normalize=True)"
   ]
  },
  {
   "cell_type": "markdown",
   "metadata": {},
   "source": [
    "Класс '0' в 4 раза больше чем '1'. Мы можем исправить это с помощью апсемплинга. Напишем функцию."
   ]
  },
  {
   "cell_type": "code",
   "execution_count": 35,
   "metadata": {},
   "outputs": [],
   "source": [
    "def upsample(features, target, repeat):\n",
    "    features_zeros = features[target == 0]\n",
    "    features_ones = features[target == 1]\n",
    "    target_zeros = target[target == 0]\n",
    "    target_ones = target[target == 1]\n",
    "\n",
    "    features_upsampled = pd.concat([features_zeros] + [features_ones] * repeat)\n",
    "    target_upsampled = pd.concat([target_zeros] + [target_ones] * repeat)\n",
    "\n",
    "    features_upsampled, target_upsampled = shuffle(\n",
    "        features_upsampled, target_upsampled, random_state=12345)\n",
    "\n",
    "    return features_upsampled, target_upsampled"
   ]
  },
  {
   "cell_type": "markdown",
   "metadata": {},
   "source": [
    "Увеличим количество класса '1' в 4 раза, чтобы соотношение классов было примерно 1:1."
   ]
  },
  {
   "cell_type": "code",
   "execution_count": 36,
   "metadata": {},
   "outputs": [],
   "source": [
    "features_train, target_train = upsample(features_train, target_train, 4)"
   ]
  },
  {
   "cell_type": "markdown",
   "metadata": {},
   "source": [
    "Посмотрим на соотношение классов после апсемплинга."
   ]
  },
  {
   "cell_type": "code",
   "execution_count": 37,
   "metadata": {
    "scrolled": true
   },
   "outputs": [
    {
     "data": {
      "text/plain": [
       "1    0.508001\n",
       "0    0.491999\n",
       "Name: Exited, dtype: float64"
      ]
     },
     "execution_count": 37,
     "metadata": {},
     "output_type": "execute_result"
    }
   ],
   "source": [
    "target_train.value_counts(normalize=True)"
   ]
  },
  {
   "cell_type": "markdown",
   "metadata": {},
   "source": [
    "Соотношение теперь почти равно 1:1. Обучим модели на новых данных."
   ]
  },
  {
   "cell_type": "markdown",
   "metadata": {},
   "source": [
    "#### Логистическая регрессия"
   ]
  },
  {
   "cell_type": "code",
   "execution_count": 38,
   "metadata": {
    "scrolled": true
   },
   "outputs": [
    {
     "name": "stdout",
     "output_type": "stream",
     "text": [
      "F1 score 0.509\n",
      "AUC_ROC 0.788\n"
     ]
    }
   ],
   "source": [
    "logreg = LogisticRegression(random_state=12345)\n",
    "logreg.fit(features_train, target_train)\n",
    "print_scores(logreg)"
   ]
  },
  {
   "cell_type": "markdown",
   "metadata": {},
   "source": [
    "#### Дерево решений"
   ]
  },
  {
   "cell_type": "code",
   "execution_count": 39,
   "metadata": {
    "scrolled": false
   },
   "outputs": [
    {
     "name": "stdout",
     "output_type": "stream",
     "text": [
      "F1 score 0.487\n",
      "AUC_ROC 0.678\n"
     ]
    }
   ],
   "source": [
    "destree = DecisionTreeClassifier(random_state=12345)\n",
    "destree.fit(features_train, target_train)\n",
    "print_scores(destree)"
   ]
  },
  {
   "cell_type": "markdown",
   "metadata": {},
   "source": [
    "#### Случайный лес"
   ]
  },
  {
   "cell_type": "code",
   "execution_count": 40,
   "metadata": {
    "scrolled": false
   },
   "outputs": [
    {
     "name": "stdout",
     "output_type": "stream",
     "text": [
      "F1 score 0.549\n",
      "AUC_ROC 0.814\n"
     ]
    }
   ],
   "source": [
    "randfor = RandomForestClassifier(random_state=12345)\n",
    "randfor.fit(features_train, target_train)\n",
    "print_scores(randfor)"
   ]
  },
  {
   "cell_type": "markdown",
   "metadata": {},
   "source": [
    "#### Градиентный бустинг"
   ]
  },
  {
   "cell_type": "code",
   "execution_count": 41,
   "metadata": {
    "scrolled": true
   },
   "outputs": [
    {
     "name": "stdout",
     "output_type": "stream",
     "text": [
      "F1 score 0.608\n",
      "AUC_ROC 0.853\n"
     ]
    }
   ],
   "source": [
    "cat = CatBoostClassifier(random_state=12345)\n",
    "cat.fit(X=features_train, y=target_train, silent=True)\n",
    "print_scores(cat)"
   ]
  },
  {
   "cell_type": "code",
   "execution_count": 42,
   "metadata": {
    "scrolled": true
   },
   "outputs": [
    {
     "data": {
      "text/html": [
       "<div>\n",
       "<style scoped>\n",
       "    .dataframe tbody tr th:only-of-type {\n",
       "        vertical-align: middle;\n",
       "    }\n",
       "\n",
       "    .dataframe tbody tr th {\n",
       "        vertical-align: top;\n",
       "    }\n",
       "\n",
       "    .dataframe thead th {\n",
       "        text-align: right;\n",
       "    }\n",
       "</style>\n",
       "<table border=\"1\" class=\"dataframe\">\n",
       "  <thead>\n",
       "    <tr style=\"text-align: right;\">\n",
       "      <th></th>\n",
       "      <th>LogisticRegression</th>\n",
       "      <th>DecisionTreeClassifier</th>\n",
       "      <th>RandomForestClassifier</th>\n",
       "      <th>CatBoostClassifier</th>\n",
       "    </tr>\n",
       "  </thead>\n",
       "  <tbody>\n",
       "    <tr>\n",
       "      <td>F1 score</td>\n",
       "      <td>0.329939</td>\n",
       "      <td>0.518325</td>\n",
       "      <td>0.498270</td>\n",
       "      <td>0.585691</td>\n",
       "    </tr>\n",
       "    <tr>\n",
       "      <td>AUC_ROC</td>\n",
       "      <td>0.788235</td>\n",
       "      <td>0.700362</td>\n",
       "      <td>0.821702</td>\n",
       "      <td>0.862506</td>\n",
       "    </tr>\n",
       "    <tr>\n",
       "      <td>F1 score weighed</td>\n",
       "      <td>0.509232</td>\n",
       "      <td>0.477089</td>\n",
       "      <td>0.480000</td>\n",
       "      <td>0.600715</td>\n",
       "    </tr>\n",
       "    <tr>\n",
       "      <td>AUC_ROC weighed</td>\n",
       "      <td>0.788087</td>\n",
       "      <td>0.672251</td>\n",
       "      <td>0.817189</td>\n",
       "      <td>0.857475</td>\n",
       "    </tr>\n",
       "    <tr>\n",
       "      <td>F1 score upsampling</td>\n",
       "      <td>0.508571</td>\n",
       "      <td>0.487075</td>\n",
       "      <td>0.549080</td>\n",
       "      <td>0.607940</td>\n",
       "    </tr>\n",
       "    <tr>\n",
       "      <td>AUC_ROC upsampling</td>\n",
       "      <td>0.788093</td>\n",
       "      <td>0.678065</td>\n",
       "      <td>0.814054</td>\n",
       "      <td>0.852928</td>\n",
       "    </tr>\n",
       "  </tbody>\n",
       "</table>\n",
       "</div>"
      ],
      "text/plain": [
       "                     LogisticRegression  DecisionTreeClassifier  \\\n",
       "F1 score                       0.329939                0.518325   \n",
       "AUC_ROC                        0.788235                0.700362   \n",
       "F1 score weighed               0.509232                0.477089   \n",
       "AUC_ROC weighed                0.788087                0.672251   \n",
       "F1 score upsampling            0.508571                0.487075   \n",
       "AUC_ROC upsampling             0.788093                0.678065   \n",
       "\n",
       "                     RandomForestClassifier  CatBoostClassifier  \n",
       "F1 score                           0.498270            0.585691  \n",
       "AUC_ROC                            0.821702            0.862506  \n",
       "F1 score weighed                   0.480000            0.600715  \n",
       "AUC_ROC weighed                    0.817189            0.857475  \n",
       "F1 score upsampling                0.549080            0.607940  \n",
       "AUC_ROC upsampling                 0.814054            0.852928  "
      ]
     },
     "execution_count": 42,
     "metadata": {},
     "output_type": "execute_result"
    }
   ],
   "source": [
    "sc = make_df()\n",
    "sc"
   ]
  },
  {
   "cell_type": "markdown",
   "metadata": {},
   "source": [
    "В таблице мы можем видеть, что значительные перемены в метриках после устранения дисбаланса классов произошли снова только для логистической регресии. При этом метрика AUC_ROC от дисбаланса мало зависит, и не меняется даже у логистической регресии. "
   ]
  },
  {
   "cell_type": "markdown",
   "metadata": {},
   "source": [
    "## Подбор гиперпараметров"
   ]
  },
  {
   "cell_type": "markdown",
   "metadata": {},
   "source": [
    "Теперь, когда баланс классов устранен, подберем гиперпараметры для каждой модели, чтобы добиться большего качества."
   ]
  },
  {
   "cell_type": "markdown",
   "metadata": {},
   "source": [
    "### Логистическая регрессия"
   ]
  },
  {
   "cell_type": "code",
   "execution_count": 43,
   "metadata": {},
   "outputs": [
    {
     "name": "stdout",
     "output_type": "stream",
     "text": [
      "{'C': 0.01, 'class_weight': None, 'dual': False, 'fit_intercept': True, 'intercept_scaling': 1, 'l1_ratio': None, 'max_iter': 100, 'multi_class': 'warn', 'n_jobs': None, 'penalty': 'l1', 'random_state': 12345, 'solver': 'warn', 'tol': 0.0001, 'verbose': 0, 'warm_start': False}\n",
      "F1 score 0.522\n",
      "AUC_ROC 0.780\n"
     ]
    }
   ],
   "source": [
    "f1_best = 0.509\n",
    "C_param_range = [0.001, 0.01, 0.1, 1, 10, 100]\n",
    "penalty = [\"l1\", \"l2\"]\n",
    "for i in C_param_range:\n",
    "    for j in penalty:\n",
    "        logreg = LogisticRegression(random_state=12345, C=i, penalty=j)\n",
    "        logreg.fit(features_train, target_train)\n",
    "        answer = logreg.predict(features_valid)\n",
    "        f1 = f1_score(target_valid, logreg.predict(features_valid))\n",
    "        if f1 > f1_best:\n",
    "            f1_best = f1\n",
    "            best_logreg = logreg\n",
    "\n",
    "print(best_logreg.get_params(deep=True))\n",
    "print_scores(best_logreg)"
   ]
  },
  {
   "cell_type": "markdown",
   "metadata": {},
   "source": [
    "### Дерево решений"
   ]
  },
  {
   "cell_type": "code",
   "execution_count": 44,
   "metadata": {
    "scrolled": true
   },
   "outputs": [
    {
     "name": "stdout",
     "output_type": "stream",
     "text": [
      "{'class_weight': None, 'criterion': 'entropy', 'max_depth': 5, 'max_features': None, 'max_leaf_nodes': None, 'min_impurity_decrease': 0.0, 'min_impurity_split': None, 'min_samples_leaf': 1, 'min_samples_split': 2, 'min_weight_fraction_leaf': 0.0, 'presort': False, 'random_state': 12345, 'splitter': 'best'}\n",
      "F1 score 0.592\n",
      "AUC_ROC 0.823\n"
     ]
    }
   ],
   "source": [
    "f1_best = 0.487\n",
    "for depth in range(1, 21):\n",
    "    for sample_n in range(2, 30, 5):\n",
    "        for criterion in ['gini', 'entropy']:\n",
    "            destree = DecisionTreeClassifier(\n",
    "                random_state=12345, max_depth=depth, min_samples_split=sample_n, criterion=criterion)\n",
    "            destree.fit(features_train, target_train)\n",
    "            answer = destree.predict(features_valid)\n",
    "            f1 = f1_score(target_valid, destree.predict(features_valid))\n",
    "            if f1 > f1_best:\n",
    "                f1_best = f1\n",
    "                best_destree = destree\n",
    "print(best_destree.get_params(deep=True))\n",
    "print_scores(best_destree)"
   ]
  },
  {
   "cell_type": "markdown",
   "metadata": {},
   "source": [
    "### Случайный лес"
   ]
  },
  {
   "cell_type": "code",
   "execution_count": 45,
   "metadata": {},
   "outputs": [
    {
     "name": "stdout",
     "output_type": "stream",
     "text": [
      "{'bootstrap': True, 'class_weight': None, 'criterion': 'gini', 'max_depth': 7, 'max_features': 'auto', 'max_leaf_nodes': None, 'min_impurity_decrease': 0.0, 'min_impurity_split': None, 'min_samples_leaf': 1, 'min_samples_split': 2, 'min_weight_fraction_leaf': 0.0, 'n_estimators': 10, 'n_jobs': None, 'oob_score': False, 'random_state': 12345, 'verbose': 0, 'warm_start': False}\n",
      "0.6171428571428572\n"
     ]
    }
   ],
   "source": [
    "f1_best = 0.551\n",
    "for depth in range(1, 21):\n",
    "    for leaf in range(1, 8):\n",
    "        for split in range(2, 10, 2):\n",
    "            randfor = RandomForestClassifier(random_state=12345, max_depth=depth,\n",
    "                                             min_samples_leaf=leaf, min_samples_split=split)\n",
    "            randfor.fit(features_train, target_train)\n",
    "            f1 = f1_score(target_valid, randfor.predict(features_valid))\n",
    "            if f1 > f1_best:\n",
    "                f1_best = f1\n",
    "                best_randfor = randfor\n",
    "print(best_randfor.get_params(deep=True))\n",
    "print(f1_best)"
   ]
  },
  {
   "cell_type": "code",
   "execution_count": 46,
   "metadata": {
    "scrolled": true
   },
   "outputs": [
    {
     "name": "stdout",
     "output_type": "stream",
     "text": [
      "{'bootstrap': True, 'class_weight': None, 'criterion': 'gini', 'max_depth': 7, 'max_features': 'auto', 'max_leaf_nodes': None, 'min_impurity_decrease': 0.0, 'min_impurity_split': None, 'min_samples_leaf': 1, 'min_samples_split': 2, 'min_weight_fraction_leaf': 0.0, 'n_estimators': 11, 'n_jobs': None, 'oob_score': False, 'random_state': 12345, 'verbose': 0, 'warm_start': False}\n",
      "F1 score 0.618\n",
      "AUC_ROC 0.856\n"
     ]
    }
   ],
   "source": [
    "f1_best = 0.617\n",
    "for est in range(1, 20):\n",
    "    randfor = RandomForestClassifier(\n",
    "        max_depth=7, min_samples_leaf=1, min_samples_split=2, n_estimators=est, random_state=12345)\n",
    "    randfor.fit(features_train, target_train)\n",
    "    f1 = f1_score(target_valid, randfor.predict(features_valid))\n",
    "    if f1_best < f1:\n",
    "        f1_best = f1\n",
    "        best_randfor = randfor\n",
    "print(best_randfor.get_params(deep=True))\n",
    "print_scores(best_randfor)"
   ]
  },
  {
   "cell_type": "markdown",
   "metadata": {},
   "source": [
    "### Градиентный бустинг"
   ]
  },
  {
   "cell_type": "code",
   "execution_count": 53,
   "metadata": {},
   "outputs": [
    {
     "name": "stdout",
     "output_type": "stream",
     "text": [
      "{'learning_rate': 0.03, 'depth': 4, 'l2_leaf_reg': 7, 'silent': True, 'random_state': 12345}\n",
      "F1 score 0.611\n",
      "AUC_ROC 0.865\n"
     ]
    }
   ],
   "source": [
    "f1_best = 0.608\n",
    "for lr in (0.03, 0.1):\n",
    "    for depth in (4, 6, 10):\n",
    "        for l2 in range(1, 10, 2):\n",
    "            cat = CatBoostClassifier(\n",
    "                random_state=12345, learning_rate=lr, depth=depth, l2_leaf_reg=l2, silent=True)\n",
    "            cat.fit(features_train, target_train)\n",
    "            f1 = f1_score(target_valid, cat.predict(features_valid))\n",
    "            if f1 > f1_best:\n",
    "                f1_best = f1\n",
    "                best_cat = cat\n",
    "print(best_cat.get_params(deep=True))\n",
    "print_scores(best_cat)"
   ]
  },
  {
   "cell_type": "code",
   "execution_count": 54,
   "metadata": {},
   "outputs": [],
   "source": [
    "fpr1, tpr1, thresholds = roc_curve(\n",
    "    target_valid, best_logreg.predict_proba(features_valid)[:, 1])"
   ]
  },
  {
   "cell_type": "code",
   "execution_count": 55,
   "metadata": {},
   "outputs": [],
   "source": [
    "fpr2, tpr2, thresholds = roc_curve(\n",
    "    target_valid, best_destree.predict_proba(features_valid)[:, 1])"
   ]
  },
  {
   "cell_type": "code",
   "execution_count": 56,
   "metadata": {
    "scrolled": true
   },
   "outputs": [],
   "source": [
    "fpr3, tpr3, thresholds = roc_curve(\n",
    "    target_valid, best_randfor.predict_proba(features_valid)[:, 1])"
   ]
  },
  {
   "cell_type": "code",
   "execution_count": 57,
   "metadata": {
    "scrolled": true
   },
   "outputs": [],
   "source": [
    "fpr4, tpr4, thresholds = roc_curve(\n",
    "    target_valid, best_cat.predict_proba(features_valid)[:, 1])"
   ]
  },
  {
   "cell_type": "code",
   "execution_count": 58,
   "metadata": {},
   "outputs": [
    {
     "data": {
      "text/html": [
       "<div>\n",
       "<style scoped>\n",
       "    .dataframe tbody tr th:only-of-type {\n",
       "        vertical-align: middle;\n",
       "    }\n",
       "\n",
       "    .dataframe tbody tr th {\n",
       "        vertical-align: top;\n",
       "    }\n",
       "\n",
       "    .dataframe thead th {\n",
       "        text-align: right;\n",
       "    }\n",
       "</style>\n",
       "<table border=\"1\" class=\"dataframe\">\n",
       "  <thead>\n",
       "    <tr style=\"text-align: right;\">\n",
       "      <th></th>\n",
       "      <th>LogisticRegression</th>\n",
       "      <th>DecisionTreeClassifier</th>\n",
       "      <th>RandomForestClassifier</th>\n",
       "      <th>CatBoostClassifier</th>\n",
       "    </tr>\n",
       "  </thead>\n",
       "  <tbody>\n",
       "    <tr>\n",
       "      <td>F1 score</td>\n",
       "      <td>0.329939</td>\n",
       "      <td>0.518325</td>\n",
       "      <td>0.498270</td>\n",
       "      <td>0.585691</td>\n",
       "    </tr>\n",
       "    <tr>\n",
       "      <td>AUC_ROC</td>\n",
       "      <td>0.788235</td>\n",
       "      <td>0.700362</td>\n",
       "      <td>0.821702</td>\n",
       "      <td>0.862506</td>\n",
       "    </tr>\n",
       "    <tr>\n",
       "      <td>F1 score weighed</td>\n",
       "      <td>0.509232</td>\n",
       "      <td>0.477089</td>\n",
       "      <td>0.480000</td>\n",
       "      <td>0.600715</td>\n",
       "    </tr>\n",
       "    <tr>\n",
       "      <td>AUC_ROC weighed</td>\n",
       "      <td>0.788087</td>\n",
       "      <td>0.672251</td>\n",
       "      <td>0.817189</td>\n",
       "      <td>0.857475</td>\n",
       "    </tr>\n",
       "    <tr>\n",
       "      <td>F1 score upsampling</td>\n",
       "      <td>0.508571</td>\n",
       "      <td>0.487075</td>\n",
       "      <td>0.549080</td>\n",
       "      <td>0.607940</td>\n",
       "    </tr>\n",
       "    <tr>\n",
       "      <td>AUC_ROC upsampling</td>\n",
       "      <td>0.788093</td>\n",
       "      <td>0.678065</td>\n",
       "      <td>0.814054</td>\n",
       "      <td>0.852928</td>\n",
       "    </tr>\n",
       "    <tr>\n",
       "      <td>F1 score hyperparameters</td>\n",
       "      <td>0.521912</td>\n",
       "      <td>0.591940</td>\n",
       "      <td>0.618016</td>\n",
       "      <td>0.610792</td>\n",
       "    </tr>\n",
       "    <tr>\n",
       "      <td>AUC_ROC hyperparameters</td>\n",
       "      <td>0.780443</td>\n",
       "      <td>0.822764</td>\n",
       "      <td>0.856249</td>\n",
       "      <td>0.865472</td>\n",
       "    </tr>\n",
       "  </tbody>\n",
       "</table>\n",
       "</div>"
      ],
      "text/plain": [
       "                          LogisticRegression  DecisionTreeClassifier  \\\n",
       "F1 score                            0.329939                0.518325   \n",
       "AUC_ROC                             0.788235                0.700362   \n",
       "F1 score weighed                    0.509232                0.477089   \n",
       "AUC_ROC weighed                     0.788087                0.672251   \n",
       "F1 score upsampling                 0.508571                0.487075   \n",
       "AUC_ROC upsampling                  0.788093                0.678065   \n",
       "F1 score hyperparameters            0.521912                0.591940   \n",
       "AUC_ROC hyperparameters             0.780443                0.822764   \n",
       "\n",
       "                          RandomForestClassifier  CatBoostClassifier  \n",
       "F1 score                                0.498270            0.585691  \n",
       "AUC_ROC                                 0.821702            0.862506  \n",
       "F1 score weighed                        0.480000            0.600715  \n",
       "AUC_ROC weighed                         0.817189            0.857475  \n",
       "F1 score upsampling                     0.549080            0.607940  \n",
       "AUC_ROC upsampling                      0.814054            0.852928  \n",
       "F1 score hyperparameters                0.618016            0.610792  \n",
       "AUC_ROC hyperparameters                 0.856249            0.865472  "
      ]
     },
     "execution_count": 58,
     "metadata": {},
     "output_type": "execute_result"
    }
   ],
   "source": [
    "sc = make_df()\n",
    "sc"
   ]
  },
  {
   "cell_type": "code",
   "execution_count": 59,
   "metadata": {
    "scrolled": false
   },
   "outputs": [
    {
     "data": {
      "text/plain": [
       "Text(0.5, 1.0, 'ROC-кривая')"
      ]
     },
     "execution_count": 59,
     "metadata": {},
     "output_type": "execute_result"
    },
    {
     "data": {
      "image/png": "[encoded data removed]",
      "text/plain": [
       "<Figure size 720x432 with 1 Axes>"
      ]
     },
     "metadata": {
      "needs_background": "light"
     },
     "output_type": "display_data"
    }
   ],
   "source": [
    "plt.figure(figsize=(10, 6))\n",
    "plt.plot(fpr1, tpr1, label='Logistic Regression')\n",
    "plt.plot(fpr2, tpr2, label='Decision Tree')\n",
    "plt.plot(fpr3, tpr3, label='Random Forest')\n",
    "plt.plot(fpr4, tpr4, label='CatBoost')\n",
    "\n",
    "plt.legend()\n",
    "\n",
    "plt.plot([0, 1], [0, 1], linestyle='--')\n",
    "\n",
    "plt.xlabel('False Positive Rate')\n",
    "plt.ylabel('True Positive Rate')\n",
    "plt.ylim([0.0, 1.0])\n",
    "plt.xlim([0.0, 1.0])\n",
    "plt.title('ROC-кривая')"
   ]
  },
  {
   "cell_type": "markdown",
   "metadata": {},
   "source": [
    "В результате подбора оптимальных гиперпараметров удалось улучшить показатели каждой модели. Порог F1-меры в 0.59 на валидационной выборке удалось пересечь алгоритмам решающего дерева, случайного леса и градиентного бустинга. Лучшая F1-мера для логистической регрессии оказалась меньше порога. Метрика AUC-ROC также оказалась самой низкой у логистической регрессии, а самой высокой у случайного леса и градиентного бустинга. Случайный лес и градиентный бустинг показали лучшие результаты практически на одном уровне, поэтому на тестовой выборке проверим обе модели."
   ]
  },
  {
   "cell_type": "markdown",
   "metadata": {},
   "source": [
    "## Тестирование модели"
   ]
  },
  {
   "cell_type": "markdown",
   "metadata": {},
   "source": [
    "Проверим две лучшие выборки на тестовой выборке. Для того, чтобы еще немного повысить метрики, обучим модели на объединенной выборке, в которую входят обучающая и тестовая. Для каждой модели узнаем, какие признаки были наиболее важны для обучения. Затем подробнее узнаем метрики окончательной модели."
   ]
  },
  {
   "cell_type": "code",
   "execution_count": 48,
   "metadata": {},
   "outputs": [],
   "source": [
    "# объединение выброк\n",
    "features_gen = features_train.append(features_valid)\n",
    "target_gen = target_train.append(target_valid)"
   ]
  },
  {
   "cell_type": "markdown",
   "metadata": {},
   "source": [
    "### Случайный лес"
   ]
  },
  {
   "cell_type": "markdown",
   "metadata": {},
   "source": [
    "Расчитаем основные метрики для случайного леса."
   ]
  },
  {
   "cell_type": "code",
   "execution_count": 104,
   "metadata": {
    "scrolled": true
   },
   "outputs": [
    {
     "name": "stdout",
     "output_type": "stream",
     "text": [
      "F1 score 0.594\n",
      "AUC_ROC 0.852\n",
      "Precision 0.542\n",
      "Recall 0.658\n"
     ]
    }
   ],
   "source": [
    "best_randfor.fit(features_gen, target_gen)\n",
    "print_scores(best_randfor, sample='test')\n",
    "print('Precision {0:.3f}'.format(precision_score(target_test, ans_randfor)))\n",
    "print('Recall {0:.3f}'.format(recall_score(target_test, ans_randfor)))"
   ]
  },
  {
   "cell_type": "markdown",
   "metadata": {},
   "source": [
    "Построим матрицу ошибок."
   ]
  },
  {
   "cell_type": "code",
   "execution_count": 105,
   "metadata": {
    "scrolled": true
   },
   "outputs": [
    {
     "data": {
      "text/plain": [
       "<matplotlib.axes._subplots.AxesSubplot at 0x7fcc2af6d390>"
      ]
     },
     "execution_count": 105,
     "metadata": {},
     "output_type": "execute_result"
    },
    {
     "data": {
      "image/png": "[encoded data removed]",
      "text/plain": [
       "<Figure size 1080x360 with 2 Axes>"
      ]
     },
     "metadata": {
      "needs_background": "light"
     },
     "output_type": "display_data"
    }
   ],
   "source": [
    "ans_randfor = best_randfor.predict(features_test)\n",
    "cm_randfor = confusion_matrix(target_test, ans_randfor)\n",
    "\n",
    "group_names = ['True Neg', 'False Pos', 'False Neg', 'True Pos']\n",
    "group_counts = ['{0:0.0f}'.format(value) for value in\n",
    "                cm_randfor.flatten()]\n",
    "group_percentages = ['{0:.2%}'.format(value) for value in\n",
    "                     cm_randfor.flatten()/np.sum(cm_randfor)]\n",
    "labels = [f'{v1}\\n{v2}\\n{v3}' for v1, v2, v3 in\n",
    "          zip(group_names, group_counts, group_percentages)]\n",
    "labels = np.asarray(labels).reshape(2, 2)\n",
    "sns.heatmap(cm_randfor, annot=labels, fmt='', cmap='Blues')"
   ]
  },
  {
   "cell_type": "markdown",
   "metadata": {},
   "source": [
    "Посмотрим, какие признаки были наиболее важными для модели."
   ]
  },
  {
   "cell_type": "code",
   "execution_count": 106,
   "metadata": {
    "scrolled": false
   },
   "outputs": [
    {
     "data": {
      "text/plain": [
       "<matplotlib.axes._subplots.AxesSubplot at 0x7fcc2aef5d50>"
      ]
     },
     "execution_count": 106,
     "metadata": {},
     "output_type": "execute_result"
    },
    {
     "data": {
      "image/png": "[encoded data removed]",
      "text/plain": [
       "<Figure size 1080x360 with 1 Axes>"
      ]
     },
     "metadata": {
      "needs_background": "light"
     },
     "output_type": "display_data"
    }
   ],
   "source": [
    "feat_randfor = pd.Series(index=features_train.columns,\n",
    "                         data=best_randfor.feature_importances_).sort_values(ascending=False)\n",
    "feat_randfor.plot(kind='bar', title='Важность признаков для случайного леса')"
   ]
  },
  {
   "cell_type": "markdown",
   "metadata": {},
   "source": [
    "### Градиентный бустинг"
   ]
  },
  {
   "cell_type": "markdown",
   "metadata": {},
   "source": [
    "Расчитаем основные метрики для градиентного бустинга."
   ]
  },
  {
   "cell_type": "code",
   "execution_count": 102,
   "metadata": {
    "scrolled": true
   },
   "outputs": [
    {
     "name": "stdout",
     "output_type": "stream",
     "text": [
      "F1 score 0.633\n",
      "AUC_ROC 0.863\n",
      "Precision 0.578\n",
      "Recall 0.699\n"
     ]
    }
   ],
   "source": [
    "best_cat.fit(features_gen, target_gen)\n",
    "print_scores(best_cat, sample='test')\n",
    "print('Precision {0:.3f}'.format(precision_score(target_test, ans_cat)))\n",
    "print('Recall {0:.3f}'.format(recall_score(target_test, ans_cat)))"
   ]
  },
  {
   "cell_type": "markdown",
   "metadata": {},
   "source": [
    "Построим матрицу ошибок."
   ]
  },
  {
   "cell_type": "code",
   "execution_count": 98,
   "metadata": {},
   "outputs": [
    {
     "data": {
      "text/plain": [
       "<matplotlib.axes._subplots.AxesSubplot at 0x7fcc2a87c3d0>"
      ]
     },
     "execution_count": 98,
     "metadata": {},
     "output_type": "execute_result"
    },
    {
     "data": {
      "image/png": "[encoded data removed]",
      "text/plain": [
       "<Figure size 1080x360 with 2 Axes>"
      ]
     },
     "metadata": {
      "needs_background": "light"
     },
     "output_type": "display_data"
    }
   ],
   "source": [
    "ans_cat = best_cat.predict(features_test)\n",
    "cm_cat = confusion_matrix(target_test, ans_cat)\n",
    "\n",
    "group_names = ['True Neg', 'False Pos', 'False Neg', 'True Pos']\n",
    "group_counts = ['{0:0.0f}'.format(value) for value in\n",
    "                cm_cat.flatten()]\n",
    "group_percentages = ['{0:.2%}'.format(value) for value in\n",
    "                     cm_cat.flatten()/np.sum(cm_cat)]\n",
    "labels = [f'{v1}\\n{v2}\\n{v3}' for v1, v2, v3 in\n",
    "          zip(group_names, group_counts, group_percentages)]\n",
    "labels = np.asarray(labels).reshape(2, 2)\n",
    "sns.heatmap(cm_cat, annot=labels, fmt='', cmap='Blues')"
   ]
  },
  {
   "cell_type": "markdown",
   "metadata": {},
   "source": [
    "Посмотрим, какие признаки были наиболее важными для модели."
   ]
  },
  {
   "cell_type": "code",
   "execution_count": 80,
   "metadata": {
    "scrolled": false
   },
   "outputs": [
    {
     "data": {
      "text/plain": [
       "<matplotlib.axes._subplots.AxesSubplot at 0x7fcc2b4ed810>"
      ]
     },
     "execution_count": 80,
     "metadata": {},
     "output_type": "execute_result"
    },
    {
     "data": {
      "image/png": "[encoded data removed]",
      "text/plain": [
       "<Figure size 1080x360 with 1 Axes>"
      ]
     },
     "metadata": {
      "needs_background": "light"
     },
     "output_type": "display_data"
    }
   ],
   "source": [
    "feat_cat = pd.Series(index=features_train.columns,\n",
    "                     data=best_cat.get_feature_importance()).sort_values(ascending=False)\n",
    "feat_cat.plot(\n",
    "    kind='bar', title='Важность признаков для алгоритма градиентный бустинг')"
   ]
  },
  {
   "cell_type": "markdown",
   "metadata": {},
   "source": [
    "Градиентный бустинг показал лучшие результаты, но в целом обе модели на тестовой выборке справились с порогом 0.59.\n",
    "\n",
    "Среди признаков наиболее значимыми для обучения оказались количество используемых продуктов, возраст и баланс."
   ]
  }
 ],
 "metadata": {
  "ExecuteTimeLog": [
   {
    "duration": 852,
    "start_time": "2022-02-09T07:00:48.851Z"
   },
   {
    "duration": 34,
    "start_time": "2022-02-09T07:01:07.267Z"
   },
   {
    "duration": 27,
    "start_time": "2022-02-09T07:01:17.889Z"
   },
   {
    "duration": 25,
    "start_time": "2022-02-09T07:01:32.250Z"
   },
   {
    "duration": 17,
    "start_time": "2022-02-09T07:01:43.027Z"
   },
   {
    "duration": 12,
    "start_time": "2022-02-09T07:08:30.794Z"
   },
   {
    "duration": 21,
    "start_time": "2022-02-09T07:09:07.067Z"
   },
   {
    "duration": 6,
    "start_time": "2022-02-09T07:12:25.834Z"
   },
   {
    "duration": 460,
    "start_time": "2022-02-09T07:15:48.306Z"
   },
   {
    "duration": 329,
    "start_time": "2022-02-09T07:16:31.210Z"
   },
   {
    "duration": 108,
    "start_time": "2022-02-09T07:16:36.199Z"
   },
   {
    "duration": 276,
    "start_time": "2022-02-09T07:17:11.762Z"
   },
   {
    "duration": 482,
    "start_time": "2022-02-09T07:17:30.440Z"
   },
   {
    "duration": 1079,
    "start_time": "2022-02-09T07:18:28.235Z"
   },
   {
    "duration": 160696,
    "start_time": "2022-02-09T07:18:40.026Z"
   },
   {
    "duration": 26,
    "start_time": "2022-02-09T07:21:50.639Z"
   },
   {
    "duration": 104,
    "start_time": "2022-02-09T07:26:50.729Z"
   },
   {
    "duration": 7,
    "start_time": "2022-02-09T07:27:10.227Z"
   },
   {
    "duration": 8,
    "start_time": "2022-02-09T07:27:43.547Z"
   },
   {
    "duration": 282,
    "start_time": "2022-02-09T07:34:09.026Z"
   },
   {
    "duration": 8,
    "start_time": "2022-02-09T07:34:19.679Z"
   },
   {
    "duration": 295,
    "start_time": "2022-02-09T07:36:29.888Z"
   },
   {
    "duration": 6,
    "start_time": "2022-02-09T07:36:34.566Z"
   },
   {
    "duration": 40,
    "start_time": "2022-02-09T07:45:21.869Z"
   },
   {
    "duration": 19,
    "start_time": "2022-02-09T07:45:45.045Z"
   },
   {
    "duration": 7333,
    "start_time": "2022-02-09T07:48:12.468Z"
   },
   {
    "duration": 29,
    "start_time": "2022-02-09T07:59:02.598Z"
   },
   {
    "duration": 26,
    "start_time": "2022-02-09T08:05:15.812Z"
   },
   {
    "duration": 27,
    "start_time": "2022-02-09T08:05:43.147Z"
   },
   {
    "duration": 373,
    "start_time": "2022-02-09T08:06:16.834Z"
   },
   {
    "duration": 300,
    "start_time": "2022-02-09T08:06:28.209Z"
   },
   {
    "duration": 357,
    "start_time": "2022-02-09T08:06:37.115Z"
   },
   {
    "duration": 321,
    "start_time": "2022-02-09T08:06:46.117Z"
   },
   {
    "duration": 840,
    "start_time": "2022-02-09T08:06:58.313Z"
   },
   {
    "duration": 32,
    "start_time": "2022-02-09T08:06:59.156Z"
   },
   {
    "duration": 22,
    "start_time": "2022-02-09T08:06:59.191Z"
   },
   {
    "duration": 22,
    "start_time": "2022-02-09T08:06:59.216Z"
   },
   {
    "duration": 16,
    "start_time": "2022-02-09T08:06:59.248Z"
   },
   {
    "duration": 30,
    "start_time": "2022-02-09T08:06:59.266Z"
   },
   {
    "duration": 7,
    "start_time": "2022-02-09T08:06:59.298Z"
   },
   {
    "duration": 22,
    "start_time": "2022-02-09T08:06:59.308Z"
   },
   {
    "duration": 45,
    "start_time": "2022-02-09T08:06:59.333Z"
   },
   {
    "duration": 570,
    "start_time": "2022-02-09T09:08:09.834Z"
   },
   {
    "duration": 420,
    "start_time": "2022-02-09T09:09:46.385Z"
   },
   {
    "duration": 289,
    "start_time": "2022-02-09T09:09:50.635Z"
   },
   {
    "duration": 4,
    "start_time": "2022-02-09T09:10:06.093Z"
   },
   {
    "duration": 10,
    "start_time": "2022-02-09T09:10:51.340Z"
   },
   {
    "duration": 10,
    "start_time": "2022-02-09T09:12:49.669Z"
   },
   {
    "duration": 9,
    "start_time": "2022-02-09T09:12:57.260Z"
   },
   {
    "duration": 4,
    "start_time": "2022-02-09T09:14:27.105Z"
   },
   {
    "duration": 322,
    "start_time": "2022-02-09T09:14:54.221Z"
   },
   {
    "duration": 51,
    "start_time": "2022-02-09T09:14:59.300Z"
   },
   {
    "duration": 30,
    "start_time": "2022-02-09T09:15:21.990Z"
   },
   {
    "duration": 34,
    "start_time": "2022-02-09T09:15:26.198Z"
   },
   {
    "duration": 26,
    "start_time": "2022-02-09T09:17:06.268Z"
   },
   {
    "duration": 6,
    "start_time": "2022-02-09T09:17:19.905Z"
   },
   {
    "duration": 288,
    "start_time": "2022-02-09T09:17:51.153Z"
   },
   {
    "duration": 24,
    "start_time": "2022-02-09T09:17:55.395Z"
   },
   {
    "duration": 55,
    "start_time": "2022-02-09T09:18:37.075Z"
   },
   {
    "duration": 55,
    "start_time": "2022-02-09T09:18:41.060Z"
   },
   {
    "duration": 8,
    "start_time": "2022-02-09T09:19:10.619Z"
   },
   {
    "duration": 14,
    "start_time": "2022-02-09T09:19:17.828Z"
   },
   {
    "duration": 30,
    "start_time": "2022-02-09T09:59:53.053Z"
   },
   {
    "duration": 89,
    "start_time": "2022-02-09T09:59:57.460Z"
   },
   {
    "duration": 58,
    "start_time": "2022-02-09T09:59:59.945Z"
   },
   {
    "duration": 290,
    "start_time": "2022-02-09T10:00:20.502Z"
   },
   {
    "duration": 4,
    "start_time": "2022-02-09T10:00:25.418Z"
   },
   {
    "duration": 7,
    "start_time": "2022-02-09T10:00:29.257Z"
   },
   {
    "duration": 33,
    "start_time": "2022-02-09T10:00:43.905Z"
   },
   {
    "duration": 35,
    "start_time": "2022-02-09T10:01:00.934Z"
   },
   {
    "duration": 73,
    "start_time": "2022-02-09T10:05:00.379Z"
   },
   {
    "duration": 1424,
    "start_time": "2022-02-09T10:06:32.149Z"
   },
   {
    "duration": 74,
    "start_time": "2022-02-09T10:06:33.576Z"
   },
   {
    "duration": 22,
    "start_time": "2022-02-09T10:06:33.654Z"
   },
   {
    "duration": 14,
    "start_time": "2022-02-09T10:06:33.678Z"
   },
   {
    "duration": 113,
    "start_time": "2022-02-09T10:06:33.749Z"
   },
   {
    "duration": 5,
    "start_time": "2022-02-09T10:06:33.864Z"
   },
   {
    "duration": 94,
    "start_time": "2022-02-09T10:06:33.872Z"
   },
   {
    "duration": 14,
    "start_time": "2022-02-09T10:06:33.969Z"
   },
   {
    "duration": 62,
    "start_time": "2022-02-09T10:06:33.987Z"
   },
   {
    "duration": 28,
    "start_time": "2022-02-09T10:06:34.051Z"
   },
   {
    "duration": 6,
    "start_time": "2022-02-09T10:06:34.082Z"
   },
   {
    "duration": 66,
    "start_time": "2022-02-09T10:06:34.091Z"
   },
   {
    "duration": 10,
    "start_time": "2022-02-09T10:06:34.160Z"
   },
   {
    "duration": 7,
    "start_time": "2022-02-09T10:06:34.173Z"
   },
   {
    "duration": 169,
    "start_time": "2022-02-09T10:06:34.182Z"
   },
   {
    "duration": 200,
    "start_time": "2022-02-09T10:06:34.354Z"
   },
   {
    "duration": 6,
    "start_time": "2022-02-09T10:06:34.556Z"
   },
   {
    "duration": 18,
    "start_time": "2022-02-09T10:06:34.564Z"
   },
   {
    "duration": 115,
    "start_time": "2022-02-09T10:07:35.090Z"
   },
   {
    "duration": 43,
    "start_time": "2022-02-09T10:07:46.576Z"
   },
   {
    "duration": 90,
    "start_time": "2022-02-09T10:21:57.861Z"
   },
   {
    "duration": 5,
    "start_time": "2022-02-09T10:25:10.529Z"
   },
   {
    "duration": 30,
    "start_time": "2022-02-09T10:27:20.591Z"
   },
   {
    "duration": 25,
    "start_time": "2022-02-09T10:27:21.289Z"
   },
   {
    "duration": 1925,
    "start_time": "2022-02-09T10:27:26.316Z"
   },
   {
    "duration": 41,
    "start_time": "2022-02-09T10:27:28.245Z"
   },
   {
    "duration": 31,
    "start_time": "2022-02-09T10:27:28.291Z"
   },
   {
    "duration": 36,
    "start_time": "2022-02-09T10:27:28.326Z"
   },
   {
    "duration": 97,
    "start_time": "2022-02-09T10:27:28.365Z"
   },
   {
    "duration": 7,
    "start_time": "2022-02-09T10:27:28.465Z"
   },
   {
    "duration": 25,
    "start_time": "2022-02-09T10:27:28.475Z"
   },
   {
    "duration": 7,
    "start_time": "2022-02-09T10:27:28.504Z"
   },
   {
    "duration": 44,
    "start_time": "2022-02-09T10:27:28.515Z"
   },
   {
    "duration": 27,
    "start_time": "2022-02-09T10:27:28.562Z"
   },
   {
    "duration": 15,
    "start_time": "2022-02-09T10:27:28.592Z"
   },
   {
    "duration": 40,
    "start_time": "2022-02-09T10:27:28.610Z"
   },
   {
    "duration": 18,
    "start_time": "2022-02-09T10:27:28.653Z"
   },
   {
    "duration": 7,
    "start_time": "2022-02-09T10:27:28.674Z"
   },
   {
    "duration": 76,
    "start_time": "2022-02-09T10:27:28.683Z"
   },
   {
    "duration": 49,
    "start_time": "2022-02-09T10:27:28.850Z"
   },
   {
    "duration": 50,
    "start_time": "2022-02-09T10:27:28.901Z"
   },
   {
    "duration": 20,
    "start_time": "2022-02-09T10:27:28.953Z"
   },
   {
    "duration": 1497,
    "start_time": "2022-02-09T10:31:35.663Z"
   },
   {
    "duration": 33,
    "start_time": "2022-02-09T10:31:37.163Z"
   },
   {
    "duration": 24,
    "start_time": "2022-02-09T10:31:37.198Z"
   },
   {
    "duration": 30,
    "start_time": "2022-02-09T10:31:37.224Z"
   },
   {
    "duration": 64,
    "start_time": "2022-02-09T10:31:37.256Z"
   },
   {
    "duration": 27,
    "start_time": "2022-02-09T10:31:37.322Z"
   },
   {
    "duration": 22,
    "start_time": "2022-02-09T10:31:37.352Z"
   },
   {
    "duration": 21,
    "start_time": "2022-02-09T10:31:37.376Z"
   },
   {
    "duration": 16,
    "start_time": "2022-02-09T10:31:37.401Z"
   },
   {
    "duration": 44,
    "start_time": "2022-02-09T10:31:37.419Z"
   },
   {
    "duration": 25,
    "start_time": "2022-02-09T10:31:37.466Z"
   },
   {
    "duration": 6,
    "start_time": "2022-02-09T10:31:37.494Z"
   },
   {
    "duration": 13,
    "start_time": "2022-02-09T10:31:37.502Z"
   },
   {
    "duration": 35,
    "start_time": "2022-02-09T10:31:37.517Z"
   },
   {
    "duration": 100,
    "start_time": "2022-02-09T10:31:37.555Z"
   },
   {
    "duration": 138,
    "start_time": "2022-02-09T10:31:37.658Z"
   },
   {
    "duration": 6,
    "start_time": "2022-02-09T10:31:37.799Z"
   },
   {
    "duration": 45,
    "start_time": "2022-02-09T10:31:37.807Z"
   },
   {
    "duration": 18,
    "start_time": "2022-02-09T10:31:48.471Z"
   },
   {
    "duration": 1908,
    "start_time": "2022-02-09T10:32:38.183Z"
   },
   {
    "duration": 35,
    "start_time": "2022-02-09T10:32:40.093Z"
   },
   {
    "duration": 29,
    "start_time": "2022-02-09T10:32:40.131Z"
   },
   {
    "duration": 20,
    "start_time": "2022-02-09T10:32:40.163Z"
   },
   {
    "duration": 73,
    "start_time": "2022-02-09T10:32:40.186Z"
   },
   {
    "duration": 5,
    "start_time": "2022-02-09T10:32:40.262Z"
   },
   {
    "duration": 29,
    "start_time": "2022-02-09T10:32:40.271Z"
   },
   {
    "duration": 8,
    "start_time": "2022-02-09T10:32:40.303Z"
   },
   {
    "duration": 46,
    "start_time": "2022-02-09T10:32:40.315Z"
   },
   {
    "duration": 30,
    "start_time": "2022-02-09T10:32:40.364Z"
   },
   {
    "duration": 23,
    "start_time": "2022-02-09T10:32:40.396Z"
   },
   {
    "duration": 42,
    "start_time": "2022-02-09T10:32:40.422Z"
   },
   {
    "duration": 7,
    "start_time": "2022-02-09T10:32:40.467Z"
   },
   {
    "duration": 8,
    "start_time": "2022-02-09T10:32:40.476Z"
   },
   {
    "duration": 8,
    "start_time": "2022-02-09T10:32:40.487Z"
   },
   {
    "duration": 155,
    "start_time": "2022-02-09T10:32:40.498Z"
   },
   {
    "duration": 129,
    "start_time": "2022-02-09T10:32:40.660Z"
   },
   {
    "duration": 8,
    "start_time": "2022-02-09T10:32:40.792Z"
   },
   {
    "duration": 45,
    "start_time": "2022-02-09T10:32:40.803Z"
   },
   {
    "duration": 14,
    "start_time": "2022-02-09T10:35:44.251Z"
   },
   {
    "duration": 101,
    "start_time": "2022-02-09T10:36:05.423Z"
   },
   {
    "duration": 4,
    "start_time": "2022-02-09T10:39:27.783Z"
   },
   {
    "duration": 6,
    "start_time": "2022-02-09T10:42:31.451Z"
   },
   {
    "duration": 219353,
    "start_time": "2022-02-09T10:43:25.062Z"
   },
   {
    "duration": 5,
    "start_time": "2022-02-09T10:57:00.952Z"
   },
   {
    "duration": 417,
    "start_time": "2022-02-09T10:58:26.251Z"
   },
   {
    "duration": 276,
    "start_time": "2022-02-09T10:58:56.075Z"
   },
   {
    "duration": 279,
    "start_time": "2022-02-09T10:59:22.150Z"
   },
   {
    "duration": 5,
    "start_time": "2022-02-09T10:59:37.591Z"
   },
   {
    "duration": 5,
    "start_time": "2022-02-09T11:33:18.348Z"
   },
   {
    "duration": 1500,
    "start_time": "2022-02-09T11:33:18.355Z"
   },
   {
    "duration": 35,
    "start_time": "2022-02-09T11:33:19.857Z"
   },
   {
    "duration": 24,
    "start_time": "2022-02-09T11:33:19.894Z"
   },
   {
    "duration": 36,
    "start_time": "2022-02-09T11:33:19.921Z"
   },
   {
    "duration": 59,
    "start_time": "2022-02-09T11:33:19.959Z"
   },
   {
    "duration": 31,
    "start_time": "2022-02-09T11:33:20.022Z"
   },
   {
    "duration": 28,
    "start_time": "2022-02-09T11:33:20.056Z"
   },
   {
    "duration": 8,
    "start_time": "2022-02-09T11:33:20.087Z"
   },
   {
    "duration": 11,
    "start_time": "2022-02-09T11:33:20.097Z"
   },
   {
    "duration": 27,
    "start_time": "2022-02-09T11:33:20.149Z"
   },
   {
    "duration": 24,
    "start_time": "2022-02-09T11:33:20.178Z"
   },
   {
    "duration": 55,
    "start_time": "2022-02-09T11:33:20.205Z"
   },
   {
    "duration": 9,
    "start_time": "2022-02-09T11:33:20.264Z"
   },
   {
    "duration": 13,
    "start_time": "2022-02-09T11:33:20.276Z"
   },
   {
    "duration": 11,
    "start_time": "2022-02-09T11:33:20.292Z"
   },
   {
    "duration": 143,
    "start_time": "2022-02-09T11:33:20.306Z"
   },
   {
    "duration": 126,
    "start_time": "2022-02-09T11:33:20.457Z"
   },
   {
    "duration": 117,
    "start_time": "2022-02-09T11:33:20.588Z"
   },
   {
    "duration": 165,
    "start_time": "2022-02-09T11:33:20.708Z"
   },
   {
    "duration": -65,
    "start_time": "2022-02-09T11:33:20.941Z"
   },
   {
    "duration": 89545,
    "start_time": "2022-02-09T11:33:53.312Z"
   },
   {
    "duration": 15,
    "start_time": "2022-02-09T11:37:23.098Z"
   },
   {
    "duration": 1192,
    "start_time": "2022-02-09T11:39:35.250Z"
   },
   {
    "duration": 14,
    "start_time": "2022-02-09T11:39:40.872Z"
   },
   {
    "duration": 7482,
    "start_time": "2022-02-09T11:39:42.770Z"
   },
   {
    "duration": 5,
    "start_time": "2022-02-09T11:40:59.137Z"
   },
   {
    "duration": 18,
    "start_time": "2022-02-09T11:41:41.262Z"
   },
   {
    "duration": 7,
    "start_time": "2022-02-09T11:45:15.380Z"
   },
   {
    "duration": 596,
    "start_time": "2022-02-09T11:47:13.257Z"
   },
   {
    "duration": 7,
    "start_time": "2022-02-09T11:47:37.130Z"
   },
   {
    "duration": 6,
    "start_time": "2022-02-09T11:47:40.976Z"
   },
   {
    "duration": 19,
    "start_time": "2022-02-09T11:47:41.650Z"
   },
   {
    "duration": 9,
    "start_time": "2022-02-09T11:48:05.712Z"
   },
   {
    "duration": 2596,
    "start_time": "2022-02-09T11:49:27.890Z"
   },
   {
    "duration": 5,
    "start_time": "2022-02-09T11:57:35.850Z"
   },
   {
    "duration": 2216,
    "start_time": "2022-02-09T11:57:35.859Z"
   },
   {
    "duration": 83,
    "start_time": "2022-02-09T11:57:38.078Z"
   },
   {
    "duration": 24,
    "start_time": "2022-02-09T11:57:38.164Z"
   },
   {
    "duration": 18,
    "start_time": "2022-02-09T11:57:38.190Z"
   },
   {
    "duration": 88,
    "start_time": "2022-02-09T11:57:38.210Z"
   },
   {
    "duration": 7,
    "start_time": "2022-02-09T11:57:38.301Z"
   },
   {
    "duration": 52,
    "start_time": "2022-02-09T11:57:38.310Z"
   },
   {
    "duration": 6,
    "start_time": "2022-02-09T11:57:38.367Z"
   },
   {
    "duration": 15,
    "start_time": "2022-02-09T11:57:38.376Z"
   },
   {
    "duration": 569,
    "start_time": "2022-02-09T11:57:38.393Z"
   },
   {
    "duration": -115,
    "start_time": "2022-02-09T11:57:39.080Z"
   },
   {
    "duration": -117,
    "start_time": "2022-02-09T11:57:39.084Z"
   },
   {
    "duration": -118,
    "start_time": "2022-02-09T11:57:39.086Z"
   },
   {
    "duration": -118,
    "start_time": "2022-02-09T11:57:39.088Z"
   },
   {
    "duration": -119,
    "start_time": "2022-02-09T11:57:39.090Z"
   },
   {
    "duration": -119,
    "start_time": "2022-02-09T11:57:39.092Z"
   },
   {
    "duration": -120,
    "start_time": "2022-02-09T11:57:39.094Z"
   },
   {
    "duration": -120,
    "start_time": "2022-02-09T11:57:39.096Z"
   },
   {
    "duration": -121,
    "start_time": "2022-02-09T11:57:39.098Z"
   },
   {
    "duration": -121,
    "start_time": "2022-02-09T11:57:39.100Z"
   },
   {
    "duration": -122,
    "start_time": "2022-02-09T11:57:39.102Z"
   },
   {
    "duration": -122,
    "start_time": "2022-02-09T11:57:39.104Z"
   },
   {
    "duration": -121,
    "start_time": "2022-02-09T11:57:39.105Z"
   },
   {
    "duration": -122,
    "start_time": "2022-02-09T11:57:39.107Z"
   },
   {
    "duration": -122,
    "start_time": "2022-02-09T11:57:39.109Z"
   },
   {
    "duration": -124,
    "start_time": "2022-02-09T11:57:39.112Z"
   },
   {
    "duration": -124,
    "start_time": "2022-02-09T11:57:39.114Z"
   },
   {
    "duration": 83,
    "start_time": "2022-02-09T11:58:03.927Z"
   },
   {
    "duration": 5,
    "start_time": "2022-02-09T11:59:09.973Z"
   },
   {
    "duration": 1491,
    "start_time": "2022-02-09T11:59:09.981Z"
   },
   {
    "duration": 61,
    "start_time": "2022-02-09T11:59:11.475Z"
   },
   {
    "duration": 33,
    "start_time": "2022-02-09T11:59:11.550Z"
   },
   {
    "duration": 25,
    "start_time": "2022-02-09T11:59:11.585Z"
   },
   {
    "duration": 40,
    "start_time": "2022-02-09T11:59:11.613Z"
   },
   {
    "duration": 108,
    "start_time": "2022-02-09T11:59:11.655Z"
   },
   {
    "duration": 6,
    "start_time": "2022-02-09T11:59:11.766Z"
   },
   {
    "duration": 74,
    "start_time": "2022-02-09T11:59:11.776Z"
   },
   {
    "duration": 7,
    "start_time": "2022-02-09T11:59:11.853Z"
   },
   {
    "duration": 33,
    "start_time": "2022-02-09T11:59:11.862Z"
   },
   {
    "duration": 74,
    "start_time": "2022-02-09T11:59:11.898Z"
   },
   {
    "duration": 77,
    "start_time": "2022-02-09T11:59:11.974Z"
   },
   {
    "duration": 25,
    "start_time": "2022-02-09T11:59:12.055Z"
   },
   {
    "duration": 9,
    "start_time": "2022-02-09T11:59:12.083Z"
   },
   {
    "duration": 12,
    "start_time": "2022-02-09T11:59:12.150Z"
   },
   {
    "duration": 20,
    "start_time": "2022-02-09T11:59:12.166Z"
   },
   {
    "duration": 260,
    "start_time": "2022-02-09T11:59:12.189Z"
   },
   {
    "duration": 109,
    "start_time": "2022-02-09T11:59:12.452Z"
   },
   {
    "duration": 207,
    "start_time": "2022-02-09T11:59:12.564Z"
   },
   {
    "duration": 109542,
    "start_time": "2022-02-09T11:59:12.773Z"
   },
   {
    "duration": 36,
    "start_time": "2022-02-09T12:01:02.318Z"
   },
   {
    "duration": 7593,
    "start_time": "2022-02-09T12:01:02.357Z"
   },
   {
    "duration": 7,
    "start_time": "2022-02-09T12:01:09.953Z"
   },
   {
    "duration": 5,
    "start_time": "2022-02-09T12:01:09.963Z"
   },
   {
    "duration": 18,
    "start_time": "2022-02-09T12:01:09.971Z"
   },
   {
    "duration": 7,
    "start_time": "2022-02-09T12:01:09.995Z"
   },
   {
    "duration": 59,
    "start_time": "2022-02-09T12:01:10.005Z"
   },
   {
    "duration": 10,
    "start_time": "2022-02-09T12:01:10.067Z"
   },
   {
    "duration": 2631,
    "start_time": "2022-02-09T12:01:10.079Z"
   },
   {
    "duration": 4,
    "start_time": "2022-02-09T12:01:24.383Z"
   },
   {
    "duration": 43,
    "start_time": "2022-02-09T12:05:05.433Z"
   },
   {
    "duration": 54,
    "start_time": "2022-02-09T12:05:07.554Z"
   },
   {
    "duration": 142,
    "start_time": "2022-02-09T12:05:08.783Z"
   },
   {
    "duration": 620,
    "start_time": "2022-02-09T12:05:57.258Z"
   },
   {
    "duration": 53619,
    "start_time": "2022-02-09T12:06:18.051Z"
   },
   {
    "duration": 304,
    "start_time": "2022-02-09T12:14:44.784Z"
   },
   {
    "duration": 284,
    "start_time": "2022-02-09T12:15:50.553Z"
   },
   {
    "duration": 49885,
    "start_time": "2022-02-09T12:18:24.971Z"
   },
   {
    "duration": 1787358,
    "start_time": "2022-02-09T12:25:37.380Z"
   },
   {
    "duration": 1558989,
    "start_time": "2022-02-09T14:16:38.619Z"
   },
   {
    "duration": 291,
    "start_time": "2022-02-10T05:38:22.682Z"
   },
   {
    "duration": 4,
    "start_time": "2022-02-10T05:38:27.483Z"
   },
   {
    "duration": 1185,
    "start_time": "2022-02-10T05:38:27.489Z"
   },
   {
    "duration": 60,
    "start_time": "2022-02-10T05:38:28.677Z"
   },
   {
    "duration": 29,
    "start_time": "2022-02-10T05:38:28.740Z"
   },
   {
    "duration": 19,
    "start_time": "2022-02-10T05:38:28.771Z"
   },
   {
    "duration": 12,
    "start_time": "2022-02-10T05:38:28.808Z"
   },
   {
    "duration": 40,
    "start_time": "2022-02-10T05:38:28.824Z"
   },
   {
    "duration": 5,
    "start_time": "2022-02-10T05:38:28.867Z"
   },
   {
    "duration": 43,
    "start_time": "2022-02-10T05:38:28.874Z"
   },
   {
    "duration": 7,
    "start_time": "2022-02-10T05:38:28.919Z"
   },
   {
    "duration": 11,
    "start_time": "2022-02-10T05:38:28.928Z"
   },
   {
    "duration": 21,
    "start_time": "2022-02-10T05:38:28.941Z"
   },
   {
    "duration": 56,
    "start_time": "2022-02-10T05:38:28.964Z"
   },
   {
    "duration": 13,
    "start_time": "2022-02-10T05:38:29.022Z"
   },
   {
    "duration": 10,
    "start_time": "2022-02-10T05:38:29.037Z"
   },
   {
    "duration": 15,
    "start_time": "2022-02-10T05:38:29.049Z"
   },
   {
    "duration": 7,
    "start_time": "2022-02-10T05:38:29.066Z"
   },
   {
    "duration": 132,
    "start_time": "2022-02-10T05:38:29.075Z"
   },
   {
    "duration": 123,
    "start_time": "2022-02-10T05:38:29.213Z"
   },
   {
    "duration": 87,
    "start_time": "2022-02-10T05:38:29.338Z"
   },
   {
    "duration": 66764,
    "start_time": "2022-02-10T05:38:29.428Z"
   },
   {
    "duration": 19,
    "start_time": "2022-02-10T05:39:36.194Z"
   },
   {
    "duration": 4148,
    "start_time": "2022-02-10T05:39:36.215Z"
   },
   {
    "duration": 4,
    "start_time": "2022-02-10T05:39:40.364Z"
   },
   {
    "duration": 5412,
    "start_time": "2022-02-10T05:39:40.370Z"
   },
   {
    "duration": 686,
    "start_time": "2022-02-10T05:39:45.098Z"
   },
   {
    "duration": 636,
    "start_time": "2022-02-10T05:39:45.149Z"
   },
   {
    "duration": 633,
    "start_time": "2022-02-10T05:39:45.153Z"
   },
   {
    "duration": 631,
    "start_time": "2022-02-10T05:39:45.156Z"
   },
   {
    "duration": 630,
    "start_time": "2022-02-10T05:39:45.158Z"
   },
   {
    "duration": 630,
    "start_time": "2022-02-10T05:39:45.159Z"
   },
   {
    "duration": 244,
    "start_time": "2022-02-10T05:43:50.685Z"
   },
   {
    "duration": 2,
    "start_time": "2022-02-10T05:44:23.660Z"
   },
   {
    "duration": 266,
    "start_time": "2022-02-10T05:44:33.708Z"
   },
   {
    "duration": 240,
    "start_time": "2022-02-10T05:46:24.637Z"
   },
   {
    "duration": 3,
    "start_time": "2022-02-10T05:46:30.420Z"
   },
   {
    "duration": 4,
    "start_time": "2022-02-10T05:46:47.770Z"
   },
   {
    "duration": 6,
    "start_time": "2022-02-10T05:47:17.478Z"
   },
   {
    "duration": 12,
    "start_time": "2022-02-10T05:47:46.204Z"
   },
   {
    "duration": 5,
    "start_time": "2022-02-10T05:47:46.660Z"
   },
   {
    "duration": 14,
    "start_time": "2022-02-10T05:47:47.250Z"
   },
   {
    "duration": 8,
    "start_time": "2022-02-10T05:47:47.699Z"
   },
   {
    "duration": 1950,
    "start_time": "2022-02-10T05:47:48.329Z"
   },
   {
    "duration": 5227,
    "start_time": "2022-02-10T05:48:25.369Z"
   },
   {
    "duration": 246,
    "start_time": "2022-02-10T05:50:21.402Z"
   },
   {
    "duration": 5,
    "start_time": "2022-02-10T05:50:33.589Z"
   },
   {
    "duration": 253,
    "start_time": "2022-02-10T05:50:37.639Z"
   },
   {
    "duration": 4,
    "start_time": "2022-02-10T05:50:45.038Z"
   },
   {
    "duration": 5093,
    "start_time": "2022-02-10T05:50:52.608Z"
   },
   {
    "duration": 13,
    "start_time": "2022-02-10T05:53:48.330Z"
   },
   {
    "duration": 5,
    "start_time": "2022-02-10T05:53:50.929Z"
   },
   {
    "duration": 6659,
    "start_time": "2022-02-10T05:53:53.509Z"
   },
   {
    "duration": 254,
    "start_time": "2022-02-10T05:55:19.047Z"
   },
   {
    "duration": 3928,
    "start_time": "2022-02-10T05:55:51.135Z"
   },
   {
    "duration": 10,
    "start_time": "2022-02-10T05:56:37.879Z"
   },
   {
    "duration": 11,
    "start_time": "2022-02-10T05:56:42.580Z"
   },
   {
    "duration": 5,
    "start_time": "2022-02-10T05:56:43.499Z"
   },
   {
    "duration": 240,
    "start_time": "2022-02-10T05:56:44.650Z"
   },
   {
    "duration": 12,
    "start_time": "2022-02-10T05:56:52.569Z"
   },
   {
    "duration": 640,
    "start_time": "2022-02-10T06:01:19.367Z"
   },
   {
    "duration": 250,
    "start_time": "2022-02-10T06:01:36.582Z"
   },
   {
    "duration": 267,
    "start_time": "2022-02-10T06:05:17.556Z"
   },
   {
    "duration": 243,
    "start_time": "2022-02-10T06:08:11.140Z"
   },
   {
    "duration": 253,
    "start_time": "2022-02-10T06:08:53.179Z"
   },
   {
    "duration": 4,
    "start_time": "2022-02-10T06:09:24.641Z"
   },
   {
    "duration": 1894,
    "start_time": "2022-02-10T06:12:35.449Z"
   },
   {
    "duration": 14,
    "start_time": "2022-02-10T06:13:07.749Z"
   },
   {
    "duration": 247,
    "start_time": "2022-02-10T06:14:18.351Z"
   },
   {
    "duration": 1875,
    "start_time": "2022-02-10T06:15:43.745Z"
   },
   {
    "duration": 243,
    "start_time": "2022-02-10T06:15:53.929Z"
   },
   {
    "duration": 2252,
    "start_time": "2022-02-10T06:16:17.794Z"
   },
   {
    "duration": 256,
    "start_time": "2022-02-10T06:17:54.859Z"
   },
   {
    "duration": 7,
    "start_time": "2022-02-10T06:18:03.150Z"
   },
   {
    "duration": 311,
    "start_time": "2022-02-10T06:19:05.489Z"
   },
   {
    "duration": 302,
    "start_time": "2022-02-10T06:19:06.048Z"
   },
   {
    "duration": 26,
    "start_time": "2022-02-10T06:19:17.662Z"
   },
   {
    "duration": 9,
    "start_time": "2022-02-10T06:19:23.451Z"
   },
   {
    "duration": 19,
    "start_time": "2022-02-10T06:19:25.525Z"
   },
   {
    "duration": 19,
    "start_time": "2022-02-10T06:19:26.534Z"
   },
   {
    "duration": 13,
    "start_time": "2022-02-10T06:19:27.008Z"
   },
   {
    "duration": 6,
    "start_time": "2022-02-10T06:19:29.124Z"
   },
   {
    "duration": 7,
    "start_time": "2022-02-10T06:19:29.557Z"
   },
   {
    "duration": 7,
    "start_time": "2022-02-10T06:19:30.065Z"
   },
   {
    "duration": 273,
    "start_time": "2022-02-10T06:20:01.460Z"
   },
   {
    "duration": 23856,
    "start_time": "2022-02-10T06:20:07.430Z"
   },
   {
    "duration": 1015300,
    "start_time": "2022-02-10T06:20:58.919Z"
   },
   {
    "duration": 49,
    "start_time": "2022-02-10T06:39:03.970Z"
   },
   {
    "duration": 18125,
    "start_time": "2022-02-10T06:41:07.346Z"
   },
   {
    "duration": 3,
    "start_time": "2022-02-10T06:53:22.245Z"
   },
   {
    "duration": 5,
    "start_time": "2022-02-10T06:54:19.996Z"
   },
   {
    "duration": 432,
    "start_time": "2022-02-10T07:22:13.119Z"
   },
   {
    "duration": 323,
    "start_time": "2022-02-10T07:22:29.134Z"
   },
   {
    "duration": 449,
    "start_time": "2022-02-10T07:22:32.164Z"
   },
   {
    "duration": 468,
    "start_time": "2022-02-10T07:22:42.020Z"
   },
   {
    "duration": 442,
    "start_time": "2022-02-10T07:22:58.668Z"
   },
   {
    "duration": 542,
    "start_time": "2022-02-10T07:23:05.649Z"
   },
   {
    "duration": 2,
    "start_time": "2022-02-10T07:24:34.346Z"
   },
   {
    "duration": 4,
    "start_time": "2022-02-10T07:24:44.039Z"
   },
   {
    "duration": 1319,
    "start_time": "2022-02-10T07:24:44.451Z"
   },
   {
    "duration": 36,
    "start_time": "2022-02-10T07:24:45.773Z"
   },
   {
    "duration": 25,
    "start_time": "2022-02-10T07:24:46.133Z"
   },
   {
    "duration": 9,
    "start_time": "2022-02-10T07:24:48.335Z"
   },
   {
    "duration": 41,
    "start_time": "2022-02-10T07:24:49.174Z"
   },
   {
    "duration": 4,
    "start_time": "2022-02-10T07:25:59.155Z"
   },
   {
    "duration": 17,
    "start_time": "2022-02-10T07:25:59.684Z"
   },
   {
    "duration": 6,
    "start_time": "2022-02-10T07:26:05.374Z"
   },
   {
    "duration": 7,
    "start_time": "2022-02-10T07:26:06.335Z"
   },
   {
    "duration": 13,
    "start_time": "2022-02-10T07:26:08.546Z"
   },
   {
    "duration": 20,
    "start_time": "2022-02-10T07:26:12.824Z"
   },
   {
    "duration": 1782,
    "start_time": "2022-02-10T07:26:17.795Z"
   },
   {
    "duration": 20,
    "start_time": "2022-02-10T07:26:31.353Z"
   },
   {
    "duration": 560,
    "start_time": "2022-02-10T07:26:41.680Z"
   },
   {
    "duration": 1870,
    "start_time": "2022-02-10T07:26:47.414Z"
   },
   {
    "duration": 8,
    "start_time": "2022-02-10T07:28:47.536Z"
   },
   {
    "duration": 1858,
    "start_time": "2022-02-10T07:28:51.753Z"
   },
   {
    "duration": 471,
    "start_time": "2022-02-10T07:34:05.864Z"
   },
   {
    "duration": 792,
    "start_time": "2022-02-10T07:34:06.337Z"
   },
   {
    "duration": 27,
    "start_time": "2022-02-10T07:34:07.131Z"
   },
   {
    "duration": 17,
    "start_time": "2022-02-10T07:34:07.160Z"
   },
   {
    "duration": 24,
    "start_time": "2022-02-10T07:34:07.179Z"
   },
   {
    "duration": 41,
    "start_time": "2022-02-10T07:34:07.205Z"
   },
   {
    "duration": 4,
    "start_time": "2022-02-10T07:34:07.248Z"
   },
   {
    "duration": 28,
    "start_time": "2022-02-10T07:34:07.255Z"
   },
   {
    "duration": 18,
    "start_time": "2022-02-10T07:34:07.285Z"
   },
   {
    "duration": 26,
    "start_time": "2022-02-10T07:34:07.305Z"
   },
   {
    "duration": 22,
    "start_time": "2022-02-10T07:34:07.333Z"
   },
   {
    "duration": 34,
    "start_time": "2022-02-10T07:34:07.357Z"
   },
   {
    "duration": 2846,
    "start_time": "2022-02-10T07:34:07.393Z"
   },
   {
    "duration": 20,
    "start_time": "2022-02-10T07:34:10.241Z"
   },
   {
    "duration": 1971,
    "start_time": "2022-02-10T07:34:10.263Z"
   },
   {
    "duration": 5,
    "start_time": "2022-02-10T07:34:12.236Z"
   },
   {
    "duration": 9,
    "start_time": "2022-02-10T07:34:12.243Z"
   },
   {
    "duration": 6,
    "start_time": "2022-02-10T07:34:12.254Z"
   },
   {
    "duration": 55,
    "start_time": "2022-02-10T07:34:12.262Z"
   },
   {
    "duration": 113,
    "start_time": "2022-02-10T07:34:12.408Z"
   },
   {
    "duration": 85,
    "start_time": "2022-02-10T07:34:12.523Z"
   },
   {
    "duration": 3199,
    "start_time": "2022-02-10T07:34:12.610Z"
   },
   {
    "duration": -218,
    "start_time": "2022-02-10T07:34:16.030Z"
   },
   {
    "duration": -220,
    "start_time": "2022-02-10T07:34:16.033Z"
   },
   {
    "duration": -221,
    "start_time": "2022-02-10T07:34:16.035Z"
   },
   {
    "duration": -223,
    "start_time": "2022-02-10T07:34:16.038Z"
   },
   {
    "duration": -224,
    "start_time": "2022-02-10T07:34:16.040Z"
   },
   {
    "duration": -225,
    "start_time": "2022-02-10T07:34:16.042Z"
   },
   {
    "duration": -226,
    "start_time": "2022-02-10T07:34:16.044Z"
   },
   {
    "duration": -227,
    "start_time": "2022-02-10T07:34:16.046Z"
   },
   {
    "duration": -229,
    "start_time": "2022-02-10T07:34:16.049Z"
   },
   {
    "duration": -230,
    "start_time": "2022-02-10T07:34:16.051Z"
   },
   {
    "duration": -232,
    "start_time": "2022-02-10T07:34:16.053Z"
   },
   {
    "duration": -233,
    "start_time": "2022-02-10T07:34:16.055Z"
   },
   {
    "duration": -235,
    "start_time": "2022-02-10T07:34:16.058Z"
   },
   {
    "duration": -236,
    "start_time": "2022-02-10T07:34:16.060Z"
   },
   {
    "duration": 501,
    "start_time": "2022-02-10T07:34:18.583Z"
   },
   {
    "duration": 721,
    "start_time": "2022-02-10T07:34:19.086Z"
   },
   {
    "duration": 27,
    "start_time": "2022-02-10T07:34:19.810Z"
   },
   {
    "duration": 19,
    "start_time": "2022-02-10T07:34:19.839Z"
   },
   {
    "duration": 12,
    "start_time": "2022-02-10T07:34:19.860Z"
   },
   {
    "duration": 64,
    "start_time": "2022-02-10T07:34:19.874Z"
   },
   {
    "duration": 5,
    "start_time": "2022-02-10T07:34:19.940Z"
   },
   {
    "duration": 18,
    "start_time": "2022-02-10T07:34:19.948Z"
   },
   {
    "duration": 7,
    "start_time": "2022-02-10T07:34:19.969Z"
   },
   {
    "duration": 40,
    "start_time": "2022-02-10T07:34:19.977Z"
   },
   {
    "duration": 11,
    "start_time": "2022-02-10T07:34:20.019Z"
   },
   {
    "duration": 25,
    "start_time": "2022-02-10T07:34:20.033Z"
   },
   {
    "duration": 1854,
    "start_time": "2022-02-10T07:34:20.060Z"
   },
   {
    "duration": 27,
    "start_time": "2022-02-10T07:34:21.916Z"
   },
   {
    "duration": 2933,
    "start_time": "2022-02-10T07:34:21.946Z"
   },
   {
    "duration": 5,
    "start_time": "2022-02-10T07:34:24.881Z"
   },
   {
    "duration": 26,
    "start_time": "2022-02-10T07:34:24.887Z"
   },
   {
    "duration": 10,
    "start_time": "2022-02-10T07:34:24.916Z"
   },
   {
    "duration": 86,
    "start_time": "2022-02-10T07:34:24.928Z"
   },
   {
    "duration": 124,
    "start_time": "2022-02-10T07:34:25.016Z"
   },
   {
    "duration": 98,
    "start_time": "2022-02-10T07:34:25.142Z"
   },
   {
    "duration": 67324,
    "start_time": "2022-02-10T07:34:25.242Z"
   },
   {
    "duration": 11,
    "start_time": "2022-02-10T07:35:32.569Z"
   },
   {
    "duration": 4089,
    "start_time": "2022-02-10T07:35:32.582Z"
   },
   {
    "duration": 4,
    "start_time": "2022-02-10T07:35:36.673Z"
   },
   {
    "duration": 23,
    "start_time": "2022-02-10T07:35:36.679Z"
   },
   {
    "duration": 21,
    "start_time": "2022-02-10T07:35:36.707Z"
   },
   {
    "duration": 30,
    "start_time": "2022-02-10T07:35:36.730Z"
   },
   {
    "duration": 7,
    "start_time": "2022-02-10T07:35:36.762Z"
   },
   {
    "duration": 1900,
    "start_time": "2022-02-10T07:35:36.771Z"
   },
   {
    "duration": 30797,
    "start_time": "2022-02-10T07:35:38.673Z"
   },
   {
    "duration": 649848,
    "start_time": "2022-02-10T07:36:09.472Z"
   },
   {
    "duration": -127,
    "start_time": "2022-02-10T07:46:59.449Z"
   },
   {
    "duration": -129,
    "start_time": "2022-02-10T07:46:59.452Z"
   },
   {
    "duration": 15233,
    "start_time": "2022-02-10T07:48:22.967Z"
   },
   {
    "duration": 455,
    "start_time": "2022-02-10T07:48:42.751Z"
   },
   {
    "duration": 804,
    "start_time": "2022-02-10T07:48:43.208Z"
   },
   {
    "duration": 28,
    "start_time": "2022-02-10T07:48:44.014Z"
   },
   {
    "duration": 17,
    "start_time": "2022-02-10T07:48:44.186Z"
   },
   {
    "duration": 10,
    "start_time": "2022-02-10T07:48:44.791Z"
   },
   {
    "duration": 43,
    "start_time": "2022-02-10T07:48:45.332Z"
   },
   {
    "duration": 5,
    "start_time": "2022-02-10T07:48:46.791Z"
   },
   {
    "duration": 16,
    "start_time": "2022-02-10T07:48:46.996Z"
   },
   {
    "duration": 6,
    "start_time": "2022-02-10T07:48:47.598Z"
   },
   {
    "duration": 7,
    "start_time": "2022-02-10T07:48:48.043Z"
   },
   {
    "duration": 7,
    "start_time": "2022-02-10T07:48:48.423Z"
   },
   {
    "duration": 20,
    "start_time": "2022-02-10T07:48:49.520Z"
   },
   {
    "duration": 2086,
    "start_time": "2022-02-10T07:48:50.636Z"
   },
   {
    "duration": 19,
    "start_time": "2022-02-10T07:48:53.584Z"
   },
   {
    "duration": 1858,
    "start_time": "2022-02-10T07:48:54.160Z"
   },
   {
    "duration": 5,
    "start_time": "2022-02-10T07:48:59.893Z"
   },
   {
    "duration": 7,
    "start_time": "2022-02-10T07:49:00.318Z"
   },
   {
    "duration": 7,
    "start_time": "2022-02-10T07:49:00.691Z"
   },
   {
    "duration": 107,
    "start_time": "2022-02-10T07:49:02.800Z"
   },
   {
    "duration": 34,
    "start_time": "2022-02-10T07:49:06.497Z"
   },
   {
    "duration": 82,
    "start_time": "2022-02-10T07:49:09.032Z"
   },
   {
    "duration": 23026,
    "start_time": "2022-02-10T07:50:41.658Z"
   },
   {
    "duration": 520,
    "start_time": "2022-02-10T09:09:41.107Z"
   },
   {
    "duration": 783,
    "start_time": "2022-02-10T09:09:41.629Z"
   },
   {
    "duration": 29,
    "start_time": "2022-02-10T09:09:42.665Z"
   },
   {
    "duration": 16,
    "start_time": "2022-02-10T09:09:43.150Z"
   },
   {
    "duration": 11,
    "start_time": "2022-02-10T09:09:43.522Z"
   },
   {
    "duration": 42,
    "start_time": "2022-02-10T09:09:43.827Z"
   },
   {
    "duration": 6,
    "start_time": "2022-02-10T09:09:44.838Z"
   },
   {
    "duration": 18,
    "start_time": "2022-02-10T09:09:45.104Z"
   },
   {
    "duration": 5,
    "start_time": "2022-02-10T09:09:45.538Z"
   },
   {
    "duration": 7,
    "start_time": "2022-02-10T09:09:45.959Z"
   },
   {
    "duration": 5,
    "start_time": "2022-02-10T09:09:46.382Z"
   },
   {
    "duration": 20,
    "start_time": "2022-02-10T09:09:46.816Z"
   },
   {
    "duration": 1911,
    "start_time": "2022-02-10T09:09:47.181Z"
   },
   {
    "duration": 22,
    "start_time": "2022-02-10T09:09:49.094Z"
   },
   {
    "duration": 1930,
    "start_time": "2022-02-10T09:09:49.119Z"
   },
   {
    "duration": 5,
    "start_time": "2022-02-10T09:09:51.051Z"
   },
   {
    "duration": 16,
    "start_time": "2022-02-10T09:09:51.058Z"
   },
   {
    "duration": 17,
    "start_time": "2022-02-10T09:09:51.076Z"
   },
   {
    "duration": 91,
    "start_time": "2022-02-10T09:09:55.017Z"
   },
   {
    "duration": 36,
    "start_time": "2022-02-10T09:09:56.352Z"
   },
   {
    "duration": 76,
    "start_time": "2022-02-10T09:09:58.505Z"
   },
   {
    "duration": 40407,
    "start_time": "2022-02-10T09:09:59.581Z"
   },
   {
    "duration": 12,
    "start_time": "2022-02-10T09:11:44.115Z"
   },
   {
    "duration": 5,
    "start_time": "2022-02-10T09:11:45.305Z"
   },
   {
    "duration": 14,
    "start_time": "2022-02-10T09:11:47.255Z"
   },
   {
    "duration": 7,
    "start_time": "2022-02-10T09:11:47.984Z"
   },
   {
    "duration": 30,
    "start_time": "2022-02-10T09:11:53.578Z"
   },
   {
    "duration": 43,
    "start_time": "2022-02-10T09:11:55.754Z"
   },
   {
    "duration": 109,
    "start_time": "2022-02-10T09:11:58.701Z"
   },
   {
    "duration": 30903,
    "start_time": "2022-02-10T09:12:03.191Z"
   },
   {
    "duration": 74191,
    "start_time": "2022-02-10T09:21:46.313Z"
   },
   {
    "duration": 641,
    "start_time": "2022-02-10T09:22:59.865Z"
   },
   {
    "duration": 30433,
    "start_time": "2022-02-10T09:23:04.955Z"
   },
   {
    "duration": 99697,
    "start_time": "2022-02-10T09:23:36.420Z"
   },
   {
    "duration": 7362,
    "start_time": "2022-02-10T09:25:39.213Z"
   },
   {
    "duration": 2597,
    "start_time": "2022-02-10T09:27:31.624Z"
   },
   {
    "duration": 249,
    "start_time": "2022-02-10T09:29:47.915Z"
   },
   {
    "duration": 7243,
    "start_time": "2022-02-10T09:29:53.085Z"
   },
   {
    "duration": 312,
    "start_time": "2022-02-10T09:31:39.674Z"
   },
   {
    "duration": 174708,
    "start_time": "2022-02-10T09:32:08.755Z"
   },
   {
    "duration": 1257795,
    "start_time": "2022-02-10T09:35:06.235Z"
   },
   {
    "duration": 11774,
    "start_time": "2022-02-10T10:37:58.836Z"
   },
   {
    "duration": 35876,
    "start_time": "2022-02-10T10:38:22.134Z"
   },
   {
    "duration": 344,
    "start_time": "2022-02-10T10:40:33.076Z"
   },
   {
    "duration": 257,
    "start_time": "2022-02-10T10:40:42.862Z"
   },
   {
    "duration": 5,
    "start_time": "2022-02-10T10:40:49.515Z"
   },
   {
    "duration": 4,
    "start_time": "2022-02-10T10:47:58.115Z"
   },
   {
    "duration": 4,
    "start_time": "2022-02-10T10:49:36.316Z"
   },
   {
    "duration": 2338,
    "start_time": "2022-02-10T10:50:44.435Z"
   },
   {
    "duration": 19595,
    "start_time": "2022-02-10T10:51:05.546Z"
   },
   {
    "duration": 102,
    "start_time": "2022-02-10T10:54:37.781Z"
   },
   {
    "duration": 157,
    "start_time": "2022-02-10T10:54:43.149Z"
   },
   {
    "duration": 11,
    "start_time": "2022-02-10T10:55:02.263Z"
   },
   {
    "duration": 260,
    "start_time": "2022-02-10T10:56:54.340Z"
   },
   {
    "duration": 4,
    "start_time": "2022-02-10T10:57:20.920Z"
   },
   {
    "duration": 6,
    "start_time": "2022-02-10T10:57:34.014Z"
   },
   {
    "duration": 5,
    "start_time": "2022-02-10T10:58:07.315Z"
   },
   {
    "duration": 10,
    "start_time": "2022-02-10T10:58:17.180Z"
   },
   {
    "duration": 10,
    "start_time": "2022-02-10T10:58:23.223Z"
   },
   {
    "duration": 4,
    "start_time": "2022-02-10T10:59:08.316Z"
   },
   {
    "duration": 245,
    "start_time": "2022-02-10T10:59:22.373Z"
   },
   {
    "duration": 262,
    "start_time": "2022-02-10T10:59:52.983Z"
   },
   {
    "duration": 212,
    "start_time": "2022-02-10T10:59:58.859Z"
   },
   {
    "duration": 5,
    "start_time": "2022-02-10T11:00:45.543Z"
   },
   {
    "duration": 224,
    "start_time": "2022-02-10T11:00:46.589Z"
   },
   {
    "duration": 248,
    "start_time": "2022-02-10T11:02:10.653Z"
   },
   {
    "duration": 4,
    "start_time": "2022-02-10T11:02:37.025Z"
   },
   {
    "duration": 12,
    "start_time": "2022-02-10T11:02:49.946Z"
   },
   {
    "duration": 105,
    "start_time": "2022-02-10T11:03:12.853Z"
   },
   {
    "duration": 289,
    "start_time": "2022-02-10T11:18:01.693Z"
   },
   {
    "duration": 4,
    "start_time": "2022-02-10T11:18:06.773Z"
   },
   {
    "duration": 339,
    "start_time": "2022-02-10T11:18:46.781Z"
   },
   {
    "duration": 5,
    "start_time": "2022-02-10T11:19:11.956Z"
   },
   {
    "duration": 5,
    "start_time": "2022-02-10T11:19:36.260Z"
   },
   {
    "duration": 85,
    "start_time": "2022-02-10T11:21:29.861Z"
   },
   {
    "duration": 4,
    "start_time": "2022-02-10T11:22:37.894Z"
   },
   {
    "duration": 4,
    "start_time": "2022-02-10T11:23:06.253Z"
   },
   {
    "duration": 4,
    "start_time": "2022-02-10T11:23:09.220Z"
   },
   {
    "duration": 15,
    "start_time": "2022-02-10T11:47:25.809Z"
   },
   {
    "duration": 10,
    "start_time": "2022-02-10T11:47:43.177Z"
   },
   {
    "duration": 104,
    "start_time": "2022-02-10T11:47:54.620Z"
   },
   {
    "duration": 11,
    "start_time": "2022-02-10T11:48:10.102Z"
   },
   {
    "duration": 510,
    "start_time": "2022-02-10T11:50:09.704Z"
   },
   {
    "duration": 786,
    "start_time": "2022-02-10T11:50:10.216Z"
   },
   {
    "duration": 29,
    "start_time": "2022-02-10T11:50:11.005Z"
   },
   {
    "duration": 19,
    "start_time": "2022-02-10T11:50:11.036Z"
   },
   {
    "duration": 18,
    "start_time": "2022-02-10T11:50:11.058Z"
   },
   {
    "duration": 57,
    "start_time": "2022-02-10T11:50:11.079Z"
   },
   {
    "duration": 4,
    "start_time": "2022-02-10T11:50:11.139Z"
   },
   {
    "duration": 27,
    "start_time": "2022-02-10T11:50:11.146Z"
   },
   {
    "duration": 9,
    "start_time": "2022-02-10T11:50:11.175Z"
   },
   {
    "duration": 24,
    "start_time": "2022-02-10T11:50:11.186Z"
   },
   {
    "duration": 15,
    "start_time": "2022-02-10T11:50:11.212Z"
   },
   {
    "duration": 37,
    "start_time": "2022-02-10T11:50:11.229Z"
   },
   {
    "duration": 1833,
    "start_time": "2022-02-10T11:50:11.267Z"
   },
   {
    "duration": 23,
    "start_time": "2022-02-10T11:50:13.101Z"
   },
   {
    "duration": 1872,
    "start_time": "2022-02-10T11:50:13.126Z"
   },
   {
    "duration": 10,
    "start_time": "2022-02-10T11:50:15.000Z"
   },
   {
    "duration": 34,
    "start_time": "2022-02-10T11:50:15.013Z"
   },
   {
    "duration": 21,
    "start_time": "2022-02-10T11:50:15.050Z"
   },
   {
    "duration": 21,
    "start_time": "2022-02-10T11:50:15.073Z"
   },
   {
    "duration": 113,
    "start_time": "2022-02-10T11:50:15.096Z"
   },
   {
    "duration": 197,
    "start_time": "2022-02-10T11:50:15.211Z"
   },
   {
    "duration": 35,
    "start_time": "2022-02-10T11:50:15.410Z"
   },
   {
    "duration": 8,
    "start_time": "2022-02-10T11:50:15.449Z"
   },
   {
    "duration": 103,
    "start_time": "2022-02-10T11:50:15.459Z"
   },
   {
    "duration": 13,
    "start_time": "2022-02-10T11:50:15.564Z"
   },
   {
    "duration": 23972,
    "start_time": "2022-02-10T11:50:15.579Z"
   },
   {
    "duration": 12,
    "start_time": "2022-02-10T11:50:39.554Z"
   },
   {
    "duration": 357,
    "start_time": "2022-02-10T11:50:39.568Z"
   },
   {
    "duration": -110,
    "start_time": "2022-02-10T11:50:40.037Z"
   },
   {
    "duration": -112,
    "start_time": "2022-02-10T11:50:40.040Z"
   },
   {
    "duration": -114,
    "start_time": "2022-02-10T11:50:40.043Z"
   },
   {
    "duration": -128,
    "start_time": "2022-02-10T11:50:40.059Z"
   },
   {
    "duration": -132,
    "start_time": "2022-02-10T11:50:40.064Z"
   },
   {
    "duration": -136,
    "start_time": "2022-02-10T11:50:40.068Z"
   },
   {
    "duration": -137,
    "start_time": "2022-02-10T11:50:40.070Z"
   },
   {
    "duration": -138,
    "start_time": "2022-02-10T11:50:40.073Z"
   },
   {
    "duration": -139,
    "start_time": "2022-02-10T11:50:40.075Z"
   },
   {
    "duration": -141,
    "start_time": "2022-02-10T11:50:40.078Z"
   },
   {
    "duration": -143,
    "start_time": "2022-02-10T11:50:40.081Z"
   },
   {
    "duration": -145,
    "start_time": "2022-02-10T11:50:40.084Z"
   },
   {
    "duration": -147,
    "start_time": "2022-02-10T11:50:40.087Z"
   },
   {
    "duration": -149,
    "start_time": "2022-02-10T11:50:40.089Z"
   },
   {
    "duration": -151,
    "start_time": "2022-02-10T11:50:40.092Z"
   },
   {
    "duration": -154,
    "start_time": "2022-02-10T11:50:40.096Z"
   },
   {
    "duration": -155,
    "start_time": "2022-02-10T11:50:40.098Z"
   },
   {
    "duration": -157,
    "start_time": "2022-02-10T11:50:40.101Z"
   },
   {
    "duration": -159,
    "start_time": "2022-02-10T11:50:40.104Z"
   },
   {
    "duration": -162,
    "start_time": "2022-02-10T11:50:40.108Z"
   },
   {
    "duration": 14,
    "start_time": "2022-02-10T11:52:02.100Z"
   },
   {
    "duration": 24,
    "start_time": "2022-02-10T11:56:45.371Z"
   },
   {
    "duration": 11,
    "start_time": "2022-02-10T11:56:46.553Z"
   },
   {
    "duration": 4,
    "start_time": "2022-02-10T12:01:05.098Z"
   },
   {
    "duration": 14,
    "start_time": "2022-02-10T12:01:05.698Z"
   },
   {
    "duration": 7,
    "start_time": "2022-02-10T12:01:06.382Z"
   },
   {
    "duration": 29,
    "start_time": "2022-02-10T12:01:08.392Z"
   },
   {
    "duration": 45,
    "start_time": "2022-02-10T12:10:25.137Z"
   },
   {
    "duration": 9,
    "start_time": "2022-02-10T12:10:26.022Z"
   },
   {
    "duration": 111,
    "start_time": "2022-02-10T12:10:31.655Z"
   },
   {
    "duration": 13,
    "start_time": "2022-02-10T12:10:32.353Z"
   },
   {
    "duration": 251,
    "start_time": "2022-02-10T12:10:38.010Z"
   },
   {
    "duration": 458,
    "start_time": "2022-02-10T12:11:07.733Z"
   },
   {
    "duration": 839,
    "start_time": "2022-02-10T12:11:08.193Z"
   },
   {
    "duration": 30,
    "start_time": "2022-02-10T12:11:09.035Z"
   },
   {
    "duration": 19,
    "start_time": "2022-02-10T12:11:09.068Z"
   },
   {
    "duration": 26,
    "start_time": "2022-02-10T12:11:09.089Z"
   },
   {
    "duration": 53,
    "start_time": "2022-02-10T12:11:09.117Z"
   },
   {
    "duration": 5,
    "start_time": "2022-02-10T12:11:09.172Z"
   },
   {
    "duration": 31,
    "start_time": "2022-02-10T12:11:09.179Z"
   },
   {
    "duration": 6,
    "start_time": "2022-02-10T12:11:09.214Z"
   },
   {
    "duration": 17,
    "start_time": "2022-02-10T12:11:09.223Z"
   },
   {
    "duration": 13,
    "start_time": "2022-02-10T12:11:09.243Z"
   },
   {
    "duration": 28,
    "start_time": "2022-02-10T12:11:09.258Z"
   },
   {
    "duration": 1905,
    "start_time": "2022-02-10T12:11:09.288Z"
   },
   {
    "duration": 27,
    "start_time": "2022-02-10T12:11:11.195Z"
   },
   {
    "duration": 1821,
    "start_time": "2022-02-10T12:11:11.224Z"
   },
   {
    "duration": 5,
    "start_time": "2022-02-10T12:11:13.047Z"
   },
   {
    "duration": 14,
    "start_time": "2022-02-10T12:11:13.055Z"
   },
   {
    "duration": 8,
    "start_time": "2022-02-10T12:11:13.071Z"
   },
   {
    "duration": 4,
    "start_time": "2022-02-10T12:11:13.081Z"
   },
   {
    "duration": 126,
    "start_time": "2022-02-10T12:11:13.086Z"
   },
   {
    "duration": 101,
    "start_time": "2022-02-10T12:11:13.214Z"
   },
   {
    "duration": 195,
    "start_time": "2022-02-10T12:11:13.317Z"
   },
   {
    "duration": 8,
    "start_time": "2022-02-10T12:11:13.513Z"
   },
   {
    "duration": 91,
    "start_time": "2022-02-10T12:11:13.522Z"
   },
   {
    "duration": 12,
    "start_time": "2022-02-10T12:11:13.615Z"
   },
   {
    "duration": 23947,
    "start_time": "2022-02-10T12:11:13.629Z"
   },
   {
    "duration": 12,
    "start_time": "2022-02-10T12:11:37.581Z"
   },
   {
    "duration": 364,
    "start_time": "2022-02-10T12:11:37.596Z"
   },
   {
    "duration": -176,
    "start_time": "2022-02-10T12:11:38.138Z"
   },
   {
    "duration": -178,
    "start_time": "2022-02-10T12:11:38.141Z"
   },
   {
    "duration": -180,
    "start_time": "2022-02-10T12:11:38.144Z"
   },
   {
    "duration": -182,
    "start_time": "2022-02-10T12:11:38.147Z"
   },
   {
    "duration": -247,
    "start_time": "2022-02-10T12:11:38.213Z"
   },
   {
    "duration": -248,
    "start_time": "2022-02-10T12:11:38.216Z"
   },
   {
    "duration": -250,
    "start_time": "2022-02-10T12:11:38.219Z"
   },
   {
    "duration": -252,
    "start_time": "2022-02-10T12:11:38.222Z"
   },
   {
    "duration": -254,
    "start_time": "2022-02-10T12:11:38.225Z"
   },
   {
    "duration": -255,
    "start_time": "2022-02-10T12:11:38.227Z"
   },
   {
    "duration": -257,
    "start_time": "2022-02-10T12:11:38.230Z"
   },
   {
    "duration": -258,
    "start_time": "2022-02-10T12:11:38.233Z"
   },
   {
    "duration": -260,
    "start_time": "2022-02-10T12:11:38.236Z"
   },
   {
    "duration": -262,
    "start_time": "2022-02-10T12:11:38.239Z"
   },
   {
    "duration": -264,
    "start_time": "2022-02-10T12:11:38.242Z"
   },
   {
    "duration": -265,
    "start_time": "2022-02-10T12:11:38.244Z"
   },
   {
    "duration": -267,
    "start_time": "2022-02-10T12:11:38.247Z"
   },
   {
    "duration": -269,
    "start_time": "2022-02-10T12:11:38.250Z"
   },
   {
    "duration": -271,
    "start_time": "2022-02-10T12:11:38.253Z"
   },
   {
    "duration": -273,
    "start_time": "2022-02-10T12:11:38.256Z"
   },
   {
    "duration": -274,
    "start_time": "2022-02-10T12:11:38.259Z"
   },
   {
    "duration": -303,
    "start_time": "2022-02-10T12:11:38.289Z"
   },
   {
    "duration": -312,
    "start_time": "2022-02-10T12:11:38.299Z"
   },
   {
    "duration": -314,
    "start_time": "2022-02-10T12:11:38.302Z"
   },
   {
    "duration": -316,
    "start_time": "2022-02-10T12:11:38.305Z"
   },
   {
    "duration": -318,
    "start_time": "2022-02-10T12:11:38.308Z"
   },
   {
    "duration": -320,
    "start_time": "2022-02-10T12:11:38.311Z"
   },
   {
    "duration": -321,
    "start_time": "2022-02-10T12:11:38.314Z"
   },
   {
    "duration": 13,
    "start_time": "2022-02-10T12:12:42.858Z"
   },
   {
    "duration": 27,
    "start_time": "2022-02-10T12:12:44.978Z"
   },
   {
    "duration": 84,
    "start_time": "2022-02-10T12:12:45.341Z"
   },
   {
    "duration": 297,
    "start_time": "2022-02-10T12:12:49.698Z"
   },
   {
    "duration": 9,
    "start_time": "2022-02-10T12:12:57.333Z"
   },
   {
    "duration": 15,
    "start_time": "2022-02-10T12:13:05.138Z"
   },
   {
    "duration": 35,
    "start_time": "2022-02-10T12:13:08.011Z"
   },
   {
    "duration": 8,
    "start_time": "2022-02-10T12:13:08.338Z"
   },
   {
    "duration": 87,
    "start_time": "2022-02-10T12:13:11.046Z"
   },
   {
    "duration": 12,
    "start_time": "2022-02-10T12:13:11.733Z"
   },
   {
    "duration": 12960,
    "start_time": "2022-02-10T12:13:13.698Z"
   },
   {
    "duration": -586,
    "start_time": "2022-02-10T12:13:27.246Z"
   },
   {
    "duration": 2963,
    "start_time": "2022-02-10T12:16:16.228Z"
   },
   {
    "duration": 503,
    "start_time": "2022-02-10T12:17:26.846Z"
   },
   {
    "duration": 632,
    "start_time": "2022-02-10T12:22:36.094Z"
   },
   {
    "duration": 39530,
    "start_time": "2022-02-10T12:26:57.686Z"
   },
   {
    "duration": 35,
    "start_time": "2022-02-10T12:34:35.778Z"
   },
   {
    "duration": 4,
    "start_time": "2022-02-10T12:43:26.668Z"
   },
   {
    "duration": 49,
    "start_time": "2022-02-10T12:43:41.659Z"
   },
   {
    "duration": 3,
    "start_time": "2022-02-10T12:44:04.585Z"
   },
   {
    "duration": 62,
    "start_time": "2022-02-10T12:44:05.446Z"
   },
   {
    "duration": 36,
    "start_time": "2022-02-10T12:44:21.508Z"
   },
   {
    "duration": 91,
    "start_time": "2022-02-10T12:44:37.291Z"
   },
   {
    "duration": 22874,
    "start_time": "2022-02-10T12:44:49.294Z"
   },
   {
    "duration": 5,
    "start_time": "2022-02-10T12:45:32.012Z"
   },
   {
    "duration": 28,
    "start_time": "2022-02-10T12:46:01.693Z"
   },
   {
    "duration": 35,
    "start_time": "2022-02-10T12:46:15.475Z"
   },
   {
    "duration": 86,
    "start_time": "2022-02-10T12:46:28.459Z"
   },
   {
    "duration": 23345,
    "start_time": "2022-02-10T12:46:43.895Z"
   },
   {
    "duration": 7,
    "start_time": "2022-02-10T12:52:18.209Z"
   },
   {
    "duration": 4,
    "start_time": "2022-02-10T12:52:20.983Z"
   },
   {
    "duration": 13,
    "start_time": "2022-02-10T12:52:30.743Z"
   },
   {
    "duration": 7,
    "start_time": "2022-02-10T12:52:31.658Z"
   },
   {
    "duration": 32093,
    "start_time": "2022-02-10T12:52:36.900Z"
   },
   {
    "duration": 17,
    "start_time": "2022-02-10T12:54:36.813Z"
   },
   {
    "duration": 8,
    "start_time": "2022-02-10T12:54:38.389Z"
   },
   {
    "duration": 38,
    "start_time": "2022-02-10T12:54:58.989Z"
   },
   {
    "duration": 6,
    "start_time": "2022-02-10T12:55:00.247Z"
   },
   {
    "duration": 5,
    "start_time": "2022-02-10T12:59:49.198Z"
   },
   {
    "duration": 313,
    "start_time": "2022-02-10T13:01:00.108Z"
   },
   {
    "duration": 494,
    "start_time": "2022-02-10T13:05:57.903Z"
   },
   {
    "duration": 768,
    "start_time": "2022-02-10T13:05:58.399Z"
   },
   {
    "duration": 27,
    "start_time": "2022-02-10T13:05:59.169Z"
   },
   {
    "duration": 21,
    "start_time": "2022-02-10T13:05:59.198Z"
   },
   {
    "duration": 11,
    "start_time": "2022-02-10T13:05:59.221Z"
   },
   {
    "duration": 40,
    "start_time": "2022-02-10T13:05:59.234Z"
   },
   {
    "duration": 31,
    "start_time": "2022-02-10T13:05:59.277Z"
   },
   {
    "duration": 16,
    "start_time": "2022-02-10T13:05:59.310Z"
   },
   {
    "duration": 6,
    "start_time": "2022-02-10T13:05:59.330Z"
   },
   {
    "duration": 17,
    "start_time": "2022-02-10T13:05:59.338Z"
   },
   {
    "duration": 9,
    "start_time": "2022-02-10T13:05:59.357Z"
   },
   {
    "duration": 48,
    "start_time": "2022-02-10T13:05:59.368Z"
   },
   {
    "duration": 1936,
    "start_time": "2022-02-10T13:05:59.418Z"
   },
   {
    "duration": 19,
    "start_time": "2022-02-10T13:06:01.357Z"
   },
   {
    "duration": 1909,
    "start_time": "2022-02-10T13:06:01.378Z"
   },
   {
    "duration": 5,
    "start_time": "2022-02-10T13:06:03.290Z"
   },
   {
    "duration": 8,
    "start_time": "2022-02-10T13:06:03.308Z"
   },
   {
    "duration": 14,
    "start_time": "2022-02-10T13:06:03.319Z"
   },
   {
    "duration": 9,
    "start_time": "2022-02-10T13:06:03.335Z"
   },
   {
    "duration": 17,
    "start_time": "2022-02-10T13:06:03.346Z"
   },
   {
    "duration": 50,
    "start_time": "2022-02-10T13:06:03.365Z"
   },
   {
    "duration": 213,
    "start_time": "2022-02-10T13:06:03.417Z"
   },
   {
    "duration": 101,
    "start_time": "2022-02-10T13:06:03.632Z"
   },
   {
    "duration": 33440,
    "start_time": "2022-02-10T13:06:03.735Z"
   },
   {
    "duration": 39,
    "start_time": "2022-02-10T13:06:37.177Z"
   },
   {
    "duration": 207,
    "start_time": "2022-02-10T13:06:37.218Z"
   },
   {
    "duration": 103,
    "start_time": "2022-02-10T13:06:37.429Z"
   },
   {
    "duration": 6,
    "start_time": "2022-02-10T13:08:40.330Z"
   },
   {
    "duration": 581,
    "start_time": "2022-02-10T13:09:00.782Z"
   },
   {
    "duration": 868,
    "start_time": "2022-02-10T13:09:01.365Z"
   },
   {
    "duration": 30,
    "start_time": "2022-02-10T13:09:02.237Z"
   },
   {
    "duration": 20,
    "start_time": "2022-02-10T13:09:02.270Z"
   },
   {
    "duration": 12,
    "start_time": "2022-02-10T13:09:02.307Z"
   },
   {
    "duration": 57,
    "start_time": "2022-02-10T13:09:02.321Z"
   },
   {
    "duration": 6,
    "start_time": "2022-02-10T13:09:02.380Z"
   },
   {
    "duration": 37,
    "start_time": "2022-02-10T13:09:02.408Z"
   },
   {
    "duration": 10,
    "start_time": "2022-02-10T13:09:02.450Z"
   },
   {
    "duration": 16,
    "start_time": "2022-02-10T13:09:02.462Z"
   },
   {
    "duration": 32,
    "start_time": "2022-02-10T13:09:02.480Z"
   },
   {
    "duration": 39,
    "start_time": "2022-02-10T13:09:02.513Z"
   },
   {
    "duration": 1953,
    "start_time": "2022-02-10T13:09:02.554Z"
   },
   {
    "duration": 19,
    "start_time": "2022-02-10T13:09:04.510Z"
   },
   {
    "duration": 2442,
    "start_time": "2022-02-10T13:09:04.531Z"
   },
   {
    "duration": 5,
    "start_time": "2022-02-10T13:09:06.975Z"
   },
   {
    "duration": 28,
    "start_time": "2022-02-10T13:09:06.982Z"
   },
   {
    "duration": 7,
    "start_time": "2022-02-10T13:09:07.013Z"
   },
   {
    "duration": 4,
    "start_time": "2022-02-10T13:09:07.022Z"
   },
   {
    "duration": 8,
    "start_time": "2022-02-10T13:09:07.029Z"
   },
   {
    "duration": 275,
    "start_time": "2022-02-10T13:09:07.041Z"
   },
   {
    "duration": 61,
    "start_time": "2022-02-10T13:09:07.410Z"
   },
   {
    "duration": 191,
    "start_time": "2022-02-10T13:09:07.479Z"
   },
   {
    "duration": 41423,
    "start_time": "2022-02-10T13:09:07.673Z"
   },
   {
    "duration": 113,
    "start_time": "2022-02-10T13:09:49.099Z"
   },
   {
    "duration": 201,
    "start_time": "2022-02-10T13:09:49.216Z"
   },
   {
    "duration": 102,
    "start_time": "2022-02-10T13:09:49.420Z"
   },
   {
    "duration": 39469,
    "start_time": "2022-02-10T13:09:49.525Z"
   },
   {
    "duration": 15,
    "start_time": "2022-02-10T13:10:28.997Z"
   },
   {
    "duration": 15,
    "start_time": "2022-02-10T13:10:29.014Z"
   },
   {
    "duration": 35,
    "start_time": "2022-02-10T13:10:29.031Z"
   },
   {
    "duration": 11,
    "start_time": "2022-02-10T13:10:29.068Z"
   },
   {
    "duration": 135,
    "start_time": "2022-02-10T13:10:29.081Z"
   },
   {
    "duration": 224,
    "start_time": "2022-02-10T13:10:29.219Z"
   },
   {
    "duration": 134,
    "start_time": "2022-02-10T13:10:29.445Z"
   },
   {
    "duration": 47102,
    "start_time": "2022-02-10T13:10:29.581Z"
   },
   {
    "duration": 45691,
    "start_time": "2022-02-10T13:11:16.686Z"
   },
   {
    "duration": -356,
    "start_time": "2022-02-10T13:12:02.737Z"
   },
   {
    "duration": -359,
    "start_time": "2022-02-10T13:12:02.743Z"
   },
   {
    "duration": -360,
    "start_time": "2022-02-10T13:12:02.747Z"
   },
   {
    "duration": -361,
    "start_time": "2022-02-10T13:12:02.750Z"
   },
   {
    "duration": -362,
    "start_time": "2022-02-10T13:12:02.753Z"
   },
   {
    "duration": -363,
    "start_time": "2022-02-10T13:12:02.757Z"
   },
   {
    "duration": -377,
    "start_time": "2022-02-10T13:12:02.784Z"
   },
   {
    "duration": -380,
    "start_time": "2022-02-10T13:12:02.791Z"
   },
   {
    "duration": -382,
    "start_time": "2022-02-10T13:12:02.796Z"
   },
   {
    "duration": -384,
    "start_time": "2022-02-10T13:12:02.800Z"
   },
   {
    "duration": 96298,
    "start_time": "2022-02-10T13:15:35.863Z"
   },
   {
    "duration": 483,
    "start_time": "2022-02-11T05:30:58.912Z"
   },
   {
    "duration": 685,
    "start_time": "2022-02-11T05:30:59.396Z"
   },
   {
    "duration": 27,
    "start_time": "2022-02-11T05:31:00.083Z"
   },
   {
    "duration": 16,
    "start_time": "2022-02-11T05:31:00.111Z"
   },
   {
    "duration": 15,
    "start_time": "2022-02-11T05:31:00.128Z"
   },
   {
    "duration": 43,
    "start_time": "2022-02-11T05:31:00.145Z"
   },
   {
    "duration": 4,
    "start_time": "2022-02-11T05:31:00.189Z"
   },
   {
    "duration": 14,
    "start_time": "2022-02-11T05:31:00.194Z"
   },
   {
    "duration": 4,
    "start_time": "2022-02-11T05:31:00.210Z"
   },
   {
    "duration": 16,
    "start_time": "2022-02-11T05:31:00.216Z"
   },
   {
    "duration": 11,
    "start_time": "2022-02-11T05:31:00.233Z"
   },
   {
    "duration": 32,
    "start_time": "2022-02-11T05:31:00.245Z"
   },
   {
    "duration": 1522,
    "start_time": "2022-02-11T05:31:00.278Z"
   },
   {
    "duration": 25,
    "start_time": "2022-02-11T05:31:01.802Z"
   },
   {
    "duration": 1513,
    "start_time": "2022-02-11T05:31:01.829Z"
   },
   {
    "duration": 4,
    "start_time": "2022-02-11T05:31:03.343Z"
   },
   {
    "duration": 9,
    "start_time": "2022-02-11T05:31:03.348Z"
   },
   {
    "duration": 7,
    "start_time": "2022-02-11T05:31:03.358Z"
   },
   {
    "duration": 5,
    "start_time": "2022-02-11T05:31:03.366Z"
   },
   {
    "duration": 8,
    "start_time": "2022-02-11T05:31:03.372Z"
   },
   {
    "duration": 145,
    "start_time": "2022-02-11T05:31:03.381Z"
   },
   {
    "duration": 117,
    "start_time": "2022-02-11T05:31:03.529Z"
   },
   {
    "duration": 84,
    "start_time": "2022-02-11T05:31:03.648Z"
   },
   {
    "duration": 19136,
    "start_time": "2022-02-11T05:31:03.734Z"
   },
   {
    "duration": 20,
    "start_time": "2022-02-11T05:31:22.872Z"
   },
   {
    "duration": 156,
    "start_time": "2022-02-11T05:31:22.894Z"
   },
   {
    "duration": 79,
    "start_time": "2022-02-11T05:31:23.053Z"
   },
   {
    "duration": 19526,
    "start_time": "2022-02-11T05:31:23.134Z"
   },
   {
    "duration": 9,
    "start_time": "2022-02-11T05:31:42.662Z"
   },
   {
    "duration": 4,
    "start_time": "2022-02-11T05:31:42.672Z"
   },
   {
    "duration": 17,
    "start_time": "2022-02-11T05:31:42.677Z"
   },
   {
    "duration": 5,
    "start_time": "2022-02-11T05:31:42.696Z"
   },
   {
    "duration": 40,
    "start_time": "2022-02-11T05:31:42.702Z"
   },
   {
    "duration": 208,
    "start_time": "2022-02-11T05:31:42.744Z"
   },
   {
    "duration": 99,
    "start_time": "2022-02-11T05:31:42.953Z"
   },
   {
    "duration": 20614,
    "start_time": "2022-02-11T05:31:43.054Z"
   },
   {
    "duration": 75507,
    "start_time": "2022-02-11T05:32:03.670Z"
   },
   {
    "duration": 803,
    "start_time": "2022-02-11T05:33:19.179Z"
   },
   {
    "duration": -73,
    "start_time": "2022-02-11T05:33:20.057Z"
   },
   {
    "duration": -76,
    "start_time": "2022-02-11T05:33:20.061Z"
   },
   {
    "duration": -93,
    "start_time": "2022-02-11T05:33:20.079Z"
   },
   {
    "duration": -105,
    "start_time": "2022-02-11T05:33:20.091Z"
   },
   {
    "duration": -107,
    "start_time": "2022-02-11T05:33:20.094Z"
   },
   {
    "duration": -109,
    "start_time": "2022-02-11T05:33:20.097Z"
   },
   {
    "duration": -111,
    "start_time": "2022-02-11T05:33:20.100Z"
   },
   {
    "duration": -113,
    "start_time": "2022-02-11T05:33:20.103Z"
   },
   {
    "duration": -115,
    "start_time": "2022-02-11T05:33:20.106Z"
   },
   {
    "duration": 6427,
    "start_time": "2022-02-11T05:35:31.766Z"
   },
   {
    "duration": 2232,
    "start_time": "2022-02-11T05:35:47.607Z"
   },
   {
    "duration": 1490,
    "start_time": "2022-02-11T05:35:51.632Z"
   },
   {
    "duration": -45,
    "start_time": "2022-02-11T05:35:53.169Z"
   },
   {
    "duration": 82,
    "start_time": "2022-02-11T05:36:34.264Z"
   },
   {
    "duration": 175,
    "start_time": "2022-02-11T05:36:51.763Z"
   },
   {
    "duration": 881725,
    "start_time": "2022-02-11T05:37:31.837Z"
   },
   {
    "duration": 15198,
    "start_time": "2022-02-11T05:52:13.564Z"
   },
   {
    "duration": 316,
    "start_time": "2022-02-11T05:52:28.764Z"
   },
   {
    "duration": -80,
    "start_time": "2022-02-11T05:52:29.163Z"
   },
   {
    "duration": 6,
    "start_time": "2022-02-11T05:52:40.151Z"
   },
   {
    "duration": 175,
    "start_time": "2022-02-11T05:52:43.446Z"
   },
   {
    "duration": 374,
    "start_time": "2022-02-11T06:19:37.161Z"
   },
   {
    "duration": 160,
    "start_time": "2022-02-11T06:19:41.631Z"
   },
   {
    "duration": 11,
    "start_time": "2022-02-11T06:19:43.446Z"
   },
   {
    "duration": 454,
    "start_time": "2022-02-11T06:20:18.372Z"
   },
   {
    "duration": 685,
    "start_time": "2022-02-11T06:20:18.827Z"
   },
   {
    "duration": 27,
    "start_time": "2022-02-11T06:20:19.514Z"
   },
   {
    "duration": 13,
    "start_time": "2022-02-11T06:20:19.543Z"
   },
   {
    "duration": 8,
    "start_time": "2022-02-11T06:20:19.557Z"
   },
   {
    "duration": 31,
    "start_time": "2022-02-11T06:20:19.567Z"
   },
   {
    "duration": 4,
    "start_time": "2022-02-11T06:20:19.599Z"
   },
   {
    "duration": 30,
    "start_time": "2022-02-11T06:20:19.604Z"
   },
   {
    "duration": 4,
    "start_time": "2022-02-11T06:20:19.636Z"
   },
   {
    "duration": 5,
    "start_time": "2022-02-11T06:20:19.642Z"
   },
   {
    "duration": 4,
    "start_time": "2022-02-11T06:20:19.648Z"
   },
   {
    "duration": 16,
    "start_time": "2022-02-11T06:20:19.654Z"
   },
   {
    "duration": 1728,
    "start_time": "2022-02-11T06:20:19.671Z"
   },
   {
    "duration": 15,
    "start_time": "2022-02-11T06:20:21.400Z"
   },
   {
    "duration": 1547,
    "start_time": "2022-02-11T06:20:21.417Z"
   },
   {
    "duration": 3,
    "start_time": "2022-02-11T06:20:22.966Z"
   },
   {
    "duration": 7,
    "start_time": "2022-02-11T06:20:22.971Z"
   },
   {
    "duration": 6,
    "start_time": "2022-02-11T06:20:22.980Z"
   },
   {
    "duration": 3,
    "start_time": "2022-02-11T06:20:22.988Z"
   },
   {
    "duration": 118,
    "start_time": "2022-02-11T06:20:22.992Z"
   },
   {
    "duration": -117,
    "start_time": "2022-02-11T06:20:23.229Z"
   },
   {
    "duration": -119,
    "start_time": "2022-02-11T06:20:23.232Z"
   },
   {
    "duration": -121,
    "start_time": "2022-02-11T06:20:23.235Z"
   },
   {
    "duration": -123,
    "start_time": "2022-02-11T06:20:23.238Z"
   },
   {
    "duration": -125,
    "start_time": "2022-02-11T06:20:23.241Z"
   },
   {
    "duration": -127,
    "start_time": "2022-02-11T06:20:23.244Z"
   },
   {
    "duration": -128,
    "start_time": "2022-02-11T06:20:23.246Z"
   },
   {
    "duration": -130,
    "start_time": "2022-02-11T06:20:23.249Z"
   },
   {
    "duration": -131,
    "start_time": "2022-02-11T06:20:23.251Z"
   },
   {
    "duration": -133,
    "start_time": "2022-02-11T06:20:23.254Z"
   },
   {
    "duration": -135,
    "start_time": "2022-02-11T06:20:23.257Z"
   },
   {
    "duration": -137,
    "start_time": "2022-02-11T06:20:23.260Z"
   },
   {
    "duration": -138,
    "start_time": "2022-02-11T06:20:23.262Z"
   },
   {
    "duration": -142,
    "start_time": "2022-02-11T06:20:23.266Z"
   },
   {
    "duration": -143,
    "start_time": "2022-02-11T06:20:23.268Z"
   },
   {
    "duration": -145,
    "start_time": "2022-02-11T06:20:23.271Z"
   },
   {
    "duration": -147,
    "start_time": "2022-02-11T06:20:23.274Z"
   },
   {
    "duration": -149,
    "start_time": "2022-02-11T06:20:23.277Z"
   },
   {
    "duration": -150,
    "start_time": "2022-02-11T06:20:23.279Z"
   },
   {
    "duration": -152,
    "start_time": "2022-02-11T06:20:23.282Z"
   },
   {
    "duration": -154,
    "start_time": "2022-02-11T06:20:23.285Z"
   },
   {
    "duration": -157,
    "start_time": "2022-02-11T06:20:23.288Z"
   },
   {
    "duration": -159,
    "start_time": "2022-02-11T06:20:23.291Z"
   },
   {
    "duration": -161,
    "start_time": "2022-02-11T06:20:23.294Z"
   },
   {
    "duration": -171,
    "start_time": "2022-02-11T06:20:23.305Z"
   },
   {
    "duration": -174,
    "start_time": "2022-02-11T06:20:23.309Z"
   },
   {
    "duration": -175,
    "start_time": "2022-02-11T06:20:23.311Z"
   },
   {
    "duration": -177,
    "start_time": "2022-02-11T06:20:23.314Z"
   },
   {
    "duration": 110,
    "start_time": "2022-02-11T06:20:36.711Z"
   },
   {
    "duration": 4,
    "start_time": "2022-02-11T06:20:54.814Z"
   },
   {
    "duration": 852,
    "start_time": "2022-02-11T06:20:57.803Z"
   },
   {
    "duration": 644,
    "start_time": "2022-02-11T06:20:58.710Z"
   },
   {
    "duration": 14,
    "start_time": "2022-02-11T06:24:39.358Z"
   },
   {
    "duration": 16,
    "start_time": "2022-02-11T06:24:59.111Z"
   },
   {
    "duration": 4,
    "start_time": "2022-02-11T06:27:20.671Z"
   },
   {
    "duration": 15,
    "start_time": "2022-02-11T06:27:21.813Z"
   },
   {
    "duration": 718,
    "start_time": "2022-02-11T06:27:27.683Z"
   },
   {
    "duration": 4,
    "start_time": "2022-02-11T06:27:35.723Z"
   },
   {
    "duration": 24,
    "start_time": "2022-02-11T06:27:36.391Z"
   },
   {
    "duration": 30,
    "start_time": "2022-02-11T06:27:38.957Z"
   },
   {
    "duration": 66,
    "start_time": "2022-02-11T06:27:45.083Z"
   },
   {
    "duration": 21128,
    "start_time": "2022-02-11T06:27:45.774Z"
   },
   {
    "duration": 157,
    "start_time": "2022-02-11T06:45:14.614Z"
   },
   {
    "duration": 4,
    "start_time": "2022-02-11T06:45:23.294Z"
   },
   {
    "duration": 21,
    "start_time": "2022-02-11T06:45:26.184Z"
   },
   {
    "duration": 28,
    "start_time": "2022-02-11T06:45:39.164Z"
   },
   {
    "duration": 66,
    "start_time": "2022-02-11T06:45:39.991Z"
   },
   {
    "duration": 23155,
    "start_time": "2022-02-11T06:45:40.764Z"
   },
   {
    "duration": 3,
    "start_time": "2022-02-11T06:46:03.920Z"
   },
   {
    "duration": 5,
    "start_time": "2022-02-11T06:48:58.493Z"
   },
   {
    "duration": 22,
    "start_time": "2022-02-11T06:48:59.763Z"
   },
   {
    "duration": 29,
    "start_time": "2022-02-11T06:49:00.832Z"
   },
   {
    "duration": 66,
    "start_time": "2022-02-11T06:49:02.912Z"
   },
   {
    "duration": 19424,
    "start_time": "2022-02-11T06:49:03.431Z"
   },
   {
    "duration": 3,
    "start_time": "2022-02-11T06:49:22.856Z"
   },
   {
    "duration": 3,
    "start_time": "2022-02-11T06:51:26.639Z"
   },
   {
    "duration": 7,
    "start_time": "2022-02-11T06:51:30.833Z"
   },
   {
    "duration": 5,
    "start_time": "2022-02-11T06:53:07.173Z"
   },
   {
    "duration": 7,
    "start_time": "2022-02-11T06:54:29.031Z"
   },
   {
    "duration": 5,
    "start_time": "2022-02-11T06:58:20.719Z"
   },
   {
    "duration": 8,
    "start_time": "2022-02-11T06:58:25.321Z"
   },
   {
    "duration": 3,
    "start_time": "2022-02-11T07:07:10.639Z"
   },
   {
    "duration": 4,
    "start_time": "2022-02-11T07:07:42.159Z"
   },
   {
    "duration": 5,
    "start_time": "2022-02-11T07:07:55.244Z"
   },
   {
    "duration": 8,
    "start_time": "2022-02-11T07:08:07.038Z"
   },
   {
    "duration": 24,
    "start_time": "2022-02-11T07:08:12.871Z"
   },
   {
    "duration": 28,
    "start_time": "2022-02-11T07:08:13.712Z"
   },
   {
    "duration": 65,
    "start_time": "2022-02-11T07:08:14.404Z"
   },
   {
    "duration": 18803,
    "start_time": "2022-02-11T07:08:16.579Z"
   },
   {
    "duration": 654,
    "start_time": "2022-02-11T07:08:35.384Z"
   },
   {
    "duration": 5,
    "start_time": "2022-02-11T07:41:32.529Z"
   },
   {
    "duration": 23,
    "start_time": "2022-02-11T07:41:33.911Z"
   },
   {
    "duration": 32,
    "start_time": "2022-02-11T07:41:34.718Z"
   },
   {
    "duration": 66,
    "start_time": "2022-02-11T07:41:36.032Z"
   },
   {
    "duration": 19294,
    "start_time": "2022-02-11T07:41:37.618Z"
   },
   {
    "duration": 337,
    "start_time": "2022-02-11T07:42:29.803Z"
   },
   {
    "duration": 4,
    "start_time": "2022-02-11T07:44:25.247Z"
   },
   {
    "duration": 3,
    "start_time": "2022-02-11T07:44:38.283Z"
   },
   {
    "duration": 641,
    "start_time": "2022-02-11T07:44:41.813Z"
   },
   {
    "duration": 1147,
    "start_time": "2022-02-11T07:44:50.019Z"
   },
   {
    "duration": 4,
    "start_time": "2022-02-11T07:44:55.711Z"
   },
   {
    "duration": 862,
    "start_time": "2022-02-11T07:44:59.820Z"
   },
   {
    "duration": 4,
    "start_time": "2022-02-11T07:47:03.413Z"
   },
   {
    "duration": 4,
    "start_time": "2022-02-11T07:48:39.719Z"
   },
   {
    "duration": 3,
    "start_time": "2022-02-11T07:48:46.038Z"
   },
   {
    "duration": 692,
    "start_time": "2022-02-11T07:48:48.939Z"
   },
   {
    "duration": 4,
    "start_time": "2022-02-11T07:49:05.551Z"
   },
   {
    "duration": 3,
    "start_time": "2022-02-11T07:49:11.438Z"
   },
   {
    "duration": 4,
    "start_time": "2022-02-11T07:49:16.814Z"
   },
   {
    "duration": 700,
    "start_time": "2022-02-11T07:49:20.571Z"
   },
   {
    "duration": 4,
    "start_time": "2022-02-11T07:49:30.317Z"
   },
   {
    "duration": 733,
    "start_time": "2022-02-11T07:49:32.911Z"
   },
   {
    "duration": 441,
    "start_time": "2022-02-11T07:49:44.048Z"
   },
   {
    "duration": 655,
    "start_time": "2022-02-11T07:49:44.491Z"
   },
   {
    "duration": 27,
    "start_time": "2022-02-11T07:49:45.148Z"
   },
   {
    "duration": 14,
    "start_time": "2022-02-11T07:49:45.177Z"
   },
   {
    "duration": 7,
    "start_time": "2022-02-11T07:49:45.192Z"
   },
   {
    "duration": 45,
    "start_time": "2022-02-11T07:49:45.201Z"
   },
   {
    "duration": 4,
    "start_time": "2022-02-11T07:49:45.247Z"
   },
   {
    "duration": 12,
    "start_time": "2022-02-11T07:49:45.254Z"
   },
   {
    "duration": 5,
    "start_time": "2022-02-11T07:49:45.268Z"
   },
   {
    "duration": 6,
    "start_time": "2022-02-11T07:49:45.275Z"
   },
   {
    "duration": 5,
    "start_time": "2022-02-11T07:49:45.283Z"
   },
   {
    "duration": 53,
    "start_time": "2022-02-11T07:49:45.289Z"
   },
   {
    "duration": 1570,
    "start_time": "2022-02-11T07:49:45.344Z"
   },
   {
    "duration": 19,
    "start_time": "2022-02-11T07:49:46.915Z"
   },
   {
    "duration": 1503,
    "start_time": "2022-02-11T07:49:46.935Z"
   },
   {
    "duration": 4,
    "start_time": "2022-02-11T07:49:48.440Z"
   },
   {
    "duration": 7,
    "start_time": "2022-02-11T07:49:48.445Z"
   },
   {
    "duration": 6,
    "start_time": "2022-02-11T07:49:48.453Z"
   },
   {
    "duration": 3,
    "start_time": "2022-02-11T07:49:48.460Z"
   },
   {
    "duration": 5,
    "start_time": "2022-02-11T07:49:48.465Z"
   },
   {
    "duration": 4,
    "start_time": "2022-02-11T07:49:48.472Z"
   },
   {
    "duration": 60,
    "start_time": "2022-02-11T07:49:48.477Z"
   },
   {
    "duration": 207,
    "start_time": "2022-02-11T07:49:48.541Z"
   },
   {
    "duration": 202,
    "start_time": "2022-02-11T07:49:48.750Z"
   },
   {
    "duration": 20163,
    "start_time": "2022-02-11T07:49:48.954Z"
   },
   {
    "duration": 4,
    "start_time": "2022-02-11T07:50:09.119Z"
   },
   {
    "duration": 751,
    "start_time": "2022-02-11T07:50:09.125Z"
   },
   {
    "duration": -120,
    "start_time": "2022-02-11T07:50:09.998Z"
   },
   {
    "duration": -123,
    "start_time": "2022-02-11T07:50:10.002Z"
   },
   {
    "duration": -125,
    "start_time": "2022-02-11T07:50:10.005Z"
   },
   {
    "duration": -127,
    "start_time": "2022-02-11T07:50:10.008Z"
   },
   {
    "duration": -129,
    "start_time": "2022-02-11T07:50:10.011Z"
   },
   {
    "duration": -130,
    "start_time": "2022-02-11T07:50:10.014Z"
   },
   {
    "duration": -132,
    "start_time": "2022-02-11T07:50:10.017Z"
   },
   {
    "duration": -135,
    "start_time": "2022-02-11T07:50:10.021Z"
   },
   {
    "duration": -136,
    "start_time": "2022-02-11T07:50:10.023Z"
   },
   {
    "duration": -138,
    "start_time": "2022-02-11T07:50:10.026Z"
   },
   {
    "duration": -140,
    "start_time": "2022-02-11T07:50:10.029Z"
   },
   {
    "duration": -144,
    "start_time": "2022-02-11T07:50:10.034Z"
   },
   {
    "duration": -147,
    "start_time": "2022-02-11T07:50:10.038Z"
   },
   {
    "duration": -150,
    "start_time": "2022-02-11T07:50:10.042Z"
   },
   {
    "duration": -153,
    "start_time": "2022-02-11T07:50:10.045Z"
   },
   {
    "duration": -156,
    "start_time": "2022-02-11T07:50:10.049Z"
   },
   {
    "duration": -166,
    "start_time": "2022-02-11T07:50:10.060Z"
   },
   {
    "duration": -169,
    "start_time": "2022-02-11T07:50:10.064Z"
   },
   {
    "duration": -170,
    "start_time": "2022-02-11T07:50:10.066Z"
   },
   {
    "duration": -173,
    "start_time": "2022-02-11T07:50:10.070Z"
   },
   {
    "duration": -175,
    "start_time": "2022-02-11T07:50:10.073Z"
   },
   {
    "duration": -177,
    "start_time": "2022-02-11T07:50:10.076Z"
   },
   {
    "duration": -179,
    "start_time": "2022-02-11T07:50:10.079Z"
   },
   {
    "duration": -181,
    "start_time": "2022-02-11T07:50:10.082Z"
   },
   {
    "duration": -183,
    "start_time": "2022-02-11T07:50:10.085Z"
   },
   {
    "duration": 3,
    "start_time": "2022-02-11T07:51:16.745Z"
   },
   {
    "duration": 644,
    "start_time": "2022-02-11T07:51:19.957Z"
   },
   {
    "duration": 4,
    "start_time": "2022-02-11T07:51:34.167Z"
   },
   {
    "duration": 8,
    "start_time": "2022-02-11T07:51:36.985Z"
   },
   {
    "duration": 457,
    "start_time": "2022-02-11T07:52:07.952Z"
   },
   {
    "duration": 670,
    "start_time": "2022-02-11T07:52:08.411Z"
   },
   {
    "duration": 35,
    "start_time": "2022-02-11T07:52:09.083Z"
   },
   {
    "duration": 17,
    "start_time": "2022-02-11T07:52:09.120Z"
   },
   {
    "duration": 9,
    "start_time": "2022-02-11T07:52:09.139Z"
   },
   {
    "duration": 43,
    "start_time": "2022-02-11T07:52:09.150Z"
   },
   {
    "duration": 5,
    "start_time": "2022-02-11T07:52:09.195Z"
   },
   {
    "duration": 39,
    "start_time": "2022-02-11T07:52:09.201Z"
   },
   {
    "duration": 5,
    "start_time": "2022-02-11T07:52:09.242Z"
   },
   {
    "duration": 8,
    "start_time": "2022-02-11T07:52:09.248Z"
   },
   {
    "duration": 5,
    "start_time": "2022-02-11T07:52:09.258Z"
   },
   {
    "duration": 17,
    "start_time": "2022-02-11T07:52:09.265Z"
   },
   {
    "duration": 1524,
    "start_time": "2022-02-11T07:52:09.284Z"
   },
   {
    "duration": 26,
    "start_time": "2022-02-11T07:52:10.810Z"
   },
   {
    "duration": 1513,
    "start_time": "2022-02-11T07:52:10.838Z"
   },
   {
    "duration": 4,
    "start_time": "2022-02-11T07:52:12.352Z"
   },
   {
    "duration": 8,
    "start_time": "2022-02-11T07:52:12.358Z"
   },
   {
    "duration": 5,
    "start_time": "2022-02-11T07:52:12.367Z"
   },
   {
    "duration": 3,
    "start_time": "2022-02-11T07:52:12.374Z"
   },
   {
    "duration": 4,
    "start_time": "2022-02-11T07:52:12.378Z"
   },
   {
    "duration": 5,
    "start_time": "2022-02-11T07:52:12.384Z"
   },
   {
    "duration": 137,
    "start_time": "2022-02-11T07:52:12.390Z"
   },
   {
    "duration": 121,
    "start_time": "2022-02-11T07:52:12.530Z"
   },
   {
    "duration": 77,
    "start_time": "2022-02-11T07:52:12.652Z"
   },
   {
    "duration": 20115,
    "start_time": "2022-02-11T07:52:12.731Z"
   },
   {
    "duration": 7,
    "start_time": "2022-02-11T07:52:32.848Z"
   },
   {
    "duration": 75,
    "start_time": "2022-02-11T07:52:32.858Z"
   },
   {
    "duration": 114,
    "start_time": "2022-02-11T07:52:32.937Z"
   },
   {
    "duration": 136,
    "start_time": "2022-02-11T07:52:33.053Z"
   },
   {
    "duration": 19485,
    "start_time": "2022-02-11T07:52:33.191Z"
   },
   {
    "duration": 413,
    "start_time": "2022-02-11T07:52:52.677Z"
   },
   {
    "duration": -109,
    "start_time": "2022-02-11T07:52:53.200Z"
   },
   {
    "duration": -113,
    "start_time": "2022-02-11T07:52:53.205Z"
   },
   {
    "duration": -115,
    "start_time": "2022-02-11T07:52:53.208Z"
   },
   {
    "duration": -116,
    "start_time": "2022-02-11T07:52:53.210Z"
   },
   {
    "duration": -118,
    "start_time": "2022-02-11T07:52:53.213Z"
   },
   {
    "duration": -119,
    "start_time": "2022-02-11T07:52:53.215Z"
   },
   {
    "duration": -121,
    "start_time": "2022-02-11T07:52:53.218Z"
   },
   {
    "duration": -122,
    "start_time": "2022-02-11T07:52:53.220Z"
   },
   {
    "duration": -124,
    "start_time": "2022-02-11T07:52:53.223Z"
   },
   {
    "duration": -126,
    "start_time": "2022-02-11T07:52:53.226Z"
   },
   {
    "duration": -127,
    "start_time": "2022-02-11T07:52:53.228Z"
   },
   {
    "duration": -129,
    "start_time": "2022-02-11T07:52:53.231Z"
   },
   {
    "duration": -130,
    "start_time": "2022-02-11T07:52:53.233Z"
   },
   {
    "duration": -133,
    "start_time": "2022-02-11T07:52:53.237Z"
   },
   {
    "duration": -142,
    "start_time": "2022-02-11T07:52:53.247Z"
   },
   {
    "duration": -144,
    "start_time": "2022-02-11T07:52:53.250Z"
   },
   {
    "duration": -147,
    "start_time": "2022-02-11T07:52:53.253Z"
   },
   {
    "duration": -148,
    "start_time": "2022-02-11T07:52:53.255Z"
   },
   {
    "duration": -150,
    "start_time": "2022-02-11T07:52:53.258Z"
   },
   {
    "duration": -151,
    "start_time": "2022-02-11T07:52:53.260Z"
   },
   {
    "duration": 687,
    "start_time": "2022-02-11T08:24:25.479Z"
   },
   {
    "duration": 4,
    "start_time": "2022-02-11T08:33:47.928Z"
   },
   {
    "duration": 22,
    "start_time": "2022-02-11T08:33:48.776Z"
   },
   {
    "duration": 29,
    "start_time": "2022-02-11T08:33:50.266Z"
   },
   {
    "duration": 66,
    "start_time": "2022-02-11T08:33:55.249Z"
   },
   {
    "duration": 19523,
    "start_time": "2022-02-11T08:33:56.210Z"
   },
   {
    "duration": 378,
    "start_time": "2022-02-11T08:34:50.586Z"
   },
   {
    "duration": 708,
    "start_time": "2022-02-11T08:34:56.630Z"
   },
   {
    "duration": 6,
    "start_time": "2022-02-11T08:35:04.830Z"
   },
   {
    "duration": 3,
    "start_time": "2022-02-11T08:35:05.267Z"
   },
   {
    "duration": 21,
    "start_time": "2022-02-11T08:35:06.995Z"
   },
   {
    "duration": 28,
    "start_time": "2022-02-11T08:35:07.409Z"
   },
   {
    "duration": 66,
    "start_time": "2022-02-11T08:35:07.879Z"
   },
   {
    "duration": 23711,
    "start_time": "2022-02-11T08:35:10.921Z"
   },
   {
    "duration": 7,
    "start_time": "2022-02-11T08:35:34.634Z"
   },
   {
    "duration": 22,
    "start_time": "2022-02-11T08:36:12.354Z"
   },
   {
    "duration": 29,
    "start_time": "2022-02-11T08:36:13.389Z"
   },
   {
    "duration": 65,
    "start_time": "2022-02-11T08:36:14.313Z"
   },
   {
    "duration": 19915,
    "start_time": "2022-02-11T08:36:17.148Z"
   },
   {
    "duration": 8,
    "start_time": "2022-02-11T08:39:16.359Z"
   },
   {
    "duration": 5,
    "start_time": "2022-02-11T08:40:59.168Z"
   },
   {
    "duration": 4,
    "start_time": "2022-02-11T08:40:59.794Z"
   },
   {
    "duration": 23,
    "start_time": "2022-02-11T08:41:00.559Z"
   },
   {
    "duration": 30,
    "start_time": "2022-02-11T08:41:01.048Z"
   },
   {
    "duration": 67,
    "start_time": "2022-02-11T08:41:02.009Z"
   },
   {
    "duration": 18828,
    "start_time": "2022-02-11T08:41:03.234Z"
   },
   {
    "duration": 8,
    "start_time": "2022-02-11T08:41:22.063Z"
   },
   {
    "duration": 21,
    "start_time": "2022-02-11T08:41:30.289Z"
   },
   {
    "duration": 30,
    "start_time": "2022-02-11T08:41:31.067Z"
   },
   {
    "duration": 65,
    "start_time": "2022-02-11T08:41:31.874Z"
   },
   {
    "duration": 23958,
    "start_time": "2022-02-11T08:41:32.832Z"
   },
   {
    "duration": 9,
    "start_time": "2022-02-11T08:41:56.793Z"
   },
   {
    "duration": 3,
    "start_time": "2022-02-11T08:44:38.012Z"
   },
   {
    "duration": 5,
    "start_time": "2022-02-11T08:44:55.947Z"
   },
   {
    "duration": 4,
    "start_time": "2022-02-11T08:44:56.289Z"
   },
   {
    "duration": 82,
    "start_time": "2022-02-11T08:44:57.154Z"
   },
   {
    "duration": 30,
    "start_time": "2022-02-11T08:44:59.638Z"
   },
   {
    "duration": 72,
    "start_time": "2022-02-11T08:45:00.474Z"
   },
   {
    "duration": 20979,
    "start_time": "2022-02-11T08:45:01.191Z"
   },
   {
    "duration": 7,
    "start_time": "2022-02-11T08:45:22.172Z"
   },
   {
    "duration": 7,
    "start_time": "2022-02-11T08:45:22.180Z"
   },
   {
    "duration": 5,
    "start_time": "2022-02-11T08:45:37.592Z"
   },
   {
    "duration": 22,
    "start_time": "2022-02-11T08:45:38.147Z"
   },
   {
    "duration": 5,
    "start_time": "2022-02-11T08:45:38.874Z"
   },
   {
    "duration": 29,
    "start_time": "2022-02-11T08:45:42.639Z"
   },
   {
    "duration": 4,
    "start_time": "2022-02-11T08:45:47.798Z"
   },
   {
    "duration": 3,
    "start_time": "2022-02-11T08:45:50.634Z"
   },
   {
    "duration": 66,
    "start_time": "2022-02-11T08:45:51.519Z"
   },
   {
    "duration": 21979,
    "start_time": "2022-02-11T08:45:52.815Z"
   },
   {
    "duration": 4,
    "start_time": "2022-02-11T08:46:58.409Z"
   },
   {
    "duration": 4,
    "start_time": "2022-02-11T08:47:04.489Z"
   },
   {
    "duration": 4,
    "start_time": "2022-02-11T08:47:04.953Z"
   },
   {
    "duration": 21,
    "start_time": "2022-02-11T08:47:05.879Z"
   },
   {
    "duration": 29,
    "start_time": "2022-02-11T08:47:07.849Z"
   },
   {
    "duration": 67,
    "start_time": "2022-02-11T08:47:08.274Z"
   },
   {
    "duration": 19685,
    "start_time": "2022-02-11T08:47:08.754Z"
   },
   {
    "duration": 7,
    "start_time": "2022-02-11T08:47:28.441Z"
   },
   {
    "duration": 4,
    "start_time": "2022-02-11T08:47:58.479Z"
   },
   {
    "duration": 6,
    "start_time": "2022-02-11T09:03:15.440Z"
   },
   {
    "duration": 3,
    "start_time": "2022-02-11T09:03:16.287Z"
   },
   {
    "duration": 749,
    "start_time": "2022-02-11T09:03:17.831Z"
   },
   {
    "duration": 5,
    "start_time": "2022-02-11T09:04:24.876Z"
   },
   {
    "duration": 4,
    "start_time": "2022-02-11T09:04:25.986Z"
   },
   {
    "duration": 714,
    "start_time": "2022-02-11T09:04:26.958Z"
   },
   {
    "duration": 5,
    "start_time": "2022-02-11T09:04:43.967Z"
   },
   {
    "duration": 3,
    "start_time": "2022-02-11T09:04:44.430Z"
   },
   {
    "duration": 23,
    "start_time": "2022-02-11T09:04:45.311Z"
   },
   {
    "duration": 30,
    "start_time": "2022-02-11T09:04:46.368Z"
   },
   {
    "duration": 71,
    "start_time": "2022-02-11T09:04:46.962Z"
   },
   {
    "duration": 20317,
    "start_time": "2022-02-11T09:04:47.516Z"
   },
   {
    "duration": 7,
    "start_time": "2022-02-11T09:05:07.835Z"
   },
   {
    "duration": 21,
    "start_time": "2022-02-11T09:05:12.307Z"
   },
   {
    "duration": 4,
    "start_time": "2022-02-11T09:05:13.216Z"
   },
   {
    "duration": 28,
    "start_time": "2022-02-11T09:05:14.874Z"
   },
   {
    "duration": 4,
    "start_time": "2022-02-11T09:05:15.158Z"
   },
   {
    "duration": 67,
    "start_time": "2022-02-11T09:05:15.962Z"
   },
   {
    "duration": 19497,
    "start_time": "2022-02-11T09:05:16.992Z"
   },
   {
    "duration": 8,
    "start_time": "2022-02-11T09:05:36.696Z"
   },
   {
    "duration": 9,
    "start_time": "2022-02-11T09:06:31.471Z"
   },
   {
    "duration": 3,
    "start_time": "2022-02-11T09:06:32.108Z"
   },
   {
    "duration": 10,
    "start_time": "2022-02-11T09:06:34.492Z"
   },
   {
    "duration": 6,
    "start_time": "2022-02-11T09:06:35.631Z"
   },
   {
    "duration": 34,
    "start_time": "2022-02-11T09:06:58.209Z"
   },
   {
    "duration": 35,
    "start_time": "2022-02-11T09:06:59.436Z"
   },
   {
    "duration": 90,
    "start_time": "2022-02-11T09:07:00.326Z"
   },
   {
    "duration": 20178,
    "start_time": "2022-02-11T09:07:01.609Z"
   },
   {
    "duration": 8,
    "start_time": "2022-02-11T09:07:21.789Z"
   },
   {
    "duration": 4,
    "start_time": "2022-02-11T09:09:39.476Z"
   },
   {
    "duration": 7,
    "start_time": "2022-02-11T09:09:47.333Z"
   },
   {
    "duration": 6,
    "start_time": "2022-02-11T10:24:00.940Z"
   },
   {
    "duration": 684,
    "start_time": "2022-02-11T10:24:32.767Z"
   },
   {
    "duration": 3,
    "start_time": "2022-02-11T10:24:49.907Z"
   },
   {
    "duration": 4,
    "start_time": "2022-02-11T10:24:53.639Z"
   },
   {
    "duration": 25,
    "start_time": "2022-02-11T10:24:54.274Z"
   },
   {
    "duration": 9,
    "start_time": "2022-02-11T10:26:39.034Z"
   },
   {
    "duration": 215,
    "start_time": "2022-02-11T10:27:04.519Z"
   },
   {
    "duration": 176,
    "start_time": "2022-02-11T10:27:06.452Z"
   },
   {
    "duration": 5,
    "start_time": "2022-02-11T10:28:13.547Z"
   },
   {
    "duration": 718,
    "start_time": "2022-02-11T10:28:49.249Z"
   },
   {
    "duration": 727,
    "start_time": "2022-02-11T10:29:20.748Z"
   },
   {
    "duration": 645,
    "start_time": "2022-02-11T10:29:56.914Z"
   },
   {
    "duration": 425,
    "start_time": "2022-02-11T10:49:45.766Z"
   },
   {
    "duration": 24309,
    "start_time": "2022-02-11T10:49:56.068Z"
   },
   {
    "duration": 9,
    "start_time": "2022-02-11T10:50:52.016Z"
   },
   {
    "duration": 537,
    "start_time": "2022-02-11T10:52:11.990Z"
   },
   {
    "duration": 649,
    "start_time": "2022-02-11T10:52:12.528Z"
   },
   {
    "duration": 27,
    "start_time": "2022-02-11T10:52:13.179Z"
   },
   {
    "duration": 13,
    "start_time": "2022-02-11T10:52:13.208Z"
   },
   {
    "duration": 9,
    "start_time": "2022-02-11T10:52:13.222Z"
   },
   {
    "duration": 31,
    "start_time": "2022-02-11T10:52:13.232Z"
   },
   {
    "duration": 3,
    "start_time": "2022-02-11T10:52:13.264Z"
   },
   {
    "duration": 16,
    "start_time": "2022-02-11T10:52:13.270Z"
   },
   {
    "duration": 4,
    "start_time": "2022-02-11T10:52:13.288Z"
   },
   {
    "duration": 34,
    "start_time": "2022-02-11T10:52:13.293Z"
   },
   {
    "duration": 4,
    "start_time": "2022-02-11T10:52:13.328Z"
   },
   {
    "duration": 17,
    "start_time": "2022-02-11T10:52:13.333Z"
   },
   {
    "duration": 1569,
    "start_time": "2022-02-11T10:52:13.351Z"
   },
   {
    "duration": 19,
    "start_time": "2022-02-11T10:52:14.921Z"
   },
   {
    "duration": 1552,
    "start_time": "2022-02-11T10:52:14.941Z"
   },
   {
    "duration": 3,
    "start_time": "2022-02-11T10:52:16.495Z"
   },
   {
    "duration": 8,
    "start_time": "2022-02-11T10:52:16.499Z"
   },
   {
    "duration": 7,
    "start_time": "2022-02-11T10:52:16.508Z"
   },
   {
    "duration": 12,
    "start_time": "2022-02-11T10:52:16.516Z"
   },
   {
    "duration": 9,
    "start_time": "2022-02-11T10:52:16.529Z"
   },
   {
    "duration": 9,
    "start_time": "2022-02-11T10:52:16.539Z"
   },
   {
    "duration": 78,
    "start_time": "2022-02-11T10:52:16.550Z"
   },
   {
    "duration": 119,
    "start_time": "2022-02-11T10:52:16.632Z"
   },
   {
    "duration": 78,
    "start_time": "2022-02-11T10:52:16.753Z"
   },
   {
    "duration": 18773,
    "start_time": "2022-02-11T10:52:16.832Z"
   },
   {
    "duration": 7,
    "start_time": "2022-02-11T10:52:35.607Z"
   },
   {
    "duration": 25,
    "start_time": "2022-02-11T10:52:35.615Z"
   },
   {
    "duration": 201,
    "start_time": "2022-02-11T10:52:35.642Z"
   },
   {
    "duration": 62,
    "start_time": "2022-02-11T10:52:35.845Z"
   },
   {
    "duration": 18680,
    "start_time": "2022-02-11T10:52:35.908Z"
   },
   {
    "duration": 8,
    "start_time": "2022-02-11T10:52:54.589Z"
   },
   {
    "duration": 10,
    "start_time": "2022-02-11T10:52:54.598Z"
   },
   {
    "duration": 3,
    "start_time": "2022-02-11T10:52:54.610Z"
   },
   {
    "duration": 14,
    "start_time": "2022-02-11T10:52:54.614Z"
   },
   {
    "duration": 4,
    "start_time": "2022-02-11T10:52:54.629Z"
   },
   {
    "duration": 95,
    "start_time": "2022-02-11T10:52:54.634Z"
   },
   {
    "duration": 126,
    "start_time": "2022-02-11T10:52:54.734Z"
   },
   {
    "duration": 96,
    "start_time": "2022-02-11T10:52:54.861Z"
   },
   {
    "duration": 21603,
    "start_time": "2022-02-11T10:52:54.959Z"
   },
   {
    "duration": 8,
    "start_time": "2022-02-11T10:53:16.563Z"
   },
   {
    "duration": 22755,
    "start_time": "2022-02-11T10:53:16.573Z"
   },
   {
    "duration": 100,
    "start_time": "2022-02-11T10:53:39.331Z"
   },
   {
    "duration": 77595,
    "start_time": "2022-02-11T10:53:39.433Z"
   },
   {
    "duration": 5874,
    "start_time": "2022-02-11T10:54:57.030Z"
   },
   {
    "duration": 90,
    "start_time": "2022-02-11T10:55:02.906Z"
   },
   {
    "duration": 184,
    "start_time": "2022-02-11T10:55:02.997Z"
   },
   {
    "duration": 141543,
    "start_time": "2022-02-11T10:55:03.183Z"
   },
   {
    "duration": -179,
    "start_time": "2022-02-11T10:57:24.907Z"
   },
   {
    "duration": -189,
    "start_time": "2022-02-11T10:57:24.918Z"
   },
   {
    "duration": -193,
    "start_time": "2022-02-11T10:57:24.923Z"
   },
   {
    "duration": -195,
    "start_time": "2022-02-11T10:57:24.926Z"
   },
   {
    "duration": -219,
    "start_time": "2022-02-11T10:57:24.951Z"
   },
   {
    "duration": 3,
    "start_time": "2022-02-11T10:58:57.237Z"
   },
   {
    "duration": 467,
    "start_time": "2022-02-11T10:59:04.024Z"
   },
   {
    "duration": 686,
    "start_time": "2022-02-11T10:59:04.493Z"
   },
   {
    "duration": 27,
    "start_time": "2022-02-11T10:59:05.181Z"
   },
   {
    "duration": 14,
    "start_time": "2022-02-11T10:59:05.210Z"
   },
   {
    "duration": 7,
    "start_time": "2022-02-11T10:59:05.225Z"
   },
   {
    "duration": 32,
    "start_time": "2022-02-11T10:59:05.233Z"
   },
   {
    "duration": 4,
    "start_time": "2022-02-11T10:59:05.266Z"
   },
   {
    "duration": 12,
    "start_time": "2022-02-11T10:59:05.272Z"
   },
   {
    "duration": 4,
    "start_time": "2022-02-11T10:59:05.286Z"
   },
   {
    "duration": 6,
    "start_time": "2022-02-11T10:59:05.291Z"
   },
   {
    "duration": 7,
    "start_time": "2022-02-11T10:59:05.298Z"
   },
   {
    "duration": 19,
    "start_time": "2022-02-11T10:59:05.307Z"
   },
   {
    "duration": 1881,
    "start_time": "2022-02-11T10:59:05.327Z"
   },
   {
    "duration": 27,
    "start_time": "2022-02-11T10:59:07.209Z"
   },
   {
    "duration": 1533,
    "start_time": "2022-02-11T10:59:07.238Z"
   },
   {
    "duration": 4,
    "start_time": "2022-02-11T10:59:08.773Z"
   },
   {
    "duration": 15,
    "start_time": "2022-02-11T10:59:08.778Z"
   },
   {
    "duration": 6,
    "start_time": "2022-02-11T10:59:08.795Z"
   },
   {
    "duration": 4,
    "start_time": "2022-02-11T10:59:08.802Z"
   },
   {
    "duration": 23,
    "start_time": "2022-02-11T10:59:08.808Z"
   },
   {
    "duration": 16,
    "start_time": "2022-02-11T10:59:08.833Z"
   },
   {
    "duration": 80,
    "start_time": "2022-02-11T10:59:08.850Z"
   },
   {
    "duration": 122,
    "start_time": "2022-02-11T10:59:08.935Z"
   },
   {
    "duration": 106,
    "start_time": "2022-02-11T10:59:09.059Z"
   },
   {
    "duration": 18987,
    "start_time": "2022-02-11T10:59:09.167Z"
   },
   {
    "duration": 8,
    "start_time": "2022-02-11T10:59:28.155Z"
   },
   {
    "duration": 67,
    "start_time": "2022-02-11T10:59:28.164Z"
   },
   {
    "duration": 119,
    "start_time": "2022-02-11T10:59:28.233Z"
   },
   {
    "duration": 133,
    "start_time": "2022-02-11T10:59:28.354Z"
   },
   {
    "duration": 18286,
    "start_time": "2022-02-11T10:59:28.488Z"
   },
   {
    "duration": 8,
    "start_time": "2022-02-11T10:59:46.775Z"
   },
   {
    "duration": 11,
    "start_time": "2022-02-11T10:59:46.784Z"
   },
   {
    "duration": 3,
    "start_time": "2022-02-11T10:59:46.796Z"
   },
   {
    "duration": 13,
    "start_time": "2022-02-11T10:59:46.800Z"
   },
   {
    "duration": 5,
    "start_time": "2022-02-11T10:59:46.814Z"
   },
   {
    "duration": 22,
    "start_time": "2022-02-11T10:59:46.827Z"
   },
   {
    "duration": 194,
    "start_time": "2022-02-11T10:59:46.851Z"
   },
   {
    "duration": 100,
    "start_time": "2022-02-11T10:59:47.046Z"
   },
   {
    "duration": 21822,
    "start_time": "2022-02-11T10:59:47.147Z"
   },
   {
    "duration": 8,
    "start_time": "2022-02-11T11:00:08.971Z"
   },
   {
    "duration": 23662,
    "start_time": "2022-02-11T11:00:08.981Z"
   },
   {
    "duration": 397,
    "start_time": "2022-02-11T11:00:32.728Z"
   },
   {
    "duration": -62,
    "start_time": "2022-02-11T11:00:33.189Z"
   },
   {
    "duration": -84,
    "start_time": "2022-02-11T11:00:33.212Z"
   },
   {
    "duration": -87,
    "start_time": "2022-02-11T11:00:33.216Z"
   },
   {
    "duration": -89,
    "start_time": "2022-02-11T11:00:33.219Z"
   },
   {
    "duration": -92,
    "start_time": "2022-02-11T11:00:33.223Z"
   },
   {
    "duration": -96,
    "start_time": "2022-02-11T11:00:33.227Z"
   },
   {
    "duration": -104,
    "start_time": "2022-02-11T11:00:33.236Z"
   },
   {
    "duration": -106,
    "start_time": "2022-02-11T11:00:33.239Z"
   },
   {
    "duration": -109,
    "start_time": "2022-02-11T11:00:33.243Z"
   },
   {
    "duration": -111,
    "start_time": "2022-02-11T11:00:33.246Z"
   },
   {
    "duration": -113,
    "start_time": "2022-02-11T11:00:33.249Z"
   },
   {
    "duration": 323,
    "start_time": "2022-02-11T11:01:41.110Z"
   },
   {
    "duration": 313,
    "start_time": "2022-02-11T11:01:52.391Z"
   },
   {
    "duration": 171106,
    "start_time": "2022-02-11T11:01:57.865Z"
   },
   {
    "duration": -154,
    "start_time": "2022-02-11T11:04:49.127Z"
   },
   {
    "duration": 56869,
    "start_time": "2022-02-11T11:05:06.486Z"
   },
   {
    "duration": 76010,
    "start_time": "2022-02-11T11:07:02.835Z"
   },
   {
    "duration": 6527,
    "start_time": "2022-02-11T11:08:27.843Z"
   },
   {
    "duration": 83,
    "start_time": "2022-02-11T11:08:38.355Z"
   },
   {
    "duration": 177,
    "start_time": "2022-02-11T11:08:38.678Z"
   },
   {
    "duration": 908854,
    "start_time": "2022-02-11T11:09:04.205Z"
   },
   {
    "duration": 16263,
    "start_time": "2022-02-11T11:24:13.060Z"
   },
   {
    "duration": 5,
    "start_time": "2022-02-11T11:24:29.325Z"
   },
   {
    "duration": 179,
    "start_time": "2022-02-11T11:24:29.331Z"
   },
   {
    "duration": 8,
    "start_time": "2022-02-11T11:24:29.511Z"
   },
   {
    "duration": 37267,
    "start_time": "2022-02-11T11:25:50.663Z"
   },
   {
    "duration": 9,
    "start_time": "2022-02-11T11:28:54.675Z"
   },
   {
    "duration": 161,
    "start_time": "2022-02-11T11:29:22.743Z"
   },
   {
    "duration": 15,
    "start_time": "2022-02-11T11:29:23.806Z"
   },
   {
    "duration": 340,
    "start_time": "2022-02-11T11:45:54.024Z"
   },
   {
    "duration": 2050,
    "start_time": "2022-02-11T11:46:03.983Z"
   },
   {
    "duration": 2189,
    "start_time": "2022-02-11T11:47:51.343Z"
   },
   {
    "duration": 2179,
    "start_time": "2022-02-11T11:48:07.551Z"
   },
   {
    "duration": 2029,
    "start_time": "2022-02-11T11:48:12.998Z"
   },
   {
    "duration": 43317,
    "start_time": "2022-02-11T11:51:23.112Z"
   },
   {
    "duration": 5865,
    "start_time": "2022-02-11T12:03:07.395Z"
   },
   {
    "duration": 37688,
    "start_time": "2022-02-11T12:05:21.915Z"
   },
   {
    "duration": 34525,
    "start_time": "2022-02-11T12:07:03.310Z"
   },
   {
    "duration": 34719,
    "start_time": "2022-02-11T12:09:16.551Z"
   },
   {
    "duration": 34704,
    "start_time": "2022-02-11T12:10:12.476Z"
   },
   {
    "duration": 5923,
    "start_time": "2022-02-11T12:12:31.104Z"
   },
   {
    "duration": 4537,
    "start_time": "2022-02-11T12:12:57.445Z"
   },
   {
    "duration": 4171,
    "start_time": "2022-02-11T12:13:27.877Z"
   },
   {
    "duration": 3901,
    "start_time": "2022-02-11T12:15:17.751Z"
   },
   {
    "duration": 7,
    "start_time": "2022-02-11T12:15:49.543Z"
   },
   {
    "duration": 179,
    "start_time": "2022-02-11T12:15:51.703Z"
   },
   {
    "duration": 6,
    "start_time": "2022-02-11T12:16:23.071Z"
   },
   {
    "duration": 179,
    "start_time": "2022-02-11T12:16:31.290Z"
   },
   {
    "duration": 4,
    "start_time": "2022-02-11T12:17:00.766Z"
   },
   {
    "duration": 175,
    "start_time": "2022-02-11T12:17:07.390Z"
   },
   {
    "duration": 181,
    "start_time": "2022-02-11T12:23:16.903Z"
   },
   {
    "duration": 349,
    "start_time": "2022-02-11T12:23:30.510Z"
   },
   {
    "duration": 5,
    "start_time": "2022-02-11T12:23:38.071Z"
   },
   {
    "duration": 5,
    "start_time": "2022-02-11T12:23:40.626Z"
   },
   {
    "duration": 7,
    "start_time": "2022-02-11T12:23:43.471Z"
   },
   {
    "duration": 243,
    "start_time": "2022-02-11T12:23:44.110Z"
   },
   {
    "duration": 192,
    "start_time": "2022-02-11T12:24:54.035Z"
   },
   {
    "duration": 203,
    "start_time": "2022-02-11T12:25:43.956Z"
   },
   {
    "duration": 231,
    "start_time": "2022-02-11T12:26:00.990Z"
   },
   {
    "duration": 205,
    "start_time": "2022-02-11T12:26:11.805Z"
   },
   {
    "duration": 10260,
    "start_time": "2022-02-11T12:45:32.676Z"
   },
   {
    "duration": 769330,
    "start_time": "2022-02-11T12:45:49.583Z"
   },
   {
    "duration": 4069,
    "start_time": "2022-02-11T12:58:57.183Z"
   },
   {
    "duration": 3840,
    "start_time": "2022-02-11T12:59:29.395Z"
   },
   {
    "duration": 2498,
    "start_time": "2022-02-11T12:59:48.645Z"
   },
   {
    "duration": 1097,
    "start_time": "2022-02-11T13:00:07.605Z"
   },
   {
    "duration": 436,
    "start_time": "2022-02-11T13:01:37.556Z"
   },
   {
    "duration": 680,
    "start_time": "2022-02-11T13:01:37.994Z"
   },
   {
    "duration": 29,
    "start_time": "2022-02-11T13:01:38.676Z"
   },
   {
    "duration": 14,
    "start_time": "2022-02-11T13:01:38.707Z"
   },
   {
    "duration": 7,
    "start_time": "2022-02-11T13:01:38.722Z"
   },
   {
    "duration": 31,
    "start_time": "2022-02-11T13:01:38.731Z"
   },
   {
    "duration": 3,
    "start_time": "2022-02-11T13:01:38.764Z"
   },
   {
    "duration": 14,
    "start_time": "2022-02-11T13:01:38.769Z"
   },
   {
    "duration": 6,
    "start_time": "2022-02-11T13:01:38.785Z"
   },
   {
    "duration": 6,
    "start_time": "2022-02-11T13:01:38.793Z"
   },
   {
    "duration": 30,
    "start_time": "2022-02-11T13:01:38.800Z"
   },
   {
    "duration": 22,
    "start_time": "2022-02-11T13:01:38.831Z"
   },
   {
    "duration": 1632,
    "start_time": "2022-02-11T13:01:38.854Z"
   },
   {
    "duration": 15,
    "start_time": "2022-02-11T13:01:40.487Z"
   },
   {
    "duration": 1528,
    "start_time": "2022-02-11T13:01:40.504Z"
   },
   {
    "duration": 4,
    "start_time": "2022-02-11T13:01:42.033Z"
   },
   {
    "duration": 7,
    "start_time": "2022-02-11T13:01:42.038Z"
   },
   {
    "duration": 4,
    "start_time": "2022-02-11T13:01:42.047Z"
   },
   {
    "duration": 8,
    "start_time": "2022-02-11T13:01:42.053Z"
   },
   {
    "duration": 9,
    "start_time": "2022-02-11T13:01:42.063Z"
   },
   {
    "duration": 6,
    "start_time": "2022-02-11T13:01:42.073Z"
   },
   {
    "duration": 147,
    "start_time": "2022-02-11T13:01:42.080Z"
   },
   {
    "duration": 120,
    "start_time": "2022-02-11T13:01:42.229Z"
   },
   {
    "duration": 77,
    "start_time": "2022-02-11T13:01:42.351Z"
   },
   {
    "duration": 19512,
    "start_time": "2022-02-11T13:01:42.430Z"
   },
   {
    "duration": 8,
    "start_time": "2022-02-11T13:02:01.944Z"
   },
   {
    "duration": 72,
    "start_time": "2022-02-11T13:02:01.955Z"
   },
   {
    "duration": 119,
    "start_time": "2022-02-11T13:02:02.030Z"
   },
   {
    "duration": 76,
    "start_time": "2022-02-11T13:02:02.151Z"
   },
   {
    "duration": 21050,
    "start_time": "2022-02-11T13:02:02.229Z"
   },
   {
    "duration": 9,
    "start_time": "2022-02-11T13:02:23.280Z"
   },
   {
    "duration": 13,
    "start_time": "2022-02-11T13:02:23.290Z"
   },
   {
    "duration": 3,
    "start_time": "2022-02-11T13:02:23.305Z"
   },
   {
    "duration": 15,
    "start_time": "2022-02-11T13:02:23.310Z"
   },
   {
    "duration": 5,
    "start_time": "2022-02-11T13:02:23.326Z"
   },
   {
    "duration": 24,
    "start_time": "2022-02-11T13:02:23.333Z"
   },
   {
    "duration": 195,
    "start_time": "2022-02-11T13:02:23.358Z"
   },
   {
    "duration": 101,
    "start_time": "2022-02-11T13:02:23.554Z"
   },
   {
    "duration": 20905,
    "start_time": "2022-02-11T13:02:23.657Z"
   },
   {
    "duration": 7,
    "start_time": "2022-02-11T13:02:44.564Z"
   },
   {
    "duration": 2155,
    "start_time": "2022-02-11T13:02:44.573Z"
   },
   {
    "duration": 95,
    "start_time": "2022-02-11T13:02:46.735Z"
   },
   {
    "duration": 6049,
    "start_time": "2022-02-11T13:02:46.926Z"
   },
   {
    "duration": 5,
    "start_time": "2022-02-11T13:02:52.976Z"
   },
   {
    "duration": 34498,
    "start_time": "2022-02-11T13:02:52.983Z"
   },
   {
    "duration": 1063,
    "start_time": "2022-02-11T13:03:27.482Z"
   },
   {
    "duration": 7,
    "start_time": "2022-02-11T13:03:28.546Z"
   },
   {
    "duration": 801580,
    "start_time": "2022-02-11T13:03:28.554Z"
   },
   {
    "duration": 5,
    "start_time": "2022-02-11T13:16:50.136Z"
   },
   {
    "duration": 9,
    "start_time": "2022-02-11T13:16:50.143Z"
   },
   {
    "duration": 242,
    "start_time": "2022-02-11T13:16:50.153Z"
   },
   {
    "duration": 12,
    "start_time": "2022-02-11T13:16:50.397Z"
   },
   {
    "duration": 25,
    "start_time": "2022-02-11T13:16:50.411Z"
   },
   {
    "duration": 473,
    "start_time": "2022-02-11T14:30:56.729Z"
   },
   {
    "duration": 681,
    "start_time": "2022-02-11T14:30:57.204Z"
   },
   {
    "duration": 31,
    "start_time": "2022-02-11T14:30:57.887Z"
   },
   {
    "duration": 15,
    "start_time": "2022-02-11T14:30:57.920Z"
   },
   {
    "duration": 8,
    "start_time": "2022-02-11T14:30:57.937Z"
   },
   {
    "duration": 36,
    "start_time": "2022-02-11T14:30:57.947Z"
   },
   {
    "duration": 4,
    "start_time": "2022-02-11T14:30:57.985Z"
   },
   {
    "duration": 16,
    "start_time": "2022-02-11T14:30:57.992Z"
   },
   {
    "duration": 4,
    "start_time": "2022-02-11T14:30:58.028Z"
   },
   {
    "duration": 8,
    "start_time": "2022-02-11T14:30:58.034Z"
   },
   {
    "duration": 5,
    "start_time": "2022-02-11T14:30:58.043Z"
   },
   {
    "duration": 20,
    "start_time": "2022-02-11T14:30:58.049Z"
   },
   {
    "duration": 1581,
    "start_time": "2022-02-11T14:30:58.071Z"
   },
   {
    "duration": 16,
    "start_time": "2022-02-11T14:30:59.654Z"
   },
   {
    "duration": 1860,
    "start_time": "2022-02-11T14:30:59.671Z"
   },
   {
    "duration": 6,
    "start_time": "2022-02-11T14:31:01.535Z"
   },
   {
    "duration": 18,
    "start_time": "2022-02-11T14:31:01.542Z"
   },
   {
    "duration": 17,
    "start_time": "2022-02-11T14:31:01.561Z"
   },
   {
    "duration": 8,
    "start_time": "2022-02-11T14:31:01.579Z"
   },
   {
    "duration": 11,
    "start_time": "2022-02-11T14:31:01.589Z"
   },
   {
    "duration": 15,
    "start_time": "2022-02-11T14:31:01.602Z"
   },
   {
    "duration": 32,
    "start_time": "2022-02-11T14:31:01.619Z"
   },
   {
    "duration": 121,
    "start_time": "2022-02-11T14:31:01.735Z"
   },
   {
    "duration": 83,
    "start_time": "2022-02-11T14:31:01.858Z"
   },
   {
    "duration": 20872,
    "start_time": "2022-02-11T14:31:01.943Z"
   },
   {
    "duration": 6,
    "start_time": "2022-02-11T14:31:22.817Z"
   },
   {
    "duration": 24,
    "start_time": "2022-02-11T14:31:22.825Z"
   },
   {
    "duration": 194,
    "start_time": "2022-02-11T14:31:22.851Z"
   },
   {
    "duration": 63,
    "start_time": "2022-02-11T14:31:23.046Z"
   },
   {
    "duration": 18802,
    "start_time": "2022-02-11T14:31:23.111Z"
   },
   {
    "duration": 7,
    "start_time": "2022-02-11T14:31:41.915Z"
   },
   {
    "duration": 12,
    "start_time": "2022-02-11T14:31:41.923Z"
   },
   {
    "duration": 4,
    "start_time": "2022-02-11T14:31:41.936Z"
   },
   {
    "duration": 11,
    "start_time": "2022-02-11T14:31:41.941Z"
   },
   {
    "duration": 5,
    "start_time": "2022-02-11T14:31:41.953Z"
   },
   {
    "duration": 71,
    "start_time": "2022-02-11T14:31:41.959Z"
   },
   {
    "duration": 127,
    "start_time": "2022-02-11T14:31:42.032Z"
   },
   {
    "duration": 101,
    "start_time": "2022-02-11T14:31:42.161Z"
   },
   {
    "duration": 19531,
    "start_time": "2022-02-11T14:31:42.264Z"
   },
   {
    "duration": 8,
    "start_time": "2022-02-11T14:32:01.797Z"
   },
   {
    "duration": 2128,
    "start_time": "2022-02-11T14:32:01.807Z"
   },
   {
    "duration": 6267,
    "start_time": "2022-02-11T14:32:03.937Z"
   },
   {
    "duration": 34002,
    "start_time": "2022-02-11T14:32:10.205Z"
   },
   {
    "duration": 1187,
    "start_time": "2022-02-11T14:32:44.209Z"
   },
   {
    "duration": 825532,
    "start_time": "2022-02-11T14:32:45.398Z"
   },
   {
    "duration": 5,
    "start_time": "2022-02-11T14:46:30.931Z"
   },
   {
    "duration": 103,
    "start_time": "2022-02-11T14:46:30.938Z"
   },
   {
    "duration": 7,
    "start_time": "2022-02-11T14:46:31.128Z"
   },
   {
    "duration": 20,
    "start_time": "2022-02-11T14:46:31.137Z"
   },
   {
    "duration": 8,
    "start_time": "2022-02-11T14:46:31.158Z"
   },
   {
    "duration": 245,
    "start_time": "2022-02-11T14:46:31.168Z"
   },
   {
    "duration": 21,
    "start_time": "2022-02-11T14:46:31.415Z"
   },
   {
    "duration": 11,
    "start_time": "2022-02-11T14:46:31.437Z"
   },
   {
    "duration": 566,
    "start_time": "2022-02-12T05:43:10.367Z"
   },
   {
    "duration": 922,
    "start_time": "2022-02-12T05:43:11.431Z"
   },
   {
    "duration": 37,
    "start_time": "2022-02-12T05:43:15.837Z"
   },
   {
    "duration": 23,
    "start_time": "2022-02-12T05:43:16.609Z"
   },
   {
    "duration": 13,
    "start_time": "2022-02-12T05:43:17.316Z"
   },
   {
    "duration": 61,
    "start_time": "2022-02-12T05:43:17.987Z"
   },
   {
    "duration": 6,
    "start_time": "2022-02-12T05:45:04.623Z"
   },
   {
    "duration": 23,
    "start_time": "2022-02-12T05:45:05.852Z"
   },
   {
    "duration": 6,
    "start_time": "2022-02-12T05:45:16.934Z"
   },
   {
    "duration": 10,
    "start_time": "2022-02-12T05:45:53.225Z"
   },
   {
    "duration": 6,
    "start_time": "2022-02-12T05:46:43.815Z"
   },
   {
    "duration": 26,
    "start_time": "2022-02-12T05:47:38.104Z"
   },
   {
    "duration": 24,
    "start_time": "2022-02-12T05:54:19.700Z"
   },
   {
    "duration": 2867,
    "start_time": "2022-02-12T05:54:20.399Z"
   },
   {
    "duration": 6,
    "start_time": "2022-02-12T05:57:31.271Z"
   },
   {
    "duration": 9,
    "start_time": "2022-02-12T05:57:31.635Z"
   },
   {
    "duration": 8,
    "start_time": "2022-02-12T05:57:31.783Z"
   },
   {
    "duration": 5,
    "start_time": "2022-02-12T05:57:32.002Z"
   },
   {
    "duration": 9,
    "start_time": "2022-02-12T05:58:45.296Z"
   },
   {
    "duration": 5,
    "start_time": "2022-02-12T05:58:47.075Z"
   },
   {
    "duration": 128,
    "start_time": "2022-02-12T06:01:23.033Z"
   },
   {
    "duration": 43,
    "start_time": "2022-02-12T06:01:24.576Z"
   },
   {
    "duration": 106,
    "start_time": "2022-02-12T06:01:25.596Z"
   },
   {
    "duration": 25760,
    "start_time": "2022-02-12T06:01:29.409Z"
   },
   {
    "duration": 11,
    "start_time": "2022-02-12T06:01:55.172Z"
   },
   {
    "duration": 37,
    "start_time": "2022-02-12T06:02:31.928Z"
   },
   {
    "duration": 44,
    "start_time": "2022-02-12T06:02:33.082Z"
   },
   {
    "duration": 127,
    "start_time": "2022-02-12T06:02:33.436Z"
   },
   {
    "duration": 24316,
    "start_time": "2022-02-12T06:02:37.515Z"
   },
   {
    "duration": 13,
    "start_time": "2022-02-12T06:03:01.833Z"
   },
   {
    "duration": 15,
    "start_time": "2022-02-12T06:03:25.547Z"
   },
   {
    "duration": 5,
    "start_time": "2022-02-12T06:03:48.275Z"
   },
   {
    "duration": 16,
    "start_time": "2022-02-12T06:03:49.026Z"
   },
   {
    "duration": 8,
    "start_time": "2022-02-12T06:03:50.784Z"
   },
   {
    "duration": 73,
    "start_time": "2022-02-12T06:03:53.991Z"
   },
   {
    "duration": 54,
    "start_time": "2022-02-12T06:03:57.291Z"
   },
   {
    "duration": 148,
    "start_time": "2022-02-12T06:03:58.568Z"
   },
   {
    "duration": 29317,
    "start_time": "2022-02-12T06:04:02.092Z"
   },
   {
    "duration": 2396,
    "start_time": "2022-02-12T06:05:17.165Z"
   },
   {
    "duration": 9790,
    "start_time": "2022-02-12T06:05:20.930Z"
   },
   {
    "duration": 60248,
    "start_time": "2022-02-12T06:05:30.723Z"
   },
   {
    "duration": 1986,
    "start_time": "2022-02-12T06:06:30.974Z"
   },
   {
    "duration": 1130112,
    "start_time": "2022-02-12T06:06:32.964Z"
   },
   {
    "duration": 8,
    "start_time": "2022-02-12T06:25:23.079Z"
   },
   {
    "duration": 106,
    "start_time": "2022-02-12T06:25:23.161Z"
   },
   {
    "duration": 13,
    "start_time": "2022-02-12T06:25:23.270Z"
   },
   {
    "duration": 8,
    "start_time": "2022-02-12T06:25:23.288Z"
   },
   {
    "duration": 16,
    "start_time": "2022-02-12T06:25:23.299Z"
   },
   {
    "duration": 401,
    "start_time": "2022-02-12T06:25:23.359Z"
   },
   {
    "duration": 22,
    "start_time": "2022-02-12T06:25:23.762Z"
   },
   {
    "duration": 19,
    "start_time": "2022-02-12T06:25:23.787Z"
   },
   {
    "duration": 541,
    "start_time": "2022-02-12T11:03:21.703Z"
   },
   {
    "duration": 860,
    "start_time": "2022-02-12T11:03:22.247Z"
   },
   {
    "duration": 30,
    "start_time": "2022-02-12T11:03:23.110Z"
   },
   {
    "duration": 19,
    "start_time": "2022-02-12T11:03:23.142Z"
   },
   {
    "duration": 11,
    "start_time": "2022-02-12T11:03:23.163Z"
   },
   {
    "duration": 65,
    "start_time": "2022-02-12T11:03:23.177Z"
   },
   {
    "duration": 5,
    "start_time": "2022-02-12T11:03:23.245Z"
   },
   {
    "duration": 17,
    "start_time": "2022-02-12T11:03:23.254Z"
   },
   {
    "duration": 38,
    "start_time": "2022-02-12T11:03:23.274Z"
   },
   {
    "duration": 9,
    "start_time": "2022-02-12T11:03:23.314Z"
   },
   {
    "duration": 8,
    "start_time": "2022-02-12T11:03:23.325Z"
   },
   {
    "duration": 25,
    "start_time": "2022-02-12T11:03:23.335Z"
   },
   {
    "duration": 1897,
    "start_time": "2022-02-12T11:03:23.362Z"
   },
   {
    "duration": 17,
    "start_time": "2022-02-12T11:03:25.261Z"
   },
   {
    "duration": 1987,
    "start_time": "2022-02-12T11:03:25.280Z"
   },
   {
    "duration": 4,
    "start_time": "2022-02-12T11:03:27.269Z"
   },
   {
    "duration": 10,
    "start_time": "2022-02-12T11:03:27.276Z"
   },
   {
    "duration": 25,
    "start_time": "2022-02-12T11:03:27.288Z"
   },
   {
    "duration": 5,
    "start_time": "2022-02-12T11:03:27.315Z"
   },
   {
    "duration": 19,
    "start_time": "2022-02-12T11:03:27.322Z"
   },
   {
    "duration": 12,
    "start_time": "2022-02-12T11:03:27.343Z"
   },
   {
    "duration": 153,
    "start_time": "2022-02-12T11:03:27.357Z"
   },
   {
    "duration": 114,
    "start_time": "2022-02-12T11:03:27.516Z"
   },
   {
    "duration": 107,
    "start_time": "2022-02-12T11:03:27.632Z"
   },
   {
    "duration": 39848,
    "start_time": "2022-02-12T11:03:27.741Z"
   },
   {
    "duration": 10,
    "start_time": "2022-02-12T11:04:07.591Z"
   },
   {
    "duration": 209,
    "start_time": "2022-02-12T11:04:07.604Z"
   },
   {
    "duration": 125,
    "start_time": "2022-02-12T11:04:07.819Z"
   },
   {
    "duration": 102,
    "start_time": "2022-02-12T11:04:07.946Z"
   },
   {
    "duration": 19949,
    "start_time": "2022-02-12T11:04:08.050Z"
   },
   {
    "duration": -515,
    "start_time": "2022-02-12T11:04:28.516Z"
   },
   {
    "duration": -519,
    "start_time": "2022-02-12T11:04:28.521Z"
   },
   {
    "duration": -522,
    "start_time": "2022-02-12T11:04:28.526Z"
   },
   {
    "duration": -525,
    "start_time": "2022-02-12T11:04:28.530Z"
   },
   {
    "duration": -528,
    "start_time": "2022-02-12T11:04:28.534Z"
   },
   {
    "duration": -531,
    "start_time": "2022-02-12T11:04:28.538Z"
   },
   {
    "duration": -534,
    "start_time": "2022-02-12T11:04:28.542Z"
   },
   {
    "duration": -538,
    "start_time": "2022-02-12T11:04:28.547Z"
   },
   {
    "duration": -541,
    "start_time": "2022-02-12T11:04:28.551Z"
   },
   {
    "duration": -546,
    "start_time": "2022-02-12T11:04:28.557Z"
   },
   {
    "duration": -550,
    "start_time": "2022-02-12T11:04:28.562Z"
   },
   {
    "duration": -552,
    "start_time": "2022-02-12T11:04:28.566Z"
   },
   {
    "duration": -557,
    "start_time": "2022-02-12T11:04:28.571Z"
   },
   {
    "duration": -559,
    "start_time": "2022-02-12T11:04:28.574Z"
   },
   {
    "duration": -562,
    "start_time": "2022-02-12T11:04:28.579Z"
   },
   {
    "duration": -565,
    "start_time": "2022-02-12T11:04:28.583Z"
   },
   {
    "duration": -578,
    "start_time": "2022-02-12T11:04:28.597Z"
   },
   {
    "duration": -582,
    "start_time": "2022-02-12T11:04:28.602Z"
   },
   {
    "duration": -586,
    "start_time": "2022-02-12T11:04:28.607Z"
   },
   {
    "duration": -589,
    "start_time": "2022-02-12T11:04:28.611Z"
   },
   {
    "duration": -593,
    "start_time": "2022-02-12T11:04:28.616Z"
   },
   {
    "duration": -596,
    "start_time": "2022-02-12T11:04:28.621Z"
   },
   {
    "duration": -599,
    "start_time": "2022-02-12T11:04:28.625Z"
   },
   {
    "duration": 507,
    "start_time": "2022-02-12T11:04:40.762Z"
   },
   {
    "duration": 1057,
    "start_time": "2022-02-12T11:04:41.271Z"
   },
   {
    "duration": 28,
    "start_time": "2022-02-12T11:04:44.187Z"
   },
   {
    "duration": 18,
    "start_time": "2022-02-12T11:04:44.544Z"
   },
   {
    "duration": 11,
    "start_time": "2022-02-12T11:04:46.175Z"
   },
   {
    "duration": 59,
    "start_time": "2022-02-12T11:04:46.502Z"
   },
   {
    "duration": 5,
    "start_time": "2022-02-12T11:04:56.043Z"
   },
   {
    "duration": 23,
    "start_time": "2022-02-12T11:04:56.425Z"
   },
   {
    "duration": 7,
    "start_time": "2022-02-12T11:04:59.231Z"
   },
   {
    "duration": 8,
    "start_time": "2022-02-12T11:05:00.002Z"
   },
   {
    "duration": 6,
    "start_time": "2022-02-12T11:05:04.301Z"
   },
   {
    "duration": 20,
    "start_time": "2022-02-12T11:05:06.569Z"
   },
   {
    "duration": 3,
    "start_time": "2022-02-12T11:06:01.522Z"
   },
   {
    "duration": 1131,
    "start_time": "2022-02-12T11:06:03.902Z"
   },
   {
    "duration": 1871,
    "start_time": "2022-02-12T11:06:31.065Z"
   },
   {
    "duration": 33,
    "start_time": "2022-02-12T11:08:35.923Z"
   },
   {
    "duration": 1468,
    "start_time": "2022-02-12T11:08:38.335Z"
   },
   {
    "duration": 97,
    "start_time": "2022-02-12T11:10:09.215Z"
   },
   {
    "duration": 30,
    "start_time": "2022-02-12T11:10:43.923Z"
   },
   {
    "duration": 2117,
    "start_time": "2022-02-12T11:10:46.335Z"
   },
   {
    "duration": 32,
    "start_time": "2022-02-12T11:11:00.095Z"
   },
   {
    "duration": 1278,
    "start_time": "2022-02-12T11:11:07.035Z"
   },
   {
    "duration": 353,
    "start_time": "2022-02-12T11:11:56.071Z"
   },
   {
    "duration": 6,
    "start_time": "2022-02-12T11:12:03.491Z"
   },
   {
    "duration": 1157,
    "start_time": "2022-02-12T11:12:05.371Z"
   },
   {
    "duration": 5,
    "start_time": "2022-02-12T11:12:23.454Z"
   },
   {
    "duration": 7,
    "start_time": "2022-02-12T11:12:31.065Z"
   },
   {
    "duration": 1531,
    "start_time": "2022-02-12T11:12:31.859Z"
   },
   {
    "duration": 37,
    "start_time": "2022-02-12T11:13:40.588Z"
   },
   {
    "duration": 7,
    "start_time": "2022-02-12T11:13:45.264Z"
   },
   {
    "duration": 2023,
    "start_time": "2022-02-12T11:13:47.127Z"
   },
   {
    "duration": 532,
    "start_time": "2022-02-12T11:26:01.978Z"
   },
   {
    "duration": 853,
    "start_time": "2022-02-12T11:26:02.513Z"
   },
   {
    "duration": 28,
    "start_time": "2022-02-12T11:26:03.369Z"
   },
   {
    "duration": 17,
    "start_time": "2022-02-12T11:26:03.399Z"
   },
   {
    "duration": 10,
    "start_time": "2022-02-12T11:26:03.843Z"
   },
   {
    "duration": 40,
    "start_time": "2022-02-12T11:26:04.931Z"
   },
   {
    "duration": 5,
    "start_time": "2022-02-12T11:26:07.447Z"
   },
   {
    "duration": 17,
    "start_time": "2022-02-12T11:26:07.678Z"
   },
   {
    "duration": 7,
    "start_time": "2022-02-12T11:26:08.208Z"
   },
   {
    "duration": 8,
    "start_time": "2022-02-12T11:26:08.880Z"
   },
   {
    "duration": 7,
    "start_time": "2022-02-12T11:26:10.562Z"
   },
   {
    "duration": 19,
    "start_time": "2022-02-12T11:26:11.760Z"
   },
   {
    "duration": 7,
    "start_time": "2022-02-12T11:26:14.277Z"
   },
   {
    "duration": 7,
    "start_time": "2022-02-12T11:26:14.654Z"
   },
   {
    "duration": 7,
    "start_time": "2022-02-12T11:26:15.079Z"
   },
   {
    "duration": 4,
    "start_time": "2022-02-12T11:26:15.861Z"
   },
   {
    "duration": 29,
    "start_time": "2022-02-12T11:26:45.327Z"
   },
   {
    "duration": 25,
    "start_time": "2022-02-12T11:28:46.288Z"
   },
   {
    "duration": 29,
    "start_time": "2022-02-12T11:28:46.976Z"
   },
   {
    "duration": 957,
    "start_time": "2022-02-12T11:28:49.527Z"
   },
   {
    "duration": 469,
    "start_time": "2022-02-12T11:29:44.448Z"
   },
   {
    "duration": 844,
    "start_time": "2022-02-12T11:29:44.919Z"
   },
   {
    "duration": 31,
    "start_time": "2022-02-12T11:29:45.765Z"
   },
   {
    "duration": 19,
    "start_time": "2022-02-12T11:29:45.798Z"
   },
   {
    "duration": 16,
    "start_time": "2022-02-12T11:29:46.044Z"
   },
   {
    "duration": 61,
    "start_time": "2022-02-12T11:29:46.487Z"
   },
   {
    "duration": 7,
    "start_time": "2022-02-12T11:29:48.327Z"
   },
   {
    "duration": 25,
    "start_time": "2022-02-12T11:29:48.805Z"
   },
   {
    "duration": 10,
    "start_time": "2022-02-12T11:29:50.037Z"
   },
   {
    "duration": 9,
    "start_time": "2022-02-12T11:29:50.795Z"
   },
   {
    "duration": 8,
    "start_time": "2022-02-12T11:29:52.095Z"
   },
   {
    "duration": 23,
    "start_time": "2022-02-12T11:29:53.487Z"
   },
   {
    "duration": 6,
    "start_time": "2022-02-12T11:29:55.395Z"
   },
   {
    "duration": 7,
    "start_time": "2022-02-12T11:29:55.761Z"
   },
   {
    "duration": 9,
    "start_time": "2022-02-12T11:29:56.081Z"
   },
   {
    "duration": 4,
    "start_time": "2022-02-12T11:29:56.515Z"
   },
   {
    "duration": 34,
    "start_time": "2022-02-12T11:30:00.395Z"
   },
   {
    "duration": 899,
    "start_time": "2022-02-12T11:30:01.537Z"
   },
   {
    "duration": 27,
    "start_time": "2022-02-12T11:30:05.807Z"
   },
   {
    "duration": 32,
    "start_time": "2022-02-12T11:30:06.235Z"
   },
   {
    "duration": 823,
    "start_time": "2022-02-12T11:30:06.801Z"
   },
   {
    "duration": 80,
    "start_time": "2022-02-12T11:31:11.697Z"
   },
   {
    "duration": 86,
    "start_time": "2022-02-12T11:33:21.447Z"
   },
   {
    "duration": 7,
    "start_time": "2022-02-12T11:49:37.209Z"
   },
   {
    "duration": 5,
    "start_time": "2022-02-12T11:49:37.287Z"
   },
   {
    "duration": 50,
    "start_time": "2022-02-12T11:49:40.857Z"
   },
   {
    "duration": 525,
    "start_time": "2022-02-12T11:49:54.354Z"
   },
   {
    "duration": 37,
    "start_time": "2022-02-12T11:50:17.395Z"
   },
   {
    "duration": 97,
    "start_time": "2022-02-12T11:50:18.235Z"
   },
   {
    "duration": 28508,
    "start_time": "2022-02-12T11:50:20.441Z"
   },
   {
    "duration": 4,
    "start_time": "2022-02-12T11:50:48.951Z"
   },
   {
    "duration": 4,
    "start_time": "2022-02-12T11:51:53.755Z"
   },
   {
    "duration": 229,
    "start_time": "2022-02-12T11:54:25.367Z"
   },
   {
    "duration": 313,
    "start_time": "2022-02-12T11:54:30.235Z"
   },
   {
    "duration": 5,
    "start_time": "2022-02-12T11:54:51.281Z"
   },
   {
    "duration": 6,
    "start_time": "2022-02-12T11:56:45.207Z"
   },
   {
    "duration": 6,
    "start_time": "2022-02-12T11:56:59.482Z"
   },
   {
    "duration": 245,
    "start_time": "2022-02-12T11:58:16.242Z"
   },
   {
    "duration": 10,
    "start_time": "2022-02-12T12:00:47.207Z"
   },
   {
    "duration": 5,
    "start_time": "2022-02-12T12:00:56.806Z"
   },
   {
    "duration": 4,
    "start_time": "2022-02-12T12:01:15.487Z"
   },
   {
    "duration": 35,
    "start_time": "2022-02-12T12:01:57.567Z"
   },
   {
    "duration": 564,
    "start_time": "2022-02-12T12:14:32.406Z"
   },
   {
    "duration": 803,
    "start_time": "2022-02-12T12:14:32.973Z"
   },
   {
    "duration": 29,
    "start_time": "2022-02-12T12:14:33.779Z"
   },
   {
    "duration": 17,
    "start_time": "2022-02-12T12:14:33.810Z"
   },
   {
    "duration": 13,
    "start_time": "2022-02-12T12:14:33.829Z"
   },
   {
    "duration": 41,
    "start_time": "2022-02-12T12:14:33.844Z"
   },
   {
    "duration": 25,
    "start_time": "2022-02-12T12:14:33.887Z"
   },
   {
    "duration": 18,
    "start_time": "2022-02-12T12:14:33.915Z"
   },
   {
    "duration": 7,
    "start_time": "2022-02-12T12:14:33.936Z"
   },
   {
    "duration": 13,
    "start_time": "2022-02-12T12:14:33.945Z"
   },
   {
    "duration": 17,
    "start_time": "2022-02-12T12:14:33.960Z"
   },
   {
    "duration": 45,
    "start_time": "2022-02-12T12:14:33.979Z"
   },
   {
    "duration": 6,
    "start_time": "2022-02-12T12:14:34.026Z"
   },
   {
    "duration": 15,
    "start_time": "2022-02-12T12:14:34.033Z"
   },
   {
    "duration": 18,
    "start_time": "2022-02-12T12:14:34.051Z"
   },
   {
    "duration": 8,
    "start_time": "2022-02-12T12:14:34.072Z"
   },
   {
    "duration": 41,
    "start_time": "2022-02-12T12:14:34.082Z"
   },
   {
    "duration": 869,
    "start_time": "2022-02-12T12:14:34.125Z"
   },
   {
    "duration": 34,
    "start_time": "2022-02-12T12:14:34.996Z"
   },
   {
    "duration": 32,
    "start_time": "2022-02-12T12:14:35.033Z"
   },
   {
    "duration": 898,
    "start_time": "2022-02-12T12:14:35.068Z"
   },
   {
    "duration": 9,
    "start_time": "2022-02-12T12:14:35.968Z"
   },
   {
    "duration": 25,
    "start_time": "2022-02-12T12:14:35.982Z"
   },
   {
    "duration": 108,
    "start_time": "2022-02-12T12:14:36.010Z"
   },
   {
    "duration": 117,
    "start_time": "2022-02-12T12:14:36.120Z"
   },
   {
    "duration": 103,
    "start_time": "2022-02-12T12:14:36.240Z"
   },
   {
    "duration": 40380,
    "start_time": "2022-02-12T12:14:36.345Z"
   },
   {
    "duration": 10,
    "start_time": "2022-02-12T12:15:16.727Z"
   },
   {
    "duration": 169,
    "start_time": "2022-02-12T12:15:16.739Z"
   },
   {
    "duration": 124,
    "start_time": "2022-02-12T12:15:16.911Z"
   },
   {
    "duration": 117,
    "start_time": "2022-02-12T12:15:17.037Z"
   },
   {
    "duration": 38739,
    "start_time": "2022-02-12T12:15:17.157Z"
   },
   {
    "duration": 13,
    "start_time": "2022-02-12T12:15:55.899Z"
   },
   {
    "duration": 21,
    "start_time": "2022-02-12T12:15:55.914Z"
   },
   {
    "duration": 7,
    "start_time": "2022-02-12T12:15:55.938Z"
   },
   {
    "duration": 35,
    "start_time": "2022-02-12T12:15:55.947Z"
   },
   {
    "duration": 25,
    "start_time": "2022-02-12T12:15:55.985Z"
   },
   {
    "duration": 101,
    "start_time": "2022-02-12T12:15:56.013Z"
   },
   {
    "duration": 127,
    "start_time": "2022-02-12T12:15:56.121Z"
   },
   {
    "duration": 147,
    "start_time": "2022-02-12T12:15:56.250Z"
   },
   {
    "duration": 47571,
    "start_time": "2022-02-12T12:15:56.400Z"
   },
   {
    "duration": 10,
    "start_time": "2022-02-12T12:16:43.974Z"
   },
   {
    "duration": 2433,
    "start_time": "2022-02-12T12:16:43.986Z"
   },
   {
    "duration": 8066,
    "start_time": "2022-02-12T12:16:46.422Z"
   },
   {
    "duration": 48634,
    "start_time": "2022-02-12T12:16:54.491Z"
   },
   {
    "duration": 1409,
    "start_time": "2022-02-12T12:17:43.128Z"
   },
   {
    "duration": 1319777,
    "start_time": "2022-02-12T12:17:44.539Z"
   },
   {
    "duration": 7,
    "start_time": "2022-02-12T12:39:44.318Z"
   },
   {
    "duration": 93,
    "start_time": "2022-02-12T12:39:44.328Z"
   },
   {
    "duration": 12,
    "start_time": "2022-02-12T12:39:44.508Z"
   },
   {
    "duration": 6,
    "start_time": "2022-02-12T12:39:44.522Z"
   },
   {
    "duration": 11,
    "start_time": "2022-02-12T12:39:44.531Z"
   },
   {
    "duration": 313,
    "start_time": "2022-02-12T12:39:44.545Z"
   },
   {
    "duration": 21,
    "start_time": "2022-02-12T12:39:44.860Z"
   },
   {
    "duration": 35,
    "start_time": "2022-02-12T12:39:44.883Z"
   },
   {
    "duration": 379,
    "start_time": "2022-02-12T12:39:44.921Z"
   },
   {
    "duration": -70,
    "start_time": "2022-02-12T12:39:45.373Z"
   },
   {
    "duration": -74,
    "start_time": "2022-02-12T12:39:45.379Z"
   },
   {
    "duration": -94,
    "start_time": "2022-02-12T12:39:45.401Z"
   },
   {
    "duration": -99,
    "start_time": "2022-02-12T12:39:45.407Z"
   },
   {
    "duration": -102,
    "start_time": "2022-02-12T12:39:45.411Z"
   },
   {
    "duration": -105,
    "start_time": "2022-02-12T12:39:45.415Z"
   },
   {
    "duration": 487,
    "start_time": "2022-02-12T14:28:51.316Z"
   },
   {
    "duration": 765,
    "start_time": "2022-02-12T14:28:51.805Z"
   },
   {
    "duration": 27,
    "start_time": "2022-02-12T14:28:52.573Z"
   },
   {
    "duration": 22,
    "start_time": "2022-02-12T14:28:52.602Z"
   },
   {
    "duration": 14,
    "start_time": "2022-02-12T14:28:52.626Z"
   },
   {
    "duration": 39,
    "start_time": "2022-02-12T14:28:52.642Z"
   },
   {
    "duration": 4,
    "start_time": "2022-02-12T14:28:52.683Z"
   },
   {
    "duration": 27,
    "start_time": "2022-02-12T14:28:52.690Z"
   },
   {
    "duration": 6,
    "start_time": "2022-02-12T14:28:52.719Z"
   },
   {
    "duration": 9,
    "start_time": "2022-02-12T14:28:52.726Z"
   },
   {
    "duration": 8,
    "start_time": "2022-02-12T14:28:52.737Z"
   },
   {
    "duration": 22,
    "start_time": "2022-02-12T14:28:52.747Z"
   },
   {
    "duration": 38,
    "start_time": "2022-02-12T14:28:52.771Z"
   },
   {
    "duration": 10,
    "start_time": "2022-02-12T14:28:52.811Z"
   },
   {
    "duration": 8,
    "start_time": "2022-02-12T14:28:52.823Z"
   },
   {
    "duration": 5,
    "start_time": "2022-02-12T14:28:52.833Z"
   },
   {
    "duration": 33,
    "start_time": "2022-02-12T14:28:52.840Z"
   },
   {
    "duration": 818,
    "start_time": "2022-02-12T14:28:52.876Z"
   },
   {
    "duration": 32,
    "start_time": "2022-02-12T14:28:53.696Z"
   },
   {
    "duration": 29,
    "start_time": "2022-02-12T14:28:53.730Z"
   },
   {
    "duration": 821,
    "start_time": "2022-02-12T14:28:53.761Z"
   },
   {
    "duration": 7,
    "start_time": "2022-02-12T14:28:54.584Z"
   },
   {
    "duration": 4,
    "start_time": "2022-02-12T14:28:54.608Z"
   },
   {
    "duration": 26,
    "start_time": "2022-02-12T14:28:54.615Z"
   },
   {
    "duration": 127,
    "start_time": "2022-02-12T14:28:54.709Z"
   },
   {
    "duration": 97,
    "start_time": "2022-02-12T14:28:54.838Z"
   },
   {
    "duration": 22434,
    "start_time": "2022-02-12T14:28:54.938Z"
   },
   {
    "duration": 9,
    "start_time": "2022-02-12T14:29:17.374Z"
   },
   {
    "duration": 32,
    "start_time": "2022-02-12T14:29:17.385Z"
   },
   {
    "duration": 124,
    "start_time": "2022-02-12T14:29:17.507Z"
   },
   {
    "duration": 96,
    "start_time": "2022-02-12T14:29:17.633Z"
   },
   {
    "duration": 26430,
    "start_time": "2022-02-12T14:29:17.731Z"
   },
   {
    "duration": 10,
    "start_time": "2022-02-12T14:29:44.163Z"
   },
   {
    "duration": 13,
    "start_time": "2022-02-12T14:29:44.175Z"
   },
   {
    "duration": 6,
    "start_time": "2022-02-12T14:29:44.190Z"
   },
   {
    "duration": 19,
    "start_time": "2022-02-12T14:29:44.198Z"
   },
   {
    "duration": 9,
    "start_time": "2022-02-12T14:29:44.219Z"
   },
   {
    "duration": 87,
    "start_time": "2022-02-12T14:29:44.230Z"
   },
   {
    "duration": 46,
    "start_time": "2022-02-12T14:29:44.409Z"
   },
   {
    "duration": 119,
    "start_time": "2022-02-12T14:29:44.508Z"
   },
   {
    "duration": 28542,
    "start_time": "2022-02-12T14:29:44.629Z"
   },
   {
    "duration": 10,
    "start_time": "2022-02-12T14:30:13.174Z"
   },
   {
    "duration": 2227,
    "start_time": "2022-02-12T14:30:13.186Z"
   },
   {
    "duration": 7528,
    "start_time": "2022-02-12T14:30:15.415Z"
   },
   {
    "duration": 43499,
    "start_time": "2022-02-12T14:30:22.945Z"
   },
   {
    "duration": 1432,
    "start_time": "2022-02-12T14:31:06.446Z"
   },
   {
    "duration": 435831,
    "start_time": "2022-02-12T14:31:07.881Z"
   },
   {
    "duration": 116,
    "start_time": "2022-02-12T14:38:23.599Z"
   },
   {
    "duration": 112,
    "start_time": "2022-02-12T14:38:23.604Z"
   },
   {
    "duration": 108,
    "start_time": "2022-02-12T14:38:23.609Z"
   },
   {
    "duration": 106,
    "start_time": "2022-02-12T14:38:23.613Z"
   },
   {
    "duration": 101,
    "start_time": "2022-02-12T14:38:23.619Z"
   },
   {
    "duration": 97,
    "start_time": "2022-02-12T14:38:23.624Z"
   },
   {
    "duration": 94,
    "start_time": "2022-02-12T14:38:23.628Z"
   },
   {
    "duration": 91,
    "start_time": "2022-02-12T14:38:23.633Z"
   },
   {
    "duration": 88,
    "start_time": "2022-02-12T14:38:23.637Z"
   },
   {
    "duration": 85,
    "start_time": "2022-02-12T14:38:23.641Z"
   },
   {
    "duration": 82,
    "start_time": "2022-02-12T14:38:23.645Z"
   },
   {
    "duration": 79,
    "start_time": "2022-02-12T14:38:23.649Z"
   },
   {
    "duration": 75,
    "start_time": "2022-02-12T14:38:23.654Z"
   },
   {
    "duration": 72,
    "start_time": "2022-02-12T14:38:23.659Z"
   },
   {
    "duration": 69,
    "start_time": "2022-02-12T14:38:23.663Z"
   },
   {
    "duration": 6,
    "start_time": "2022-02-12T14:38:29.454Z"
   },
   {
    "duration": 241,
    "start_time": "2022-02-12T14:38:39.243Z"
   },
   {
    "duration": 9,
    "start_time": "2022-02-12T14:38:42.501Z"
   },
   {
    "duration": 8,
    "start_time": "2022-02-12T14:39:11.642Z"
   },
   {
    "duration": 8,
    "start_time": "2022-02-12T14:39:17.242Z"
   },
   {
    "duration": 1032969,
    "start_time": "2022-02-12T14:39:35.879Z"
   },
   {
    "duration": 61,
    "start_time": "2022-02-12T14:56:48.850Z"
   },
   {
    "duration": 102,
    "start_time": "2022-02-12T14:56:48.915Z"
   },
   {
    "duration": 17,
    "start_time": "2022-02-12T14:56:49.019Z"
   },
   {
    "duration": 8,
    "start_time": "2022-02-12T14:56:49.038Z"
   },
   {
    "duration": 10,
    "start_time": "2022-02-12T14:56:49.048Z"
   },
   {
    "duration": 295,
    "start_time": "2022-02-12T14:56:49.060Z"
   },
   {
    "duration": 17,
    "start_time": "2022-02-12T15:12:21.961Z"
   },
   {
    "duration": 86,
    "start_time": "2022-02-12T15:12:30.573Z"
   },
   {
    "duration": 16,
    "start_time": "2022-02-12T15:12:41.463Z"
   },
   {
    "duration": 8,
    "start_time": "2022-02-12T15:12:46.508Z"
   },
   {
    "duration": 32,
    "start_time": "2022-02-12T15:12:51.630Z"
   },
   {
    "duration": 74155,
    "start_time": "2022-02-12T15:12:52.492Z"
   },
   {
    "duration": 289,
    "start_time": "2022-02-12T15:55:16.767Z"
   },
   {
    "duration": 5,
    "start_time": "2022-02-12T15:55:32.510Z"
   },
   {
    "duration": 307,
    "start_time": "2022-02-12T16:23:27.284Z"
   },
   {
    "duration": 5,
    "start_time": "2022-02-12T16:24:44.819Z"
   },
   {
    "duration": 8,
    "start_time": "2022-02-12T16:26:27.323Z"
   },
   {
    "duration": 8,
    "start_time": "2022-02-12T16:26:39.876Z"
   },
   {
    "duration": 14,
    "start_time": "2022-02-12T16:27:08.139Z"
   },
   {
    "duration": 6,
    "start_time": "2022-02-12T16:30:15.873Z"
   },
   {
    "duration": 202,
    "start_time": "2022-02-12T16:30:39.340Z"
   },
   {
    "duration": 280,
    "start_time": "2022-02-12T16:30:46.043Z"
   },
   {
    "duration": 392,
    "start_time": "2022-02-12T16:31:57.023Z"
   },
   {
    "duration": 316,
    "start_time": "2022-02-12T16:32:21.233Z"
   },
   {
    "duration": 270,
    "start_time": "2022-02-12T16:32:28.778Z"
   },
   {
    "duration": 8,
    "start_time": "2022-02-12T16:32:55.538Z"
   },
   {
    "duration": 268,
    "start_time": "2022-02-12T16:33:19.631Z"
   },
   {
    "duration": 4,
    "start_time": "2022-02-12T16:37:15.972Z"
   },
   {
    "duration": 12,
    "start_time": "2022-02-12T16:39:39.673Z"
   },
   {
    "duration": 11,
    "start_time": "2022-02-12T16:39:58.845Z"
   },
   {
    "duration": 345,
    "start_time": "2022-02-12T16:45:40.828Z"
   },
   {
    "duration": 352,
    "start_time": "2022-02-12T16:46:11.253Z"
   },
   {
    "duration": 117,
    "start_time": "2022-02-12T16:52:01.103Z"
   },
   {
    "duration": 82,
    "start_time": "2022-02-12T16:52:47.463Z"
   },
   {
    "duration": 234,
    "start_time": "2022-02-12T16:52:54.131Z"
   },
   {
    "duration": 77,
    "start_time": "2022-02-12T16:56:00.708Z"
   },
   {
    "duration": 336,
    "start_time": "2022-02-12T16:57:28.744Z"
   },
   {
    "duration": 309,
    "start_time": "2022-02-12T16:59:02.223Z"
   },
   {
    "duration": 253,
    "start_time": "2022-02-12T16:59:11.783Z"
   },
   {
    "duration": 305,
    "start_time": "2022-02-12T16:59:19.433Z"
   },
   {
    "duration": 428,
    "start_time": "2022-02-12T17:37:36.711Z"
   },
   {
    "duration": 4,
    "start_time": "2022-02-12T17:38:40.793Z"
   },
   {
    "duration": 362,
    "start_time": "2022-02-12T17:40:22.093Z"
   },
   {
    "duration": 10,
    "start_time": "2022-02-12T17:40:48.595Z"
   },
   {
    "duration": 385,
    "start_time": "2022-02-12T17:41:18.902Z"
   },
   {
    "duration": 9,
    "start_time": "2022-02-12T17:41:36.352Z"
   },
   {
    "duration": 11,
    "start_time": "2022-02-12T17:43:25.982Z"
   },
   {
    "duration": 21,
    "start_time": "2022-02-12T17:43:34.377Z"
   },
   {
    "duration": 32,
    "start_time": "2022-02-12T17:44:11.058Z"
   },
   {
    "duration": 573,
    "start_time": "2022-02-12T17:46:49.211Z"
   },
   {
    "duration": 106,
    "start_time": "2022-02-12T17:47:39.737Z"
   },
   {
    "duration": 410,
    "start_time": "2022-02-12T17:47:41.732Z"
   },
   {
    "duration": 313,
    "start_time": "2022-02-12T17:48:16.102Z"
   }
  ],
  "kernelspec": {
   "display_name": "Python 3 (ipykernel)",
   "language": "python",
   "name": "python3"
  },
  "language_info": {
   "codemirror_mode": {
    "name": "ipython",
    "version": 3
   },
   "file_extension": ".py",
   "mimetype": "text/x-python",
   "name": "python",
   "nbconvert_exporter": "python",
   "pygments_lexer": "ipython3",
   "version": "3.9.7"
  },
  "toc": {
   "base_numbering": 1,
   "nav_menu": {},
   "number_sections": true,
   "sideBar": true,
   "skip_h1_title": true,
   "title_cell": "Содержание",
   "title_sidebar": "Contents",
   "toc_cell": true,
   "toc_position": {
    "height": "calc(100% - 180px)",
    "left": "10px",
    "top": "150px",
    "width": "353.594px"
   },
   "toc_section_display": true,
   "toc_window_display": true
  }
 },
 "nbformat": 4,
 "nbformat_minor": 2
}
