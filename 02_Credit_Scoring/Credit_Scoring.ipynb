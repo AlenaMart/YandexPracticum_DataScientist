{
 "cells": [
  {
   "cell_type": "markdown",
   "metadata": {},
   "source": [
    "# Исследование надёжности заёмщиков\n",
    "\n",
    "Заказчик — кредитный отдел банка. Нужно разобраться, влияет ли семейное положение и количество детей клиента на факт погашения кредита в срок. Входные данные от банка — статистика о платёжеспособности клиентов.\n",
    "\n",
    "Результаты исследования будут учтены при построении модели **кредитного скоринга** — специальной системы, которая оценивает способность потенциального заёмщика вернуть кредит банку."
   ]
  },
  {
   "cell_type": "markdown",
   "metadata": {},
   "source": [
    "## Шаг 1. Откройте файл с данными и изучите общую информацию"
   ]
  },
  {
   "cell_type": "code",
   "execution_count": 1,
   "metadata": {},
   "outputs": [],
   "source": [
    "from collections import Counter\n",
    "import pandas as pd\n",
    "from pymystem3 import Mystem\n",
    "m = Mystem()"
   ]
  },
  {
   "cell_type": "code",
   "execution_count": 2,
   "metadata": {
    "scrolled": true
   },
   "outputs": [
    {
     "name": "stdout",
     "output_type": "stream",
     "text": [
      "<class 'pandas.core.frame.DataFrame'>\n",
      "RangeIndex: 21525 entries, 0 to 21524\n",
      "Data columns (total 12 columns):\n",
      "children            21525 non-null int64\n",
      "days_employed       19351 non-null float64\n",
      "dob_years           21525 non-null int64\n",
      "education           21525 non-null object\n",
      "education_id        21525 non-null int64\n",
      "family_status       21525 non-null object\n",
      "family_status_id    21525 non-null int64\n",
      "gender              21525 non-null object\n",
      "income_type         21525 non-null object\n",
      "debt                21525 non-null int64\n",
      "total_income        19351 non-null float64\n",
      "purpose             21525 non-null object\n",
      "dtypes: float64(2), int64(5), object(5)\n",
      "memory usage: 2.0+ MB\n"
     ]
    }
   ],
   "source": [
    "data = pd.read_csv('/datasets/data.csv')\n",
    "data.info()"
   ]
  },
  {
   "cell_type": "code",
   "execution_count": 3,
   "metadata": {
    "scrolled": true
   },
   "outputs": [
    {
     "data": {
      "text/html": [
       "<div>\n",
       "<style scoped>\n",
       "    .dataframe tbody tr th:only-of-type {\n",
       "        vertical-align: middle;\n",
       "    }\n",
       "\n",
       "    .dataframe tbody tr th {\n",
       "        vertical-align: top;\n",
       "    }\n",
       "\n",
       "    .dataframe thead th {\n",
       "        text-align: right;\n",
       "    }\n",
       "</style>\n",
       "<table border=\"1\" class=\"dataframe\">\n",
       "  <thead>\n",
       "    <tr style=\"text-align: right;\">\n",
       "      <th></th>\n",
       "      <th>children</th>\n",
       "      <th>days_employed</th>\n",
       "      <th>dob_years</th>\n",
       "      <th>education</th>\n",
       "      <th>education_id</th>\n",
       "      <th>family_status</th>\n",
       "      <th>family_status_id</th>\n",
       "      <th>gender</th>\n",
       "      <th>income_type</th>\n",
       "      <th>debt</th>\n",
       "      <th>total_income</th>\n",
       "      <th>purpose</th>\n",
       "    </tr>\n",
       "  </thead>\n",
       "  <tbody>\n",
       "    <tr>\n",
       "      <td>0</td>\n",
       "      <td>1</td>\n",
       "      <td>-8437.673028</td>\n",
       "      <td>42</td>\n",
       "      <td>высшее</td>\n",
       "      <td>0</td>\n",
       "      <td>женат / замужем</td>\n",
       "      <td>0</td>\n",
       "      <td>F</td>\n",
       "      <td>сотрудник</td>\n",
       "      <td>0</td>\n",
       "      <td>253875.639453</td>\n",
       "      <td>покупка жилья</td>\n",
       "    </tr>\n",
       "    <tr>\n",
       "      <td>1</td>\n",
       "      <td>1</td>\n",
       "      <td>-4024.803754</td>\n",
       "      <td>36</td>\n",
       "      <td>среднее</td>\n",
       "      <td>1</td>\n",
       "      <td>женат / замужем</td>\n",
       "      <td>0</td>\n",
       "      <td>F</td>\n",
       "      <td>сотрудник</td>\n",
       "      <td>0</td>\n",
       "      <td>112080.014102</td>\n",
       "      <td>приобретение автомобиля</td>\n",
       "    </tr>\n",
       "    <tr>\n",
       "      <td>2</td>\n",
       "      <td>0</td>\n",
       "      <td>-5623.422610</td>\n",
       "      <td>33</td>\n",
       "      <td>Среднее</td>\n",
       "      <td>1</td>\n",
       "      <td>женат / замужем</td>\n",
       "      <td>0</td>\n",
       "      <td>M</td>\n",
       "      <td>сотрудник</td>\n",
       "      <td>0</td>\n",
       "      <td>145885.952297</td>\n",
       "      <td>покупка жилья</td>\n",
       "    </tr>\n",
       "    <tr>\n",
       "      <td>3</td>\n",
       "      <td>3</td>\n",
       "      <td>-4124.747207</td>\n",
       "      <td>32</td>\n",
       "      <td>среднее</td>\n",
       "      <td>1</td>\n",
       "      <td>женат / замужем</td>\n",
       "      <td>0</td>\n",
       "      <td>M</td>\n",
       "      <td>сотрудник</td>\n",
       "      <td>0</td>\n",
       "      <td>267628.550329</td>\n",
       "      <td>дополнительное образование</td>\n",
       "    </tr>\n",
       "    <tr>\n",
       "      <td>4</td>\n",
       "      <td>0</td>\n",
       "      <td>340266.072047</td>\n",
       "      <td>53</td>\n",
       "      <td>среднее</td>\n",
       "      <td>1</td>\n",
       "      <td>гражданский брак</td>\n",
       "      <td>1</td>\n",
       "      <td>F</td>\n",
       "      <td>пенсионер</td>\n",
       "      <td>0</td>\n",
       "      <td>158616.077870</td>\n",
       "      <td>сыграть свадьбу</td>\n",
       "    </tr>\n",
       "    <tr>\n",
       "      <td>5</td>\n",
       "      <td>0</td>\n",
       "      <td>-926.185831</td>\n",
       "      <td>27</td>\n",
       "      <td>высшее</td>\n",
       "      <td>0</td>\n",
       "      <td>гражданский брак</td>\n",
       "      <td>1</td>\n",
       "      <td>M</td>\n",
       "      <td>компаньон</td>\n",
       "      <td>0</td>\n",
       "      <td>255763.565419</td>\n",
       "      <td>покупка жилья</td>\n",
       "    </tr>\n",
       "    <tr>\n",
       "      <td>6</td>\n",
       "      <td>0</td>\n",
       "      <td>-2879.202052</td>\n",
       "      <td>43</td>\n",
       "      <td>высшее</td>\n",
       "      <td>0</td>\n",
       "      <td>женат / замужем</td>\n",
       "      <td>0</td>\n",
       "      <td>F</td>\n",
       "      <td>компаньон</td>\n",
       "      <td>0</td>\n",
       "      <td>240525.971920</td>\n",
       "      <td>операции с жильем</td>\n",
       "    </tr>\n",
       "    <tr>\n",
       "      <td>7</td>\n",
       "      <td>0</td>\n",
       "      <td>-152.779569</td>\n",
       "      <td>50</td>\n",
       "      <td>СРЕДНЕЕ</td>\n",
       "      <td>1</td>\n",
       "      <td>женат / замужем</td>\n",
       "      <td>0</td>\n",
       "      <td>M</td>\n",
       "      <td>сотрудник</td>\n",
       "      <td>0</td>\n",
       "      <td>135823.934197</td>\n",
       "      <td>образование</td>\n",
       "    </tr>\n",
       "    <tr>\n",
       "      <td>8</td>\n",
       "      <td>2</td>\n",
       "      <td>-6929.865299</td>\n",
       "      <td>35</td>\n",
       "      <td>ВЫСШЕЕ</td>\n",
       "      <td>0</td>\n",
       "      <td>гражданский брак</td>\n",
       "      <td>1</td>\n",
       "      <td>F</td>\n",
       "      <td>сотрудник</td>\n",
       "      <td>0</td>\n",
       "      <td>95856.832424</td>\n",
       "      <td>на проведение свадьбы</td>\n",
       "    </tr>\n",
       "    <tr>\n",
       "      <td>9</td>\n",
       "      <td>0</td>\n",
       "      <td>-2188.756445</td>\n",
       "      <td>41</td>\n",
       "      <td>среднее</td>\n",
       "      <td>1</td>\n",
       "      <td>женат / замужем</td>\n",
       "      <td>0</td>\n",
       "      <td>M</td>\n",
       "      <td>сотрудник</td>\n",
       "      <td>0</td>\n",
       "      <td>144425.938277</td>\n",
       "      <td>покупка жилья для семьи</td>\n",
       "    </tr>\n",
       "    <tr>\n",
       "      <td>10</td>\n",
       "      <td>2</td>\n",
       "      <td>-4171.483647</td>\n",
       "      <td>36</td>\n",
       "      <td>высшее</td>\n",
       "      <td>0</td>\n",
       "      <td>женат / замужем</td>\n",
       "      <td>0</td>\n",
       "      <td>M</td>\n",
       "      <td>компаньон</td>\n",
       "      <td>0</td>\n",
       "      <td>113943.491460</td>\n",
       "      <td>покупка недвижимости</td>\n",
       "    </tr>\n",
       "    <tr>\n",
       "      <td>11</td>\n",
       "      <td>0</td>\n",
       "      <td>-792.701887</td>\n",
       "      <td>40</td>\n",
       "      <td>среднее</td>\n",
       "      <td>1</td>\n",
       "      <td>женат / замужем</td>\n",
       "      <td>0</td>\n",
       "      <td>F</td>\n",
       "      <td>сотрудник</td>\n",
       "      <td>0</td>\n",
       "      <td>77069.234271</td>\n",
       "      <td>покупка коммерческой недвижимости</td>\n",
       "    </tr>\n",
       "    <tr>\n",
       "      <td>12</td>\n",
       "      <td>0</td>\n",
       "      <td>NaN</td>\n",
       "      <td>65</td>\n",
       "      <td>среднее</td>\n",
       "      <td>1</td>\n",
       "      <td>гражданский брак</td>\n",
       "      <td>1</td>\n",
       "      <td>M</td>\n",
       "      <td>пенсионер</td>\n",
       "      <td>0</td>\n",
       "      <td>NaN</td>\n",
       "      <td>сыграть свадьбу</td>\n",
       "    </tr>\n",
       "    <tr>\n",
       "      <td>13</td>\n",
       "      <td>0</td>\n",
       "      <td>-1846.641941</td>\n",
       "      <td>54</td>\n",
       "      <td>неоконченное высшее</td>\n",
       "      <td>2</td>\n",
       "      <td>женат / замужем</td>\n",
       "      <td>0</td>\n",
       "      <td>F</td>\n",
       "      <td>сотрудник</td>\n",
       "      <td>0</td>\n",
       "      <td>130458.228857</td>\n",
       "      <td>приобретение автомобиля</td>\n",
       "    </tr>\n",
       "    <tr>\n",
       "      <td>14</td>\n",
       "      <td>0</td>\n",
       "      <td>-1844.956182</td>\n",
       "      <td>56</td>\n",
       "      <td>высшее</td>\n",
       "      <td>0</td>\n",
       "      <td>гражданский брак</td>\n",
       "      <td>1</td>\n",
       "      <td>F</td>\n",
       "      <td>компаньон</td>\n",
       "      <td>1</td>\n",
       "      <td>165127.911772</td>\n",
       "      <td>покупка жилой недвижимости</td>\n",
       "    </tr>\n",
       "  </tbody>\n",
       "</table>\n",
       "</div>"
      ],
      "text/plain": [
       "    children  days_employed  dob_years            education  education_id  \\\n",
       "0          1   -8437.673028         42               высшее             0   \n",
       "1          1   -4024.803754         36              среднее             1   \n",
       "2          0   -5623.422610         33              Среднее             1   \n",
       "3          3   -4124.747207         32              среднее             1   \n",
       "4          0  340266.072047         53              среднее             1   \n",
       "5          0    -926.185831         27               высшее             0   \n",
       "6          0   -2879.202052         43               высшее             0   \n",
       "7          0    -152.779569         50              СРЕДНЕЕ             1   \n",
       "8          2   -6929.865299         35               ВЫСШЕЕ             0   \n",
       "9          0   -2188.756445         41              среднее             1   \n",
       "10         2   -4171.483647         36               высшее             0   \n",
       "11         0    -792.701887         40              среднее             1   \n",
       "12         0            NaN         65              среднее             1   \n",
       "13         0   -1846.641941         54  неоконченное высшее             2   \n",
       "14         0   -1844.956182         56               высшее             0   \n",
       "\n",
       "       family_status  family_status_id gender income_type  debt  \\\n",
       "0    женат / замужем                 0      F   сотрудник     0   \n",
       "1    женат / замужем                 0      F   сотрудник     0   \n",
       "2    женат / замужем                 0      M   сотрудник     0   \n",
       "3    женат / замужем                 0      M   сотрудник     0   \n",
       "4   гражданский брак                 1      F   пенсионер     0   \n",
       "5   гражданский брак                 1      M   компаньон     0   \n",
       "6    женат / замужем                 0      F   компаньон     0   \n",
       "7    женат / замужем                 0      M   сотрудник     0   \n",
       "8   гражданский брак                 1      F   сотрудник     0   \n",
       "9    женат / замужем                 0      M   сотрудник     0   \n",
       "10   женат / замужем                 0      M   компаньон     0   \n",
       "11   женат / замужем                 0      F   сотрудник     0   \n",
       "12  гражданский брак                 1      M   пенсионер     0   \n",
       "13   женат / замужем                 0      F   сотрудник     0   \n",
       "14  гражданский брак                 1      F   компаньон     1   \n",
       "\n",
       "     total_income                            purpose  \n",
       "0   253875.639453                      покупка жилья  \n",
       "1   112080.014102            приобретение автомобиля  \n",
       "2   145885.952297                      покупка жилья  \n",
       "3   267628.550329         дополнительное образование  \n",
       "4   158616.077870                    сыграть свадьбу  \n",
       "5   255763.565419                      покупка жилья  \n",
       "6   240525.971920                  операции с жильем  \n",
       "7   135823.934197                        образование  \n",
       "8    95856.832424              на проведение свадьбы  \n",
       "9   144425.938277            покупка жилья для семьи  \n",
       "10  113943.491460               покупка недвижимости  \n",
       "11   77069.234271  покупка коммерческой недвижимости  \n",
       "12            NaN                    сыграть свадьбу  \n",
       "13  130458.228857            приобретение автомобиля  \n",
       "14  165127.911772         покупка жилой недвижимости  "
      ]
     },
     "execution_count": 3,
     "metadata": {},
     "output_type": "execute_result"
    }
   ],
   "source": [
    "data.head(15)"
   ]
  },
  {
   "cell_type": "markdown",
   "metadata": {},
   "source": [
    "**Вывод**\n",
    "1. Все названия столбцов оформлены правильно\n",
    "2. В столбцах days_employed и total_income есть пропуски. Пропускиесть одновременно в обоих столбцах, скорее всего, это техническая ошибка. Можно будет заполнить их средними по выделенным группам.\n",
    "3. Тип данных в столбцах days_employed и total_income нужно заменить на int\n",
    "4. В столбце days_employed даны как отрицательные, так и положительные значения, скорее всего отрицательные числа получились из-за метода подсчета, а вот положительные числа - очень большие, при их переводе из дней в года получается больше 1000 лет, эти данные некорректны. Необходимо привести числа к одному виду и избавиться от экстремальных значений.\n",
    "6. В столбце dob_years есть возраст 0, такого быть не может, значит скорее всего это пропущенные значения. Необходимо заполнить их средними значениями для выделенных групп.\n",
    "7. В столбце education значения не приведены к одному регистру.\n",
    "8. Столбцы education и family_status можно вынести в отдельные словари, так как есть соответствующие им столбцы с числовым обозначением тех же категорий.\n",
    "9. В столбце purpose цели взятия кредита указаны в свободной форме, а не разбиты по типам. С помощью лемматизации нужно выделить основные цели и проставить их в отдельном столбце."
   ]
  },
  {
   "cell_type": "markdown",
   "metadata": {},
   "source": [
    "## Шаг 2. Предобработка данных"
   ]
  },
  {
   "cell_type": "markdown",
   "metadata": {},
   "source": [
    "### Обработка пропусков"
   ]
  },
  {
   "cell_type": "markdown",
   "metadata": {},
   "source": [
    "Исследуем и посчитаем пропуски."
   ]
  },
  {
   "cell_type": "code",
   "execution_count": 4,
   "metadata": {},
   "outputs": [
    {
     "data": {
      "text/plain": [
       "children               0\n",
       "days_employed       2174\n",
       "dob_years              0\n",
       "education              0\n",
       "education_id           0\n",
       "family_status          0\n",
       "family_status_id       0\n",
       "gender                 0\n",
       "income_type            0\n",
       "debt                   0\n",
       "total_income        2174\n",
       "purpose                0\n",
       "dtype: int64"
      ]
     },
     "execution_count": 4,
     "metadata": {},
     "output_type": "execute_result"
    }
   ],
   "source": [
    "data.isna().sum()"
   ]
  },
  {
   "cell_type": "code",
   "execution_count": 5,
   "metadata": {
    "scrolled": true
   },
   "outputs": [
    {
     "data": {
      "text/html": [
       "<div>\n",
       "<style scoped>\n",
       "    .dataframe tbody tr th:only-of-type {\n",
       "        vertical-align: middle;\n",
       "    }\n",
       "\n",
       "    .dataframe tbody tr th {\n",
       "        vertical-align: top;\n",
       "    }\n",
       "\n",
       "    .dataframe thead th {\n",
       "        text-align: right;\n",
       "    }\n",
       "</style>\n",
       "<table border=\"1\" class=\"dataframe\">\n",
       "  <thead>\n",
       "    <tr style=\"text-align: right;\">\n",
       "      <th></th>\n",
       "      <th>children</th>\n",
       "      <th>days_employed</th>\n",
       "      <th>dob_years</th>\n",
       "      <th>education</th>\n",
       "      <th>education_id</th>\n",
       "      <th>family_status</th>\n",
       "      <th>family_status_id</th>\n",
       "      <th>gender</th>\n",
       "      <th>income_type</th>\n",
       "      <th>debt</th>\n",
       "      <th>total_income</th>\n",
       "      <th>purpose</th>\n",
       "    </tr>\n",
       "  </thead>\n",
       "  <tbody>\n",
       "    <tr>\n",
       "      <td>12</td>\n",
       "      <td>0</td>\n",
       "      <td>NaN</td>\n",
       "      <td>65</td>\n",
       "      <td>среднее</td>\n",
       "      <td>1</td>\n",
       "      <td>гражданский брак</td>\n",
       "      <td>1</td>\n",
       "      <td>M</td>\n",
       "      <td>пенсионер</td>\n",
       "      <td>0</td>\n",
       "      <td>NaN</td>\n",
       "      <td>сыграть свадьбу</td>\n",
       "    </tr>\n",
       "    <tr>\n",
       "      <td>26</td>\n",
       "      <td>0</td>\n",
       "      <td>NaN</td>\n",
       "      <td>41</td>\n",
       "      <td>среднее</td>\n",
       "      <td>1</td>\n",
       "      <td>женат / замужем</td>\n",
       "      <td>0</td>\n",
       "      <td>M</td>\n",
       "      <td>госслужащий</td>\n",
       "      <td>0</td>\n",
       "      <td>NaN</td>\n",
       "      <td>образование</td>\n",
       "    </tr>\n",
       "    <tr>\n",
       "      <td>29</td>\n",
       "      <td>0</td>\n",
       "      <td>NaN</td>\n",
       "      <td>63</td>\n",
       "      <td>среднее</td>\n",
       "      <td>1</td>\n",
       "      <td>Не женат / не замужем</td>\n",
       "      <td>4</td>\n",
       "      <td>F</td>\n",
       "      <td>пенсионер</td>\n",
       "      <td>0</td>\n",
       "      <td>NaN</td>\n",
       "      <td>строительство жилой недвижимости</td>\n",
       "    </tr>\n",
       "    <tr>\n",
       "      <td>41</td>\n",
       "      <td>0</td>\n",
       "      <td>NaN</td>\n",
       "      <td>50</td>\n",
       "      <td>среднее</td>\n",
       "      <td>1</td>\n",
       "      <td>женат / замужем</td>\n",
       "      <td>0</td>\n",
       "      <td>F</td>\n",
       "      <td>госслужащий</td>\n",
       "      <td>0</td>\n",
       "      <td>NaN</td>\n",
       "      <td>сделка с подержанным автомобилем</td>\n",
       "    </tr>\n",
       "    <tr>\n",
       "      <td>55</td>\n",
       "      <td>0</td>\n",
       "      <td>NaN</td>\n",
       "      <td>54</td>\n",
       "      <td>среднее</td>\n",
       "      <td>1</td>\n",
       "      <td>гражданский брак</td>\n",
       "      <td>1</td>\n",
       "      <td>F</td>\n",
       "      <td>пенсионер</td>\n",
       "      <td>1</td>\n",
       "      <td>NaN</td>\n",
       "      <td>сыграть свадьбу</td>\n",
       "    </tr>\n",
       "    <tr>\n",
       "      <td>65</td>\n",
       "      <td>0</td>\n",
       "      <td>NaN</td>\n",
       "      <td>21</td>\n",
       "      <td>среднее</td>\n",
       "      <td>1</td>\n",
       "      <td>Не женат / не замужем</td>\n",
       "      <td>4</td>\n",
       "      <td>M</td>\n",
       "      <td>компаньон</td>\n",
       "      <td>0</td>\n",
       "      <td>NaN</td>\n",
       "      <td>операции с коммерческой недвижимостью</td>\n",
       "    </tr>\n",
       "    <tr>\n",
       "      <td>67</td>\n",
       "      <td>0</td>\n",
       "      <td>NaN</td>\n",
       "      <td>52</td>\n",
       "      <td>высшее</td>\n",
       "      <td>0</td>\n",
       "      <td>женат / замужем</td>\n",
       "      <td>0</td>\n",
       "      <td>F</td>\n",
       "      <td>пенсионер</td>\n",
       "      <td>0</td>\n",
       "      <td>NaN</td>\n",
       "      <td>покупка жилья для семьи</td>\n",
       "    </tr>\n",
       "    <tr>\n",
       "      <td>72</td>\n",
       "      <td>1</td>\n",
       "      <td>NaN</td>\n",
       "      <td>32</td>\n",
       "      <td>высшее</td>\n",
       "      <td>0</td>\n",
       "      <td>женат / замужем</td>\n",
       "      <td>0</td>\n",
       "      <td>M</td>\n",
       "      <td>госслужащий</td>\n",
       "      <td>0</td>\n",
       "      <td>NaN</td>\n",
       "      <td>операции с коммерческой недвижимостью</td>\n",
       "    </tr>\n",
       "    <tr>\n",
       "      <td>82</td>\n",
       "      <td>2</td>\n",
       "      <td>NaN</td>\n",
       "      <td>50</td>\n",
       "      <td>высшее</td>\n",
       "      <td>0</td>\n",
       "      <td>женат / замужем</td>\n",
       "      <td>0</td>\n",
       "      <td>F</td>\n",
       "      <td>сотрудник</td>\n",
       "      <td>0</td>\n",
       "      <td>NaN</td>\n",
       "      <td>жилье</td>\n",
       "    </tr>\n",
       "    <tr>\n",
       "      <td>83</td>\n",
       "      <td>0</td>\n",
       "      <td>NaN</td>\n",
       "      <td>52</td>\n",
       "      <td>среднее</td>\n",
       "      <td>1</td>\n",
       "      <td>женат / замужем</td>\n",
       "      <td>0</td>\n",
       "      <td>M</td>\n",
       "      <td>сотрудник</td>\n",
       "      <td>0</td>\n",
       "      <td>NaN</td>\n",
       "      <td>жилье</td>\n",
       "    </tr>\n",
       "    <tr>\n",
       "      <td>90</td>\n",
       "      <td>2</td>\n",
       "      <td>NaN</td>\n",
       "      <td>35</td>\n",
       "      <td>высшее</td>\n",
       "      <td>0</td>\n",
       "      <td>женат / замужем</td>\n",
       "      <td>0</td>\n",
       "      <td>F</td>\n",
       "      <td>сотрудник</td>\n",
       "      <td>0</td>\n",
       "      <td>NaN</td>\n",
       "      <td>операции с жильем</td>\n",
       "    </tr>\n",
       "    <tr>\n",
       "      <td>94</td>\n",
       "      <td>1</td>\n",
       "      <td>NaN</td>\n",
       "      <td>34</td>\n",
       "      <td>высшее</td>\n",
       "      <td>0</td>\n",
       "      <td>гражданский брак</td>\n",
       "      <td>1</td>\n",
       "      <td>F</td>\n",
       "      <td>компаньон</td>\n",
       "      <td>0</td>\n",
       "      <td>NaN</td>\n",
       "      <td>на проведение свадьбы</td>\n",
       "    </tr>\n",
       "    <tr>\n",
       "      <td>96</td>\n",
       "      <td>0</td>\n",
       "      <td>NaN</td>\n",
       "      <td>44</td>\n",
       "      <td>СРЕДНЕЕ</td>\n",
       "      <td>1</td>\n",
       "      <td>женат / замужем</td>\n",
       "      <td>0</td>\n",
       "      <td>F</td>\n",
       "      <td>сотрудник</td>\n",
       "      <td>0</td>\n",
       "      <td>NaN</td>\n",
       "      <td>покупка жилой недвижимости</td>\n",
       "    </tr>\n",
       "    <tr>\n",
       "      <td>97</td>\n",
       "      <td>0</td>\n",
       "      <td>NaN</td>\n",
       "      <td>47</td>\n",
       "      <td>высшее</td>\n",
       "      <td>0</td>\n",
       "      <td>женат / замужем</td>\n",
       "      <td>0</td>\n",
       "      <td>F</td>\n",
       "      <td>сотрудник</td>\n",
       "      <td>0</td>\n",
       "      <td>NaN</td>\n",
       "      <td>профильное образование</td>\n",
       "    </tr>\n",
       "    <tr>\n",
       "      <td>120</td>\n",
       "      <td>0</td>\n",
       "      <td>NaN</td>\n",
       "      <td>46</td>\n",
       "      <td>среднее</td>\n",
       "      <td>1</td>\n",
       "      <td>женат / замужем</td>\n",
       "      <td>0</td>\n",
       "      <td>F</td>\n",
       "      <td>сотрудник</td>\n",
       "      <td>0</td>\n",
       "      <td>NaN</td>\n",
       "      <td>высшее образование</td>\n",
       "    </tr>\n",
       "  </tbody>\n",
       "</table>\n",
       "</div>"
      ],
      "text/plain": [
       "     children  days_employed  dob_years education  education_id  \\\n",
       "12          0            NaN         65   среднее             1   \n",
       "26          0            NaN         41   среднее             1   \n",
       "29          0            NaN         63   среднее             1   \n",
       "41          0            NaN         50   среднее             1   \n",
       "55          0            NaN         54   среднее             1   \n",
       "65          0            NaN         21   среднее             1   \n",
       "67          0            NaN         52    высшее             0   \n",
       "72          1            NaN         32    высшее             0   \n",
       "82          2            NaN         50    высшее             0   \n",
       "83          0            NaN         52   среднее             1   \n",
       "90          2            NaN         35    высшее             0   \n",
       "94          1            NaN         34    высшее             0   \n",
       "96          0            NaN         44   СРЕДНЕЕ             1   \n",
       "97          0            NaN         47    высшее             0   \n",
       "120         0            NaN         46   среднее             1   \n",
       "\n",
       "             family_status  family_status_id gender  income_type  debt  \\\n",
       "12        гражданский брак                 1      M    пенсионер     0   \n",
       "26         женат / замужем                 0      M  госслужащий     0   \n",
       "29   Не женат / не замужем                 4      F    пенсионер     0   \n",
       "41         женат / замужем                 0      F  госслужащий     0   \n",
       "55        гражданский брак                 1      F    пенсионер     1   \n",
       "65   Не женат / не замужем                 4      M    компаньон     0   \n",
       "67         женат / замужем                 0      F    пенсионер     0   \n",
       "72         женат / замужем                 0      M  госслужащий     0   \n",
       "82         женат / замужем                 0      F    сотрудник     0   \n",
       "83         женат / замужем                 0      M    сотрудник     0   \n",
       "90         женат / замужем                 0      F    сотрудник     0   \n",
       "94        гражданский брак                 1      F    компаньон     0   \n",
       "96         женат / замужем                 0      F    сотрудник     0   \n",
       "97         женат / замужем                 0      F    сотрудник     0   \n",
       "120        женат / замужем                 0      F    сотрудник     0   \n",
       "\n",
       "     total_income                                purpose  \n",
       "12            NaN                        сыграть свадьбу  \n",
       "26            NaN                            образование  \n",
       "29            NaN       строительство жилой недвижимости  \n",
       "41            NaN       сделка с подержанным автомобилем  \n",
       "55            NaN                        сыграть свадьбу  \n",
       "65            NaN  операции с коммерческой недвижимостью  \n",
       "67            NaN                покупка жилья для семьи  \n",
       "72            NaN  операции с коммерческой недвижимостью  \n",
       "82            NaN                                  жилье  \n",
       "83            NaN                                  жилье  \n",
       "90            NaN                      операции с жильем  \n",
       "94            NaN                  на проведение свадьбы  \n",
       "96            NaN             покупка жилой недвижимости  \n",
       "97            NaN                 профильное образование  \n",
       "120           NaN                     высшее образование  "
      ]
     },
     "execution_count": 5,
     "metadata": {},
     "output_type": "execute_result"
    }
   ],
   "source": [
    "data[data['days_employed'].isna()].head(15)"
   ]
  },
  {
   "cell_type": "code",
   "execution_count": 6,
   "metadata": {
    "scrolled": true
   },
   "outputs": [
    {
     "data": {
      "text/html": [
       "<div>\n",
       "<style scoped>\n",
       "    .dataframe tbody tr th:only-of-type {\n",
       "        vertical-align: middle;\n",
       "    }\n",
       "\n",
       "    .dataframe tbody tr th {\n",
       "        vertical-align: top;\n",
       "    }\n",
       "\n",
       "    .dataframe thead th {\n",
       "        text-align: right;\n",
       "    }\n",
       "</style>\n",
       "<table border=\"1\" class=\"dataframe\">\n",
       "  <thead>\n",
       "    <tr style=\"text-align: right;\">\n",
       "      <th></th>\n",
       "      <th>children</th>\n",
       "      <th>days_employed</th>\n",
       "      <th>dob_years</th>\n",
       "      <th>education</th>\n",
       "      <th>education_id</th>\n",
       "      <th>family_status</th>\n",
       "      <th>family_status_id</th>\n",
       "      <th>gender</th>\n",
       "      <th>income_type</th>\n",
       "      <th>debt</th>\n",
       "      <th>total_income</th>\n",
       "      <th>purpose</th>\n",
       "    </tr>\n",
       "  </thead>\n",
       "  <tbody>\n",
       "    <tr>\n",
       "      <td>99</td>\n",
       "      <td>0</td>\n",
       "      <td>346541.618895</td>\n",
       "      <td>0</td>\n",
       "      <td>Среднее</td>\n",
       "      <td>1</td>\n",
       "      <td>женат / замужем</td>\n",
       "      <td>0</td>\n",
       "      <td>F</td>\n",
       "      <td>пенсионер</td>\n",
       "      <td>0</td>\n",
       "      <td>71291.522491</td>\n",
       "      <td>автомобиль</td>\n",
       "    </tr>\n",
       "    <tr>\n",
       "      <td>149</td>\n",
       "      <td>0</td>\n",
       "      <td>-2664.273168</td>\n",
       "      <td>0</td>\n",
       "      <td>среднее</td>\n",
       "      <td>1</td>\n",
       "      <td>в разводе</td>\n",
       "      <td>3</td>\n",
       "      <td>F</td>\n",
       "      <td>сотрудник</td>\n",
       "      <td>0</td>\n",
       "      <td>70176.435951</td>\n",
       "      <td>операции с жильем</td>\n",
       "    </tr>\n",
       "    <tr>\n",
       "      <td>270</td>\n",
       "      <td>3</td>\n",
       "      <td>-1872.663186</td>\n",
       "      <td>0</td>\n",
       "      <td>среднее</td>\n",
       "      <td>1</td>\n",
       "      <td>женат / замужем</td>\n",
       "      <td>0</td>\n",
       "      <td>F</td>\n",
       "      <td>сотрудник</td>\n",
       "      <td>0</td>\n",
       "      <td>102166.458894</td>\n",
       "      <td>ремонт жилью</td>\n",
       "    </tr>\n",
       "    <tr>\n",
       "      <td>578</td>\n",
       "      <td>0</td>\n",
       "      <td>397856.565013</td>\n",
       "      <td>0</td>\n",
       "      <td>среднее</td>\n",
       "      <td>1</td>\n",
       "      <td>женат / замужем</td>\n",
       "      <td>0</td>\n",
       "      <td>F</td>\n",
       "      <td>пенсионер</td>\n",
       "      <td>0</td>\n",
       "      <td>97620.687042</td>\n",
       "      <td>строительство собственной недвижимости</td>\n",
       "    </tr>\n",
       "    <tr>\n",
       "      <td>1040</td>\n",
       "      <td>0</td>\n",
       "      <td>-1158.029561</td>\n",
       "      <td>0</td>\n",
       "      <td>высшее</td>\n",
       "      <td>0</td>\n",
       "      <td>в разводе</td>\n",
       "      <td>3</td>\n",
       "      <td>F</td>\n",
       "      <td>компаньон</td>\n",
       "      <td>0</td>\n",
       "      <td>303994.134987</td>\n",
       "      <td>свой автомобиль</td>\n",
       "    </tr>\n",
       "    <tr>\n",
       "      <td>1149</td>\n",
       "      <td>0</td>\n",
       "      <td>-934.654854</td>\n",
       "      <td>0</td>\n",
       "      <td>среднее</td>\n",
       "      <td>1</td>\n",
       "      <td>женат / замужем</td>\n",
       "      <td>0</td>\n",
       "      <td>F</td>\n",
       "      <td>компаньон</td>\n",
       "      <td>0</td>\n",
       "      <td>201852.430096</td>\n",
       "      <td>покупка недвижимости</td>\n",
       "    </tr>\n",
       "    <tr>\n",
       "      <td>1175</td>\n",
       "      <td>0</td>\n",
       "      <td>370879.508002</td>\n",
       "      <td>0</td>\n",
       "      <td>среднее</td>\n",
       "      <td>1</td>\n",
       "      <td>женат / замужем</td>\n",
       "      <td>0</td>\n",
       "      <td>F</td>\n",
       "      <td>пенсионер</td>\n",
       "      <td>0</td>\n",
       "      <td>313949.845188</td>\n",
       "      <td>получение дополнительного образования</td>\n",
       "    </tr>\n",
       "    <tr>\n",
       "      <td>1386</td>\n",
       "      <td>0</td>\n",
       "      <td>-5043.219890</td>\n",
       "      <td>0</td>\n",
       "      <td>высшее</td>\n",
       "      <td>0</td>\n",
       "      <td>женат / замужем</td>\n",
       "      <td>0</td>\n",
       "      <td>M</td>\n",
       "      <td>госслужащий</td>\n",
       "      <td>0</td>\n",
       "      <td>240523.618071</td>\n",
       "      <td>сделка с автомобилем</td>\n",
       "    </tr>\n",
       "    <tr>\n",
       "      <td>1890</td>\n",
       "      <td>0</td>\n",
       "      <td>NaN</td>\n",
       "      <td>0</td>\n",
       "      <td>высшее</td>\n",
       "      <td>0</td>\n",
       "      <td>Не женат / не замужем</td>\n",
       "      <td>4</td>\n",
       "      <td>F</td>\n",
       "      <td>сотрудник</td>\n",
       "      <td>0</td>\n",
       "      <td>NaN</td>\n",
       "      <td>жилье</td>\n",
       "    </tr>\n",
       "    <tr>\n",
       "      <td>1898</td>\n",
       "      <td>0</td>\n",
       "      <td>370144.537021</td>\n",
       "      <td>0</td>\n",
       "      <td>среднее</td>\n",
       "      <td>1</td>\n",
       "      <td>вдовец / вдова</td>\n",
       "      <td>2</td>\n",
       "      <td>F</td>\n",
       "      <td>пенсионер</td>\n",
       "      <td>0</td>\n",
       "      <td>127400.268338</td>\n",
       "      <td>на покупку автомобиля</td>\n",
       "    </tr>\n",
       "    <tr>\n",
       "      <td>2082</td>\n",
       "      <td>0</td>\n",
       "      <td>-10689.250498</td>\n",
       "      <td>0</td>\n",
       "      <td>среднее</td>\n",
       "      <td>1</td>\n",
       "      <td>женат / замужем</td>\n",
       "      <td>0</td>\n",
       "      <td>F</td>\n",
       "      <td>сотрудник</td>\n",
       "      <td>0</td>\n",
       "      <td>386373.636958</td>\n",
       "      <td>операции с недвижимостью</td>\n",
       "    </tr>\n",
       "    <tr>\n",
       "      <td>2284</td>\n",
       "      <td>0</td>\n",
       "      <td>NaN</td>\n",
       "      <td>0</td>\n",
       "      <td>среднее</td>\n",
       "      <td>1</td>\n",
       "      <td>вдовец / вдова</td>\n",
       "      <td>2</td>\n",
       "      <td>F</td>\n",
       "      <td>пенсионер</td>\n",
       "      <td>0</td>\n",
       "      <td>NaN</td>\n",
       "      <td>недвижимость</td>\n",
       "    </tr>\n",
       "    <tr>\n",
       "      <td>2469</td>\n",
       "      <td>0</td>\n",
       "      <td>-794.876230</td>\n",
       "      <td>0</td>\n",
       "      <td>среднее</td>\n",
       "      <td>1</td>\n",
       "      <td>гражданский брак</td>\n",
       "      <td>1</td>\n",
       "      <td>F</td>\n",
       "      <td>сотрудник</td>\n",
       "      <td>0</td>\n",
       "      <td>95967.700317</td>\n",
       "      <td>сыграть свадьбу</td>\n",
       "    </tr>\n",
       "    <tr>\n",
       "      <td>2487</td>\n",
       "      <td>0</td>\n",
       "      <td>-2497.754414</td>\n",
       "      <td>0</td>\n",
       "      <td>среднее</td>\n",
       "      <td>1</td>\n",
       "      <td>женат / замужем</td>\n",
       "      <td>0</td>\n",
       "      <td>F</td>\n",
       "      <td>сотрудник</td>\n",
       "      <td>1</td>\n",
       "      <td>91367.005172</td>\n",
       "      <td>недвижимость</td>\n",
       "    </tr>\n",
       "    <tr>\n",
       "      <td>2870</td>\n",
       "      <td>0</td>\n",
       "      <td>-1875.972013</td>\n",
       "      <td>0</td>\n",
       "      <td>среднее</td>\n",
       "      <td>1</td>\n",
       "      <td>женат / замужем</td>\n",
       "      <td>0</td>\n",
       "      <td>F</td>\n",
       "      <td>компаньон</td>\n",
       "      <td>0</td>\n",
       "      <td>167713.212064</td>\n",
       "      <td>на покупку своего автомобиля</td>\n",
       "    </tr>\n",
       "  </tbody>\n",
       "</table>\n",
       "</div>"
      ],
      "text/plain": [
       "      children  days_employed  dob_years education  education_id  \\\n",
       "99           0  346541.618895          0   Среднее             1   \n",
       "149          0   -2664.273168          0   среднее             1   \n",
       "270          3   -1872.663186          0   среднее             1   \n",
       "578          0  397856.565013          0   среднее             1   \n",
       "1040         0   -1158.029561          0    высшее             0   \n",
       "1149         0    -934.654854          0   среднее             1   \n",
       "1175         0  370879.508002          0   среднее             1   \n",
       "1386         0   -5043.219890          0    высшее             0   \n",
       "1890         0            NaN          0    высшее             0   \n",
       "1898         0  370144.537021          0   среднее             1   \n",
       "2082         0  -10689.250498          0   среднее             1   \n",
       "2284         0            NaN          0   среднее             1   \n",
       "2469         0    -794.876230          0   среднее             1   \n",
       "2487         0   -2497.754414          0   среднее             1   \n",
       "2870         0   -1875.972013          0   среднее             1   \n",
       "\n",
       "              family_status  family_status_id gender  income_type  debt  \\\n",
       "99          женат / замужем                 0      F    пенсионер     0   \n",
       "149               в разводе                 3      F    сотрудник     0   \n",
       "270         женат / замужем                 0      F    сотрудник     0   \n",
       "578         женат / замужем                 0      F    пенсионер     0   \n",
       "1040              в разводе                 3      F    компаньон     0   \n",
       "1149        женат / замужем                 0      F    компаньон     0   \n",
       "1175        женат / замужем                 0      F    пенсионер     0   \n",
       "1386        женат / замужем                 0      M  госслужащий     0   \n",
       "1890  Не женат / не замужем                 4      F    сотрудник     0   \n",
       "1898         вдовец / вдова                 2      F    пенсионер     0   \n",
       "2082        женат / замужем                 0      F    сотрудник     0   \n",
       "2284         вдовец / вдова                 2      F    пенсионер     0   \n",
       "2469       гражданский брак                 1      F    сотрудник     0   \n",
       "2487        женат / замужем                 0      F    сотрудник     1   \n",
       "2870        женат / замужем                 0      F    компаньон     0   \n",
       "\n",
       "       total_income                                 purpose  \n",
       "99     71291.522491                              автомобиль  \n",
       "149    70176.435951                       операции с жильем  \n",
       "270   102166.458894                            ремонт жилью  \n",
       "578    97620.687042  строительство собственной недвижимости  \n",
       "1040  303994.134987                         свой автомобиль  \n",
       "1149  201852.430096                    покупка недвижимости  \n",
       "1175  313949.845188   получение дополнительного образования  \n",
       "1386  240523.618071                    сделка с автомобилем  \n",
       "1890            NaN                                   жилье  \n",
       "1898  127400.268338                   на покупку автомобиля  \n",
       "2082  386373.636958                операции с недвижимостью  \n",
       "2284            NaN                            недвижимость  \n",
       "2469   95967.700317                         сыграть свадьбу  \n",
       "2487   91367.005172                            недвижимость  \n",
       "2870  167713.212064            на покупку своего автомобиля  "
      ]
     },
     "execution_count": 6,
     "metadata": {},
     "output_type": "execute_result"
    }
   ],
   "source": [
    "data[data['dob_years'] == data['dob_years'].min()].head(15)"
   ]
  },
  {
   "cell_type": "code",
   "execution_count": 7,
   "metadata": {
    "scrolled": true
   },
   "outputs": [
    {
     "name": "stdout",
     "output_type": "stream",
     "text": [
      "Нулевых значений в столбце dob_years 101\n"
     ]
    }
   ],
   "source": [
    "print('Нулевых значений в столбце dob_years',\n",
    "      data[data['dob_years'] == data['dob_years'].min()]['dob_years'].count())"
   ]
  },
  {
   "cell_type": "markdown",
   "metadata": {},
   "source": [
    "Пропуски встречаются в двух столбцах days_employed и total_income. В столбце dob_years встречаются нулевые значения, что также не может являться верным значением и скорее всего нулями обозначили пропуски."
   ]
  },
  {
   "cell_type": "markdown",
   "metadata": {},
   "source": [
    "#### Убираем нули в графе возраст"
   ]
  },
  {
   "cell_type": "markdown",
   "metadata": {},
   "source": [
    "В датасете в столбце dob_years есть 101 нулевое значение.\n",
    "Чтобы заполнить эти значения соответствующими числами, по возрасту можно разделить всех клиентов на три категории: пенсионеры, студенты и люди среднего возраста. Для каждой группы высчитать медианный возраст и присвоить его на место пропущенных значений.\n",
    "\n",
    "Обрабатываем группу пенсионеры."
   ]
  },
  {
   "cell_type": "code",
   "execution_count": 8,
   "metadata": {
    "scrolled": true
   },
   "outputs": [
    {
     "name": "stdout",
     "output_type": "stream",
     "text": [
      "Пропущено 20 значений\n"
     ]
    }
   ],
   "source": [
    "print('Пропущено',\n",
    "      data[(data['income_type'] == 'пенсионер') & (\n",
    "          data['dob_years'] == 0)]['dob_years'].count(),\n",
    "      'значений')"
   ]
  },
  {
   "cell_type": "code",
   "execution_count": 9,
   "metadata": {},
   "outputs": [
    {
     "name": "stdout",
     "output_type": "stream",
     "text": [
      "Средний возраст пенсионеров - 60 лет\n"
     ]
    }
   ],
   "source": [
    "retiree_avg_age = int(data[(data['income_type'] == 'пенсионер') & (\n",
    "    data['dob_years'] != 0)]['dob_years'].median())\n",
    "print('Средний возраст пенсионеров -', retiree_avg_age, 'лет')"
   ]
  },
  {
   "cell_type": "code",
   "execution_count": 10,
   "metadata": {},
   "outputs": [
    {
     "name": "stdout",
     "output_type": "stream",
     "text": [
      "Пропущено 0 значений\n"
     ]
    }
   ],
   "source": [
    "data.loc[(data['income_type'] == 'пенсионер') & (\n",
    "    data['dob_years'] == 0), 'dob_years'] = retiree_avg_age\n",
    "print('Пропущено',\n",
    "      data[(data['income_type'] == 'пенсионер') & (\n",
    "          data['dob_years'] == 0)]['dob_years'].count(),\n",
    "      'значений')"
   ]
  },
  {
   "cell_type": "markdown",
   "metadata": {},
   "source": [
    "В категории 'пенсионер' возраст проставлен.\n",
    "\n",
    "Переходим к категории 'студент'."
   ]
  },
  {
   "cell_type": "code",
   "execution_count": 11,
   "metadata": {
    "scrolled": true
   },
   "outputs": [
    {
     "name": "stdout",
     "output_type": "stream",
     "text": [
      "Пропущено 0 значений\n"
     ]
    }
   ],
   "source": [
    "print('Пропущено',\n",
    "      data[(data['income_type'] == 'студент') & (\n",
    "          data['dob_years'] == 0)]['dob_years'].count(),\n",
    "      'значений')"
   ]
  },
  {
   "cell_type": "markdown",
   "metadata": {},
   "source": [
    "В категории 'студент' возраст проставлен.\n",
    "\n",
    "Переходим к категории 'средний возраст'."
   ]
  },
  {
   "cell_type": "code",
   "execution_count": 12,
   "metadata": {},
   "outputs": [
    {
     "name": "stdout",
     "output_type": "stream",
     "text": [
      "Пропущено 81 значение\n"
     ]
    }
   ],
   "source": [
    "print('Пропущено',\n",
    "      data[(data['income_type'] != 'пенсионер') & (data['income_type'] != 'студент')\n",
    "           & (data['dob_years'] == 0)]['dob_years'].count(),\n",
    "      'значение')"
   ]
  },
  {
   "cell_type": "code",
   "execution_count": 13,
   "metadata": {},
   "outputs": [
    {
     "name": "stdout",
     "output_type": "stream",
     "text": [
      "Средний возраст 39 лет\n"
     ]
    }
   ],
   "source": [
    "others_avg_age = int(data[(data['income_type'] != 'пенсионер') & (data['income_type'] != 'студент')\n",
    "                          & (data['dob_years'] != 0)]['dob_years'].median())\n",
    "print('Средний возраст', others_avg_age, 'лет')"
   ]
  },
  {
   "cell_type": "code",
   "execution_count": 14,
   "metadata": {},
   "outputs": [],
   "source": [
    "data.loc[(data['income_type'] != 'пенсионер') & (data['income_type'] != 'студент')\n",
    "         & (data['dob_years'] == 0), 'dob_years'] = others_avg_age"
   ]
  },
  {
   "cell_type": "code",
   "execution_count": 15,
   "metadata": {},
   "outputs": [
    {
     "name": "stdout",
     "output_type": "stream",
     "text": [
      "Пропущено 0 значений\n"
     ]
    }
   ],
   "source": [
    "print('Пропущено',\n",
    "      data[data['dob_years'] == 0]['dob_years'].count(),\n",
    "      'значений')"
   ]
  },
  {
   "cell_type": "code",
   "execution_count": 16,
   "metadata": {
    "scrolled": false
   },
   "outputs": [
    {
     "name": "stdout",
     "output_type": "stream",
     "text": [
      "Минимальный возраст 19 лет\n"
     ]
    }
   ],
   "source": [
    "print('Минимальный возраст', data['dob_years'].min(), 'лет')"
   ]
  },
  {
   "cell_type": "markdown",
   "metadata": {},
   "source": [
    "Новый минимальный возраст - 19 лет, все пропуски заполнены."
   ]
  },
  {
   "cell_type": "markdown",
   "metadata": {},
   "source": [
    "#### Убираем пропуски в столбце days_employed"
   ]
  },
  {
   "cell_type": "markdown",
   "metadata": {},
   "source": [
    "Стаж как правило прямо пропорционален возрасту, поэтому для заполнения отстутствующих значений можно посчитать среднее соотношение возраста и стажа и высчитать стаж для каждого необходимого случая. Для этого сначала нужно привести все присутствующие значения к одному виду - положительному числу, выражающему стаж в днях. Отрицательные числа берем по модулю, а положительные делим на возраст из соответствующей строки. По видимости, вычисление стажа в таких случаях было сделано умножением среднего стажа на возраст, при этом в формулу попала ошибка и умножение на возраст было произведено два раза."
   ]
  },
  {
   "cell_type": "code",
   "execution_count": 17,
   "metadata": {},
   "outputs": [],
   "source": [
    "def correct_work_experience(row):\n",
    "    \"\"\"\n",
    "    Функция приводит данные столбца days_employed к одному виду - \n",
    "    положительное число, выражающее стаж в днях.\n",
    "    \"\"\"\n",
    "    days = row['days_employed']\n",
    "    age = row['dob_years']\n",
    "    if days == 'NaN':\n",
    "        return days\n",
    "    if days < 0:\n",
    "        return abs(days)\n",
    "    else:\n",
    "        try:\n",
    "            return days / age\n",
    "        except:\n",
    "            'Деление на ноль, в возрасте ошибка!'"
   ]
  },
  {
   "cell_type": "code",
   "execution_count": 18,
   "metadata": {},
   "outputs": [
    {
     "name": "stdout",
     "output_type": "stream",
     "text": [
      "В столбце days_employed 0 некорректных значений\n"
     ]
    }
   ],
   "source": [
    "data['days_employed'] = data.apply(correct_work_experience, axis=1)\n",
    "max_work_exp = 100 * 365\n",
    "print('В столбце days_employed',\n",
    "      data[(data['days_employed'] > max_work_exp) | (\n",
    "          data['days_employed'] < 0)]['days_employed'].count(),\n",
    "      'некорректных значений')"
   ]
  },
  {
   "cell_type": "markdown",
   "metadata": {},
   "source": [
    "Высчитываем средний стаж по возрастам и заполняем отсутствующие значения"
   ]
  },
  {
   "cell_type": "code",
   "execution_count": 19,
   "metadata": {
    "scrolled": true
   },
   "outputs": [
    {
     "data": {
      "text/plain": [
       "dob_years\n",
       "19     633.678086\n",
       "20     684.944308\n",
       "21     709.440930\n",
       "22     868.335694\n",
       "23     827.309437\n",
       "24    1026.405485\n",
       "25    1088.406453\n",
       "26    1271.573924\n",
       "27    1437.259400\n",
       "28    1422.593250\n",
       "29    1553.823200\n",
       "30    1696.039355\n",
       "31    1671.374840\n",
       "32    1792.036251\n",
       "33    1903.416062\n",
       "34    2036.364071\n",
       "35    2123.644038\n",
       "36    2321.071632\n",
       "37    2257.042401\n",
       "38    2414.407934\n",
       "39    2429.699261\n",
       "40    2434.087248\n",
       "41    2504.380391\n",
       "42    2892.096726\n",
       "43    2606.387229\n",
       "44    2921.915095\n",
       "45    2923.182144\n",
       "46    3026.374616\n",
       "47    3113.415705\n",
       "48    3100.578211\n",
       "49    3379.508378\n",
       "50    3644.557522\n",
       "51    3783.690103\n",
       "52    4087.025165\n",
       "53    4179.449681\n",
       "54    4271.927614\n",
       "55    4840.380138\n",
       "56    4658.568610\n",
       "57    5002.561283\n",
       "58    4813.984153\n",
       "59    5301.715962\n",
       "60    5458.911446\n",
       "61    5333.909322\n",
       "62    5175.316770\n",
       "63    5520.135585\n",
       "64    5350.664472\n",
       "65    5295.163648\n",
       "66    5317.246312\n",
       "67    5188.707321\n",
       "68    5305.583720\n",
       "69    5182.879012\n",
       "70    5137.381396\n",
       "71    4944.740105\n",
       "72    5257.682559\n",
       "73    4782.465685\n",
       "74    4643.442520\n",
       "75    1678.969771\n",
       "Name: days_employed, dtype: float64"
      ]
     },
     "execution_count": 19,
     "metadata": {},
     "output_type": "execute_result"
    }
   ],
   "source": [
    "avg_days_employed_by_age = data[data['days_employed']\n",
    "                                > -1].groupby('dob_years')['days_employed'].mean()\n",
    "avg_days_employed_by_age"
   ]
  },
  {
   "cell_type": "code",
   "execution_count": 20,
   "metadata": {
    "scrolled": false
   },
   "outputs": [
    {
     "name": "stdout",
     "output_type": "stream",
     "text": [
      "В столбце days_employed 0 пропусков\n"
     ]
    }
   ],
   "source": [
    "days_employed_transformed = data.groupby(\n",
    "    'dob_years')['days_employed'].transform('mean')\n",
    "data['days_employed'] = data['days_employed'].fillna(days_employed_transformed)\n",
    "print('В столбце days_employed',\n",
    "      data[data['days_employed'].isna()]['days_employed'].count(),\n",
    "      'пропусков')"
   ]
  },
  {
   "cell_type": "markdown",
   "metadata": {},
   "source": [
    "#### Убираем пропуски в столбце total_income"
   ]
  },
  {
   "cell_type": "markdown",
   "metadata": {},
   "source": [
    "Доход очень сложно высчитать исходя из имеющихся данных, поэтому для упрощения будем считать, что он зависит от типа занятости."
   ]
  },
  {
   "cell_type": "code",
   "execution_count": 21,
   "metadata": {},
   "outputs": [
    {
     "data": {
      "text/html": [
       "<div>\n",
       "<style scoped>\n",
       "    .dataframe tbody tr th:only-of-type {\n",
       "        vertical-align: middle;\n",
       "    }\n",
       "\n",
       "    .dataframe tbody tr th {\n",
       "        vertical-align: top;\n",
       "    }\n",
       "\n",
       "    .dataframe thead th {\n",
       "        text-align: right;\n",
       "    }\n",
       "</style>\n",
       "<table border=\"1\" class=\"dataframe\">\n",
       "  <thead>\n",
       "    <tr style=\"text-align: right;\">\n",
       "      <th></th>\n",
       "      <th>total_income</th>\n",
       "    </tr>\n",
       "    <tr>\n",
       "      <th>income_type</th>\n",
       "      <th></th>\n",
       "    </tr>\n",
       "  </thead>\n",
       "  <tbody>\n",
       "    <tr>\n",
       "      <td>безработный</td>\n",
       "      <td>131339.751676</td>\n",
       "    </tr>\n",
       "    <tr>\n",
       "      <td>в декрете</td>\n",
       "      <td>53829.130729</td>\n",
       "    </tr>\n",
       "    <tr>\n",
       "      <td>госслужащий</td>\n",
       "      <td>150447.935283</td>\n",
       "    </tr>\n",
       "    <tr>\n",
       "      <td>компаньон</td>\n",
       "      <td>172357.950966</td>\n",
       "    </tr>\n",
       "    <tr>\n",
       "      <td>пенсионер</td>\n",
       "      <td>118514.486412</td>\n",
       "    </tr>\n",
       "    <tr>\n",
       "      <td>предприниматель</td>\n",
       "      <td>499163.144947</td>\n",
       "    </tr>\n",
       "    <tr>\n",
       "      <td>сотрудник</td>\n",
       "      <td>142594.396847</td>\n",
       "    </tr>\n",
       "    <tr>\n",
       "      <td>студент</td>\n",
       "      <td>98201.625314</td>\n",
       "    </tr>\n",
       "  </tbody>\n",
       "</table>\n",
       "</div>"
      ],
      "text/plain": [
       "                  total_income\n",
       "income_type                   \n",
       "безработный      131339.751676\n",
       "в декрете         53829.130729\n",
       "госслужащий      150447.935283\n",
       "компаньон        172357.950966\n",
       "пенсионер        118514.486412\n",
       "предприниматель  499163.144947\n",
       "сотрудник        142594.396847\n",
       "студент           98201.625314"
      ]
     },
     "execution_count": 21,
     "metadata": {},
     "output_type": "execute_result"
    }
   ],
   "source": [
    "income_pivot = data.pivot_table(\n",
    "    index='income_type', values='total_income', aggfunc='median')\n",
    "income_pivot"
   ]
  },
  {
   "cell_type": "code",
   "execution_count": 22,
   "metadata": {
    "scrolled": false
   },
   "outputs": [
    {
     "name": "stdout",
     "output_type": "stream",
     "text": [
      "В столбце total_income 0 пропусков\n"
     ]
    }
   ],
   "source": [
    "income_transformed = data.groupby(\n",
    "    'income_type')['total_income'].transform('mean')\n",
    "data['total_income'] = data['total_income'].fillna(income_transformed)\n",
    "print('В столбце total_income',\n",
    "      data[data['total_income'].isna()]['total_income'].count(),\n",
    "      'пропусков')"
   ]
  },
  {
   "cell_type": "markdown",
   "metadata": {},
   "source": [
    "Пропуски заполнены"
   ]
  },
  {
   "cell_type": "markdown",
   "metadata": {},
   "source": [
    "**Вывод**\n",
    "\n",
    "В исходной таблице пропуски были в трех столбцах dob_years, days_employed и total_income. С помощью разбиения на группы по возрасту или типу занятости и высчитывания соответствующей медианы мы заполнили все пропуски, данные готовы к дальнейшей обработке."
   ]
  },
  {
   "cell_type": "markdown",
   "metadata": {},
   "source": [
    "### Замена типа данных"
   ]
  },
  {
   "cell_type": "markdown",
   "metadata": {},
   "source": [
    "В столбцах days_employed и total_income тип данных float с шестью знаками после запятой, что не соответствует формату данных, которые в них хранятся - дни и доходы в рублях, а также затрудняет восприятие данных. Необходимо заменить тип данных в этих столбцах на целочисленный."
   ]
  },
  {
   "cell_type": "code",
   "execution_count": 23,
   "metadata": {},
   "outputs": [],
   "source": [
    "data['days_employed'] = data['days_employed'].astype('int')"
   ]
  },
  {
   "cell_type": "code",
   "execution_count": 24,
   "metadata": {},
   "outputs": [],
   "source": [
    "data['total_income'] = data['total_income'].astype('int')"
   ]
  },
  {
   "cell_type": "code",
   "execution_count": 25,
   "metadata": {},
   "outputs": [
    {
     "data": {
      "text/html": [
       "<div>\n",
       "<style scoped>\n",
       "    .dataframe tbody tr th:only-of-type {\n",
       "        vertical-align: middle;\n",
       "    }\n",
       "\n",
       "    .dataframe tbody tr th {\n",
       "        vertical-align: top;\n",
       "    }\n",
       "\n",
       "    .dataframe thead th {\n",
       "        text-align: right;\n",
       "    }\n",
       "</style>\n",
       "<table border=\"1\" class=\"dataframe\">\n",
       "  <thead>\n",
       "    <tr style=\"text-align: right;\">\n",
       "      <th></th>\n",
       "      <th>children</th>\n",
       "      <th>days_employed</th>\n",
       "      <th>dob_years</th>\n",
       "      <th>education</th>\n",
       "      <th>education_id</th>\n",
       "      <th>family_status</th>\n",
       "      <th>family_status_id</th>\n",
       "      <th>gender</th>\n",
       "      <th>income_type</th>\n",
       "      <th>debt</th>\n",
       "      <th>total_income</th>\n",
       "      <th>purpose</th>\n",
       "    </tr>\n",
       "  </thead>\n",
       "  <tbody>\n",
       "    <tr>\n",
       "      <td>0</td>\n",
       "      <td>1</td>\n",
       "      <td>8437</td>\n",
       "      <td>42</td>\n",
       "      <td>высшее</td>\n",
       "      <td>0</td>\n",
       "      <td>женат / замужем</td>\n",
       "      <td>0</td>\n",
       "      <td>F</td>\n",
       "      <td>сотрудник</td>\n",
       "      <td>0</td>\n",
       "      <td>253875</td>\n",
       "      <td>покупка жилья</td>\n",
       "    </tr>\n",
       "    <tr>\n",
       "      <td>1</td>\n",
       "      <td>1</td>\n",
       "      <td>4024</td>\n",
       "      <td>36</td>\n",
       "      <td>среднее</td>\n",
       "      <td>1</td>\n",
       "      <td>женат / замужем</td>\n",
       "      <td>0</td>\n",
       "      <td>F</td>\n",
       "      <td>сотрудник</td>\n",
       "      <td>0</td>\n",
       "      <td>112080</td>\n",
       "      <td>приобретение автомобиля</td>\n",
       "    </tr>\n",
       "    <tr>\n",
       "      <td>2</td>\n",
       "      <td>0</td>\n",
       "      <td>5623</td>\n",
       "      <td>33</td>\n",
       "      <td>Среднее</td>\n",
       "      <td>1</td>\n",
       "      <td>женат / замужем</td>\n",
       "      <td>0</td>\n",
       "      <td>M</td>\n",
       "      <td>сотрудник</td>\n",
       "      <td>0</td>\n",
       "      <td>145885</td>\n",
       "      <td>покупка жилья</td>\n",
       "    </tr>\n",
       "    <tr>\n",
       "      <td>3</td>\n",
       "      <td>3</td>\n",
       "      <td>4124</td>\n",
       "      <td>32</td>\n",
       "      <td>среднее</td>\n",
       "      <td>1</td>\n",
       "      <td>женат / замужем</td>\n",
       "      <td>0</td>\n",
       "      <td>M</td>\n",
       "      <td>сотрудник</td>\n",
       "      <td>0</td>\n",
       "      <td>267628</td>\n",
       "      <td>дополнительное образование</td>\n",
       "    </tr>\n",
       "    <tr>\n",
       "      <td>4</td>\n",
       "      <td>0</td>\n",
       "      <td>6420</td>\n",
       "      <td>53</td>\n",
       "      <td>среднее</td>\n",
       "      <td>1</td>\n",
       "      <td>гражданский брак</td>\n",
       "      <td>1</td>\n",
       "      <td>F</td>\n",
       "      <td>пенсионер</td>\n",
       "      <td>0</td>\n",
       "      <td>158616</td>\n",
       "      <td>сыграть свадьбу</td>\n",
       "    </tr>\n",
       "    <tr>\n",
       "      <td>5</td>\n",
       "      <td>0</td>\n",
       "      <td>926</td>\n",
       "      <td>27</td>\n",
       "      <td>высшее</td>\n",
       "      <td>0</td>\n",
       "      <td>гражданский брак</td>\n",
       "      <td>1</td>\n",
       "      <td>M</td>\n",
       "      <td>компаньон</td>\n",
       "      <td>0</td>\n",
       "      <td>255763</td>\n",
       "      <td>покупка жилья</td>\n",
       "    </tr>\n",
       "    <tr>\n",
       "      <td>6</td>\n",
       "      <td>0</td>\n",
       "      <td>2879</td>\n",
       "      <td>43</td>\n",
       "      <td>высшее</td>\n",
       "      <td>0</td>\n",
       "      <td>женат / замужем</td>\n",
       "      <td>0</td>\n",
       "      <td>F</td>\n",
       "      <td>компаньон</td>\n",
       "      <td>0</td>\n",
       "      <td>240525</td>\n",
       "      <td>операции с жильем</td>\n",
       "    </tr>\n",
       "    <tr>\n",
       "      <td>7</td>\n",
       "      <td>0</td>\n",
       "      <td>152</td>\n",
       "      <td>50</td>\n",
       "      <td>СРЕДНЕЕ</td>\n",
       "      <td>1</td>\n",
       "      <td>женат / замужем</td>\n",
       "      <td>0</td>\n",
       "      <td>M</td>\n",
       "      <td>сотрудник</td>\n",
       "      <td>0</td>\n",
       "      <td>135823</td>\n",
       "      <td>образование</td>\n",
       "    </tr>\n",
       "    <tr>\n",
       "      <td>8</td>\n",
       "      <td>2</td>\n",
       "      <td>6929</td>\n",
       "      <td>35</td>\n",
       "      <td>ВЫСШЕЕ</td>\n",
       "      <td>0</td>\n",
       "      <td>гражданский брак</td>\n",
       "      <td>1</td>\n",
       "      <td>F</td>\n",
       "      <td>сотрудник</td>\n",
       "      <td>0</td>\n",
       "      <td>95856</td>\n",
       "      <td>на проведение свадьбы</td>\n",
       "    </tr>\n",
       "    <tr>\n",
       "      <td>9</td>\n",
       "      <td>0</td>\n",
       "      <td>2188</td>\n",
       "      <td>41</td>\n",
       "      <td>среднее</td>\n",
       "      <td>1</td>\n",
       "      <td>женат / замужем</td>\n",
       "      <td>0</td>\n",
       "      <td>M</td>\n",
       "      <td>сотрудник</td>\n",
       "      <td>0</td>\n",
       "      <td>144425</td>\n",
       "      <td>покупка жилья для семьи</td>\n",
       "    </tr>\n",
       "    <tr>\n",
       "      <td>10</td>\n",
       "      <td>2</td>\n",
       "      <td>4171</td>\n",
       "      <td>36</td>\n",
       "      <td>высшее</td>\n",
       "      <td>0</td>\n",
       "      <td>женат / замужем</td>\n",
       "      <td>0</td>\n",
       "      <td>M</td>\n",
       "      <td>компаньон</td>\n",
       "      <td>0</td>\n",
       "      <td>113943</td>\n",
       "      <td>покупка недвижимости</td>\n",
       "    </tr>\n",
       "    <tr>\n",
       "      <td>11</td>\n",
       "      <td>0</td>\n",
       "      <td>792</td>\n",
       "      <td>40</td>\n",
       "      <td>среднее</td>\n",
       "      <td>1</td>\n",
       "      <td>женат / замужем</td>\n",
       "      <td>0</td>\n",
       "      <td>F</td>\n",
       "      <td>сотрудник</td>\n",
       "      <td>0</td>\n",
       "      <td>77069</td>\n",
       "      <td>покупка коммерческой недвижимости</td>\n",
       "    </tr>\n",
       "    <tr>\n",
       "      <td>12</td>\n",
       "      <td>0</td>\n",
       "      <td>5295</td>\n",
       "      <td>65</td>\n",
       "      <td>среднее</td>\n",
       "      <td>1</td>\n",
       "      <td>гражданский брак</td>\n",
       "      <td>1</td>\n",
       "      <td>M</td>\n",
       "      <td>пенсионер</td>\n",
       "      <td>0</td>\n",
       "      <td>137127</td>\n",
       "      <td>сыграть свадьбу</td>\n",
       "    </tr>\n",
       "    <tr>\n",
       "      <td>13</td>\n",
       "      <td>0</td>\n",
       "      <td>1846</td>\n",
       "      <td>54</td>\n",
       "      <td>неоконченное высшее</td>\n",
       "      <td>2</td>\n",
       "      <td>женат / замужем</td>\n",
       "      <td>0</td>\n",
       "      <td>F</td>\n",
       "      <td>сотрудник</td>\n",
       "      <td>0</td>\n",
       "      <td>130458</td>\n",
       "      <td>приобретение автомобиля</td>\n",
       "    </tr>\n",
       "    <tr>\n",
       "      <td>14</td>\n",
       "      <td>0</td>\n",
       "      <td>1844</td>\n",
       "      <td>56</td>\n",
       "      <td>высшее</td>\n",
       "      <td>0</td>\n",
       "      <td>гражданский брак</td>\n",
       "      <td>1</td>\n",
       "      <td>F</td>\n",
       "      <td>компаньон</td>\n",
       "      <td>1</td>\n",
       "      <td>165127</td>\n",
       "      <td>покупка жилой недвижимости</td>\n",
       "    </tr>\n",
       "  </tbody>\n",
       "</table>\n",
       "</div>"
      ],
      "text/plain": [
       "    children  days_employed  dob_years            education  education_id  \\\n",
       "0          1           8437         42               высшее             0   \n",
       "1          1           4024         36              среднее             1   \n",
       "2          0           5623         33              Среднее             1   \n",
       "3          3           4124         32              среднее             1   \n",
       "4          0           6420         53              среднее             1   \n",
       "5          0            926         27               высшее             0   \n",
       "6          0           2879         43               высшее             0   \n",
       "7          0            152         50              СРЕДНЕЕ             1   \n",
       "8          2           6929         35               ВЫСШЕЕ             0   \n",
       "9          0           2188         41              среднее             1   \n",
       "10         2           4171         36               высшее             0   \n",
       "11         0            792         40              среднее             1   \n",
       "12         0           5295         65              среднее             1   \n",
       "13         0           1846         54  неоконченное высшее             2   \n",
       "14         0           1844         56               высшее             0   \n",
       "\n",
       "       family_status  family_status_id gender income_type  debt  total_income  \\\n",
       "0    женат / замужем                 0      F   сотрудник     0        253875   \n",
       "1    женат / замужем                 0      F   сотрудник     0        112080   \n",
       "2    женат / замужем                 0      M   сотрудник     0        145885   \n",
       "3    женат / замужем                 0      M   сотрудник     0        267628   \n",
       "4   гражданский брак                 1      F   пенсионер     0        158616   \n",
       "5   гражданский брак                 1      M   компаньон     0        255763   \n",
       "6    женат / замужем                 0      F   компаньон     0        240525   \n",
       "7    женат / замужем                 0      M   сотрудник     0        135823   \n",
       "8   гражданский брак                 1      F   сотрудник     0         95856   \n",
       "9    женат / замужем                 0      M   сотрудник     0        144425   \n",
       "10   женат / замужем                 0      M   компаньон     0        113943   \n",
       "11   женат / замужем                 0      F   сотрудник     0         77069   \n",
       "12  гражданский брак                 1      M   пенсионер     0        137127   \n",
       "13   женат / замужем                 0      F   сотрудник     0        130458   \n",
       "14  гражданский брак                 1      F   компаньон     1        165127   \n",
       "\n",
       "                              purpose  \n",
       "0                       покупка жилья  \n",
       "1             приобретение автомобиля  \n",
       "2                       покупка жилья  \n",
       "3          дополнительное образование  \n",
       "4                     сыграть свадьбу  \n",
       "5                       покупка жилья  \n",
       "6                   операции с жильем  \n",
       "7                         образование  \n",
       "8               на проведение свадьбы  \n",
       "9             покупка жилья для семьи  \n",
       "10               покупка недвижимости  \n",
       "11  покупка коммерческой недвижимости  \n",
       "12                    сыграть свадьбу  \n",
       "13            приобретение автомобиля  \n",
       "14         покупка жилой недвижимости  "
      ]
     },
     "execution_count": 25,
     "metadata": {},
     "output_type": "execute_result"
    }
   ],
   "source": [
    "data.head(15)"
   ]
  },
  {
   "cell_type": "markdown",
   "metadata": {},
   "source": [
    "**Вывод**\n",
    "\n",
    "В столбцах days_employed и total_income заменили исходный тип данных float на целочисленный как более подходящий к формату хранимых данных."
   ]
  },
  {
   "cell_type": "markdown",
   "metadata": {},
   "source": [
    "### Исправление ошибок в данных"
   ]
  },
  {
   "cell_type": "markdown",
   "metadata": {},
   "source": [
    "Проверим столбец children"
   ]
  },
  {
   "cell_type": "code",
   "execution_count": 26,
   "metadata": {},
   "outputs": [
    {
     "data": {
      "text/plain": [
       "children\n",
       "-1        47\n",
       " 0     14149\n",
       " 1      4818\n",
       " 2      2055\n",
       " 3       330\n",
       " 4        41\n",
       " 5         9\n",
       " 20       76\n",
       "Name: children, dtype: int64"
      ]
     },
     "execution_count": 26,
     "metadata": {},
     "output_type": "execute_result"
    }
   ],
   "source": [
    "data.groupby('children')['children'].count()"
   ]
  },
  {
   "cell_type": "markdown",
   "metadata": {},
   "source": [
    "В столбце встречаются некорректные значения -1 и 20. Скорее всего это ошибки, сделанные при введении информации человеком, и следует заменить их на 1 и 2 соответственно."
   ]
  },
  {
   "cell_type": "code",
   "execution_count": 27,
   "metadata": {},
   "outputs": [
    {
     "data": {
      "text/plain": [
       "children\n",
       "0    14149\n",
       "1     4865\n",
       "2     2131\n",
       "3      330\n",
       "4       41\n",
       "5        9\n",
       "Name: children, dtype: int64"
      ]
     },
     "execution_count": 27,
     "metadata": {},
     "output_type": "execute_result"
    }
   ],
   "source": [
    "data.loc[data['children'] == -1, 'children'] = 1\n",
    "data.loc[data['children'] == 20, 'children'] = 2\n",
    "data.groupby('children')['children'].count()"
   ]
  },
  {
   "cell_type": "markdown",
   "metadata": {},
   "source": [
    "Теперь данные корректны.\n",
    "\n",
    "Посмотрим все уникальные значения в столбце education."
   ]
  },
  {
   "cell_type": "code",
   "execution_count": 28,
   "metadata": {
    "scrolled": false
   },
   "outputs": [
    {
     "data": {
      "text/plain": [
       "array(['высшее', 'среднее', 'Среднее', 'СРЕДНЕЕ', 'ВЫСШЕЕ',\n",
       "       'неоконченное высшее', 'начальное', 'Высшее',\n",
       "       'НЕОКОНЧЕННОЕ ВЫСШЕЕ', 'Неоконченное высшее', 'НАЧАЛЬНОЕ',\n",
       "       'Начальное', 'Ученая степень', 'УЧЕНАЯ СТЕПЕНЬ', 'ученая степень'],\n",
       "      dtype=object)"
      ]
     },
     "execution_count": 28,
     "metadata": {},
     "output_type": "execute_result"
    }
   ],
   "source": [
    "data['education'].unique()"
   ]
  },
  {
   "cell_type": "markdown",
   "metadata": {},
   "source": [
    "Есть одни и те же слова написанные в разных регистрах, необходимо привести их к одному виду."
   ]
  },
  {
   "cell_type": "code",
   "execution_count": 29,
   "metadata": {},
   "outputs": [
    {
     "data": {
      "text/plain": [
       "array(['высшее', 'среднее', 'неоконченное высшее', 'начальное',\n",
       "       'ученая степень'], dtype=object)"
      ]
     },
     "execution_count": 29,
     "metadata": {},
     "output_type": "execute_result"
    }
   ],
   "source": [
    "data['education'] = data['education'].str.lower()\n",
    "data['education'].unique()"
   ]
  },
  {
   "cell_type": "markdown",
   "metadata": {},
   "source": [
    "Проверяем столбцы family_status и income_type."
   ]
  },
  {
   "cell_type": "code",
   "execution_count": 30,
   "metadata": {},
   "outputs": [
    {
     "data": {
      "text/plain": [
       "array(['женат / замужем', 'гражданский брак', 'вдовец / вдова',\n",
       "       'в разводе', 'Не женат / не замужем'], dtype=object)"
      ]
     },
     "execution_count": 30,
     "metadata": {},
     "output_type": "execute_result"
    }
   ],
   "source": [
    "data['family_status'].unique()"
   ]
  },
  {
   "cell_type": "code",
   "execution_count": 31,
   "metadata": {
    "scrolled": false
   },
   "outputs": [
    {
     "data": {
      "text/plain": [
       "array(['сотрудник', 'пенсионер', 'компаньон', 'госслужащий',\n",
       "       'безработный', 'предприниматель', 'студент', 'в декрете'],\n",
       "      dtype=object)"
      ]
     },
     "execution_count": 31,
     "metadata": {},
     "output_type": "execute_result"
    }
   ],
   "source": [
    "data['income_type'].unique()"
   ]
  },
  {
   "cell_type": "markdown",
   "metadata": {},
   "source": [
    "В столбцах family_status и income_type ошибок нет."
   ]
  },
  {
   "cell_type": "markdown",
   "metadata": {},
   "source": [
    "**Вывод**\n",
    "\n",
    "В столбце children найдены и исправлены некорректные значения. Ошибочные написания были найдены только в столбце education и приведены к одному формату."
   ]
  },
  {
   "cell_type": "markdown",
   "metadata": {},
   "source": [
    "### Обработка дубликатов"
   ]
  },
  {
   "cell_type": "markdown",
   "metadata": {},
   "source": [
    "Ищем дубликаты"
   ]
  },
  {
   "cell_type": "code",
   "execution_count": 32,
   "metadata": {},
   "outputs": [
    {
     "name": "stdout",
     "output_type": "stream",
     "text": [
      "В таблице 71 полный дубликат\n"
     ]
    }
   ],
   "source": [
    "print('В таблице', data.duplicated().sum(), 'полный дубликат')"
   ]
  },
  {
   "cell_type": "markdown",
   "metadata": {},
   "source": [
    "Убираем дубликаты"
   ]
  },
  {
   "cell_type": "code",
   "execution_count": 33,
   "metadata": {},
   "outputs": [
    {
     "name": "stdout",
     "output_type": "stream",
     "text": [
      "В таблице 0 полных дубликатов\n"
     ]
    }
   ],
   "source": [
    "data = data.drop_duplicates().reset_index(drop=True)\n",
    "print('В таблице', data.duplicated().sum(), 'полных дубликатов')"
   ]
  },
  {
   "cell_type": "markdown",
   "metadata": {},
   "source": [
    "**Вывод**\n",
    "\n",
    "В таблице был найден и удален 71 полный дубликат."
   ]
  },
  {
   "cell_type": "markdown",
   "metadata": {},
   "source": [
    "### Лемматизация"
   ]
  },
  {
   "cell_type": "markdown",
   "metadata": {},
   "source": [
    "Для выделения основных целей кредита соберем все слова из столбца purpose и лемматизируем, а затем посчитаем самые популярные и на их основе произведем категоризацию."
   ]
  },
  {
   "cell_type": "code",
   "execution_count": 34,
   "metadata": {
    "scrolled": true
   },
   "outputs": [
    {
     "data": {
      "text/plain": [
       "Counter({'покупка': 5897,\n",
       "         ' ': 55023,\n",
       "         'жилье': 4460,\n",
       "         'приобретение': 461,\n",
       "         'автомобиль': 4306,\n",
       "         'дополнительный': 906,\n",
       "         'образование': 4013,\n",
       "         'сыграть': 765,\n",
       "         'свадьба': 2324,\n",
       "         'операция': 2604,\n",
       "         'с': 2918,\n",
       "         'на': 2222,\n",
       "         'проведение': 768,\n",
       "         'для': 1289,\n",
       "         'семья': 638,\n",
       "         'недвижимость': 6351,\n",
       "         'коммерческий': 1311,\n",
       "         'жилой': 1230,\n",
       "         'строительство': 1878,\n",
       "         'собственный': 635,\n",
       "         'подержать': 853,\n",
       "         'свой': 2230,\n",
       "         'со': 627,\n",
       "         'заниматься': 904,\n",
       "         'сделка': 941,\n",
       "         'получение': 1314,\n",
       "         'высокий': 1374,\n",
       "         'подержанный': 111,\n",
       "         'профильный': 436,\n",
       "         'сдача': 651,\n",
       "         'ремонт': 607,\n",
       "         '\\n': 1})"
      ]
     },
     "execution_count": 34,
     "metadata": {},
     "output_type": "execute_result"
    }
   ],
   "source": [
    "text = ' '.join(data['purpose'])\n",
    "lemmas = m.lemmatize(text)\n",
    "Counter(lemmas)"
   ]
  },
  {
   "cell_type": "markdown",
   "metadata": {},
   "source": [
    "Вручную выделяем цели взятия кредита и создаем словарь.\n",
    "Слова 'покупка', 'приобретение', 'операция', 'сделка' для нас не значимы, так как могут относится и к недвижимости, и к автомобилю. Прилагательные (кроме 'коммерческий' и 'жилой'), глаголы и предлоги также могут относиться к разным целям. Из оставшихся существительных выделяются слова 'свадьба', 'образование', 'автомобиль', 'ремонт', а также несколько слов относящихся к недвижимости - 'жилье', 'недвижимость', 'коммерческий', 'жилой', 'строительство', 'сдача'. Я разбила недвижимость на жилую и коммерческую, так как возврат кредита на коммерческую недвижимость будет зависеть от прибыли, которую получит собственник с этой недвижимости, а кредит на жилую недвижимость будет выплачиваться только из собственных средств. Возможно было также выделить цели 'свадьба' и 'ремонт' в категорию 'потребительский кредит', но в связи с характером трат (свадебный кредит частично возмещается подарками от гостей) и возврат по кредитам может быть разный."
   ]
  },
  {
   "cell_type": "code",
   "execution_count": 35,
   "metadata": {},
   "outputs": [
    {
     "data": {
      "text/html": [
       "<div>\n",
       "<style scoped>\n",
       "    .dataframe tbody tr th:only-of-type {\n",
       "        vertical-align: middle;\n",
       "    }\n",
       "\n",
       "    .dataframe tbody tr th {\n",
       "        vertical-align: top;\n",
       "    }\n",
       "\n",
       "    .dataframe thead th {\n",
       "        text-align: right;\n",
       "    }\n",
       "</style>\n",
       "<table border=\"1\" class=\"dataframe\">\n",
       "  <thead>\n",
       "    <tr style=\"text-align: right;\">\n",
       "      <th></th>\n",
       "      <th>purpose_type_id</th>\n",
       "      <th>purpose_type</th>\n",
       "    </tr>\n",
       "  </thead>\n",
       "  <tbody>\n",
       "    <tr>\n",
       "      <td>0</td>\n",
       "      <td>0</td>\n",
       "      <td>образование</td>\n",
       "    </tr>\n",
       "    <tr>\n",
       "      <td>1</td>\n",
       "      <td>1</td>\n",
       "      <td>свадьба</td>\n",
       "    </tr>\n",
       "    <tr>\n",
       "      <td>2</td>\n",
       "      <td>2</td>\n",
       "      <td>автомобиль</td>\n",
       "    </tr>\n",
       "    <tr>\n",
       "      <td>3</td>\n",
       "      <td>3</td>\n",
       "      <td>ремонт</td>\n",
       "    </tr>\n",
       "    <tr>\n",
       "      <td>4</td>\n",
       "      <td>4</td>\n",
       "      <td>коммерческая недвижимость</td>\n",
       "    </tr>\n",
       "    <tr>\n",
       "      <td>5</td>\n",
       "      <td>5</td>\n",
       "      <td>жилая недвижимость</td>\n",
       "    </tr>\n",
       "    <tr>\n",
       "      <td>6</td>\n",
       "      <td>6</td>\n",
       "      <td>другое</td>\n",
       "    </tr>\n",
       "  </tbody>\n",
       "</table>\n",
       "</div>"
      ],
      "text/plain": [
       "   purpose_type_id               purpose_type\n",
       "0                0                образование\n",
       "1                1                    свадьба\n",
       "2                2                 автомобиль\n",
       "3                3                     ремонт\n",
       "4                4  коммерческая недвижимость\n",
       "5                5         жилая недвижимость\n",
       "6                6                     другое"
      ]
     },
     "execution_count": 35,
     "metadata": {},
     "output_type": "execute_result"
    }
   ],
   "source": [
    "purpose_types = [[0, 'образование'],\n",
    "                 [1, 'свадьба'],\n",
    "                 [2, 'автомобиль'],\n",
    "                 [3, 'ремонт'],\n",
    "                 [4, 'коммерческая недвижимость'],\n",
    "                 [5, 'жилая недвижимость'],\n",
    "                 [6, 'другое']]\n",
    "purpose_columns = ['purpose_type_id', 'purpose_type']\n",
    "purpose_type_dict = pd.DataFrame(data=purpose_types, columns=purpose_columns)\n",
    "purpose_type_dict"
   ]
  },
  {
   "cell_type": "code",
   "execution_count": 36,
   "metadata": {},
   "outputs": [],
   "source": [
    "def purpose_classification(words):\n",
    "    if 'образование' in m.lemmatize(words):\n",
    "        return 0\n",
    "    if 'свадьба' in m.lemmatize(words):\n",
    "        return 1\n",
    "    if 'автомобиль' in m.lemmatize(words):\n",
    "        return 2\n",
    "    if 'ремонт' in m.lemmatize(words):\n",
    "        return 3\n",
    "    if 'жилье' in m.lemmatize(words) or 'недвижимость' in m.lemmatize(words) or 'строительство' in m.lemmatize(words):\n",
    "        if 'коммерческий' in m.lemmatize(words) or 'сдача' in m.lemmatize(words):\n",
    "            return 4\n",
    "        else:\n",
    "            return 5\n",
    "    return 6"
   ]
  },
  {
   "cell_type": "code",
   "execution_count": 37,
   "metadata": {},
   "outputs": [],
   "source": [
    "data['purpose_type_id'] = data['purpose'].apply(purpose_classification)"
   ]
  },
  {
   "cell_type": "code",
   "execution_count": 38,
   "metadata": {
    "scrolled": true
   },
   "outputs": [
    {
     "data": {
      "text/html": [
       "<div>\n",
       "<style scoped>\n",
       "    .dataframe tbody tr th:only-of-type {\n",
       "        vertical-align: middle;\n",
       "    }\n",
       "\n",
       "    .dataframe tbody tr th {\n",
       "        vertical-align: top;\n",
       "    }\n",
       "\n",
       "    .dataframe thead th {\n",
       "        text-align: right;\n",
       "    }\n",
       "</style>\n",
       "<table border=\"1\" class=\"dataframe\">\n",
       "  <thead>\n",
       "    <tr style=\"text-align: right;\">\n",
       "      <th></th>\n",
       "      <th>children</th>\n",
       "      <th>days_employed</th>\n",
       "      <th>dob_years</th>\n",
       "      <th>education</th>\n",
       "      <th>education_id</th>\n",
       "      <th>family_status</th>\n",
       "      <th>family_status_id</th>\n",
       "      <th>gender</th>\n",
       "      <th>income_type</th>\n",
       "      <th>debt</th>\n",
       "      <th>total_income</th>\n",
       "      <th>purpose</th>\n",
       "      <th>purpose_type_id</th>\n",
       "    </tr>\n",
       "  </thead>\n",
       "  <tbody>\n",
       "    <tr>\n",
       "      <td>0</td>\n",
       "      <td>1</td>\n",
       "      <td>8437</td>\n",
       "      <td>42</td>\n",
       "      <td>высшее</td>\n",
       "      <td>0</td>\n",
       "      <td>женат / замужем</td>\n",
       "      <td>0</td>\n",
       "      <td>F</td>\n",
       "      <td>сотрудник</td>\n",
       "      <td>0</td>\n",
       "      <td>253875</td>\n",
       "      <td>покупка жилья</td>\n",
       "      <td>5</td>\n",
       "    </tr>\n",
       "    <tr>\n",
       "      <td>1</td>\n",
       "      <td>1</td>\n",
       "      <td>4024</td>\n",
       "      <td>36</td>\n",
       "      <td>среднее</td>\n",
       "      <td>1</td>\n",
       "      <td>женат / замужем</td>\n",
       "      <td>0</td>\n",
       "      <td>F</td>\n",
       "      <td>сотрудник</td>\n",
       "      <td>0</td>\n",
       "      <td>112080</td>\n",
       "      <td>приобретение автомобиля</td>\n",
       "      <td>2</td>\n",
       "    </tr>\n",
       "    <tr>\n",
       "      <td>2</td>\n",
       "      <td>0</td>\n",
       "      <td>5623</td>\n",
       "      <td>33</td>\n",
       "      <td>среднее</td>\n",
       "      <td>1</td>\n",
       "      <td>женат / замужем</td>\n",
       "      <td>0</td>\n",
       "      <td>M</td>\n",
       "      <td>сотрудник</td>\n",
       "      <td>0</td>\n",
       "      <td>145885</td>\n",
       "      <td>покупка жилья</td>\n",
       "      <td>5</td>\n",
       "    </tr>\n",
       "    <tr>\n",
       "      <td>3</td>\n",
       "      <td>3</td>\n",
       "      <td>4124</td>\n",
       "      <td>32</td>\n",
       "      <td>среднее</td>\n",
       "      <td>1</td>\n",
       "      <td>женат / замужем</td>\n",
       "      <td>0</td>\n",
       "      <td>M</td>\n",
       "      <td>сотрудник</td>\n",
       "      <td>0</td>\n",
       "      <td>267628</td>\n",
       "      <td>дополнительное образование</td>\n",
       "      <td>0</td>\n",
       "    </tr>\n",
       "    <tr>\n",
       "      <td>4</td>\n",
       "      <td>0</td>\n",
       "      <td>6420</td>\n",
       "      <td>53</td>\n",
       "      <td>среднее</td>\n",
       "      <td>1</td>\n",
       "      <td>гражданский брак</td>\n",
       "      <td>1</td>\n",
       "      <td>F</td>\n",
       "      <td>пенсионер</td>\n",
       "      <td>0</td>\n",
       "      <td>158616</td>\n",
       "      <td>сыграть свадьбу</td>\n",
       "      <td>1</td>\n",
       "    </tr>\n",
       "    <tr>\n",
       "      <td>5</td>\n",
       "      <td>0</td>\n",
       "      <td>926</td>\n",
       "      <td>27</td>\n",
       "      <td>высшее</td>\n",
       "      <td>0</td>\n",
       "      <td>гражданский брак</td>\n",
       "      <td>1</td>\n",
       "      <td>M</td>\n",
       "      <td>компаньон</td>\n",
       "      <td>0</td>\n",
       "      <td>255763</td>\n",
       "      <td>покупка жилья</td>\n",
       "      <td>5</td>\n",
       "    </tr>\n",
       "    <tr>\n",
       "      <td>6</td>\n",
       "      <td>0</td>\n",
       "      <td>2879</td>\n",
       "      <td>43</td>\n",
       "      <td>высшее</td>\n",
       "      <td>0</td>\n",
       "      <td>женат / замужем</td>\n",
       "      <td>0</td>\n",
       "      <td>F</td>\n",
       "      <td>компаньон</td>\n",
       "      <td>0</td>\n",
       "      <td>240525</td>\n",
       "      <td>операции с жильем</td>\n",
       "      <td>5</td>\n",
       "    </tr>\n",
       "    <tr>\n",
       "      <td>7</td>\n",
       "      <td>0</td>\n",
       "      <td>152</td>\n",
       "      <td>50</td>\n",
       "      <td>среднее</td>\n",
       "      <td>1</td>\n",
       "      <td>женат / замужем</td>\n",
       "      <td>0</td>\n",
       "      <td>M</td>\n",
       "      <td>сотрудник</td>\n",
       "      <td>0</td>\n",
       "      <td>135823</td>\n",
       "      <td>образование</td>\n",
       "      <td>0</td>\n",
       "    </tr>\n",
       "    <tr>\n",
       "      <td>8</td>\n",
       "      <td>2</td>\n",
       "      <td>6929</td>\n",
       "      <td>35</td>\n",
       "      <td>высшее</td>\n",
       "      <td>0</td>\n",
       "      <td>гражданский брак</td>\n",
       "      <td>1</td>\n",
       "      <td>F</td>\n",
       "      <td>сотрудник</td>\n",
       "      <td>0</td>\n",
       "      <td>95856</td>\n",
       "      <td>на проведение свадьбы</td>\n",
       "      <td>1</td>\n",
       "    </tr>\n",
       "    <tr>\n",
       "      <td>9</td>\n",
       "      <td>0</td>\n",
       "      <td>2188</td>\n",
       "      <td>41</td>\n",
       "      <td>среднее</td>\n",
       "      <td>1</td>\n",
       "      <td>женат / замужем</td>\n",
       "      <td>0</td>\n",
       "      <td>M</td>\n",
       "      <td>сотрудник</td>\n",
       "      <td>0</td>\n",
       "      <td>144425</td>\n",
       "      <td>покупка жилья для семьи</td>\n",
       "      <td>5</td>\n",
       "    </tr>\n",
       "    <tr>\n",
       "      <td>10</td>\n",
       "      <td>2</td>\n",
       "      <td>4171</td>\n",
       "      <td>36</td>\n",
       "      <td>высшее</td>\n",
       "      <td>0</td>\n",
       "      <td>женат / замужем</td>\n",
       "      <td>0</td>\n",
       "      <td>M</td>\n",
       "      <td>компаньон</td>\n",
       "      <td>0</td>\n",
       "      <td>113943</td>\n",
       "      <td>покупка недвижимости</td>\n",
       "      <td>5</td>\n",
       "    </tr>\n",
       "    <tr>\n",
       "      <td>11</td>\n",
       "      <td>0</td>\n",
       "      <td>792</td>\n",
       "      <td>40</td>\n",
       "      <td>среднее</td>\n",
       "      <td>1</td>\n",
       "      <td>женат / замужем</td>\n",
       "      <td>0</td>\n",
       "      <td>F</td>\n",
       "      <td>сотрудник</td>\n",
       "      <td>0</td>\n",
       "      <td>77069</td>\n",
       "      <td>покупка коммерческой недвижимости</td>\n",
       "      <td>4</td>\n",
       "    </tr>\n",
       "    <tr>\n",
       "      <td>12</td>\n",
       "      <td>0</td>\n",
       "      <td>5295</td>\n",
       "      <td>65</td>\n",
       "      <td>среднее</td>\n",
       "      <td>1</td>\n",
       "      <td>гражданский брак</td>\n",
       "      <td>1</td>\n",
       "      <td>M</td>\n",
       "      <td>пенсионер</td>\n",
       "      <td>0</td>\n",
       "      <td>137127</td>\n",
       "      <td>сыграть свадьбу</td>\n",
       "      <td>1</td>\n",
       "    </tr>\n",
       "    <tr>\n",
       "      <td>13</td>\n",
       "      <td>0</td>\n",
       "      <td>1846</td>\n",
       "      <td>54</td>\n",
       "      <td>неоконченное высшее</td>\n",
       "      <td>2</td>\n",
       "      <td>женат / замужем</td>\n",
       "      <td>0</td>\n",
       "      <td>F</td>\n",
       "      <td>сотрудник</td>\n",
       "      <td>0</td>\n",
       "      <td>130458</td>\n",
       "      <td>приобретение автомобиля</td>\n",
       "      <td>2</td>\n",
       "    </tr>\n",
       "    <tr>\n",
       "      <td>14</td>\n",
       "      <td>0</td>\n",
       "      <td>1844</td>\n",
       "      <td>56</td>\n",
       "      <td>высшее</td>\n",
       "      <td>0</td>\n",
       "      <td>гражданский брак</td>\n",
       "      <td>1</td>\n",
       "      <td>F</td>\n",
       "      <td>компаньон</td>\n",
       "      <td>1</td>\n",
       "      <td>165127</td>\n",
       "      <td>покупка жилой недвижимости</td>\n",
       "      <td>5</td>\n",
       "    </tr>\n",
       "  </tbody>\n",
       "</table>\n",
       "</div>"
      ],
      "text/plain": [
       "    children  days_employed  dob_years            education  education_id  \\\n",
       "0          1           8437         42               высшее             0   \n",
       "1          1           4024         36              среднее             1   \n",
       "2          0           5623         33              среднее             1   \n",
       "3          3           4124         32              среднее             1   \n",
       "4          0           6420         53              среднее             1   \n",
       "5          0            926         27               высшее             0   \n",
       "6          0           2879         43               высшее             0   \n",
       "7          0            152         50              среднее             1   \n",
       "8          2           6929         35               высшее             0   \n",
       "9          0           2188         41              среднее             1   \n",
       "10         2           4171         36               высшее             0   \n",
       "11         0            792         40              среднее             1   \n",
       "12         0           5295         65              среднее             1   \n",
       "13         0           1846         54  неоконченное высшее             2   \n",
       "14         0           1844         56               высшее             0   \n",
       "\n",
       "       family_status  family_status_id gender income_type  debt  total_income  \\\n",
       "0    женат / замужем                 0      F   сотрудник     0        253875   \n",
       "1    женат / замужем                 0      F   сотрудник     0        112080   \n",
       "2    женат / замужем                 0      M   сотрудник     0        145885   \n",
       "3    женат / замужем                 0      M   сотрудник     0        267628   \n",
       "4   гражданский брак                 1      F   пенсионер     0        158616   \n",
       "5   гражданский брак                 1      M   компаньон     0        255763   \n",
       "6    женат / замужем                 0      F   компаньон     0        240525   \n",
       "7    женат / замужем                 0      M   сотрудник     0        135823   \n",
       "8   гражданский брак                 1      F   сотрудник     0         95856   \n",
       "9    женат / замужем                 0      M   сотрудник     0        144425   \n",
       "10   женат / замужем                 0      M   компаньон     0        113943   \n",
       "11   женат / замужем                 0      F   сотрудник     0         77069   \n",
       "12  гражданский брак                 1      M   пенсионер     0        137127   \n",
       "13   женат / замужем                 0      F   сотрудник     0        130458   \n",
       "14  гражданский брак                 1      F   компаньон     1        165127   \n",
       "\n",
       "                              purpose  purpose_type_id  \n",
       "0                       покупка жилья                5  \n",
       "1             приобретение автомобиля                2  \n",
       "2                       покупка жилья                5  \n",
       "3          дополнительное образование                0  \n",
       "4                     сыграть свадьбу                1  \n",
       "5                       покупка жилья                5  \n",
       "6                   операции с жильем                5  \n",
       "7                         образование                0  \n",
       "8               на проведение свадьбы                1  \n",
       "9             покупка жилья для семьи                5  \n",
       "10               покупка недвижимости                5  \n",
       "11  покупка коммерческой недвижимости                4  \n",
       "12                    сыграть свадьбу                1  \n",
       "13            приобретение автомобиля                2  \n",
       "14         покупка жилой недвижимости                5  "
      ]
     },
     "execution_count": 38,
     "metadata": {},
     "output_type": "execute_result"
    }
   ],
   "source": [
    "data.head(15)"
   ]
  },
  {
   "cell_type": "markdown",
   "metadata": {},
   "source": [
    "**Вывод**\n",
    "\n",
    "С помощью лемматизации мы выделили основные цели взятия кредита, составили с ними словарь и проставили в новый столбец соответствующее числовое обозначение."
   ]
  },
  {
   "cell_type": "markdown",
   "metadata": {},
   "source": [
    "### Категоризация данных"
   ]
  },
  {
   "cell_type": "markdown",
   "metadata": {},
   "source": [
    "Первый словарь мы создали при присваивании типов кредитов.\n",
    "Также в таблице можно выделить следующие словари:\n",
    "1. Семейное положение\n",
    "2. Образование"
   ]
  },
  {
   "cell_type": "code",
   "execution_count": 39,
   "metadata": {},
   "outputs": [
    {
     "data": {
      "text/html": [
       "<div>\n",
       "<style scoped>\n",
       "    .dataframe tbody tr th:only-of-type {\n",
       "        vertical-align: middle;\n",
       "    }\n",
       "\n",
       "    .dataframe tbody tr th {\n",
       "        vertical-align: top;\n",
       "    }\n",
       "\n",
       "    .dataframe thead th {\n",
       "        text-align: right;\n",
       "    }\n",
       "</style>\n",
       "<table border=\"1\" class=\"dataframe\">\n",
       "  <thead>\n",
       "    <tr style=\"text-align: right;\">\n",
       "      <th></th>\n",
       "      <th>family_status_id</th>\n",
       "      <th>family_status</th>\n",
       "    </tr>\n",
       "  </thead>\n",
       "  <tbody>\n",
       "    <tr>\n",
       "      <td>0</td>\n",
       "      <td>0</td>\n",
       "      <td>женат / замужем</td>\n",
       "    </tr>\n",
       "    <tr>\n",
       "      <td>1</td>\n",
       "      <td>1</td>\n",
       "      <td>гражданский брак</td>\n",
       "    </tr>\n",
       "    <tr>\n",
       "      <td>2</td>\n",
       "      <td>2</td>\n",
       "      <td>вдовец / вдова</td>\n",
       "    </tr>\n",
       "    <tr>\n",
       "      <td>3</td>\n",
       "      <td>3</td>\n",
       "      <td>в разводе</td>\n",
       "    </tr>\n",
       "    <tr>\n",
       "      <td>4</td>\n",
       "      <td>4</td>\n",
       "      <td>Не женат / не замужем</td>\n",
       "    </tr>\n",
       "  </tbody>\n",
       "</table>\n",
       "</div>"
      ],
      "text/plain": [
       "   family_status_id          family_status\n",
       "0                 0        женат / замужем\n",
       "1                 1       гражданский брак\n",
       "2                 2         вдовец / вдова\n",
       "3                 3              в разводе\n",
       "4                 4  Не женат / не замужем"
      ]
     },
     "execution_count": 39,
     "metadata": {},
     "output_type": "execute_result"
    }
   ],
   "source": [
    "family_status_dict = data[['family_status_id', 'family_status']]\n",
    "family_status_dict = family_status_dict.drop_duplicates().reset_index(drop=True)\n",
    "family_status_dict.sort_values(by='family_status_id')"
   ]
  },
  {
   "cell_type": "code",
   "execution_count": 40,
   "metadata": {},
   "outputs": [
    {
     "data": {
      "text/html": [
       "<div>\n",
       "<style scoped>\n",
       "    .dataframe tbody tr th:only-of-type {\n",
       "        vertical-align: middle;\n",
       "    }\n",
       "\n",
       "    .dataframe tbody tr th {\n",
       "        vertical-align: top;\n",
       "    }\n",
       "\n",
       "    .dataframe thead th {\n",
       "        text-align: right;\n",
       "    }\n",
       "</style>\n",
       "<table border=\"1\" class=\"dataframe\">\n",
       "  <thead>\n",
       "    <tr style=\"text-align: right;\">\n",
       "      <th></th>\n",
       "      <th>education_id</th>\n",
       "      <th>education</th>\n",
       "    </tr>\n",
       "  </thead>\n",
       "  <tbody>\n",
       "    <tr>\n",
       "      <td>0</td>\n",
       "      <td>0</td>\n",
       "      <td>высшее</td>\n",
       "    </tr>\n",
       "    <tr>\n",
       "      <td>1</td>\n",
       "      <td>1</td>\n",
       "      <td>среднее</td>\n",
       "    </tr>\n",
       "    <tr>\n",
       "      <td>2</td>\n",
       "      <td>2</td>\n",
       "      <td>неоконченное высшее</td>\n",
       "    </tr>\n",
       "    <tr>\n",
       "      <td>3</td>\n",
       "      <td>3</td>\n",
       "      <td>начальное</td>\n",
       "    </tr>\n",
       "    <tr>\n",
       "      <td>4</td>\n",
       "      <td>4</td>\n",
       "      <td>ученая степень</td>\n",
       "    </tr>\n",
       "  </tbody>\n",
       "</table>\n",
       "</div>"
      ],
      "text/plain": [
       "   education_id            education\n",
       "0             0               высшее\n",
       "1             1              среднее\n",
       "2             2  неоконченное высшее\n",
       "3             3            начальное\n",
       "4             4       ученая степень"
      ]
     },
     "execution_count": 40,
     "metadata": {},
     "output_type": "execute_result"
    }
   ],
   "source": [
    "education_dict = data[['education_id', 'education']]\n",
    "education_dict = education_dict.drop_duplicates().reset_index(drop=True)\n",
    "education_dict.sort_values(by='education_id')"
   ]
  },
  {
   "cell_type": "code",
   "execution_count": 41,
   "metadata": {},
   "outputs": [
    {
     "data": {
      "text/html": [
       "<div>\n",
       "<style scoped>\n",
       "    .dataframe tbody tr th:only-of-type {\n",
       "        vertical-align: middle;\n",
       "    }\n",
       "\n",
       "    .dataframe tbody tr th {\n",
       "        vertical-align: top;\n",
       "    }\n",
       "\n",
       "    .dataframe thead th {\n",
       "        text-align: right;\n",
       "    }\n",
       "</style>\n",
       "<table border=\"1\" class=\"dataframe\">\n",
       "  <thead>\n",
       "    <tr style=\"text-align: right;\">\n",
       "      <th></th>\n",
       "      <th>children</th>\n",
       "      <th>days_employed</th>\n",
       "      <th>dob_years</th>\n",
       "      <th>education_id</th>\n",
       "      <th>family_status_id</th>\n",
       "      <th>gender</th>\n",
       "      <th>income_type</th>\n",
       "      <th>debt</th>\n",
       "      <th>total_income</th>\n",
       "      <th>purpose</th>\n",
       "      <th>purpose_type_id</th>\n",
       "    </tr>\n",
       "  </thead>\n",
       "  <tbody>\n",
       "    <tr>\n",
       "      <td>0</td>\n",
       "      <td>1</td>\n",
       "      <td>8437</td>\n",
       "      <td>42</td>\n",
       "      <td>0</td>\n",
       "      <td>0</td>\n",
       "      <td>F</td>\n",
       "      <td>сотрудник</td>\n",
       "      <td>0</td>\n",
       "      <td>253875</td>\n",
       "      <td>покупка жилья</td>\n",
       "      <td>5</td>\n",
       "    </tr>\n",
       "    <tr>\n",
       "      <td>1</td>\n",
       "      <td>1</td>\n",
       "      <td>4024</td>\n",
       "      <td>36</td>\n",
       "      <td>1</td>\n",
       "      <td>0</td>\n",
       "      <td>F</td>\n",
       "      <td>сотрудник</td>\n",
       "      <td>0</td>\n",
       "      <td>112080</td>\n",
       "      <td>приобретение автомобиля</td>\n",
       "      <td>2</td>\n",
       "    </tr>\n",
       "    <tr>\n",
       "      <td>2</td>\n",
       "      <td>0</td>\n",
       "      <td>5623</td>\n",
       "      <td>33</td>\n",
       "      <td>1</td>\n",
       "      <td>0</td>\n",
       "      <td>M</td>\n",
       "      <td>сотрудник</td>\n",
       "      <td>0</td>\n",
       "      <td>145885</td>\n",
       "      <td>покупка жилья</td>\n",
       "      <td>5</td>\n",
       "    </tr>\n",
       "    <tr>\n",
       "      <td>3</td>\n",
       "      <td>3</td>\n",
       "      <td>4124</td>\n",
       "      <td>32</td>\n",
       "      <td>1</td>\n",
       "      <td>0</td>\n",
       "      <td>M</td>\n",
       "      <td>сотрудник</td>\n",
       "      <td>0</td>\n",
       "      <td>267628</td>\n",
       "      <td>дополнительное образование</td>\n",
       "      <td>0</td>\n",
       "    </tr>\n",
       "    <tr>\n",
       "      <td>4</td>\n",
       "      <td>0</td>\n",
       "      <td>6420</td>\n",
       "      <td>53</td>\n",
       "      <td>1</td>\n",
       "      <td>1</td>\n",
       "      <td>F</td>\n",
       "      <td>пенсионер</td>\n",
       "      <td>0</td>\n",
       "      <td>158616</td>\n",
       "      <td>сыграть свадьбу</td>\n",
       "      <td>1</td>\n",
       "    </tr>\n",
       "    <tr>\n",
       "      <td>5</td>\n",
       "      <td>0</td>\n",
       "      <td>926</td>\n",
       "      <td>27</td>\n",
       "      <td>0</td>\n",
       "      <td>1</td>\n",
       "      <td>M</td>\n",
       "      <td>компаньон</td>\n",
       "      <td>0</td>\n",
       "      <td>255763</td>\n",
       "      <td>покупка жилья</td>\n",
       "      <td>5</td>\n",
       "    </tr>\n",
       "    <tr>\n",
       "      <td>6</td>\n",
       "      <td>0</td>\n",
       "      <td>2879</td>\n",
       "      <td>43</td>\n",
       "      <td>0</td>\n",
       "      <td>0</td>\n",
       "      <td>F</td>\n",
       "      <td>компаньон</td>\n",
       "      <td>0</td>\n",
       "      <td>240525</td>\n",
       "      <td>операции с жильем</td>\n",
       "      <td>5</td>\n",
       "    </tr>\n",
       "    <tr>\n",
       "      <td>7</td>\n",
       "      <td>0</td>\n",
       "      <td>152</td>\n",
       "      <td>50</td>\n",
       "      <td>1</td>\n",
       "      <td>0</td>\n",
       "      <td>M</td>\n",
       "      <td>сотрудник</td>\n",
       "      <td>0</td>\n",
       "      <td>135823</td>\n",
       "      <td>образование</td>\n",
       "      <td>0</td>\n",
       "    </tr>\n",
       "    <tr>\n",
       "      <td>8</td>\n",
       "      <td>2</td>\n",
       "      <td>6929</td>\n",
       "      <td>35</td>\n",
       "      <td>0</td>\n",
       "      <td>1</td>\n",
       "      <td>F</td>\n",
       "      <td>сотрудник</td>\n",
       "      <td>0</td>\n",
       "      <td>95856</td>\n",
       "      <td>на проведение свадьбы</td>\n",
       "      <td>1</td>\n",
       "    </tr>\n",
       "    <tr>\n",
       "      <td>9</td>\n",
       "      <td>0</td>\n",
       "      <td>2188</td>\n",
       "      <td>41</td>\n",
       "      <td>1</td>\n",
       "      <td>0</td>\n",
       "      <td>M</td>\n",
       "      <td>сотрудник</td>\n",
       "      <td>0</td>\n",
       "      <td>144425</td>\n",
       "      <td>покупка жилья для семьи</td>\n",
       "      <td>5</td>\n",
       "    </tr>\n",
       "    <tr>\n",
       "      <td>10</td>\n",
       "      <td>2</td>\n",
       "      <td>4171</td>\n",
       "      <td>36</td>\n",
       "      <td>0</td>\n",
       "      <td>0</td>\n",
       "      <td>M</td>\n",
       "      <td>компаньон</td>\n",
       "      <td>0</td>\n",
       "      <td>113943</td>\n",
       "      <td>покупка недвижимости</td>\n",
       "      <td>5</td>\n",
       "    </tr>\n",
       "    <tr>\n",
       "      <td>11</td>\n",
       "      <td>0</td>\n",
       "      <td>792</td>\n",
       "      <td>40</td>\n",
       "      <td>1</td>\n",
       "      <td>0</td>\n",
       "      <td>F</td>\n",
       "      <td>сотрудник</td>\n",
       "      <td>0</td>\n",
       "      <td>77069</td>\n",
       "      <td>покупка коммерческой недвижимости</td>\n",
       "      <td>4</td>\n",
       "    </tr>\n",
       "    <tr>\n",
       "      <td>12</td>\n",
       "      <td>0</td>\n",
       "      <td>5295</td>\n",
       "      <td>65</td>\n",
       "      <td>1</td>\n",
       "      <td>1</td>\n",
       "      <td>M</td>\n",
       "      <td>пенсионер</td>\n",
       "      <td>0</td>\n",
       "      <td>137127</td>\n",
       "      <td>сыграть свадьбу</td>\n",
       "      <td>1</td>\n",
       "    </tr>\n",
       "    <tr>\n",
       "      <td>13</td>\n",
       "      <td>0</td>\n",
       "      <td>1846</td>\n",
       "      <td>54</td>\n",
       "      <td>2</td>\n",
       "      <td>0</td>\n",
       "      <td>F</td>\n",
       "      <td>сотрудник</td>\n",
       "      <td>0</td>\n",
       "      <td>130458</td>\n",
       "      <td>приобретение автомобиля</td>\n",
       "      <td>2</td>\n",
       "    </tr>\n",
       "    <tr>\n",
       "      <td>14</td>\n",
       "      <td>0</td>\n",
       "      <td>1844</td>\n",
       "      <td>56</td>\n",
       "      <td>0</td>\n",
       "      <td>1</td>\n",
       "      <td>F</td>\n",
       "      <td>компаньон</td>\n",
       "      <td>1</td>\n",
       "      <td>165127</td>\n",
       "      <td>покупка жилой недвижимости</td>\n",
       "      <td>5</td>\n",
       "    </tr>\n",
       "  </tbody>\n",
       "</table>\n",
       "</div>"
      ],
      "text/plain": [
       "    children  days_employed  dob_years  education_id  family_status_id gender  \\\n",
       "0          1           8437         42             0                 0      F   \n",
       "1          1           4024         36             1                 0      F   \n",
       "2          0           5623         33             1                 0      M   \n",
       "3          3           4124         32             1                 0      M   \n",
       "4          0           6420         53             1                 1      F   \n",
       "5          0            926         27             0                 1      M   \n",
       "6          0           2879         43             0                 0      F   \n",
       "7          0            152         50             1                 0      M   \n",
       "8          2           6929         35             0                 1      F   \n",
       "9          0           2188         41             1                 0      M   \n",
       "10         2           4171         36             0                 0      M   \n",
       "11         0            792         40             1                 0      F   \n",
       "12         0           5295         65             1                 1      M   \n",
       "13         0           1846         54             2                 0      F   \n",
       "14         0           1844         56             0                 1      F   \n",
       "\n",
       "   income_type  debt  total_income                            purpose  \\\n",
       "0    сотрудник     0        253875                      покупка жилья   \n",
       "1    сотрудник     0        112080            приобретение автомобиля   \n",
       "2    сотрудник     0        145885                      покупка жилья   \n",
       "3    сотрудник     0        267628         дополнительное образование   \n",
       "4    пенсионер     0        158616                    сыграть свадьбу   \n",
       "5    компаньон     0        255763                      покупка жилья   \n",
       "6    компаньон     0        240525                  операции с жильем   \n",
       "7    сотрудник     0        135823                        образование   \n",
       "8    сотрудник     0         95856              на проведение свадьбы   \n",
       "9    сотрудник     0        144425            покупка жилья для семьи   \n",
       "10   компаньон     0        113943               покупка недвижимости   \n",
       "11   сотрудник     0         77069  покупка коммерческой недвижимости   \n",
       "12   пенсионер     0        137127                    сыграть свадьбу   \n",
       "13   сотрудник     0        130458            приобретение автомобиля   \n",
       "14   компаньон     1        165127         покупка жилой недвижимости   \n",
       "\n",
       "    purpose_type_id  \n",
       "0                 5  \n",
       "1                 2  \n",
       "2                 5  \n",
       "3                 0  \n",
       "4                 1  \n",
       "5                 5  \n",
       "6                 5  \n",
       "7                 0  \n",
       "8                 1  \n",
       "9                 5  \n",
       "10                5  \n",
       "11                4  \n",
       "12                1  \n",
       "13                2  \n",
       "14                5  "
      ]
     },
     "execution_count": 41,
     "metadata": {},
     "output_type": "execute_result"
    }
   ],
   "source": [
    "data = data.drop('family_status', axis=1)\n",
    "data = data.drop('education', axis=1)\n",
    "data.head(15)"
   ]
  },
  {
   "cell_type": "markdown",
   "metadata": {},
   "source": [
    "**Вывод**\n",
    "\n",
    "В таблице выделены три словаря:\n",
    "1. Цель взятия кредита\n",
    "2. Семейное положение\n",
    "3. Образование"
   ]
  },
  {
   "cell_type": "markdown",
   "metadata": {},
   "source": [
    "## Шаг 3. Ответьте на вопросы"
   ]
  },
  {
   "cell_type": "markdown",
   "metadata": {},
   "source": [
    "- Есть ли зависимость между наличием детей и возвратом кредита в срок?"
   ]
  },
  {
   "cell_type": "code",
   "execution_count": 42,
   "metadata": {},
   "outputs": [
    {
     "name": "stdout",
     "output_type": "stream",
     "text": [
      "Клиенты без детей имели задолженность в 7.54% случаев\n"
     ]
    }
   ],
   "source": [
    "debt_childless = data[data['children'] == 0]['debt'].sum(\n",
    ") / data[data['children'] == 0]['debt'].count()\n",
    "print(f'Клиенты без детей имели задолженность в {debt_childless:.2%} случаев')"
   ]
  },
  {
   "cell_type": "code",
   "execution_count": 43,
   "metadata": {},
   "outputs": [
    {
     "name": "stdout",
     "output_type": "stream",
     "text": [
      "Клиенты с детьми имели задолженность в 9.21% случаев\n"
     ]
    }
   ],
   "source": [
    "debt_children = data[data['children'] != 0]['debt'].sum(\n",
    ") / data[data['children'] != 0]['debt'].count()\n",
    "print(f'Клиенты с детьми имели задолженность в {debt_children:.2%} случаев')"
   ]
  },
  {
   "cell_type": "code",
   "execution_count": 44,
   "metadata": {},
   "outputs": [
    {
     "data": {
      "text/html": [
       "<div>\n",
       "<style scoped>\n",
       "    .dataframe tbody tr th:only-of-type {\n",
       "        vertical-align: middle;\n",
       "    }\n",
       "\n",
       "    .dataframe tbody tr th {\n",
       "        vertical-align: top;\n",
       "    }\n",
       "\n",
       "    .dataframe thead th {\n",
       "        text-align: right;\n",
       "    }\n",
       "</style>\n",
       "<table border=\"1\" class=\"dataframe\">\n",
       "  <thead>\n",
       "    <tr style=\"text-align: right;\">\n",
       "      <th>debt</th>\n",
       "      <th>0</th>\n",
       "      <th>1</th>\n",
       "      <th>debtor_per_person</th>\n",
       "    </tr>\n",
       "    <tr>\n",
       "      <th>children</th>\n",
       "      <th></th>\n",
       "      <th></th>\n",
       "      <th></th>\n",
       "    </tr>\n",
       "  </thead>\n",
       "  <tbody>\n",
       "    <tr>\n",
       "      <td>0</td>\n",
       "      <td>13028.0</td>\n",
       "      <td>1063.0</td>\n",
       "      <td>0.075438</td>\n",
       "    </tr>\n",
       "    <tr>\n",
       "      <td>1</td>\n",
       "      <td>4410.0</td>\n",
       "      <td>445.0</td>\n",
       "      <td>0.091658</td>\n",
       "    </tr>\n",
       "    <tr>\n",
       "      <td>2</td>\n",
       "      <td>1926.0</td>\n",
       "      <td>202.0</td>\n",
       "      <td>0.094925</td>\n",
       "    </tr>\n",
       "    <tr>\n",
       "      <td>3</td>\n",
       "      <td>303.0</td>\n",
       "      <td>27.0</td>\n",
       "      <td>0.081818</td>\n",
       "    </tr>\n",
       "    <tr>\n",
       "      <td>4</td>\n",
       "      <td>37.0</td>\n",
       "      <td>4.0</td>\n",
       "      <td>0.097561</td>\n",
       "    </tr>\n",
       "    <tr>\n",
       "      <td>5</td>\n",
       "      <td>9.0</td>\n",
       "      <td>NaN</td>\n",
       "      <td>NaN</td>\n",
       "    </tr>\n",
       "  </tbody>\n",
       "</table>\n",
       "</div>"
      ],
      "text/plain": [
       "debt            0       1  debtor_per_person\n",
       "children                                    \n",
       "0         13028.0  1063.0           0.075438\n",
       "1          4410.0   445.0           0.091658\n",
       "2          1926.0   202.0           0.094925\n",
       "3           303.0    27.0           0.081818\n",
       "4            37.0     4.0           0.097561\n",
       "5             9.0     NaN                NaN"
      ]
     },
     "execution_count": 44,
     "metadata": {},
     "output_type": "execute_result"
    }
   ],
   "source": [
    "debt_child = data.pivot_table(\n",
    "    index='children', columns='debt', values='gender', aggfunc='count')\n",
    "debt_child['debtor_per_person'] = debt_child[1] / \\\n",
    "    (debt_child[1] + debt_child[0])\n",
    "debt_child"
   ]
  },
  {
   "cell_type": "markdown",
   "metadata": {},
   "source": [
    "**Вывод**\n",
    "\n",
    "Вероятно клиенты с детьми более склоны задерживаться с выплатой кредита, однако это может быть статистическая погрешность."
   ]
  },
  {
   "cell_type": "markdown",
   "metadata": {},
   "source": [
    "- Есть ли зависимость между семейным положением и возвратом кредита в срок?"
   ]
  },
  {
   "cell_type": "code",
   "execution_count": 45,
   "metadata": {},
   "outputs": [
    {
     "data": {
      "text/html": [
       "<div>\n",
       "<style scoped>\n",
       "    .dataframe tbody tr th:only-of-type {\n",
       "        vertical-align: middle;\n",
       "    }\n",
       "\n",
       "    .dataframe tbody tr th {\n",
       "        vertical-align: top;\n",
       "    }\n",
       "\n",
       "    .dataframe thead th {\n",
       "        text-align: right;\n",
       "    }\n",
       "</style>\n",
       "<table border=\"1\" class=\"dataframe\">\n",
       "  <thead>\n",
       "    <tr style=\"text-align: right;\">\n",
       "      <th></th>\n",
       "      <th>family_status_id</th>\n",
       "      <th>0</th>\n",
       "      <th>1</th>\n",
       "      <th>debtor_per_person</th>\n",
       "      <th>family_status</th>\n",
       "    </tr>\n",
       "  </thead>\n",
       "  <tbody>\n",
       "    <tr>\n",
       "      <td>0</td>\n",
       "      <td>2</td>\n",
       "      <td>896</td>\n",
       "      <td>63</td>\n",
       "      <td>0.065693</td>\n",
       "      <td>вдовец / вдова</td>\n",
       "    </tr>\n",
       "    <tr>\n",
       "      <td>1</td>\n",
       "      <td>3</td>\n",
       "      <td>1110</td>\n",
       "      <td>85</td>\n",
       "      <td>0.071130</td>\n",
       "      <td>в разводе</td>\n",
       "    </tr>\n",
       "    <tr>\n",
       "      <td>2</td>\n",
       "      <td>0</td>\n",
       "      <td>11408</td>\n",
       "      <td>931</td>\n",
       "      <td>0.075452</td>\n",
       "      <td>женат / замужем</td>\n",
       "    </tr>\n",
       "    <tr>\n",
       "      <td>3</td>\n",
       "      <td>1</td>\n",
       "      <td>3763</td>\n",
       "      <td>388</td>\n",
       "      <td>0.093471</td>\n",
       "      <td>гражданский брак</td>\n",
       "    </tr>\n",
       "    <tr>\n",
       "      <td>4</td>\n",
       "      <td>4</td>\n",
       "      <td>2536</td>\n",
       "      <td>274</td>\n",
       "      <td>0.097509</td>\n",
       "      <td>Не женат / не замужем</td>\n",
       "    </tr>\n",
       "  </tbody>\n",
       "</table>\n",
       "</div>"
      ],
      "text/plain": [
       "   family_status_id      0    1  debtor_per_person          family_status\n",
       "0                 2    896   63           0.065693         вдовец / вдова\n",
       "1                 3   1110   85           0.071130              в разводе\n",
       "2                 0  11408  931           0.075452        женат / замужем\n",
       "3                 1   3763  388           0.093471       гражданский брак\n",
       "4                 4   2536  274           0.097509  Не женат / не замужем"
      ]
     },
     "execution_count": 45,
     "metadata": {},
     "output_type": "execute_result"
    }
   ],
   "source": [
    "debt_family_status = data.pivot_table(\n",
    "    index='family_status_id', columns='debt', values='gender', aggfunc='count')\n",
    "debt_family_status['debtor_per_person'] = debt_family_status[1] / \\\n",
    "    (debt_family_status[1] + debt_family_status[0])\n",
    "debt_family_status = debt_family_status.sort_values(by='debtor_per_person')\n",
    "debt_family_status = debt_family_status.merge(\n",
    "    family_status_dict, on='family_status_id', how='left')\n",
    "debt_family_status"
   ]
  },
  {
   "cell_type": "markdown",
   "metadata": {},
   "source": [
    "**Вывод**\n",
    "\n",
    "Люди, не желающие брать на себя брачные обязательства, и к обязательствам по кредиту относятся так себе."
   ]
  },
  {
   "cell_type": "markdown",
   "metadata": {},
   "source": [
    "- Есть ли зависимость между уровнем дохода и возвратом кредита в срок?"
   ]
  },
  {
   "cell_type": "code",
   "execution_count": 46,
   "metadata": {},
   "outputs": [],
   "source": [
    "median_income = data['total_income'].median()\n",
    "low_income = data[data['total_income'] <\n",
    "                  median_income]['total_income'].median()\n",
    "high_income = data[data['total_income'] >=\n",
    "                   median_income]['total_income'].median()"
   ]
  },
  {
   "cell_type": "code",
   "execution_count": 47,
   "metadata": {},
   "outputs": [],
   "source": [
    "def income_type(income):\n",
    "    if income < low_income:\n",
    "        return 'низкий доход'\n",
    "    if income < high_income:\n",
    "        return 'средний доход'\n",
    "    return 'высокий доход'\n",
    "\n",
    "\n",
    "data['income'] = data['total_income'].apply(income_type)"
   ]
  },
  {
   "cell_type": "code",
   "execution_count": 48,
   "metadata": {},
   "outputs": [
    {
     "data": {
      "text/html": [
       "<div>\n",
       "<style scoped>\n",
       "    .dataframe tbody tr th:only-of-type {\n",
       "        vertical-align: middle;\n",
       "    }\n",
       "\n",
       "    .dataframe tbody tr th {\n",
       "        vertical-align: top;\n",
       "    }\n",
       "\n",
       "    .dataframe thead th {\n",
       "        text-align: right;\n",
       "    }\n",
       "</style>\n",
       "<table border=\"1\" class=\"dataframe\">\n",
       "  <thead>\n",
       "    <tr style=\"text-align: right;\">\n",
       "      <th>debt</th>\n",
       "      <th>0</th>\n",
       "      <th>1</th>\n",
       "      <th>debtor_per_person</th>\n",
       "    </tr>\n",
       "    <tr>\n",
       "      <th>income</th>\n",
       "      <th></th>\n",
       "      <th></th>\n",
       "      <th></th>\n",
       "    </tr>\n",
       "  </thead>\n",
       "  <tbody>\n",
       "    <tr>\n",
       "      <td>высокий доход</td>\n",
       "      <td>5035</td>\n",
       "      <td>375</td>\n",
       "      <td>0.069316</td>\n",
       "    </tr>\n",
       "    <tr>\n",
       "      <td>низкий доход</td>\n",
       "      <td>4936</td>\n",
       "      <td>427</td>\n",
       "      <td>0.079620</td>\n",
       "    </tr>\n",
       "    <tr>\n",
       "      <td>средний доход</td>\n",
       "      <td>9742</td>\n",
       "      <td>939</td>\n",
       "      <td>0.087913</td>\n",
       "    </tr>\n",
       "  </tbody>\n",
       "</table>\n",
       "</div>"
      ],
      "text/plain": [
       "debt              0    1  debtor_per_person\n",
       "income                                     \n",
       "высокий доход  5035  375           0.069316\n",
       "низкий доход   4936  427           0.079620\n",
       "средний доход  9742  939           0.087913"
      ]
     },
     "execution_count": 48,
     "metadata": {},
     "output_type": "execute_result"
    }
   ],
   "source": [
    "debt_income = data.pivot_table(\n",
    "    index='income', columns='debt', values='gender', aggfunc='count')\n",
    "debt_income['debtor_per_person'] = debt_income[1] / \\\n",
    "    (debt_income[1] + debt_income[0])\n",
    "debt_income"
   ]
  },
  {
   "cell_type": "markdown",
   "metadata": {},
   "source": [
    "**Вывод**\n",
    "\n",
    "Люди с высоким доходом лучше всего возвращают кредиты."
   ]
  },
  {
   "cell_type": "markdown",
   "metadata": {},
   "source": [
    "- Как разные цели кредита влияют на его возврат в срок?"
   ]
  },
  {
   "cell_type": "code",
   "execution_count": 49,
   "metadata": {},
   "outputs": [
    {
     "data": {
      "text/html": [
       "<div>\n",
       "<style scoped>\n",
       "    .dataframe tbody tr th:only-of-type {\n",
       "        vertical-align: middle;\n",
       "    }\n",
       "\n",
       "    .dataframe tbody tr th {\n",
       "        vertical-align: top;\n",
       "    }\n",
       "\n",
       "    .dataframe thead th {\n",
       "        text-align: right;\n",
       "    }\n",
       "</style>\n",
       "<table border=\"1\" class=\"dataframe\">\n",
       "  <thead>\n",
       "    <tr style=\"text-align: right;\">\n",
       "      <th></th>\n",
       "      <th>purpose_type_id</th>\n",
       "      <th>0</th>\n",
       "      <th>1</th>\n",
       "      <th>debtor_per_person</th>\n",
       "      <th>purpose_type</th>\n",
       "    </tr>\n",
       "  </thead>\n",
       "  <tbody>\n",
       "    <tr>\n",
       "      <td>0</td>\n",
       "      <td>3</td>\n",
       "      <td>572</td>\n",
       "      <td>35</td>\n",
       "      <td>0.057661</td>\n",
       "      <td>ремонт</td>\n",
       "    </tr>\n",
       "    <tr>\n",
       "      <td>1</td>\n",
       "      <td>5</td>\n",
       "      <td>7646</td>\n",
       "      <td>596</td>\n",
       "      <td>0.072313</td>\n",
       "      <td>жилая недвижимость</td>\n",
       "    </tr>\n",
       "    <tr>\n",
       "      <td>2</td>\n",
       "      <td>4</td>\n",
       "      <td>1811</td>\n",
       "      <td>151</td>\n",
       "      <td>0.076962</td>\n",
       "      <td>коммерческая недвижимость</td>\n",
       "    </tr>\n",
       "    <tr>\n",
       "      <td>3</td>\n",
       "      <td>1</td>\n",
       "      <td>2138</td>\n",
       "      <td>186</td>\n",
       "      <td>0.080034</td>\n",
       "      <td>свадьба</td>\n",
       "    </tr>\n",
       "    <tr>\n",
       "      <td>4</td>\n",
       "      <td>0</td>\n",
       "      <td>3643</td>\n",
       "      <td>370</td>\n",
       "      <td>0.092200</td>\n",
       "      <td>образование</td>\n",
       "    </tr>\n",
       "    <tr>\n",
       "      <td>5</td>\n",
       "      <td>2</td>\n",
       "      <td>3903</td>\n",
       "      <td>403</td>\n",
       "      <td>0.093590</td>\n",
       "      <td>автомобиль</td>\n",
       "    </tr>\n",
       "  </tbody>\n",
       "</table>\n",
       "</div>"
      ],
      "text/plain": [
       "   purpose_type_id     0    1  debtor_per_person               purpose_type\n",
       "0                3   572   35           0.057661                     ремонт\n",
       "1                5  7646  596           0.072313         жилая недвижимость\n",
       "2                4  1811  151           0.076962  коммерческая недвижимость\n",
       "3                1  2138  186           0.080034                    свадьба\n",
       "4                0  3643  370           0.092200                образование\n",
       "5                2  3903  403           0.093590                 автомобиль"
      ]
     },
     "execution_count": 49,
     "metadata": {},
     "output_type": "execute_result"
    }
   ],
   "source": [
    "debt_purpose = data.pivot_table(\n",
    "    index='purpose_type_id', columns='debt', values='gender', aggfunc='count')\n",
    "debt_purpose['debtor_per_person'] = debt_purpose[1] / \\\n",
    "    (debt_purpose[1] + debt_purpose[0])\n",
    "debt_purpose = debt_purpose.sort_values(by='debtor_per_person')\n",
    "debt_purpose = debt_purpose.merge(\n",
    "    purpose_type_dict, on='purpose_type_id', how='left')\n",
    "debt_purpose"
   ]
  },
  {
   "cell_type": "markdown",
   "metadata": {},
   "source": [
    "**Вывод**\n",
    "\n",
    "Лучше всего возвращают кредиты на ремонт, а вот образовательные и автокредиты возвращать не спешат."
   ]
  },
  {
   "cell_type": "markdown",
   "metadata": {},
   "source": [
    "## Шаг 4. Общий вывод"
   ]
  },
  {
   "cell_type": "markdown",
   "metadata": {},
   "source": [
    "По результатам обработки данных, семейное положение и наличие детей действительно влияют на возврат кредита в срок. При этом семейные, но бездетные люди с высоким доходом, берущие кредит на ремонт, с наибольшей вероятностью вернут его вовремя, тогда как холостяки с детьми и средним доходом, берущие автокредит, с большей вероятностью выплаты задержат."
   ]
  }
 ],
 "metadata": {
  "ExecuteTimeLog": [
   {
    "duration": 636,
    "start_time": "2021-11-27T10:24:19.809Z"
   },
   {
    "duration": 56,
    "start_time": "2021-11-27T10:24:48.055Z"
   },
   {
    "duration": 18,
    "start_time": "2021-11-27T10:24:54.029Z"
   },
   {
    "duration": 30380,
    "start_time": "2021-11-27T10:27:09.962Z"
   },
   {
    "duration": 1358,
    "start_time": "2021-11-27T10:28:52.197Z"
   },
   {
    "duration": 5,
    "start_time": "2021-11-27T10:30:32.668Z"
   },
   {
    "duration": 6,
    "start_time": "2021-11-27T10:30:44.915Z"
   },
   {
    "duration": 12,
    "start_time": "2021-11-27T10:31:31.165Z"
   },
   {
    "duration": 3,
    "start_time": "2021-11-27T10:32:08.820Z"
   },
   {
    "duration": 11,
    "start_time": "2021-11-27T10:32:11.229Z"
   },
   {
    "duration": 5,
    "start_time": "2021-11-27T10:33:06.592Z"
   },
   {
    "duration": 12,
    "start_time": "2021-11-27T10:33:16.690Z"
   },
   {
    "duration": 16,
    "start_time": "2021-11-27T10:41:31.576Z"
   },
   {
    "duration": 15,
    "start_time": "2021-11-27T10:53:45.991Z"
   },
   {
    "duration": 5675,
    "start_time": "2021-11-27T11:05:12.125Z"
   },
   {
    "duration": 5,
    "start_time": "2021-11-27T11:05:28.927Z"
   },
   {
    "duration": 5,
    "start_time": "2021-11-27T11:07:05.733Z"
   },
   {
    "duration": 22,
    "start_time": "2021-11-27T11:07:27.143Z"
   },
   {
    "duration": 33,
    "start_time": "2021-11-27T11:07:54.819Z"
   },
   {
    "duration": 217,
    "start_time": "2021-11-27T11:10:01.140Z"
   },
   {
    "duration": 241,
    "start_time": "2021-11-27T11:10:08.679Z"
   },
   {
    "duration": 1318,
    "start_time": "2021-11-27T11:10:15.537Z"
   },
   {
    "duration": 24,
    "start_time": "2021-11-27T11:10:16.857Z"
   },
   {
    "duration": 15,
    "start_time": "2021-11-27T11:10:16.886Z"
   },
   {
    "duration": 10,
    "start_time": "2021-11-27T11:10:16.903Z"
   },
   {
    "duration": 7,
    "start_time": "2021-11-27T11:10:16.915Z"
   },
   {
    "duration": 18,
    "start_time": "2021-11-27T11:10:36.990Z"
   },
   {
    "duration": 5,
    "start_time": "2021-11-27T11:11:56.678Z"
   },
   {
    "duration": 4,
    "start_time": "2021-11-27T11:12:46.678Z"
   },
   {
    "duration": 54,
    "start_time": "2021-11-27T11:13:42.313Z"
   },
   {
    "duration": 61,
    "start_time": "2021-11-27T11:13:47.666Z"
   },
   {
    "duration": 18,
    "start_time": "2021-11-27T11:14:00.111Z"
   },
   {
    "duration": 9,
    "start_time": "2021-11-27T11:14:15.310Z"
   },
   {
    "duration": 15,
    "start_time": "2021-11-27T13:25:33.402Z"
   },
   {
    "duration": 21,
    "start_time": "2021-11-27T13:58:14.029Z"
   },
   {
    "duration": 15,
    "start_time": "2021-11-27T13:58:34.726Z"
   },
   {
    "duration": 15,
    "start_time": "2021-11-27T14:15:17.940Z"
   },
   {
    "duration": 4,
    "start_time": "2021-11-28T09:23:55.706Z"
   },
   {
    "duration": 427,
    "start_time": "2021-11-28T09:29:27.708Z"
   },
   {
    "duration": 855,
    "start_time": "2021-11-28T09:29:36.324Z"
   },
   {
    "duration": 34,
    "start_time": "2021-11-28T09:29:38.900Z"
   },
   {
    "duration": 6,
    "start_time": "2021-11-28T09:29:48.443Z"
   },
   {
    "duration": 33,
    "start_time": "2021-11-28T09:30:15.861Z"
   },
   {
    "duration": 7,
    "start_time": "2021-11-28T09:36:20.212Z"
   },
   {
    "duration": 6,
    "start_time": "2021-11-28T09:36:34.968Z"
   },
   {
    "duration": 17,
    "start_time": "2021-11-28T09:38:05.281Z"
   },
   {
    "duration": 9,
    "start_time": "2021-11-28T09:38:16.815Z"
   },
   {
    "duration": 7,
    "start_time": "2021-11-28T09:40:29.214Z"
   },
   {
    "duration": 7,
    "start_time": "2021-11-28T09:40:51.096Z"
   },
   {
    "duration": 24,
    "start_time": "2021-11-28T09:45:03.510Z"
   },
   {
    "duration": 24,
    "start_time": "2021-11-28T09:45:07.031Z"
   },
   {
    "duration": 26,
    "start_time": "2021-11-28T09:45:20.687Z"
   },
   {
    "duration": 9,
    "start_time": "2021-11-28T09:45:38.408Z"
   },
   {
    "duration": 12,
    "start_time": "2021-11-28T09:46:29.108Z"
   },
   {
    "duration": 10,
    "start_time": "2021-11-28T09:47:19.545Z"
   },
   {
    "duration": 9,
    "start_time": "2021-11-28T09:47:21.986Z"
   },
   {
    "duration": 13,
    "start_time": "2021-11-28T09:47:30.144Z"
   },
   {
    "duration": 12,
    "start_time": "2021-11-28T09:47:41.567Z"
   },
   {
    "duration": 11,
    "start_time": "2021-11-28T09:48:22.759Z"
   },
   {
    "duration": 9,
    "start_time": "2021-11-28T09:49:22.855Z"
   },
   {
    "duration": 10,
    "start_time": "2021-11-28T09:49:51.794Z"
   },
   {
    "duration": 121,
    "start_time": "2021-11-28T09:50:25.209Z"
   },
   {
    "duration": 115,
    "start_time": "2021-11-28T09:51:03.395Z"
   },
   {
    "duration": 11,
    "start_time": "2021-11-28T09:51:36.518Z"
   },
   {
    "duration": 37,
    "start_time": "2021-11-28T09:52:13.657Z"
   },
   {
    "duration": 394,
    "start_time": "2021-11-28T09:54:12.082Z"
   },
   {
    "duration": 11,
    "start_time": "2021-11-28T09:54:33.855Z"
   },
   {
    "duration": 14,
    "start_time": "2021-11-28T09:55:04.696Z"
   },
   {
    "duration": 9,
    "start_time": "2021-11-28T09:55:16.409Z"
   },
   {
    "duration": 9,
    "start_time": "2021-11-28T09:55:32.304Z"
   },
   {
    "duration": 12,
    "start_time": "2021-11-28T09:56:02.480Z"
   },
   {
    "duration": 34,
    "start_time": "2021-11-28T09:56:12.281Z"
   },
   {
    "duration": 13,
    "start_time": "2021-11-28T09:56:47.594Z"
   },
   {
    "duration": 15,
    "start_time": "2021-11-28T10:01:40.431Z"
   },
   {
    "duration": 833,
    "start_time": "2021-11-28T10:02:00.279Z"
   },
   {
    "duration": 45,
    "start_time": "2021-11-28T10:02:16.387Z"
   },
   {
    "duration": 30,
    "start_time": "2021-11-28T10:02:22.182Z"
   },
   {
    "duration": 11,
    "start_time": "2021-11-28T10:02:28.346Z"
   },
   {
    "duration": 11,
    "start_time": "2021-11-28T10:02:32.747Z"
   },
   {
    "duration": 16,
    "start_time": "2021-11-28T10:02:43.841Z"
   },
   {
    "duration": 15,
    "start_time": "2021-11-28T10:03:20.865Z"
   },
   {
    "duration": 9,
    "start_time": "2021-11-28T10:03:51.086Z"
   },
   {
    "duration": 124,
    "start_time": "2021-11-28T10:04:52.661Z"
   },
   {
    "duration": 38,
    "start_time": "2021-11-28T10:04:52.842Z"
   },
   {
    "duration": 36,
    "start_time": "2021-11-28T10:05:02.905Z"
   },
   {
    "duration": 24,
    "start_time": "2021-11-28T10:06:47.457Z"
   },
   {
    "duration": 12,
    "start_time": "2021-11-28T10:09:19.743Z"
   },
   {
    "duration": 23,
    "start_time": "2021-11-28T10:09:23.578Z"
   },
   {
    "duration": 21,
    "start_time": "2021-11-28T10:11:22.208Z"
   },
   {
    "duration": 3,
    "start_time": "2021-11-28T10:13:20.624Z"
   },
   {
    "duration": 471,
    "start_time": "2021-11-28T10:16:19.733Z"
   },
   {
    "duration": 357,
    "start_time": "2021-11-28T10:16:33.935Z"
   },
   {
    "duration": 14,
    "start_time": "2021-11-28T10:21:34.508Z"
   },
   {
    "duration": 21,
    "start_time": "2021-11-28T10:32:37.993Z"
   },
   {
    "duration": 21,
    "start_time": "2021-11-28T10:32:47.999Z"
   },
   {
    "duration": 34,
    "start_time": "2021-11-28T10:32:52.302Z"
   },
   {
    "duration": 40,
    "start_time": "2021-11-28T10:33:43.753Z"
   },
   {
    "duration": 13,
    "start_time": "2021-11-28T10:36:12.823Z"
   },
   {
    "duration": 13,
    "start_time": "2021-11-28T10:37:16.156Z"
   },
   {
    "duration": 5793,
    "start_time": "2021-11-28T10:43:36.260Z"
   },
   {
    "duration": 6106,
    "start_time": "2021-11-28T10:43:57.307Z"
   },
   {
    "duration": 6519,
    "start_time": "2021-11-28T10:44:57.744Z"
   },
   {
    "duration": 862,
    "start_time": "2021-11-28T18:37:53.413Z"
   },
   {
    "duration": 37,
    "start_time": "2021-11-28T18:38:03.212Z"
   },
   {
    "duration": 35,
    "start_time": "2021-11-28T18:38:30.985Z"
   },
   {
    "duration": 29,
    "start_time": "2021-11-28T18:38:35.308Z"
   },
   {
    "duration": 13,
    "start_time": "2021-11-28T18:38:40.409Z"
   },
   {
    "duration": 12,
    "start_time": "2021-11-28T18:38:43.632Z"
   },
   {
    "duration": 15,
    "start_time": "2021-11-28T18:38:44.824Z"
   },
   {
    "duration": 16,
    "start_time": "2021-11-28T18:38:47.029Z"
   },
   {
    "duration": 17,
    "start_time": "2021-11-28T18:38:48.990Z"
   },
   {
    "duration": 13,
    "start_time": "2021-11-28T18:38:50.240Z"
   },
   {
    "duration": 24,
    "start_time": "2021-11-28T18:38:52.317Z"
   },
   {
    "duration": 95,
    "start_time": "2021-11-28T18:38:56.257Z"
   },
   {
    "duration": 4221,
    "start_time": "2021-11-28T18:40:42.196Z"
   },
   {
    "duration": 13,
    "start_time": "2021-11-28T18:40:52.089Z"
   },
   {
    "duration": 286,
    "start_time": "2021-11-28T18:46:50.168Z"
   },
   {
    "duration": 291,
    "start_time": "2021-11-28T18:47:33.391Z"
   },
   {
    "duration": 269,
    "start_time": "2021-11-28T18:47:42.235Z"
   },
   {
    "duration": 39,
    "start_time": "2021-11-28T18:48:27.595Z"
   },
   {
    "duration": 25,
    "start_time": "2021-11-28T18:49:05.184Z"
   },
   {
    "duration": 6721,
    "start_time": "2021-11-28T18:53:30.862Z"
   },
   {
    "duration": 14,
    "start_time": "2021-11-28T18:53:58.444Z"
   },
   {
    "duration": 7445,
    "start_time": "2021-11-28T18:54:10.048Z"
   },
   {
    "duration": 20,
    "start_time": "2021-11-28T18:59:01.163Z"
   },
   {
    "duration": 16,
    "start_time": "2021-11-28T18:59:11.380Z"
   },
   {
    "duration": 7537,
    "start_time": "2021-11-28T18:59:14.370Z"
   },
   {
    "duration": 280,
    "start_time": "2021-11-28T19:01:19.193Z"
   },
   {
    "duration": 615,
    "start_time": "2021-11-29T08:40:22.082Z"
   },
   {
    "duration": 708,
    "start_time": "2021-11-29T08:44:13.223Z"
   },
   {
    "duration": 23,
    "start_time": "2021-11-29T08:44:13.933Z"
   },
   {
    "duration": 23,
    "start_time": "2021-11-29T08:44:13.958Z"
   },
   {
    "duration": 14,
    "start_time": "2021-11-29T08:44:13.983Z"
   },
   {
    "duration": 13,
    "start_time": "2021-11-29T08:44:13.998Z"
   },
   {
    "duration": 17,
    "start_time": "2021-11-29T08:44:14.013Z"
   },
   {
    "duration": 20,
    "start_time": "2021-11-29T08:44:14.032Z"
   },
   {
    "duration": 3,
    "start_time": "2021-11-29T08:44:14.055Z"
   },
   {
    "duration": 154,
    "start_time": "2021-11-29T08:44:14.060Z"
   },
   {
    "duration": -347,
    "start_time": "2021-11-29T08:44:14.563Z"
   },
   {
    "duration": -355,
    "start_time": "2021-11-29T08:44:14.572Z"
   },
   {
    "duration": -398,
    "start_time": "2021-11-29T08:44:14.616Z"
   },
   {
    "duration": -407,
    "start_time": "2021-11-29T08:44:14.626Z"
   },
   {
    "duration": -418,
    "start_time": "2021-11-29T08:44:14.638Z"
   },
   {
    "duration": -428,
    "start_time": "2021-11-29T08:44:14.649Z"
   },
   {
    "duration": -437,
    "start_time": "2021-11-29T08:44:14.659Z"
   },
   {
    "duration": -446,
    "start_time": "2021-11-29T08:44:14.669Z"
   },
   {
    "duration": -455,
    "start_time": "2021-11-29T08:44:14.679Z"
   },
   {
    "duration": -464,
    "start_time": "2021-11-29T08:44:14.689Z"
   },
   {
    "duration": -473,
    "start_time": "2021-11-29T08:44:14.699Z"
   },
   {
    "duration": -482,
    "start_time": "2021-11-29T08:44:14.709Z"
   },
   {
    "duration": -509,
    "start_time": "2021-11-29T08:44:14.737Z"
   },
   {
    "duration": -520,
    "start_time": "2021-11-29T08:44:14.749Z"
   },
   {
    "duration": -530,
    "start_time": "2021-11-29T08:44:14.760Z"
   },
   {
    "duration": -541,
    "start_time": "2021-11-29T08:44:14.772Z"
   },
   {
    "duration": -550,
    "start_time": "2021-11-29T08:44:14.782Z"
   },
   {
    "duration": -558,
    "start_time": "2021-11-29T08:44:14.791Z"
   },
   {
    "duration": 633,
    "start_time": "2021-11-29T08:44:40.871Z"
   },
   {
    "duration": 20,
    "start_time": "2021-11-29T08:44:41.506Z"
   },
   {
    "duration": 31,
    "start_time": "2021-11-29T08:44:41.528Z"
   },
   {
    "duration": 32,
    "start_time": "2021-11-29T08:44:41.561Z"
   },
   {
    "duration": 22,
    "start_time": "2021-11-29T08:44:41.595Z"
   },
   {
    "duration": 29,
    "start_time": "2021-11-29T08:44:41.618Z"
   },
   {
    "duration": 21,
    "start_time": "2021-11-29T08:44:41.649Z"
   },
   {
    "duration": 36,
    "start_time": "2021-11-29T08:44:41.672Z"
   },
   {
    "duration": 30,
    "start_time": "2021-11-29T08:44:41.710Z"
   },
   {
    "duration": 37,
    "start_time": "2021-11-29T08:44:41.742Z"
   },
   {
    "duration": 29,
    "start_time": "2021-11-29T08:44:41.781Z"
   },
   {
    "duration": 34,
    "start_time": "2021-11-29T08:44:41.812Z"
   },
   {
    "duration": 17,
    "start_time": "2021-11-29T08:44:41.847Z"
   },
   {
    "duration": 45,
    "start_time": "2021-11-29T08:44:41.866Z"
   },
   {
    "duration": 16,
    "start_time": "2021-11-29T08:44:41.913Z"
   },
   {
    "duration": 42,
    "start_time": "2021-11-29T08:44:41.930Z"
   },
   {
    "duration": 26,
    "start_time": "2021-11-29T08:44:41.974Z"
   },
   {
    "duration": 40,
    "start_time": "2021-11-29T08:44:42.002Z"
   },
   {
    "duration": 550,
    "start_time": "2021-11-29T08:44:42.043Z"
   },
   {
    "duration": -172,
    "start_time": "2021-11-29T08:44:42.766Z"
   },
   {
    "duration": -183,
    "start_time": "2021-11-29T08:44:42.779Z"
   },
   {
    "duration": -196,
    "start_time": "2021-11-29T08:44:42.792Z"
   },
   {
    "duration": -208,
    "start_time": "2021-11-29T08:44:42.805Z"
   },
   {
    "duration": -218,
    "start_time": "2021-11-29T08:44:42.816Z"
   },
   {
    "duration": -228,
    "start_time": "2021-11-29T08:44:42.827Z"
   },
   {
    "duration": -238,
    "start_time": "2021-11-29T08:44:42.838Z"
   },
   {
    "duration": -247,
    "start_time": "2021-11-29T08:44:42.848Z"
   },
   {
    "duration": 3,
    "start_time": "2021-11-29T08:51:46.537Z"
   },
   {
    "duration": 3,
    "start_time": "2021-11-29T08:51:50.548Z"
   },
   {
    "duration": 3,
    "start_time": "2021-11-29T08:54:35.945Z"
   },
   {
    "duration": 1408,
    "start_time": "2021-11-29T08:55:00.673Z"
   },
   {
    "duration": 5,
    "start_time": "2021-11-29T08:55:58.747Z"
   },
   {
    "duration": 1519,
    "start_time": "2021-11-29T08:55:59.863Z"
   },
   {
    "duration": 3,
    "start_time": "2021-11-29T08:56:46.836Z"
   },
   {
    "duration": 1546,
    "start_time": "2021-11-29T08:56:47.796Z"
   },
   {
    "duration": 1532,
    "start_time": "2021-11-29T08:58:28.584Z"
   },
   {
    "duration": 331,
    "start_time": "2021-11-29T08:59:09.966Z"
   },
   {
    "duration": 331,
    "start_time": "2021-11-29T08:59:15.581Z"
   },
   {
    "duration": 13,
    "start_time": "2021-11-29T08:59:33.210Z"
   },
   {
    "duration": 5,
    "start_time": "2021-11-29T09:05:52.607Z"
   },
   {
    "duration": 345,
    "start_time": "2021-11-29T09:05:54.832Z"
   },
   {
    "duration": 14,
    "start_time": "2021-11-29T09:05:56.489Z"
   },
   {
    "duration": 57,
    "start_time": "2021-11-29T09:06:02.247Z"
   },
   {
    "duration": 12,
    "start_time": "2021-11-29T09:06:05.961Z"
   },
   {
    "duration": 976,
    "start_time": "2021-11-29T09:06:17.302Z"
   },
   {
    "duration": 20,
    "start_time": "2021-11-29T09:06:18.280Z"
   },
   {
    "duration": 18,
    "start_time": "2021-11-29T09:06:18.302Z"
   },
   {
    "duration": 30,
    "start_time": "2021-11-29T09:06:18.322Z"
   },
   {
    "duration": 6,
    "start_time": "2021-11-29T09:06:18.354Z"
   },
   {
    "duration": 6,
    "start_time": "2021-11-29T09:06:18.361Z"
   },
   {
    "duration": 10,
    "start_time": "2021-11-29T09:06:18.368Z"
   },
   {
    "duration": 2,
    "start_time": "2021-11-29T09:06:18.381Z"
   },
   {
    "duration": 4,
    "start_time": "2021-11-29T09:06:18.385Z"
   },
   {
    "duration": 22,
    "start_time": "2021-11-29T09:06:18.391Z"
   },
   {
    "duration": 45,
    "start_time": "2021-11-29T09:06:18.414Z"
   },
   {
    "duration": 11,
    "start_time": "2021-11-29T09:06:18.461Z"
   },
   {
    "duration": 9,
    "start_time": "2021-11-29T09:06:18.474Z"
   },
   {
    "duration": 10,
    "start_time": "2021-11-29T09:06:18.485Z"
   },
   {
    "duration": 10,
    "start_time": "2021-11-29T09:06:18.496Z"
   },
   {
    "duration": 37,
    "start_time": "2021-11-29T09:06:18.508Z"
   },
   {
    "duration": 8,
    "start_time": "2021-11-29T09:06:18.547Z"
   },
   {
    "duration": 15,
    "start_time": "2021-11-29T09:06:18.557Z"
   },
   {
    "duration": 6,
    "start_time": "2021-11-29T09:06:18.573Z"
   },
   {
    "duration": 364,
    "start_time": "2021-11-29T09:06:18.580Z"
   },
   {
    "duration": 12,
    "start_time": "2021-11-29T09:06:18.946Z"
   },
   {
    "duration": 8,
    "start_time": "2021-11-29T09:06:18.960Z"
   },
   {
    "duration": 8,
    "start_time": "2021-11-29T09:06:18.970Z"
   },
   {
    "duration": 10626,
    "start_time": "2021-11-29T09:06:18.980Z"
   },
   {
    "duration": -86,
    "start_time": "2021-11-29T09:06:29.694Z"
   },
   {
    "duration": -98,
    "start_time": "2021-11-29T09:06:29.707Z"
   },
   {
    "duration": -112,
    "start_time": "2021-11-29T09:06:29.723Z"
   },
   {
    "duration": -127,
    "start_time": "2021-11-29T09:06:29.739Z"
   },
   {
    "duration": -137,
    "start_time": "2021-11-29T09:06:29.750Z"
   },
   {
    "duration": -145,
    "start_time": "2021-11-29T09:06:29.759Z"
   },
   {
    "duration": 16,
    "start_time": "2021-11-29T09:07:49.615Z"
   },
   {
    "duration": 10,
    "start_time": "2021-11-29T09:08:00.353Z"
   },
   {
    "duration": 9,
    "start_time": "2021-11-29T09:08:36.252Z"
   },
   {
    "duration": 8,
    "start_time": "2021-11-29T09:09:23.647Z"
   },
   {
    "duration": 10,
    "start_time": "2021-11-29T09:09:32.274Z"
   },
   {
    "duration": 17,
    "start_time": "2021-11-29T09:14:53.092Z"
   },
   {
    "duration": 7,
    "start_time": "2021-11-29T09:17:02.304Z"
   },
   {
    "duration": 7,
    "start_time": "2021-11-29T09:17:12.105Z"
   },
   {
    "duration": 7,
    "start_time": "2021-11-29T09:17:39.250Z"
   },
   {
    "duration": 9,
    "start_time": "2021-11-29T09:18:58.688Z"
   },
   {
    "duration": 17,
    "start_time": "2021-11-29T09:19:43.557Z"
   },
   {
    "duration": 6,
    "start_time": "2021-11-29T09:22:16.986Z"
   },
   {
    "duration": 4,
    "start_time": "2021-11-29T09:22:22.483Z"
   },
   {
    "duration": 4,
    "start_time": "2021-11-29T09:22:27.066Z"
   },
   {
    "duration": 6,
    "start_time": "2021-11-29T09:24:19.784Z"
   },
   {
    "duration": 16,
    "start_time": "2021-11-29T09:25:17.286Z"
   },
   {
    "duration": 624,
    "start_time": "2021-11-29T09:25:30.869Z"
   },
   {
    "duration": 21,
    "start_time": "2021-11-29T09:25:31.496Z"
   },
   {
    "duration": 37,
    "start_time": "2021-11-29T09:25:31.521Z"
   },
   {
    "duration": 27,
    "start_time": "2021-11-29T09:25:31.559Z"
   },
   {
    "duration": 21,
    "start_time": "2021-11-29T09:25:31.588Z"
   },
   {
    "duration": 39,
    "start_time": "2021-11-29T09:25:31.610Z"
   },
   {
    "duration": 38,
    "start_time": "2021-11-29T09:25:31.651Z"
   },
   {
    "duration": 31,
    "start_time": "2021-11-29T09:25:31.691Z"
   },
   {
    "duration": 45,
    "start_time": "2021-11-29T09:25:31.723Z"
   },
   {
    "duration": 52,
    "start_time": "2021-11-29T09:25:31.770Z"
   },
   {
    "duration": 24,
    "start_time": "2021-11-29T09:25:31.823Z"
   },
   {
    "duration": 24,
    "start_time": "2021-11-29T09:25:31.848Z"
   },
   {
    "duration": 22,
    "start_time": "2021-11-29T09:25:31.874Z"
   },
   {
    "duration": 23,
    "start_time": "2021-11-29T09:25:31.898Z"
   },
   {
    "duration": 30,
    "start_time": "2021-11-29T09:25:31.923Z"
   },
   {
    "duration": 37,
    "start_time": "2021-11-29T09:25:31.955Z"
   },
   {
    "duration": 20,
    "start_time": "2021-11-29T09:25:31.994Z"
   },
   {
    "duration": 56,
    "start_time": "2021-11-29T09:25:32.015Z"
   },
   {
    "duration": 16,
    "start_time": "2021-11-29T09:25:32.073Z"
   },
   {
    "duration": 374,
    "start_time": "2021-11-29T09:25:32.090Z"
   },
   {
    "duration": 8,
    "start_time": "2021-11-29T09:25:32.466Z"
   },
   {
    "duration": 42,
    "start_time": "2021-11-29T09:25:32.477Z"
   },
   {
    "duration": 16,
    "start_time": "2021-11-29T09:25:32.521Z"
   },
   {
    "duration": 34,
    "start_time": "2021-11-29T09:25:32.538Z"
   },
   {
    "duration": 28,
    "start_time": "2021-11-29T09:25:32.574Z"
   },
   {
    "duration": 37,
    "start_time": "2021-11-29T09:25:32.604Z"
   },
   {
    "duration": 28,
    "start_time": "2021-11-29T09:25:32.643Z"
   },
   {
    "duration": 33,
    "start_time": "2021-11-29T09:25:32.673Z"
   },
   {
    "duration": 336,
    "start_time": "2021-11-29T09:27:43.558Z"
   },
   {
    "duration": 26,
    "start_time": "2021-11-29T09:28:05.701Z"
   },
   {
    "duration": 30,
    "start_time": "2021-11-29T09:29:09.917Z"
   },
   {
    "duration": 14,
    "start_time": "2021-11-29T09:29:45.378Z"
   },
   {
    "duration": 95,
    "start_time": "2021-11-29T09:33:45.381Z"
   },
   {
    "duration": 325,
    "start_time": "2021-11-29T09:33:50.222Z"
   },
   {
    "duration": 15,
    "start_time": "2021-11-29T09:33:56.994Z"
   },
   {
    "duration": 29,
    "start_time": "2021-11-29T09:34:26.165Z"
   },
   {
    "duration": 16,
    "start_time": "2021-11-29T09:37:08.830Z"
   },
   {
    "duration": 4,
    "start_time": "2021-11-29T09:37:37.638Z"
   },
   {
    "duration": 800,
    "start_time": "2021-11-29T09:39:31.028Z"
   },
   {
    "duration": 19,
    "start_time": "2021-11-29T09:39:31.830Z"
   },
   {
    "duration": 19,
    "start_time": "2021-11-29T09:39:31.851Z"
   },
   {
    "duration": 13,
    "start_time": "2021-11-29T09:39:31.872Z"
   },
   {
    "duration": 4,
    "start_time": "2021-11-29T09:39:31.887Z"
   },
   {
    "duration": 12,
    "start_time": "2021-11-29T09:39:31.893Z"
   },
   {
    "duration": 14,
    "start_time": "2021-11-29T09:39:31.907Z"
   },
   {
    "duration": 4,
    "start_time": "2021-11-29T09:39:31.944Z"
   },
   {
    "duration": 6,
    "start_time": "2021-11-29T09:39:31.950Z"
   },
   {
    "duration": 35,
    "start_time": "2021-11-29T09:39:31.958Z"
   },
   {
    "duration": 27,
    "start_time": "2021-11-29T09:39:31.995Z"
   },
   {
    "duration": 34,
    "start_time": "2021-11-29T09:39:32.024Z"
   },
   {
    "duration": 11,
    "start_time": "2021-11-29T09:39:32.060Z"
   },
   {
    "duration": 15,
    "start_time": "2021-11-29T09:39:32.073Z"
   },
   {
    "duration": 13,
    "start_time": "2021-11-29T09:39:32.090Z"
   },
   {
    "duration": 21,
    "start_time": "2021-11-29T09:39:32.105Z"
   },
   {
    "duration": 14,
    "start_time": "2021-11-29T09:39:32.144Z"
   },
   {
    "duration": 24,
    "start_time": "2021-11-29T09:39:32.160Z"
   },
   {
    "duration": 8,
    "start_time": "2021-11-29T09:39:32.186Z"
   },
   {
    "duration": 426,
    "start_time": "2021-11-29T09:39:32.196Z"
   },
   {
    "duration": 21,
    "start_time": "2021-11-29T09:39:32.623Z"
   },
   {
    "duration": 15,
    "start_time": "2021-11-29T09:39:32.646Z"
   },
   {
    "duration": 8,
    "start_time": "2021-11-29T09:39:32.664Z"
   },
   {
    "duration": 38,
    "start_time": "2021-11-29T09:39:32.674Z"
   },
   {
    "duration": 17,
    "start_time": "2021-11-29T09:39:32.714Z"
   },
   {
    "duration": 12,
    "start_time": "2021-11-29T09:39:32.733Z"
   },
   {
    "duration": 8,
    "start_time": "2021-11-29T09:39:32.747Z"
   },
   {
    "duration": 19,
    "start_time": "2021-11-29T09:39:32.757Z"
   },
   {
    "duration": 31,
    "start_time": "2021-11-29T09:39:32.778Z"
   },
   {
    "duration": 19,
    "start_time": "2021-11-29T09:39:32.811Z"
   },
   {
    "duration": 30,
    "start_time": "2021-11-29T09:39:32.831Z"
   },
   {
    "duration": 3,
    "start_time": "2021-11-29T09:44:36.227Z"
   },
   {
    "duration": 588,
    "start_time": "2021-11-29T09:45:45.501Z"
   },
   {
    "duration": 278,
    "start_time": "2021-11-29T09:46:27.330Z"
   },
   {
    "duration": 566,
    "start_time": "2021-11-29T09:50:36.797Z"
   },
   {
    "duration": 444,
    "start_time": "2021-11-29T09:50:41.289Z"
   },
   {
    "duration": 126,
    "start_time": "2021-11-29T09:51:59.389Z"
   },
   {
    "duration": 19,
    "start_time": "2021-11-29T09:52:12.807Z"
   },
   {
    "duration": 690,
    "start_time": "2021-11-29T09:52:30.391Z"
   },
   {
    "duration": 2361,
    "start_time": "2021-11-29T09:52:45.121Z"
   },
   {
    "duration": 3,
    "start_time": "2021-11-29T10:08:20.955Z"
   },
   {
    "duration": 4,
    "start_time": "2021-11-29T10:30:03.617Z"
   },
   {
    "duration": 634,
    "start_time": "2021-11-29T10:30:13.576Z"
   },
   {
    "duration": 56,
    "start_time": "2021-11-29T10:30:14.212Z"
   },
   {
    "duration": 20,
    "start_time": "2021-11-29T10:30:14.270Z"
   },
   {
    "duration": 36,
    "start_time": "2021-11-29T10:30:14.291Z"
   },
   {
    "duration": 36,
    "start_time": "2021-11-29T10:30:14.329Z"
   },
   {
    "duration": 27,
    "start_time": "2021-11-29T10:30:14.366Z"
   },
   {
    "duration": 36,
    "start_time": "2021-11-29T10:30:14.395Z"
   },
   {
    "duration": 42,
    "start_time": "2021-11-29T10:30:14.433Z"
   },
   {
    "duration": 30,
    "start_time": "2021-11-29T10:30:14.477Z"
   },
   {
    "duration": 47,
    "start_time": "2021-11-29T10:30:14.508Z"
   },
   {
    "duration": 56,
    "start_time": "2021-11-29T10:30:14.556Z"
   },
   {
    "duration": 33,
    "start_time": "2021-11-29T10:30:14.614Z"
   },
   {
    "duration": 15,
    "start_time": "2021-11-29T10:30:14.649Z"
   },
   {
    "duration": 23,
    "start_time": "2021-11-29T10:30:14.666Z"
   },
   {
    "duration": 44,
    "start_time": "2021-11-29T10:30:14.691Z"
   },
   {
    "duration": 44,
    "start_time": "2021-11-29T10:30:14.736Z"
   },
   {
    "duration": 35,
    "start_time": "2021-11-29T10:30:14.782Z"
   },
   {
    "duration": 32,
    "start_time": "2021-11-29T10:30:14.819Z"
   },
   {
    "duration": 29,
    "start_time": "2021-11-29T10:30:14.853Z"
   },
   {
    "duration": 13,
    "start_time": "2021-11-29T10:30:14.884Z"
   },
   {
    "duration": 361,
    "start_time": "2021-11-29T10:30:14.899Z"
   },
   {
    "duration": 9,
    "start_time": "2021-11-29T10:30:15.261Z"
   },
   {
    "duration": 27,
    "start_time": "2021-11-29T10:30:15.273Z"
   },
   {
    "duration": 14,
    "start_time": "2021-11-29T10:30:15.302Z"
   },
   {
    "duration": 38,
    "start_time": "2021-11-29T10:30:15.318Z"
   },
   {
    "duration": 29,
    "start_time": "2021-11-29T10:30:15.358Z"
   },
   {
    "duration": 46,
    "start_time": "2021-11-29T10:30:15.389Z"
   },
   {
    "duration": 24,
    "start_time": "2021-11-29T10:30:15.437Z"
   },
   {
    "duration": 41,
    "start_time": "2021-11-29T10:30:15.463Z"
   },
   {
    "duration": 37,
    "start_time": "2021-11-29T10:30:15.506Z"
   },
   {
    "duration": 18,
    "start_time": "2021-11-29T10:30:15.545Z"
   },
   {
    "duration": 62,
    "start_time": "2021-11-29T10:30:15.565Z"
   },
   {
    "duration": 50,
    "start_time": "2021-11-29T10:30:15.629Z"
   },
   {
    "duration": 2630,
    "start_time": "2021-11-29T10:30:15.681Z"
   },
   {
    "duration": 4,
    "start_time": "2021-11-29T10:30:18.313Z"
   },
   {
    "duration": 5,
    "start_time": "2021-11-29T10:33:55.119Z"
   },
   {
    "duration": 1170,
    "start_time": "2021-11-29T10:34:11.375Z"
   },
   {
    "duration": 13086,
    "start_time": "2021-11-29T10:34:40.790Z"
   },
   {
    "duration": 12699,
    "start_time": "2021-11-29T10:50:23.425Z"
   },
   {
    "duration": 15,
    "start_time": "2021-11-29T10:51:17.414Z"
   },
   {
    "duration": 13,
    "start_time": "2021-11-29T10:52:07.120Z"
   },
   {
    "duration": 15,
    "start_time": "2021-11-29T10:54:52.427Z"
   },
   {
    "duration": 8,
    "start_time": "2021-11-29T10:56:10.990Z"
   },
   {
    "duration": 611,
    "start_time": "2021-11-29T10:56:19.864Z"
   },
   {
    "duration": 60,
    "start_time": "2021-11-29T10:56:20.477Z"
   },
   {
    "duration": 20,
    "start_time": "2021-11-29T10:56:20.539Z"
   },
   {
    "duration": 60,
    "start_time": "2021-11-29T10:56:20.560Z"
   },
   {
    "duration": 25,
    "start_time": "2021-11-29T10:56:20.622Z"
   },
   {
    "duration": 13,
    "start_time": "2021-11-29T10:56:20.649Z"
   },
   {
    "duration": 28,
    "start_time": "2021-11-29T10:56:20.664Z"
   },
   {
    "duration": 44,
    "start_time": "2021-11-29T10:56:20.694Z"
   },
   {
    "duration": 33,
    "start_time": "2021-11-29T10:56:20.740Z"
   },
   {
    "duration": 29,
    "start_time": "2021-11-29T10:56:20.775Z"
   },
   {
    "duration": 44,
    "start_time": "2021-11-29T10:56:20.806Z"
   },
   {
    "duration": 44,
    "start_time": "2021-11-29T10:56:20.852Z"
   },
   {
    "duration": 32,
    "start_time": "2021-11-29T10:56:20.898Z"
   },
   {
    "duration": 66,
    "start_time": "2021-11-29T10:56:20.932Z"
   },
   {
    "duration": 43,
    "start_time": "2021-11-29T10:56:21.000Z"
   },
   {
    "duration": 25,
    "start_time": "2021-11-29T10:56:21.045Z"
   },
   {
    "duration": 40,
    "start_time": "2021-11-29T10:56:21.072Z"
   },
   {
    "duration": 25,
    "start_time": "2021-11-29T10:56:21.113Z"
   },
   {
    "duration": 28,
    "start_time": "2021-11-29T10:56:21.140Z"
   },
   {
    "duration": 28,
    "start_time": "2021-11-29T10:56:21.170Z"
   },
   {
    "duration": 434,
    "start_time": "2021-11-29T10:56:21.199Z"
   },
   {
    "duration": 10,
    "start_time": "2021-11-29T10:56:21.635Z"
   },
   {
    "duration": 17,
    "start_time": "2021-11-29T10:56:21.648Z"
   },
   {
    "duration": 6,
    "start_time": "2021-11-29T10:56:21.667Z"
   },
   {
    "duration": 25,
    "start_time": "2021-11-29T10:56:21.675Z"
   },
   {
    "duration": 47,
    "start_time": "2021-11-29T10:56:21.702Z"
   },
   {
    "duration": 5,
    "start_time": "2021-11-29T10:56:21.751Z"
   },
   {
    "duration": 18,
    "start_time": "2021-11-29T10:56:21.757Z"
   },
   {
    "duration": 17,
    "start_time": "2021-11-29T10:56:21.777Z"
   },
   {
    "duration": 26,
    "start_time": "2021-11-29T10:56:21.796Z"
   },
   {
    "duration": 21,
    "start_time": "2021-11-29T10:56:21.824Z"
   },
   {
    "duration": 7,
    "start_time": "2021-11-29T10:56:21.847Z"
   },
   {
    "duration": 41,
    "start_time": "2021-11-29T10:56:21.855Z"
   },
   {
    "duration": 2647,
    "start_time": "2021-11-29T10:56:21.897Z"
   },
   {
    "duration": 4,
    "start_time": "2021-11-29T10:56:24.546Z"
   },
   {
    "duration": 13052,
    "start_time": "2021-11-29T10:56:24.552Z"
   },
   {
    "duration": 15,
    "start_time": "2021-11-29T10:56:37.606Z"
   },
   {
    "duration": 13,
    "start_time": "2021-11-29T10:56:48.003Z"
   },
   {
    "duration": 614,
    "start_time": "2021-11-29T10:56:53.016Z"
   },
   {
    "duration": 56,
    "start_time": "2021-11-29T10:56:53.632Z"
   },
   {
    "duration": 21,
    "start_time": "2021-11-29T10:56:53.690Z"
   },
   {
    "duration": 9,
    "start_time": "2021-11-29T10:56:53.712Z"
   },
   {
    "duration": 31,
    "start_time": "2021-11-29T10:56:53.723Z"
   },
   {
    "duration": 13,
    "start_time": "2021-11-29T10:56:53.756Z"
   },
   {
    "duration": 4,
    "start_time": "2021-11-29T10:56:53.771Z"
   },
   {
    "duration": 11,
    "start_time": "2021-11-29T10:56:53.777Z"
   },
   {
    "duration": 12,
    "start_time": "2021-11-29T10:56:53.790Z"
   },
   {
    "duration": 5,
    "start_time": "2021-11-29T10:56:53.803Z"
   },
   {
    "duration": 5,
    "start_time": "2021-11-29T10:56:53.810Z"
   },
   {
    "duration": 46,
    "start_time": "2021-11-29T10:56:53.817Z"
   },
   {
    "duration": 17,
    "start_time": "2021-11-29T10:56:53.865Z"
   },
   {
    "duration": 11,
    "start_time": "2021-11-29T10:56:53.883Z"
   },
   {
    "duration": 7,
    "start_time": "2021-11-29T10:56:53.896Z"
   },
   {
    "duration": 22,
    "start_time": "2021-11-29T10:56:53.905Z"
   },
   {
    "duration": 10,
    "start_time": "2021-11-29T10:56:53.944Z"
   },
   {
    "duration": 18,
    "start_time": "2021-11-29T10:56:53.956Z"
   },
   {
    "duration": 9,
    "start_time": "2021-11-29T10:56:53.976Z"
   },
   {
    "duration": 22,
    "start_time": "2021-11-29T10:56:53.986Z"
   },
   {
    "duration": 5,
    "start_time": "2021-11-29T10:56:54.010Z"
   },
   {
    "duration": 366,
    "start_time": "2021-11-29T10:56:54.016Z"
   },
   {
    "duration": 9,
    "start_time": "2021-11-29T10:56:54.385Z"
   },
   {
    "duration": 21,
    "start_time": "2021-11-29T10:56:54.396Z"
   },
   {
    "duration": 5,
    "start_time": "2021-11-29T10:56:54.419Z"
   },
   {
    "duration": 15,
    "start_time": "2021-11-29T10:56:54.445Z"
   },
   {
    "duration": 34,
    "start_time": "2021-11-29T10:56:54.461Z"
   },
   {
    "duration": 5,
    "start_time": "2021-11-29T10:56:54.497Z"
   },
   {
    "duration": 10,
    "start_time": "2021-11-29T10:56:54.504Z"
   },
   {
    "duration": 27,
    "start_time": "2021-11-29T10:56:54.515Z"
   },
   {
    "duration": 19,
    "start_time": "2021-11-29T10:56:54.544Z"
   },
   {
    "duration": 19,
    "start_time": "2021-11-29T10:56:54.564Z"
   },
   {
    "duration": 13,
    "start_time": "2021-11-29T10:56:54.585Z"
   },
   {
    "duration": 30,
    "start_time": "2021-11-29T10:56:54.599Z"
   },
   {
    "duration": 2587,
    "start_time": "2021-11-29T10:56:54.631Z"
   },
   {
    "duration": 4,
    "start_time": "2021-11-29T10:56:57.220Z"
   },
   {
    "duration": 13048,
    "start_time": "2021-11-29T10:56:57.226Z"
   },
   {
    "duration": 15,
    "start_time": "2021-11-29T10:57:10.276Z"
   },
   {
    "duration": 4,
    "start_time": "2021-11-29T11:05:45.620Z"
   },
   {
    "duration": 4,
    "start_time": "2021-11-29T11:06:08.434Z"
   },
   {
    "duration": 14,
    "start_time": "2021-11-29T11:06:16.314Z"
   },
   {
    "duration": 12,
    "start_time": "2021-11-29T11:10:58.909Z"
   },
   {
    "duration": 3,
    "start_time": "2021-11-29T11:11:18.790Z"
   },
   {
    "duration": 60,
    "start_time": "2021-11-29T11:11:19.356Z"
   },
   {
    "duration": 546,
    "start_time": "2021-11-29T11:11:26.288Z"
   },
   {
    "duration": 60,
    "start_time": "2021-11-29T11:11:27.464Z"
   },
   {
    "duration": 20,
    "start_time": "2021-11-29T11:11:28.382Z"
   },
   {
    "duration": 9,
    "start_time": "2021-11-29T11:11:33.498Z"
   },
   {
    "duration": 17,
    "start_time": "2021-11-29T11:11:37.064Z"
   },
   {
    "duration": 19,
    "start_time": "2021-11-29T11:11:37.869Z"
   },
   {
    "duration": 8,
    "start_time": "2021-11-29T11:11:47.402Z"
   },
   {
    "duration": 771,
    "start_time": "2021-11-29T15:31:20.495Z"
   },
   {
    "duration": 73,
    "start_time": "2021-11-29T15:31:21.269Z"
   },
   {
    "duration": 37,
    "start_time": "2021-11-29T15:31:21.345Z"
   },
   {
    "duration": 17,
    "start_time": "2021-11-29T15:31:21.385Z"
   },
   {
    "duration": 56,
    "start_time": "2021-11-29T15:31:21.405Z"
   },
   {
    "duration": 37,
    "start_time": "2021-11-29T15:31:21.463Z"
   },
   {
    "duration": 55,
    "start_time": "2021-11-29T15:31:21.504Z"
   },
   {
    "duration": 12,
    "start_time": "2021-11-29T15:31:21.563Z"
   },
   {
    "duration": 12,
    "start_time": "2021-11-29T15:31:21.578Z"
   },
   {
    "duration": 20,
    "start_time": "2021-11-29T15:31:21.592Z"
   },
   {
    "duration": 47,
    "start_time": "2021-11-29T15:31:21.614Z"
   },
   {
    "duration": 21,
    "start_time": "2021-11-29T15:31:21.663Z"
   },
   {
    "duration": 13,
    "start_time": "2021-11-29T15:31:21.687Z"
   },
   {
    "duration": 58,
    "start_time": "2021-11-29T15:31:21.703Z"
   },
   {
    "duration": 5,
    "start_time": "2021-11-29T15:31:21.763Z"
   },
   {
    "duration": 644,
    "start_time": "2021-11-29T15:31:21.770Z"
   },
   {
    "duration": 18,
    "start_time": "2021-11-29T15:31:22.417Z"
   },
   {
    "duration": 59,
    "start_time": "2021-11-29T15:31:22.437Z"
   },
   {
    "duration": 7,
    "start_time": "2021-11-29T15:31:22.499Z"
   },
   {
    "duration": 52,
    "start_time": "2021-11-29T15:31:22.509Z"
   },
   {
    "duration": 29,
    "start_time": "2021-11-29T15:31:22.563Z"
   },
   {
    "duration": 7,
    "start_time": "2021-11-29T15:31:22.594Z"
   },
   {
    "duration": 8,
    "start_time": "2021-11-29T15:31:22.606Z"
   },
   {
    "duration": 42,
    "start_time": "2021-11-29T15:31:22.617Z"
   },
   {
    "duration": 7,
    "start_time": "2021-11-29T15:31:22.661Z"
   },
   {
    "duration": 18,
    "start_time": "2021-11-29T15:31:22.671Z"
   },
   {
    "duration": 8,
    "start_time": "2021-11-29T15:31:22.692Z"
   },
   {
    "duration": 7,
    "start_time": "2021-11-29T15:31:22.702Z"
   },
   {
    "duration": 48,
    "start_time": "2021-11-29T15:31:22.712Z"
   },
   {
    "duration": 27,
    "start_time": "2021-11-29T15:31:22.763Z"
   },
   {
    "duration": 3715,
    "start_time": "2021-11-29T15:31:22.792Z"
   },
   {
    "duration": 6,
    "start_time": "2021-11-29T15:31:26.510Z"
   },
   {
    "duration": 18065,
    "start_time": "2021-11-29T15:31:26.518Z"
   },
   {
    "duration": 22,
    "start_time": "2021-11-29T15:31:44.586Z"
   },
   {
    "duration": 387,
    "start_time": "2021-11-30T06:44:01.731Z"
   },
   {
    "duration": 777,
    "start_time": "2021-11-30T06:44:11.803Z"
   },
   {
    "duration": 74,
    "start_time": "2021-11-30T06:44:12.583Z"
   },
   {
    "duration": 35,
    "start_time": "2021-11-30T06:44:12.659Z"
   },
   {
    "duration": 37,
    "start_time": "2021-11-30T06:44:12.697Z"
   },
   {
    "duration": 29,
    "start_time": "2021-11-30T06:44:12.736Z"
   },
   {
    "duration": 41,
    "start_time": "2021-11-30T06:44:12.767Z"
   },
   {
    "duration": 25,
    "start_time": "2021-11-30T06:44:12.810Z"
   },
   {
    "duration": 14,
    "start_time": "2021-11-30T06:44:12.838Z"
   },
   {
    "duration": 35,
    "start_time": "2021-11-30T06:44:12.856Z"
   },
   {
    "duration": 20,
    "start_time": "2021-11-30T06:44:12.894Z"
   },
   {
    "duration": 13,
    "start_time": "2021-11-30T06:44:12.916Z"
   },
   {
    "duration": 19,
    "start_time": "2021-11-30T06:44:12.931Z"
   },
   {
    "duration": 12,
    "start_time": "2021-11-30T06:44:12.983Z"
   },
   {
    "duration": 23,
    "start_time": "2021-11-30T06:44:12.998Z"
   },
   {
    "duration": 4,
    "start_time": "2021-11-30T06:44:13.024Z"
   },
   {
    "duration": 632,
    "start_time": "2021-11-30T06:44:13.031Z"
   },
   {
    "duration": 21,
    "start_time": "2021-11-30T06:44:13.666Z"
   },
   {
    "duration": 25,
    "start_time": "2021-11-30T06:44:13.689Z"
   },
   {
    "duration": 9,
    "start_time": "2021-11-30T06:44:13.716Z"
   },
   {
    "duration": 60,
    "start_time": "2021-11-30T06:44:13.728Z"
   },
   {
    "duration": 26,
    "start_time": "2021-11-30T06:44:13.791Z"
   },
   {
    "duration": 7,
    "start_time": "2021-11-30T06:44:13.820Z"
   },
   {
    "duration": 7,
    "start_time": "2021-11-30T06:44:13.829Z"
   },
   {
    "duration": 45,
    "start_time": "2021-11-30T06:44:13.838Z"
   },
   {
    "duration": 6,
    "start_time": "2021-11-30T06:44:13.886Z"
   },
   {
    "duration": 16,
    "start_time": "2021-11-30T06:44:13.894Z"
   },
   {
    "duration": 9,
    "start_time": "2021-11-30T06:44:13.914Z"
   },
   {
    "duration": 6,
    "start_time": "2021-11-30T06:44:13.926Z"
   },
   {
    "duration": 50,
    "start_time": "2021-11-30T06:44:13.935Z"
   },
   {
    "duration": 27,
    "start_time": "2021-11-30T06:44:13.988Z"
   },
   {
    "duration": 3797,
    "start_time": "2021-11-30T06:44:14.017Z"
   },
   {
    "duration": 9,
    "start_time": "2021-11-30T06:44:17.817Z"
   },
   {
    "duration": 17998,
    "start_time": "2021-11-30T06:44:17.828Z"
   },
   {
    "duration": 22,
    "start_time": "2021-11-30T06:44:35.828Z"
   },
   {
    "duration": 36,
    "start_time": "2021-11-30T06:44:35.852Z"
   },
   {
    "duration": 10,
    "start_time": "2021-11-30T06:46:19.042Z"
   },
   {
    "duration": 17,
    "start_time": "2021-11-30T06:47:00.799Z"
   },
   {
    "duration": 7,
    "start_time": "2021-11-30T06:48:01.884Z"
   },
   {
    "duration": 29,
    "start_time": "2021-11-30T06:49:02.520Z"
   },
   {
    "duration": 33,
    "start_time": "2021-11-30T06:50:45.198Z"
   },
   {
    "duration": 462,
    "start_time": "2021-11-30T06:53:31.675Z"
   },
   {
    "duration": 317,
    "start_time": "2021-11-30T06:53:50.702Z"
   },
   {
    "duration": 38,
    "start_time": "2021-11-30T06:54:09.959Z"
   },
   {
    "duration": 316,
    "start_time": "2021-11-30T06:54:25.353Z"
   },
   {
    "duration": 359,
    "start_time": "2021-11-30T06:54:37.650Z"
   },
   {
    "duration": 453,
    "start_time": "2021-11-30T06:54:45.229Z"
   },
   {
    "duration": 339,
    "start_time": "2021-11-30T06:54:52.918Z"
   },
   {
    "duration": 346,
    "start_time": "2021-11-30T06:55:29.763Z"
   },
   {
    "duration": 25,
    "start_time": "2021-11-30T06:55:46.618Z"
   },
   {
    "duration": 19,
    "start_time": "2021-11-30T06:55:58.766Z"
   },
   {
    "duration": 794,
    "start_time": "2021-11-30T07:18:11.768Z"
   },
   {
    "duration": 105,
    "start_time": "2021-11-30T07:18:12.565Z"
   },
   {
    "duration": 45,
    "start_time": "2021-11-30T07:18:12.686Z"
   },
   {
    "duration": 12,
    "start_time": "2021-11-30T07:18:12.734Z"
   },
   {
    "duration": 56,
    "start_time": "2021-11-30T07:18:12.748Z"
   },
   {
    "duration": 10,
    "start_time": "2021-11-30T07:18:12.806Z"
   },
   {
    "duration": 63,
    "start_time": "2021-11-30T07:18:12.820Z"
   },
   {
    "duration": 11,
    "start_time": "2021-11-30T07:18:12.886Z"
   },
   {
    "duration": 12,
    "start_time": "2021-11-30T07:18:12.899Z"
   },
   {
    "duration": 14,
    "start_time": "2021-11-30T07:18:12.913Z"
   },
   {
    "duration": 57,
    "start_time": "2021-11-30T07:18:12.929Z"
   },
   {
    "duration": 22,
    "start_time": "2021-11-30T07:18:12.989Z"
   },
   {
    "duration": 13,
    "start_time": "2021-11-30T07:18:13.013Z"
   },
   {
    "duration": 23,
    "start_time": "2021-11-30T07:18:13.029Z"
   },
   {
    "duration": 5,
    "start_time": "2021-11-30T07:18:13.083Z"
   },
   {
    "duration": 619,
    "start_time": "2021-11-30T07:18:13.091Z"
   },
   {
    "duration": 13,
    "start_time": "2021-11-30T07:18:13.713Z"
   },
   {
    "duration": 52,
    "start_time": "2021-11-30T07:18:13.729Z"
   },
   {
    "duration": 7,
    "start_time": "2021-11-30T07:18:13.784Z"
   },
   {
    "duration": 28,
    "start_time": "2021-11-30T07:18:13.793Z"
   },
   {
    "duration": 26,
    "start_time": "2021-11-30T07:18:13.824Z"
   },
   {
    "duration": 8,
    "start_time": "2021-11-30T07:18:13.885Z"
   },
   {
    "duration": 5,
    "start_time": "2021-11-30T07:18:13.896Z"
   },
   {
    "duration": 16,
    "start_time": "2021-11-30T07:18:13.904Z"
   },
   {
    "duration": 13,
    "start_time": "2021-11-30T07:18:13.923Z"
   },
   {
    "duration": 43,
    "start_time": "2021-11-30T07:18:13.939Z"
   },
   {
    "duration": 14,
    "start_time": "2021-11-30T07:18:13.985Z"
   },
   {
    "duration": 13,
    "start_time": "2021-11-30T07:18:14.001Z"
   },
   {
    "duration": 13,
    "start_time": "2021-11-30T07:18:14.017Z"
   },
   {
    "duration": 69,
    "start_time": "2021-11-30T07:18:14.033Z"
   },
   {
    "duration": 3767,
    "start_time": "2021-11-30T07:18:14.105Z"
   },
   {
    "duration": 6,
    "start_time": "2021-11-30T07:18:17.882Z"
   },
   {
    "duration": 11884,
    "start_time": "2021-11-30T07:18:17.891Z"
   },
   {
    "duration": -105,
    "start_time": "2021-11-30T07:18:29.884Z"
   },
   {
    "duration": -126,
    "start_time": "2021-11-30T07:18:29.907Z"
   },
   {
    "duration": 850,
    "start_time": "2021-11-30T07:18:34.673Z"
   },
   {
    "duration": 75,
    "start_time": "2021-11-30T07:18:35.526Z"
   },
   {
    "duration": 31,
    "start_time": "2021-11-30T07:18:36.502Z"
   },
   {
    "duration": 14,
    "start_time": "2021-11-30T07:18:41.946Z"
   },
   {
    "duration": 23,
    "start_time": "2021-11-30T07:18:47.657Z"
   },
   {
    "duration": 11,
    "start_time": "2021-11-30T07:18:49.499Z"
   },
   {
    "duration": 8,
    "start_time": "2021-11-30T07:19:29.572Z"
   },
   {
    "duration": 35,
    "start_time": "2021-11-30T07:20:03.212Z"
   },
   {
    "duration": 28,
    "start_time": "2021-11-30T07:22:11.155Z"
   },
   {
    "duration": 12,
    "start_time": "2021-11-30T07:22:14.643Z"
   },
   {
    "duration": 6,
    "start_time": "2021-11-30T07:23:23.969Z"
   },
   {
    "duration": 8,
    "start_time": "2021-11-30T07:23:38.509Z"
   },
   {
    "duration": 10,
    "start_time": "2021-11-30T07:24:44.155Z"
   },
   {
    "duration": 11,
    "start_time": "2021-11-30T07:24:58.115Z"
   },
   {
    "duration": 11,
    "start_time": "2021-11-30T07:25:03.754Z"
   },
   {
    "duration": 23,
    "start_time": "2021-11-30T07:27:21.166Z"
   },
   {
    "duration": 38,
    "start_time": "2021-11-30T07:29:27.736Z"
   },
   {
    "duration": 13,
    "start_time": "2021-11-30T07:31:35.525Z"
   },
   {
    "duration": 18,
    "start_time": "2021-11-30T07:32:43.187Z"
   },
   {
    "duration": 11,
    "start_time": "2021-11-30T07:33:35.577Z"
   },
   {
    "duration": 723,
    "start_time": "2021-11-30T07:33:48.007Z"
   },
   {
    "duration": 73,
    "start_time": "2021-11-30T07:33:48.733Z"
   },
   {
    "duration": 31,
    "start_time": "2021-11-30T07:33:48.911Z"
   },
   {
    "duration": 12,
    "start_time": "2021-11-30T07:33:52.494Z"
   },
   {
    "duration": 23,
    "start_time": "2021-11-30T07:33:52.856Z"
   },
   {
    "duration": 23,
    "start_time": "2021-11-30T07:33:53.893Z"
   },
   {
    "duration": 7,
    "start_time": "2021-11-30T07:33:54.792Z"
   },
   {
    "duration": 17,
    "start_time": "2021-11-30T07:33:59.716Z"
   },
   {
    "duration": 13,
    "start_time": "2021-11-30T07:34:12.286Z"
   },
   {
    "duration": 9,
    "start_time": "2021-11-30T07:34:28.648Z"
   },
   {
    "duration": 453,
    "start_time": "2021-11-30T07:35:11.068Z"
   },
   {
    "duration": 12,
    "start_time": "2021-11-30T07:35:16.045Z"
   },
   {
    "duration": 17,
    "start_time": "2021-11-30T07:35:16.895Z"
   },
   {
    "duration": 110,
    "start_time": "2021-11-30T07:35:49.945Z"
   },
   {
    "duration": 9,
    "start_time": "2021-11-30T07:35:58.204Z"
   },
   {
    "duration": 13,
    "start_time": "2021-11-30T07:36:16.229Z"
   },
   {
    "duration": 16,
    "start_time": "2021-11-30T07:36:51.101Z"
   },
   {
    "duration": 13,
    "start_time": "2021-11-30T07:38:01.681Z"
   },
   {
    "duration": 8,
    "start_time": "2021-11-30T07:38:42.263Z"
   },
   {
    "duration": 8,
    "start_time": "2021-11-30T07:38:47.497Z"
   },
   {
    "duration": 17,
    "start_time": "2021-11-30T07:39:08.808Z"
   },
   {
    "duration": 5,
    "start_time": "2021-11-30T07:39:47.359Z"
   },
   {
    "duration": 6,
    "start_time": "2021-11-30T07:45:00.969Z"
   },
   {
    "duration": 586,
    "start_time": "2021-11-30T07:45:06.162Z"
   },
   {
    "duration": 118,
    "start_time": "2021-11-30T07:45:32.338Z"
   },
   {
    "duration": 139,
    "start_time": "2021-11-30T07:48:19.799Z"
   },
   {
    "duration": 591,
    "start_time": "2021-11-30T07:48:24.140Z"
   },
   {
    "duration": 4,
    "start_time": "2021-11-30T07:48:37.381Z"
   },
   {
    "duration": 577,
    "start_time": "2021-11-30T07:50:22.356Z"
   },
   {
    "duration": 1035,
    "start_time": "2021-11-30T07:51:09.043Z"
   },
   {
    "duration": 590,
    "start_time": "2021-11-30T07:52:25.204Z"
   },
   {
    "duration": 22,
    "start_time": "2021-11-30T07:54:33.577Z"
   },
   {
    "duration": 13,
    "start_time": "2021-11-30T07:54:39.961Z"
   },
   {
    "duration": 11,
    "start_time": "2021-11-30T07:54:51.546Z"
   },
   {
    "duration": 12,
    "start_time": "2021-11-30T07:55:26.899Z"
   },
   {
    "duration": 28,
    "start_time": "2021-11-30T07:57:49.803Z"
   },
   {
    "duration": 12,
    "start_time": "2021-11-30T07:57:53.221Z"
   },
   {
    "duration": 6,
    "start_time": "2021-11-30T08:04:20.533Z"
   },
   {
    "duration": 5,
    "start_time": "2021-11-30T08:04:21.106Z"
   },
   {
    "duration": 20,
    "start_time": "2021-11-30T08:04:33.439Z"
   },
   {
    "duration": 899,
    "start_time": "2021-11-30T08:05:09.137Z"
   },
   {
    "duration": 79,
    "start_time": "2021-11-30T08:05:10.039Z"
   },
   {
    "duration": 30,
    "start_time": "2021-11-30T08:05:10.121Z"
   },
   {
    "duration": 32,
    "start_time": "2021-11-30T08:05:10.154Z"
   },
   {
    "duration": 23,
    "start_time": "2021-11-30T08:05:10.189Z"
   },
   {
    "duration": 24,
    "start_time": "2021-11-30T08:05:10.215Z"
   },
   {
    "duration": 43,
    "start_time": "2021-11-30T08:05:10.242Z"
   },
   {
    "duration": 10,
    "start_time": "2021-11-30T08:05:10.288Z"
   },
   {
    "duration": 16,
    "start_time": "2021-11-30T08:05:10.302Z"
   },
   {
    "duration": 22,
    "start_time": "2021-11-30T08:05:10.321Z"
   },
   {
    "duration": 46,
    "start_time": "2021-11-30T08:05:10.347Z"
   },
   {
    "duration": 28,
    "start_time": "2021-11-30T08:05:10.396Z"
   },
   {
    "duration": 21,
    "start_time": "2021-11-30T08:05:10.428Z"
   },
   {
    "duration": 43,
    "start_time": "2021-11-30T08:05:10.452Z"
   },
   {
    "duration": 13,
    "start_time": "2021-11-30T08:05:10.498Z"
   },
   {
    "duration": 10,
    "start_time": "2021-11-30T08:05:10.514Z"
   },
   {
    "duration": 7,
    "start_time": "2021-11-30T08:05:10.526Z"
   },
   {
    "duration": 665,
    "start_time": "2021-11-30T08:05:10.535Z"
   },
   {
    "duration": 20,
    "start_time": "2021-11-30T08:05:11.202Z"
   },
   {
    "duration": 12,
    "start_time": "2021-11-30T08:05:11.224Z"
   },
   {
    "duration": 55,
    "start_time": "2021-11-30T08:05:11.239Z"
   },
   {
    "duration": 13,
    "start_time": "2021-11-30T08:05:11.297Z"
   },
   {
    "duration": 4,
    "start_time": "2021-11-30T08:05:11.317Z"
   },
   {
    "duration": 9,
    "start_time": "2021-11-30T08:05:11.323Z"
   },
   {
    "duration": 62,
    "start_time": "2021-11-30T08:05:11.334Z"
   },
   {
    "duration": 11,
    "start_time": "2021-11-30T08:05:11.398Z"
   },
   {
    "duration": 26,
    "start_time": "2021-11-30T08:05:11.412Z"
   },
   {
    "duration": 42,
    "start_time": "2021-11-30T08:05:11.442Z"
   },
   {
    "duration": 10,
    "start_time": "2021-11-30T08:05:11.487Z"
   },
   {
    "duration": 11,
    "start_time": "2021-11-30T08:05:11.500Z"
   },
   {
    "duration": 70,
    "start_time": "2021-11-30T08:05:11.514Z"
   },
   {
    "duration": 5809,
    "start_time": "2021-11-30T08:05:11.587Z"
   },
   {
    "duration": 9,
    "start_time": "2021-11-30T08:05:17.399Z"
   },
   {
    "duration": 18654,
    "start_time": "2021-11-30T08:05:17.412Z"
   },
   {
    "duration": 33,
    "start_time": "2021-11-30T08:05:36.068Z"
   },
   {
    "duration": 24,
    "start_time": "2021-11-30T08:05:36.103Z"
   },
   {
    "duration": 54,
    "start_time": "2021-11-30T08:05:36.129Z"
   },
   {
    "duration": 22,
    "start_time": "2021-11-30T08:05:36.186Z"
   },
   {
    "duration": 22,
    "start_time": "2021-11-30T08:10:37.373Z"
   },
   {
    "duration": 3323,
    "start_time": "2021-11-30T08:13:09.782Z"
   },
   {
    "duration": 6,
    "start_time": "2021-11-30T08:26:28.461Z"
   },
   {
    "duration": 16,
    "start_time": "2021-11-30T08:26:38.301Z"
   },
   {
    "duration": 11,
    "start_time": "2021-11-30T08:27:05.165Z"
   },
   {
    "duration": 18,
    "start_time": "2021-11-30T08:28:09.538Z"
   },
   {
    "duration": 8,
    "start_time": "2021-11-30T08:28:10.076Z"
   },
   {
    "duration": 20016,
    "start_time": "2021-11-30T08:28:10.677Z"
   },
   {
    "duration": 26,
    "start_time": "2021-11-30T08:28:30.696Z"
   },
   {
    "duration": 732,
    "start_time": "2021-11-30T08:30:50.427Z"
   },
   {
    "duration": 80,
    "start_time": "2021-11-30T08:30:51.161Z"
   },
   {
    "duration": 46,
    "start_time": "2021-11-30T08:30:51.244Z"
   },
   {
    "duration": 18,
    "start_time": "2021-11-30T08:30:51.293Z"
   },
   {
    "duration": 27,
    "start_time": "2021-11-30T08:30:51.313Z"
   },
   {
    "duration": 53,
    "start_time": "2021-11-30T08:30:51.343Z"
   },
   {
    "duration": 16,
    "start_time": "2021-11-30T08:30:51.399Z"
   },
   {
    "duration": 19,
    "start_time": "2021-11-30T08:30:51.419Z"
   },
   {
    "duration": 20,
    "start_time": "2021-11-30T08:30:51.442Z"
   },
   {
    "duration": 23,
    "start_time": "2021-11-30T08:30:51.484Z"
   },
   {
    "duration": 13,
    "start_time": "2021-11-30T08:30:51.510Z"
   },
   {
    "duration": 16,
    "start_time": "2021-11-30T08:30:51.526Z"
   },
   {
    "duration": 51,
    "start_time": "2021-11-30T08:30:51.544Z"
   },
   {
    "duration": 13,
    "start_time": "2021-11-30T08:30:51.598Z"
   },
   {
    "duration": 9,
    "start_time": "2021-11-30T08:30:51.614Z"
   },
   {
    "duration": 6,
    "start_time": "2021-11-30T08:30:51.625Z"
   },
   {
    "duration": 50,
    "start_time": "2021-11-30T08:30:51.633Z"
   },
   {
    "duration": 635,
    "start_time": "2021-11-30T08:30:51.685Z"
   },
   {
    "duration": 14,
    "start_time": "2021-11-30T08:30:52.322Z"
   },
   {
    "duration": 11,
    "start_time": "2021-11-30T08:30:52.339Z"
   },
   {
    "duration": 24,
    "start_time": "2021-11-30T08:30:52.381Z"
   },
   {
    "duration": 13,
    "start_time": "2021-11-30T08:30:52.408Z"
   },
   {
    "duration": 5,
    "start_time": "2021-11-30T08:30:52.428Z"
   },
   {
    "duration": 46,
    "start_time": "2021-11-30T08:30:52.437Z"
   },
   {
    "duration": 28,
    "start_time": "2021-11-30T08:30:52.486Z"
   },
   {
    "duration": 11,
    "start_time": "2021-11-30T08:30:52.518Z"
   },
   {
    "duration": 51,
    "start_time": "2021-11-30T08:30:52.531Z"
   },
   {
    "duration": 7,
    "start_time": "2021-11-30T08:30:52.584Z"
   },
   {
    "duration": 7,
    "start_time": "2021-11-30T08:30:52.593Z"
   },
   {
    "duration": 109,
    "start_time": "2021-11-30T08:30:52.603Z"
   },
   {
    "duration": -22,
    "start_time": "2021-11-30T08:30:52.736Z"
   },
   {
    "duration": -26,
    "start_time": "2021-11-30T08:30:52.742Z"
   },
   {
    "duration": -29,
    "start_time": "2021-11-30T08:30:52.746Z"
   },
   {
    "duration": -41,
    "start_time": "2021-11-30T08:30:52.760Z"
   },
   {
    "duration": -44,
    "start_time": "2021-11-30T08:30:52.764Z"
   },
   {
    "duration": -44,
    "start_time": "2021-11-30T08:30:52.766Z"
   },
   {
    "duration": -46,
    "start_time": "2021-11-30T08:30:52.769Z"
   },
   {
    "duration": -47,
    "start_time": "2021-11-30T08:30:52.771Z"
   },
   {
    "duration": 4958,
    "start_time": "2021-11-30T08:31:14.937Z"
   },
   {
    "duration": 14,
    "start_time": "2021-11-30T08:31:23.286Z"
   },
   {
    "duration": 6,
    "start_time": "2021-11-30T08:31:30.840Z"
   },
   {
    "duration": 18391,
    "start_time": "2021-11-30T08:31:31.726Z"
   },
   {
    "duration": 29,
    "start_time": "2021-11-30T08:31:50.120Z"
   },
   {
    "duration": 20,
    "start_time": "2021-11-30T08:33:59.249Z"
   },
   {
    "duration": 32,
    "start_time": "2021-11-30T08:34:00.337Z"
   },
   {
    "duration": 32,
    "start_time": "2021-11-30T08:34:12.514Z"
   },
   {
    "duration": 411,
    "start_time": "2021-11-30T08:38:16.315Z"
   },
   {
    "duration": 12,
    "start_time": "2021-11-30T08:38:24.825Z"
   },
   {
    "duration": 12,
    "start_time": "2021-11-30T08:38:52.619Z"
   },
   {
    "duration": 11,
    "start_time": "2021-11-30T08:42:48.561Z"
   },
   {
    "duration": 10,
    "start_time": "2021-11-30T08:42:59.136Z"
   },
   {
    "duration": 10,
    "start_time": "2021-11-30T08:43:28.769Z"
   },
   {
    "duration": 12,
    "start_time": "2021-11-30T08:43:42.786Z"
   },
   {
    "duration": 10,
    "start_time": "2021-11-30T08:44:24.429Z"
   },
   {
    "duration": 11,
    "start_time": "2021-11-30T08:44:25.860Z"
   },
   {
    "duration": 399,
    "start_time": "2021-11-30T08:55:26.754Z"
   },
   {
    "duration": 18,
    "start_time": "2021-11-30T08:55:46.709Z"
   },
   {
    "duration": 467,
    "start_time": "2021-11-30T08:58:13.584Z"
   },
   {
    "duration": 17,
    "start_time": "2021-11-30T09:00:14.401Z"
   },
   {
    "duration": 27,
    "start_time": "2021-11-30T09:02:30.438Z"
   },
   {
    "duration": 13,
    "start_time": "2021-11-30T09:07:51.949Z"
   },
   {
    "duration": 13,
    "start_time": "2021-11-30T09:08:03.485Z"
   },
   {
    "duration": 5,
    "start_time": "2021-11-30T09:13:27.803Z"
   },
   {
    "duration": 22276,
    "start_time": "2021-11-30T09:13:49.582Z"
   },
   {
    "duration": 4,
    "start_time": "2021-11-30T09:15:51.274Z"
   },
   {
    "duration": 624,
    "start_time": "2021-11-30T09:15:53.314Z"
   },
   {
    "duration": 4,
    "start_time": "2021-11-30T09:18:54.343Z"
   },
   {
    "duration": 10194,
    "start_time": "2021-11-30T09:18:57.439Z"
   },
   {
    "duration": 4,
    "start_time": "2021-11-30T09:19:37.244Z"
   },
   {
    "duration": 4,
    "start_time": "2021-11-30T09:19:39.730Z"
   },
   {
    "duration": 11,
    "start_time": "2021-11-30T09:19:40.273Z"
   },
   {
    "duration": 5,
    "start_time": "2021-11-30T09:22:07.933Z"
   },
   {
    "duration": 8,
    "start_time": "2021-11-30T09:22:09.546Z"
   },
   {
    "duration": 4,
    "start_time": "2021-11-30T09:22:22.357Z"
   },
   {
    "duration": 10,
    "start_time": "2021-11-30T09:22:23.557Z"
   },
   {
    "duration": 9,
    "start_time": "2021-11-30T09:22:32.883Z"
   },
   {
    "duration": 8,
    "start_time": "2021-11-30T09:22:33.418Z"
   },
   {
    "duration": 350,
    "start_time": "2021-11-30T09:23:30.565Z"
   },
   {
    "duration": 324,
    "start_time": "2021-11-30T09:27:55.324Z"
   },
   {
    "duration": 121,
    "start_time": "2021-11-30T09:29:00.108Z"
   },
   {
    "duration": 334,
    "start_time": "2021-11-30T09:29:04.724Z"
   },
   {
    "duration": 324,
    "start_time": "2021-11-30T09:29:25.144Z"
   },
   {
    "duration": 320,
    "start_time": "2021-11-30T09:29:33.684Z"
   },
   {
    "duration": 961,
    "start_time": "2021-11-30T09:48:19.784Z"
   },
   {
    "duration": 77,
    "start_time": "2021-11-30T09:48:20.748Z"
   },
   {
    "duration": 30,
    "start_time": "2021-11-30T09:48:20.828Z"
   },
   {
    "duration": 26,
    "start_time": "2021-11-30T09:48:20.861Z"
   },
   {
    "duration": 27,
    "start_time": "2021-11-30T09:48:20.890Z"
   },
   {
    "duration": 24,
    "start_time": "2021-11-30T09:48:20.920Z"
   },
   {
    "duration": 38,
    "start_time": "2021-11-30T09:48:20.946Z"
   },
   {
    "duration": 17,
    "start_time": "2021-11-30T09:48:20.988Z"
   },
   {
    "duration": 17,
    "start_time": "2021-11-30T09:48:21.008Z"
   },
   {
    "duration": 23,
    "start_time": "2021-11-30T09:48:21.027Z"
   },
   {
    "duration": 31,
    "start_time": "2021-11-30T09:48:21.052Z"
   },
   {
    "duration": 19,
    "start_time": "2021-11-30T09:48:21.086Z"
   },
   {
    "duration": 20,
    "start_time": "2021-11-30T09:48:21.108Z"
   },
   {
    "duration": 12,
    "start_time": "2021-11-30T09:48:21.131Z"
   },
   {
    "duration": 10,
    "start_time": "2021-11-30T09:48:21.145Z"
   },
   {
    "duration": 5,
    "start_time": "2021-11-30T09:48:21.182Z"
   },
   {
    "duration": 43,
    "start_time": "2021-11-30T09:48:21.189Z"
   },
   {
    "duration": 589,
    "start_time": "2021-11-30T09:48:21.236Z"
   },
   {
    "duration": 16,
    "start_time": "2021-11-30T09:48:21.828Z"
   },
   {
    "duration": 40,
    "start_time": "2021-11-30T09:48:21.847Z"
   },
   {
    "duration": 31,
    "start_time": "2021-11-30T09:48:21.890Z"
   },
   {
    "duration": 11,
    "start_time": "2021-11-30T09:48:21.923Z"
   },
   {
    "duration": 12,
    "start_time": "2021-11-30T09:48:21.939Z"
   },
   {
    "duration": 30,
    "start_time": "2021-11-30T09:48:21.954Z"
   },
   {
    "duration": 26,
    "start_time": "2021-11-30T09:48:21.986Z"
   },
   {
    "duration": 21,
    "start_time": "2021-11-30T09:48:22.015Z"
   },
   {
    "duration": 30,
    "start_time": "2021-11-30T09:48:22.039Z"
   },
   {
    "duration": 7,
    "start_time": "2021-11-30T09:48:22.082Z"
   },
   {
    "duration": 15,
    "start_time": "2021-11-30T09:48:22.091Z"
   },
   {
    "duration": 3803,
    "start_time": "2021-11-30T09:48:22.109Z"
   },
   {
    "duration": 13,
    "start_time": "2021-11-30T09:48:25.914Z"
   },
   {
    "duration": 26,
    "start_time": "2021-11-30T09:48:25.929Z"
   },
   {
    "duration": 18107,
    "start_time": "2021-11-30T09:48:25.957Z"
   },
   {
    "duration": 30,
    "start_time": "2021-11-30T09:48:44.066Z"
   },
   {
    "duration": 22,
    "start_time": "2021-11-30T09:48:44.098Z"
   },
   {
    "duration": 17,
    "start_time": "2021-11-30T09:48:44.123Z"
   },
   {
    "duration": 53,
    "start_time": "2021-11-30T09:48:44.143Z"
   },
   {
    "duration": 7,
    "start_time": "2021-11-30T09:48:44.198Z"
   },
   {
    "duration": 15,
    "start_time": "2021-11-30T09:48:44.207Z"
   },
   {
    "duration": 13,
    "start_time": "2021-11-30T09:48:44.225Z"
   },
   {
    "duration": 44,
    "start_time": "2021-11-30T09:48:44.241Z"
   },
   {
    "duration": 95,
    "start_time": "2021-11-30T09:48:44.287Z"
   },
   {
    "duration": -63,
    "start_time": "2021-11-30T09:48:44.449Z"
   },
   {
    "duration": 15,
    "start_time": "2021-11-30T09:50:57.909Z"
   },
   {
    "duration": 19,
    "start_time": "2021-11-30T09:51:04.214Z"
   },
   {
    "duration": 8,
    "start_time": "2021-11-30T09:53:59.338Z"
   },
   {
    "duration": 7,
    "start_time": "2021-11-30T09:54:04.360Z"
   },
   {
    "duration": 419,
    "start_time": "2021-11-30T09:56:06.628Z"
   },
   {
    "duration": 7,
    "start_time": "2021-11-30T09:56:17.419Z"
   },
   {
    "duration": 7,
    "start_time": "2021-11-30T09:56:49.309Z"
   },
   {
    "duration": 39,
    "start_time": "2021-11-30T09:57:43.523Z"
   },
   {
    "duration": 14,
    "start_time": "2021-11-30T09:57:55.957Z"
   },
   {
    "duration": 32,
    "start_time": "2021-11-30T09:59:28.037Z"
   },
   {
    "duration": 41,
    "start_time": "2021-11-30T09:59:38.567Z"
   },
   {
    "duration": 46,
    "start_time": "2021-11-30T09:59:51.072Z"
   },
   {
    "duration": 19,
    "start_time": "2021-11-30T10:00:32.475Z"
   },
   {
    "duration": 985,
    "start_time": "2021-11-30T10:01:45.083Z"
   },
   {
    "duration": 337,
    "start_time": "2021-11-30T10:02:16.904Z"
   },
   {
    "duration": 19,
    "start_time": "2021-11-30T10:02:56.004Z"
   },
   {
    "duration": 13,
    "start_time": "2021-11-30T10:04:31.261Z"
   },
   {
    "duration": 13,
    "start_time": "2021-11-30T10:04:34.576Z"
   },
   {
    "duration": 10,
    "start_time": "2021-11-30T10:07:59.514Z"
   },
   {
    "duration": 10,
    "start_time": "2021-11-30T10:08:10.857Z"
   },
   {
    "duration": 10,
    "start_time": "2021-11-30T10:10:28.463Z"
   },
   {
    "duration": 9,
    "start_time": "2021-11-30T10:10:37.901Z"
   },
   {
    "duration": 44,
    "start_time": "2021-11-30T10:14:48.238Z"
   },
   {
    "duration": 65,
    "start_time": "2021-11-30T10:14:55.610Z"
   },
   {
    "duration": 6,
    "start_time": "2021-11-30T10:15:42.252Z"
   },
   {
    "duration": 10,
    "start_time": "2021-11-30T10:16:16.418Z"
   },
   {
    "duration": 35,
    "start_time": "2021-11-30T10:16:42.000Z"
   },
   {
    "duration": 904,
    "start_time": "2021-11-30T10:17:05.989Z"
   },
   {
    "duration": 77,
    "start_time": "2021-11-30T10:17:06.896Z"
   },
   {
    "duration": 32,
    "start_time": "2021-11-30T10:17:06.985Z"
   },
   {
    "duration": 18,
    "start_time": "2021-11-30T10:17:07.021Z"
   },
   {
    "duration": 66,
    "start_time": "2021-11-30T10:17:07.042Z"
   },
   {
    "duration": 33,
    "start_time": "2021-11-30T10:17:07.110Z"
   },
   {
    "duration": 8,
    "start_time": "2021-11-30T10:17:07.148Z"
   },
   {
    "duration": 12,
    "start_time": "2021-11-30T10:17:07.184Z"
   },
   {
    "duration": 12,
    "start_time": "2021-11-30T10:17:07.199Z"
   },
   {
    "duration": 17,
    "start_time": "2021-11-30T10:17:07.213Z"
   },
   {
    "duration": 8,
    "start_time": "2021-11-30T10:17:07.232Z"
   },
   {
    "duration": 12,
    "start_time": "2021-11-30T10:17:07.283Z"
   },
   {
    "duration": 18,
    "start_time": "2021-11-30T10:17:07.297Z"
   },
   {
    "duration": 12,
    "start_time": "2021-11-30T10:17:07.317Z"
   },
   {
    "duration": 53,
    "start_time": "2021-11-30T10:17:07.331Z"
   },
   {
    "duration": 5,
    "start_time": "2021-11-30T10:17:07.386Z"
   },
   {
    "duration": 8,
    "start_time": "2021-11-30T10:17:07.393Z"
   },
   {
    "duration": 633,
    "start_time": "2021-11-30T10:17:07.403Z"
   },
   {
    "duration": 13,
    "start_time": "2021-11-30T10:17:08.038Z"
   },
   {
    "duration": 32,
    "start_time": "2021-11-30T10:17:08.054Z"
   },
   {
    "duration": 23,
    "start_time": "2021-11-30T10:17:08.089Z"
   },
   {
    "duration": 12,
    "start_time": "2021-11-30T10:17:08.116Z"
   },
   {
    "duration": 8,
    "start_time": "2021-11-30T10:17:08.131Z"
   },
   {
    "duration": 74,
    "start_time": "2021-11-30T10:17:08.141Z"
   },
   {
    "duration": 9,
    "start_time": "2021-11-30T10:17:08.217Z"
   },
   {
    "duration": 59,
    "start_time": "2021-11-30T10:17:08.229Z"
   },
   {
    "duration": 15,
    "start_time": "2021-11-30T10:17:08.291Z"
   },
   {
    "duration": 10,
    "start_time": "2021-11-30T10:17:08.308Z"
   },
   {
    "duration": 26,
    "start_time": "2021-11-30T10:17:08.321Z"
   },
   {
    "duration": 8,
    "start_time": "2021-11-30T10:17:08.349Z"
   },
   {
    "duration": 41,
    "start_time": "2021-11-30T10:17:08.359Z"
   },
   {
    "duration": 25,
    "start_time": "2021-11-30T10:17:08.402Z"
   },
   {
    "duration": 8,
    "start_time": "2021-11-30T10:17:08.429Z"
   },
   {
    "duration": 542,
    "start_time": "2021-11-30T10:17:08.440Z"
   },
   {
    "duration": -43,
    "start_time": "2021-11-30T10:17:09.028Z"
   },
   {
    "duration": -51,
    "start_time": "2021-11-30T10:17:09.037Z"
   },
   {
    "duration": -52,
    "start_time": "2021-11-30T10:17:09.040Z"
   },
   {
    "duration": -53,
    "start_time": "2021-11-30T10:17:09.043Z"
   },
   {
    "duration": -55,
    "start_time": "2021-11-30T10:17:09.047Z"
   },
   {
    "duration": -55,
    "start_time": "2021-11-30T10:17:09.049Z"
   },
   {
    "duration": -56,
    "start_time": "2021-11-30T10:17:09.052Z"
   },
   {
    "duration": -57,
    "start_time": "2021-11-30T10:17:09.055Z"
   },
   {
    "duration": -58,
    "start_time": "2021-11-30T10:17:09.058Z"
   },
   {
    "duration": -58,
    "start_time": "2021-11-30T10:17:09.060Z"
   },
   {
    "duration": -65,
    "start_time": "2021-11-30T10:17:09.069Z"
   },
   {
    "duration": -67,
    "start_time": "2021-11-30T10:17:09.072Z"
   },
   {
    "duration": -68,
    "start_time": "2021-11-30T10:17:09.075Z"
   },
   {
    "duration": 34,
    "start_time": "2021-11-30T10:17:29.601Z"
   },
   {
    "duration": 806,
    "start_time": "2021-11-30T10:17:47.127Z"
   },
   {
    "duration": 76,
    "start_time": "2021-11-30T10:17:47.936Z"
   },
   {
    "duration": 16,
    "start_time": "2021-11-30T10:17:59.757Z"
   },
   {
    "duration": 8,
    "start_time": "2021-11-30T10:18:10.277Z"
   },
   {
    "duration": 35,
    "start_time": "2021-11-30T10:18:14.553Z"
   },
   {
    "duration": 8,
    "start_time": "2021-11-30T10:18:15.939Z"
   },
   {
    "duration": 789,
    "start_time": "2021-11-30T10:18:46.944Z"
   },
   {
    "duration": 74,
    "start_time": "2021-11-30T10:18:47.735Z"
   },
   {
    "duration": 37,
    "start_time": "2021-11-30T10:18:47.812Z"
   },
   {
    "duration": 39,
    "start_time": "2021-11-30T10:18:47.852Z"
   },
   {
    "duration": 35,
    "start_time": "2021-11-30T10:18:47.894Z"
   },
   {
    "duration": 56,
    "start_time": "2021-11-30T10:18:47.932Z"
   },
   {
    "duration": 9,
    "start_time": "2021-11-30T10:18:47.991Z"
   },
   {
    "duration": 15,
    "start_time": "2021-11-30T10:18:48.005Z"
   },
   {
    "duration": 17,
    "start_time": "2021-11-30T10:18:48.023Z"
   },
   {
    "duration": 57,
    "start_time": "2021-11-30T10:18:48.044Z"
   },
   {
    "duration": 11,
    "start_time": "2021-11-30T10:18:48.103Z"
   },
   {
    "duration": 14,
    "start_time": "2021-11-30T10:18:48.116Z"
   },
   {
    "duration": 50,
    "start_time": "2021-11-30T10:18:48.132Z"
   },
   {
    "duration": 14,
    "start_time": "2021-11-30T10:18:48.184Z"
   },
   {
    "duration": 7,
    "start_time": "2021-11-30T10:18:48.201Z"
   },
   {
    "duration": 11,
    "start_time": "2021-11-30T10:18:48.211Z"
   },
   {
    "duration": 9,
    "start_time": "2021-11-30T10:18:48.224Z"
   },
   {
    "duration": 631,
    "start_time": "2021-11-30T10:18:48.235Z"
   },
   {
    "duration": 16,
    "start_time": "2021-11-30T10:18:48.869Z"
   },
   {
    "duration": 15,
    "start_time": "2021-11-30T10:18:48.887Z"
   },
   {
    "duration": 23,
    "start_time": "2021-11-30T10:18:48.904Z"
   },
   {
    "duration": 52,
    "start_time": "2021-11-30T10:18:48.930Z"
   },
   {
    "duration": 7,
    "start_time": "2021-11-30T10:18:48.987Z"
   },
   {
    "duration": 14,
    "start_time": "2021-11-30T10:18:48.997Z"
   },
   {
    "duration": 7,
    "start_time": "2021-11-30T10:18:49.013Z"
   },
   {
    "duration": 62,
    "start_time": "2021-11-30T10:18:49.022Z"
   },
   {
    "duration": 6,
    "start_time": "2021-11-30T10:18:49.087Z"
   },
   {
    "duration": 7,
    "start_time": "2021-11-30T10:18:49.096Z"
   },
   {
    "duration": 39,
    "start_time": "2021-11-30T10:18:49.106Z"
   },
   {
    "duration": 38,
    "start_time": "2021-11-30T10:18:49.148Z"
   },
   {
    "duration": 35,
    "start_time": "2021-11-30T10:18:49.189Z"
   },
   {
    "duration": 13,
    "start_time": "2021-11-30T10:18:49.228Z"
   },
   {
    "duration": 40,
    "start_time": "2021-11-30T10:18:49.244Z"
   },
   {
    "duration": 3478,
    "start_time": "2021-11-30T10:18:49.287Z"
   },
   {
    "duration": 27,
    "start_time": "2021-11-30T10:18:52.768Z"
   },
   {
    "duration": 12,
    "start_time": "2021-11-30T10:18:52.798Z"
   },
   {
    "duration": 17471,
    "start_time": "2021-11-30T10:18:52.813Z"
   },
   {
    "duration": 23,
    "start_time": "2021-11-30T10:19:10.287Z"
   },
   {
    "duration": 24,
    "start_time": "2021-11-30T10:19:10.313Z"
   },
   {
    "duration": 51,
    "start_time": "2021-11-30T10:19:10.340Z"
   },
   {
    "duration": 23,
    "start_time": "2021-11-30T10:19:10.393Z"
   },
   {
    "duration": 12,
    "start_time": "2021-11-30T10:19:10.419Z"
   },
   {
    "duration": 50,
    "start_time": "2021-11-30T10:19:10.434Z"
   },
   {
    "duration": 10,
    "start_time": "2021-11-30T10:19:10.486Z"
   },
   {
    "duration": 14,
    "start_time": "2021-11-30T10:19:10.500Z"
   },
   {
    "duration": 103,
    "start_time": "2021-11-30T10:19:10.517Z"
   },
   {
    "duration": 496,
    "start_time": "2021-11-30T10:19:10.623Z"
   },
   {
    "duration": 17,
    "start_time": "2021-11-30T10:23:02.586Z"
   },
   {
    "duration": 10,
    "start_time": "2021-11-30T10:23:06.053Z"
   },
   {
    "duration": 13,
    "start_time": "2021-11-30T10:23:09.500Z"
   },
   {
    "duration": 112,
    "start_time": "2021-11-30T10:23:59.562Z"
   },
   {
    "duration": 433,
    "start_time": "2021-11-30T10:24:03.606Z"
   },
   {
    "duration": 351,
    "start_time": "2021-11-30T10:24:18.777Z"
   },
   {
    "duration": 37,
    "start_time": "2021-11-30T10:24:41.142Z"
   },
   {
    "duration": 5947,
    "start_time": "2021-11-30T10:26:19.429Z"
   },
   {
    "duration": 6534,
    "start_time": "2021-11-30T10:26:41.533Z"
   },
   {
    "duration": 30,
    "start_time": "2021-11-30T10:26:59.686Z"
   },
   {
    "duration": 23,
    "start_time": "2021-11-30T10:27:02.010Z"
   },
   {
    "duration": 31,
    "start_time": "2021-11-30T10:27:07.223Z"
   },
   {
    "duration": 31,
    "start_time": "2021-11-30T10:27:38.809Z"
   },
   {
    "duration": 14,
    "start_time": "2021-11-30T10:28:55.489Z"
   },
   {
    "duration": 20,
    "start_time": "2021-11-30T10:29:02.937Z"
   },
   {
    "duration": 42,
    "start_time": "2021-11-30T10:29:22.958Z"
   },
   {
    "duration": 99,
    "start_time": "2021-11-30T10:29:32.316Z"
   },
   {
    "duration": 40,
    "start_time": "2021-11-30T10:29:36.546Z"
   },
   {
    "duration": 33,
    "start_time": "2021-11-30T10:29:42.118Z"
   },
   {
    "duration": 117,
    "start_time": "2021-11-30T10:30:25.421Z"
   },
   {
    "duration": 33,
    "start_time": "2021-11-30T10:30:32.357Z"
   },
   {
    "duration": 45,
    "start_time": "2021-11-30T10:30:51.777Z"
   },
   {
    "duration": 33,
    "start_time": "2021-11-30T10:30:53.782Z"
   },
   {
    "duration": 357,
    "start_time": "2021-11-30T10:40:04.364Z"
   },
   {
    "duration": 29,
    "start_time": "2021-11-30T10:40:24.477Z"
   },
   {
    "duration": 39,
    "start_time": "2021-11-30T10:40:32.747Z"
   },
   {
    "duration": 36,
    "start_time": "2021-11-30T10:40:50.761Z"
   },
   {
    "duration": 11,
    "start_time": "2021-11-30T10:41:03.816Z"
   },
   {
    "duration": 29,
    "start_time": "2021-11-30T10:41:07.083Z"
   },
   {
    "duration": 8,
    "start_time": "2021-11-30T10:50:18.467Z"
   },
   {
    "duration": 302,
    "start_time": "2021-11-30T10:50:34.218Z"
   },
   {
    "duration": 6,
    "start_time": "2021-11-30T10:50:39.226Z"
   },
   {
    "duration": 9,
    "start_time": "2021-11-30T10:52:16.840Z"
   },
   {
    "duration": 8,
    "start_time": "2021-11-30T10:52:53.707Z"
   },
   {
    "duration": 6,
    "start_time": "2021-11-30T10:54:21.631Z"
   },
   {
    "duration": 44,
    "start_time": "2021-11-30T10:55:16.118Z"
   },
   {
    "duration": 11,
    "start_time": "2021-11-30T10:55:27.008Z"
   },
   {
    "duration": 9,
    "start_time": "2021-11-30T10:56:04.723Z"
   },
   {
    "duration": 3,
    "start_time": "2021-11-30T11:00:28.717Z"
   },
   {
    "duration": 4,
    "start_time": "2021-11-30T11:01:21.709Z"
   },
   {
    "duration": 7,
    "start_time": "2021-11-30T11:01:49.393Z"
   },
   {
    "duration": 8,
    "start_time": "2021-11-30T11:01:58.667Z"
   },
   {
    "duration": 12,
    "start_time": "2021-11-30T11:02:46.684Z"
   },
   {
    "duration": 5,
    "start_time": "2021-11-30T11:02:47.619Z"
   },
   {
    "duration": 52,
    "start_time": "2021-11-30T11:03:35.574Z"
   },
   {
    "duration": 23,
    "start_time": "2021-11-30T11:03:44.488Z"
   },
   {
    "duration": 314,
    "start_time": "2021-11-30T11:04:25.646Z"
   },
   {
    "duration": 31,
    "start_time": "2021-11-30T11:04:40.848Z"
   },
   {
    "duration": 889,
    "start_time": "2021-11-30T11:11:30.541Z"
   },
   {
    "duration": 85,
    "start_time": "2021-11-30T11:11:31.434Z"
   },
   {
    "duration": 33,
    "start_time": "2021-11-30T11:11:31.522Z"
   },
   {
    "duration": 41,
    "start_time": "2021-11-30T11:11:31.558Z"
   },
   {
    "duration": 28,
    "start_time": "2021-11-30T11:11:31.602Z"
   },
   {
    "duration": 59,
    "start_time": "2021-11-30T11:11:31.633Z"
   },
   {
    "duration": 10,
    "start_time": "2021-11-30T11:11:31.696Z"
   },
   {
    "duration": 14,
    "start_time": "2021-11-30T11:11:31.711Z"
   },
   {
    "duration": 18,
    "start_time": "2021-11-30T11:11:31.729Z"
   },
   {
    "duration": 26,
    "start_time": "2021-11-30T11:11:31.785Z"
   },
   {
    "duration": 12,
    "start_time": "2021-11-30T11:11:31.814Z"
   },
   {
    "duration": 15,
    "start_time": "2021-11-30T11:11:31.829Z"
   },
   {
    "duration": 24,
    "start_time": "2021-11-30T11:11:31.888Z"
   },
   {
    "duration": 30,
    "start_time": "2021-11-30T11:11:31.915Z"
   },
   {
    "duration": 16,
    "start_time": "2021-11-30T11:11:31.948Z"
   },
   {
    "duration": 7,
    "start_time": "2021-11-30T11:11:31.984Z"
   },
   {
    "duration": 10,
    "start_time": "2021-11-30T11:11:31.994Z"
   },
   {
    "duration": 1000,
    "start_time": "2021-11-30T11:11:32.008Z"
   },
   {
    "duration": 13,
    "start_time": "2021-11-30T11:11:33.010Z"
   },
   {
    "duration": 12,
    "start_time": "2021-11-30T11:11:33.025Z"
   },
   {
    "duration": 59,
    "start_time": "2021-11-30T11:11:33.039Z"
   },
   {
    "duration": 18,
    "start_time": "2021-11-30T11:11:33.101Z"
   },
   {
    "duration": 8,
    "start_time": "2021-11-30T11:11:33.127Z"
   },
   {
    "duration": 56,
    "start_time": "2021-11-30T11:11:33.138Z"
   },
   {
    "duration": 7,
    "start_time": "2021-11-30T11:11:33.198Z"
   },
   {
    "duration": 13,
    "start_time": "2021-11-30T11:11:33.209Z"
   },
   {
    "duration": 31,
    "start_time": "2021-11-30T11:11:33.225Z"
   },
   {
    "duration": 27,
    "start_time": "2021-11-30T11:11:33.259Z"
   },
   {
    "duration": 31,
    "start_time": "2021-11-30T11:11:33.288Z"
   },
   {
    "duration": 7,
    "start_time": "2021-11-30T11:11:33.322Z"
   },
   {
    "duration": 8,
    "start_time": "2021-11-30T11:11:33.331Z"
   },
   {
    "duration": 3554,
    "start_time": "2021-11-30T11:11:33.342Z"
   },
   {
    "duration": 15,
    "start_time": "2021-11-30T11:11:36.900Z"
   },
   {
    "duration": 14,
    "start_time": "2021-11-30T11:11:36.918Z"
   },
   {
    "duration": 19180,
    "start_time": "2021-11-30T11:11:36.934Z"
   },
   {
    "duration": 20,
    "start_time": "2021-11-30T11:11:56.116Z"
   },
   {
    "duration": 27,
    "start_time": "2021-11-30T11:11:56.138Z"
   },
   {
    "duration": 28,
    "start_time": "2021-11-30T11:11:56.182Z"
   },
   {
    "duration": 23,
    "start_time": "2021-11-30T11:11:56.212Z"
   },
   {
    "duration": 45,
    "start_time": "2021-11-30T11:11:56.237Z"
   },
   {
    "duration": 15,
    "start_time": "2021-11-30T11:11:56.286Z"
   },
   {
    "duration": 37,
    "start_time": "2021-11-30T11:11:56.304Z"
   },
   {
    "duration": 75,
    "start_time": "2021-11-30T11:11:56.344Z"
   },
   {
    "duration": 12,
    "start_time": "2021-11-30T11:11:56.421Z"
   },
   {
    "duration": 53,
    "start_time": "2021-11-30T11:11:56.436Z"
   },
   {
    "duration": 33,
    "start_time": "2021-11-30T11:11:56.493Z"
   },
   {
    "duration": 8,
    "start_time": "2021-11-30T11:11:56.528Z"
   },
   {
    "duration": 70,
    "start_time": "2021-11-30T11:11:56.539Z"
   },
   {
    "duration": 1009,
    "start_time": "2021-11-30T12:46:12.594Z"
   },
   {
    "duration": 77,
    "start_time": "2021-11-30T12:46:13.606Z"
   },
   {
    "duration": 36,
    "start_time": "2021-11-30T12:46:13.686Z"
   },
   {
    "duration": 14,
    "start_time": "2021-11-30T12:46:13.725Z"
   },
   {
    "duration": 61,
    "start_time": "2021-11-30T12:46:13.742Z"
   },
   {
    "duration": 36,
    "start_time": "2021-11-30T12:46:13.806Z"
   },
   {
    "duration": 40,
    "start_time": "2021-11-30T12:46:13.845Z"
   },
   {
    "duration": 12,
    "start_time": "2021-11-30T12:46:13.890Z"
   },
   {
    "duration": 13,
    "start_time": "2021-11-30T12:46:13.905Z"
   },
   {
    "duration": 67,
    "start_time": "2021-11-30T12:46:13.921Z"
   },
   {
    "duration": 13,
    "start_time": "2021-11-30T12:46:13.992Z"
   },
   {
    "duration": 29,
    "start_time": "2021-11-30T12:46:14.008Z"
   },
   {
    "duration": 47,
    "start_time": "2021-11-30T12:46:14.041Z"
   },
   {
    "duration": 19,
    "start_time": "2021-11-30T12:46:14.090Z"
   },
   {
    "duration": 9,
    "start_time": "2021-11-30T12:46:14.112Z"
   },
   {
    "duration": 12,
    "start_time": "2021-11-30T12:46:14.125Z"
   },
   {
    "duration": 44,
    "start_time": "2021-11-30T12:46:14.140Z"
   },
   {
    "duration": 1189,
    "start_time": "2021-11-30T12:46:14.188Z"
   },
   {
    "duration": 20,
    "start_time": "2021-11-30T12:46:15.380Z"
   },
   {
    "duration": 16,
    "start_time": "2021-11-30T12:46:15.403Z"
   },
   {
    "duration": 63,
    "start_time": "2021-11-30T12:46:15.423Z"
   },
   {
    "duration": 15,
    "start_time": "2021-11-30T12:46:15.489Z"
   },
   {
    "duration": 10,
    "start_time": "2021-11-30T12:46:15.512Z"
   },
   {
    "duration": 58,
    "start_time": "2021-11-30T12:46:15.526Z"
   },
   {
    "duration": 29,
    "start_time": "2021-11-30T12:46:15.587Z"
   },
   {
    "duration": 11,
    "start_time": "2021-11-30T12:46:15.619Z"
   },
   {
    "duration": 33,
    "start_time": "2021-11-30T12:46:15.634Z"
   },
   {
    "duration": 8,
    "start_time": "2021-11-30T12:46:15.682Z"
   },
   {
    "duration": 47,
    "start_time": "2021-11-30T12:46:15.693Z"
   },
   {
    "duration": 9,
    "start_time": "2021-11-30T12:46:15.743Z"
   },
   {
    "duration": 29,
    "start_time": "2021-11-30T12:46:15.756Z"
   },
   {
    "duration": 4733,
    "start_time": "2021-11-30T12:46:15.788Z"
   },
   {
    "duration": 13,
    "start_time": "2021-11-30T12:46:20.525Z"
   },
   {
    "duration": 7,
    "start_time": "2021-11-30T12:46:20.541Z"
   },
   {
    "duration": 18904,
    "start_time": "2021-11-30T12:46:20.550Z"
   },
   {
    "duration": 37,
    "start_time": "2021-11-30T12:46:39.457Z"
   },
   {
    "duration": 23,
    "start_time": "2021-11-30T12:46:39.496Z"
   },
   {
    "duration": 19,
    "start_time": "2021-11-30T12:46:39.521Z"
   },
   {
    "duration": 53,
    "start_time": "2021-11-30T12:46:39.542Z"
   },
   {
    "duration": 14,
    "start_time": "2021-11-30T12:46:39.598Z"
   },
   {
    "duration": 10,
    "start_time": "2021-11-30T12:46:39.615Z"
   },
   {
    "duration": 122,
    "start_time": "2021-11-30T12:46:39.628Z"
   },
   {
    "duration": 32,
    "start_time": "2021-11-30T12:46:39.752Z"
   },
   {
    "duration": 12,
    "start_time": "2021-11-30T12:46:39.786Z"
   },
   {
    "duration": 23,
    "start_time": "2021-11-30T12:46:39.801Z"
   },
   {
    "duration": 54,
    "start_time": "2021-11-30T12:46:39.827Z"
   },
   {
    "duration": 10,
    "start_time": "2021-11-30T12:46:39.884Z"
   },
   {
    "duration": 31,
    "start_time": "2021-11-30T12:46:39.897Z"
   },
   {
    "duration": 335,
    "start_time": "2021-11-30T16:53:32.285Z"
   },
   {
    "duration": 888,
    "start_time": "2021-11-30T16:53:38.424Z"
   },
   {
    "duration": 78,
    "start_time": "2021-11-30T16:53:39.314Z"
   },
   {
    "duration": 30,
    "start_time": "2021-11-30T16:53:41.991Z"
   },
   {
    "duration": 13,
    "start_time": "2021-11-30T16:53:44.247Z"
   },
   {
    "duration": 24,
    "start_time": "2021-11-30T16:53:44.437Z"
   },
   {
    "duration": 23,
    "start_time": "2021-11-30T16:53:44.616Z"
   },
   {
    "duration": 7,
    "start_time": "2021-11-30T16:53:44.892Z"
   },
   {
    "duration": 9,
    "start_time": "2021-11-30T16:53:45.734Z"
   },
   {
    "duration": 11,
    "start_time": "2021-11-30T16:53:46.172Z"
   },
   {
    "duration": 16,
    "start_time": "2021-11-30T16:53:46.377Z"
   },
   {
    "duration": 9,
    "start_time": "2021-11-30T16:53:47.027Z"
   },
   {
    "duration": 12,
    "start_time": "2021-11-30T16:53:47.526Z"
   },
   {
    "duration": 15,
    "start_time": "2021-11-30T16:53:47.946Z"
   },
   {
    "duration": 12,
    "start_time": "2021-11-30T16:53:48.224Z"
   },
   {
    "duration": 7,
    "start_time": "2021-11-30T16:53:48.442Z"
   },
   {
    "duration": 5,
    "start_time": "2021-11-30T16:53:48.700Z"
   },
   {
    "duration": 5,
    "start_time": "2021-11-30T16:53:49.603Z"
   },
   {
    "duration": 618,
    "start_time": "2021-11-30T16:53:49.819Z"
   },
   {
    "duration": 13,
    "start_time": "2021-11-30T16:53:50.440Z"
   },
   {
    "duration": 11,
    "start_time": "2021-11-30T16:53:50.456Z"
   },
   {
    "duration": 23,
    "start_time": "2021-11-30T16:53:51.186Z"
   },
   {
    "duration": 12,
    "start_time": "2021-11-30T16:53:51.447Z"
   },
   {
    "duration": 9,
    "start_time": "2021-11-30T16:53:53.751Z"
   },
   {
    "duration": 17,
    "start_time": "2021-11-30T16:53:54.290Z"
   },
   {
    "duration": 4,
    "start_time": "2021-11-30T16:53:56.021Z"
   },
   {
    "duration": 5,
    "start_time": "2021-11-30T16:53:56.662Z"
   },
   {
    "duration": 19,
    "start_time": "2021-11-30T16:53:58.419Z"
   },
   {
    "duration": 9,
    "start_time": "2021-11-30T16:54:03.141Z"
   },
   {
    "duration": 35,
    "start_time": "2021-11-30T16:54:04.193Z"
   },
   {
    "duration": 8,
    "start_time": "2021-11-30T16:54:07.110Z"
   },
   {
    "duration": 7,
    "start_time": "2021-11-30T16:54:07.844Z"
   },
   {
    "duration": 24,
    "start_time": "2021-11-30T16:54:10.176Z"
   },
   {
    "duration": 114,
    "start_time": "2021-11-30T16:57:37.927Z"
   },
   {
    "duration": 21,
    "start_time": "2021-11-30T16:57:44.485Z"
   },
   {
    "duration": 20,
    "start_time": "2021-11-30T16:57:51.670Z"
   },
   {
    "duration": 44,
    "start_time": "2021-11-30T16:59:27.426Z"
   },
   {
    "duration": 659,
    "start_time": "2021-12-01T09:50:31.522Z"
   },
   {
    "duration": 68,
    "start_time": "2021-12-01T09:50:32.183Z"
   },
   {
    "duration": 20,
    "start_time": "2021-12-01T09:50:32.253Z"
   },
   {
    "duration": 20,
    "start_time": "2021-12-01T09:50:32.275Z"
   },
   {
    "duration": 42,
    "start_time": "2021-12-01T09:50:32.297Z"
   },
   {
    "duration": 15,
    "start_time": "2021-12-01T09:50:32.341Z"
   },
   {
    "duration": 10,
    "start_time": "2021-12-01T09:50:32.358Z"
   },
   {
    "duration": 14,
    "start_time": "2021-12-01T09:50:32.370Z"
   },
   {
    "duration": 13,
    "start_time": "2021-12-01T09:50:32.386Z"
   },
   {
    "duration": 17,
    "start_time": "2021-12-01T09:50:32.400Z"
   },
   {
    "duration": 19,
    "start_time": "2021-12-01T09:50:32.419Z"
   },
   {
    "duration": 12,
    "start_time": "2021-12-01T09:50:32.440Z"
   },
   {
    "duration": 11,
    "start_time": "2021-12-01T09:50:32.454Z"
   },
   {
    "duration": 10,
    "start_time": "2021-12-01T09:50:32.467Z"
   },
   {
    "duration": 35,
    "start_time": "2021-12-01T09:50:32.479Z"
   },
   {
    "duration": 12,
    "start_time": "2021-12-01T09:50:32.517Z"
   },
   {
    "duration": 7,
    "start_time": "2021-12-01T09:50:32.532Z"
   },
   {
    "duration": 448,
    "start_time": "2021-12-01T09:50:32.541Z"
   },
   {
    "duration": 18,
    "start_time": "2021-12-01T09:50:32.991Z"
   },
   {
    "duration": 11,
    "start_time": "2021-12-01T09:50:33.011Z"
   },
   {
    "duration": 19,
    "start_time": "2021-12-01T09:50:33.024Z"
   },
   {
    "duration": 8,
    "start_time": "2021-12-01T09:50:33.045Z"
   },
   {
    "duration": 6,
    "start_time": "2021-12-01T09:50:33.056Z"
   },
   {
    "duration": 44,
    "start_time": "2021-12-01T09:50:33.064Z"
   },
   {
    "duration": 20,
    "start_time": "2021-12-01T09:50:33.111Z"
   },
   {
    "duration": 9,
    "start_time": "2021-12-01T09:50:33.132Z"
   },
   {
    "duration": 18,
    "start_time": "2021-12-01T09:50:33.143Z"
   },
   {
    "duration": 5,
    "start_time": "2021-12-01T09:50:33.162Z"
   },
   {
    "duration": 49,
    "start_time": "2021-12-01T09:50:33.169Z"
   },
   {
    "duration": 15,
    "start_time": "2021-12-01T09:50:33.220Z"
   },
   {
    "duration": 7,
    "start_time": "2021-12-01T09:50:33.237Z"
   },
   {
    "duration": 20,
    "start_time": "2021-12-01T09:50:33.246Z"
   },
   {
    "duration": 45,
    "start_time": "2021-12-01T09:50:33.268Z"
   },
   {
    "duration": 2937,
    "start_time": "2021-12-01T09:50:33.316Z"
   },
   {
    "duration": 10,
    "start_time": "2021-12-01T09:50:36.256Z"
   },
   {
    "duration": 9,
    "start_time": "2021-12-01T09:50:36.268Z"
   },
   {
    "duration": 15307,
    "start_time": "2021-12-01T09:50:36.279Z"
   },
   {
    "duration": 24,
    "start_time": "2021-12-01T09:50:51.588Z"
   },
   {
    "duration": 25,
    "start_time": "2021-12-01T09:50:51.614Z"
   },
   {
    "duration": 16,
    "start_time": "2021-12-01T09:50:51.642Z"
   },
   {
    "duration": 18,
    "start_time": "2021-12-01T09:50:51.660Z"
   },
   {
    "duration": 18,
    "start_time": "2021-12-01T09:50:51.707Z"
   },
   {
    "duration": 11,
    "start_time": "2021-12-01T09:50:51.727Z"
   },
   {
    "duration": 24,
    "start_time": "2021-12-01T09:50:51.740Z"
   },
   {
    "duration": 53,
    "start_time": "2021-12-01T09:50:51.766Z"
   },
   {
    "duration": 14,
    "start_time": "2021-12-01T09:50:51.821Z"
   },
   {
    "duration": 18,
    "start_time": "2021-12-01T09:50:51.839Z"
   },
   {
    "duration": 128,
    "start_time": "2021-12-01T09:50:51.859Z"
   },
   {
    "duration": 14,
    "start_time": "2021-12-01T09:50:51.989Z"
   },
   {
    "duration": 32,
    "start_time": "2021-12-01T09:50:52.004Z"
   },
   {
    "duration": 676,
    "start_time": "2021-12-01T09:53:26.517Z"
   },
   {
    "duration": 65,
    "start_time": "2021-12-01T09:53:27.195Z"
   },
   {
    "duration": 22,
    "start_time": "2021-12-01T09:53:27.262Z"
   },
   {
    "duration": 23,
    "start_time": "2021-12-01T09:53:27.286Z"
   },
   {
    "duration": 21,
    "start_time": "2021-12-01T09:53:27.312Z"
   },
   {
    "duration": 17,
    "start_time": "2021-12-01T09:53:27.335Z"
   },
   {
    "duration": 12,
    "start_time": "2021-12-01T09:53:27.354Z"
   },
   {
    "duration": 40,
    "start_time": "2021-12-01T09:53:27.369Z"
   },
   {
    "duration": 9,
    "start_time": "2021-12-01T09:53:27.412Z"
   },
   {
    "duration": 13,
    "start_time": "2021-12-01T09:53:27.423Z"
   },
   {
    "duration": 8,
    "start_time": "2021-12-01T09:53:27.438Z"
   },
   {
    "duration": 29,
    "start_time": "2021-12-01T09:53:27.448Z"
   },
   {
    "duration": 29,
    "start_time": "2021-12-01T09:53:27.479Z"
   },
   {
    "duration": 22,
    "start_time": "2021-12-01T09:53:27.511Z"
   },
   {
    "duration": 12,
    "start_time": "2021-12-01T09:53:27.536Z"
   },
   {
    "duration": 8,
    "start_time": "2021-12-01T09:53:27.551Z"
   },
   {
    "duration": 6,
    "start_time": "2021-12-01T09:53:27.561Z"
   },
   {
    "duration": 448,
    "start_time": "2021-12-01T09:53:27.568Z"
   },
   {
    "duration": 13,
    "start_time": "2021-12-01T09:53:28.019Z"
   },
   {
    "duration": 8,
    "start_time": "2021-12-01T09:53:28.034Z"
   },
   {
    "duration": 15,
    "start_time": "2021-12-01T09:53:28.044Z"
   },
   {
    "duration": 8,
    "start_time": "2021-12-01T09:53:28.061Z"
   },
   {
    "duration": 41,
    "start_time": "2021-12-01T09:53:28.073Z"
   },
   {
    "duration": 7,
    "start_time": "2021-12-01T09:53:28.129Z"
   },
   {
    "duration": 18,
    "start_time": "2021-12-01T09:53:28.138Z"
   },
   {
    "duration": 7,
    "start_time": "2021-12-01T09:53:28.158Z"
   },
   {
    "duration": 11,
    "start_time": "2021-12-01T09:53:28.167Z"
   },
   {
    "duration": 16,
    "start_time": "2021-12-01T09:53:28.215Z"
   },
   {
    "duration": 15,
    "start_time": "2021-12-01T09:53:28.233Z"
   },
   {
    "duration": 5,
    "start_time": "2021-12-01T09:53:28.250Z"
   },
   {
    "duration": 5,
    "start_time": "2021-12-01T09:53:28.257Z"
   },
   {
    "duration": 15,
    "start_time": "2021-12-01T09:53:28.263Z"
   },
   {
    "duration": 56,
    "start_time": "2021-12-01T09:53:28.280Z"
   },
   {
    "duration": 2878,
    "start_time": "2021-12-01T09:53:28.337Z"
   },
   {
    "duration": 22,
    "start_time": "2021-12-01T09:53:31.218Z"
   },
   {
    "duration": 5,
    "start_time": "2021-12-01T09:53:31.242Z"
   },
   {
    "duration": 15868,
    "start_time": "2021-12-01T09:53:31.249Z"
   },
   {
    "duration": 23,
    "start_time": "2021-12-01T09:53:47.120Z"
   },
   {
    "duration": 27,
    "start_time": "2021-12-01T09:53:47.146Z"
   },
   {
    "duration": 17,
    "start_time": "2021-12-01T09:53:47.175Z"
   },
   {
    "duration": 30,
    "start_time": "2021-12-01T09:53:47.194Z"
   },
   {
    "duration": 16,
    "start_time": "2021-12-01T09:53:47.227Z"
   },
   {
    "duration": 18,
    "start_time": "2021-12-01T09:53:47.245Z"
   },
   {
    "duration": 48,
    "start_time": "2021-12-01T09:53:47.265Z"
   },
   {
    "duration": 27,
    "start_time": "2021-12-01T09:53:47.314Z"
   },
   {
    "duration": 11,
    "start_time": "2021-12-01T09:53:47.343Z"
   },
   {
    "duration": 47,
    "start_time": "2021-12-01T09:53:47.356Z"
   },
   {
    "duration": 27,
    "start_time": "2021-12-01T09:53:47.405Z"
   },
   {
    "duration": 8,
    "start_time": "2021-12-01T09:53:47.434Z"
   },
   {
    "duration": 33,
    "start_time": "2021-12-01T09:53:47.444Z"
   },
   {
    "duration": 9,
    "start_time": "2021-12-01T09:59:21.157Z"
   },
   {
    "duration": 15,
    "start_time": "2021-12-01T10:03:55.467Z"
   },
   {
    "duration": 1556,
    "start_time": "2021-12-01T10:06:23.919Z"
   },
   {
    "duration": 190,
    "start_time": "2021-12-01T10:06:25.477Z"
   },
   {
    "duration": 22,
    "start_time": "2021-12-01T10:06:25.669Z"
   },
   {
    "duration": 28,
    "start_time": "2021-12-01T10:06:25.693Z"
   },
   {
    "duration": 16,
    "start_time": "2021-12-01T10:06:25.723Z"
   },
   {
    "duration": 20,
    "start_time": "2021-12-01T10:06:25.741Z"
   },
   {
    "duration": 5,
    "start_time": "2021-12-01T10:06:25.763Z"
   },
   {
    "duration": 12,
    "start_time": "2021-12-01T10:06:25.770Z"
   },
   {
    "duration": 36,
    "start_time": "2021-12-01T10:06:25.785Z"
   },
   {
    "duration": 13,
    "start_time": "2021-12-01T10:06:25.824Z"
   },
   {
    "duration": 18,
    "start_time": "2021-12-01T10:06:25.838Z"
   },
   {
    "duration": 13,
    "start_time": "2021-12-01T10:06:25.858Z"
   },
   {
    "duration": 35,
    "start_time": "2021-12-01T10:06:25.873Z"
   },
   {
    "duration": 16,
    "start_time": "2021-12-01T10:06:25.912Z"
   },
   {
    "duration": 10,
    "start_time": "2021-12-01T10:06:25.930Z"
   },
   {
    "duration": 19,
    "start_time": "2021-12-01T10:06:25.942Z"
   },
   {
    "duration": 11,
    "start_time": "2021-12-01T10:06:25.963Z"
   },
   {
    "duration": 465,
    "start_time": "2021-12-01T10:06:25.976Z"
   },
   {
    "duration": 10,
    "start_time": "2021-12-01T10:06:26.443Z"
   },
   {
    "duration": 10,
    "start_time": "2021-12-01T10:06:26.454Z"
   },
   {
    "duration": 17,
    "start_time": "2021-12-01T10:06:26.465Z"
   },
   {
    "duration": 36,
    "start_time": "2021-12-01T10:06:26.484Z"
   },
   {
    "duration": 4,
    "start_time": "2021-12-01T10:06:26.523Z"
   },
   {
    "duration": 9,
    "start_time": "2021-12-01T10:06:26.529Z"
   },
   {
    "duration": 24,
    "start_time": "2021-12-01T10:06:26.539Z"
   },
   {
    "duration": 22,
    "start_time": "2021-12-01T10:06:26.564Z"
   },
   {
    "duration": 28,
    "start_time": "2021-12-01T10:06:26.591Z"
   },
   {
    "duration": 9,
    "start_time": "2021-12-01T10:06:26.622Z"
   },
   {
    "duration": 21,
    "start_time": "2021-12-01T10:06:26.633Z"
   },
   {
    "duration": 7,
    "start_time": "2021-12-01T10:06:26.656Z"
   },
   {
    "duration": 7,
    "start_time": "2021-12-01T10:06:26.666Z"
   },
   {
    "duration": 40,
    "start_time": "2021-12-01T10:06:26.675Z"
   },
   {
    "duration": 34,
    "start_time": "2021-12-01T10:06:26.718Z"
   },
   {
    "duration": 2673,
    "start_time": "2021-12-01T10:06:26.754Z"
   },
   {
    "duration": 10,
    "start_time": "2021-12-01T10:06:29.429Z"
   },
   {
    "duration": 15,
    "start_time": "2021-12-01T10:06:29.441Z"
   },
   {
    "duration": 14659,
    "start_time": "2021-12-01T10:06:29.458Z"
   },
   {
    "duration": 16,
    "start_time": "2021-12-01T10:06:44.121Z"
   },
   {
    "duration": 41,
    "start_time": "2021-12-01T10:06:44.139Z"
   },
   {
    "duration": 13,
    "start_time": "2021-12-01T10:06:44.181Z"
   },
   {
    "duration": 18,
    "start_time": "2021-12-01T10:06:44.195Z"
   },
   {
    "duration": 14,
    "start_time": "2021-12-01T10:06:44.216Z"
   },
   {
    "duration": 14,
    "start_time": "2021-12-01T10:06:44.232Z"
   },
   {
    "duration": 31,
    "start_time": "2021-12-01T10:06:44.248Z"
   },
   {
    "duration": 32,
    "start_time": "2021-12-01T10:06:44.280Z"
   },
   {
    "duration": 15,
    "start_time": "2021-12-01T10:06:44.314Z"
   },
   {
    "duration": 10,
    "start_time": "2021-12-01T10:06:44.331Z"
   },
   {
    "duration": 19,
    "start_time": "2021-12-01T10:06:44.343Z"
   },
   {
    "duration": 59,
    "start_time": "2021-12-01T10:06:44.364Z"
   },
   {
    "duration": 7,
    "start_time": "2021-12-01T10:06:44.425Z"
   },
   {
    "duration": 28,
    "start_time": "2021-12-01T10:06:44.434Z"
   },
   {
    "duration": 21,
    "start_time": "2021-12-01T10:07:19.149Z"
   },
   {
    "duration": 19,
    "start_time": "2021-12-01T10:13:29.418Z"
   },
   {
    "duration": 27,
    "start_time": "2021-12-01T10:13:36.708Z"
   },
   {
    "duration": 21,
    "start_time": "2021-12-01T10:14:51.126Z"
   },
   {
    "duration": 436,
    "start_time": "2021-12-01T10:15:49.015Z"
   },
   {
    "duration": 24,
    "start_time": "2021-12-01T10:16:06.644Z"
   },
   {
    "duration": 23,
    "start_time": "2021-12-01T10:16:22.969Z"
   },
   {
    "duration": 9320,
    "start_time": "2021-12-01T10:17:10.921Z"
   },
   {
    "duration": 26,
    "start_time": "2021-12-01T10:18:01.672Z"
   },
   {
    "duration": 15531,
    "start_time": "2021-12-01T10:20:43.516Z"
   },
   {
    "duration": 22,
    "start_time": "2021-12-01T10:21:44.679Z"
   },
   {
    "duration": 26,
    "start_time": "2021-12-01T10:23:43.350Z"
   },
   {
    "duration": 384,
    "start_time": "2021-12-01T10:27:16.550Z"
   },
   {
    "duration": 392,
    "start_time": "2021-12-01T10:27:27.897Z"
   },
   {
    "duration": 25,
    "start_time": "2021-12-01T10:27:48.217Z"
   },
   {
    "duration": 25,
    "start_time": "2021-12-01T10:28:25.065Z"
   },
   {
    "duration": 693,
    "start_time": "2021-12-01T10:32:12.368Z"
   },
   {
    "duration": 63,
    "start_time": "2021-12-01T10:32:13.063Z"
   },
   {
    "duration": 21,
    "start_time": "2021-12-01T10:32:13.128Z"
   },
   {
    "duration": 21,
    "start_time": "2021-12-01T10:32:13.151Z"
   },
   {
    "duration": 21,
    "start_time": "2021-12-01T10:32:13.173Z"
   },
   {
    "duration": 26,
    "start_time": "2021-12-01T10:32:13.195Z"
   },
   {
    "duration": 5,
    "start_time": "2021-12-01T10:32:13.223Z"
   },
   {
    "duration": 29,
    "start_time": "2021-12-01T10:32:13.230Z"
   },
   {
    "duration": 14,
    "start_time": "2021-12-01T10:32:13.261Z"
   },
   {
    "duration": 25,
    "start_time": "2021-12-01T10:32:13.277Z"
   },
   {
    "duration": 12,
    "start_time": "2021-12-01T10:32:13.303Z"
   },
   {
    "duration": 10,
    "start_time": "2021-12-01T10:32:13.317Z"
   },
   {
    "duration": 13,
    "start_time": "2021-12-01T10:32:13.329Z"
   },
   {
    "duration": 9,
    "start_time": "2021-12-01T10:32:13.344Z"
   },
   {
    "duration": 10,
    "start_time": "2021-12-01T10:32:13.355Z"
   },
   {
    "duration": 20,
    "start_time": "2021-12-01T10:32:13.367Z"
   },
   {
    "duration": 5,
    "start_time": "2021-12-01T10:32:13.389Z"
   },
   {
    "duration": 379,
    "start_time": "2021-12-01T10:32:13.407Z"
   },
   {
    "duration": 23,
    "start_time": "2021-12-01T10:32:13.789Z"
   },
   {
    "duration": 8,
    "start_time": "2021-12-01T10:32:13.814Z"
   },
   {
    "duration": 13,
    "start_time": "2021-12-01T10:32:13.824Z"
   },
   {
    "duration": 8,
    "start_time": "2021-12-01T10:32:13.839Z"
   },
   {
    "duration": 4,
    "start_time": "2021-12-01T10:32:13.851Z"
   },
   {
    "duration": 12,
    "start_time": "2021-12-01T10:32:13.857Z"
   },
   {
    "duration": 42,
    "start_time": "2021-12-01T10:32:13.871Z"
   },
   {
    "duration": 9,
    "start_time": "2021-12-01T10:32:13.915Z"
   },
   {
    "duration": 12,
    "start_time": "2021-12-01T10:32:13.926Z"
   },
   {
    "duration": 5,
    "start_time": "2021-12-01T10:32:13.940Z"
   },
   {
    "duration": 24,
    "start_time": "2021-12-01T10:32:13.946Z"
   },
   {
    "duration": 5,
    "start_time": "2021-12-01T10:32:13.972Z"
   },
   {
    "duration": 32,
    "start_time": "2021-12-01T10:32:13.979Z"
   },
   {
    "duration": 21,
    "start_time": "2021-12-01T10:32:14.012Z"
   },
   {
    "duration": 31,
    "start_time": "2021-12-01T10:32:14.035Z"
   },
   {
    "duration": 2551,
    "start_time": "2021-12-01T10:32:14.068Z"
   },
   {
    "duration": 9,
    "start_time": "2021-12-01T10:32:16.620Z"
   },
   {
    "duration": 5,
    "start_time": "2021-12-01T10:32:16.632Z"
   },
   {
    "duration": 14452,
    "start_time": "2021-12-01T10:32:16.639Z"
   },
   {
    "duration": 30,
    "start_time": "2021-12-01T10:32:31.094Z"
   },
   {
    "duration": 22,
    "start_time": "2021-12-01T10:32:31.126Z"
   },
   {
    "duration": 15,
    "start_time": "2021-12-01T10:32:31.150Z"
   },
   {
    "duration": 43,
    "start_time": "2021-12-01T10:32:31.167Z"
   },
   {
    "duration": 24,
    "start_time": "2021-12-01T10:32:31.212Z"
   },
   {
    "duration": 23,
    "start_time": "2021-12-01T10:32:31.238Z"
   },
   {
    "duration": 43,
    "start_time": "2021-12-01T10:32:31.263Z"
   },
   {
    "duration": 24,
    "start_time": "2021-12-01T10:32:31.308Z"
   },
   {
    "duration": 9,
    "start_time": "2021-12-01T10:32:31.334Z"
   },
   {
    "duration": 32,
    "start_time": "2021-12-01T10:32:31.345Z"
   },
   {
    "duration": 39,
    "start_time": "2021-12-01T10:32:31.379Z"
   },
   {
    "duration": 27,
    "start_time": "2021-12-01T10:32:31.420Z"
   },
   {
    "duration": 445,
    "start_time": "2021-12-01T11:32:08.501Z"
   },
   {
    "duration": 14,
    "start_time": "2021-12-01T11:32:25.514Z"
   },
   {
    "duration": 376,
    "start_time": "2021-12-01T11:32:54.680Z"
   },
   {
    "duration": 689,
    "start_time": "2021-12-01T11:33:06.056Z"
   },
   {
    "duration": 63,
    "start_time": "2021-12-01T11:33:06.747Z"
   },
   {
    "duration": 21,
    "start_time": "2021-12-01T11:33:06.815Z"
   },
   {
    "duration": 14,
    "start_time": "2021-12-01T11:33:06.838Z"
   },
   {
    "duration": 21,
    "start_time": "2021-12-01T11:33:06.854Z"
   },
   {
    "duration": 53,
    "start_time": "2021-12-01T11:33:06.878Z"
   },
   {
    "duration": 7,
    "start_time": "2021-12-01T11:33:06.936Z"
   },
   {
    "duration": 16,
    "start_time": "2021-12-01T11:33:06.946Z"
   },
   {
    "duration": 21,
    "start_time": "2021-12-01T11:33:06.964Z"
   },
   {
    "duration": 35,
    "start_time": "2021-12-01T11:33:06.987Z"
   },
   {
    "duration": 17,
    "start_time": "2021-12-01T11:33:07.025Z"
   },
   {
    "duration": 15,
    "start_time": "2021-12-01T11:33:07.044Z"
   },
   {
    "duration": 30,
    "start_time": "2021-12-01T11:33:07.062Z"
   },
   {
    "duration": 24,
    "start_time": "2021-12-01T11:33:07.094Z"
   },
   {
    "duration": 8,
    "start_time": "2021-12-01T11:33:07.121Z"
   },
   {
    "duration": 12,
    "start_time": "2021-12-01T11:33:07.131Z"
   },
   {
    "duration": 24,
    "start_time": "2021-12-01T11:33:07.145Z"
   },
   {
    "duration": 636,
    "start_time": "2021-12-01T11:33:07.171Z"
   },
   {
    "duration": 13,
    "start_time": "2021-12-01T11:33:07.809Z"
   },
   {
    "duration": 11,
    "start_time": "2021-12-01T11:33:07.825Z"
   },
   {
    "duration": 19,
    "start_time": "2021-12-01T11:33:07.838Z"
   },
   {
    "duration": 8,
    "start_time": "2021-12-01T11:33:07.863Z"
   },
   {
    "duration": 5,
    "start_time": "2021-12-01T11:33:07.907Z"
   },
   {
    "duration": 11,
    "start_time": "2021-12-01T11:33:07.914Z"
   },
   {
    "duration": 26,
    "start_time": "2021-12-01T11:33:07.928Z"
   },
   {
    "duration": 13,
    "start_time": "2021-12-01T11:33:07.956Z"
   },
   {
    "duration": 12,
    "start_time": "2021-12-01T11:33:07.972Z"
   },
   {
    "duration": 25,
    "start_time": "2021-12-01T11:33:07.985Z"
   },
   {
    "duration": 20,
    "start_time": "2021-12-01T11:33:08.012Z"
   },
   {
    "duration": 8,
    "start_time": "2021-12-01T11:33:08.034Z"
   },
   {
    "duration": 13,
    "start_time": "2021-12-01T11:33:08.044Z"
   },
   {
    "duration": 18,
    "start_time": "2021-12-01T11:33:08.058Z"
   },
   {
    "duration": 56,
    "start_time": "2021-12-01T11:33:08.078Z"
   },
   {
    "duration": 2552,
    "start_time": "2021-12-01T11:33:08.136Z"
   },
   {
    "duration": 9,
    "start_time": "2021-12-01T11:33:10.690Z"
   },
   {
    "duration": 10,
    "start_time": "2021-12-01T11:33:10.707Z"
   },
   {
    "duration": 15972,
    "start_time": "2021-12-01T11:33:10.719Z"
   },
   {
    "duration": 34,
    "start_time": "2021-12-01T11:33:26.693Z"
   },
   {
    "duration": 26,
    "start_time": "2021-12-01T11:33:26.729Z"
   },
   {
    "duration": 17,
    "start_time": "2021-12-01T11:33:26.758Z"
   },
   {
    "duration": 44,
    "start_time": "2021-12-01T11:33:26.777Z"
   },
   {
    "duration": 10,
    "start_time": "2021-12-01T11:33:26.824Z"
   },
   {
    "duration": 9,
    "start_time": "2021-12-01T11:33:26.836Z"
   },
   {
    "duration": 40,
    "start_time": "2021-12-01T11:33:26.847Z"
   },
   {
    "duration": 39,
    "start_time": "2021-12-01T11:33:26.907Z"
   },
   {
    "duration": 11,
    "start_time": "2021-12-01T11:33:26.948Z"
   },
   {
    "duration": 47,
    "start_time": "2021-12-01T11:33:26.961Z"
   },
   {
    "duration": 34,
    "start_time": "2021-12-01T11:33:27.011Z"
   },
   {
    "duration": 37,
    "start_time": "2021-12-01T11:33:27.047Z"
   }
  ],
  "kernelspec": {
   "display_name": "Python 3 (ipykernel)",
   "language": "python",
   "name": "python3"
  },
  "language_info": {
   "codemirror_mode": {
    "name": "ipython",
    "version": 3
   },
   "file_extension": ".py",
   "mimetype": "text/x-python",
   "name": "python",
   "nbconvert_exporter": "python",
   "pygments_lexer": "ipython3",
   "version": "3.9.7"
  },
  "toc": {
   "base_numbering": 1,
   "nav_menu": {},
   "number_sections": true,
   "sideBar": true,
   "skip_h1_title": true,
   "title_cell": "Table of Contents",
   "title_sidebar": "Contents",
   "toc_cell": false,
   "toc_position": {},
   "toc_section_display": true,
   "toc_window_display": true
  }
 },
 "nbformat": 4,
 "nbformat_minor": 2
}
