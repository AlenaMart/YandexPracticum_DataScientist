{
 "cells": [
  {
   "cell_type": "markdown",
   "metadata": {},
   "source": [
    "#  Исследование закономерностей, определяющих успешность компьютерных игр"
   ]
  },
  {
   "cell_type": "markdown",
   "metadata": {},
   "source": [
    "Интернет-магазин «Стримчик» продаёт по всему миру компьютерные игры. Из открытых источников доступны исторические данные о продажах игр, оценки пользователей и экспертов, жанры и платформы (например, Xbox или PlayStation). Чтобы сделать ставку на потенциально популярный продукт и спланировать рекламные кампании необходимо выявить определяющие успешность игры закономерности."
   ]
  },
  {
   "cell_type": "markdown",
   "metadata": {},
   "source": [
    "## Импорт библиотек"
   ]
  },
  {
   "cell_type": "code",
   "execution_count": 1,
   "metadata": {},
   "outputs": [],
   "source": [
    "import pandas as pd\n",
    "from scipy import stats as st\n",
    "import numpy as np\n",
    "\n",
    "import matplotlib.pyplot as plt\n",
    "import seaborn as sns"
   ]
  },
  {
   "cell_type": "markdown",
   "metadata": {},
   "source": [
    "## Изучение данных из файла"
   ]
  },
  {
   "cell_type": "code",
   "execution_count": 2,
   "metadata": {},
   "outputs": [],
   "source": [
    "# Прочитаем файл games.csv с информацией об играх и сохраним его в переменной data\n",
    "data = pd.read_csv('/datasets/games.csv')"
   ]
  },
  {
   "cell_type": "code",
   "execution_count": 3,
   "metadata": {
    "scrolled": true
   },
   "outputs": [
    {
     "data": {
      "text/html": [
       "<div>\n",
       "<style scoped>\n",
       "    .dataframe tbody tr th:only-of-type {\n",
       "        vertical-align: middle;\n",
       "    }\n",
       "\n",
       "    .dataframe tbody tr th {\n",
       "        vertical-align: top;\n",
       "    }\n",
       "\n",
       "    .dataframe thead th {\n",
       "        text-align: right;\n",
       "    }\n",
       "</style>\n",
       "<table border=\"1\" class=\"dataframe\">\n",
       "  <thead>\n",
       "    <tr style=\"text-align: right;\">\n",
       "      <th></th>\n",
       "      <th>Name</th>\n",
       "      <th>Platform</th>\n",
       "      <th>Year_of_Release</th>\n",
       "      <th>Genre</th>\n",
       "      <th>NA_sales</th>\n",
       "      <th>EU_sales</th>\n",
       "      <th>JP_sales</th>\n",
       "      <th>Other_sales</th>\n",
       "      <th>Critic_Score</th>\n",
       "      <th>User_Score</th>\n",
       "      <th>Rating</th>\n",
       "    </tr>\n",
       "  </thead>\n",
       "  <tbody>\n",
       "    <tr>\n",
       "      <td>0</td>\n",
       "      <td>Wii Sports</td>\n",
       "      <td>Wii</td>\n",
       "      <td>2006.0</td>\n",
       "      <td>Sports</td>\n",
       "      <td>41.36</td>\n",
       "      <td>28.96</td>\n",
       "      <td>3.77</td>\n",
       "      <td>8.45</td>\n",
       "      <td>76.0</td>\n",
       "      <td>8</td>\n",
       "      <td>E</td>\n",
       "    </tr>\n",
       "    <tr>\n",
       "      <td>1</td>\n",
       "      <td>Super Mario Bros.</td>\n",
       "      <td>NES</td>\n",
       "      <td>1985.0</td>\n",
       "      <td>Platform</td>\n",
       "      <td>29.08</td>\n",
       "      <td>3.58</td>\n",
       "      <td>6.81</td>\n",
       "      <td>0.77</td>\n",
       "      <td>NaN</td>\n",
       "      <td>NaN</td>\n",
       "      <td>NaN</td>\n",
       "    </tr>\n",
       "    <tr>\n",
       "      <td>2</td>\n",
       "      <td>Mario Kart Wii</td>\n",
       "      <td>Wii</td>\n",
       "      <td>2008.0</td>\n",
       "      <td>Racing</td>\n",
       "      <td>15.68</td>\n",
       "      <td>12.76</td>\n",
       "      <td>3.79</td>\n",
       "      <td>3.29</td>\n",
       "      <td>82.0</td>\n",
       "      <td>8.3</td>\n",
       "      <td>E</td>\n",
       "    </tr>\n",
       "    <tr>\n",
       "      <td>3</td>\n",
       "      <td>Wii Sports Resort</td>\n",
       "      <td>Wii</td>\n",
       "      <td>2009.0</td>\n",
       "      <td>Sports</td>\n",
       "      <td>15.61</td>\n",
       "      <td>10.93</td>\n",
       "      <td>3.28</td>\n",
       "      <td>2.95</td>\n",
       "      <td>80.0</td>\n",
       "      <td>8</td>\n",
       "      <td>E</td>\n",
       "    </tr>\n",
       "    <tr>\n",
       "      <td>4</td>\n",
       "      <td>Pokemon Red/Pokemon Blue</td>\n",
       "      <td>GB</td>\n",
       "      <td>1996.0</td>\n",
       "      <td>Role-Playing</td>\n",
       "      <td>11.27</td>\n",
       "      <td>8.89</td>\n",
       "      <td>10.22</td>\n",
       "      <td>1.00</td>\n",
       "      <td>NaN</td>\n",
       "      <td>NaN</td>\n",
       "      <td>NaN</td>\n",
       "    </tr>\n",
       "  </tbody>\n",
       "</table>\n",
       "</div>"
      ],
      "text/plain": [
       "                       Name Platform  Year_of_Release         Genre  NA_sales  \\\n",
       "0                Wii Sports      Wii           2006.0        Sports     41.36   \n",
       "1         Super Mario Bros.      NES           1985.0      Platform     29.08   \n",
       "2            Mario Kart Wii      Wii           2008.0        Racing     15.68   \n",
       "3         Wii Sports Resort      Wii           2009.0        Sports     15.61   \n",
       "4  Pokemon Red/Pokemon Blue       GB           1996.0  Role-Playing     11.27   \n",
       "\n",
       "   EU_sales  JP_sales  Other_sales  Critic_Score User_Score Rating  \n",
       "0     28.96      3.77         8.45          76.0          8      E  \n",
       "1      3.58      6.81         0.77           NaN        NaN    NaN  \n",
       "2     12.76      3.79         3.29          82.0        8.3      E  \n",
       "3     10.93      3.28         2.95          80.0          8      E  \n",
       "4      8.89     10.22         1.00           NaN        NaN    NaN  "
      ]
     },
     "execution_count": 3,
     "metadata": {},
     "output_type": "execute_result"
    }
   ],
   "source": [
    "data.head()"
   ]
  },
  {
   "cell_type": "code",
   "execution_count": 4,
   "metadata": {
    "scrolled": false
   },
   "outputs": [
    {
     "name": "stdout",
     "output_type": "stream",
     "text": [
      "<class 'pandas.core.frame.DataFrame'>\n",
      "RangeIndex: 16715 entries, 0 to 16714\n",
      "Data columns (total 11 columns):\n",
      "Name               16713 non-null object\n",
      "Platform           16715 non-null object\n",
      "Year_of_Release    16446 non-null float64\n",
      "Genre              16713 non-null object\n",
      "NA_sales           16715 non-null float64\n",
      "EU_sales           16715 non-null float64\n",
      "JP_sales           16715 non-null float64\n",
      "Other_sales        16715 non-null float64\n",
      "Critic_Score       8137 non-null float64\n",
      "User_Score         10014 non-null object\n",
      "Rating             9949 non-null object\n",
      "dtypes: float64(6), object(5)\n",
      "memory usage: 1.4+ MB\n"
     ]
    }
   ],
   "source": [
    "data.info()"
   ]
  },
  {
   "cell_type": "markdown",
   "metadata": {},
   "source": [
    "В таблице 11 столбцов и 16715 записей.\n",
    "\n",
    "Согласно документации к данным таблица содержит следующие столбцы:\n",
    "\n",
    "* `Name` — название игры\n",
    "* `Platform` — платформа\n",
    "* `Year_of_Release` — год выпуска\n",
    "* `Genre` — жанр игры\n",
    "* `NA_sales` — продажи в Северной Америке (миллионы проданных копий)\n",
    "* `EU_sales` — продажи в Европе (миллионы проданных копий)\n",
    "* `JP_sales` — продажи в Японии (миллионы проданных копий)\n",
    "* `Other_sales` — продажи в других странах (миллионы проданных копий)\n",
    "* `Critic_Score` — оценка критиков (максимум 100)\n",
    "* `User_Score` — оценка пользователей (максимум 10)\n",
    "* `Rating` — рейтинг от организации ESRB (англ. Entertainment Software Rating Board). Эта ассоциация определяет рейтинг компьютерных игр и присваивает им подходящую возрастную категорию."
   ]
  },
  {
   "cell_type": "markdown",
   "metadata": {},
   "source": [
    "### Вывод"
   ]
  },
  {
   "cell_type": "markdown",
   "metadata": {},
   "source": [
    "Столбцы названы с нарушением стиля - необходимо привести их к нижнему регистру.\n",
    "\n",
    "Количество значений в столбцах различается. Значит, в данных есть пропущенные значения - в столбцах `Name`, `Year_of_Release`, `Genre`, `Critic_Score`, `User_Score`, `Rating`.\n",
    "\n",
    "Необходимо заменить тип данных в столбцах `Year_of_Release` и `Critic_Score` c float на int и в столбце `User_Score` с object на float.\n",
    "\n",
    "Чтобы двигаться дальше, нужно устранить проблемы в данных."
   ]
  },
  {
   "cell_type": "markdown",
   "metadata": {},
   "source": [
    "## Предобработка данных"
   ]
  },
  {
   "cell_type": "markdown",
   "metadata": {},
   "source": [
    "### Переименование столбцов"
   ]
  },
  {
   "cell_type": "markdown",
   "metadata": {},
   "source": [
    "Переименуем столбцы в соответствии с правилами змеиного стиля - переведем все названия в нижний регистр."
   ]
  },
  {
   "cell_type": "code",
   "execution_count": 5,
   "metadata": {},
   "outputs": [],
   "source": [
    "data.columns = data.columns.str.lower()"
   ]
  },
  {
   "cell_type": "markdown",
   "metadata": {},
   "source": [
    "Проверим названия столбцов."
   ]
  },
  {
   "cell_type": "code",
   "execution_count": 6,
   "metadata": {
    "scrolled": true
   },
   "outputs": [
    {
     "data": {
      "text/plain": [
       "Index(['name', 'platform', 'year_of_release', 'genre', 'na_sales', 'eu_sales',\n",
       "       'jp_sales', 'other_sales', 'critic_score', 'user_score', 'rating'],\n",
       "      dtype='object')"
      ]
     },
     "execution_count": 6,
     "metadata": {},
     "output_type": "execute_result"
    }
   ],
   "source": [
    "data.columns"
   ]
  },
  {
   "cell_type": "markdown",
   "metadata": {},
   "source": [
    "Теперь столбцы названы правильно."
   ]
  },
  {
   "cell_type": "markdown",
   "metadata": {},
   "source": [
    "### Заполнение пропусков"
   ]
  },
  {
   "cell_type": "markdown",
   "metadata": {},
   "source": [
    "Количество значений в столбцах различается. Значит, в данных есть пропущенные значения."
   ]
  },
  {
   "cell_type": "code",
   "execution_count": 7,
   "metadata": {
    "scrolled": true
   },
   "outputs": [
    {
     "data": {
      "text/plain": [
       "name                  2\n",
       "platform              0\n",
       "year_of_release     269\n",
       "genre                 2\n",
       "na_sales              0\n",
       "eu_sales              0\n",
       "jp_sales              0\n",
       "other_sales           0\n",
       "critic_score       8578\n",
       "user_score         6701\n",
       "rating             6766\n",
       "dtype: int64"
      ]
     },
     "execution_count": 7,
     "metadata": {},
     "output_type": "execute_result"
    }
   ],
   "source": [
    "data.isna().sum()"
   ]
  },
  {
   "cell_type": "markdown",
   "metadata": {},
   "source": [
    "Пропуски есть в столбцах `name`, `year_of_release`, `genre`, `critic_score`, `user_score`, `rating`. Посмотрим, сколько пропусков в процентах."
   ]
  },
  {
   "cell_type": "code",
   "execution_count": 8,
   "metadata": {
    "scrolled": true
   },
   "outputs": [
    {
     "data": {
      "text/plain": [
       "name                0.0\n",
       "platform            0.0\n",
       "year_of_release     1.6\n",
       "genre               0.0\n",
       "na_sales            0.0\n",
       "eu_sales            0.0\n",
       "jp_sales            0.0\n",
       "other_sales         0.0\n",
       "critic_score       51.3\n",
       "user_score         40.1\n",
       "rating             40.5\n",
       "dtype: float64"
      ]
     },
     "execution_count": 8,
     "metadata": {},
     "output_type": "execute_result"
    }
   ],
   "source": [
    "(data.isna().sum()/data.shape[0]*100).round(1)"
   ]
  },
  {
   "cell_type": "markdown",
   "metadata": {},
   "source": [
    "Приступим к заполнению пропусков. Рассмотрим пропуски в столбце `name`"
   ]
  },
  {
   "cell_type": "code",
   "execution_count": 9,
   "metadata": {
    "scrolled": false
   },
   "outputs": [
    {
     "data": {
      "text/html": [
       "<div>\n",
       "<style scoped>\n",
       "    .dataframe tbody tr th:only-of-type {\n",
       "        vertical-align: middle;\n",
       "    }\n",
       "\n",
       "    .dataframe tbody tr th {\n",
       "        vertical-align: top;\n",
       "    }\n",
       "\n",
       "    .dataframe thead th {\n",
       "        text-align: right;\n",
       "    }\n",
       "</style>\n",
       "<table border=\"1\" class=\"dataframe\">\n",
       "  <thead>\n",
       "    <tr style=\"text-align: right;\">\n",
       "      <th></th>\n",
       "      <th>name</th>\n",
       "      <th>platform</th>\n",
       "      <th>year_of_release</th>\n",
       "      <th>genre</th>\n",
       "      <th>na_sales</th>\n",
       "      <th>eu_sales</th>\n",
       "      <th>jp_sales</th>\n",
       "      <th>other_sales</th>\n",
       "      <th>critic_score</th>\n",
       "      <th>user_score</th>\n",
       "      <th>rating</th>\n",
       "    </tr>\n",
       "  </thead>\n",
       "  <tbody>\n",
       "    <tr>\n",
       "      <td>659</td>\n",
       "      <td>NaN</td>\n",
       "      <td>GEN</td>\n",
       "      <td>1993.0</td>\n",
       "      <td>NaN</td>\n",
       "      <td>1.78</td>\n",
       "      <td>0.53</td>\n",
       "      <td>0.00</td>\n",
       "      <td>0.08</td>\n",
       "      <td>NaN</td>\n",
       "      <td>NaN</td>\n",
       "      <td>NaN</td>\n",
       "    </tr>\n",
       "    <tr>\n",
       "      <td>14244</td>\n",
       "      <td>NaN</td>\n",
       "      <td>GEN</td>\n",
       "      <td>1993.0</td>\n",
       "      <td>NaN</td>\n",
       "      <td>0.00</td>\n",
       "      <td>0.00</td>\n",
       "      <td>0.03</td>\n",
       "      <td>0.00</td>\n",
       "      <td>NaN</td>\n",
       "      <td>NaN</td>\n",
       "      <td>NaN</td>\n",
       "    </tr>\n",
       "  </tbody>\n",
       "</table>\n",
       "</div>"
      ],
      "text/plain": [
       "      name platform  year_of_release genre  na_sales  eu_sales  jp_sales  \\\n",
       "659    NaN      GEN           1993.0   NaN      1.78      0.53      0.00   \n",
       "14244  NaN      GEN           1993.0   NaN      0.00      0.00      0.03   \n",
       "\n",
       "       other_sales  critic_score user_score rating  \n",
       "659           0.08           NaN        NaN    NaN  \n",
       "14244         0.00           NaN        NaN    NaN  "
      ]
     },
     "execution_count": 9,
     "metadata": {},
     "output_type": "execute_result"
    }
   ],
   "source": [
    "data[data['name'].isna()]"
   ]
  },
  {
   "cell_type": "markdown",
   "metadata": {},
   "source": [
    "Два пропуска в столбце `name` принадлежат двум старым играм на платформе Sega Mega Drive, она же Sega Genesis, в этих же записях отсутствуют значения в столбце `genre`. Судя по одному году выпуска и записям в столбцах с продажами, это могут быть две записи об одной и той же игре. Скорее всего эти пропуски появились в связи с потерей данных при хранении, либо ошибкой при сборе, так как данные очень старые. В данном случае есть два варианта устранения пропуска - заменить название на 'unknown', либо полностью удалить эти строки, так как игры на платформе Sega Genesis от 1993 года для 2017 года уже не актуальны и не будут использваться при анализе. Выберем удаление."
   ]
  },
  {
   "cell_type": "code",
   "execution_count": 10,
   "metadata": {},
   "outputs": [],
   "source": [
    "data.dropna(subset=['name'], inplace=True)\n",
    "data.reset_index(drop=True, inplace=True)"
   ]
  },
  {
   "cell_type": "code",
   "execution_count": 11,
   "metadata": {
    "scrolled": true
   },
   "outputs": [
    {
     "data": {
      "text/html": [
       "<div>\n",
       "<style scoped>\n",
       "    .dataframe tbody tr th:only-of-type {\n",
       "        vertical-align: middle;\n",
       "    }\n",
       "\n",
       "    .dataframe tbody tr th {\n",
       "        vertical-align: top;\n",
       "    }\n",
       "\n",
       "    .dataframe thead th {\n",
       "        text-align: right;\n",
       "    }\n",
       "</style>\n",
       "<table border=\"1\" class=\"dataframe\">\n",
       "  <thead>\n",
       "    <tr style=\"text-align: right;\">\n",
       "      <th></th>\n",
       "      <th>name</th>\n",
       "      <th>platform</th>\n",
       "      <th>year_of_release</th>\n",
       "      <th>genre</th>\n",
       "      <th>na_sales</th>\n",
       "      <th>eu_sales</th>\n",
       "      <th>jp_sales</th>\n",
       "      <th>other_sales</th>\n",
       "      <th>critic_score</th>\n",
       "      <th>user_score</th>\n",
       "      <th>rating</th>\n",
       "    </tr>\n",
       "  </thead>\n",
       "  <tbody>\n",
       "  </tbody>\n",
       "</table>\n",
       "</div>"
      ],
      "text/plain": [
       "Empty DataFrame\n",
       "Columns: [name, platform, year_of_release, genre, na_sales, eu_sales, jp_sales, other_sales, critic_score, user_score, rating]\n",
       "Index: []"
      ]
     },
     "execution_count": 11,
     "metadata": {},
     "output_type": "execute_result"
    }
   ],
   "source": [
    "data[data['name'].isna()]"
   ]
  },
  {
   "cell_type": "code",
   "execution_count": 12,
   "metadata": {
    "scrolled": false
   },
   "outputs": [
    {
     "data": {
      "text/html": [
       "<div>\n",
       "<style scoped>\n",
       "    .dataframe tbody tr th:only-of-type {\n",
       "        vertical-align: middle;\n",
       "    }\n",
       "\n",
       "    .dataframe tbody tr th {\n",
       "        vertical-align: top;\n",
       "    }\n",
       "\n",
       "    .dataframe thead th {\n",
       "        text-align: right;\n",
       "    }\n",
       "</style>\n",
       "<table border=\"1\" class=\"dataframe\">\n",
       "  <thead>\n",
       "    <tr style=\"text-align: right;\">\n",
       "      <th></th>\n",
       "      <th>name</th>\n",
       "      <th>platform</th>\n",
       "      <th>year_of_release</th>\n",
       "      <th>genre</th>\n",
       "      <th>na_sales</th>\n",
       "      <th>eu_sales</th>\n",
       "      <th>jp_sales</th>\n",
       "      <th>other_sales</th>\n",
       "      <th>critic_score</th>\n",
       "      <th>user_score</th>\n",
       "      <th>rating</th>\n",
       "    </tr>\n",
       "  </thead>\n",
       "  <tbody>\n",
       "  </tbody>\n",
       "</table>\n",
       "</div>"
      ],
      "text/plain": [
       "Empty DataFrame\n",
       "Columns: [name, platform, year_of_release, genre, na_sales, eu_sales, jp_sales, other_sales, critic_score, user_score, rating]\n",
       "Index: []"
      ]
     },
     "execution_count": 12,
     "metadata": {},
     "output_type": "execute_result"
    }
   ],
   "source": [
    "data[data['genre'].isna()]"
   ]
  },
  {
   "cell_type": "markdown",
   "metadata": {},
   "source": [
    "Переходим к следующему столбцу. Изучим пропуски в столбце `year_of_release`."
   ]
  },
  {
   "cell_type": "code",
   "execution_count": 13,
   "metadata": {},
   "outputs": [
    {
     "data": {
      "text/plain": [
       "269"
      ]
     },
     "execution_count": 13,
     "metadata": {},
     "output_type": "execute_result"
    }
   ],
   "source": [
    "data['year_of_release'].isna().sum()"
   ]
  },
  {
   "cell_type": "code",
   "execution_count": 14,
   "metadata": {
    "scrolled": true
   },
   "outputs": [
    {
     "data": {
      "text/html": [
       "<div>\n",
       "<style scoped>\n",
       "    .dataframe tbody tr th:only-of-type {\n",
       "        vertical-align: middle;\n",
       "    }\n",
       "\n",
       "    .dataframe tbody tr th {\n",
       "        vertical-align: top;\n",
       "    }\n",
       "\n",
       "    .dataframe thead th {\n",
       "        text-align: right;\n",
       "    }\n",
       "</style>\n",
       "<table border=\"1\" class=\"dataframe\">\n",
       "  <thead>\n",
       "    <tr style=\"text-align: right;\">\n",
       "      <th></th>\n",
       "      <th>name</th>\n",
       "      <th>platform</th>\n",
       "      <th>year_of_release</th>\n",
       "      <th>genre</th>\n",
       "      <th>na_sales</th>\n",
       "      <th>eu_sales</th>\n",
       "      <th>jp_sales</th>\n",
       "      <th>other_sales</th>\n",
       "      <th>critic_score</th>\n",
       "      <th>user_score</th>\n",
       "      <th>rating</th>\n",
       "    </tr>\n",
       "  </thead>\n",
       "  <tbody>\n",
       "    <tr>\n",
       "      <td>183</td>\n",
       "      <td>Madden NFL 2004</td>\n",
       "      <td>PS2</td>\n",
       "      <td>NaN</td>\n",
       "      <td>Sports</td>\n",
       "      <td>4.26</td>\n",
       "      <td>0.26</td>\n",
       "      <td>0.01</td>\n",
       "      <td>0.71</td>\n",
       "      <td>94.0</td>\n",
       "      <td>8.5</td>\n",
       "      <td>E</td>\n",
       "    </tr>\n",
       "    <tr>\n",
       "      <td>377</td>\n",
       "      <td>FIFA Soccer 2004</td>\n",
       "      <td>PS2</td>\n",
       "      <td>NaN</td>\n",
       "      <td>Sports</td>\n",
       "      <td>0.59</td>\n",
       "      <td>2.36</td>\n",
       "      <td>0.04</td>\n",
       "      <td>0.51</td>\n",
       "      <td>84.0</td>\n",
       "      <td>6.4</td>\n",
       "      <td>E</td>\n",
       "    </tr>\n",
       "    <tr>\n",
       "      <td>456</td>\n",
       "      <td>LEGO Batman: The Videogame</td>\n",
       "      <td>Wii</td>\n",
       "      <td>NaN</td>\n",
       "      <td>Action</td>\n",
       "      <td>1.80</td>\n",
       "      <td>0.97</td>\n",
       "      <td>0.00</td>\n",
       "      <td>0.29</td>\n",
       "      <td>74.0</td>\n",
       "      <td>7.9</td>\n",
       "      <td>E10+</td>\n",
       "    </tr>\n",
       "    <tr>\n",
       "      <td>475</td>\n",
       "      <td>wwe Smackdown vs. Raw 2006</td>\n",
       "      <td>PS2</td>\n",
       "      <td>NaN</td>\n",
       "      <td>Fighting</td>\n",
       "      <td>1.57</td>\n",
       "      <td>1.02</td>\n",
       "      <td>0.00</td>\n",
       "      <td>0.41</td>\n",
       "      <td>NaN</td>\n",
       "      <td>NaN</td>\n",
       "      <td>NaN</td>\n",
       "    </tr>\n",
       "    <tr>\n",
       "      <td>609</td>\n",
       "      <td>Space Invaders</td>\n",
       "      <td>2600</td>\n",
       "      <td>NaN</td>\n",
       "      <td>Shooter</td>\n",
       "      <td>2.36</td>\n",
       "      <td>0.14</td>\n",
       "      <td>0.00</td>\n",
       "      <td>0.03</td>\n",
       "      <td>NaN</td>\n",
       "      <td>NaN</td>\n",
       "      <td>NaN</td>\n",
       "    </tr>\n",
       "  </tbody>\n",
       "</table>\n",
       "</div>"
      ],
      "text/plain": [
       "                           name platform  year_of_release     genre  na_sales  \\\n",
       "183             Madden NFL 2004      PS2              NaN    Sports      4.26   \n",
       "377            FIFA Soccer 2004      PS2              NaN    Sports      0.59   \n",
       "456  LEGO Batman: The Videogame      Wii              NaN    Action      1.80   \n",
       "475  wwe Smackdown vs. Raw 2006      PS2              NaN  Fighting      1.57   \n",
       "609              Space Invaders     2600              NaN   Shooter      2.36   \n",
       "\n",
       "     eu_sales  jp_sales  other_sales  critic_score user_score rating  \n",
       "183      0.26      0.01         0.71          94.0        8.5      E  \n",
       "377      2.36      0.04         0.51          84.0        6.4      E  \n",
       "456      0.97      0.00         0.29          74.0        7.9   E10+  \n",
       "475      1.02      0.00         0.41           NaN        NaN    NaN  \n",
       "609      0.14      0.00         0.03           NaN        NaN    NaN  "
      ]
     },
     "execution_count": 14,
     "metadata": {},
     "output_type": "execute_result"
    }
   ],
   "source": [
    "data[data['year_of_release'].isna()].head()"
   ]
  },
  {
   "cell_type": "markdown",
   "metadata": {},
   "source": [
    "Можно увидеть, что в названии некоторых игр стоит год - как правило игра выпускается примерно в том же году, который стоит в названии. Можно использовать это для заполнения пропусков.\n",
    "\n",
    "Если год полностью прописан в названии - ставим его в колонку `year_of_release`."
   ]
  },
  {
   "cell_type": "code",
   "execution_count": 15,
   "metadata": {},
   "outputs": [
    {
     "data": {
      "text/html": [
       "<div>\n",
       "<style scoped>\n",
       "    .dataframe tbody tr th:only-of-type {\n",
       "        vertical-align: middle;\n",
       "    }\n",
       "\n",
       "    .dataframe tbody tr th {\n",
       "        vertical-align: top;\n",
       "    }\n",
       "\n",
       "    .dataframe thead th {\n",
       "        text-align: right;\n",
       "    }\n",
       "</style>\n",
       "<table border=\"1\" class=\"dataframe\">\n",
       "  <thead>\n",
       "    <tr style=\"text-align: right;\">\n",
       "      <th></th>\n",
       "      <th>name</th>\n",
       "      <th>platform</th>\n",
       "      <th>year_of_release</th>\n",
       "      <th>genre</th>\n",
       "      <th>na_sales</th>\n",
       "      <th>eu_sales</th>\n",
       "      <th>jp_sales</th>\n",
       "      <th>other_sales</th>\n",
       "      <th>critic_score</th>\n",
       "      <th>user_score</th>\n",
       "      <th>rating</th>\n",
       "    </tr>\n",
       "  </thead>\n",
       "  <tbody>\n",
       "    <tr>\n",
       "      <td>183</td>\n",
       "      <td>Madden NFL 2004</td>\n",
       "      <td>PS2</td>\n",
       "      <td>NaN</td>\n",
       "      <td>Sports</td>\n",
       "      <td>4.26</td>\n",
       "      <td>0.26</td>\n",
       "      <td>0.01</td>\n",
       "      <td>0.71</td>\n",
       "      <td>94.0</td>\n",
       "      <td>8.5</td>\n",
       "      <td>E</td>\n",
       "    </tr>\n",
       "    <tr>\n",
       "      <td>377</td>\n",
       "      <td>FIFA Soccer 2004</td>\n",
       "      <td>PS2</td>\n",
       "      <td>NaN</td>\n",
       "      <td>Sports</td>\n",
       "      <td>0.59</td>\n",
       "      <td>2.36</td>\n",
       "      <td>0.04</td>\n",
       "      <td>0.51</td>\n",
       "      <td>84.0</td>\n",
       "      <td>6.4</td>\n",
       "      <td>E</td>\n",
       "    </tr>\n",
       "    <tr>\n",
       "      <td>475</td>\n",
       "      <td>wwe Smackdown vs. Raw 2006</td>\n",
       "      <td>PS2</td>\n",
       "      <td>NaN</td>\n",
       "      <td>Fighting</td>\n",
       "      <td>1.57</td>\n",
       "      <td>1.02</td>\n",
       "      <td>0.00</td>\n",
       "      <td>0.41</td>\n",
       "      <td>NaN</td>\n",
       "      <td>NaN</td>\n",
       "      <td>NaN</td>\n",
       "    </tr>\n",
       "    <tr>\n",
       "      <td>1649</td>\n",
       "      <td>NASCAR Thunder 2003</td>\n",
       "      <td>PS2</td>\n",
       "      <td>NaN</td>\n",
       "      <td>Racing</td>\n",
       "      <td>0.60</td>\n",
       "      <td>0.46</td>\n",
       "      <td>0.00</td>\n",
       "      <td>0.16</td>\n",
       "      <td>84.0</td>\n",
       "      <td>8.7</td>\n",
       "      <td>E</td>\n",
       "    </tr>\n",
       "    <tr>\n",
       "      <td>2571</td>\n",
       "      <td>PES 2009: Pro Evolution Soccer</td>\n",
       "      <td>PSP</td>\n",
       "      <td>NaN</td>\n",
       "      <td>Sports</td>\n",
       "      <td>0.04</td>\n",
       "      <td>0.33</td>\n",
       "      <td>0.26</td>\n",
       "      <td>0.17</td>\n",
       "      <td>NaN</td>\n",
       "      <td>NaN</td>\n",
       "      <td>NaN</td>\n",
       "    </tr>\n",
       "  </tbody>\n",
       "</table>\n",
       "</div>"
      ],
      "text/plain": [
       "                                name platform  year_of_release     genre  \\\n",
       "183                  Madden NFL 2004      PS2              NaN    Sports   \n",
       "377                 FIFA Soccer 2004      PS2              NaN    Sports   \n",
       "475       wwe Smackdown vs. Raw 2006      PS2              NaN  Fighting   \n",
       "1649             NASCAR Thunder 2003      PS2              NaN    Racing   \n",
       "2571  PES 2009: Pro Evolution Soccer      PSP              NaN    Sports   \n",
       "\n",
       "      na_sales  eu_sales  jp_sales  other_sales  critic_score user_score  \\\n",
       "183       4.26      0.26      0.01         0.71          94.0        8.5   \n",
       "377       0.59      2.36      0.04         0.51          84.0        6.4   \n",
       "475       1.57      1.02      0.00         0.41           NaN        NaN   \n",
       "1649      0.60      0.46      0.00         0.16          84.0        8.7   \n",
       "2571      0.04      0.33      0.26         0.17           NaN        NaN   \n",
       "\n",
       "     rating  \n",
       "183       E  \n",
       "377       E  \n",
       "475     NaN  \n",
       "1649      E  \n",
       "2571    NaN  "
      ]
     },
     "execution_count": 15,
     "metadata": {},
     "output_type": "execute_result"
    }
   ],
   "source": [
    "data[(data['year_of_release'].isna()) & (\n",
    "    data['name'].str.contains('20\\d\\d', regex=True))].head()"
   ]
  },
  {
   "cell_type": "code",
   "execution_count": 16,
   "metadata": {},
   "outputs": [],
   "source": [
    "data['year_of_release'].fillna(data['name'].str.extract(\n",
    "    r'(20\\d\\d)', expand=False).astype('float'), inplace=True)"
   ]
  },
  {
   "cell_type": "code",
   "execution_count": 17,
   "metadata": {},
   "outputs": [
    {
     "data": {
      "text/html": [
       "<div>\n",
       "<style scoped>\n",
       "    .dataframe tbody tr th:only-of-type {\n",
       "        vertical-align: middle;\n",
       "    }\n",
       "\n",
       "    .dataframe tbody tr th {\n",
       "        vertical-align: top;\n",
       "    }\n",
       "\n",
       "    .dataframe thead th {\n",
       "        text-align: right;\n",
       "    }\n",
       "</style>\n",
       "<table border=\"1\" class=\"dataframe\">\n",
       "  <thead>\n",
       "    <tr style=\"text-align: right;\">\n",
       "      <th></th>\n",
       "      <th>name</th>\n",
       "      <th>platform</th>\n",
       "      <th>year_of_release</th>\n",
       "      <th>genre</th>\n",
       "      <th>na_sales</th>\n",
       "      <th>eu_sales</th>\n",
       "      <th>jp_sales</th>\n",
       "      <th>other_sales</th>\n",
       "      <th>critic_score</th>\n",
       "      <th>user_score</th>\n",
       "      <th>rating</th>\n",
       "    </tr>\n",
       "  </thead>\n",
       "  <tbody>\n",
       "  </tbody>\n",
       "</table>\n",
       "</div>"
      ],
      "text/plain": [
       "Empty DataFrame\n",
       "Columns: [name, platform, year_of_release, genre, na_sales, eu_sales, jp_sales, other_sales, critic_score, user_score, rating]\n",
       "Index: []"
      ]
     },
     "execution_count": 17,
     "metadata": {},
     "output_type": "execute_result"
    }
   ],
   "source": [
    "data[(data['year_of_release'].isna()) & (\n",
    "    data['name'].str.contains('19\\d\\d', regex=True))]"
   ]
  },
  {
   "cell_type": "markdown",
   "metadata": {},
   "source": [
    "Теперь поищем названия, где есть только две последние цифры года."
   ]
  },
  {
   "cell_type": "code",
   "execution_count": 18,
   "metadata": {
    "scrolled": true
   },
   "outputs": [
    {
     "data": {
      "text/html": [
       "<div>\n",
       "<style scoped>\n",
       "    .dataframe tbody tr th:only-of-type {\n",
       "        vertical-align: middle;\n",
       "    }\n",
       "\n",
       "    .dataframe tbody tr th {\n",
       "        vertical-align: top;\n",
       "    }\n",
       "\n",
       "    .dataframe thead th {\n",
       "        text-align: right;\n",
       "    }\n",
       "</style>\n",
       "<table border=\"1\" class=\"dataframe\">\n",
       "  <thead>\n",
       "    <tr style=\"text-align: right;\">\n",
       "      <th></th>\n",
       "      <th>name</th>\n",
       "      <th>platform</th>\n",
       "      <th>year_of_release</th>\n",
       "      <th>genre</th>\n",
       "      <th>na_sales</th>\n",
       "      <th>eu_sales</th>\n",
       "      <th>jp_sales</th>\n",
       "      <th>other_sales</th>\n",
       "      <th>critic_score</th>\n",
       "      <th>user_score</th>\n",
       "      <th>rating</th>\n",
       "    </tr>\n",
       "  </thead>\n",
       "  <tbody>\n",
       "    <tr>\n",
       "      <td>1300</td>\n",
       "      <td>Triple Play 99</td>\n",
       "      <td>PS</td>\n",
       "      <td>NaN</td>\n",
       "      <td>Sports</td>\n",
       "      <td>0.81</td>\n",
       "      <td>0.55</td>\n",
       "      <td>0.00</td>\n",
       "      <td>0.10</td>\n",
       "      <td>NaN</td>\n",
       "      <td>NaN</td>\n",
       "      <td>NaN</td>\n",
       "    </tr>\n",
       "    <tr>\n",
       "      <td>2478</td>\n",
       "      <td>Madden NFL 07</td>\n",
       "      <td>PSP</td>\n",
       "      <td>NaN</td>\n",
       "      <td>Sports</td>\n",
       "      <td>0.77</td>\n",
       "      <td>0.03</td>\n",
       "      <td>0.00</td>\n",
       "      <td>0.04</td>\n",
       "      <td>78.0</td>\n",
       "      <td>6.6</td>\n",
       "      <td>E</td>\n",
       "    </tr>\n",
       "    <tr>\n",
       "      <td>2848</td>\n",
       "      <td>Madden NFL 11</td>\n",
       "      <td>Wii</td>\n",
       "      <td>NaN</td>\n",
       "      <td>Sports</td>\n",
       "      <td>0.68</td>\n",
       "      <td>0.00</td>\n",
       "      <td>0.00</td>\n",
       "      <td>0.04</td>\n",
       "      <td>75.0</td>\n",
       "      <td>5.4</td>\n",
       "      <td>E</td>\n",
       "    </tr>\n",
       "    <tr>\n",
       "      <td>3412</td>\n",
       "      <td>Madden NFL 06</td>\n",
       "      <td>X360</td>\n",
       "      <td>NaN</td>\n",
       "      <td>Sports</td>\n",
       "      <td>0.54</td>\n",
       "      <td>0.00</td>\n",
       "      <td>0.01</td>\n",
       "      <td>0.03</td>\n",
       "      <td>74.0</td>\n",
       "      <td>4.9</td>\n",
       "      <td>E</td>\n",
       "    </tr>\n",
       "    <tr>\n",
       "      <td>4204</td>\n",
       "      <td>Tiger Woods PGA Tour 07</td>\n",
       "      <td>Wii</td>\n",
       "      <td>NaN</td>\n",
       "      <td>Sports</td>\n",
       "      <td>0.43</td>\n",
       "      <td>0.00</td>\n",
       "      <td>0.00</td>\n",
       "      <td>0.04</td>\n",
       "      <td>71.0</td>\n",
       "      <td>6.9</td>\n",
       "      <td>E</td>\n",
       "    </tr>\n",
       "    <tr>\n",
       "      <td>7604</td>\n",
       "      <td>Famista 64</td>\n",
       "      <td>N64</td>\n",
       "      <td>NaN</td>\n",
       "      <td>Sports</td>\n",
       "      <td>0.00</td>\n",
       "      <td>0.00</td>\n",
       "      <td>0.17</td>\n",
       "      <td>0.03</td>\n",
       "      <td>NaN</td>\n",
       "      <td>NaN</td>\n",
       "      <td>NaN</td>\n",
       "    </tr>\n",
       "  </tbody>\n",
       "</table>\n",
       "</div>"
      ],
      "text/plain": [
       "                         name platform  year_of_release   genre  na_sales  \\\n",
       "1300           Triple Play 99       PS              NaN  Sports      0.81   \n",
       "2478            Madden NFL 07      PSP              NaN  Sports      0.77   \n",
       "2848            Madden NFL 11      Wii              NaN  Sports      0.68   \n",
       "3412            Madden NFL 06     X360              NaN  Sports      0.54   \n",
       "4204  Tiger Woods PGA Tour 07      Wii              NaN  Sports      0.43   \n",
       "7604               Famista 64      N64              NaN  Sports      0.00   \n",
       "\n",
       "      eu_sales  jp_sales  other_sales  critic_score user_score rating  \n",
       "1300      0.55      0.00         0.10           NaN        NaN    NaN  \n",
       "2478      0.03      0.00         0.04          78.0        6.6      E  \n",
       "2848      0.00      0.00         0.04          75.0        5.4      E  \n",
       "3412      0.00      0.01         0.03          74.0        4.9      E  \n",
       "4204      0.00      0.00         0.04          71.0        6.9      E  \n",
       "7604      0.00      0.17         0.03           NaN        NaN    NaN  "
      ]
     },
     "execution_count": 18,
     "metadata": {},
     "output_type": "execute_result"
    }
   ],
   "source": [
    "data[(data['year_of_release'].isna()) & (\n",
    "    data['name'].str.contains('\\s\\d\\d$', regex=True))]"
   ]
  },
  {
   "cell_type": "markdown",
   "metadata": {},
   "source": [
    "Напишем функцию, которая преобразует запись года в полную (четыре цифры)."
   ]
  },
  {
   "cell_type": "markdown",
   "metadata": {},
   "source": [
    "Выясним максимальный и минимальный год выпуска, чтобы учесть их в функции."
   ]
  },
  {
   "cell_type": "code",
   "execution_count": 19,
   "metadata": {},
   "outputs": [
    {
     "data": {
      "text/plain": [
       "1980.0"
      ]
     },
     "execution_count": 19,
     "metadata": {},
     "output_type": "execute_result"
    }
   ],
   "source": [
    "data['year_of_release'].min()"
   ]
  },
  {
   "cell_type": "code",
   "execution_count": 20,
   "metadata": {},
   "outputs": [
    {
     "data": {
      "text/plain": [
       "2016.0"
      ]
     },
     "execution_count": 20,
     "metadata": {},
     "output_type": "execute_result"
    }
   ],
   "source": [
    "data['year_of_release'].max()"
   ]
  },
  {
   "cell_type": "code",
   "execution_count": 21,
   "metadata": {},
   "outputs": [],
   "source": [
    "def std_year(year):\n",
    "    \"\"\"\n",
    "    Функция добавляет к двум последним цифрам года 20 или 19 в зависимости от числа. \n",
    "    Если число больше 17 и меньше 80, возвращается NaN, так как данные числа не могут быть годом выпуска.\"\"\"\n",
    "    if 0 < int(year) < 17:\n",
    "        year = '20' + year[1:3]\n",
    "    elif 80 < int(year) <= 99:\n",
    "        year = '19' + year[1:3]\n",
    "    else:\n",
    "        year = np.nan\n",
    "    return year"
   ]
  },
  {
   "cell_type": "code",
   "execution_count": 22,
   "metadata": {
    "scrolled": true
   },
   "outputs": [],
   "source": [
    "data.loc[(data['year_of_release'].isna()) & (data['name'].str.contains('\\s\\d\\d$', regex=True)), 'year_of_release'] = data[(data['year_of_release'].isna()) & (data['name'].str.contains(\n",
    "    '\\s\\d\\d$', regex=True))]['year_of_release'].fillna(data[(data['year_of_release'].isna()) & (data['name'].str.contains('\\s\\d\\d$', regex=True))]['name'].str.extract(r'(\\s\\d\\d$)', expand=False).apply(std_year))"
   ]
  },
  {
   "cell_type": "code",
   "execution_count": 23,
   "metadata": {},
   "outputs": [
    {
     "data": {
      "text/plain": [
       "247"
      ]
     },
     "execution_count": 23,
     "metadata": {},
     "output_type": "execute_result"
    }
   ],
   "source": [
    "data['year_of_release'].isna().sum()"
   ]
  },
  {
   "cell_type": "markdown",
   "metadata": {},
   "source": [
    "Оставшиеся пропуски в этом столбце удалим, так как они составляют всего полтора процента данных, а правильно восстановить данные мы не сможем."
   ]
  },
  {
   "cell_type": "code",
   "execution_count": 24,
   "metadata": {},
   "outputs": [],
   "source": [
    "data.dropna(subset=['year_of_release'], inplace=True)\n",
    "data.reset_index(drop=True, inplace=True)"
   ]
  },
  {
   "cell_type": "code",
   "execution_count": 25,
   "metadata": {
    "scrolled": true
   },
   "outputs": [
    {
     "data": {
      "text/plain": [
       "0"
      ]
     },
     "execution_count": 25,
     "metadata": {},
     "output_type": "execute_result"
    }
   ],
   "source": [
    "data['year_of_release'].isna().sum()"
   ]
  },
  {
   "cell_type": "markdown",
   "metadata": {},
   "source": [
    "В столбцах `critic_score`, `user_score` и `rating` пропусков довольно много, но адекватно заполнить их нечем, так как оценка не зависит от имеющихся у нас данных. Скорее всего оценок ставилось мало в ранние годы и это будет не так сильно влиять на анализ данных актуального периода, проверим это предположение."
   ]
  },
  {
   "cell_type": "code",
   "execution_count": 26,
   "metadata": {
    "scrolled": false
   },
   "outputs": [
    {
     "data": {
      "text/plain": [
       "<matplotlib.axes._subplots.AxesSubplot at 0x7f5bdf029b50>"
      ]
     },
     "execution_count": 26,
     "metadata": {},
     "output_type": "execute_result"
    },
    {
     "data": {
      "image/png": "[encoded data removed]",
      "text/plain": [
       "<Figure size 864x360 with 1 Axes>"
      ]
     },
     "metadata": {
      "needs_background": "light"
     },
     "output_type": "display_data"
    }
   ],
   "source": [
    "score_nan = data.pivot_table(index='year_of_release',\n",
    "                             values=['critic_score', 'user_score', 'name'],\n",
    "                             aggfunc={'name': 'count',\n",
    "                                      'user_score': lambda x: x.isna().sum(),\n",
    "                                      'critic_score': lambda x: x.isna().sum()})\n",
    "score_nan['user_perc_of_nan'] = score_nan['user_score']/score_nan['name']\n",
    "score_nan['critic_perc_of_nan'] = score_nan['critic_score']/score_nan['name']\n",
    "score_nan[['user_perc_of_nan', 'critic_perc_of_nan']].plot(title='Процент игр без отзывов по годам',\n",
    "                                                           figsize=(12, 5))"
   ]
  },
  {
   "cell_type": "markdown",
   "metadata": {},
   "source": [
    "Действительно, до 2000 года оценки играм почти не ставили ни критики, ни пользователи, а затем количество оценок резко растет, тем не менее даже в последние годы оценки имеют далеко не все игры, а только около 50%."
   ]
  },
  {
   "cell_type": "markdown",
   "metadata": {},
   "source": [
    "Отдельно рассмотрим значение 'tbd' в столбце `user_score`. Эта аббревиатура обозначает 'to be determined', то есть рейтинг игре еще не поставлен, по сути для нас - это такое же пропущенное значение, то есть можно заменить его на NaN."
   ]
  },
  {
   "cell_type": "code",
   "execution_count": 27,
   "metadata": {},
   "outputs": [],
   "source": [
    "data.loc[data['user_score'] == 'tbd', 'user_score'] = np.nan"
   ]
  },
  {
   "cell_type": "markdown",
   "metadata": {},
   "source": [
    "Для удобства дальнейшего анализа рейтинга заменим все пропущенные значения на 'unknown'."
   ]
  },
  {
   "cell_type": "code",
   "execution_count": 28,
   "metadata": {},
   "outputs": [],
   "source": [
    "data['rating'] = data['rating'].fillna('unknown')"
   ]
  },
  {
   "cell_type": "markdown",
   "metadata": {},
   "source": [
    "### Изменение типов данных"
   ]
  },
  {
   "cell_type": "markdown",
   "metadata": {},
   "source": [
    "Теперь ничего не мешает нам заменить тип данных в столбце User_Score с object на float"
   ]
  },
  {
   "cell_type": "code",
   "execution_count": 29,
   "metadata": {},
   "outputs": [],
   "source": [
    "data['user_score'] = data['user_score'].astype('float')"
   ]
  },
  {
   "cell_type": "markdown",
   "metadata": {},
   "source": [
    "Также мы можем заменить тип данных в столбце Year_of_Release c float на int"
   ]
  },
  {
   "cell_type": "code",
   "execution_count": 30,
   "metadata": {},
   "outputs": [],
   "source": [
    "data['year_of_release'] = data['year_of_release'].astype('int')"
   ]
  },
  {
   "cell_type": "markdown",
   "metadata": {},
   "source": [
    "А вот заменить тип данных в столбце Critic_Score c float на int не удасться, так как в нем остались пропуски."
   ]
  },
  {
   "cell_type": "markdown",
   "metadata": {},
   "source": [
    "### Исправление ошибок"
   ]
  },
  {
   "cell_type": "markdown",
   "metadata": {},
   "source": [
    "Проверим столбец `genre` на единообразие."
   ]
  },
  {
   "cell_type": "code",
   "execution_count": 31,
   "metadata": {
    "scrolled": false
   },
   "outputs": [
    {
     "data": {
      "text/plain": [
       "['Action',\n",
       " 'Adventure',\n",
       " 'Fighting',\n",
       " 'Misc',\n",
       " 'Platform',\n",
       " 'Puzzle',\n",
       " 'Racing',\n",
       " 'Role-Playing',\n",
       " 'Shooter',\n",
       " 'Simulation',\n",
       " 'Sports',\n",
       " 'Strategy']"
      ]
     },
     "execution_count": 31,
     "metadata": {},
     "output_type": "execute_result"
    }
   ],
   "source": [
    "sorted(data['genre'].unique())"
   ]
  },
  {
   "cell_type": "markdown",
   "metadata": {},
   "source": [
    "Со значениями в столбце `genre` все в порядке.\n",
    "\n",
    "Так же проверим столбец `rating`"
   ]
  },
  {
   "cell_type": "code",
   "execution_count": 32,
   "metadata": {},
   "outputs": [
    {
     "data": {
      "text/plain": [
       "unknown    6683\n",
       "E          3934\n",
       "T          2905\n",
       "M          1537\n",
       "E10+       1394\n",
       "EC            8\n",
       "K-A           3\n",
       "RP            1\n",
       "AO            1\n",
       "Name: rating, dtype: int64"
      ]
     },
     "execution_count": 32,
     "metadata": {},
     "output_type": "execute_result"
    }
   ],
   "source": [
    "data['rating'].value_counts()"
   ]
  },
  {
   "cell_type": "code",
   "execution_count": 33,
   "metadata": {
    "scrolled": false
   },
   "outputs": [
    {
     "data": {
      "text/plain": [
       "array(['E', 'unknown', 'M', 'T', 'E10+', 'K-A', 'AO', 'EC', 'RP'],\n",
       "      dtype=object)"
      ]
     },
     "execution_count": 33,
     "metadata": {},
     "output_type": "execute_result"
    }
   ],
   "source": [
    "data['rating'].unique()"
   ]
  },
  {
   "cell_type": "markdown",
   "metadata": {},
   "source": [
    "Ассоциация ESRB определяет возрастной рейтинг компьютерных игр. Имеется 8 вариантов рейтинга:\n",
    "\n",
    "* AO (\"Adults Only 18+\") — «Только для взрослых»: Содержание игры только для взрослых старше 18 лет;\n",
    "* E (\"Everyone\") — «Для всех»: Содержание вполне подходит для возрастной категории от 6 лет и старше, такие игры могут понравиться и взрослым;\n",
    "* E10+ (\"Everyone 10 and older\") — «Для всех от 10 лет и старше»: Проекты с данным рейтингом могут содержать немного больше мультипликационного или мягкого насилия, или несколько откровенные сцены или минимальное количество крови;\n",
    "* EC (\"Early childhood\") — «Для детей младшего возраста»: Игра подходит для детей от 3 лет и старше и не содержит материалов, которые родители могли бы счесть неподходящими;\n",
    "* K-A (\"Kids to Adult\") — «От детей до взрослых»: Игры, содержание которых подходит любой аудитории;\n",
    "* M («Mature») — «Для взрослых»: Материалы игры не подходят для подростков младше 17 лет.\n",
    "* T («Teen») — «Подросткам»: Игра подходит для лиц от 13 лет и старше.\n",
    "* RP («Rating Pending») — «Рейтинг ожидается»: Продукт был отправлен в ESRB и ожидает присвоения рейтинга."
   ]
  },
  {
   "cell_type": "markdown",
   "metadata": {},
   "source": [
    "Здесь остались пропуски, и некоторые значения встречаются совсем редко. Если сравнить их с системой рейтинга, то станет понятно, что это неявные дубликаты.\n",
    "\n",
    "Рейтинг 'RP' - rating pending - означает, что рейтинга еще нет и игра ожидает его присвоения. Раз рейтинга нет - логично заменить на 'unknown'.\n",
    "\n",
    "Рейтинг 'AO' - по сути равен рейтингу M, и то, и то подходит для лиц старше 18.\n",
    "\n",
    "Рейтинги 'K-A' и 'EC' можно таким же образом включить в рейтинг 'E'."
   ]
  },
  {
   "cell_type": "code",
   "execution_count": 34,
   "metadata": {},
   "outputs": [],
   "source": [
    "data.loc[data['rating'] == 'RP', 'rating'] = 'unknown'"
   ]
  },
  {
   "cell_type": "code",
   "execution_count": 35,
   "metadata": {},
   "outputs": [],
   "source": [
    "data.loc[data['rating'] == 'AO', 'rating'] = 'M'"
   ]
  },
  {
   "cell_type": "code",
   "execution_count": 36,
   "metadata": {},
   "outputs": [],
   "source": [
    "data.loc[data['rating'] == 'K-A', 'rating'] = 'E'"
   ]
  },
  {
   "cell_type": "code",
   "execution_count": 37,
   "metadata": {},
   "outputs": [],
   "source": [
    "data.loc[data['rating'] == 'EC', 'rating'] = 'E'"
   ]
  },
  {
   "cell_type": "code",
   "execution_count": 38,
   "metadata": {
    "scrolled": true
   },
   "outputs": [
    {
     "data": {
      "text/plain": [
       "unknown    6684\n",
       "E          3945\n",
       "T          2905\n",
       "M          1538\n",
       "E10+       1394\n",
       "Name: rating, dtype: int64"
      ]
     },
     "execution_count": 38,
     "metadata": {},
     "output_type": "execute_result"
    }
   ],
   "source": [
    "data['rating'].value_counts()"
   ]
  },
  {
   "cell_type": "markdown",
   "metadata": {},
   "source": [
    "Теперь редких значений нет, пропуски остались, но заменить их мы не можем."
   ]
  },
  {
   "cell_type": "markdown",
   "metadata": {},
   "source": [
    "### Удаление дубликатов"
   ]
  },
  {
   "cell_type": "markdown",
   "metadata": {},
   "source": [
    "Проверим, есть ли в таблице дубликаты"
   ]
  },
  {
   "cell_type": "code",
   "execution_count": 39,
   "metadata": {
    "scrolled": true
   },
   "outputs": [
    {
     "data": {
      "text/plain": [
       "0"
      ]
     },
     "execution_count": 39,
     "metadata": {},
     "output_type": "execute_result"
    }
   ],
   "source": [
    "data.duplicated().sum()"
   ]
  },
  {
   "cell_type": "markdown",
   "metadata": {},
   "source": [
    "Полных дубликатов нет."
   ]
  },
  {
   "cell_type": "code",
   "execution_count": 40,
   "metadata": {
    "scrolled": true
   },
   "outputs": [
    {
     "data": {
      "text/plain": [
       "1"
      ]
     },
     "execution_count": 40,
     "metadata": {},
     "output_type": "execute_result"
    }
   ],
   "source": [
    "data[['name', 'platform', 'year_of_release']].duplicated().sum()"
   ]
  },
  {
   "cell_type": "markdown",
   "metadata": {},
   "source": [
    "Мы нашли дубликат, совпадающий по названию игры и платформы и году выпуска. Удалим его."
   ]
  },
  {
   "cell_type": "code",
   "execution_count": 41,
   "metadata": {},
   "outputs": [],
   "source": [
    "data[['name', 'platform', 'year_of_release']] = data[['name', 'platform',\n",
    "                                                      'year_of_release']].drop_duplicates().reset_index(drop=True)"
   ]
  },
  {
   "cell_type": "markdown",
   "metadata": {},
   "source": [
    "Теперь дубликатов нет."
   ]
  },
  {
   "cell_type": "markdown",
   "metadata": {},
   "source": [
    "### Вывод"
   ]
  },
  {
   "cell_type": "markdown",
   "metadata": {},
   "source": [
    "Мы перевели названия столбцов в нижний регистр, устранили возможные пропуски, изменили тип данных в столбцах `year_of_release` c float на int, `user_score` с object на float и устрнили один дубликат. Мы устранили все возможные пропуски и ошибки в данных, можно переходить к следующему этапу."
   ]
  },
  {
   "cell_type": "markdown",
   "metadata": {},
   "source": [
    "## Расчеты"
   ]
  },
  {
   "cell_type": "markdown",
   "metadata": {},
   "source": [
    "Посчитаем суммарные продажи во всех регионах и запишием их в отдельный столбец."
   ]
  },
  {
   "cell_type": "code",
   "execution_count": 42,
   "metadata": {},
   "outputs": [],
   "source": [
    "data['overall_sales'] = data['na_sales'] + \\\n",
    "    data['eu_sales'] + data['jp_sales'] + data['other_sales']"
   ]
  },
  {
   "cell_type": "code",
   "execution_count": 43,
   "metadata": {},
   "outputs": [
    {
     "data": {
      "text/html": [
       "<div>\n",
       "<style scoped>\n",
       "    .dataframe tbody tr th:only-of-type {\n",
       "        vertical-align: middle;\n",
       "    }\n",
       "\n",
       "    .dataframe tbody tr th {\n",
       "        vertical-align: top;\n",
       "    }\n",
       "\n",
       "    .dataframe thead th {\n",
       "        text-align: right;\n",
       "    }\n",
       "</style>\n",
       "<table border=\"1\" class=\"dataframe\">\n",
       "  <thead>\n",
       "    <tr style=\"text-align: right;\">\n",
       "      <th></th>\n",
       "      <th>name</th>\n",
       "      <th>platform</th>\n",
       "      <th>year_of_release</th>\n",
       "      <th>genre</th>\n",
       "      <th>na_sales</th>\n",
       "      <th>eu_sales</th>\n",
       "      <th>jp_sales</th>\n",
       "      <th>other_sales</th>\n",
       "      <th>critic_score</th>\n",
       "      <th>user_score</th>\n",
       "      <th>rating</th>\n",
       "      <th>overall_sales</th>\n",
       "    </tr>\n",
       "  </thead>\n",
       "  <tbody>\n",
       "    <tr>\n",
       "      <td>0</td>\n",
       "      <td>Wii Sports</td>\n",
       "      <td>Wii</td>\n",
       "      <td>2006.0</td>\n",
       "      <td>Sports</td>\n",
       "      <td>41.36</td>\n",
       "      <td>28.96</td>\n",
       "      <td>3.77</td>\n",
       "      <td>8.45</td>\n",
       "      <td>76.0</td>\n",
       "      <td>8.0</td>\n",
       "      <td>E</td>\n",
       "      <td>82.54</td>\n",
       "    </tr>\n",
       "    <tr>\n",
       "      <td>1</td>\n",
       "      <td>Super Mario Bros.</td>\n",
       "      <td>NES</td>\n",
       "      <td>1985.0</td>\n",
       "      <td>Platform</td>\n",
       "      <td>29.08</td>\n",
       "      <td>3.58</td>\n",
       "      <td>6.81</td>\n",
       "      <td>0.77</td>\n",
       "      <td>NaN</td>\n",
       "      <td>NaN</td>\n",
       "      <td>unknown</td>\n",
       "      <td>40.24</td>\n",
       "    </tr>\n",
       "    <tr>\n",
       "      <td>2</td>\n",
       "      <td>Mario Kart Wii</td>\n",
       "      <td>Wii</td>\n",
       "      <td>2008.0</td>\n",
       "      <td>Racing</td>\n",
       "      <td>15.68</td>\n",
       "      <td>12.76</td>\n",
       "      <td>3.79</td>\n",
       "      <td>3.29</td>\n",
       "      <td>82.0</td>\n",
       "      <td>8.3</td>\n",
       "      <td>E</td>\n",
       "      <td>35.52</td>\n",
       "    </tr>\n",
       "    <tr>\n",
       "      <td>3</td>\n",
       "      <td>Wii Sports Resort</td>\n",
       "      <td>Wii</td>\n",
       "      <td>2009.0</td>\n",
       "      <td>Sports</td>\n",
       "      <td>15.61</td>\n",
       "      <td>10.93</td>\n",
       "      <td>3.28</td>\n",
       "      <td>2.95</td>\n",
       "      <td>80.0</td>\n",
       "      <td>8.0</td>\n",
       "      <td>E</td>\n",
       "      <td>32.77</td>\n",
       "    </tr>\n",
       "    <tr>\n",
       "      <td>4</td>\n",
       "      <td>Pokemon Red/Pokemon Blue</td>\n",
       "      <td>GB</td>\n",
       "      <td>1996.0</td>\n",
       "      <td>Role-Playing</td>\n",
       "      <td>11.27</td>\n",
       "      <td>8.89</td>\n",
       "      <td>10.22</td>\n",
       "      <td>1.00</td>\n",
       "      <td>NaN</td>\n",
       "      <td>NaN</td>\n",
       "      <td>unknown</td>\n",
       "      <td>31.38</td>\n",
       "    </tr>\n",
       "  </tbody>\n",
       "</table>\n",
       "</div>"
      ],
      "text/plain": [
       "                       name platform  year_of_release         genre  na_sales  \\\n",
       "0                Wii Sports      Wii           2006.0        Sports     41.36   \n",
       "1         Super Mario Bros.      NES           1985.0      Platform     29.08   \n",
       "2            Mario Kart Wii      Wii           2008.0        Racing     15.68   \n",
       "3         Wii Sports Resort      Wii           2009.0        Sports     15.61   \n",
       "4  Pokemon Red/Pokemon Blue       GB           1996.0  Role-Playing     11.27   \n",
       "\n",
       "   eu_sales  jp_sales  other_sales  critic_score  user_score   rating  \\\n",
       "0     28.96      3.77         8.45          76.0         8.0        E   \n",
       "1      3.58      6.81         0.77           NaN         NaN  unknown   \n",
       "2     12.76      3.79         3.29          82.0         8.3        E   \n",
       "3     10.93      3.28         2.95          80.0         8.0        E   \n",
       "4      8.89     10.22         1.00           NaN         NaN  unknown   \n",
       "\n",
       "   overall_sales  \n",
       "0          82.54  \n",
       "1          40.24  \n",
       "2          35.52  \n",
       "3          32.77  \n",
       "4          31.38  "
      ]
     },
     "execution_count": 43,
     "metadata": {},
     "output_type": "execute_result"
    }
   ],
   "source": [
    "data.head()"
   ]
  },
  {
   "cell_type": "markdown",
   "metadata": {},
   "source": [
    "### Вывод"
   ]
  },
  {
   "cell_type": "markdown",
   "metadata": {},
   "source": [
    "Необходимые расчеты суммарных продаж сделаны и сохранены в столбец `overall_sales`, можно переходить к анализу данных."
   ]
  },
  {
   "cell_type": "markdown",
   "metadata": {},
   "source": [
    "## Анализ данных"
   ]
  },
  {
   "cell_type": "markdown",
   "metadata": {},
   "source": [
    "### Количество игр, выпущенных в разные годы"
   ]
  },
  {
   "cell_type": "markdown",
   "metadata": {},
   "source": [
    "С помощью сводной таблицы посчитаем количество игр, выпущеных в разные годы и построим график."
   ]
  },
  {
   "cell_type": "code",
   "execution_count": 44,
   "metadata": {
    "scrolled": true
   },
   "outputs": [],
   "source": [
    "years = data.pivot_table(index='year_of_release',\n",
    "                         values='name', aggfunc='count')"
   ]
  },
  {
   "cell_type": "code",
   "execution_count": 45,
   "metadata": {},
   "outputs": [
    {
     "data": {
      "text/plain": [
       "<matplotlib.axes._subplots.AxesSubplot at 0x7f5bdd86cfd0>"
      ]
     },
     "execution_count": 45,
     "metadata": {},
     "output_type": "execute_result"
    },
    {
     "data": {
      "image/png": "[encoded data removed]",
      "text/plain": [
       "<Figure size 864x360 with 1 Axes>"
      ]
     },
     "metadata": {
      "needs_background": "light"
     },
     "output_type": "display_data"
    }
   ],
   "source": [
    "years.plot(kind='line', figsize=(12, 5), grid=True,\n",
    "           title='Количество игр, выпущенных в разные годы', legend=False)"
   ]
  },
  {
   "cell_type": "markdown",
   "metadata": {},
   "source": [
    "На графике мы видим, что максимум игр - чуть больше 1400, выпускался в 2008-2009 годах. До 2000 года количество выпущенных игр плавно росло приближаясь к отметке 400 игр в год, затем рост стал более резким, а после достижения максимума в 2009 количество игр начало так же резко снижаться. Возможно при дальнейшем анализе стоит рассматривать именно период после 2009 года, так как явно видно, что в последние годы ситуация на рынке очень отличается от того, что было до этого года."
   ]
  },
  {
   "cell_type": "markdown",
   "metadata": {},
   "source": [
    "### Продажи игр, выпущенных на разных платформах"
   ]
  },
  {
   "cell_type": "markdown",
   "metadata": {},
   "source": [
    "Посмотрим, как менялись продажи по платформам. Выберем платформы с наибольшими суммарными продажами и построим распределение по годам. Вычислим, за какой характерный срок появляются новые и исчезают старые платформы."
   ]
  },
  {
   "cell_type": "code",
   "execution_count": 46,
   "metadata": {
    "scrolled": true
   },
   "outputs": [],
   "source": [
    "platforms = data.pivot_table(index='platform',\n",
    "                             values='overall_sales',\n",
    "                             aggfunc='sum').sort_values(by='overall_sales',\n",
    "                                                        ascending=False)"
   ]
  },
  {
   "cell_type": "code",
   "execution_count": 47,
   "metadata": {
    "scrolled": false
   },
   "outputs": [
    {
     "data": {
      "text/plain": [
       "<matplotlib.axes._subplots.AxesSubplot at 0x7f5bd5090950>"
      ]
     },
     "execution_count": 47,
     "metadata": {},
     "output_type": "execute_result"
    },
    {
     "data": {
      "image/png": "[encoded data removed]",
      "text/plain": [
       "<Figure size 864x360 with 1 Axes>"
      ]
     },
     "metadata": {
      "needs_background": "light"
     },
     "output_type": "display_data"
    }
   ],
   "source": [
    "platforms.plot(kind='bar', figsize=(12, 5),\n",
    "               grid=True, title='Количество проданных игр для каждой платформы', legend=False)"
   ]
  },
  {
   "cell_type": "markdown",
   "metadata": {},
   "source": [
    "Мы построили график количества проданых игр для каждой платформы, лидером с большим отрывом стала PlayStation 2. Отберем первые шесть платформ для оценки распределения по годам."
   ]
  },
  {
   "cell_type": "code",
   "execution_count": 48,
   "metadata": {},
   "outputs": [],
   "source": [
    "years_of_pop_platforms = data[data['platform'].isin(list(platforms.head(6).index))].pivot_table(columns='platform',\n",
    "                                                                                                index='year_of_release',\n",
    "                                                                                                values='overall_sales',\n",
    "                                                                                                aggfunc='sum')"
   ]
  },
  {
   "cell_type": "code",
   "execution_count": 49,
   "metadata": {
    "scrolled": false
   },
   "outputs": [
    {
     "data": {
      "text/plain": [
       "<matplotlib.axes._subplots.AxesSubplot at 0x7f5bd50a7d10>"
      ]
     },
     "execution_count": 49,
     "metadata": {},
     "output_type": "execute_result"
    },
    {
     "data": {
      "image/png": "[encoded data removed]",
      "text/plain": [
       "<Figure size 1080x432 with 1 Axes>"
      ]
     },
     "metadata": {
      "needs_background": "light"
     },
     "output_type": "display_data"
    }
   ],
   "source": [
    "years_of_pop_platforms.plot(kind='line', figsize=(15, 6), grid=True)"
   ]
  },
  {
   "cell_type": "markdown",
   "metadata": {},
   "source": [
    "На графике мы видим, что платформы переживают резкий всплеск популярности, а затем уходят с рынка. В среднем это происходит за период около 10 лет.\n",
    "\n",
    "Посчитаем точнее."
   ]
  },
  {
   "cell_type": "code",
   "execution_count": 50,
   "metadata": {
    "scrolled": true
   },
   "outputs": [
    {
     "data": {
      "text/plain": [
       "11.0"
      ]
     },
     "execution_count": 50,
     "metadata": {},
     "output_type": "execute_result"
    }
   ],
   "source": [
    "years_of_pop_platforms.count().median()"
   ]
  },
  {
   "cell_type": "markdown",
   "metadata": {},
   "source": [
    "Уточненное характерное значение пребывания одной платформы на рынке - 11 лет.\n",
    "\n",
    "Таким образом предложенное ранее значение актуального периода после 2009 года стоит немного скорректировать до 2013, так как тогда в анализе мы практически не будем учитывать платформы, прошедшие пик популярности к настоящему времени."
   ]
  },
  {
   "cell_type": "markdown",
   "metadata": {},
   "source": [
    "### Анализ данных за актуальный период"
   ]
  },
  {
   "cell_type": "markdown",
   "metadata": {},
   "source": [
    "Изучим, какие платформы лидируют по продажам, растут или падают. Выберем несколько потенциально прибыльных платформ."
   ]
  },
  {
   "cell_type": "markdown",
   "metadata": {},
   "source": [
    "Приняв во внимание результаты анализа двух предыдущих подразделов, примем за актуальный период с 2013 года. "
   ]
  },
  {
   "cell_type": "code",
   "execution_count": 51,
   "metadata": {},
   "outputs": [],
   "source": [
    "data_act = data[data['year_of_release'] >= 2013]"
   ]
  },
  {
   "cell_type": "markdown",
   "metadata": {},
   "source": [
    "Посмотрим, как в целом вели себя продажи за эти годы."
   ]
  },
  {
   "cell_type": "code",
   "execution_count": 52,
   "metadata": {
    "scrolled": true
   },
   "outputs": [
    {
     "data": {
      "text/plain": [
       "<matplotlib.axes._subplots.AxesSubplot at 0x7f5bd4cb3c90>"
      ]
     },
     "execution_count": 52,
     "metadata": {},
     "output_type": "execute_result"
    },
    {
     "data": {
      "image/png": "[encoded data removed]",
      "text/plain": [
       "<Figure size 864x360 with 1 Axes>"
      ]
     },
     "metadata": {
      "needs_background": "light"
     },
     "output_type": "display_data"
    }
   ],
   "source": [
    "years_act = data_act.pivot_table(\n",
    "    index='year_of_release', values='overall_sales', aggfunc='sum')\n",
    "years_act.plot(kind='line', figsize=(12, 5), grid=True)"
   ]
  },
  {
   "cell_type": "markdown",
   "metadata": {},
   "source": [
    "На графике мы видим общее очень сильное падение количества проданых игр за актуальный период.\n",
    "\n",
    "Посмотрим, касается ли это всех платформ или какая-то из них удерживает популярность.\n",
    "\n",
    "Сначала посмотрим, игр на каких платформах суммарно было продано больше всего."
   ]
  },
  {
   "cell_type": "code",
   "execution_count": 53,
   "metadata": {},
   "outputs": [],
   "source": [
    "platforms_act = data_act.pivot_table(index='platform',\n",
    "                                     values='overall_sales',\n",
    "                                     aggfunc='sum').sort_values(by='overall_sales',\n",
    "                                                                ascending=False)"
   ]
  },
  {
   "cell_type": "code",
   "execution_count": 54,
   "metadata": {
    "scrolled": false
   },
   "outputs": [
    {
     "data": {
      "text/plain": [
       "<matplotlib.axes._subplots.AxesSubplot at 0x7f5bd4e96c50>"
      ]
     },
     "execution_count": 54,
     "metadata": {},
     "output_type": "execute_result"
    },
    {
     "data": {
      "image/png": "[encoded data removed]",
      "text/plain": [
       "<Figure size 864x360 with 1 Axes>"
      ]
     },
     "metadata": {
      "needs_background": "light"
     },
     "output_type": "display_data"
    }
   ],
   "source": [
    "platforms_act.plot(kind='bar', figsize=(12, 5),\n",
    "                   grid=True, title='Количество проданных игр для каждой платформы', legend=False)"
   ]
  },
  {
   "cell_type": "markdown",
   "metadata": {},
   "source": [
    "Самыми популярными суммарно за последние несколько лет оказались PlayStation 4, PlayStation 3, Xbox One, Nintendo 3DS и Xbox 360.\n",
    "\n",
    "Изучим, как изменялось количество выпущенных игр на каждой платформе по годам."
   ]
  },
  {
   "cell_type": "code",
   "execution_count": 55,
   "metadata": {
    "scrolled": false
   },
   "outputs": [
    {
     "data": {
      "text/html": [
       "<div>\n",
       "<style scoped>\n",
       "    .dataframe tbody tr th:only-of-type {\n",
       "        vertical-align: middle;\n",
       "    }\n",
       "\n",
       "    .dataframe tbody tr th {\n",
       "        vertical-align: top;\n",
       "    }\n",
       "\n",
       "    .dataframe thead th {\n",
       "        text-align: right;\n",
       "    }\n",
       "</style>\n",
       "<table border=\"1\" class=\"dataframe\">\n",
       "  <thead>\n",
       "    <tr style=\"text-align: right;\">\n",
       "      <th>platform</th>\n",
       "      <th>3DS</th>\n",
       "      <th>DS</th>\n",
       "      <th>PC</th>\n",
       "      <th>PS3</th>\n",
       "      <th>PS4</th>\n",
       "      <th>PSP</th>\n",
       "      <th>PSV</th>\n",
       "      <th>Wii</th>\n",
       "      <th>WiiU</th>\n",
       "      <th>X360</th>\n",
       "      <th>XOne</th>\n",
       "    </tr>\n",
       "    <tr>\n",
       "      <th>year_of_release</th>\n",
       "      <th></th>\n",
       "      <th></th>\n",
       "      <th></th>\n",
       "      <th></th>\n",
       "      <th></th>\n",
       "      <th></th>\n",
       "      <th></th>\n",
       "      <th></th>\n",
       "      <th></th>\n",
       "      <th></th>\n",
       "      <th></th>\n",
       "    </tr>\n",
       "  </thead>\n",
       "  <tbody>\n",
       "    <tr>\n",
       "      <td>2013.0</td>\n",
       "      <td>91.0</td>\n",
       "      <td>8.0</td>\n",
       "      <td>39.0</td>\n",
       "      <td>126.0</td>\n",
       "      <td>16.0</td>\n",
       "      <td>54.0</td>\n",
       "      <td>63.0</td>\n",
       "      <td>12.0</td>\n",
       "      <td>42.0</td>\n",
       "      <td>75.0</td>\n",
       "      <td>19.0</td>\n",
       "    </tr>\n",
       "    <tr>\n",
       "      <td>2014.0</td>\n",
       "      <td>80.0</td>\n",
       "      <td>NaN</td>\n",
       "      <td>47.0</td>\n",
       "      <td>108.0</td>\n",
       "      <td>75.0</td>\n",
       "      <td>10.0</td>\n",
       "      <td>100.0</td>\n",
       "      <td>6.0</td>\n",
       "      <td>31.0</td>\n",
       "      <td>63.0</td>\n",
       "      <td>61.0</td>\n",
       "    </tr>\n",
       "    <tr>\n",
       "      <td>2015.0</td>\n",
       "      <td>86.0</td>\n",
       "      <td>NaN</td>\n",
       "      <td>50.0</td>\n",
       "      <td>73.0</td>\n",
       "      <td>137.0</td>\n",
       "      <td>3.0</td>\n",
       "      <td>110.0</td>\n",
       "      <td>4.0</td>\n",
       "      <td>28.0</td>\n",
       "      <td>35.0</td>\n",
       "      <td>80.0</td>\n",
       "    </tr>\n",
       "    <tr>\n",
       "      <td>2016.0</td>\n",
       "      <td>46.0</td>\n",
       "      <td>NaN</td>\n",
       "      <td>54.0</td>\n",
       "      <td>38.0</td>\n",
       "      <td>164.0</td>\n",
       "      <td>NaN</td>\n",
       "      <td>85.0</td>\n",
       "      <td>1.0</td>\n",
       "      <td>14.0</td>\n",
       "      <td>13.0</td>\n",
       "      <td>87.0</td>\n",
       "    </tr>\n",
       "  </tbody>\n",
       "</table>\n",
       "</div>"
      ],
      "text/plain": [
       "platform          3DS   DS    PC    PS3    PS4   PSP    PSV   Wii  WiiU  X360  \\\n",
       "year_of_release                                                                 \n",
       "2013.0           91.0  8.0  39.0  126.0   16.0  54.0   63.0  12.0  42.0  75.0   \n",
       "2014.0           80.0  NaN  47.0  108.0   75.0  10.0  100.0   6.0  31.0  63.0   \n",
       "2015.0           86.0  NaN  50.0   73.0  137.0   3.0  110.0   4.0  28.0  35.0   \n",
       "2016.0           46.0  NaN  54.0   38.0  164.0   NaN   85.0   1.0  14.0  13.0   \n",
       "\n",
       "platform         XOne  \n",
       "year_of_release        \n",
       "2013.0           19.0  \n",
       "2014.0           61.0  \n",
       "2015.0           80.0  \n",
       "2016.0           87.0  "
      ]
     },
     "execution_count": 55,
     "metadata": {},
     "output_type": "execute_result"
    }
   ],
   "source": [
    "years_of_act_platforms = data_act.pivot_table(columns='platform',\n",
    "                                              index='year_of_release',\n",
    "                                              values='name',\n",
    "                                              aggfunc='count')\n",
    "years_of_act_platforms"
   ]
  },
  {
   "cell_type": "markdown",
   "metadata": {},
   "source": [
    "Данные о платформах Nintendo DS и PSP стоит удалить из таблицы, так как платформы уже не акуальны и мы видим только кусочки данных о них за последние годы. В анализе они участвовать не будут."
   ]
  },
  {
   "cell_type": "code",
   "execution_count": 56,
   "metadata": {},
   "outputs": [],
   "source": [
    "data_act = data_act.drop(data_act[(data_act['platform'] == 'DS') | (\n",
    "    data_act['platform'] == 'PSP')].index)"
   ]
  },
  {
   "cell_type": "code",
   "execution_count": 57,
   "metadata": {},
   "outputs": [],
   "source": [
    "years_of_act_platforms = data_act.pivot_table(columns='platform',\n",
    "                                              index='year_of_release',\n",
    "                                              values='name',\n",
    "                                              aggfunc='count')"
   ]
  },
  {
   "cell_type": "code",
   "execution_count": 58,
   "metadata": {
    "scrolled": false
   },
   "outputs": [
    {
     "data": {
      "text/plain": [
       "<matplotlib.axes._subplots.AxesSubplot at 0x7f5bdf029dd0>"
      ]
     },
     "execution_count": 58,
     "metadata": {},
     "output_type": "execute_result"
    },
    {
     "data": {
      "image/png": "[encoded data removed]",
      "text/plain": [
       "<Figure size 720x576 with 1 Axes>"
      ]
     },
     "metadata": {
      "needs_background": "light"
     },
     "output_type": "display_data"
    }
   ],
   "source": [
    "years_of_act_platforms.plot(kind='line', figsize=(10, 8), grid=True)"
   ]
  },
  {
   "cell_type": "markdown",
   "metadata": {},
   "source": [
    "На графике актуального периода мы видим две платформы, появившиеся в 2013 году и ко времени анализа выпускающие наибольшее количество игр, это PlayStation 4 (PS4) и Xbox One (XOne). Довольно популярная, хотя и уже проходящая пик платформа - PlayStation Vita (PSV). Платформа, стабильно привлекающая пользователей, хотя по их количеству не приближающаяся к лидерам - PC, в последние 3 года также показывает небольшой рост количества выпущенных игр.\n",
    "\n",
    "Теперь посмотрим данные по продажам."
   ]
  },
  {
   "cell_type": "code",
   "execution_count": 59,
   "metadata": {},
   "outputs": [],
   "source": [
    "years_of_act_platforms_sales = data_act.pivot_table(columns='platform',\n",
    "                                                    index='year_of_release',\n",
    "                                                    values='overall_sales',\n",
    "                                                    aggfunc='sum')"
   ]
  },
  {
   "cell_type": "code",
   "execution_count": 60,
   "metadata": {
    "scrolled": false
   },
   "outputs": [
    {
     "data": {
      "text/plain": [
       "<matplotlib.axes._subplots.AxesSubplot at 0x7f5bd4d52f50>"
      ]
     },
     "execution_count": 60,
     "metadata": {},
     "output_type": "execute_result"
    },
    {
     "data": {
      "image/png": "[encoded data removed]",
      "text/plain": [
       "<Figure size 720x576 with 1 Axes>"
      ]
     },
     "metadata": {
      "needs_background": "light"
     },
     "output_type": "display_data"
    }
   ],
   "source": [
    "years_of_act_platforms_sales.plot(kind='line', figsize=(10, 8), grid=True)"
   ]
  },
  {
   "cell_type": "markdown",
   "metadata": {},
   "source": [
    "На графике продаж мы видим неожиданные данные, что две наиболее популярные по количеству игр платформы, находящиеся сейчас в тренде, по количеству продаж показывают резкое падение к 2016 году. Это не согласуется с вычисленным нами средним периодом жизни платформы, который составляет 11 лет, здесь же характерная дуга образовалась за три года. Возможно это связано с некорректными данными по продажам за 2016 год - в описании проекта сказано, что анализ проводится в декабре 2016 года - возможно не учтены данные за последние месяцы. Если учитывать это несоответствие, то платформы PlayStation 4 (PS4) и Xbox One (XOne) выглядят наиболее перспективными. Платформа, находящаяся на 3 месте по количесву продаж на 2016 год - Nintendo 3DS.\n",
    "\n",
    "Теперь рассмотрим средние продажи по каждой платформе."
   ]
  },
  {
   "cell_type": "code",
   "execution_count": 61,
   "metadata": {},
   "outputs": [],
   "source": [
    "years_of_act_platforms_sales_mean = data_act.pivot_table(columns='platform',\n",
    "                                                         index='year_of_release',\n",
    "                                                         values='overall_sales',\n",
    "                                                         aggfunc='mean')"
   ]
  },
  {
   "cell_type": "code",
   "execution_count": 62,
   "metadata": {
    "scrolled": false
   },
   "outputs": [
    {
     "data": {
      "text/plain": [
       "<matplotlib.axes._subplots.AxesSubplot at 0x7f5bd44a3510>"
      ]
     },
     "execution_count": 62,
     "metadata": {},
     "output_type": "execute_result"
    },
    {
     "data": {
      "image/png": "[encoded data removed]",
      "text/plain": [
       "<Figure size 720x576 with 1 Axes>"
      ]
     },
     "metadata": {
      "needs_background": "light"
     },
     "output_type": "display_data"
    }
   ],
   "source": [
    "years_of_act_platforms_sales_mean.plot(kind='line', figsize=(10, 8), grid=True)"
   ]
  },
  {
   "cell_type": "code",
   "execution_count": null,
   "metadata": {},
   "outputs": [],
   "source": []
  },
  {
   "cell_type": "markdown",
   "metadata": {},
   "source": [
    "Рассматривая этот график также будем делать поправку на то, что данные за 2016 год неполные. Четыре лидирующиие платформы по средней прибыли - PlayStation 4 (PS4), Xbox One (XOne), Wii U (WiiU) и Nintendo 3DS. Первые две также входят в пятерку лидеров по количеству выпущенных игр, а вот на платформе Wii U игр выходит не так много, но зато они приносят значительную прибыль. Платформа Nintendo 3DS хотя и приносит значительную прибыль, но по количеству игр показывает падение, а значит уже проходит пик популярности."
   ]
  },
  {
   "cell_type": "markdown",
   "metadata": {},
   "source": [
    "Построим график «ящик с усами» по глобальным продажам игр в разбивке по платформам."
   ]
  },
  {
   "cell_type": "code",
   "execution_count": 63,
   "metadata": {
    "scrolled": false
   },
   "outputs": [
    {
     "name": "stderr",
     "output_type": "stream",
     "text": [
      "/opt/conda/lib/python3.7/site-packages/numpy/core/_asarray.py:83: VisibleDeprecationWarning: Creating an ndarray from ragged nested sequences (which is a list-or-tuple of lists-or-tuples-or ndarrays with different lengths or shapes) is deprecated. If you meant to do this, you must specify 'dtype=object' when creating the ndarray\n",
      "  return array(a, dtype, copy=False, order=order)\n"
     ]
    },
    {
     "data": {
      "image/png": "[encoded data removed]",
      "text/plain": [
       "<Figure size 1080x1080 with 1 Axes>"
      ]
     },
     "metadata": {
      "needs_background": "light"
     },
     "output_type": "display_data"
    }
   ],
   "source": [
    "data_act.boxplot('overall_sales', by='platform', figsize=(15, 15))\n",
    "plt.yscale(\"log\")"
   ]
  },
  {
   "cell_type": "markdown",
   "metadata": {},
   "source": [
    "На графике мы видим, что игры на платформах PlayStation 4 (PS4), Xbox One (XOne), Wii U (WiiU) в среднем имеют сходные продажи, но на платформах PlayStation 4 и Xbox One гораздо больше 'выбросов' - игр, которые продаются гораздо лучше, чем игра на платформе в среднем, 'бестселлеров'. Игры на платформе Nintendo 3DS в среднем продаются хуже первых трех, но выбросов здесь тоже много, значит много выдающихся игр, которые приносят хорошую прибыль."
   ]
  },
  {
   "cell_type": "markdown",
   "metadata": {},
   "source": [
    "### Влияние отзывов"
   ]
  },
  {
   "cell_type": "markdown",
   "metadata": {},
   "source": [
    "Посмотрим, как влияют на продажи внутри одной популярной платформы отзывы пользователей и критиков. Построим диаграмму рассеяния и посчитаем корреляцию между отзывами и продажами. Для анализа возьмем платформу PlayStation 3, у нее достаточно большие продажи и к моменту анализа она еще не совсем устарела."
   ]
  },
  {
   "cell_type": "code",
   "execution_count": 64,
   "metadata": {},
   "outputs": [
    {
     "data": {
      "text/plain": [
       "0.42917277474201615"
      ]
     },
     "execution_count": 64,
     "metadata": {},
     "output_type": "execute_result"
    }
   ],
   "source": [
    "data[data['platform'] == 'PS3']['overall_sales'].corr(\n",
    "    data[data['platform'] == 'PS3']['critic_score'])"
   ]
  },
  {
   "cell_type": "code",
   "execution_count": 65,
   "metadata": {},
   "outputs": [
    {
     "data": {
      "text/plain": [
       "<matplotlib.axes._subplots.AxesSubplot at 0x7f5bd40d2e50>"
      ]
     },
     "execution_count": 65,
     "metadata": {},
     "output_type": "execute_result"
    },
    {
     "data": {
      "image/png": "[encoded data removed]",
      "text/plain": [
       "<Figure size 432x288 with 1 Axes>"
      ]
     },
     "metadata": {
      "needs_background": "light"
     },
     "output_type": "display_data"
    }
   ],
   "source": [
    "data.plot.scatter(x='overall_sales', y='critic_score')"
   ]
  },
  {
   "cell_type": "code",
   "execution_count": 66,
   "metadata": {
    "scrolled": true
   },
   "outputs": [
    {
     "data": {
      "text/plain": [
       "0.12499169862908313"
      ]
     },
     "execution_count": 66,
     "metadata": {},
     "output_type": "execute_result"
    }
   ],
   "source": [
    "data[data['platform'] == 'PS3']['overall_sales'].corr(\n",
    "    data[data['platform'] == 'PS3']['user_score'])"
   ]
  },
  {
   "cell_type": "code",
   "execution_count": 67,
   "metadata": {},
   "outputs": [
    {
     "data": {
      "text/plain": [
       "<matplotlib.axes._subplots.AxesSubplot at 0x7f5bd4095e10>"
      ]
     },
     "execution_count": 67,
     "metadata": {},
     "output_type": "execute_result"
    },
    {
     "data": {
      "image/png": "[encoded data removed]",
      "text/plain": [
       "<Figure size 432x288 with 1 Axes>"
      ]
     },
     "metadata": {
      "needs_background": "light"
     },
     "output_type": "display_data"
    }
   ],
   "source": [
    "data.plot.scatter(x='overall_sales', y='user_score')"
   ]
  },
  {
   "cell_type": "markdown",
   "metadata": {},
   "source": [
    "Мы видим, что между отзывами и продажами есть позитивная корреляция. Отзывы критиков оказывают слабое влияние на продажи, а вот отзывы пользователей практически никакого. Возможно это связано с тем, что отзывы критиков выходят раньше отзывов пользователей, и иногда даже раньше официального выпуска игры и имеют больший авторитет.\n",
    "\n",
    "Посмотрим, сохраняется ли эта корреляция на других платформах в актуальном периоде."
   ]
  },
  {
   "cell_type": "code",
   "execution_count": 68,
   "metadata": {},
   "outputs": [
    {
     "data": {
      "text/plain": [
       "0.3111300700116905"
      ]
     },
     "execution_count": 68,
     "metadata": {},
     "output_type": "execute_result"
    }
   ],
   "source": [
    "data_act['overall_sales'].corr(data_act['critic_score'])"
   ]
  },
  {
   "cell_type": "code",
   "execution_count": 69,
   "metadata": {},
   "outputs": [
    {
     "data": {
      "text/plain": [
       "-0.00877624870930554"
      ]
     },
     "execution_count": 69,
     "metadata": {},
     "output_type": "execute_result"
    }
   ],
   "source": [
    "data_act['overall_sales'].corr(data_act['user_score'])"
   ]
  },
  {
   "cell_type": "markdown",
   "metadata": {},
   "source": [
    "Корелляция между продажами и отзывами критиков в целом оказалась лишь немногим слабее, чем по одной платформе. А вот отзывы пользователей на продажи совсем не влияют."
   ]
  },
  {
   "cell_type": "markdown",
   "metadata": {},
   "source": [
    "### Распределение по жанрам"
   ]
  },
  {
   "cell_type": "markdown",
   "metadata": {},
   "source": [
    "Посмотрим на общее распределение игр по жанрам. Выделим жанры с высокими и низкими продажами и найдем самые прибыльные жанры.\n",
    "\n",
    "Сначала посмотрим распределение по жанрам выпущеных игр."
   ]
  },
  {
   "cell_type": "code",
   "execution_count": 70,
   "metadata": {
    "scrolled": false
   },
   "outputs": [
    {
     "data": {
      "text/plain": [
       "<matplotlib.axes._subplots.AxesSubplot at 0x7f5bd4e9c690>"
      ]
     },
     "execution_count": 70,
     "metadata": {},
     "output_type": "execute_result"
    },
    {
     "data": {
      "image/png": "[encoded data removed]",
      "text/plain": [
       "<Figure size 864x360 with 1 Axes>"
      ]
     },
     "metadata": {
      "needs_background": "light"
     },
     "output_type": "display_data"
    }
   ],
   "source": [
    "genres_games = data_act.pivot_table(index='genre',\n",
    "                                    values='name',\n",
    "                                    aggfunc='count').sort_values(by='name',\n",
    "                                                                 ascending=False)\n",
    "genres_games.plot(kind='bar', figsize=(12, 5))"
   ]
  },
  {
   "cell_type": "markdown",
   "metadata": {},
   "source": [
    "С огромным отрывом лидирует жанр Action, игр этого жанра было выпущено почти в три раза больше, чем следующего по количеству - Role-Playing. А игр в жанре Puzzle выпускают меньше всего.\n",
    "\n",
    "Посмотрим, как распределяются жанры по прибыльности. Для этого посмотрим среднюю прибыль от игры в каждом жанре."
   ]
  },
  {
   "cell_type": "code",
   "execution_count": 71,
   "metadata": {
    "scrolled": false
   },
   "outputs": [
    {
     "data": {
      "text/plain": [
       "<matplotlib.axes._subplots.AxesSubplot at 0x7f5bd41ee390>"
      ]
     },
     "execution_count": 71,
     "metadata": {},
     "output_type": "execute_result"
    },
    {
     "data": {
      "image/png": "[encoded data removed]",
      "text/plain": [
       "<Figure size 864x360 with 1 Axes>"
      ]
     },
     "metadata": {
      "needs_background": "light"
     },
     "output_type": "display_data"
    }
   ],
   "source": [
    "genres_sales = data_act.pivot_table(index='genre',\n",
    "                                    values='overall_sales',\n",
    "                                    aggfunc='median').sort_values(by='overall_sales',\n",
    "                                                                  ascending=False)\n",
    "genres_sales.plot(kind='bar', figsize=(12, 5))"
   ]
  },
  {
   "cell_type": "markdown",
   "metadata": {},
   "source": [
    "Самым прибыльным жанром является Shooter, но по количеству игр он всего на пятом месте, это повод обратить внимание на игры именно этого жанра. Игры в жанре Sports прибыльны, но и по количеству на третьем месте. Платформеры на третьем месте по продажам и на девятом по количеству - это тоже перспективный жанр. На предпоследнем месте по прибыльности жанр Adventure, но по количеству игр он четвертый. На этот жанр делать ставку не стоит. И последний и по продажам, и по количеству выпускаемых игр - жанр Puzzle также не очень интересен."
   ]
  },
  {
   "cell_type": "markdown",
   "metadata": {},
   "source": [
    "### Вывод"
   ]
  },
  {
   "cell_type": "markdown",
   "metadata": {},
   "source": [
    "До 2009 года количество ежегодно выпускаемых игр росло, но к моменту анализа упало больше чем в два раза по сравнению с максимумом.\n",
    "Самой популярной платформой за все время анализа стала PlayStation 2.\n",
    "Для шести самых популярных платформ мы составили графики продаж и выяснили, что в среднем платформа появляется, проходит пик популярности и уходит с рынка за 11 лет.\n",
    "Актуальный период для нашего анализа был выбран с 2013 года по настоящее время. Общие продажи игр за это время упали больше чем в два раза. Наибольшее количество игр было продано на платформах PlayStation 4, PlayStation 3, Xbox One, Nintendo 3DS и Xbox 360. Изучив график продаж по годам, наиболее перспективными мы признали платформы PlayStation 4 и Xbox One. Во-вторую очередь возможно обратить внимание на платформы Wii U, игр на ней выпускается не так много, но в пересчете на игру прибыль у них одна из наивысших, и Nintendo 3DS."
   ]
  },
  {
   "cell_type": "markdown",
   "metadata": {},
   "source": [
    "## Составление портрета пользователя"
   ]
  },
  {
   "cell_type": "markdown",
   "metadata": {},
   "source": [
    "Определим для пользователя каждого региона самые популярные платформы и жанры. Проверим, влияет ли рейтинг ESRB на продажи в отдельном регионе.\n"
   ]
  },
  {
   "cell_type": "markdown",
   "metadata": {},
   "source": [
    "### Предпочитаемые жанры"
   ]
  },
  {
   "cell_type": "markdown",
   "metadata": {},
   "source": [
    "Посмотрим, какие жанры игр популярны в каждом регионе. Чтобы сравнение было корректным, считать будем долю продаж каждого жанра от общего числа продаж в регионе."
   ]
  },
  {
   "cell_type": "code",
   "execution_count": 72,
   "metadata": {},
   "outputs": [],
   "source": [
    "genres_by_region = data_act.pivot_table(index='genre',\n",
    "                                        values=['na_sales',\n",
    "                                                'eu_sales', 'jp_sales'],\n",
    "                                        aggfunc='sum').sort_values(by='na_sales',\n",
    "                                                                      ascending=False)\n",
    "genres_by_region.loc[:, :] = genres_by_region.loc[:, :] / \\\n",
    "    genres_by_region.sum()"
   ]
  },
  {
   "cell_type": "code",
   "execution_count": 73,
   "metadata": {
    "scrolled": false
   },
   "outputs": [
    {
     "data": {
      "text/plain": [
       "<matplotlib.axes._subplots.AxesSubplot at 0x7f5bd42a2a50>"
      ]
     },
     "execution_count": 73,
     "metadata": {},
     "output_type": "execute_result"
    },
    {
     "data": {
      "image/png": "[encoded data removed]",
      "text/plain": [
       "<Figure size 864x360 with 1 Axes>"
      ]
     },
     "metadata": {
      "needs_background": "light"
     },
     "output_type": "display_data"
    }
   ],
   "source": [
    "genres_by_region.plot(kind='bar', figsize=(\n",
    "    12, 5), title='Продажи игр в различных жанрах по регионам')"
   ]
  },
  {
   "cell_type": "markdown",
   "metadata": {},
   "source": [
    "На графике мы видим, что популярность различных жанров среди пользователей трех регионов - Европы, Японии и Северной Америки, довольно сильно различается, причем в Европе и Америке вкусы более сходны.\n",
    "\n",
    "Определим топ-5 популярных жанров для каждого региона."
   ]
  },
  {
   "cell_type": "markdown",
   "metadata": {},
   "source": [
    "Северная Америка"
   ]
  },
  {
   "cell_type": "code",
   "execution_count": 74,
   "metadata": {
    "scrolled": false
   },
   "outputs": [
    {
     "data": {
      "text/plain": [
       "genre\n",
       "Action          0.287700\n",
       "Shooter         0.250983\n",
       "Sports          0.149314\n",
       "Role-Playing    0.106104\n",
       "Misc            0.062780\n",
       "Name: na_sales, dtype: float64"
      ]
     },
     "execution_count": 74,
     "metadata": {},
     "output_type": "execute_result"
    }
   ],
   "source": [
    "genres_by_region['na_sales'].sort_values(ascending=False).head()"
   ]
  },
  {
   "cell_type": "markdown",
   "metadata": {},
   "source": [
    "Европа"
   ]
  },
  {
   "cell_type": "code",
   "execution_count": 75,
   "metadata": {
    "scrolled": true
   },
   "outputs": [
    {
     "data": {
      "text/plain": [
       "genre\n",
       "Action          0.301449\n",
       "Shooter         0.224553\n",
       "Sports          0.154200\n",
       "Role-Playing    0.094529\n",
       "Racing          0.051545\n",
       "Name: eu_sales, dtype: float64"
      ]
     },
     "execution_count": 75,
     "metadata": {},
     "output_type": "execute_result"
    }
   ],
   "source": [
    "genres_by_region['eu_sales'].sort_values(ascending=False).head()"
   ]
  },
  {
   "cell_type": "markdown",
   "metadata": {},
   "source": [
    "Япония"
   ]
  },
  {
   "cell_type": "code",
   "execution_count": 76,
   "metadata": {
    "scrolled": false
   },
   "outputs": [
    {
     "data": {
      "text/plain": [
       "genre\n",
       "Role-Playing    0.363848\n",
       "Action          0.287658\n",
       "Misc            0.065929\n",
       "Fighting        0.055814\n",
       "Shooter         0.048028\n",
       "Name: jp_sales, dtype: float64"
      ]
     },
     "execution_count": 76,
     "metadata": {},
     "output_type": "execute_result"
    }
   ],
   "source": [
    "genres_by_region['jp_sales'].sort_values(ascending=False).head()"
   ]
  },
  {
   "cell_type": "markdown",
   "metadata": {},
   "source": [
    "Топ-5 жанров в Европе и Северной Америке практически идентичны, оба топа возглавляет жанр экшен, затем идут шутеры спортивные игры и ролевые, однако в Европе на пятом месте оказываются гонки, а в Америке игры смешанного жанра.\n",
    "В Японии топ совсем другой - на первом месте ролевые игры, затем экшн, смешанный жанр, шутеры и на последнем месте - платформеры."
   ]
  },
  {
   "cell_type": "markdown",
   "metadata": {},
   "source": [
    "### Популярные платформы"
   ]
  },
  {
   "cell_type": "markdown",
   "metadata": {},
   "source": [
    "Рассмотрим распределение платформ по популярности в каждом регионе."
   ]
  },
  {
   "cell_type": "code",
   "execution_count": 77,
   "metadata": {},
   "outputs": [],
   "source": [
    "platforms_by_region = data_act.pivot_table(index='platform',\n",
    "                                           values=['na_sales',\n",
    "                                                   'eu_sales', 'jp_sales'],\n",
    "                                           aggfunc='sum').sort_values(by='na_sales',\n",
    "                                                                         ascending=False)\n",
    "platforms_by_region.loc[:, :] = platforms_by_region.loc[:,\n",
    "                                                        :] / platforms_by_region.sum()"
   ]
  },
  {
   "cell_type": "code",
   "execution_count": 78,
   "metadata": {
    "scrolled": false
   },
   "outputs": [
    {
     "data": {
      "text/plain": [
       "<matplotlib.axes._subplots.AxesSubplot at 0x7f5bd4257f90>"
      ]
     },
     "execution_count": 78,
     "metadata": {},
     "output_type": "execute_result"
    },
    {
     "data": {
      "image/png": "[encoded data removed]",
      "text/plain": [
       "<Figure size 864x360 with 1 Axes>"
      ]
     },
     "metadata": {
      "needs_background": "light"
     },
     "output_type": "display_data"
    }
   ],
   "source": [
    "platforms_by_region.plot(kind='bar', figsize=(\n",
    "    12, 5), title='Продажи игр на различных платформах по регионам')"
   ]
  },
  {
   "cell_type": "markdown",
   "metadata": {},
   "source": [
    "Платформы, популярные в разных регионах также различны, в Японии подавляющую долю рынка занимает Nintendo 3DS, также популярны платформы семейства PlayStation, тогда как в Европе и Америке большую долю рынка занимают также платформы семейства Xbox."
   ]
  },
  {
   "cell_type": "markdown",
   "metadata": {},
   "source": [
    "Определим топ-5 самых популярных и платформ для каждого региона."
   ]
  },
  {
   "cell_type": "markdown",
   "metadata": {},
   "source": [
    "Северная Америка"
   ]
  },
  {
   "cell_type": "code",
   "execution_count": 79,
   "metadata": {
    "scrolled": false
   },
   "outputs": [
    {
     "data": {
      "text/plain": [
       "platform\n",
       "PS4     0.248560\n",
       "XOne    0.212803\n",
       "X360    0.186717\n",
       "PS3     0.145245\n",
       "3DS     0.087380\n",
       "Name: na_sales, dtype: float64"
      ]
     },
     "execution_count": 79,
     "metadata": {},
     "output_type": "execute_result"
    }
   ],
   "source": [
    "platforms_by_region['na_sales'].sort_values(ascending=False).head()"
   ]
  },
  {
   "cell_type": "markdown",
   "metadata": {},
   "source": [
    "Европа"
   ]
  },
  {
   "cell_type": "code",
   "execution_count": 80,
   "metadata": {
    "scrolled": true
   },
   "outputs": [
    {
     "data": {
      "text/plain": [
       "platform\n",
       "PS4     0.360584\n",
       "PS3     0.173264\n",
       "XOne    0.131609\n",
       "X360    0.108635\n",
       "3DS     0.079093\n",
       "Name: eu_sales, dtype: float64"
      ]
     },
     "execution_count": 80,
     "metadata": {},
     "output_type": "execute_result"
    }
   ],
   "source": [
    "platforms_by_region['eu_sales'].sort_values(ascending=False).head()"
   ]
  },
  {
   "cell_type": "markdown",
   "metadata": {},
   "source": [
    "Япония"
   ]
  },
  {
   "cell_type": "code",
   "execution_count": 81,
   "metadata": {},
   "outputs": [
    {
     "data": {
      "text/plain": [
       "platform\n",
       "3DS     0.493305\n",
       "PS3     0.169699\n",
       "PSV     0.133605\n",
       "PS4     0.116213\n",
       "WiiU    0.079173\n",
       "Name: jp_sales, dtype: float64"
      ]
     },
     "execution_count": 81,
     "metadata": {},
     "output_type": "execute_result"
    }
   ],
   "source": [
    "platforms_by_region['jp_sales'].sort_values(ascending=False).head()"
   ]
  },
  {
   "cell_type": "markdown",
   "metadata": {},
   "source": [
    "Платформы в разных регионах популярны довольно разные, однако везде в топ входит PS3 и PS4 и Nintendo 3DS. Xbox 360, возглавляющий топ в Америке, в Европе находится на 3 месте, а в Японии вообще не входит в топ. Xbox One есть в топе только в Америке на 4 месте. В Европе также на 5 месте стоит PC, которого нет в топах других  стран, а в Японии на 3 месте PS Vita и Wii U, которыех нет в других странах."
   ]
  },
  {
   "cell_type": "markdown",
   "metadata": {},
   "source": [
    "### Влияние рейтинга"
   ]
  },
  {
   "cell_type": "markdown",
   "metadata": {},
   "source": [
    "Ассоциация ESRB определяет возрастной рейтинг компьютерных игр. Имеется 8 вариантов рейтинга:\n",
    "\n",
    "* AO (\"Adults Only 18+\") — «Только для взрослых»: Содержание игры только для взрослых старше 18 лет;\n",
    "* E (\"Everyone\") — «Для всех»: Содержание вполне подходит для возрастной категории от 6 лет и старше, такие игры могут понравиться и взрослым;\n",
    "* E10+ (\"Everyone 10 and older\") — «Для всех от 10 лет и старше»: Проекты с данным рейтингом могут содержать немного больше мультипликационного или мягкого насилия, или несколько откровенные сцены или минимальное количество крови;\n",
    "* EC (\"Early childhood\") — «Для детей младшего возраста»: Игра подходит для детей от 3 лет и старше и не содержит материалов, которые родители могли бы счесть неподходящими;\n",
    "* K-A (\"Kids to Adult\") — «От детей до взрослых»: Игры, содержание которых подходит любой аудитории;\n",
    "* M («Mature») — «Для взрослых»: Материалы игры не подходят для подростков младше 17 лет.\n",
    "* T («Teen») — «Подросткам»: Игра подходит для лиц от 13 лет и старше.\n",
    "* RP («Rating Pending») — «Рейтинг ожидается»: Продукт был отправлен в ESRB и ожидает присвоения рейтинга.\n",
    "\n",
    "Посмотрим, как рейтинг влияет на популярность игр в  различных регионах."
   ]
  },
  {
   "cell_type": "code",
   "execution_count": 82,
   "metadata": {
    "scrolled": false
   },
   "outputs": [
    {
     "data": {
      "text/plain": [
       "<matplotlib.axes._subplots.AxesSubplot at 0x7f5bcefd40d0>"
      ]
     },
     "execution_count": 82,
     "metadata": {},
     "output_type": "execute_result"
    },
    {
     "data": {
      "image/png": "[encoded data removed]",
      "text/plain": [
       "<Figure size 432x288 with 1 Axes>"
      ]
     },
     "metadata": {
      "needs_background": "light"
     },
     "output_type": "display_data"
    }
   ],
   "source": [
    "rating_by_region = data_act.pivot_table(index='rating',\n",
    "                                        values=['na_sales',\n",
    "                                                'eu_sales', 'jp_sales'],\n",
    "                                        aggfunc='mean').sort_values(by='na_sales',\n",
    "                                                                    ascending=False)\n",
    "rating_by_region.loc[:, :] = rating_by_region.loc[:, :] / \\\n",
    "    rating_by_region.sum()\n",
    "rating_by_region.plot(kind='bar')"
   ]
  },
  {
   "cell_type": "code",
   "execution_count": 83,
   "metadata": {},
   "outputs": [
    {
     "data": {
      "text/html": [
       "<div>\n",
       "<style scoped>\n",
       "    .dataframe tbody tr th:only-of-type {\n",
       "        vertical-align: middle;\n",
       "    }\n",
       "\n",
       "    .dataframe tbody tr th {\n",
       "        vertical-align: top;\n",
       "    }\n",
       "\n",
       "    .dataframe thead th {\n",
       "        text-align: right;\n",
       "    }\n",
       "</style>\n",
       "<table border=\"1\" class=\"dataframe\">\n",
       "  <thead>\n",
       "    <tr style=\"text-align: right;\">\n",
       "      <th></th>\n",
       "      <th>eu_sales</th>\n",
       "      <th>jp_sales</th>\n",
       "      <th>na_sales</th>\n",
       "    </tr>\n",
       "    <tr>\n",
       "      <th>rating</th>\n",
       "      <th></th>\n",
       "      <th></th>\n",
       "      <th></th>\n",
       "    </tr>\n",
       "  </thead>\n",
       "  <tbody>\n",
       "    <tr>\n",
       "      <td>M</td>\n",
       "      <td>0.373566</td>\n",
       "      <td>0.145076</td>\n",
       "      <td>0.379937</td>\n",
       "    </tr>\n",
       "    <tr>\n",
       "      <td>E</td>\n",
       "      <td>0.263599</td>\n",
       "      <td>0.191227</td>\n",
       "      <td>0.225619</td>\n",
       "    </tr>\n",
       "    <tr>\n",
       "      <td>E10+</td>\n",
       "      <td>0.163415</td>\n",
       "      <td>0.090807</td>\n",
       "      <td>0.185970</td>\n",
       "    </tr>\n",
       "    <tr>\n",
       "      <td>T</td>\n",
       "      <td>0.116836</td>\n",
       "      <td>0.227760</td>\n",
       "      <td>0.124428</td>\n",
       "    </tr>\n",
       "    <tr>\n",
       "      <td>unknown</td>\n",
       "      <td>0.082585</td>\n",
       "      <td>0.345130</td>\n",
       "      <td>0.084047</td>\n",
       "    </tr>\n",
       "  </tbody>\n",
       "</table>\n",
       "</div>"
      ],
      "text/plain": [
       "         eu_sales  jp_sales  na_sales\n",
       "rating                               \n",
       "M        0.373566  0.145076  0.379937\n",
       "E        0.263599  0.191227  0.225619\n",
       "E10+     0.163415  0.090807  0.185970\n",
       "T        0.116836  0.227760  0.124428\n",
       "unknown  0.082585  0.345130  0.084047"
      ]
     },
     "execution_count": 83,
     "metadata": {},
     "output_type": "execute_result"
    }
   ],
   "source": [
    "rating_by_region"
   ]
  },
  {
   "cell_type": "markdown",
   "metadata": {},
   "source": [
    "В Европе и Америке популярность игр с различными рейтингами имеет сходную структуру - самыми популярными являются игры с рейтингом 'M' - для взрослых, затем 'E' - для всех, затем 'E10+' - для всех старше 10 лет, затем 'T' - игры для лиц от 13 и старше и, наконец, игры без рейтинга\n",
    "\n",
    "В Японии самыми популярными являются игры без рейтинга, заетм с рейтингом 'E' - для всех, затем 'T' - для лиц старше 13, затем 'M' - для взрослых, и наконец 'E10+' - для всех старше 10. \n",
    "\n",
    "То есть в Европе и Америке популярны более 'взрослые' игры, а в Японии - более 'детские'. Это соотносится и с распределением популярных жанров. Также в Японии более популярны игры без рейтинга, а в Европе и Америке их доля самая маленькая.\n",
    "\n",
    "Однако сказать, влияет ли рейтинг на продажи, или определенные игры популярны вне зависимости от рейтинга из имеющихся данных нельзя. Рейтинг ESRB обязателен только для Канады и США, поэтому возможно для игр, популярных только в Японии или имеющих отдельную японскую версию такой рейтинг не ставиться."
   ]
  },
  {
   "cell_type": "markdown",
   "metadata": {},
   "source": [
    "### Вывод"
   ]
  },
  {
   "cell_type": "markdown",
   "metadata": {},
   "source": [
    "Мы составили характерные портреты пользователей из каждого региона.\n",
    "\n",
    "Пользователь из Северной Америки чаще всего играет в игры жанра экшн на платформе Xbox 360 и предпочитает игры с рейтингом М.\n",
    "\n",
    "Пользователь из Европы также играет в экшн, но уже на PlayStation 3 и также предпочитает игры с рейтингом М.\n",
    "\n",
    "Пользователь из Японии играет в ролевые игры на Nintendo 3DS и чаще покупает игры без рейтинга."
   ]
  },
  {
   "cell_type": "markdown",
   "metadata": {},
   "source": [
    "## Проверка гипотез"
   ]
  },
  {
   "cell_type": "markdown",
   "metadata": {},
   "source": [
    "### Сравнение рейтингов платформ Xbox One и PC"
   ]
  },
  {
   "cell_type": "markdown",
   "metadata": {},
   "source": [
    "Формулируем нулевую гипотезу H₀. H₀ всегда формулируется так, чтобы использовать знак равенства. В данном случае H₀ будет звучать так:\n",
    "\n",
    "\"Средние пользовательские рейтинги платформ Xbox One и PC одинаковы\"\n",
    "\n",
    "Альтернативная гипотезу H1 для этой нулевой гипотезы на данном этапе можно сформулировать так:\n",
    "\n",
    "\"Средние пользовательские рейтинги платформ Xbox One и PC различаются.\"\n",
    "\n",
    "Однако попробуем сравнить средние рейтинги по двум платформам и предположить более точную одностороннюю альтернативную гипотезу."
   ]
  },
  {
   "cell_type": "code",
   "execution_count": 84,
   "metadata": {},
   "outputs": [],
   "source": [
    "user_rating_XOne = data[data['platform'] == 'XOne']['user_score'].dropna()\n",
    "user_rating_PC = data[data['platform'] == 'PC']['user_score'].dropna()"
   ]
  },
  {
   "cell_type": "code",
   "execution_count": 85,
   "metadata": {},
   "outputs": [],
   "source": [
    "mean_rating_XOne = user_rating_XOne.mean()\n",
    "mean_rating_PC = user_rating_PC.mean()"
   ]
  },
  {
   "cell_type": "code",
   "execution_count": 86,
   "metadata": {
    "scrolled": true
   },
   "outputs": [
    {
     "name": "stdout",
     "output_type": "stream",
     "text": [
      "Средний рейтинг на Xbox One 6.5\n",
      "Средний рейтинг на PC 7.0498611111111105\n"
     ]
    }
   ],
   "source": [
    "print('Средний рейтинг на Xbox One', mean_rating_XOne)\n",
    "print('Средний рейтинг на PC', mean_rating_PC)"
   ]
  },
  {
   "cell_type": "markdown",
   "metadata": {},
   "source": [
    "Рейтинг на платформе PC кажется больше. Сформулируем новую пару гипотез.\n",
    "\n",
    "Гипотеза H₀:\n",
    "\n",
    "\"Средние пользовательские рейтинги платформ Xbox One и PC одинаковы\"\n",
    "\n",
    "Альтернативная гипотеза H1:\n",
    "\n",
    "\"Средние пользовательские рейтинги платформы PC больше, чем Xbox One\"\n",
    "\n",
    "Для проверки гипотез будем использовать специальный метод для проверки гипотезы о равенстве среднего двух генеральных совокупностей по взятым из них выборкам."
   ]
  },
  {
   "cell_type": "markdown",
   "metadata": {},
   "source": [
    "Сравним дисперсии выборок"
   ]
  },
  {
   "cell_type": "code",
   "execution_count": 87,
   "metadata": {},
   "outputs": [
    {
     "data": {
      "text/plain": [
       "1.895906432748538"
      ]
     },
     "execution_count": 87,
     "metadata": {},
     "output_type": "execute_result"
    }
   ],
   "source": [
    "np.var(user_rating_XOne, ddof=1)"
   ]
  },
  {
   "cell_type": "code",
   "execution_count": 88,
   "metadata": {
    "scrolled": true
   },
   "outputs": [
    {
     "data": {
      "text/plain": [
       "2.4092906621851338"
      ]
     },
     "execution_count": 88,
     "metadata": {},
     "output_type": "execute_result"
    }
   ],
   "source": [
    "np.var(user_rating_PC, ddof=1)"
   ]
  },
  {
   "cell_type": "markdown",
   "metadata": {},
   "source": [
    "Дисперсии не сильно отличаются, можно оставить equal_var равным True. Пороговое значение зададим равным 5%."
   ]
  },
  {
   "cell_type": "code",
   "execution_count": 89,
   "metadata": {},
   "outputs": [
    {
     "name": "stdout",
     "output_type": "stream",
     "text": [
      "p-значение:  1.1200988121446985e-05\n",
      "Отвергаем нулевую гипотезу\n"
     ]
    }
   ],
   "source": [
    "alpha = 0.05\n",
    "\n",
    "results = st.ttest_ind(user_rating_XOne, user_rating_PC)\n",
    "print('p-значение: ', results.pvalue/2)\n",
    "\n",
    "# pvalue делим на два, так как тест односторонний, и включаем проверку неравенства средних\n",
    "if (results.pvalue/2 < alpha) and (mean_rating_PC > mean_rating_XOne):\n",
    "    print(\"Отвергаем нулевую гипотезу\")\n",
    "else:\n",
    "    print(\"Не получилось отвергнуть нулевую гипотезу\")"
   ]
  },
  {
   "cell_type": "markdown",
   "metadata": {},
   "source": [
    "t-тест показал, что мы можем отвергнуть нулевую гипотезу: \"Средние пользовательские рейтинги платформ Xbox One и PC одинаковы\". Соответственно средний пользовательский рейтинг платформы PC больше, чем Xbox One."
   ]
  },
  {
   "cell_type": "markdown",
   "metadata": {},
   "source": [
    "### Сравнение рейтингов жанров Action и Sports"
   ]
  },
  {
   "cell_type": "markdown",
   "metadata": {},
   "source": [
    "Формулируем нулевую гипотезу H₀. H₀ всегда формулируется так, чтобы использовать знак равенства. В данном случае H₀ будет звучать так:\n",
    "\n",
    "\"Средние пользовательские рейтинги жанров Action (англ. «действие», экшен-игры) и Sports (англ. «спортивные соревнования») одинаковые.\"\n",
    "\n",
    "Альтернативная гипотезу H1 для этой нулевой гипотезы на данном этапе можно сформулировать так:\n",
    "\n",
    "\"Средние пользовательские рейтинги жанров Action и Sports разные.\"\n",
    "\n",
    "Однако попробуем сравнить средние рейтинги по двум платформам и предположить более точную одностороннюю альтернативную гипотезу."
   ]
  },
  {
   "cell_type": "code",
   "execution_count": 90,
   "metadata": {},
   "outputs": [],
   "source": [
    "user_rating_action = data[data['genre'] == 'Action']['user_score'].dropna()\n",
    "user_rating_sports = data[data['genre'] == 'Sports']['user_score'].dropna()"
   ]
  },
  {
   "cell_type": "code",
   "execution_count": 91,
   "metadata": {},
   "outputs": [],
   "source": [
    "mean_rating_action = user_rating_action.mean()\n",
    "mean_rating_sports = user_rating_sports.mean()"
   ]
  },
  {
   "cell_type": "code",
   "execution_count": 92,
   "metadata": {
    "scrolled": true
   },
   "outputs": [
    {
     "name": "stdout",
     "output_type": "stream",
     "text": [
      "Средний рейтинг жанра Action 7.058931552587646\n",
      "Средний рейтинг жанра Sports 6.9557692307692305\n"
     ]
    }
   ],
   "source": [
    "print('Средний рейтинг жанра Action', mean_rating_action)\n",
    "print('Средний рейтинг жанра Sports', mean_rating_sports)"
   ]
  },
  {
   "cell_type": "markdown",
   "metadata": {},
   "source": [
    "Рейтинги очень похожи, оставим двустороннюю гипотезу."
   ]
  },
  {
   "cell_type": "markdown",
   "metadata": {},
   "source": [
    "Сравним дисперсии выборок"
   ]
  },
  {
   "cell_type": "code",
   "execution_count": 93,
   "metadata": {},
   "outputs": [
    {
     "data": {
      "text/plain": [
       "2.027521797650873"
      ]
     },
     "execution_count": 93,
     "metadata": {},
     "output_type": "execute_result"
    }
   ],
   "source": [
    "np.var(user_rating_action, ddof=1)"
   ]
  },
  {
   "cell_type": "code",
   "execution_count": 94,
   "metadata": {
    "scrolled": true
   },
   "outputs": [
    {
     "data": {
      "text/plain": [
       "2.6166394627370795"
      ]
     },
     "execution_count": 94,
     "metadata": {},
     "output_type": "execute_result"
    }
   ],
   "source": [
    "np.var(user_rating_sports, ddof=1)"
   ]
  },
  {
   "cell_type": "markdown",
   "metadata": {},
   "source": [
    "Дисперсии не сильно отличаются, можно оставить equal_var равным True. Пороговое значение зададим равным 5%."
   ]
  },
  {
   "cell_type": "code",
   "execution_count": 95,
   "metadata": {},
   "outputs": [
    {
     "name": "stdout",
     "output_type": "stream",
     "text": [
      "p-значение:  0.07317884722990332\n",
      "Не получилось отвергнуть нулевую гипотезу\n"
     ]
    }
   ],
   "source": [
    "alpha = 0.05\n",
    "\n",
    "results = st.ttest_ind(user_rating_action, user_rating_sports)\n",
    "print('p-значение: ', results.pvalue)\n",
    "\n",
    "if results.pvalue < alpha:\n",
    "    print(\"Отвергаем нулевую гипотезу\")\n",
    "else:\n",
    "    print(\"Не получилось отвергнуть нулевую гипотезу\")"
   ]
  },
  {
   "cell_type": "markdown",
   "metadata": {},
   "source": [
    "t-тест показал, что мы не можем отвергнуть нулевую гипотезу: \"Средние пользовательские рейтинги жанров Action и Sports одинаковые\"."
   ]
  },
  {
   "cell_type": "markdown",
   "metadata": {},
   "source": [
    "### Вывод"
   ]
  },
  {
   "cell_type": "markdown",
   "metadata": {},
   "source": [
    "Мы проверили две гипотезы, о равенстве средних пользовательских рейтингов платформ Xbox One и PC и о равенстве средних пользовательских рейтингов жанров Action и Sports. В первом случае нулевая гипотеза была отброшена и принята альтернативная гипотеза о том, что средний пользовательский рейтинг платформы PC больше, чем Xbox One. Во втором случае нулевая гипотеза отброшена не была."
   ]
  },
  {
   "cell_type": "markdown",
   "metadata": {},
   "source": [
    "## Общий вывод"
   ]
  },
  {
   "cell_type": "markdown",
   "metadata": {},
   "source": [
    "В результате анализа мы выяснили, что наиболее перспективными на 2017 год будут игры на платформах PlayStation 4 и Xbox One(первый приоритет) и Wii U и Nintendo 3DS (второй приоритет, азиатский рынок). Самый перспективный жанр - шутер, на момент анализа игры в этом жанре были наиболее прибыльными, но по количеству они всего на четвертом месте. Игры в жанре спорт на втором месте по прибыльности, но и на третьем по количеству, а на третьем месте по прибыльности - платформеры, которых выпускается приктически меньше всех."
   ]
  }
 ],
 "metadata": {
  "ExecuteTimeLog": [
   {
    "duration": 1177,
    "start_time": "2022-01-10T07:41:28.294Z"
   },
   {
    "duration": 4,
    "start_time": "2022-01-10T07:41:30.015Z"
   },
   {
    "duration": 280,
    "start_time": "2022-01-10T07:47:37.350Z"
   },
   {
    "duration": 56,
    "start_time": "2022-01-10T07:50:38.901Z"
   },
   {
    "duration": 25,
    "start_time": "2022-01-10T07:50:45.120Z"
   },
   {
    "duration": 14,
    "start_time": "2022-01-10T07:51:38.615Z"
   },
   {
    "duration": 4,
    "start_time": "2022-01-10T08:07:35.308Z"
   },
   {
    "duration": 19,
    "start_time": "2022-01-10T08:07:44.233Z"
   },
   {
    "duration": 1506,
    "start_time": "2022-01-10T08:08:58.261Z"
   },
   {
    "duration": 4,
    "start_time": "2022-01-10T08:08:59.771Z"
   },
   {
    "duration": 51,
    "start_time": "2022-01-10T08:08:59.780Z"
   },
   {
    "duration": 37,
    "start_time": "2022-01-10T08:08:59.834Z"
   },
   {
    "duration": 13,
    "start_time": "2022-01-10T08:08:59.874Z"
   },
   {
    "duration": 4,
    "start_time": "2022-01-10T08:08:59.889Z"
   },
   {
    "duration": 5,
    "start_time": "2022-01-10T08:08:59.895Z"
   },
   {
    "duration": 62,
    "start_time": "2022-01-10T08:08:59.902Z"
   },
   {
    "duration": 14,
    "start_time": "2022-01-10T08:09:51.558Z"
   },
   {
    "duration": 9603,
    "start_time": "2022-01-10T08:13:32.770Z"
   },
   {
    "duration": 21,
    "start_time": "2022-01-10T08:13:49.951Z"
   },
   {
    "duration": 31,
    "start_time": "2022-01-10T08:16:04.979Z"
   },
   {
    "duration": 6,
    "start_time": "2022-01-10T08:35:51.949Z"
   },
   {
    "duration": 13,
    "start_time": "2022-01-10T08:36:04.491Z"
   },
   {
    "duration": 7,
    "start_time": "2022-01-10T08:39:46.317Z"
   },
   {
    "duration": 13,
    "start_time": "2022-01-10T08:39:47.172Z"
   },
   {
    "duration": 12,
    "start_time": "2022-01-10T08:39:57.201Z"
   },
   {
    "duration": 124,
    "start_time": "2022-01-10T08:41:00.917Z"
   },
   {
    "duration": 10,
    "start_time": "2022-01-10T08:41:23.582Z"
   },
   {
    "duration": 6,
    "start_time": "2022-01-10T08:41:32.870Z"
   },
   {
    "duration": 7,
    "start_time": "2022-01-10T08:41:37.916Z"
   },
   {
    "duration": 119,
    "start_time": "2022-01-10T10:01:44.407Z"
   },
   {
    "duration": 117,
    "start_time": "2022-01-10T10:02:09.674Z"
   },
   {
    "duration": 119,
    "start_time": "2022-01-10T10:02:34.755Z"
   },
   {
    "duration": 179,
    "start_time": "2022-01-10T10:03:09.483Z"
   },
   {
    "duration": 145,
    "start_time": "2022-01-10T10:03:52.568Z"
   },
   {
    "duration": 129,
    "start_time": "2022-01-10T10:04:01.196Z"
   },
   {
    "duration": 127,
    "start_time": "2022-01-10T10:04:12.244Z"
   },
   {
    "duration": 334,
    "start_time": "2022-01-10T10:05:18.160Z"
   },
   {
    "duration": 149,
    "start_time": "2022-01-10T10:05:29.508Z"
   },
   {
    "duration": 162,
    "start_time": "2022-01-10T10:06:39.718Z"
   },
   {
    "duration": 117,
    "start_time": "2022-01-10T10:07:25.236Z"
   },
   {
    "duration": 365,
    "start_time": "2022-01-10T10:08:27.966Z"
   },
   {
    "duration": 56,
    "start_time": "2022-01-10T10:08:49.518Z"
   },
   {
    "duration": 149,
    "start_time": "2022-01-10T10:10:48.692Z"
   },
   {
    "duration": 19,
    "start_time": "2022-01-10T10:10:53.718Z"
   },
   {
    "duration": 504,
    "start_time": "2022-01-10T10:30:15.080Z"
   },
   {
    "duration": 488,
    "start_time": "2022-01-10T10:30:26.933Z"
   },
   {
    "duration": 466,
    "start_time": "2022-01-10T10:31:01.001Z"
   },
   {
    "duration": 132,
    "start_time": "2022-01-10T10:31:09.977Z"
   },
   {
    "duration": 1030,
    "start_time": "2022-01-10T10:31:13.417Z"
   },
   {
    "duration": 31,
    "start_time": "2022-01-10T10:31:50.628Z"
   },
   {
    "duration": 401,
    "start_time": "2022-01-10T10:33:00.281Z"
   },
   {
    "duration": 441,
    "start_time": "2022-01-10T10:33:13.417Z"
   },
   {
    "duration": 398,
    "start_time": "2022-01-10T10:33:22.130Z"
   },
   {
    "duration": 35,
    "start_time": "2022-01-10T10:33:57.217Z"
   },
   {
    "duration": 16,
    "start_time": "2022-01-10T10:34:27.682Z"
   },
   {
    "duration": 50,
    "start_time": "2022-01-10T10:34:47.720Z"
   },
   {
    "duration": 49,
    "start_time": "2022-01-10T10:35:04.605Z"
   },
   {
    "duration": 21,
    "start_time": "2022-01-10T10:35:11.488Z"
   },
   {
    "duration": 227,
    "start_time": "2022-01-10T10:35:19.436Z"
   },
   {
    "duration": 21,
    "start_time": "2022-01-10T10:36:16.323Z"
   },
   {
    "duration": 193,
    "start_time": "2022-01-10T10:36:22.296Z"
   },
   {
    "duration": 18,
    "start_time": "2022-01-10T10:36:32.777Z"
   },
   {
    "duration": 6,
    "start_time": "2022-01-10T10:36:39.678Z"
   },
   {
    "duration": 41,
    "start_time": "2022-01-10T10:38:44.017Z"
   },
   {
    "duration": 61,
    "start_time": "2022-01-10T10:38:58.617Z"
   },
   {
    "duration": 58,
    "start_time": "2022-01-10T10:39:54.817Z"
   },
   {
    "duration": 43,
    "start_time": "2022-01-10T10:40:08.886Z"
   },
   {
    "duration": 44,
    "start_time": "2022-01-10T10:40:21.199Z"
   },
   {
    "duration": 68,
    "start_time": "2022-01-10T10:40:38.392Z"
   },
   {
    "duration": 42,
    "start_time": "2022-01-10T10:40:48.457Z"
   },
   {
    "duration": 39,
    "start_time": "2022-01-10T10:45:32.584Z"
   },
   {
    "duration": 92,
    "start_time": "2022-01-10T10:45:41.452Z"
   },
   {
    "duration": 66,
    "start_time": "2022-01-10T10:46:00.986Z"
   },
   {
    "duration": 43,
    "start_time": "2022-01-10T10:46:09.847Z"
   },
   {
    "duration": 41,
    "start_time": "2022-01-10T10:46:15.875Z"
   },
   {
    "duration": 257,
    "start_time": "2022-01-10T10:47:57.886Z"
   },
   {
    "duration": 14,
    "start_time": "2022-01-10T10:48:18.043Z"
   },
   {
    "duration": 28,
    "start_time": "2022-01-10T10:50:09.748Z"
   },
   {
    "duration": 453,
    "start_time": "2022-01-10T10:55:49.052Z"
   },
   {
    "duration": 5,
    "start_time": "2022-01-10T10:55:52.162Z"
   },
   {
    "duration": 46,
    "start_time": "2022-01-10T10:55:54.928Z"
   },
   {
    "duration": 6,
    "start_time": "2022-01-10T10:56:14.416Z"
   },
   {
    "duration": 33,
    "start_time": "2022-01-10T10:56:15.963Z"
   },
   {
    "duration": 5,
    "start_time": "2022-01-10T10:57:53.496Z"
   },
   {
    "duration": 30,
    "start_time": "2022-01-10T10:57:55.108Z"
   },
   {
    "duration": 2345,
    "start_time": "2022-01-10T11:00:37.591Z"
   },
   {
    "duration": 39,
    "start_time": "2022-01-10T11:01:37.843Z"
   },
   {
    "duration": 29,
    "start_time": "2022-01-10T11:01:55.144Z"
   },
   {
    "duration": 39,
    "start_time": "2022-01-10T11:02:14.617Z"
   },
   {
    "duration": 1800,
    "start_time": "2022-01-10T11:04:55.330Z"
   },
   {
    "duration": 92,
    "start_time": "2022-01-10T11:05:32.122Z"
   },
   {
    "duration": 133,
    "start_time": "2022-01-10T11:05:49.158Z"
   },
   {
    "duration": 147,
    "start_time": "2022-01-10T11:05:56.008Z"
   },
   {
    "duration": 120,
    "start_time": "2022-01-10T11:06:09.868Z"
   },
   {
    "duration": 121,
    "start_time": "2022-01-10T11:07:24.257Z"
   },
   {
    "duration": 171,
    "start_time": "2022-01-10T11:07:40.859Z"
   },
   {
    "duration": 652,
    "start_time": "2022-01-10T11:07:52.527Z"
   },
   {
    "duration": 39,
    "start_time": "2022-01-10T11:08:47.003Z"
   },
   {
    "duration": 41,
    "start_time": "2022-01-10T11:09:27.168Z"
   },
   {
    "duration": 51,
    "start_time": "2022-01-10T11:10:03.885Z"
   },
   {
    "duration": 282,
    "start_time": "2022-01-10T11:10:47.876Z"
   },
   {
    "duration": 7,
    "start_time": "2022-01-10T11:10:54.944Z"
   },
   {
    "duration": 114,
    "start_time": "2022-01-10T11:11:43.127Z"
   },
   {
    "duration": 8,
    "start_time": "2022-01-10T11:15:32.224Z"
   },
   {
    "duration": 1868,
    "start_time": "2022-01-10T11:15:39.059Z"
   },
   {
    "duration": 5,
    "start_time": "2022-01-10T11:15:40.930Z"
   },
   {
    "duration": 52,
    "start_time": "2022-01-10T11:15:40.959Z"
   },
   {
    "duration": 23,
    "start_time": "2022-01-10T11:15:41.014Z"
   },
   {
    "duration": 29,
    "start_time": "2022-01-10T11:15:41.040Z"
   },
   {
    "duration": 5,
    "start_time": "2022-01-10T11:15:41.073Z"
   },
   {
    "duration": 7,
    "start_time": "2022-01-10T11:15:41.081Z"
   },
   {
    "duration": 27,
    "start_time": "2022-01-10T11:15:41.095Z"
   },
   {
    "duration": 63,
    "start_time": "2022-01-10T11:15:41.126Z"
   },
   {
    "duration": 11,
    "start_time": "2022-01-10T11:15:41.192Z"
   },
   {
    "duration": 22,
    "start_time": "2022-01-10T11:15:41.206Z"
   },
   {
    "duration": 42,
    "start_time": "2022-01-10T11:15:41.231Z"
   },
   {
    "duration": 9,
    "start_time": "2022-01-10T11:15:41.277Z"
   },
   {
    "duration": 303,
    "start_time": "2022-01-10T11:15:41.288Z"
   },
   {
    "duration": 107,
    "start_time": "2022-01-10T11:15:41.594Z"
   },
   {
    "duration": 32,
    "start_time": "2022-01-10T11:15:41.758Z"
   },
   {
    "duration": 98,
    "start_time": "2022-01-10T11:15:41.793Z"
   },
   {
    "duration": 89,
    "start_time": "2022-01-10T11:15:41.893Z"
   },
   {
    "duration": 7,
    "start_time": "2022-01-10T11:15:41.985Z"
   },
   {
    "duration": 471,
    "start_time": "2022-01-10T11:15:41.994Z"
   },
   {
    "duration": 7,
    "start_time": "2022-01-10T11:15:42.468Z"
   },
   {
    "duration": 29,
    "start_time": "2022-01-10T11:16:12.569Z"
   },
   {
    "duration": 1815,
    "start_time": "2022-01-10T11:16:20.966Z"
   },
   {
    "duration": 4,
    "start_time": "2022-01-10T11:16:22.784Z"
   },
   {
    "duration": 52,
    "start_time": "2022-01-10T11:16:22.791Z"
   },
   {
    "duration": 27,
    "start_time": "2022-01-10T11:16:22.845Z"
   },
   {
    "duration": 27,
    "start_time": "2022-01-10T11:16:22.874Z"
   },
   {
    "duration": 8,
    "start_time": "2022-01-10T11:16:22.904Z"
   },
   {
    "duration": 9,
    "start_time": "2022-01-10T11:16:22.914Z"
   },
   {
    "duration": 53,
    "start_time": "2022-01-10T11:16:22.925Z"
   },
   {
    "duration": 18,
    "start_time": "2022-01-10T11:16:22.982Z"
   },
   {
    "duration": 8,
    "start_time": "2022-01-10T11:16:23.003Z"
   },
   {
    "duration": 46,
    "start_time": "2022-01-10T11:16:23.013Z"
   },
   {
    "duration": 13,
    "start_time": "2022-01-10T11:16:23.062Z"
   },
   {
    "duration": 10,
    "start_time": "2022-01-10T11:16:23.078Z"
   },
   {
    "duration": 25,
    "start_time": "2022-01-10T11:16:23.090Z"
   },
   {
    "duration": 63,
    "start_time": "2022-01-10T11:16:23.118Z"
   },
   {
    "duration": 22,
    "start_time": "2022-01-10T11:16:23.184Z"
   },
   {
    "duration": 53,
    "start_time": "2022-01-10T11:16:23.209Z"
   },
   {
    "duration": 65,
    "start_time": "2022-01-10T11:16:23.264Z"
   },
   {
    "duration": 5,
    "start_time": "2022-01-10T11:16:23.332Z"
   },
   {
    "duration": 301,
    "start_time": "2022-01-10T11:16:23.360Z"
   },
   {
    "duration": 7,
    "start_time": "2022-01-10T11:16:23.663Z"
   },
   {
    "duration": 14,
    "start_time": "2022-01-10T11:17:12.216Z"
   },
   {
    "duration": 21,
    "start_time": "2022-01-10T11:17:32.146Z"
   },
   {
    "duration": 10,
    "start_time": "2022-01-10T12:36:10.719Z"
   },
   {
    "duration": 718,
    "start_time": "2022-01-10T12:44:34.779Z"
   },
   {
    "duration": 26,
    "start_time": "2022-01-10T12:44:40.227Z"
   },
   {
    "duration": 109,
    "start_time": "2022-01-10T12:44:45.548Z"
   },
   {
    "duration": 47,
    "start_time": "2022-01-10T12:45:09.669Z"
   },
   {
    "duration": 228,
    "start_time": "2022-01-10T16:22:01.708Z"
   },
   {
    "duration": 1094,
    "start_time": "2022-01-10T16:22:12.515Z"
   },
   {
    "duration": 3,
    "start_time": "2022-01-10T16:22:13.611Z"
   },
   {
    "duration": 38,
    "start_time": "2022-01-10T16:22:13.616Z"
   },
   {
    "duration": 16,
    "start_time": "2022-01-10T16:22:13.656Z"
   },
   {
    "duration": 17,
    "start_time": "2022-01-10T16:22:13.674Z"
   },
   {
    "duration": 3,
    "start_time": "2022-01-10T16:22:13.693Z"
   },
   {
    "duration": 7,
    "start_time": "2022-01-10T16:22:13.697Z"
   },
   {
    "duration": 11,
    "start_time": "2022-01-10T16:22:13.706Z"
   },
   {
    "duration": 13,
    "start_time": "2022-01-10T16:22:13.719Z"
   },
   {
    "duration": 7,
    "start_time": "2022-01-10T16:22:13.734Z"
   },
   {
    "duration": 13,
    "start_time": "2022-01-10T16:22:13.743Z"
   },
   {
    "duration": 12,
    "start_time": "2022-01-10T16:22:13.791Z"
   },
   {
    "duration": 7,
    "start_time": "2022-01-10T16:22:13.805Z"
   },
   {
    "duration": 16,
    "start_time": "2022-01-10T16:22:13.813Z"
   },
   {
    "duration": 23,
    "start_time": "2022-01-10T16:22:13.831Z"
   },
   {
    "duration": 39,
    "start_time": "2022-01-10T16:22:13.856Z"
   },
   {
    "duration": 17,
    "start_time": "2022-01-10T16:22:13.897Z"
   },
   {
    "duration": 26,
    "start_time": "2022-01-10T16:22:13.916Z"
   },
   {
    "duration": 4,
    "start_time": "2022-01-10T16:22:13.944Z"
   },
   {
    "duration": 198,
    "start_time": "2022-01-10T16:22:13.950Z"
   },
   {
    "duration": 7,
    "start_time": "2022-01-10T16:22:14.150Z"
   },
   {
    "duration": 4,
    "start_time": "2022-01-10T16:22:14.158Z"
   },
   {
    "duration": 481,
    "start_time": "2022-01-10T16:22:14.166Z"
   },
   {
    "duration": -293,
    "start_time": "2022-01-10T16:22:14.942Z"
   },
   {
    "duration": 531,
    "start_time": "2022-01-10T16:23:23.818Z"
   },
   {
    "duration": 5,
    "start_time": "2022-01-10T16:25:24.488Z"
   },
   {
    "duration": 22,
    "start_time": "2022-01-10T16:26:48.209Z"
   },
   {
    "duration": 7,
    "start_time": "2022-01-10T16:27:12.839Z"
   },
   {
    "duration": 461,
    "start_time": "2022-01-10T16:28:13.262Z"
   },
   {
    "duration": 54,
    "start_time": "2022-01-10T16:28:52.603Z"
   },
   {
    "duration": 13,
    "start_time": "2022-01-10T16:29:14.097Z"
   },
   {
    "duration": 243,
    "start_time": "2022-01-10T16:32:03.943Z"
   },
   {
    "duration": 16,
    "start_time": "2022-01-10T17:40:53.026Z"
   },
   {
    "duration": 17,
    "start_time": "2022-01-10T17:45:34.826Z"
   },
   {
    "duration": 14,
    "start_time": "2022-01-10T17:49:10.440Z"
   },
   {
    "duration": 18,
    "start_time": "2022-01-10T17:49:12.819Z"
   },
   {
    "duration": 4,
    "start_time": "2022-01-10T17:50:03.456Z"
   },
   {
    "duration": 8,
    "start_time": "2022-01-10T17:50:11.580Z"
   },
   {
    "duration": 4339,
    "start_time": "2022-01-10T17:51:44.305Z"
   },
   {
    "duration": 5280,
    "start_time": "2022-01-10T17:52:02.715Z"
   },
   {
    "duration": 8,
    "start_time": "2022-01-10T17:52:16.735Z"
   },
   {
    "duration": 11,
    "start_time": "2022-01-10T18:01:20.849Z"
   },
   {
    "duration": 8,
    "start_time": "2022-01-10T18:01:23.120Z"
   },
   {
    "duration": 88,
    "start_time": "2022-01-10T18:01:32.489Z"
   },
   {
    "duration": 7,
    "start_time": "2022-01-10T18:01:35.269Z"
   },
   {
    "duration": 4633,
    "start_time": "2022-01-10T18:02:35.548Z"
   },
   {
    "duration": 543,
    "start_time": "2022-01-10T18:02:57.671Z"
   },
   {
    "duration": 15,
    "start_time": "2022-01-10T18:11:05.557Z"
   },
   {
    "duration": 198,
    "start_time": "2022-01-10T18:11:10.127Z"
   },
   {
    "duration": 437,
    "start_time": "2022-01-10T18:12:53.597Z"
   },
   {
    "duration": 5,
    "start_time": "2022-01-10T18:13:05.797Z"
   },
   {
    "duration": 180,
    "start_time": "2022-01-10T18:14:05.887Z"
   },
   {
    "duration": 2571,
    "start_time": "2022-01-10T18:15:38.527Z"
   },
   {
    "duration": 436,
    "start_time": "2022-01-10T18:16:00.715Z"
   },
   {
    "duration": 2337,
    "start_time": "2022-01-10T18:16:24.279Z"
   },
   {
    "duration": 124,
    "start_time": "2022-01-10T18:17:13.391Z"
   },
   {
    "duration": 78,
    "start_time": "2022-01-10T18:17:35.567Z"
   },
   {
    "duration": 379,
    "start_time": "2022-01-10T18:17:42.624Z"
   },
   {
    "duration": 123,
    "start_time": "2022-01-10T18:18:01.497Z"
   },
   {
    "duration": 302,
    "start_time": "2022-01-10T18:19:19.886Z"
   },
   {
    "duration": 297,
    "start_time": "2022-01-10T18:19:30.307Z"
   },
   {
    "duration": 345,
    "start_time": "2022-01-10T18:19:52.390Z"
   },
   {
    "duration": 320,
    "start_time": "2022-01-10T18:20:05.406Z"
   },
   {
    "duration": 1184,
    "start_time": "2022-01-10T18:20:54.075Z"
   },
   {
    "duration": 447,
    "start_time": "2022-01-10T18:21:23.365Z"
   },
   {
    "duration": 19,
    "start_time": "2022-01-10T18:22:31.480Z"
   },
   {
    "duration": 11,
    "start_time": "2022-01-10T18:22:54.920Z"
   },
   {
    "duration": 14,
    "start_time": "2022-01-10T18:23:08.350Z"
   },
   {
    "duration": 198,
    "start_time": "2022-01-10T18:23:42.984Z"
   },
   {
    "duration": 10,
    "start_time": "2022-01-10T18:23:47.311Z"
   },
   {
    "duration": 16,
    "start_time": "2022-01-10T18:23:52.669Z"
   },
   {
    "duration": 30,
    "start_time": "2022-01-10T18:24:12.580Z"
   },
   {
    "duration": 56,
    "start_time": "2022-01-10T18:30:09.363Z"
   },
   {
    "duration": 56,
    "start_time": "2022-01-10T18:30:38.853Z"
   },
   {
    "duration": 79,
    "start_time": "2022-01-10T18:32:34.456Z"
   },
   {
    "duration": 58,
    "start_time": "2022-01-10T18:32:40.617Z"
   },
   {
    "duration": 57,
    "start_time": "2022-01-10T18:32:53.231Z"
   },
   {
    "duration": 56,
    "start_time": "2022-01-10T18:33:10.784Z"
   },
   {
    "duration": 64,
    "start_time": "2022-01-10T18:33:14.152Z"
   },
   {
    "duration": 4,
    "start_time": "2022-01-10T18:34:08.997Z"
   },
   {
    "duration": 193,
    "start_time": "2022-01-10T18:34:15.387Z"
   },
   {
    "duration": 9,
    "start_time": "2022-01-10T18:34:33.156Z"
   },
   {
    "duration": 56,
    "start_time": "2022-01-10T18:34:46.252Z"
   },
   {
    "duration": 5,
    "start_time": "2022-01-10T18:36:19.337Z"
   },
   {
    "duration": 59,
    "start_time": "2022-01-10T18:36:28.897Z"
   },
   {
    "duration": 6613,
    "start_time": "2022-01-10T18:36:42.834Z"
   },
   {
    "duration": 299,
    "start_time": "2022-01-10T18:37:29.177Z"
   },
   {
    "duration": 16,
    "start_time": "2022-01-10T18:37:37.546Z"
   },
   {
    "duration": 21,
    "start_time": "2022-01-10T18:38:01.677Z"
   },
   {
    "duration": 200,
    "start_time": "2022-01-10T18:38:24.345Z"
   },
   {
    "duration": 222,
    "start_time": "2022-01-10T18:38:34.756Z"
   },
   {
    "duration": 29,
    "start_time": "2022-01-10T18:38:42.295Z"
   },
   {
    "duration": 46,
    "start_time": "2022-01-10T18:48:19.196Z"
   },
   {
    "duration": 35,
    "start_time": "2022-01-10T18:48:32.956Z"
   },
   {
    "duration": 400,
    "start_time": "2022-01-10T18:54:51.906Z"
   },
   {
    "duration": 26,
    "start_time": "2022-01-10T18:59:15.391Z"
   },
   {
    "duration": 463,
    "start_time": "2022-01-10T19:00:07.536Z"
   },
   {
    "duration": 219,
    "start_time": "2022-01-10T19:00:23.014Z"
   },
   {
    "duration": 28,
    "start_time": "2022-01-10T19:00:53.135Z"
   },
   {
    "duration": 25,
    "start_time": "2022-01-10T19:01:06.875Z"
   },
   {
    "duration": 361,
    "start_time": "2022-01-10T19:01:55.384Z"
   },
   {
    "duration": 6109,
    "start_time": "2022-01-10T19:02:03.613Z"
   },
   {
    "duration": 56,
    "start_time": "2022-01-10T19:03:03.981Z"
   },
   {
    "duration": 74,
    "start_time": "2022-01-10T19:03:36.639Z"
   },
   {
    "duration": 436,
    "start_time": "2022-01-10T19:13:23.905Z"
   },
   {
    "duration": 3499,
    "start_time": "2022-01-10T19:13:39.539Z"
   },
   {
    "duration": 192,
    "start_time": "2022-01-10T19:14:32.234Z"
   },
   {
    "duration": 34,
    "start_time": "2022-01-10T19:16:04.856Z"
   },
   {
    "duration": 175,
    "start_time": "2022-01-10T19:33:39.133Z"
   },
   {
    "duration": 17,
    "start_time": "2022-01-10T19:34:40.192Z"
   },
   {
    "duration": 10,
    "start_time": "2022-01-10T19:35:28.658Z"
   },
   {
    "duration": 18,
    "start_time": "2022-01-10T19:36:09.673Z"
   },
   {
    "duration": 12,
    "start_time": "2022-01-10T19:37:46.533Z"
   },
   {
    "duration": 1220,
    "start_time": "2022-01-10T19:38:32.273Z"
   },
   {
    "duration": 11,
    "start_time": "2022-01-10T19:38:59.531Z"
   },
   {
    "duration": 12,
    "start_time": "2022-01-10T19:39:03.091Z"
   },
   {
    "duration": 5074,
    "start_time": "2022-01-10T19:40:17.990Z"
   },
   {
    "duration": 4651,
    "start_time": "2022-01-10T19:42:15.869Z"
   },
   {
    "duration": 4395,
    "start_time": "2022-01-10T19:42:47.289Z"
   },
   {
    "duration": 7,
    "start_time": "2022-01-10T19:43:03.400Z"
   },
   {
    "duration": 1111,
    "start_time": "2022-01-10T19:43:17.505Z"
   },
   {
    "duration": 3,
    "start_time": "2022-01-10T19:43:18.618Z"
   },
   {
    "duration": 39,
    "start_time": "2022-01-10T19:43:18.623Z"
   },
   {
    "duration": 22,
    "start_time": "2022-01-10T19:43:18.664Z"
   },
   {
    "duration": 13,
    "start_time": "2022-01-10T19:43:18.688Z"
   },
   {
    "duration": 3,
    "start_time": "2022-01-10T19:43:18.703Z"
   },
   {
    "duration": 7,
    "start_time": "2022-01-10T19:43:18.708Z"
   },
   {
    "duration": 14,
    "start_time": "2022-01-10T19:43:18.716Z"
   },
   {
    "duration": 12,
    "start_time": "2022-01-10T19:43:18.733Z"
   },
   {
    "duration": 5,
    "start_time": "2022-01-10T19:43:18.747Z"
   },
   {
    "duration": 42,
    "start_time": "2022-01-10T19:43:18.754Z"
   },
   {
    "duration": 9,
    "start_time": "2022-01-10T19:43:18.798Z"
   },
   {
    "duration": 7,
    "start_time": "2022-01-10T19:43:18.808Z"
   },
   {
    "duration": 14,
    "start_time": "2022-01-10T19:43:18.816Z"
   },
   {
    "duration": 24,
    "start_time": "2022-01-10T19:43:18.832Z"
   },
   {
    "duration": 40,
    "start_time": "2022-01-10T19:43:18.858Z"
   },
   {
    "duration": 19,
    "start_time": "2022-01-10T19:43:18.900Z"
   },
   {
    "duration": 28,
    "start_time": "2022-01-10T19:43:18.920Z"
   },
   {
    "duration": 3,
    "start_time": "2022-01-10T19:43:18.949Z"
   },
   {
    "duration": 189,
    "start_time": "2022-01-10T19:43:18.953Z"
   },
   {
    "duration": 6,
    "start_time": "2022-01-10T19:43:19.143Z"
   },
   {
    "duration": 45,
    "start_time": "2022-01-10T19:43:19.150Z"
   },
   {
    "duration": 24,
    "start_time": "2022-01-10T19:43:19.197Z"
   },
   {
    "duration": 21,
    "start_time": "2022-01-10T19:43:19.223Z"
   },
   {
    "duration": 11,
    "start_time": "2022-01-10T19:43:19.246Z"
   },
   {
    "duration": 10,
    "start_time": "2022-01-10T19:43:19.260Z"
   },
   {
    "duration": 8,
    "start_time": "2022-01-10T19:43:34.128Z"
   },
   {
    "duration": 1064,
    "start_time": "2022-01-10T19:43:49.953Z"
   },
   {
    "duration": 3,
    "start_time": "2022-01-10T19:43:51.019Z"
   },
   {
    "duration": 43,
    "start_time": "2022-01-10T19:43:51.025Z"
   },
   {
    "duration": 28,
    "start_time": "2022-01-10T19:43:51.070Z"
   },
   {
    "duration": 11,
    "start_time": "2022-01-10T19:43:51.101Z"
   },
   {
    "duration": 4,
    "start_time": "2022-01-10T19:43:51.115Z"
   },
   {
    "duration": 7,
    "start_time": "2022-01-10T19:43:51.121Z"
   },
   {
    "duration": 13,
    "start_time": "2022-01-10T19:43:51.131Z"
   },
   {
    "duration": 52,
    "start_time": "2022-01-10T19:43:51.146Z"
   },
   {
    "duration": 8,
    "start_time": "2022-01-10T19:43:51.200Z"
   },
   {
    "duration": 12,
    "start_time": "2022-01-10T19:43:51.209Z"
   },
   {
    "duration": 11,
    "start_time": "2022-01-10T19:43:51.223Z"
   },
   {
    "duration": 5,
    "start_time": "2022-01-10T19:43:51.236Z"
   },
   {
    "duration": 50,
    "start_time": "2022-01-10T19:43:51.243Z"
   },
   {
    "duration": 24,
    "start_time": "2022-01-10T19:43:51.294Z"
   },
   {
    "duration": 15,
    "start_time": "2022-01-10T19:43:51.319Z"
   },
   {
    "duration": 18,
    "start_time": "2022-01-10T19:43:51.336Z"
   },
   {
    "duration": 48,
    "start_time": "2022-01-10T19:43:51.355Z"
   },
   {
    "duration": 4,
    "start_time": "2022-01-10T19:43:51.404Z"
   },
   {
    "duration": 183,
    "start_time": "2022-01-10T19:43:51.409Z"
   },
   {
    "duration": 5,
    "start_time": "2022-01-10T19:43:51.593Z"
   },
   {
    "duration": 36,
    "start_time": "2022-01-10T19:43:51.600Z"
   },
   {
    "duration": 13,
    "start_time": "2022-01-10T19:43:51.639Z"
   },
   {
    "duration": 39,
    "start_time": "2022-01-10T19:43:51.653Z"
   },
   {
    "duration": 18,
    "start_time": "2022-01-10T19:43:51.694Z"
   },
   {
    "duration": 11,
    "start_time": "2022-01-10T19:43:51.713Z"
   },
   {
    "duration": 13,
    "start_time": "2022-01-10T19:43:51.725Z"
   },
   {
    "duration": 13,
    "start_time": "2022-01-10T19:43:54.543Z"
   },
   {
    "duration": 324,
    "start_time": "2022-01-10T19:44:19.429Z"
   },
   {
    "duration": 136,
    "start_time": "2022-01-10T19:51:24.091Z"
   },
   {
    "duration": 5,
    "start_time": "2022-01-10T19:51:27.416Z"
   },
   {
    "duration": 6,
    "start_time": "2022-01-10T19:56:07.382Z"
   },
   {
    "duration": 6,
    "start_time": "2022-01-10T20:02:37.213Z"
   },
   {
    "duration": 16,
    "start_time": "2022-01-10T20:02:47.719Z"
   },
   {
    "duration": 2442,
    "start_time": "2022-01-10T20:05:37.358Z"
   },
   {
    "duration": 1006,
    "start_time": "2022-01-10T20:06:58.857Z"
   },
   {
    "duration": 15,
    "start_time": "2022-01-10T20:08:21.237Z"
   },
   {
    "duration": 16,
    "start_time": "2022-01-10T20:11:46.267Z"
   },
   {
    "duration": 754,
    "start_time": "2022-01-10T20:12:16.596Z"
   },
   {
    "duration": 4,
    "start_time": "2022-01-10T20:12:21.757Z"
   },
   {
    "duration": 16,
    "start_time": "2022-01-10T20:12:27.786Z"
   },
   {
    "duration": 364,
    "start_time": "2022-01-10T20:13:02.507Z"
   },
   {
    "duration": 206,
    "start_time": "2022-01-10T20:13:12.478Z"
   },
   {
    "duration": 234,
    "start_time": "2022-01-10T20:13:27.537Z"
   },
   {
    "duration": 257,
    "start_time": "2022-01-10T20:14:23.156Z"
   },
   {
    "duration": 17,
    "start_time": "2022-01-10T20:16:38.057Z"
   },
   {
    "duration": 254,
    "start_time": "2022-01-10T20:16:42.537Z"
   },
   {
    "duration": 482,
    "start_time": "2022-01-11T07:04:51.549Z"
   },
   {
    "duration": 1063,
    "start_time": "2022-01-11T07:04:56.570Z"
   },
   {
    "duration": 3,
    "start_time": "2022-01-11T07:04:57.635Z"
   },
   {
    "duration": 38,
    "start_time": "2022-01-11T07:04:57.641Z"
   },
   {
    "duration": 21,
    "start_time": "2022-01-11T07:04:57.681Z"
   },
   {
    "duration": 10,
    "start_time": "2022-01-11T07:04:57.704Z"
   },
   {
    "duration": 12,
    "start_time": "2022-01-11T07:04:57.716Z"
   },
   {
    "duration": 6,
    "start_time": "2022-01-11T07:04:57.730Z"
   },
   {
    "duration": 9,
    "start_time": "2022-01-11T07:04:57.738Z"
   },
   {
    "duration": 10,
    "start_time": "2022-01-11T07:04:57.749Z"
   },
   {
    "duration": 10,
    "start_time": "2022-01-11T07:04:57.761Z"
   },
   {
    "duration": 13,
    "start_time": "2022-01-11T07:04:57.773Z"
   },
   {
    "duration": 9,
    "start_time": "2022-01-11T07:04:57.788Z"
   },
   {
    "duration": 29,
    "start_time": "2022-01-11T07:04:57.799Z"
   },
   {
    "duration": 15,
    "start_time": "2022-01-11T07:04:57.830Z"
   },
   {
    "duration": 21,
    "start_time": "2022-01-11T07:04:57.846Z"
   },
   {
    "duration": 13,
    "start_time": "2022-01-11T07:04:57.869Z"
   },
   {
    "duration": 17,
    "start_time": "2022-01-11T07:04:57.883Z"
   },
   {
    "duration": 49,
    "start_time": "2022-01-11T07:04:57.901Z"
   },
   {
    "duration": 3,
    "start_time": "2022-01-11T07:04:57.952Z"
   },
   {
    "duration": 164,
    "start_time": "2022-01-11T07:04:57.956Z"
   },
   {
    "duration": 8,
    "start_time": "2022-01-11T07:04:58.121Z"
   },
   {
    "duration": 31,
    "start_time": "2022-01-11T07:04:58.130Z"
   },
   {
    "duration": 132,
    "start_time": "2022-01-11T07:04:58.164Z"
   },
   {
    "duration": 4,
    "start_time": "2022-01-11T07:04:58.297Z"
   },
   {
    "duration": 9,
    "start_time": "2022-01-11T07:04:58.303Z"
   },
   {
    "duration": 15,
    "start_time": "2022-01-11T07:04:58.313Z"
   },
   {
    "duration": 12,
    "start_time": "2022-01-11T07:04:58.329Z"
   },
   {
    "duration": 8,
    "start_time": "2022-01-11T07:04:58.343Z"
   },
   {
    "duration": 9,
    "start_time": "2022-01-11T07:04:58.353Z"
   },
   {
    "duration": 3,
    "start_time": "2022-01-11T07:04:58.364Z"
   },
   {
    "duration": 14,
    "start_time": "2022-01-11T07:04:58.368Z"
   },
   {
    "duration": 10,
    "start_time": "2022-01-11T07:04:58.383Z"
   },
   {
    "duration": 234,
    "start_time": "2022-01-11T07:04:58.394Z"
   },
   {
    "duration": 14,
    "start_time": "2022-01-11T07:04:58.630Z"
   },
   {
    "duration": 430,
    "start_time": "2022-01-11T07:06:16.312Z"
   },
   {
    "duration": 15,
    "start_time": "2022-01-11T07:06:24.080Z"
   },
   {
    "duration": 14,
    "start_time": "2022-01-11T07:06:35.072Z"
   },
   {
    "duration": 173,
    "start_time": "2022-01-11T07:22:55.356Z"
   },
   {
    "duration": 316,
    "start_time": "2022-01-11T07:23:03.564Z"
   },
   {
    "duration": 104,
    "start_time": "2022-01-11T07:43:16.832Z"
   },
   {
    "duration": 8089,
    "start_time": "2022-01-11T07:44:06.717Z"
   },
   {
    "duration": 321,
    "start_time": "2022-01-11T07:45:16.377Z"
   },
   {
    "duration": 400,
    "start_time": "2022-01-11T07:45:20.945Z"
   },
   {
    "duration": 111,
    "start_time": "2022-01-11T07:45:24.372Z"
   },
   {
    "duration": 310,
    "start_time": "2022-01-11T07:45:28.582Z"
   },
   {
    "duration": 351,
    "start_time": "2022-01-11T07:45:33.956Z"
   },
   {
    "duration": 9196,
    "start_time": "2022-01-11T07:45:39.720Z"
   },
   {
    "duration": 6,
    "start_time": "2022-01-11T07:46:16.183Z"
   },
   {
    "duration": 10,
    "start_time": "2022-01-11T07:46:35.539Z"
   },
   {
    "duration": 4,
    "start_time": "2022-01-11T07:46:48.072Z"
   },
   {
    "duration": 5,
    "start_time": "2022-01-11T07:47:00.392Z"
   },
   {
    "duration": 9,
    "start_time": "2022-01-11T07:47:08.574Z"
   },
   {
    "duration": 184,
    "start_time": "2022-01-11T07:48:43.732Z"
   },
   {
    "duration": 2581,
    "start_time": "2022-01-11T07:49:08.330Z"
   },
   {
    "duration": 120,
    "start_time": "2022-01-11T07:49:19.399Z"
   },
   {
    "duration": 363,
    "start_time": "2022-01-11T07:52:38.992Z"
   },
   {
    "duration": 334,
    "start_time": "2022-01-11T07:52:46.690Z"
   },
   {
    "duration": 14,
    "start_time": "2022-01-11T07:53:01.010Z"
   },
   {
    "duration": 23,
    "start_time": "2022-01-11T07:53:11.169Z"
   },
   {
    "duration": 175,
    "start_time": "2022-01-11T07:53:56.054Z"
   },
   {
    "duration": 1460,
    "start_time": "2022-01-11T07:54:03.922Z"
   },
   {
    "duration": 176,
    "start_time": "2022-01-11T07:54:14.492Z"
   },
   {
    "duration": 34,
    "start_time": "2022-01-11T07:54:50.542Z"
   },
   {
    "duration": 362,
    "start_time": "2022-01-11T07:54:53.618Z"
   },
   {
    "duration": 776,
    "start_time": "2022-01-11T07:55:02.817Z"
   },
   {
    "duration": 33,
    "start_time": "2022-01-11T07:55:22.337Z"
   },
   {
    "duration": 630,
    "start_time": "2022-01-11T07:55:25.552Z"
   },
   {
    "duration": 3,
    "start_time": "2022-01-11T07:56:32.395Z"
   },
   {
    "duration": 2,
    "start_time": "2022-01-11T07:56:36.583Z"
   },
   {
    "duration": 3,
    "start_time": "2022-01-11T07:57:02.378Z"
   },
   {
    "duration": 365,
    "start_time": "2022-01-11T07:58:32.810Z"
   },
   {
    "duration": 10,
    "start_time": "2022-01-11T07:58:41.502Z"
   },
   {
    "duration": 229,
    "start_time": "2022-01-11T07:58:57.372Z"
   },
   {
    "duration": 194,
    "start_time": "2022-01-11T07:59:12.592Z"
   },
   {
    "duration": 204,
    "start_time": "2022-01-11T08:00:05.425Z"
   },
   {
    "duration": 195,
    "start_time": "2022-01-11T08:00:37.858Z"
   },
   {
    "duration": 213,
    "start_time": "2022-01-11T08:01:41.851Z"
   },
   {
    "duration": 396,
    "start_time": "2022-01-11T08:02:56.032Z"
   },
   {
    "duration": 412,
    "start_time": "2022-01-11T08:03:54.816Z"
   },
   {
    "duration": 402,
    "start_time": "2022-01-11T08:04:52.471Z"
   },
   {
    "duration": 397,
    "start_time": "2022-01-11T08:05:39.265Z"
   },
   {
    "duration": 414,
    "start_time": "2022-01-11T08:05:52.873Z"
   },
   {
    "duration": 396,
    "start_time": "2022-01-11T08:06:14.242Z"
   },
   {
    "duration": 495,
    "start_time": "2022-01-11T08:06:56.599Z"
   },
   {
    "duration": 362,
    "start_time": "2022-01-11T08:07:27.938Z"
   },
   {
    "duration": 400,
    "start_time": "2022-01-11T08:07:34.482Z"
   },
   {
    "duration": 350,
    "start_time": "2022-01-11T09:57:57.390Z"
   },
   {
    "duration": 1667,
    "start_time": "2022-01-11T09:58:04.302Z"
   },
   {
    "duration": 1777,
    "start_time": "2022-01-11T09:58:09.452Z"
   },
   {
    "duration": 26,
    "start_time": "2022-01-11T09:58:50.251Z"
   },
   {
    "duration": 672,
    "start_time": "2022-01-11T09:59:02.645Z"
   },
   {
    "duration": 248,
    "start_time": "2022-01-11T10:04:09.732Z"
   },
   {
    "duration": 32,
    "start_time": "2022-01-11T10:04:36.982Z"
   },
   {
    "duration": 225,
    "start_time": "2022-01-11T10:04:39.461Z"
   },
   {
    "duration": 28,
    "start_time": "2022-01-11T10:05:20.758Z"
   },
   {
    "duration": 278,
    "start_time": "2022-01-11T10:05:27.115Z"
   },
   {
    "duration": 347,
    "start_time": "2022-01-11T10:05:31.161Z"
   },
   {
    "duration": 335,
    "start_time": "2022-01-11T10:05:35.632Z"
   },
   {
    "duration": 289,
    "start_time": "2022-01-11T10:05:39.756Z"
   },
   {
    "duration": 340,
    "start_time": "2022-01-11T10:13:50.164Z"
   },
   {
    "duration": 9,
    "start_time": "2022-01-11T10:14:49.631Z"
   },
   {
    "duration": 6,
    "start_time": "2022-01-11T10:16:01.789Z"
   },
   {
    "duration": 6,
    "start_time": "2022-01-11T10:16:33.521Z"
   },
   {
    "duration": 7,
    "start_time": "2022-01-11T10:16:43.193Z"
   },
   {
    "duration": 6,
    "start_time": "2022-01-11T10:16:48.162Z"
   },
   {
    "duration": 373,
    "start_time": "2022-01-11T10:17:37.112Z"
   },
   {
    "duration": 115,
    "start_time": "2022-01-11T10:17:44.362Z"
   },
   {
    "duration": 6,
    "start_time": "2022-01-11T10:18:29.978Z"
   },
   {
    "duration": 6,
    "start_time": "2022-01-11T10:18:35.467Z"
   },
   {
    "duration": 6,
    "start_time": "2022-01-11T10:19:20.747Z"
   },
   {
    "duration": 5,
    "start_time": "2022-01-11T10:19:24.918Z"
   },
   {
    "duration": 6,
    "start_time": "2022-01-11T10:20:16.162Z"
   },
   {
    "duration": 126,
    "start_time": "2022-01-11T10:22:04.548Z"
   },
   {
    "duration": 336,
    "start_time": "2022-01-11T10:22:39.682Z"
   },
   {
    "duration": 414,
    "start_time": "2022-01-11T10:23:21.071Z"
   },
   {
    "duration": 570,
    "start_time": "2022-01-11T10:23:41.103Z"
   },
   {
    "duration": 307,
    "start_time": "2022-01-11T10:23:53.362Z"
   },
   {
    "duration": 29,
    "start_time": "2022-01-11T10:24:24.597Z"
   },
   {
    "duration": 306,
    "start_time": "2022-01-11T10:24:27.494Z"
   },
   {
    "duration": 13,
    "start_time": "2022-01-11T10:24:31.030Z"
   },
   {
    "duration": 385,
    "start_time": "2022-01-11T10:30:59.029Z"
   },
   {
    "duration": 859,
    "start_time": "2022-01-11T10:33:42.183Z"
   },
   {
    "duration": 1471,
    "start_time": "2022-01-11T10:34:00.072Z"
   },
   {
    "duration": 123,
    "start_time": "2022-01-11T10:34:04.722Z"
   },
   {
    "duration": 362,
    "start_time": "2022-01-11T10:34:06.944Z"
   },
   {
    "duration": 394,
    "start_time": "2022-01-11T10:34:39.387Z"
   },
   {
    "duration": 440,
    "start_time": "2022-01-11T10:34:45.852Z"
   },
   {
    "duration": 3,
    "start_time": "2022-01-11T10:35:01.143Z"
   },
   {
    "duration": 5,
    "start_time": "2022-01-11T10:35:06.892Z"
   },
   {
    "duration": 23,
    "start_time": "2022-01-11T10:36:33.975Z"
   },
   {
    "duration": 14190,
    "start_time": "2022-01-11T10:37:01.743Z"
   },
   {
    "duration": 20,
    "start_time": "2022-01-11T10:37:23.909Z"
   },
   {
    "duration": 391,
    "start_time": "2022-01-11T10:37:44.912Z"
   },
   {
    "duration": 1274,
    "start_time": "2022-01-11T10:38:00.124Z"
   },
   {
    "duration": 16,
    "start_time": "2022-01-11T10:41:09.603Z"
   },
   {
    "duration": 1720,
    "start_time": "2022-01-11T10:41:24.394Z"
   },
   {
    "duration": 9,
    "start_time": "2022-01-11T10:41:50.713Z"
   },
   {
    "duration": 8,
    "start_time": "2022-01-11T10:42:03.905Z"
   },
   {
    "duration": 9,
    "start_time": "2022-01-11T10:42:10.959Z"
   },
   {
    "duration": 13,
    "start_time": "2022-01-11T10:42:50.781Z"
   },
   {
    "duration": 1179,
    "start_time": "2022-01-11T10:43:25.553Z"
   },
   {
    "duration": 3,
    "start_time": "2022-01-11T10:43:26.734Z"
   },
   {
    "duration": 694,
    "start_time": "2022-01-11T10:43:26.739Z"
   },
   {
    "duration": 23,
    "start_time": "2022-01-11T10:43:27.435Z"
   },
   {
    "duration": 18,
    "start_time": "2022-01-11T10:43:27.460Z"
   },
   {
    "duration": 17,
    "start_time": "2022-01-11T10:43:27.480Z"
   },
   {
    "duration": 13,
    "start_time": "2022-01-11T10:43:27.499Z"
   },
   {
    "duration": 15,
    "start_time": "2022-01-11T10:43:27.515Z"
   },
   {
    "duration": 422,
    "start_time": "2022-01-11T10:43:27.531Z"
   },
   {
    "duration": -218,
    "start_time": "2022-01-11T10:43:28.174Z"
   },
   {
    "duration": -220,
    "start_time": "2022-01-11T10:43:28.177Z"
   },
   {
    "duration": -262,
    "start_time": "2022-01-11T10:43:28.219Z"
   },
   {
    "duration": -264,
    "start_time": "2022-01-11T10:43:28.222Z"
   },
   {
    "duration": -265,
    "start_time": "2022-01-11T10:43:28.224Z"
   },
   {
    "duration": -267,
    "start_time": "2022-01-11T10:43:28.227Z"
   },
   {
    "duration": -270,
    "start_time": "2022-01-11T10:43:28.230Z"
   },
   {
    "duration": -271,
    "start_time": "2022-01-11T10:43:28.232Z"
   },
   {
    "duration": -273,
    "start_time": "2022-01-11T10:43:28.235Z"
   },
   {
    "duration": -274,
    "start_time": "2022-01-11T10:43:28.237Z"
   },
   {
    "duration": -275,
    "start_time": "2022-01-11T10:43:28.239Z"
   },
   {
    "duration": -276,
    "start_time": "2022-01-11T10:43:28.241Z"
   },
   {
    "duration": -277,
    "start_time": "2022-01-11T10:43:28.243Z"
   },
   {
    "duration": -279,
    "start_time": "2022-01-11T10:43:28.245Z"
   },
   {
    "duration": -318,
    "start_time": "2022-01-11T10:43:28.285Z"
   },
   {
    "duration": -329,
    "start_time": "2022-01-11T10:43:28.297Z"
   },
   {
    "duration": -331,
    "start_time": "2022-01-11T10:43:28.300Z"
   },
   {
    "duration": -333,
    "start_time": "2022-01-11T10:43:28.302Z"
   },
   {
    "duration": -333,
    "start_time": "2022-01-11T10:43:28.304Z"
   },
   {
    "duration": -334,
    "start_time": "2022-01-11T10:43:28.306Z"
   },
   {
    "duration": -336,
    "start_time": "2022-01-11T10:43:28.309Z"
   },
   {
    "duration": -337,
    "start_time": "2022-01-11T10:43:28.311Z"
   },
   {
    "duration": -338,
    "start_time": "2022-01-11T10:43:28.313Z"
   },
   {
    "duration": -340,
    "start_time": "2022-01-11T10:43:28.316Z"
   },
   {
    "duration": -343,
    "start_time": "2022-01-11T10:43:28.320Z"
   },
   {
    "duration": -382,
    "start_time": "2022-01-11T10:43:28.360Z"
   },
   {
    "duration": -391,
    "start_time": "2022-01-11T10:43:28.370Z"
   },
   {
    "duration": -392,
    "start_time": "2022-01-11T10:43:28.372Z"
   },
   {
    "duration": -394,
    "start_time": "2022-01-11T10:43:28.375Z"
   },
   {
    "duration": -395,
    "start_time": "2022-01-11T10:43:28.377Z"
   },
   {
    "duration": -397,
    "start_time": "2022-01-11T10:43:28.379Z"
   },
   {
    "duration": -398,
    "start_time": "2022-01-11T10:43:28.381Z"
   },
   {
    "duration": 9,
    "start_time": "2022-01-11T10:43:44.499Z"
   },
   {
    "duration": 12,
    "start_time": "2022-01-11T10:43:52.630Z"
   },
   {
    "duration": 8,
    "start_time": "2022-01-11T10:44:00.351Z"
   },
   {
    "duration": 6,
    "start_time": "2022-01-11T10:46:09.191Z"
   },
   {
    "duration": 356,
    "start_time": "2022-01-11T10:46:12.191Z"
   },
   {
    "duration": 13,
    "start_time": "2022-01-11T10:46:29.871Z"
   },
   {
    "duration": 391,
    "start_time": "2022-01-11T10:46:46.281Z"
   },
   {
    "duration": 1365,
    "start_time": "2022-01-11T10:48:23.955Z"
   },
   {
    "duration": 5,
    "start_time": "2022-01-11T10:48:25.322Z"
   },
   {
    "duration": 65,
    "start_time": "2022-01-11T10:48:25.329Z"
   },
   {
    "duration": 23,
    "start_time": "2022-01-11T10:48:25.396Z"
   },
   {
    "duration": 27,
    "start_time": "2022-01-11T10:48:25.421Z"
   },
   {
    "duration": 19,
    "start_time": "2022-01-11T10:48:25.450Z"
   },
   {
    "duration": 30,
    "start_time": "2022-01-11T10:48:25.470Z"
   },
   {
    "duration": 39,
    "start_time": "2022-01-11T10:48:25.502Z"
   },
   {
    "duration": 35,
    "start_time": "2022-01-11T10:48:25.543Z"
   },
   {
    "duration": 35,
    "start_time": "2022-01-11T10:48:25.580Z"
   },
   {
    "duration": 640,
    "start_time": "2022-01-11T10:48:25.617Z"
   },
   {
    "duration": -1250,
    "start_time": "2022-01-11T10:48:27.509Z"
   },
   {
    "duration": -1261,
    "start_time": "2022-01-11T10:48:27.521Z"
   },
   {
    "duration": -1462,
    "start_time": "2022-01-11T10:48:27.722Z"
   },
   {
    "duration": -1465,
    "start_time": "2022-01-11T10:48:27.726Z"
   },
   {
    "duration": -1467,
    "start_time": "2022-01-11T10:48:27.729Z"
   },
   {
    "duration": -1467,
    "start_time": "2022-01-11T10:48:27.730Z"
   },
   {
    "duration": -1468,
    "start_time": "2022-01-11T10:48:27.732Z"
   },
   {
    "duration": -1470,
    "start_time": "2022-01-11T10:48:27.734Z"
   },
   {
    "duration": -1471,
    "start_time": "2022-01-11T10:48:27.736Z"
   },
   {
    "duration": -1472,
    "start_time": "2022-01-11T10:48:27.738Z"
   },
   {
    "duration": -1473,
    "start_time": "2022-01-11T10:48:27.740Z"
   },
   {
    "duration": -1517,
    "start_time": "2022-01-11T10:48:27.785Z"
   },
   {
    "duration": -1520,
    "start_time": "2022-01-11T10:48:27.789Z"
   },
   {
    "duration": -1521,
    "start_time": "2022-01-11T10:48:27.791Z"
   },
   {
    "duration": -1523,
    "start_time": "2022-01-11T10:48:27.794Z"
   },
   {
    "duration": -1524,
    "start_time": "2022-01-11T10:48:27.796Z"
   },
   {
    "duration": -1526,
    "start_time": "2022-01-11T10:48:27.799Z"
   },
   {
    "duration": -1527,
    "start_time": "2022-01-11T10:48:27.801Z"
   },
   {
    "duration": -1528,
    "start_time": "2022-01-11T10:48:27.803Z"
   },
   {
    "duration": -1529,
    "start_time": "2022-01-11T10:48:27.805Z"
   },
   {
    "duration": -1529,
    "start_time": "2022-01-11T10:48:27.806Z"
   },
   {
    "duration": -1530,
    "start_time": "2022-01-11T10:48:27.808Z"
   },
   {
    "duration": -1531,
    "start_time": "2022-01-11T10:48:27.810Z"
   },
   {
    "duration": -1532,
    "start_time": "2022-01-11T10:48:27.812Z"
   },
   {
    "duration": -1533,
    "start_time": "2022-01-11T10:48:27.814Z"
   },
   {
    "duration": -1534,
    "start_time": "2022-01-11T10:48:27.816Z"
   },
   {
    "duration": -1535,
    "start_time": "2022-01-11T10:48:27.818Z"
   },
   {
    "duration": -1536,
    "start_time": "2022-01-11T10:48:27.820Z"
   },
   {
    "duration": -1537,
    "start_time": "2022-01-11T10:48:27.822Z"
   },
   {
    "duration": -1538,
    "start_time": "2022-01-11T10:48:27.824Z"
   },
   {
    "duration": 8,
    "start_time": "2022-01-11T10:48:32.165Z"
   },
   {
    "duration": 9,
    "start_time": "2022-01-11T10:48:36.654Z"
   },
   {
    "duration": 1130,
    "start_time": "2022-01-11T10:48:58.310Z"
   },
   {
    "duration": 2,
    "start_time": "2022-01-11T10:48:59.442Z"
   },
   {
    "duration": 42,
    "start_time": "2022-01-11T10:48:59.447Z"
   },
   {
    "duration": 22,
    "start_time": "2022-01-11T10:48:59.492Z"
   },
   {
    "duration": 14,
    "start_time": "2022-01-11T10:48:59.516Z"
   },
   {
    "duration": 3,
    "start_time": "2022-01-11T10:48:59.532Z"
   },
   {
    "duration": 6,
    "start_time": "2022-01-11T10:48:59.536Z"
   },
   {
    "duration": 13,
    "start_time": "2022-01-11T10:48:59.543Z"
   },
   {
    "duration": 13,
    "start_time": "2022-01-11T10:48:59.559Z"
   },
   {
    "duration": 441,
    "start_time": "2022-01-11T10:48:59.574Z"
   },
   {
    "duration": -117,
    "start_time": "2022-01-11T10:49:00.136Z"
   },
   {
    "duration": -119,
    "start_time": "2022-01-11T10:49:00.139Z"
   },
   {
    "duration": -121,
    "start_time": "2022-01-11T10:49:00.142Z"
   },
   {
    "duration": -122,
    "start_time": "2022-01-11T10:49:00.145Z"
   },
   {
    "duration": -123,
    "start_time": "2022-01-11T10:49:00.147Z"
   },
   {
    "duration": -125,
    "start_time": "2022-01-11T10:49:00.150Z"
   },
   {
    "duration": -125,
    "start_time": "2022-01-11T10:49:00.152Z"
   },
   {
    "duration": -126,
    "start_time": "2022-01-11T10:49:00.154Z"
   },
   {
    "duration": -133,
    "start_time": "2022-01-11T10:49:00.162Z"
   },
   {
    "duration": -135,
    "start_time": "2022-01-11T10:49:00.165Z"
   },
   {
    "duration": -153,
    "start_time": "2022-01-11T10:49:00.185Z"
   },
   {
    "duration": -157,
    "start_time": "2022-01-11T10:49:00.190Z"
   },
   {
    "duration": -159,
    "start_time": "2022-01-11T10:49:00.193Z"
   },
   {
    "duration": -159,
    "start_time": "2022-01-11T10:49:00.195Z"
   },
   {
    "duration": -160,
    "start_time": "2022-01-11T10:49:00.197Z"
   },
   {
    "duration": -162,
    "start_time": "2022-01-11T10:49:00.200Z"
   },
   {
    "duration": -163,
    "start_time": "2022-01-11T10:49:00.202Z"
   },
   {
    "duration": -163,
    "start_time": "2022-01-11T10:49:00.204Z"
   },
   {
    "duration": -164,
    "start_time": "2022-01-11T10:49:00.206Z"
   },
   {
    "duration": -165,
    "start_time": "2022-01-11T10:49:00.209Z"
   },
   {
    "duration": -166,
    "start_time": "2022-01-11T10:49:00.211Z"
   },
   {
    "duration": -167,
    "start_time": "2022-01-11T10:49:00.213Z"
   },
   {
    "duration": -167,
    "start_time": "2022-01-11T10:49:00.215Z"
   },
   {
    "duration": -168,
    "start_time": "2022-01-11T10:49:00.217Z"
   },
   {
    "duration": -170,
    "start_time": "2022-01-11T10:49:00.220Z"
   },
   {
    "duration": -171,
    "start_time": "2022-01-11T10:49:00.223Z"
   },
   {
    "duration": -172,
    "start_time": "2022-01-11T10:49:00.225Z"
   },
   {
    "duration": -173,
    "start_time": "2022-01-11T10:49:00.227Z"
   },
   {
    "duration": -174,
    "start_time": "2022-01-11T10:49:00.229Z"
   },
   {
    "duration": -174,
    "start_time": "2022-01-11T10:49:00.231Z"
   },
   {
    "duration": -176,
    "start_time": "2022-01-11T10:49:00.234Z"
   },
   {
    "duration": 361,
    "start_time": "2022-01-11T10:53:00.554Z"
   },
   {
    "duration": 8,
    "start_time": "2022-01-11T10:53:09.564Z"
   },
   {
    "duration": 9,
    "start_time": "2022-01-11T10:53:18.193Z"
   },
   {
    "duration": 9,
    "start_time": "2022-01-11T10:53:32.024Z"
   },
   {
    "duration": 8,
    "start_time": "2022-01-11T10:53:35.350Z"
   },
   {
    "duration": 8,
    "start_time": "2022-01-11T10:53:37.437Z"
   },
   {
    "duration": 4,
    "start_time": "2022-01-11T10:53:50.749Z"
   },
   {
    "duration": 12,
    "start_time": "2022-01-11T10:53:51.403Z"
   },
   {
    "duration": 23,
    "start_time": "2022-01-11T10:53:54.954Z"
   },
   {
    "duration": 12,
    "start_time": "2022-01-11T10:53:55.317Z"
   },
   {
    "duration": 26,
    "start_time": "2022-01-11T10:53:56.473Z"
   },
   {
    "duration": 25,
    "start_time": "2022-01-11T10:53:59.873Z"
   },
   {
    "duration": 3,
    "start_time": "2022-01-11T10:54:01.035Z"
   },
   {
    "duration": 156,
    "start_time": "2022-01-11T10:54:02.824Z"
   },
   {
    "duration": 5,
    "start_time": "2022-01-11T10:54:03.204Z"
   },
   {
    "duration": 199,
    "start_time": "2022-01-11T10:54:07.244Z"
   },
   {
    "duration": 25,
    "start_time": "2022-01-11T10:54:59.628Z"
   },
   {
    "duration": 5,
    "start_time": "2022-01-11T10:55:02.794Z"
   },
   {
    "duration": 5,
    "start_time": "2022-01-11T10:55:07.474Z"
   },
   {
    "duration": 1141,
    "start_time": "2022-01-11T10:55:26.885Z"
   },
   {
    "duration": 3,
    "start_time": "2022-01-11T10:55:28.028Z"
   },
   {
    "duration": 41,
    "start_time": "2022-01-11T10:55:28.032Z"
   },
   {
    "duration": 20,
    "start_time": "2022-01-11T10:55:28.075Z"
   },
   {
    "duration": 10,
    "start_time": "2022-01-11T10:55:28.096Z"
   },
   {
    "duration": 3,
    "start_time": "2022-01-11T10:55:28.107Z"
   },
   {
    "duration": 16,
    "start_time": "2022-01-11T10:55:28.112Z"
   },
   {
    "duration": 9,
    "start_time": "2022-01-11T10:55:28.130Z"
   },
   {
    "duration": 15,
    "start_time": "2022-01-11T10:55:28.141Z"
   },
   {
    "duration": 12,
    "start_time": "2022-01-11T10:55:28.158Z"
   },
   {
    "duration": 10,
    "start_time": "2022-01-11T10:55:28.172Z"
   },
   {
    "duration": 10,
    "start_time": "2022-01-11T10:55:28.184Z"
   },
   {
    "duration": 35,
    "start_time": "2022-01-11T10:55:28.196Z"
   },
   {
    "duration": 17,
    "start_time": "2022-01-11T10:55:28.233Z"
   },
   {
    "duration": 21,
    "start_time": "2022-01-11T10:55:28.251Z"
   },
   {
    "duration": 11,
    "start_time": "2022-01-11T10:55:28.274Z"
   },
   {
    "duration": 42,
    "start_time": "2022-01-11T10:55:28.287Z"
   },
   {
    "duration": 25,
    "start_time": "2022-01-11T10:55:28.330Z"
   },
   {
    "duration": 10,
    "start_time": "2022-01-11T10:55:28.356Z"
   },
   {
    "duration": 166,
    "start_time": "2022-01-11T10:55:28.367Z"
   },
   {
    "duration": 4,
    "start_time": "2022-01-11T10:55:28.535Z"
   },
   {
    "duration": 30,
    "start_time": "2022-01-11T10:55:28.541Z"
   },
   {
    "duration": 5,
    "start_time": "2022-01-11T10:55:28.574Z"
   },
   {
    "duration": 143,
    "start_time": "2022-01-11T10:55:28.582Z"
   },
   {
    "duration": 6,
    "start_time": "2022-01-11T10:55:28.727Z"
   },
   {
    "duration": 11,
    "start_time": "2022-01-11T10:55:28.735Z"
   },
   {
    "duration": 11,
    "start_time": "2022-01-11T10:55:28.748Z"
   },
   {
    "duration": 18,
    "start_time": "2022-01-11T10:55:28.761Z"
   },
   {
    "duration": 10,
    "start_time": "2022-01-11T10:55:28.780Z"
   },
   {
    "duration": 12,
    "start_time": "2022-01-11T10:55:28.792Z"
   },
   {
    "duration": 21,
    "start_time": "2022-01-11T10:55:28.806Z"
   },
   {
    "duration": 20,
    "start_time": "2022-01-11T10:55:28.829Z"
   },
   {
    "duration": 15,
    "start_time": "2022-01-11T10:55:28.850Z"
   },
   {
    "duration": 228,
    "start_time": "2022-01-11T10:55:28.866Z"
   },
   {
    "duration": 12,
    "start_time": "2022-01-11T10:55:29.096Z"
   },
   {
    "duration": 308,
    "start_time": "2022-01-11T10:55:29.110Z"
   },
   {
    "duration": 34,
    "start_time": "2022-01-11T10:55:29.420Z"
   },
   {
    "duration": 409,
    "start_time": "2022-01-11T10:55:29.455Z"
   },
   {
    "duration": 8,
    "start_time": "2022-01-11T10:55:29.866Z"
   },
   {
    "duration": 480,
    "start_time": "2022-01-11T10:57:17.440Z"
   },
   {
    "duration": 5,
    "start_time": "2022-01-11T10:57:30.751Z"
   },
   {
    "duration": 2209,
    "start_time": "2022-01-11T10:57:53.166Z"
   },
   {
    "duration": 2,
    "start_time": "2022-01-11T10:57:55.377Z"
   },
   {
    "duration": 49,
    "start_time": "2022-01-11T10:57:55.382Z"
   },
   {
    "duration": 30,
    "start_time": "2022-01-11T10:57:55.434Z"
   },
   {
    "duration": 13,
    "start_time": "2022-01-11T10:57:55.466Z"
   },
   {
    "duration": 7,
    "start_time": "2022-01-11T10:57:55.481Z"
   },
   {
    "duration": 8,
    "start_time": "2022-01-11T10:57:55.489Z"
   },
   {
    "duration": 28,
    "start_time": "2022-01-11T10:57:55.499Z"
   },
   {
    "duration": 12,
    "start_time": "2022-01-11T10:57:55.530Z"
   },
   {
    "duration": 15,
    "start_time": "2022-01-11T10:57:55.544Z"
   },
   {
    "duration": 12,
    "start_time": "2022-01-11T10:57:55.561Z"
   },
   {
    "duration": 10,
    "start_time": "2022-01-11T10:57:55.575Z"
   },
   {
    "duration": 5,
    "start_time": "2022-01-11T10:57:55.587Z"
   },
   {
    "duration": 42,
    "start_time": "2022-01-11T10:57:55.593Z"
   },
   {
    "duration": 24,
    "start_time": "2022-01-11T10:57:55.637Z"
   },
   {
    "duration": 13,
    "start_time": "2022-01-11T10:57:55.663Z"
   },
   {
    "duration": 16,
    "start_time": "2022-01-11T10:57:55.678Z"
   },
   {
    "duration": 61,
    "start_time": "2022-01-11T10:57:55.696Z"
   },
   {
    "duration": 4,
    "start_time": "2022-01-11T10:57:55.760Z"
   },
   {
    "duration": 293,
    "start_time": "2022-01-11T10:57:55.766Z"
   },
   {
    "duration": 6,
    "start_time": "2022-01-11T10:57:56.061Z"
   },
   {
    "duration": 39,
    "start_time": "2022-01-11T10:57:56.069Z"
   },
   {
    "duration": 17,
    "start_time": "2022-01-11T10:57:56.112Z"
   },
   {
    "duration": 417,
    "start_time": "2022-01-11T10:57:56.131Z"
   },
   {
    "duration": -98,
    "start_time": "2022-01-11T10:57:56.648Z"
   },
   {
    "duration": -100,
    "start_time": "2022-01-11T10:57:56.651Z"
   },
   {
    "duration": -100,
    "start_time": "2022-01-11T10:57:56.653Z"
   },
   {
    "duration": -110,
    "start_time": "2022-01-11T10:57:56.664Z"
   },
   {
    "duration": -111,
    "start_time": "2022-01-11T10:57:56.666Z"
   },
   {
    "duration": -112,
    "start_time": "2022-01-11T10:57:56.668Z"
   },
   {
    "duration": -113,
    "start_time": "2022-01-11T10:57:56.670Z"
   },
   {
    "duration": -115,
    "start_time": "2022-01-11T10:57:56.673Z"
   },
   {
    "duration": -116,
    "start_time": "2022-01-11T10:57:56.676Z"
   },
   {
    "duration": -118,
    "start_time": "2022-01-11T10:57:56.679Z"
   },
   {
    "duration": -119,
    "start_time": "2022-01-11T10:57:56.681Z"
   },
   {
    "duration": -121,
    "start_time": "2022-01-11T10:57:56.684Z"
   },
   {
    "duration": -121,
    "start_time": "2022-01-11T10:57:56.686Z"
   },
   {
    "duration": -122,
    "start_time": "2022-01-11T10:57:56.688Z"
   },
   {
    "duration": -123,
    "start_time": "2022-01-11T10:57:56.690Z"
   },
   {
    "duration": 123,
    "start_time": "2022-01-11T10:58:21.457Z"
   },
   {
    "duration": 5,
    "start_time": "2022-01-11T10:58:23.717Z"
   },
   {
    "duration": 5,
    "start_time": "2022-01-11T10:58:28.397Z"
   },
   {
    "duration": 6,
    "start_time": "2022-01-11T10:58:31.148Z"
   },
   {
    "duration": 6,
    "start_time": "2022-01-11T10:58:33.433Z"
   },
   {
    "duration": 1177,
    "start_time": "2022-01-11T10:58:44.516Z"
   },
   {
    "duration": 2,
    "start_time": "2022-01-11T10:58:45.695Z"
   },
   {
    "duration": 39,
    "start_time": "2022-01-11T10:58:45.699Z"
   },
   {
    "duration": 20,
    "start_time": "2022-01-11T10:58:45.739Z"
   },
   {
    "duration": 9,
    "start_time": "2022-01-11T10:58:45.760Z"
   },
   {
    "duration": 4,
    "start_time": "2022-01-11T10:58:45.770Z"
   },
   {
    "duration": 6,
    "start_time": "2022-01-11T10:58:45.776Z"
   },
   {
    "duration": 13,
    "start_time": "2022-01-11T10:58:45.785Z"
   },
   {
    "duration": 40,
    "start_time": "2022-01-11T10:58:45.800Z"
   },
   {
    "duration": 10,
    "start_time": "2022-01-11T10:58:45.841Z"
   },
   {
    "duration": 11,
    "start_time": "2022-01-11T10:58:45.853Z"
   },
   {
    "duration": 9,
    "start_time": "2022-01-11T10:58:45.865Z"
   },
   {
    "duration": 5,
    "start_time": "2022-01-11T10:58:45.876Z"
   },
   {
    "duration": 45,
    "start_time": "2022-01-11T10:58:45.882Z"
   },
   {
    "duration": 22,
    "start_time": "2022-01-11T10:58:45.929Z"
   },
   {
    "duration": 12,
    "start_time": "2022-01-11T10:58:45.953Z"
   },
   {
    "duration": 16,
    "start_time": "2022-01-11T10:58:45.967Z"
   },
   {
    "duration": 49,
    "start_time": "2022-01-11T10:58:45.984Z"
   },
   {
    "duration": 3,
    "start_time": "2022-01-11T10:58:46.035Z"
   },
   {
    "duration": 169,
    "start_time": "2022-01-11T10:58:46.039Z"
   },
   {
    "duration": 5,
    "start_time": "2022-01-11T10:58:46.209Z"
   },
   {
    "duration": 34,
    "start_time": "2022-01-11T10:58:46.215Z"
   },
   {
    "duration": 5,
    "start_time": "2022-01-11T10:58:46.251Z"
   },
   {
    "duration": 151,
    "start_time": "2022-01-11T10:58:46.257Z"
   },
   {
    "duration": 4,
    "start_time": "2022-01-11T10:58:46.410Z"
   },
   {
    "duration": 20,
    "start_time": "2022-01-11T10:58:46.416Z"
   },
   {
    "duration": 30,
    "start_time": "2022-01-11T10:58:46.437Z"
   },
   {
    "duration": 20,
    "start_time": "2022-01-11T10:58:46.469Z"
   },
   {
    "duration": 11,
    "start_time": "2022-01-11T10:58:46.490Z"
   },
   {
    "duration": 11,
    "start_time": "2022-01-11T10:58:46.502Z"
   },
   {
    "duration": 8,
    "start_time": "2022-01-11T10:58:46.515Z"
   },
   {
    "duration": 16,
    "start_time": "2022-01-11T10:58:46.525Z"
   },
   {
    "duration": 12,
    "start_time": "2022-01-11T10:58:46.542Z"
   },
   {
    "duration": 226,
    "start_time": "2022-01-11T10:58:46.555Z"
   },
   {
    "duration": 10,
    "start_time": "2022-01-11T10:58:46.783Z"
   },
   {
    "duration": 311,
    "start_time": "2022-01-11T10:58:46.795Z"
   },
   {
    "duration": 36,
    "start_time": "2022-01-11T10:58:47.108Z"
   },
   {
    "duration": 309,
    "start_time": "2022-01-11T10:58:47.146Z"
   },
   {
    "duration": 5,
    "start_time": "2022-01-11T10:58:47.457Z"
   },
   {
    "duration": 5,
    "start_time": "2022-01-11T11:10:17.506Z"
   },
   {
    "duration": 10,
    "start_time": "2022-01-11T11:10:26.071Z"
   },
   {
    "duration": 4,
    "start_time": "2022-01-11T11:11:16.156Z"
   },
   {
    "duration": 5,
    "start_time": "2022-01-11T11:12:27.515Z"
   },
   {
    "duration": 6,
    "start_time": "2022-01-11T11:20:57.036Z"
   },
   {
    "duration": 10,
    "start_time": "2022-01-11T11:21:17.026Z"
   },
   {
    "duration": 194,
    "start_time": "2022-01-11T11:22:51.036Z"
   },
   {
    "duration": 9,
    "start_time": "2022-01-11T11:24:52.762Z"
   },
   {
    "duration": 209,
    "start_time": "2022-01-11T11:24:57.747Z"
   },
   {
    "duration": 5,
    "start_time": "2022-01-11T11:27:04.286Z"
   },
   {
    "duration": 196,
    "start_time": "2022-01-11T11:27:07.596Z"
   },
   {
    "duration": 9,
    "start_time": "2022-01-11T11:27:11.556Z"
   },
   {
    "duration": 256,
    "start_time": "2022-01-11T11:27:12.916Z"
   },
   {
    "duration": 22,
    "start_time": "2022-01-11T11:29:08.116Z"
   },
   {
    "duration": 292,
    "start_time": "2022-01-11T11:29:38.715Z"
   },
   {
    "duration": 302,
    "start_time": "2022-01-11T11:31:13.151Z"
   },
   {
    "duration": 440,
    "start_time": "2022-01-11T11:45:18.316Z"
   },
   {
    "duration": 11,
    "start_time": "2022-01-11T11:45:31.076Z"
   },
   {
    "duration": 293,
    "start_time": "2022-01-11T11:45:35.354Z"
   },
   {
    "duration": 292,
    "start_time": "2022-01-11T11:45:51.137Z"
   },
   {
    "duration": 24,
    "start_time": "2022-01-11T11:46:46.913Z"
   },
   {
    "duration": 254,
    "start_time": "2022-01-11T11:46:51.255Z"
   },
   {
    "duration": 6,
    "start_time": "2022-01-11T11:47:31.929Z"
   },
   {
    "duration": 5,
    "start_time": "2022-01-11T11:47:42.710Z"
   },
   {
    "duration": 199,
    "start_time": "2022-01-11T11:48:45.064Z"
   },
   {
    "duration": 10,
    "start_time": "2022-01-11T11:49:28.066Z"
   },
   {
    "duration": 210,
    "start_time": "2022-01-11T11:49:30.322Z"
   },
   {
    "duration": 204,
    "start_time": "2022-01-11T11:49:37.156Z"
   },
   {
    "duration": 203,
    "start_time": "2022-01-11T11:49:46.548Z"
   },
   {
    "duration": 23,
    "start_time": "2022-01-11T11:50:37.336Z"
   },
   {
    "duration": 394,
    "start_time": "2022-01-11T11:50:39.536Z"
   },
   {
    "duration": 21,
    "start_time": "2022-01-11T11:51:55.525Z"
   },
   {
    "duration": 302,
    "start_time": "2022-01-11T11:51:57.566Z"
   },
   {
    "duration": 22,
    "start_time": "2022-01-11T11:52:00.886Z"
   },
   {
    "duration": 307,
    "start_time": "2022-01-11T11:52:03.395Z"
   },
   {
    "duration": 292,
    "start_time": "2022-01-11T11:52:38.262Z"
   },
   {
    "duration": 283,
    "start_time": "2022-01-11T11:52:45.487Z"
   },
   {
    "duration": 24,
    "start_time": "2022-01-11T12:01:35.999Z"
   },
   {
    "duration": 258,
    "start_time": "2022-01-11T12:01:39.758Z"
   },
   {
    "duration": 6,
    "start_time": "2022-01-11T12:01:51.649Z"
   },
   {
    "duration": 9,
    "start_time": "2022-01-11T12:03:23.241Z"
   },
   {
    "duration": 197,
    "start_time": "2022-01-11T12:03:23.689Z"
   },
   {
    "duration": 21,
    "start_time": "2022-01-11T12:03:28.001Z"
   },
   {
    "duration": 280,
    "start_time": "2022-01-11T12:03:36.706Z"
   },
   {
    "duration": 33,
    "start_time": "2022-01-11T12:03:41.269Z"
   },
   {
    "duration": 288,
    "start_time": "2022-01-11T12:03:43.556Z"
   },
   {
    "duration": 1050,
    "start_time": "2022-01-11T12:05:57.874Z"
   },
   {
    "duration": 3,
    "start_time": "2022-01-11T12:05:58.925Z"
   },
   {
    "duration": 39,
    "start_time": "2022-01-11T12:05:58.930Z"
   },
   {
    "duration": 20,
    "start_time": "2022-01-11T12:05:58.970Z"
   },
   {
    "duration": 13,
    "start_time": "2022-01-11T12:05:58.992Z"
   },
   {
    "duration": 3,
    "start_time": "2022-01-11T12:05:59.006Z"
   },
   {
    "duration": 6,
    "start_time": "2022-01-11T12:05:59.010Z"
   },
   {
    "duration": 14,
    "start_time": "2022-01-11T12:05:59.017Z"
   },
   {
    "duration": 11,
    "start_time": "2022-01-11T12:05:59.034Z"
   },
   {
    "duration": 9,
    "start_time": "2022-01-11T12:05:59.047Z"
   },
   {
    "duration": 9,
    "start_time": "2022-01-11T12:05:59.057Z"
   },
   {
    "duration": 10,
    "start_time": "2022-01-11T12:05:59.068Z"
   },
   {
    "duration": 7,
    "start_time": "2022-01-11T12:05:59.079Z"
   },
   {
    "duration": 13,
    "start_time": "2022-01-11T12:05:59.088Z"
   },
   {
    "duration": 22,
    "start_time": "2022-01-11T12:05:59.126Z"
   },
   {
    "duration": 13,
    "start_time": "2022-01-11T12:05:59.149Z"
   },
   {
    "duration": 23,
    "start_time": "2022-01-11T12:05:59.163Z"
   },
   {
    "duration": 42,
    "start_time": "2022-01-11T12:05:59.187Z"
   },
   {
    "duration": 4,
    "start_time": "2022-01-11T12:05:59.230Z"
   },
   {
    "duration": 168,
    "start_time": "2022-01-11T12:05:59.236Z"
   },
   {
    "duration": 4,
    "start_time": "2022-01-11T12:05:59.406Z"
   },
   {
    "duration": 6154,
    "start_time": "2022-01-11T12:05:59.412Z"
   },
   {
    "duration": -119,
    "start_time": "2022-01-11T12:06:05.688Z"
   },
   {
    "duration": -127,
    "start_time": "2022-01-11T12:06:05.697Z"
   },
   {
    "duration": -130,
    "start_time": "2022-01-11T12:06:05.701Z"
   },
   {
    "duration": -132,
    "start_time": "2022-01-11T12:06:05.704Z"
   },
   {
    "duration": -133,
    "start_time": "2022-01-11T12:06:05.706Z"
   },
   {
    "duration": -143,
    "start_time": "2022-01-11T12:06:05.716Z"
   },
   {
    "duration": -145,
    "start_time": "2022-01-11T12:06:05.719Z"
   },
   {
    "duration": -147,
    "start_time": "2022-01-11T12:06:05.722Z"
   },
   {
    "duration": -155,
    "start_time": "2022-01-11T12:06:05.732Z"
   },
   {
    "duration": -157,
    "start_time": "2022-01-11T12:06:05.735Z"
   },
   {
    "duration": -159,
    "start_time": "2022-01-11T12:06:05.738Z"
   },
   {
    "duration": -167,
    "start_time": "2022-01-11T12:06:05.747Z"
   },
   {
    "duration": -170,
    "start_time": "2022-01-11T12:06:05.751Z"
   },
   {
    "duration": -172,
    "start_time": "2022-01-11T12:06:05.754Z"
   },
   {
    "duration": -173,
    "start_time": "2022-01-11T12:06:05.756Z"
   },
   {
    "duration": -175,
    "start_time": "2022-01-11T12:06:05.759Z"
   },
   {
    "duration": -176,
    "start_time": "2022-01-11T12:06:05.761Z"
   },
   {
    "duration": -177,
    "start_time": "2022-01-11T12:06:05.763Z"
   },
   {
    "duration": -178,
    "start_time": "2022-01-11T12:06:05.765Z"
   },
   {
    "duration": -179,
    "start_time": "2022-01-11T12:06:05.767Z"
   },
   {
    "duration": -180,
    "start_time": "2022-01-11T12:06:05.769Z"
   },
   {
    "duration": -182,
    "start_time": "2022-01-11T12:06:05.772Z"
   },
   {
    "duration": -183,
    "start_time": "2022-01-11T12:06:05.774Z"
   },
   {
    "duration": -184,
    "start_time": "2022-01-11T12:06:05.776Z"
   },
   {
    "duration": -185,
    "start_time": "2022-01-11T12:06:05.778Z"
   },
   {
    "duration": 1130,
    "start_time": "2022-01-11T12:06:16.359Z"
   },
   {
    "duration": 3,
    "start_time": "2022-01-11T12:06:17.491Z"
   },
   {
    "duration": 43,
    "start_time": "2022-01-11T12:06:17.495Z"
   },
   {
    "duration": 19,
    "start_time": "2022-01-11T12:06:17.540Z"
   },
   {
    "duration": 11,
    "start_time": "2022-01-11T12:06:17.560Z"
   },
   {
    "duration": 2,
    "start_time": "2022-01-11T12:06:17.573Z"
   },
   {
    "duration": 7,
    "start_time": "2022-01-11T12:06:17.576Z"
   },
   {
    "duration": 11,
    "start_time": "2022-01-11T12:06:17.585Z"
   },
   {
    "duration": 33,
    "start_time": "2022-01-11T12:06:17.598Z"
   },
   {
    "duration": 6,
    "start_time": "2022-01-11T12:06:17.632Z"
   },
   {
    "duration": 8,
    "start_time": "2022-01-11T12:06:17.640Z"
   },
   {
    "duration": 9,
    "start_time": "2022-01-11T12:06:17.649Z"
   },
   {
    "duration": 7,
    "start_time": "2022-01-11T12:06:17.659Z"
   },
   {
    "duration": 12,
    "start_time": "2022-01-11T12:06:17.667Z"
   },
   {
    "duration": 19,
    "start_time": "2022-01-11T12:06:17.681Z"
   },
   {
    "duration": 11,
    "start_time": "2022-01-11T12:06:17.727Z"
   },
   {
    "duration": 21,
    "start_time": "2022-01-11T12:06:17.740Z"
   },
   {
    "duration": 24,
    "start_time": "2022-01-11T12:06:17.763Z"
   },
   {
    "duration": 6,
    "start_time": "2022-01-11T12:06:17.788Z"
   },
   {
    "duration": 163,
    "start_time": "2022-01-11T12:06:17.795Z"
   },
   {
    "duration": 4,
    "start_time": "2022-01-11T12:06:17.960Z"
   },
   {
    "duration": 35,
    "start_time": "2022-01-11T12:06:17.965Z"
   },
   {
    "duration": 5,
    "start_time": "2022-01-11T12:06:18.003Z"
   },
   {
    "duration": 204,
    "start_time": "2022-01-11T12:06:18.010Z"
   },
   {
    "duration": 4,
    "start_time": "2022-01-11T12:06:18.216Z"
   },
   {
    "duration": 8,
    "start_time": "2022-01-11T12:06:18.221Z"
   },
   {
    "duration": 9,
    "start_time": "2022-01-11T12:06:18.231Z"
   },
   {
    "duration": 14,
    "start_time": "2022-01-11T12:06:18.241Z"
   },
   {
    "duration": 8,
    "start_time": "2022-01-11T12:06:18.257Z"
   },
   {
    "duration": 10,
    "start_time": "2022-01-11T12:06:18.267Z"
   },
   {
    "duration": 6,
    "start_time": "2022-01-11T12:06:18.278Z"
   },
   {
    "duration": 22,
    "start_time": "2022-01-11T12:06:18.285Z"
   },
   {
    "duration": 21,
    "start_time": "2022-01-11T12:06:18.308Z"
   },
   {
    "duration": 217,
    "start_time": "2022-01-11T12:06:18.331Z"
   },
   {
    "duration": 11,
    "start_time": "2022-01-11T12:06:18.550Z"
   },
   {
    "duration": 312,
    "start_time": "2022-01-11T12:06:18.563Z"
   },
   {
    "duration": 22,
    "start_time": "2022-01-11T12:06:18.877Z"
   },
   {
    "duration": 276,
    "start_time": "2022-01-11T12:06:18.900Z"
   },
   {
    "duration": 5,
    "start_time": "2022-01-11T12:06:19.178Z"
   },
   {
    "duration": 5,
    "start_time": "2022-01-11T12:06:19.184Z"
   },
   {
    "duration": 222,
    "start_time": "2022-01-11T12:06:19.191Z"
   },
   {
    "duration": 15,
    "start_time": "2022-01-11T12:06:19.414Z"
   },
   {
    "duration": 322,
    "start_time": "2022-01-11T12:06:19.431Z"
   },
   {
    "duration": 21,
    "start_time": "2022-01-11T12:06:19.754Z"
   },
   {
    "duration": 412,
    "start_time": "2022-01-11T12:06:19.827Z"
   },
   {
    "duration": 21,
    "start_time": "2022-01-11T12:06:20.241Z"
   },
   {
    "duration": 308,
    "start_time": "2022-01-11T12:06:20.264Z"
   },
   {
    "duration": 235,
    "start_time": "2022-01-11T12:44:32.270Z"
   },
   {
    "duration": 423,
    "start_time": "2022-01-11T12:44:57.278Z"
   },
   {
    "duration": 121,
    "start_time": "2022-01-11T12:45:58.343Z"
   },
   {
    "duration": 123,
    "start_time": "2022-01-11T12:58:52.981Z"
   },
   {
    "duration": 110,
    "start_time": "2022-01-11T12:59:28.342Z"
   },
   {
    "duration": 121,
    "start_time": "2022-01-11T12:59:35.172Z"
   },
   {
    "duration": 495,
    "start_time": "2022-01-11T13:00:22.082Z"
   },
   {
    "duration": 277,
    "start_time": "2022-01-11T13:00:28.516Z"
   },
   {
    "duration": 388,
    "start_time": "2022-01-11T13:02:08.052Z"
   },
   {
    "duration": 401,
    "start_time": "2022-01-11T13:12:08.631Z"
   },
   {
    "duration": 365,
    "start_time": "2022-01-11T13:12:21.971Z"
   },
   {
    "duration": 382,
    "start_time": "2022-01-11T13:12:44.723Z"
   },
   {
    "duration": 419,
    "start_time": "2022-01-11T13:12:57.302Z"
   },
   {
    "duration": 6,
    "start_time": "2022-01-11T13:13:08.621Z"
   },
   {
    "duration": 395,
    "start_time": "2022-01-11T13:13:18.795Z"
   },
   {
    "duration": 14,
    "start_time": "2022-01-11T13:15:23.982Z"
   },
   {
    "duration": 6,
    "start_time": "2022-01-11T13:17:03.512Z"
   },
   {
    "duration": 10,
    "start_time": "2022-01-11T13:17:16.289Z"
   },
   {
    "duration": 194,
    "start_time": "2022-01-11T13:17:17.457Z"
   },
   {
    "duration": 21,
    "start_time": "2022-01-11T13:17:23.921Z"
   },
   {
    "duration": 7,
    "start_time": "2022-01-11T13:19:31.601Z"
   },
   {
    "duration": 1067,
    "start_time": "2022-01-11T13:19:36.954Z"
   },
   {
    "duration": 2,
    "start_time": "2022-01-11T13:19:38.023Z"
   },
   {
    "duration": 38,
    "start_time": "2022-01-11T13:19:38.027Z"
   },
   {
    "duration": 18,
    "start_time": "2022-01-11T13:19:38.067Z"
   },
   {
    "duration": 9,
    "start_time": "2022-01-11T13:19:38.087Z"
   },
   {
    "duration": 4,
    "start_time": "2022-01-11T13:19:38.098Z"
   },
   {
    "duration": 9,
    "start_time": "2022-01-11T13:19:38.103Z"
   },
   {
    "duration": 18,
    "start_time": "2022-01-11T13:19:38.113Z"
   },
   {
    "duration": 10,
    "start_time": "2022-01-11T13:19:38.133Z"
   },
   {
    "duration": 7,
    "start_time": "2022-01-11T13:19:38.145Z"
   },
   {
    "duration": 8,
    "start_time": "2022-01-11T13:19:38.153Z"
   },
   {
    "duration": 9,
    "start_time": "2022-01-11T13:19:38.163Z"
   },
   {
    "duration": 5,
    "start_time": "2022-01-11T13:19:38.174Z"
   },
   {
    "duration": 11,
    "start_time": "2022-01-11T13:19:38.180Z"
   },
   {
    "duration": 58,
    "start_time": "2022-01-11T13:19:38.193Z"
   },
   {
    "duration": 12,
    "start_time": "2022-01-11T13:19:38.253Z"
   },
   {
    "duration": 16,
    "start_time": "2022-01-11T13:19:38.267Z"
   },
   {
    "duration": 23,
    "start_time": "2022-01-11T13:19:38.285Z"
   },
   {
    "duration": 20,
    "start_time": "2022-01-11T13:19:38.309Z"
   },
   {
    "duration": 164,
    "start_time": "2022-01-11T13:19:38.330Z"
   },
   {
    "duration": 5,
    "start_time": "2022-01-11T13:19:38.495Z"
   },
   {
    "duration": 30,
    "start_time": "2022-01-11T13:19:38.501Z"
   },
   {
    "duration": 4,
    "start_time": "2022-01-11T13:19:38.532Z"
   },
   {
    "duration": 131,
    "start_time": "2022-01-11T13:19:38.538Z"
   },
   {
    "duration": 5,
    "start_time": "2022-01-11T13:19:38.670Z"
   },
   {
    "duration": 7,
    "start_time": "2022-01-11T13:19:38.677Z"
   },
   {
    "duration": 4,
    "start_time": "2022-01-11T13:19:38.688Z"
   },
   {
    "duration": 34,
    "start_time": "2022-01-11T13:19:38.694Z"
   },
   {
    "duration": 10,
    "start_time": "2022-01-11T13:19:38.730Z"
   },
   {
    "duration": 12,
    "start_time": "2022-01-11T13:19:38.741Z"
   },
   {
    "duration": 5,
    "start_time": "2022-01-11T13:19:38.754Z"
   },
   {
    "duration": 12,
    "start_time": "2022-01-11T13:19:38.760Z"
   },
   {
    "duration": 8,
    "start_time": "2022-01-11T13:19:38.773Z"
   },
   {
    "duration": 240,
    "start_time": "2022-01-11T13:19:38.783Z"
   },
   {
    "duration": 10,
    "start_time": "2022-01-11T13:19:39.024Z"
   },
   {
    "duration": 311,
    "start_time": "2022-01-11T13:19:39.035Z"
   },
   {
    "duration": 23,
    "start_time": "2022-01-11T13:19:39.347Z"
   },
   {
    "duration": 278,
    "start_time": "2022-01-11T13:19:39.372Z"
   },
   {
    "duration": 5,
    "start_time": "2022-01-11T13:19:39.651Z"
   },
   {
    "duration": 19,
    "start_time": "2022-01-11T13:19:39.657Z"
   },
   {
    "duration": 220,
    "start_time": "2022-01-11T13:19:39.677Z"
   },
   {
    "duration": 9,
    "start_time": "2022-01-11T13:19:39.898Z"
   },
   {
    "duration": 213,
    "start_time": "2022-01-11T13:19:39.908Z"
   },
   {
    "duration": 23,
    "start_time": "2022-01-11T13:19:40.123Z"
   },
   {
    "duration": 7,
    "start_time": "2022-01-11T13:19:40.147Z"
   },
   {
    "duration": 361,
    "start_time": "2022-01-11T13:19:40.156Z"
   },
   {
    "duration": 26,
    "start_time": "2022-01-11T13:19:40.519Z"
   },
   {
    "duration": 293,
    "start_time": "2022-01-11T13:19:40.547Z"
   },
   {
    "duration": 318,
    "start_time": "2022-01-11T13:19:40.842Z"
   },
   {
    "duration": 24,
    "start_time": "2022-01-11T13:20:14.038Z"
   },
   {
    "duration": 6,
    "start_time": "2022-01-11T13:20:34.918Z"
   },
   {
    "duration": 22,
    "start_time": "2022-01-11T13:20:38.658Z"
   },
   {
    "duration": 6,
    "start_time": "2022-01-11T13:20:56.226Z"
   },
   {
    "duration": 20,
    "start_time": "2022-01-11T13:20:59.768Z"
   },
   {
    "duration": 334,
    "start_time": "2022-01-11T13:21:31.648Z"
   },
   {
    "duration": 27,
    "start_time": "2022-01-11T13:21:41.201Z"
   },
   {
    "duration": 274,
    "start_time": "2022-01-11T13:21:43.892Z"
   },
   {
    "duration": 298,
    "start_time": "2022-01-11T13:22:01.793Z"
   },
   {
    "duration": 330,
    "start_time": "2022-01-11T13:22:19.946Z"
   },
   {
    "duration": 381,
    "start_time": "2022-01-11T13:22:26.276Z"
   },
   {
    "duration": 357,
    "start_time": "2022-01-11T13:48:49.631Z"
   },
   {
    "duration": 1045,
    "start_time": "2022-01-11T13:48:56.285Z"
   },
   {
    "duration": 2,
    "start_time": "2022-01-11T13:48:57.332Z"
   },
   {
    "duration": 38,
    "start_time": "2022-01-11T13:48:57.336Z"
   },
   {
    "duration": 18,
    "start_time": "2022-01-11T13:48:57.376Z"
   },
   {
    "duration": 10,
    "start_time": "2022-01-11T13:48:57.395Z"
   },
   {
    "duration": 3,
    "start_time": "2022-01-11T13:48:57.407Z"
   },
   {
    "duration": 6,
    "start_time": "2022-01-11T13:48:57.411Z"
   },
   {
    "duration": 8,
    "start_time": "2022-01-11T13:48:57.427Z"
   },
   {
    "duration": 13,
    "start_time": "2022-01-11T13:48:57.437Z"
   },
   {
    "duration": 9,
    "start_time": "2022-01-11T13:48:57.452Z"
   },
   {
    "duration": 9,
    "start_time": "2022-01-11T13:48:57.463Z"
   },
   {
    "duration": 21,
    "start_time": "2022-01-11T13:48:57.473Z"
   },
   {
    "duration": 6,
    "start_time": "2022-01-11T13:48:57.495Z"
   },
   {
    "duration": 25,
    "start_time": "2022-01-11T13:48:57.503Z"
   },
   {
    "duration": 21,
    "start_time": "2022-01-11T13:48:57.529Z"
   },
   {
    "duration": 12,
    "start_time": "2022-01-11T13:48:57.552Z"
   },
   {
    "duration": 17,
    "start_time": "2022-01-11T13:48:57.565Z"
   },
   {
    "duration": 46,
    "start_time": "2022-01-11T13:48:57.583Z"
   },
   {
    "duration": 3,
    "start_time": "2022-01-11T13:48:57.631Z"
   },
   {
    "duration": 166,
    "start_time": "2022-01-11T13:48:57.636Z"
   },
   {
    "duration": 5,
    "start_time": "2022-01-11T13:48:57.804Z"
   },
   {
    "duration": 34,
    "start_time": "2022-01-11T13:48:57.811Z"
   },
   {
    "duration": 4,
    "start_time": "2022-01-11T13:48:57.848Z"
   },
   {
    "duration": 130,
    "start_time": "2022-01-11T13:48:57.854Z"
   },
   {
    "duration": 4,
    "start_time": "2022-01-11T13:48:57.986Z"
   },
   {
    "duration": 10,
    "start_time": "2022-01-11T13:48:57.991Z"
   },
   {
    "duration": 6,
    "start_time": "2022-01-11T13:48:58.002Z"
   },
   {
    "duration": 22,
    "start_time": "2022-01-11T13:48:58.010Z"
   },
   {
    "duration": 9,
    "start_time": "2022-01-11T13:48:58.033Z"
   },
   {
    "duration": 11,
    "start_time": "2022-01-11T13:48:58.043Z"
   },
   {
    "duration": 4,
    "start_time": "2022-01-11T13:48:58.056Z"
   },
   {
    "duration": 19,
    "start_time": "2022-01-11T13:48:58.062Z"
   },
   {
    "duration": 44,
    "start_time": "2022-01-11T13:48:58.083Z"
   },
   {
    "duration": 218,
    "start_time": "2022-01-11T13:48:58.129Z"
   },
   {
    "duration": 10,
    "start_time": "2022-01-11T13:48:58.349Z"
   },
   {
    "duration": 318,
    "start_time": "2022-01-11T13:48:58.360Z"
   },
   {
    "duration": 23,
    "start_time": "2022-01-11T13:48:58.680Z"
   },
   {
    "duration": 286,
    "start_time": "2022-01-11T13:48:58.705Z"
   },
   {
    "duration": 4,
    "start_time": "2022-01-11T13:48:58.993Z"
   },
   {
    "duration": 14,
    "start_time": "2022-01-11T13:48:58.999Z"
   },
   {
    "duration": 223,
    "start_time": "2022-01-11T13:48:59.015Z"
   },
   {
    "duration": 10,
    "start_time": "2022-01-11T13:48:59.240Z"
   },
   {
    "duration": 215,
    "start_time": "2022-01-11T13:48:59.252Z"
   },
   {
    "duration": 24,
    "start_time": "2022-01-11T13:48:59.468Z"
   },
   {
    "duration": 9,
    "start_time": "2022-01-11T13:48:59.493Z"
   },
   {
    "duration": 355,
    "start_time": "2022-01-11T13:48:59.504Z"
   },
   {
    "duration": 21,
    "start_time": "2022-01-11T13:48:59.861Z"
   },
   {
    "duration": 290,
    "start_time": "2022-01-11T13:48:59.883Z"
   },
   {
    "duration": 293,
    "start_time": "2022-01-11T13:49:00.175Z"
   },
   {
    "duration": 8,
    "start_time": "2022-01-11T13:49:00.469Z"
   },
   {
    "duration": 8,
    "start_time": "2022-01-11T13:49:16.172Z"
   },
   {
    "duration": 9,
    "start_time": "2022-01-11T13:49:31.350Z"
   },
   {
    "duration": 9,
    "start_time": "2022-01-11T13:49:39.981Z"
   },
   {
    "duration": 10,
    "start_time": "2022-01-11T13:49:52.802Z"
   },
   {
    "duration": 11,
    "start_time": "2022-01-11T13:49:55.038Z"
   },
   {
    "duration": 349,
    "start_time": "2022-01-11T13:51:28.451Z"
   },
   {
    "duration": 398,
    "start_time": "2022-01-11T13:51:53.729Z"
   },
   {
    "duration": 5,
    "start_time": "2022-01-11T14:56:28.722Z"
   },
   {
    "duration": 5,
    "start_time": "2022-01-11T14:56:37.492Z"
   },
   {
    "duration": 5,
    "start_time": "2022-01-11T14:56:55.608Z"
   },
   {
    "duration": 9,
    "start_time": "2022-01-11T15:04:32.698Z"
   },
   {
    "duration": 137,
    "start_time": "2022-01-11T15:04:42.993Z"
   },
   {
    "duration": 193,
    "start_time": "2022-01-11T15:04:51.892Z"
   },
   {
    "duration": 399,
    "start_time": "2022-01-11T15:05:03.035Z"
   },
   {
    "duration": 117,
    "start_time": "2022-01-11T15:05:17.965Z"
   },
   {
    "duration": 181,
    "start_time": "2022-01-11T15:05:26.762Z"
   },
   {
    "duration": 178,
    "start_time": "2022-01-11T15:05:39.712Z"
   },
   {
    "duration": 213,
    "start_time": "2022-01-11T15:05:56.290Z"
   },
   {
    "duration": 296,
    "start_time": "2022-01-11T15:07:34.912Z"
   },
   {
    "duration": 220,
    "start_time": "2022-01-11T15:09:12.922Z"
   },
   {
    "duration": 214,
    "start_time": "2022-01-11T15:09:15.682Z"
   },
   {
    "duration": 217,
    "start_time": "2022-01-11T16:05:48.823Z"
   },
   {
    "duration": 220,
    "start_time": "2022-01-11T16:05:56.252Z"
   },
   {
    "duration": 9,
    "start_time": "2022-01-11T16:21:39.202Z"
   },
   {
    "duration": 152,
    "start_time": "2022-01-11T16:21:48.605Z"
   },
   {
    "duration": 199,
    "start_time": "2022-01-11T16:22:05.402Z"
   },
   {
    "duration": 364,
    "start_time": "2022-01-11T16:22:29.182Z"
   },
   {
    "duration": 9,
    "start_time": "2022-01-11T16:23:00.182Z"
   },
   {
    "duration": 311,
    "start_time": "2022-01-11T16:23:02.921Z"
   },
   {
    "duration": 10,
    "start_time": "2022-01-11T16:23:17.231Z"
   },
   {
    "duration": 421,
    "start_time": "2022-01-11T16:23:21.122Z"
   },
   {
    "duration": 187,
    "start_time": "2022-01-11T16:24:02.682Z"
   },
   {
    "duration": 357,
    "start_time": "2022-01-11T16:24:08.802Z"
   },
   {
    "duration": 12,
    "start_time": "2022-01-11T16:26:58.862Z"
   },
   {
    "duration": 242,
    "start_time": "2022-01-11T16:26:59.320Z"
   },
   {
    "duration": 10,
    "start_time": "2022-01-11T16:27:13.746Z"
   },
   {
    "duration": 10,
    "start_time": "2022-01-11T16:27:18.842Z"
   },
   {
    "duration": 241,
    "start_time": "2022-01-11T16:27:21.562Z"
   },
   {
    "duration": 277,
    "start_time": "2022-01-11T16:27:23.814Z"
   },
   {
    "duration": 292,
    "start_time": "2022-01-11T16:30:02.082Z"
   },
   {
    "duration": 249,
    "start_time": "2022-01-11T16:30:23.078Z"
   },
   {
    "duration": 429,
    "start_time": "2022-01-11T18:31:46.159Z"
   },
   {
    "duration": 1443,
    "start_time": "2022-01-11T18:31:52.316Z"
   },
   {
    "duration": 4,
    "start_time": "2022-01-11T18:31:53.761Z"
   },
   {
    "duration": 50,
    "start_time": "2022-01-11T18:31:53.768Z"
   },
   {
    "duration": 39,
    "start_time": "2022-01-11T18:31:53.821Z"
   },
   {
    "duration": 16,
    "start_time": "2022-01-11T18:31:53.864Z"
   },
   {
    "duration": 4,
    "start_time": "2022-01-11T18:31:53.883Z"
   },
   {
    "duration": 7,
    "start_time": "2022-01-11T18:31:53.891Z"
   },
   {
    "duration": 60,
    "start_time": "2022-01-11T18:31:53.902Z"
   },
   {
    "duration": 19,
    "start_time": "2022-01-11T18:31:53.965Z"
   },
   {
    "duration": 10,
    "start_time": "2022-01-11T18:31:53.986Z"
   },
   {
    "duration": 14,
    "start_time": "2022-01-11T18:31:53.998Z"
   },
   {
    "duration": 51,
    "start_time": "2022-01-11T18:31:54.015Z"
   },
   {
    "duration": 8,
    "start_time": "2022-01-11T18:31:54.068Z"
   },
   {
    "duration": 22,
    "start_time": "2022-01-11T18:31:54.078Z"
   },
   {
    "duration": 59,
    "start_time": "2022-01-11T18:31:54.102Z"
   },
   {
    "duration": 21,
    "start_time": "2022-01-11T18:31:54.163Z"
   },
   {
    "duration": 26,
    "start_time": "2022-01-11T18:31:54.186Z"
   },
   {
    "duration": 68,
    "start_time": "2022-01-11T18:31:54.215Z"
   },
   {
    "duration": 5,
    "start_time": "2022-01-11T18:31:54.285Z"
   },
   {
    "duration": 307,
    "start_time": "2022-01-11T18:31:54.293Z"
   },
   {
    "duration": 7,
    "start_time": "2022-01-11T18:31:54.603Z"
   },
   {
    "duration": 76,
    "start_time": "2022-01-11T18:31:54.613Z"
   },
   {
    "duration": 8,
    "start_time": "2022-01-11T18:31:54.699Z"
   },
   {
    "duration": 244,
    "start_time": "2022-01-11T18:31:54.711Z"
   },
   {
    "duration": 6,
    "start_time": "2022-01-11T18:31:54.957Z"
   },
   {
    "duration": 9,
    "start_time": "2022-01-11T18:31:54.967Z"
   },
   {
    "duration": 10,
    "start_time": "2022-01-11T18:31:54.979Z"
   },
   {
    "duration": 23,
    "start_time": "2022-01-11T18:31:54.992Z"
   },
   {
    "duration": 56,
    "start_time": "2022-01-11T18:31:55.018Z"
   },
   {
    "duration": 20,
    "start_time": "2022-01-11T18:31:55.077Z"
   },
   {
    "duration": 8,
    "start_time": "2022-01-11T18:31:55.099Z"
   },
   {
    "duration": 63,
    "start_time": "2022-01-11T18:31:55.109Z"
   },
   {
    "duration": 20,
    "start_time": "2022-01-11T18:31:55.174Z"
   },
   {
    "duration": 415,
    "start_time": "2022-01-11T18:31:55.196Z"
   },
   {
    "duration": 16,
    "start_time": "2022-01-11T18:31:55.613Z"
   },
   {
    "duration": 813,
    "start_time": "2022-01-11T18:31:55.632Z"
   },
   {
    "duration": 46,
    "start_time": "2022-01-11T18:31:56.447Z"
   },
   {
    "duration": 515,
    "start_time": "2022-01-11T18:31:56.496Z"
   },
   {
    "duration": 8,
    "start_time": "2022-01-11T18:31:57.013Z"
   },
   {
    "duration": 43,
    "start_time": "2022-01-11T18:31:57.023Z"
   },
   {
    "duration": 391,
    "start_time": "2022-01-11T18:31:57.069Z"
   },
   {
    "duration": 14,
    "start_time": "2022-01-11T18:31:57.463Z"
   },
   {
    "duration": 382,
    "start_time": "2022-01-11T18:31:57.480Z"
   },
   {
    "duration": 42,
    "start_time": "2022-01-11T18:31:57.865Z"
   },
   {
    "duration": 9,
    "start_time": "2022-01-11T18:31:57.910Z"
   },
   {
    "duration": 639,
    "start_time": "2022-01-11T18:31:57.921Z"
   },
   {
    "duration": 37,
    "start_time": "2022-01-11T18:31:58.563Z"
   },
   {
    "duration": 518,
    "start_time": "2022-01-11T18:31:58.603Z"
   },
   {
    "duration": 554,
    "start_time": "2022-01-11T18:31:59.123Z"
   },
   {
    "duration": 14,
    "start_time": "2022-01-11T18:31:59.680Z"
   },
   {
    "duration": 631,
    "start_time": "2022-01-11T18:31:59.697Z"
   },
   {
    "duration": 16,
    "start_time": "2022-01-11T18:32:00.330Z"
   },
   {
    "duration": 660,
    "start_time": "2022-01-11T18:32:00.349Z"
   },
   {
    "duration": 8,
    "start_time": "2022-01-11T18:32:01.011Z"
   },
   {
    "duration": 14,
    "start_time": "2022-01-11T18:32:01.021Z"
   },
   {
    "duration": 528,
    "start_time": "2022-01-11T18:32:01.038Z"
   },
   {
    "duration": 608,
    "start_time": "2022-01-11T18:32:01.569Z"
   },
   {
    "duration": 14,
    "start_time": "2022-01-11T18:32:02.179Z"
   },
   {
    "duration": 581,
    "start_time": "2022-01-11T18:32:02.195Z"
   },
   {
    "duration": 21,
    "start_time": "2022-01-11T18:32:02.780Z"
   },
   {
    "duration": 713,
    "start_time": "2022-01-11T18:32:02.804Z"
   },
   {
    "duration": 537,
    "start_time": "2022-01-11T18:32:03.519Z"
   },
   {
    "duration": 8,
    "start_time": "2022-01-11T18:32:13.514Z"
   },
   {
    "duration": 9,
    "start_time": "2022-01-11T18:33:41.153Z"
   },
   {
    "duration": 1097,
    "start_time": "2022-01-11T18:36:10.091Z"
   },
   {
    "duration": 14,
    "start_time": "2022-01-11T18:37:55.823Z"
   },
   {
    "duration": 22,
    "start_time": "2022-01-11T18:38:13.198Z"
   },
   {
    "duration": 21,
    "start_time": "2022-01-11T18:39:22.339Z"
   },
   {
    "duration": 364,
    "start_time": "2022-01-11T18:41:47.612Z"
   },
   {
    "duration": 7,
    "start_time": "2022-01-11T18:41:54.722Z"
   },
   {
    "duration": 7,
    "start_time": "2022-01-11T18:42:06.082Z"
   },
   {
    "duration": 6,
    "start_time": "2022-01-11T18:42:15.311Z"
   },
   {
    "duration": 21,
    "start_time": "2022-01-11T19:02:03.405Z"
   },
   {
    "duration": 23,
    "start_time": "2022-01-11T19:02:35.872Z"
   },
   {
    "duration": 8,
    "start_time": "2022-01-11T19:11:14.397Z"
   },
   {
    "duration": 9,
    "start_time": "2022-01-11T19:11:16.972Z"
   },
   {
    "duration": 9,
    "start_time": "2022-01-11T19:15:04.922Z"
   },
   {
    "duration": 69,
    "start_time": "2022-01-11T19:19:22.997Z"
   },
   {
    "duration": 8,
    "start_time": "2022-01-11T19:23:28.156Z"
   },
   {
    "duration": 20,
    "start_time": "2022-01-11T19:28:47.682Z"
   },
   {
    "duration": 218,
    "start_time": "2022-01-11T19:33:23.111Z"
   },
   {
    "duration": 123,
    "start_time": "2022-01-11T19:33:33.112Z"
   },
   {
    "duration": 136,
    "start_time": "2022-01-11T19:33:42.752Z"
   },
   {
    "duration": 294,
    "start_time": "2022-01-11T19:34:17.939Z"
   },
   {
    "duration": 24,
    "start_time": "2022-01-11T19:35:59.070Z"
   },
   {
    "duration": 327,
    "start_time": "2022-01-12T07:04:12.126Z"
   },
   {
    "duration": 1476,
    "start_time": "2022-01-12T07:04:17.991Z"
   },
   {
    "duration": 5,
    "start_time": "2022-01-12T07:04:19.470Z"
   },
   {
    "duration": 53,
    "start_time": "2022-01-12T07:04:19.479Z"
   },
   {
    "duration": 38,
    "start_time": "2022-01-12T07:04:19.535Z"
   },
   {
    "duration": 19,
    "start_time": "2022-01-12T07:04:19.577Z"
   },
   {
    "duration": 4,
    "start_time": "2022-01-12T07:04:19.599Z"
   },
   {
    "duration": 8,
    "start_time": "2022-01-12T07:04:19.606Z"
   },
   {
    "duration": 56,
    "start_time": "2022-01-12T07:04:19.620Z"
   },
   {
    "duration": 20,
    "start_time": "2022-01-12T07:04:19.680Z"
   },
   {
    "duration": 14,
    "start_time": "2022-01-12T07:04:19.703Z"
   },
   {
    "duration": 57,
    "start_time": "2022-01-12T07:04:19.719Z"
   },
   {
    "duration": 21,
    "start_time": "2022-01-12T07:04:19.779Z"
   },
   {
    "duration": 9,
    "start_time": "2022-01-12T07:04:19.803Z"
   },
   {
    "duration": 52,
    "start_time": "2022-01-12T07:04:19.815Z"
   },
   {
    "duration": 38,
    "start_time": "2022-01-12T07:04:19.871Z"
   },
   {
    "duration": 55,
    "start_time": "2022-01-12T07:04:19.912Z"
   },
   {
    "duration": 29,
    "start_time": "2022-01-12T07:04:19.970Z"
   },
   {
    "duration": 67,
    "start_time": "2022-01-12T07:04:20.002Z"
   },
   {
    "duration": 11,
    "start_time": "2022-01-12T07:04:20.071Z"
   },
   {
    "duration": 297,
    "start_time": "2022-01-12T07:04:20.085Z"
   },
   {
    "duration": 6,
    "start_time": "2022-01-12T07:04:20.385Z"
   },
   {
    "duration": 51,
    "start_time": "2022-01-12T07:04:20.393Z"
   },
   {
    "duration": 7,
    "start_time": "2022-01-12T07:04:20.466Z"
   },
   {
    "duration": 235,
    "start_time": "2022-01-12T07:04:20.477Z"
   },
   {
    "duration": 6,
    "start_time": "2022-01-12T07:04:20.715Z"
   },
   {
    "duration": 19,
    "start_time": "2022-01-12T07:04:20.723Z"
   },
   {
    "duration": 8,
    "start_time": "2022-01-12T07:04:20.745Z"
   },
   {
    "duration": 7,
    "start_time": "2022-01-12T07:04:20.767Z"
   },
   {
    "duration": 24,
    "start_time": "2022-01-12T07:04:20.776Z"
   },
   {
    "duration": 15,
    "start_time": "2022-01-12T07:04:20.802Z"
   },
   {
    "duration": 52,
    "start_time": "2022-01-12T07:04:20.819Z"
   },
   {
    "duration": 6,
    "start_time": "2022-01-12T07:04:20.874Z"
   },
   {
    "duration": 23,
    "start_time": "2022-01-12T07:04:20.882Z"
   },
   {
    "duration": 16,
    "start_time": "2022-01-12T07:04:20.907Z"
   },
   {
    "duration": 415,
    "start_time": "2022-01-12T07:04:20.926Z"
   },
   {
    "duration": 24,
    "start_time": "2022-01-12T07:04:21.343Z"
   },
   {
    "duration": 583,
    "start_time": "2022-01-12T07:04:21.369Z"
   },
   {
    "duration": 36,
    "start_time": "2022-01-12T07:04:21.954Z"
   },
   {
    "duration": 510,
    "start_time": "2022-01-12T07:04:21.993Z"
   },
   {
    "duration": 8,
    "start_time": "2022-01-12T07:04:22.505Z"
   },
   {
    "duration": 27,
    "start_time": "2022-01-12T07:04:22.515Z"
   },
   {
    "duration": 423,
    "start_time": "2022-01-12T07:04:22.544Z"
   },
   {
    "duration": 14,
    "start_time": "2022-01-12T07:04:22.969Z"
   },
   {
    "duration": 401,
    "start_time": "2022-01-12T07:04:22.986Z"
   },
   {
    "duration": 39,
    "start_time": "2022-01-12T07:04:23.390Z"
   },
   {
    "duration": 9,
    "start_time": "2022-01-12T07:04:23.432Z"
   },
   {
    "duration": 655,
    "start_time": "2022-01-12T07:04:23.468Z"
   },
   {
    "duration": 71,
    "start_time": "2022-01-12T07:04:24.126Z"
   },
   {
    "duration": 653,
    "start_time": "2022-01-12T07:04:24.200Z"
   },
   {
    "duration": 552,
    "start_time": "2022-01-12T07:04:24.856Z"
   },
   {
    "duration": 13,
    "start_time": "2022-01-12T07:04:25.411Z"
   },
   {
    "duration": 568,
    "start_time": "2022-01-12T07:04:25.426Z"
   },
   {
    "duration": 12,
    "start_time": "2022-01-12T07:04:25.997Z"
   },
   {
    "duration": 572,
    "start_time": "2022-01-12T07:04:26.011Z"
   },
   {
    "duration": 7,
    "start_time": "2022-01-12T07:04:26.585Z"
   },
   {
    "duration": 9,
    "start_time": "2022-01-12T07:04:26.594Z"
   },
   {
    "duration": 435,
    "start_time": "2022-01-12T07:04:26.605Z"
   },
   {
    "duration": 451,
    "start_time": "2022-01-12T07:04:27.043Z"
   },
   {
    "duration": 16,
    "start_time": "2022-01-12T07:04:27.496Z"
   },
   {
    "duration": 648,
    "start_time": "2022-01-12T07:04:27.515Z"
   },
   {
    "duration": 136,
    "start_time": "2022-01-12T07:04:28.167Z"
   },
   {
    "duration": 8,
    "start_time": "2022-01-12T07:04:28.305Z"
   },
   {
    "duration": 9,
    "start_time": "2022-01-12T07:04:28.316Z"
   },
   {
    "duration": 47,
    "start_time": "2022-01-12T07:04:28.327Z"
   },
   {
    "duration": 477,
    "start_time": "2022-01-12T07:04:28.376Z"
   },
   {
    "duration": 15,
    "start_time": "2022-01-12T07:04:28.856Z"
   },
   {
    "duration": 13,
    "start_time": "2022-01-12T07:04:28.874Z"
   },
   {
    "duration": 8,
    "start_time": "2022-01-12T07:04:28.895Z"
   },
   {
    "duration": 25,
    "start_time": "2022-01-12T07:04:28.905Z"
   },
   {
    "duration": 217,
    "start_time": "2022-01-12T07:04:58.268Z"
   },
   {
    "duration": 9,
    "start_time": "2022-01-12T07:05:46.543Z"
   },
   {
    "duration": 8,
    "start_time": "2022-01-12T07:05:50.034Z"
   },
   {
    "duration": 7858,
    "start_time": "2022-01-12T07:16:34.383Z"
   },
   {
    "duration": 9,
    "start_time": "2022-01-12T07:16:58.892Z"
   },
   {
    "duration": 10,
    "start_time": "2022-01-12T07:17:14.912Z"
   },
   {
    "duration": 6,
    "start_time": "2022-01-12T07:19:41.382Z"
   },
   {
    "duration": 10,
    "start_time": "2022-01-12T07:19:43.593Z"
   },
   {
    "duration": 9,
    "start_time": "2022-01-12T07:22:28.639Z"
   },
   {
    "duration": 12,
    "start_time": "2022-01-12T07:22:38.737Z"
   },
   {
    "duration": 14,
    "start_time": "2022-01-12T07:27:17.156Z"
   },
   {
    "duration": 12,
    "start_time": "2022-01-12T07:31:12.244Z"
   },
   {
    "duration": 13,
    "start_time": "2022-01-12T07:31:28.462Z"
   },
   {
    "duration": 14,
    "start_time": "2022-01-12T07:32:01.917Z"
   },
   {
    "duration": 14,
    "start_time": "2022-01-12T07:32:23.573Z"
   },
   {
    "duration": 13,
    "start_time": "2022-01-12T07:32:29.838Z"
   },
   {
    "duration": 10,
    "start_time": "2022-01-12T07:33:54.043Z"
   },
   {
    "duration": 5,
    "start_time": "2022-01-12T07:33:54.844Z"
   },
   {
    "duration": 5,
    "start_time": "2022-01-12T07:33:55.503Z"
   },
   {
    "duration": 6,
    "start_time": "2022-01-12T07:34:14.378Z"
   },
   {
    "duration": 6,
    "start_time": "2022-01-12T07:34:15.212Z"
   },
   {
    "duration": 8,
    "start_time": "2022-01-12T07:34:33.383Z"
   },
   {
    "duration": 1466,
    "start_time": "2022-01-12T07:37:13.075Z"
   },
   {
    "duration": 3,
    "start_time": "2022-01-12T07:37:14.544Z"
   },
   {
    "duration": 51,
    "start_time": "2022-01-12T07:37:14.550Z"
   },
   {
    "duration": 26,
    "start_time": "2022-01-12T07:37:14.604Z"
   },
   {
    "duration": 35,
    "start_time": "2022-01-12T07:37:14.632Z"
   },
   {
    "duration": 4,
    "start_time": "2022-01-12T07:37:14.669Z"
   },
   {
    "duration": 12,
    "start_time": "2022-01-12T07:37:14.675Z"
   },
   {
    "duration": 14,
    "start_time": "2022-01-12T07:37:14.692Z"
   },
   {
    "duration": 20,
    "start_time": "2022-01-12T07:37:14.709Z"
   },
   {
    "duration": 45,
    "start_time": "2022-01-12T07:37:14.731Z"
   },
   {
    "duration": 13,
    "start_time": "2022-01-12T07:37:14.778Z"
   },
   {
    "duration": 13,
    "start_time": "2022-01-12T07:37:14.794Z"
   },
   {
    "duration": 6,
    "start_time": "2022-01-12T07:37:14.810Z"
   },
   {
    "duration": 62,
    "start_time": "2022-01-12T07:37:14.819Z"
   },
   {
    "duration": 44,
    "start_time": "2022-01-12T07:37:14.885Z"
   },
   {
    "duration": 55,
    "start_time": "2022-01-12T07:37:14.932Z"
   },
   {
    "duration": 27,
    "start_time": "2022-01-12T07:37:14.990Z"
   },
   {
    "duration": 64,
    "start_time": "2022-01-12T07:37:15.020Z"
   },
   {
    "duration": 4,
    "start_time": "2022-01-12T07:37:15.087Z"
   },
   {
    "duration": 299,
    "start_time": "2022-01-12T07:37:15.094Z"
   },
   {
    "duration": 7,
    "start_time": "2022-01-12T07:37:15.395Z"
   },
   {
    "duration": 63,
    "start_time": "2022-01-12T07:37:15.404Z"
   },
   {
    "duration": 6,
    "start_time": "2022-01-12T07:37:15.473Z"
   },
   {
    "duration": 262,
    "start_time": "2022-01-12T07:37:15.483Z"
   },
   {
    "duration": 6,
    "start_time": "2022-01-12T07:37:15.747Z"
   },
   {
    "duration": 18,
    "start_time": "2022-01-12T07:37:15.755Z"
   },
   {
    "duration": 10,
    "start_time": "2022-01-12T07:37:15.775Z"
   },
   {
    "duration": 6,
    "start_time": "2022-01-12T07:37:15.788Z"
   },
   {
    "duration": 27,
    "start_time": "2022-01-12T07:37:15.796Z"
   },
   {
    "duration": 48,
    "start_time": "2022-01-12T07:37:15.825Z"
   },
   {
    "duration": 17,
    "start_time": "2022-01-12T07:37:15.876Z"
   },
   {
    "duration": 6,
    "start_time": "2022-01-12T07:37:15.896Z"
   },
   {
    "duration": 23,
    "start_time": "2022-01-12T07:37:15.904Z"
   },
   {
    "duration": 45,
    "start_time": "2022-01-12T07:37:15.930Z"
   },
   {
    "duration": 518,
    "start_time": "2022-01-12T07:37:15.978Z"
   },
   {
    "duration": 17,
    "start_time": "2022-01-12T07:37:16.498Z"
   },
   {
    "duration": 609,
    "start_time": "2022-01-12T07:37:16.517Z"
   },
   {
    "duration": 39,
    "start_time": "2022-01-12T07:37:17.128Z"
   },
   {
    "duration": 546,
    "start_time": "2022-01-12T07:37:17.170Z"
   },
   {
    "duration": 7,
    "start_time": "2022-01-12T07:37:17.718Z"
   },
   {
    "duration": 46,
    "start_time": "2022-01-12T07:37:17.727Z"
   },
   {
    "duration": 413,
    "start_time": "2022-01-12T07:37:17.776Z"
   },
   {
    "duration": 15,
    "start_time": "2022-01-12T07:37:18.191Z"
   },
   {
    "duration": 402,
    "start_time": "2022-01-12T07:37:18.208Z"
   },
   {
    "duration": 56,
    "start_time": "2022-01-12T07:37:18.613Z"
   },
   {
    "duration": 10,
    "start_time": "2022-01-12T07:37:18.672Z"
   },
   {
    "duration": 632,
    "start_time": "2022-01-12T07:37:18.685Z"
   },
   {
    "duration": 60,
    "start_time": "2022-01-12T07:37:19.320Z"
   },
   {
    "duration": 524,
    "start_time": "2022-01-12T07:37:19.383Z"
   },
   {
    "duration": 600,
    "start_time": "2022-01-12T07:37:19.909Z"
   },
   {
    "duration": 13,
    "start_time": "2022-01-12T07:37:20.511Z"
   },
   {
    "duration": 612,
    "start_time": "2022-01-12T07:37:20.526Z"
   },
   {
    "duration": 27,
    "start_time": "2022-01-12T07:37:21.141Z"
   },
   {
    "duration": 562,
    "start_time": "2022-01-12T07:37:21.171Z"
   },
   {
    "duration": 8,
    "start_time": "2022-01-12T07:37:21.735Z"
   },
   {
    "duration": 36,
    "start_time": "2022-01-12T07:37:21.746Z"
   },
   {
    "duration": 475,
    "start_time": "2022-01-12T07:37:21.785Z"
   },
   {
    "duration": 448,
    "start_time": "2022-01-12T07:37:22.266Z"
   },
   {
    "duration": 15,
    "start_time": "2022-01-12T07:37:22.717Z"
   },
   {
    "duration": 620,
    "start_time": "2022-01-12T07:37:22.734Z"
   },
   {
    "duration": 13,
    "start_time": "2022-01-12T07:37:23.356Z"
   },
   {
    "duration": 16,
    "start_time": "2022-01-12T07:37:23.371Z"
   },
   {
    "duration": 13,
    "start_time": "2022-01-12T07:37:23.389Z"
   },
   {
    "duration": 18,
    "start_time": "2022-01-12T07:37:23.404Z"
   },
   {
    "duration": 518,
    "start_time": "2022-01-12T07:37:23.425Z"
   },
   {
    "duration": 21,
    "start_time": "2022-01-12T07:37:23.945Z"
   },
   {
    "duration": 9,
    "start_time": "2022-01-12T07:37:23.969Z"
   },
   {
    "duration": 9,
    "start_time": "2022-01-12T07:37:23.985Z"
   },
   {
    "duration": 27,
    "start_time": "2022-01-12T07:37:23.996Z"
   },
   {
    "duration": 48,
    "start_time": "2022-01-12T07:37:24.025Z"
   },
   {
    "duration": 10,
    "start_time": "2022-01-12T07:37:24.075Z"
   },
   {
    "duration": 9,
    "start_time": "2022-01-12T07:37:24.087Z"
   },
   {
    "duration": 9,
    "start_time": "2022-01-12T07:37:24.098Z"
   },
   {
    "duration": 20,
    "start_time": "2022-01-12T07:37:24.109Z"
   },
   {
    "duration": 15,
    "start_time": "2022-01-12T07:37:24.132Z"
   },
   {
    "duration": 11,
    "start_time": "2022-01-12T07:40:24.386Z"
   },
   {
    "duration": 33,
    "start_time": "2022-01-12T07:40:37.976Z"
   },
   {
    "duration": 17,
    "start_time": "2022-01-12T07:41:01.319Z"
   },
   {
    "duration": 17,
    "start_time": "2022-01-12T07:41:14.076Z"
   },
   {
    "duration": 19,
    "start_time": "2022-01-12T07:41:23.386Z"
   },
   {
    "duration": 447,
    "start_time": "2022-01-12T07:41:28.216Z"
   },
   {
    "duration": 7,
    "start_time": "2022-01-12T07:41:52.710Z"
   },
   {
    "duration": 4,
    "start_time": "2022-01-12T07:42:31.851Z"
   },
   {
    "duration": 5,
    "start_time": "2022-01-12T07:42:32.896Z"
   },
   {
    "duration": 13,
    "start_time": "2022-01-12T07:42:36.976Z"
   },
   {
    "duration": 5,
    "start_time": "2022-01-12T07:42:38.136Z"
   },
   {
    "duration": 4,
    "start_time": "2022-01-12T07:42:38.547Z"
   },
   {
    "duration": 12,
    "start_time": "2022-01-12T08:12:44.068Z"
   },
   {
    "duration": 5,
    "start_time": "2022-01-12T08:12:44.576Z"
   },
   {
    "duration": 6,
    "start_time": "2022-01-12T08:12:45.084Z"
   },
   {
    "duration": 6,
    "start_time": "2022-01-12T08:13:24.996Z"
   },
   {
    "duration": 7,
    "start_time": "2022-01-12T08:14:32.215Z"
   },
   {
    "duration": 9,
    "start_time": "2022-01-12T08:14:32.787Z"
   },
   {
    "duration": 8,
    "start_time": "2022-01-12T08:15:16.966Z"
   },
   {
    "duration": 7847,
    "start_time": "2022-01-12T08:48:29.116Z"
   },
   {
    "duration": 12,
    "start_time": "2022-01-12T08:49:53.196Z"
   },
   {
    "duration": 1687,
    "start_time": "2022-01-12T08:51:00.367Z"
   },
   {
    "duration": 54,
    "start_time": "2022-01-12T08:51:02.057Z"
   },
   {
    "duration": 25,
    "start_time": "2022-01-12T08:51:02.114Z"
   },
   {
    "duration": 36,
    "start_time": "2022-01-12T08:51:02.142Z"
   },
   {
    "duration": 9,
    "start_time": "2022-01-12T08:51:02.181Z"
   },
   {
    "duration": 15,
    "start_time": "2022-01-12T08:51:02.193Z"
   },
   {
    "duration": 18,
    "start_time": "2022-01-12T08:51:02.210Z"
   },
   {
    "duration": 41,
    "start_time": "2022-01-12T08:51:02.232Z"
   },
   {
    "duration": 25,
    "start_time": "2022-01-12T08:51:02.280Z"
   },
   {
    "duration": 13,
    "start_time": "2022-01-12T08:51:02.308Z"
   },
   {
    "duration": 25,
    "start_time": "2022-01-12T08:51:02.324Z"
   },
   {
    "duration": 17,
    "start_time": "2022-01-12T08:51:02.371Z"
   },
   {
    "duration": 10,
    "start_time": "2022-01-12T08:51:02.391Z"
   },
   {
    "duration": 28,
    "start_time": "2022-01-12T08:51:02.404Z"
   },
   {
    "duration": 72,
    "start_time": "2022-01-12T08:51:02.434Z"
   },
   {
    "duration": 24,
    "start_time": "2022-01-12T08:51:02.509Z"
   },
   {
    "duration": 68,
    "start_time": "2022-01-12T08:51:02.535Z"
   },
   {
    "duration": 41,
    "start_time": "2022-01-12T08:51:02.605Z"
   },
   {
    "duration": 4,
    "start_time": "2022-01-12T08:51:02.649Z"
   },
   {
    "duration": 103,
    "start_time": "2022-01-12T08:51:02.655Z"
   },
   {
    "duration": 13,
    "start_time": "2022-01-12T08:51:02.761Z"
   },
   {
    "duration": 67,
    "start_time": "2022-01-12T08:51:02.777Z"
   },
   {
    "duration": 27,
    "start_time": "2022-01-12T08:51:02.855Z"
   },
   {
    "duration": 10,
    "start_time": "2022-01-12T08:51:02.887Z"
   },
   {
    "duration": 14,
    "start_time": "2022-01-12T08:51:02.899Z"
   },
   {
    "duration": 9,
    "start_time": "2022-01-12T08:51:02.916Z"
   },
   {
    "duration": 45,
    "start_time": "2022-01-12T08:51:02.929Z"
   },
   {
    "duration": 9,
    "start_time": "2022-01-12T08:51:02.977Z"
   },
   {
    "duration": 32,
    "start_time": "2022-01-12T08:51:02.988Z"
   },
   {
    "duration": 15,
    "start_time": "2022-01-12T08:51:03.022Z"
   },
   {
    "duration": 51,
    "start_time": "2022-01-12T08:51:03.039Z"
   },
   {
    "duration": 6,
    "start_time": "2022-01-12T08:51:03.092Z"
   },
   {
    "duration": 27,
    "start_time": "2022-01-12T08:51:03.100Z"
   },
   {
    "duration": 50,
    "start_time": "2022-01-12T08:51:03.129Z"
   },
   {
    "duration": 421,
    "start_time": "2022-01-12T08:51:03.182Z"
   },
   {
    "duration": 17,
    "start_time": "2022-01-12T08:51:03.605Z"
   },
   {
    "duration": 806,
    "start_time": "2022-01-12T08:51:03.626Z"
   },
   {
    "duration": 51,
    "start_time": "2022-01-12T08:51:04.436Z"
   },
   {
    "duration": 601,
    "start_time": "2022-01-12T08:51:04.491Z"
   },
   {
    "duration": 10,
    "start_time": "2022-01-12T08:51:05.095Z"
   },
   {
    "duration": 43,
    "start_time": "2022-01-12T08:51:05.108Z"
   },
   {
    "duration": 436,
    "start_time": "2022-01-12T08:51:05.154Z"
   },
   {
    "duration": 14,
    "start_time": "2022-01-12T08:51:05.593Z"
   },
   {
    "duration": 429,
    "start_time": "2022-01-12T08:51:05.609Z"
   },
   {
    "duration": 55,
    "start_time": "2022-01-12T08:51:06.041Z"
   },
   {
    "duration": 8,
    "start_time": "2022-01-12T08:51:06.099Z"
   },
   {
    "duration": 662,
    "start_time": "2022-01-12T08:51:06.110Z"
   },
   {
    "duration": 43,
    "start_time": "2022-01-12T08:51:06.775Z"
   },
   {
    "duration": 581,
    "start_time": "2022-01-12T08:51:06.821Z"
   },
   {
    "duration": 590,
    "start_time": "2022-01-12T08:51:07.406Z"
   },
   {
    "duration": 13,
    "start_time": "2022-01-12T08:51:07.999Z"
   },
   {
    "duration": 987,
    "start_time": "2022-01-12T08:51:08.015Z"
   },
   {
    "duration": 69,
    "start_time": "2022-01-12T08:51:09.005Z"
   },
   {
    "duration": 710,
    "start_time": "2022-01-12T08:51:09.077Z"
   },
   {
    "duration": 14,
    "start_time": "2022-01-12T08:51:09.790Z"
   },
   {
    "duration": 8,
    "start_time": "2022-01-12T08:51:09.806Z"
   },
   {
    "duration": 469,
    "start_time": "2022-01-12T08:51:09.816Z"
   },
   {
    "duration": 449,
    "start_time": "2022-01-12T08:51:10.288Z"
   },
   {
    "duration": 28,
    "start_time": "2022-01-12T08:51:10.739Z"
   },
   {
    "duration": 576,
    "start_time": "2022-01-12T08:51:10.771Z"
   },
   {
    "duration": 22,
    "start_time": "2022-01-12T08:51:11.350Z"
   },
   {
    "duration": 11,
    "start_time": "2022-01-12T08:51:11.375Z"
   },
   {
    "duration": 11,
    "start_time": "2022-01-12T08:51:11.389Z"
   },
   {
    "duration": 20,
    "start_time": "2022-01-12T08:51:11.402Z"
   },
   {
    "duration": 529,
    "start_time": "2022-01-12T08:51:11.424Z"
   },
   {
    "duration": 15,
    "start_time": "2022-01-12T08:51:11.956Z"
   },
   {
    "duration": 10,
    "start_time": "2022-01-12T08:51:11.980Z"
   },
   {
    "duration": 8,
    "start_time": "2022-01-12T08:51:11.999Z"
   },
   {
    "duration": 57,
    "start_time": "2022-01-12T08:51:12.010Z"
   },
   {
    "duration": 16,
    "start_time": "2022-01-12T08:51:12.070Z"
   },
   {
    "duration": 11,
    "start_time": "2022-01-12T08:51:12.090Z"
   },
   {
    "duration": 14,
    "start_time": "2022-01-12T08:51:12.103Z"
   },
   {
    "duration": 9,
    "start_time": "2022-01-12T08:51:12.119Z"
   },
   {
    "duration": 9,
    "start_time": "2022-01-12T08:51:12.130Z"
   },
   {
    "duration": 9,
    "start_time": "2022-01-12T08:51:12.173Z"
   },
   {
    "duration": 16,
    "start_time": "2022-01-12T08:51:12.186Z"
   },
   {
    "duration": 6,
    "start_time": "2022-01-12T08:51:12.204Z"
   },
   {
    "duration": 8,
    "start_time": "2022-01-12T08:51:12.213Z"
   },
   {
    "duration": 54,
    "start_time": "2022-01-12T08:51:12.224Z"
   },
   {
    "duration": 7,
    "start_time": "2022-01-12T08:51:12.281Z"
   },
   {
    "duration": 7,
    "start_time": "2022-01-12T08:51:12.290Z"
   },
   {
    "duration": 30,
    "start_time": "2022-01-12T08:54:04.406Z"
   },
   {
    "duration": 100,
    "start_time": "2022-01-12T08:57:45.197Z"
   },
   {
    "duration": 25,
    "start_time": "2022-01-12T08:57:50.322Z"
   },
   {
    "duration": 6,
    "start_time": "2022-01-12T08:59:08.082Z"
   },
   {
    "duration": 1600,
    "start_time": "2022-01-12T08:59:17.646Z"
   },
   {
    "duration": 54,
    "start_time": "2022-01-12T08:59:19.249Z"
   },
   {
    "duration": 26,
    "start_time": "2022-01-12T08:59:19.307Z"
   },
   {
    "duration": 41,
    "start_time": "2022-01-12T08:59:19.336Z"
   },
   {
    "duration": 6,
    "start_time": "2022-01-12T08:59:19.386Z"
   },
   {
    "duration": 7,
    "start_time": "2022-01-12T08:59:19.395Z"
   },
   {
    "duration": 13,
    "start_time": "2022-01-12T08:59:19.405Z"
   },
   {
    "duration": 51,
    "start_time": "2022-01-12T08:59:19.422Z"
   },
   {
    "duration": 22,
    "start_time": "2022-01-12T08:59:19.477Z"
   },
   {
    "duration": 14,
    "start_time": "2022-01-12T08:59:19.501Z"
   },
   {
    "duration": 14,
    "start_time": "2022-01-12T08:59:19.518Z"
   },
   {
    "duration": 47,
    "start_time": "2022-01-12T08:59:19.534Z"
   },
   {
    "duration": 7,
    "start_time": "2022-01-12T08:59:19.584Z"
   },
   {
    "duration": 25,
    "start_time": "2022-01-12T08:59:19.594Z"
   },
   {
    "duration": 86,
    "start_time": "2022-01-12T08:59:19.621Z"
   },
   {
    "duration": 24,
    "start_time": "2022-01-12T08:59:19.710Z"
   },
   {
    "duration": 52,
    "start_time": "2022-01-12T08:59:19.736Z"
   },
   {
    "duration": 44,
    "start_time": "2022-01-12T08:59:19.790Z"
   },
   {
    "duration": 607,
    "start_time": "2022-01-12T08:59:19.837Z"
   },
   {
    "duration": -2183,
    "start_time": "2022-01-12T08:59:22.635Z"
   },
   {
    "duration": -2197,
    "start_time": "2022-01-12T08:59:22.651Z"
   },
   {
    "duration": -2209,
    "start_time": "2022-01-12T08:59:22.665Z"
   },
   {
    "duration": -2223,
    "start_time": "2022-01-12T08:59:22.681Z"
   },
   {
    "duration": -2236,
    "start_time": "2022-01-12T08:59:22.696Z"
   },
   {
    "duration": -2250,
    "start_time": "2022-01-12T08:59:22.711Z"
   },
   {
    "duration": -2282,
    "start_time": "2022-01-12T08:59:22.745Z"
   },
   {
    "duration": -2297,
    "start_time": "2022-01-12T08:59:22.762Z"
   },
   {
    "duration": -2307,
    "start_time": "2022-01-12T08:59:22.777Z"
   },
   {
    "duration": -2320,
    "start_time": "2022-01-12T08:59:22.792Z"
   },
   {
    "duration": -2332,
    "start_time": "2022-01-12T08:59:22.806Z"
   },
   {
    "duration": -2345,
    "start_time": "2022-01-12T08:59:22.821Z"
   },
   {
    "duration": -2357,
    "start_time": "2022-01-12T08:59:22.835Z"
   },
   {
    "duration": -2390,
    "start_time": "2022-01-12T08:59:22.870Z"
   },
   {
    "duration": -2403,
    "start_time": "2022-01-12T08:59:22.885Z"
   },
   {
    "duration": -2417,
    "start_time": "2022-01-12T08:59:22.901Z"
   },
   {
    "duration": -2429,
    "start_time": "2022-01-12T08:59:22.916Z"
   },
   {
    "duration": -2693,
    "start_time": "2022-01-12T08:59:23.182Z"
   },
   {
    "duration": -2713,
    "start_time": "2022-01-12T08:59:23.205Z"
   },
   {
    "duration": -2729,
    "start_time": "2022-01-12T08:59:23.223Z"
   },
   {
    "duration": -2747,
    "start_time": "2022-01-12T08:59:23.242Z"
   },
   {
    "duration": -2765,
    "start_time": "2022-01-12T08:59:23.261Z"
   },
   {
    "duration": -2801,
    "start_time": "2022-01-12T08:59:23.298Z"
   },
   {
    "duration": -2817,
    "start_time": "2022-01-12T08:59:23.316Z"
   },
   {
    "duration": -2838,
    "start_time": "2022-01-12T08:59:23.338Z"
   },
   {
    "duration": -2856,
    "start_time": "2022-01-12T08:59:23.357Z"
   },
   {
    "duration": -2872,
    "start_time": "2022-01-12T08:59:23.374Z"
   },
   {
    "duration": -2892,
    "start_time": "2022-01-12T08:59:23.396Z"
   },
   {
    "duration": -2926,
    "start_time": "2022-01-12T08:59:23.431Z"
   },
   {
    "duration": -2943,
    "start_time": "2022-01-12T08:59:23.450Z"
   },
   {
    "duration": -2960,
    "start_time": "2022-01-12T08:59:23.469Z"
   },
   {
    "duration": -2978,
    "start_time": "2022-01-12T08:59:23.488Z"
   },
   {
    "duration": -2995,
    "start_time": "2022-01-12T08:59:23.507Z"
   },
   {
    "duration": -3018,
    "start_time": "2022-01-12T08:59:23.530Z"
   },
   {
    "duration": -3070,
    "start_time": "2022-01-12T08:59:23.584Z"
   },
   {
    "duration": -3034,
    "start_time": "2022-01-12T08:59:23.602Z"
   },
   {
    "duration": -3058,
    "start_time": "2022-01-12T08:59:23.628Z"
   },
   {
    "duration": -3072,
    "start_time": "2022-01-12T08:59:23.643Z"
   },
   {
    "duration": -3084,
    "start_time": "2022-01-12T08:59:23.657Z"
   },
   {
    "duration": -3115,
    "start_time": "2022-01-12T08:59:23.689Z"
   },
   {
    "duration": -3130,
    "start_time": "2022-01-12T08:59:23.706Z"
   },
   {
    "duration": -3257,
    "start_time": "2022-01-12T08:59:23.835Z"
   },
   {
    "duration": -3271,
    "start_time": "2022-01-12T08:59:23.850Z"
   },
   {
    "duration": -3284,
    "start_time": "2022-01-12T08:59:23.865Z"
   },
   {
    "duration": -3294,
    "start_time": "2022-01-12T08:59:23.877Z"
   },
   {
    "duration": -3305,
    "start_time": "2022-01-12T08:59:23.891Z"
   },
   {
    "duration": -3315,
    "start_time": "2022-01-12T08:59:23.903Z"
   },
   {
    "duration": -3326,
    "start_time": "2022-01-12T08:59:23.916Z"
   },
   {
    "duration": -3336,
    "start_time": "2022-01-12T08:59:23.928Z"
   },
   {
    "duration": -3367,
    "start_time": "2022-01-12T08:59:23.961Z"
   },
   {
    "duration": -3378,
    "start_time": "2022-01-12T08:59:23.974Z"
   },
   {
    "duration": -3389,
    "start_time": "2022-01-12T08:59:23.987Z"
   },
   {
    "duration": -3400,
    "start_time": "2022-01-12T08:59:24.000Z"
   },
   {
    "duration": -3413,
    "start_time": "2022-01-12T08:59:24.014Z"
   },
   {
    "duration": -3423,
    "start_time": "2022-01-12T08:59:24.026Z"
   },
   {
    "duration": -3434,
    "start_time": "2022-01-12T08:59:24.039Z"
   },
   {
    "duration": -3445,
    "start_time": "2022-01-12T08:59:24.051Z"
   },
   {
    "duration": -3476,
    "start_time": "2022-01-12T08:59:24.084Z"
   },
   {
    "duration": -3488,
    "start_time": "2022-01-12T08:59:24.098Z"
   },
   {
    "duration": -3500,
    "start_time": "2022-01-12T08:59:24.112Z"
   },
   {
    "duration": -3512,
    "start_time": "2022-01-12T08:59:24.125Z"
   },
   {
    "duration": -3458,
    "start_time": "2022-01-12T08:59:24.138Z"
   },
   {
    "duration": -3469,
    "start_time": "2022-01-12T08:59:24.151Z"
   },
   {
    "duration": 310,
    "start_time": "2022-01-12T09:00:02.199Z"
   },
   {
    "duration": 7,
    "start_time": "2022-01-12T09:00:34.734Z"
   },
   {
    "duration": 321,
    "start_time": "2022-01-12T09:01:36.864Z"
   },
   {
    "duration": 5,
    "start_time": "2022-01-12T09:02:20.495Z"
   },
   {
    "duration": 81,
    "start_time": "2022-01-12T09:02:21.512Z"
   },
   {
    "duration": 6,
    "start_time": "2022-01-12T09:02:23.395Z"
   },
   {
    "duration": 14,
    "start_time": "2022-01-12T09:02:31.126Z"
   },
   {
    "duration": 54,
    "start_time": "2022-01-12T09:02:38.735Z"
   },
   {
    "duration": 7,
    "start_time": "2022-01-12T09:02:40.214Z"
   },
   {
    "duration": 12,
    "start_time": "2022-01-12T09:02:42.774Z"
   },
   {
    "duration": 12,
    "start_time": "2022-01-12T09:02:49.835Z"
   },
   {
    "duration": 1070,
    "start_time": "2022-01-12T13:25:09.764Z"
   },
   {
    "duration": 210,
    "start_time": "2022-01-12T13:25:10.836Z"
   },
   {
    "duration": 17,
    "start_time": "2022-01-12T13:25:11.049Z"
   },
   {
    "duration": 10,
    "start_time": "2022-01-12T13:25:11.069Z"
   },
   {
    "duration": 3,
    "start_time": "2022-01-12T13:25:11.080Z"
   },
   {
    "duration": 6,
    "start_time": "2022-01-12T13:25:11.085Z"
   },
   {
    "duration": 8,
    "start_time": "2022-01-12T13:25:11.092Z"
   },
   {
    "duration": 12,
    "start_time": "2022-01-12T13:25:11.112Z"
   },
   {
    "duration": 17,
    "start_time": "2022-01-12T13:25:11.126Z"
   },
   {
    "duration": 8,
    "start_time": "2022-01-12T13:25:11.145Z"
   },
   {
    "duration": 11,
    "start_time": "2022-01-12T13:25:11.155Z"
   },
   {
    "duration": 9,
    "start_time": "2022-01-12T13:25:11.168Z"
   },
   {
    "duration": 34,
    "start_time": "2022-01-12T13:25:11.178Z"
   },
   {
    "duration": 12,
    "start_time": "2022-01-12T13:25:11.214Z"
   },
   {
    "duration": 20,
    "start_time": "2022-01-12T13:25:11.227Z"
   },
   {
    "duration": 13,
    "start_time": "2022-01-12T13:25:11.249Z"
   },
   {
    "duration": 18,
    "start_time": "2022-01-12T13:25:11.263Z"
   },
   {
    "duration": 52,
    "start_time": "2022-01-12T13:25:11.282Z"
   },
   {
    "duration": 4,
    "start_time": "2022-01-12T13:25:11.336Z"
   },
   {
    "duration": 44,
    "start_time": "2022-01-12T13:25:11.342Z"
   },
   {
    "duration": 25,
    "start_time": "2022-01-12T13:25:11.388Z"
   },
   {
    "duration": 24,
    "start_time": "2022-01-12T13:25:11.414Z"
   },
   {
    "duration": 4,
    "start_time": "2022-01-12T13:25:11.441Z"
   },
   {
    "duration": 6,
    "start_time": "2022-01-12T13:25:11.447Z"
   },
   {
    "duration": 7,
    "start_time": "2022-01-12T13:25:11.454Z"
   },
   {
    "duration": 6,
    "start_time": "2022-01-12T13:25:11.463Z"
   },
   {
    "duration": 6,
    "start_time": "2022-01-12T13:25:11.470Z"
   },
   {
    "duration": 6,
    "start_time": "2022-01-12T13:25:11.478Z"
   },
   {
    "duration": 42,
    "start_time": "2022-01-12T13:25:11.486Z"
   },
   {
    "duration": 11,
    "start_time": "2022-01-12T13:25:11.529Z"
   },
   {
    "duration": 11,
    "start_time": "2022-01-12T13:25:11.542Z"
   },
   {
    "duration": 4,
    "start_time": "2022-01-12T13:25:11.555Z"
   },
   {
    "duration": 14,
    "start_time": "2022-01-12T13:25:11.561Z"
   },
   {
    "duration": 11,
    "start_time": "2022-01-12T13:25:11.612Z"
   },
   {
    "duration": 254,
    "start_time": "2022-01-12T13:25:11.624Z"
   },
   {
    "duration": 11,
    "start_time": "2022-01-12T13:25:11.880Z"
   },
   {
    "duration": 354,
    "start_time": "2022-01-12T13:25:11.893Z"
   },
   {
    "duration": 16,
    "start_time": "2022-01-12T13:25:12.248Z"
   },
   {
    "duration": 297,
    "start_time": "2022-01-12T13:25:12.266Z"
   },
   {
    "duration": 4,
    "start_time": "2022-01-12T13:25:12.565Z"
   },
   {
    "duration": 15,
    "start_time": "2022-01-12T13:25:12.571Z"
   },
   {
    "duration": 237,
    "start_time": "2022-01-12T13:25:12.587Z"
   },
   {
    "duration": 8,
    "start_time": "2022-01-12T13:25:12.826Z"
   },
   {
    "duration": 222,
    "start_time": "2022-01-12T13:25:12.835Z"
   },
   {
    "duration": 21,
    "start_time": "2022-01-12T13:25:13.059Z"
   },
   {
    "duration": 4,
    "start_time": "2022-01-12T13:25:13.082Z"
   },
   {
    "duration": 356,
    "start_time": "2022-01-12T13:25:13.088Z"
   },
   {
    "duration": 21,
    "start_time": "2022-01-12T13:25:13.446Z"
   },
   {
    "duration": 303,
    "start_time": "2022-01-12T13:25:13.468Z"
   },
   {
    "duration": 307,
    "start_time": "2022-01-12T13:25:13.772Z"
   },
   {
    "duration": 8,
    "start_time": "2022-01-12T13:25:14.081Z"
   },
   {
    "duration": 384,
    "start_time": "2022-01-12T13:25:14.090Z"
   },
   {
    "duration": 9,
    "start_time": "2022-01-12T13:25:14.475Z"
   },
   {
    "duration": 401,
    "start_time": "2022-01-12T13:25:14.485Z"
   },
   {
    "duration": 4,
    "start_time": "2022-01-12T13:25:14.888Z"
   },
   {
    "duration": 20,
    "start_time": "2022-01-12T13:25:14.893Z"
   },
   {
    "duration": 263,
    "start_time": "2022-01-12T13:25:14.914Z"
   },
   {
    "duration": 249,
    "start_time": "2022-01-12T13:25:15.178Z"
   },
   {
    "duration": 10,
    "start_time": "2022-01-12T13:25:15.429Z"
   },
   {
    "duration": 307,
    "start_time": "2022-01-12T13:25:15.440Z"
   },
   {
    "duration": 6,
    "start_time": "2022-01-12T13:25:15.749Z"
   },
   {
    "duration": 9,
    "start_time": "2022-01-12T13:25:15.757Z"
   },
   {
    "duration": 7,
    "start_time": "2022-01-12T13:25:15.767Z"
   },
   {
    "duration": 9,
    "start_time": "2022-01-12T13:25:15.775Z"
   },
   {
    "duration": 290,
    "start_time": "2022-01-12T13:25:15.785Z"
   },
   {
    "duration": 4,
    "start_time": "2022-01-12T13:25:16.077Z"
   },
   {
    "duration": 6,
    "start_time": "2022-01-12T13:25:16.083Z"
   },
   {
    "duration": 5,
    "start_time": "2022-01-12T13:25:16.093Z"
   },
   {
    "duration": 13,
    "start_time": "2022-01-12T13:25:16.112Z"
   },
   {
    "duration": 7,
    "start_time": "2022-01-12T13:25:16.126Z"
   },
   {
    "duration": 2,
    "start_time": "2022-01-12T13:25:16.135Z"
   },
   {
    "duration": 6,
    "start_time": "2022-01-12T13:25:16.138Z"
   },
   {
    "duration": 5,
    "start_time": "2022-01-12T13:25:16.145Z"
   },
   {
    "duration": 5,
    "start_time": "2022-01-12T13:25:16.151Z"
   },
   {
    "duration": 7,
    "start_time": "2022-01-12T13:25:16.158Z"
   },
   {
    "duration": 9,
    "start_time": "2022-01-12T13:25:16.167Z"
   },
   {
    "duration": 2,
    "start_time": "2022-01-12T13:25:16.177Z"
   },
   {
    "duration": 32,
    "start_time": "2022-01-12T13:25:16.181Z"
   },
   {
    "duration": 5,
    "start_time": "2022-01-12T13:25:16.215Z"
   },
   {
    "duration": 4,
    "start_time": "2022-01-12T13:25:16.222Z"
   },
   {
    "duration": 4,
    "start_time": "2022-01-12T13:25:16.228Z"
   },
   {
    "duration": 294,
    "start_time": "2022-01-12T13:27:03.146Z"
   },
   {
    "duration": 862,
    "start_time": "2022-01-12T13:27:37.128Z"
   },
   {
    "duration": 11,
    "start_time": "2022-01-12T13:27:49.713Z"
   },
   {
    "duration": 1235,
    "start_time": "2022-01-12T13:27:55.206Z"
   },
   {
    "duration": 34,
    "start_time": "2022-01-12T13:27:56.443Z"
   },
   {
    "duration": 19,
    "start_time": "2022-01-12T13:27:56.480Z"
   },
   {
    "duration": 22,
    "start_time": "2022-01-12T13:27:56.501Z"
   },
   {
    "duration": 4,
    "start_time": "2022-01-12T13:27:56.525Z"
   },
   {
    "duration": 8,
    "start_time": "2022-01-12T13:27:56.531Z"
   },
   {
    "duration": 8,
    "start_time": "2022-01-12T13:27:56.541Z"
   },
   {
    "duration": 9,
    "start_time": "2022-01-12T13:27:56.552Z"
   },
   {
    "duration": 12,
    "start_time": "2022-01-12T13:27:56.563Z"
   },
   {
    "duration": 38,
    "start_time": "2022-01-12T13:27:56.577Z"
   },
   {
    "duration": 8,
    "start_time": "2022-01-12T13:27:56.617Z"
   },
   {
    "duration": 10,
    "start_time": "2022-01-12T13:27:56.627Z"
   },
   {
    "duration": 6,
    "start_time": "2022-01-12T13:27:56.638Z"
   },
   {
    "duration": 14,
    "start_time": "2022-01-12T13:27:56.645Z"
   },
   {
    "duration": 20,
    "start_time": "2022-01-12T13:27:56.661Z"
   },
   {
    "duration": 13,
    "start_time": "2022-01-12T13:27:56.712Z"
   },
   {
    "duration": 16,
    "start_time": "2022-01-12T13:27:56.727Z"
   },
   {
    "duration": 29,
    "start_time": "2022-01-12T13:27:56.744Z"
   },
   {
    "duration": 3,
    "start_time": "2022-01-12T13:27:56.775Z"
   },
   {
    "duration": 68,
    "start_time": "2022-01-12T13:27:56.780Z"
   },
   {
    "duration": 4,
    "start_time": "2022-01-12T13:27:56.850Z"
   },
   {
    "duration": 25,
    "start_time": "2022-01-12T13:27:56.856Z"
   },
   {
    "duration": 4,
    "start_time": "2022-01-12T13:27:56.884Z"
   },
   {
    "duration": 23,
    "start_time": "2022-01-12T13:27:56.890Z"
   },
   {
    "duration": 4,
    "start_time": "2022-01-12T13:27:56.914Z"
   },
   {
    "duration": 5,
    "start_time": "2022-01-12T13:27:56.920Z"
   },
   {
    "duration": 7,
    "start_time": "2022-01-12T13:27:56.926Z"
   },
   {
    "duration": 6,
    "start_time": "2022-01-12T13:27:56.934Z"
   },
   {
    "duration": 14,
    "start_time": "2022-01-12T13:27:56.941Z"
   },
   {
    "duration": 10,
    "start_time": "2022-01-12T13:27:56.957Z"
   },
   {
    "duration": 47,
    "start_time": "2022-01-12T13:27:56.969Z"
   },
   {
    "duration": 5,
    "start_time": "2022-01-12T13:27:57.018Z"
   },
   {
    "duration": 14,
    "start_time": "2022-01-12T13:27:57.024Z"
   },
   {
    "duration": 11,
    "start_time": "2022-01-12T13:27:57.044Z"
   },
   {
    "duration": 240,
    "start_time": "2022-01-12T13:27:57.056Z"
   },
   {
    "duration": 18,
    "start_time": "2022-01-12T13:27:57.298Z"
   },
   {
    "duration": 324,
    "start_time": "2022-01-12T13:27:57.318Z"
   },
   {
    "duration": 15,
    "start_time": "2022-01-12T13:27:57.644Z"
   },
   {
    "duration": 281,
    "start_time": "2022-01-12T13:27:57.661Z"
   },
   {
    "duration": 5,
    "start_time": "2022-01-12T13:27:57.944Z"
   },
   {
    "duration": 15,
    "start_time": "2022-01-12T13:27:57.951Z"
   },
   {
    "duration": 235,
    "start_time": "2022-01-12T13:27:57.968Z"
   },
   {
    "duration": 13,
    "start_time": "2022-01-12T13:27:58.205Z"
   },
   {
    "duration": 217,
    "start_time": "2022-01-12T13:27:58.220Z"
   },
   {
    "duration": 21,
    "start_time": "2022-01-12T13:27:58.439Z"
   },
   {
    "duration": 5,
    "start_time": "2022-01-12T13:27:58.461Z"
   },
   {
    "duration": 364,
    "start_time": "2022-01-12T13:27:58.467Z"
   },
   {
    "duration": 21,
    "start_time": "2022-01-12T13:27:58.832Z"
   },
   {
    "duration": 314,
    "start_time": "2022-01-12T13:27:58.854Z"
   },
   {
    "duration": 326,
    "start_time": "2022-01-12T13:27:59.170Z"
   },
   {
    "duration": 17,
    "start_time": "2022-01-12T13:27:59.498Z"
   },
   {
    "duration": 366,
    "start_time": "2022-01-12T13:27:59.516Z"
   },
   {
    "duration": 8,
    "start_time": "2022-01-12T13:27:59.884Z"
   },
   {
    "duration": 398,
    "start_time": "2022-01-12T13:27:59.893Z"
   },
   {
    "duration": 6,
    "start_time": "2022-01-12T13:28:00.293Z"
   },
   {
    "duration": 13,
    "start_time": "2022-01-12T13:28:00.300Z"
   },
   {
    "duration": 244,
    "start_time": "2022-01-12T13:28:00.315Z"
   },
   {
    "duration": 253,
    "start_time": "2022-01-12T13:28:00.561Z"
   },
   {
    "duration": 10,
    "start_time": "2022-01-12T13:28:00.815Z"
   },
   {
    "duration": 520,
    "start_time": "2022-01-12T13:28:00.827Z"
   },
   {
    "duration": 5,
    "start_time": "2022-01-12T13:28:01.349Z"
   },
   {
    "duration": 29,
    "start_time": "2022-01-12T13:28:01.355Z"
   },
   {
    "duration": 18,
    "start_time": "2022-01-12T13:28:01.386Z"
   },
   {
    "duration": 19,
    "start_time": "2022-01-12T13:28:01.405Z"
   },
   {
    "duration": 274,
    "start_time": "2022-01-12T13:28:01.425Z"
   },
   {
    "duration": 12,
    "start_time": "2022-01-12T13:28:01.701Z"
   },
   {
    "duration": 8,
    "start_time": "2022-01-12T13:28:01.714Z"
   },
   {
    "duration": 6,
    "start_time": "2022-01-12T13:28:01.727Z"
   },
   {
    "duration": 22,
    "start_time": "2022-01-12T13:28:01.735Z"
   },
   {
    "duration": 7,
    "start_time": "2022-01-12T13:28:01.758Z"
   },
   {
    "duration": 3,
    "start_time": "2022-01-12T13:28:01.767Z"
   },
   {
    "duration": 17,
    "start_time": "2022-01-12T13:28:01.771Z"
   },
   {
    "duration": 8,
    "start_time": "2022-01-12T13:28:01.789Z"
   },
   {
    "duration": 14,
    "start_time": "2022-01-12T13:28:01.799Z"
   },
   {
    "duration": 10,
    "start_time": "2022-01-12T13:28:01.814Z"
   },
   {
    "duration": 15,
    "start_time": "2022-01-12T13:28:01.825Z"
   },
   {
    "duration": 17,
    "start_time": "2022-01-12T13:28:01.842Z"
   },
   {
    "duration": 5,
    "start_time": "2022-01-12T13:28:01.861Z"
   },
   {
    "duration": 7,
    "start_time": "2022-01-12T13:28:01.868Z"
   },
   {
    "duration": 6,
    "start_time": "2022-01-12T13:28:01.876Z"
   },
   {
    "duration": 8,
    "start_time": "2022-01-12T13:28:01.884Z"
   },
   {
    "duration": 981,
    "start_time": "2022-01-12T13:29:21.331Z"
   },
   {
    "duration": 33,
    "start_time": "2022-01-12T13:29:22.313Z"
   },
   {
    "duration": 14,
    "start_time": "2022-01-12T13:29:22.348Z"
   },
   {
    "duration": 11,
    "start_time": "2022-01-12T13:29:22.363Z"
   },
   {
    "duration": 3,
    "start_time": "2022-01-12T13:29:22.375Z"
   },
   {
    "duration": 5,
    "start_time": "2022-01-12T13:29:22.379Z"
   },
   {
    "duration": 27,
    "start_time": "2022-01-12T13:29:22.386Z"
   },
   {
    "duration": 9,
    "start_time": "2022-01-12T13:29:22.415Z"
   },
   {
    "duration": 10,
    "start_time": "2022-01-12T13:29:22.426Z"
   },
   {
    "duration": 6,
    "start_time": "2022-01-12T13:29:22.438Z"
   },
   {
    "duration": 8,
    "start_time": "2022-01-12T13:29:22.445Z"
   },
   {
    "duration": 8,
    "start_time": "2022-01-12T13:29:22.454Z"
   },
   {
    "duration": 5,
    "start_time": "2022-01-12T13:29:22.464Z"
   },
   {
    "duration": 48,
    "start_time": "2022-01-12T13:29:22.470Z"
   },
   {
    "duration": 18,
    "start_time": "2022-01-12T13:29:22.520Z"
   },
   {
    "duration": 10,
    "start_time": "2022-01-12T13:29:22.540Z"
   },
   {
    "duration": 13,
    "start_time": "2022-01-12T13:29:22.551Z"
   },
   {
    "duration": 22,
    "start_time": "2022-01-12T13:29:22.565Z"
   },
   {
    "duration": 12,
    "start_time": "2022-01-12T13:29:22.612Z"
   },
   {
    "duration": 3,
    "start_time": "2022-01-12T13:29:22.625Z"
   },
   {
    "duration": 42,
    "start_time": "2022-01-12T13:29:22.630Z"
   },
   {
    "duration": 4,
    "start_time": "2022-01-12T13:29:22.673Z"
   },
   {
    "duration": 44,
    "start_time": "2022-01-12T13:29:22.680Z"
   },
   {
    "duration": 4,
    "start_time": "2022-01-12T13:29:22.726Z"
   },
   {
    "duration": 6,
    "start_time": "2022-01-12T13:29:22.731Z"
   },
   {
    "duration": 5,
    "start_time": "2022-01-12T13:29:22.739Z"
   },
   {
    "duration": 7,
    "start_time": "2022-01-12T13:29:22.745Z"
   },
   {
    "duration": 5,
    "start_time": "2022-01-12T13:29:22.753Z"
   },
   {
    "duration": 4,
    "start_time": "2022-01-12T13:29:22.760Z"
   },
   {
    "duration": 15,
    "start_time": "2022-01-12T13:29:22.765Z"
   },
   {
    "duration": 8,
    "start_time": "2022-01-12T13:29:22.781Z"
   },
   {
    "duration": 30,
    "start_time": "2022-01-12T13:29:22.790Z"
   },
   {
    "duration": 4,
    "start_time": "2022-01-12T13:29:22.821Z"
   },
   {
    "duration": 14,
    "start_time": "2022-01-12T13:29:22.826Z"
   },
   {
    "duration": 9,
    "start_time": "2022-01-12T13:29:22.841Z"
   },
   {
    "duration": 238,
    "start_time": "2022-01-12T13:29:22.851Z"
   },
   {
    "duration": 10,
    "start_time": "2022-01-12T13:29:23.090Z"
   },
   {
    "duration": 307,
    "start_time": "2022-01-12T13:29:23.101Z"
   },
   {
    "duration": 14,
    "start_time": "2022-01-12T13:29:23.409Z"
   },
   {
    "duration": 275,
    "start_time": "2022-01-12T13:29:23.425Z"
   },
   {
    "duration": 4,
    "start_time": "2022-01-12T13:29:23.701Z"
   },
   {
    "duration": 17,
    "start_time": "2022-01-12T13:29:23.707Z"
   },
   {
    "duration": 227,
    "start_time": "2022-01-12T13:29:23.725Z"
   },
   {
    "duration": 9,
    "start_time": "2022-01-12T13:29:23.954Z"
   },
   {
    "duration": 230,
    "start_time": "2022-01-12T13:29:23.964Z"
   },
   {
    "duration": 30,
    "start_time": "2022-01-12T13:29:24.195Z"
   },
   {
    "duration": 5,
    "start_time": "2022-01-12T13:29:24.226Z"
   },
   {
    "duration": 354,
    "start_time": "2022-01-12T13:29:24.232Z"
   },
   {
    "duration": 33,
    "start_time": "2022-01-12T13:29:24.587Z"
   },
   {
    "duration": 277,
    "start_time": "2022-01-12T13:29:24.622Z"
   },
   {
    "duration": 307,
    "start_time": "2022-01-12T13:29:24.900Z"
   },
   {
    "duration": 8,
    "start_time": "2022-01-12T13:29:25.212Z"
   },
   {
    "duration": 353,
    "start_time": "2022-01-12T13:29:25.222Z"
   },
   {
    "duration": 10,
    "start_time": "2022-01-12T13:29:25.577Z"
   },
   {
    "duration": 376,
    "start_time": "2022-01-12T13:29:25.589Z"
   },
   {
    "duration": 5,
    "start_time": "2022-01-12T13:29:25.967Z"
   },
   {
    "duration": 5,
    "start_time": "2022-01-12T13:29:25.974Z"
   },
   {
    "duration": 248,
    "start_time": "2022-01-12T13:29:25.981Z"
   },
   {
    "duration": 249,
    "start_time": "2022-01-12T13:29:26.230Z"
   },
   {
    "duration": 8,
    "start_time": "2022-01-12T13:29:26.481Z"
   },
   {
    "duration": 318,
    "start_time": "2022-01-12T13:29:26.491Z"
   },
   {
    "duration": 6,
    "start_time": "2022-01-12T13:29:26.811Z"
   },
   {
    "duration": 9,
    "start_time": "2022-01-12T13:29:26.819Z"
   },
   {
    "duration": 6,
    "start_time": "2022-01-12T13:29:26.830Z"
   },
   {
    "duration": 11,
    "start_time": "2022-01-12T13:29:26.838Z"
   },
   {
    "duration": 324,
    "start_time": "2022-01-12T13:29:26.850Z"
   },
   {
    "duration": 7,
    "start_time": "2022-01-12T13:29:27.176Z"
   },
   {
    "duration": 6,
    "start_time": "2022-01-12T13:29:27.189Z"
   },
   {
    "duration": 6,
    "start_time": "2022-01-12T13:29:27.213Z"
   },
   {
    "duration": 14,
    "start_time": "2022-01-12T13:29:27.220Z"
   },
   {
    "duration": 7,
    "start_time": "2022-01-12T13:29:27.236Z"
   },
   {
    "duration": 5,
    "start_time": "2022-01-12T13:29:27.244Z"
   },
   {
    "duration": 5,
    "start_time": "2022-01-12T13:29:27.250Z"
   },
   {
    "duration": 5,
    "start_time": "2022-01-12T13:29:27.257Z"
   },
   {
    "duration": 6,
    "start_time": "2022-01-12T13:29:27.263Z"
   },
   {
    "duration": 5,
    "start_time": "2022-01-12T13:29:27.270Z"
   },
   {
    "duration": 42,
    "start_time": "2022-01-12T13:29:27.276Z"
   },
   {
    "duration": 4,
    "start_time": "2022-01-12T13:29:27.319Z"
   },
   {
    "duration": 6,
    "start_time": "2022-01-12T13:29:27.324Z"
   },
   {
    "duration": 5,
    "start_time": "2022-01-12T13:29:27.331Z"
   },
   {
    "duration": 5,
    "start_time": "2022-01-12T13:29:27.337Z"
   },
   {
    "duration": 6,
    "start_time": "2022-01-12T13:29:27.343Z"
   },
   {
    "duration": 5,
    "start_time": "2022-01-12T13:29:39.168Z"
   },
   {
    "duration": 4,
    "start_time": "2022-01-12T13:30:30.539Z"
   },
   {
    "duration": 11,
    "start_time": "2022-01-12T13:40:48.641Z"
   },
   {
    "duration": 17,
    "start_time": "2022-01-12T13:40:57.088Z"
   },
   {
    "duration": 69,
    "start_time": "2022-01-12T13:41:27.080Z"
   },
   {
    "duration": 23,
    "start_time": "2022-01-12T13:41:35.141Z"
   },
   {
    "duration": 40,
    "start_time": "2022-01-12T13:42:01.208Z"
   },
   {
    "duration": 31,
    "start_time": "2022-01-12T13:53:59.208Z"
   },
   {
    "duration": 41,
    "start_time": "2022-01-12T13:54:23.350Z"
   },
   {
    "duration": 23,
    "start_time": "2022-01-12T13:54:28.531Z"
   },
   {
    "duration": 25,
    "start_time": "2022-01-12T13:54:44.319Z"
   },
   {
    "duration": 17,
    "start_time": "2022-01-12T13:55:44.859Z"
   },
   {
    "duration": 30,
    "start_time": "2022-01-12T13:55:52.520Z"
   },
   {
    "duration": 226,
    "start_time": "2022-01-12T13:56:09.221Z"
   },
   {
    "duration": 24,
    "start_time": "2022-01-12T13:56:39.685Z"
   },
   {
    "duration": 252,
    "start_time": "2022-01-12T14:30:28.781Z"
   },
   {
    "duration": 175,
    "start_time": "2022-01-12T14:32:48.172Z"
   },
   {
    "duration": 6760,
    "start_time": "2022-01-12T14:35:17.741Z"
   },
   {
    "duration": 219,
    "start_time": "2022-01-12T14:35:25.409Z"
   },
   {
    "duration": 221,
    "start_time": "2022-01-12T14:35:35.120Z"
   },
   {
    "duration": 255,
    "start_time": "2022-01-12T14:37:16.610Z"
   },
   {
    "duration": 230,
    "start_time": "2022-01-12T14:37:20.160Z"
   },
   {
    "duration": 8,
    "start_time": "2022-01-12T14:54:17.437Z"
   },
   {
    "duration": 947,
    "start_time": "2022-01-12T14:54:43.060Z"
   },
   {
    "duration": 31,
    "start_time": "2022-01-12T14:54:44.009Z"
   },
   {
    "duration": 14,
    "start_time": "2022-01-12T14:54:44.042Z"
   },
   {
    "duration": 11,
    "start_time": "2022-01-12T14:54:44.057Z"
   },
   {
    "duration": 3,
    "start_time": "2022-01-12T14:54:44.069Z"
   },
   {
    "duration": 5,
    "start_time": "2022-01-12T14:54:44.073Z"
   },
   {
    "duration": 8,
    "start_time": "2022-01-12T14:54:44.079Z"
   },
   {
    "duration": 29,
    "start_time": "2022-01-12T14:54:44.089Z"
   },
   {
    "duration": 10,
    "start_time": "2022-01-12T14:54:44.120Z"
   },
   {
    "duration": 6,
    "start_time": "2022-01-12T14:54:44.132Z"
   },
   {
    "duration": 7,
    "start_time": "2022-01-12T14:54:44.139Z"
   },
   {
    "duration": 7,
    "start_time": "2022-01-12T14:54:44.148Z"
   },
   {
    "duration": 4,
    "start_time": "2022-01-12T14:54:44.157Z"
   },
   {
    "duration": 11,
    "start_time": "2022-01-12T14:54:44.163Z"
   },
   {
    "duration": 46,
    "start_time": "2022-01-12T14:54:44.176Z"
   },
   {
    "duration": 10,
    "start_time": "2022-01-12T14:54:44.223Z"
   },
   {
    "duration": 18,
    "start_time": "2022-01-12T14:54:44.234Z"
   },
   {
    "duration": 25,
    "start_time": "2022-01-12T14:54:44.254Z"
   },
   {
    "duration": 4,
    "start_time": "2022-01-12T14:54:44.280Z"
   },
   {
    "duration": 28,
    "start_time": "2022-01-12T14:54:44.285Z"
   },
   {
    "duration": 4,
    "start_time": "2022-01-12T14:54:44.314Z"
   },
   {
    "duration": 42,
    "start_time": "2022-01-12T14:54:44.319Z"
   },
   {
    "duration": 3,
    "start_time": "2022-01-12T14:54:44.365Z"
   },
   {
    "duration": 44,
    "start_time": "2022-01-12T14:54:44.370Z"
   },
   {
    "duration": 4,
    "start_time": "2022-01-12T14:54:44.416Z"
   },
   {
    "duration": 225,
    "start_time": "2022-01-12T14:54:44.421Z"
   },
   {
    "duration": 278,
    "start_time": "2022-01-12T14:54:44.648Z"
   },
   {
    "duration": -340,
    "start_time": "2022-01-12T14:54:45.268Z"
   },
   {
    "duration": -343,
    "start_time": "2022-01-12T14:54:45.272Z"
   },
   {
    "duration": -347,
    "start_time": "2022-01-12T14:54:45.277Z"
   },
   {
    "duration": -351,
    "start_time": "2022-01-12T14:54:45.282Z"
   },
   {
    "duration": -355,
    "start_time": "2022-01-12T14:54:45.287Z"
   },
   {
    "duration": -358,
    "start_time": "2022-01-12T14:54:45.291Z"
   },
   {
    "duration": -364,
    "start_time": "2022-01-12T14:54:45.298Z"
   },
   {
    "duration": -392,
    "start_time": "2022-01-12T14:54:45.326Z"
   },
   {
    "duration": -397,
    "start_time": "2022-01-12T14:54:45.332Z"
   },
   {
    "duration": -401,
    "start_time": "2022-01-12T14:54:45.337Z"
   },
   {
    "duration": -404,
    "start_time": "2022-01-12T14:54:45.341Z"
   },
   {
    "duration": -407,
    "start_time": "2022-01-12T14:54:45.345Z"
   },
   {
    "duration": -410,
    "start_time": "2022-01-12T14:54:45.349Z"
   },
   {
    "duration": -413,
    "start_time": "2022-01-12T14:54:45.353Z"
   },
   {
    "duration": -417,
    "start_time": "2022-01-12T14:54:45.357Z"
   },
   {
    "duration": -420,
    "start_time": "2022-01-12T14:54:45.361Z"
   },
   {
    "duration": -424,
    "start_time": "2022-01-12T14:54:45.366Z"
   },
   {
    "duration": -426,
    "start_time": "2022-01-12T14:54:45.369Z"
   },
   {
    "duration": -430,
    "start_time": "2022-01-12T14:54:45.374Z"
   },
   {
    "duration": -433,
    "start_time": "2022-01-12T14:54:45.377Z"
   },
   {
    "duration": -437,
    "start_time": "2022-01-12T14:54:45.382Z"
   },
   {
    "duration": -440,
    "start_time": "2022-01-12T14:54:45.386Z"
   },
   {
    "duration": -443,
    "start_time": "2022-01-12T14:54:45.390Z"
   },
   {
    "duration": -446,
    "start_time": "2022-01-12T14:54:45.394Z"
   },
   {
    "duration": -449,
    "start_time": "2022-01-12T14:54:45.398Z"
   },
   {
    "duration": -453,
    "start_time": "2022-01-12T14:54:45.402Z"
   },
   {
    "duration": -456,
    "start_time": "2022-01-12T14:54:45.406Z"
   },
   {
    "duration": -459,
    "start_time": "2022-01-12T14:54:45.410Z"
   },
   {
    "duration": -462,
    "start_time": "2022-01-12T14:54:45.414Z"
   },
   {
    "duration": -466,
    "start_time": "2022-01-12T14:54:45.419Z"
   },
   {
    "duration": -480,
    "start_time": "2022-01-12T14:54:45.434Z"
   },
   {
    "duration": -483,
    "start_time": "2022-01-12T14:54:45.438Z"
   },
   {
    "duration": -486,
    "start_time": "2022-01-12T14:54:45.442Z"
   },
   {
    "duration": -490,
    "start_time": "2022-01-12T14:54:45.447Z"
   },
   {
    "duration": -493,
    "start_time": "2022-01-12T14:54:45.451Z"
   },
   {
    "duration": -498,
    "start_time": "2022-01-12T14:54:45.457Z"
   },
   {
    "duration": -504,
    "start_time": "2022-01-12T14:54:45.463Z"
   },
   {
    "duration": -507,
    "start_time": "2022-01-12T14:54:45.467Z"
   },
   {
    "duration": -511,
    "start_time": "2022-01-12T14:54:45.472Z"
   },
   {
    "duration": -514,
    "start_time": "2022-01-12T14:54:45.476Z"
   },
   {
    "duration": -518,
    "start_time": "2022-01-12T14:54:45.481Z"
   },
   {
    "duration": -521,
    "start_time": "2022-01-12T14:54:45.485Z"
   },
   {
    "duration": -524,
    "start_time": "2022-01-12T14:54:45.489Z"
   },
   {
    "duration": -527,
    "start_time": "2022-01-12T14:54:45.493Z"
   },
   {
    "duration": -530,
    "start_time": "2022-01-12T14:54:45.497Z"
   },
   {
    "duration": -533,
    "start_time": "2022-01-12T14:54:45.501Z"
   },
   {
    "duration": -494,
    "start_time": "2022-01-12T14:54:45.506Z"
   },
   {
    "duration": -497,
    "start_time": "2022-01-12T14:54:45.510Z"
   },
   {
    "duration": -501,
    "start_time": "2022-01-12T14:54:45.515Z"
   },
   {
    "duration": -505,
    "start_time": "2022-01-12T14:54:45.520Z"
   },
   {
    "duration": -508,
    "start_time": "2022-01-12T14:54:45.524Z"
   },
   {
    "duration": -511,
    "start_time": "2022-01-12T14:54:45.528Z"
   },
   {
    "duration": -526,
    "start_time": "2022-01-12T14:54:45.544Z"
   },
   {
    "duration": -534,
    "start_time": "2022-01-12T14:54:45.553Z"
   },
   {
    "duration": -542,
    "start_time": "2022-01-12T14:54:45.562Z"
   },
   {
    "duration": -548,
    "start_time": "2022-01-12T14:54:45.568Z"
   },
   {
    "duration": -553,
    "start_time": "2022-01-12T14:54:45.574Z"
   },
   {
    "duration": 8,
    "start_time": "2022-01-12T15:00:59.841Z"
   },
   {
    "duration": 6,
    "start_time": "2022-01-12T15:01:10.183Z"
   },
   {
    "duration": 8,
    "start_time": "2022-01-12T15:01:15.659Z"
   },
   {
    "duration": 4,
    "start_time": "2022-01-12T15:01:21.985Z"
   },
   {
    "duration": 4,
    "start_time": "2022-01-12T15:01:24.463Z"
   },
   {
    "duration": 16,
    "start_time": "2022-01-12T15:03:48.679Z"
   },
   {
    "duration": 10,
    "start_time": "2022-01-12T15:03:50.711Z"
   },
   {
    "duration": 12,
    "start_time": "2022-01-12T15:03:53.880Z"
   },
   {
    "duration": 8,
    "start_time": "2022-01-12T15:03:59.761Z"
   },
   {
    "duration": 13,
    "start_time": "2022-01-12T15:04:22.471Z"
   },
   {
    "duration": 8,
    "start_time": "2022-01-12T15:04:27.479Z"
   },
   {
    "duration": 216,
    "start_time": "2022-01-12T16:42:44.021Z"
   },
   {
    "duration": 14,
    "start_time": "2022-01-12T17:40:39.289Z"
   },
   {
    "duration": 215,
    "start_time": "2022-01-12T17:42:21.634Z"
   },
   {
    "duration": 1077,
    "start_time": "2022-01-12T17:42:49.395Z"
   },
   {
    "duration": 31,
    "start_time": "2022-01-12T17:42:50.473Z"
   },
   {
    "duration": 18,
    "start_time": "2022-01-12T17:42:50.506Z"
   },
   {
    "duration": 11,
    "start_time": "2022-01-12T17:42:50.526Z"
   },
   {
    "duration": 2,
    "start_time": "2022-01-12T17:42:50.539Z"
   },
   {
    "duration": 5,
    "start_time": "2022-01-12T17:42:50.543Z"
   },
   {
    "duration": 8,
    "start_time": "2022-01-12T17:42:50.549Z"
   },
   {
    "duration": 9,
    "start_time": "2022-01-12T17:42:50.559Z"
   },
   {
    "duration": 10,
    "start_time": "2022-01-12T17:42:50.570Z"
   },
   {
    "duration": 38,
    "start_time": "2022-01-12T17:42:50.582Z"
   },
   {
    "duration": 12,
    "start_time": "2022-01-12T17:42:50.622Z"
   },
   {
    "duration": 7,
    "start_time": "2022-01-12T17:42:50.636Z"
   },
   {
    "duration": 5,
    "start_time": "2022-01-12T17:42:50.645Z"
   },
   {
    "duration": 12,
    "start_time": "2022-01-12T17:42:50.651Z"
   },
   {
    "duration": 53,
    "start_time": "2022-01-12T17:42:50.665Z"
   },
   {
    "duration": 14,
    "start_time": "2022-01-12T17:42:50.720Z"
   },
   {
    "duration": 15,
    "start_time": "2022-01-12T17:42:50.735Z"
   },
   {
    "duration": 23,
    "start_time": "2022-01-12T17:42:50.751Z"
   },
   {
    "duration": 3,
    "start_time": "2022-01-12T17:42:50.775Z"
   },
   {
    "duration": 4,
    "start_time": "2022-01-12T17:42:50.780Z"
   },
   {
    "duration": 27,
    "start_time": "2022-01-12T17:42:50.785Z"
   },
   {
    "duration": 53,
    "start_time": "2022-01-12T17:42:50.814Z"
   },
   {
    "duration": 4,
    "start_time": "2022-01-12T17:42:50.871Z"
   },
   {
    "duration": 40,
    "start_time": "2022-01-12T17:42:50.878Z"
   },
   {
    "duration": 6,
    "start_time": "2022-01-12T17:42:50.920Z"
   },
   {
    "duration": 250,
    "start_time": "2022-01-12T17:42:50.928Z"
   },
   {
    "duration": 6,
    "start_time": "2022-01-12T17:42:51.179Z"
   },
   {
    "duration": 6,
    "start_time": "2022-01-12T17:42:51.186Z"
   },
   {
    "duration": 5,
    "start_time": "2022-01-12T17:42:51.193Z"
   },
   {
    "duration": 20,
    "start_time": "2022-01-12T17:42:51.199Z"
   },
   {
    "duration": 8,
    "start_time": "2022-01-12T17:42:51.221Z"
   },
   {
    "duration": 17,
    "start_time": "2022-01-12T17:42:51.230Z"
   },
   {
    "duration": 10,
    "start_time": "2022-01-12T17:42:51.249Z"
   },
   {
    "duration": 11,
    "start_time": "2022-01-12T17:42:51.260Z"
   },
   {
    "duration": 346,
    "start_time": "2022-01-12T17:42:51.273Z"
   },
   {
    "duration": -211,
    "start_time": "2022-01-12T17:42:51.833Z"
   },
   {
    "duration": -215,
    "start_time": "2022-01-12T17:42:51.839Z"
   },
   {
    "duration": -220,
    "start_time": "2022-01-12T17:42:51.845Z"
   },
   {
    "duration": -223,
    "start_time": "2022-01-12T17:42:51.850Z"
   },
   {
    "duration": -227,
    "start_time": "2022-01-12T17:42:51.855Z"
   },
   {
    "duration": -232,
    "start_time": "2022-01-12T17:42:51.862Z"
   },
   {
    "duration": -236,
    "start_time": "2022-01-12T17:42:51.867Z"
   },
   {
    "duration": -241,
    "start_time": "2022-01-12T17:42:51.873Z"
   },
   {
    "duration": -243,
    "start_time": "2022-01-12T17:42:51.877Z"
   },
   {
    "duration": -248,
    "start_time": "2022-01-12T17:42:51.883Z"
   },
   {
    "duration": -252,
    "start_time": "2022-01-12T17:42:51.888Z"
   },
   {
    "duration": -256,
    "start_time": "2022-01-12T17:42:51.893Z"
   },
   {
    "duration": -260,
    "start_time": "2022-01-12T17:42:51.899Z"
   },
   {
    "duration": -265,
    "start_time": "2022-01-12T17:42:51.904Z"
   },
   {
    "duration": -274,
    "start_time": "2022-01-12T17:42:51.914Z"
   },
   {
    "duration": -300,
    "start_time": "2022-01-12T17:42:51.941Z"
   },
   {
    "duration": -304,
    "start_time": "2022-01-12T17:42:51.946Z"
   },
   {
    "duration": -308,
    "start_time": "2022-01-12T17:42:51.951Z"
   },
   {
    "duration": -312,
    "start_time": "2022-01-12T17:42:51.955Z"
   },
   {
    "duration": -316,
    "start_time": "2022-01-12T17:42:51.960Z"
   },
   {
    "duration": -319,
    "start_time": "2022-01-12T17:42:51.964Z"
   },
   {
    "duration": -323,
    "start_time": "2022-01-12T17:42:51.969Z"
   },
   {
    "duration": -325,
    "start_time": "2022-01-12T17:42:51.972Z"
   },
   {
    "duration": -329,
    "start_time": "2022-01-12T17:42:51.976Z"
   },
   {
    "duration": -332,
    "start_time": "2022-01-12T17:42:51.980Z"
   },
   {
    "duration": -336,
    "start_time": "2022-01-12T17:42:51.985Z"
   },
   {
    "duration": -338,
    "start_time": "2022-01-12T17:42:51.988Z"
   },
   {
    "duration": -342,
    "start_time": "2022-01-12T17:42:51.993Z"
   },
   {
    "duration": -344,
    "start_time": "2022-01-12T17:42:51.996Z"
   },
   {
    "duration": -347,
    "start_time": "2022-01-12T17:42:52.000Z"
   },
   {
    "duration": -467,
    "start_time": "2022-01-12T17:42:52.121Z"
   },
   {
    "duration": -470,
    "start_time": "2022-01-12T17:42:52.125Z"
   },
   {
    "duration": -474,
    "start_time": "2022-01-12T17:42:52.130Z"
   },
   {
    "duration": -477,
    "start_time": "2022-01-12T17:42:52.134Z"
   },
   {
    "duration": -480,
    "start_time": "2022-01-12T17:42:52.137Z"
   },
   {
    "duration": -483,
    "start_time": "2022-01-12T17:42:52.141Z"
   },
   {
    "duration": -433,
    "start_time": "2022-01-12T17:42:52.145Z"
   },
   {
    "duration": -445,
    "start_time": "2022-01-12T17:42:52.158Z"
   },
   {
    "duration": -448,
    "start_time": "2022-01-12T17:42:52.162Z"
   },
   {
    "duration": -451,
    "start_time": "2022-01-12T17:42:52.166Z"
   },
   {
    "duration": -453,
    "start_time": "2022-01-12T17:42:52.170Z"
   },
   {
    "duration": -456,
    "start_time": "2022-01-12T17:42:52.174Z"
   },
   {
    "duration": -459,
    "start_time": "2022-01-12T17:42:52.178Z"
   },
   {
    "duration": -461,
    "start_time": "2022-01-12T17:42:52.182Z"
   },
   {
    "duration": -464,
    "start_time": "2022-01-12T17:42:52.186Z"
   },
   {
    "duration": -466,
    "start_time": "2022-01-12T17:42:52.189Z"
   },
   {
    "duration": -471,
    "start_time": "2022-01-12T17:42:52.194Z"
   },
   {
    "duration": -474,
    "start_time": "2022-01-12T17:42:52.198Z"
   },
   {
    "duration": -476,
    "start_time": "2022-01-12T17:42:52.201Z"
   },
   {
    "duration": -479,
    "start_time": "2022-01-12T17:42:52.205Z"
   },
   {
    "duration": 26,
    "start_time": "2022-01-12T17:46:51.517Z"
   },
   {
    "duration": 5,
    "start_time": "2022-01-12T17:49:08.242Z"
   },
   {
    "duration": 19,
    "start_time": "2022-01-12T17:49:08.512Z"
   },
   {
    "duration": 10,
    "start_time": "2022-01-12T17:49:13.957Z"
   },
   {
    "duration": 234,
    "start_time": "2022-01-12T17:49:14.991Z"
   },
   {
    "duration": 228,
    "start_time": "2022-01-12T17:50:22.043Z"
   },
   {
    "duration": 255,
    "start_time": "2022-01-12T17:50:39.502Z"
   },
   {
    "duration": 11,
    "start_time": "2022-01-12T18:24:32.077Z"
   },
   {
    "duration": 323,
    "start_time": "2022-01-12T18:24:32.762Z"
   },
   {
    "duration": 15,
    "start_time": "2022-01-12T18:25:17.950Z"
   },
   {
    "duration": 285,
    "start_time": "2022-01-12T18:25:18.242Z"
   },
   {
    "duration": 8,
    "start_time": "2022-01-12T18:25:49.518Z"
   },
   {
    "duration": 15,
    "start_time": "2022-01-12T18:26:05.296Z"
   },
   {
    "duration": 6,
    "start_time": "2022-01-12T18:26:16.272Z"
   },
   {
    "duration": 336,
    "start_time": "2022-01-12T18:26:21.012Z"
   },
   {
    "duration": 10,
    "start_time": "2022-01-12T18:27:51.792Z"
   },
   {
    "duration": 229,
    "start_time": "2022-01-12T18:27:51.992Z"
   },
   {
    "duration": 34,
    "start_time": "2022-01-12T18:27:58.612Z"
   },
   {
    "duration": 6,
    "start_time": "2022-01-12T18:28:04.562Z"
   },
   {
    "duration": 312,
    "start_time": "2022-01-12T18:28:05.132Z"
   },
   {
    "duration": 360,
    "start_time": "2022-01-12T18:28:55.612Z"
   },
   {
    "duration": 29,
    "start_time": "2022-01-12T18:29:04.110Z"
   },
   {
    "duration": 300,
    "start_time": "2022-01-12T18:29:09.837Z"
   },
   {
    "duration": 26,
    "start_time": "2022-01-12T18:32:48.298Z"
   },
   {
    "duration": 320,
    "start_time": "2022-01-12T18:32:49.242Z"
   },
   {
    "duration": 311,
    "start_time": "2022-01-12T18:33:52.242Z"
   },
   {
    "duration": 431,
    "start_time": "2022-01-12T18:40:00.956Z"
   },
   {
    "duration": 483,
    "start_time": "2022-01-12T18:40:14.126Z"
   },
   {
    "duration": 316,
    "start_time": "2022-01-12T18:40:19.636Z"
   },
   {
    "duration": 288,
    "start_time": "2022-01-13T07:29:57.381Z"
   },
   {
    "duration": 1146,
    "start_time": "2022-01-13T07:30:03.414Z"
   },
   {
    "duration": 38,
    "start_time": "2022-01-13T07:30:04.562Z"
   },
   {
    "duration": 15,
    "start_time": "2022-01-13T07:30:04.602Z"
   },
   {
    "duration": 9,
    "start_time": "2022-01-13T07:30:04.619Z"
   },
   {
    "duration": 3,
    "start_time": "2022-01-13T07:30:04.630Z"
   },
   {
    "duration": 7,
    "start_time": "2022-01-13T07:30:04.634Z"
   },
   {
    "duration": 9,
    "start_time": "2022-01-13T07:30:04.661Z"
   },
   {
    "duration": 16,
    "start_time": "2022-01-13T07:30:04.672Z"
   },
   {
    "duration": 13,
    "start_time": "2022-01-13T07:30:04.691Z"
   },
   {
    "duration": 9,
    "start_time": "2022-01-13T07:30:04.706Z"
   },
   {
    "duration": 10,
    "start_time": "2022-01-13T07:30:04.717Z"
   },
   {
    "duration": 39,
    "start_time": "2022-01-13T07:30:04.729Z"
   },
   {
    "duration": 6,
    "start_time": "2022-01-13T07:30:04.770Z"
   },
   {
    "duration": 14,
    "start_time": "2022-01-13T07:30:04.778Z"
   },
   {
    "duration": 21,
    "start_time": "2022-01-13T07:30:04.794Z"
   },
   {
    "duration": 49,
    "start_time": "2022-01-13T07:30:04.817Z"
   },
   {
    "duration": 16,
    "start_time": "2022-01-13T07:30:04.868Z"
   },
   {
    "duration": 23,
    "start_time": "2022-01-13T07:30:04.886Z"
   },
   {
    "duration": 4,
    "start_time": "2022-01-13T07:30:04.910Z"
   },
   {
    "duration": 11,
    "start_time": "2022-01-13T07:30:04.915Z"
   },
   {
    "duration": 4,
    "start_time": "2022-01-13T07:30:04.927Z"
   },
   {
    "duration": 68,
    "start_time": "2022-01-13T07:30:04.933Z"
   },
   {
    "duration": 5,
    "start_time": "2022-01-13T07:30:05.003Z"
   },
   {
    "duration": 30,
    "start_time": "2022-01-13T07:30:05.010Z"
   },
   {
    "duration": 5,
    "start_time": "2022-01-13T07:30:05.042Z"
   },
   {
    "duration": 266,
    "start_time": "2022-01-13T07:30:05.048Z"
   },
   {
    "duration": 7,
    "start_time": "2022-01-13T07:30:05.318Z"
   },
   {
    "duration": 5,
    "start_time": "2022-01-13T07:30:05.328Z"
   },
   {
    "duration": 26,
    "start_time": "2022-01-13T07:30:05.334Z"
   },
   {
    "duration": 5,
    "start_time": "2022-01-13T07:30:05.362Z"
   },
   {
    "duration": 5,
    "start_time": "2022-01-13T07:30:05.369Z"
   },
   {
    "duration": 16,
    "start_time": "2022-01-13T07:30:05.376Z"
   },
   {
    "duration": 12,
    "start_time": "2022-01-13T07:30:05.394Z"
   },
   {
    "duration": 14,
    "start_time": "2022-01-13T07:30:05.409Z"
   },
   {
    "duration": 6,
    "start_time": "2022-01-13T07:30:05.461Z"
   },
   {
    "duration": 17,
    "start_time": "2022-01-13T07:30:05.469Z"
   },
   {
    "duration": 12,
    "start_time": "2022-01-13T07:30:05.488Z"
   },
   {
    "duration": 252,
    "start_time": "2022-01-13T07:30:05.502Z"
   },
   {
    "duration": 13,
    "start_time": "2022-01-13T07:30:05.756Z"
   },
   {
    "duration": 339,
    "start_time": "2022-01-13T07:30:05.771Z"
   },
   {
    "duration": 16,
    "start_time": "2022-01-13T07:30:06.112Z"
   },
   {
    "duration": 305,
    "start_time": "2022-01-13T07:30:06.130Z"
   },
   {
    "duration": 6,
    "start_time": "2022-01-13T07:30:06.436Z"
   },
   {
    "duration": 18,
    "start_time": "2022-01-13T07:30:06.444Z"
   },
   {
    "duration": 246,
    "start_time": "2022-01-13T07:30:06.464Z"
   },
   {
    "duration": 11,
    "start_time": "2022-01-13T07:30:06.711Z"
   },
   {
    "duration": 303,
    "start_time": "2022-01-13T07:30:06.724Z"
   },
   {
    "duration": 41,
    "start_time": "2022-01-13T07:30:07.029Z"
   },
   {
    "duration": 7,
    "start_time": "2022-01-13T07:30:07.073Z"
   },
   {
    "duration": 14,
    "start_time": "2022-01-13T07:30:07.082Z"
   },
   {
    "duration": 338,
    "start_time": "2022-01-13T07:30:07.098Z"
   },
   {
    "duration": 39,
    "start_time": "2022-01-13T07:30:07.438Z"
   },
   {
    "duration": 298,
    "start_time": "2022-01-13T07:30:07.479Z"
   },
   {
    "duration": 345,
    "start_time": "2022-01-13T07:30:07.779Z"
   },
   {
    "duration": 9,
    "start_time": "2022-01-13T07:30:08.126Z"
   },
   {
    "duration": 415,
    "start_time": "2022-01-13T07:30:08.136Z"
   },
   {
    "duration": 14,
    "start_time": "2022-01-13T07:30:08.552Z"
   },
   {
    "duration": 384,
    "start_time": "2022-01-13T07:30:08.567Z"
   },
   {
    "duration": 10,
    "start_time": "2022-01-13T07:30:08.953Z"
   },
   {
    "duration": 5,
    "start_time": "2022-01-13T07:30:08.965Z"
   },
   {
    "duration": 244,
    "start_time": "2022-01-13T07:30:08.972Z"
   },
   {
    "duration": 271,
    "start_time": "2022-01-13T07:30:09.218Z"
   },
   {
    "duration": 10,
    "start_time": "2022-01-13T07:30:09.491Z"
   },
   {
    "duration": 321,
    "start_time": "2022-01-13T07:30:09.503Z"
   },
   {
    "duration": 6,
    "start_time": "2022-01-13T07:30:09.826Z"
   },
   {
    "duration": 7,
    "start_time": "2022-01-13T07:30:09.834Z"
   },
   {
    "duration": 22,
    "start_time": "2022-01-13T07:30:09.843Z"
   },
   {
    "duration": 11,
    "start_time": "2022-01-13T07:30:09.867Z"
   },
   {
    "duration": 291,
    "start_time": "2022-01-13T07:30:09.880Z"
   },
   {
    "duration": 6,
    "start_time": "2022-01-13T07:30:10.172Z"
   },
   {
    "duration": 14,
    "start_time": "2022-01-13T07:30:10.180Z"
   },
   {
    "duration": 11,
    "start_time": "2022-01-13T07:30:10.195Z"
   },
   {
    "duration": 36,
    "start_time": "2022-01-13T07:30:10.208Z"
   },
   {
    "duration": 23,
    "start_time": "2022-01-13T07:30:10.246Z"
   },
   {
    "duration": 28,
    "start_time": "2022-01-13T07:30:10.271Z"
   },
   {
    "duration": 17,
    "start_time": "2022-01-13T07:30:10.301Z"
   },
   {
    "duration": 89,
    "start_time": "2022-01-13T07:30:10.321Z"
   },
   {
    "duration": 23,
    "start_time": "2022-01-13T07:30:10.412Z"
   },
   {
    "duration": 24,
    "start_time": "2022-01-13T07:30:10.436Z"
   },
   {
    "duration": 29,
    "start_time": "2022-01-13T07:30:10.461Z"
   },
   {
    "duration": 13,
    "start_time": "2022-01-13T07:30:10.495Z"
   },
   {
    "duration": 23,
    "start_time": "2022-01-13T07:30:10.510Z"
   },
   {
    "duration": 14,
    "start_time": "2022-01-13T07:30:10.535Z"
   },
   {
    "duration": 7,
    "start_time": "2022-01-13T07:30:10.550Z"
   },
   {
    "duration": 9,
    "start_time": "2022-01-13T07:30:10.559Z"
   },
   {
    "duration": 477,
    "start_time": "2022-01-13T07:31:39.486Z"
   },
   {
    "duration": 705,
    "start_time": "2022-01-13T07:32:04.199Z"
   },
   {
    "duration": 491,
    "start_time": "2022-01-13T07:32:10.714Z"
   },
   {
    "duration": 422,
    "start_time": "2022-01-13T07:33:10.876Z"
   },
   {
    "duration": 466,
    "start_time": "2022-01-13T07:34:13.005Z"
   },
   {
    "duration": 451,
    "start_time": "2022-01-13T07:37:08.035Z"
   },
   {
    "duration": 592,
    "start_time": "2022-01-13T07:37:17.734Z"
   },
   {
    "duration": 235,
    "start_time": "2022-01-13T07:38:07.454Z"
   },
   {
    "duration": 494,
    "start_time": "2022-01-13T07:38:19.066Z"
   },
   {
    "duration": 11,
    "start_time": "2022-01-13T07:38:38.016Z"
   },
   {
    "duration": 265,
    "start_time": "2022-01-13T07:43:28.696Z"
   },
   {
    "duration": 260,
    "start_time": "2022-01-13T07:44:36.301Z"
   },
   {
    "duration": 264,
    "start_time": "2022-01-13T07:44:53.886Z"
   },
   {
    "duration": 497,
    "start_time": "2022-01-13T07:45:10.318Z"
   },
   {
    "duration": 508,
    "start_time": "2022-01-13T07:46:52.959Z"
   },
   {
    "duration": 504,
    "start_time": "2022-01-13T07:47:05.698Z"
   },
   {
    "duration": 533,
    "start_time": "2022-01-13T07:52:50.055Z"
   },
   {
    "duration": 497,
    "start_time": "2022-01-13T07:53:03.796Z"
   },
   {
    "duration": 655,
    "start_time": "2022-01-13T07:53:10.505Z"
   },
   {
    "duration": 87,
    "start_time": "2022-01-13T07:53:19.139Z"
   },
   {
    "duration": 511,
    "start_time": "2022-01-13T07:53:35.583Z"
   },
   {
    "duration": 32,
    "start_time": "2022-01-13T07:56:30.693Z"
   },
   {
    "duration": 1103,
    "start_time": "2022-01-13T08:05:36.585Z"
   },
   {
    "duration": 37,
    "start_time": "2022-01-13T08:05:37.690Z"
   },
   {
    "duration": 14,
    "start_time": "2022-01-13T08:05:37.729Z"
   },
   {
    "duration": 34,
    "start_time": "2022-01-13T08:05:37.745Z"
   },
   {
    "duration": 24,
    "start_time": "2022-01-13T08:05:37.781Z"
   },
   {
    "duration": 26,
    "start_time": "2022-01-13T08:05:37.806Z"
   },
   {
    "duration": 37,
    "start_time": "2022-01-13T08:05:37.833Z"
   },
   {
    "duration": 34,
    "start_time": "2022-01-13T08:05:37.873Z"
   },
   {
    "duration": 14,
    "start_time": "2022-01-13T08:05:37.909Z"
   },
   {
    "duration": 19,
    "start_time": "2022-01-13T08:05:37.924Z"
   },
   {
    "duration": 17,
    "start_time": "2022-01-13T08:05:37.944Z"
   },
   {
    "duration": 20,
    "start_time": "2022-01-13T08:05:37.963Z"
   },
   {
    "duration": 38,
    "start_time": "2022-01-13T08:05:37.984Z"
   },
   {
    "duration": 28,
    "start_time": "2022-01-13T08:05:38.023Z"
   },
   {
    "duration": 31,
    "start_time": "2022-01-13T08:05:38.053Z"
   },
   {
    "duration": 19,
    "start_time": "2022-01-13T08:05:38.085Z"
   },
   {
    "duration": 37,
    "start_time": "2022-01-13T08:05:38.105Z"
   },
   {
    "duration": 24,
    "start_time": "2022-01-13T08:05:38.144Z"
   },
   {
    "duration": 13,
    "start_time": "2022-01-13T08:05:38.169Z"
   },
   {
    "duration": 29,
    "start_time": "2022-01-13T08:05:38.183Z"
   },
   {
    "duration": 22,
    "start_time": "2022-01-13T08:05:38.214Z"
   },
   {
    "duration": 69,
    "start_time": "2022-01-13T08:05:38.238Z"
   },
   {
    "duration": 5,
    "start_time": "2022-01-13T08:05:38.311Z"
   },
   {
    "duration": 42,
    "start_time": "2022-01-13T08:05:38.320Z"
   },
   {
    "duration": 5,
    "start_time": "2022-01-13T08:05:38.364Z"
   },
   {
    "duration": 248,
    "start_time": "2022-01-13T08:05:38.371Z"
   },
   {
    "duration": 8,
    "start_time": "2022-01-13T08:05:38.621Z"
   },
   {
    "duration": 7,
    "start_time": "2022-01-13T08:05:38.631Z"
   },
   {
    "duration": 23,
    "start_time": "2022-01-13T08:05:38.639Z"
   },
   {
    "duration": 7,
    "start_time": "2022-01-13T08:05:38.664Z"
   },
   {
    "duration": 6,
    "start_time": "2022-01-13T08:05:38.673Z"
   },
   {
    "duration": 16,
    "start_time": "2022-01-13T08:05:38.681Z"
   },
   {
    "duration": 12,
    "start_time": "2022-01-13T08:05:38.699Z"
   },
   {
    "duration": 54,
    "start_time": "2022-01-13T08:05:38.713Z"
   },
   {
    "duration": 6,
    "start_time": "2022-01-13T08:05:38.769Z"
   },
   {
    "duration": 15,
    "start_time": "2022-01-13T08:05:38.776Z"
   },
   {
    "duration": 11,
    "start_time": "2022-01-13T08:05:38.793Z"
   },
   {
    "duration": 239,
    "start_time": "2022-01-13T08:05:38.806Z"
   },
   {
    "duration": 18,
    "start_time": "2022-01-13T08:05:39.047Z"
   },
   {
    "duration": 345,
    "start_time": "2022-01-13T08:05:39.067Z"
   },
   {
    "duration": 20,
    "start_time": "2022-01-13T08:05:39.414Z"
   },
   {
    "duration": 312,
    "start_time": "2022-01-13T08:05:39.435Z"
   },
   {
    "duration": 15,
    "start_time": "2022-01-13T08:05:39.749Z"
   },
   {
    "duration": 22,
    "start_time": "2022-01-13T08:05:39.766Z"
   },
   {
    "duration": 230,
    "start_time": "2022-01-13T08:05:39.789Z"
   },
   {
    "duration": 12,
    "start_time": "2022-01-13T08:05:40.021Z"
   },
   {
    "duration": 328,
    "start_time": "2022-01-13T08:05:40.034Z"
   },
   {
    "duration": 24,
    "start_time": "2022-01-13T08:05:40.364Z"
   },
   {
    "duration": 8,
    "start_time": "2022-01-13T08:05:40.390Z"
   },
   {
    "duration": 34,
    "start_time": "2022-01-13T08:05:40.400Z"
   },
   {
    "duration": 300,
    "start_time": "2022-01-13T08:05:40.435Z"
   },
   {
    "duration": 36,
    "start_time": "2022-01-13T08:05:40.737Z"
   },
   {
    "duration": 302,
    "start_time": "2022-01-13T08:05:40.775Z"
   },
   {
    "duration": 495,
    "start_time": "2022-01-13T08:05:41.079Z"
   },
   {
    "duration": 30,
    "start_time": "2022-01-13T08:05:41.576Z"
   },
   {
    "duration": 9,
    "start_time": "2022-01-13T08:05:41.608Z"
   },
   {
    "duration": 406,
    "start_time": "2022-01-13T08:05:41.618Z"
   },
   {
    "duration": 9,
    "start_time": "2022-01-13T08:05:42.026Z"
   },
   {
    "duration": 399,
    "start_time": "2022-01-13T08:05:42.037Z"
   },
   {
    "duration": 5,
    "start_time": "2022-01-13T08:05:42.438Z"
   },
   {
    "duration": 17,
    "start_time": "2022-01-13T08:05:42.445Z"
   },
   {
    "duration": 336,
    "start_time": "2022-01-13T08:05:42.464Z"
   },
   {
    "duration": 402,
    "start_time": "2022-01-13T08:05:42.802Z"
   },
   {
    "duration": 9,
    "start_time": "2022-01-13T08:05:43.206Z"
   },
   {
    "duration": 410,
    "start_time": "2022-01-13T08:05:43.217Z"
   },
   {
    "duration": 6,
    "start_time": "2022-01-13T08:05:43.629Z"
   },
   {
    "duration": 11,
    "start_time": "2022-01-13T08:05:43.637Z"
   },
   {
    "duration": 19,
    "start_time": "2022-01-13T08:05:43.662Z"
   },
   {
    "duration": 36,
    "start_time": "2022-01-13T08:05:43.683Z"
   },
   {
    "duration": 282,
    "start_time": "2022-01-13T08:05:43.720Z"
   },
   {
    "duration": 6,
    "start_time": "2022-01-13T08:05:44.003Z"
   },
   {
    "duration": 17,
    "start_time": "2022-01-13T08:05:44.011Z"
   },
   {
    "duration": 32,
    "start_time": "2022-01-13T08:05:44.030Z"
   },
   {
    "duration": 24,
    "start_time": "2022-01-13T08:05:44.063Z"
   },
   {
    "duration": 10,
    "start_time": "2022-01-13T08:05:44.089Z"
   },
   {
    "duration": 29,
    "start_time": "2022-01-13T08:05:44.100Z"
   },
   {
    "duration": 24,
    "start_time": "2022-01-13T08:05:44.131Z"
   },
   {
    "duration": 17,
    "start_time": "2022-01-13T08:05:44.157Z"
   },
   {
    "duration": 21,
    "start_time": "2022-01-13T08:05:44.175Z"
   },
   {
    "duration": 12,
    "start_time": "2022-01-13T08:05:44.198Z"
   },
   {
    "duration": 107,
    "start_time": "2022-01-13T08:05:44.211Z"
   },
   {
    "duration": 14,
    "start_time": "2022-01-13T08:05:44.320Z"
   },
   {
    "duration": 34,
    "start_time": "2022-01-13T08:05:44.336Z"
   },
   {
    "duration": 23,
    "start_time": "2022-01-13T08:05:44.372Z"
   },
   {
    "duration": 39,
    "start_time": "2022-01-13T08:05:44.397Z"
   },
   {
    "duration": 15,
    "start_time": "2022-01-13T08:05:44.438Z"
   },
   {
    "duration": 22,
    "start_time": "2022-01-13T08:13:33.120Z"
   },
   {
    "duration": 294,
    "start_time": "2022-01-13T08:13:35.582Z"
   },
   {
    "duration": 22,
    "start_time": "2022-01-13T08:13:51.784Z"
   },
   {
    "duration": 23,
    "start_time": "2022-01-13T08:14:26.773Z"
   },
   {
    "duration": 285,
    "start_time": "2022-01-13T08:14:27.275Z"
   },
   {
    "duration": 13,
    "start_time": "2022-01-13T08:15:16.095Z"
   },
   {
    "duration": 293,
    "start_time": "2022-01-13T08:15:16.645Z"
   },
   {
    "duration": 13,
    "start_time": "2022-01-13T08:15:22.980Z"
   },
   {
    "duration": 297,
    "start_time": "2022-01-13T08:15:26.025Z"
   },
   {
    "duration": 11,
    "start_time": "2022-01-13T09:06:34.325Z"
   },
   {
    "duration": 285,
    "start_time": "2022-01-13T09:06:36.153Z"
   },
   {
    "duration": 11,
    "start_time": "2022-01-13T09:14:31.787Z"
   },
   {
    "duration": 325,
    "start_time": "2022-01-13T09:14:34.805Z"
   },
   {
    "duration": 18,
    "start_time": "2022-01-13T09:15:40.443Z"
   },
   {
    "duration": 20,
    "start_time": "2022-01-13T09:20:47.940Z"
   },
   {
    "duration": 18,
    "start_time": "2022-01-13T09:20:51.595Z"
   },
   {
    "duration": 27,
    "start_time": "2022-01-13T09:20:58.660Z"
   },
   {
    "duration": 18,
    "start_time": "2022-01-13T09:26:20.632Z"
   },
   {
    "duration": 17,
    "start_time": "2022-01-13T09:30:23.154Z"
   },
   {
    "duration": 632,
    "start_time": "2022-01-13T09:31:02.305Z"
   },
   {
    "duration": 18,
    "start_time": "2022-01-13T09:31:15.126Z"
   },
   {
    "duration": 19,
    "start_time": "2022-01-13T09:44:50.005Z"
   },
   {
    "duration": 26,
    "start_time": "2022-01-13T09:45:03.366Z"
   },
   {
    "duration": 22,
    "start_time": "2022-01-13T09:46:09.496Z"
   },
   {
    "duration": 22,
    "start_time": "2022-01-13T10:01:25.215Z"
   },
   {
    "duration": 12,
    "start_time": "2022-01-13T10:02:11.816Z"
   },
   {
    "duration": 22,
    "start_time": "2022-01-13T10:02:18.776Z"
   },
   {
    "duration": 25,
    "start_time": "2022-01-13T10:31:20.365Z"
   },
   {
    "duration": 6998,
    "start_time": "2022-01-13T10:33:06.461Z"
   },
   {
    "duration": 31,
    "start_time": "2022-01-13T10:33:29.110Z"
   },
   {
    "duration": 25,
    "start_time": "2022-01-13T10:33:47.356Z"
   },
   {
    "duration": 18,
    "start_time": "2022-01-13T10:33:57.014Z"
   },
   {
    "duration": 7475,
    "start_time": "2022-01-13T10:35:10.735Z"
   },
   {
    "duration": 24,
    "start_time": "2022-01-13T10:35:33.420Z"
   },
   {
    "duration": 22,
    "start_time": "2022-01-13T10:35:51.036Z"
   },
   {
    "duration": 18,
    "start_time": "2022-01-13T10:36:04.675Z"
   },
   {
    "duration": 93,
    "start_time": "2022-01-13T10:36:38.671Z"
   },
   {
    "duration": 25,
    "start_time": "2022-01-13T10:36:42.455Z"
   },
   {
    "duration": 20,
    "start_time": "2022-01-13T10:36:58.515Z"
   },
   {
    "duration": 22,
    "start_time": "2022-01-13T10:38:12.546Z"
   },
   {
    "duration": 22,
    "start_time": "2022-01-13T10:38:41.545Z"
   },
   {
    "duration": 359,
    "start_time": "2022-01-13T10:38:47.666Z"
   },
   {
    "duration": 8,
    "start_time": "2022-01-13T10:46:08.220Z"
   },
   {
    "duration": 6,
    "start_time": "2022-01-13T10:46:13.133Z"
   },
   {
    "duration": 7,
    "start_time": "2022-01-13T10:46:16.076Z"
   },
   {
    "duration": 305,
    "start_time": "2022-01-13T12:17:08.790Z"
   },
   {
    "duration": 1337,
    "start_time": "2022-01-13T12:17:15.356Z"
   },
   {
    "duration": 38,
    "start_time": "2022-01-13T12:17:16.695Z"
   },
   {
    "duration": 23,
    "start_time": "2022-01-13T12:17:16.736Z"
   },
   {
    "duration": 17,
    "start_time": "2022-01-13T12:17:16.766Z"
   },
   {
    "duration": 16,
    "start_time": "2022-01-13T12:17:16.785Z"
   },
   {
    "duration": 24,
    "start_time": "2022-01-13T12:17:16.803Z"
   },
   {
    "duration": 17,
    "start_time": "2022-01-13T12:17:16.829Z"
   },
   {
    "duration": 37,
    "start_time": "2022-01-13T12:17:16.849Z"
   },
   {
    "duration": 29,
    "start_time": "2022-01-13T12:17:16.889Z"
   },
   {
    "duration": 9,
    "start_time": "2022-01-13T12:17:16.920Z"
   },
   {
    "duration": 15,
    "start_time": "2022-01-13T12:17:16.930Z"
   },
   {
    "duration": 14,
    "start_time": "2022-01-13T12:17:16.947Z"
   },
   {
    "duration": 13,
    "start_time": "2022-01-13T12:17:16.963Z"
   },
   {
    "duration": 20,
    "start_time": "2022-01-13T12:17:16.977Z"
   },
   {
    "duration": 28,
    "start_time": "2022-01-13T12:17:16.999Z"
   },
   {
    "duration": 12,
    "start_time": "2022-01-13T12:17:17.029Z"
   },
   {
    "duration": 39,
    "start_time": "2022-01-13T12:17:17.043Z"
   },
   {
    "duration": 27,
    "start_time": "2022-01-13T12:17:17.084Z"
   },
   {
    "duration": 4,
    "start_time": "2022-01-13T12:17:17.112Z"
   },
   {
    "duration": 7,
    "start_time": "2022-01-13T12:17:17.118Z"
   },
   {
    "duration": 33,
    "start_time": "2022-01-13T12:17:17.127Z"
   },
   {
    "duration": 53,
    "start_time": "2022-01-13T12:17:17.165Z"
   },
   {
    "duration": 5,
    "start_time": "2022-01-13T12:17:17.222Z"
   },
   {
    "duration": 47,
    "start_time": "2022-01-13T12:17:17.230Z"
   },
   {
    "duration": 6,
    "start_time": "2022-01-13T12:17:17.279Z"
   },
   {
    "duration": 282,
    "start_time": "2022-01-13T12:17:17.287Z"
   },
   {
    "duration": 9,
    "start_time": "2022-01-13T12:17:17.571Z"
   },
   {
    "duration": 11,
    "start_time": "2022-01-13T12:17:17.581Z"
   },
   {
    "duration": 11,
    "start_time": "2022-01-13T12:17:17.594Z"
   },
   {
    "duration": 7,
    "start_time": "2022-01-13T12:17:17.607Z"
   },
   {
    "duration": 6,
    "start_time": "2022-01-13T12:17:17.616Z"
   },
   {
    "duration": 17,
    "start_time": "2022-01-13T12:17:17.624Z"
   },
   {
    "duration": 13,
    "start_time": "2022-01-13T12:17:17.666Z"
   },
   {
    "duration": 15,
    "start_time": "2022-01-13T12:17:17.681Z"
   },
   {
    "duration": 6,
    "start_time": "2022-01-13T12:17:17.697Z"
   },
   {
    "duration": 21,
    "start_time": "2022-01-13T12:17:17.704Z"
   },
   {
    "duration": 40,
    "start_time": "2022-01-13T12:17:17.727Z"
   },
   {
    "duration": 297,
    "start_time": "2022-01-13T12:17:17.769Z"
   },
   {
    "duration": 16,
    "start_time": "2022-01-13T12:17:18.069Z"
   },
   {
    "duration": 359,
    "start_time": "2022-01-13T12:17:18.086Z"
   },
   {
    "duration": 31,
    "start_time": "2022-01-13T12:17:18.447Z"
   },
   {
    "duration": 333,
    "start_time": "2022-01-13T12:17:18.480Z"
   },
   {
    "duration": 5,
    "start_time": "2022-01-13T12:17:18.815Z"
   },
   {
    "duration": 22,
    "start_time": "2022-01-13T12:17:18.822Z"
   },
   {
    "duration": 306,
    "start_time": "2022-01-13T12:17:18.846Z"
   },
   {
    "duration": 19,
    "start_time": "2022-01-13T12:17:19.154Z"
   },
   {
    "duration": 388,
    "start_time": "2022-01-13T12:17:19.176Z"
   },
   {
    "duration": 32,
    "start_time": "2022-01-13T12:17:19.566Z"
   },
   {
    "duration": 9,
    "start_time": "2022-01-13T12:17:19.600Z"
   },
   {
    "duration": 25,
    "start_time": "2022-01-13T12:17:19.611Z"
   },
   {
    "duration": 346,
    "start_time": "2022-01-13T12:17:19.638Z"
   },
   {
    "duration": 14,
    "start_time": "2022-01-13T12:17:19.986Z"
   },
   {
    "duration": 339,
    "start_time": "2022-01-13T12:17:20.003Z"
   },
   {
    "duration": 27,
    "start_time": "2022-01-13T12:17:20.344Z"
   },
   {
    "duration": 341,
    "start_time": "2022-01-13T12:17:20.373Z"
   },
   {
    "duration": 576,
    "start_time": "2022-01-13T12:17:20.716Z"
   },
   {
    "duration": 33,
    "start_time": "2022-01-13T12:17:21.295Z"
   },
   {
    "duration": 34,
    "start_time": "2022-01-13T12:17:21.330Z"
   },
   {
    "duration": 515,
    "start_time": "2022-01-13T12:17:21.368Z"
   },
   {
    "duration": 12,
    "start_time": "2022-01-13T12:17:21.889Z"
   },
   {
    "duration": 534,
    "start_time": "2022-01-13T12:17:21.903Z"
   },
   {
    "duration": 6,
    "start_time": "2022-01-13T12:17:22.439Z"
   },
   {
    "duration": 37,
    "start_time": "2022-01-13T12:17:22.447Z"
   },
   {
    "duration": 264,
    "start_time": "2022-01-13T12:17:22.486Z"
   },
   {
    "duration": 338,
    "start_time": "2022-01-13T12:17:22.752Z"
   },
   {
    "duration": 17,
    "start_time": "2022-01-13T12:17:23.092Z"
   },
   {
    "duration": 424,
    "start_time": "2022-01-13T12:17:23.111Z"
   },
   {
    "duration": 21,
    "start_time": "2022-01-13T12:17:23.542Z"
   },
   {
    "duration": 7,
    "start_time": "2022-01-13T12:17:23.565Z"
   },
   {
    "duration": 15,
    "start_time": "2022-01-13T12:17:23.574Z"
   },
   {
    "duration": 376,
    "start_time": "2022-01-13T12:17:23.591Z"
   },
   {
    "duration": -2997,
    "start_time": "2022-01-13T12:17:26.966Z"
   },
   {
    "duration": -3011,
    "start_time": "2022-01-13T12:17:26.981Z"
   },
   {
    "duration": -3024,
    "start_time": "2022-01-13T12:17:26.996Z"
   },
   {
    "duration": -3101,
    "start_time": "2022-01-13T12:17:27.074Z"
   },
   {
    "duration": -3119,
    "start_time": "2022-01-13T12:17:27.094Z"
   },
   {
    "duration": -3134,
    "start_time": "2022-01-13T12:17:27.110Z"
   },
   {
    "duration": -3146,
    "start_time": "2022-01-13T12:17:27.124Z"
   },
   {
    "duration": -3309,
    "start_time": "2022-01-13T12:17:27.288Z"
   },
   {
    "duration": -3343,
    "start_time": "2022-01-13T12:17:27.323Z"
   },
   {
    "duration": -3359,
    "start_time": "2022-01-13T12:17:27.340Z"
   },
   {
    "duration": -3372,
    "start_time": "2022-01-13T12:17:27.354Z"
   },
   {
    "duration": -3386,
    "start_time": "2022-01-13T12:17:27.369Z"
   },
   {
    "duration": -3399,
    "start_time": "2022-01-13T12:17:27.383Z"
   },
   {
    "duration": -3413,
    "start_time": "2022-01-13T12:17:27.398Z"
   },
   {
    "duration": -3425,
    "start_time": "2022-01-13T12:17:27.411Z"
   },
   {
    "duration": -3463,
    "start_time": "2022-01-13T12:17:27.449Z"
   },
   {
    "duration": -3477,
    "start_time": "2022-01-13T12:17:27.464Z"
   },
   {
    "duration": 17,
    "start_time": "2022-01-13T12:17:36.947Z"
   },
   {
    "duration": 465,
    "start_time": "2022-01-13T12:17:39.778Z"
   },
   {
    "duration": 14,
    "start_time": "2022-01-13T12:17:57.326Z"
   },
   {
    "duration": 280,
    "start_time": "2022-01-13T12:17:58.986Z"
   },
   {
    "duration": 12,
    "start_time": "2022-01-13T12:21:25.106Z"
   },
   {
    "duration": 286,
    "start_time": "2022-01-13T12:21:27.756Z"
   },
   {
    "duration": 16,
    "start_time": "2022-01-13T12:21:33.846Z"
   },
   {
    "duration": 306,
    "start_time": "2022-01-13T12:21:35.595Z"
   },
   {
    "duration": 8,
    "start_time": "2022-01-13T12:41:03.378Z"
   },
   {
    "duration": 6,
    "start_time": "2022-01-13T12:41:04.515Z"
   },
   {
    "duration": 10,
    "start_time": "2022-01-13T12:41:06.746Z"
   },
   {
    "duration": 17,
    "start_time": "2022-01-13T12:56:28.333Z"
   },
   {
    "duration": 13,
    "start_time": "2022-01-13T12:59:30.353Z"
   },
   {
    "duration": 5,
    "start_time": "2022-01-13T12:59:30.639Z"
   },
   {
    "duration": 4,
    "start_time": "2022-01-13T12:59:30.946Z"
   },
   {
    "duration": 6,
    "start_time": "2022-01-13T12:59:33.685Z"
   },
   {
    "duration": 5,
    "start_time": "2022-01-13T12:59:33.973Z"
   },
   {
    "duration": 6,
    "start_time": "2022-01-13T12:59:35.595Z"
   },
   {
    "duration": 8,
    "start_time": "2022-01-13T12:59:49.819Z"
   },
   {
    "duration": 4,
    "start_time": "2022-01-13T12:59:50.098Z"
   },
   {
    "duration": 4,
    "start_time": "2022-01-13T12:59:50.336Z"
   },
   {
    "duration": 5,
    "start_time": "2022-01-13T12:59:53.654Z"
   },
   {
    "duration": 5,
    "start_time": "2022-01-13T12:59:53.920Z"
   },
   {
    "duration": 7,
    "start_time": "2022-01-13T12:59:55.073Z"
   },
   {
    "duration": 374,
    "start_time": "2022-01-16T09:23:16.700Z"
   },
   {
    "duration": 1472,
    "start_time": "2022-01-16T09:23:22.561Z"
   },
   {
    "duration": 45,
    "start_time": "2022-01-16T09:23:24.036Z"
   },
   {
    "duration": 23,
    "start_time": "2022-01-16T09:23:24.084Z"
   },
   {
    "duration": 14,
    "start_time": "2022-01-16T09:23:24.123Z"
   },
   {
    "duration": 4,
    "start_time": "2022-01-16T09:23:24.139Z"
   },
   {
    "duration": 8,
    "start_time": "2022-01-16T09:23:24.145Z"
   },
   {
    "duration": 12,
    "start_time": "2022-01-16T09:23:24.157Z"
   },
   {
    "duration": 60,
    "start_time": "2022-01-16T09:23:24.173Z"
   },
   {
    "duration": 20,
    "start_time": "2022-01-16T09:23:24.236Z"
   },
   {
    "duration": 21,
    "start_time": "2022-01-16T09:23:24.258Z"
   },
   {
    "duration": 46,
    "start_time": "2022-01-16T09:23:24.281Z"
   },
   {
    "duration": 30,
    "start_time": "2022-01-16T09:23:24.329Z"
   },
   {
    "duration": 9,
    "start_time": "2022-01-16T09:23:24.361Z"
   },
   {
    "duration": 30,
    "start_time": "2022-01-16T09:23:24.373Z"
   },
   {
    "duration": 56,
    "start_time": "2022-01-16T09:23:24.406Z"
   },
   {
    "duration": 25,
    "start_time": "2022-01-16T09:23:24.464Z"
   },
   {
    "duration": 45,
    "start_time": "2022-01-16T09:23:24.491Z"
   },
   {
    "duration": 38,
    "start_time": "2022-01-16T09:23:24.538Z"
   },
   {
    "duration": 5,
    "start_time": "2022-01-16T09:23:24.578Z"
   },
   {
    "duration": 44,
    "start_time": "2022-01-16T09:23:24.585Z"
   },
   {
    "duration": 9,
    "start_time": "2022-01-16T09:23:24.631Z"
   },
   {
    "duration": 80,
    "start_time": "2022-01-16T09:23:24.643Z"
   },
   {
    "duration": 7,
    "start_time": "2022-01-16T09:23:24.730Z"
   },
   {
    "duration": 17,
    "start_time": "2022-01-16T09:23:24.740Z"
   },
   {
    "duration": 7,
    "start_time": "2022-01-16T09:23:24.759Z"
   },
   {
    "duration": 429,
    "start_time": "2022-01-16T09:23:24.768Z"
   },
   {
    "duration": 9,
    "start_time": "2022-01-16T09:23:25.200Z"
   },
   {
    "duration": 6,
    "start_time": "2022-01-16T09:23:25.223Z"
   },
   {
    "duration": 8,
    "start_time": "2022-01-16T09:23:25.232Z"
   },
   {
    "duration": 8,
    "start_time": "2022-01-16T09:23:25.242Z"
   },
   {
    "duration": 7,
    "start_time": "2022-01-16T09:23:25.252Z"
   },
   {
    "duration": 66,
    "start_time": "2022-01-16T09:23:25.261Z"
   },
   {
    "duration": 15,
    "start_time": "2022-01-16T09:23:25.329Z"
   },
   {
    "duration": 18,
    "start_time": "2022-01-16T09:23:25.346Z"
   },
   {
    "duration": 5,
    "start_time": "2022-01-16T09:23:25.366Z"
   },
   {
    "duration": 51,
    "start_time": "2022-01-16T09:23:25.374Z"
   },
   {
    "duration": 18,
    "start_time": "2022-01-16T09:23:25.428Z"
   },
   {
    "duration": 594,
    "start_time": "2022-01-16T09:23:25.449Z"
   },
   {
    "duration": 16,
    "start_time": "2022-01-16T09:23:26.045Z"
   },
   {
    "duration": 576,
    "start_time": "2022-01-16T09:23:26.063Z"
   },
   {
    "duration": 26,
    "start_time": "2022-01-16T09:23:26.641Z"
   },
   {
    "duration": 560,
    "start_time": "2022-01-16T09:23:26.669Z"
   },
   {
    "duration": 8,
    "start_time": "2022-01-16T09:23:27.232Z"
   },
   {
    "duration": 28,
    "start_time": "2022-01-16T09:23:27.243Z"
   },
   {
    "duration": 407,
    "start_time": "2022-01-16T09:23:27.275Z"
   },
   {
    "duration": 13,
    "start_time": "2022-01-16T09:23:27.685Z"
   },
   {
    "duration": 453,
    "start_time": "2022-01-16T09:23:27.700Z"
   },
   {
    "duration": 70,
    "start_time": "2022-01-16T09:23:28.156Z"
   },
   {
    "duration": 14,
    "start_time": "2022-01-16T09:23:28.229Z"
   },
   {
    "duration": 25,
    "start_time": "2022-01-16T09:23:28.246Z"
   },
   {
    "duration": 533,
    "start_time": "2022-01-16T09:23:28.274Z"
   },
   {
    "duration": 31,
    "start_time": "2022-01-16T09:23:28.810Z"
   },
   {
    "duration": 546,
    "start_time": "2022-01-16T09:23:28.843Z"
   },
   {
    "duration": 44,
    "start_time": "2022-01-16T09:23:29.392Z"
   },
   {
    "duration": 567,
    "start_time": "2022-01-16T09:23:29.439Z"
   },
   {
    "duration": 1048,
    "start_time": "2022-01-16T09:23:30.010Z"
   },
   {
    "duration": 65,
    "start_time": "2022-01-16T09:23:31.060Z"
   },
   {
    "duration": 15,
    "start_time": "2022-01-16T09:23:31.127Z"
   },
   {
    "duration": 579,
    "start_time": "2022-01-16T09:23:31.144Z"
   },
   {
    "duration": 12,
    "start_time": "2022-01-16T09:23:31.725Z"
   },
   {
    "duration": 592,
    "start_time": "2022-01-16T09:23:31.740Z"
   },
   {
    "duration": 6,
    "start_time": "2022-01-16T09:23:32.335Z"
   },
   {
    "duration": 16,
    "start_time": "2022-01-16T09:23:32.344Z"
   },
   {
    "duration": 463,
    "start_time": "2022-01-16T09:23:32.363Z"
   },
   {
    "duration": 457,
    "start_time": "2022-01-16T09:23:32.829Z"
   },
   {
    "duration": 37,
    "start_time": "2022-01-16T09:23:33.289Z"
   },
   {
    "duration": 504,
    "start_time": "2022-01-16T09:23:33.328Z"
   },
   {
    "duration": 8,
    "start_time": "2022-01-16T09:23:33.839Z"
   },
   {
    "duration": 9,
    "start_time": "2022-01-16T09:23:33.850Z"
   },
   {
    "duration": 8,
    "start_time": "2022-01-16T09:23:33.861Z"
   },
   {
    "duration": 65,
    "start_time": "2022-01-16T09:23:33.872Z"
   },
   {
    "duration": 521,
    "start_time": "2022-01-16T09:23:33.939Z"
   },
   {
    "duration": 9,
    "start_time": "2022-01-16T09:23:34.463Z"
   },
   {
    "duration": 9,
    "start_time": "2022-01-16T09:23:34.475Z"
   },
   {
    "duration": 38,
    "start_time": "2022-01-16T09:23:34.487Z"
   },
   {
    "duration": 24,
    "start_time": "2022-01-16T09:23:34.528Z"
   },
   {
    "duration": 11,
    "start_time": "2022-01-16T09:23:34.555Z"
   },
   {
    "duration": 6,
    "start_time": "2022-01-16T09:23:34.568Z"
   },
   {
    "duration": 48,
    "start_time": "2022-01-16T09:23:34.576Z"
   },
   {
    "duration": 11,
    "start_time": "2022-01-16T09:23:34.626Z"
   },
   {
    "duration": 9,
    "start_time": "2022-01-16T09:23:34.640Z"
   },
   {
    "duration": 15,
    "start_time": "2022-01-16T09:23:34.652Z"
   },
   {
    "duration": 16,
    "start_time": "2022-01-16T09:23:34.670Z"
   },
   {
    "duration": 37,
    "start_time": "2022-01-16T09:23:34.689Z"
   },
   {
    "duration": 8,
    "start_time": "2022-01-16T09:23:34.728Z"
   },
   {
    "duration": 13,
    "start_time": "2022-01-16T09:23:34.739Z"
   },
   {
    "duration": 10,
    "start_time": "2022-01-16T09:23:34.754Z"
   },
   {
    "duration": 10,
    "start_time": "2022-01-16T09:23:34.767Z"
   },
   {
    "duration": 10,
    "start_time": "2022-01-16T09:29:15.826Z"
   },
   {
    "duration": 9,
    "start_time": "2022-01-16T09:29:33.523Z"
   },
   {
    "duration": 9,
    "start_time": "2022-01-16T09:29:39.311Z"
   },
   {
    "duration": 7,
    "start_time": "2022-01-16T09:29:50.027Z"
   },
   {
    "duration": 7,
    "start_time": "2022-01-16T09:30:21.706Z"
   },
   {
    "duration": 9,
    "start_time": "2022-01-16T09:30:23.667Z"
   },
   {
    "duration": 8,
    "start_time": "2022-01-16T09:50:28.867Z"
   },
   {
    "duration": 9,
    "start_time": "2022-01-16T09:50:44.754Z"
   },
   {
    "duration": 8,
    "start_time": "2022-01-16T09:51:16.748Z"
   },
   {
    "duration": 8,
    "start_time": "2022-01-16T09:51:32.747Z"
   },
   {
    "duration": 9,
    "start_time": "2022-01-16T09:51:37.066Z"
   },
   {
    "duration": 9,
    "start_time": "2022-01-16T09:54:52.866Z"
   },
   {
    "duration": 10,
    "start_time": "2022-01-16T09:54:55.724Z"
   },
   {
    "duration": 9,
    "start_time": "2022-01-16T09:55:07.275Z"
   },
   {
    "duration": 7,
    "start_time": "2022-01-16T10:02:14.921Z"
   },
   {
    "duration": 359,
    "start_time": "2022-01-16T10:02:19.620Z"
   },
   {
    "duration": 22,
    "start_time": "2022-01-16T10:02:27.709Z"
   },
   {
    "duration": 578,
    "start_time": "2022-01-16T10:02:28.432Z"
   },
   {
    "duration": 34,
    "start_time": "2022-01-16T10:04:33.721Z"
   },
   {
    "duration": 9,
    "start_time": "2022-01-16T10:05:33.762Z"
   },
   {
    "duration": 20,
    "start_time": "2022-01-16T10:05:34.987Z"
   },
   {
    "duration": 502,
    "start_time": "2022-01-16T10:05:36.631Z"
   },
   {
    "duration": 22,
    "start_time": "2022-01-16T10:13:36.900Z"
   },
   {
    "duration": 525,
    "start_time": "2022-01-16T10:13:37.517Z"
   },
   {
    "duration": 809,
    "start_time": "2022-01-16T10:20:58.316Z"
   },
   {
    "duration": 1424,
    "start_time": "2022-01-16T10:25:56.054Z"
   },
   {
    "duration": 13,
    "start_time": "2022-01-16T10:50:57.265Z"
   },
   {
    "duration": 518,
    "start_time": "2022-01-16T10:50:58.820Z"
   },
   {
    "duration": 12,
    "start_time": "2022-01-16T10:51:06.476Z"
   },
   {
    "duration": 550,
    "start_time": "2022-01-16T10:51:07.093Z"
   },
   {
    "duration": 477,
    "start_time": "2022-01-16T10:52:49.755Z"
   },
   {
    "duration": 395,
    "start_time": "2022-01-16T10:52:58.101Z"
   },
   {
    "duration": 22,
    "start_time": "2022-01-16T10:59:58.495Z"
   },
   {
    "duration": 490,
    "start_time": "2022-01-16T10:59:58.954Z"
   },
   {
    "duration": 23,
    "start_time": "2022-01-16T11:00:27.903Z"
   },
   {
    "duration": 6,
    "start_time": "2022-01-16T11:05:11.346Z"
   },
   {
    "duration": 10,
    "start_time": "2022-01-16T11:05:14.614Z"
   },
   {
    "duration": 9,
    "start_time": "2022-01-16T11:05:25.616Z"
   },
   {
    "duration": 2046,
    "start_time": "2022-01-16T11:05:33.633Z"
   },
   {
    "duration": 61,
    "start_time": "2022-01-16T11:05:35.683Z"
   },
   {
    "duration": 30,
    "start_time": "2022-01-16T11:05:35.748Z"
   },
   {
    "duration": 22,
    "start_time": "2022-01-16T11:05:35.781Z"
   },
   {
    "duration": 5,
    "start_time": "2022-01-16T11:05:35.824Z"
   },
   {
    "duration": 13,
    "start_time": "2022-01-16T11:05:35.833Z"
   },
   {
    "duration": 18,
    "start_time": "2022-01-16T11:05:35.849Z"
   },
   {
    "duration": 52,
    "start_time": "2022-01-16T11:05:35.873Z"
   },
   {
    "duration": 20,
    "start_time": "2022-01-16T11:05:35.928Z"
   },
   {
    "duration": 10,
    "start_time": "2022-01-16T11:05:35.951Z"
   },
   {
    "duration": 12,
    "start_time": "2022-01-16T11:05:35.965Z"
   },
   {
    "duration": 46,
    "start_time": "2022-01-16T11:05:35.979Z"
   },
   {
    "duration": 7,
    "start_time": "2022-01-16T11:05:36.027Z"
   },
   {
    "duration": 20,
    "start_time": "2022-01-16T11:05:36.036Z"
   },
   {
    "duration": 32,
    "start_time": "2022-01-16T11:05:36.058Z"
   },
   {
    "duration": 47,
    "start_time": "2022-01-16T11:05:36.092Z"
   },
   {
    "duration": 25,
    "start_time": "2022-01-16T11:05:36.142Z"
   },
   {
    "duration": 67,
    "start_time": "2022-01-16T11:05:36.169Z"
   },
   {
    "duration": 7,
    "start_time": "2022-01-16T11:05:36.238Z"
   },
   {
    "duration": 7,
    "start_time": "2022-01-16T11:05:36.248Z"
   },
   {
    "duration": 5,
    "start_time": "2022-01-16T11:05:36.258Z"
   },
   {
    "duration": 109,
    "start_time": "2022-01-16T11:05:36.265Z"
   },
   {
    "duration": 11,
    "start_time": "2022-01-16T11:05:36.383Z"
   },
   {
    "duration": 33,
    "start_time": "2022-01-16T11:05:36.398Z"
   },
   {
    "duration": 7,
    "start_time": "2022-01-16T11:05:36.433Z"
   },
   {
    "duration": 406,
    "start_time": "2022-01-16T11:05:36.442Z"
   },
   {
    "duration": 8,
    "start_time": "2022-01-16T11:05:36.851Z"
   },
   {
    "duration": 8,
    "start_time": "2022-01-16T11:05:36.862Z"
   },
   {
    "duration": 8,
    "start_time": "2022-01-16T11:05:36.872Z"
   },
   {
    "duration": 8,
    "start_time": "2022-01-16T11:05:36.883Z"
   },
   {
    "duration": 35,
    "start_time": "2022-01-16T11:05:36.894Z"
   },
   {
    "duration": 14,
    "start_time": "2022-01-16T11:05:36.932Z"
   },
   {
    "duration": 8,
    "start_time": "2022-01-16T11:05:36.949Z"
   },
   {
    "duration": 13,
    "start_time": "2022-01-16T11:05:36.961Z"
   },
   {
    "duration": 51,
    "start_time": "2022-01-16T11:05:36.978Z"
   },
   {
    "duration": 10,
    "start_time": "2022-01-16T11:05:37.032Z"
   },
   {
    "duration": 9,
    "start_time": "2022-01-16T11:05:37.045Z"
   },
   {
    "duration": 11,
    "start_time": "2022-01-16T11:05:37.057Z"
   },
   {
    "duration": 55,
    "start_time": "2022-01-16T11:05:37.071Z"
   },
   {
    "duration": 16,
    "start_time": "2022-01-16T11:05:37.129Z"
   },
   {
    "duration": 17,
    "start_time": "2022-01-16T11:05:37.149Z"
   },
   {
    "duration": 6,
    "start_time": "2022-01-16T11:05:37.168Z"
   },
   {
    "duration": 53,
    "start_time": "2022-01-16T11:05:37.176Z"
   },
   {
    "duration": 18,
    "start_time": "2022-01-16T11:05:37.232Z"
   },
   {
    "duration": 372,
    "start_time": "2022-01-16T11:05:37.252Z"
   },
   {
    "duration": 15,
    "start_time": "2022-01-16T11:05:37.626Z"
   },
   {
    "duration": 557,
    "start_time": "2022-01-16T11:05:37.644Z"
   },
   {
    "duration": 33,
    "start_time": "2022-01-16T11:05:38.203Z"
   },
   {
    "duration": 687,
    "start_time": "2022-01-16T11:05:38.238Z"
   },
   {
    "duration": 7,
    "start_time": "2022-01-16T11:05:38.928Z"
   },
   {
    "duration": 7,
    "start_time": "2022-01-16T11:05:38.938Z"
   },
   {
    "duration": 654,
    "start_time": "2022-01-16T11:05:38.948Z"
   },
   {
    "duration": 15,
    "start_time": "2022-01-16T11:05:39.624Z"
   },
   {
    "duration": 418,
    "start_time": "2022-01-16T11:05:39.641Z"
   },
   {
    "duration": 35,
    "start_time": "2022-01-16T11:05:40.061Z"
   },
   {
    "duration": 27,
    "start_time": "2022-01-16T11:05:40.098Z"
   },
   {
    "duration": 19,
    "start_time": "2022-01-16T11:05:40.127Z"
   },
   {
    "duration": 528,
    "start_time": "2022-01-16T11:05:40.149Z"
   },
   {
    "duration": 20,
    "start_time": "2022-01-16T11:05:40.680Z"
   },
   {
    "duration": 769,
    "start_time": "2022-01-16T11:05:40.703Z"
   },
   {
    "duration": 24,
    "start_time": "2022-01-16T11:05:41.475Z"
   },
   {
    "duration": 527,
    "start_time": "2022-01-16T11:05:41.501Z"
   },
   {
    "duration": 1376,
    "start_time": "2022-01-16T11:05:42.030Z"
   },
   {
    "duration": 18,
    "start_time": "2022-01-16T11:05:43.409Z"
   },
   {
    "duration": 617,
    "start_time": "2022-01-16T11:05:43.430Z"
   },
   {
    "duration": 12,
    "start_time": "2022-01-16T11:05:44.050Z"
   },
   {
    "duration": 563,
    "start_time": "2022-01-16T11:05:44.064Z"
   },
   {
    "duration": 7,
    "start_time": "2022-01-16T11:05:44.634Z"
   },
   {
    "duration": 7,
    "start_time": "2022-01-16T11:05:44.643Z"
   },
   {
    "duration": 504,
    "start_time": "2022-01-16T11:05:44.652Z"
   },
   {
    "duration": 390,
    "start_time": "2022-01-16T11:05:45.159Z"
   },
   {
    "duration": 22,
    "start_time": "2022-01-16T11:05:45.551Z"
   },
   {
    "duration": 538,
    "start_time": "2022-01-16T11:05:45.576Z"
   },
   {
    "duration": 9,
    "start_time": "2022-01-16T11:05:46.124Z"
   },
   {
    "duration": 13,
    "start_time": "2022-01-16T11:05:46.137Z"
   },
   {
    "duration": 11,
    "start_time": "2022-01-16T11:05:46.152Z"
   },
   {
    "duration": 56,
    "start_time": "2022-01-16T11:05:46.167Z"
   },
   {
    "duration": 687,
    "start_time": "2022-01-16T11:05:46.226Z"
   },
   {
    "duration": 11,
    "start_time": "2022-01-16T11:05:46.924Z"
   },
   {
    "duration": 17,
    "start_time": "2022-01-16T11:05:46.939Z"
   },
   {
    "duration": 18,
    "start_time": "2022-01-16T11:05:46.958Z"
   },
   {
    "duration": 44,
    "start_time": "2022-01-16T11:05:46.979Z"
   },
   {
    "duration": 12,
    "start_time": "2022-01-16T11:05:47.026Z"
   },
   {
    "duration": 17,
    "start_time": "2022-01-16T11:05:47.041Z"
   },
   {
    "duration": 15,
    "start_time": "2022-01-16T11:05:47.060Z"
   },
   {
    "duration": 16,
    "start_time": "2022-01-16T11:05:47.077Z"
   },
   {
    "duration": 10,
    "start_time": "2022-01-16T11:05:47.095Z"
   },
   {
    "duration": 17,
    "start_time": "2022-01-16T11:05:47.108Z"
   },
   {
    "duration": 20,
    "start_time": "2022-01-16T11:05:47.127Z"
   },
   {
    "duration": 6,
    "start_time": "2022-01-16T11:05:47.150Z"
   },
   {
    "duration": 11,
    "start_time": "2022-01-16T11:05:47.159Z"
   },
   {
    "duration": 17,
    "start_time": "2022-01-16T11:05:47.173Z"
   },
   {
    "duration": 11,
    "start_time": "2022-01-16T11:05:47.192Z"
   },
   {
    "duration": 25,
    "start_time": "2022-01-16T11:05:47.205Z"
   },
   {
    "duration": 11,
    "start_time": "2022-01-16T11:06:34.241Z"
   },
   {
    "duration": 299,
    "start_time": "2022-01-16T11:10:57.427Z"
   },
   {
    "duration": 319,
    "start_time": "2022-01-16T11:11:30.795Z"
   },
   {
    "duration": 10,
    "start_time": "2022-01-16T11:12:19.558Z"
   },
   {
    "duration": 131,
    "start_time": "2022-01-16T11:20:01.544Z"
   },
   {
    "duration": 1465,
    "start_time": "2022-01-16T11:20:48.096Z"
   },
   {
    "duration": 46,
    "start_time": "2022-01-16T11:20:49.564Z"
   },
   {
    "duration": 29,
    "start_time": "2022-01-16T11:20:49.613Z"
   },
   {
    "duration": 16,
    "start_time": "2022-01-16T11:20:49.645Z"
   },
   {
    "duration": 5,
    "start_time": "2022-01-16T11:20:49.664Z"
   },
   {
    "duration": 9,
    "start_time": "2022-01-16T11:20:49.671Z"
   },
   {
    "duration": 50,
    "start_time": "2022-01-16T11:20:49.683Z"
   },
   {
    "duration": 15,
    "start_time": "2022-01-16T11:20:49.739Z"
   },
   {
    "duration": 19,
    "start_time": "2022-01-16T11:20:49.758Z"
   },
   {
    "duration": 51,
    "start_time": "2022-01-16T11:20:49.780Z"
   },
   {
    "duration": 15,
    "start_time": "2022-01-16T11:20:49.834Z"
   },
   {
    "duration": 13,
    "start_time": "2022-01-16T11:20:49.852Z"
   },
   {
    "duration": 8,
    "start_time": "2022-01-16T11:20:49.868Z"
   },
   {
    "duration": 22,
    "start_time": "2022-01-16T11:20:49.924Z"
   },
   {
    "duration": 33,
    "start_time": "2022-01-16T11:20:49.949Z"
   },
   {
    "duration": 46,
    "start_time": "2022-01-16T11:20:49.984Z"
   },
   {
    "duration": 28,
    "start_time": "2022-01-16T11:20:50.032Z"
   },
   {
    "duration": 40,
    "start_time": "2022-01-16T11:20:50.062Z"
   },
   {
    "duration": 22,
    "start_time": "2022-01-16T11:20:50.105Z"
   },
   {
    "duration": 6,
    "start_time": "2022-01-16T11:20:50.129Z"
   },
   {
    "duration": 7,
    "start_time": "2022-01-16T11:20:50.137Z"
   },
   {
    "duration": 98,
    "start_time": "2022-01-16T11:20:50.146Z"
   },
   {
    "duration": 8,
    "start_time": "2022-01-16T11:20:50.253Z"
   },
   {
    "duration": 16,
    "start_time": "2022-01-16T11:20:50.265Z"
   },
   {
    "duration": 8,
    "start_time": "2022-01-16T11:20:50.284Z"
   },
   {
    "duration": 403,
    "start_time": "2022-01-16T11:20:50.323Z"
   },
   {
    "duration": 9,
    "start_time": "2022-01-16T11:20:50.728Z"
   },
   {
    "duration": 15,
    "start_time": "2022-01-16T11:20:50.739Z"
   },
   {
    "duration": 8,
    "start_time": "2022-01-16T11:20:50.756Z"
   },
   {
    "duration": 9,
    "start_time": "2022-01-16T11:20:50.766Z"
   },
   {
    "duration": 10,
    "start_time": "2022-01-16T11:20:50.777Z"
   },
   {
    "duration": 39,
    "start_time": "2022-01-16T11:20:50.789Z"
   },
   {
    "duration": 8,
    "start_time": "2022-01-16T11:20:50.830Z"
   },
   {
    "duration": 9,
    "start_time": "2022-01-16T11:20:50.840Z"
   },
   {
    "duration": 7,
    "start_time": "2022-01-16T11:20:50.852Z"
   },
   {
    "duration": 13,
    "start_time": "2022-01-16T11:20:50.861Z"
   },
   {
    "duration": 51,
    "start_time": "2022-01-16T11:20:50.876Z"
   },
   {
    "duration": 11,
    "start_time": "2022-01-16T11:20:50.930Z"
   },
   {
    "duration": 21,
    "start_time": "2022-01-16T11:20:50.944Z"
   },
   {
    "duration": 14,
    "start_time": "2022-01-16T11:20:50.967Z"
   },
   {
    "duration": 46,
    "start_time": "2022-01-16T11:20:50.983Z"
   },
   {
    "duration": 6,
    "start_time": "2022-01-16T11:20:51.031Z"
   },
   {
    "duration": 21,
    "start_time": "2022-01-16T11:20:51.040Z"
   },
   {
    "duration": 16,
    "start_time": "2022-01-16T11:20:51.063Z"
   },
   {
    "duration": 381,
    "start_time": "2022-01-16T11:20:51.081Z"
   },
   {
    "duration": 16,
    "start_time": "2022-01-16T11:20:51.465Z"
   },
   {
    "duration": 523,
    "start_time": "2022-01-16T11:20:51.483Z"
   },
   {
    "duration": 34,
    "start_time": "2022-01-16T11:20:52.009Z"
   },
   {
    "duration": 475,
    "start_time": "2022-01-16T11:20:52.045Z"
   },
   {
    "duration": 8,
    "start_time": "2022-01-16T11:20:52.522Z"
   },
   {
    "duration": 5,
    "start_time": "2022-01-16T11:20:52.532Z"
   },
   {
    "duration": 359,
    "start_time": "2022-01-16T11:20:52.540Z"
   },
   {
    "duration": 25,
    "start_time": "2022-01-16T11:20:52.902Z"
   },
   {
    "duration": 446,
    "start_time": "2022-01-16T11:20:52.930Z"
   },
   {
    "duration": 53,
    "start_time": "2022-01-16T11:20:53.380Z"
   },
   {
    "duration": 9,
    "start_time": "2022-01-16T11:20:53.436Z"
   },
   {
    "duration": 20,
    "start_time": "2022-01-16T11:20:53.448Z"
   },
   {
    "duration": 511,
    "start_time": "2022-01-16T11:20:53.471Z"
   },
   {
    "duration": 39,
    "start_time": "2022-01-16T11:20:53.984Z"
   },
   {
    "duration": 490,
    "start_time": "2022-01-16T11:20:54.025Z"
   },
   {
    "duration": 23,
    "start_time": "2022-01-16T11:20:54.517Z"
   },
   {
    "duration": 500,
    "start_time": "2022-01-16T11:20:54.542Z"
   },
   {
    "duration": 1431,
    "start_time": "2022-01-16T11:20:55.044Z"
   },
   {
    "duration": 12,
    "start_time": "2022-01-16T11:20:56.478Z"
   },
   {
    "duration": 517,
    "start_time": "2022-01-16T11:20:56.492Z"
   },
   {
    "duration": 21,
    "start_time": "2022-01-16T11:20:57.012Z"
   },
   {
    "duration": 522,
    "start_time": "2022-01-16T11:20:57.035Z"
   },
   {
    "duration": 7,
    "start_time": "2022-01-16T11:20:57.564Z"
   },
   {
    "duration": 10,
    "start_time": "2022-01-16T11:20:57.574Z"
   },
   {
    "duration": 485,
    "start_time": "2022-01-16T11:20:57.587Z"
   },
   {
    "duration": 404,
    "start_time": "2022-01-16T11:20:58.076Z"
   },
   {
    "duration": 20,
    "start_time": "2022-01-16T11:20:58.482Z"
   },
   {
    "duration": 504,
    "start_time": "2022-01-16T11:20:58.504Z"
   },
   {
    "duration": 17,
    "start_time": "2022-01-16T11:20:59.011Z"
   },
   {
    "duration": 8,
    "start_time": "2022-01-16T11:20:59.031Z"
   },
   {
    "duration": 11,
    "start_time": "2022-01-16T11:20:59.042Z"
   },
   {
    "duration": 18,
    "start_time": "2022-01-16T11:20:59.055Z"
   },
   {
    "duration": 453,
    "start_time": "2022-01-16T11:20:59.075Z"
   },
   {
    "duration": 8,
    "start_time": "2022-01-16T11:20:59.531Z"
   },
   {
    "duration": 10,
    "start_time": "2022-01-16T11:20:59.542Z"
   },
   {
    "duration": 10,
    "start_time": "2022-01-16T11:20:59.554Z"
   },
   {
    "duration": 337,
    "start_time": "2022-01-16T11:20:59.566Z"
   },
   {
    "duration": 19,
    "start_time": "2022-01-16T11:20:59.906Z"
   },
   {
    "duration": 14,
    "start_time": "2022-01-16T11:20:59.927Z"
   },
   {
    "duration": 4,
    "start_time": "2022-01-16T11:20:59.943Z"
   },
   {
    "duration": 7,
    "start_time": "2022-01-16T11:20:59.949Z"
   },
   {
    "duration": 7,
    "start_time": "2022-01-16T11:20:59.958Z"
   },
   {
    "duration": 9,
    "start_time": "2022-01-16T11:20:59.967Z"
   },
   {
    "duration": 6,
    "start_time": "2022-01-16T11:21:00.023Z"
   },
   {
    "duration": 13,
    "start_time": "2022-01-16T11:21:00.032Z"
   },
   {
    "duration": 8,
    "start_time": "2022-01-16T11:21:00.047Z"
   },
   {
    "duration": 16,
    "start_time": "2022-01-16T11:21:00.057Z"
   },
   {
    "duration": 11,
    "start_time": "2022-01-16T11:21:00.075Z"
   },
   {
    "duration": 13,
    "start_time": "2022-01-16T11:21:00.088Z"
   },
   {
    "duration": 6,
    "start_time": "2022-01-16T11:21:00.124Z"
   }
  ],
  "celltoolbar": "Отсутствует",
  "kernelspec": {
   "display_name": "Python 3 (ipykernel)",
   "language": "python",
   "name": "python3"
  },
  "language_info": {
   "codemirror_mode": {
    "name": "ipython",
    "version": 3
   },
   "file_extension": ".py",
   "mimetype": "text/x-python",
   "name": "python",
   "nbconvert_exporter": "python",
   "pygments_lexer": "ipython3",
   "version": "3.9.7"
  },
  "toc": {
   "base_numbering": 1,
   "nav_menu": {},
   "number_sections": true,
   "sideBar": true,
   "skip_h1_title": true,
   "title_cell": "Table of Contents",
   "title_sidebar": "Contents",
   "toc_cell": false,
   "toc_position": {
    "height": "calc(100% - 180px)",
    "left": "10px",
    "top": "150px",
    "width": "280.594px"
   },
   "toc_section_display": true,
   "toc_window_display": true
  }
 },
 "nbformat": 4,
 "nbformat_minor": 2
}
