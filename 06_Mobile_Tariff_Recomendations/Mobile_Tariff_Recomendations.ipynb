{
 "cells": [
  {
   "cell_type": "markdown",
   "metadata": {},
   "source": [
    "# Рекомендация тарифов"
   ]
  },
  {
   "cell_type": "markdown",
   "metadata": {},
   "source": [
    "В вашем распоряжении данные о поведении клиентов, которые уже перешли на эти тарифы (из проекта курса «Статистический анализ данных»). Нужно построить модель для задачи классификации, которая выберет подходящий тариф. Предобработка данных не понадобится — вы её уже сделали.\n",
    "\n",
    "Постройте модель с максимально большим значением *accuracy*. Чтобы сдать проект успешно, нужно довести долю правильных ответов по крайней мере до 0.75. Проверьте *accuracy* на тестовой выборке самостоятельно."
   ]
  },
  {
   "cell_type": "code",
   "execution_count": 1,
   "metadata": {},
   "outputs": [],
   "source": [
    "# отключим предупреждения Anaconda\n",
    "import warnings\n",
    "warnings.simplefilter('ignore')"
   ]
  },
  {
   "cell_type": "code",
   "execution_count": 2,
   "metadata": {},
   "outputs": [],
   "source": [
    "import pandas as pd\n",
    "import numpy as np\n",
    "from sklearn.model_selection import train_test_split\n",
    "\n",
    "from sklearn.ensemble import RandomForestClassifier\n",
    "from sklearn.linear_model import LogisticRegression\n",
    "from sklearn import tree\n",
    "from sklearn.metrics import accuracy_score\n",
    "from sklearn.dummy import DummyClassifier\n",
    "from sklearn.preprocessing import MinMaxScaler\n",
    "from sklearn.model_selection import GridSearchCV"
   ]
  },
  {
   "cell_type": "markdown",
   "metadata": {},
   "source": [
    "## Откройте и изучите файл"
   ]
  },
  {
   "cell_type": "code",
   "execution_count": 3,
   "metadata": {},
   "outputs": [],
   "source": [
    "df = pd.read_csv('/datasets/users_behavior.csv')"
   ]
  },
  {
   "cell_type": "code",
   "execution_count": 4,
   "metadata": {
    "scrolled": true
   },
   "outputs": [
    {
     "name": "stdout",
     "output_type": "stream",
     "text": [
      "<class 'pandas.core.frame.DataFrame'>\n",
      "RangeIndex: 3214 entries, 0 to 3213\n",
      "Data columns (total 5 columns):\n",
      "calls       3214 non-null float64\n",
      "minutes     3214 non-null float64\n",
      "messages    3214 non-null float64\n",
      "mb_used     3214 non-null float64\n",
      "is_ultra    3214 non-null int64\n",
      "dtypes: float64(4), int64(1)\n",
      "memory usage: 125.7 KB\n"
     ]
    }
   ],
   "source": [
    "df.info()"
   ]
  },
  {
   "cell_type": "code",
   "execution_count": 5,
   "metadata": {},
   "outputs": [
    {
     "data": {
      "text/html": [
       "<div>\n",
       "<style scoped>\n",
       "    .dataframe tbody tr th:only-of-type {\n",
       "        vertical-align: middle;\n",
       "    }\n",
       "\n",
       "    .dataframe tbody tr th {\n",
       "        vertical-align: top;\n",
       "    }\n",
       "\n",
       "    .dataframe thead th {\n",
       "        text-align: right;\n",
       "    }\n",
       "</style>\n",
       "<table border=\"1\" class=\"dataframe\">\n",
       "  <thead>\n",
       "    <tr style=\"text-align: right;\">\n",
       "      <th></th>\n",
       "      <th>calls</th>\n",
       "      <th>minutes</th>\n",
       "      <th>messages</th>\n",
       "      <th>mb_used</th>\n",
       "      <th>is_ultra</th>\n",
       "    </tr>\n",
       "  </thead>\n",
       "  <tbody>\n",
       "    <tr>\n",
       "      <td>0</td>\n",
       "      <td>40.0</td>\n",
       "      <td>311.90</td>\n",
       "      <td>83.0</td>\n",
       "      <td>19915.42</td>\n",
       "      <td>0</td>\n",
       "    </tr>\n",
       "    <tr>\n",
       "      <td>1</td>\n",
       "      <td>85.0</td>\n",
       "      <td>516.75</td>\n",
       "      <td>56.0</td>\n",
       "      <td>22696.96</td>\n",
       "      <td>0</td>\n",
       "    </tr>\n",
       "    <tr>\n",
       "      <td>2</td>\n",
       "      <td>77.0</td>\n",
       "      <td>467.66</td>\n",
       "      <td>86.0</td>\n",
       "      <td>21060.45</td>\n",
       "      <td>0</td>\n",
       "    </tr>\n",
       "    <tr>\n",
       "      <td>3</td>\n",
       "      <td>106.0</td>\n",
       "      <td>745.53</td>\n",
       "      <td>81.0</td>\n",
       "      <td>8437.39</td>\n",
       "      <td>1</td>\n",
       "    </tr>\n",
       "    <tr>\n",
       "      <td>4</td>\n",
       "      <td>66.0</td>\n",
       "      <td>418.74</td>\n",
       "      <td>1.0</td>\n",
       "      <td>14502.75</td>\n",
       "      <td>0</td>\n",
       "    </tr>\n",
       "  </tbody>\n",
       "</table>\n",
       "</div>"
      ],
      "text/plain": [
       "   calls  minutes  messages   mb_used  is_ultra\n",
       "0   40.0   311.90      83.0  19915.42         0\n",
       "1   85.0   516.75      56.0  22696.96         0\n",
       "2   77.0   467.66      86.0  21060.45         0\n",
       "3  106.0   745.53      81.0   8437.39         1\n",
       "4   66.0   418.74       1.0  14502.75         0"
      ]
     },
     "execution_count": 5,
     "metadata": {},
     "output_type": "execute_result"
    }
   ],
   "source": [
    "df.head()"
   ]
  },
  {
   "cell_type": "markdown",
   "metadata": {},
   "source": [
    "## Разбейте данные на выборки"
   ]
  },
  {
   "cell_type": "code",
   "execution_count": 6,
   "metadata": {},
   "outputs": [],
   "source": [
    "features = df.drop('is_ultra', axis=1)\n",
    "target = df['is_ultra']"
   ]
  },
  {
   "cell_type": "markdown",
   "metadata": {},
   "source": [
    "Разобьем данные на выборки в соотношении обучающая : валидационная : тестовая 60:20:20."
   ]
  },
  {
   "cell_type": "code",
   "execution_count": 7,
   "metadata": {},
   "outputs": [],
   "source": [
    "features_train, features_valid, target_train, target_valid = train_test_split(\n",
    "    features, target, test_size = 0.2, random_state=12345)"
   ]
  },
  {
   "cell_type": "code",
   "execution_count": 8,
   "metadata": {},
   "outputs": [],
   "source": [
    "features_train, features_test, target_train, target_test = train_test_split(\n",
    "    features_train, target_train, test_size = 0.25, random_state=12345)"
   ]
  },
  {
   "cell_type": "markdown",
   "metadata": {},
   "source": [
    "Проверим размеры получившихся выборок"
   ]
  },
  {
   "cell_type": "code",
   "execution_count": 9,
   "metadata": {},
   "outputs": [
    {
     "name": "stdout",
     "output_type": "stream",
     "text": [
      "Доля обучающей выборки 0.60\n"
     ]
    }
   ],
   "source": [
    "print('Доля обучающей выборки {0:.2f}'.format(features_train.size / features.size))"
   ]
  },
  {
   "cell_type": "code",
   "execution_count": 10,
   "metadata": {},
   "outputs": [
    {
     "name": "stdout",
     "output_type": "stream",
     "text": [
      "Доля валидационной выборки 0.20\n"
     ]
    }
   ],
   "source": [
    "print('Доля валидационной выборки {0:.2f}'.format(features_valid.size / features.size))"
   ]
  },
  {
   "cell_type": "code",
   "execution_count": 11,
   "metadata": {
    "scrolled": true
   },
   "outputs": [
    {
     "name": "stdout",
     "output_type": "stream",
     "text": [
      "Доля тестовой выборки 0.20\n"
     ]
    }
   ],
   "source": [
    "print('Доля тестовой выборки {0:.2f}'.format(features_test.size / features.size))"
   ]
  },
  {
   "cell_type": "markdown",
   "metadata": {},
   "source": [
    "## Исследуйте модели"
   ]
  },
  {
   "cell_type": "markdown",
   "metadata": {},
   "source": [
    "### Дерево решений"
   ]
  },
  {
   "cell_type": "markdown",
   "metadata": {},
   "source": [
    "Первую модель обучим алгоритмом дерева решений."
   ]
  },
  {
   "cell_type": "code",
   "execution_count": 12,
   "metadata": {
    "scrolled": true
   },
   "outputs": [
    {
     "data": {
      "text/plain": [
       "DecisionTreeClassifier(class_weight=None, criterion='gini', max_depth=None,\n",
       "                       max_features=None, max_leaf_nodes=None,\n",
       "                       min_impurity_decrease=0.0, min_impurity_split=None,\n",
       "                       min_samples_leaf=1, min_samples_split=2,\n",
       "                       min_weight_fraction_leaf=0.0, presort=False,\n",
       "                       random_state=12345, splitter='best')"
      ]
     },
     "execution_count": 12,
     "metadata": {},
     "output_type": "execute_result"
    }
   ],
   "source": [
    "first_model = tree.DecisionTreeClassifier(random_state=12345)\n",
    "first_model.fit(features_train, target_train)"
   ]
  },
  {
   "cell_type": "markdown",
   "metadata": {},
   "source": [
    "Узнаем параметры получившегося дерева, чтобы отталкиваться от них в дальнейших исследованиях."
   ]
  },
  {
   "cell_type": "code",
   "execution_count": 13,
   "metadata": {},
   "outputs": [
    {
     "name": "stdout",
     "output_type": "stream",
     "text": [
      "Доля правильных ответов 0.7309486780715396\n"
     ]
    }
   ],
   "source": [
    "answer = first_model.predict(features_valid)\n",
    "print('Доля правильных ответов', accuracy_score(target_valid, answer))"
   ]
  },
  {
   "cell_type": "code",
   "execution_count": 14,
   "metadata": {
    "scrolled": false
   },
   "outputs": [
    {
     "name": "stdout",
     "output_type": "stream",
     "text": [
      "Глубина дерева 28\n"
     ]
    }
   ],
   "source": [
    "est_max_depth = first_model.tree_.max_depth\n",
    "print('Глубина дерева', est_max_depth)"
   ]
  },
  {
   "cell_type": "markdown",
   "metadata": {},
   "source": [
    "Теперь обучим модели с разными гиперпараметрами, оценим качество каждой из них по доле правильных ответов и выберем лучшую модель."
   ]
  },
  {
   "cell_type": "code",
   "execution_count": 15,
   "metadata": {
    "scrolled": true
   },
   "outputs": [
    {
     "name": "stdout",
     "output_type": "stream",
     "text": [
      "Лучшая доля правильных ответов 0.8009331259720062\n",
      "Глубина дерева 6\n",
      "Минимальное количество образцов для разделения внутреннего узла 22\n",
      "Критерий оценки качества разделения entropy\n"
     ]
    }
   ],
   "source": [
    "first_accuracy = 0\n",
    "for depth in range(1, est_max_depth + 1):\n",
    "    for sample_n in range(2, 100, 5):\n",
    "        for criterion in ['gini', 'entropy']:\n",
    "            first_model = tree.DecisionTreeClassifier(random_state=12345, max_depth=depth, min_samples_split=sample_n, criterion=criterion)\n",
    "            first_model.fit(features_train, target_train)\n",
    "            answer = first_model.predict(features_valid)\n",
    "            accuracy = accuracy_score(target_valid, answer)\n",
    "            if accuracy > first_accuracy:\n",
    "                first_accuracy = accuracy\n",
    "                best_depth = depth\n",
    "                best_first_model = first_model\n",
    "                best_sample_n = sample_n\n",
    "                best_criterion = criterion\n",
    "print('Лучшая доля правильных ответов', first_accuracy)\n",
    "print('Глубина дерева', best_depth)\n",
    "print('Минимальное количество образцов для разделения внутреннего узла', best_sample_n)\n",
    "print('Критерий оценки качества разделения', best_criterion)"
   ]
  },
  {
   "cell_type": "markdown",
   "metadata": {},
   "source": [
    "Попробуем также подобрать лучшие гиперпараметры с помощью поиска по сетке."
   ]
  },
  {
   "cell_type": "code",
   "execution_count": 16,
   "metadata": {
    "scrolled": true
   },
   "outputs": [
    {
     "name": "stdout",
     "output_type": "stream",
     "text": [
      "tuned hyperparameters :(best parameters)  {'criterion': 'entropy', 'max_depth': 8, 'min_samples_split': 92}\n",
      "accuracy : 0.8143153526970954\n"
     ]
    }
   ],
   "source": [
    "grid={\"max_depth\":range(1, est_max_depth+1), \"min_samples_split\":range(2, 100 ,5), \"criterion\":['gini', 'entropy']}\n",
    "first_model=tree.DecisionTreeClassifier(random_state=12345)\n",
    "first_model_cv=GridSearchCV(first_model,grid,cv=10, scoring = 'accuracy')\n",
    "first_model_cv.fit(features_train,target_train)\n",
    "\n",
    "print(\"tuned hyperparameters :(best parameters) \",first_model_cv.best_params_)\n",
    "print(\"accuracy :\",first_model_cv.best_score_)"
   ]
  },
  {
   "cell_type": "markdown",
   "metadata": {},
   "source": [
    "Результат получился немного другой и доля правильных ответов для такой модели выше."
   ]
  },
  {
   "cell_type": "markdown",
   "metadata": {},
   "source": [
    "### Случайный лес"
   ]
  },
  {
   "cell_type": "markdown",
   "metadata": {},
   "source": [
    "Вторую модель будем обучать алгоритмом случайный лес."
   ]
  },
  {
   "cell_type": "code",
   "execution_count": 17,
   "metadata": {
    "scrolled": true
   },
   "outputs": [
    {
     "data": {
      "text/plain": [
       "RandomForestClassifier(bootstrap=True, class_weight=None, criterion='gini',\n",
       "                       max_depth=None, max_features='auto', max_leaf_nodes=None,\n",
       "                       min_impurity_decrease=0.0, min_impurity_split=None,\n",
       "                       min_samples_leaf=1, min_samples_split=2,\n",
       "                       min_weight_fraction_leaf=0.0, n_estimators=10,\n",
       "                       n_jobs=None, oob_score=False, random_state=12345,\n",
       "                       verbose=0, warm_start=False)"
      ]
     },
     "execution_count": 17,
     "metadata": {},
     "output_type": "execute_result"
    }
   ],
   "source": [
    "second_model = RandomForestClassifier(random_state=12345)\n",
    "second_model.fit(features_train, target_train)"
   ]
  },
  {
   "cell_type": "code",
   "execution_count": 18,
   "metadata": {},
   "outputs": [
    {
     "name": "stdout",
     "output_type": "stream",
     "text": [
      "Доля правильных ответов 0.7869362363919129\n"
     ]
    }
   ],
   "source": [
    "answer = second_model.predict(features_valid)\n",
    "print('Доля правильных ответов', accuracy_score(target_valid, answer))"
   ]
  },
  {
   "cell_type": "markdown",
   "metadata": {},
   "source": [
    "Теперь обучим модели с разной максимальной глубиной и количеством деревьев, оценим качество каждой из них по доле правильных ответов и выберем лучшую модель."
   ]
  },
  {
   "cell_type": "code",
   "execution_count": 19,
   "metadata": {
    "scrolled": false
   },
   "outputs": [
    {
     "name": "stdout",
     "output_type": "stream",
     "text": [
      "Лучшая доля правильных ответов 0.8009331259720062\n",
      "Глубина дерева 9\n",
      "Количество деревьев 81\n"
     ]
    }
   ],
   "source": [
    "second_accuracy = 0\n",
    "for depth in range(1, est_max_depth + 1):\n",
    "    for est in range(1, 101, 10):\n",
    "        second_model = RandomForestClassifier(random_state=12345, max_depth=depth, n_estimators=est)\n",
    "        second_model.fit(features_train, target_train)\n",
    "        answer = second_model.predict(features_valid)\n",
    "        accuracy = accuracy_score(target_valid, answer)\n",
    "        if accuracy > second_accuracy:\n",
    "            second_accuracy = accuracy\n",
    "            best_depth = depth\n",
    "            best_second_model = second_model\n",
    "            best_n_est = est\n",
    "print('Лучшая доля правильных ответов', second_accuracy)\n",
    "print('Глубина дерева',best_depth)\n",
    "print('Количество деревьев', best_n_est)"
   ]
  },
  {
   "cell_type": "markdown",
   "metadata": {},
   "source": [
    "Попробуем также подобрать лучшие гиперпараметры с помощью поиска по сетке."
   ]
  },
  {
   "cell_type": "code",
   "execution_count": 20,
   "metadata": {
    "scrolled": true
   },
   "outputs": [
    {
     "name": "stdout",
     "output_type": "stream",
     "text": [
      "tuned hyperparameters :(best parameters)  {'max_depth': 8, 'n_estimators': 61}\n",
      "accuracy : 0.8220954356846473\n"
     ]
    }
   ],
   "source": [
    "grid={\"max_depth\":range(1, est_max_depth+1), \"n_estimators\":range(1, 101, 10)}\n",
    "second_model=RandomForestClassifier(random_state=12345)\n",
    "second_model_cv=GridSearchCV(second_model,grid,cv=10, scoring = 'accuracy')\n",
    "second_model_cv.fit(features_train,target_train)\n",
    "\n",
    "print(\"tuned hyperparameters :(best parameters) \",second_model_cv.best_params_)\n",
    "print(\"accuracy :\",second_model_cv.best_score_)"
   ]
  },
  {
   "cell_type": "markdown",
   "metadata": {},
   "source": [
    "Поиск по сетке еще улучшил результат модели."
   ]
  },
  {
   "cell_type": "markdown",
   "metadata": {},
   "source": [
    "### Логистическая регрессия"
   ]
  },
  {
   "cell_type": "markdown",
   "metadata": {},
   "source": [
    "Третью модель обучим с помощью алгоритма логистической регрессии."
   ]
  },
  {
   "cell_type": "code",
   "execution_count": 21,
   "metadata": {},
   "outputs": [
    {
     "data": {
      "text/plain": [
       "LogisticRegression(C=1.0, class_weight=None, dual=False, fit_intercept=True,\n",
       "                   intercept_scaling=1, l1_ratio=None, max_iter=100,\n",
       "                   multi_class='warn', n_jobs=None, penalty='l2',\n",
       "                   random_state=12345, solver='warn', tol=0.0001, verbose=0,\n",
       "                   warm_start=False)"
      ]
     },
     "execution_count": 21,
     "metadata": {},
     "output_type": "execute_result"
    }
   ],
   "source": [
    "third_model = LogisticRegression(random_state=12345)\n",
    "third_model.fit(features_train, target_train)"
   ]
  },
  {
   "cell_type": "code",
   "execution_count": 22,
   "metadata": {
    "scrolled": false
   },
   "outputs": [
    {
     "name": "stdout",
     "output_type": "stream",
     "text": [
      "Доля правильных ответов 0.702954898911353\n"
     ]
    }
   ],
   "source": [
    "answer = third_model.predict(features_valid)\n",
    "third_accuracy = accuracy_score(target_valid, answer)\n",
    "print('Доля правильных ответов', third_accuracy)"
   ]
  },
  {
   "cell_type": "markdown",
   "metadata": {},
   "source": [
    "Попробуем увеличить долю правильных ответов нормализовав исходные данные."
   ]
  },
  {
   "cell_type": "code",
   "execution_count": 23,
   "metadata": {},
   "outputs": [],
   "source": [
    "scaler = MinMaxScaler(feature_range = (0,1))\n",
    "\n",
    "scaler.fit(features_train)\n",
    "features_train_norm = scaler.transform(features_train)\n",
    "features_valid_norm = scaler.transform(features_valid)"
   ]
  },
  {
   "cell_type": "code",
   "execution_count": 24,
   "metadata": {},
   "outputs": [
    {
     "data": {
      "text/plain": [
       "LogisticRegression(C=1.0, class_weight=None, dual=False, fit_intercept=True,\n",
       "                   intercept_scaling=1, l1_ratio=None, max_iter=100,\n",
       "                   multi_class='warn', n_jobs=None, penalty='l2',\n",
       "                   random_state=12345, solver='warn', tol=0.0001, verbose=0,\n",
       "                   warm_start=False)"
      ]
     },
     "execution_count": 24,
     "metadata": {},
     "output_type": "execute_result"
    }
   ],
   "source": [
    "third_model.fit(features_train_norm, target_train)"
   ]
  },
  {
   "cell_type": "code",
   "execution_count": 25,
   "metadata": {},
   "outputs": [
    {
     "name": "stdout",
     "output_type": "stream",
     "text": [
      "Доля правильных ответов 0.7527216174183515\n"
     ]
    }
   ],
   "source": [
    "answer = third_model.predict(features_valid_norm)\n",
    "third_accuracy = accuracy_score(target_valid, answer)\n",
    "print('Доля правильных ответов', third_accuracy)"
   ]
  },
  {
   "cell_type": "markdown",
   "metadata": {},
   "source": [
    "Доля правильных ответов увеличилась. Теперь попробуем вручную подобрать параметр С, посмотрим, как он влияет на качество модели."
   ]
  },
  {
   "cell_type": "code",
   "execution_count": 26,
   "metadata": {},
   "outputs": [
    {
     "name": "stdout",
     "output_type": "stream",
     "text": [
      "Лучшая доля правильных ответов 0.7589424572317263\n",
      "Лучший параметр С 10\n"
     ]
    }
   ],
   "source": [
    "C_param_range = [0.001,0.01,0.1,1,10,100]\n",
    "for i in C_param_range:\n",
    "    third_model = LogisticRegression(random_state=12345, C = i)\n",
    "    third_model.fit(features_train_norm, target_train)\n",
    "    answer = third_model.predict(features_valid_norm)\n",
    "    accuracy = accuracy_score(target_valid, answer)\n",
    "    if accuracy > third_accuracy:\n",
    "        third_accuracy = accuracy\n",
    "        best_c = i\n",
    "        best_third_model = third_model\n",
    "print('Лучшая доля правильных ответов', third_accuracy)\n",
    "print('Лучший параметр С', best_c)"
   ]
  },
  {
   "cell_type": "markdown",
   "metadata": {},
   "source": [
    "Доля правильных ответов еще немного увеличилась. Она перешла необходимый минимум в 0.75, однако данная модель все еще показывает худшие результаты, чем первые две."
   ]
  },
  {
   "cell_type": "markdown",
   "metadata": {},
   "source": [
    "Попробуем также подобрать лучшие гиперпараметры с помощью поиска по сетке."
   ]
  },
  {
   "cell_type": "code",
   "execution_count": 27,
   "metadata": {},
   "outputs": [
    {
     "name": "stdout",
     "output_type": "stream",
     "text": [
      "tuned hyperparameters :(best parameters)  {'C': 10.0, 'penalty': 'l1'}\n",
      "accuracy : 0.7505186721991701\n"
     ]
    }
   ],
   "source": [
    "grid={\"C\":np.logspace(-3,3,7), \"penalty\":[\"l1\",\"l2\"]}# l1 lasso l2 ridge\n",
    "logreg=LogisticRegression(random_state=12345)\n",
    "logreg_cv=GridSearchCV(logreg,grid,cv=10, scoring = 'accuracy')\n",
    "logreg_cv.fit(features_train_norm,target_train)\n",
    "\n",
    "print(\"tuned hyperparameters :(best parameters) \",logreg_cv.best_params_)\n",
    "print(\"accuracy :\",logreg_cv.best_score_)"
   ]
  },
  {
   "cell_type": "markdown",
   "metadata": {},
   "source": [
    "Для логистической регрессии поиск по сетке не улучшил результат."
   ]
  },
  {
   "cell_type": "markdown",
   "metadata": {},
   "source": [
    "### Вывод"
   ]
  },
  {
   "cell_type": "markdown",
   "metadata": {},
   "source": [
    "Модель на алгоритме случайного леса показала самую высокую долю правильных ответов, модель на алгоритме дерева решений попала на второе место, а логистическая регрессия оказалась на третьем месте."
   ]
  },
  {
   "cell_type": "markdown",
   "metadata": {},
   "source": [
    "## Проверьте модель на тестовой выборке"
   ]
  },
  {
   "cell_type": "markdown",
   "metadata": {},
   "source": [
    "Проверим лучшую модель на тестовой выборке."
   ]
  },
  {
   "cell_type": "code",
   "execution_count": 35,
   "metadata": {},
   "outputs": [
    {
     "name": "stdout",
     "output_type": "stream",
     "text": [
      "Доля правильных ответов второй модели 0.7822706065318819\n"
     ]
    }
   ],
   "source": [
    "answer = second_model_cv.predict(features_test)\n",
    "print('Доля правильных ответов второй модели', accuracy_score(target_test, answer))"
   ]
  },
  {
   "cell_type": "markdown",
   "metadata": {},
   "source": [
    "Доля правильных ответов модели на тестовой выборке немного ниже доли правильных ответов на валидационной выборке."
   ]
  },
  {
   "cell_type": "markdown",
   "metadata": {},
   "source": [
    "## (бонус) Проверьте модели на адекватность"
   ]
  },
  {
   "cell_type": "markdown",
   "metadata": {},
   "source": [
    "Для проверки на адекватность сравним нашу модель со случайной. Получим ее с помощью алгоритма DummyClassifier из библиотеки sklearn. Посмотрим, каково соотношение классов в в целевом признаке, чтобы выбрать нужную стратегию для генерации случайной модели."
   ]
  },
  {
   "cell_type": "code",
   "execution_count": 31,
   "metadata": {},
   "outputs": [
    {
     "data": {
      "text/plain": [
       "0    0.694502\n",
       "1    0.305498\n",
       "Name: is_ultra, dtype: float64"
      ]
     },
     "execution_count": 31,
     "metadata": {},
     "output_type": "execute_result"
    }
   ],
   "source": [
    "target_train.value_counts(normalize=True)"
   ]
  },
  {
   "cell_type": "markdown",
   "metadata": {},
   "source": [
    "Соотношение классов очень неравное. Зададим параметр strategy='most_frequent', что значит, что ответ будет состоять только из преобладающего в целевом признаке класса."
   ]
  },
  {
   "cell_type": "code",
   "execution_count": 32,
   "metadata": {},
   "outputs": [
    {
     "name": "stdout",
     "output_type": "stream",
     "text": [
      "Доля правильных ответов случайной модели 0.6889580093312597\n"
     ]
    }
   ],
   "source": [
    "dummy_clf = DummyClassifier(strategy='most_frequent', random_state=12345)\n",
    "dummy_clf.fit(features_train, target_train)\n",
    "dummy_answer = dummy_clf.predict(features_test)\n",
    "dummy_accuracy = accuracy_score(target_test, dummy_answer)\n",
    "print('Доля правильных ответов случайной модели', dummy_accuracy)"
   ]
  },
  {
   "cell_type": "markdown",
   "metadata": {},
   "source": [
    "Сравним наши модели со случайной."
   ]
  },
  {
   "cell_type": "code",
   "execution_count": 36,
   "metadata": {},
   "outputs": [
    {
     "name": "stdout",
     "output_type": "stream",
     "text": [
      "Модель адекватна\n",
      "Модель адекватна\n",
      "Модель адекватна\n"
     ]
    }
   ],
   "source": [
    "for i in [first_model_cv.best_score_, second_model_cv.best_score_, third_accuracy]:\n",
    "    if i < dummy_accuracy:\n",
    "        print('Модель неадекватна!')\n",
    "    else:\n",
    "        print('Модель адекватна')"
   ]
  },
  {
   "cell_type": "markdown",
   "metadata": {},
   "source": [
    "Все три модели прошли проверку на адекватность."
   ]
  },
  {
   "cell_type": "markdown",
   "metadata": {},
   "source": [
    "## Вывод"
   ]
  },
  {
   "cell_type": "markdown",
   "metadata": {},
   "source": [
    "Мы разбили данные на три выборки - обучающую, валидационную и тестовую. На них проверили модели обученные на трех алгоритмах - дерево решений, случайный лес и логистическая регрессия.\n",
    "\n",
    "Для алгоритма дерево решений мы подобрали лучшие варианты для следующих гиперпараметров - максимальной глубины (6), минимального количества образцов для разделения внутреннего узла (22) и критерия оценки качества разделения (entropy).\n",
    "\n",
    "Для алгоритма случайный лес мы подобрали лучшие варианты для следующих гиперпараметров - максимальной глубины (9), количества деревьев (81).\n",
    "\n",
    "Для алгоритма случайная регрессия мы подобрали лучший вариант параметра С (10) и нормализовали данные для того чтобы увеличить точность.\n",
    "\n",
    "После подбора наилучших гиперпараметров лучшие показатели доли правильных ответов показали первая и вторая модель. Мы проверили их на тестовой выборке и дерево решений показало лучший результат. \n",
    "\n",
    "Дополнительно сделали проверку на адекватность всех моделей. Все они прошли проверку."
   ]
  },
  {
   "cell_type": "markdown",
   "metadata": {},
   "source": [
    "Поставьте 'x' в выполненных пунктах. Далее нажмите Shift+Enter."
   ]
  },
  {
   "cell_type": "markdown",
   "metadata": {},
   "source": [
    "- [x] Jupyter Notebook открыт\n",
    "- [ ] Весь код исполняется без ошибок\n",
    "- [ ] Ячейки с кодом расположены в порядке исполнения\n",
    "- [ ] Выполнено задание 1: данные загружены и изучены\n",
    "- [ ] Выполнено задание 2: данные разбиты на три выборки\n",
    "- [ ] Выполнено задание 3: проведено исследование моделей\n",
    "    - [ ] Рассмотрено больше одной модели\n",
    "    - [ ] Рассмотрено хотя бы 3 значения гипепараметров для какой-нибудь модели\n",
    "    - [ ] Написаны выводы по результатам исследования\n",
    "- [ ] Выполнено задание 3: Проведено тестирование\n",
    "- [ ] Удалось достичь accuracy не меньше 0.75\n"
   ]
  }
 ],
 "metadata": {
  "ExecuteTimeLog": [
   {
    "duration": 702,
    "start_time": "2022-01-25T11:41:58.417Z"
   },
   {
    "duration": 20,
    "start_time": "2022-01-25T11:42:00.440Z"
   },
   {
    "duration": 10,
    "start_time": "2022-01-25T11:42:09.164Z"
   },
   {
    "duration": 23,
    "start_time": "2022-01-25T11:42:25.667Z"
   },
   {
    "duration": 931,
    "start_time": "2022-01-25T11:43:42.434Z"
   },
   {
    "duration": 3,
    "start_time": "2022-01-25T11:43:51.412Z"
   },
   {
    "duration": 5,
    "start_time": "2022-01-25T11:46:05.968Z"
   },
   {
    "duration": 8,
    "start_time": "2022-01-25T11:46:06.756Z"
   },
   {
    "duration": 8,
    "start_time": "2022-01-25T11:53:04.468Z"
   },
   {
    "duration": 8,
    "start_time": "2022-01-25T12:03:39.687Z"
   },
   {
    "duration": 7,
    "start_time": "2022-01-25T12:03:40.081Z"
   },
   {
    "duration": 295,
    "start_time": "2022-01-25T12:04:00.352Z"
   },
   {
    "duration": 18,
    "start_time": "2022-01-25T12:04:08.050Z"
   },
   {
    "duration": 6,
    "start_time": "2022-01-25T12:04:20.782Z"
   },
   {
    "duration": 5,
    "start_time": "2022-01-25T12:04:45.276Z"
   },
   {
    "duration": 6,
    "start_time": "2022-01-25T12:04:56.012Z"
   },
   {
    "duration": 7,
    "start_time": "2022-01-25T12:05:52.089Z"
   },
   {
    "duration": 7,
    "start_time": "2022-01-25T12:05:52.653Z"
   },
   {
    "duration": 5,
    "start_time": "2022-01-25T12:05:53.149Z"
   },
   {
    "duration": 7,
    "start_time": "2022-01-25T12:05:53.614Z"
   },
   {
    "duration": 10,
    "start_time": "2022-01-25T12:06:38.309Z"
   },
   {
    "duration": 7,
    "start_time": "2022-01-25T12:06:38.771Z"
   },
   {
    "duration": 5,
    "start_time": "2022-01-25T12:06:39.291Z"
   },
   {
    "duration": 6,
    "start_time": "2022-01-25T12:06:39.819Z"
   },
   {
    "duration": 6,
    "start_time": "2022-01-25T12:06:40.371Z"
   },
   {
    "duration": 6,
    "start_time": "2022-01-25T12:09:01.142Z"
   },
   {
    "duration": 6,
    "start_time": "2022-01-25T12:09:08.081Z"
   },
   {
    "duration": 5,
    "start_time": "2022-01-25T12:09:11.998Z"
   },
   {
    "duration": 5,
    "start_time": "2022-01-25T12:09:26.292Z"
   },
   {
    "duration": 5,
    "start_time": "2022-01-25T12:09:30.199Z"
   },
   {
    "duration": 5,
    "start_time": "2022-01-25T12:09:34.011Z"
   },
   {
    "duration": 286,
    "start_time": "2022-01-25T12:10:44.841Z"
   },
   {
    "duration": 6,
    "start_time": "2022-01-25T12:10:56.060Z"
   },
   {
    "duration": 5,
    "start_time": "2022-01-25T12:11:09.289Z"
   },
   {
    "duration": 5,
    "start_time": "2022-01-25T12:11:16.408Z"
   },
   {
    "duration": 5,
    "start_time": "2022-01-25T12:12:01.669Z"
   },
   {
    "duration": 4,
    "start_time": "2022-01-25T12:12:20.516Z"
   },
   {
    "duration": 5,
    "start_time": "2022-01-25T12:12:24.756Z"
   },
   {
    "duration": 5,
    "start_time": "2022-01-25T12:12:49.811Z"
   },
   {
    "duration": 4,
    "start_time": "2022-01-25T12:13:01.137Z"
   },
   {
    "duration": 88,
    "start_time": "2022-01-25T12:14:13.397Z"
   },
   {
    "duration": 81,
    "start_time": "2022-01-25T12:14:54.742Z"
   },
   {
    "duration": 87,
    "start_time": "2022-01-25T12:14:59.627Z"
   },
   {
    "duration": 5,
    "start_time": "2022-01-25T12:15:09.084Z"
   },
   {
    "duration": 5,
    "start_time": "2022-01-25T12:15:13.010Z"
   },
   {
    "duration": 5,
    "start_time": "2022-01-25T12:15:45.120Z"
   },
   {
    "duration": 5,
    "start_time": "2022-01-25T12:15:45.412Z"
   },
   {
    "duration": 5,
    "start_time": "2022-01-25T12:15:45.698Z"
   },
   {
    "duration": 49,
    "start_time": "2022-01-25T12:23:52.595Z"
   },
   {
    "duration": 5,
    "start_time": "2022-01-25T12:30:37.311Z"
   },
   {
    "duration": 20,
    "start_time": "2022-01-25T12:34:28.989Z"
   },
   {
    "duration": 7,
    "start_time": "2022-01-25T12:35:14.423Z"
   },
   {
    "duration": 278,
    "start_time": "2022-01-25T12:38:16.037Z"
   },
   {
    "duration": 5,
    "start_time": "2022-01-25T12:38:30.769Z"
   },
   {
    "duration": 19,
    "start_time": "2022-01-25T12:38:36.695Z"
   },
   {
    "duration": 6,
    "start_time": "2022-01-25T12:38:37.716Z"
   },
   {
    "duration": 27838,
    "start_time": "2022-01-25T12:38:38.243Z"
   },
   {
    "duration": 5,
    "start_time": "2022-01-25T12:54:00.031Z"
   },
   {
    "duration": 5,
    "start_time": "2022-01-25T12:54:56.712Z"
   },
   {
    "duration": 18,
    "start_time": "2022-01-25T12:59:08.867Z"
   },
   {
    "duration": 5,
    "start_time": "2022-01-25T12:59:11.062Z"
   },
   {
    "duration": 5,
    "start_time": "2022-01-25T12:59:11.491Z"
   },
   {
    "duration": 299,
    "start_time": "2022-01-25T13:29:52.676Z"
   },
   {
    "duration": 1750,
    "start_time": "2022-01-25T13:30:02.589Z"
   },
   {
    "duration": 26,
    "start_time": "2022-01-25T13:30:04.344Z"
   },
   {
    "duration": 16,
    "start_time": "2022-01-25T13:30:04.375Z"
   },
   {
    "duration": 44,
    "start_time": "2022-01-25T13:30:04.396Z"
   },
   {
    "duration": 32,
    "start_time": "2022-01-25T13:30:04.444Z"
   },
   {
    "duration": 11,
    "start_time": "2022-01-25T13:30:04.479Z"
   },
   {
    "duration": 13,
    "start_time": "2022-01-25T13:30:04.492Z"
   },
   {
    "duration": 9,
    "start_time": "2022-01-25T13:30:04.509Z"
   },
   {
    "duration": 23,
    "start_time": "2022-01-25T13:30:04.521Z"
   },
   {
    "duration": 7,
    "start_time": "2022-01-25T13:30:04.546Z"
   },
   {
    "duration": 23,
    "start_time": "2022-01-25T13:30:04.570Z"
   },
   {
    "duration": 5,
    "start_time": "2022-01-25T13:30:04.595Z"
   },
   {
    "duration": 6,
    "start_time": "2022-01-25T13:30:04.603Z"
   },
   {
    "duration": 432,
    "start_time": "2022-01-25T13:30:04.612Z"
   },
   {
    "duration": 4,
    "start_time": "2022-01-25T13:30:56.161Z"
   },
   {
    "duration": 279,
    "start_time": "2022-01-25T13:30:57.291Z"
   },
   {
    "duration": 4,
    "start_time": "2022-01-25T13:31:18.110Z"
   },
   {
    "duration": 298,
    "start_time": "2022-01-25T13:31:22.971Z"
   },
   {
    "duration": 1410,
    "start_time": "2022-01-25T13:38:31.217Z"
   },
   {
    "duration": 20,
    "start_time": "2022-01-25T13:38:32.630Z"
   },
   {
    "duration": 18,
    "start_time": "2022-01-25T13:38:32.653Z"
   },
   {
    "duration": 29,
    "start_time": "2022-01-25T13:38:32.673Z"
   },
   {
    "duration": 5,
    "start_time": "2022-01-25T13:38:32.705Z"
   },
   {
    "duration": 11,
    "start_time": "2022-01-25T13:38:32.713Z"
   },
   {
    "duration": 9,
    "start_time": "2022-01-25T13:38:32.726Z"
   },
   {
    "duration": 34,
    "start_time": "2022-01-25T13:38:32.738Z"
   },
   {
    "duration": 28,
    "start_time": "2022-01-25T13:38:32.774Z"
   },
   {
    "duration": 14,
    "start_time": "2022-01-25T13:38:32.804Z"
   },
   {
    "duration": 22,
    "start_time": "2022-01-25T13:38:32.821Z"
   },
   {
    "duration": 6,
    "start_time": "2022-01-25T13:38:32.846Z"
   },
   {
    "duration": 5,
    "start_time": "2022-01-25T13:38:32.870Z"
   },
   {
    "duration": 332,
    "start_time": "2022-01-25T13:38:32.877Z"
   },
   {
    "duration": 18,
    "start_time": "2022-01-25T13:38:33.212Z"
   },
   {
    "duration": 421,
    "start_time": "2022-01-25T13:39:04.702Z"
   },
   {
    "duration": 65,
    "start_time": "2022-01-25T13:39:12.363Z"
   },
   {
    "duration": 635102,
    "start_time": "2022-01-25T13:43:39.882Z"
   },
   {
    "duration": 1398,
    "start_time": "2022-01-25T13:54:39.521Z"
   },
   {
    "duration": 24,
    "start_time": "2022-01-25T13:54:40.922Z"
   },
   {
    "duration": 9,
    "start_time": "2022-01-25T13:54:40.950Z"
   },
   {
    "duration": 28,
    "start_time": "2022-01-25T13:54:40.962Z"
   },
   {
    "duration": 8,
    "start_time": "2022-01-25T13:54:40.992Z"
   },
   {
    "duration": 9,
    "start_time": "2022-01-25T13:54:41.002Z"
   },
   {
    "duration": 7,
    "start_time": "2022-01-25T13:54:41.014Z"
   },
   {
    "duration": 45,
    "start_time": "2022-01-25T13:54:41.025Z"
   },
   {
    "duration": 10,
    "start_time": "2022-01-25T13:54:41.072Z"
   },
   {
    "duration": 5,
    "start_time": "2022-01-25T13:54:41.085Z"
   },
   {
    "duration": 22,
    "start_time": "2022-01-25T13:54:41.092Z"
   },
   {
    "duration": 5,
    "start_time": "2022-01-25T13:54:41.116Z"
   },
   {
    "duration": 346,
    "start_time": "2022-01-25T13:54:41.124Z"
   },
   {
    "duration": 63,
    "start_time": "2022-01-25T13:54:41.473Z"
   },
   {
    "duration": 68445,
    "start_time": "2022-01-25T13:54:41.538Z"
   },
   {
    "duration": 69092,
    "start_time": "2022-01-25T13:57:54.157Z"
   },
   {
    "duration": 26,
    "start_time": "2022-01-25T14:05:33.915Z"
   },
   {
    "duration": 5,
    "start_time": "2022-01-25T14:05:35.032Z"
   },
   {
    "duration": 304,
    "start_time": "2022-01-25T14:07:10.736Z"
   },
   {
    "duration": 60212,
    "start_time": "2022-01-25T14:07:55.324Z"
   },
   {
    "duration": 11,
    "start_time": "2022-01-25T14:08:55.912Z"
   },
   {
    "duration": 19,
    "start_time": "2022-01-25T14:08:57.818Z"
   },
   {
    "duration": 10,
    "start_time": "2022-01-25T14:08:58.740Z"
   },
   {
    "duration": 6,
    "start_time": "2022-01-25T14:08:59.383Z"
   },
   {
    "duration": 33,
    "start_time": "2022-01-25T14:09:27.614Z"
   },
   {
    "duration": 95,
    "start_time": "2022-01-25T14:10:02.452Z"
   },
   {
    "duration": 8,
    "start_time": "2022-01-25T14:10:05.252Z"
   },
   {
    "duration": 30,
    "start_time": "2022-01-25T14:10:19.652Z"
   },
   {
    "duration": 451,
    "start_time": "2022-01-25T14:11:08.572Z"
   },
   {
    "duration": 17,
    "start_time": "2022-01-25T14:11:12.550Z"
   },
   {
    "duration": 7,
    "start_time": "2022-01-25T14:11:14.310Z"
   },
   {
    "duration": 17,
    "start_time": "2022-01-25T14:11:24.172Z"
   },
   {
    "duration": 7,
    "start_time": "2022-01-25T14:11:25.162Z"
   },
   {
    "duration": 17,
    "start_time": "2022-01-25T14:11:28.360Z"
   },
   {
    "duration": 7,
    "start_time": "2022-01-25T14:11:28.972Z"
   },
   {
    "duration": 288,
    "start_time": "2022-01-25T14:18:28.642Z"
   },
   {
    "duration": 31,
    "start_time": "2022-01-25T14:18:35.349Z"
   },
   {
    "duration": 31,
    "start_time": "2022-01-25T14:19:51.608Z"
   },
   {
    "duration": 4,
    "start_time": "2022-01-25T14:43:59.372Z"
   },
   {
    "duration": 8,
    "start_time": "2022-01-25T14:46:59.843Z"
   },
   {
    "duration": 8,
    "start_time": "2022-01-25T14:52:35.215Z"
   },
   {
    "duration": 8,
    "start_time": "2022-01-25T14:53:08.322Z"
   },
   {
    "duration": 284,
    "start_time": "2022-01-25T14:58:24.717Z"
   },
   {
    "duration": 1366,
    "start_time": "2022-01-25T14:58:32.167Z"
   },
   {
    "duration": 21,
    "start_time": "2022-01-25T14:58:33.535Z"
   },
   {
    "duration": 12,
    "start_time": "2022-01-25T14:58:33.559Z"
   },
   {
    "duration": 23,
    "start_time": "2022-01-25T14:58:33.574Z"
   },
   {
    "duration": 5,
    "start_time": "2022-01-25T14:58:33.599Z"
   },
   {
    "duration": 9,
    "start_time": "2022-01-25T14:58:33.607Z"
   },
   {
    "duration": 9,
    "start_time": "2022-01-25T14:58:33.618Z"
   },
   {
    "duration": 40,
    "start_time": "2022-01-25T14:58:33.630Z"
   },
   {
    "duration": 5,
    "start_time": "2022-01-25T14:58:33.674Z"
   },
   {
    "duration": 20,
    "start_time": "2022-01-25T14:58:33.682Z"
   },
   {
    "duration": 27,
    "start_time": "2022-01-25T14:58:33.704Z"
   },
   {
    "duration": 7,
    "start_time": "2022-01-25T14:58:33.733Z"
   },
   {
    "duration": 27,
    "start_time": "2022-01-25T14:58:33.743Z"
   },
   {
    "duration": 335,
    "start_time": "2022-01-25T14:58:33.772Z"
   },
   {
    "duration": 74,
    "start_time": "2022-01-25T14:58:34.109Z"
   },
   {
    "duration": 10,
    "start_time": "2022-01-25T14:58:34.185Z"
   },
   {
    "duration": 64243,
    "start_time": "2022-01-25T14:58:34.197Z"
   },
   {
    "duration": 32,
    "start_time": "2022-01-25T14:59:38.442Z"
   },
   {
    "duration": 8,
    "start_time": "2022-01-25T14:59:38.477Z"
   },
   {
    "duration": 32,
    "start_time": "2022-01-25T14:59:38.487Z"
   },
   {
    "duration": 8,
    "start_time": "2022-01-25T14:59:38.522Z"
   },
   {
    "duration": 4,
    "start_time": "2022-01-25T14:59:38.569Z"
   },
   {
    "duration": 6,
    "start_time": "2022-01-25T15:01:13.929Z"
   },
   {
    "duration": 298,
    "start_time": "2022-01-25T15:05:43.402Z"
   },
   {
    "duration": 60106,
    "start_time": "2022-01-25T15:06:02.329Z"
   },
   {
    "duration": 1082,
    "start_time": "2022-01-26T06:53:56.359Z"
   },
   {
    "duration": 19,
    "start_time": "2022-01-26T06:53:57.443Z"
   },
   {
    "duration": 7,
    "start_time": "2022-01-26T06:53:57.465Z"
   },
   {
    "duration": 24,
    "start_time": "2022-01-26T06:53:57.474Z"
   },
   {
    "duration": 7,
    "start_time": "2022-01-26T06:53:57.500Z"
   },
   {
    "duration": 11,
    "start_time": "2022-01-26T06:53:57.509Z"
   },
   {
    "duration": 7,
    "start_time": "2022-01-26T06:53:57.521Z"
   },
   {
    "duration": 6,
    "start_time": "2022-01-26T06:53:57.530Z"
   },
   {
    "duration": 4,
    "start_time": "2022-01-26T06:53:57.539Z"
   },
   {
    "duration": 7,
    "start_time": "2022-01-26T06:53:57.545Z"
   },
   {
    "duration": 20,
    "start_time": "2022-01-26T06:53:57.554Z"
   },
   {
    "duration": 23,
    "start_time": "2022-01-26T06:53:57.576Z"
   },
   {
    "duration": 5,
    "start_time": "2022-01-26T06:53:57.600Z"
   },
   {
    "duration": 226,
    "start_time": "2022-01-26T06:53:57.606Z"
   },
   {
    "duration": 44,
    "start_time": "2022-01-26T06:53:57.833Z"
   },
   {
    "duration": 20,
    "start_time": "2022-01-26T06:53:57.878Z"
   },
   {
    "duration": 38601,
    "start_time": "2022-01-26T06:53:57.900Z"
   },
   {
    "duration": 12,
    "start_time": "2022-01-26T06:54:36.503Z"
   },
   {
    "duration": 12,
    "start_time": "2022-01-26T06:54:36.517Z"
   },
   {
    "duration": 25,
    "start_time": "2022-01-26T06:54:36.531Z"
   },
   {
    "duration": 6,
    "start_time": "2022-01-26T06:54:36.558Z"
   },
   {
    "duration": 11,
    "start_time": "2022-01-26T06:54:36.565Z"
   },
   {
    "duration": 306,
    "start_time": "2022-01-26T13:18:20.096Z"
   },
   {
    "duration": 1131,
    "start_time": "2022-01-26T13:18:27.695Z"
   },
   {
    "duration": 1008,
    "start_time": "2022-01-26T13:18:37.539Z"
   },
   {
    "duration": 18,
    "start_time": "2022-01-26T13:18:38.549Z"
   },
   {
    "duration": 6,
    "start_time": "2022-01-26T13:18:38.569Z"
   },
   {
    "duration": 20,
    "start_time": "2022-01-26T13:18:38.577Z"
   },
   {
    "duration": 4,
    "start_time": "2022-01-26T13:18:38.599Z"
   },
   {
    "duration": 7,
    "start_time": "2022-01-26T13:18:38.604Z"
   },
   {
    "duration": 6,
    "start_time": "2022-01-26T13:18:38.613Z"
   },
   {
    "duration": 4,
    "start_time": "2022-01-26T13:18:38.621Z"
   },
   {
    "duration": 7,
    "start_time": "2022-01-26T13:18:38.627Z"
   },
   {
    "duration": 17,
    "start_time": "2022-01-26T13:18:38.636Z"
   },
   {
    "duration": 17,
    "start_time": "2022-01-26T13:18:38.655Z"
   },
   {
    "duration": 27,
    "start_time": "2022-01-26T13:18:38.674Z"
   },
   {
    "duration": 4,
    "start_time": "2022-01-26T13:18:38.703Z"
   },
   {
    "duration": 231,
    "start_time": "2022-01-26T13:18:38.708Z"
   },
   {
    "duration": 59,
    "start_time": "2022-01-26T13:18:38.941Z"
   },
   {
    "duration": 7,
    "start_time": "2022-01-26T13:18:39.002Z"
   },
   {
    "duration": 40949,
    "start_time": "2022-01-26T13:18:39.011Z"
   },
   {
    "duration": 10,
    "start_time": "2022-01-26T13:19:19.962Z"
   },
   {
    "duration": 5,
    "start_time": "2022-01-26T13:19:19.974Z"
   },
   {
    "duration": 21,
    "start_time": "2022-01-26T13:19:19.981Z"
   },
   {
    "duration": 17,
    "start_time": "2022-01-26T13:19:20.004Z"
   },
   {
    "duration": 6,
    "start_time": "2022-01-26T13:19:20.023Z"
   },
   {
    "duration": 21,
    "start_time": "2022-01-26T13:19:20.032Z"
   },
   {
    "duration": 7,
    "start_time": "2022-01-26T13:19:20.055Z"
   },
   {
    "duration": 38,
    "start_time": "2022-01-26T13:19:20.064Z"
   },
   {
    "duration": 359,
    "start_time": "2022-01-26T13:20:00.748Z"
   },
   {
    "duration": 4,
    "start_time": "2022-01-26T13:20:09.693Z"
   },
   {
    "duration": 8,
    "start_time": "2022-01-26T13:22:57.453Z"
   },
   {
    "duration": 5,
    "start_time": "2022-01-26T13:22:58.863Z"
   },
   {
    "duration": 5,
    "start_time": "2022-01-26T13:22:59.783Z"
   },
   {
    "duration": 24,
    "start_time": "2022-01-26T13:43:25.052Z"
   },
   {
    "duration": 2,
    "start_time": "2022-01-26T13:47:38.243Z"
   },
   {
    "duration": 24,
    "start_time": "2022-01-26T13:47:43.393Z"
   },
   {
    "duration": 264,
    "start_time": "2022-01-26T13:59:07.382Z"
   },
   {
    "duration": 8995,
    "start_time": "2022-01-26T13:59:19.256Z"
   },
   {
    "duration": 8089,
    "start_time": "2022-01-26T14:00:55.812Z"
   },
   {
    "duration": 3827,
    "start_time": "2022-01-26T14:05:09.927Z"
   },
   {
    "duration": 9172,
    "start_time": "2022-01-26T14:11:56.320Z"
   },
   {
    "duration": 9165,
    "start_time": "2022-01-26T14:14:55.870Z"
   },
   {
    "duration": 19,
    "start_time": "2022-01-26T14:20:01.732Z"
   },
   {
    "duration": 5,
    "start_time": "2022-01-26T14:20:08.263Z"
   },
   {
    "duration": 14,
    "start_time": "2022-01-26T14:20:17.813Z"
   },
   {
    "duration": 5,
    "start_time": "2022-01-26T14:20:18.572Z"
   },
   {
    "duration": 3,
    "start_time": "2022-01-26T14:20:45.641Z"
   },
   {
    "duration": 1029,
    "start_time": "2022-01-26T14:20:45.650Z"
   },
   {
    "duration": 18,
    "start_time": "2022-01-26T14:20:46.681Z"
   },
   {
    "duration": 21,
    "start_time": "2022-01-26T14:20:46.701Z"
   },
   {
    "duration": 32,
    "start_time": "2022-01-26T14:20:46.724Z"
   },
   {
    "duration": 16,
    "start_time": "2022-01-26T14:20:46.758Z"
   },
   {
    "duration": 32,
    "start_time": "2022-01-26T14:20:46.776Z"
   },
   {
    "duration": 12,
    "start_time": "2022-01-26T14:20:46.810Z"
   },
   {
    "duration": 23,
    "start_time": "2022-01-26T14:20:46.824Z"
   },
   {
    "duration": 10,
    "start_time": "2022-01-26T14:20:46.851Z"
   },
   {
    "duration": 18,
    "start_time": "2022-01-26T14:20:46.863Z"
   },
   {
    "duration": 30,
    "start_time": "2022-01-26T14:20:46.883Z"
   },
   {
    "duration": 11,
    "start_time": "2022-01-26T14:20:46.914Z"
   },
   {
    "duration": 31,
    "start_time": "2022-01-26T14:20:46.927Z"
   },
   {
    "duration": 9098,
    "start_time": "2022-01-26T14:20:46.960Z"
   },
   {
    "duration": 61,
    "start_time": "2022-01-26T14:20:56.061Z"
   },
   {
    "duration": 8,
    "start_time": "2022-01-26T14:20:56.124Z"
   },
   {
    "duration": 42619,
    "start_time": "2022-01-26T14:20:56.134Z"
   },
   {
    "duration": 10,
    "start_time": "2022-01-26T14:21:38.755Z"
   },
   {
    "duration": 5,
    "start_time": "2022-01-26T14:21:38.767Z"
   },
   {
    "duration": 26,
    "start_time": "2022-01-26T14:21:38.774Z"
   },
   {
    "duration": 7,
    "start_time": "2022-01-26T14:21:38.802Z"
   },
   {
    "duration": 5,
    "start_time": "2022-01-26T14:21:38.811Z"
   },
   {
    "duration": 24,
    "start_time": "2022-01-26T14:21:38.818Z"
   },
   {
    "duration": 16,
    "start_time": "2022-01-26T14:21:38.843Z"
   },
   {
    "duration": 37,
    "start_time": "2022-01-26T14:21:38.861Z"
   },
   {
    "duration": 6,
    "start_time": "2022-01-26T14:21:38.900Z"
   },
   {
    "duration": 4,
    "start_time": "2022-01-26T14:21:38.909Z"
   },
   {
    "duration": 5,
    "start_time": "2022-01-26T14:23:14.332Z"
   },
   {
    "duration": 17,
    "start_time": "2022-01-26T14:23:20.967Z"
   },
   {
    "duration": 5,
    "start_time": "2022-01-27T07:07:23.581Z"
   },
   {
    "duration": 1410,
    "start_time": "2022-01-27T07:07:23.588Z"
   },
   {
    "duration": 22,
    "start_time": "2022-01-27T07:07:25.001Z"
   },
   {
    "duration": 9,
    "start_time": "2022-01-27T07:07:25.026Z"
   },
   {
    "duration": 31,
    "start_time": "2022-01-27T07:07:25.038Z"
   },
   {
    "duration": 5,
    "start_time": "2022-01-27T07:07:25.071Z"
   },
   {
    "duration": 11,
    "start_time": "2022-01-27T07:07:25.079Z"
   },
   {
    "duration": 8,
    "start_time": "2022-01-27T07:07:25.093Z"
   },
   {
    "duration": 4,
    "start_time": "2022-01-27T07:07:25.107Z"
   },
   {
    "duration": 5,
    "start_time": "2022-01-27T07:07:25.159Z"
   },
   {
    "duration": 8,
    "start_time": "2022-01-27T07:07:25.167Z"
   },
   {
    "duration": 21,
    "start_time": "2022-01-27T07:07:25.179Z"
   },
   {
    "duration": 9,
    "start_time": "2022-01-27T07:07:25.203Z"
   },
   {
    "duration": 45,
    "start_time": "2022-01-27T07:07:25.215Z"
   },
   {
    "duration": 12722,
    "start_time": "2022-01-27T07:07:25.264Z"
   },
   {
    "duration": 79,
    "start_time": "2022-01-27T07:07:37.988Z"
   },
   {
    "duration": 10,
    "start_time": "2022-01-27T07:07:38.070Z"
   },
   {
    "duration": 78611,
    "start_time": "2022-01-27T07:07:38.082Z"
   },
   {
    "duration": 21,
    "start_time": "2022-01-27T07:08:56.696Z"
   },
   {
    "duration": 8,
    "start_time": "2022-01-27T07:08:56.720Z"
   },
   {
    "duration": 34,
    "start_time": "2022-01-27T07:08:56.732Z"
   },
   {
    "duration": 20,
    "start_time": "2022-01-27T07:08:56.770Z"
   },
   {
    "duration": 8,
    "start_time": "2022-01-27T07:08:56.793Z"
   },
   {
    "duration": 76,
    "start_time": "2022-01-27T07:08:56.804Z"
   },
   {
    "duration": 8,
    "start_time": "2022-01-27T07:08:56.884Z"
   },
   {
    "duration": 44,
    "start_time": "2022-01-27T07:08:56.895Z"
   },
   {
    "duration": 10,
    "start_time": "2022-01-27T07:08:56.961Z"
   },
   {
    "duration": 13,
    "start_time": "2022-01-27T07:08:56.974Z"
   },
   {
    "duration": 8,
    "start_time": "2022-01-27T07:16:13.181Z"
   },
   {
    "duration": 15,
    "start_time": "2022-01-27T07:16:43.984Z"
   },
   {
    "duration": 1255,
    "start_time": "2022-01-27T07:45:09.881Z"
   },
   {
    "duration": 5,
    "start_time": "2022-01-27T07:45:23.392Z"
   },
   {
    "duration": 2157,
    "start_time": "2022-01-27T07:45:29.404Z"
   },
   {
    "duration": 2660,
    "start_time": "2022-01-27T07:48:15.347Z"
   },
   {
    "duration": 2632,
    "start_time": "2022-01-27T10:45:03.914Z"
   },
   {
    "duration": 2785,
    "start_time": "2022-01-27T10:46:16.109Z"
   },
   {
    "duration": 2694,
    "start_time": "2022-01-27T10:46:25.065Z"
   },
   {
    "duration": 2498,
    "start_time": "2022-01-27T10:47:17.135Z"
   },
   {
    "duration": 110269,
    "start_time": "2022-01-27T10:51:06.144Z"
   },
   {
    "duration": 5,
    "start_time": "2022-01-27T10:54:30.810Z"
   },
   {
    "duration": 111205,
    "start_time": "2022-01-27T11:02:15.375Z"
   },
   {
    "duration": 3072,
    "start_time": "2022-01-27T11:04:50.896Z"
   },
   {
    "duration": 137484,
    "start_time": "2022-01-27T11:10:41.242Z"
   },
   {
    "duration": 7,
    "start_time": "2022-01-27T13:31:03.344Z"
   },
   {
    "duration": 562104,
    "start_time": "2022-01-27T13:39:32.990Z"
   },
   {
    "duration": 357,
    "start_time": "2022-01-27T14:06:52.956Z"
   },
   {
    "duration": 8,
    "start_time": "2022-01-27T14:06:56.816Z"
   },
   {
    "duration": 387,
    "start_time": "2022-01-27T14:07:02.545Z"
   },
   {
    "duration": 136628,
    "start_time": "2022-01-27T14:08:41.094Z"
   },
   {
    "duration": 7,
    "start_time": "2022-01-27T14:13:25.321Z"
   },
   {
    "duration": 6,
    "start_time": "2022-01-27T14:18:31.460Z"
   },
   {
    "duration": 5,
    "start_time": "2022-01-27T14:18:36.943Z"
   },
   {
    "duration": 1448,
    "start_time": "2022-01-27T14:18:36.952Z"
   },
   {
    "duration": 22,
    "start_time": "2022-01-27T14:18:38.403Z"
   },
   {
    "duration": 8,
    "start_time": "2022-01-27T14:18:38.428Z"
   },
   {
    "duration": 30,
    "start_time": "2022-01-27T14:18:38.441Z"
   },
   {
    "duration": 5,
    "start_time": "2022-01-27T14:18:38.474Z"
   },
   {
    "duration": 9,
    "start_time": "2022-01-27T14:18:38.482Z"
   },
   {
    "duration": 7,
    "start_time": "2022-01-27T14:18:38.494Z"
   },
   {
    "duration": 6,
    "start_time": "2022-01-27T14:18:38.508Z"
   },
   {
    "duration": 45,
    "start_time": "2022-01-27T14:18:38.517Z"
   },
   {
    "duration": 7,
    "start_time": "2022-01-27T14:18:38.564Z"
   },
   {
    "duration": 6,
    "start_time": "2022-01-27T14:18:38.573Z"
   },
   {
    "duration": 22,
    "start_time": "2022-01-27T14:18:38.581Z"
   },
   {
    "duration": 8,
    "start_time": "2022-01-27T14:18:38.606Z"
   },
   {
    "duration": 6,
    "start_time": "2022-01-27T14:18:38.660Z"
   },
   {
    "duration": 11103,
    "start_time": "2022-01-27T14:18:38.668Z"
   },
   {
    "duration": 108177,
    "start_time": "2022-01-27T14:18:49.773Z"
   },
   {
    "duration": 62,
    "start_time": "2022-01-27T14:20:37.960Z"
   },
   {
    "duration": 35,
    "start_time": "2022-01-27T14:20:38.026Z"
   },
   {
    "duration": 59841,
    "start_time": "2022-01-27T14:20:38.064Z"
   },
   {
    "duration": 304954,
    "start_time": "2022-01-27T14:21:37.908Z"
   },
   {
    "duration": -394,
    "start_time": "2022-01-27T14:26:43.260Z"
   },
   {
    "duration": -395,
    "start_time": "2022-01-27T14:26:43.263Z"
   },
   {
    "duration": -395,
    "start_time": "2022-01-27T14:26:43.265Z"
   },
   {
    "duration": -395,
    "start_time": "2022-01-27T14:26:43.267Z"
   },
   {
    "duration": -402,
    "start_time": "2022-01-27T14:26:43.276Z"
   },
   {
    "duration": -402,
    "start_time": "2022-01-27T14:26:43.278Z"
   },
   {
    "duration": -401,
    "start_time": "2022-01-27T14:26:43.280Z"
   },
   {
    "duration": -417,
    "start_time": "2022-01-27T14:26:43.297Z"
   },
   {
    "duration": -436,
    "start_time": "2022-01-27T14:26:43.318Z"
   },
   {
    "duration": -440,
    "start_time": "2022-01-27T14:26:43.324Z"
   },
   {
    "duration": -440,
    "start_time": "2022-01-27T14:26:43.326Z"
   },
   {
    "duration": -440,
    "start_time": "2022-01-27T14:26:43.328Z"
   },
   {
    "duration": -448,
    "start_time": "2022-01-27T14:26:43.338Z"
   },
   {
    "duration": 5,
    "start_time": "2022-01-27T14:28:00.658Z"
   },
   {
    "duration": 1435,
    "start_time": "2022-01-27T14:28:00.666Z"
   },
   {
    "duration": 21,
    "start_time": "2022-01-27T14:28:02.104Z"
   },
   {
    "duration": 9,
    "start_time": "2022-01-27T14:28:02.128Z"
   },
   {
    "duration": 34,
    "start_time": "2022-01-27T14:28:02.139Z"
   },
   {
    "duration": 4,
    "start_time": "2022-01-27T14:28:02.175Z"
   },
   {
    "duration": 9,
    "start_time": "2022-01-27T14:28:02.182Z"
   },
   {
    "duration": 9,
    "start_time": "2022-01-27T14:28:02.195Z"
   },
   {
    "duration": 5,
    "start_time": "2022-01-27T14:28:02.206Z"
   },
   {
    "duration": 5,
    "start_time": "2022-01-27T14:28:02.213Z"
   },
   {
    "duration": 41,
    "start_time": "2022-01-27T14:28:02.220Z"
   },
   {
    "duration": 21,
    "start_time": "2022-01-27T14:28:02.263Z"
   },
   {
    "duration": 6,
    "start_time": "2022-01-27T14:28:02.286Z"
   },
   {
    "duration": 4,
    "start_time": "2022-01-27T14:28:02.294Z"
   },
   {
    "duration": 12679,
    "start_time": "2022-01-27T14:28:02.300Z"
   },
   {
    "duration": 168274,
    "start_time": "2022-01-27T14:28:14.982Z"
   },
   {
    "duration": 60,
    "start_time": "2022-01-27T14:31:03.260Z"
   },
   {
    "duration": 10,
    "start_time": "2022-01-27T14:31:03.323Z"
   },
   {
    "duration": 60772,
    "start_time": "2022-01-27T14:31:03.359Z"
   },
   {
    "duration": 572044,
    "start_time": "2022-01-27T14:32:04.133Z"
   },
   {
    "duration": 16,
    "start_time": "2022-01-27T14:41:36.180Z"
   },
   {
    "duration": 7,
    "start_time": "2022-01-27T14:41:36.199Z"
   },
   {
    "duration": 8,
    "start_time": "2022-01-27T14:41:36.211Z"
   },
   {
    "duration": 46,
    "start_time": "2022-01-27T14:41:36.222Z"
   },
   {
    "duration": 7,
    "start_time": "2022-01-27T14:41:36.271Z"
   },
   {
    "duration": 35,
    "start_time": "2022-01-27T14:41:36.281Z"
   },
   {
    "duration": 3230,
    "start_time": "2022-01-27T14:41:36.319Z"
   },
   {
    "duration": 10,
    "start_time": "2022-01-27T14:41:39.552Z"
   },
   {
    "duration": 11,
    "start_time": "2022-01-27T14:41:39.565Z"
   },
   {
    "duration": 27,
    "start_time": "2022-01-27T14:41:39.578Z"
   },
   {
    "duration": 64,
    "start_time": "2022-01-27T14:41:39.608Z"
   },
   {
    "duration": 8,
    "start_time": "2022-01-27T14:41:39.674Z"
   },
   {
    "duration": 8,
    "start_time": "2022-01-27T14:41:39.684Z"
   },
   {
    "duration": 609,
    "start_time": "2022-01-27T14:45:40.017Z"
   },
   {
    "duration": 27,
    "start_time": "2022-01-27T14:45:52.076Z"
   },
   {
    "duration": 5,
    "start_time": "2022-01-27T15:01:07.782Z"
   }
  ],
  "kernelspec": {
   "display_name": "Python 3 (ipykernel)",
   "language": "python",
   "name": "python3"
  },
  "language_info": {
   "codemirror_mode": {
    "name": "ipython",
    "version": 3
   },
   "file_extension": ".py",
   "mimetype": "text/x-python",
   "name": "python",
   "nbconvert_exporter": "python",
   "pygments_lexer": "ipython3",
   "version": "3.9.7"
  },
  "toc": {
   "base_numbering": 1,
   "nav_menu": {},
   "number_sections": true,
   "sideBar": true,
   "skip_h1_title": true,
   "title_cell": "Table of Contents",
   "title_sidebar": "Contents",
   "toc_cell": false,
   "toc_position": {},
   "toc_section_display": true,
   "toc_window_display": false
  }
 },
 "nbformat": 4,
 "nbformat_minor": 2
}
