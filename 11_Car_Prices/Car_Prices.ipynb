{
 "cells": [
  {
   "cell_type": "markdown",
   "id": "ea76478b",
   "metadata": {
    "id": "ea76478b"
   },
   "source": [
    "# Определение стоимости автомобилей"
   ]
  },
  {
   "cell_type": "markdown",
   "id": "c0e77b0f",
   "metadata": {
    "id": "c0e77b0f"
   },
   "source": [
    "Сервис по продаже автомобилей с пробегом «Не бит, не крашен» разрабатывает приложение для привлечения новых клиентов. В нём можно быстро узнать рыночную стоимость своего автомобиля. В вашем распоряжении исторические данные: технические характеристики, комплектации и цены автомобилей. Вам нужно построить модель для определения стоимости. \n",
    "\n",
    "Заказчику важны:\n",
    "\n",
    "- качество предсказания;\n",
    "- скорость предсказания;\n",
    "- время обучения."
   ]
  },
  {
   "cell_type": "markdown",
   "id": "807e6590",
   "metadata": {
    "id": "807e6590"
   },
   "source": [
    "В ходе выполнения проекта мы\n",
    "* рассмотрим признаки и отберем актуальные для обучения моделей,\n",
    "* тщательно изучим данные на предмет пропусков, ошибок, дубликатов и исправим найденное,\n",
    "* в соответствии с моделью обработаем признаки - произведем кодирование и стандартизацию,\n",
    "* выделим целевой признак и разобъем данные на выборки,\n",
    "* обучим несколько моделей, подберем гиперпараметры и выберем модель наиболее подходящую под запрос заказчика."
   ]
  },
  {
   "cell_type": "markdown",
   "id": "719d8b76",
   "metadata": {
    "id": "719d8b76"
   },
   "source": [
    "## Импорт"
   ]
  },
  {
   "cell_type": "code",
   "execution_count": 1,
   "id": "44b19f18",
   "metadata": {
    "id": "44b19f18"
   },
   "outputs": [],
   "source": [
    "import pandas as pd\n",
    "import numpy as np\n",
    "from scipy.stats import mode\n",
    "import math\n",
    "import matplotlib.pyplot as plt\n",
    "from matplotlib.ticker import FormatStrFormatter, ScalarFormatter\n",
    "from matplotlib.cbook import boxplot_stats\n",
    "import seaborn as sns\n",
    "\n",
    "import time\n",
    "\n",
    "from sklearn.model_selection import train_test_split, GridSearchCV, KFold\n",
    "from sklearn.preprocessing import StandardScaler, OrdinalEncoder, OneHotEncoder\n",
    "from sklearn.linear_model import LinearRegression, Lasso, Ridge, ElasticNet\n",
    "from sklearn.metrics import mean_squared_error\n",
    "from sklearn.tree import DecisionTreeRegressor\n",
    "from sklearn.ensemble import RandomForestRegressor\n",
    "\n",
    "from catboost import CatBoostRegressor\n",
    "import lightgbm as lgb"
   ]
  },
  {
   "cell_type": "code",
   "execution_count": 2,
   "id": "zOVaqbs02cqu",
   "metadata": {
    "id": "zOVaqbs02cqu"
   },
   "outputs": [],
   "source": [
    "import torch\n",
    "from torch import nn\n",
    "from torch.nn import functional as F\n",
    "\n",
    "from torch.utils.data import TensorDataset, DataLoader"
   ]
  },
  {
   "cell_type": "code",
   "execution_count": 3,
   "id": "1e625f95",
   "metadata": {
    "id": "1e625f95"
   },
   "outputs": [],
   "source": [
    "# отключим предупреждения Anaconda\n",
    "from pylab import rcParams\n",
    "import warnings\n",
    "warnings.simplefilter('ignore')\n",
    "\n",
    "# увеличим дефолтный размер графиков\n",
    "rcParams['figure.figsize'] = 15, 5\n",
    "\n",
    "pd.set_option('display.max_columns', None)\n",
    "pd.set_option('display.max_rows', None)"
   ]
  },
  {
   "cell_type": "markdown",
   "id": "bdc6b561",
   "metadata": {
    "id": "bdc6b561"
   },
   "source": [
    "## Подготовка данных"
   ]
  },
  {
   "cell_type": "markdown",
   "id": "acec82f1",
   "metadata": {
    "id": "acec82f1"
   },
   "source": [
    "Напишем вспомогательные функции."
   ]
  },
  {
   "cell_type": "code",
   "execution_count": 4,
   "id": "733f2835",
   "metadata": {
    "id": "733f2835"
   },
   "outputs": [],
   "source": [
    "def draw_kde(column, title, xlabel):\n",
    "    \"\"\" \n",
    "    График распределения для количественных величин\n",
    "    \"\"\"\n",
    "    plt.figure(figsize=(15,6))\n",
    "    plot = sns.distplot(data[column],bins=30, kde=True)\n",
    "    plt.title(title)\n",
    "    plt.xlabel(xlabel)\n",
    "    plt.show()"
   ]
  },
  {
   "cell_type": "code",
   "execution_count": 5,
   "id": "ec4c59ad",
   "metadata": {
    "id": "ec4c59ad"
   },
   "outputs": [],
   "source": [
    "def draw_boxplot(column):\n",
    "    \"\"\"\n",
    "    График распределения категориальных величин\n",
    "    \"\"\"\n",
    "    plt.figure(figsize=(15,6))\n",
    "    plot = sns.barplot(data=data.pivot_table(columns=column, values='Price', aggfunc='count'))\n",
    "    plt.show()"
   ]
  },
  {
   "cell_type": "markdown",
   "id": "21c39757",
   "metadata": {
    "id": "21c39757"
   },
   "source": [
    "### Загрузка и обзор"
   ]
  },
  {
   "cell_type": "markdown",
   "id": "d5e68b5d",
   "metadata": {
    "id": "d5e68b5d"
   },
   "source": [
    "Загрузим данные и выведем первые пять строк для обзора."
   ]
  },
  {
   "cell_type": "code",
   "execution_count": 6,
   "id": "016ee605",
   "metadata": {
    "id": "016ee605"
   },
   "outputs": [],
   "source": [
    "data_path = \"https://code.s3.yandex.net/datasets/autos.csv\"\n",
    "data = pd.read_csv(data_path)"
   ]
  },
  {
   "cell_type": "code",
   "execution_count": 7,
   "id": "1590de77",
   "metadata": {
    "colab": {
     "base_uri": "https://localhost:8080/",
     "height": 438
    },
    "id": "1590de77",
    "outputId": "922537d6-9873-43ae-c6e8-4da88be3c192",
    "scrolled": true
   },
   "outputs": [
    {
     "data": {
      "text/html": [
       "<div>\n",
       "<style scoped>\n",
       "    .dataframe tbody tr th:only-of-type {\n",
       "        vertical-align: middle;\n",
       "    }\n",
       "\n",
       "    .dataframe tbody tr th {\n",
       "        vertical-align: top;\n",
       "    }\n",
       "\n",
       "    .dataframe thead th {\n",
       "        text-align: right;\n",
       "    }\n",
       "</style>\n",
       "<table border=\"1\" class=\"dataframe\">\n",
       "  <thead>\n",
       "    <tr style=\"text-align: right;\">\n",
       "      <th></th>\n",
       "      <th>DateCrawled</th>\n",
       "      <th>Price</th>\n",
       "      <th>VehicleType</th>\n",
       "      <th>RegistrationYear</th>\n",
       "      <th>Gearbox</th>\n",
       "      <th>Power</th>\n",
       "      <th>Model</th>\n",
       "      <th>Kilometer</th>\n",
       "      <th>RegistrationMonth</th>\n",
       "      <th>FuelType</th>\n",
       "      <th>Brand</th>\n",
       "      <th>NotRepaired</th>\n",
       "      <th>DateCreated</th>\n",
       "      <th>NumberOfPictures</th>\n",
       "      <th>PostalCode</th>\n",
       "      <th>LastSeen</th>\n",
       "    </tr>\n",
       "  </thead>\n",
       "  <tbody>\n",
       "    <tr>\n",
       "      <th>0</th>\n",
       "      <td>2016-03-24 11:52:17</td>\n",
       "      <td>480</td>\n",
       "      <td>NaN</td>\n",
       "      <td>1993</td>\n",
       "      <td>manual</td>\n",
       "      <td>0</td>\n",
       "      <td>golf</td>\n",
       "      <td>150000</td>\n",
       "      <td>0</td>\n",
       "      <td>petrol</td>\n",
       "      <td>volkswagen</td>\n",
       "      <td>NaN</td>\n",
       "      <td>2016-03-24 00:00:00</td>\n",
       "      <td>0</td>\n",
       "      <td>70435</td>\n",
       "      <td>2016-04-07 03:16:57</td>\n",
       "    </tr>\n",
       "    <tr>\n",
       "      <th>1</th>\n",
       "      <td>2016-03-24 10:58:45</td>\n",
       "      <td>18300</td>\n",
       "      <td>coupe</td>\n",
       "      <td>2011</td>\n",
       "      <td>manual</td>\n",
       "      <td>190</td>\n",
       "      <td>NaN</td>\n",
       "      <td>125000</td>\n",
       "      <td>5</td>\n",
       "      <td>gasoline</td>\n",
       "      <td>audi</td>\n",
       "      <td>yes</td>\n",
       "      <td>2016-03-24 00:00:00</td>\n",
       "      <td>0</td>\n",
       "      <td>66954</td>\n",
       "      <td>2016-04-07 01:46:50</td>\n",
       "    </tr>\n",
       "    <tr>\n",
       "      <th>2</th>\n",
       "      <td>2016-03-14 12:52:21</td>\n",
       "      <td>9800</td>\n",
       "      <td>suv</td>\n",
       "      <td>2004</td>\n",
       "      <td>auto</td>\n",
       "      <td>163</td>\n",
       "      <td>grand</td>\n",
       "      <td>125000</td>\n",
       "      <td>8</td>\n",
       "      <td>gasoline</td>\n",
       "      <td>jeep</td>\n",
       "      <td>NaN</td>\n",
       "      <td>2016-03-14 00:00:00</td>\n",
       "      <td>0</td>\n",
       "      <td>90480</td>\n",
       "      <td>2016-04-05 12:47:46</td>\n",
       "    </tr>\n",
       "    <tr>\n",
       "      <th>3</th>\n",
       "      <td>2016-03-17 16:54:04</td>\n",
       "      <td>1500</td>\n",
       "      <td>small</td>\n",
       "      <td>2001</td>\n",
       "      <td>manual</td>\n",
       "      <td>75</td>\n",
       "      <td>golf</td>\n",
       "      <td>150000</td>\n",
       "      <td>6</td>\n",
       "      <td>petrol</td>\n",
       "      <td>volkswagen</td>\n",
       "      <td>no</td>\n",
       "      <td>2016-03-17 00:00:00</td>\n",
       "      <td>0</td>\n",
       "      <td>91074</td>\n",
       "      <td>2016-03-17 17:40:17</td>\n",
       "    </tr>\n",
       "    <tr>\n",
       "      <th>4</th>\n",
       "      <td>2016-03-31 17:25:20</td>\n",
       "      <td>3600</td>\n",
       "      <td>small</td>\n",
       "      <td>2008</td>\n",
       "      <td>manual</td>\n",
       "      <td>69</td>\n",
       "      <td>fabia</td>\n",
       "      <td>90000</td>\n",
       "      <td>7</td>\n",
       "      <td>gasoline</td>\n",
       "      <td>skoda</td>\n",
       "      <td>no</td>\n",
       "      <td>2016-03-31 00:00:00</td>\n",
       "      <td>0</td>\n",
       "      <td>60437</td>\n",
       "      <td>2016-04-06 10:17:21</td>\n",
       "    </tr>\n",
       "  </tbody>\n",
       "</table>\n",
       "</div>"
      ],
      "text/plain": [
       "           DateCrawled  Price VehicleType  RegistrationYear Gearbox  Power  \\\n",
       "0  2016-03-24 11:52:17    480         NaN              1993  manual      0   \n",
       "1  2016-03-24 10:58:45  18300       coupe              2011  manual    190   \n",
       "2  2016-03-14 12:52:21   9800         suv              2004    auto    163   \n",
       "3  2016-03-17 16:54:04   1500       small              2001  manual     75   \n",
       "4  2016-03-31 17:25:20   3600       small              2008  manual     69   \n",
       "\n",
       "   Model  Kilometer  RegistrationMonth  FuelType       Brand NotRepaired  \\\n",
       "0   golf     150000                  0    petrol  volkswagen         NaN   \n",
       "1    NaN     125000                  5  gasoline        audi         yes   \n",
       "2  grand     125000                  8  gasoline        jeep         NaN   \n",
       "3   golf     150000                  6    petrol  volkswagen          no   \n",
       "4  fabia      90000                  7  gasoline       skoda          no   \n",
       "\n",
       "           DateCreated  NumberOfPictures  PostalCode             LastSeen  \n",
       "0  2016-03-24 00:00:00                 0       70435  2016-04-07 03:16:57  \n",
       "1  2016-03-24 00:00:00                 0       66954  2016-04-07 01:46:50  \n",
       "2  2016-03-14 00:00:00                 0       90480  2016-04-05 12:47:46  \n",
       "3  2016-03-17 00:00:00                 0       91074  2016-03-17 17:40:17  \n",
       "4  2016-03-31 00:00:00                 0       60437  2016-04-06 10:17:21  "
      ]
     },
     "execution_count": 7,
     "metadata": {},
     "output_type": "execute_result"
    }
   ],
   "source": [
    "data.head()"
   ]
  },
  {
   "cell_type": "markdown",
   "id": "a8e22e93",
   "metadata": {
    "id": "a8e22e93"
   },
   "source": [
    "В датасете есть следующие признаки:\n",
    "\n",
    "* DateCrawled — дата скачивания анкеты из базы\n",
    "* VehicleType — тип автомобильного кузова\n",
    "* RegistrationYear — год регистрации автомобиля\n",
    "* Gearbox — тип коробки передач\n",
    "* Power — мощность (л. с.)\n",
    "* Model — модель автомобиля\n",
    "* Kilometer — пробег (км)\n",
    "* RegistrationMonth — месяц регистрации автомобиля\n",
    "* FuelType — тип топлива\n",
    "* Brand — марка автомобиля\n",
    "* NotRepaired — была машина в ремонте или нет\n",
    "* DateCreated — дата создания анкеты\n",
    "* NumberOfPictures — количество фотографий автомобиля\n",
    "* PostalCode — почтовый индекс владельца анкеты (пользователя)\n",
    "* LastSeen — дата последней активности пользователя\n",
    "\n",
    "Целевой признак\n",
    "\n",
    "* Price — цена (евро)"
   ]
  },
  {
   "cell_type": "markdown",
   "id": "fed82a6c",
   "metadata": {
    "id": "fed82a6c"
   },
   "source": [
    "Посмотрим, какие типы данных встречаются в датасете и нет ли в нем пропусков."
   ]
  },
  {
   "cell_type": "code",
   "execution_count": 8,
   "id": "f8eb9239",
   "metadata": {
    "colab": {
     "base_uri": "https://localhost:8080/"
    },
    "id": "f8eb9239",
    "outputId": "b7fb6133-0b67-477b-d0c3-280f47146f94",
    "scrolled": false
   },
   "outputs": [
    {
     "name": "stdout",
     "output_type": "stream",
     "text": [
      "<class 'pandas.core.frame.DataFrame'>\n",
      "RangeIndex: 354369 entries, 0 to 354368\n",
      "Data columns (total 16 columns):\n",
      " #   Column             Non-Null Count   Dtype \n",
      "---  ------             --------------   ----- \n",
      " 0   DateCrawled        354369 non-null  object\n",
      " 1   Price              354369 non-null  int64 \n",
      " 2   VehicleType        316879 non-null  object\n",
      " 3   RegistrationYear   354369 non-null  int64 \n",
      " 4   Gearbox            334536 non-null  object\n",
      " 5   Power              354369 non-null  int64 \n",
      " 6   Model              334664 non-null  object\n",
      " 7   Kilometer          354369 non-null  int64 \n",
      " 8   RegistrationMonth  354369 non-null  int64 \n",
      " 9   FuelType           321474 non-null  object\n",
      " 10  Brand              354369 non-null  object\n",
      " 11  NotRepaired        283215 non-null  object\n",
      " 12  DateCreated        354369 non-null  object\n",
      " 13  NumberOfPictures   354369 non-null  int64 \n",
      " 14  PostalCode         354369 non-null  int64 \n",
      " 15  LastSeen           354369 non-null  object\n",
      "dtypes: int64(7), object(9)\n",
      "memory usage: 43.3+ MB\n"
     ]
    }
   ],
   "source": [
    "data.info()"
   ]
  },
  {
   "cell_type": "markdown",
   "id": "4a39b2b5",
   "metadata": {
    "id": "4a39b2b5"
   },
   "source": [
    "Посмотрим процент пропусков в данных"
   ]
  },
  {
   "cell_type": "code",
   "execution_count": 9,
   "id": "c108db6b",
   "metadata": {
    "colab": {
     "base_uri": "https://localhost:8080/"
    },
    "id": "c108db6b",
    "outputId": "bc43db3b-70bf-4c6f-bf76-ed2493aa2450"
   },
   "outputs": [
    {
     "data": {
      "text/plain": [
       "DateCrawled           0.0\n",
       "Price                 0.0\n",
       "VehicleType          10.6\n",
       "RegistrationYear      0.0\n",
       "Gearbox               5.6\n",
       "Power                 0.0\n",
       "Model                 5.6\n",
       "Kilometer             0.0\n",
       "RegistrationMonth     0.0\n",
       "FuelType              9.3\n",
       "Brand                 0.0\n",
       "NotRepaired          20.1\n",
       "DateCreated           0.0\n",
       "NumberOfPictures      0.0\n",
       "PostalCode            0.0\n",
       "LastSeen              0.0\n",
       "dtype: float64"
      ]
     },
     "execution_count": 9,
     "metadata": {},
     "output_type": "execute_result"
    }
   ],
   "source": [
    "(data.isna().sum()/data.shape[0]*100).round(1)"
   ]
  },
  {
   "cell_type": "markdown",
   "id": "7eb98921",
   "metadata": {
    "id": "7eb98921"
   },
   "source": [
    "Посмотрим распределение численных признаков."
   ]
  },
  {
   "cell_type": "code",
   "execution_count": 10,
   "id": "43d568d1",
   "metadata": {
    "colab": {
     "base_uri": "https://localhost:8080/",
     "height": 297
    },
    "id": "43d568d1",
    "outputId": "0deecb69-7f22-4e28-a2eb-97a980149052",
    "scrolled": false
   },
   "outputs": [
    {
     "data": {
      "text/html": [
       "<div>\n",
       "<style scoped>\n",
       "    .dataframe tbody tr th:only-of-type {\n",
       "        vertical-align: middle;\n",
       "    }\n",
       "\n",
       "    .dataframe tbody tr th {\n",
       "        vertical-align: top;\n",
       "    }\n",
       "\n",
       "    .dataframe thead th {\n",
       "        text-align: right;\n",
       "    }\n",
       "</style>\n",
       "<table border=\"1\" class=\"dataframe\">\n",
       "  <thead>\n",
       "    <tr style=\"text-align: right;\">\n",
       "      <th></th>\n",
       "      <th>Price</th>\n",
       "      <th>RegistrationYear</th>\n",
       "      <th>Power</th>\n",
       "      <th>Kilometer</th>\n",
       "      <th>RegistrationMonth</th>\n",
       "      <th>NumberOfPictures</th>\n",
       "      <th>PostalCode</th>\n",
       "    </tr>\n",
       "  </thead>\n",
       "  <tbody>\n",
       "    <tr>\n",
       "      <th>count</th>\n",
       "      <td>354369.000000</td>\n",
       "      <td>354369.000000</td>\n",
       "      <td>354369.000000</td>\n",
       "      <td>354369.000000</td>\n",
       "      <td>354369.000000</td>\n",
       "      <td>354369.0</td>\n",
       "      <td>354369.000000</td>\n",
       "    </tr>\n",
       "    <tr>\n",
       "      <th>mean</th>\n",
       "      <td>4416.656776</td>\n",
       "      <td>2004.234448</td>\n",
       "      <td>110.094337</td>\n",
       "      <td>128211.172535</td>\n",
       "      <td>5.714645</td>\n",
       "      <td>0.0</td>\n",
       "      <td>50508.689087</td>\n",
       "    </tr>\n",
       "    <tr>\n",
       "      <th>std</th>\n",
       "      <td>4514.158514</td>\n",
       "      <td>90.227958</td>\n",
       "      <td>189.850405</td>\n",
       "      <td>37905.341530</td>\n",
       "      <td>3.726421</td>\n",
       "      <td>0.0</td>\n",
       "      <td>25783.096248</td>\n",
       "    </tr>\n",
       "    <tr>\n",
       "      <th>min</th>\n",
       "      <td>0.000000</td>\n",
       "      <td>1000.000000</td>\n",
       "      <td>0.000000</td>\n",
       "      <td>5000.000000</td>\n",
       "      <td>0.000000</td>\n",
       "      <td>0.0</td>\n",
       "      <td>1067.000000</td>\n",
       "    </tr>\n",
       "    <tr>\n",
       "      <th>25%</th>\n",
       "      <td>1050.000000</td>\n",
       "      <td>1999.000000</td>\n",
       "      <td>69.000000</td>\n",
       "      <td>125000.000000</td>\n",
       "      <td>3.000000</td>\n",
       "      <td>0.0</td>\n",
       "      <td>30165.000000</td>\n",
       "    </tr>\n",
       "    <tr>\n",
       "      <th>50%</th>\n",
       "      <td>2700.000000</td>\n",
       "      <td>2003.000000</td>\n",
       "      <td>105.000000</td>\n",
       "      <td>150000.000000</td>\n",
       "      <td>6.000000</td>\n",
       "      <td>0.0</td>\n",
       "      <td>49413.000000</td>\n",
       "    </tr>\n",
       "    <tr>\n",
       "      <th>75%</th>\n",
       "      <td>6400.000000</td>\n",
       "      <td>2008.000000</td>\n",
       "      <td>143.000000</td>\n",
       "      <td>150000.000000</td>\n",
       "      <td>9.000000</td>\n",
       "      <td>0.0</td>\n",
       "      <td>71083.000000</td>\n",
       "    </tr>\n",
       "    <tr>\n",
       "      <th>max</th>\n",
       "      <td>20000.000000</td>\n",
       "      <td>9999.000000</td>\n",
       "      <td>20000.000000</td>\n",
       "      <td>150000.000000</td>\n",
       "      <td>12.000000</td>\n",
       "      <td>0.0</td>\n",
       "      <td>99998.000000</td>\n",
       "    </tr>\n",
       "  </tbody>\n",
       "</table>\n",
       "</div>"
      ],
      "text/plain": [
       "               Price  RegistrationYear          Power      Kilometer  \\\n",
       "count  354369.000000     354369.000000  354369.000000  354369.000000   \n",
       "mean     4416.656776       2004.234448     110.094337  128211.172535   \n",
       "std      4514.158514         90.227958     189.850405   37905.341530   \n",
       "min         0.000000       1000.000000       0.000000    5000.000000   \n",
       "25%      1050.000000       1999.000000      69.000000  125000.000000   \n",
       "50%      2700.000000       2003.000000     105.000000  150000.000000   \n",
       "75%      6400.000000       2008.000000     143.000000  150000.000000   \n",
       "max     20000.000000       9999.000000   20000.000000  150000.000000   \n",
       "\n",
       "       RegistrationMonth  NumberOfPictures     PostalCode  \n",
       "count      354369.000000          354369.0  354369.000000  \n",
       "mean            5.714645               0.0   50508.689087  \n",
       "std             3.726421               0.0   25783.096248  \n",
       "min             0.000000               0.0    1067.000000  \n",
       "25%             3.000000               0.0   30165.000000  \n",
       "50%             6.000000               0.0   49413.000000  \n",
       "75%             9.000000               0.0   71083.000000  \n",
       "max            12.000000               0.0   99998.000000  "
      ]
     },
     "execution_count": 10,
     "metadata": {},
     "output_type": "execute_result"
    }
   ],
   "source": [
    "data.describe()"
   ]
  },
  {
   "cell_type": "code",
   "execution_count": 11,
   "id": "19b4aa83",
   "metadata": {
    "colab": {
     "base_uri": "https://localhost:8080/",
     "height": 458
    },
    "id": "19b4aa83",
    "outputId": "c86353ef-6726-43a6-8a07-efbab1769b5d",
    "scrolled": false
   },
   "outputs": [
    {
     "data": {
      "image/png": "[encoded data removed]",
      "text/plain": [
       "<Figure size 1080x432 with 1 Axes>"
      ]
     },
     "metadata": {
      "needs_background": "light"
     },
     "output_type": "display_data"
    }
   ],
   "source": [
    "draw_kde('Price', 'Распределение цены автомобилей', 'Цена (евро)')"
   ]
  },
  {
   "cell_type": "markdown",
   "id": "9e8712e4",
   "metadata": {
    "id": "9e8712e4"
   },
   "source": [
    "Распределение стоимости автомобилей нормальное, со скошенностью вправо, которая возникает из-за присутствия очень дорогих автомобилей. Но есть неадекватные значения равные 0, их мы учитывать в дальнейшем не будем."
   ]
  },
  {
   "cell_type": "code",
   "execution_count": 12,
   "id": "b68cb757",
   "metadata": {
    "colab": {
     "base_uri": "https://localhost:8080/",
     "height": 458
    },
    "id": "b68cb757",
    "outputId": "8db331b2-30b0-4fb1-c3b8-9661e80c9baf",
    "scrolled": false
   },
   "outputs": [
    {
     "data": {
      "image/png": "[encoded data removed]",
      "text/plain": [
       "<Figure size 1080x432 with 1 Axes>"
      ]
     },
     "metadata": {
      "needs_background": "light"
     },
     "output_type": "display_data"
    }
   ],
   "source": [
    "draw_kde('Power', 'Распределение мощности автомобилей', 'Мощность (л.с.)')"
   ]
  },
  {
   "cell_type": "markdown",
   "id": "c563cfd3",
   "metadata": {
    "id": "c563cfd3"
   },
   "source": [
    "Распределение мощности очень неожиданное, максимальное количество лошадиных сил в автомобиле - 4000, здесь же указано 20000. Такие выбросы неоходимо будет убрать для продолжения работы."
   ]
  },
  {
   "cell_type": "code",
   "execution_count": 13,
   "id": "ba23ffa3",
   "metadata": {
    "colab": {
     "base_uri": "https://localhost:8080/",
     "height": 458
    },
    "id": "ba23ffa3",
    "outputId": "ac563d8e-a753-4684-e26f-3ed4078cc729",
    "scrolled": false
   },
   "outputs": [
    {
     "data": {
      "image/png": "[encoded data removed]",
      "text/plain": [
       "<Figure size 1080x432 with 1 Axes>"
      ]
     },
     "metadata": {
      "needs_background": "light"
     },
     "output_type": "display_data"
    }
   ],
   "source": [
    "draw_kde('Kilometer', 'Распределение пробега автомобилей', 'Пробег (км)')"
   ]
  },
  {
   "cell_type": "markdown",
   "id": "ef81df05",
   "metadata": {
    "id": "ef81df05"
   },
   "source": [
    "Можно заметить, что значение пробега в данном случае дискретно, видимо это особенность заполняемой при сборе информации анкеты. Максимальное значение 150000 км у подавляющего большинства объектов."
   ]
  },
  {
   "cell_type": "markdown",
   "id": "4595b2d4",
   "metadata": {
    "id": "4595b2d4"
   },
   "source": [
    "Изучим значения категориальных признаков, проверим, нет ли ошибок."
   ]
  },
  {
   "cell_type": "code",
   "execution_count": 14,
   "id": "fb635de4",
   "metadata": {
    "id": "fb635de4"
   },
   "outputs": [],
   "source": [
    "cat_features = ['VehicleType', 'Gearbox', 'FuelType', 'NotRepaired', 'Model', 'Brand']"
   ]
  },
  {
   "cell_type": "code",
   "execution_count": 15,
   "id": "46ff8615",
   "metadata": {
    "colab": {
     "base_uri": "https://localhost:8080/",
     "height": 1000
    },
    "id": "46ff8615",
    "outputId": "fd225213-322c-4e76-e659-eb26b767e30a"
   },
   "outputs": [
    {
     "data": {
      "image/png": "[encoded data removed]",
      "text/plain": [
       "<Figure size 1080x432 with 1 Axes>"
      ]
     },
     "metadata": {
      "needs_background": "light"
     },
     "output_type": "display_data"
    },
    {
     "data": {
      "image/png": "[encoded data removed]",
      "text/plain": [
       "<Figure size 1080x432 with 1 Axes>"
      ]
     },
     "metadata": {
      "needs_background": "light"
     },
     "output_type": "display_data"
    },
    {
     "data": {
      "image/png": "[encoded data removed]",
      "text/plain": [
       "<Figure size 1080x432 with 1 Axes>"
      ]
     },
     "metadata": {
      "needs_background": "light"
     },
     "output_type": "display_data"
    },
    {
     "data": {
      "image/png": "[encoded data removed]",
      "text/plain": [
       "<Figure size 1080x432 with 1 Axes>"
      ]
     },
     "metadata": {
      "needs_background": "light"
     },
     "output_type": "display_data"
    }
   ],
   "source": [
    "for feat in cat_features[:4]:\n",
    "    draw_boxplot(feat)"
   ]
  },
  {
   "cell_type": "code",
   "execution_count": 16,
   "id": "260d0efd",
   "metadata": {
    "colab": {
     "base_uri": "https://localhost:8080/"
    },
    "id": "260d0efd",
    "outputId": "355805b1-047f-498c-bd65-182d34335e87",
    "scrolled": false
   },
   "outputs": [
    {
     "name": "stdout",
     "output_type": "stream",
     "text": [
      "VehicleType\n",
      "\n",
      "sedan          91457\n",
      "small          79831\n",
      "wagon          65166\n",
      "bus            28775\n",
      "convertible    20203\n",
      "coupe          16163\n",
      "suv            11996\n",
      "other           3288\n",
      "Name: VehicleType, dtype: int64\n",
      "------------------\n",
      "Gearbox\n",
      "\n",
      "manual    268251\n",
      "auto       66285\n",
      "Name: Gearbox, dtype: int64\n",
      "------------------\n",
      "FuelType\n",
      "\n",
      "petrol      216352\n",
      "gasoline     98720\n",
      "lpg           5310\n",
      "cng            565\n",
      "hybrid         233\n",
      "other          204\n",
      "electric        90\n",
      "Name: FuelType, dtype: int64\n",
      "------------------\n",
      "NotRepaired\n",
      "\n",
      "no     247161\n",
      "yes     36054\n",
      "Name: NotRepaired, dtype: int64\n",
      "------------------\n"
     ]
    }
   ],
   "source": [
    "for feat in cat_features[:4]:\n",
    "    print(feat)\n",
    "    print()\n",
    "    print(data[feat].value_counts())\n",
    "    print('------------------')"
   ]
  },
  {
   "cell_type": "code",
   "execution_count": 17,
   "id": "85f0e78d",
   "metadata": {
    "colab": {
     "base_uri": "https://localhost:8080/"
    },
    "id": "85f0e78d",
    "outputId": "0f2d86a1-6b2e-4024-8e94-0db8636f88d5",
    "scrolled": true
   },
   "outputs": [
    {
     "data": {
      "text/plain": [
       "['alfa_romeo',\n",
       " 'audi',\n",
       " 'bmw',\n",
       " 'chevrolet',\n",
       " 'chrysler',\n",
       " 'citroen',\n",
       " 'dacia',\n",
       " 'daewoo',\n",
       " 'daihatsu',\n",
       " 'fiat',\n",
       " 'ford',\n",
       " 'honda',\n",
       " 'hyundai',\n",
       " 'jaguar',\n",
       " 'jeep',\n",
       " 'kia',\n",
       " 'lada',\n",
       " 'lancia',\n",
       " 'land_rover',\n",
       " 'mazda',\n",
       " 'mercedes_benz',\n",
       " 'mini',\n",
       " 'mitsubishi',\n",
       " 'nissan',\n",
       " 'opel',\n",
       " 'peugeot',\n",
       " 'porsche',\n",
       " 'renault',\n",
       " 'rover',\n",
       " 'saab',\n",
       " 'seat',\n",
       " 'skoda',\n",
       " 'smart',\n",
       " 'sonstige_autos',\n",
       " 'subaru',\n",
       " 'suzuki',\n",
       " 'toyota',\n",
       " 'trabant',\n",
       " 'volkswagen',\n",
       " 'volvo']"
      ]
     },
     "execution_count": 17,
     "metadata": {},
     "output_type": "execute_result"
    }
   ],
   "source": [
    "sorted(data['Brand'].unique())"
   ]
  },
  {
   "cell_type": "code",
   "execution_count": 18,
   "id": "3d65de91",
   "metadata": {
    "colab": {
     "base_uri": "https://localhost:8080/"
    },
    "id": "3d65de91",
    "outputId": "a2b54ad6-9a60-4049-b7b2-6e28cdb6b5d2",
    "scrolled": true
   },
   "outputs": [
    {
     "data": {
      "text/plain": [
       "['100',\n",
       " '145',\n",
       " '147',\n",
       " '156',\n",
       " '159',\n",
       " '1_reihe',\n",
       " '1er',\n",
       " '200',\n",
       " '2_reihe',\n",
       " '300c',\n",
       " '3_reihe',\n",
       " '3er',\n",
       " '4_reihe',\n",
       " '500',\n",
       " '5_reihe',\n",
       " '5er',\n",
       " '601',\n",
       " '6_reihe',\n",
       " '6er',\n",
       " '7er',\n",
       " '80',\n",
       " '850',\n",
       " '90',\n",
       " '900',\n",
       " '9000',\n",
       " '911',\n",
       " 'a1',\n",
       " 'a2',\n",
       " 'a3',\n",
       " 'a4',\n",
       " 'a5',\n",
       " 'a6',\n",
       " 'a8',\n",
       " 'a_klasse',\n",
       " 'accord',\n",
       " 'agila',\n",
       " 'alhambra',\n",
       " 'almera',\n",
       " 'altea',\n",
       " 'amarok',\n",
       " 'antara',\n",
       " 'arosa',\n",
       " 'astra',\n",
       " 'auris',\n",
       " 'avensis',\n",
       " 'aveo',\n",
       " 'aygo',\n",
       " 'b_klasse',\n",
       " 'b_max',\n",
       " 'beetle',\n",
       " 'berlingo',\n",
       " 'bora',\n",
       " 'boxster',\n",
       " 'bravo',\n",
       " 'c1',\n",
       " 'c2',\n",
       " 'c3',\n",
       " 'c4',\n",
       " 'c5',\n",
       " 'c_klasse',\n",
       " 'c_max',\n",
       " 'c_reihe',\n",
       " 'caddy',\n",
       " 'calibra',\n",
       " 'captiva',\n",
       " 'carisma',\n",
       " 'carnival',\n",
       " 'cayenne',\n",
       " 'cc',\n",
       " 'ceed',\n",
       " 'charade',\n",
       " 'cherokee',\n",
       " 'citigo',\n",
       " 'civic',\n",
       " 'cl',\n",
       " 'clio',\n",
       " 'clk',\n",
       " 'clubman',\n",
       " 'colt',\n",
       " 'combo',\n",
       " 'cooper',\n",
       " 'cordoba',\n",
       " 'corolla',\n",
       " 'corsa',\n",
       " 'cr_reihe',\n",
       " 'croma',\n",
       " 'crossfire',\n",
       " 'cuore',\n",
       " 'cx_reihe',\n",
       " 'defender',\n",
       " 'delta',\n",
       " 'discovery',\n",
       " 'doblo',\n",
       " 'ducato',\n",
       " 'duster',\n",
       " 'e_klasse',\n",
       " 'elefantino',\n",
       " 'eos',\n",
       " 'escort',\n",
       " 'espace',\n",
       " 'exeo',\n",
       " 'fabia',\n",
       " 'fiesta',\n",
       " 'focus',\n",
       " 'forester',\n",
       " 'forfour',\n",
       " 'fortwo',\n",
       " 'fox',\n",
       " 'freelander',\n",
       " 'fusion',\n",
       " 'g_klasse',\n",
       " 'galant',\n",
       " 'galaxy',\n",
       " 'getz',\n",
       " 'gl',\n",
       " 'glk',\n",
       " 'golf',\n",
       " 'grand',\n",
       " 'i3',\n",
       " 'i_reihe',\n",
       " 'ibiza',\n",
       " 'impreza',\n",
       " 'insignia',\n",
       " 'jazz',\n",
       " 'jetta',\n",
       " 'jimny',\n",
       " 'juke',\n",
       " 'justy',\n",
       " 'ka',\n",
       " 'kadett',\n",
       " 'kaefer',\n",
       " 'kalina',\n",
       " 'kalos',\n",
       " 'kangoo',\n",
       " 'kappa',\n",
       " 'kuga',\n",
       " 'laguna',\n",
       " 'lancer',\n",
       " 'lanos',\n",
       " 'legacy',\n",
       " 'leon',\n",
       " 'lodgy',\n",
       " 'logan',\n",
       " 'lupo',\n",
       " 'lybra',\n",
       " 'm_klasse',\n",
       " 'm_reihe',\n",
       " 'materia',\n",
       " 'matiz',\n",
       " 'megane',\n",
       " 'meriva',\n",
       " 'micra',\n",
       " 'mii',\n",
       " 'modus',\n",
       " 'mondeo',\n",
       " 'move',\n",
       " 'musa',\n",
       " 'mustang',\n",
       " 'mx_reihe',\n",
       " 'navara',\n",
       " 'niva',\n",
       " 'note',\n",
       " 'nubira',\n",
       " 'octavia',\n",
       " 'omega',\n",
       " 'one',\n",
       " 'other',\n",
       " 'outlander',\n",
       " 'pajero',\n",
       " 'panda',\n",
       " 'passat',\n",
       " 'phaeton',\n",
       " 'picanto',\n",
       " 'polo',\n",
       " 'primera',\n",
       " 'ptcruiser',\n",
       " 'punto',\n",
       " 'q3',\n",
       " 'q5',\n",
       " 'q7',\n",
       " 'qashqai',\n",
       " 'r19',\n",
       " 'range_rover',\n",
       " 'range_rover_evoque',\n",
       " 'range_rover_sport',\n",
       " 'rangerover',\n",
       " 'rav',\n",
       " 'rio',\n",
       " 'roadster',\n",
       " 'roomster',\n",
       " 'rx_reihe',\n",
       " 's60',\n",
       " 's_klasse',\n",
       " 's_max',\n",
       " 's_type',\n",
       " 'samara',\n",
       " 'sandero',\n",
       " 'santa',\n",
       " 'scenic',\n",
       " 'scirocco',\n",
       " 'seicento',\n",
       " 'serie_1',\n",
       " 'serie_2',\n",
       " 'serie_3',\n",
       " 'sharan',\n",
       " 'signum',\n",
       " 'sirion',\n",
       " 'sl',\n",
       " 'slk',\n",
       " 'sorento',\n",
       " 'spark',\n",
       " 'spider',\n",
       " 'sportage',\n",
       " 'sprinter',\n",
       " 'stilo',\n",
       " 'superb',\n",
       " 'swift',\n",
       " 'terios',\n",
       " 'tigra',\n",
       " 'tiguan',\n",
       " 'toledo',\n",
       " 'touareg',\n",
       " 'touran',\n",
       " 'transit',\n",
       " 'transporter',\n",
       " 'tt',\n",
       " 'tucson',\n",
       " 'twingo',\n",
       " 'up',\n",
       " 'v40',\n",
       " 'v50',\n",
       " 'v60',\n",
       " 'v70',\n",
       " 'v_klasse',\n",
       " 'vectra',\n",
       " 'verso',\n",
       " 'viano',\n",
       " 'vito',\n",
       " 'vivaro',\n",
       " 'voyager',\n",
       " 'wrangler',\n",
       " 'x_reihe',\n",
       " 'x_trail',\n",
       " 'x_type',\n",
       " 'xc_reihe',\n",
       " 'yaris',\n",
       " 'yeti',\n",
       " 'ypsilon',\n",
       " 'z_reihe',\n",
       " 'zafira']"
      ]
     },
     "execution_count": 18,
     "metadata": {},
     "output_type": "execute_result"
    }
   ],
   "source": [
    "sorted(data[~data['Model'].isna()]['Model'].unique())"
   ]
  },
  {
   "cell_type": "markdown",
   "id": "7b2818e4",
   "metadata": {
    "id": "7b2818e4"
   },
   "source": [
    "Мы загрузили и исследовали данные. Необходимо провести предобработку и выполнить следующие задачи:\n",
    "* В столбцах `Price`, `Power` и `RegistrationMonth` есть значения равные нулю, необходимо их либо удалить, либо заполнить.\n",
    "* В столбце `RegistrationYear` есть неверные даты, например 1000 и 9999, такого года быть не может.\n",
    "* В столбце `Power` есть неверные значения, максимальное количество лошадиных сил в автомобиле - 4000, здесь же указано 20000.\n",
    "* В столбце `NumberOfPictures` нет информации, все значения равны 0. Необходимо удалить столбец.\n",
    "* Столбцы `DateCrawled`, `DateCreated`, `LastSeen`, `RegistrationMonth` и `PostalCode` не несут значимой информации для определения стоимости.\n",
    "* В таблице довольно много пропусков, до 20%, необходимо их заполнить.\n",
    "* В столбце `FuelType` есть дубликаты, petrol и gasoline это синонимы, обозначающие бензин.\n",
    "* Можно снизить количество используемой памяти изменив тип данных int64 на int32 в столбце `Kilometer` и на int16 в других количествнных признаках."
   ]
  },
  {
   "cell_type": "markdown",
   "id": "f952db81",
   "metadata": {
    "id": "f952db81"
   },
   "source": [
    "### Предобработка"
   ]
  },
  {
   "cell_type": "markdown",
   "id": "ee893b04",
   "metadata": {
    "id": "ee893b04"
   },
   "source": [
    "#### Удаление ненужных столбцов"
   ]
  },
  {
   "cell_type": "markdown",
   "id": "3221178e",
   "metadata": {
    "id": "3221178e"
   },
   "source": [
    "Удалим из таблицы столбцы, не несущие значимой информации для обучения модели."
   ]
  },
  {
   "cell_type": "code",
   "execution_count": 19,
   "id": "c7b5f0ee",
   "metadata": {
    "id": "c7b5f0ee"
   },
   "outputs": [],
   "source": [
    "data.drop(['DateCrawled','LastSeen','DateCreated', 'NumberOfPictures', 'RegistrationMonth', 'PostalCode'], axis=1, inplace=True)"
   ]
  },
  {
   "cell_type": "markdown",
   "id": "b99f796c",
   "metadata": {
    "id": "b99f796c"
   },
   "source": [
    "Проверим, что получилось."
   ]
  },
  {
   "cell_type": "code",
   "execution_count": 20,
   "id": "27577236",
   "metadata": {
    "colab": {
     "base_uri": "https://localhost:8080/",
     "height": 204
    },
    "id": "27577236",
    "outputId": "566d43d8-beb1-4a90-c293-744c91b338f4",
    "scrolled": true
   },
   "outputs": [
    {
     "data": {
      "text/html": [
       "<div>\n",
       "<style scoped>\n",
       "    .dataframe tbody tr th:only-of-type {\n",
       "        vertical-align: middle;\n",
       "    }\n",
       "\n",
       "    .dataframe tbody tr th {\n",
       "        vertical-align: top;\n",
       "    }\n",
       "\n",
       "    .dataframe thead th {\n",
       "        text-align: right;\n",
       "    }\n",
       "</style>\n",
       "<table border=\"1\" class=\"dataframe\">\n",
       "  <thead>\n",
       "    <tr style=\"text-align: right;\">\n",
       "      <th></th>\n",
       "      <th>Price</th>\n",
       "      <th>VehicleType</th>\n",
       "      <th>RegistrationYear</th>\n",
       "      <th>Gearbox</th>\n",
       "      <th>Power</th>\n",
       "      <th>Model</th>\n",
       "      <th>Kilometer</th>\n",
       "      <th>FuelType</th>\n",
       "      <th>Brand</th>\n",
       "      <th>NotRepaired</th>\n",
       "    </tr>\n",
       "  </thead>\n",
       "  <tbody>\n",
       "    <tr>\n",
       "      <th>0</th>\n",
       "      <td>480</td>\n",
       "      <td>NaN</td>\n",
       "      <td>1993</td>\n",
       "      <td>manual</td>\n",
       "      <td>0</td>\n",
       "      <td>golf</td>\n",
       "      <td>150000</td>\n",
       "      <td>petrol</td>\n",
       "      <td>volkswagen</td>\n",
       "      <td>NaN</td>\n",
       "    </tr>\n",
       "    <tr>\n",
       "      <th>1</th>\n",
       "      <td>18300</td>\n",
       "      <td>coupe</td>\n",
       "      <td>2011</td>\n",
       "      <td>manual</td>\n",
       "      <td>190</td>\n",
       "      <td>NaN</td>\n",
       "      <td>125000</td>\n",
       "      <td>gasoline</td>\n",
       "      <td>audi</td>\n",
       "      <td>yes</td>\n",
       "    </tr>\n",
       "    <tr>\n",
       "      <th>2</th>\n",
       "      <td>9800</td>\n",
       "      <td>suv</td>\n",
       "      <td>2004</td>\n",
       "      <td>auto</td>\n",
       "      <td>163</td>\n",
       "      <td>grand</td>\n",
       "      <td>125000</td>\n",
       "      <td>gasoline</td>\n",
       "      <td>jeep</td>\n",
       "      <td>NaN</td>\n",
       "    </tr>\n",
       "    <tr>\n",
       "      <th>3</th>\n",
       "      <td>1500</td>\n",
       "      <td>small</td>\n",
       "      <td>2001</td>\n",
       "      <td>manual</td>\n",
       "      <td>75</td>\n",
       "      <td>golf</td>\n",
       "      <td>150000</td>\n",
       "      <td>petrol</td>\n",
       "      <td>volkswagen</td>\n",
       "      <td>no</td>\n",
       "    </tr>\n",
       "    <tr>\n",
       "      <th>4</th>\n",
       "      <td>3600</td>\n",
       "      <td>small</td>\n",
       "      <td>2008</td>\n",
       "      <td>manual</td>\n",
       "      <td>69</td>\n",
       "      <td>fabia</td>\n",
       "      <td>90000</td>\n",
       "      <td>gasoline</td>\n",
       "      <td>skoda</td>\n",
       "      <td>no</td>\n",
       "    </tr>\n",
       "  </tbody>\n",
       "</table>\n",
       "</div>"
      ],
      "text/plain": [
       "   Price VehicleType  RegistrationYear Gearbox  Power  Model  Kilometer  \\\n",
       "0    480         NaN              1993  manual      0   golf     150000   \n",
       "1  18300       coupe              2011  manual    190    NaN     125000   \n",
       "2   9800         suv              2004    auto    163  grand     125000   \n",
       "3   1500       small              2001  manual     75   golf     150000   \n",
       "4   3600       small              2008  manual     69  fabia      90000   \n",
       "\n",
       "   FuelType       Brand NotRepaired  \n",
       "0    petrol  volkswagen         NaN  \n",
       "1  gasoline        audi         yes  \n",
       "2  gasoline        jeep         NaN  \n",
       "3    petrol  volkswagen          no  \n",
       "4  gasoline       skoda          no  "
      ]
     },
     "execution_count": 20,
     "metadata": {},
     "output_type": "execute_result"
    }
   ],
   "source": [
    "data.head()"
   ]
  },
  {
   "cell_type": "markdown",
   "id": "d17bfc36",
   "metadata": {
    "id": "d17bfc36"
   },
   "source": [
    "#### Изменение типов данных"
   ]
  },
  {
   "cell_type": "markdown",
   "id": "d0c0af22",
   "metadata": {
    "id": "d0c0af22"
   },
   "source": [
    "Уменьшим объем занимаемой таблицей памяти изменив типы данных числовых признаков."
   ]
  },
  {
   "cell_type": "code",
   "execution_count": 21,
   "id": "0c3b04c6",
   "metadata": {
    "colab": {
     "base_uri": "https://localhost:8080/"
    },
    "id": "0c3b04c6",
    "outputId": "66511824-6da6-477e-acb3-88d6d0ceec95",
    "scrolled": true
   },
   "outputs": [
    {
     "name": "stdout",
     "output_type": "stream",
     "text": [
      "<class 'pandas.core.frame.DataFrame'>\n",
      "RangeIndex: 354369 entries, 0 to 354368\n",
      "Data columns (total 10 columns):\n",
      " #   Column            Non-Null Count   Dtype \n",
      "---  ------            --------------   ----- \n",
      " 0   Price             354369 non-null  int64 \n",
      " 1   VehicleType       316879 non-null  object\n",
      " 2   RegistrationYear  354369 non-null  int64 \n",
      " 3   Gearbox           334536 non-null  object\n",
      " 4   Power             354369 non-null  int64 \n",
      " 5   Model             334664 non-null  object\n",
      " 6   Kilometer         354369 non-null  int64 \n",
      " 7   FuelType          321474 non-null  object\n",
      " 8   Brand             354369 non-null  object\n",
      " 9   NotRepaired       283215 non-null  object\n",
      "dtypes: int64(4), object(6)\n",
      "memory usage: 27.0+ MB\n"
     ]
    }
   ],
   "source": [
    "data.info()"
   ]
  },
  {
   "cell_type": "code",
   "execution_count": 22,
   "id": "168623e6",
   "metadata": {
    "id": "168623e6"
   },
   "outputs": [],
   "source": [
    "data['Price'] = data['Price'].astype('int16')\n",
    "data['Power'] = data['Power'].astype('int16')\n",
    "data['RegistrationYear'] = data['RegistrationYear'].astype('int32')\n",
    "data['Kilometer'] = data['Kilometer'].astype('int16')"
   ]
  },
  {
   "cell_type": "code",
   "execution_count": 23,
   "id": "52e8fd42",
   "metadata": {
    "colab": {
     "base_uri": "https://localhost:8080/"
    },
    "id": "52e8fd42",
    "outputId": "3fc0f2ae-252a-45f8-e20f-898b69be8aa3",
    "scrolled": false
   },
   "outputs": [
    {
     "name": "stdout",
     "output_type": "stream",
     "text": [
      "<class 'pandas.core.frame.DataFrame'>\n",
      "RangeIndex: 354369 entries, 0 to 354368\n",
      "Data columns (total 10 columns):\n",
      " #   Column            Non-Null Count   Dtype \n",
      "---  ------            --------------   ----- \n",
      " 0   Price             354369 non-null  int16 \n",
      " 1   VehicleType       316879 non-null  object\n",
      " 2   RegistrationYear  354369 non-null  int32 \n",
      " 3   Gearbox           334536 non-null  object\n",
      " 4   Power             354369 non-null  int16 \n",
      " 5   Model             334664 non-null  object\n",
      " 6   Kilometer         354369 non-null  int16 \n",
      " 7   FuelType          321474 non-null  object\n",
      " 8   Brand             354369 non-null  object\n",
      " 9   NotRepaired       283215 non-null  object\n",
      "dtypes: int16(3), int32(1), object(6)\n",
      "memory usage: 19.6+ MB\n"
     ]
    }
   ],
   "source": [
    "data.info()"
   ]
  },
  {
   "cell_type": "markdown",
   "id": "6f22c7bc",
   "metadata": {
    "id": "6f22c7bc"
   },
   "source": [
    "Мы сократили использование памяти на 7.4 МВ"
   ]
  },
  {
   "cell_type": "markdown",
   "id": "8867255b",
   "metadata": {
    "id": "8867255b"
   },
   "source": [
    "#### Заполнение пропусков"
   ]
  },
  {
   "cell_type": "markdown",
   "id": "40c9abb0",
   "metadata": {
    "id": "40c9abb0"
   },
   "source": [
    "Заполним пропуски в столбцах `Gearbox`, `Model`, `FuelType` и `NotRepaired` заглушками, тк эту информацию не восстановить."
   ]
  },
  {
   "cell_type": "code",
   "execution_count": 24,
   "id": "YzkjPmr1Uo9O",
   "metadata": {
    "colab": {
     "base_uri": "https://localhost:8080/"
    },
    "id": "YzkjPmr1Uo9O",
    "outputId": "bec1d212-9178-4d34-9a62-72851e1445ca"
   },
   "outputs": [
    {
     "data": {
      "text/plain": [
       "Gearbox     19833\n",
       "Model       19705\n",
       "FuelType    32895\n",
       "dtype: int64"
      ]
     },
     "execution_count": 24,
     "metadata": {},
     "output_type": "execute_result"
    }
   ],
   "source": [
    "data[['Gearbox', 'Model', 'FuelType']].isna().sum()"
   ]
  },
  {
   "cell_type": "code",
   "execution_count": 25,
   "id": "6db9d239",
   "metadata": {
    "id": "6db9d239"
   },
   "outputs": [],
   "source": [
    "data[['Gearbox', 'Model', 'FuelType']] = data[['Gearbox', 'Model', 'FuelType']].fillna('other')"
   ]
  },
  {
   "cell_type": "code",
   "execution_count": 26,
   "id": "c737e9ed",
   "metadata": {
    "colab": {
     "base_uri": "https://localhost:8080/"
    },
    "id": "c737e9ed",
    "outputId": "462ed006-fb09-4936-ecfd-69dc9ead874f"
   },
   "outputs": [
    {
     "data": {
      "text/plain": [
       "Gearbox     0\n",
       "Model       0\n",
       "FuelType    0\n",
       "dtype: int64"
      ]
     },
     "execution_count": 26,
     "metadata": {},
     "output_type": "execute_result"
    }
   ],
   "source": [
    "data[['Gearbox', 'Model', 'FuelType']].isna().sum()"
   ]
  },
  {
   "cell_type": "code",
   "execution_count": 27,
   "id": "8dea1159",
   "metadata": {
    "colab": {
     "base_uri": "https://localhost:8080/"
    },
    "id": "8dea1159",
    "outputId": "86927b97-b081-4241-9d0d-d5336af4829b"
   },
   "outputs": [
    {
     "data": {
      "text/plain": [
       "71154"
      ]
     },
     "execution_count": 27,
     "metadata": {},
     "output_type": "execute_result"
    }
   ],
   "source": [
    "data['NotRepaired'].isna().sum()"
   ]
  },
  {
   "cell_type": "code",
   "execution_count": 28,
   "id": "5ef7ce12",
   "metadata": {
    "id": "5ef7ce12"
   },
   "outputs": [],
   "source": [
    "data['NotRepaired'] = data['NotRepaired'].fillna('no_info')"
   ]
  },
  {
   "cell_type": "code",
   "execution_count": 29,
   "id": "95e0cb37",
   "metadata": {
    "colab": {
     "base_uri": "https://localhost:8080/"
    },
    "id": "95e0cb37",
    "outputId": "fa1e4f62-59f4-4d0f-87df-51163c2f1d45"
   },
   "outputs": [
    {
     "data": {
      "text/plain": [
       "0"
      ]
     },
     "execution_count": 29,
     "metadata": {},
     "output_type": "execute_result"
    }
   ],
   "source": [
    "data['NotRepaired'].isna().sum()"
   ]
  },
  {
   "cell_type": "markdown",
   "id": "70996a27",
   "metadata": {
    "id": "70996a27"
   },
   "source": [
    "Пропуски в столбце `VehicleType` заполним используя информацию о марке и модели машины."
   ]
  },
  {
   "cell_type": "code",
   "execution_count": 30,
   "id": "9d991db3",
   "metadata": {
    "colab": {
     "base_uri": "https://localhost:8080/"
    },
    "id": "9d991db3",
    "outputId": "4e40efd6-5571-4bd6-d8cf-78b3be7b3f21",
    "scrolled": false
   },
   "outputs": [
    {
     "data": {
      "text/plain": [
       "37490"
      ]
     },
     "execution_count": 30,
     "metadata": {},
     "output_type": "execute_result"
    }
   ],
   "source": [
    "data['VehicleType'].isna().sum()"
   ]
  },
  {
   "cell_type": "code",
   "execution_count": 31,
   "id": "917e3525",
   "metadata": {
    "id": "917e3525"
   },
   "outputs": [],
   "source": [
    "vh_transformed = data.groupby(['Brand', 'Model'])['VehicleType'].transform(lambda x:mode(x).mode[0])"
   ]
  },
  {
   "cell_type": "code",
   "execution_count": 32,
   "id": "6bbac5a1",
   "metadata": {
    "id": "6bbac5a1"
   },
   "outputs": [],
   "source": [
    "data['VehicleType'] = data['VehicleType'].fillna(vh_transformed)"
   ]
  },
  {
   "cell_type": "code",
   "execution_count": 33,
   "id": "99facca2",
   "metadata": {
    "colab": {
     "base_uri": "https://localhost:8080/"
    },
    "id": "99facca2",
    "outputId": "34f2a64e-519a-447e-b97f-b3a08c2e2532"
   },
   "outputs": [
    {
     "data": {
      "text/plain": [
       "0"
      ]
     },
     "execution_count": 33,
     "metadata": {},
     "output_type": "execute_result"
    }
   ],
   "source": [
    "data['VehicleType'].isna().sum()"
   ]
  },
  {
   "cell_type": "code",
   "execution_count": 34,
   "id": "0a3bce3b",
   "metadata": {
    "colab": {
     "base_uri": "https://localhost:8080/"
    },
    "id": "0a3bce3b",
    "outputId": "a94bb5d6-a773-4264-d5d6-9d9438730b01"
   },
   "outputs": [
    {
     "data": {
      "text/plain": [
       "Price               0.0\n",
       "VehicleType         0.0\n",
       "RegistrationYear    0.0\n",
       "Gearbox             0.0\n",
       "Power               0.0\n",
       "Model               0.0\n",
       "Kilometer           0.0\n",
       "FuelType            0.0\n",
       "Brand               0.0\n",
       "NotRepaired         0.0\n",
       "dtype: float64"
      ]
     },
     "execution_count": 34,
     "metadata": {},
     "output_type": "execute_result"
    }
   ],
   "source": [
    "(data.isna().sum()/data.shape[0]*100).round(1)"
   ]
  },
  {
   "cell_type": "markdown",
   "id": "35db96d2",
   "metadata": {
    "id": "35db96d2"
   },
   "source": [
    "#### Исправление ошибок"
   ]
  },
  {
   "cell_type": "markdown",
   "id": "fedff4eb",
   "metadata": {
    "id": "fedff4eb"
   },
   "source": [
    "В столбце `FuelType` значения gasoline и petrol - синонимы, приведем их к одному значению."
   ]
  },
  {
   "cell_type": "code",
   "execution_count": 35,
   "id": "0aeb77fa",
   "metadata": {
    "id": "0aeb77fa",
    "scrolled": true
   },
   "outputs": [],
   "source": [
    "data['FuelType'].replace('gasoline', 'petrol', inplace=True)"
   ]
  },
  {
   "cell_type": "code",
   "execution_count": 36,
   "id": "b3a44a5d",
   "metadata": {
    "colab": {
     "base_uri": "https://localhost:8080/"
    },
    "id": "b3a44a5d",
    "outputId": "f7d65002-c54b-4022-cebd-e48fb0c42358",
    "scrolled": true
   },
   "outputs": [
    {
     "data": {
      "text/plain": [
       "petrol      315072\n",
       "other        33099\n",
       "lpg           5310\n",
       "cng            565\n",
       "hybrid         233\n",
       "electric        90\n",
       "Name: FuelType, dtype: int64"
      ]
     },
     "execution_count": 36,
     "metadata": {},
     "output_type": "execute_result"
    }
   ],
   "source": [
    "data['FuelType'].value_counts()"
   ]
  },
  {
   "cell_type": "markdown",
   "id": "d142a41a",
   "metadata": {
    "id": "d142a41a"
   },
   "source": [
    "В столбце `Power` значения мощности выходят за пределы нормальной мощности автомобиля как в меньшую, так и в большую стороны."
   ]
  },
  {
   "cell_type": "markdown",
   "id": "310d74c4",
   "metadata": {
    "id": "310d74c4"
   },
   "source": [
    "Посмотрим распределение с помощью графика boxplot."
   ]
  },
  {
   "cell_type": "code",
   "execution_count": 37,
   "id": "bee38d67",
   "metadata": {
    "colab": {
     "base_uri": "https://localhost:8080/",
     "height": 423
    },
    "id": "bee38d67",
    "outputId": "99094954-5b08-4e54-bbdf-12c02cfeeed4",
    "scrolled": false
   },
   "outputs": [
    {
     "data": {
      "image/png": "[encoded data removed]",
      "text/plain": [
       "<Figure size 1080x432 with 1 Axes>"
      ]
     },
     "metadata": {
      "needs_background": "light"
     },
     "output_type": "display_data"
    }
   ],
   "source": [
    "plt.figure(figsize=(15,6))\n",
    "sns.boxplot(data=data['Power'], orient='h')\n",
    "plt.xscale(\"log\")\n",
    "ax = plt.gca()\n",
    "plt.tick_params(axis='x', which='minor', rotation=45)\n",
    "ax.xaxis.set_minor_formatter(FormatStrFormatter(\"%.0f\"))\n",
    "plt.tick_params(axis='x', which='major', rotation=45)\n",
    "ax.xaxis.set_major_formatter(FormatStrFormatter(\"%.0f\"))\n",
    "plt.title('Мощность автомобилей')\n",
    "plt.xlabel('Мощность, л.с.')\n",
    "plt.show()"
   ]
  },
  {
   "cell_type": "markdown",
   "id": "2aaf9d7c",
   "metadata": {
    "id": "2aaf9d7c"
   },
   "source": [
    "На графике мы видим, что граница правого 'уса' находится примерно на 250 л.с., а левого оканчивается на нуле.\n",
    "\n",
    "Выставим границы для отсечения аномалий. Нижний лимит возьмем чуть ближе к среднему, так как иначе из-за большого количества нулей он также равен нулю, а в данном случае это неадекватное значение."
   ]
  },
  {
   "cell_type": "code",
   "execution_count": 38,
   "id": "7ca2ba63",
   "metadata": {
    "colab": {
     "base_uri": "https://localhost:8080/"
    },
    "id": "7ca2ba63",
    "outputId": "f16c4b19-0120-42d3-85f2-829a38583e2b",
    "scrolled": false
   },
   "outputs": [
    {
     "name": "stdout",
     "output_type": "stream",
     "text": [
      "54.0\n",
      "300.0\n"
     ]
    }
   ],
   "source": [
    "upper_limit = data['Power'].quantile(0.99)\n",
    "lower_limit = data['Power'].quantile(0.15)\n",
    "print(lower_limit)\n",
    "print(upper_limit)"
   ]
  },
  {
   "cell_type": "markdown",
   "id": "3691674e",
   "metadata": {
    "id": "3691674e"
   },
   "source": [
    "Посмотрим, каков процент неадекватных значений."
   ]
  },
  {
   "cell_type": "code",
   "execution_count": 39,
   "id": "53f562fe",
   "metadata": {
    "colab": {
     "base_uri": "https://localhost:8080/"
    },
    "id": "53f562fe",
    "outputId": "d187b248-09f1-40b2-ddef-0bd368bc081b",
    "scrolled": false
   },
   "outputs": [
    {
     "data": {
      "text/plain": [
       "0.15"
      ]
     },
     "execution_count": 39,
     "metadata": {},
     "output_type": "execute_result"
    }
   ],
   "source": [
    "(data[(data['Power'] < lower_limit) | (data['Power'] > upper_limit)]['Power'].count()/data.shape[0]).round(2)"
   ]
  },
  {
   "cell_type": "markdown",
   "id": "7781aacf",
   "metadata": {
    "id": "7781aacf"
   },
   "source": [
    "Это довольно большой процент, который не хотелось бы потерять. Заменим неверные значения на самые частые для данной марки, модели и типа двигателя."
   ]
  },
  {
   "cell_type": "code",
   "execution_count": 40,
   "id": "04730ee8",
   "metadata": {
    "id": "04730ee8"
   },
   "outputs": [],
   "source": [
    "power_transformed = data.groupby(['Brand', 'Model', 'FuelType'])['Power'].transform('median')"
   ]
  },
  {
   "cell_type": "code",
   "execution_count": 41,
   "id": "6b888e41",
   "metadata": {
    "id": "6b888e41"
   },
   "outputs": [],
   "source": [
    "data.loc[(data['Power'] < lower_limit) | (data['Power'] > upper_limit), 'Power'] = power_transformed"
   ]
  },
  {
   "cell_type": "markdown",
   "id": "4ad69f89",
   "metadata": {
    "id": "4ad69f89"
   },
   "source": [
    "В столбце `RegistrationYear` также есть неверные даты. Так как информация собрана в 2016 году, даты позже 2016 в столбце быть не может. Нижий лимит установим по распределению и посмотрим, сколько таких дат."
   ]
  },
  {
   "cell_type": "code",
   "execution_count": 42,
   "id": "cf634c50",
   "metadata": {
    "colab": {
     "base_uri": "https://localhost:8080/"
    },
    "id": "cf634c50",
    "outputId": "420a2b8d-6dd1-4242-a9a4-cf68c8b1f8d6",
    "scrolled": true
   },
   "outputs": [
    {
     "name": "stdout",
     "output_type": "stream",
     "text": [
      "1980.0\n"
     ]
    }
   ],
   "source": [
    "lower_limit = data['RegistrationYear'].quantile(0.01)\n",
    "print(lower_limit)"
   ]
  },
  {
   "cell_type": "code",
   "execution_count": 43,
   "id": "565e7ac5",
   "metadata": {
    "colab": {
     "base_uri": "https://localhost:8080/"
    },
    "id": "565e7ac5",
    "outputId": "de467e81-5273-47f0-c0b2-de98d78040f8",
    "scrolled": true
   },
   "outputs": [
    {
     "data": {
      "text/plain": [
       "0.05"
      ]
     },
     "execution_count": 43,
     "metadata": {},
     "output_type": "execute_result"
    }
   ],
   "source": [
    "(data[(data['RegistrationYear'] > 2016) | (data['RegistrationYear'] < lower_limit)]['RegistrationYear'].count()/data.shape[0]).round(2)"
   ]
  },
  {
   "cell_type": "markdown",
   "id": "38d17014",
   "metadata": {
    "id": "38d17014"
   },
   "source": [
    "Аномальных дат довольно мало, всего 5%. Так как год выпуска довольно сильно влияет на стоимость автомобиля, менять эти значения не будем, а просто удалим."
   ]
  },
  {
   "cell_type": "code",
   "execution_count": 44,
   "id": "a969c5ba",
   "metadata": {
    "id": "a969c5ba"
   },
   "outputs": [],
   "source": [
    "data = data.drop(data[(data['RegistrationYear'] > 2016) | (data['RegistrationYear'] < lower_limit)].index, axis=0)"
   ]
  },
  {
   "cell_type": "markdown",
   "id": "954127f9",
   "metadata": {
    "id": "954127f9"
   },
   "source": [
    "Удалим автомобили без цены."
   ]
  },
  {
   "cell_type": "code",
   "execution_count": 45,
   "id": "856bc1da",
   "metadata": {
    "colab": {
     "base_uri": "https://localhost:8080/"
    },
    "id": "856bc1da",
    "outputId": "7ddf7754-97d2-49f4-9bb8-c8d3b9924f41"
   },
   "outputs": [
    {
     "data": {
      "text/plain": [
       "0.03"
      ]
     },
     "execution_count": 45,
     "metadata": {},
     "output_type": "execute_result"
    }
   ],
   "source": [
    "(data[data['Price'] == 0]['Price'].count()/data.shape[0]).round(2)"
   ]
  },
  {
   "cell_type": "code",
   "execution_count": 46,
   "id": "0c6f6356",
   "metadata": {
    "id": "0c6f6356"
   },
   "outputs": [],
   "source": [
    "data.drop(data[data['Price'] == 0].index, axis=0, inplace=True)"
   ]
  },
  {
   "cell_type": "code",
   "execution_count": 47,
   "id": "6817b8ae",
   "metadata": {
    "colab": {
     "base_uri": "https://localhost:8080/"
    },
    "id": "6817b8ae",
    "outputId": "89ae7986-a133-4a07-9eaa-50be635f0950"
   },
   "outputs": [
    {
     "name": "stdout",
     "output_type": "stream",
     "text": [
      "<class 'pandas.core.frame.DataFrame'>\n",
      "Int64Index: 326652 entries, 0 to 354368\n",
      "Data columns (total 10 columns):\n",
      " #   Column            Non-Null Count   Dtype  \n",
      "---  ------            --------------   -----  \n",
      " 0   Price             326652 non-null  int16  \n",
      " 1   VehicleType       326652 non-null  object \n",
      " 2   RegistrationYear  326652 non-null  int32  \n",
      " 3   Gearbox           326652 non-null  object \n",
      " 4   Power             326652 non-null  float64\n",
      " 5   Model             326652 non-null  object \n",
      " 6   Kilometer         326652 non-null  int16  \n",
      " 7   FuelType          326652 non-null  object \n",
      " 8   Brand             326652 non-null  object \n",
      " 9   NotRepaired       326652 non-null  object \n",
      "dtypes: float64(1), int16(2), int32(1), object(6)\n",
      "memory usage: 22.4+ MB\n"
     ]
    }
   ],
   "source": [
    "data.info()"
   ]
  },
  {
   "cell_type": "markdown",
   "id": "510b7748",
   "metadata": {
    "id": "510b7748"
   },
   "source": [
    "#### Удаление дубликатов"
   ]
  },
  {
   "cell_type": "code",
   "execution_count": 48,
   "id": "b441e8c1",
   "metadata": {
    "colab": {
     "base_uri": "https://localhost:8080/"
    },
    "id": "b441e8c1",
    "outputId": "19b49764-d16f-46d2-b8e8-734b0541b809"
   },
   "outputs": [
    {
     "data": {
      "text/plain": [
       "45959"
      ]
     },
     "execution_count": 48,
     "metadata": {},
     "output_type": "execute_result"
    }
   ],
   "source": [
    "data.duplicated().sum()"
   ]
  },
  {
   "cell_type": "code",
   "execution_count": 49,
   "id": "f83ff0f5",
   "metadata": {
    "id": "f83ff0f5"
   },
   "outputs": [],
   "source": [
    "data = data.drop_duplicates().reset_index(drop=True)"
   ]
  },
  {
   "cell_type": "markdown",
   "id": "c982356d",
   "metadata": {
    "id": "c982356d"
   },
   "source": [
    "### Разбиение на выборки и выделение целевого признака"
   ]
  },
  {
   "cell_type": "code",
   "execution_count": 50,
   "id": "dcb34d63",
   "metadata": {
    "id": "dcb34d63"
   },
   "outputs": [],
   "source": [
    "y = data['Price']\n",
    "X = data.drop('Price', axis=1)"
   ]
  },
  {
   "cell_type": "code",
   "execution_count": 51,
   "id": "2d9b1194",
   "metadata": {
    "id": "2d9b1194"
   },
   "outputs": [],
   "source": [
    "X_train, X_val, y_train, y_val = train_test_split(\n",
    "    X, y, test_size=0.1, random_state=42)\n",
    "X_train, X_test, y_train, y_test = train_test_split(\n",
    "    X_train, y_train, test_size=0.111111, random_state=42)"
   ]
  },
  {
   "cell_type": "markdown",
   "id": "e504c848",
   "metadata": {},
   "source": [
    "Проверим, что у нас получились адекватные размеры выборок."
   ]
  },
  {
   "cell_type": "code",
   "execution_count": 52,
   "id": "2f0e3da0",
   "metadata": {
    "colab": {
     "base_uri": "https://localhost:8080/"
    },
    "id": "2f0e3da0",
    "outputId": "6255d887-554b-4a2d-edbb-6ee4593356c2",
    "scrolled": true
   },
   "outputs": [
    {
     "data": {
      "text/plain": [
       "(224553, 9)"
      ]
     },
     "execution_count": 52,
     "metadata": {},
     "output_type": "execute_result"
    }
   ],
   "source": [
    "X_train.shape"
   ]
  },
  {
   "cell_type": "code",
   "execution_count": 53,
   "id": "c41f3606",
   "metadata": {
    "colab": {
     "base_uri": "https://localhost:8080/"
    },
    "id": "c41f3606",
    "outputId": "0f352d41-00cd-4a5f-f0ea-db39ce5b2542"
   },
   "outputs": [
    {
     "data": {
      "text/plain": [
       "(28070, 9)"
      ]
     },
     "execution_count": 53,
     "metadata": {},
     "output_type": "execute_result"
    }
   ],
   "source": [
    "X_test.shape"
   ]
  },
  {
   "cell_type": "code",
   "execution_count": 54,
   "id": "1242dc43",
   "metadata": {
    "colab": {
     "base_uri": "https://localhost:8080/"
    },
    "id": "1242dc43",
    "outputId": "7fb9cdc9-6b46-4f90-fcc3-7b0de9f6fbb5"
   },
   "outputs": [
    {
     "data": {
      "text/plain": [
       "(28070, 9)"
      ]
     },
     "execution_count": 54,
     "metadata": {},
     "output_type": "execute_result"
    }
   ],
   "source": [
    "X_val.shape"
   ]
  },
  {
   "cell_type": "markdown",
   "id": "eeeb63ef",
   "metadata": {
    "id": "eeeb63ef"
   },
   "source": [
    "### Стандартизация"
   ]
  },
  {
   "cell_type": "markdown",
   "id": "aadab9a4",
   "metadata": {
    "id": "aadab9a4"
   },
   "source": [
    "Количественные признаки стандартизируем."
   ]
  },
  {
   "cell_type": "code",
   "execution_count": 55,
   "id": "23f4a840",
   "metadata": {
    "id": "23f4a840"
   },
   "outputs": [],
   "source": [
    "num_features = ['RegistrationYear', 'Power', 'Kilometer']"
   ]
  },
  {
   "cell_type": "code",
   "execution_count": 56,
   "id": "c43c9fb0",
   "metadata": {
    "id": "c43c9fb0"
   },
   "outputs": [],
   "source": [
    "scaler = StandardScaler()"
   ]
  },
  {
   "cell_type": "code",
   "execution_count": 57,
   "id": "6f7fd506",
   "metadata": {
    "colab": {
     "base_uri": "https://localhost:8080/"
    },
    "id": "6f7fd506",
    "outputId": "d01bf2f4-630b-4fc0-cfe9-7eb7f875c088"
   },
   "outputs": [
    {
     "data": {
      "text/plain": [
       "StandardScaler()"
      ]
     },
     "execution_count": 57,
     "metadata": {},
     "output_type": "execute_result"
    }
   ],
   "source": [
    "scaler.fit(X_train[num_features])"
   ]
  },
  {
   "cell_type": "code",
   "execution_count": 58,
   "id": "e520e7bc",
   "metadata": {
    "id": "e520e7bc"
   },
   "outputs": [],
   "source": [
    "X_train.loc[:, num_features] = scaler.transform(X_train[num_features])"
   ]
  },
  {
   "cell_type": "code",
   "execution_count": 59,
   "id": "d698c40b",
   "metadata": {
    "id": "d698c40b",
    "scrolled": true
   },
   "outputs": [],
   "source": [
    "X_val.loc[:, num_features] = scaler.transform(X_val[num_features])"
   ]
  },
  {
   "cell_type": "code",
   "execution_count": 60,
   "id": "a2d68105",
   "metadata": {
    "id": "a2d68105"
   },
   "outputs": [],
   "source": [
    "X_test.loc[:, num_features] = scaler.transform(X_test[num_features])"
   ]
  },
  {
   "cell_type": "markdown",
   "id": "59dfa6e2",
   "metadata": {
    "id": "59dfa6e2"
   },
   "source": [
    "## Обучение моделей"
   ]
  },
  {
   "cell_type": "markdown",
   "id": "1e10d6a1",
   "metadata": {
    "id": "1e10d6a1"
   },
   "source": [
    "Мы будем сравнивать следующие модели:\n",
    "* Linear Regression\n",
    "* Elastic Net\n",
    "* Decision Tree\n",
    "* Random Forest\n",
    "* CatBoost\n",
    "* LightGBM\n",
    "* Простая полносвязная нейросеть\n",
    "\n",
    "Для каждого типа моделей сделаем свой датасет."
   ]
  },
  {
   "cell_type": "markdown",
   "id": "e959ab2e",
   "metadata": {
    "id": "e959ab2e"
   },
   "source": [
    "Напишем функцию для оценки и сравнения моделей."
   ]
  },
  {
   "cell_type": "code",
   "execution_count": 61,
   "id": "034a631e",
   "metadata": {
    "id": "034a631e"
   },
   "outputs": [],
   "source": [
    "def model_eval(model, X_train, y_train, X_val, y_val, model_type=None):\n",
    "    \n",
    "    if not model_type:\n",
    "        start = time.time()    \n",
    "        model.fit(X_train, y_train)\n",
    "        training_time = time.time() - start\n",
    "        \n",
    "        start = time.time()  \n",
    "        y_pred = model.predict(X_val)\n",
    "        predict_time = time.time() - start\n",
    "\n",
    "    elif model_type == 'cv':\n",
    "        training_time = model.refit_time_\n",
    "\n",
    "        start = time.time()  \n",
    "        y_pred = model.predict(X_val)\n",
    "        predict_time = time.time() - start\n",
    "        \n",
    "    rmse = (mean_squared_error(y_val, y_pred))**0.5\n",
    "    \n",
    "    print('Время обучения', np.round(training_time, 6), 'секунд')\n",
    "    print('Время предсказания', np.round(predict_time, 6), 'секунд')\n",
    "    print('RMSE', rmse)\n",
    "\n",
    "    return training_time, predict_time, rmse"
   ]
  },
  {
   "cell_type": "markdown",
   "id": "92950ff6",
   "metadata": {},
   "source": [
    "И функцию для кодирования признаков с помощью OneHotEncoderа."
   ]
  },
  {
   "cell_type": "code",
   "execution_count": 62,
   "id": "10487335",
   "metadata": {},
   "outputs": [],
   "source": [
    "def one_hot_transform(df, encoder):\n",
    "    '''\n",
    "    Кодирует данные с помощью OneHotEncoderа и встявляет их обратно в датафрейм\n",
    "    '''\n",
    "    global cat_features\n",
    "    trans = ohenc.transform(df[cat_features]).toarray()\n",
    "    df = df.drop(cat_features, axis=1)\n",
    "    df = pd.concat([df, pd.DataFrame(\n",
    "        trans, columns=new_columns, index=df.index)], axis='columns')\n",
    "    return df"
   ]
  },
  {
   "cell_type": "code",
   "execution_count": 63,
   "id": "48d0deed",
   "metadata": {
    "id": "48d0deed"
   },
   "outputs": [],
   "source": [
    "results = []"
   ]
  },
  {
   "cell_type": "markdown",
   "id": "fb4ef16d",
   "metadata": {
    "id": "fb4ef16d"
   },
   "source": [
    "### Linear Regression"
   ]
  },
  {
   "cell_type": "markdown",
   "id": "29899342",
   "metadata": {},
   "source": [
    "Для линейной регрессии и Elastic Net закодируем категориальные признаки с помощью OneHotEncoderа."
   ]
  },
  {
   "cell_type": "code",
   "execution_count": 64,
   "id": "c1362188",
   "metadata": {
    "colab": {
     "base_uri": "https://localhost:8080/"
    },
    "id": "c1362188",
    "outputId": "9a81c56a-7aca-4899-e28b-131bd2fd7af5"
   },
   "outputs": [
    {
     "data": {
      "text/plain": [
       "['VehicleType', 'Gearbox', 'FuelType', 'NotRepaired', 'Model', 'Brand']"
      ]
     },
     "execution_count": 64,
     "metadata": {},
     "output_type": "execute_result"
    }
   ],
   "source": [
    "cat_features"
   ]
  },
  {
   "cell_type": "code",
   "execution_count": 65,
   "id": "4d2ff69f",
   "metadata": {},
   "outputs": [],
   "source": [
    "X_train_ohe = X_train.copy()\n",
    "X_val_ohe = X_val.copy()\n",
    "X_test_ohe = X_test.copy()"
   ]
  },
  {
   "cell_type": "code",
   "execution_count": 66,
   "id": "eef12259",
   "metadata": {},
   "outputs": [
    {
     "data": {
      "text/plain": [
       "OneHotEncoder(handle_unknown='ignore')"
      ]
     },
     "execution_count": 66,
     "metadata": {},
     "output_type": "execute_result"
    }
   ],
   "source": [
    "ohenc = OneHotEncoder(handle_unknown='ignore')\n",
    "ohenc.fit(X_train[cat_features])"
   ]
  },
  {
   "cell_type": "code",
   "execution_count": 67,
   "id": "bb498f3a",
   "metadata": {},
   "outputs": [],
   "source": [
    "new_columns=list()\n",
    "for col, values in zip(cat_features, ohenc.categories_):\n",
    "    new_columns.extend([col + '_' + str(value) for value in values])"
   ]
  },
  {
   "cell_type": "code",
   "execution_count": 68,
   "id": "07173ebc",
   "metadata": {},
   "outputs": [],
   "source": [
    "X_train_ohe = one_hot_transform(X_train, ohenc)\n",
    "X_val_ohe = one_hot_transform(X_val, ohenc)\n",
    "X_test_ohe = one_hot_transform(X_test, ohenc)"
   ]
  },
  {
   "cell_type": "code",
   "execution_count": 69,
   "id": "4d08a6cd",
   "metadata": {
    "id": "4d08a6cd"
   },
   "outputs": [],
   "source": [
    "linreg = LinearRegression()"
   ]
  },
  {
   "cell_type": "code",
   "execution_count": 70,
   "id": "bf2199eb",
   "metadata": {
    "colab": {
     "base_uri": "https://localhost:8080/"
    },
    "id": "bf2199eb",
    "outputId": "fc0e8fd5-1de8-4e71-b292-d92253d4f873"
   },
   "outputs": [
    {
     "name": "stdout",
     "output_type": "stream",
     "text": [
      "Время обучения 4.361902 секунд\n",
      "Время предсказания 0.041578 секунд\n",
      "RMSE 2783.4986705171837\n"
     ]
    }
   ],
   "source": [
    "res = model_eval(linreg, X_train_ohe, y_train, X_val_ohe, y_val)"
   ]
  },
  {
   "cell_type": "code",
   "execution_count": 71,
   "id": "dce727b9",
   "metadata": {
    "id": "dce727b9"
   },
   "outputs": [],
   "source": [
    "results.append(res)"
   ]
  },
  {
   "cell_type": "markdown",
   "id": "a82eec18",
   "metadata": {
    "id": "a82eec18"
   },
   "source": [
    "### Elastic Net"
   ]
  },
  {
   "cell_type": "code",
   "execution_count": 72,
   "id": "01819497",
   "metadata": {
    "id": "01819497"
   },
   "outputs": [],
   "source": [
    "elnet = ElasticNet(random_state=42)"
   ]
  },
  {
   "cell_type": "code",
   "execution_count": 73,
   "id": "9464f49d",
   "metadata": {
    "id": "9464f49d"
   },
   "outputs": [],
   "source": [
    "params = {'alpha': np.logspace(-2, 2, 20),\n",
    "          'l1_ratio': [0.01, 0.1, 0.3, 0.5, 0.7, 1]}\n",
    "\n",
    "cv = KFold(n_splits=3, shuffle=True, random_state=42)\n",
    "\n",
    "el_grid = GridSearchCV(elnet,\n",
    "                    param_grid=params,\n",
    "                    cv=cv,\n",
    "                    scoring='neg_mean_squared_error',\n",
    "                    n_jobs=-1,\n",
    "                    verbose=False, refit=True)"
   ]
  },
  {
   "cell_type": "code",
   "execution_count": 74,
   "id": "68dc03ae",
   "metadata": {
    "colab": {
     "base_uri": "https://localhost:8080/"
    },
    "id": "68dc03ae",
    "outputId": "3a745aee-3ce0-4fe7-e186-3e3a52f15800",
    "scrolled": true
   },
   "outputs": [
    {
     "name": "stderr",
     "output_type": "stream",
     "text": [
      "/home/alena/anaconda3/lib/python3.9/site-packages/sklearn/linear_model/_coordinate_descent.py:530: ConvergenceWarning: Objective did not converge. You might want to increase the number of iterations. Duality gap: 20203494673.700607, tolerance: 39084699.086916104\n",
      "  model = cd_fast.enet_coordinate_descent(\n",
      "/home/alena/anaconda3/lib/python3.9/site-packages/sklearn/linear_model/_coordinate_descent.py:530: ConvergenceWarning: Objective did not converge. You might want to increase the number of iterations. Duality gap: 12829523221.81482, tolerance: 38697721.889324285\n",
      "  model = cd_fast.enet_coordinate_descent(\n",
      "/home/alena/anaconda3/lib/python3.9/site-packages/sklearn/linear_model/_coordinate_descent.py:530: ConvergenceWarning: Objective did not converge. You might want to increase the number of iterations. Duality gap: 17491120998.50522, tolerance: 38979866.340712585\n",
      "  model = cd_fast.enet_coordinate_descent(\n",
      "/home/alena/anaconda3/lib/python3.9/site-packages/sklearn/linear_model/_coordinate_descent.py:530: ConvergenceWarning: Objective did not converge. You might want to increase the number of iterations. Duality gap: 18275498704.18393, tolerance: 39084699.086916104\n",
      "  model = cd_fast.enet_coordinate_descent(\n",
      "/home/alena/anaconda3/lib/python3.9/site-packages/sklearn/linear_model/_coordinate_descent.py:530: ConvergenceWarning: Objective did not converge. You might want to increase the number of iterations. Duality gap: 12414362022.142883, tolerance: 38697721.889324285\n",
      "  model = cd_fast.enet_coordinate_descent(\n",
      "/home/alena/anaconda3/lib/python3.9/site-packages/sklearn/linear_model/_coordinate_descent.py:530: ConvergenceWarning: Objective did not converge. You might want to increase the number of iterations. Duality gap: 11180029952.57788, tolerance: 38979866.340712585\n",
      "  model = cd_fast.enet_coordinate_descent(\n",
      "/home/alena/anaconda3/lib/python3.9/site-packages/sklearn/linear_model/_coordinate_descent.py:530: ConvergenceWarning: Objective did not converge. You might want to increase the number of iterations. Duality gap: 13315773183.937592, tolerance: 39084699.086916104\n",
      "  model = cd_fast.enet_coordinate_descent(\n",
      "/home/alena/anaconda3/lib/python3.9/site-packages/sklearn/linear_model/_coordinate_descent.py:530: ConvergenceWarning: Objective did not converge. You might want to increase the number of iterations. Duality gap: 12388222222.833374, tolerance: 38697721.889324285\n",
      "  model = cd_fast.enet_coordinate_descent(\n",
      "/home/alena/anaconda3/lib/python3.9/site-packages/sklearn/linear_model/_coordinate_descent.py:530: ConvergenceWarning: Objective did not converge. You might want to increase the number of iterations. Duality gap: 11216096431.16896, tolerance: 38979866.340712585\n",
      "  model = cd_fast.enet_coordinate_descent(\n",
      "/home/alena/anaconda3/lib/python3.9/site-packages/sklearn/linear_model/_coordinate_descent.py:530: ConvergenceWarning: Objective did not converge. You might want to increase the number of iterations. Duality gap: 12677861488.197006, tolerance: 39084699.086916104\n",
      "  model = cd_fast.enet_coordinate_descent(\n",
      "/home/alena/anaconda3/lib/python3.9/site-packages/sklearn/linear_model/_coordinate_descent.py:530: ConvergenceWarning: Objective did not converge. You might want to increase the number of iterations. Duality gap: 5515708200.19725, tolerance: 38979866.340712585\n",
      "  model = cd_fast.enet_coordinate_descent(\n",
      "/home/alena/anaconda3/lib/python3.9/site-packages/sklearn/linear_model/_coordinate_descent.py:530: ConvergenceWarning: Objective did not converge. You might want to increase the number of iterations. Duality gap: 611304126.1133728, tolerance: 38697721.889324285\n",
      "  model = cd_fast.enet_coordinate_descent(\n"
     ]
    },
    {
     "name": "stdout",
     "output_type": "stream",
     "text": [
      "CPU times: user 10.5 s, sys: 490 ms, total: 11 s\n",
      "Wall time: 2min 7s\n"
     ]
    },
    {
     "data": {
      "text/plain": [
       "GridSearchCV(cv=KFold(n_splits=3, random_state=42, shuffle=True),\n",
       "             estimator=ElasticNet(random_state=42), n_jobs=-1,\n",
       "             param_grid={'alpha': array([1.00000000e-02, 1.62377674e-02, 2.63665090e-02, 4.28133240e-02,\n",
       "       6.95192796e-02, 1.12883789e-01, 1.83298071e-01, 2.97635144e-01,\n",
       "       4.83293024e-01, 7.84759970e-01, 1.27427499e+00, 2.06913808e+00,\n",
       "       3.35981829e+00, 5.45559478e+00, 8.85866790e+00, 1.43844989e+01,\n",
       "       2.33572147e+01, 3.79269019e+01, 6.15848211e+01, 1.00000000e+02]),\n",
       "                         'l1_ratio': [0.01, 0.1, 0.3, 0.5, 0.7, 1]},\n",
       "             scoring='neg_mean_squared_error', verbose=False)"
      ]
     },
     "execution_count": 74,
     "metadata": {},
     "output_type": "execute_result"
    }
   ],
   "source": [
    "%%time\n",
    "el_grid.fit(X_val_ohe, y_val)"
   ]
  },
  {
   "cell_type": "code",
   "execution_count": 75,
   "id": "40f8bd27",
   "metadata": {
    "colab": {
     "base_uri": "https://localhost:8080/"
    },
    "id": "40f8bd27",
    "outputId": "4726c49b-0f27-408a-e213-cf4016caf638",
    "scrolled": true
   },
   "outputs": [
    {
     "data": {
      "text/plain": [
       "2.004926919937134"
      ]
     },
     "execution_count": 75,
     "metadata": {},
     "output_type": "execute_result"
    }
   ],
   "source": [
    "el_grid.refit_time_"
   ]
  },
  {
   "cell_type": "code",
   "execution_count": 76,
   "id": "bb0c3d20",
   "metadata": {
    "colab": {
     "base_uri": "https://localhost:8080/"
    },
    "id": "bb0c3d20",
    "outputId": "6b927417-05fa-438e-bc20-a4c8f1c9f055"
   },
   "outputs": [
    {
     "name": "stdout",
     "output_type": "stream",
     "text": [
      "Время обучения 2.004927 секунд\n",
      "Время предсказания 0.012634 секунд\n",
      "RMSE 2768.4465321621483\n"
     ]
    }
   ],
   "source": [
    "res = model_eval(el_grid, X_train_ohe, y_train, X_val_ohe, y_val, 'cv')"
   ]
  },
  {
   "cell_type": "code",
   "execution_count": 77,
   "id": "c107917f",
   "metadata": {
    "id": "c107917f"
   },
   "outputs": [],
   "source": [
    "results.append(res)"
   ]
  },
  {
   "cell_type": "markdown",
   "id": "724d03f6",
   "metadata": {
    "id": "724d03f6"
   },
   "source": [
    "### Decision Tree"
   ]
  },
  {
   "cell_type": "markdown",
   "id": "13ac2571",
   "metadata": {},
   "source": [
    "Для решающего дерева, случайного леса и LightGBM закодируем категориальные признаки с помощью Ordinal Encodinga."
   ]
  },
  {
   "cell_type": "code",
   "execution_count": 78,
   "id": "c6317ea1",
   "metadata": {},
   "outputs": [],
   "source": [
    "X_train_oe = X_train.copy()\n",
    "X_val_oe = X_val.copy()\n",
    "X_test_oe = X_test.copy()"
   ]
  },
  {
   "cell_type": "code",
   "execution_count": 79,
   "id": "ICaWhGeVbFav",
   "metadata": {
    "id": "ICaWhGeVbFav"
   },
   "outputs": [],
   "source": [
    "ordencoder = OrdinalEncoder()"
   ]
  },
  {
   "cell_type": "code",
   "execution_count": 80,
   "id": "e750aed6",
   "metadata": {},
   "outputs": [
    {
     "data": {
      "text/plain": [
       "OrdinalEncoder()"
      ]
     },
     "execution_count": 80,
     "metadata": {},
     "output_type": "execute_result"
    }
   ],
   "source": [
    "ordencoder.fit(X_train_oe[cat_features])"
   ]
  },
  {
   "cell_type": "code",
   "execution_count": 81,
   "id": "dbef6e8e",
   "metadata": {},
   "outputs": [],
   "source": [
    "X_train_oe[cat_features] = ordencoder.transform(X_train_oe[cat_features])\n",
    "X_val_oe[cat_features] = ordencoder.transform(X_val_oe[cat_features])\n",
    "X_test_oe[cat_features] = ordencoder.transform(X_test_oe[cat_features])"
   ]
  },
  {
   "cell_type": "code",
   "execution_count": 82,
   "id": "91ac0e18",
   "metadata": {
    "id": "91ac0e18"
   },
   "outputs": [],
   "source": [
    "destree = DecisionTreeRegressor(random_state=42)"
   ]
  },
  {
   "cell_type": "code",
   "execution_count": 83,
   "id": "69d50ee3",
   "metadata": {
    "id": "69d50ee3"
   },
   "outputs": [],
   "source": [
    "params = {'max_depth': range(1, 51, 5),\n",
    "          'min_samples_split': range(2, 5),\n",
    "          'min_samples_leaf': (1, 20, 3)}\n",
    "\n",
    "cv = KFold(n_splits=3, shuffle=True, random_state=42)\n",
    "\n",
    "dt_grid = GridSearchCV(destree,\n",
    "                    param_grid=params,\n",
    "                    cv=cv,\n",
    "                    scoring='neg_mean_squared_error',\n",
    "                    n_jobs=-1,\n",
    "                    verbose=False, refit=True)"
   ]
  },
  {
   "cell_type": "code",
   "execution_count": 84,
   "id": "2251d39d",
   "metadata": {
    "colab": {
     "base_uri": "https://localhost:8080/"
    },
    "id": "2251d39d",
    "outputId": "b0ae3418-ff2a-4d4b-8207-532119d078d5",
    "scrolled": true
   },
   "outputs": [
    {
     "name": "stdout",
     "output_type": "stream",
     "text": [
      "CPU times: user 618 ms, sys: 107 ms, total: 725 ms\n",
      "Wall time: 3.01 s\n"
     ]
    },
    {
     "data": {
      "text/plain": [
       "GridSearchCV(cv=KFold(n_splits=3, random_state=42, shuffle=True),\n",
       "             estimator=DecisionTreeRegressor(random_state=42), n_jobs=-1,\n",
       "             param_grid={'max_depth': range(1, 51, 5),\n",
       "                         'min_samples_leaf': (1, 20, 3),\n",
       "                         'min_samples_split': range(2, 5)},\n",
       "             scoring='neg_mean_squared_error', verbose=False)"
      ]
     },
     "execution_count": 84,
     "metadata": {},
     "output_type": "execute_result"
    }
   ],
   "source": [
    "%%time\n",
    "dt_grid.fit(X_val_oe, y_val)"
   ]
  },
  {
   "cell_type": "code",
   "execution_count": 85,
   "id": "ff1f73f9",
   "metadata": {
    "colab": {
     "base_uri": "https://localhost:8080/"
    },
    "id": "ff1f73f9",
    "outputId": "0ac3abd8-8a65-45f0-dd71-941b060b987b",
    "scrolled": true
   },
   "outputs": [
    {
     "name": "stdout",
     "output_type": "stream",
     "text": [
      "Время обучения 0.049677 секунд\n",
      "Время предсказания 0.005054 секунд\n",
      "RMSE 1917.8750434979584\n"
     ]
    }
   ],
   "source": [
    "res = model_eval(dt_grid, X_train_oe, y_train, X_val_oe, y_val, 'cv')"
   ]
  },
  {
   "cell_type": "code",
   "execution_count": 86,
   "id": "79bfe744",
   "metadata": {
    "id": "79bfe744"
   },
   "outputs": [],
   "source": [
    "results.append(res)"
   ]
  },
  {
   "cell_type": "markdown",
   "id": "8eea1da0",
   "metadata": {
    "id": "8eea1da0"
   },
   "source": [
    "### Random Forest"
   ]
  },
  {
   "cell_type": "code",
   "execution_count": 87,
   "id": "a63f4dd4",
   "metadata": {
    "id": "a63f4dd4"
   },
   "outputs": [],
   "source": [
    "randfor = RandomForestRegressor(random_state=42, max_depth=26, min_samples_split=2, min_samples_leaf=20)"
   ]
  },
  {
   "cell_type": "code",
   "execution_count": 88,
   "id": "babe3841",
   "metadata": {
    "id": "babe3841"
   },
   "outputs": [],
   "source": [
    "params = {'n_estimators': [100, 200, 300]}\n",
    "\n",
    "cv = KFold(n_splits=3, shuffle=True, random_state=42)\n",
    "\n",
    "grid = GridSearchCV(randfor,\n",
    "                    param_grid=params,\n",
    "                    cv=cv,\n",
    "                    scoring='neg_mean_squared_error',\n",
    "                    n_jobs=-1,\n",
    "                    verbose=False, refit=True)"
   ]
  },
  {
   "cell_type": "code",
   "execution_count": 89,
   "id": "d1829da2",
   "metadata": {
    "colab": {
     "base_uri": "https://localhost:8080/"
    },
    "id": "d1829da2",
    "outputId": "2e8dabd6-177c-477f-ec64-025613c519d5"
   },
   "outputs": [
    {
     "name": "stdout",
     "output_type": "stream",
     "text": [
      "CPU times: user 9.16 s, sys: 1.84 ms, total: 9.16 s\n",
      "Wall time: 20.2 s\n"
     ]
    },
    {
     "data": {
      "text/plain": [
       "GridSearchCV(cv=KFold(n_splits=3, random_state=42, shuffle=True),\n",
       "             estimator=RandomForestRegressor(max_depth=26, min_samples_leaf=20,\n",
       "                                             random_state=42),\n",
       "             n_jobs=-1, param_grid={'n_estimators': [100, 200, 300]},\n",
       "             scoring='neg_mean_squared_error', verbose=False)"
      ]
     },
     "execution_count": 89,
     "metadata": {},
     "output_type": "execute_result"
    }
   ],
   "source": [
    "%%time\n",
    "grid.fit(X_val_oe, y_val)"
   ]
  },
  {
   "cell_type": "code",
   "execution_count": 90,
   "id": "616f083d",
   "metadata": {
    "colab": {
     "base_uri": "https://localhost:8080/"
    },
    "id": "616f083d",
    "outputId": "76e975bd-dc73-4f99-ccb7-c67459393ea7",
    "scrolled": true
   },
   "outputs": [
    {
     "name": "stdout",
     "output_type": "stream",
     "text": [
      "Время обучения 9.134307 секунд\n",
      "Время предсказания 0.753534 секунд\n",
      "RMSE 1881.9113099516014\n"
     ]
    }
   ],
   "source": [
    "res = model_eval(grid, X_train_oe, y_train, X_val_oe, y_val, 'cv')"
   ]
  },
  {
   "cell_type": "code",
   "execution_count": 91,
   "id": "238c24d1",
   "metadata": {
    "id": "238c24d1"
   },
   "outputs": [],
   "source": [
    "results.append(res)"
   ]
  },
  {
   "cell_type": "markdown",
   "id": "vXQCjHldNnld",
   "metadata": {
    "id": "vXQCjHldNnld"
   },
   "source": [
    "### CatBoost"
   ]
  },
  {
   "cell_type": "code",
   "execution_count": 92,
   "id": "N1GZX7G7NqNA",
   "metadata": {
    "id": "N1GZX7G7NqNA"
   },
   "outputs": [],
   "source": [
    "cat = CatBoostRegressor(verbose=100, cat_features=cat_features, random_state=42)"
   ]
  },
  {
   "cell_type": "code",
   "execution_count": 93,
   "id": "e96bde8e",
   "metadata": {
    "colab": {
     "base_uri": "https://localhost:8080/"
    },
    "id": "e96bde8e",
    "outputId": "73936e94-8d0b-4cc6-b791-c1ad76d234bd"
   },
   "outputs": [
    {
     "name": "stdout",
     "output_type": "stream",
     "text": [
      "Learning rate set to 0.096314\n",
      "0:\tlearn: 4311.9102571\ttotal: 158ms\tremaining: 2m 37s\n",
      "100:\tlearn: 1852.6572282\ttotal: 7.62s\tremaining: 1m 7s\n",
      "200:\tlearn: 1770.5486341\ttotal: 15.2s\tremaining: 1m\n",
      "300:\tlearn: 1729.0472110\ttotal: 22.9s\tremaining: 53.2s\n",
      "400:\tlearn: 1707.7635853\ttotal: 30.4s\tremaining: 45.4s\n",
      "500:\tlearn: 1689.2960471\ttotal: 38s\tremaining: 37.9s\n",
      "600:\tlearn: 1673.3909337\ttotal: 46.1s\tremaining: 30.6s\n",
      "700:\tlearn: 1661.0505215\ttotal: 54s\tremaining: 23s\n",
      "800:\tlearn: 1651.6678406\ttotal: 1m 1s\tremaining: 15.4s\n",
      "900:\tlearn: 1643.2830099\ttotal: 1m 9s\tremaining: 7.66s\n",
      "999:\tlearn: 1634.3206002\ttotal: 1m 17s\tremaining: 0us\n",
      "Время обучения 78.610898 секунд\n",
      "Время предсказания 0.080654 секунд\n",
      "RMSE 1688.1682491847394\n"
     ]
    }
   ],
   "source": [
    "res = model_eval(cat, X_train, y_train, X_val, y_val)"
   ]
  },
  {
   "cell_type": "code",
   "execution_count": 94,
   "id": "e0a10f23",
   "metadata": {
    "id": "e0a10f23"
   },
   "outputs": [],
   "source": [
    "results.append(res)"
   ]
  },
  {
   "cell_type": "markdown",
   "id": "d90ea87d",
   "metadata": {
    "id": "d90ea87d"
   },
   "source": [
    "### LightGBM"
   ]
  },
  {
   "cell_type": "code",
   "execution_count": 95,
   "id": "abbb7c96",
   "metadata": {
    "id": "abbb7c96"
   },
   "outputs": [],
   "source": [
    "lgbregr = lgb.LGBMRegressor()"
   ]
  },
  {
   "cell_type": "code",
   "execution_count": 96,
   "id": "08af1128",
   "metadata": {
    "colab": {
     "base_uri": "https://localhost:8080/"
    },
    "id": "08af1128",
    "outputId": "bf612376-c743-4ed1-b9f8-f5b4a330f12c",
    "scrolled": true
   },
   "outputs": [
    {
     "data": {
      "text/plain": [
       "GridSearchCV(estimator=LGBMRegressor(), n_jobs=-1,\n",
       "             param_grid={'boosting_type': ['dart', 'gbdt', 'goss'],\n",
       "                         'max_depth': [15, 30], 'num_leaves': [10, 100, 200]},\n",
       "             scoring='neg_mean_squared_error')"
      ]
     },
     "execution_count": 96,
     "metadata": {},
     "output_type": "execute_result"
    }
   ],
   "source": [
    "lgb_params = {\n",
    "    'boosting_type' : ['dart', 'gbdt', 'goss'],\n",
    "    'max_depth': [15, 30],\n",
    "    'num_leaves': [10, 100, 200]\n",
    "}\n",
    "lgb_gs = GridSearchCV(lgbregr, lgb_params, scoring='neg_mean_squared_error', n_jobs=-1, refit=True)\n",
    "lgb_gs.fit(X_train_oe, y_train)"
   ]
  },
  {
   "cell_type": "code",
   "execution_count": 97,
   "id": "cfb33d53",
   "metadata": {
    "id": "cfb33d53"
   },
   "outputs": [
    {
     "data": {
      "text/plain": [
       "LGBMRegressor(boosting_type='goss', max_depth=30, num_leaves=200)"
      ]
     },
     "execution_count": 97,
     "metadata": {},
     "output_type": "execute_result"
    }
   ],
   "source": [
    "lgb_gs.best_estimator_"
   ]
  },
  {
   "cell_type": "code",
   "execution_count": 98,
   "id": "9353cd02",
   "metadata": {
    "colab": {
     "base_uri": "https://localhost:8080/"
    },
    "id": "9353cd02",
    "outputId": "0e338515-acef-401d-c7e3-5373f7c43387",
    "scrolled": true
   },
   "outputs": [
    {
     "name": "stdout",
     "output_type": "stream",
     "text": [
      "Время обучения 1.547521 секунд\n",
      "Время предсказания 0.111741 секунд\n",
      "RMSE 1655.9354311911457\n"
     ]
    }
   ],
   "source": [
    "res = model_eval(lgb_gs, X_train_oe, y_train, X_val_oe, y_val,'cv')"
   ]
  },
  {
   "cell_type": "code",
   "execution_count": 99,
   "id": "485c230e",
   "metadata": {
    "id": "485c230e"
   },
   "outputs": [],
   "source": [
    "results.append(res)"
   ]
  },
  {
   "cell_type": "markdown",
   "id": "luQHEfS02Fyc",
   "metadata": {
    "id": "luQHEfS02Fyc"
   },
   "source": [
    "### Нейросеть"
   ]
  },
  {
   "cell_type": "markdown",
   "id": "b404969d",
   "metadata": {},
   "source": [
    "Для нейросети данные надо преобразовать в тензоры из которых создать датасеты и загрузить их в даталоадеры для загрузки данных батчами."
   ]
  },
  {
   "cell_type": "code",
   "execution_count": 100,
   "id": "Zno8szKH5cGm",
   "metadata": {
    "colab": {
     "base_uri": "https://localhost:8080/",
     "height": 197
    },
    "id": "Zno8szKH5cGm",
    "outputId": "de6396b8-d765-47ea-ce00-e14602c19439"
   },
   "outputs": [],
   "source": [
    "X_train_t = torch.FloatTensor(X_train_ohe.values)\n",
    "y_train_t = torch.FloatTensor(y_train.values)"
   ]
  },
  {
   "cell_type": "code",
   "execution_count": 101,
   "id": "EvMQXfaX5wBe",
   "metadata": {
    "colab": {
     "base_uri": "https://localhost:8080/",
     "height": 180
    },
    "id": "EvMQXfaX5wBe",
    "outputId": "cdc41921-43db-48a0-9fef-8a8e376a6e1a",
    "scrolled": true
   },
   "outputs": [],
   "source": [
    "X_val_t =  torch.FloatTensor(X_val_ohe.values)\n",
    "y_val_t =  torch.FloatTensor(y_val.values)"
   ]
  },
  {
   "cell_type": "code",
   "execution_count": 102,
   "id": "gokbt6rw3QeP",
   "metadata": {
    "id": "gokbt6rw3QeP"
   },
   "outputs": [],
   "source": [
    "train_dataset = TensorDataset(X_train_t, y_train_t)\n",
    "val_dataset = TensorDataset(X_val_t, y_val_t)\n",
    "train_dataloader = DataLoader(train_dataset, batch_size=256)\n",
    "val_dataloader = DataLoader(val_dataset, batch_size=256)"
   ]
  },
  {
   "cell_type": "code",
   "execution_count": 103,
   "id": "79ed28e6",
   "metadata": {
    "id": "79ed28e6"
   },
   "outputs": [],
   "source": [
    "activation = nn.ReLU\n",
    "\n",
    "model = nn.Sequential(\n",
    "    nn.Linear(311, 128),\n",
    "    activation(),\n",
    "    nn.Linear(128, 128),\n",
    "    activation(),\n",
    "    nn.Linear(128, 128),\n",
    "    activation(),\n",
    "    nn.Linear(128, 1)\n",
    ")"
   ]
  },
  {
   "cell_type": "code",
   "execution_count": 104,
   "id": "8QhP_VVG2DFJ",
   "metadata": {
    "id": "8QhP_VVG2DFJ"
   },
   "outputs": [],
   "source": [
    "loss_function = nn.MSELoss()\n",
    "\n",
    "optimizer = torch.optim.Adam(model.parameters())"
   ]
  },
  {
   "cell_type": "code",
   "execution_count": 105,
   "id": "kmGJjeup5UJK",
   "metadata": {
    "id": "kmGJjeup5UJK",
    "scrolled": true
   },
   "outputs": [
    {
     "name": "stdout",
     "output_type": "stream",
     "text": [
      "Starting epoch 1\n",
      "Starting epoch 2\n",
      "Starting epoch 3\n",
      "Starting epoch 4\n",
      "Starting epoch 5\n",
      "Starting epoch 6\n",
      "Starting epoch 7\n",
      "Starting epoch 8\n",
      "Starting epoch 9\n",
      "Starting epoch 10\n",
      "Training process has finished.\n"
     ]
    }
   ],
   "source": [
    "start = time.time() \n",
    "# Run the training loop\n",
    "for epoch in range(0, 10): # 10 epochs at maximum\n",
    "    \n",
    "    # Print epoch\n",
    "    print(f'Starting epoch {epoch+1}')\n",
    "    \n",
    "    # Iterate over the DataLoader for training data\n",
    "    for i, data in enumerate(train_dataloader, 0):\n",
    "\n",
    "        # Get and prepare inputs\n",
    "        inputs, targets = data\n",
    "        inputs, targets = inputs.float(), targets.float()\n",
    "        targets = targets.reshape((targets.shape[0], 1))\n",
    "\n",
    "        model.train()\n",
    "      \n",
    "        # Zero the gradients\n",
    "        optimizer.zero_grad()\n",
    "      \n",
    "        # Perform forward pass\n",
    "        outputs = model(inputs)\n",
    "    \n",
    "        # Compute loss\n",
    "        loss = loss_function(outputs, targets)\n",
    "\n",
    "        # Perform backward pass\n",
    "        loss.backward()\n",
    "      \n",
    "        # Perform optimization\n",
    "        optimizer.step()\n",
    "\n",
    "training_time = time.time() - start        \n",
    "        \n",
    "# Process is complete.\n",
    "print('Training process has finished.')"
   ]
  },
  {
   "cell_type": "code",
   "execution_count": 106,
   "id": "da694a35",
   "metadata": {
    "id": "UYrwEU79HQXq"
   },
   "outputs": [],
   "source": [
    "start = time.time()  \n",
    "model.eval()\n",
    "with torch.no_grad():\n",
    "    pred = model(X_val_t)\n",
    "predict_time = time.time() - start    \n",
    "mse = (mean_squared_error(y_val, pred))**0.5"
   ]
  },
  {
   "cell_type": "code",
   "execution_count": 107,
   "id": "moe4GXwSHcqz",
   "metadata": {
    "id": "moe4GXwSHcqz"
   },
   "outputs": [],
   "source": [
    "res = (training_time, predict_time, mse)"
   ]
  },
  {
   "cell_type": "code",
   "execution_count": 108,
   "id": "913cd5ac",
   "metadata": {
    "id": "913cd5ac"
   },
   "outputs": [],
   "source": [
    "results.append(res)"
   ]
  },
  {
   "cell_type": "markdown",
   "id": "c37bb80c",
   "metadata": {
    "id": "c37bb80c"
   },
   "source": [
    "## Оценка результатов"
   ]
  },
  {
   "cell_type": "code",
   "execution_count": 109,
   "id": "b0e6a9c1",
   "metadata": {
    "id": "b0e6a9c1"
   },
   "outputs": [],
   "source": [
    "def show_res(column, title):\n",
    "    plt.figure(figsize=(12,6))\n",
    "    plot = sns.barplot(x=result_table.index, y=result_table[column])\n",
    "    plt.title(title)\n",
    "    plt.show()"
   ]
  },
  {
   "cell_type": "markdown",
   "id": "c75e092c",
   "metadata": {
    "id": "c75e092c"
   },
   "source": [
    "Выведем полученные результаты в виде таблицы и графиков и сравним."
   ]
  },
  {
   "cell_type": "code",
   "execution_count": 110,
   "id": "55374e00",
   "metadata": {
    "colab": {
     "base_uri": "https://localhost:8080/",
     "height": 235
    },
    "id": "55374e00",
    "outputId": "9210cfe7-cee4-4f46-c063-d9ce3a310ed2",
    "scrolled": false
   },
   "outputs": [
    {
     "data": {
      "text/html": [
       "<div>\n",
       "<style scoped>\n",
       "    .dataframe tbody tr th:only-of-type {\n",
       "        vertical-align: middle;\n",
       "    }\n",
       "\n",
       "    .dataframe tbody tr th {\n",
       "        vertical-align: top;\n",
       "    }\n",
       "\n",
       "    .dataframe thead th {\n",
       "        text-align: right;\n",
       "    }\n",
       "</style>\n",
       "<table border=\"1\" class=\"dataframe\">\n",
       "  <thead>\n",
       "    <tr style=\"text-align: right;\">\n",
       "      <th></th>\n",
       "      <th>trainig_time</th>\n",
       "      <th>prediction_time</th>\n",
       "      <th>score</th>\n",
       "    </tr>\n",
       "  </thead>\n",
       "  <tbody>\n",
       "    <tr>\n",
       "      <th>LinearRegression</th>\n",
       "      <td>4.361902</td>\n",
       "      <td>0.041578</td>\n",
       "      <td>2783.498671</td>\n",
       "    </tr>\n",
       "    <tr>\n",
       "      <th>ElasticNet</th>\n",
       "      <td>2.004927</td>\n",
       "      <td>0.012634</td>\n",
       "      <td>2768.446532</td>\n",
       "    </tr>\n",
       "    <tr>\n",
       "      <th>DecisionTree</th>\n",
       "      <td>0.049677</td>\n",
       "      <td>0.005054</td>\n",
       "      <td>1917.875043</td>\n",
       "    </tr>\n",
       "    <tr>\n",
       "      <th>RandomForest</th>\n",
       "      <td>9.134307</td>\n",
       "      <td>0.753534</td>\n",
       "      <td>1881.911310</td>\n",
       "    </tr>\n",
       "    <tr>\n",
       "      <th>CatBoost</th>\n",
       "      <td>78.610898</td>\n",
       "      <td>0.080654</td>\n",
       "      <td>1688.168249</td>\n",
       "    </tr>\n",
       "    <tr>\n",
       "      <th>LightGBM</th>\n",
       "      <td>1.547521</td>\n",
       "      <td>0.111741</td>\n",
       "      <td>1655.935431</td>\n",
       "    </tr>\n",
       "    <tr>\n",
       "      <th>FCNN</th>\n",
       "      <td>32.753158</td>\n",
       "      <td>0.045762</td>\n",
       "      <td>1850.827923</td>\n",
       "    </tr>\n",
       "  </tbody>\n",
       "</table>\n",
       "</div>"
      ],
      "text/plain": [
       "                  trainig_time  prediction_time        score\n",
       "LinearRegression      4.361902         0.041578  2783.498671\n",
       "ElasticNet            2.004927         0.012634  2768.446532\n",
       "DecisionTree          0.049677         0.005054  1917.875043\n",
       "RandomForest          9.134307         0.753534  1881.911310\n",
       "CatBoost             78.610898         0.080654  1688.168249\n",
       "LightGBM              1.547521         0.111741  1655.935431\n",
       "FCNN                 32.753158         0.045762  1850.827923"
      ]
     },
     "execution_count": 110,
     "metadata": {},
     "output_type": "execute_result"
    }
   ],
   "source": [
    "result_table = pd.DataFrame(data=results,\n",
    "                            index=['LinearRegression', 'ElasticNet', 'DecisionTree',\n",
    "                                   'RandomForest', 'CatBoost', 'LightGBM', 'FCNN'],\n",
    "                            columns=['trainig_time', 'prediction_time', 'score'])\n",
    "result_table"
   ]
  },
  {
   "cell_type": "code",
   "execution_count": 111,
   "id": "6b39f2f1",
   "metadata": {
    "colab": {
     "base_uri": "https://localhost:8080/",
     "height": 390
    },
    "id": "6b39f2f1",
    "outputId": "6b502d84-f920-4a07-aac4-f580dd84ac93",
    "scrolled": false
   },
   "outputs": [
    {
     "data": {
      "image/png": "[encoded data removed]",
      "text/plain": [
       "<Figure size 864x432 with 1 Axes>"
      ]
     },
     "metadata": {
      "needs_background": "light"
     },
     "output_type": "display_data"
    }
   ],
   "source": [
    "show_res('score', 'RMSE моделей')"
   ]
  },
  {
   "cell_type": "code",
   "execution_count": 112,
   "id": "5bbdcdef",
   "metadata": {
    "colab": {
     "base_uri": "https://localhost:8080/",
     "height": 390
    },
    "id": "5bbdcdef",
    "outputId": "0e603b2e-6792-41a1-e7a8-be4112008aee"
   },
   "outputs": [
    {
     "data": {
      "image/png": "[encoded data removed]",
      "text/plain": [
       "<Figure size 864x432 with 1 Axes>"
      ]
     },
     "metadata": {
      "needs_background": "light"
     },
     "output_type": "display_data"
    }
   ],
   "source": [
    "show_res('trainig_time', 'Время обучения')"
   ]
  },
  {
   "cell_type": "code",
   "execution_count": 113,
   "id": "a2f605ab",
   "metadata": {
    "colab": {
     "base_uri": "https://localhost:8080/",
     "height": 390
    },
    "id": "a2f605ab",
    "outputId": "a3e398ea-d964-4205-b88a-72784a223492"
   },
   "outputs": [
    {
     "data": {
      "image/png": "[encoded data removed]",
      "text/plain": [
       "<Figure size 864x432 with 1 Axes>"
      ]
     },
     "metadata": {
      "needs_background": "light"
     },
     "output_type": "display_data"
    }
   ],
   "source": [
    "show_res('prediction_time', 'Время предсказания')"
   ]
  },
  {
   "cell_type": "markdown",
   "id": "5303b7fb",
   "metadata": {
    "id": "5303b7fb"
   },
   "source": [
    "Выбирая лучшую модель, отталкиваемся от задачи. Заказчику важны:\n",
    "* качество предсказания;\n",
    "* скорость предсказания;\n",
    "* время обучения."
   ]
  },
  {
   "cell_type": "markdown",
   "id": "93efe77f",
   "metadata": {
    "id": "93efe77f"
   },
   "source": [
    "Мы видим, что первые две модели Linear Regression и Elastic Net дают значительно худшее качество, чем другие модели. Модель Random Forest дает достаточно хорошее качество, но обучается очень медленно, так как заказчику важно время предсказания, эту модель мы отбрасываем. Из оставшихся моделей можно выбирать. Лучшее качество и скорость обучения у модели LightGBM Regressor и именно ее мы бы рекомендовали в качестве главного варианта."
   ]
  },
  {
   "cell_type": "markdown",
   "id": "826a0d36",
   "metadata": {},
   "source": [
    "## Финальное тестирование"
   ]
  },
  {
   "cell_type": "markdown",
   "id": "74d21b62",
   "metadata": {},
   "source": [
    "Переобучим выбранную модель на объединенных обучающей и валидирующей выборках и протестируем на тестовой выборке."
   ]
  },
  {
   "cell_type": "code",
   "execution_count": 114,
   "id": "99201778",
   "metadata": {
    "scrolled": true
   },
   "outputs": [],
   "source": [
    "X = pd.concat([X_train_oe, X_val_oe])\n",
    "y = pd.concat([y_train, y_val])"
   ]
  },
  {
   "cell_type": "code",
   "execution_count": 115,
   "id": "59df7c00",
   "metadata": {},
   "outputs": [
    {
     "data": {
      "text/plain": [
       "LGBMRegressor(boosting_type='goss', max_depth=30, num_leaves=200)"
      ]
     },
     "execution_count": 115,
     "metadata": {},
     "output_type": "execute_result"
    }
   ],
   "source": [
    "lgb_gs.best_estimator_.fit(X, y)"
   ]
  },
  {
   "cell_type": "code",
   "execution_count": 116,
   "id": "dc70790f",
   "metadata": {
    "id": "dc70790f"
   },
   "outputs": [],
   "source": [
    "pred = lgb_gs.best_estimator_.predict(X_test_oe)\n",
    "mse = (mean_squared_error(y_test, pred))**0.5"
   ]
  },
  {
   "cell_type": "code",
   "execution_count": 117,
   "id": "4de36645",
   "metadata": {
    "id": "4de36645"
   },
   "outputs": [
    {
     "name": "stdout",
     "output_type": "stream",
     "text": [
      "Финальное качество модели 1660.5947840088386\n"
     ]
    }
   ],
   "source": [
    "print('Финальное качество модели', mse)"
   ]
  }
 ],
 "metadata": {
  "ExecuteTimeLog": [
   {
    "duration": 305,
    "start_time": "2022-04-20T06:21:22.553Z"
   }
  ],
  "colab": {
   "collapsed_sections": [],
   "name": "Автомобили_2.ipynb",
   "provenance": [],
   "toc_visible": true
  },
  "kernelspec": {
   "display_name": "Python 3 (ipykernel)",
   "language": "python",
   "name": "python3"
  },
  "language_info": {
   "codemirror_mode": {
    "name": "ipython",
    "version": 3
   },
   "file_extension": ".py",
   "mimetype": "text/x-python",
   "name": "python",
   "nbconvert_exporter": "python",
   "pygments_lexer": "ipython3",
   "version": "3.9.7"
  },
  "toc": {
   "base_numbering": 1,
   "nav_menu": {},
   "number_sections": true,
   "sideBar": true,
   "skip_h1_title": false,
   "title_cell": "Table of Contents",
   "title_sidebar": "Contents",
   "toc_cell": false,
   "toc_position": {
    "height": "calc(100% - 180px)",
    "left": "10px",
    "top": "150px",
    "width": "374.188px"
   },
   "toc_section_display": true,
   "toc_window_display": true
  }
 },
 "nbformat": 4,
 "nbformat_minor": 5
}
